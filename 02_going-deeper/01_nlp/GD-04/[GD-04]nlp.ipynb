{
  "cells": [
    {
      "cell_type": "markdown",
      "metadata": {
        "id": "view-in-github",
        "colab_type": "text"
      },
      "source": [
        "<a href=\"https://colab.research.google.com/github/9645258/aiffel/blob/main/02_going-deeper/01_nlp/GD-04/%5BGD-04%5Dnlp.ipynb\" target=\"_parent\"><img src=\"https://colab.research.google.com/assets/colab-badge.svg\" alt=\"Open In Colab\"/></a>"
      ]
    },
    {
      "cell_type": "markdown",
      "id": "256fb5ad",
      "metadata": {
        "id": "256fb5ad"
      },
      "source": [
        "# **GD NLP 04 : 뉴스 카테고리 다중분류**"
      ]
    },
    {
      "cell_type": "markdown",
      "id": "4a08c7f8",
      "metadata": {
        "id": "4a08c7f8"
      },
      "source": [
        "- **Vocabulary Size를 변경해서 시도해보기**  \n",
        "\n",
        "\n",
        "- **분류 모델의 accuracy가 기준 이상 높게 나왔는가?**    \n",
        "    3가지 단어 개수에 대해 8가지 머신러닝 기법을 적용하여 그중 최적의 솔루션을 도출하였다.  \n",
        "    \n",
        "\n",
        "- **분류 모델의 F1 score가 기준 이상 높게 나왔는가?**    \n",
        "Vocabulary size에 따른 각 머신러닝 모델의 성능변화 추이를 살피고, 해당 머신러닝 알고리즘의 특성에 근거해 원인을 분석하였다.  \n",
        "    \n",
        "    \n",
        "- **딥러닝 모델을 활용해 성능이 비교 및 확인되었는가?**    \n",
        "동일한 데이터셋과 전처리 조건으로 딥러닝 모델의 성능과 비교하여 결과에 따른 원인을 분석하였다.  "
      ]
    },
    {
      "cell_type": "markdown",
      "id": "9dc3925e",
      "metadata": {
        "id": "9dc3925e"
      },
      "source": [
        "---"
      ]
    },
    {
      "cell_type": "markdown",
      "id": "b34dfaed",
      "metadata": {
        "id": "b34dfaed"
      },
      "source": [
        "## **1. 데이터 준비**"
      ]
    },
    {
      "cell_type": "markdown",
      "id": "1d7493c0",
      "metadata": {
        "id": "1d7493c0"
      },
      "source": [
        "### **1-1. 라이브러리 Import**"
      ]
    },
    {
      "cell_type": "code",
      "execution_count": 1,
      "id": "9adbb78b",
      "metadata": {
        "id": "9adbb78b"
      },
      "outputs": [],
      "source": [
        "import warnings\n",
        "warnings.filterwarnings(action = 'ignore')\n",
        "\n",
        "import matplotlib.pyplot as plt\n",
        "%matplotlib inline\n",
        "\n",
        "import numpy as np\n",
        "import pandas as pd\n",
        "import seaborn as sns\n",
        "from pandas_profiling import ProfileReport\n",
        "\n",
        "import tensorflow as tf\n",
        "from tensorflow import keras\n",
        "from keras import backend as K\n",
        "from keras.callbacks import EarlyStopping\n",
        "from tensorflow.keras.datasets import reuters\n",
        "from tensorflow.keras.utils import to_categorical\n",
        "from tensorflow.keras.preprocessing.sequence import pad_sequences\n",
        "\n",
        "from sklearn.model_selection import train_test_split\n",
        "from sklearn.feature_extraction.text import CountVectorizer\n",
        "from sklearn.feature_extraction.text import TfidfTransformer\n",
        "from sklearn.naive_bayes import MultinomialNB\n",
        "from sklearn.linear_model import LogisticRegression, SGDClassifier\n",
        "from sklearn.naive_bayes import ComplementNB\n",
        "from sklearn.tree import DecisionTreeClassifier\n",
        "from sklearn.ensemble import RandomForestClassifier\n",
        "from sklearn.ensemble import GradientBoostingClassifier\n",
        "from sklearn.ensemble import VotingClassifier\n",
        "from sklearn.svm import LinearSVC\n",
        "from sklearn.metrics import f1_score\n",
        "from sklearn.metrics import accuracy_score\n",
        "from sklearn.metrics import classification_report\n",
        "from sklearn.metrics import confusion_matrix"
      ]
    },
    {
      "cell_type": "markdown",
      "id": "38288ef0",
      "metadata": {
        "id": "38288ef0"
      },
      "source": [
        "### **1-2. 데이터 Import**"
      ]
    },
    {
      "cell_type": "markdown",
      "id": "d4d5e427",
      "metadata": {
        "id": "d4d5e427"
      },
      "source": [
        "- **다양한 비교를 위해 5개의 num_word로 분류 (전체 / 10,000 / 5,000 / 3,000 / 1,000)**  \n",
        "전체의 80%를 훈련 데이터, 20%를 테스트 데이터로 사용  "
      ]
    },
    {
      "cell_type": "code",
      "execution_count": 2,
      "id": "0acbe4f2",
      "metadata": {
        "colab": {
          "base_uri": "https://localhost:8080/"
        },
        "id": "0acbe4f2",
        "outputId": "7897092c-5293-43f2-ea9c-70368882a33f"
      },
      "outputs": [
        {
          "output_type": "stream",
          "name": "stdout",
          "text": [
            "Downloading data from https://storage.googleapis.com/tensorflow/tf-keras-datasets/reuters.npz\n",
            "2113536/2110848 [==============================] - 0s 0us/step\n",
            "2121728/2110848 [==============================] - 0s 0us/step\n"
          ]
        }
      ],
      "source": [
        "(x_train, y_train), (x_test, y_test) = reuters.load_data(num_words = None, test_split = 0.2)\n",
        "(x_train_1M, y_train_1M), (x_test_1M, y_test_1M) = reuters.load_data(num_words = 10000, test_split = 0.2)\n",
        "(x_train_5T, y_train_5T), (x_test_5T, y_test_5T) = reuters.load_data(num_words = 5000, test_split = 0.2)\n",
        "(x_train_3T, y_train_3T), (x_test_3T, y_test_3T) = reuters.load_data(num_words = 3000, test_split = 0.2)\n",
        "(x_train_1T, y_train_1T), (x_test_1T, y_test_1T) = reuters.load_data(num_words = 1000, test_split = 0.2)"
      ]
    },
    {
      "cell_type": "markdown",
      "id": "08256c9d",
      "metadata": {
        "id": "08256c9d"
      },
      "source": [
        "### **1-3. 클래스 확인**"
      ]
    },
    {
      "cell_type": "markdown",
      "id": "56c549b7",
      "metadata": {
        "id": "56c549b7"
      },
      "source": [
        "- **레이블 수 확인**    \n",
        "정수 형태의 레이블"
      ]
    },
    {
      "cell_type": "code",
      "execution_count": null,
      "id": "fdba9147",
      "metadata": {
        "id": "fdba9147",
        "outputId": "ae0bf629-fab8-4a6f-909b-a66bbc8f12b1"
      },
      "outputs": [
        {
          "name": "stdout",
          "output_type": "stream",
          "text": [
            "3\n",
            "3\n"
          ]
        }
      ],
      "source": [
        "print(y_train[0])\n",
        "print(y_test[0])"
      ]
    },
    {
      "cell_type": "markdown",
      "id": "f644e765",
      "metadata": {
        "id": "f644e765"
      },
      "source": [
        "- **전체 클래스 수 확인**"
      ]
    },
    {
      "cell_type": "code",
      "execution_count": null,
      "id": "f5983c0e",
      "metadata": {
        "id": "f5983c0e",
        "outputId": "ae999e28-3702-4c04-a3a6-699c3314bc63"
      },
      "outputs": [
        {
          "name": "stdout",
          "output_type": "stream",
          "text": [
            "전체 클래스 수: 46\n"
          ]
        }
      ],
      "source": [
        "num_classes = max(y_train) + 1\n",
        "print('전체 클래스 수: {}'.format(num_classes))"
      ]
    },
    {
      "cell_type": "markdown",
      "id": "ebb3450e",
      "metadata": {
        "id": "ebb3450e"
      },
      "source": [
        "- **클래스 분포 확인**     \n",
        "3,4의 분포가 월등히 많고, 1, 11, 16, 19번의 분포가 약 400개 이상의 분포를 보임"
      ]
    },
    {
      "cell_type": "code",
      "execution_count": null,
      "id": "4056a9f5",
      "metadata": {
        "id": "4056a9f5",
        "outputId": "cc3b9c1a-c833-4778-f5ba-7648ca55af6d"
      },
      "outputs": [
        {
          "name": "stdout",
          "output_type": "stream",
          "text": [
            "(0)55, (1)432, (2)74, (3)3159, (4)1949, (5)17, (6)48, (7)16, (8)139, (9)101, (10)124, (11)390, (12)49, (13)172, (14)26, (15)20, (16)444, (17)39, (18)66, (19)549, (20)269, (21)100, (22)15, (23)41, (24)62, (25)92, (26)24, (27)15, (28)48, (29)19, (30)45, (31)39, (32)32, (33)11, (34)50, (35)10, (36)49, (37)19, (38)19, (39)24, (40)36, (41)30, (42)13, (43)21, (44)12, (45)18, "
          ]
        }
      ],
      "source": [
        "unique_elements, counts_elements = np.unique(y_train, return_counts = True)\n",
        "\n",
        "for index, value in enumerate(counts_elements):\n",
        "    print(f'({index}){value}', end = ', ')"
      ]
    },
    {
      "cell_type": "code",
      "execution_count": null,
      "id": "2ea0a849",
      "metadata": {
        "scrolled": true,
        "id": "2ea0a849",
        "outputId": "3bb5c39d-fdb5-4d63-f3ca-e819d3f91de5"
      },
      "outputs": [
        {
          "data": {
            "image/png": "[encoded data removed]",
            "text/plain": [
              "<Figure size 1080x360 with 1 Axes>"
            ]
          },
          "metadata": {
            "needs_background": "light"
          },
          "output_type": "display_data"
        }
      ],
      "source": [
        "fig, axe = plt.subplots(ncols = 1)\n",
        "fig.set_size_inches(15,5)\n",
        "sns.countplot(x = y_train)\n",
        "plt.show()"
      ]
    },
    {
      "cell_type": "markdown",
      "id": "c454e581",
      "metadata": {
        "id": "c454e581"
      },
      "source": [
        "### **1-4. 데이터 확인**"
      ]
    },
    {
      "cell_type": "markdown",
      "id": "cd5d90c3",
      "metadata": {
        "id": "cd5d90c3"
      },
      "source": [
        "- **데이터 수 확인**  "
      ]
    },
    {
      "cell_type": "code",
      "execution_count": null,
      "id": "68e4d479",
      "metadata": {
        "id": "68e4d479",
        "outputId": "0c0bbda1-44c8-4732-c615-b558c910007a"
      },
      "outputs": [
        {
          "name": "stdout",
          "output_type": "stream",
          "text": [
            "전체 데이터 수: 11228\n",
            "train 데이터 수: 8982\n",
            "test 데이터 수: 2246\n"
          ]
        }
      ],
      "source": [
        "print('전체 데이터 수: {}'.format(len(x_train) + len(x_test)))\n",
        "print('train 데이터 수: {}'.format(len(x_train)))\n",
        "print('test 데이터 수: {}'.format(len(x_test)))"
      ]
    },
    {
      "cell_type": "markdown",
      "id": "4f97c8bc",
      "metadata": {
        "id": "4f97c8bc"
      },
      "source": [
        "- **데이터 길이 분포 확인**  "
      ]
    },
    {
      "cell_type": "code",
      "execution_count": null,
      "id": "5be04e43",
      "metadata": {
        "scrolled": true,
        "id": "5be04e43",
        "outputId": "ebfd3449-08ce-4e8c-a4fe-c62f742ae700"
      },
      "outputs": [
        {
          "name": "stdout",
          "output_type": "stream",
          "text": [
            "train 데이터 최소 길이:13\n",
            "train 데이터 최대 길이:2376\n",
            "train 데이터 평균 길이:145.5398574927633\n"
          ]
        },
        {
          "data": {
            "image/png": "[encoded data removed]",
            "text/plain": [
              "<Figure size 432x288 with 1 Axes>"
            ]
          },
          "metadata": {
            "needs_background": "light"
          },
          "output_type": "display_data"
        }
      ],
      "source": [
        "print('train 데이터 최소 길이:{}'.format(min(len(l) for l in x_train)))\n",
        "print('train 데이터 최대 길이:{}'.format(max(len(l) for l in x_train)))\n",
        "print('train 데이터 평균 길이:{}'.format(sum(map(len, x_train)) / len(x_train)))\n",
        "\n",
        "plt.hist([len(s) for s in x_train], bins = 50)\n",
        "plt.xlabel('length of samples')\n",
        "plt.ylabel('number of samples')\n",
        "plt.show()"
      ]
    },
    {
      "cell_type": "code",
      "execution_count": null,
      "id": "ecad0d70",
      "metadata": {
        "scrolled": false,
        "id": "ecad0d70",
        "outputId": "0d15493a-88a2-492b-a35d-7de152752280"
      },
      "outputs": [
        {
          "name": "stdout",
          "output_type": "stream",
          "text": [
            "test 데이터 최소 길이:2\n",
            "test 데이터 최대 길이:1032\n",
            "test 데이터 평균 길이:147.66117542297417\n"
          ]
        },
        {
          "data": {
            "image/png": "[encoded data removed]",
            "text/plain": [
              "<Figure size 432x288 with 1 Axes>"
            ]
          },
          "metadata": {
            "needs_background": "light"
          },
          "output_type": "display_data"
        }
      ],
      "source": [
        "print('test 데이터 최소 길이:{}'.format(min(len(l) for l in x_test)))\n",
        "print('test 데이터 최대 길이:{}'.format(max(len(l) for l in x_test)))\n",
        "print('test 데이터 평균 길이:{}'.format(sum(map(len, x_test)) / len(x_test)))\n",
        "\n",
        "plt.hist([len(s) for s in x_train], bins = 50)\n",
        "plt.xlabel('length of samples')\n",
        "plt.ylabel('number of samples')\n",
        "plt.show()"
      ]
    },
    {
      "cell_type": "markdown",
      "id": "50a22953",
      "metadata": {
        "id": "50a22953"
      },
      "source": [
        "### **1-5. 데이터 변환**"
      ]
    },
    {
      "cell_type": "markdown",
      "id": "854ffd22",
      "metadata": {
        "id": "854ffd22"
      },
      "source": [
        "- **데이터 형태 확인**  \n",
        "기본적으로 빈도수가 높은 순서대로 낮은 정수가 맵핑된 전처리 데이터 제공"
      ]
    },
    {
      "cell_type": "code",
      "execution_count": null,
      "id": "331f7ac1",
      "metadata": {
        "id": "331f7ac1",
        "outputId": "0650b51d-b053-4f7e-aa5e-fb647a1cbba1"
      },
      "outputs": [
        {
          "name": "stdout",
          "output_type": "stream",
          "text": [
            "[1, 27595, 28842, 8, 43, 10, 447, 5, 25, 207, 270, 5, 3095, 111, 16, 369, 186, 90, 67, 7, 89, 5, 19, 102, 6, 19, 124, 15, 90, 67, 84, 22, 482, 26, 7, 48, 4, 49, 8, 864, 39, 209, 154, 6, 151, 6, 83, 11, 15, 22, 155, 11, 15, 7, 48, 9, 4579, 1005, 504, 6, 258, 6, 272, 11, 15, 22, 134, 44, 11, 15, 16, 8, 197, 1245, 90, 67, 52, 29, 209, 30, 32, 132, 6, 109, 15, 17, 12]\n",
            "[1, 4, 1378, 2025, 9, 697, 4622, 111, 8, 25, 109, 29, 3650, 11, 150, 244, 364, 33, 30, 30, 1398, 333, 6, 18292, 159, 9, 1084, 363, 13, 19231, 71, 9, 16273, 71, 117, 4, 225, 78, 206, 10, 9, 1214, 8, 4, 270, 5, 16273, 7, 748, 48, 9, 19231, 7, 207, 1451, 966, 1864, 793, 97, 133, 336, 7, 4, 493, 98, 273, 104, 284, 25, 39, 338, 22, 905, 220, 3465, 644, 59, 20, 6, 119, 61, 11, 15, 58, 579, 26, 10, 67, 7, 4, 738, 98, 43, 88, 333, 722, 12, 20, 6, 19, 746, 35, 15, 10, 9, 1214, 855, 129, 783, 21, 4, 2280, 244, 364, 51, 16, 299, 452, 16, 515, 4, 99, 29, 5, 4, 364, 281, 48, 10, 9, 1214, 23, 644, 47, 20, 324, 27, 56, 23406, 28185, 5, 192, 510, 17, 12]\n"
          ]
        }
      ],
      "source": [
        "print(x_train[0])\n",
        "print(x_test[0])"
      ]
    },
    {
      "cell_type": "markdown",
      "id": "9d3e6559",
      "metadata": {
        "id": "9d3e6559"
      },
      "source": [
        "- **텍스트 데이터 변환**  \n",
        "정수 시퀀스로 변환된 데이터 텍스트 데이터로 변환"
      ]
    },
    {
      "cell_type": "code",
      "execution_count": null,
      "id": "cba5dd38",
      "metadata": {
        "id": "cba5dd38"
      },
      "outputs": [],
      "source": [
        "word_index = reuters.get_word_index(path = \"reuters_word_index.json\")"
      ]
    },
    {
      "cell_type": "markdown",
      "id": "21b67485",
      "metadata": {
        "id": "21b67485"
      },
      "source": [
        "- **단어 맵핑**  \n",
        "맵핑 단어는 정수 -3을 입력해 놓은 값 / 고유 숫자의 경우 단어 + 3로 변환 필요"
      ]
    },
    {
      "cell_type": "code",
      "execution_count": null,
      "id": "418f1c2f",
      "metadata": {
        "id": "418f1c2f",
        "outputId": "843853df-3518-4027-992c-81e7d640a2bf"
      },
      "outputs": [
        {
          "data": {
            "text/plain": [
              "1"
            ]
          },
          "execution_count": 12,
          "metadata": {},
          "output_type": "execute_result"
        }
      ],
      "source": [
        "word_index['the']"
      ]
    },
    {
      "cell_type": "code",
      "execution_count": null,
      "id": "e4017bf4",
      "metadata": {
        "id": "e4017bf4"
      },
      "outputs": [],
      "source": [
        "index_to_word = { index + 3 : word for word, index in word_index.items() }"
      ]
    },
    {
      "cell_type": "code",
      "execution_count": null,
      "id": "a6cc7cfa",
      "metadata": {
        "scrolled": true,
        "id": "a6cc7cfa",
        "outputId": "9e2cdb01-c7a1-464e-9c10-5220bdaae122"
      },
      "outputs": [
        {
          "name": "stdout",
          "output_type": "stream",
          "text": [
            "the\n"
          ]
        }
      ],
      "source": [
        "print(index_to_word[4])"
      ]
    },
    {
      "cell_type": "markdown",
      "id": "b7fd01a1",
      "metadata": {
        "id": "b7fd01a1"
      },
      "source": [
        "- **토큰 번호 맵핑**  \n",
        "로이터 뉴스 데이터는 0-2번을 자연어 처리를 위한 토큰을 위해 번호 맵핑 필요  \n",
        "0: `<pad>`, 1: `<sos>`, 2: `<unk>`"
      ]
    },
    {
      "cell_type": "code",
      "execution_count": null,
      "id": "de31323a",
      "metadata": {
        "id": "de31323a"
      },
      "outputs": [],
      "source": [
        "for index, token in enumerate((\"<pad>\", \"<sos>\", \"<unk>\")):\n",
        "  index_to_word[index] = token"
      ]
    },
    {
      "cell_type": "markdown",
      "id": "2cdcb203",
      "metadata": {
        "id": "2cdcb203"
      },
      "source": [
        "- **단어 맵핑 처리**  \n",
        "이미 전처리가 어느정도 진행되었기 때문에 문맥이 자연스럽지 않음   \n",
        "맵핑이 진행되지 않은 경우에는 `<unk>`로 출력 (num_words 수가 적어질수록 `<unk>`의 수 증가)"
      ]
    },
    {
      "cell_type": "code",
      "execution_count": null,
      "id": "d286bf21",
      "metadata": {
        "id": "d286bf21"
      },
      "outputs": [],
      "source": [
        "def mapping_text(data):\n",
        "    decoded = []\n",
        "    for i in range(len(data)):\n",
        "        t = ' '.join([index_to_word[index] for index in data[i]])\n",
        "        decoded.append(t)\n",
        "    return decoded"
      ]
    },
    {
      "cell_type": "code",
      "execution_count": null,
      "id": "8fcf2390",
      "metadata": {
        "id": "8fcf2390"
      },
      "outputs": [],
      "source": [
        "x_train, x_test = mapping_text(x_train), mapping_text(x_test)\n",
        "x_train_1M, x_test_1M = mapping_text(x_train_1M), mapping_text(x_test_1M)\n",
        "x_train_5T, x_test_5T = mapping_text(x_train_5T), mapping_text(x_test_5T)\n",
        "x_train_3T, x_test_3T = mapping_text(x_train_3T), mapping_text(x_test_3T) \n",
        "x_train_1T, x_test_1T = mapping_text(x_train_1T), mapping_text(x_test_1T)"
      ]
    },
    {
      "cell_type": "code",
      "execution_count": null,
      "id": "73bb66e8",
      "metadata": {
        "id": "73bb66e8"
      },
      "outputs": [],
      "source": [
        "def mapping_text_print(train, test):\n",
        "    print('\\n', train)\n",
        "    print('\\n', test)\n",
        "    print('-' * 138)"
      ]
    },
    {
      "cell_type": "code",
      "execution_count": null,
      "id": "b22135e6",
      "metadata": {
        "id": "b22135e6",
        "outputId": "d23bc4a5-e2a1-48fa-ac73-7da7a549135a"
      },
      "outputs": [
        {
          "name": "stdout",
          "output_type": "stream",
          "text": [
            "<전체 num_words 사용>\n",
            "\n",
            " <sos> mcgrath rentcorp said as a result of its december acquisition of space co it expects earnings per share in 1987 of 1 15 to 1 30 dlrs per share up from 70 cts in 1986 the company said pretax net should rise to nine to 10 mln dlrs from six mln dlrs in 1986 and rental operation revenues to 19 to 22 mln dlrs from 12 5 mln dlrs it said cash flow per share this year should be 2 50 to three dlrs reuter 3\n",
            "\n",
            " <sos> the great atlantic and pacific tea co said its three year 345 mln dlr capital program will be be substantially increased to accommodate growth and expansion plans for waldbaum inc and shopwell inc over the next two years a and p said the acquisition of shopwell in august 1986 and waldbaum in december helped us achieve better than expected results in the fourth quarter ended february 28 its net income from continuing operations jumped 52 6 pct to 20 7 mln dlrs or 55 cts a share in the latest quarter as sales increased 48 3 pct to 1 58 billion dlrs a and p gave no details on the expanded capital program but it did say it completed the first year of the program during 1986 a and p is 52 4 pct owned by lt tengelmann warenhandelsgesellschaft of west germany reuter 3\n",
            "------------------------------------------------------------------------------------------------------------------------------------------\n",
            "<10,000개의 num_words 사용>\n",
            "\n",
            " <sos> <unk> <unk> said as a result of its december acquisition of space co it expects earnings per share in 1987 of 1 15 to 1 30 dlrs per share up from 70 cts in 1986 the company said pretax net should rise to nine to 10 mln dlrs from six mln dlrs in 1986 and rental operation revenues to 19 to 22 mln dlrs from 12 5 mln dlrs it said cash flow per share this year should be 2 50 to three dlrs reuter 3\n",
            "\n",
            " <sos> the great atlantic and pacific tea co said its three year 345 mln dlr capital program will be be substantially increased to <unk> growth and expansion plans for <unk> inc and <unk> inc over the next two years a and p said the acquisition of <unk> in august 1986 and <unk> in december helped us achieve better than expected results in the fourth quarter ended february 28 its net income from continuing operations jumped 52 6 pct to 20 7 mln dlrs or 55 cts a share in the latest quarter as sales increased 48 3 pct to 1 58 billion dlrs a and p gave no details on the expanded capital program but it did say it completed the first year of the program during 1986 a and p is 52 4 pct owned by lt <unk> <unk> of west germany reuter 3\n",
            "------------------------------------------------------------------------------------------------------------------------------------------\n",
            "<5,000개의 num_words 사용>\n",
            "\n",
            " <sos> <unk> <unk> said as a result of its december acquisition of space co it expects earnings per share in 1987 of 1 15 to 1 30 dlrs per share up from 70 cts in 1986 the company said pretax net should rise to nine to 10 mln dlrs from six mln dlrs in 1986 and rental operation revenues to 19 to 22 mln dlrs from 12 5 mln dlrs it said cash flow per share this year should be 2 50 to three dlrs reuter 3\n",
            "\n",
            " <sos> the great atlantic and pacific tea co said its three year 345 mln dlr capital program will be be substantially increased to <unk> growth and expansion plans for <unk> inc and <unk> inc over the next two years a and p said the acquisition of <unk> in august 1986 and <unk> in december helped us achieve better than expected results in the fourth quarter ended february 28 its net income from continuing operations jumped 52 6 pct to 20 7 mln dlrs or 55 cts a share in the latest quarter as sales increased 48 3 pct to 1 58 billion dlrs a and p gave no details on the expanded capital program but it did say it completed the first year of the program during 1986 a and p is 52 4 pct owned by lt <unk> <unk> of west germany reuter 3\n",
            "------------------------------------------------------------------------------------------------------------------------------------------\n",
            "<3,000개의 num_words 사용>\n",
            "\n",
            " <sos> <unk> <unk> said as a result of its december acquisition of <unk> co it expects earnings per share in 1987 of 1 15 to 1 30 dlrs per share up from 70 cts in 1986 the company said pretax net should rise to nine to 10 mln dlrs from six mln dlrs in 1986 and <unk> operation revenues to 19 to 22 mln dlrs from 12 5 mln dlrs it said cash flow per share this year should be 2 50 to three dlrs reuter 3\n",
            "\n",
            " <sos> the great atlantic and pacific <unk> co said its three year <unk> mln dlr capital program will be be substantially increased to <unk> growth and expansion plans for <unk> inc and <unk> inc over the next two years a and p said the acquisition of <unk> in august 1986 and <unk> in december helped us achieve better than expected results in the fourth quarter ended february 28 its net income from continuing operations <unk> 52 6 pct to 20 7 mln dlrs or 55 cts a share in the latest quarter as sales increased 48 3 pct to 1 58 billion dlrs a and p gave no details on the expanded capital program but it did say it completed the first year of the program during 1986 a and p is 52 4 pct owned by lt <unk> <unk> of west germany reuter 3\n",
            "------------------------------------------------------------------------------------------------------------------------------------------\n",
            "<1,000개의 num_words 사용>\n",
            "\n",
            " <sos> <unk> <unk> said as a result of its december acquisition of <unk> co it expects earnings per share in 1987 of 1 15 to 1 30 dlrs per share up from 70 cts in 1986 the company said pretax net should rise to nine to 10 mln dlrs from six mln dlrs in 1986 and <unk> <unk> revenues to 19 to 22 mln dlrs from 12 5 mln dlrs it said cash <unk> per share this year should be 2 50 to three dlrs reuter 3\n",
            "\n",
            " <sos> the <unk> <unk> and pacific <unk> co said its three year <unk> mln dlr capital program will be be <unk> increased to <unk> growth and <unk> plans for <unk> inc and <unk> inc over the next two years a and <unk> said the acquisition of <unk> in august 1986 and <unk> in december <unk> us <unk> better than expected results in the fourth quarter ended february 28 its net income from continuing operations <unk> 52 6 pct to 20 7 mln dlrs or 55 cts a share in the latest quarter as sales increased 48 3 pct to 1 58 billion dlrs a and <unk> gave no details on the <unk> capital program but it did say it completed the first year of the program during 1986 a and <unk> is 52 4 pct owned by lt <unk> <unk> of west germany reuter 3\n",
            "------------------------------------------------------------------------------------------------------------------------------------------\n"
          ]
        }
      ],
      "source": [
        "print('<전체 num_words 사용>')\n",
        "mapping_text_print(x_train[0], x_test[0])\n",
        "\n",
        "print('<10,000개의 num_words 사용>')\n",
        "mapping_text_print(x_train_1M[0], x_test_1M[0])\n",
        "\n",
        "print('<5,000개의 num_words 사용>')\n",
        "mapping_text_print(x_train_5T[0], x_test_5T[0])\n",
        "\n",
        "print('<3,000개의 num_words 사용>')\n",
        "mapping_text_print(x_train_3T[0], x_test_3T[0])\n",
        "\n",
        "print('<1,000개의 num_words 사용>')\n",
        "mapping_text_print(x_train_1T[0], x_test_1T[0])"
      ]
    },
    {
      "cell_type": "markdown",
      "id": "65075d5b",
      "metadata": {
        "id": "65075d5b"
      },
      "source": [
        "### **1-6. 벡터화**"
      ]
    },
    {
      "cell_type": "markdown",
      "id": "829f3697",
      "metadata": {
        "id": "829f3697"
      },
      "source": [
        "- **DTM / TF-IDF Matrix**  "
      ]
    },
    {
      "cell_type": "code",
      "execution_count": null,
      "id": "e3223b3e",
      "metadata": {
        "id": "e3223b3e"
      },
      "outputs": [],
      "source": [
        "dtm_vector = CountVectorizer()\n",
        "tfidf_vector = TfidfTransformer()\n",
        "\n",
        "def vector(train, test):\n",
        "    dtm_x_train = dtm_vector.fit_transform(train)\n",
        "    tfidf_x_train = tfidf_vector.fit_transform(dtm_x_train)\n",
        "    \n",
        "    dtm_x_test = dtm_vector.transform(test)\n",
        "    tfidf_x_test = tfidf_vector.transform(dtm_x_test)\n",
        "    \n",
        "    print('\\n', tfidf_x_train.shape, '/', tfidf_x_test.shape)\n",
        "    print('-' * 40)\n",
        "    \n",
        "    return (tfidf_x_train, tfidf_x_test)"
      ]
    },
    {
      "cell_type": "code",
      "execution_count": null,
      "id": "e0032b14",
      "metadata": {
        "id": "e0032b14",
        "outputId": "ec28aaae-4a42-4a75-c287-d2c1f41b073a"
      },
      "outputs": [
        {
          "name": "stdout",
          "output_type": "stream",
          "text": [
            "<vector_x_train / vector_x_test>\n",
            "\n",
            " (8982, 26506) / (2246, 26506)\n",
            "----------------------------------------\n",
            "<vector_x_train_1M / vector_x_test_1M>\n",
            "\n",
            " (8982, 9670) / (2246, 9670)\n",
            "----------------------------------------\n",
            "<vector_x_train_5T/ vector_x_test_5T>\n",
            "\n",
            " (8982, 4867) / (2246, 4867)\n",
            "----------------------------------------\n",
            "<vector_x_train_3T / vector_x_test_3T>\n",
            "\n",
            " (8982, 2919) / (2246, 2919)\n",
            "----------------------------------------\n",
            "<vector_x_train_1T / vector_x_test_1T>\n",
            "\n",
            " (8982, 969) / (2246, 969)\n",
            "----------------------------------------\n"
          ]
        }
      ],
      "source": [
        "print('<vector_x_train / vector_x_test>')\n",
        "vector_x_train, vector_x_test = vector(x_train, x_test)\n",
        "print('<vector_x_train_1M / vector_x_test_1M>')\n",
        "vector_x_train_1M, vector_x_test_1M = vector(x_train_1M, x_test_1M)\n",
        "print('<vector_x_train_5T/ vector_x_test_5T>')\n",
        "vector_x_train_5T, vector_x_test_5T = vector(x_train_5T, x_test_5T)\n",
        "print('<vector_x_train_3T / vector_x_test_3T>')\n",
        "vector_x_train_3T, vector_x_test_3T = vector(x_train_3T, x_test_3T) \n",
        "print('<vector_x_train_1T / vector_x_test_1T>')\n",
        "vector_x_train_1T, vector_x_test_1T = vector(x_train_1T, x_test_1T)"
      ]
    },
    {
      "cell_type": "markdown",
      "id": "44db01eb",
      "metadata": {
        "id": "44db01eb"
      },
      "source": [
        "## **2. 머신러닝 모델을 사용한 학습 및 평가**"
      ]
    },
    {
      "cell_type": "markdown",
      "id": "5bc18e27",
      "metadata": {
        "id": "5bc18e27"
      },
      "source": [
        "- **8가지 모델 / Accuracy, F1-Score 2가지 성능 지표로 성능 확인**  "
      ]
    },
    {
      "cell_type": "code",
      "execution_count": 20,
      "id": "8b1a97c9",
      "metadata": {
        "id": "8b1a97c9"
      },
      "outputs": [],
      "source": [
        "def ml_model_train(model, x_train, y_train, x_test, y_test):\n",
        "    model.fit(x_train, y_train)\n",
        "    predict = model.predict(x_test)\n",
        " \n",
        "    accuracy = round(accuracy_score(y_test, predict), 3)\n",
        "    f1_weight = round(f1_score(y_test, predict, average = 'weighted'), 3)\n",
        "    return accuracy, f1_weight"
      ]
    },
    {
      "cell_type": "code",
      "execution_count": 21,
      "id": "1d47baa7",
      "metadata": {
        "id": "1d47baa7"
      },
      "outputs": [],
      "source": [
        "def ml_model_result(accuracy, f1_weight, model_name):\n",
        "    print(f'<{model_name}>\\n')\n",
        "    print('Accuracy:', round(accuracy, 5))\n",
        "    print('F1-Score:', round(f1_weight, 5))\n",
        "    print('-' * 60)"
      ]
    },
    {
      "cell_type": "code",
      "execution_count": 22,
      "id": "2bb7ad8d",
      "metadata": {
        "id": "2bb7ad8d"
      },
      "outputs": [],
      "source": [
        "label_num = ['ALL', '1M', '5T', '3T', '1T']\n",
        "\n",
        "def draw_result(title, accuracy_result, f1_weight_result):\n",
        "    plt.figure(figsize = (8, 2.5))\n",
        "    plt.grid(True)\n",
        "    plt.title(f'{title}')\n",
        "    plt.plot(label_num, accuracy_result, color = '#E7398E', label = 'Accuracy')\n",
        "    plt.plot(label_num, f1_weight_result, color = '#2A9BC1', label = 'F1-Score')\n",
        "    plt.legend()\n",
        "    plt.show()"
      ]
    },
    {
      "cell_type": "markdown",
      "id": "da870e69",
      "metadata": {
        "id": "da870e69"
      },
      "source": [
        "### **2-1. 나이브 베이즈 분류기 (Multinomial Naive Bayes Classifier)**"
      ]
    },
    {
      "cell_type": "code",
      "execution_count": null,
      "id": "324089a1",
      "metadata": {
        "id": "324089a1",
        "outputId": "ebd81641-47f6-4ec3-e3af-b57609d8a396"
      },
      "outputs": [
        {
          "name": "stdout",
          "output_type": "stream",
          "text": [
            "<나이브 베이즈: 전체 num_words 사용>\n",
            "\n",
            "Accuracy: 0.6\n",
            "F1-Score: 0.505\n",
            "------------------------------------------------------------\n",
            "<나이브 베이즈: 10,000개의 num_words 사용>\n",
            "\n",
            "Accuracy: 0.657\n",
            "F1-Score: 0.576\n",
            "------------------------------------------------------------\n",
            "<나이브 베이즈: 5,000개의 num_words 사용>\n",
            "\n",
            "Accuracy: 0.673\n",
            "F1-Score: 0.601\n",
            "------------------------------------------------------------\n",
            "<나이브 베이즈: 3,000개의 num_words 사용>\n",
            "\n",
            "Accuracy: 0.687\n",
            "F1-Score: 0.627\n",
            "------------------------------------------------------------\n",
            "<나이브 베이즈: 1,000개의 num_words 사용>\n",
            "\n",
            "Accuracy: 0.686\n",
            "F1-Score: 0.637\n",
            "------------------------------------------------------------\n"
          ]
        }
      ],
      "source": [
        "NB_accuracy, NB_f1_weight =  ml_model_train(MultinomialNB(), vector_x_train, y_train, vector_x_test, y_test)\n",
        "ml_model_result(NB_accuracy, NB_f1_weight, \"나이브 베이즈: 전체 num_words 사용\")\n",
        "\n",
        "NB_1M_accuracy, NB_1M_f1_weight =  ml_model_train(MultinomialNB(), vector_x_train_1M, y_train, vector_x_test_1M, y_test)\n",
        "ml_model_result(NB_1M_accuracy, NB_1M_f1_weight, \"나이브 베이즈: 10,000개의 num_words 사용\")\n",
        "\n",
        "NB_5T_accuracy, NB_5T_f1_weight =  ml_model_train(MultinomialNB(), vector_x_train_5T, y_train, vector_x_test_5T, y_test)\n",
        "ml_model_result(NB_5T_accuracy, NB_5T_f1_weight, \"나이브 베이즈: 5,000개의 num_words 사용\")\n",
        "\n",
        "NB_3T_accuracy, NB_3T_f1_weight =  ml_model_train(MultinomialNB(), vector_x_train_3T, y_train, vector_x_test_3T, y_test)\n",
        "ml_model_result(NB_3T_accuracy, NB_3T_f1_weight, \"나이브 베이즈: 3,000개의 num_words 사용\")\n",
        "\n",
        "NB_1T_accuracy, NB_1T_f1_weight =  ml_model_train(MultinomialNB(), vector_x_train_1T, y_train, vector_x_test_1T, y_test)\n",
        "ml_model_result(NB_1T_accuracy, NB_1T_f1_weight, \"나이브 베이즈: 1,000개의 num_words 사용\")"
      ]
    },
    {
      "cell_type": "code",
      "execution_count": 23,
      "id": "c25c2f6c",
      "metadata": {
        "id": "c25c2f6c"
      },
      "outputs": [],
      "source": [
        "NB_accuracy_result = [0.600, 0.657, 0.673, 0.687, 0.686]\n",
        "NB_f1_weight_result = [0.505, 0.576, 0.601, 0.627, 0.637]"
      ]
    },
    {
      "cell_type": "code",
      "execution_count": 24,
      "id": "a0b06fba",
      "metadata": {
        "scrolled": true,
        "colab": {
          "base_uri": "https://localhost:8080/",
          "height": 200
        },
        "id": "a0b06fba",
        "outputId": "9a565ba5-bf42-449a-9693-7b095f1ff223"
      },
      "outputs": [
        {
          "output_type": "display_data",
          "data": {
            "text/plain": [
              "<Figure size 576x180 with 1 Axes>"
            ],
            "image/png": "[encoded data removed]"
          },
          "metadata": {
            "needs_background": "light"
          }
        }
      ],
      "source": [
        "draw_result('Multinomial Naive Bayes Classifier', NB_accuracy_result, NB_f1_weight_result)"
      ]
    },
    {
      "cell_type": "markdown",
      "id": "895857a9",
      "metadata": {
        "id": "895857a9"
      },
      "source": [
        "### **2-2. 컴플리먼트 나이브 베이즈 (Complement Naive Bayes Classifier / CNB)**"
      ]
    },
    {
      "cell_type": "code",
      "execution_count": null,
      "id": "a4913a05",
      "metadata": {
        "scrolled": true,
        "id": "a4913a05",
        "outputId": "23d959e6-e7d8-4801-bb68-41182be035db"
      },
      "outputs": [
        {
          "name": "stdout",
          "output_type": "stream",
          "text": [
            "<컴플리먼트 나이브 베이즈: 전체 num_words 사용>\n",
            "\n",
            "Accuracy: 0.765\n",
            "F1-Score: 0.735\n",
            "------------------------------------------------------------\n",
            "<컴플리먼트 나이브 베이즈: 10,000개의 num_words 사용>\n",
            "\n",
            "Accuracy: 0.771\n",
            "F1-Score: 0.746\n",
            "------------------------------------------------------------\n",
            "<컴플리먼트 나이브 베이즈: 5,000개의 num_words 사용>\n",
            "\n",
            "Accuracy: 0.771\n",
            "F1-Score: 0.746\n",
            "------------------------------------------------------------\n",
            "<컴플리먼트 나이브 베이즈: 3,000개의 num_words 사용>\n",
            "\n",
            "Accuracy: 0.764\n",
            "F1-Score: 0.737\n",
            "------------------------------------------------------------\n",
            "<컴플리먼트 나이브 베이즈: 1,000개의 num_words 사용>\n",
            "\n",
            "Accuracy: 0.735\n",
            "F1-Score: 0.697\n",
            "------------------------------------------------------------\n"
          ]
        }
      ],
      "source": [
        "CNB_accuracy, CNB_f1_weight =  ml_model_train(ComplementNB(), vector_x_train, y_train, vector_x_test, y_test)\n",
        "ml_model_result(CNB_accuracy, CNB_f1_weight, \"컴플리먼트 나이브 베이즈: 전체 num_words 사용\")\n",
        "\n",
        "CNB_1M_accuracy, CNB_1M_f1_weight =  ml_model_train(ComplementNB(), vector_x_train_1M, y_train, vector_x_test_1M, y_test)\n",
        "ml_model_result(CNB_1M_accuracy, CNB_1M_f1_weight, \"컴플리먼트 나이브 베이즈: 10,000개의 num_words 사용\")\n",
        "\n",
        "CNB_5T_accuracy, CNB_5T_f1_weight =  ml_model_train(ComplementNB(), vector_x_train_5T, y_train, vector_x_test_5T, y_test)\n",
        "ml_model_result(CNB_5T_accuracy, CNB_5T_f1_weight, \"컴플리먼트 나이브 베이즈: 5,000개의 num_words 사용\")\n",
        "\n",
        "CNB_3T_accuracy, CNB_3T_f1_weight =  ml_model_train(ComplementNB(), vector_x_train_3T, y_train, vector_x_test_3T, y_test)\n",
        "ml_model_result(CNB_3T_accuracy, CNB_3T_f1_weight, \"컴플리먼트 나이브 베이즈: 3,000개의 num_words 사용\")\n",
        "\n",
        "CNB_1T_accuracy, CNB_1T_f1_weight =  ml_model_train(ComplementNB(), vector_x_train_1T, y_train, vector_x_test_1T, y_test)\n",
        "ml_model_result(CNB_1T_accuracy, CNB_1T_f1_weight, \"컴플리먼트 나이브 베이즈: 1,000개의 num_words 사용\")"
      ]
    },
    {
      "cell_type": "code",
      "execution_count": 25,
      "id": "31d733c7",
      "metadata": {
        "id": "31d733c7"
      },
      "outputs": [],
      "source": [
        "CNB_accuracy_result = [0.765, 0.771, 0.771, 0.764, 0.735]\n",
        "CNB_f1_weight_result = [0.735, 0.746, 0.746, 0.737, 0.697]"
      ]
    },
    {
      "cell_type": "code",
      "execution_count": 26,
      "id": "9ccd2f6a",
      "metadata": {
        "scrolled": true,
        "colab": {
          "base_uri": "https://localhost:8080/",
          "height": 200
        },
        "id": "9ccd2f6a",
        "outputId": "7f451224-631b-4404-dcc8-23f2b20b1d70"
      },
      "outputs": [
        {
          "output_type": "display_data",
          "data": {
            "text/plain": [
              "<Figure size 576x180 with 1 Axes>"
            ],
            "image/png": "[encoded data removed]"
          },
          "metadata": {
            "needs_background": "light"
          }
        }
      ],
      "source": [
        "draw_result('Complement Naive Bayes Classifier', CNB_accuracy_result, CNB_f1_weight_result)"
      ]
    },
    {
      "cell_type": "markdown",
      "id": "25d8133d",
      "metadata": {
        "id": "25d8133d"
      },
      "source": [
        "### **2-3. 로지스틱 회귀 (Logistic Regression)**"
      ]
    },
    {
      "cell_type": "code",
      "execution_count": null,
      "id": "9d6db625",
      "metadata": {
        "id": "9d6db625"
      },
      "outputs": [],
      "source": [
        "def LR_model():\n",
        "    return LogisticRegression(C = 10000, penalty = 'l2', max_iter = 5000)"
      ]
    },
    {
      "cell_type": "code",
      "execution_count": null,
      "id": "08f1c011",
      "metadata": {
        "id": "08f1c011",
        "outputId": "b7ebf42c-fea0-469c-ded3-efc67a3a431e"
      },
      "outputs": [
        {
          "name": "stdout",
          "output_type": "stream",
          "text": [
            "<로지스틱 회귀: 전체 num_words 사용>\n",
            "\n",
            "Accuracy: 0.817\n",
            "F1-Score: 0.812\n",
            "------------------------------------------------------------\n",
            "<로지스틱 회귀: 10,000개의 num_words 사용>\n",
            "\n",
            "Accuracy: 0.811\n",
            "F1-Score: 0.806\n",
            "------------------------------------------------------------\n",
            "<로지스틱 회귀: 5,000개의 num_words 사용>\n",
            "\n",
            "Accuracy: 0.803\n",
            "F1-Score: 0.798\n",
            "------------------------------------------------------------\n",
            "<로지스틱 회귀: 3,000개의 num_words 사용>\n",
            "\n",
            "Accuracy: 0.788\n",
            "F1-Score: 0.784\n",
            "------------------------------------------------------------\n",
            "<로지스틱 회귀: 1,000개의 num_words 사용>\n",
            "\n",
            "Accuracy: 0.739\n",
            "F1-Score: 0.733\n",
            "------------------------------------------------------------\n"
          ]
        }
      ],
      "source": [
        "LR_accuracy, LR_f1_weight =  ml_model_train(LR_model(), vector_x_train, y_train, vector_x_test, y_test)\n",
        "ml_model_result(LR_accuracy, LR_f1_weight, \"로지스틱 회귀: 전체 num_words 사용\")\n",
        "\n",
        "LR_1M_accuracy, LR_1M_f1_weight =  ml_model_train(LR_model(), vector_x_train_1M, y_train, vector_x_test_1M, y_test)\n",
        "ml_model_result(LR_1M_accuracy, LR_1M_f1_weight, \"로지스틱 회귀: 10,000개의 num_words 사용\")\n",
        "\n",
        "LR_5T_accuracy, LR_5T_f1_weight =  ml_model_train(LR_model(), vector_x_train_5T, y_train, vector_x_test_5T, y_test)\n",
        "ml_model_result(LR_5T_accuracy, LR_5T_f1_weight, \"로지스틱 회귀: 5,000개의 num_words 사용\")\n",
        "\n",
        "LR_3T_accuracy, LR_3T_f1_weight =  ml_model_train(LR_model(), vector_x_train_3T, y_train, vector_x_test_3T, y_test)\n",
        "ml_model_result(LR_3T_accuracy, LR_3T_f1_weight, \"로지스틱 회귀: 3,000개의 num_words 사용\")\n",
        "\n",
        "LR_1T_accuracy, LR_1T_f1_weight =  ml_model_train(LR_model(), vector_x_train_1T, y_train, vector_x_test_1T, y_test)\n",
        "ml_model_result(LR_1T_accuracy, LR_1T_f1_weight, \"로지스틱 회귀: 1,000개의 num_words 사용\")"
      ]
    },
    {
      "cell_type": "code",
      "execution_count": 27,
      "id": "aa0a173c",
      "metadata": {
        "id": "aa0a173c"
      },
      "outputs": [],
      "source": [
        "LR_accuracy_result = [0.817, 0.811, 0.803, 0.788, 0.739]\n",
        "LR_f1_weight_result = [0.812, 0.806, 0.798, 0.784, 0.733]"
      ]
    },
    {
      "cell_type": "code",
      "execution_count": 28,
      "id": "3e7eedcb",
      "metadata": {
        "colab": {
          "base_uri": "https://localhost:8080/",
          "height": 200
        },
        "id": "3e7eedcb",
        "outputId": "86eeab4a-e611-4d0b-c0e2-6f6481dd355e"
      },
      "outputs": [
        {
          "output_type": "display_data",
          "data": {
            "text/plain": [
              "<Figure size 576x180 with 1 Axes>"
            ],
            "image/png": "[encoded data removed]"
          },
          "metadata": {
            "needs_background": "light"
          }
        }
      ],
      "source": [
        "draw_result('Logistic Regression', LR_accuracy_result, LR_f1_weight_result)"
      ]
    },
    {
      "cell_type": "markdown",
      "id": "9d4d6756",
      "metadata": {
        "id": "9d4d6756"
      },
      "source": [
        "### **2-4. 선형 서포트 벡터 머신 (Linear Support Vector Machine)**"
      ]
    },
    {
      "cell_type": "code",
      "execution_count": null,
      "id": "94ae0374",
      "metadata": {
        "id": "94ae0374"
      },
      "outputs": [],
      "source": [
        "def SVM_model():\n",
        "    return LinearSVC(C = 1000, penalty = 'l1', max_iter = 5000, dual = False)"
      ]
    },
    {
      "cell_type": "code",
      "execution_count": null,
      "id": "c84aa657",
      "metadata": {
        "id": "c84aa657",
        "outputId": "26dce421-031c-4b72-f9b0-7925614eb4a0"
      },
      "outputs": [
        {
          "name": "stdout",
          "output_type": "stream",
          "text": [
            "<선형 서포트 벡터 머신: 전체 num_words 사용>\n",
            "\n",
            "Accuracy: 0.793\n",
            "F1-Score: 0.789\n",
            "------------------------------------------------------------\n",
            "<선형 서포트 벡터 머신: 10,000개의 num_words 사용>\n",
            "\n",
            "Accuracy: 0.783\n",
            "F1-Score: 0.779\n",
            "------------------------------------------------------------\n",
            "<선형 서포트 벡터 머신: 5,000개의 num_words 사용>\n",
            "\n",
            "Accuracy: 0.766\n",
            "F1-Score: 0.763\n",
            "------------------------------------------------------------\n",
            "<선형 서포트 벡터 머신: 3,000개의 num_words 사용>\n",
            "\n",
            "Accuracy: 0.756\n",
            "F1-Score: 0.754\n",
            "------------------------------------------------------------\n",
            "<선형 서포트 벡터 머신: 1,000개의 num_words 사용>\n",
            "\n",
            "Accuracy: 0.722\n",
            "F1-Score: 0.718\n",
            "------------------------------------------------------------\n"
          ]
        }
      ],
      "source": [
        "SVM_accuracy, SVM_f1_weight =  ml_model_train(SVM_model(), vector_x_train, y_train, vector_x_test, y_test)\n",
        "ml_model_result(SVM_accuracy, SVM_f1_weight, \"선형 서포트 벡터 머신: 전체 num_words 사용\")\n",
        "\n",
        "SVM_1M_accuracy, SVM_1M_f1_weight =  ml_model_train(SVM_model(), vector_x_train_1M, y_train, vector_x_test_1M, y_test)\n",
        "ml_model_result(SVM_1M_accuracy, SVM_1M_f1_weight, \"선형 서포트 벡터 머신: 10,000개의 num_words 사용\")\n",
        "\n",
        "SVM_5T_accuracy, SVM_5T_f1_weight =  ml_model_train(SVM_model(), vector_x_train_5T, y_train, vector_x_test_5T, y_test)\n",
        "ml_model_result(SVM_5T_accuracy, SVM_5T_f1_weight, \"선형 서포트 벡터 머신: 5,000개의 num_words 사용\")\n",
        "\n",
        "SVM_3T_accuracy, SVM_3T_f1_weight =  ml_model_train(SVM_model(), vector_x_train_3T, y_train, vector_x_test_3T, y_test)\n",
        "ml_model_result(SVM_3T_accuracy, SVM_3T_f1_weight, \"선형 서포트 벡터 머신: 3,000개의 num_words 사용\")\n",
        "\n",
        "SVM_1T_accuracy, SVM_1T_f1_weight =  ml_model_train(SVM_model(), vector_x_train_1T, y_train, vector_x_test_1T, y_test)\n",
        "ml_model_result(SVM_1T_accuracy, SVM_1T_f1_weight, \"선형 서포트 벡터 머신: 1,000개의 num_words 사용\")"
      ]
    },
    {
      "cell_type": "code",
      "execution_count": 29,
      "id": "c7d69861",
      "metadata": {
        "id": "c7d69861"
      },
      "outputs": [],
      "source": [
        "SVM_accuracy_result = [0.793, 0.783, 0.766, 0.756, 0.722]\n",
        "SVM_f1_weight_result = [0.789, 0.779, 0.763, 0.754, 0.718]"
      ]
    },
    {
      "cell_type": "code",
      "execution_count": 30,
      "id": "502eb07a",
      "metadata": {
        "colab": {
          "base_uri": "https://localhost:8080/",
          "height": 200
        },
        "id": "502eb07a",
        "outputId": "6ea9e51a-5bda-44fb-96d3-52f30b1b4f20"
      },
      "outputs": [
        {
          "output_type": "display_data",
          "data": {
            "text/plain": [
              "<Figure size 576x180 with 1 Axes>"
            ],
            "image/png": "[encoded data removed]"
          },
          "metadata": {
            "needs_background": "light"
          }
        }
      ],
      "source": [
        "draw_result('Linear Support Vector Machine', SVM_accuracy_result, SVM_f1_weight_result)"
      ]
    },
    {
      "cell_type": "markdown",
      "id": "5bcf4ea2",
      "metadata": {
        "id": "5bcf4ea2"
      },
      "source": [
        "### **2-5. 결정 트리 (Decision Tree)**"
      ]
    },
    {
      "cell_type": "code",
      "execution_count": null,
      "id": "78cf197d",
      "metadata": {
        "id": "78cf197d"
      },
      "outputs": [],
      "source": [
        "def DT_model():\n",
        "    return DecisionTreeClassifier(max_depth = 10, random_state = 0)"
      ]
    },
    {
      "cell_type": "code",
      "execution_count": null,
      "id": "f2d0e6e6",
      "metadata": {
        "id": "f2d0e6e6",
        "outputId": "3fde8570-608e-40db-db00-5b0490f6f4c9"
      },
      "outputs": [
        {
          "name": "stdout",
          "output_type": "stream",
          "text": [
            "<결정 트리: 전체 num_words 사용>\n",
            "\n",
            "Accuracy: 0.621\n",
            "F1-Score: 0.577\n",
            "------------------------------------------------------------\n",
            "<결정 트리: 10,000개의 num_words 사용>\n",
            "\n",
            "Accuracy: 0.62\n",
            "F1-Score: 0.578\n",
            "------------------------------------------------------------\n",
            "<결정 트리: 5,000개의 num_words 사용>\n",
            "\n",
            "Accuracy: 0.618\n",
            "F1-Score: 0.573\n",
            "------------------------------------------------------------\n",
            "<결정 트리: 3,000개의 num_words 사용>\n",
            "\n",
            "Accuracy: 0.626\n",
            "F1-Score: 0.58\n",
            "------------------------------------------------------------\n",
            "<결정 트리: 1,000개의 num_words 사용>\n",
            "\n",
            "Accuracy: 0.618\n",
            "F1-Score: 0.545\n",
            "------------------------------------------------------------\n"
          ]
        }
      ],
      "source": [
        "DT_accuracy, DT_f1_weight =  ml_model_train(DT_model(), vector_x_train, y_train, vector_x_test, y_test)\n",
        "ml_model_result(DT_accuracy, DT_f1_weight, \"결정 트리: 전체 num_words 사용\")\n",
        "\n",
        "DT_1M_accuracy, DT_1M_f1_weight =  ml_model_train(DT_model(), vector_x_train_1M, y_train, vector_x_test_1M, y_test)\n",
        "ml_model_result(DT_1M_accuracy, DT_1M_f1_weight, \"결정 트리: 10,000개의 num_words 사용\")\n",
        "\n",
        "DT_5T_accuracy, DT_5T_f1_weight =  ml_model_train(DT_model(), vector_x_train_5T, y_train, vector_x_test_5T, y_test)\n",
        "ml_model_result(DT_5T_accuracy, DT_5T_f1_weight, \"결정 트리: 5,000개의 num_words 사용\")\n",
        "\n",
        "DT_3T_accuracy, DT_3T_f1_weight =  ml_model_train(DT_model(), vector_x_train_3T, y_train, vector_x_test_3T, y_test)\n",
        "ml_model_result(DT_3T_accuracy, DT_3T_f1_weight, \"결정 트리: 3,000개의 num_words 사용\")\n",
        "\n",
        "DT_1T_accuracy, DT_1T_f1_weight =  ml_model_train(DT_model(), vector_x_train_1T, y_train, vector_x_test_1T, y_test)\n",
        "ml_model_result(DT_1T_accuracy, DT_1T_f1_weight, \"결정 트리: 1,000개의 num_words 사용\")"
      ]
    },
    {
      "cell_type": "code",
      "execution_count": 31,
      "id": "cc161a73",
      "metadata": {
        "id": "cc161a73"
      },
      "outputs": [],
      "source": [
        "DT_accuracy_result = [0.621, 0.620, 0.618, 0.626, 0.618]\n",
        "DT_f1_weight_result = [0.577, 0.578, 0.573, 0.580, 0.545]"
      ]
    },
    {
      "cell_type": "code",
      "execution_count": 32,
      "id": "2a2904c7",
      "metadata": {
        "colab": {
          "base_uri": "https://localhost:8080/",
          "height": 200
        },
        "id": "2a2904c7",
        "outputId": "7ea5f857-00a9-4d70-d6e8-7bd1d3782013"
      },
      "outputs": [
        {
          "output_type": "display_data",
          "data": {
            "text/plain": [
              "<Figure size 576x180 with 1 Axes>"
            ],
            "image/png": "[encoded data removed]"
          },
          "metadata": {
            "needs_background": "light"
          }
        }
      ],
      "source": [
        "draw_result('Decision Tree', DT_accuracy_result, DT_f1_weight_result)"
      ]
    },
    {
      "cell_type": "markdown",
      "id": "e4da8144",
      "metadata": {
        "id": "e4da8144"
      },
      "source": [
        "### **2-6. 랜덤 포레스트 (Random Forest)**"
      ]
    },
    {
      "cell_type": "code",
      "execution_count": null,
      "id": "b01dbc9f",
      "metadata": {
        "id": "b01dbc9f"
      },
      "outputs": [],
      "source": [
        "def RF_model():\n",
        "    return RandomForestClassifier(n_estimators = 5, random_state = 0)"
      ]
    },
    {
      "cell_type": "code",
      "execution_count": null,
      "id": "04887398",
      "metadata": {
        "id": "04887398",
        "outputId": "15985fcb-4ef7-4b1a-b05a-04b0041562f3"
      },
      "outputs": [
        {
          "name": "stdout",
          "output_type": "stream",
          "text": [
            "<랜덤 포레스트: 전체 num_words 사용>\n",
            "\n",
            "Accuracy: 0.654\n",
            "F1-Score: 0.623\n",
            "------------------------------------------------------------\n",
            "<랜덤 포레스트: 10,000개의 num_words 사용>\n",
            "\n",
            "Accuracy: 0.674\n",
            "F1-Score: 0.643\n",
            "------------------------------------------------------------\n",
            "<랜덤 포레스트: 5,000개의 num_words 사용>\n",
            "\n",
            "Accuracy: 0.701\n",
            "F1-Score: 0.677\n",
            "------------------------------------------------------------\n",
            "<랜덤 포레스트: 3,000개의 num_words 사용>\n",
            "\n",
            "Accuracy: 0.686\n",
            "F1-Score: 0.659\n",
            "------------------------------------------------------------\n",
            "<랜덤 포레스트: 1,000개의 num_words 사용>\n",
            "\n",
            "Accuracy: 0.707\n",
            "F1-Score: 0.683\n",
            "------------------------------------------------------------\n"
          ]
        }
      ],
      "source": [
        "RF_accuracy, RF_f1_weight =  ml_model_train(RF_model(), vector_x_train, y_train, vector_x_test, y_test)\n",
        "ml_model_result(RF_accuracy, RF_f1_weight, \"랜덤 포레스트: 전체 num_words 사용\")\n",
        "\n",
        "RF_1M_accuracy, RF_1M_f1_weight =  ml_model_train(RF_model(), vector_x_train_1M, y_train, vector_x_test_1M, y_test)\n",
        "ml_model_result(RF_1M_accuracy, RF_1M_f1_weight, \"랜덤 포레스트: 10,000개의 num_words 사용\")\n",
        "\n",
        "RF_5T_accuracy, RF_5T_f1_weight =  ml_model_train(RF_model(), vector_x_train_5T, y_train, vector_x_test_5T, y_test)\n",
        "ml_model_result(RF_5T_accuracy, RF_5T_f1_weight, \"랜덤 포레스트: 5,000개의 num_words 사용\")\n",
        "\n",
        "RF_3T_accuracy, RF_3T_f1_weight =  ml_model_train(RF_model(), vector_x_train_3T, y_train, vector_x_test_3T, y_test)\n",
        "ml_model_result(RF_3T_accuracy, RF_3T_f1_weight, \"랜덤 포레스트: 3,000개의 num_words 사용\")\n",
        "\n",
        "RF_1T_accuracy, RF_1T_f1_weight =  ml_model_train(RF_model(), vector_x_train_1T, y_train, vector_x_test_1T, y_test)\n",
        "ml_model_result(RF_1T_accuracy, RF_1T_f1_weight, \"랜덤 포레스트: 1,000개의 num_words 사용\")"
      ]
    },
    {
      "cell_type": "code",
      "execution_count": 33,
      "id": "0b56a0ff",
      "metadata": {
        "id": "0b56a0ff"
      },
      "outputs": [],
      "source": [
        "RF_accuracy_result = [0.654, 0.674, 0.701, 0.686, 0.707]\n",
        "RF_f1_weight_result = [0.623, 0.643, 0.677, 0.659, 0.683]"
      ]
    },
    {
      "cell_type": "code",
      "execution_count": 34,
      "id": "cb679de9",
      "metadata": {
        "colab": {
          "base_uri": "https://localhost:8080/",
          "height": 200
        },
        "id": "cb679de9",
        "outputId": "885a9346-a6d2-452a-ed9f-282312dacd82"
      },
      "outputs": [
        {
          "output_type": "display_data",
          "data": {
            "text/plain": [
              "<Figure size 576x180 with 1 Axes>"
            ],
            "image/png": "[encoded data removed]"
          },
          "metadata": {
            "needs_background": "light"
          }
        }
      ],
      "source": [
        "draw_result('Random Forest', RF_accuracy_result, RF_f1_weight_result)"
      ]
    },
    {
      "cell_type": "markdown",
      "id": "3d41ec9a",
      "metadata": {
        "id": "3d41ec9a"
      },
      "source": [
        "### **2-7. 그래디언트 부스팅 트리 (GradientBoostingClassifier)**"
      ]
    },
    {
      "cell_type": "code",
      "execution_count": null,
      "id": "7e058908",
      "metadata": {
        "id": "7e058908"
      },
      "outputs": [],
      "source": [
        "def GBC_model():\n",
        "    return GradientBoostingClassifier(random_state = 0, learning_rate = 0.01)"
      ]
    },
    {
      "cell_type": "code",
      "execution_count": null,
      "id": "b39c0e2e",
      "metadata": {
        "id": "b39c0e2e",
        "outputId": "b696920b-bbac-433b-e07f-ac2de40ba242"
      },
      "outputs": [
        {
          "name": "stdout",
          "output_type": "stream",
          "text": [
            "<그래디언트 부스팅 트리: 전체 num_words 사용>\n",
            "\n",
            "Accuracy: 0.762\n",
            "F1-Score: 0.748\n",
            "------------------------------------------------------------\n",
            "<그래디언트 부스팅 트리: 10,000개의 num_words 사용>\n",
            "\n",
            "Accuracy: 0.757\n",
            "F1-Score: 0.744\n",
            "------------------------------------------------------------\n",
            "<그래디언트 부스팅 트리: 5,000개의 num_words 사용>\n",
            "\n",
            "Accuracy: 0.762\n",
            "F1-Score: 0.749\n",
            "------------------------------------------------------------\n",
            "<그래디언트 부스팅 트리: 3,000개의 num_words 사용>\n",
            "\n",
            "Accuracy: 0.756\n",
            "F1-Score: 0.741\n",
            "------------------------------------------------------------\n",
            "<그래디언트 부스팅 트리: 1,000개의 num_words 사용>\n",
            "\n",
            "Accuracy: 0.742\n",
            "F1-Score: 0.719\n",
            "------------------------------------------------------------\n"
          ]
        }
      ],
      "source": [
        "GBC_accuracy, GBC_f1_weight =  ml_model_train(GBC_model(), vector_x_train, y_train, vector_x_test, y_test)\n",
        "ml_model_result(GBC_accuracy, GBC_f1_weight, \"그래디언트 부스팅 트리: 전체 num_words 사용\")\n",
        "\n",
        "GBC_1M_accuracy, GBC_1M_f1_weight =  ml_model_train(GBC_model(), vector_x_train_1M, y_train, vector_x_test_1M, y_test)\n",
        "ml_model_result(GBC_1M_accuracy, GBC_1M_f1_weight, \"그래디언트 부스팅 트리: 10,000개의 num_words 사용\")\n",
        "\n",
        "GBC_5T_accuracy, GBC_5T_f1_weight =  ml_model_train(GBC_model(), vector_x_train_5T, y_train, vector_x_test_5T, y_test)\n",
        "ml_model_result(GBC_5T_accuracy, GBC_5T_f1_weight, \"그래디언트 부스팅 트리: 5,000개의 num_words 사용\")\n",
        "\n",
        "GBC_3T_accuracy, GBC_3T_f1_weight =  ml_model_train(GBC_model(), vector_x_train_3T, y_train, vector_x_test_3T, y_test)\n",
        "ml_model_result(GBC_3T_accuracy, GBC_3T_f1_weight, \"그래디언트 부스팅 트리: 3,000개의 num_words 사용\")\n",
        "\n",
        "GBC_1T_accuracy, GBC_1T_f1_weight =  ml_model_train(GBC_model(), vector_x_train_1T, y_train, vector_x_test_1T, y_test)\n",
        "ml_model_result(GBC_1T_accuracy, GBC_1T_f1_weight, \"그래디언트 부스팅 트리: 1,000개의 num_words 사용\")"
      ]
    },
    {
      "cell_type": "code",
      "execution_count": 35,
      "id": "22ecd333",
      "metadata": {
        "id": "22ecd333"
      },
      "outputs": [],
      "source": [
        "GBC_accuracy_result = [0.762, 0.757, 0.762, 0.756, 0.742]\n",
        "GBC_f1_weight_result = [0.748, 0.744, 0.749, 0.741, 0.742]"
      ]
    },
    {
      "cell_type": "code",
      "execution_count": 36,
      "id": "cfbcef17",
      "metadata": {
        "scrolled": true,
        "colab": {
          "base_uri": "https://localhost:8080/",
          "height": 200
        },
        "id": "cfbcef17",
        "outputId": "97715511-dea9-4d3b-f8b0-3d32ccbcf509"
      },
      "outputs": [
        {
          "output_type": "display_data",
          "data": {
            "text/plain": [
              "<Figure size 576x180 with 1 Axes>"
            ],
            "image/png": "[encoded data removed]"
          },
          "metadata": {
            "needs_background": "light"
          }
        }
      ],
      "source": [
        "draw_result('GradientBoostingClassifier', GBC_accuracy_result, GBC_f1_weight_result)"
      ]
    },
    {
      "cell_type": "markdown",
      "id": "a935eca3",
      "metadata": {
        "id": "a935eca3"
      },
      "source": [
        "### **2-8. 보팅 (Voting)**"
      ]
    },
    {
      "cell_type": "code",
      "execution_count": null,
      "id": "d52a383f",
      "metadata": {
        "id": "d52a383f"
      },
      "outputs": [],
      "source": [
        "def voting_model():\n",
        "    voting_classifier = VotingClassifier(estimators=[('lr', LogisticRegression(C = 10000, penalty = 'l2')),('cb', ComplementNB())], voting = 'soft', n_jobs =- 1)\n",
        "    return voting_classifier"
      ]
    },
    {
      "cell_type": "code",
      "execution_count": null,
      "id": "64db01be",
      "metadata": {
        "id": "64db01be",
        "outputId": "bfc261f1-09dd-424f-c019-1612a0afb59b"
      },
      "outputs": [
        {
          "name": "stdout",
          "output_type": "stream",
          "text": [
            "<보팅: 전체 num_words 사용>\n",
            "\n",
            "Accuracy: 0.816\n",
            "F1-Score: 0.81\n",
            "------------------------------------------------------------\n",
            "<보팅: 10,000개의 num_words 사용>\n",
            "\n",
            "Accuracy: 0.811\n",
            "F1-Score: 0.805\n",
            "------------------------------------------------------------\n",
            "<보팅: 5,000개의 num_words 사용>\n",
            "\n",
            "Accuracy: 0.809\n",
            "F1-Score: 0.803\n",
            "------------------------------------------------------------\n",
            "<보팅: 3,000개의 num_words 사용>\n",
            "\n",
            "Accuracy: 0.801\n",
            "F1-Score: 0.795\n",
            "------------------------------------------------------------\n",
            "<보팅: 1,000개의 num_words 사용>\n",
            "\n",
            "Accuracy: 0.784\n",
            "F1-Score: 0.777\n",
            "------------------------------------------------------------\n"
          ]
        }
      ],
      "source": [
        "voting_accuracy, voting_f1_weight =  ml_model_train(voting_model(), vector_x_train, y_train, vector_x_test, y_test)\n",
        "ml_model_result(voting_accuracy, voting_f1_weight, \"보팅: 전체 num_words 사용\")\n",
        "\n",
        "voting_1M_accuracy, voting_1M_f1_weight =  ml_model_train(voting_model(), vector_x_train_1M, y_train, vector_x_test_1M, y_test)\n",
        "ml_model_result(voting_1M_accuracy, voting_1M_f1_weight, \"보팅: 10,000개의 num_words 사용\")\n",
        "\n",
        "voting_5T_accuracy, voting_5T_f1_weight =  ml_model_train(voting_model(), vector_x_train_5T, y_train, vector_x_test_5T, y_test)\n",
        "ml_model_result(voting_5T_accuracy, voting_5T_f1_weight, \"보팅: 5,000개의 num_words 사용\")\n",
        "\n",
        "voting_3T_accuracy, voting_3T_f1_weight =  ml_model_train(voting_model(), vector_x_train_3T, y_train, vector_x_test_3T, y_test)\n",
        "ml_model_result(voting_3T_accuracy, voting_3T_f1_weight, \"보팅: 3,000개의 num_words 사용\")\n",
        "\n",
        "voting_1T_accuracy, voting_1T_f1_weight =  ml_model_train(voting_model(), vector_x_train_1T, y_train, vector_x_test_1T, y_test)\n",
        "ml_model_result(voting_1T_accuracy, voting_1T_f1_weight, \"보팅: 1,000개의 num_words 사용\")"
      ]
    },
    {
      "cell_type": "code",
      "execution_count": 37,
      "id": "15344375",
      "metadata": {
        "id": "15344375"
      },
      "outputs": [],
      "source": [
        "Voting_accuracy_result = [0.816, 0.811, 0.809, 0.801, 0.784]\n",
        "Voting_f1_weight_result = [0.81, 0.805, 0.803, 0.795, 0.777]"
      ]
    },
    {
      "cell_type": "code",
      "execution_count": 38,
      "id": "28c92504",
      "metadata": {
        "scrolled": true,
        "colab": {
          "base_uri": "https://localhost:8080/",
          "height": 200
        },
        "id": "28c92504",
        "outputId": "c5c3c6eb-002f-4868-8b6d-8b81c23fb8d5"
      },
      "outputs": [
        {
          "output_type": "display_data",
          "data": {
            "text/plain": [
              "<Figure size 576x180 with 1 Axes>"
            ],
            "image/png": "[encoded data removed]"
          },
          "metadata": {
            "needs_background": "light"
          }
        }
      ],
      "source": [
        "draw_result('Voting', Voting_accuracy_result, Voting_f1_weight_result)"
      ]
    },
    {
      "cell_type": "markdown",
      "id": "89c7302a",
      "metadata": {
        "id": "89c7302a"
      },
      "source": [
        "## **3. 딥러닝 모델을 사용한 학습 및 평가**"
      ]
    },
    {
      "cell_type": "markdown",
      "id": "9b673100",
      "metadata": {
        "id": "9b673100"
      },
      "source": [
        "- **데이터 전처리**"
      ]
    },
    {
      "cell_type": "code",
      "execution_count": 3,
      "id": "e215773a",
      "metadata": {
        "id": "e215773a"
      },
      "outputs": [],
      "source": [
        "def dnn_data(x_train, y_train, x_test, y_test):\n",
        "    max_len = 300\n",
        "\n",
        "    _x_train = pad_sequences(x_train, maxlen = max_len, padding = \"pre\")\n",
        "    _x_test = pad_sequences(x_test, maxlen = max_len, padding = \"pre\")\n",
        "\n",
        "    _y_train = to_categorical(y_train)\n",
        "    _y_test = to_categorical(y_test)\n",
        "\n",
        "    partial_x_train, x_val, partial_y_train, y_val = train_test_split(_x_train, _y_train, test_size = 0.2, random_state = 2525)\n",
        "    return (partial_x_train, partial_y_train, x_val, y_val, _x_test, _y_test)"
      ]
    },
    {
      "cell_type": "code",
      "execution_count": 4,
      "id": "188dbcb0",
      "metadata": {
        "id": "188dbcb0"
      },
      "outputs": [],
      "source": [
        "DL = dnn_data(x_train, y_train, x_test, y_test)\n",
        "DL_1M = dnn_data(x_train_1M, y_train_1M, x_test_1M, y_test_1M)\n",
        "DL_5T = dnn_data(x_train_5T, y_train_5T, x_test_5T, y_test_5T)\n",
        "DL_3T = dnn_data(x_train_3T, y_train_3T, x_test_3T, y_test_3T)\n",
        "DL_1T = dnn_data(x_train_1T, y_train_1T, x_test_1T, y_test_1T)"
      ]
    },
    {
      "cell_type": "markdown",
      "id": "c9c2598f",
      "metadata": {
        "id": "c9c2598f"
      },
      "source": [
        "- **모델 생성**"
      ]
    },
    {
      "cell_type": "code",
      "execution_count": 13,
      "id": "9d7c55aa",
      "metadata": {
        "id": "9d7c55aa"
      },
      "outputs": [],
      "source": [
        "def get_dnn(vocab_size):\n",
        "    word_vector_dim = 128\n",
        "\n",
        "    model_1d = tf.keras.Sequential()\n",
        "    model_1d.add(tf.keras.layers.Embedding(vocab_size, word_vector_dim, input_shape = (None,)))\n",
        "    model_1d.add(tf.keras.layers.Conv1D(256, 32, activation='gelu'))\n",
        "    model_1d.add(tf.keras.layers.MaxPooling1D(4))\n",
        "    model_1d.add(tf.keras.layers.Dropout(0.3))\n",
        "\n",
        "    model_1d.add(tf.keras.layers.Conv1D(256, 32, activation='gelu'))\n",
        "    model_1d.add(tf.keras.layers.GlobalMaxPooling1D())\n",
        "    model_1d.add(tf.keras.layers.Dropout(0.3))\n",
        "\n",
        "    model_1d.add(tf.keras.layers.Dense(46, activation='softmax'))\n",
        "    \n",
        "    model_1d.compile(optimizer = 'adam', loss = 'categorical_crossentropy', metrics = ['accuracy', f1_m])    \n",
        "    \n",
        "    model_1d.summary()\n",
        "    return model_1d"
      ]
    },
    {
      "cell_type": "markdown",
      "id": "feda3a02",
      "metadata": {
        "id": "feda3a02"
      },
      "source": [
        "- **F1 계산**"
      ]
    },
    {
      "cell_type": "code",
      "execution_count": 6,
      "id": "b485206c",
      "metadata": {
        "id": "b485206c"
      },
      "outputs": [],
      "source": [
        "def recall_m(y_true, y_pred):\n",
        "    true_positives = K.sum(K.round(K.clip(y_true * y_pred, 0, 1)))\n",
        "    possible_positives = K.sum(K.round(K.clip(y_true, 0, 1)))\n",
        "    recall = true_positives / (possible_positives + K.epsilon())\n",
        "    return recall\n",
        "\n",
        "def precision_m(y_true, y_pred):\n",
        "    true_positives = K.sum(K.round(K.clip(y_true * y_pred, 0, 1)))\n",
        "    predicted_positives = K.sum(K.round(K.clip(y_pred, 0, 1)))\n",
        "    precision = true_positives / (predicted_positives + K.epsilon())\n",
        "    return precision\n",
        "\n",
        "def f1_m(y_true, y_pred):\n",
        "    precision = precision_m(y_true, y_pred)\n",
        "    recall = recall_m(y_true, y_pred)\n",
        "    return 2 * ((precision * recall) / (precision + recall + K.epsilon()))"
      ]
    },
    {
      "cell_type": "markdown",
      "id": "bf42d245",
      "metadata": {
        "id": "bf42d245"
      },
      "source": [
        "- **모델 학습**"
      ]
    },
    {
      "cell_type": "code",
      "execution_count": 7,
      "id": "21888c53",
      "metadata": {
        "id": "21888c53"
      },
      "outputs": [],
      "source": [
        "def train_model(model, data):\n",
        "    x_train, y_train, x_val, y_val = data[0], data[1], data[2], data[3]\n",
        "    x_test, y_test = data[4], data[5]\n",
        "    \n",
        "    es = EarlyStopping(monitor = 'val_loss', mode = 'min', verbose = 1, patience = 4)\n",
        "    history = model.fit(x_train, y_train, epochs = 30, batch_size = 64, verbose = 1, validation_data = (x_val, y_val), callbacks = es)\n",
        "    \n",
        "    test_data = model.evaluate(x_test, y_test)\n",
        "\n",
        "    print('\\n\\n\\n<학습 결과>')\n",
        "    print('Loss:', round(test_data[0], 3))\n",
        "    print('Accuracy:', round(test_data[1], 3))\n",
        "    print('F1-Score:', round(test_data[2], 3))\n",
        "    return history"
      ]
    },
    {
      "cell_type": "code",
      "execution_count": 14,
      "id": "23945418",
      "metadata": {
        "scrolled": false,
        "colab": {
          "base_uri": "https://localhost:8080/"
        },
        "id": "23945418",
        "outputId": "16afd20d-9665-4724-c8f8-866c31ff3a56"
      },
      "outputs": [
        {
          "output_type": "stream",
          "name": "stdout",
          "text": [
            "Model: \"sequential_5\"\n",
            "_________________________________________________________________\n",
            " Layer (type)                Output Shape              Param #   \n",
            "=================================================================\n",
            " embedding_5 (Embedding)     (None, None, 128)         3965696   \n",
            "                                                                 \n",
            " conv1d_10 (Conv1D)          (None, None, 256)         1048832   \n",
            "                                                                 \n",
            " max_pooling1d_5 (MaxPooling  (None, None, 256)        0         \n",
            " 1D)                                                             \n",
            "                                                                 \n",
            " dropout_10 (Dropout)        (None, None, 256)         0         \n",
            "                                                                 \n",
            " conv1d_11 (Conv1D)          (None, None, 256)         2097408   \n",
            "                                                                 \n",
            " global_max_pooling1d_5 (Glo  (None, 256)              0         \n",
            " balMaxPooling1D)                                                \n",
            "                                                                 \n",
            " dropout_11 (Dropout)        (None, 256)               0         \n",
            "                                                                 \n",
            " dense_5 (Dense)             (None, 46)                11822     \n",
            "                                                                 \n",
            "=================================================================\n",
            "Total params: 7,123,758\n",
            "Trainable params: 7,123,758\n",
            "Non-trainable params: 0\n",
            "_________________________________________________________________\n",
            "Epoch 1/30\n",
            "113/113 [==============================] - 404s 4s/step - loss: 1.9317 - accuracy: 0.5134 - f1_m: 0.4911 - val_loss: 1.4310 - val_accuracy: 0.6539 - val_f1_m: 0.6674\n",
            "Epoch 2/30\n",
            "113/113 [==============================] - 387s 3s/step - loss: 1.1443 - accuracy: 0.7207 - f1_m: 0.7524 - val_loss: 1.1932 - val_accuracy: 0.7140 - val_f1_m: 0.7195\n",
            "Epoch 3/30\n",
            "113/113 [==============================] - 383s 3s/step - loss: 0.7535 - accuracy: 0.8127 - f1_m: 0.8300 - val_loss: 1.1335 - val_accuracy: 0.7446 - val_f1_m: 0.7471\n",
            "Epoch 4/30\n",
            "113/113 [==============================] - 382s 3s/step - loss: 0.5043 - accuracy: 0.8707 - f1_m: 0.8798 - val_loss: 1.1993 - val_accuracy: 0.7613 - val_f1_m: 0.7598\n",
            "Epoch 5/30\n",
            "113/113 [==============================] - 381s 3s/step - loss: 0.3563 - accuracy: 0.9102 - f1_m: 0.9142 - val_loss: 1.2851 - val_accuracy: 0.7657 - val_f1_m: 0.7593\n",
            "Epoch 6/30\n",
            "113/113 [==============================] - 383s 3s/step - loss: 0.2619 - accuracy: 0.9336 - f1_m: 0.9351 - val_loss: 1.2842 - val_accuracy: 0.7663 - val_f1_m: 0.7641\n",
            "Epoch 7/30\n",
            "113/113 [==============================] - 384s 3s/step - loss: 0.2223 - accuracy: 0.9441 - f1_m: 0.9438 - val_loss: 1.3594 - val_accuracy: 0.7679 - val_f1_m: 0.7640\n",
            "Epoch 7: early stopping\n",
            "71/71 [==============================] - 27s 374ms/step - loss: 1.3828 - accuracy: 0.7582 - f1_m: 0.7649\n",
            "\n",
            "\n",
            "\n",
            "<학습 결과>\n",
            "Loss: 1.383\n",
            "Accuracy: 0.758\n",
            "F1-Score: 0.765\n"
          ]
        },
        {
          "output_type": "execute_result",
          "data": {
            "text/plain": [
              "<keras.callbacks.History at 0x7f6848dca150>"
            ]
          },
          "metadata": {},
          "execution_count": 14
        }
      ],
      "source": [
        "model = get_dnn(30982)\n",
        "train_model(model, DL)"
      ]
    },
    {
      "cell_type": "code",
      "execution_count": 15,
      "id": "e4beafe8",
      "metadata": {
        "colab": {
          "base_uri": "https://localhost:8080/"
        },
        "id": "e4beafe8",
        "outputId": "9ad4d2e4-19cc-46e6-c404-cb01d71962c9"
      },
      "outputs": [
        {
          "output_type": "stream",
          "name": "stdout",
          "text": [
            "Model: \"sequential_6\"\n",
            "_________________________________________________________________\n",
            " Layer (type)                Output Shape              Param #   \n",
            "=================================================================\n",
            " embedding_6 (Embedding)     (None, None, 128)         1280000   \n",
            "                                                                 \n",
            " conv1d_12 (Conv1D)          (None, None, 256)         1048832   \n",
            "                                                                 \n",
            " max_pooling1d_6 (MaxPooling  (None, None, 256)        0         \n",
            " 1D)                                                             \n",
            "                                                                 \n",
            " dropout_12 (Dropout)        (None, None, 256)         0         \n",
            "                                                                 \n",
            " conv1d_13 (Conv1D)          (None, None, 256)         2097408   \n",
            "                                                                 \n",
            " global_max_pooling1d_6 (Glo  (None, 256)              0         \n",
            " balMaxPooling1D)                                                \n",
            "                                                                 \n",
            " dropout_13 (Dropout)        (None, 256)               0         \n",
            "                                                                 \n",
            " dense_6 (Dense)             (None, 46)                11822     \n",
            "                                                                 \n",
            "=================================================================\n",
            "Total params: 4,438,062\n",
            "Trainable params: 4,438,062\n",
            "Non-trainable params: 0\n",
            "_________________________________________________________________\n",
            "Epoch 1/30\n",
            "113/113 [==============================] - 383s 3s/step - loss: 1.8957 - accuracy: 0.5342 - f1_m: 0.5268 - val_loss: 1.4138 - val_accuracy: 0.6566 - val_f1_m: 0.6650\n",
            "Epoch 2/30\n",
            "113/113 [==============================] - 385s 3s/step - loss: 1.1834 - accuracy: 0.7005 - f1_m: 0.7343 - val_loss: 1.2123 - val_accuracy: 0.7056 - val_f1_m: 0.7347\n",
            "Epoch 3/30\n",
            "113/113 [==============================] - 383s 3s/step - loss: 0.7870 - accuracy: 0.7965 - f1_m: 0.8156 - val_loss: 1.1392 - val_accuracy: 0.7507 - val_f1_m: 0.7584\n",
            "Epoch 4/30\n",
            "113/113 [==============================] - 384s 3s/step - loss: 0.5469 - accuracy: 0.8562 - f1_m: 0.8673 - val_loss: 1.2204 - val_accuracy: 0.7485 - val_f1_m: 0.7513\n",
            "Epoch 5/30\n",
            "113/113 [==============================] - 386s 3s/step - loss: 0.4064 - accuracy: 0.8967 - f1_m: 0.8972 - val_loss: 1.2385 - val_accuracy: 0.7635 - val_f1_m: 0.7534\n",
            "Epoch 6/30\n",
            "113/113 [==============================] - 385s 3s/step - loss: 0.2953 - accuracy: 0.9264 - f1_m: 0.9265 - val_loss: 1.3252 - val_accuracy: 0.7624 - val_f1_m: 0.7686\n",
            "Epoch 7/30\n",
            "113/113 [==============================] - 384s 3s/step - loss: 0.2350 - accuracy: 0.9425 - f1_m: 0.9416 - val_loss: 1.3248 - val_accuracy: 0.7746 - val_f1_m: 0.7671\n",
            "Epoch 7: early stopping\n",
            "71/71 [==============================] - 27s 380ms/step - loss: 1.3290 - accuracy: 0.7716 - f1_m: 0.7805\n",
            "\n",
            "\n",
            "\n",
            "<학습 결과>\n",
            "Loss: 1.329\n",
            "Accuracy: 0.772\n",
            "F1-Score: 0.78\n"
          ]
        },
        {
          "output_type": "execute_result",
          "data": {
            "text/plain": [
              "<keras.callbacks.History at 0x7f6850603a90>"
            ]
          },
          "metadata": {},
          "execution_count": 15
        }
      ],
      "source": [
        "model = get_dnn(10000)\n",
        "train_model(model, DL_1M)"
      ]
    },
    {
      "cell_type": "code",
      "execution_count": 16,
      "id": "f7a8cb56",
      "metadata": {
        "colab": {
          "base_uri": "https://localhost:8080/"
        },
        "id": "f7a8cb56",
        "outputId": "61484d35-44e1-4898-b316-5e0fe698d8f9"
      },
      "outputs": [
        {
          "output_type": "stream",
          "name": "stdout",
          "text": [
            "Model: \"sequential_7\"\n",
            "_________________________________________________________________\n",
            " Layer (type)                Output Shape              Param #   \n",
            "=================================================================\n",
            " embedding_7 (Embedding)     (None, None, 128)         640000    \n",
            "                                                                 \n",
            " conv1d_14 (Conv1D)          (None, None, 256)         1048832   \n",
            "                                                                 \n",
            " max_pooling1d_7 (MaxPooling  (None, None, 256)        0         \n",
            " 1D)                                                             \n",
            "                                                                 \n",
            " dropout_14 (Dropout)        (None, None, 256)         0         \n",
            "                                                                 \n",
            " conv1d_15 (Conv1D)          (None, None, 256)         2097408   \n",
            "                                                                 \n",
            " global_max_pooling1d_7 (Glo  (None, 256)              0         \n",
            " balMaxPooling1D)                                                \n",
            "                                                                 \n",
            " dropout_15 (Dropout)        (None, 256)               0         \n",
            "                                                                 \n",
            " dense_7 (Dense)             (None, 46)                11822     \n",
            "                                                                 \n",
            "=================================================================\n",
            "Total params: 3,798,062\n",
            "Trainable params: 3,798,062\n",
            "Non-trainable params: 0\n",
            "_________________________________________________________________\n",
            "Epoch 1/30\n",
            "113/113 [==============================] - 391s 3s/step - loss: 1.9383 - accuracy: 0.5150 - f1_m: 0.4940 - val_loss: 1.4309 - val_accuracy: 0.6411 - val_f1_m: 0.6726\n",
            "Epoch 2/30\n",
            "113/113 [==============================] - 390s 3s/step - loss: 1.2182 - accuracy: 0.7058 - f1_m: 0.7295 - val_loss: 1.1639 - val_accuracy: 0.7212 - val_f1_m: 0.7408\n",
            "Epoch 3/30\n",
            "113/113 [==============================] - 388s 3s/step - loss: 0.8261 - accuracy: 0.7915 - f1_m: 0.8105 - val_loss: 1.0990 - val_accuracy: 0.7490 - val_f1_m: 0.7672\n",
            "Epoch 4/30\n",
            "113/113 [==============================] - 393s 3s/step - loss: 0.5692 - accuracy: 0.8519 - f1_m: 0.8634 - val_loss: 1.0924 - val_accuracy: 0.7624 - val_f1_m: 0.7608\n",
            "Epoch 5/30\n",
            "113/113 [==============================] - 391s 3s/step - loss: 0.4273 - accuracy: 0.8916 - f1_m: 0.8916 - val_loss: 1.2134 - val_accuracy: 0.7741 - val_f1_m: 0.7698\n",
            "Epoch 6/30\n",
            "113/113 [==============================] - 378s 3s/step - loss: 0.3400 - accuracy: 0.9138 - f1_m: 0.9129 - val_loss: 1.3825 - val_accuracy: 0.7585 - val_f1_m: 0.7637\n",
            "Epoch 7/30\n",
            "113/113 [==============================] - 379s 3s/step - loss: 0.2761 - accuracy: 0.9272 - f1_m: 0.9289 - val_loss: 1.3461 - val_accuracy: 0.7702 - val_f1_m: 0.7681\n",
            "Epoch 8/30\n",
            "113/113 [==============================] - 375s 3s/step - loss: 0.2359 - accuracy: 0.9370 - f1_m: 0.9362 - val_loss: 1.3664 - val_accuracy: 0.7646 - val_f1_m: 0.7668\n",
            "Epoch 8: early stopping\n",
            "71/71 [==============================] - 28s 389ms/step - loss: 1.3674 - accuracy: 0.7698 - f1_m: 0.7788\n",
            "\n",
            "\n",
            "\n",
            "<학습 결과>\n",
            "Loss: 1.367\n",
            "Accuracy: 0.77\n",
            "F1-Score: 0.779\n"
          ]
        },
        {
          "output_type": "execute_result",
          "data": {
            "text/plain": [
              "<keras.callbacks.History at 0x7f6850016f90>"
            ]
          },
          "metadata": {},
          "execution_count": 16
        }
      ],
      "source": [
        "model = get_dnn(5000)\n",
        "train_model(model, DL_5T)"
      ]
    },
    {
      "cell_type": "code",
      "execution_count": 17,
      "id": "296254af",
      "metadata": {
        "colab": {
          "base_uri": "https://localhost:8080/"
        },
        "id": "296254af",
        "outputId": "67fc4860-3b07-4a4e-ec06-ee3e6dbb1ad8"
      },
      "outputs": [
        {
          "output_type": "stream",
          "name": "stdout",
          "text": [
            "Model: \"sequential_8\"\n",
            "_________________________________________________________________\n",
            " Layer (type)                Output Shape              Param #   \n",
            "=================================================================\n",
            " embedding_8 (Embedding)     (None, None, 128)         384000    \n",
            "                                                                 \n",
            " conv1d_16 (Conv1D)          (None, None, 256)         1048832   \n",
            "                                                                 \n",
            " max_pooling1d_8 (MaxPooling  (None, None, 256)        0         \n",
            " 1D)                                                             \n",
            "                                                                 \n",
            " dropout_16 (Dropout)        (None, None, 256)         0         \n",
            "                                                                 \n",
            " conv1d_17 (Conv1D)          (None, None, 256)         2097408   \n",
            "                                                                 \n",
            " global_max_pooling1d_8 (Glo  (None, 256)              0         \n",
            " balMaxPooling1D)                                                \n",
            "                                                                 \n",
            " dropout_17 (Dropout)        (None, 256)               0         \n",
            "                                                                 \n",
            " dense_8 (Dense)             (None, 46)                11822     \n",
            "                                                                 \n",
            "=================================================================\n",
            "Total params: 3,542,062\n",
            "Trainable params: 3,542,062\n",
            "Non-trainable params: 0\n",
            "_________________________________________________________________\n",
            "Epoch 1/30\n",
            "113/113 [==============================] - 375s 3s/step - loss: 1.8899 - accuracy: 0.5332 - f1_m: 0.5376 - val_loss: 1.4154 - val_accuracy: 0.6589 - val_f1_m: 0.6804\n",
            "Epoch 2/30\n",
            "113/113 [==============================] - 373s 3s/step - loss: 1.1616 - accuracy: 0.7225 - f1_m: 0.7404 - val_loss: 1.1508 - val_accuracy: 0.7279 - val_f1_m: 0.7395\n",
            "Epoch 3/30\n",
            "113/113 [==============================] - 374s 3s/step - loss: 0.8381 - accuracy: 0.7868 - f1_m: 0.8069 - val_loss: 1.1275 - val_accuracy: 0.7490 - val_f1_m: 0.7525\n",
            "Epoch 4/30\n",
            "113/113 [==============================] - 373s 3s/step - loss: 0.6440 - accuracy: 0.8362 - f1_m: 0.8450 - val_loss: 1.1108 - val_accuracy: 0.7585 - val_f1_m: 0.7608\n",
            "Epoch 5/30\n",
            "113/113 [==============================] - 374s 3s/step - loss: 0.4826 - accuracy: 0.8703 - f1_m: 0.8785 - val_loss: 1.1638 - val_accuracy: 0.7724 - val_f1_m: 0.7725\n",
            "Epoch 6/30\n",
            "113/113 [==============================] - 373s 3s/step - loss: 0.3912 - accuracy: 0.8987 - f1_m: 0.8993 - val_loss: 1.2109 - val_accuracy: 0.7607 - val_f1_m: 0.7638\n",
            "Epoch 7/30\n",
            "113/113 [==============================] - 373s 3s/step - loss: 0.3127 - accuracy: 0.9254 - f1_m: 0.9227 - val_loss: 1.2069 - val_accuracy: 0.7730 - val_f1_m: 0.7743\n",
            "Epoch 8/30\n",
            "113/113 [==============================] - 371s 3s/step - loss: 0.2682 - accuracy: 0.9326 - f1_m: 0.9336 - val_loss: 1.2945 - val_accuracy: 0.7663 - val_f1_m: 0.7640\n",
            "Epoch 8: early stopping\n",
            "71/71 [==============================] - 27s 378ms/step - loss: 1.3054 - accuracy: 0.7493 - f1_m: 0.7623\n",
            "\n",
            "\n",
            "\n",
            "<학습 결과>\n",
            "Loss: 1.305\n",
            "Accuracy: 0.749\n",
            "F1-Score: 0.762\n"
          ]
        },
        {
          "output_type": "execute_result",
          "data": {
            "text/plain": [
              "<keras.callbacks.History at 0x7f684ed25990>"
            ]
          },
          "metadata": {},
          "execution_count": 17
        }
      ],
      "source": [
        "model = get_dnn(3000)\n",
        "train_model(model, DL_3T)"
      ]
    },
    {
      "cell_type": "code",
      "execution_count": 18,
      "id": "19ed164c",
      "metadata": {
        "scrolled": true,
        "colab": {
          "base_uri": "https://localhost:8080/"
        },
        "id": "19ed164c",
        "outputId": "f9241818-8422-41fe-b83a-f9d777e659dc"
      },
      "outputs": [
        {
          "output_type": "stream",
          "name": "stdout",
          "text": [
            "Model: \"sequential_9\"\n",
            "_________________________________________________________________\n",
            " Layer (type)                Output Shape              Param #   \n",
            "=================================================================\n",
            " embedding_9 (Embedding)     (None, None, 128)         128000    \n",
            "                                                                 \n",
            " conv1d_18 (Conv1D)          (None, None, 256)         1048832   \n",
            "                                                                 \n",
            " max_pooling1d_9 (MaxPooling  (None, None, 256)        0         \n",
            " 1D)                                                             \n",
            "                                                                 \n",
            " dropout_18 (Dropout)        (None, None, 256)         0         \n",
            "                                                                 \n",
            " conv1d_19 (Conv1D)          (None, None, 256)         2097408   \n",
            "                                                                 \n",
            " global_max_pooling1d_9 (Glo  (None, 256)              0         \n",
            " balMaxPooling1D)                                                \n",
            "                                                                 \n",
            " dropout_19 (Dropout)        (None, 256)               0         \n",
            "                                                                 \n",
            " dense_9 (Dense)             (None, 46)                11822     \n",
            "                                                                 \n",
            "=================================================================\n",
            "Total params: 3,286,062\n",
            "Trainable params: 3,286,062\n",
            "Non-trainable params: 0\n",
            "_________________________________________________________________\n",
            "Epoch 1/30\n",
            "113/113 [==============================] - 372s 3s/step - loss: 1.9690 - accuracy: 0.5205 - f1_m: 0.5019 - val_loss: 1.4912 - val_accuracy: 0.6361 - val_f1_m: 0.6678\n",
            "Epoch 2/30\n",
            "113/113 [==============================] - 373s 3s/step - loss: 1.2595 - accuracy: 0.6927 - f1_m: 0.7138 - val_loss: 1.1723 - val_accuracy: 0.7323 - val_f1_m: 0.7294\n",
            "Epoch 3/30\n",
            "113/113 [==============================] - 372s 3s/step - loss: 0.9971 - accuracy: 0.7614 - f1_m: 0.7688 - val_loss: 1.0751 - val_accuracy: 0.7535 - val_f1_m: 0.7544\n",
            "Epoch 4/30\n",
            "113/113 [==============================] - 373s 3s/step - loss: 0.8258 - accuracy: 0.7950 - f1_m: 0.8041 - val_loss: 1.0905 - val_accuracy: 0.7457 - val_f1_m: 0.7500\n",
            "Epoch 5/30\n",
            "113/113 [==============================] - 373s 3s/step - loss: 0.6724 - accuracy: 0.8299 - f1_m: 0.8340 - val_loss: 1.0381 - val_accuracy: 0.7596 - val_f1_m: 0.7676\n",
            "Epoch 6/30\n",
            "113/113 [==============================] - 373s 3s/step - loss: 0.5446 - accuracy: 0.8600 - f1_m: 0.8644 - val_loss: 1.1356 - val_accuracy: 0.7529 - val_f1_m: 0.7610\n",
            "Epoch 7/30\n",
            "113/113 [==============================] - 374s 3s/step - loss: 0.4519 - accuracy: 0.8856 - f1_m: 0.8855 - val_loss: 1.0938 - val_accuracy: 0.7702 - val_f1_m: 0.7774\n",
            "Epoch 8/30\n",
            "113/113 [==============================] - 374s 3s/step - loss: 0.3412 - accuracy: 0.9164 - f1_m: 0.9148 - val_loss: 1.1509 - val_accuracy: 0.7668 - val_f1_m: 0.7718\n",
            "Epoch 9/30\n",
            "113/113 [==============================] - 373s 3s/step - loss: 0.2784 - accuracy: 0.9338 - f1_m: 0.9311 - val_loss: 1.1846 - val_accuracy: 0.7585 - val_f1_m: 0.7688\n",
            "Epoch 9: early stopping\n",
            "71/71 [==============================] - 27s 373ms/step - loss: 1.2216 - accuracy: 0.7542 - f1_m: 0.7708\n",
            "\n",
            "\n",
            "\n",
            "<학습 결과>\n",
            "Loss: 1.222\n",
            "Accuracy: 0.754\n",
            "F1-Score: 0.771\n"
          ]
        },
        {
          "output_type": "execute_result",
          "data": {
            "text/plain": [
              "<keras.callbacks.History at 0x7f684f8f1550>"
            ]
          },
          "metadata": {},
          "execution_count": 18
        }
      ],
      "source": [
        "model = get_dnn(1000)\n",
        "train_model(model, DL_1T)"
      ]
    },
    {
      "cell_type": "code",
      "execution_count": 39,
      "id": "b4de7e9c",
      "metadata": {
        "id": "b4de7e9c"
      },
      "outputs": [],
      "source": [
        "DNN_accuracy_result = [0.758, 0.772, 0.770, 0.749, 0.754]\n",
        "DNN_f1_weight_result = [0.765, 0.78, 0.779, 0.762, 0.771]"
      ]
    },
    {
      "cell_type": "code",
      "execution_count": 40,
      "id": "5b3e07f9",
      "metadata": {
        "colab": {
          "base_uri": "https://localhost:8080/",
          "height": 200
        },
        "id": "5b3e07f9",
        "outputId": "462daf89-ce89-49bf-8c5b-5057fa2e6184"
      },
      "outputs": [
        {
          "output_type": "display_data",
          "data": {
            "text/plain": [
              "<Figure size 576x180 with 1 Axes>"
            ],
            "image/png": "[encoded data removed]"
          },
          "metadata": {
            "needs_background": "light"
          }
        }
      ],
      "source": [
        "draw_result('DNN(1D Convolution)', DNN_accuracy_result, DNN_f1_weight_result)"
      ]
    },
    {
      "cell_type": "markdown",
      "id": "61322463",
      "metadata": {
        "id": "61322463"
      },
      "source": [
        "## **4. 전체 학습 결과 평가 비교**"
      ]
    },
    {
      "cell_type": "code",
      "execution_count": 59,
      "id": "355b02cb",
      "metadata": {
        "id": "355b02cb"
      },
      "outputs": [],
      "source": [
        "def draw_all_result(title, NB, CNB, LR, SVM, DT, RF, GBC, Voting, DNN):\n",
        "    plt.figure(figsize = (8, 5))\n",
        "    plt.grid(True)\n",
        "    plt.title(f'{title}')\n",
        "    plt.plot(label_num, NB, color = '#78DB39', label = 'Multinomial Naive Bayes Classifier')\n",
        "    plt.plot(label_num, CNB, color = '#00FFFF', label = 'Complement Naive Bayes Classifier')\n",
        "    plt.plot(label_num, LR, color = '#FFCC33', label = 'Logistic Regression')\n",
        "    plt.plot(label_num, SVM, color = '#5E38C1', label = 'Linear Support Vector Machine')\n",
        "    plt.plot(label_num, DT, color = '#FC8B27', label = 'Decision Tree')\n",
        "    plt.plot(label_num, RF, color = '#E7398E', label = 'Random Forest')\n",
        "    plt.plot(label_num, GBC, color = '#009C82', label = 'GradientBoostingClassifier')\n",
        "    plt.plot(label_num, Voting, color = '#B918C6', label = 'Voting')\n",
        "    plt.plot(label_num, DNN, color = '#FF4040', label = 'DNN(1D Convolution)')\n",
        "    plt.legend(bbox_to_anchor = (1, 1))\n",
        "    plt.show()"
      ]
    },
    {
      "cell_type": "code",
      "execution_count": 60,
      "id": "6a85a6e3",
      "metadata": {
        "colab": {
          "base_uri": "https://localhost:8080/",
          "height": 336
        },
        "id": "6a85a6e3",
        "outputId": "a6f12db6-1c3f-4802-aa77-08c5304af8c1"
      },
      "outputs": [
        {
          "output_type": "display_data",
          "data": {
            "text/plain": [
              "<Figure size 576x360 with 1 Axes>"
            ],
            "image/png": "[encoded data removed]"
          },
          "metadata": {
            "needs_background": "light"
          }
        }
      ],
      "source": [
        "draw_all_result('Accuracy', NB_accuracy_result, CNB_accuracy_result, LR_accuracy_result, SVM_accuracy_result, \n",
        "                DT_accuracy_result, RF_accuracy_result, GBC_accuracy_result, Voting_accuracy_result, DNN_accuracy_result)"
      ]
    },
    {
      "cell_type": "code",
      "execution_count": 61,
      "id": "35069d52",
      "metadata": {
        "colab": {
          "base_uri": "https://localhost:8080/",
          "height": 336
        },
        "id": "35069d52",
        "outputId": "97a0dbac-9290-46ed-889b-83c3b717096a"
      },
      "outputs": [
        {
          "output_type": "display_data",
          "data": {
            "text/plain": [
              "<Figure size 576x360 with 1 Axes>"
            ],
            "image/png": "[encoded data removed]"
          },
          "metadata": {
            "needs_background": "light"
          }
        }
      ],
      "source": [
        "draw_all_result('F1-Score', NB_f1_weight_result, CNB_f1_weight_result, LR_f1_weight_result, SVM_f1_weight_result, \n",
        "                DT_f1_weight_result, RF_f1_weight_result, GBC_f1_weight_result, Voting_f1_weight_result, DNN_f1_weight_result)"
      ]
    },
    {
      "cell_type": "markdown",
      "id": "af9d1910",
      "metadata": {
        "id": "af9d1910"
      },
      "source": [
        "---"
      ]
    },
    {
      "cell_type": "markdown",
      "id": "7b01ebdb",
      "metadata": {
        "id": "7b01ebdb"
      },
      "source": [
        "## **5. 회고**"
      ]
    },
    {
      "cell_type": "markdown",
      "id": "d22ea160",
      "metadata": {
        "id": "d22ea160"
      },
      "source": [
        "벡터화, 모델 등 동일한 작업을 진행하는 경우가 많아 학습 함수를 만들고 싶었으나 혼자서는 제대로 구동되게 만들지 못한 경우가 있어 아래의 페이지를 참고했다. 오히려 이번 학습의 경우에는 이론 부분에서 수식 부분에서 많은 애를 먹었는데, 오히려 실습 부분에서는 크게 오류 없이 잘 진행되어서 내가 직접 코드를 진행해보는 시간이 되었던 것 같다. 이번에는 동일한 조건을 가진 경우를 다양한 모델으로 비교하는 시간이었기 때문에 함수를 사용하는 것이 큰 도움이 되겠다는 판단이 들어 함수를 제작하려는 시도를 많이 해보려 노력했는데, 아직 코딩 실력이 부족한 관계로 함수에 대한 이해가 부족한 것 같다. 함수를 사용하면 확실히 코드가 깔끔하고 더 사용하기 좋기 때문에 함수를 잘 짜는 것이 중요하다는 생각이 들어 파이썬 공부를 좀 더 해야겠다는 생각이 들었다."
      ]
    }
  ],
  "metadata": {
    "kernelspec": {
      "display_name": "Python 3 (ipykernel)",
      "language": "python",
      "name": "python3"
    },
    "language_info": {
      "codemirror_mode": {
        "name": "ipython",
        "version": 3
      },
      "file_extension": ".py",
      "mimetype": "text/x-python",
      "name": "python",
      "nbconvert_exporter": "python",
      "pygments_lexer": "ipython3",
      "version": "3.9.0"
    },
    "colab": {
      "name": "[GD-04]nlp.ipynb",
      "provenance": [],
      "collapsed_sections": [
        "b34dfaed",
        "1d7493c0",
        "38288ef0",
        "08256c9d",
        "c454e581",
        "50a22953",
        "65075d5b"
      ],
      "include_colab_link": true
    }
  },
  "nbformat": 4,
  "nbformat_minor": 5
}