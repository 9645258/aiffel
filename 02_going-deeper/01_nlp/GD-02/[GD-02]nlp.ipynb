{
  "cells": [
    {
      "cell_type": "markdown",
      "metadata": {
        "id": "view-in-github",
        "colab_type": "text"
      },
      "source": [
        "<a href=\"https://colab.research.google.com/github/9645258/aiffel/blob/main/02_going-deeper/01_nlp/GD-02/%5BGD-02%5Dnlp.ipynb\" target=\"_parent\"><img src=\"https://colab.research.google.com/assets/colab-badge.svg\" alt=\"Open In Colab\"/></a>"
      ]
    },
    {
      "cell_type": "markdown",
      "id": "672729ab",
      "metadata": {
        "id": "672729ab"
      },
      "source": [
        "# **GD NLP 02 : 멋진 단어사전 만들기**"
      ]
    },
    {
      "cell_type": "markdown",
      "id": "8f45106f",
      "metadata": {
        "id": "8f45106f"
      },
      "source": [
        "---"
      ]
    },
    {
      "cell_type": "markdown",
      "id": "030c7f0c",
      "metadata": {
        "id": "030c7f0c"
      },
      "source": [
        "# 1. SentencePiece 사용하기"
      ]
    },
    {
      "cell_type": "markdown",
      "id": "94bd8d48",
      "metadata": {
        "id": "94bd8d48"
      },
      "source": [
        "## 1-1. 데이터 준비"
      ]
    },
    {
      "cell_type": "markdown",
      "id": "5929e320",
      "metadata": {
        "id": "5929e320"
      },
      "source": [
        "### 1-1-1. 라이브러리 Import"
      ]
    },
    {
      "cell_type": "code",
      "execution_count": null,
      "id": "c955e097",
      "metadata": {
        "id": "c955e097"
      },
      "outputs": [],
      "source": [
        "import os\n",
        "import re\n",
        "import konlpy\n",
        "import numpy as np\n",
        "import pandas as pd\n",
        "import tensorflow as tf\n",
        "import matplotlib.pyplot as plt\n",
        "import sentencepiece as spm\n",
        "\n",
        "from konlpy.tag import Kkma\n",
        "from tensorflow import keras\n",
        "from tensorflow.keras.models import load_model\n",
        "from tensorflow.keras.initializers import Constant\n",
        "from sklearn.model_selection import train_test_split\n",
        "from tensorflow.keras.callbacks import EarlyStopping, ModelCheckpoint\n",
        "\n",
        "%matplotlib inline"
      ]
    },
    {
      "cell_type": "markdown",
      "id": "1bca34c7",
      "metadata": {
        "id": "1bca34c7"
      },
      "source": [
        "### 1-1-2. 데이터 Import"
      ]
    },
    {
      "cell_type": "code",
      "execution_count": null,
      "id": "215a5d4f",
      "metadata": {
        "id": "215a5d4f"
      },
      "outputs": [],
      "source": [
        "train_data = pd.read_table('C:/Users/96452/00_work/NLP-02/data/ratings_train.txt')\n",
        "test_data = pd.read_table('C:/Users/96452/00_work/NLP-02/data/ratings_test.txt')\n",
        "temp_data = 'C:/Users/96452/00_work/NLP-02/data/korean-english-park.train.ko.temp'"
      ]
    },
    {
      "cell_type": "markdown",
      "id": "774bb017",
      "metadata": {
        "id": "774bb017"
      },
      "source": [
        "## 1-2. 데이터 형태 확인"
      ]
    },
    {
      "cell_type": "markdown",
      "id": "9413d936",
      "metadata": {
        "id": "9413d936"
      },
      "source": [
        "### 1-2-1. 기본 데이터 형태 확인"
      ]
    },
    {
      "cell_type": "markdown",
      "id": "c1c9df94",
      "metadata": {
        "id": "c1c9df94"
      },
      "source": [
        "- **train_data 데이터 확인**  \n",
        "\n",
        "    **데이터 수**  \n",
        "    총 15,000개\n",
        "    \n",
        "    **컬럼 수**  \n",
        "    총 3개 (id, document, label)  "
      ]
    },
    {
      "cell_type": "code",
      "execution_count": null,
      "id": "7e03b733",
      "metadata": {
        "scrolled": true,
        "id": "7e03b733",
        "outputId": "911438ec-a0fe-4b6d-de1a-69cae5b5d9f4"
      },
      "outputs": [
        {
          "data": {
            "text/html": [
              "<div>\n",
              "<style scoped>\n",
              "    .dataframe tbody tr th:only-of-type {\n",
              "        vertical-align: middle;\n",
              "    }\n",
              "\n",
              "    .dataframe tbody tr th {\n",
              "        vertical-align: top;\n",
              "    }\n",
              "\n",
              "    .dataframe thead th {\n",
              "        text-align: right;\n",
              "    }\n",
              "</style>\n",
              "<table border=\"1\" class=\"dataframe\">\n",
              "  <thead>\n",
              "    <tr style=\"text-align: right;\">\n",
              "      <th></th>\n",
              "      <th>id</th>\n",
              "      <th>document</th>\n",
              "      <th>label</th>\n",
              "    </tr>\n",
              "  </thead>\n",
              "  <tbody>\n",
              "    <tr>\n",
              "      <th>0</th>\n",
              "      <td>9976970</td>\n",
              "      <td>아 더빙.. 진짜 짜증나네요 목소리</td>\n",
              "      <td>0</td>\n",
              "    </tr>\n",
              "    <tr>\n",
              "      <th>1</th>\n",
              "      <td>3819312</td>\n",
              "      <td>흠...포스터보고 초딩영화줄....오버연기조차 가볍지 않구나</td>\n",
              "      <td>1</td>\n",
              "    </tr>\n",
              "    <tr>\n",
              "      <th>2</th>\n",
              "      <td>10265843</td>\n",
              "      <td>너무재밓었다그래서보는것을추천한다</td>\n",
              "      <td>0</td>\n",
              "    </tr>\n",
              "    <tr>\n",
              "      <th>3</th>\n",
              "      <td>9045019</td>\n",
              "      <td>교도소 이야기구먼 ..솔직히 재미는 없다..평점 조정</td>\n",
              "      <td>0</td>\n",
              "    </tr>\n",
              "    <tr>\n",
              "      <th>4</th>\n",
              "      <td>6483659</td>\n",
              "      <td>사이몬페그의 익살스런 연기가 돋보였던 영화!스파이더맨에서 늙어보이기만 했던 커스틴 ...</td>\n",
              "      <td>1</td>\n",
              "    </tr>\n",
              "    <tr>\n",
              "      <th>...</th>\n",
              "      <td>...</td>\n",
              "      <td>...</td>\n",
              "      <td>...</td>\n",
              "    </tr>\n",
              "    <tr>\n",
              "      <th>149995</th>\n",
              "      <td>6222902</td>\n",
              "      <td>인간이 문제지.. 소는 뭔죄인가..</td>\n",
              "      <td>0</td>\n",
              "    </tr>\n",
              "    <tr>\n",
              "      <th>149996</th>\n",
              "      <td>8549745</td>\n",
              "      <td>평점이 너무 낮아서...</td>\n",
              "      <td>1</td>\n",
              "    </tr>\n",
              "    <tr>\n",
              "      <th>149997</th>\n",
              "      <td>9311800</td>\n",
              "      <td>이게 뭐요? 한국인은 거들먹거리고 필리핀 혼혈은 착하다?</td>\n",
              "      <td>0</td>\n",
              "    </tr>\n",
              "    <tr>\n",
              "      <th>149998</th>\n",
              "      <td>2376369</td>\n",
              "      <td>청춘 영화의 최고봉.방황과 우울했던 날들의 자화상</td>\n",
              "      <td>1</td>\n",
              "    </tr>\n",
              "    <tr>\n",
              "      <th>149999</th>\n",
              "      <td>9619869</td>\n",
              "      <td>한국 영화 최초로 수간하는 내용이 담긴 영화</td>\n",
              "      <td>0</td>\n",
              "    </tr>\n",
              "  </tbody>\n",
              "</table>\n",
              "<p>150000 rows × 3 columns</p>\n",
              "</div>"
            ],
            "text/plain": [
              "              id                                           document  label\n",
              "0        9976970                                아 더빙.. 진짜 짜증나네요 목소리      0\n",
              "1        3819312                  흠...포스터보고 초딩영화줄....오버연기조차 가볍지 않구나      1\n",
              "2       10265843                                  너무재밓었다그래서보는것을추천한다      0\n",
              "3        9045019                      교도소 이야기구먼 ..솔직히 재미는 없다..평점 조정      0\n",
              "4        6483659  사이몬페그의 익살스런 연기가 돋보였던 영화!스파이더맨에서 늙어보이기만 했던 커스틴 ...      1\n",
              "...          ...                                                ...    ...\n",
              "149995   6222902                                인간이 문제지.. 소는 뭔죄인가..      0\n",
              "149996   8549745                                      평점이 너무 낮아서...      1\n",
              "149997   9311800                    이게 뭐요? 한국인은 거들먹거리고 필리핀 혼혈은 착하다?      0\n",
              "149998   2376369                        청춘 영화의 최고봉.방황과 우울했던 날들의 자화상      1\n",
              "149999   9619869                           한국 영화 최초로 수간하는 내용이 담긴 영화      0\n",
              "\n",
              "[150000 rows x 3 columns]"
            ]
          },
          "execution_count": 3,
          "metadata": {},
          "output_type": "execute_result"
        }
      ],
      "source": [
        "train_data"
      ]
    },
    {
      "cell_type": "markdown",
      "id": "1d4f3e4e",
      "metadata": {
        "id": "1d4f3e4e"
      },
      "source": [
        "- **test_data 데이터 확인**  \n",
        "\n",
        "    **데이터 수**  \n",
        "    총 5,000개\n",
        "    \n",
        "    **컬럼 수**  \n",
        "    총 3개 (id, document, label)  "
      ]
    },
    {
      "cell_type": "code",
      "execution_count": null,
      "id": "88771d37",
      "metadata": {
        "id": "88771d37",
        "outputId": "69d774d4-3f07-43fa-a785-d2b886fa4433"
      },
      "outputs": [
        {
          "data": {
            "text/html": [
              "<div>\n",
              "<style scoped>\n",
              "    .dataframe tbody tr th:only-of-type {\n",
              "        vertical-align: middle;\n",
              "    }\n",
              "\n",
              "    .dataframe tbody tr th {\n",
              "        vertical-align: top;\n",
              "    }\n",
              "\n",
              "    .dataframe thead th {\n",
              "        text-align: right;\n",
              "    }\n",
              "</style>\n",
              "<table border=\"1\" class=\"dataframe\">\n",
              "  <thead>\n",
              "    <tr style=\"text-align: right;\">\n",
              "      <th></th>\n",
              "      <th>id</th>\n",
              "      <th>document</th>\n",
              "      <th>label</th>\n",
              "    </tr>\n",
              "  </thead>\n",
              "  <tbody>\n",
              "    <tr>\n",
              "      <th>0</th>\n",
              "      <td>6270596</td>\n",
              "      <td>굳 ㅋ</td>\n",
              "      <td>1</td>\n",
              "    </tr>\n",
              "    <tr>\n",
              "      <th>1</th>\n",
              "      <td>9274899</td>\n",
              "      <td>GDNTOPCLASSINTHECLUB</td>\n",
              "      <td>0</td>\n",
              "    </tr>\n",
              "    <tr>\n",
              "      <th>2</th>\n",
              "      <td>8544678</td>\n",
              "      <td>뭐야 이 평점들은.... 나쁘진 않지만 10점 짜리는 더더욱 아니잖아</td>\n",
              "      <td>0</td>\n",
              "    </tr>\n",
              "    <tr>\n",
              "      <th>3</th>\n",
              "      <td>6825595</td>\n",
              "      <td>지루하지는 않은데 완전 막장임... 돈주고 보기에는....</td>\n",
              "      <td>0</td>\n",
              "    </tr>\n",
              "    <tr>\n",
              "      <th>4</th>\n",
              "      <td>6723715</td>\n",
              "      <td>3D만 아니었어도 별 다섯 개 줬을텐데.. 왜 3D로 나와서 제 심기를 불편하게 하죠??</td>\n",
              "      <td>0</td>\n",
              "    </tr>\n",
              "    <tr>\n",
              "      <th>...</th>\n",
              "      <td>...</td>\n",
              "      <td>...</td>\n",
              "      <td>...</td>\n",
              "    </tr>\n",
              "    <tr>\n",
              "      <th>49995</th>\n",
              "      <td>4608761</td>\n",
              "      <td>오랜만에 평점 로긴했네ㅋㅋ 킹왕짱 쌈뽕한 영화를 만났습니다 강렬하게 육쾌함</td>\n",
              "      <td>1</td>\n",
              "    </tr>\n",
              "    <tr>\n",
              "      <th>49996</th>\n",
              "      <td>5308387</td>\n",
              "      <td>의지 박약들이나 하는거다 탈영은 일단 주인공 김대희 닮았고 이등병 찐따 OOOO</td>\n",
              "      <td>0</td>\n",
              "    </tr>\n",
              "    <tr>\n",
              "      <th>49997</th>\n",
              "      <td>9072549</td>\n",
              "      <td>그림도 좋고 완성도도 높았지만... 보는 내내 불안하게 만든다</td>\n",
              "      <td>0</td>\n",
              "    </tr>\n",
              "    <tr>\n",
              "      <th>49998</th>\n",
              "      <td>5802125</td>\n",
              "      <td>절대 봐서는 안 될 영화.. 재미도 없고 기분만 잡치고.. 한 세트장에서 다 해먹네</td>\n",
              "      <td>0</td>\n",
              "    </tr>\n",
              "    <tr>\n",
              "      <th>49999</th>\n",
              "      <td>6070594</td>\n",
              "      <td>마무리는 또 왜이래</td>\n",
              "      <td>0</td>\n",
              "    </tr>\n",
              "  </tbody>\n",
              "</table>\n",
              "<p>50000 rows × 3 columns</p>\n",
              "</div>"
            ],
            "text/plain": [
              "            id                                           document  label\n",
              "0      6270596                                                굳 ㅋ      1\n",
              "1      9274899                               GDNTOPCLASSINTHECLUB      0\n",
              "2      8544678             뭐야 이 평점들은.... 나쁘진 않지만 10점 짜리는 더더욱 아니잖아      0\n",
              "3      6825595                   지루하지는 않은데 완전 막장임... 돈주고 보기에는....      0\n",
              "4      6723715  3D만 아니었어도 별 다섯 개 줬을텐데.. 왜 3D로 나와서 제 심기를 불편하게 하죠??      0\n",
              "...        ...                                                ...    ...\n",
              "49995  4608761          오랜만에 평점 로긴했네ㅋㅋ 킹왕짱 쌈뽕한 영화를 만났습니다 강렬하게 육쾌함      1\n",
              "49996  5308387       의지 박약들이나 하는거다 탈영은 일단 주인공 김대희 닮았고 이등병 찐따 OOOO      0\n",
              "49997  9072549                 그림도 좋고 완성도도 높았지만... 보는 내내 불안하게 만든다      0\n",
              "49998  5802125     절대 봐서는 안 될 영화.. 재미도 없고 기분만 잡치고.. 한 세트장에서 다 해먹네      0\n",
              "49999  6070594                                         마무리는 또 왜이래      0\n",
              "\n",
              "[50000 rows x 3 columns]"
            ]
          },
          "execution_count": 4,
          "metadata": {},
          "output_type": "execute_result"
        }
      ],
      "source": [
        "test_data"
      ]
    },
    {
      "cell_type": "markdown",
      "id": "dc2d5b3b",
      "metadata": {
        "id": "dc2d5b3b"
      },
      "source": [
        "## 1-3. 전처리 진행"
      ]
    },
    {
      "cell_type": "markdown",
      "id": "c46459db",
      "metadata": {
        "id": "c46459db"
      },
      "source": [
        "### 1-3-1. 정규식"
      ]
    },
    {
      "cell_type": "markdown",
      "id": "ca0a8ba3",
      "metadata": {
        "id": "ca0a8ba3"
      },
      "source": [
        "- **train_data 정규화 (문자, 숫자, 공백을 제외한 나머지 제거)**"
      ]
    },
    {
      "cell_type": "code",
      "execution_count": null,
      "id": "1471193a",
      "metadata": {
        "id": "1471193a"
      },
      "outputs": [],
      "source": [
        "train_data['document'] = train_data['document'].str.replace(pat=r'[^가-힣0-9a-zA-Z ]+', repl= r'', regex=True)"
      ]
    },
    {
      "cell_type": "code",
      "execution_count": null,
      "id": "47cd9065",
      "metadata": {
        "id": "47cd9065",
        "outputId": "f8682099-7360-4154-ce74-604588830202"
      },
      "outputs": [
        {
          "data": {
            "text/html": [
              "<div>\n",
              "<style scoped>\n",
              "    .dataframe tbody tr th:only-of-type {\n",
              "        vertical-align: middle;\n",
              "    }\n",
              "\n",
              "    .dataframe tbody tr th {\n",
              "        vertical-align: top;\n",
              "    }\n",
              "\n",
              "    .dataframe thead th {\n",
              "        text-align: right;\n",
              "    }\n",
              "</style>\n",
              "<table border=\"1\" class=\"dataframe\">\n",
              "  <thead>\n",
              "    <tr style=\"text-align: right;\">\n",
              "      <th></th>\n",
              "      <th>id</th>\n",
              "      <th>document</th>\n",
              "      <th>label</th>\n",
              "    </tr>\n",
              "  </thead>\n",
              "  <tbody>\n",
              "    <tr>\n",
              "      <th>0</th>\n",
              "      <td>9976970</td>\n",
              "      <td>아 더빙 진짜 짜증나네요 목소리</td>\n",
              "      <td>0</td>\n",
              "    </tr>\n",
              "    <tr>\n",
              "      <th>1</th>\n",
              "      <td>3819312</td>\n",
              "      <td>흠포스터보고 초딩영화줄오버연기조차 가볍지 않구나</td>\n",
              "      <td>1</td>\n",
              "    </tr>\n",
              "    <tr>\n",
              "      <th>2</th>\n",
              "      <td>10265843</td>\n",
              "      <td>너무재밓었다그래서보는것을추천한다</td>\n",
              "      <td>0</td>\n",
              "    </tr>\n",
              "    <tr>\n",
              "      <th>3</th>\n",
              "      <td>9045019</td>\n",
              "      <td>교도소 이야기구먼 솔직히 재미는 없다평점 조정</td>\n",
              "      <td>0</td>\n",
              "    </tr>\n",
              "    <tr>\n",
              "      <th>4</th>\n",
              "      <td>6483659</td>\n",
              "      <td>사이몬페그의 익살스런 연기가 돋보였던 영화스파이더맨에서 늙어보이기만 했던 커스틴 던...</td>\n",
              "      <td>1</td>\n",
              "    </tr>\n",
              "    <tr>\n",
              "      <th>...</th>\n",
              "      <td>...</td>\n",
              "      <td>...</td>\n",
              "      <td>...</td>\n",
              "    </tr>\n",
              "    <tr>\n",
              "      <th>149995</th>\n",
              "      <td>6222902</td>\n",
              "      <td>인간이 문제지 소는 뭔죄인가</td>\n",
              "      <td>0</td>\n",
              "    </tr>\n",
              "    <tr>\n",
              "      <th>149996</th>\n",
              "      <td>8549745</td>\n",
              "      <td>평점이 너무 낮아서</td>\n",
              "      <td>1</td>\n",
              "    </tr>\n",
              "    <tr>\n",
              "      <th>149997</th>\n",
              "      <td>9311800</td>\n",
              "      <td>이게 뭐요 한국인은 거들먹거리고 필리핀 혼혈은 착하다</td>\n",
              "      <td>0</td>\n",
              "    </tr>\n",
              "    <tr>\n",
              "      <th>149998</th>\n",
              "      <td>2376369</td>\n",
              "      <td>청춘 영화의 최고봉방황과 우울했던 날들의 자화상</td>\n",
              "      <td>1</td>\n",
              "    </tr>\n",
              "    <tr>\n",
              "      <th>149999</th>\n",
              "      <td>9619869</td>\n",
              "      <td>한국 영화 최초로 수간하는 내용이 담긴 영화</td>\n",
              "      <td>0</td>\n",
              "    </tr>\n",
              "  </tbody>\n",
              "</table>\n",
              "<p>150000 rows × 3 columns</p>\n",
              "</div>"
            ],
            "text/plain": [
              "              id                                           document  label\n",
              "0        9976970                                  아 더빙 진짜 짜증나네요 목소리      0\n",
              "1        3819312                         흠포스터보고 초딩영화줄오버연기조차 가볍지 않구나      1\n",
              "2       10265843                                  너무재밓었다그래서보는것을추천한다      0\n",
              "3        9045019                          교도소 이야기구먼 솔직히 재미는 없다평점 조정      0\n",
              "4        6483659  사이몬페그의 익살스런 연기가 돋보였던 영화스파이더맨에서 늙어보이기만 했던 커스틴 던...      1\n",
              "...          ...                                                ...    ...\n",
              "149995   6222902                                    인간이 문제지 소는 뭔죄인가      0\n",
              "149996   8549745                                         평점이 너무 낮아서      1\n",
              "149997   9311800                      이게 뭐요 한국인은 거들먹거리고 필리핀 혼혈은 착하다      0\n",
              "149998   2376369                         청춘 영화의 최고봉방황과 우울했던 날들의 자화상      1\n",
              "149999   9619869                           한국 영화 최초로 수간하는 내용이 담긴 영화      0\n",
              "\n",
              "[150000 rows x 3 columns]"
            ]
          },
          "execution_count": 6,
          "metadata": {},
          "output_type": "execute_result"
        }
      ],
      "source": [
        "train_data"
      ]
    },
    {
      "cell_type": "markdown",
      "id": "d62c6c90",
      "metadata": {
        "id": "d62c6c90"
      },
      "source": [
        "- **test_data 정규화 (문자, 숫자, 공백을 제외한 나머지 제거)**"
      ]
    },
    {
      "cell_type": "code",
      "execution_count": null,
      "id": "22cde049",
      "metadata": {
        "id": "22cde049"
      },
      "outputs": [],
      "source": [
        "test_data['document'] = test_data['document'].str.replace(pat=r'[^가-힣0-9a-zA-Z ]+', repl= r'', regex=True)"
      ]
    },
    {
      "cell_type": "code",
      "execution_count": null,
      "id": "409eaa1f",
      "metadata": {
        "id": "409eaa1f",
        "outputId": "c1859fc5-be72-43dc-a368-8613202a4c64"
      },
      "outputs": [
        {
          "data": {
            "text/html": [
              "<div>\n",
              "<style scoped>\n",
              "    .dataframe tbody tr th:only-of-type {\n",
              "        vertical-align: middle;\n",
              "    }\n",
              "\n",
              "    .dataframe tbody tr th {\n",
              "        vertical-align: top;\n",
              "    }\n",
              "\n",
              "    .dataframe thead th {\n",
              "        text-align: right;\n",
              "    }\n",
              "</style>\n",
              "<table border=\"1\" class=\"dataframe\">\n",
              "  <thead>\n",
              "    <tr style=\"text-align: right;\">\n",
              "      <th></th>\n",
              "      <th>id</th>\n",
              "      <th>document</th>\n",
              "      <th>label</th>\n",
              "    </tr>\n",
              "  </thead>\n",
              "  <tbody>\n",
              "    <tr>\n",
              "      <th>0</th>\n",
              "      <td>6270596</td>\n",
              "      <td>굳</td>\n",
              "      <td>1</td>\n",
              "    </tr>\n",
              "    <tr>\n",
              "      <th>1</th>\n",
              "      <td>9274899</td>\n",
              "      <td>GDNTOPCLASSINTHECLUB</td>\n",
              "      <td>0</td>\n",
              "    </tr>\n",
              "    <tr>\n",
              "      <th>2</th>\n",
              "      <td>8544678</td>\n",
              "      <td>뭐야 이 평점들은 나쁘진 않지만 10점 짜리는 더더욱 아니잖아</td>\n",
              "      <td>0</td>\n",
              "    </tr>\n",
              "    <tr>\n",
              "      <th>3</th>\n",
              "      <td>6825595</td>\n",
              "      <td>지루하지는 않은데 완전 막장임 돈주고 보기에는</td>\n",
              "      <td>0</td>\n",
              "    </tr>\n",
              "    <tr>\n",
              "      <th>4</th>\n",
              "      <td>6723715</td>\n",
              "      <td>3D만 아니었어도 별 다섯 개 줬을텐데 왜 3D로 나와서 제 심기를 불편하게 하죠</td>\n",
              "      <td>0</td>\n",
              "    </tr>\n",
              "    <tr>\n",
              "      <th>...</th>\n",
              "      <td>...</td>\n",
              "      <td>...</td>\n",
              "      <td>...</td>\n",
              "    </tr>\n",
              "    <tr>\n",
              "      <th>49995</th>\n",
              "      <td>4608761</td>\n",
              "      <td>오랜만에 평점 로긴했네 킹왕짱 쌈뽕한 영화를 만났습니다 강렬하게 육쾌함</td>\n",
              "      <td>1</td>\n",
              "    </tr>\n",
              "    <tr>\n",
              "      <th>49996</th>\n",
              "      <td>5308387</td>\n",
              "      <td>의지 박약들이나 하는거다 탈영은 일단 주인공 김대희 닮았고 이등병 찐따 OOOO</td>\n",
              "      <td>0</td>\n",
              "    </tr>\n",
              "    <tr>\n",
              "      <th>49997</th>\n",
              "      <td>9072549</td>\n",
              "      <td>그림도 좋고 완성도도 높았지만 보는 내내 불안하게 만든다</td>\n",
              "      <td>0</td>\n",
              "    </tr>\n",
              "    <tr>\n",
              "      <th>49998</th>\n",
              "      <td>5802125</td>\n",
              "      <td>절대 봐서는 안 될 영화 재미도 없고 기분만 잡치고 한 세트장에서 다 해먹네</td>\n",
              "      <td>0</td>\n",
              "    </tr>\n",
              "    <tr>\n",
              "      <th>49999</th>\n",
              "      <td>6070594</td>\n",
              "      <td>마무리는 또 왜이래</td>\n",
              "      <td>0</td>\n",
              "    </tr>\n",
              "  </tbody>\n",
              "</table>\n",
              "<p>50000 rows × 3 columns</p>\n",
              "</div>"
            ],
            "text/plain": [
              "            id                                       document  label\n",
              "0      6270596                                             굳       1\n",
              "1      9274899                           GDNTOPCLASSINTHECLUB      0\n",
              "2      8544678             뭐야 이 평점들은 나쁘진 않지만 10점 짜리는 더더욱 아니잖아      0\n",
              "3      6825595                      지루하지는 않은데 완전 막장임 돈주고 보기에는      0\n",
              "4      6723715  3D만 아니었어도 별 다섯 개 줬을텐데 왜 3D로 나와서 제 심기를 불편하게 하죠      0\n",
              "...        ...                                            ...    ...\n",
              "49995  4608761        오랜만에 평점 로긴했네 킹왕짱 쌈뽕한 영화를 만났습니다 강렬하게 육쾌함      1\n",
              "49996  5308387   의지 박약들이나 하는거다 탈영은 일단 주인공 김대희 닮았고 이등병 찐따 OOOO      0\n",
              "49997  9072549                그림도 좋고 완성도도 높았지만 보는 내내 불안하게 만든다      0\n",
              "49998  5802125     절대 봐서는 안 될 영화 재미도 없고 기분만 잡치고 한 세트장에서 다 해먹네      0\n",
              "49999  6070594                                     마무리는 또 왜이래      0\n",
              "\n",
              "[50000 rows x 3 columns]"
            ]
          },
          "execution_count": 8,
          "metadata": {},
          "output_type": "execute_result"
        }
      ],
      "source": [
        "test_data"
      ]
    },
    {
      "cell_type": "markdown",
      "id": "efff0563",
      "metadata": {
        "id": "efff0563"
      },
      "source": [
        "### 1-3-2. 결측치 및 중복 데이터 제거"
      ]
    },
    {
      "cell_type": "markdown",
      "id": "04e16f2e",
      "metadata": {
        "id": "04e16f2e"
      },
      "source": [
        "- **train_data 결측치 및 중복 데이터 확인**"
      ]
    },
    {
      "cell_type": "code",
      "execution_count": null,
      "id": "82804dab",
      "metadata": {
        "id": "82804dab",
        "outputId": "93fb88dd-61f5-46c8-a9f1-72c634d52aa4"
      },
      "outputs": [
        {
          "name": "stdout",
          "output_type": "stream",
          "text": [
            "train_data 데이터 수: 150000\n",
            "train_data 중복 데이터 수: 0\n",
            "train_data null 값:\n",
            " id          0\n",
            "document    5\n",
            "label       0\n",
            "dtype: int64\n"
          ]
        }
      ],
      "source": [
        "print('train_data 데이터 수:', len(train_data))    \n",
        "print('train_data 중복 데이터 수:', train_data.duplicated().sum())\n",
        "print('train_data null 값:\\n', train_data.isnull().sum())"
      ]
    },
    {
      "cell_type": "markdown",
      "id": "df5cb8d5",
      "metadata": {
        "id": "df5cb8d5"
      },
      "source": [
        "- **train_data 결측치 및 중복 데이터 제거**"
      ]
    },
    {
      "cell_type": "code",
      "execution_count": null,
      "id": "2ee24ef7",
      "metadata": {
        "id": "2ee24ef7",
        "outputId": "c7f3b8d3-d30b-41ff-9e2e-6d1d050d1fc1"
      },
      "outputs": [
        {
          "name": "stdout",
          "output_type": "stream",
          "text": [
            "train_data 데이터 수: 143899\n",
            "train_data 중복 데이터 수: 0\n",
            "train_data null 값:\n",
            " id          0\n",
            "document    0\n",
            "label       0\n",
            "dtype: int64\n"
          ]
        }
      ],
      "source": [
        "train_data.dropna(inplace=True)\n",
        "train_data.drop_duplicates([\"document\"], inplace=True)\n",
        "\n",
        "print('train_data 데이터 수:', len(train_data))    \n",
        "print('train_data 중복 데이터 수:', train_data.duplicated().sum())\n",
        "print('train_data null 값:\\n', train_data.isnull().sum())"
      ]
    },
    {
      "cell_type": "markdown",
      "id": "73625d84",
      "metadata": {
        "id": "73625d84"
      },
      "source": [
        "- **train_data 결측치 및 중복 데이터 제거 후 데이터 확인**"
      ]
    },
    {
      "cell_type": "code",
      "execution_count": null,
      "id": "fd9309e9",
      "metadata": {
        "id": "fd9309e9",
        "outputId": "56a12a62-6167-4b90-9fbd-30502bccb2c1"
      },
      "outputs": [
        {
          "data": {
            "text/html": [
              "<div>\n",
              "<style scoped>\n",
              "    .dataframe tbody tr th:only-of-type {\n",
              "        vertical-align: middle;\n",
              "    }\n",
              "\n",
              "    .dataframe tbody tr th {\n",
              "        vertical-align: top;\n",
              "    }\n",
              "\n",
              "    .dataframe thead th {\n",
              "        text-align: right;\n",
              "    }\n",
              "</style>\n",
              "<table border=\"1\" class=\"dataframe\">\n",
              "  <thead>\n",
              "    <tr style=\"text-align: right;\">\n",
              "      <th></th>\n",
              "      <th>id</th>\n",
              "      <th>document</th>\n",
              "      <th>label</th>\n",
              "    </tr>\n",
              "  </thead>\n",
              "  <tbody>\n",
              "    <tr>\n",
              "      <th>0</th>\n",
              "      <td>9976970</td>\n",
              "      <td>아 더빙 진짜 짜증나네요 목소리</td>\n",
              "      <td>0</td>\n",
              "    </tr>\n",
              "    <tr>\n",
              "      <th>1</th>\n",
              "      <td>3819312</td>\n",
              "      <td>흠포스터보고 초딩영화줄오버연기조차 가볍지 않구나</td>\n",
              "      <td>1</td>\n",
              "    </tr>\n",
              "    <tr>\n",
              "      <th>2</th>\n",
              "      <td>10265843</td>\n",
              "      <td>너무재밓었다그래서보는것을추천한다</td>\n",
              "      <td>0</td>\n",
              "    </tr>\n",
              "    <tr>\n",
              "      <th>3</th>\n",
              "      <td>9045019</td>\n",
              "      <td>교도소 이야기구먼 솔직히 재미는 없다평점 조정</td>\n",
              "      <td>0</td>\n",
              "    </tr>\n",
              "    <tr>\n",
              "      <th>4</th>\n",
              "      <td>6483659</td>\n",
              "      <td>사이몬페그의 익살스런 연기가 돋보였던 영화스파이더맨에서 늙어보이기만 했던 커스틴 던...</td>\n",
              "      <td>1</td>\n",
              "    </tr>\n",
              "    <tr>\n",
              "      <th>...</th>\n",
              "      <td>...</td>\n",
              "      <td>...</td>\n",
              "      <td>...</td>\n",
              "    </tr>\n",
              "    <tr>\n",
              "      <th>149994</th>\n",
              "      <td>9458520</td>\n",
              "      <td>디케이드 다음에 더블 다음에 오즈인데 더블은 조금밖에 안나오네요</td>\n",
              "      <td>1</td>\n",
              "    </tr>\n",
              "    <tr>\n",
              "      <th>149995</th>\n",
              "      <td>6222902</td>\n",
              "      <td>인간이 문제지 소는 뭔죄인가</td>\n",
              "      <td>0</td>\n",
              "    </tr>\n",
              "    <tr>\n",
              "      <th>149997</th>\n",
              "      <td>9311800</td>\n",
              "      <td>이게 뭐요 한국인은 거들먹거리고 필리핀 혼혈은 착하다</td>\n",
              "      <td>0</td>\n",
              "    </tr>\n",
              "    <tr>\n",
              "      <th>149998</th>\n",
              "      <td>2376369</td>\n",
              "      <td>청춘 영화의 최고봉방황과 우울했던 날들의 자화상</td>\n",
              "      <td>1</td>\n",
              "    </tr>\n",
              "    <tr>\n",
              "      <th>149999</th>\n",
              "      <td>9619869</td>\n",
              "      <td>한국 영화 최초로 수간하는 내용이 담긴 영화</td>\n",
              "      <td>0</td>\n",
              "    </tr>\n",
              "  </tbody>\n",
              "</table>\n",
              "<p>143899 rows × 3 columns</p>\n",
              "</div>"
            ],
            "text/plain": [
              "              id                                           document  label\n",
              "0        9976970                                  아 더빙 진짜 짜증나네요 목소리      0\n",
              "1        3819312                         흠포스터보고 초딩영화줄오버연기조차 가볍지 않구나      1\n",
              "2       10265843                                  너무재밓었다그래서보는것을추천한다      0\n",
              "3        9045019                          교도소 이야기구먼 솔직히 재미는 없다평점 조정      0\n",
              "4        6483659  사이몬페그의 익살스런 연기가 돋보였던 영화스파이더맨에서 늙어보이기만 했던 커스틴 던...      1\n",
              "...          ...                                                ...    ...\n",
              "149994   9458520                디케이드 다음에 더블 다음에 오즈인데 더블은 조금밖에 안나오네요      1\n",
              "149995   6222902                                    인간이 문제지 소는 뭔죄인가      0\n",
              "149997   9311800                      이게 뭐요 한국인은 거들먹거리고 필리핀 혼혈은 착하다      0\n",
              "149998   2376369                         청춘 영화의 최고봉방황과 우울했던 날들의 자화상      1\n",
              "149999   9619869                           한국 영화 최초로 수간하는 내용이 담긴 영화      0\n",
              "\n",
              "[143899 rows x 3 columns]"
            ]
          },
          "execution_count": 11,
          "metadata": {},
          "output_type": "execute_result"
        }
      ],
      "source": [
        "train_data"
      ]
    },
    {
      "cell_type": "markdown",
      "id": "7e869c23",
      "metadata": {
        "id": "7e869c23"
      },
      "source": [
        "- **test_data 결측치 및 중복 데이터 확인**"
      ]
    },
    {
      "cell_type": "code",
      "execution_count": null,
      "id": "a956fa77",
      "metadata": {
        "id": "a956fa77",
        "outputId": "e0f9daea-cae5-4345-8e14-48ca4ecf7837"
      },
      "outputs": [
        {
          "name": "stdout",
          "output_type": "stream",
          "text": [
            "test_data 데이터 수: 50000\n",
            "test_data 중복 데이터 수: 0\n",
            "test_data null 값:\n",
            " id          0\n",
            "document    3\n",
            "label       0\n",
            "dtype: int64\n"
          ]
        }
      ],
      "source": [
        "print('test_data 데이터 수:', len(test_data))    \n",
        "print('test_data 중복 데이터 수:', test_data.duplicated().sum())\n",
        "print('test_data null 값:\\n', test_data.isnull().sum())"
      ]
    },
    {
      "cell_type": "markdown",
      "id": "b0f52ffd",
      "metadata": {
        "id": "b0f52ffd"
      },
      "source": [
        "- **test_data 결측치 및 중복 데이터 제거**"
      ]
    },
    {
      "cell_type": "code",
      "execution_count": null,
      "id": "a223ee22",
      "metadata": {
        "id": "a223ee22",
        "outputId": "aa7af01e-7fa5-4faa-be8e-6dc1d7ea5b2b"
      },
      "outputs": [
        {
          "name": "stdout",
          "output_type": "stream",
          "text": [
            "test_data 데이터 수: 48552\n",
            "test_data 중복 데이터 수: 0\n",
            "test_data null 값:\n",
            " id          0\n",
            "document    0\n",
            "label       0\n",
            "dtype: int64\n"
          ]
        }
      ],
      "source": [
        "test_data.dropna(inplace=True)\n",
        "test_data.drop_duplicates([\"document\"], inplace=True)\n",
        "\n",
        "print('test_data 데이터 수:', len(test_data))    \n",
        "print('test_data 중복 데이터 수:', test_data.duplicated().sum())\n",
        "print('test_data null 값:\\n', test_data.isnull().sum())"
      ]
    },
    {
      "cell_type": "markdown",
      "id": "2c3b3215",
      "metadata": {
        "id": "2c3b3215"
      },
      "source": [
        "- **test_data 결측치 및 중복 데이터 제거 후 데이터 확인**"
      ]
    },
    {
      "cell_type": "code",
      "execution_count": null,
      "id": "c6da04b3",
      "metadata": {
        "id": "c6da04b3",
        "outputId": "20f46cd9-4188-472d-b3f1-692f496a70c5"
      },
      "outputs": [
        {
          "data": {
            "text/html": [
              "<div>\n",
              "<style scoped>\n",
              "    .dataframe tbody tr th:only-of-type {\n",
              "        vertical-align: middle;\n",
              "    }\n",
              "\n",
              "    .dataframe tbody tr th {\n",
              "        vertical-align: top;\n",
              "    }\n",
              "\n",
              "    .dataframe thead th {\n",
              "        text-align: right;\n",
              "    }\n",
              "</style>\n",
              "<table border=\"1\" class=\"dataframe\">\n",
              "  <thead>\n",
              "    <tr style=\"text-align: right;\">\n",
              "      <th></th>\n",
              "      <th>id</th>\n",
              "      <th>document</th>\n",
              "      <th>label</th>\n",
              "    </tr>\n",
              "  </thead>\n",
              "  <tbody>\n",
              "    <tr>\n",
              "      <th>0</th>\n",
              "      <td>6270596</td>\n",
              "      <td>굳</td>\n",
              "      <td>1</td>\n",
              "    </tr>\n",
              "    <tr>\n",
              "      <th>1</th>\n",
              "      <td>9274899</td>\n",
              "      <td>GDNTOPCLASSINTHECLUB</td>\n",
              "      <td>0</td>\n",
              "    </tr>\n",
              "    <tr>\n",
              "      <th>2</th>\n",
              "      <td>8544678</td>\n",
              "      <td>뭐야 이 평점들은 나쁘진 않지만 10점 짜리는 더더욱 아니잖아</td>\n",
              "      <td>0</td>\n",
              "    </tr>\n",
              "    <tr>\n",
              "      <th>3</th>\n",
              "      <td>6825595</td>\n",
              "      <td>지루하지는 않은데 완전 막장임 돈주고 보기에는</td>\n",
              "      <td>0</td>\n",
              "    </tr>\n",
              "    <tr>\n",
              "      <th>4</th>\n",
              "      <td>6723715</td>\n",
              "      <td>3D만 아니었어도 별 다섯 개 줬을텐데 왜 3D로 나와서 제 심기를 불편하게 하죠</td>\n",
              "      <td>0</td>\n",
              "    </tr>\n",
              "    <tr>\n",
              "      <th>...</th>\n",
              "      <td>...</td>\n",
              "      <td>...</td>\n",
              "      <td>...</td>\n",
              "    </tr>\n",
              "    <tr>\n",
              "      <th>49995</th>\n",
              "      <td>4608761</td>\n",
              "      <td>오랜만에 평점 로긴했네 킹왕짱 쌈뽕한 영화를 만났습니다 강렬하게 육쾌함</td>\n",
              "      <td>1</td>\n",
              "    </tr>\n",
              "    <tr>\n",
              "      <th>49996</th>\n",
              "      <td>5308387</td>\n",
              "      <td>의지 박약들이나 하는거다 탈영은 일단 주인공 김대희 닮았고 이등병 찐따 OOOO</td>\n",
              "      <td>0</td>\n",
              "    </tr>\n",
              "    <tr>\n",
              "      <th>49997</th>\n",
              "      <td>9072549</td>\n",
              "      <td>그림도 좋고 완성도도 높았지만 보는 내내 불안하게 만든다</td>\n",
              "      <td>0</td>\n",
              "    </tr>\n",
              "    <tr>\n",
              "      <th>49998</th>\n",
              "      <td>5802125</td>\n",
              "      <td>절대 봐서는 안 될 영화 재미도 없고 기분만 잡치고 한 세트장에서 다 해먹네</td>\n",
              "      <td>0</td>\n",
              "    </tr>\n",
              "    <tr>\n",
              "      <th>49999</th>\n",
              "      <td>6070594</td>\n",
              "      <td>마무리는 또 왜이래</td>\n",
              "      <td>0</td>\n",
              "    </tr>\n",
              "  </tbody>\n",
              "</table>\n",
              "<p>48552 rows × 3 columns</p>\n",
              "</div>"
            ],
            "text/plain": [
              "            id                                       document  label\n",
              "0      6270596                                             굳       1\n",
              "1      9274899                           GDNTOPCLASSINTHECLUB      0\n",
              "2      8544678             뭐야 이 평점들은 나쁘진 않지만 10점 짜리는 더더욱 아니잖아      0\n",
              "3      6825595                      지루하지는 않은데 완전 막장임 돈주고 보기에는      0\n",
              "4      6723715  3D만 아니었어도 별 다섯 개 줬을텐데 왜 3D로 나와서 제 심기를 불편하게 하죠      0\n",
              "...        ...                                            ...    ...\n",
              "49995  4608761        오랜만에 평점 로긴했네 킹왕짱 쌈뽕한 영화를 만났습니다 강렬하게 육쾌함      1\n",
              "49996  5308387   의지 박약들이나 하는거다 탈영은 일단 주인공 김대희 닮았고 이등병 찐따 OOOO      0\n",
              "49997  9072549                그림도 좋고 완성도도 높았지만 보는 내내 불안하게 만든다      0\n",
              "49998  5802125     절대 봐서는 안 될 영화 재미도 없고 기분만 잡치고 한 세트장에서 다 해먹네      0\n",
              "49999  6070594                                     마무리는 또 왜이래      0\n",
              "\n",
              "[48552 rows x 3 columns]"
            ]
          },
          "execution_count": 14,
          "metadata": {},
          "output_type": "execute_result"
        }
      ],
      "source": [
        "test_data"
      ]
    },
    {
      "cell_type": "markdown",
      "id": "b34a2713",
      "metadata": {
        "id": "b34a2713"
      },
      "source": [
        "### 1-3-3. 데이터 분포 길이 조정"
      ]
    },
    {
      "cell_type": "markdown",
      "id": "bebfe301",
      "metadata": {
        "id": "bebfe301"
      },
      "source": [
        "- **데이터 분포 길이 확인 및 시각화 함수**"
      ]
    },
    {
      "cell_type": "code",
      "execution_count": null,
      "id": "d31edb77",
      "metadata": {
        "id": "d31edb77"
      },
      "outputs": [],
      "source": [
        "def draw_sentence_length(data, title):\n",
        "    min_len = 999\n",
        "    max_len = 0\n",
        "    sum_len = 0\n",
        "    \n",
        "    data = data.dropna()\n",
        "    cleaned_corpus = list(set(data))\n",
        "    \n",
        "    for sen in cleaned_corpus:\n",
        "        length = len(sen)\n",
        "        if min_len > length: min_len = length\n",
        "        if max_len < length: max_len = length\n",
        "        sum_len += length\n",
        "        \n",
        "    sentence_length = np.zeros((max_len), dtype=np.int)\n",
        "\n",
        "    for sen in cleaned_corpus:\n",
        "        sentence_length[len(sen)-1] += 1\n",
        "\n",
        "    plt.bar(range(max_len), sentence_length, width=1.0)\n",
        "    plt.title(title)\n",
        "    plt.show()\n",
        "    \n",
        "    print(\"전체 문장 수:\", len(cleaned_corpus))\n",
        "    print(\"최단 문장 길이:\", min_len)\n",
        "    print(\"최장 문장 길이:\", max_len)\n",
        "    print(\"평균 문장 길이:\", sum_len // len(cleaned_corpus))"
      ]
    },
    {
      "cell_type": "markdown",
      "id": "edc73ecb",
      "metadata": {
        "id": "edc73ecb"
      },
      "source": [
        "- **train_data 데이터 분포 길이 확인 및 시각화**"
      ]
    },
    {
      "cell_type": "code",
      "execution_count": null,
      "id": "81786f10",
      "metadata": {
        "id": "81786f10",
        "outputId": "7e64c804-4440-4e4f-f038-2df6d0c4a658"
      },
      "outputs": [
        {
          "name": "stderr",
          "output_type": "stream",
          "text": [
            "C:\\Users\\96452\\AppData\\Local\\Temp\\ipykernel_14536\\4069133019.py:15: DeprecationWarning: `np.int` is a deprecated alias for the builtin `int`. To silence this warning, use `int` by itself. Doing this will not modify any behavior and is safe. When replacing `np.int`, you may wish to use e.g. `np.int64` or `np.int32` to specify the precision. If you wish to review your current use, check the release note link for additional information.\n",
            "Deprecated in NumPy 1.20; for more details and guidance: https://numpy.org/devdocs/release/1.20.0-notes.html#deprecations\n",
            "  sentence_length = np.zeros((max_len), dtype=np.int)\n"
          ]
        },
        {
          "data": {
            "image/png": "[encoded data removed]",
            "text/plain": [
              "<Figure size 432x288 with 1 Axes>"
            ]
          },
          "metadata": {
            "needs_background": "light"
          },
          "output_type": "display_data"
        },
        {
          "name": "stdout",
          "output_type": "stream",
          "text": [
            "전체 문장 수: 143899\n",
            "최단 문장 길이: 1\n",
            "최장 문장 길이: 140\n",
            "평균 문장 길이: 33\n"
          ]
        }
      ],
      "source": [
        "draw_sentence_length(train_data[\"document\"], title=\"Train Data's Sentence Length Distribution\")"
      ]
    },
    {
      "cell_type": "markdown",
      "id": "5975e949",
      "metadata": {
        "id": "5975e949"
      },
      "source": [
        "- **test_data 데이터 분포 길이 확인 및 시각화**"
      ]
    },
    {
      "cell_type": "code",
      "execution_count": null,
      "id": "71079b51",
      "metadata": {
        "id": "71079b51",
        "outputId": "49e7c97d-f7b6-4971-94b3-cd35fa12ba9e"
      },
      "outputs": [
        {
          "name": "stderr",
          "output_type": "stream",
          "text": [
            "C:\\Users\\96452\\AppData\\Local\\Temp\\ipykernel_14536\\4069133019.py:15: DeprecationWarning: `np.int` is a deprecated alias for the builtin `int`. To silence this warning, use `int` by itself. Doing this will not modify any behavior and is safe. When replacing `np.int`, you may wish to use e.g. `np.int64` or `np.int32` to specify the precision. If you wish to review your current use, check the release note link for additional information.\n",
            "Deprecated in NumPy 1.20; for more details and guidance: https://numpy.org/devdocs/release/1.20.0-notes.html#deprecations\n",
            "  sentence_length = np.zeros((max_len), dtype=np.int)\n"
          ]
        },
        {
          "data": {
            "image/png": "[encoded data removed]",
            "text/plain": [
              "<Figure size 432x288 with 1 Axes>"
            ]
          },
          "metadata": {
            "needs_background": "light"
          },
          "output_type": "display_data"
        },
        {
          "name": "stdout",
          "output_type": "stream",
          "text": [
            "전체 문장 수: 48552\n",
            "최단 문장 길이: 1\n",
            "최장 문장 길이: 140\n",
            "평균 문장 길이: 33\n"
          ]
        }
      ],
      "source": [
        "draw_sentence_length(test_data[\"document\"], title=\"Test Data's Sentence Length Distribution\")"
      ]
    },
    {
      "cell_type": "markdown",
      "id": "1829aba7",
      "metadata": {
        "id": "1829aba7"
      },
      "source": [
        "- **최적의 max_len 탐색 함수**"
      ]
    },
    {
      "cell_type": "code",
      "execution_count": null,
      "id": "38c4c3e2",
      "metadata": {
        "id": "38c4c3e2"
      },
      "outputs": [],
      "source": [
        "def below_threshold_len(max_len, nested_list):\n",
        "    cnt = 0\n",
        "    for s in nested_list:\n",
        "        if(len(s) <= max_len):\n",
        "            cnt = cnt + 1\n",
        "    print('전체 샘플 중 길이가 %s 이하인 샘플의 비율: %s'%(max_len, (cnt / len(nested_list))*100))"
      ]
    },
    {
      "cell_type": "markdown",
      "id": "c6dd03e2",
      "metadata": {
        "id": "c6dd03e2"
      },
      "source": [
        "- **train_data 최적의 max_len 확인**  "
      ]
    },
    {
      "cell_type": "code",
      "execution_count": null,
      "id": "a4c79ae5",
      "metadata": {
        "id": "a4c79ae5",
        "outputId": "c6196dca-d67f-45cb-f03f-a784ca721503"
      },
      "outputs": [
        {
          "name": "stdout",
          "output_type": "stream",
          "text": [
            "전체 샘플 중 길이가 105 이하인 샘플의 비율: 95.3390920020292\n",
            "전체 샘플 중 길이가 100 이하인 샘플의 비율: 94.74284046449246\n",
            "전체 샘플 중 길이가 10 이하인 샘플의 비율: 12.120306603937484\n",
            "전체 샘플 중 길이가 7 이하인 샘플의 비율: 5.792952001056297\n"
          ]
        }
      ],
      "source": [
        "below_threshold_len(105, train_data[\"document\"])\n",
        "below_threshold_len(100, train_data[\"document\"]) \n",
        "below_threshold_len(10, train_data[\"document\"])\n",
        "below_threshold_len(7, train_data[\"document\"])"
      ]
    },
    {
      "cell_type": "markdown",
      "id": "b2cc98cf",
      "metadata": {
        "id": "b2cc98cf"
      },
      "source": [
        "- **test_data 최적의 max_len 확인**"
      ]
    },
    {
      "cell_type": "code",
      "execution_count": null,
      "id": "8a24663f",
      "metadata": {
        "id": "8a24663f",
        "outputId": "aac21e23-adfb-4b0a-a0c0-dc1babbc7cda"
      },
      "outputs": [
        {
          "name": "stdout",
          "output_type": "stream",
          "text": [
            "전체 샘플 중 길이가 105 이하인 샘플의 비율: 95.29164607019278\n",
            "전체 샘플 중 길이가 100 이하인 샘플의 비율: 94.70670621189652\n",
            "전체 샘플 중 길이가 10 이하인 샘플의 비율: 12.664771791069368\n",
            "전체 샘플 중 길이가 7 이하인 샘플의 비율: 6.380787609161312\n"
          ]
        }
      ],
      "source": [
        "below_threshold_len(105, test_data[\"document\"])\n",
        "below_threshold_len(100, test_data[\"document\"]) \n",
        "below_threshold_len(10, test_data[\"document\"])\n",
        "below_threshold_len(7, test_data[\"document\"])"
      ]
    },
    {
      "cell_type": "markdown",
      "id": "711d5031",
      "metadata": {
        "id": "711d5031"
      },
      "source": [
        "- **train_data, test_data 데이터 분포 길이 조정 함수**  \n",
        "test_data와 train_data의 상위 5%, 하위 5% 정도를 제거한 범위인 7 - 105 범위의 데이터만 사용"
      ]
    },
    {
      "cell_type": "code",
      "execution_count": null,
      "id": "ef4380ca",
      "metadata": {
        "id": "ef4380ca"
      },
      "outputs": [],
      "source": [
        "def filt_length(data, min_len, max_len):\n",
        "    df = train_data.copy()\n",
        "    df[\"length\"] = df[\"document\"].apply(lambda x: len(x))\n",
        "    \n",
        "    df = df.loc[df[\"length\"] >= min_len]\n",
        "    df = df.loc[df[\"length\"] <= max_len]\n",
        "    \n",
        "    df.drop([\"length\"], axis=\"columns\", inplace=True)\n",
        "    return df"
      ]
    },
    {
      "cell_type": "markdown",
      "id": "42f97751",
      "metadata": {
        "id": "42f97751"
      },
      "source": [
        "- **train_data, test_data 데이터 분포 길이 조정**  \n",
        "test_data와 train_data의 상위 5%, 하위 5% 정도를 제거한 범위인 7 - 105 범위의 데이터만 사용"
      ]
    },
    {
      "cell_type": "code",
      "execution_count": null,
      "id": "a7c53bd5",
      "metadata": {
        "id": "a7c53bd5"
      },
      "outputs": [],
      "source": [
        "min_len, max_len = 7, 105\n",
        "\n",
        "train_data = filt_length(train_data, min_len=min_len, max_len = max_len)\n",
        "test_data = filt_length(test_data, min_len=min_len, max_len = max_len)\n",
        "\n",
        "y_train = np.array(train_data[\"label\"])\n",
        "y_test = np.array(test_data[\"label\"])"
      ]
    },
    {
      "cell_type": "markdown",
      "id": "ee799413",
      "metadata": {
        "id": "ee799413"
      },
      "source": [
        "- **데이터 분포 조정 후 train_data 데이터 분포 길이 확인 및 시각화**"
      ]
    },
    {
      "cell_type": "code",
      "execution_count": null,
      "id": "747b38f3",
      "metadata": {
        "id": "747b38f3",
        "outputId": "c88fec82-7f99-4f99-d984-4971c0fc897c"
      },
      "outputs": [
        {
          "name": "stderr",
          "output_type": "stream",
          "text": [
            "C:\\Users\\96452\\AppData\\Local\\Temp\\ipykernel_14536\\4069133019.py:15: DeprecationWarning: `np.int` is a deprecated alias for the builtin `int`. To silence this warning, use `int` by itself. Doing this will not modify any behavior and is safe. When replacing `np.int`, you may wish to use e.g. `np.int64` or `np.int32` to specify the precision. If you wish to review your current use, check the release note link for additional information.\n",
            "Deprecated in NumPy 1.20; for more details and guidance: https://numpy.org/devdocs/release/1.20.0-notes.html#deprecations\n",
            "  sentence_length = np.zeros((max_len), dtype=np.int)\n"
          ]
        },
        {
          "data": {
            "image/png": "[encoded data removed]",
            "text/plain": [
              "<Figure size 432x288 with 1 Axes>"
            ]
          },
          "metadata": {
            "needs_background": "light"
          },
          "output_type": "display_data"
        },
        {
          "name": "stdout",
          "output_type": "stream",
          "text": [
            "전체 문장 수: 131115\n",
            "최단 문장 길이: 8\n",
            "최장 문장 길이: 105\n",
            "평균 문장 길이: 30\n"
          ]
        }
      ],
      "source": [
        "draw_sentence_length(train_data[\"document\"], title=\"Test Data's Sentence Length Distribution\")"
      ]
    },
    {
      "cell_type": "code",
      "execution_count": null,
      "id": "e6b105b6",
      "metadata": {
        "id": "e6b105b6",
        "outputId": "88ed80bb-3857-4dfb-cddf-0b24f7c377ea"
      },
      "outputs": [
        {
          "name": "stderr",
          "output_type": "stream",
          "text": [
            "C:\\Users\\96452\\AppData\\Local\\Temp\\ipykernel_14536\\4069133019.py:15: DeprecationWarning: `np.int` is a deprecated alias for the builtin `int`. To silence this warning, use `int` by itself. Doing this will not modify any behavior and is safe. When replacing `np.int`, you may wish to use e.g. `np.int64` or `np.int32` to specify the precision. If you wish to review your current use, check the release note link for additional information.\n",
            "Deprecated in NumPy 1.20; for more details and guidance: https://numpy.org/devdocs/release/1.20.0-notes.html#deprecations\n",
            "  sentence_length = np.zeros((max_len), dtype=np.int)\n"
          ]
        },
        {
          "data": {
            "image/png": "[encoded data removed]",
            "text/plain": [
              "<Figure size 432x288 with 1 Axes>"
            ]
          },
          "metadata": {
            "needs_background": "light"
          },
          "output_type": "display_data"
        },
        {
          "name": "stdout",
          "output_type": "stream",
          "text": [
            "전체 문장 수: 131115\n",
            "최단 문장 길이: 8\n",
            "최장 문장 길이: 105\n",
            "평균 문장 길이: 30\n"
          ]
        }
      ],
      "source": [
        "draw_sentence_length(test_data[\"document\"], title=\"Test Data's Sentence Length Distribution\")"
      ]
    },
    {
      "cell_type": "markdown",
      "id": "a557e9a3",
      "metadata": {
        "id": "a557e9a3"
      },
      "source": [
        "---"
      ]
    },
    {
      "cell_type": "markdown",
      "id": "6829b312",
      "metadata": {
        "id": "6829b312"
      },
      "source": [
        "## 1-2. 토큰화"
      ]
    },
    {
      "cell_type": "markdown",
      "id": "69fbb11b",
      "metadata": {
        "id": "69fbb11b"
      },
      "source": [
        "### 1-2-1. 공백 기반 토큰화"
      ]
    },
    {
      "cell_type": "markdown",
      "id": "d3f19cc7",
      "metadata": {
        "id": "d3f19cc7"
      },
      "source": [
        "- **공백 기준 토큰화 함수**"
      ]
    },
    {
      "cell_type": "code",
      "execution_count": null,
      "id": "67e6d42f",
      "metadata": {
        "id": "67e6d42f"
      },
      "outputs": [],
      "source": [
        "tokenizer = tf.keras.preprocessing.text.Tokenizer(filters='')\n",
        "\n",
        "def get_split_tokenize(data):\n",
        "    mecab_corpus = []\n",
        "    \n",
        "    for sentence in data:\n",
        "        mecab_corpus.append(sentence.split())\n",
        "\n",
        "    tokenizer.fit_on_texts(mecab_corpus)\n",
        "    mecab_tensor = tokenizer.texts_to_sequences(mecab_corpus)\n",
        "    mecab_tensor = tf.keras.preprocessing.sequence.pad_sequences(mecab_tensor, padding='post', maxlen=max_len)\n",
        "    return mecab_tensor"
      ]
    },
    {
      "cell_type": "markdown",
      "id": "074dc464",
      "metadata": {
        "id": "074dc464"
      },
      "source": [
        "- **단어 사전 크기 확인**"
      ]
    },
    {
      "cell_type": "code",
      "execution_count": null,
      "id": "0e2e3579",
      "metadata": {
        "id": "0e2e3579",
        "outputId": "ea6b34e7-0763-41e3-f6b7-9a79907d2d03"
      },
      "outputs": [
        {
          "name": "stdout",
          "output_type": "stream",
          "text": [
            "단어 사전 크기: 254261\n"
          ]
        }
      ],
      "source": [
        "X_train = get_split_tokenize(train_data[\"document\"])\n",
        "split_X_test = get_split_tokenize(test_data[\"document\"])\n",
        "\n",
        "print(\"단어 사전 크기:\", len(tokenizer.word_index))"
      ]
    },
    {
      "cell_type": "markdown",
      "id": "21c760cd",
      "metadata": {
        "id": "21c760cd"
      },
      "source": [
        "- **데이터 분할**"
      ]
    },
    {
      "cell_type": "code",
      "execution_count": null,
      "id": "bc1c8131",
      "metadata": {
        "id": "bc1c8131"
      },
      "outputs": [],
      "source": [
        "split_train_input, split_val_input, split_train_target, split_val_target = \\\n",
        "    train_test_split(X_train, y_train, test_size=0.2, random_state=2525)"
      ]
    },
    {
      "cell_type": "markdown",
      "id": "b747bf2e",
      "metadata": {
        "id": "b747bf2e"
      },
      "source": [
        "### 1-2-2. Kkma을 활용한 형태소 기반 토큰화"
      ]
    },
    {
      "cell_type": "markdown",
      "id": "dbee6e7a",
      "metadata": {
        "id": "dbee6e7a"
      },
      "source": [
        "- **Kkma 토큰화 함수**"
      ]
    },
    {
      "cell_type": "code",
      "execution_count": null,
      "id": "17834063",
      "metadata": {
        "id": "17834063"
      },
      "outputs": [],
      "source": [
        "tokenizer = tf.keras.preprocessing.text.Tokenizer(filters='')\n",
        "m = Kkma()\n",
        "\n",
        "def get_Kkma_tokenize(data):\n",
        "    Kkma_corpus = []\n",
        "    \n",
        "    for sentence in data:\n",
        "        Kkma_corpus.append(m.morphs(sentence))\n",
        "\n",
        "    tokenizer.fit_on_texts(Kkma_corpus)\n",
        "    Kkma_tensor = tokenizer.texts_to_sequences(Kkma_corpus)\n",
        "    Kkma_tensor = tf.keras.preprocessing.sequence.pad_sequences(Kkma_tensor, padding='post', maxlen = max_len)\n",
        "    return Kkma_tensor"
      ]
    },
    {
      "cell_type": "markdown",
      "id": "f92fd583",
      "metadata": {
        "id": "f92fd583"
      },
      "source": [
        "- **단어 사전 크기 확인**"
      ]
    },
    {
      "cell_type": "code",
      "execution_count": null,
      "id": "1c6d9216",
      "metadata": {
        "id": "1c6d9216"
      },
      "outputs": [],
      "source": [
        "X_train = get_Kkma_tokenize(train_data[\"document\"])\n",
        "Kkma_X_test = get_Kkma_tokenize(test_data[\"document\"])\n",
        "\n",
        "print(\"단어 사전 크기:\", len(tokenizer.word_index))"
      ]
    },
    {
      "cell_type": "markdown",
      "id": "5577ea4d",
      "metadata": {
        "id": "5577ea4d"
      },
      "source": [
        "- **데이터 분할**"
      ]
    },
    {
      "cell_type": "code",
      "execution_count": null,
      "id": "0275bde4",
      "metadata": {
        "id": "0275bde4"
      },
      "outputs": [],
      "source": [
        "Kkma_train_input, Kkma_val_input, Kkma_train_target, Kkma_val_target = \\\n",
        "    train_test_split(X_train, y_train, test_size=0.2, random_state=2525)"
      ]
    },
    {
      "cell_type": "markdown",
      "id": "c9907860",
      "metadata": {
        "id": "c9907860"
      },
      "source": [
        "### 1-2-3. SentencePiece 기반 토큰화"
      ]
    },
    {
      "cell_type": "markdown",
      "id": "90602022",
      "metadata": {
        "id": "90602022"
      },
      "source": [
        "- **entencePiece 토큰화 함수**"
      ]
    },
    {
      "cell_type": "code",
      "execution_count": null,
      "id": "956acc61",
      "metadata": {
        "id": "956acc61"
      },
      "outputs": [],
      "source": [
        "vocab_size = 8000\n",
        "\n",
        "with open(temp_data, 'w') as f:\n",
        "    for row in cut_clean_data['document']:\n",
        "        f.write(str(row) + '\\n')\n",
        "\n",
        "spm.SentencePieceTrainer.Train(\n",
        "    '--input={} --model_prefix=kor_spm_unigram_8k --vocab_size={}'.format(temp_data, vocab_size)    \n",
        ")"
      ]
    },
    {
      "cell_type": "code",
      "execution_count": null,
      "id": "89df4f80",
      "metadata": {
        "id": "89df4f80"
      },
      "outputs": [],
      "source": [
        "def tokenize(s, corpus):\n",
        "    tensor = []\n",
        "\n",
        "    for sen in corpus:\n",
        "        tensor.append(s.EncodeAsIds(sen))\n",
        "\n",
        "    with open(\"C:/Users/96452/00_work/NLP-02/korean_spm.vocab\", 'r') as f:\n",
        "        vocab = f.readlines()\n",
        "\n",
        "    word_index = {}\n",
        "    index_word = {}\n",
        "\n",
        "    for idx, line in enumerate(vocab):\n",
        "        word = line.split(\"\\t\")[0]\n",
        "\n",
        "        word_index.update({idx:word})\n",
        "        index_word.update({word:idx})\n",
        "\n",
        "    tensor = tf.keras.preprocessing.sequence.pad_sequences(tensor, padding='post', maxlen=max_len)\n",
        "\n",
        "    return tensor, word_index, index_word"
      ]
    },
    {
      "cell_type": "code",
      "execution_count": null,
      "id": "ebf8b026",
      "metadata": {
        "id": "ebf8b026"
      },
      "outputs": [],
      "source": [
        "s = spm.SentencePieceProcessor()\n",
        "s.Load('./korean_spm.model')"
      ]
    },
    {
      "cell_type": "markdown",
      "id": "60ad9c44",
      "metadata": {
        "id": "60ad9c44"
      },
      "source": [
        "- **데이터 분할**"
      ]
    },
    {
      "cell_type": "code",
      "execution_count": null,
      "id": "da3864c8",
      "metadata": {
        "id": "da3864c8"
      },
      "outputs": [],
      "source": [
        "X_train, X_train_word_index, X_train_index_word = sp_tokenize(s, train_data['document'])\n",
        "sp_X_test, X_test_word_index, X_test_index_word = sp_tokenize(s, test_data['document'])\n",
        "\n",
        "sp_train_input, sp_val_input, sp_train_target, sp_val_target = \\\n",
        "    train_test_split(X_train, y_train, test_size=0.2, random_state=2525)"
      ]
    },
    {
      "cell_type": "markdown",
      "id": "32e70975",
      "metadata": {
        "id": "32e70975"
      },
      "source": [
        "---"
      ]
    },
    {
      "cell_type": "markdown",
      "id": "29eb91bd",
      "metadata": {
        "id": "29eb91bd"
      },
      "source": [
        "## 1-3. 모델 설계 및 학습"
      ]
    },
    {
      "cell_type": "code",
      "execution_count": null,
      "id": "ff0edb5b",
      "metadata": {
        "id": "ff0edb5b"
      },
      "outputs": [],
      "source": [
        ""
      ]
    },
    {
      "cell_type": "markdown",
      "id": "49499ac1",
      "metadata": {
        "id": "49499ac1"
      },
      "source": [
        "---"
      ]
    },
    {
      "cell_type": "markdown",
      "id": "79b5ffac",
      "metadata": {
        "id": "79b5ffac"
      },
      "source": [
        "# 2. 회고"
      ]
    },
    {
      "cell_type": "markdown",
      "id": "97b390a1",
      "metadata": {
        "id": "97b390a1"
      },
      "source": [
        "---"
      ]
    },
    {
      "cell_type": "markdown",
      "id": "112b7f0b",
      "metadata": {
        "id": "112b7f0b"
      },
      "source": [
        "# 3. 참고 목록"
      ]
    }
  ],
  "metadata": {
    "kernelspec": {
      "display_name": "Python 3 (ipykernel)",
      "language": "python",
      "name": "python3"
    },
    "language_info": {
      "codemirror_mode": {
        "name": "ipython",
        "version": 3
      },
      "file_extension": ".py",
      "mimetype": "text/x-python",
      "name": "python",
      "nbconvert_exporter": "python",
      "pygments_lexer": "ipython3",
      "version": "3.9.0"
    },
    "colab": {
      "name": "[GD-02]nlp.ipynb",
      "provenance": [],
      "include_colab_link": true
    }
  },
  "nbformat": 4,
  "nbformat_minor": 5
}