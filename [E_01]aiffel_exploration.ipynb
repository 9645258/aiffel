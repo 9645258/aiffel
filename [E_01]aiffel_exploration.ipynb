{
  "nbformat": 4,
  "nbformat_minor": 0,
  "metadata": {
    "colab": {
      "name": "[E-01]aiffel_exploration.ipynb",
      "provenance": [],
      "collapsed_sections": [
        "pE8Rz1Qewqc4",
        "S_c1fojIw4Hn",
        "P9cA097txRBJ",
        "HOTUXh8dxJy6",
        "jjCWrI91EkEb",
        "bnEW7kH0HScP",
        "B6cxSCxI74A3",
        "I6iVrAuL74A4",
        "WQkgYLK574A4",
        "v5S6i35u74A4",
        "8BJQSFPZ74A6",
        "f7qAIfFP74A7",
        "vpuFFdcs8OG4",
        "2WT0xSGz8OG9",
        "bNzjZ1qp8OG9",
        "vFDbaOJn8OG-",
        "h7RjRwuV8OG_",
        "IbBdHpha8OHA",
        "6lFmMnS_LvU3",
        "E5a45GH8Mb0t",
        "2_n02NJ9p-9t"
      ],
      "authorship_tag": "ABX9TyMpbbtLZcFC6k8+3ikLtWIP",
      "include_colab_link": true
    },
    "kernelspec": {
      "name": "python3",
      "display_name": "Python 3"
    },
    "language_info": {
      "name": "python"
    }
  },
  "cells": [
    {
      "cell_type": "markdown",
      "metadata": {
        "id": "view-in-github",
        "colab_type": "text"
      },
      "source": [
        "<a href=\"https://colab.research.google.com/github/9645258/aiffel/blob/exploration/%5BE_01%5Daiffel_exploration.ipynb\" target=\"_parent\"><img src=\"https://colab.research.google.com/assets/colab-badge.svg\" alt=\"Open In Colab\"/></a>"
      ]
    },
    {
      "cell_type": "markdown",
      "source": [
        "# 📕 EXPLORATION 01-1 :  load_digits 손글씨 분류"
      ],
      "metadata": {
        "id": "pE8Rz1Qewqc4"
      }
    },
    {
      "cell_type": "markdown",
      "source": [
        "## 📑 (1) 모듈 import\n"
      ],
      "metadata": {
        "id": "S_c1fojIw4Hn"
      }
    },
    {
      "cell_type": "markdown",
      "source": [
        "- <u>scikit-learn 라이브러리</u>  \n",
        "    - 데이터 로딩: datasets (load_digits)  \n",
        "    - 데이터셋 분리: model_selection (train_test_split)  \n",
        "    - 성능 평가: metrics (classification_report)"
      ],
      "metadata": {
        "id": "Dlqq_9H60BFk"
      }
    },
    {
      "cell_type": "code",
      "source": [
        "from sklearn.datasets import load_digits\n",
        "from sklearn.model_selection import train_test_split\n",
        "from sklearn.metrics import classification_report"
      ],
      "metadata": {
        "id": "eznyYQBMuStu"
      },
      "execution_count": null,
      "outputs": []
    },
    {
      "cell_type": "markdown",
      "source": [
        "## 📑 (2) 데이터 준비"
      ],
      "metadata": {
        "id": "P9cA097txRBJ"
      }
    },
    {
      "cell_type": "markdown",
      "source": [
        "- <u>load_digits 메서드 활용</u>  \n",
        "    ESCR, data, feature_names, frame, images, target, target_names"
      ],
      "metadata": {
        "id": "fyefQasg0FrJ"
      }
    },
    {
      "cell_type": "code",
      "source": [
        "digits = load_digits()\n",
        "print(dir(digits))"
      ],
      "metadata": {
        "colab": {
          "base_uri": "https://localhost:8080/"
        },
        "id": "7sOi9-ohxY0M",
        "outputId": "717218ad-4feb-4dfe-acf7-aacbb02d2ba9"
      },
      "execution_count": null,
      "outputs": [
        {
          "output_type": "stream",
          "name": "stdout",
          "text": [
            "['DESCR', 'data', 'feature_names', 'frame', 'images', 'target', 'target_names']\n"
          ]
        }
      ]
    },
    {
      "cell_type": "code",
      "source": [
        "digits = load_digits()\n",
        "digits.keys()"
      ],
      "metadata": {
        "colab": {
          "base_uri": "https://localhost:8080/"
        },
        "id": "DMCapqVj5pNT",
        "outputId": "8a1b5ae8-e81c-4830-f0b0-83ebe78437b6"
      },
      "execution_count": null,
      "outputs": [
        {
          "output_type": "execute_result",
          "data": {
            "text/plain": [
              "dict_keys(['data', 'target', 'frame', 'feature_names', 'target_names', 'images', 'DESCR'])"
            ]
          },
          "metadata": {},
          "execution_count": 3
        }
      ]
    },
    {
      "cell_type": "markdown",
      "source": [
        "## 📑 (3) 데이터 이해"
      ],
      "metadata": {
        "id": "HOTUXh8dxJy6"
      }
    },
    {
      "cell_type": "markdown",
      "source": [
        "### 📌 01_digits 정보 확인"
      ],
      "metadata": {
        "id": "YgbuBqEW1r4t"
      }
    },
    {
      "cell_type": "markdown",
      "source": [
        "- <u>데이터 정보 (7개)</u>  \n",
        "    data, target, frame, feature_names, target_names, images, DESCR  \n",
        "    데이터: 1797개 / 속성: 64개  \n",
        "    속성 정보: 0 - 16에 있는 정수 픽셀 8*8 이미지 분류"
      ],
      "metadata": {
        "id": "PyT8ZhaG6ULz"
      }
    },
    {
      "cell_type": "code",
      "source": [
        "# 데이터 크기 확인\n",
        "digits_data = digits.data\n",
        "print(digits_data.shape)"
      ],
      "metadata": {
        "colab": {
          "base_uri": "https://localhost:8080/"
        },
        "id": "XDOf0QJbvnwz",
        "outputId": "d6fd9340-0866-4eae-bd2a-61a86f04dd27"
      },
      "execution_count": null,
      "outputs": [
        {
          "output_type": "stream",
          "name": "stdout",
          "text": [
            "(1797, 64)\n"
          ]
        }
      ]
    },
    {
      "cell_type": "code",
      "source": [
        "# 데이터 타겟 정보 확인\n",
        "digits_label = digits.target\n",
        "print(digits_label.shape)\n",
        "digits_label"
      ],
      "metadata": {
        "colab": {
          "base_uri": "https://localhost:8080/"
        },
        "id": "ndsI0Sgm-XAj",
        "outputId": "640479fa-b96b-48fa-981d-fbe2a41efe68"
      },
      "execution_count": null,
      "outputs": [
        {
          "output_type": "stream",
          "name": "stdout",
          "text": [
            "(1797,)\n"
          ]
        },
        {
          "output_type": "execute_result",
          "data": {
            "text/plain": [
              "array([0, 1, 2, ..., 8, 9, 8])"
            ]
          },
          "metadata": {},
          "execution_count": 5
        }
      ]
    },
    {
      "cell_type": "code",
      "source": [
        "# 데이터 각 feature에 대한 설명\n",
        "digits.feature_names"
      ],
      "metadata": {
        "colab": {
          "base_uri": "https://localhost:8080/"
        },
        "id": "8D-UDXXM90Rn",
        "outputId": "422f2c59-8086-462f-d541-7cf839c90056"
      },
      "execution_count": null,
      "outputs": [
        {
          "output_type": "execute_result",
          "data": {
            "text/plain": [
              "['pixel_0_0',\n",
              " 'pixel_0_1',\n",
              " 'pixel_0_2',\n",
              " 'pixel_0_3',\n",
              " 'pixel_0_4',\n",
              " 'pixel_0_5',\n",
              " 'pixel_0_6',\n",
              " 'pixel_0_7',\n",
              " 'pixel_1_0',\n",
              " 'pixel_1_1',\n",
              " 'pixel_1_2',\n",
              " 'pixel_1_3',\n",
              " 'pixel_1_4',\n",
              " 'pixel_1_5',\n",
              " 'pixel_1_6',\n",
              " 'pixel_1_7',\n",
              " 'pixel_2_0',\n",
              " 'pixel_2_1',\n",
              " 'pixel_2_2',\n",
              " 'pixel_2_3',\n",
              " 'pixel_2_4',\n",
              " 'pixel_2_5',\n",
              " 'pixel_2_6',\n",
              " 'pixel_2_7',\n",
              " 'pixel_3_0',\n",
              " 'pixel_3_1',\n",
              " 'pixel_3_2',\n",
              " 'pixel_3_3',\n",
              " 'pixel_3_4',\n",
              " 'pixel_3_5',\n",
              " 'pixel_3_6',\n",
              " 'pixel_3_7',\n",
              " 'pixel_4_0',\n",
              " 'pixel_4_1',\n",
              " 'pixel_4_2',\n",
              " 'pixel_4_3',\n",
              " 'pixel_4_4',\n",
              " 'pixel_4_5',\n",
              " 'pixel_4_6',\n",
              " 'pixel_4_7',\n",
              " 'pixel_5_0',\n",
              " 'pixel_5_1',\n",
              " 'pixel_5_2',\n",
              " 'pixel_5_3',\n",
              " 'pixel_5_4',\n",
              " 'pixel_5_5',\n",
              " 'pixel_5_6',\n",
              " 'pixel_5_7',\n",
              " 'pixel_6_0',\n",
              " 'pixel_6_1',\n",
              " 'pixel_6_2',\n",
              " 'pixel_6_3',\n",
              " 'pixel_6_4',\n",
              " 'pixel_6_5',\n",
              " 'pixel_6_6',\n",
              " 'pixel_6_7',\n",
              " 'pixel_7_0',\n",
              " 'pixel_7_1',\n",
              " 'pixel_7_2',\n",
              " 'pixel_7_3',\n",
              " 'pixel_7_4',\n",
              " 'pixel_7_5',\n",
              " 'pixel_7_6',\n",
              " 'pixel_7_7']"
            ]
          },
          "metadata": {},
          "execution_count": 6
        }
      ]
    },
    {
      "cell_type": "code",
      "source": [
        "# 데이터 라벨 이름 확인\n",
        "digits.target_names"
      ],
      "metadata": {
        "colab": {
          "base_uri": "https://localhost:8080/"
        },
        "id": "8CFO-xVZ7_E4",
        "outputId": "d2e5d474-ad62-4d64-c6e6-d78b884e5e13"
      },
      "execution_count": null,
      "outputs": [
        {
          "output_type": "execute_result",
          "data": {
            "text/plain": [
              "array([0, 1, 2, 3, 4, 5, 6, 7, 8, 9])"
            ]
          },
          "metadata": {},
          "execution_count": 7
        }
      ]
    },
    {
      "cell_type": "code",
      "source": [
        "# 데이터 이미지 확인\n",
        "print(digits.images.shape)"
      ],
      "metadata": {
        "colab": {
          "base_uri": "https://localhost:8080/"
        },
        "id": "WAnAa5Uf86MC",
        "outputId": "5c556b24-c73a-44d6-ba22-1b705baee496"
      },
      "execution_count": null,
      "outputs": [
        {
          "output_type": "stream",
          "name": "stdout",
          "text": [
            "(1797, 8, 8)\n"
          ]
        }
      ]
    },
    {
      "cell_type": "code",
      "source": [
        "# 데이터셋 설명 확인\n",
        "digits.DESCR"
      ],
      "metadata": {
        "colab": {
          "base_uri": "https://localhost:8080/",
          "height": 90
        },
        "id": "M7i0Y_R88Qr8",
        "outputId": "1771d24f-44e6-47e2-9844-07149165d206"
      },
      "execution_count": null,
      "outputs": [
        {
          "output_type": "execute_result",
          "data": {
            "text/plain": [
              "\".. _digits_dataset:\\n\\nOptical recognition of handwritten digits dataset\\n--------------------------------------------------\\n\\n**Data Set Characteristics:**\\n\\n    :Number of Instances: 1797\\n    :Number of Attributes: 64\\n    :Attribute Information: 8x8 image of integer pixels in the range 0..16.\\n    :Missing Attribute Values: None\\n    :Creator: E. Alpaydin (alpaydin '@' boun.edu.tr)\\n    :Date: July; 1998\\n\\nThis is a copy of the test set of the UCI ML hand-written digits datasets\\nhttps://archive.ics.uci.edu/ml/datasets/Optical+Recognition+of+Handwritten+Digits\\n\\nThe data set contains images of hand-written digits: 10 classes where\\neach class refers to a digit.\\n\\nPreprocessing programs made available by NIST were used to extract\\nnormalized bitmaps of handwritten digits from a preprinted form. From a\\ntotal of 43 people, 30 contributed to the training set and different 13\\nto the test set. 32x32 bitmaps are divided into nonoverlapping blocks of\\n4x4 and the number of on pixels are counted in each block. This generates\\nan input matrix of 8x8 where each element is an integer in the range\\n0..16. This reduces dimensionality and gives invariance to small\\ndistortions.\\n\\nFor info on NIST preprocessing routines, see M. D. Garris, J. L. Blue, G.\\nT. Candela, D. L. Dimmick, J. Geist, P. J. Grother, S. A. Janet, and C.\\nL. Wilson, NIST Form-Based Handprint Recognition System, NISTIR 5469,\\n1994.\\n\\n.. topic:: References\\n\\n  - C. Kaynak (1995) Methods of Combining Multiple Classifiers and Their\\n    Applications to Handwritten Digit Recognition, MSc Thesis, Institute of\\n    Graduate Studies in Science and Engineering, Bogazici University.\\n  - E. Alpaydin, C. Kaynak (1998) Cascading Classifiers, Kybernetika.\\n  - Ken Tang and Ponnuthurai N. Suganthan and Xi Yao and A. Kai Qin.\\n    Linear dimensionalityreduction using relevance weighted LDA. School of\\n    Electrical and Electronic Engineering Nanyang Technological University.\\n    2005.\\n  - Claudio Gentile. A New Approximate Maximal Margin Classification\\n    Algorithm. NIPS. 2000.\\n\""
            ],
            "application/vnd.google.colaboratory.intrinsic+json": {
              "type": "string"
            }
          },
          "metadata": {},
          "execution_count": 9
        }
      ]
    },
    {
      "cell_type": "markdown",
      "source": [
        "### 📌 02_DataFrame 자료형 변환"
      ],
      "metadata": {
        "id": "iPMnp8366sYF"
      }
    },
    {
      "cell_type": "markdown",
      "source": [
        "- <u>pandas import</u>"
      ],
      "metadata": {
        "id": "BKPlpsgwAsLK"
      }
    },
    {
      "cell_type": "code",
      "source": [
        "import pandas as pd"
      ],
      "metadata": {
        "id": "5vXzB8CS-z7p"
      },
      "execution_count": null,
      "outputs": []
    },
    {
      "cell_type": "markdown",
      "source": [
        "- <u>DataFrame 자료형으로 변환</u>  \n",
        "    data : digits_data  \n",
        "    colums : feature_names"
      ],
      "metadata": {
        "id": "IN_StPoADM8m"
      }
    },
    {
      "cell_type": "code",
      "source": [
        "digits_df = pd.DataFrame(data=digits_data, columns=digits.feature_names)\n",
        "digits_df"
      ],
      "metadata": {
        "colab": {
          "base_uri": "https://localhost:8080/",
          "height": 488
        },
        "id": "UMQrjdWJ_CDY",
        "outputId": "2def174b-ff9c-488d-bafa-d3647bb28113"
      },
      "execution_count": null,
      "outputs": [
        {
          "output_type": "execute_result",
          "data": {
            "text/plain": [
              "      pixel_0_0  pixel_0_1  pixel_0_2  pixel_0_3  pixel_0_4  pixel_0_5  \\\n",
              "0           0.0        0.0        5.0       13.0        9.0        1.0   \n",
              "1           0.0        0.0        0.0       12.0       13.0        5.0   \n",
              "2           0.0        0.0        0.0        4.0       15.0       12.0   \n",
              "3           0.0        0.0        7.0       15.0       13.0        1.0   \n",
              "4           0.0        0.0        0.0        1.0       11.0        0.0   \n",
              "...         ...        ...        ...        ...        ...        ...   \n",
              "1792        0.0        0.0        4.0       10.0       13.0        6.0   \n",
              "1793        0.0        0.0        6.0       16.0       13.0       11.0   \n",
              "1794        0.0        0.0        1.0       11.0       15.0        1.0   \n",
              "1795        0.0        0.0        2.0       10.0        7.0        0.0   \n",
              "1796        0.0        0.0       10.0       14.0        8.0        1.0   \n",
              "\n",
              "      pixel_0_6  pixel_0_7  pixel_1_0  pixel_1_1  ...  pixel_6_6  pixel_6_7  \\\n",
              "0           0.0        0.0        0.0        0.0  ...        0.0        0.0   \n",
              "1           0.0        0.0        0.0        0.0  ...        0.0        0.0   \n",
              "2           0.0        0.0        0.0        0.0  ...        5.0        0.0   \n",
              "3           0.0        0.0        0.0        8.0  ...        9.0        0.0   \n",
              "4           0.0        0.0        0.0        0.0  ...        0.0        0.0   \n",
              "...         ...        ...        ...        ...  ...        ...        ...   \n",
              "1792        0.0        0.0        0.0        1.0  ...        4.0        0.0   \n",
              "1793        1.0        0.0        0.0        0.0  ...        1.0        0.0   \n",
              "1794        0.0        0.0        0.0        0.0  ...        0.0        0.0   \n",
              "1795        0.0        0.0        0.0        0.0  ...        2.0        0.0   \n",
              "1796        0.0        0.0        0.0        2.0  ...        8.0        0.0   \n",
              "\n",
              "      pixel_7_0  pixel_7_1  pixel_7_2  pixel_7_3  pixel_7_4  pixel_7_5  \\\n",
              "0           0.0        0.0        6.0       13.0       10.0        0.0   \n",
              "1           0.0        0.0        0.0       11.0       16.0       10.0   \n",
              "2           0.0        0.0        0.0        3.0       11.0       16.0   \n",
              "3           0.0        0.0        7.0       13.0       13.0        9.0   \n",
              "4           0.0        0.0        0.0        2.0       16.0        4.0   \n",
              "...         ...        ...        ...        ...        ...        ...   \n",
              "1792        0.0        0.0        2.0       14.0       15.0        9.0   \n",
              "1793        0.0        0.0        6.0       16.0       14.0        6.0   \n",
              "1794        0.0        0.0        2.0        9.0       13.0        6.0   \n",
              "1795        0.0        0.0        5.0       12.0       16.0       12.0   \n",
              "1796        0.0        1.0        8.0       12.0       14.0       12.0   \n",
              "\n",
              "      pixel_7_6  pixel_7_7  \n",
              "0           0.0        0.0  \n",
              "1           0.0        0.0  \n",
              "2           9.0        0.0  \n",
              "3           0.0        0.0  \n",
              "4           0.0        0.0  \n",
              "...         ...        ...  \n",
              "1792        0.0        0.0  \n",
              "1793        0.0        0.0  \n",
              "1794        0.0        0.0  \n",
              "1795        0.0        0.0  \n",
              "1796        1.0        0.0  \n",
              "\n",
              "[1797 rows x 64 columns]"
            ],
            "text/html": [
              "\n",
              "  <div id=\"df-112b1c81-570e-4d12-bda3-a1fe415d98c4\">\n",
              "    <div class=\"colab-df-container\">\n",
              "      <div>\n",
              "<style scoped>\n",
              "    .dataframe tbody tr th:only-of-type {\n",
              "        vertical-align: middle;\n",
              "    }\n",
              "\n",
              "    .dataframe tbody tr th {\n",
              "        vertical-align: top;\n",
              "    }\n",
              "\n",
              "    .dataframe thead th {\n",
              "        text-align: right;\n",
              "    }\n",
              "</style>\n",
              "<table border=\"1\" class=\"dataframe\">\n",
              "  <thead>\n",
              "    <tr style=\"text-align: right;\">\n",
              "      <th></th>\n",
              "      <th>pixel_0_0</th>\n",
              "      <th>pixel_0_1</th>\n",
              "      <th>pixel_0_2</th>\n",
              "      <th>pixel_0_3</th>\n",
              "      <th>pixel_0_4</th>\n",
              "      <th>pixel_0_5</th>\n",
              "      <th>pixel_0_6</th>\n",
              "      <th>pixel_0_7</th>\n",
              "      <th>pixel_1_0</th>\n",
              "      <th>pixel_1_1</th>\n",
              "      <th>...</th>\n",
              "      <th>pixel_6_6</th>\n",
              "      <th>pixel_6_7</th>\n",
              "      <th>pixel_7_0</th>\n",
              "      <th>pixel_7_1</th>\n",
              "      <th>pixel_7_2</th>\n",
              "      <th>pixel_7_3</th>\n",
              "      <th>pixel_7_4</th>\n",
              "      <th>pixel_7_5</th>\n",
              "      <th>pixel_7_6</th>\n",
              "      <th>pixel_7_7</th>\n",
              "    </tr>\n",
              "  </thead>\n",
              "  <tbody>\n",
              "    <tr>\n",
              "      <th>0</th>\n",
              "      <td>0.0</td>\n",
              "      <td>0.0</td>\n",
              "      <td>5.0</td>\n",
              "      <td>13.0</td>\n",
              "      <td>9.0</td>\n",
              "      <td>1.0</td>\n",
              "      <td>0.0</td>\n",
              "      <td>0.0</td>\n",
              "      <td>0.0</td>\n",
              "      <td>0.0</td>\n",
              "      <td>...</td>\n",
              "      <td>0.0</td>\n",
              "      <td>0.0</td>\n",
              "      <td>0.0</td>\n",
              "      <td>0.0</td>\n",
              "      <td>6.0</td>\n",
              "      <td>13.0</td>\n",
              "      <td>10.0</td>\n",
              "      <td>0.0</td>\n",
              "      <td>0.0</td>\n",
              "      <td>0.0</td>\n",
              "    </tr>\n",
              "    <tr>\n",
              "      <th>1</th>\n",
              "      <td>0.0</td>\n",
              "      <td>0.0</td>\n",
              "      <td>0.0</td>\n",
              "      <td>12.0</td>\n",
              "      <td>13.0</td>\n",
              "      <td>5.0</td>\n",
              "      <td>0.0</td>\n",
              "      <td>0.0</td>\n",
              "      <td>0.0</td>\n",
              "      <td>0.0</td>\n",
              "      <td>...</td>\n",
              "      <td>0.0</td>\n",
              "      <td>0.0</td>\n",
              "      <td>0.0</td>\n",
              "      <td>0.0</td>\n",
              "      <td>0.0</td>\n",
              "      <td>11.0</td>\n",
              "      <td>16.0</td>\n",
              "      <td>10.0</td>\n",
              "      <td>0.0</td>\n",
              "      <td>0.0</td>\n",
              "    </tr>\n",
              "    <tr>\n",
              "      <th>2</th>\n",
              "      <td>0.0</td>\n",
              "      <td>0.0</td>\n",
              "      <td>0.0</td>\n",
              "      <td>4.0</td>\n",
              "      <td>15.0</td>\n",
              "      <td>12.0</td>\n",
              "      <td>0.0</td>\n",
              "      <td>0.0</td>\n",
              "      <td>0.0</td>\n",
              "      <td>0.0</td>\n",
              "      <td>...</td>\n",
              "      <td>5.0</td>\n",
              "      <td>0.0</td>\n",
              "      <td>0.0</td>\n",
              "      <td>0.0</td>\n",
              "      <td>0.0</td>\n",
              "      <td>3.0</td>\n",
              "      <td>11.0</td>\n",
              "      <td>16.0</td>\n",
              "      <td>9.0</td>\n",
              "      <td>0.0</td>\n",
              "    </tr>\n",
              "    <tr>\n",
              "      <th>3</th>\n",
              "      <td>0.0</td>\n",
              "      <td>0.0</td>\n",
              "      <td>7.0</td>\n",
              "      <td>15.0</td>\n",
              "      <td>13.0</td>\n",
              "      <td>1.0</td>\n",
              "      <td>0.0</td>\n",
              "      <td>0.0</td>\n",
              "      <td>0.0</td>\n",
              "      <td>8.0</td>\n",
              "      <td>...</td>\n",
              "      <td>9.0</td>\n",
              "      <td>0.0</td>\n",
              "      <td>0.0</td>\n",
              "      <td>0.0</td>\n",
              "      <td>7.0</td>\n",
              "      <td>13.0</td>\n",
              "      <td>13.0</td>\n",
              "      <td>9.0</td>\n",
              "      <td>0.0</td>\n",
              "      <td>0.0</td>\n",
              "    </tr>\n",
              "    <tr>\n",
              "      <th>4</th>\n",
              "      <td>0.0</td>\n",
              "      <td>0.0</td>\n",
              "      <td>0.0</td>\n",
              "      <td>1.0</td>\n",
              "      <td>11.0</td>\n",
              "      <td>0.0</td>\n",
              "      <td>0.0</td>\n",
              "      <td>0.0</td>\n",
              "      <td>0.0</td>\n",
              "      <td>0.0</td>\n",
              "      <td>...</td>\n",
              "      <td>0.0</td>\n",
              "      <td>0.0</td>\n",
              "      <td>0.0</td>\n",
              "      <td>0.0</td>\n",
              "      <td>0.0</td>\n",
              "      <td>2.0</td>\n",
              "      <td>16.0</td>\n",
              "      <td>4.0</td>\n",
              "      <td>0.0</td>\n",
              "      <td>0.0</td>\n",
              "    </tr>\n",
              "    <tr>\n",
              "      <th>...</th>\n",
              "      <td>...</td>\n",
              "      <td>...</td>\n",
              "      <td>...</td>\n",
              "      <td>...</td>\n",
              "      <td>...</td>\n",
              "      <td>...</td>\n",
              "      <td>...</td>\n",
              "      <td>...</td>\n",
              "      <td>...</td>\n",
              "      <td>...</td>\n",
              "      <td>...</td>\n",
              "      <td>...</td>\n",
              "      <td>...</td>\n",
              "      <td>...</td>\n",
              "      <td>...</td>\n",
              "      <td>...</td>\n",
              "      <td>...</td>\n",
              "      <td>...</td>\n",
              "      <td>...</td>\n",
              "      <td>...</td>\n",
              "      <td>...</td>\n",
              "    </tr>\n",
              "    <tr>\n",
              "      <th>1792</th>\n",
              "      <td>0.0</td>\n",
              "      <td>0.0</td>\n",
              "      <td>4.0</td>\n",
              "      <td>10.0</td>\n",
              "      <td>13.0</td>\n",
              "      <td>6.0</td>\n",
              "      <td>0.0</td>\n",
              "      <td>0.0</td>\n",
              "      <td>0.0</td>\n",
              "      <td>1.0</td>\n",
              "      <td>...</td>\n",
              "      <td>4.0</td>\n",
              "      <td>0.0</td>\n",
              "      <td>0.0</td>\n",
              "      <td>0.0</td>\n",
              "      <td>2.0</td>\n",
              "      <td>14.0</td>\n",
              "      <td>15.0</td>\n",
              "      <td>9.0</td>\n",
              "      <td>0.0</td>\n",
              "      <td>0.0</td>\n",
              "    </tr>\n",
              "    <tr>\n",
              "      <th>1793</th>\n",
              "      <td>0.0</td>\n",
              "      <td>0.0</td>\n",
              "      <td>6.0</td>\n",
              "      <td>16.0</td>\n",
              "      <td>13.0</td>\n",
              "      <td>11.0</td>\n",
              "      <td>1.0</td>\n",
              "      <td>0.0</td>\n",
              "      <td>0.0</td>\n",
              "      <td>0.0</td>\n",
              "      <td>...</td>\n",
              "      <td>1.0</td>\n",
              "      <td>0.0</td>\n",
              "      <td>0.0</td>\n",
              "      <td>0.0</td>\n",
              "      <td>6.0</td>\n",
              "      <td>16.0</td>\n",
              "      <td>14.0</td>\n",
              "      <td>6.0</td>\n",
              "      <td>0.0</td>\n",
              "      <td>0.0</td>\n",
              "    </tr>\n",
              "    <tr>\n",
              "      <th>1794</th>\n",
              "      <td>0.0</td>\n",
              "      <td>0.0</td>\n",
              "      <td>1.0</td>\n",
              "      <td>11.0</td>\n",
              "      <td>15.0</td>\n",
              "      <td>1.0</td>\n",
              "      <td>0.0</td>\n",
              "      <td>0.0</td>\n",
              "      <td>0.0</td>\n",
              "      <td>0.0</td>\n",
              "      <td>...</td>\n",
              "      <td>0.0</td>\n",
              "      <td>0.0</td>\n",
              "      <td>0.0</td>\n",
              "      <td>0.0</td>\n",
              "      <td>2.0</td>\n",
              "      <td>9.0</td>\n",
              "      <td>13.0</td>\n",
              "      <td>6.0</td>\n",
              "      <td>0.0</td>\n",
              "      <td>0.0</td>\n",
              "    </tr>\n",
              "    <tr>\n",
              "      <th>1795</th>\n",
              "      <td>0.0</td>\n",
              "      <td>0.0</td>\n",
              "      <td>2.0</td>\n",
              "      <td>10.0</td>\n",
              "      <td>7.0</td>\n",
              "      <td>0.0</td>\n",
              "      <td>0.0</td>\n",
              "      <td>0.0</td>\n",
              "      <td>0.0</td>\n",
              "      <td>0.0</td>\n",
              "      <td>...</td>\n",
              "      <td>2.0</td>\n",
              "      <td>0.0</td>\n",
              "      <td>0.0</td>\n",
              "      <td>0.0</td>\n",
              "      <td>5.0</td>\n",
              "      <td>12.0</td>\n",
              "      <td>16.0</td>\n",
              "      <td>12.0</td>\n",
              "      <td>0.0</td>\n",
              "      <td>0.0</td>\n",
              "    </tr>\n",
              "    <tr>\n",
              "      <th>1796</th>\n",
              "      <td>0.0</td>\n",
              "      <td>0.0</td>\n",
              "      <td>10.0</td>\n",
              "      <td>14.0</td>\n",
              "      <td>8.0</td>\n",
              "      <td>1.0</td>\n",
              "      <td>0.0</td>\n",
              "      <td>0.0</td>\n",
              "      <td>0.0</td>\n",
              "      <td>2.0</td>\n",
              "      <td>...</td>\n",
              "      <td>8.0</td>\n",
              "      <td>0.0</td>\n",
              "      <td>0.0</td>\n",
              "      <td>1.0</td>\n",
              "      <td>8.0</td>\n",
              "      <td>12.0</td>\n",
              "      <td>14.0</td>\n",
              "      <td>12.0</td>\n",
              "      <td>1.0</td>\n",
              "      <td>0.0</td>\n",
              "    </tr>\n",
              "  </tbody>\n",
              "</table>\n",
              "<p>1797 rows × 64 columns</p>\n",
              "</div>\n",
              "      <button class=\"colab-df-convert\" onclick=\"convertToInteractive('df-112b1c81-570e-4d12-bda3-a1fe415d98c4')\"\n",
              "              title=\"Convert this dataframe to an interactive table.\"\n",
              "              style=\"display:none;\">\n",
              "        \n",
              "  <svg xmlns=\"http://www.w3.org/2000/svg\" height=\"24px\"viewBox=\"0 0 24 24\"\n",
              "       width=\"24px\">\n",
              "    <path d=\"M0 0h24v24H0V0z\" fill=\"none\"/>\n",
              "    <path d=\"M18.56 5.44l.94 2.06.94-2.06 2.06-.94-2.06-.94-.94-2.06-.94 2.06-2.06.94zm-11 1L8.5 8.5l.94-2.06 2.06-.94-2.06-.94L8.5 2.5l-.94 2.06-2.06.94zm10 10l.94 2.06.94-2.06 2.06-.94-2.06-.94-.94-2.06-.94 2.06-2.06.94z\"/><path d=\"M17.41 7.96l-1.37-1.37c-.4-.4-.92-.59-1.43-.59-.52 0-1.04.2-1.43.59L10.3 9.45l-7.72 7.72c-.78.78-.78 2.05 0 2.83L4 21.41c.39.39.9.59 1.41.59.51 0 1.02-.2 1.41-.59l7.78-7.78 2.81-2.81c.8-.78.8-2.07 0-2.86zM5.41 20L4 18.59l7.72-7.72 1.47 1.35L5.41 20z\"/>\n",
              "  </svg>\n",
              "      </button>\n",
              "      \n",
              "  <style>\n",
              "    .colab-df-container {\n",
              "      display:flex;\n",
              "      flex-wrap:wrap;\n",
              "      gap: 12px;\n",
              "    }\n",
              "\n",
              "    .colab-df-convert {\n",
              "      background-color: #E8F0FE;\n",
              "      border: none;\n",
              "      border-radius: 50%;\n",
              "      cursor: pointer;\n",
              "      display: none;\n",
              "      fill: #1967D2;\n",
              "      height: 32px;\n",
              "      padding: 0 0 0 0;\n",
              "      width: 32px;\n",
              "    }\n",
              "\n",
              "    .colab-df-convert:hover {\n",
              "      background-color: #E2EBFA;\n",
              "      box-shadow: 0px 1px 2px rgba(60, 64, 67, 0.3), 0px 1px 3px 1px rgba(60, 64, 67, 0.15);\n",
              "      fill: #174EA6;\n",
              "    }\n",
              "\n",
              "    [theme=dark] .colab-df-convert {\n",
              "      background-color: #3B4455;\n",
              "      fill: #D2E3FC;\n",
              "    }\n",
              "\n",
              "    [theme=dark] .colab-df-convert:hover {\n",
              "      background-color: #434B5C;\n",
              "      box-shadow: 0px 1px 3px 1px rgba(0, 0, 0, 0.15);\n",
              "      filter: drop-shadow(0px 1px 2px rgba(0, 0, 0, 0.3));\n",
              "      fill: #FFFFFF;\n",
              "    }\n",
              "  </style>\n",
              "\n",
              "      <script>\n",
              "        const buttonEl =\n",
              "          document.querySelector('#df-112b1c81-570e-4d12-bda3-a1fe415d98c4 button.colab-df-convert');\n",
              "        buttonEl.style.display =\n",
              "          google.colab.kernel.accessAllowed ? 'block' : 'none';\n",
              "\n",
              "        async function convertToInteractive(key) {\n",
              "          const element = document.querySelector('#df-112b1c81-570e-4d12-bda3-a1fe415d98c4');\n",
              "          const dataTable =\n",
              "            await google.colab.kernel.invokeFunction('convertToInteractive',\n",
              "                                                     [key], {});\n",
              "          if (!dataTable) return;\n",
              "\n",
              "          const docLinkHtml = 'Like what you see? Visit the ' +\n",
              "            '<a target=\"_blank\" href=https://colab.research.google.com/notebooks/data_table.ipynb>data table notebook</a>'\n",
              "            + ' to learn more about interactive tables.';\n",
              "          element.innerHTML = '';\n",
              "          dataTable['output_type'] = 'display_data';\n",
              "          await google.colab.output.renderOutput(dataTable, element);\n",
              "          const docLink = document.createElement('div');\n",
              "          docLink.innerHTML = docLinkHtml;\n",
              "          element.appendChild(docLink);\n",
              "        }\n",
              "      </script>\n",
              "    </div>\n",
              "  </div>\n",
              "  "
            ]
          },
          "metadata": {},
          "execution_count": 11
        }
      ]
    },
    {
      "cell_type": "markdown",
      "source": [
        "- <u>Label data 추가</u>  \n",
        "    label(target) : 정답 데이터"
      ],
      "metadata": {
        "id": "UGb1FgsYDrT2"
      }
    },
    {
      "cell_type": "code",
      "source": [
        "digits_df[\"label\"] = digits.target\n",
        "digits_df"
      ],
      "metadata": {
        "colab": {
          "base_uri": "https://localhost:8080/",
          "height": 468
        },
        "id": "RwhQDg2-_7O4",
        "outputId": "5cb1754c-ffa2-4052-d6c6-4ebbcef2569a"
      },
      "execution_count": null,
      "outputs": [
        {
          "output_type": "execute_result",
          "data": {
            "text/plain": [
              "      pixel_0_0  pixel_0_1  pixel_0_2  pixel_0_3  pixel_0_4  pixel_0_5  \\\n",
              "0           0.0        0.0        5.0       13.0        9.0        1.0   \n",
              "1           0.0        0.0        0.0       12.0       13.0        5.0   \n",
              "2           0.0        0.0        0.0        4.0       15.0       12.0   \n",
              "3           0.0        0.0        7.0       15.0       13.0        1.0   \n",
              "4           0.0        0.0        0.0        1.0       11.0        0.0   \n",
              "...         ...        ...        ...        ...        ...        ...   \n",
              "1792        0.0        0.0        4.0       10.0       13.0        6.0   \n",
              "1793        0.0        0.0        6.0       16.0       13.0       11.0   \n",
              "1794        0.0        0.0        1.0       11.0       15.0        1.0   \n",
              "1795        0.0        0.0        2.0       10.0        7.0        0.0   \n",
              "1796        0.0        0.0       10.0       14.0        8.0        1.0   \n",
              "\n",
              "      pixel_0_6  pixel_0_7  pixel_1_0  pixel_1_1  ...  pixel_6_7  pixel_7_0  \\\n",
              "0           0.0        0.0        0.0        0.0  ...        0.0        0.0   \n",
              "1           0.0        0.0        0.0        0.0  ...        0.0        0.0   \n",
              "2           0.0        0.0        0.0        0.0  ...        0.0        0.0   \n",
              "3           0.0        0.0        0.0        8.0  ...        0.0        0.0   \n",
              "4           0.0        0.0        0.0        0.0  ...        0.0        0.0   \n",
              "...         ...        ...        ...        ...  ...        ...        ...   \n",
              "1792        0.0        0.0        0.0        1.0  ...        0.0        0.0   \n",
              "1793        1.0        0.0        0.0        0.0  ...        0.0        0.0   \n",
              "1794        0.0        0.0        0.0        0.0  ...        0.0        0.0   \n",
              "1795        0.0        0.0        0.0        0.0  ...        0.0        0.0   \n",
              "1796        0.0        0.0        0.0        2.0  ...        0.0        0.0   \n",
              "\n",
              "      pixel_7_1  pixel_7_2  pixel_7_3  pixel_7_4  pixel_7_5  pixel_7_6  \\\n",
              "0           0.0        6.0       13.0       10.0        0.0        0.0   \n",
              "1           0.0        0.0       11.0       16.0       10.0        0.0   \n",
              "2           0.0        0.0        3.0       11.0       16.0        9.0   \n",
              "3           0.0        7.0       13.0       13.0        9.0        0.0   \n",
              "4           0.0        0.0        2.0       16.0        4.0        0.0   \n",
              "...         ...        ...        ...        ...        ...        ...   \n",
              "1792        0.0        2.0       14.0       15.0        9.0        0.0   \n",
              "1793        0.0        6.0       16.0       14.0        6.0        0.0   \n",
              "1794        0.0        2.0        9.0       13.0        6.0        0.0   \n",
              "1795        0.0        5.0       12.0       16.0       12.0        0.0   \n",
              "1796        1.0        8.0       12.0       14.0       12.0        1.0   \n",
              "\n",
              "      pixel_7_7  label  \n",
              "0           0.0      0  \n",
              "1           0.0      1  \n",
              "2           0.0      2  \n",
              "3           0.0      3  \n",
              "4           0.0      4  \n",
              "...         ...    ...  \n",
              "1792        0.0      9  \n",
              "1793        0.0      0  \n",
              "1794        0.0      8  \n",
              "1795        0.0      9  \n",
              "1796        0.0      8  \n",
              "\n",
              "[1797 rows x 65 columns]"
            ],
            "text/html": [
              "\n",
              "  <div id=\"df-d84f4994-da44-4480-9abd-0c25628a6462\">\n",
              "    <div class=\"colab-df-container\">\n",
              "      <div>\n",
              "<style scoped>\n",
              "    .dataframe tbody tr th:only-of-type {\n",
              "        vertical-align: middle;\n",
              "    }\n",
              "\n",
              "    .dataframe tbody tr th {\n",
              "        vertical-align: top;\n",
              "    }\n",
              "\n",
              "    .dataframe thead th {\n",
              "        text-align: right;\n",
              "    }\n",
              "</style>\n",
              "<table border=\"1\" class=\"dataframe\">\n",
              "  <thead>\n",
              "    <tr style=\"text-align: right;\">\n",
              "      <th></th>\n",
              "      <th>pixel_0_0</th>\n",
              "      <th>pixel_0_1</th>\n",
              "      <th>pixel_0_2</th>\n",
              "      <th>pixel_0_3</th>\n",
              "      <th>pixel_0_4</th>\n",
              "      <th>pixel_0_5</th>\n",
              "      <th>pixel_0_6</th>\n",
              "      <th>pixel_0_7</th>\n",
              "      <th>pixel_1_0</th>\n",
              "      <th>pixel_1_1</th>\n",
              "      <th>...</th>\n",
              "      <th>pixel_6_7</th>\n",
              "      <th>pixel_7_0</th>\n",
              "      <th>pixel_7_1</th>\n",
              "      <th>pixel_7_2</th>\n",
              "      <th>pixel_7_3</th>\n",
              "      <th>pixel_7_4</th>\n",
              "      <th>pixel_7_5</th>\n",
              "      <th>pixel_7_6</th>\n",
              "      <th>pixel_7_7</th>\n",
              "      <th>label</th>\n",
              "    </tr>\n",
              "  </thead>\n",
              "  <tbody>\n",
              "    <tr>\n",
              "      <th>0</th>\n",
              "      <td>0.0</td>\n",
              "      <td>0.0</td>\n",
              "      <td>5.0</td>\n",
              "      <td>13.0</td>\n",
              "      <td>9.0</td>\n",
              "      <td>1.0</td>\n",
              "      <td>0.0</td>\n",
              "      <td>0.0</td>\n",
              "      <td>0.0</td>\n",
              "      <td>0.0</td>\n",
              "      <td>...</td>\n",
              "      <td>0.0</td>\n",
              "      <td>0.0</td>\n",
              "      <td>0.0</td>\n",
              "      <td>6.0</td>\n",
              "      <td>13.0</td>\n",
              "      <td>10.0</td>\n",
              "      <td>0.0</td>\n",
              "      <td>0.0</td>\n",
              "      <td>0.0</td>\n",
              "      <td>0</td>\n",
              "    </tr>\n",
              "    <tr>\n",
              "      <th>1</th>\n",
              "      <td>0.0</td>\n",
              "      <td>0.0</td>\n",
              "      <td>0.0</td>\n",
              "      <td>12.0</td>\n",
              "      <td>13.0</td>\n",
              "      <td>5.0</td>\n",
              "      <td>0.0</td>\n",
              "      <td>0.0</td>\n",
              "      <td>0.0</td>\n",
              "      <td>0.0</td>\n",
              "      <td>...</td>\n",
              "      <td>0.0</td>\n",
              "      <td>0.0</td>\n",
              "      <td>0.0</td>\n",
              "      <td>0.0</td>\n",
              "      <td>11.0</td>\n",
              "      <td>16.0</td>\n",
              "      <td>10.0</td>\n",
              "      <td>0.0</td>\n",
              "      <td>0.0</td>\n",
              "      <td>1</td>\n",
              "    </tr>\n",
              "    <tr>\n",
              "      <th>2</th>\n",
              "      <td>0.0</td>\n",
              "      <td>0.0</td>\n",
              "      <td>0.0</td>\n",
              "      <td>4.0</td>\n",
              "      <td>15.0</td>\n",
              "      <td>12.0</td>\n",
              "      <td>0.0</td>\n",
              "      <td>0.0</td>\n",
              "      <td>0.0</td>\n",
              "      <td>0.0</td>\n",
              "      <td>...</td>\n",
              "      <td>0.0</td>\n",
              "      <td>0.0</td>\n",
              "      <td>0.0</td>\n",
              "      <td>0.0</td>\n",
              "      <td>3.0</td>\n",
              "      <td>11.0</td>\n",
              "      <td>16.0</td>\n",
              "      <td>9.0</td>\n",
              "      <td>0.0</td>\n",
              "      <td>2</td>\n",
              "    </tr>\n",
              "    <tr>\n",
              "      <th>3</th>\n",
              "      <td>0.0</td>\n",
              "      <td>0.0</td>\n",
              "      <td>7.0</td>\n",
              "      <td>15.0</td>\n",
              "      <td>13.0</td>\n",
              "      <td>1.0</td>\n",
              "      <td>0.0</td>\n",
              "      <td>0.0</td>\n",
              "      <td>0.0</td>\n",
              "      <td>8.0</td>\n",
              "      <td>...</td>\n",
              "      <td>0.0</td>\n",
              "      <td>0.0</td>\n",
              "      <td>0.0</td>\n",
              "      <td>7.0</td>\n",
              "      <td>13.0</td>\n",
              "      <td>13.0</td>\n",
              "      <td>9.0</td>\n",
              "      <td>0.0</td>\n",
              "      <td>0.0</td>\n",
              "      <td>3</td>\n",
              "    </tr>\n",
              "    <tr>\n",
              "      <th>4</th>\n",
              "      <td>0.0</td>\n",
              "      <td>0.0</td>\n",
              "      <td>0.0</td>\n",
              "      <td>1.0</td>\n",
              "      <td>11.0</td>\n",
              "      <td>0.0</td>\n",
              "      <td>0.0</td>\n",
              "      <td>0.0</td>\n",
              "      <td>0.0</td>\n",
              "      <td>0.0</td>\n",
              "      <td>...</td>\n",
              "      <td>0.0</td>\n",
              "      <td>0.0</td>\n",
              "      <td>0.0</td>\n",
              "      <td>0.0</td>\n",
              "      <td>2.0</td>\n",
              "      <td>16.0</td>\n",
              "      <td>4.0</td>\n",
              "      <td>0.0</td>\n",
              "      <td>0.0</td>\n",
              "      <td>4</td>\n",
              "    </tr>\n",
              "    <tr>\n",
              "      <th>...</th>\n",
              "      <td>...</td>\n",
              "      <td>...</td>\n",
              "      <td>...</td>\n",
              "      <td>...</td>\n",
              "      <td>...</td>\n",
              "      <td>...</td>\n",
              "      <td>...</td>\n",
              "      <td>...</td>\n",
              "      <td>...</td>\n",
              "      <td>...</td>\n",
              "      <td>...</td>\n",
              "      <td>...</td>\n",
              "      <td>...</td>\n",
              "      <td>...</td>\n",
              "      <td>...</td>\n",
              "      <td>...</td>\n",
              "      <td>...</td>\n",
              "      <td>...</td>\n",
              "      <td>...</td>\n",
              "      <td>...</td>\n",
              "      <td>...</td>\n",
              "    </tr>\n",
              "    <tr>\n",
              "      <th>1792</th>\n",
              "      <td>0.0</td>\n",
              "      <td>0.0</td>\n",
              "      <td>4.0</td>\n",
              "      <td>10.0</td>\n",
              "      <td>13.0</td>\n",
              "      <td>6.0</td>\n",
              "      <td>0.0</td>\n",
              "      <td>0.0</td>\n",
              "      <td>0.0</td>\n",
              "      <td>1.0</td>\n",
              "      <td>...</td>\n",
              "      <td>0.0</td>\n",
              "      <td>0.0</td>\n",
              "      <td>0.0</td>\n",
              "      <td>2.0</td>\n",
              "      <td>14.0</td>\n",
              "      <td>15.0</td>\n",
              "      <td>9.0</td>\n",
              "      <td>0.0</td>\n",
              "      <td>0.0</td>\n",
              "      <td>9</td>\n",
              "    </tr>\n",
              "    <tr>\n",
              "      <th>1793</th>\n",
              "      <td>0.0</td>\n",
              "      <td>0.0</td>\n",
              "      <td>6.0</td>\n",
              "      <td>16.0</td>\n",
              "      <td>13.0</td>\n",
              "      <td>11.0</td>\n",
              "      <td>1.0</td>\n",
              "      <td>0.0</td>\n",
              "      <td>0.0</td>\n",
              "      <td>0.0</td>\n",
              "      <td>...</td>\n",
              "      <td>0.0</td>\n",
              "      <td>0.0</td>\n",
              "      <td>0.0</td>\n",
              "      <td>6.0</td>\n",
              "      <td>16.0</td>\n",
              "      <td>14.0</td>\n",
              "      <td>6.0</td>\n",
              "      <td>0.0</td>\n",
              "      <td>0.0</td>\n",
              "      <td>0</td>\n",
              "    </tr>\n",
              "    <tr>\n",
              "      <th>1794</th>\n",
              "      <td>0.0</td>\n",
              "      <td>0.0</td>\n",
              "      <td>1.0</td>\n",
              "      <td>11.0</td>\n",
              "      <td>15.0</td>\n",
              "      <td>1.0</td>\n",
              "      <td>0.0</td>\n",
              "      <td>0.0</td>\n",
              "      <td>0.0</td>\n",
              "      <td>0.0</td>\n",
              "      <td>...</td>\n",
              "      <td>0.0</td>\n",
              "      <td>0.0</td>\n",
              "      <td>0.0</td>\n",
              "      <td>2.0</td>\n",
              "      <td>9.0</td>\n",
              "      <td>13.0</td>\n",
              "      <td>6.0</td>\n",
              "      <td>0.0</td>\n",
              "      <td>0.0</td>\n",
              "      <td>8</td>\n",
              "    </tr>\n",
              "    <tr>\n",
              "      <th>1795</th>\n",
              "      <td>0.0</td>\n",
              "      <td>0.0</td>\n",
              "      <td>2.0</td>\n",
              "      <td>10.0</td>\n",
              "      <td>7.0</td>\n",
              "      <td>0.0</td>\n",
              "      <td>0.0</td>\n",
              "      <td>0.0</td>\n",
              "      <td>0.0</td>\n",
              "      <td>0.0</td>\n",
              "      <td>...</td>\n",
              "      <td>0.0</td>\n",
              "      <td>0.0</td>\n",
              "      <td>0.0</td>\n",
              "      <td>5.0</td>\n",
              "      <td>12.0</td>\n",
              "      <td>16.0</td>\n",
              "      <td>12.0</td>\n",
              "      <td>0.0</td>\n",
              "      <td>0.0</td>\n",
              "      <td>9</td>\n",
              "    </tr>\n",
              "    <tr>\n",
              "      <th>1796</th>\n",
              "      <td>0.0</td>\n",
              "      <td>0.0</td>\n",
              "      <td>10.0</td>\n",
              "      <td>14.0</td>\n",
              "      <td>8.0</td>\n",
              "      <td>1.0</td>\n",
              "      <td>0.0</td>\n",
              "      <td>0.0</td>\n",
              "      <td>0.0</td>\n",
              "      <td>2.0</td>\n",
              "      <td>...</td>\n",
              "      <td>0.0</td>\n",
              "      <td>0.0</td>\n",
              "      <td>1.0</td>\n",
              "      <td>8.0</td>\n",
              "      <td>12.0</td>\n",
              "      <td>14.0</td>\n",
              "      <td>12.0</td>\n",
              "      <td>1.0</td>\n",
              "      <td>0.0</td>\n",
              "      <td>8</td>\n",
              "    </tr>\n",
              "  </tbody>\n",
              "</table>\n",
              "<p>1797 rows × 65 columns</p>\n",
              "</div>\n",
              "      <button class=\"colab-df-convert\" onclick=\"convertToInteractive('df-d84f4994-da44-4480-9abd-0c25628a6462')\"\n",
              "              title=\"Convert this dataframe to an interactive table.\"\n",
              "              style=\"display:none;\">\n",
              "        \n",
              "  <svg xmlns=\"http://www.w3.org/2000/svg\" height=\"24px\"viewBox=\"0 0 24 24\"\n",
              "       width=\"24px\">\n",
              "    <path d=\"M0 0h24v24H0V0z\" fill=\"none\"/>\n",
              "    <path d=\"M18.56 5.44l.94 2.06.94-2.06 2.06-.94-2.06-.94-.94-2.06-.94 2.06-2.06.94zm-11 1L8.5 8.5l.94-2.06 2.06-.94-2.06-.94L8.5 2.5l-.94 2.06-2.06.94zm10 10l.94 2.06.94-2.06 2.06-.94-2.06-.94-.94-2.06-.94 2.06-2.06.94z\"/><path d=\"M17.41 7.96l-1.37-1.37c-.4-.4-.92-.59-1.43-.59-.52 0-1.04.2-1.43.59L10.3 9.45l-7.72 7.72c-.78.78-.78 2.05 0 2.83L4 21.41c.39.39.9.59 1.41.59.51 0 1.02-.2 1.41-.59l7.78-7.78 2.81-2.81c.8-.78.8-2.07 0-2.86zM5.41 20L4 18.59l7.72-7.72 1.47 1.35L5.41 20z\"/>\n",
              "  </svg>\n",
              "      </button>\n",
              "      \n",
              "  <style>\n",
              "    .colab-df-container {\n",
              "      display:flex;\n",
              "      flex-wrap:wrap;\n",
              "      gap: 12px;\n",
              "    }\n",
              "\n",
              "    .colab-df-convert {\n",
              "      background-color: #E8F0FE;\n",
              "      border: none;\n",
              "      border-radius: 50%;\n",
              "      cursor: pointer;\n",
              "      display: none;\n",
              "      fill: #1967D2;\n",
              "      height: 32px;\n",
              "      padding: 0 0 0 0;\n",
              "      width: 32px;\n",
              "    }\n",
              "\n",
              "    .colab-df-convert:hover {\n",
              "      background-color: #E2EBFA;\n",
              "      box-shadow: 0px 1px 2px rgba(60, 64, 67, 0.3), 0px 1px 3px 1px rgba(60, 64, 67, 0.15);\n",
              "      fill: #174EA6;\n",
              "    }\n",
              "\n",
              "    [theme=dark] .colab-df-convert {\n",
              "      background-color: #3B4455;\n",
              "      fill: #D2E3FC;\n",
              "    }\n",
              "\n",
              "    [theme=dark] .colab-df-convert:hover {\n",
              "      background-color: #434B5C;\n",
              "      box-shadow: 0px 1px 3px 1px rgba(0, 0, 0, 0.15);\n",
              "      filter: drop-shadow(0px 1px 2px rgba(0, 0, 0, 0.3));\n",
              "      fill: #FFFFFF;\n",
              "    }\n",
              "  </style>\n",
              "\n",
              "      <script>\n",
              "        const buttonEl =\n",
              "          document.querySelector('#df-d84f4994-da44-4480-9abd-0c25628a6462 button.colab-df-convert');\n",
              "        buttonEl.style.display =\n",
              "          google.colab.kernel.accessAllowed ? 'block' : 'none';\n",
              "\n",
              "        async function convertToInteractive(key) {\n",
              "          const element = document.querySelector('#df-d84f4994-da44-4480-9abd-0c25628a6462');\n",
              "          const dataTable =\n",
              "            await google.colab.kernel.invokeFunction('convertToInteractive',\n",
              "                                                     [key], {});\n",
              "          if (!dataTable) return;\n",
              "\n",
              "          const docLinkHtml = 'Like what you see? Visit the ' +\n",
              "            '<a target=\"_blank\" href=https://colab.research.google.com/notebooks/data_table.ipynb>data table notebook</a>'\n",
              "            + ' to learn more about interactive tables.';\n",
              "          element.innerHTML = '';\n",
              "          dataTable['output_type'] = 'display_data';\n",
              "          await google.colab.output.renderOutput(dataTable, element);\n",
              "          const docLink = document.createElement('div');\n",
              "          docLink.innerHTML = docLinkHtml;\n",
              "          element.appendChild(docLink);\n",
              "        }\n",
              "      </script>\n",
              "    </div>\n",
              "  </div>\n",
              "  "
            ]
          },
          "metadata": {},
          "execution_count": 12
        }
      ]
    },
    {
      "cell_type": "markdown",
      "source": [
        "## 📑 (4) train, test 데이터 분리"
      ],
      "metadata": {
        "id": "jjCWrI91EkEb"
      }
    },
    {
      "cell_type": "markdown",
      "source": [
        "- <u>모델 학습 및 테스트용 문제지와 정답지 생성</u>   \n",
        "    data: feature (문제)  \n",
        "    label: label (정답)  \n",
        "    test_size: 전체에서 테스트 데이터로 사용할 비율  \n",
        "    random_state : 데이터를 분리하는데 적용되는 랜덤성"
      ],
      "metadata": {
        "id": "-e1ft2TDGf8M"
      }
    },
    {
      "cell_type": "code",
      "source": [
        "X_train, X_test, y_train, y_test = train_test_split(digits_data, digits_label, test_size=0.3, random_state=30)\n",
        "print('X_train 개수: ', len(X_train),', X_test 개수: ', len(X_test))"
      ],
      "metadata": {
        "colab": {
          "base_uri": "https://localhost:8080/"
        },
        "id": "DNBsQhO9FgDV",
        "outputId": "2c076a3a-30b8-498b-bc8b-2ca083937490"
      },
      "execution_count": null,
      "outputs": [
        {
          "output_type": "stream",
          "name": "stdout",
          "text": [
            "X_train 개수:  1257 , X_test 개수:  540\n"
          ]
        }
      ]
    },
    {
      "cell_type": "code",
      "source": [
        "X_train.shape, y_train.shape"
      ],
      "metadata": {
        "colab": {
          "base_uri": "https://localhost:8080/"
        },
        "id": "lgq4G9-hGB3-",
        "outputId": "1966116b-8ee2-4034-8662-9bf5042314bc"
      },
      "execution_count": null,
      "outputs": [
        {
          "output_type": "execute_result",
          "data": {
            "text/plain": [
              "((1257, 64), (1257,))"
            ]
          },
          "metadata": {},
          "execution_count": 18
        }
      ]
    },
    {
      "cell_type": "code",
      "source": [
        "X_test.shape, y_test.shape"
      ],
      "metadata": {
        "colab": {
          "base_uri": "https://localhost:8080/"
        },
        "id": "KklEptQMGFPk",
        "outputId": "c109c6a9-b891-4088-e47d-dc5e5431b6ea"
      },
      "execution_count": null,
      "outputs": [
        {
          "output_type": "execute_result",
          "data": {
            "text/plain": [
              "((540, 64), (540,))"
            ]
          },
          "metadata": {},
          "execution_count": 19
        }
      ]
    },
    {
      "cell_type": "code",
      "source": [
        "y_train, y_test"
      ],
      "metadata": {
        "colab": {
          "base_uri": "https://localhost:8080/"
        },
        "id": "1itqThWZGIUW",
        "outputId": "a2121713-8018-4ed8-a8b1-494f49bb7971"
      },
      "execution_count": null,
      "outputs": [
        {
          "output_type": "execute_result",
          "data": {
            "text/plain": [
              "(array([4, 0, 7, ..., 8, 0, 5]),\n",
              " array([8, 1, 6, 5, 3, 8, 3, 2, 1, 2, 5, 8, 1, 2, 4, 1, 5, 1, 8, 3, 1, 0,\n",
              "        5, 0, 3, 5, 4, 1, 0, 5, 2, 5, 8, 7, 5, 8, 3, 2, 9, 4, 9, 0, 5, 3,\n",
              "        1, 6, 9, 6, 0, 9, 4, 9, 4, 4, 4, 2, 6, 2, 5, 5, 8, 6, 9, 6, 9, 7,\n",
              "        3, 8, 4, 1, 4, 8, 0, 1, 6, 1, 6, 2, 5, 7, 8, 5, 9, 2, 7, 6, 9, 2,\n",
              "        4, 5, 5, 8, 8, 0, 1, 2, 5, 4, 1, 2, 7, 8, 6, 8, 1, 0, 6, 0, 1, 0,\n",
              "        3, 1, 5, 3, 4, 1, 4, 6, 7, 2, 0, 9, 1, 2, 5, 6, 8, 8, 8, 1, 5, 0,\n",
              "        2, 4, 0, 6, 0, 4, 1, 2, 8, 7, 9, 4, 0, 4, 3, 6, 7, 2, 6, 1, 6, 6,\n",
              "        7, 2, 1, 3, 4, 0, 9, 7, 2, 2, 0, 7, 4, 7, 6, 8, 5, 6, 0, 1, 1, 1,\n",
              "        4, 8, 2, 6, 5, 4, 0, 2, 7, 3, 6, 2, 3, 7, 7, 4, 0, 8, 5, 1, 1, 7,\n",
              "        6, 3, 5, 3, 2, 9, 9, 9, 9, 4, 4, 1, 0, 2, 7, 1, 8, 4, 8, 7, 3, 7,\n",
              "        0, 6, 8, 7, 3, 1, 3, 3, 7, 1, 3, 0, 3, 6, 4, 9, 0, 9, 6, 2, 2, 0,\n",
              "        4, 2, 8, 7, 1, 4, 8, 0, 6, 6, 7, 2, 2, 8, 6, 9, 6, 2, 4, 5, 9, 9,\n",
              "        1, 1, 8, 9, 6, 7, 5, 6, 4, 0, 2, 4, 3, 2, 2, 1, 7, 7, 5, 5, 5, 2,\n",
              "        5, 8, 8, 4, 6, 9, 9, 2, 1, 3, 5, 7, 1, 0, 7, 6, 6, 9, 6, 8, 1, 7,\n",
              "        7, 0, 0, 5, 3, 3, 5, 8, 6, 8, 4, 1, 9, 4, 2, 5, 9, 7, 1, 3, 8, 0,\n",
              "        7, 0, 6, 8, 0, 5, 1, 9, 6, 5, 0, 0, 2, 1, 1, 1, 6, 9, 5, 1, 2, 4,\n",
              "        5, 2, 2, 5, 6, 9, 1, 6, 5, 3, 2, 5, 9, 4, 9, 5, 4, 1, 4, 4, 5, 4,\n",
              "        6, 5, 6, 3, 4, 6, 0, 7, 2, 3, 0, 3, 8, 4, 6, 6, 5, 8, 0, 4, 8, 4,\n",
              "        0, 8, 0, 7, 3, 9, 6, 1, 1, 4, 7, 4, 4, 0, 6, 9, 4, 9, 1, 1, 0, 5,\n",
              "        5, 2, 2, 6, 0, 7, 2, 6, 2, 7, 4, 7, 2, 3, 2, 7, 7, 0, 3, 4, 8, 6,\n",
              "        6, 6, 3, 3, 3, 9, 3, 9, 5, 7, 3, 0, 9, 5, 1, 5, 6, 7, 2, 2, 1, 9,\n",
              "        7, 3, 9, 9, 0, 0, 0, 0, 0, 9, 5, 2, 6, 7, 8, 5, 3, 3, 6, 1, 8, 9,\n",
              "        2, 4, 7, 7, 0, 4, 4, 2, 9, 8, 6, 8, 9, 8, 0, 4, 3, 1, 5, 3, 2, 5,\n",
              "        3, 2, 7, 9, 9, 2, 2, 8, 0, 4, 7, 0, 4, 2, 6, 5, 2, 3, 8, 6, 0, 2,\n",
              "        4, 8, 0, 1, 5, 9, 1, 8, 7, 0, 4, 0]))"
            ]
          },
          "metadata": {},
          "execution_count": 20
        }
      ]
    },
    {
      "cell_type": "markdown",
      "source": [
        "## 📑 (5-6) 다양한 모델로 학습 및 평가"
      ],
      "metadata": {
        "id": "bnEW7kH0HScP"
      }
    },
    {
      "cell_type": "markdown",
      "source": [
        "### 📌 01_모듈 import"
      ],
      "metadata": {
        "id": "Q5pB56MQFzxq"
      }
    },
    {
      "cell_type": "markdown",
      "source": [
        "- <u>패키지 import</u>  \n",
        "    정확도: metrics (accuracy_score)  \n",
        "    오차행렬: metrics (confusion_matrix)"
      ],
      "metadata": {
        "id": "mZ51z-yiBJTH"
      }
    },
    {
      "cell_type": "code",
      "source": [
        "from sklearn.metrics import accuracy_score\n",
        "from sklearn.metrics import confusion_matrix"
      ],
      "metadata": {
        "id": "ZUfBqgOcBJuB"
      },
      "execution_count": null,
      "outputs": []
    },
    {
      "cell_type": "markdown",
      "source": [
        "### 📌 02_학습 및 평가 : Decision Tree"
      ],
      "metadata": {
        "id": "N2rPmybUHtpc"
      }
    },
    {
      "cell_type": "code",
      "source": [
        "from sklearn.tree import DecisionTreeClassifier\n",
        "\n",
        "decision_tree = DecisionTreeClassifier(random_state=30)\n",
        "decision_tree.fit(X_train, y_train)\n",
        "y_pred = decision_tree.predict(X_test)\n",
        "print(classification_report(y_test, y_pred))\n",
        "print('정확도 :', accuracy_score(y_test, y_pred))"
      ],
      "metadata": {
        "colab": {
          "base_uri": "https://localhost:8080/"
        },
        "id": "HBBg-q9AHydq",
        "outputId": "1d341e60-5622-45e9-8735-67291e4d436e"
      },
      "execution_count": null,
      "outputs": [
        {
          "output_type": "stream",
          "name": "stdout",
          "text": [
            "              precision    recall  f1-score   support\n",
            "\n",
            "           0       0.97      0.97      0.97        58\n",
            "           1       0.86      0.67      0.75        57\n",
            "           2       0.90      0.89      0.89        61\n",
            "           3       0.68      0.80      0.73        45\n",
            "           4       0.78      0.91      0.84        58\n",
            "           5       0.94      0.89      0.92        55\n",
            "           6       0.98      0.92      0.95        60\n",
            "           7       0.88      0.92      0.90        49\n",
            "           8       0.73      0.73      0.73        49\n",
            "           9       0.84      0.85      0.85        48\n",
            "\n",
            "    accuracy                           0.86       540\n",
            "   macro avg       0.86      0.85      0.85       540\n",
            "weighted avg       0.86      0.86      0.86       540\n",
            "\n",
            "정확도 : 0.8574074074074074\n"
          ]
        }
      ]
    },
    {
      "cell_type": "markdown",
      "source": [
        "### 📌 03_학습 및 평가 : Random Forest"
      ],
      "metadata": {
        "id": "EFcbcIP4KjhT"
      }
    },
    {
      "cell_type": "code",
      "source": [
        "from sklearn.ensemble import RandomForestClassifier\n",
        "\n",
        "random_forest = RandomForestClassifier(random_state=30)\n",
        "random_forest.fit(X_train, y_train)\n",
        "y_pred = random_forest.predict(X_test)\n",
        "print(classification_report(y_test, y_pred))\n",
        "print('정확도 :', accuracy_score(y_test, y_pred))"
      ],
      "metadata": {
        "colab": {
          "base_uri": "https://localhost:8080/"
        },
        "id": "HU1xuMkHKogc",
        "outputId": "bdeb62c0-b911-4c71-f2ed-3a581331db7c"
      },
      "execution_count": null,
      "outputs": [
        {
          "output_type": "stream",
          "name": "stdout",
          "text": [
            "              precision    recall  f1-score   support\n",
            "\n",
            "           0       1.00      0.98      0.99        58\n",
            "           1       0.95      1.00      0.97        57\n",
            "           2       1.00      1.00      1.00        61\n",
            "           3       0.96      0.98      0.97        45\n",
            "           4       0.97      0.97      0.97        58\n",
            "           5       0.96      0.98      0.97        55\n",
            "           6       1.00      0.98      0.99        60\n",
            "           7       1.00      1.00      1.00        49\n",
            "           8       0.92      0.94      0.93        49\n",
            "           9       0.98      0.90      0.93        48\n",
            "\n",
            "    accuracy                           0.97       540\n",
            "   macro avg       0.97      0.97      0.97       540\n",
            "weighted avg       0.97      0.97      0.97       540\n",
            "\n",
            "정확도 : 0.9740740740740741\n"
          ]
        }
      ]
    },
    {
      "cell_type": "markdown",
      "source": [
        "### 📌 04_학습 및 평가 : SVM"
      ],
      "metadata": {
        "id": "1ThGe-qCJ0oi"
      }
    },
    {
      "cell_type": "code",
      "source": [
        "from sklearn import svm\n",
        "\n",
        "svm_model = svm.SVC()\n",
        "svm_model.fit(X_train, y_train)\n",
        "y_pred = svm_model.predict(X_test)\n",
        "print(classification_report(y_test, y_pred))\n",
        "print('정확도 :', accuracy_score(y_test, y_pred))"
      ],
      "metadata": {
        "colab": {
          "base_uri": "https://localhost:8080/"
        },
        "id": "jkeXyPDuJ_wa",
        "outputId": "b9d1993d-350a-4a4e-cf7c-bb48ac14aa8b"
      },
      "execution_count": null,
      "outputs": [
        {
          "output_type": "stream",
          "name": "stdout",
          "text": [
            "              precision    recall  f1-score   support\n",
            "\n",
            "           0       1.00      0.98      0.99        58\n",
            "           1       0.98      1.00      0.99        57\n",
            "           2       0.98      1.00      0.99        61\n",
            "           3       0.98      0.96      0.97        45\n",
            "           4       0.98      0.98      0.98        58\n",
            "           5       0.98      1.00      0.99        55\n",
            "           6       1.00      0.98      0.99        60\n",
            "           7       1.00      1.00      1.00        49\n",
            "           8       0.96      0.98      0.97        49\n",
            "           9       0.98      0.96      0.97        48\n",
            "\n",
            "    accuracy                           0.99       540\n",
            "   macro avg       0.98      0.98      0.98       540\n",
            "weighted avg       0.99      0.99      0.99       540\n",
            "\n",
            "정확도 : 0.9851851851851852\n"
          ]
        }
      ]
    },
    {
      "cell_type": "markdown",
      "source": [
        "### 📌 05_학습 및 평가 : SGD Classifier"
      ],
      "metadata": {
        "id": "1bzV0z6LK24_"
      }
    },
    {
      "cell_type": "code",
      "source": [
        "from sklearn.linear_model import SGDClassifier\n",
        "\n",
        "sgd_model = SGDClassifier()\n",
        "sgd_model.fit(X_train, y_train)\n",
        "y_pred = sgd_model.predict(X_test)\n",
        "print(classification_report(y_test, y_pred))\n",
        "print('정확도 :', accuracy_score(y_test, y_pred))"
      ],
      "metadata": {
        "colab": {
          "base_uri": "https://localhost:8080/"
        },
        "id": "dOqv6BuJK6or",
        "outputId": "85b719bd-3373-4305-c4c9-e38264fd3d47"
      },
      "execution_count": null,
      "outputs": [
        {
          "output_type": "stream",
          "name": "stdout",
          "text": [
            "              precision    recall  f1-score   support\n",
            "\n",
            "           0       1.00      1.00      1.00        58\n",
            "           1       0.87      0.91      0.89        57\n",
            "           2       0.98      1.00      0.99        61\n",
            "           3       0.86      0.93      0.89        45\n",
            "           4       0.98      0.98      0.98        58\n",
            "           5       0.98      0.98      0.98        55\n",
            "           6       0.95      0.98      0.97        60\n",
            "           7       1.00      1.00      1.00        49\n",
            "           8       0.93      0.76      0.83        49\n",
            "           9       0.96      0.94      0.95        48\n",
            "\n",
            "    accuracy                           0.95       540\n",
            "   macro avg       0.95      0.95      0.95       540\n",
            "weighted avg       0.95      0.95      0.95       540\n",
            "\n",
            "정확도 : 0.9518518518518518\n"
          ]
        }
      ]
    },
    {
      "cell_type": "markdown",
      "source": [
        "### 📌 06_학습 및 평가 : Logistic Regression\n"
      ],
      "metadata": {
        "id": "0k4bYFtgLKfA"
      }
    },
    {
      "cell_type": "code",
      "source": [
        "from sklearn.linear_model import LogisticRegression\n",
        "\n",
        "logistic_model = LogisticRegression()\n",
        "logistic_model.fit(X_train, y_train)\n",
        "y_pred = logistic_model.predict(X_test)\n",
        "print(classification_report(y_test, y_pred))\n",
        "print('정확도 :', accuracy_score(y_test, y_pred))"
      ],
      "metadata": {
        "colab": {
          "base_uri": "https://localhost:8080/"
        },
        "id": "kmD0GseXLR3a",
        "outputId": "4e1f2d27-0fba-4568-f783-29a7690f7ec4"
      },
      "execution_count": null,
      "outputs": [
        {
          "output_type": "stream",
          "name": "stdout",
          "text": [
            "              precision    recall  f1-score   support\n",
            "\n",
            "           0       1.00      0.98      0.99        58\n",
            "           1       0.96      0.93      0.95        57\n",
            "           2       0.97      0.98      0.98        61\n",
            "           3       0.93      0.93      0.93        45\n",
            "           4       0.97      0.98      0.97        58\n",
            "           5       0.98      0.96      0.97        55\n",
            "           6       1.00      0.98      0.99        60\n",
            "           7       1.00      1.00      1.00        49\n",
            "           8       0.92      0.96      0.94        49\n",
            "           9       0.94      0.96      0.95        48\n",
            "\n",
            "    accuracy                           0.97       540\n",
            "   macro avg       0.97      0.97      0.97       540\n",
            "weighted avg       0.97      0.97      0.97       540\n",
            "\n",
            "정확도 : 0.9685185185185186\n"
          ]
        },
        {
          "output_type": "stream",
          "name": "stderr",
          "text": [
            "/usr/local/lib/python3.7/dist-packages/sklearn/linear_model/_logistic.py:818: ConvergenceWarning: lbfgs failed to converge (status=1):\n",
            "STOP: TOTAL NO. of ITERATIONS REACHED LIMIT.\n",
            "\n",
            "Increase the number of iterations (max_iter) or scale the data as shown in:\n",
            "    https://scikit-learn.org/stable/modules/preprocessing.html\n",
            "Please also refer to the documentation for alternative solver options:\n",
            "    https://scikit-learn.org/stable/modules/linear_model.html#logistic-regression\n",
            "  extra_warning_msg=_LOGISTIC_SOLVER_CONVERGENCE_MSG,\n"
          ]
        }
      ]
    },
    {
      "cell_type": "markdown",
      "source": [
        "### 📌 07_최종 평가"
      ],
      "metadata": {
        "id": "MggH3RQhxl76"
      }
    },
    {
      "cell_type": "markdown",
      "source": [
        "- <u>Decision Tree</u>\n",
        "```\n",
        "                precision   recall   f1-score   support\n",
        "    accuracy                           0.86       540\n",
        "   macro avg       0.86      0.85      0.85       540\n",
        "weighted avg     0.86      0.86      0.86       540\n",
        "```\n",
        "\n",
        "- <u>Random Forest</u>\n",
        "```\n",
        "                precision   recall   f1-score   support\n",
        "    accuracy                           0.97       540\n",
        "   macro avg       0.97      0.97      0.97       540\n",
        "weighted avg     0.97      0.97      0.97       540\n",
        "```\n",
        "\n",
        "- <u>SVM</u>\n",
        "```\n",
        "                precision   recall   f1-score   support\n",
        "    accuracy                           0.99       540\n",
        "   macro avg       0.98      0.98      0.98       540\n",
        "weighted avg     0.99      0.99      0.99       540\n",
        "```\n",
        "\n",
        "- <u>SGD Classifier</u>\n",
        "```\n",
        "                precision   recall   f1-score   support\n",
        "    accuracy                           0.95       540\n",
        "   macro avg       0.95      0.95      0.95       540\n",
        "weighted avg     0.95      0.95      0.95       540\n",
        "```\n",
        "\n",
        "- <u>Logistic Regression</u>\n",
        "```\n",
        "                precision   recall   f1-score   support\n",
        "    accuracy                           0.97       540\n",
        "   macro avg       0.97      0.97      0.97       540\n",
        "weighted avg     0.97      0.97      0.97       540\n",
        "```\n",
        "\n",
        "<br>\n",
        "\n",
        "- <u>결론</u>  \n",
        "    동일한 데이터 조건으로 다양한 모델에 적용 시 Decision Tree를 제외한 나머지 모델에서는 0.03 오차 범위 내 비슷한 성능을 보인다. SGD Classifier의 경우 클래스간 성능 차이가 다른 모델에 비해 약간 차이를 보이는 경향이 있었다. 손글씨 분류의 경우에는 정확도(accuracy)를 평가 지표로 사용하는 방향을 선택했다. 왜냐하면 분류 클래스 간의 데이터 불균형이 심각한 수준이 아니라고 판단해 직관적으로 모델 예측 성능을 나타내는 편이 좋다고 생각했기 때문이다."
      ],
      "metadata": {
        "id": "ZobB_mXWyKXl"
      }
    },
    {
      "cell_type": "markdown",
      "source": [
        "# 📕 EXPLORATION 01-2 :  load_wine 와인 분류"
      ],
      "metadata": {
        "id": "B6cxSCxI74A3"
      }
    },
    {
      "cell_type": "markdown",
      "source": [
        "## 📑 (1) 모듈 import\n"
      ],
      "metadata": {
        "id": "I6iVrAuL74A4"
      }
    },
    {
      "cell_type": "markdown",
      "source": [
        "- <u>scikit-learn 라이브러리</u>  \n",
        "    - 데이터 로딩: datasets (load_wine)  \n",
        "    - 데이터셋 분리: model_selection (train_test_split)  \n",
        "    - 성능 평가: metrics (classification_report)"
      ],
      "metadata": {
        "id": "J-49SpRS74A4"
      }
    },
    {
      "cell_type": "code",
      "source": [
        "from sklearn.datasets import load_wine\n",
        "from sklearn.model_selection import train_test_split\n",
        "from sklearn.metrics import classification_report"
      ],
      "metadata": {
        "id": "GRrRF8hT74A4"
      },
      "execution_count": null,
      "outputs": []
    },
    {
      "cell_type": "markdown",
      "source": [
        "## 📑 (2) 데이터 준비"
      ],
      "metadata": {
        "id": "WQkgYLK574A4"
      }
    },
    {
      "cell_type": "markdown",
      "source": [
        "- <u>load_wine 메서드 활용</u>  \n",
        "    DESCR, data, feature_names, frame, target, target_names"
      ],
      "metadata": {
        "id": "0UkvNLjH74A4"
      }
    },
    {
      "cell_type": "code",
      "source": [
        "wine = load_wine()\n",
        "print(dir(wine))"
      ],
      "metadata": {
        "colab": {
          "base_uri": "https://localhost:8080/"
        },
        "outputId": "fadd20eb-e57e-4dfd-884e-8c29ed5c5c4b",
        "id": "CvsFKuR374A4"
      },
      "execution_count": null,
      "outputs": [
        {
          "output_type": "stream",
          "name": "stdout",
          "text": [
            "['DESCR', 'data', 'feature_names', 'frame', 'target', 'target_names']\n"
          ]
        }
      ]
    },
    {
      "cell_type": "code",
      "source": [
        "wine = load_wine()\n",
        "wine.keys()"
      ],
      "metadata": {
        "colab": {
          "base_uri": "https://localhost:8080/"
        },
        "outputId": "000d9314-9e1b-4702-8abb-29b6c1cc117d",
        "id": "Q_ph-KSE74A4"
      },
      "execution_count": null,
      "outputs": [
        {
          "output_type": "execute_result",
          "data": {
            "text/plain": [
              "dict_keys(['data', 'target', 'frame', 'target_names', 'DESCR', 'feature_names'])"
            ]
          },
          "metadata": {},
          "execution_count": 132
        }
      ]
    },
    {
      "cell_type": "markdown",
      "source": [
        "## 📑 (3) 데이터 이해"
      ],
      "metadata": {
        "id": "v5S6i35u74A4"
      }
    },
    {
      "cell_type": "markdown",
      "source": [
        "### 📌 01_wine 정보 확인"
      ],
      "metadata": {
        "id": "btj0rRgy74A5"
      }
    },
    {
      "cell_type": "markdown",
      "source": [
        "- <u>데이터 정보 (6개)</u>  \n",
        "    data, target, feature_names, target_names, frame, DESCR  \n",
        "    데이터: 178개 / 속성: 13개  \n",
        "    속성 정보: 13개의 속성을 가진 와인 데이터로 와인의 등급 분류"
      ],
      "metadata": {
        "id": "KhdjlfDf74A5"
      }
    },
    {
      "cell_type": "code",
      "source": [
        "# 데이터 크기 확인\n",
        "wine_data = wine.data\n",
        "print(wine_data.shape)"
      ],
      "metadata": {
        "colab": {
          "base_uri": "https://localhost:8080/"
        },
        "outputId": "3b9eccc4-3f3c-4106-8fd1-fb08a7404a5e",
        "id": "o_el9tXq74A5"
      },
      "execution_count": null,
      "outputs": [
        {
          "output_type": "stream",
          "name": "stdout",
          "text": [
            "(178, 13)\n"
          ]
        }
      ]
    },
    {
      "cell_type": "code",
      "source": [
        "# 데이터 타겟 정보 확인\n",
        "wine_label = wine.target\n",
        "print(wine_label.shape)\n",
        "wine_label"
      ],
      "metadata": {
        "colab": {
          "base_uri": "https://localhost:8080/"
        },
        "outputId": "c8d4664e-92cb-4260-efa9-c84806adf082",
        "id": "tsPIN4JH74A5"
      },
      "execution_count": null,
      "outputs": [
        {
          "output_type": "stream",
          "name": "stdout",
          "text": [
            "(178,)\n"
          ]
        },
        {
          "output_type": "execute_result",
          "data": {
            "text/plain": [
              "array([0, 0, 0, 0, 0, 0, 0, 0, 0, 0, 0, 0, 0, 0, 0, 0, 0, 0, 0, 0, 0, 0,\n",
              "       0, 0, 0, 0, 0, 0, 0, 0, 0, 0, 0, 0, 0, 0, 0, 0, 0, 0, 0, 0, 0, 0,\n",
              "       0, 0, 0, 0, 0, 0, 0, 0, 0, 0, 0, 0, 0, 0, 0, 1, 1, 1, 1, 1, 1, 1,\n",
              "       1, 1, 1, 1, 1, 1, 1, 1, 1, 1, 1, 1, 1, 1, 1, 1, 1, 1, 1, 1, 1, 1,\n",
              "       1, 1, 1, 1, 1, 1, 1, 1, 1, 1, 1, 1, 1, 1, 1, 1, 1, 1, 1, 1, 1, 1,\n",
              "       1, 1, 1, 1, 1, 1, 1, 1, 1, 1, 1, 1, 1, 1, 1, 1, 1, 1, 1, 1, 2, 2,\n",
              "       2, 2, 2, 2, 2, 2, 2, 2, 2, 2, 2, 2, 2, 2, 2, 2, 2, 2, 2, 2, 2, 2,\n",
              "       2, 2, 2, 2, 2, 2, 2, 2, 2, 2, 2, 2, 2, 2, 2, 2, 2, 2, 2, 2, 2, 2,\n",
              "       2, 2])"
            ]
          },
          "metadata": {},
          "execution_count": 134
        }
      ]
    },
    {
      "cell_type": "code",
      "source": [
        "# 데이터 각 feature에 대한 설명\n",
        "wine.feature_names"
      ],
      "metadata": {
        "colab": {
          "base_uri": "https://localhost:8080/"
        },
        "outputId": "2eb85c6a-9edf-42b6-f208-a24fc0df1814",
        "id": "F-6CclGR74A5"
      },
      "execution_count": null,
      "outputs": [
        {
          "output_type": "execute_result",
          "data": {
            "text/plain": [
              "['alcohol',\n",
              " 'malic_acid',\n",
              " 'ash',\n",
              " 'alcalinity_of_ash',\n",
              " 'magnesium',\n",
              " 'total_phenols',\n",
              " 'flavanoids',\n",
              " 'nonflavanoid_phenols',\n",
              " 'proanthocyanins',\n",
              " 'color_intensity',\n",
              " 'hue',\n",
              " 'od280/od315_of_diluted_wines',\n",
              " 'proline']"
            ]
          },
          "metadata": {},
          "execution_count": 135
        }
      ]
    },
    {
      "cell_type": "code",
      "source": [
        "# 데이터 라벨 이름 확인\n",
        "wine.target_names"
      ],
      "metadata": {
        "colab": {
          "base_uri": "https://localhost:8080/"
        },
        "outputId": "b18e5d64-a513-4065-eed3-77cd53c19aca",
        "id": "L2TqTXDc74A5"
      },
      "execution_count": null,
      "outputs": [
        {
          "output_type": "execute_result",
          "data": {
            "text/plain": [
              "array(['class_0', 'class_1', 'class_2'], dtype='<U7')"
            ]
          },
          "metadata": {},
          "execution_count": 136
        }
      ]
    },
    {
      "cell_type": "code",
      "source": [
        "# 데이터셋 설명 확인\n",
        "wine.DESCR"
      ],
      "metadata": {
        "colab": {
          "base_uri": "https://localhost:8080/",
          "height": 90
        },
        "outputId": "b4cbf4ca-b469-4e02-e9cd-40e8c9c5d742",
        "id": "PeomBPYH74A5"
      },
      "execution_count": null,
      "outputs": [
        {
          "output_type": "execute_result",
          "data": {
            "text/plain": [
              "'.. _wine_dataset:\\n\\nWine recognition dataset\\n------------------------\\n\\n**Data Set Characteristics:**\\n\\n    :Number of Instances: 178 (50 in each of three classes)\\n    :Number of Attributes: 13 numeric, predictive attributes and the class\\n    :Attribute Information:\\n \\t\\t- Alcohol\\n \\t\\t- Malic acid\\n \\t\\t- Ash\\n\\t\\t- Alcalinity of ash  \\n \\t\\t- Magnesium\\n\\t\\t- Total phenols\\n \\t\\t- Flavanoids\\n \\t\\t- Nonflavanoid phenols\\n \\t\\t- Proanthocyanins\\n\\t\\t- Color intensity\\n \\t\\t- Hue\\n \\t\\t- OD280/OD315 of diluted wines\\n \\t\\t- Proline\\n\\n    - class:\\n            - class_0\\n            - class_1\\n            - class_2\\n\\t\\t\\n    :Summary Statistics:\\n    \\n    ============================= ==== ===== ======= =====\\n                                   Min   Max   Mean     SD\\n    ============================= ==== ===== ======= =====\\n    Alcohol:                      11.0  14.8    13.0   0.8\\n    Malic Acid:                   0.74  5.80    2.34  1.12\\n    Ash:                          1.36  3.23    2.36  0.27\\n    Alcalinity of Ash:            10.6  30.0    19.5   3.3\\n    Magnesium:                    70.0 162.0    99.7  14.3\\n    Total Phenols:                0.98  3.88    2.29  0.63\\n    Flavanoids:                   0.34  5.08    2.03  1.00\\n    Nonflavanoid Phenols:         0.13  0.66    0.36  0.12\\n    Proanthocyanins:              0.41  3.58    1.59  0.57\\n    Colour Intensity:              1.3  13.0     5.1   2.3\\n    Hue:                          0.48  1.71    0.96  0.23\\n    OD280/OD315 of diluted wines: 1.27  4.00    2.61  0.71\\n    Proline:                       278  1680     746   315\\n    ============================= ==== ===== ======= =====\\n\\n    :Missing Attribute Values: None\\n    :Class Distribution: class_0 (59), class_1 (71), class_2 (48)\\n    :Creator: R.A. Fisher\\n    :Donor: Michael Marshall (MARSHALL%PLU@io.arc.nasa.gov)\\n    :Date: July, 1988\\n\\nThis is a copy of UCI ML Wine recognition datasets.\\nhttps://archive.ics.uci.edu/ml/machine-learning-databases/wine/wine.data\\n\\nThe data is the results of a chemical analysis of wines grown in the same\\nregion in Italy by three different cultivators. There are thirteen different\\nmeasurements taken for different constituents found in the three types of\\nwine.\\n\\nOriginal Owners: \\n\\nForina, M. et al, PARVUS - \\nAn Extendible Package for Data Exploration, Classification and Correlation. \\nInstitute of Pharmaceutical and Food Analysis and Technologies,\\nVia Brigata Salerno, 16147 Genoa, Italy.\\n\\nCitation:\\n\\nLichman, M. (2013). UCI Machine Learning Repository\\n[https://archive.ics.uci.edu/ml]. Irvine, CA: University of California,\\nSchool of Information and Computer Science. \\n\\n.. topic:: References\\n\\n  (1) S. Aeberhard, D. Coomans and O. de Vel, \\n  Comparison of Classifiers in High Dimensional Settings, \\n  Tech. Rep. no. 92-02, (1992), Dept. of Computer Science and Dept. of  \\n  Mathematics and Statistics, James Cook University of North Queensland. \\n  (Also submitted to Technometrics). \\n\\n  The data was used with many others for comparing various \\n  classifiers. The classes are separable, though only RDA \\n  has achieved 100% correct classification. \\n  (RDA : 100%, QDA 99.4%, LDA 98.9%, 1NN 96.1% (z-transformed data)) \\n  (All results using the leave-one-out technique) \\n\\n  (2) S. Aeberhard, D. Coomans and O. de Vel, \\n  \"THE CLASSIFICATION PERFORMANCE OF RDA\" \\n  Tech. Rep. no. 92-01, (1992), Dept. of Computer Science and Dept. of \\n  Mathematics and Statistics, James Cook University of North Queensland. \\n  (Also submitted to Journal of Chemometrics).\\n'"
            ],
            "application/vnd.google.colaboratory.intrinsic+json": {
              "type": "string"
            }
          },
          "metadata": {},
          "execution_count": 137
        }
      ]
    },
    {
      "cell_type": "markdown",
      "source": [
        "### 📌 02_DataFrame 자료형 변환"
      ],
      "metadata": {
        "id": "B-id95zZ74A5"
      }
    },
    {
      "cell_type": "markdown",
      "source": [
        "- <u>pandas import</u>"
      ],
      "metadata": {
        "id": "GQfnMrcR74A5"
      }
    },
    {
      "cell_type": "code",
      "source": [
        "import pandas as pd"
      ],
      "metadata": {
        "id": "nOQtmGTR74A5"
      },
      "execution_count": null,
      "outputs": []
    },
    {
      "cell_type": "markdown",
      "source": [
        "- <u>DataFrame 자료형으로 변환</u>  \n",
        "    data : wine_data  \n",
        "    colums : feature_names"
      ],
      "metadata": {
        "id": "FY7ybTF-74A6"
      }
    },
    {
      "cell_type": "code",
      "source": [
        "wine_df = pd.DataFrame(data=wine_data, columns=wine.feature_names)\n",
        "wine_df"
      ],
      "metadata": {
        "colab": {
          "base_uri": "https://localhost:8080/",
          "height": 424
        },
        "outputId": "827e8904-e0b5-49cc-ae23-374c97505aad",
        "id": "kJBssv3U74A6"
      },
      "execution_count": null,
      "outputs": [
        {
          "output_type": "execute_result",
          "data": {
            "text/plain": [
              "     alcohol  malic_acid   ash  alcalinity_of_ash  magnesium  total_phenols  \\\n",
              "0      14.23        1.71  2.43               15.6      127.0           2.80   \n",
              "1      13.20        1.78  2.14               11.2      100.0           2.65   \n",
              "2      13.16        2.36  2.67               18.6      101.0           2.80   \n",
              "3      14.37        1.95  2.50               16.8      113.0           3.85   \n",
              "4      13.24        2.59  2.87               21.0      118.0           2.80   \n",
              "..       ...         ...   ...                ...        ...            ...   \n",
              "173    13.71        5.65  2.45               20.5       95.0           1.68   \n",
              "174    13.40        3.91  2.48               23.0      102.0           1.80   \n",
              "175    13.27        4.28  2.26               20.0      120.0           1.59   \n",
              "176    13.17        2.59  2.37               20.0      120.0           1.65   \n",
              "177    14.13        4.10  2.74               24.5       96.0           2.05   \n",
              "\n",
              "     flavanoids  nonflavanoid_phenols  proanthocyanins  color_intensity   hue  \\\n",
              "0          3.06                  0.28             2.29             5.64  1.04   \n",
              "1          2.76                  0.26             1.28             4.38  1.05   \n",
              "2          3.24                  0.30             2.81             5.68  1.03   \n",
              "3          3.49                  0.24             2.18             7.80  0.86   \n",
              "4          2.69                  0.39             1.82             4.32  1.04   \n",
              "..          ...                   ...              ...              ...   ...   \n",
              "173        0.61                  0.52             1.06             7.70  0.64   \n",
              "174        0.75                  0.43             1.41             7.30  0.70   \n",
              "175        0.69                  0.43             1.35            10.20  0.59   \n",
              "176        0.68                  0.53             1.46             9.30  0.60   \n",
              "177        0.76                  0.56             1.35             9.20  0.61   \n",
              "\n",
              "     od280/od315_of_diluted_wines  proline  \n",
              "0                            3.92   1065.0  \n",
              "1                            3.40   1050.0  \n",
              "2                            3.17   1185.0  \n",
              "3                            3.45   1480.0  \n",
              "4                            2.93    735.0  \n",
              "..                            ...      ...  \n",
              "173                          1.74    740.0  \n",
              "174                          1.56    750.0  \n",
              "175                          1.56    835.0  \n",
              "176                          1.62    840.0  \n",
              "177                          1.60    560.0  \n",
              "\n",
              "[178 rows x 13 columns]"
            ],
            "text/html": [
              "\n",
              "  <div id=\"df-3a1ef63f-8cc2-4354-9ba9-0eba65cf8118\">\n",
              "    <div class=\"colab-df-container\">\n",
              "      <div>\n",
              "<style scoped>\n",
              "    .dataframe tbody tr th:only-of-type {\n",
              "        vertical-align: middle;\n",
              "    }\n",
              "\n",
              "    .dataframe tbody tr th {\n",
              "        vertical-align: top;\n",
              "    }\n",
              "\n",
              "    .dataframe thead th {\n",
              "        text-align: right;\n",
              "    }\n",
              "</style>\n",
              "<table border=\"1\" class=\"dataframe\">\n",
              "  <thead>\n",
              "    <tr style=\"text-align: right;\">\n",
              "      <th></th>\n",
              "      <th>alcohol</th>\n",
              "      <th>malic_acid</th>\n",
              "      <th>ash</th>\n",
              "      <th>alcalinity_of_ash</th>\n",
              "      <th>magnesium</th>\n",
              "      <th>total_phenols</th>\n",
              "      <th>flavanoids</th>\n",
              "      <th>nonflavanoid_phenols</th>\n",
              "      <th>proanthocyanins</th>\n",
              "      <th>color_intensity</th>\n",
              "      <th>hue</th>\n",
              "      <th>od280/od315_of_diluted_wines</th>\n",
              "      <th>proline</th>\n",
              "    </tr>\n",
              "  </thead>\n",
              "  <tbody>\n",
              "    <tr>\n",
              "      <th>0</th>\n",
              "      <td>14.23</td>\n",
              "      <td>1.71</td>\n",
              "      <td>2.43</td>\n",
              "      <td>15.6</td>\n",
              "      <td>127.0</td>\n",
              "      <td>2.80</td>\n",
              "      <td>3.06</td>\n",
              "      <td>0.28</td>\n",
              "      <td>2.29</td>\n",
              "      <td>5.64</td>\n",
              "      <td>1.04</td>\n",
              "      <td>3.92</td>\n",
              "      <td>1065.0</td>\n",
              "    </tr>\n",
              "    <tr>\n",
              "      <th>1</th>\n",
              "      <td>13.20</td>\n",
              "      <td>1.78</td>\n",
              "      <td>2.14</td>\n",
              "      <td>11.2</td>\n",
              "      <td>100.0</td>\n",
              "      <td>2.65</td>\n",
              "      <td>2.76</td>\n",
              "      <td>0.26</td>\n",
              "      <td>1.28</td>\n",
              "      <td>4.38</td>\n",
              "      <td>1.05</td>\n",
              "      <td>3.40</td>\n",
              "      <td>1050.0</td>\n",
              "    </tr>\n",
              "    <tr>\n",
              "      <th>2</th>\n",
              "      <td>13.16</td>\n",
              "      <td>2.36</td>\n",
              "      <td>2.67</td>\n",
              "      <td>18.6</td>\n",
              "      <td>101.0</td>\n",
              "      <td>2.80</td>\n",
              "      <td>3.24</td>\n",
              "      <td>0.30</td>\n",
              "      <td>2.81</td>\n",
              "      <td>5.68</td>\n",
              "      <td>1.03</td>\n",
              "      <td>3.17</td>\n",
              "      <td>1185.0</td>\n",
              "    </tr>\n",
              "    <tr>\n",
              "      <th>3</th>\n",
              "      <td>14.37</td>\n",
              "      <td>1.95</td>\n",
              "      <td>2.50</td>\n",
              "      <td>16.8</td>\n",
              "      <td>113.0</td>\n",
              "      <td>3.85</td>\n",
              "      <td>3.49</td>\n",
              "      <td>0.24</td>\n",
              "      <td>2.18</td>\n",
              "      <td>7.80</td>\n",
              "      <td>0.86</td>\n",
              "      <td>3.45</td>\n",
              "      <td>1480.0</td>\n",
              "    </tr>\n",
              "    <tr>\n",
              "      <th>4</th>\n",
              "      <td>13.24</td>\n",
              "      <td>2.59</td>\n",
              "      <td>2.87</td>\n",
              "      <td>21.0</td>\n",
              "      <td>118.0</td>\n",
              "      <td>2.80</td>\n",
              "      <td>2.69</td>\n",
              "      <td>0.39</td>\n",
              "      <td>1.82</td>\n",
              "      <td>4.32</td>\n",
              "      <td>1.04</td>\n",
              "      <td>2.93</td>\n",
              "      <td>735.0</td>\n",
              "    </tr>\n",
              "    <tr>\n",
              "      <th>...</th>\n",
              "      <td>...</td>\n",
              "      <td>...</td>\n",
              "      <td>...</td>\n",
              "      <td>...</td>\n",
              "      <td>...</td>\n",
              "      <td>...</td>\n",
              "      <td>...</td>\n",
              "      <td>...</td>\n",
              "      <td>...</td>\n",
              "      <td>...</td>\n",
              "      <td>...</td>\n",
              "      <td>...</td>\n",
              "      <td>...</td>\n",
              "    </tr>\n",
              "    <tr>\n",
              "      <th>173</th>\n",
              "      <td>13.71</td>\n",
              "      <td>5.65</td>\n",
              "      <td>2.45</td>\n",
              "      <td>20.5</td>\n",
              "      <td>95.0</td>\n",
              "      <td>1.68</td>\n",
              "      <td>0.61</td>\n",
              "      <td>0.52</td>\n",
              "      <td>1.06</td>\n",
              "      <td>7.70</td>\n",
              "      <td>0.64</td>\n",
              "      <td>1.74</td>\n",
              "      <td>740.0</td>\n",
              "    </tr>\n",
              "    <tr>\n",
              "      <th>174</th>\n",
              "      <td>13.40</td>\n",
              "      <td>3.91</td>\n",
              "      <td>2.48</td>\n",
              "      <td>23.0</td>\n",
              "      <td>102.0</td>\n",
              "      <td>1.80</td>\n",
              "      <td>0.75</td>\n",
              "      <td>0.43</td>\n",
              "      <td>1.41</td>\n",
              "      <td>7.30</td>\n",
              "      <td>0.70</td>\n",
              "      <td>1.56</td>\n",
              "      <td>750.0</td>\n",
              "    </tr>\n",
              "    <tr>\n",
              "      <th>175</th>\n",
              "      <td>13.27</td>\n",
              "      <td>4.28</td>\n",
              "      <td>2.26</td>\n",
              "      <td>20.0</td>\n",
              "      <td>120.0</td>\n",
              "      <td>1.59</td>\n",
              "      <td>0.69</td>\n",
              "      <td>0.43</td>\n",
              "      <td>1.35</td>\n",
              "      <td>10.20</td>\n",
              "      <td>0.59</td>\n",
              "      <td>1.56</td>\n",
              "      <td>835.0</td>\n",
              "    </tr>\n",
              "    <tr>\n",
              "      <th>176</th>\n",
              "      <td>13.17</td>\n",
              "      <td>2.59</td>\n",
              "      <td>2.37</td>\n",
              "      <td>20.0</td>\n",
              "      <td>120.0</td>\n",
              "      <td>1.65</td>\n",
              "      <td>0.68</td>\n",
              "      <td>0.53</td>\n",
              "      <td>1.46</td>\n",
              "      <td>9.30</td>\n",
              "      <td>0.60</td>\n",
              "      <td>1.62</td>\n",
              "      <td>840.0</td>\n",
              "    </tr>\n",
              "    <tr>\n",
              "      <th>177</th>\n",
              "      <td>14.13</td>\n",
              "      <td>4.10</td>\n",
              "      <td>2.74</td>\n",
              "      <td>24.5</td>\n",
              "      <td>96.0</td>\n",
              "      <td>2.05</td>\n",
              "      <td>0.76</td>\n",
              "      <td>0.56</td>\n",
              "      <td>1.35</td>\n",
              "      <td>9.20</td>\n",
              "      <td>0.61</td>\n",
              "      <td>1.60</td>\n",
              "      <td>560.0</td>\n",
              "    </tr>\n",
              "  </tbody>\n",
              "</table>\n",
              "<p>178 rows × 13 columns</p>\n",
              "</div>\n",
              "      <button class=\"colab-df-convert\" onclick=\"convertToInteractive('df-3a1ef63f-8cc2-4354-9ba9-0eba65cf8118')\"\n",
              "              title=\"Convert this dataframe to an interactive table.\"\n",
              "              style=\"display:none;\">\n",
              "        \n",
              "  <svg xmlns=\"http://www.w3.org/2000/svg\" height=\"24px\"viewBox=\"0 0 24 24\"\n",
              "       width=\"24px\">\n",
              "    <path d=\"M0 0h24v24H0V0z\" fill=\"none\"/>\n",
              "    <path d=\"M18.56 5.44l.94 2.06.94-2.06 2.06-.94-2.06-.94-.94-2.06-.94 2.06-2.06.94zm-11 1L8.5 8.5l.94-2.06 2.06-.94-2.06-.94L8.5 2.5l-.94 2.06-2.06.94zm10 10l.94 2.06.94-2.06 2.06-.94-2.06-.94-.94-2.06-.94 2.06-2.06.94z\"/><path d=\"M17.41 7.96l-1.37-1.37c-.4-.4-.92-.59-1.43-.59-.52 0-1.04.2-1.43.59L10.3 9.45l-7.72 7.72c-.78.78-.78 2.05 0 2.83L4 21.41c.39.39.9.59 1.41.59.51 0 1.02-.2 1.41-.59l7.78-7.78 2.81-2.81c.8-.78.8-2.07 0-2.86zM5.41 20L4 18.59l7.72-7.72 1.47 1.35L5.41 20z\"/>\n",
              "  </svg>\n",
              "      </button>\n",
              "      \n",
              "  <style>\n",
              "    .colab-df-container {\n",
              "      display:flex;\n",
              "      flex-wrap:wrap;\n",
              "      gap: 12px;\n",
              "    }\n",
              "\n",
              "    .colab-df-convert {\n",
              "      background-color: #E8F0FE;\n",
              "      border: none;\n",
              "      border-radius: 50%;\n",
              "      cursor: pointer;\n",
              "      display: none;\n",
              "      fill: #1967D2;\n",
              "      height: 32px;\n",
              "      padding: 0 0 0 0;\n",
              "      width: 32px;\n",
              "    }\n",
              "\n",
              "    .colab-df-convert:hover {\n",
              "      background-color: #E2EBFA;\n",
              "      box-shadow: 0px 1px 2px rgba(60, 64, 67, 0.3), 0px 1px 3px 1px rgba(60, 64, 67, 0.15);\n",
              "      fill: #174EA6;\n",
              "    }\n",
              "\n",
              "    [theme=dark] .colab-df-convert {\n",
              "      background-color: #3B4455;\n",
              "      fill: #D2E3FC;\n",
              "    }\n",
              "\n",
              "    [theme=dark] .colab-df-convert:hover {\n",
              "      background-color: #434B5C;\n",
              "      box-shadow: 0px 1px 3px 1px rgba(0, 0, 0, 0.15);\n",
              "      filter: drop-shadow(0px 1px 2px rgba(0, 0, 0, 0.3));\n",
              "      fill: #FFFFFF;\n",
              "    }\n",
              "  </style>\n",
              "\n",
              "      <script>\n",
              "        const buttonEl =\n",
              "          document.querySelector('#df-3a1ef63f-8cc2-4354-9ba9-0eba65cf8118 button.colab-df-convert');\n",
              "        buttonEl.style.display =\n",
              "          google.colab.kernel.accessAllowed ? 'block' : 'none';\n",
              "\n",
              "        async function convertToInteractive(key) {\n",
              "          const element = document.querySelector('#df-3a1ef63f-8cc2-4354-9ba9-0eba65cf8118');\n",
              "          const dataTable =\n",
              "            await google.colab.kernel.invokeFunction('convertToInteractive',\n",
              "                                                     [key], {});\n",
              "          if (!dataTable) return;\n",
              "\n",
              "          const docLinkHtml = 'Like what you see? Visit the ' +\n",
              "            '<a target=\"_blank\" href=https://colab.research.google.com/notebooks/data_table.ipynb>data table notebook</a>'\n",
              "            + ' to learn more about interactive tables.';\n",
              "          element.innerHTML = '';\n",
              "          dataTable['output_type'] = 'display_data';\n",
              "          await google.colab.output.renderOutput(dataTable, element);\n",
              "          const docLink = document.createElement('div');\n",
              "          docLink.innerHTML = docLinkHtml;\n",
              "          element.appendChild(docLink);\n",
              "        }\n",
              "      </script>\n",
              "    </div>\n",
              "  </div>\n",
              "  "
            ]
          },
          "metadata": {},
          "execution_count": 138
        }
      ]
    },
    {
      "cell_type": "markdown",
      "source": [
        "- <u>Label data 추가</u>  \n",
        "    label(target) : 정답 데이터"
      ],
      "metadata": {
        "id": "PetGkhy-74A6"
      }
    },
    {
      "cell_type": "code",
      "source": [
        "wine_df[\"label\"] = wine.target\n",
        "wine_df"
      ],
      "metadata": {
        "colab": {
          "base_uri": "https://localhost:8080/",
          "height": 424
        },
        "outputId": "48e2788c-37f8-4f59-e75f-20a342650db3",
        "id": "u_hSHHqR74A6"
      },
      "execution_count": null,
      "outputs": [
        {
          "output_type": "execute_result",
          "data": {
            "text/plain": [
              "     alcohol  malic_acid   ash  alcalinity_of_ash  magnesium  total_phenols  \\\n",
              "0      14.23        1.71  2.43               15.6      127.0           2.80   \n",
              "1      13.20        1.78  2.14               11.2      100.0           2.65   \n",
              "2      13.16        2.36  2.67               18.6      101.0           2.80   \n",
              "3      14.37        1.95  2.50               16.8      113.0           3.85   \n",
              "4      13.24        2.59  2.87               21.0      118.0           2.80   \n",
              "..       ...         ...   ...                ...        ...            ...   \n",
              "173    13.71        5.65  2.45               20.5       95.0           1.68   \n",
              "174    13.40        3.91  2.48               23.0      102.0           1.80   \n",
              "175    13.27        4.28  2.26               20.0      120.0           1.59   \n",
              "176    13.17        2.59  2.37               20.0      120.0           1.65   \n",
              "177    14.13        4.10  2.74               24.5       96.0           2.05   \n",
              "\n",
              "     flavanoids  nonflavanoid_phenols  proanthocyanins  color_intensity   hue  \\\n",
              "0          3.06                  0.28             2.29             5.64  1.04   \n",
              "1          2.76                  0.26             1.28             4.38  1.05   \n",
              "2          3.24                  0.30             2.81             5.68  1.03   \n",
              "3          3.49                  0.24             2.18             7.80  0.86   \n",
              "4          2.69                  0.39             1.82             4.32  1.04   \n",
              "..          ...                   ...              ...              ...   ...   \n",
              "173        0.61                  0.52             1.06             7.70  0.64   \n",
              "174        0.75                  0.43             1.41             7.30  0.70   \n",
              "175        0.69                  0.43             1.35            10.20  0.59   \n",
              "176        0.68                  0.53             1.46             9.30  0.60   \n",
              "177        0.76                  0.56             1.35             9.20  0.61   \n",
              "\n",
              "     od280/od315_of_diluted_wines  proline  label  \n",
              "0                            3.92   1065.0      0  \n",
              "1                            3.40   1050.0      0  \n",
              "2                            3.17   1185.0      0  \n",
              "3                            3.45   1480.0      0  \n",
              "4                            2.93    735.0      0  \n",
              "..                            ...      ...    ...  \n",
              "173                          1.74    740.0      2  \n",
              "174                          1.56    750.0      2  \n",
              "175                          1.56    835.0      2  \n",
              "176                          1.62    840.0      2  \n",
              "177                          1.60    560.0      2  \n",
              "\n",
              "[178 rows x 14 columns]"
            ],
            "text/html": [
              "\n",
              "  <div id=\"df-92dc1423-c8a7-4da8-89cc-726db2c9426a\">\n",
              "    <div class=\"colab-df-container\">\n",
              "      <div>\n",
              "<style scoped>\n",
              "    .dataframe tbody tr th:only-of-type {\n",
              "        vertical-align: middle;\n",
              "    }\n",
              "\n",
              "    .dataframe tbody tr th {\n",
              "        vertical-align: top;\n",
              "    }\n",
              "\n",
              "    .dataframe thead th {\n",
              "        text-align: right;\n",
              "    }\n",
              "</style>\n",
              "<table border=\"1\" class=\"dataframe\">\n",
              "  <thead>\n",
              "    <tr style=\"text-align: right;\">\n",
              "      <th></th>\n",
              "      <th>alcohol</th>\n",
              "      <th>malic_acid</th>\n",
              "      <th>ash</th>\n",
              "      <th>alcalinity_of_ash</th>\n",
              "      <th>magnesium</th>\n",
              "      <th>total_phenols</th>\n",
              "      <th>flavanoids</th>\n",
              "      <th>nonflavanoid_phenols</th>\n",
              "      <th>proanthocyanins</th>\n",
              "      <th>color_intensity</th>\n",
              "      <th>hue</th>\n",
              "      <th>od280/od315_of_diluted_wines</th>\n",
              "      <th>proline</th>\n",
              "      <th>label</th>\n",
              "    </tr>\n",
              "  </thead>\n",
              "  <tbody>\n",
              "    <tr>\n",
              "      <th>0</th>\n",
              "      <td>14.23</td>\n",
              "      <td>1.71</td>\n",
              "      <td>2.43</td>\n",
              "      <td>15.6</td>\n",
              "      <td>127.0</td>\n",
              "      <td>2.80</td>\n",
              "      <td>3.06</td>\n",
              "      <td>0.28</td>\n",
              "      <td>2.29</td>\n",
              "      <td>5.64</td>\n",
              "      <td>1.04</td>\n",
              "      <td>3.92</td>\n",
              "      <td>1065.0</td>\n",
              "      <td>0</td>\n",
              "    </tr>\n",
              "    <tr>\n",
              "      <th>1</th>\n",
              "      <td>13.20</td>\n",
              "      <td>1.78</td>\n",
              "      <td>2.14</td>\n",
              "      <td>11.2</td>\n",
              "      <td>100.0</td>\n",
              "      <td>2.65</td>\n",
              "      <td>2.76</td>\n",
              "      <td>0.26</td>\n",
              "      <td>1.28</td>\n",
              "      <td>4.38</td>\n",
              "      <td>1.05</td>\n",
              "      <td>3.40</td>\n",
              "      <td>1050.0</td>\n",
              "      <td>0</td>\n",
              "    </tr>\n",
              "    <tr>\n",
              "      <th>2</th>\n",
              "      <td>13.16</td>\n",
              "      <td>2.36</td>\n",
              "      <td>2.67</td>\n",
              "      <td>18.6</td>\n",
              "      <td>101.0</td>\n",
              "      <td>2.80</td>\n",
              "      <td>3.24</td>\n",
              "      <td>0.30</td>\n",
              "      <td>2.81</td>\n",
              "      <td>5.68</td>\n",
              "      <td>1.03</td>\n",
              "      <td>3.17</td>\n",
              "      <td>1185.0</td>\n",
              "      <td>0</td>\n",
              "    </tr>\n",
              "    <tr>\n",
              "      <th>3</th>\n",
              "      <td>14.37</td>\n",
              "      <td>1.95</td>\n",
              "      <td>2.50</td>\n",
              "      <td>16.8</td>\n",
              "      <td>113.0</td>\n",
              "      <td>3.85</td>\n",
              "      <td>3.49</td>\n",
              "      <td>0.24</td>\n",
              "      <td>2.18</td>\n",
              "      <td>7.80</td>\n",
              "      <td>0.86</td>\n",
              "      <td>3.45</td>\n",
              "      <td>1480.0</td>\n",
              "      <td>0</td>\n",
              "    </tr>\n",
              "    <tr>\n",
              "      <th>4</th>\n",
              "      <td>13.24</td>\n",
              "      <td>2.59</td>\n",
              "      <td>2.87</td>\n",
              "      <td>21.0</td>\n",
              "      <td>118.0</td>\n",
              "      <td>2.80</td>\n",
              "      <td>2.69</td>\n",
              "      <td>0.39</td>\n",
              "      <td>1.82</td>\n",
              "      <td>4.32</td>\n",
              "      <td>1.04</td>\n",
              "      <td>2.93</td>\n",
              "      <td>735.0</td>\n",
              "      <td>0</td>\n",
              "    </tr>\n",
              "    <tr>\n",
              "      <th>...</th>\n",
              "      <td>...</td>\n",
              "      <td>...</td>\n",
              "      <td>...</td>\n",
              "      <td>...</td>\n",
              "      <td>...</td>\n",
              "      <td>...</td>\n",
              "      <td>...</td>\n",
              "      <td>...</td>\n",
              "      <td>...</td>\n",
              "      <td>...</td>\n",
              "      <td>...</td>\n",
              "      <td>...</td>\n",
              "      <td>...</td>\n",
              "      <td>...</td>\n",
              "    </tr>\n",
              "    <tr>\n",
              "      <th>173</th>\n",
              "      <td>13.71</td>\n",
              "      <td>5.65</td>\n",
              "      <td>2.45</td>\n",
              "      <td>20.5</td>\n",
              "      <td>95.0</td>\n",
              "      <td>1.68</td>\n",
              "      <td>0.61</td>\n",
              "      <td>0.52</td>\n",
              "      <td>1.06</td>\n",
              "      <td>7.70</td>\n",
              "      <td>0.64</td>\n",
              "      <td>1.74</td>\n",
              "      <td>740.0</td>\n",
              "      <td>2</td>\n",
              "    </tr>\n",
              "    <tr>\n",
              "      <th>174</th>\n",
              "      <td>13.40</td>\n",
              "      <td>3.91</td>\n",
              "      <td>2.48</td>\n",
              "      <td>23.0</td>\n",
              "      <td>102.0</td>\n",
              "      <td>1.80</td>\n",
              "      <td>0.75</td>\n",
              "      <td>0.43</td>\n",
              "      <td>1.41</td>\n",
              "      <td>7.30</td>\n",
              "      <td>0.70</td>\n",
              "      <td>1.56</td>\n",
              "      <td>750.0</td>\n",
              "      <td>2</td>\n",
              "    </tr>\n",
              "    <tr>\n",
              "      <th>175</th>\n",
              "      <td>13.27</td>\n",
              "      <td>4.28</td>\n",
              "      <td>2.26</td>\n",
              "      <td>20.0</td>\n",
              "      <td>120.0</td>\n",
              "      <td>1.59</td>\n",
              "      <td>0.69</td>\n",
              "      <td>0.43</td>\n",
              "      <td>1.35</td>\n",
              "      <td>10.20</td>\n",
              "      <td>0.59</td>\n",
              "      <td>1.56</td>\n",
              "      <td>835.0</td>\n",
              "      <td>2</td>\n",
              "    </tr>\n",
              "    <tr>\n",
              "      <th>176</th>\n",
              "      <td>13.17</td>\n",
              "      <td>2.59</td>\n",
              "      <td>2.37</td>\n",
              "      <td>20.0</td>\n",
              "      <td>120.0</td>\n",
              "      <td>1.65</td>\n",
              "      <td>0.68</td>\n",
              "      <td>0.53</td>\n",
              "      <td>1.46</td>\n",
              "      <td>9.30</td>\n",
              "      <td>0.60</td>\n",
              "      <td>1.62</td>\n",
              "      <td>840.0</td>\n",
              "      <td>2</td>\n",
              "    </tr>\n",
              "    <tr>\n",
              "      <th>177</th>\n",
              "      <td>14.13</td>\n",
              "      <td>4.10</td>\n",
              "      <td>2.74</td>\n",
              "      <td>24.5</td>\n",
              "      <td>96.0</td>\n",
              "      <td>2.05</td>\n",
              "      <td>0.76</td>\n",
              "      <td>0.56</td>\n",
              "      <td>1.35</td>\n",
              "      <td>9.20</td>\n",
              "      <td>0.61</td>\n",
              "      <td>1.60</td>\n",
              "      <td>560.0</td>\n",
              "      <td>2</td>\n",
              "    </tr>\n",
              "  </tbody>\n",
              "</table>\n",
              "<p>178 rows × 14 columns</p>\n",
              "</div>\n",
              "      <button class=\"colab-df-convert\" onclick=\"convertToInteractive('df-92dc1423-c8a7-4da8-89cc-726db2c9426a')\"\n",
              "              title=\"Convert this dataframe to an interactive table.\"\n",
              "              style=\"display:none;\">\n",
              "        \n",
              "  <svg xmlns=\"http://www.w3.org/2000/svg\" height=\"24px\"viewBox=\"0 0 24 24\"\n",
              "       width=\"24px\">\n",
              "    <path d=\"M0 0h24v24H0V0z\" fill=\"none\"/>\n",
              "    <path d=\"M18.56 5.44l.94 2.06.94-2.06 2.06-.94-2.06-.94-.94-2.06-.94 2.06-2.06.94zm-11 1L8.5 8.5l.94-2.06 2.06-.94-2.06-.94L8.5 2.5l-.94 2.06-2.06.94zm10 10l.94 2.06.94-2.06 2.06-.94-2.06-.94-.94-2.06-.94 2.06-2.06.94z\"/><path d=\"M17.41 7.96l-1.37-1.37c-.4-.4-.92-.59-1.43-.59-.52 0-1.04.2-1.43.59L10.3 9.45l-7.72 7.72c-.78.78-.78 2.05 0 2.83L4 21.41c.39.39.9.59 1.41.59.51 0 1.02-.2 1.41-.59l7.78-7.78 2.81-2.81c.8-.78.8-2.07 0-2.86zM5.41 20L4 18.59l7.72-7.72 1.47 1.35L5.41 20z\"/>\n",
              "  </svg>\n",
              "      </button>\n",
              "      \n",
              "  <style>\n",
              "    .colab-df-container {\n",
              "      display:flex;\n",
              "      flex-wrap:wrap;\n",
              "      gap: 12px;\n",
              "    }\n",
              "\n",
              "    .colab-df-convert {\n",
              "      background-color: #E8F0FE;\n",
              "      border: none;\n",
              "      border-radius: 50%;\n",
              "      cursor: pointer;\n",
              "      display: none;\n",
              "      fill: #1967D2;\n",
              "      height: 32px;\n",
              "      padding: 0 0 0 0;\n",
              "      width: 32px;\n",
              "    }\n",
              "\n",
              "    .colab-df-convert:hover {\n",
              "      background-color: #E2EBFA;\n",
              "      box-shadow: 0px 1px 2px rgba(60, 64, 67, 0.3), 0px 1px 3px 1px rgba(60, 64, 67, 0.15);\n",
              "      fill: #174EA6;\n",
              "    }\n",
              "\n",
              "    [theme=dark] .colab-df-convert {\n",
              "      background-color: #3B4455;\n",
              "      fill: #D2E3FC;\n",
              "    }\n",
              "\n",
              "    [theme=dark] .colab-df-convert:hover {\n",
              "      background-color: #434B5C;\n",
              "      box-shadow: 0px 1px 3px 1px rgba(0, 0, 0, 0.15);\n",
              "      filter: drop-shadow(0px 1px 2px rgba(0, 0, 0, 0.3));\n",
              "      fill: #FFFFFF;\n",
              "    }\n",
              "  </style>\n",
              "\n",
              "      <script>\n",
              "        const buttonEl =\n",
              "          document.querySelector('#df-92dc1423-c8a7-4da8-89cc-726db2c9426a button.colab-df-convert');\n",
              "        buttonEl.style.display =\n",
              "          google.colab.kernel.accessAllowed ? 'block' : 'none';\n",
              "\n",
              "        async function convertToInteractive(key) {\n",
              "          const element = document.querySelector('#df-92dc1423-c8a7-4da8-89cc-726db2c9426a');\n",
              "          const dataTable =\n",
              "            await google.colab.kernel.invokeFunction('convertToInteractive',\n",
              "                                                     [key], {});\n",
              "          if (!dataTable) return;\n",
              "\n",
              "          const docLinkHtml = 'Like what you see? Visit the ' +\n",
              "            '<a target=\"_blank\" href=https://colab.research.google.com/notebooks/data_table.ipynb>data table notebook</a>'\n",
              "            + ' to learn more about interactive tables.';\n",
              "          element.innerHTML = '';\n",
              "          dataTable['output_type'] = 'display_data';\n",
              "          await google.colab.output.renderOutput(dataTable, element);\n",
              "          const docLink = document.createElement('div');\n",
              "          docLink.innerHTML = docLinkHtml;\n",
              "          element.appendChild(docLink);\n",
              "        }\n",
              "      </script>\n",
              "    </div>\n",
              "  </div>\n",
              "  "
            ]
          },
          "metadata": {},
          "execution_count": 139
        }
      ]
    },
    {
      "cell_type": "markdown",
      "source": [
        "## 📑 (4) train, test 데이터 분리"
      ],
      "metadata": {
        "id": "8BJQSFPZ74A6"
      }
    },
    {
      "cell_type": "markdown",
      "source": [
        "- <u>모델 학습 및 테스트용 문제지와 정답지 생성</u>   \n",
        "    data: feature (문제)  \n",
        "    label: label (정답)  \n",
        "    test_size: 전체에서 테스트 데이터로 사용할 비율  \n",
        "    random_state : 데이터를 분리하는데 적용되는 랜덤성"
      ],
      "metadata": {
        "id": "BT2WGsF674A6"
      }
    },
    {
      "cell_type": "code",
      "source": [
        "X_train, X_test, y_train, y_test = train_test_split(wine_data, wine_label, test_size=0.3, random_state=15)\n",
        "print('X_train 개수: ', len(X_train),', X_test 개수: ', len(X_test))"
      ],
      "metadata": {
        "colab": {
          "base_uri": "https://localhost:8080/"
        },
        "outputId": "8ba539c8-4bab-40f3-f389-721a727323db",
        "id": "60W2TfSG74A7"
      },
      "execution_count": null,
      "outputs": [
        {
          "output_type": "stream",
          "name": "stdout",
          "text": [
            "X_train 개수:  124 , X_test 개수:  54\n"
          ]
        }
      ]
    },
    {
      "cell_type": "code",
      "source": [
        "X_train.shape, y_train.shape"
      ],
      "metadata": {
        "colab": {
          "base_uri": "https://localhost:8080/"
        },
        "outputId": "374052c2-a83b-40e5-c7cd-33c6a273d445",
        "id": "GkBpBtIO74A7"
      },
      "execution_count": null,
      "outputs": [
        {
          "output_type": "execute_result",
          "data": {
            "text/plain": [
              "((124, 13), (124,))"
            ]
          },
          "metadata": {},
          "execution_count": 141
        }
      ]
    },
    {
      "cell_type": "code",
      "source": [
        "X_test.shape, y_test.shape"
      ],
      "metadata": {
        "colab": {
          "base_uri": "https://localhost:8080/"
        },
        "outputId": "2f956297-ae21-4021-f5e1-d1ddbb5e2029",
        "id": "drWK0m3e74A7"
      },
      "execution_count": null,
      "outputs": [
        {
          "output_type": "execute_result",
          "data": {
            "text/plain": [
              "((54, 13), (54,))"
            ]
          },
          "metadata": {},
          "execution_count": 142
        }
      ]
    },
    {
      "cell_type": "code",
      "source": [
        "y_train, y_test"
      ],
      "metadata": {
        "colab": {
          "base_uri": "https://localhost:8080/"
        },
        "outputId": "ced913ba-839f-463f-c322-8845aa4bbb53",
        "id": "-MsYBogo74A7"
      },
      "execution_count": null,
      "outputs": [
        {
          "output_type": "execute_result",
          "data": {
            "text/plain": [
              "(array([0, 0, 2, 1, 1, 0, 0, 2, 2, 1, 0, 1, 2, 2, 1, 1, 0, 2, 0, 1, 2, 1,\n",
              "        0, 1, 1, 2, 1, 2, 2, 1, 1, 2, 1, 0, 1, 0, 1, 0, 0, 2, 1, 1, 1, 0,\n",
              "        1, 2, 0, 1, 0, 2, 1, 0, 1, 1, 0, 1, 1, 0, 1, 1, 1, 2, 2, 0, 1, 0,\n",
              "        1, 1, 2, 0, 0, 1, 1, 1, 1, 1, 0, 2, 2, 2, 1, 0, 0, 2, 1, 0, 0, 1,\n",
              "        2, 1, 0, 0, 0, 0, 1, 2, 1, 0, 1, 0, 0, 1, 1, 2, 0, 0, 0, 0, 1, 2,\n",
              "        0, 1, 2, 0, 2, 0, 1, 1, 2, 2, 1, 1, 2, 2]),\n",
              " array([2, 0, 2, 0, 1, 0, 1, 2, 1, 0, 1, 1, 1, 1, 0, 1, 2, 0, 2, 1, 2, 0,\n",
              "        2, 2, 2, 0, 2, 1, 0, 0, 1, 2, 0, 1, 2, 0, 0, 1, 1, 2, 1, 1, 2, 2,\n",
              "        1, 1, 2, 0, 0, 0, 0, 2, 0, 1]))"
            ]
          },
          "metadata": {},
          "execution_count": 143
        }
      ]
    },
    {
      "cell_type": "markdown",
      "source": [
        "## 📑 (5-6) 다양한 모델로 학습 및 평가"
      ],
      "metadata": {
        "id": "f7qAIfFP74A7"
      }
    },
    {
      "cell_type": "markdown",
      "source": [
        "### 📌 01_모듈 import"
      ],
      "metadata": {
        "id": "a3gDiB6I74A7"
      }
    },
    {
      "cell_type": "markdown",
      "source": [
        "- <u>패키지 import</u>  \n",
        "    정확도: metrics (accuracy_score)  \n",
        "    오차행렬: metrics (confusion_matrix)"
      ],
      "metadata": {
        "id": "rOn6lnnj74A7"
      }
    },
    {
      "cell_type": "code",
      "source": [
        "from sklearn.metrics import accuracy_score\n",
        "from sklearn.metrics import confusion_matrix"
      ],
      "metadata": {
        "id": "asOkTMHY74A7"
      },
      "execution_count": null,
      "outputs": []
    },
    {
      "cell_type": "markdown",
      "source": [
        "### 📌 02_학습 및 평가 : Decision Tree"
      ],
      "metadata": {
        "id": "VQS2laFD74A8"
      }
    },
    {
      "cell_type": "code",
      "source": [
        "from sklearn.tree import DecisionTreeClassifier\n",
        "\n",
        "decision_tree = DecisionTreeClassifier(random_state=15)\n",
        "decision_tree.fit(X_train, y_train)\n",
        "y_pred = decision_tree.predict(X_test)\n",
        "print(classification_report(y_test, y_pred))\n",
        "print('정확도 :', accuracy_score(y_test, y_pred))"
      ],
      "metadata": {
        "colab": {
          "base_uri": "https://localhost:8080/"
        },
        "outputId": "60d972b6-ddcc-4afc-85a9-9b665f65f91a",
        "id": "lLri8hTp74A8"
      },
      "execution_count": null,
      "outputs": [
        {
          "output_type": "stream",
          "name": "stdout",
          "text": [
            "              precision    recall  f1-score   support\n",
            "\n",
            "           0       1.00      1.00      1.00        18\n",
            "           1       0.89      0.89      0.89        19\n",
            "           2       0.88      0.88      0.88        17\n",
            "\n",
            "    accuracy                           0.93        54\n",
            "   macro avg       0.93      0.93      0.93        54\n",
            "weighted avg       0.93      0.93      0.93        54\n",
            "\n",
            "정확도 : 0.9259259259259259\n"
          ]
        }
      ]
    },
    {
      "cell_type": "markdown",
      "source": [
        "### 📌 03_학습 및 평가 : Random Forest"
      ],
      "metadata": {
        "id": "xLBF6HJm74A8"
      }
    },
    {
      "cell_type": "code",
      "source": [
        "from sklearn.ensemble import RandomForestClassifier\n",
        "\n",
        "random_forest = RandomForestClassifier(random_state=15)\n",
        "random_forest.fit(X_train, y_train)\n",
        "y_pred = random_forest.predict(X_test)\n",
        "print(classification_report(y_test, y_pred))\n",
        "print('정확도 :', accuracy_score(y_test, y_pred))"
      ],
      "metadata": {
        "colab": {
          "base_uri": "https://localhost:8080/"
        },
        "outputId": "30e66868-7a03-4f61-b231-2ad245ef0fea",
        "id": "TcoyEpc-74A8"
      },
      "execution_count": null,
      "outputs": [
        {
          "output_type": "stream",
          "name": "stdout",
          "text": [
            "              precision    recall  f1-score   support\n",
            "\n",
            "           0       1.00      1.00      1.00        18\n",
            "           1       1.00      1.00      1.00        19\n",
            "           2       1.00      1.00      1.00        17\n",
            "\n",
            "    accuracy                           1.00        54\n",
            "   macro avg       1.00      1.00      1.00        54\n",
            "weighted avg       1.00      1.00      1.00        54\n",
            "\n",
            "정확도 : 1.0\n"
          ]
        }
      ]
    },
    {
      "cell_type": "markdown",
      "source": [
        "### 📌 04_학습 및 평가 : SVM"
      ],
      "metadata": {
        "id": "xfBnHfhq74A8"
      }
    },
    {
      "cell_type": "code",
      "source": [
        "from sklearn import svm\n",
        "\n",
        "svm_model = svm.SVC()\n",
        "svm_model.fit(X_train, y_train)\n",
        "y_pred = svm_model.predict(X_test)\n",
        "print(classification_report(y_test, y_pred))\n",
        "print('정확도 :', accuracy_score(y_test, y_pred))"
      ],
      "metadata": {
        "colab": {
          "base_uri": "https://localhost:8080/"
        },
        "outputId": "afd8ece1-73be-43f9-badf-7fc381ed90eb",
        "id": "exjpjHRm74A8"
      },
      "execution_count": null,
      "outputs": [
        {
          "output_type": "stream",
          "name": "stdout",
          "text": [
            "              precision    recall  f1-score   support\n",
            "\n",
            "           0       0.84      0.89      0.86        18\n",
            "           1       0.51      0.95      0.67        19\n",
            "           2       0.00      0.00      0.00        17\n",
            "\n",
            "    accuracy                           0.63        54\n",
            "   macro avg       0.45      0.61      0.51        54\n",
            "weighted avg       0.46      0.63      0.52        54\n",
            "\n",
            "정확도 : 0.6296296296296297\n"
          ]
        },
        {
          "output_type": "stream",
          "name": "stderr",
          "text": [
            "/usr/local/lib/python3.7/dist-packages/sklearn/metrics/_classification.py:1318: UndefinedMetricWarning: Precision and F-score are ill-defined and being set to 0.0 in labels with no predicted samples. Use `zero_division` parameter to control this behavior.\n",
            "  _warn_prf(average, modifier, msg_start, len(result))\n",
            "/usr/local/lib/python3.7/dist-packages/sklearn/metrics/_classification.py:1318: UndefinedMetricWarning: Precision and F-score are ill-defined and being set to 0.0 in labels with no predicted samples. Use `zero_division` parameter to control this behavior.\n",
            "  _warn_prf(average, modifier, msg_start, len(result))\n",
            "/usr/local/lib/python3.7/dist-packages/sklearn/metrics/_classification.py:1318: UndefinedMetricWarning: Precision and F-score are ill-defined and being set to 0.0 in labels with no predicted samples. Use `zero_division` parameter to control this behavior.\n",
            "  _warn_prf(average, modifier, msg_start, len(result))\n"
          ]
        }
      ]
    },
    {
      "cell_type": "markdown",
      "source": [
        "### 📌 05_학습 및 평가 : SGD Classifier"
      ],
      "metadata": {
        "id": "5vGCumY-74A8"
      }
    },
    {
      "cell_type": "code",
      "source": [
        "from sklearn.linear_model import SGDClassifier\n",
        "\n",
        "sgd_model = SGDClassifier()\n",
        "sgd_model.fit(X_train, y_train)\n",
        "y_pred = sgd_model.predict(X_test)\n",
        "print(classification_report(y_test, y_pred))\n",
        "print('정확도 :', accuracy_score(y_test, y_pred))"
      ],
      "metadata": {
        "colab": {
          "base_uri": "https://localhost:8080/"
        },
        "outputId": "c8f521c8-f7c5-42e5-fdec-0260cca96ada",
        "id": "auHWkW1_74A8"
      },
      "execution_count": null,
      "outputs": [
        {
          "output_type": "stream",
          "name": "stdout",
          "text": [
            "              precision    recall  f1-score   support\n",
            "\n",
            "           0       0.79      0.83      0.81        18\n",
            "           1       0.49      0.89      0.63        19\n",
            "           2       0.00      0.00      0.00        17\n",
            "\n",
            "    accuracy                           0.59        54\n",
            "   macro avg       0.43      0.58      0.48        54\n",
            "weighted avg       0.43      0.59      0.49        54\n",
            "\n",
            "정확도 : 0.5925925925925926\n"
          ]
        },
        {
          "output_type": "stream",
          "name": "stderr",
          "text": [
            "/usr/local/lib/python3.7/dist-packages/sklearn/metrics/_classification.py:1318: UndefinedMetricWarning: Precision and F-score are ill-defined and being set to 0.0 in labels with no predicted samples. Use `zero_division` parameter to control this behavior.\n",
            "  _warn_prf(average, modifier, msg_start, len(result))\n",
            "/usr/local/lib/python3.7/dist-packages/sklearn/metrics/_classification.py:1318: UndefinedMetricWarning: Precision and F-score are ill-defined and being set to 0.0 in labels with no predicted samples. Use `zero_division` parameter to control this behavior.\n",
            "  _warn_prf(average, modifier, msg_start, len(result))\n",
            "/usr/local/lib/python3.7/dist-packages/sklearn/metrics/_classification.py:1318: UndefinedMetricWarning: Precision and F-score are ill-defined and being set to 0.0 in labels with no predicted samples. Use `zero_division` parameter to control this behavior.\n",
            "  _warn_prf(average, modifier, msg_start, len(result))\n"
          ]
        }
      ]
    },
    {
      "cell_type": "markdown",
      "source": [
        "### 📌 06_학습 및 평가 : Logistic Regression\n"
      ],
      "metadata": {
        "id": "Rr8gfx9L74A8"
      }
    },
    {
      "cell_type": "code",
      "source": [
        "from sklearn.linear_model import LogisticRegression\n",
        "\n",
        "logistic_model = LogisticRegression()\n",
        "logistic_model.fit(X_train, y_train)\n",
        "y_pred = logistic_model.predict(X_test)\n",
        "print(classification_report(y_test, y_pred))\n",
        "print('정확도 :', accuracy_score(y_test, y_pred))"
      ],
      "metadata": {
        "colab": {
          "base_uri": "https://localhost:8080/"
        },
        "outputId": "59cea33c-2e04-4282-c032-c61bfdee26f8",
        "id": "rfxIj_8a74A8"
      },
      "execution_count": null,
      "outputs": [
        {
          "output_type": "stream",
          "name": "stdout",
          "text": [
            "              precision    recall  f1-score   support\n",
            "\n",
            "           0       1.00      0.94      0.97        18\n",
            "           1       0.90      1.00      0.95        19\n",
            "           2       1.00      0.94      0.97        17\n",
            "\n",
            "    accuracy                           0.96        54\n",
            "   macro avg       0.97      0.96      0.96        54\n",
            "weighted avg       0.97      0.96      0.96        54\n",
            "\n",
            "정확도 : 0.9629629629629629\n"
          ]
        },
        {
          "output_type": "stream",
          "name": "stderr",
          "text": [
            "/usr/local/lib/python3.7/dist-packages/sklearn/linear_model/_logistic.py:818: ConvergenceWarning: lbfgs failed to converge (status=1):\n",
            "STOP: TOTAL NO. of ITERATIONS REACHED LIMIT.\n",
            "\n",
            "Increase the number of iterations (max_iter) or scale the data as shown in:\n",
            "    https://scikit-learn.org/stable/modules/preprocessing.html\n",
            "Please also refer to the documentation for alternative solver options:\n",
            "    https://scikit-learn.org/stable/modules/linear_model.html#logistic-regression\n",
            "  extra_warning_msg=_LOGISTIC_SOLVER_CONVERGENCE_MSG,\n"
          ]
        }
      ]
    },
    {
      "cell_type": "markdown",
      "source": [
        "### 📌 07_최종 평가"
      ],
      "metadata": {
        "id": "tnne0na774A8"
      }
    },
    {
      "cell_type": "markdown",
      "source": [
        "- <u>Decision Tree</u>\n",
        "```\n",
        "                precision   recall   f1-score   support\n",
        "    accuracy                           0.93        54\n",
        "   macro avg       0.93      0.93      0.93        54\n",
        "weighted avg     0.93      0.93      0.93        54\n",
        "```\n",
        "\n",
        "- <u>Random Forest</u>\n",
        "```\n",
        "    accuracy                           1.00        54\n",
        "   macro avg       1.00      1.00      1.00        54\n",
        "weighted avg     1.00      1.00      1.00        54\n",
        "```\n",
        "\n",
        "- <u>SVM</u>\n",
        "```\n",
        "                precision   recall   f1-score   support\n",
        "     accuracy                          0.63        54\n",
        "   macro avg       0.45      0.61      0.51        54\n",
        "weighted avg     0.46      0.63      0.52        54\n",
        "```\n",
        "\n",
        "- <u>SGD Classifier</u>\n",
        "```\n",
        "                precision   recall   f1-score   support\n",
        "    accuracy                           0.59        54\n",
        "   macro avg       0.81      0.61      0.53        54\n",
        "weighted avg     0.82      0.59      0.52        54\n",
        "```\n",
        "\n",
        "- <u>Logistic Regression</u>\n",
        "```\n",
        "                precision   recall   f1-score   support\n",
        "    accuracy                           0.96        54\n",
        "   macro avg       0.97      0.96      0.96        54\n",
        "weighted avg     0.97      0.96      0.96        54\n",
        "```\n",
        "\n",
        "<br>\n",
        "\n",
        "- <u>결론</u>  \n",
        "    동일한 데이터 조건으로 다양한 모델에 적용 시 성능의 차이가 많이 나는 것을 볼 수 있다. SGD Classifier과 SVM이 다른 모델에 비해 성능이 매우 안좋게 나오고, Random Forest의 경우에는 반대로 정확도 1.0으로 신용할 수 없는 결과가 나온다. (random_state의 값을 바꾸면 1.0이 아닌 값이 나오기는 한다.) 그 외에도 데이터 클래스의 수가 적어서 그런지 대부분의 데이터가 앞선 손글씨 모델에 비해 클래스간 성능 차이가 크다. 때문에 손글씨 분류와 같이 정확도(accuracy)를 평가 지표로 사용하는 것은 문제가 있다고 여겨진다. 그래서 F1 score의 가중 평균을 평가 지표로 선택하는 방향으로 결정했다. 일단 데이터의 신뢰가 낮기도 하지만, 각 클래스간의 오차도 상당히 크기 때문이다."
      ],
      "metadata": {
        "id": "hLHUhxbw74A9"
      }
    },
    {
      "cell_type": "markdown",
      "source": [
        "# 📕 EXPLORATION 01-3 :  load_breast_cancer 유방암 여부 진단"
      ],
      "metadata": {
        "id": "vpuFFdcs8OG4"
      }
    },
    {
      "cell_type": "markdown",
      "source": [
        "## 📑 (1) 모듈 import\n"
      ],
      "metadata": {
        "id": "2WT0xSGz8OG9"
      }
    },
    {
      "cell_type": "markdown",
      "source": [
        "- <u>scikit-learn 라이브러리</u>  \n",
        "    - 데이터 로딩: datasets (load_breast_cancer)  \n",
        "    - 데이터셋 분리: model_selection (train_test_split)  \n",
        "    - 성능 평가: metrics (classification_report)"
      ],
      "metadata": {
        "id": "0B91dHYi8OG9"
      }
    },
    {
      "cell_type": "code",
      "source": [
        "from sklearn.datasets import load_breast_cancer\n",
        "from sklearn.model_selection import train_test_split\n",
        "from sklearn.metrics import classification_report"
      ],
      "metadata": {
        "id": "b-981pdX8OG9"
      },
      "execution_count": null,
      "outputs": []
    },
    {
      "cell_type": "markdown",
      "source": [
        "## 📑 (2) 데이터 준비"
      ],
      "metadata": {
        "id": "bNzjZ1qp8OG9"
      }
    },
    {
      "cell_type": "markdown",
      "source": [
        "- <u>load_breast_cancer 메서드 활용</u>  \n",
        "    DESCR, data, data_module, feature_names, filename, frame, target, target_names"
      ],
      "metadata": {
        "id": "bXToVR8Y8OG-"
      }
    },
    {
      "cell_type": "code",
      "source": [
        "breast_cancer = load_breast_cancer()\n",
        "print(dir(breast_cancer))"
      ],
      "metadata": {
        "colab": {
          "base_uri": "https://localhost:8080/"
        },
        "outputId": "9b73afe1-e662-453b-d869-530c8929c0e2",
        "id": "Dr-_-0Mc8OG-"
      },
      "execution_count": null,
      "outputs": [
        {
          "output_type": "stream",
          "name": "stdout",
          "text": [
            "['DESCR', 'data', 'data_module', 'feature_names', 'filename', 'frame', 'target', 'target_names']\n"
          ]
        }
      ]
    },
    {
      "cell_type": "code",
      "source": [
        "breast_cancer = load_breast_cancer()\n",
        "breast_cancer.keys()"
      ],
      "metadata": {
        "colab": {
          "base_uri": "https://localhost:8080/"
        },
        "outputId": "e68de51d-64b6-4dbb-8f46-0c2e185aff58",
        "id": "IKgZv4F-8OG-"
      },
      "execution_count": null,
      "outputs": [
        {
          "output_type": "execute_result",
          "data": {
            "text/plain": [
              "dict_keys(['data', 'target', 'frame', 'target_names', 'DESCR', 'feature_names', 'filename', 'data_module'])"
            ]
          },
          "metadata": {},
          "execution_count": 152
        }
      ]
    },
    {
      "cell_type": "markdown",
      "source": [
        "## 📑 (3) 데이터 이해"
      ],
      "metadata": {
        "id": "vFDbaOJn8OG-"
      }
    },
    {
      "cell_type": "markdown",
      "source": [
        "### 📌 01_breast_cancer 정보 확인"
      ],
      "metadata": {
        "id": "7UjXn2Qh8OG-"
      }
    },
    {
      "cell_type": "markdown",
      "source": [
        "- <u>데이터 정보 (8개)</u>  \n",
        "    data, target, frame, target_names, DESCR, feature_names, filename, data_module  \n",
        "    데이터: 569개 / 속성: 30개  \n",
        "    속성 정보: 30개의 속성을 가진 유방암 데이터로 악성, 양성 2가지로 분류"
      ],
      "metadata": {
        "id": "0S0TqUkX8OG-"
      }
    },
    {
      "cell_type": "code",
      "source": [
        "# 데이터 크기 확인\n",
        "breast_cancer_data = breast_cancer.data\n",
        "print(breast_cancer_data.shape)"
      ],
      "metadata": {
        "colab": {
          "base_uri": "https://localhost:8080/"
        },
        "outputId": "c4f62822-3828-4a12-ef94-6fa27d143d28",
        "id": "qWDYVt0F8OG-"
      },
      "execution_count": null,
      "outputs": [
        {
          "output_type": "stream",
          "name": "stdout",
          "text": [
            "(569, 30)\n"
          ]
        }
      ]
    },
    {
      "cell_type": "code",
      "source": [
        "# 데이터 타겟 정보 확인\n",
        "breast_cancer_label = breast_cancer.target\n",
        "print(breast_cancer_label.shape)\n",
        "breast_cancer_label"
      ],
      "metadata": {
        "colab": {
          "base_uri": "https://localhost:8080/"
        },
        "outputId": "7b7343de-a5e5-4c44-f525-efffe823d8a5",
        "id": "TLVLONBf8OG-"
      },
      "execution_count": null,
      "outputs": [
        {
          "output_type": "stream",
          "name": "stdout",
          "text": [
            "(569,)\n"
          ]
        },
        {
          "output_type": "execute_result",
          "data": {
            "text/plain": [
              "array([0, 0, 0, 0, 0, 0, 0, 0, 0, 0, 0, 0, 0, 0, 0, 0, 0, 0, 0, 1, 1, 1,\n",
              "       0, 0, 0, 0, 0, 0, 0, 0, 0, 0, 0, 0, 0, 0, 0, 1, 0, 0, 0, 0, 0, 0,\n",
              "       0, 0, 1, 0, 1, 1, 1, 1, 1, 0, 0, 1, 0, 0, 1, 1, 1, 1, 0, 1, 0, 0,\n",
              "       1, 1, 1, 1, 0, 1, 0, 0, 1, 0, 1, 0, 0, 1, 1, 1, 0, 0, 1, 0, 0, 0,\n",
              "       1, 1, 1, 0, 1, 1, 0, 0, 1, 1, 1, 0, 0, 1, 1, 1, 1, 0, 1, 1, 0, 1,\n",
              "       1, 1, 1, 1, 1, 1, 1, 0, 0, 0, 1, 0, 0, 1, 1, 1, 0, 0, 1, 0, 1, 0,\n",
              "       0, 1, 0, 0, 1, 1, 0, 1, 1, 0, 1, 1, 1, 1, 0, 1, 1, 1, 1, 1, 1, 1,\n",
              "       1, 1, 0, 1, 1, 1, 1, 0, 0, 1, 0, 1, 1, 0, 0, 1, 1, 0, 0, 1, 1, 1,\n",
              "       1, 0, 1, 1, 0, 0, 0, 1, 0, 1, 0, 1, 1, 1, 0, 1, 1, 0, 0, 1, 0, 0,\n",
              "       0, 0, 1, 0, 0, 0, 1, 0, 1, 0, 1, 1, 0, 1, 0, 0, 0, 0, 1, 1, 0, 0,\n",
              "       1, 1, 1, 0, 1, 1, 1, 1, 1, 0, 0, 1, 1, 0, 1, 1, 0, 0, 1, 0, 1, 1,\n",
              "       1, 1, 0, 1, 1, 1, 1, 1, 0, 1, 0, 0, 0, 0, 0, 0, 0, 0, 0, 0, 0, 0,\n",
              "       0, 0, 1, 1, 1, 1, 1, 1, 0, 1, 0, 1, 1, 0, 1, 1, 0, 1, 0, 0, 1, 1,\n",
              "       1, 1, 1, 1, 1, 1, 1, 1, 1, 1, 1, 0, 1, 1, 0, 1, 0, 1, 1, 1, 1, 1,\n",
              "       1, 1, 1, 1, 1, 1, 1, 1, 1, 0, 1, 1, 1, 0, 1, 0, 1, 1, 1, 1, 0, 0,\n",
              "       0, 1, 1, 1, 1, 0, 1, 0, 1, 0, 1, 1, 1, 0, 1, 1, 1, 1, 1, 1, 1, 0,\n",
              "       0, 0, 1, 1, 1, 1, 1, 1, 1, 1, 1, 1, 1, 0, 0, 1, 0, 0, 0, 1, 0, 0,\n",
              "       1, 1, 1, 1, 1, 0, 1, 1, 1, 1, 1, 0, 1, 1, 1, 0, 1, 1, 0, 0, 1, 1,\n",
              "       1, 1, 1, 1, 0, 1, 1, 1, 1, 1, 1, 1, 0, 1, 1, 1, 1, 1, 0, 1, 1, 0,\n",
              "       1, 1, 1, 1, 1, 1, 1, 1, 1, 1, 1, 1, 0, 1, 0, 0, 1, 0, 1, 1, 1, 1,\n",
              "       1, 0, 1, 1, 0, 1, 0, 1, 1, 0, 1, 0, 1, 1, 1, 1, 1, 1, 1, 1, 0, 0,\n",
              "       1, 1, 1, 1, 1, 1, 0, 1, 1, 1, 1, 1, 1, 1, 1, 1, 1, 0, 1, 1, 1, 1,\n",
              "       1, 1, 1, 0, 1, 0, 1, 1, 0, 1, 1, 1, 1, 1, 0, 0, 1, 0, 1, 0, 1, 1,\n",
              "       1, 1, 1, 0, 1, 1, 0, 1, 0, 1, 0, 0, 1, 1, 1, 0, 1, 1, 1, 1, 1, 1,\n",
              "       1, 1, 1, 1, 1, 0, 1, 0, 0, 1, 1, 1, 1, 1, 1, 1, 1, 1, 1, 1, 1, 1,\n",
              "       1, 1, 1, 1, 1, 1, 1, 1, 1, 1, 1, 1, 0, 0, 0, 0, 0, 0, 1])"
            ]
          },
          "metadata": {},
          "execution_count": 105
        }
      ]
    },
    {
      "cell_type": "code",
      "source": [
        "# 데이터 각 feature에 대한 설명\n",
        "breast_cancer.feature_names"
      ],
      "metadata": {
        "colab": {
          "base_uri": "https://localhost:8080/"
        },
        "outputId": "ffc546c4-37d3-4e0f-852d-334e7c802c0f",
        "id": "gN6oDp9F8OG-"
      },
      "execution_count": null,
      "outputs": [
        {
          "output_type": "execute_result",
          "data": {
            "text/plain": [
              "array(['mean radius', 'mean texture', 'mean perimeter', 'mean area',\n",
              "       'mean smoothness', 'mean compactness', 'mean concavity',\n",
              "       'mean concave points', 'mean symmetry', 'mean fractal dimension',\n",
              "       'radius error', 'texture error', 'perimeter error', 'area error',\n",
              "       'smoothness error', 'compactness error', 'concavity error',\n",
              "       'concave points error', 'symmetry error',\n",
              "       'fractal dimension error', 'worst radius', 'worst texture',\n",
              "       'worst perimeter', 'worst area', 'worst smoothness',\n",
              "       'worst compactness', 'worst concavity', 'worst concave points',\n",
              "       'worst symmetry', 'worst fractal dimension'], dtype='<U23')"
            ]
          },
          "metadata": {},
          "execution_count": 106
        }
      ]
    },
    {
      "cell_type": "code",
      "source": [
        "# 데이터 라벨 이름 확인\n",
        "breast_cancer.target_names"
      ],
      "metadata": {
        "colab": {
          "base_uri": "https://localhost:8080/"
        },
        "outputId": "3086d144-f903-4955-d08e-cf1a1ec48114",
        "id": "KlpYl_u18OG-"
      },
      "execution_count": null,
      "outputs": [
        {
          "output_type": "execute_result",
          "data": {
            "text/plain": [
              "array(['malignant', 'benign'], dtype='<U9')"
            ]
          },
          "metadata": {},
          "execution_count": 107
        }
      ]
    },
    {
      "cell_type": "code",
      "source": [
        "# 데이터 모듈 확인\n",
        "breast_cancer.data_module"
      ],
      "metadata": {
        "colab": {
          "base_uri": "https://localhost:8080/",
          "height": 35
        },
        "id": "dyGjDMXvKTIH",
        "outputId": "bcae247d-8373-44c3-8d01-3409397c07a6"
      },
      "execution_count": null,
      "outputs": [
        {
          "output_type": "execute_result",
          "data": {
            "text/plain": [
              "'sklearn.datasets.data'"
            ],
            "application/vnd.google.colaboratory.intrinsic+json": {
              "type": "string"
            }
          },
          "metadata": {},
          "execution_count": 112
        }
      ]
    },
    {
      "cell_type": "code",
      "source": [
        "# 데이터 파일 이름 확인\n",
        "breast_cancer.filename"
      ],
      "metadata": {
        "colab": {
          "base_uri": "https://localhost:8080/",
          "height": 35
        },
        "outputId": "abbd0d65-3f4f-4427-8908-6b6962496574",
        "id": "VAeWgHhd8OG_"
      },
      "execution_count": null,
      "outputs": [
        {
          "output_type": "execute_result",
          "data": {
            "text/plain": [
              "'breast_cancer.csv'"
            ],
            "application/vnd.google.colaboratory.intrinsic+json": {
              "type": "string"
            }
          },
          "metadata": {},
          "execution_count": 110
        }
      ]
    },
    {
      "cell_type": "code",
      "source": [
        "# 데이터셋 설명 확인\n",
        "breast_cancer.DESCR"
      ],
      "metadata": {
        "colab": {
          "base_uri": "https://localhost:8080/",
          "height": 90
        },
        "outputId": "d663efa6-8b37-47e3-fdac-8dd6d2c3fb51",
        "id": "RJwXfUSn8OG_"
      },
      "execution_count": null,
      "outputs": [
        {
          "output_type": "execute_result",
          "data": {
            "text/plain": [
              "'.. _breast_cancer_dataset:\\n\\nBreast cancer wisconsin (diagnostic) dataset\\n--------------------------------------------\\n\\n**Data Set Characteristics:**\\n\\n    :Number of Instances: 569\\n\\n    :Number of Attributes: 30 numeric, predictive attributes and the class\\n\\n    :Attribute Information:\\n        - radius (mean of distances from center to points on the perimeter)\\n        - texture (standard deviation of gray-scale values)\\n        - perimeter\\n        - area\\n        - smoothness (local variation in radius lengths)\\n        - compactness (perimeter^2 / area - 1.0)\\n        - concavity (severity of concave portions of the contour)\\n        - concave points (number of concave portions of the contour)\\n        - symmetry\\n        - fractal dimension (\"coastline approximation\" - 1)\\n\\n        The mean, standard error, and \"worst\" or largest (mean of the three\\n        worst/largest values) of these features were computed for each image,\\n        resulting in 30 features.  For instance, field 0 is Mean Radius, field\\n        10 is Radius SE, field 20 is Worst Radius.\\n\\n        - class:\\n                - WDBC-Malignant\\n                - WDBC-Benign\\n\\n    :Summary Statistics:\\n\\n    ===================================== ====== ======\\n                                           Min    Max\\n    ===================================== ====== ======\\n    radius (mean):                        6.981  28.11\\n    texture (mean):                       9.71   39.28\\n    perimeter (mean):                     43.79  188.5\\n    area (mean):                          143.5  2501.0\\n    smoothness (mean):                    0.053  0.163\\n    compactness (mean):                   0.019  0.345\\n    concavity (mean):                     0.0    0.427\\n    concave points (mean):                0.0    0.201\\n    symmetry (mean):                      0.106  0.304\\n    fractal dimension (mean):             0.05   0.097\\n    radius (standard error):              0.112  2.873\\n    texture (standard error):             0.36   4.885\\n    perimeter (standard error):           0.757  21.98\\n    area (standard error):                6.802  542.2\\n    smoothness (standard error):          0.002  0.031\\n    compactness (standard error):         0.002  0.135\\n    concavity (standard error):           0.0    0.396\\n    concave points (standard error):      0.0    0.053\\n    symmetry (standard error):            0.008  0.079\\n    fractal dimension (standard error):   0.001  0.03\\n    radius (worst):                       7.93   36.04\\n    texture (worst):                      12.02  49.54\\n    perimeter (worst):                    50.41  251.2\\n    area (worst):                         185.2  4254.0\\n    smoothness (worst):                   0.071  0.223\\n    compactness (worst):                  0.027  1.058\\n    concavity (worst):                    0.0    1.252\\n    concave points (worst):               0.0    0.291\\n    symmetry (worst):                     0.156  0.664\\n    fractal dimension (worst):            0.055  0.208\\n    ===================================== ====== ======\\n\\n    :Missing Attribute Values: None\\n\\n    :Class Distribution: 212 - Malignant, 357 - Benign\\n\\n    :Creator:  Dr. William H. Wolberg, W. Nick Street, Olvi L. Mangasarian\\n\\n    :Donor: Nick Street\\n\\n    :Date: November, 1995\\n\\nThis is a copy of UCI ML Breast Cancer Wisconsin (Diagnostic) datasets.\\nhttps://goo.gl/U2Uwz2\\n\\nFeatures are computed from a digitized image of a fine needle\\naspirate (FNA) of a breast mass.  They describe\\ncharacteristics of the cell nuclei present in the image.\\n\\nSeparating plane described above was obtained using\\nMultisurface Method-Tree (MSM-T) [K. P. Bennett, \"Decision Tree\\nConstruction Via Linear Programming.\" Proceedings of the 4th\\nMidwest Artificial Intelligence and Cognitive Science Society,\\npp. 97-101, 1992], a classification method which uses linear\\nprogramming to construct a decision tree.  Relevant features\\nwere selected using an exhaustive search in the space of 1-4\\nfeatures and 1-3 separating planes.\\n\\nThe actual linear program used to obtain the separating plane\\nin the 3-dimensional space is that described in:\\n[K. P. Bennett and O. L. Mangasarian: \"Robust Linear\\nProgramming Discrimination of Two Linearly Inseparable Sets\",\\nOptimization Methods and Software 1, 1992, 23-34].\\n\\nThis database is also available through the UW CS ftp server:\\n\\nftp ftp.cs.wisc.edu\\ncd math-prog/cpo-dataset/machine-learn/WDBC/\\n\\n.. topic:: References\\n\\n   - W.N. Street, W.H. Wolberg and O.L. Mangasarian. Nuclear feature extraction \\n     for breast tumor diagnosis. IS&T/SPIE 1993 International Symposium on \\n     Electronic Imaging: Science and Technology, volume 1905, pages 861-870,\\n     San Jose, CA, 1993.\\n   - O.L. Mangasarian, W.N. Street and W.H. Wolberg. Breast cancer diagnosis and \\n     prognosis via linear programming. Operations Research, 43(4), pages 570-577, \\n     July-August 1995.\\n   - W.H. Wolberg, W.N. Street, and O.L. Mangasarian. Machine learning techniques\\n     to diagnose breast cancer from fine-needle aspirates. Cancer Letters 77 (1994) \\n     163-171.'"
            ],
            "application/vnd.google.colaboratory.intrinsic+json": {
              "type": "string"
            }
          },
          "metadata": {},
          "execution_count": 108
        }
      ]
    },
    {
      "cell_type": "markdown",
      "source": [
        "### 📌 02_DataFrame 자료형 변환"
      ],
      "metadata": {
        "id": "GYU6MBXP8OG_"
      }
    },
    {
      "cell_type": "markdown",
      "source": [
        "- <u>pandas import</u>"
      ],
      "metadata": {
        "id": "G8k1rorr8OG_"
      }
    },
    {
      "cell_type": "code",
      "source": [
        "import pandas as pd"
      ],
      "metadata": {
        "id": "J8lYFLEh8OG_"
      },
      "execution_count": null,
      "outputs": []
    },
    {
      "cell_type": "markdown",
      "source": [
        "- <u>DataFrame 자료형으로 변환</u>  \n",
        "    data : breast_cancer_data  \n",
        "    colums : feature_names"
      ],
      "metadata": {
        "id": "JERsWg7c8OG_"
      }
    },
    {
      "cell_type": "code",
      "source": [
        "breast_cancer_df = pd.DataFrame(data=breast_cancer_data, columns=breast_cancer.feature_names)\n",
        "breast_cancer_df"
      ],
      "metadata": {
        "colab": {
          "base_uri": "https://localhost:8080/",
          "height": 502
        },
        "outputId": "ce212bc7-6193-4471-d5f1-237274de901b",
        "id": "2OUfNJ258OG_"
      },
      "execution_count": null,
      "outputs": [
        {
          "output_type": "execute_result",
          "data": {
            "text/plain": [
              "     mean radius  mean texture  mean perimeter  mean area  mean smoothness  \\\n",
              "0          17.99         10.38          122.80     1001.0          0.11840   \n",
              "1          20.57         17.77          132.90     1326.0          0.08474   \n",
              "2          19.69         21.25          130.00     1203.0          0.10960   \n",
              "3          11.42         20.38           77.58      386.1          0.14250   \n",
              "4          20.29         14.34          135.10     1297.0          0.10030   \n",
              "..           ...           ...             ...        ...              ...   \n",
              "564        21.56         22.39          142.00     1479.0          0.11100   \n",
              "565        20.13         28.25          131.20     1261.0          0.09780   \n",
              "566        16.60         28.08          108.30      858.1          0.08455   \n",
              "567        20.60         29.33          140.10     1265.0          0.11780   \n",
              "568         7.76         24.54           47.92      181.0          0.05263   \n",
              "\n",
              "     mean compactness  mean concavity  mean concave points  mean symmetry  \\\n",
              "0             0.27760         0.30010              0.14710         0.2419   \n",
              "1             0.07864         0.08690              0.07017         0.1812   \n",
              "2             0.15990         0.19740              0.12790         0.2069   \n",
              "3             0.28390         0.24140              0.10520         0.2597   \n",
              "4             0.13280         0.19800              0.10430         0.1809   \n",
              "..                ...             ...                  ...            ...   \n",
              "564           0.11590         0.24390              0.13890         0.1726   \n",
              "565           0.10340         0.14400              0.09791         0.1752   \n",
              "566           0.10230         0.09251              0.05302         0.1590   \n",
              "567           0.27700         0.35140              0.15200         0.2397   \n",
              "568           0.04362         0.00000              0.00000         0.1587   \n",
              "\n",
              "     mean fractal dimension  ...  worst radius  worst texture  \\\n",
              "0                   0.07871  ...        25.380          17.33   \n",
              "1                   0.05667  ...        24.990          23.41   \n",
              "2                   0.05999  ...        23.570          25.53   \n",
              "3                   0.09744  ...        14.910          26.50   \n",
              "4                   0.05883  ...        22.540          16.67   \n",
              "..                      ...  ...           ...            ...   \n",
              "564                 0.05623  ...        25.450          26.40   \n",
              "565                 0.05533  ...        23.690          38.25   \n",
              "566                 0.05648  ...        18.980          34.12   \n",
              "567                 0.07016  ...        25.740          39.42   \n",
              "568                 0.05884  ...         9.456          30.37   \n",
              "\n",
              "     worst perimeter  worst area  worst smoothness  worst compactness  \\\n",
              "0             184.60      2019.0           0.16220            0.66560   \n",
              "1             158.80      1956.0           0.12380            0.18660   \n",
              "2             152.50      1709.0           0.14440            0.42450   \n",
              "3              98.87       567.7           0.20980            0.86630   \n",
              "4             152.20      1575.0           0.13740            0.20500   \n",
              "..               ...         ...               ...                ...   \n",
              "564           166.10      2027.0           0.14100            0.21130   \n",
              "565           155.00      1731.0           0.11660            0.19220   \n",
              "566           126.70      1124.0           0.11390            0.30940   \n",
              "567           184.60      1821.0           0.16500            0.86810   \n",
              "568            59.16       268.6           0.08996            0.06444   \n",
              "\n",
              "     worst concavity  worst concave points  worst symmetry  \\\n",
              "0             0.7119                0.2654          0.4601   \n",
              "1             0.2416                0.1860          0.2750   \n",
              "2             0.4504                0.2430          0.3613   \n",
              "3             0.6869                0.2575          0.6638   \n",
              "4             0.4000                0.1625          0.2364   \n",
              "..               ...                   ...             ...   \n",
              "564           0.4107                0.2216          0.2060   \n",
              "565           0.3215                0.1628          0.2572   \n",
              "566           0.3403                0.1418          0.2218   \n",
              "567           0.9387                0.2650          0.4087   \n",
              "568           0.0000                0.0000          0.2871   \n",
              "\n",
              "     worst fractal dimension  \n",
              "0                    0.11890  \n",
              "1                    0.08902  \n",
              "2                    0.08758  \n",
              "3                    0.17300  \n",
              "4                    0.07678  \n",
              "..                       ...  \n",
              "564                  0.07115  \n",
              "565                  0.06637  \n",
              "566                  0.07820  \n",
              "567                  0.12400  \n",
              "568                  0.07039  \n",
              "\n",
              "[569 rows x 30 columns]"
            ],
            "text/html": [
              "\n",
              "  <div id=\"df-8c0fc5e6-91dc-4073-b379-32d0861bb6cf\">\n",
              "    <div class=\"colab-df-container\">\n",
              "      <div>\n",
              "<style scoped>\n",
              "    .dataframe tbody tr th:only-of-type {\n",
              "        vertical-align: middle;\n",
              "    }\n",
              "\n",
              "    .dataframe tbody tr th {\n",
              "        vertical-align: top;\n",
              "    }\n",
              "\n",
              "    .dataframe thead th {\n",
              "        text-align: right;\n",
              "    }\n",
              "</style>\n",
              "<table border=\"1\" class=\"dataframe\">\n",
              "  <thead>\n",
              "    <tr style=\"text-align: right;\">\n",
              "      <th></th>\n",
              "      <th>mean radius</th>\n",
              "      <th>mean texture</th>\n",
              "      <th>mean perimeter</th>\n",
              "      <th>mean area</th>\n",
              "      <th>mean smoothness</th>\n",
              "      <th>mean compactness</th>\n",
              "      <th>mean concavity</th>\n",
              "      <th>mean concave points</th>\n",
              "      <th>mean symmetry</th>\n",
              "      <th>mean fractal dimension</th>\n",
              "      <th>...</th>\n",
              "      <th>worst radius</th>\n",
              "      <th>worst texture</th>\n",
              "      <th>worst perimeter</th>\n",
              "      <th>worst area</th>\n",
              "      <th>worst smoothness</th>\n",
              "      <th>worst compactness</th>\n",
              "      <th>worst concavity</th>\n",
              "      <th>worst concave points</th>\n",
              "      <th>worst symmetry</th>\n",
              "      <th>worst fractal dimension</th>\n",
              "    </tr>\n",
              "  </thead>\n",
              "  <tbody>\n",
              "    <tr>\n",
              "      <th>0</th>\n",
              "      <td>17.99</td>\n",
              "      <td>10.38</td>\n",
              "      <td>122.80</td>\n",
              "      <td>1001.0</td>\n",
              "      <td>0.11840</td>\n",
              "      <td>0.27760</td>\n",
              "      <td>0.30010</td>\n",
              "      <td>0.14710</td>\n",
              "      <td>0.2419</td>\n",
              "      <td>0.07871</td>\n",
              "      <td>...</td>\n",
              "      <td>25.380</td>\n",
              "      <td>17.33</td>\n",
              "      <td>184.60</td>\n",
              "      <td>2019.0</td>\n",
              "      <td>0.16220</td>\n",
              "      <td>0.66560</td>\n",
              "      <td>0.7119</td>\n",
              "      <td>0.2654</td>\n",
              "      <td>0.4601</td>\n",
              "      <td>0.11890</td>\n",
              "    </tr>\n",
              "    <tr>\n",
              "      <th>1</th>\n",
              "      <td>20.57</td>\n",
              "      <td>17.77</td>\n",
              "      <td>132.90</td>\n",
              "      <td>1326.0</td>\n",
              "      <td>0.08474</td>\n",
              "      <td>0.07864</td>\n",
              "      <td>0.08690</td>\n",
              "      <td>0.07017</td>\n",
              "      <td>0.1812</td>\n",
              "      <td>0.05667</td>\n",
              "      <td>...</td>\n",
              "      <td>24.990</td>\n",
              "      <td>23.41</td>\n",
              "      <td>158.80</td>\n",
              "      <td>1956.0</td>\n",
              "      <td>0.12380</td>\n",
              "      <td>0.18660</td>\n",
              "      <td>0.2416</td>\n",
              "      <td>0.1860</td>\n",
              "      <td>0.2750</td>\n",
              "      <td>0.08902</td>\n",
              "    </tr>\n",
              "    <tr>\n",
              "      <th>2</th>\n",
              "      <td>19.69</td>\n",
              "      <td>21.25</td>\n",
              "      <td>130.00</td>\n",
              "      <td>1203.0</td>\n",
              "      <td>0.10960</td>\n",
              "      <td>0.15990</td>\n",
              "      <td>0.19740</td>\n",
              "      <td>0.12790</td>\n",
              "      <td>0.2069</td>\n",
              "      <td>0.05999</td>\n",
              "      <td>...</td>\n",
              "      <td>23.570</td>\n",
              "      <td>25.53</td>\n",
              "      <td>152.50</td>\n",
              "      <td>1709.0</td>\n",
              "      <td>0.14440</td>\n",
              "      <td>0.42450</td>\n",
              "      <td>0.4504</td>\n",
              "      <td>0.2430</td>\n",
              "      <td>0.3613</td>\n",
              "      <td>0.08758</td>\n",
              "    </tr>\n",
              "    <tr>\n",
              "      <th>3</th>\n",
              "      <td>11.42</td>\n",
              "      <td>20.38</td>\n",
              "      <td>77.58</td>\n",
              "      <td>386.1</td>\n",
              "      <td>0.14250</td>\n",
              "      <td>0.28390</td>\n",
              "      <td>0.24140</td>\n",
              "      <td>0.10520</td>\n",
              "      <td>0.2597</td>\n",
              "      <td>0.09744</td>\n",
              "      <td>...</td>\n",
              "      <td>14.910</td>\n",
              "      <td>26.50</td>\n",
              "      <td>98.87</td>\n",
              "      <td>567.7</td>\n",
              "      <td>0.20980</td>\n",
              "      <td>0.86630</td>\n",
              "      <td>0.6869</td>\n",
              "      <td>0.2575</td>\n",
              "      <td>0.6638</td>\n",
              "      <td>0.17300</td>\n",
              "    </tr>\n",
              "    <tr>\n",
              "      <th>4</th>\n",
              "      <td>20.29</td>\n",
              "      <td>14.34</td>\n",
              "      <td>135.10</td>\n",
              "      <td>1297.0</td>\n",
              "      <td>0.10030</td>\n",
              "      <td>0.13280</td>\n",
              "      <td>0.19800</td>\n",
              "      <td>0.10430</td>\n",
              "      <td>0.1809</td>\n",
              "      <td>0.05883</td>\n",
              "      <td>...</td>\n",
              "      <td>22.540</td>\n",
              "      <td>16.67</td>\n",
              "      <td>152.20</td>\n",
              "      <td>1575.0</td>\n",
              "      <td>0.13740</td>\n",
              "      <td>0.20500</td>\n",
              "      <td>0.4000</td>\n",
              "      <td>0.1625</td>\n",
              "      <td>0.2364</td>\n",
              "      <td>0.07678</td>\n",
              "    </tr>\n",
              "    <tr>\n",
              "      <th>...</th>\n",
              "      <td>...</td>\n",
              "      <td>...</td>\n",
              "      <td>...</td>\n",
              "      <td>...</td>\n",
              "      <td>...</td>\n",
              "      <td>...</td>\n",
              "      <td>...</td>\n",
              "      <td>...</td>\n",
              "      <td>...</td>\n",
              "      <td>...</td>\n",
              "      <td>...</td>\n",
              "      <td>...</td>\n",
              "      <td>...</td>\n",
              "      <td>...</td>\n",
              "      <td>...</td>\n",
              "      <td>...</td>\n",
              "      <td>...</td>\n",
              "      <td>...</td>\n",
              "      <td>...</td>\n",
              "      <td>...</td>\n",
              "      <td>...</td>\n",
              "    </tr>\n",
              "    <tr>\n",
              "      <th>564</th>\n",
              "      <td>21.56</td>\n",
              "      <td>22.39</td>\n",
              "      <td>142.00</td>\n",
              "      <td>1479.0</td>\n",
              "      <td>0.11100</td>\n",
              "      <td>0.11590</td>\n",
              "      <td>0.24390</td>\n",
              "      <td>0.13890</td>\n",
              "      <td>0.1726</td>\n",
              "      <td>0.05623</td>\n",
              "      <td>...</td>\n",
              "      <td>25.450</td>\n",
              "      <td>26.40</td>\n",
              "      <td>166.10</td>\n",
              "      <td>2027.0</td>\n",
              "      <td>0.14100</td>\n",
              "      <td>0.21130</td>\n",
              "      <td>0.4107</td>\n",
              "      <td>0.2216</td>\n",
              "      <td>0.2060</td>\n",
              "      <td>0.07115</td>\n",
              "    </tr>\n",
              "    <tr>\n",
              "      <th>565</th>\n",
              "      <td>20.13</td>\n",
              "      <td>28.25</td>\n",
              "      <td>131.20</td>\n",
              "      <td>1261.0</td>\n",
              "      <td>0.09780</td>\n",
              "      <td>0.10340</td>\n",
              "      <td>0.14400</td>\n",
              "      <td>0.09791</td>\n",
              "      <td>0.1752</td>\n",
              "      <td>0.05533</td>\n",
              "      <td>...</td>\n",
              "      <td>23.690</td>\n",
              "      <td>38.25</td>\n",
              "      <td>155.00</td>\n",
              "      <td>1731.0</td>\n",
              "      <td>0.11660</td>\n",
              "      <td>0.19220</td>\n",
              "      <td>0.3215</td>\n",
              "      <td>0.1628</td>\n",
              "      <td>0.2572</td>\n",
              "      <td>0.06637</td>\n",
              "    </tr>\n",
              "    <tr>\n",
              "      <th>566</th>\n",
              "      <td>16.60</td>\n",
              "      <td>28.08</td>\n",
              "      <td>108.30</td>\n",
              "      <td>858.1</td>\n",
              "      <td>0.08455</td>\n",
              "      <td>0.10230</td>\n",
              "      <td>0.09251</td>\n",
              "      <td>0.05302</td>\n",
              "      <td>0.1590</td>\n",
              "      <td>0.05648</td>\n",
              "      <td>...</td>\n",
              "      <td>18.980</td>\n",
              "      <td>34.12</td>\n",
              "      <td>126.70</td>\n",
              "      <td>1124.0</td>\n",
              "      <td>0.11390</td>\n",
              "      <td>0.30940</td>\n",
              "      <td>0.3403</td>\n",
              "      <td>0.1418</td>\n",
              "      <td>0.2218</td>\n",
              "      <td>0.07820</td>\n",
              "    </tr>\n",
              "    <tr>\n",
              "      <th>567</th>\n",
              "      <td>20.60</td>\n",
              "      <td>29.33</td>\n",
              "      <td>140.10</td>\n",
              "      <td>1265.0</td>\n",
              "      <td>0.11780</td>\n",
              "      <td>0.27700</td>\n",
              "      <td>0.35140</td>\n",
              "      <td>0.15200</td>\n",
              "      <td>0.2397</td>\n",
              "      <td>0.07016</td>\n",
              "      <td>...</td>\n",
              "      <td>25.740</td>\n",
              "      <td>39.42</td>\n",
              "      <td>184.60</td>\n",
              "      <td>1821.0</td>\n",
              "      <td>0.16500</td>\n",
              "      <td>0.86810</td>\n",
              "      <td>0.9387</td>\n",
              "      <td>0.2650</td>\n",
              "      <td>0.4087</td>\n",
              "      <td>0.12400</td>\n",
              "    </tr>\n",
              "    <tr>\n",
              "      <th>568</th>\n",
              "      <td>7.76</td>\n",
              "      <td>24.54</td>\n",
              "      <td>47.92</td>\n",
              "      <td>181.0</td>\n",
              "      <td>0.05263</td>\n",
              "      <td>0.04362</td>\n",
              "      <td>0.00000</td>\n",
              "      <td>0.00000</td>\n",
              "      <td>0.1587</td>\n",
              "      <td>0.05884</td>\n",
              "      <td>...</td>\n",
              "      <td>9.456</td>\n",
              "      <td>30.37</td>\n",
              "      <td>59.16</td>\n",
              "      <td>268.6</td>\n",
              "      <td>0.08996</td>\n",
              "      <td>0.06444</td>\n",
              "      <td>0.0000</td>\n",
              "      <td>0.0000</td>\n",
              "      <td>0.2871</td>\n",
              "      <td>0.07039</td>\n",
              "    </tr>\n",
              "  </tbody>\n",
              "</table>\n",
              "<p>569 rows × 30 columns</p>\n",
              "</div>\n",
              "      <button class=\"colab-df-convert\" onclick=\"convertToInteractive('df-8c0fc5e6-91dc-4073-b379-32d0861bb6cf')\"\n",
              "              title=\"Convert this dataframe to an interactive table.\"\n",
              "              style=\"display:none;\">\n",
              "        \n",
              "  <svg xmlns=\"http://www.w3.org/2000/svg\" height=\"24px\"viewBox=\"0 0 24 24\"\n",
              "       width=\"24px\">\n",
              "    <path d=\"M0 0h24v24H0V0z\" fill=\"none\"/>\n",
              "    <path d=\"M18.56 5.44l.94 2.06.94-2.06 2.06-.94-2.06-.94-.94-2.06-.94 2.06-2.06.94zm-11 1L8.5 8.5l.94-2.06 2.06-.94-2.06-.94L8.5 2.5l-.94 2.06-2.06.94zm10 10l.94 2.06.94-2.06 2.06-.94-2.06-.94-.94-2.06-.94 2.06-2.06.94z\"/><path d=\"M17.41 7.96l-1.37-1.37c-.4-.4-.92-.59-1.43-.59-.52 0-1.04.2-1.43.59L10.3 9.45l-7.72 7.72c-.78.78-.78 2.05 0 2.83L4 21.41c.39.39.9.59 1.41.59.51 0 1.02-.2 1.41-.59l7.78-7.78 2.81-2.81c.8-.78.8-2.07 0-2.86zM5.41 20L4 18.59l7.72-7.72 1.47 1.35L5.41 20z\"/>\n",
              "  </svg>\n",
              "      </button>\n",
              "      \n",
              "  <style>\n",
              "    .colab-df-container {\n",
              "      display:flex;\n",
              "      flex-wrap:wrap;\n",
              "      gap: 12px;\n",
              "    }\n",
              "\n",
              "    .colab-df-convert {\n",
              "      background-color: #E8F0FE;\n",
              "      border: none;\n",
              "      border-radius: 50%;\n",
              "      cursor: pointer;\n",
              "      display: none;\n",
              "      fill: #1967D2;\n",
              "      height: 32px;\n",
              "      padding: 0 0 0 0;\n",
              "      width: 32px;\n",
              "    }\n",
              "\n",
              "    .colab-df-convert:hover {\n",
              "      background-color: #E2EBFA;\n",
              "      box-shadow: 0px 1px 2px rgba(60, 64, 67, 0.3), 0px 1px 3px 1px rgba(60, 64, 67, 0.15);\n",
              "      fill: #174EA6;\n",
              "    }\n",
              "\n",
              "    [theme=dark] .colab-df-convert {\n",
              "      background-color: #3B4455;\n",
              "      fill: #D2E3FC;\n",
              "    }\n",
              "\n",
              "    [theme=dark] .colab-df-convert:hover {\n",
              "      background-color: #434B5C;\n",
              "      box-shadow: 0px 1px 3px 1px rgba(0, 0, 0, 0.15);\n",
              "      filter: drop-shadow(0px 1px 2px rgba(0, 0, 0, 0.3));\n",
              "      fill: #FFFFFF;\n",
              "    }\n",
              "  </style>\n",
              "\n",
              "      <script>\n",
              "        const buttonEl =\n",
              "          document.querySelector('#df-8c0fc5e6-91dc-4073-b379-32d0861bb6cf button.colab-df-convert');\n",
              "        buttonEl.style.display =\n",
              "          google.colab.kernel.accessAllowed ? 'block' : 'none';\n",
              "\n",
              "        async function convertToInteractive(key) {\n",
              "          const element = document.querySelector('#df-8c0fc5e6-91dc-4073-b379-32d0861bb6cf');\n",
              "          const dataTable =\n",
              "            await google.colab.kernel.invokeFunction('convertToInteractive',\n",
              "                                                     [key], {});\n",
              "          if (!dataTable) return;\n",
              "\n",
              "          const docLinkHtml = 'Like what you see? Visit the ' +\n",
              "            '<a target=\"_blank\" href=https://colab.research.google.com/notebooks/data_table.ipynb>data table notebook</a>'\n",
              "            + ' to learn more about interactive tables.';\n",
              "          element.innerHTML = '';\n",
              "          dataTable['output_type'] = 'display_data';\n",
              "          await google.colab.output.renderOutput(dataTable, element);\n",
              "          const docLink = document.createElement('div');\n",
              "          docLink.innerHTML = docLinkHtml;\n",
              "          element.appendChild(docLink);\n",
              "        }\n",
              "      </script>\n",
              "    </div>\n",
              "  </div>\n",
              "  "
            ]
          },
          "metadata": {},
          "execution_count": 167
        }
      ]
    },
    {
      "cell_type": "markdown",
      "source": [
        "- <u>Label data 추가</u>  \n",
        "    label(target) : 정답 데이터"
      ],
      "metadata": {
        "id": "wCuNIxc_8OG_"
      }
    },
    {
      "cell_type": "code",
      "source": [
        "breast_cancer_df[\"label\"] = breast_cancer.target\n",
        "breast_cancer_df"
      ],
      "metadata": {
        "colab": {
          "base_uri": "https://localhost:8080/",
          "height": 502
        },
        "outputId": "a59807fb-6e07-4857-9b72-ff7d6d405c17",
        "id": "RAMqLLat8OG_"
      },
      "execution_count": null,
      "outputs": [
        {
          "output_type": "execute_result",
          "data": {
            "text/plain": [
              "     mean radius  mean texture  mean perimeter  mean area  mean smoothness  \\\n",
              "0          17.99         10.38          122.80     1001.0          0.11840   \n",
              "1          20.57         17.77          132.90     1326.0          0.08474   \n",
              "2          19.69         21.25          130.00     1203.0          0.10960   \n",
              "3          11.42         20.38           77.58      386.1          0.14250   \n",
              "4          20.29         14.34          135.10     1297.0          0.10030   \n",
              "..           ...           ...             ...        ...              ...   \n",
              "564        21.56         22.39          142.00     1479.0          0.11100   \n",
              "565        20.13         28.25          131.20     1261.0          0.09780   \n",
              "566        16.60         28.08          108.30      858.1          0.08455   \n",
              "567        20.60         29.33          140.10     1265.0          0.11780   \n",
              "568         7.76         24.54           47.92      181.0          0.05263   \n",
              "\n",
              "     mean compactness  mean concavity  mean concave points  mean symmetry  \\\n",
              "0             0.27760         0.30010              0.14710         0.2419   \n",
              "1             0.07864         0.08690              0.07017         0.1812   \n",
              "2             0.15990         0.19740              0.12790         0.2069   \n",
              "3             0.28390         0.24140              0.10520         0.2597   \n",
              "4             0.13280         0.19800              0.10430         0.1809   \n",
              "..                ...             ...                  ...            ...   \n",
              "564           0.11590         0.24390              0.13890         0.1726   \n",
              "565           0.10340         0.14400              0.09791         0.1752   \n",
              "566           0.10230         0.09251              0.05302         0.1590   \n",
              "567           0.27700         0.35140              0.15200         0.2397   \n",
              "568           0.04362         0.00000              0.00000         0.1587   \n",
              "\n",
              "     mean fractal dimension  ...  worst texture  worst perimeter  worst area  \\\n",
              "0                   0.07871  ...          17.33           184.60      2019.0   \n",
              "1                   0.05667  ...          23.41           158.80      1956.0   \n",
              "2                   0.05999  ...          25.53           152.50      1709.0   \n",
              "3                   0.09744  ...          26.50            98.87       567.7   \n",
              "4                   0.05883  ...          16.67           152.20      1575.0   \n",
              "..                      ...  ...            ...              ...         ...   \n",
              "564                 0.05623  ...          26.40           166.10      2027.0   \n",
              "565                 0.05533  ...          38.25           155.00      1731.0   \n",
              "566                 0.05648  ...          34.12           126.70      1124.0   \n",
              "567                 0.07016  ...          39.42           184.60      1821.0   \n",
              "568                 0.05884  ...          30.37            59.16       268.6   \n",
              "\n",
              "     worst smoothness  worst compactness  worst concavity  \\\n",
              "0             0.16220            0.66560           0.7119   \n",
              "1             0.12380            0.18660           0.2416   \n",
              "2             0.14440            0.42450           0.4504   \n",
              "3             0.20980            0.86630           0.6869   \n",
              "4             0.13740            0.20500           0.4000   \n",
              "..                ...                ...              ...   \n",
              "564           0.14100            0.21130           0.4107   \n",
              "565           0.11660            0.19220           0.3215   \n",
              "566           0.11390            0.30940           0.3403   \n",
              "567           0.16500            0.86810           0.9387   \n",
              "568           0.08996            0.06444           0.0000   \n",
              "\n",
              "     worst concave points  worst symmetry  worst fractal dimension  label  \n",
              "0                  0.2654          0.4601                  0.11890      0  \n",
              "1                  0.1860          0.2750                  0.08902      0  \n",
              "2                  0.2430          0.3613                  0.08758      0  \n",
              "3                  0.2575          0.6638                  0.17300      0  \n",
              "4                  0.1625          0.2364                  0.07678      0  \n",
              "..                    ...             ...                      ...    ...  \n",
              "564                0.2216          0.2060                  0.07115      0  \n",
              "565                0.1628          0.2572                  0.06637      0  \n",
              "566                0.1418          0.2218                  0.07820      0  \n",
              "567                0.2650          0.4087                  0.12400      0  \n",
              "568                0.0000          0.2871                  0.07039      1  \n",
              "\n",
              "[569 rows x 31 columns]"
            ],
            "text/html": [
              "\n",
              "  <div id=\"df-8bf04ed1-e381-4fb3-88a8-f549ad4a5581\">\n",
              "    <div class=\"colab-df-container\">\n",
              "      <div>\n",
              "<style scoped>\n",
              "    .dataframe tbody tr th:only-of-type {\n",
              "        vertical-align: middle;\n",
              "    }\n",
              "\n",
              "    .dataframe tbody tr th {\n",
              "        vertical-align: top;\n",
              "    }\n",
              "\n",
              "    .dataframe thead th {\n",
              "        text-align: right;\n",
              "    }\n",
              "</style>\n",
              "<table border=\"1\" class=\"dataframe\">\n",
              "  <thead>\n",
              "    <tr style=\"text-align: right;\">\n",
              "      <th></th>\n",
              "      <th>mean radius</th>\n",
              "      <th>mean texture</th>\n",
              "      <th>mean perimeter</th>\n",
              "      <th>mean area</th>\n",
              "      <th>mean smoothness</th>\n",
              "      <th>mean compactness</th>\n",
              "      <th>mean concavity</th>\n",
              "      <th>mean concave points</th>\n",
              "      <th>mean symmetry</th>\n",
              "      <th>mean fractal dimension</th>\n",
              "      <th>...</th>\n",
              "      <th>worst texture</th>\n",
              "      <th>worst perimeter</th>\n",
              "      <th>worst area</th>\n",
              "      <th>worst smoothness</th>\n",
              "      <th>worst compactness</th>\n",
              "      <th>worst concavity</th>\n",
              "      <th>worst concave points</th>\n",
              "      <th>worst symmetry</th>\n",
              "      <th>worst fractal dimension</th>\n",
              "      <th>label</th>\n",
              "    </tr>\n",
              "  </thead>\n",
              "  <tbody>\n",
              "    <tr>\n",
              "      <th>0</th>\n",
              "      <td>17.99</td>\n",
              "      <td>10.38</td>\n",
              "      <td>122.80</td>\n",
              "      <td>1001.0</td>\n",
              "      <td>0.11840</td>\n",
              "      <td>0.27760</td>\n",
              "      <td>0.30010</td>\n",
              "      <td>0.14710</td>\n",
              "      <td>0.2419</td>\n",
              "      <td>0.07871</td>\n",
              "      <td>...</td>\n",
              "      <td>17.33</td>\n",
              "      <td>184.60</td>\n",
              "      <td>2019.0</td>\n",
              "      <td>0.16220</td>\n",
              "      <td>0.66560</td>\n",
              "      <td>0.7119</td>\n",
              "      <td>0.2654</td>\n",
              "      <td>0.4601</td>\n",
              "      <td>0.11890</td>\n",
              "      <td>0</td>\n",
              "    </tr>\n",
              "    <tr>\n",
              "      <th>1</th>\n",
              "      <td>20.57</td>\n",
              "      <td>17.77</td>\n",
              "      <td>132.90</td>\n",
              "      <td>1326.0</td>\n",
              "      <td>0.08474</td>\n",
              "      <td>0.07864</td>\n",
              "      <td>0.08690</td>\n",
              "      <td>0.07017</td>\n",
              "      <td>0.1812</td>\n",
              "      <td>0.05667</td>\n",
              "      <td>...</td>\n",
              "      <td>23.41</td>\n",
              "      <td>158.80</td>\n",
              "      <td>1956.0</td>\n",
              "      <td>0.12380</td>\n",
              "      <td>0.18660</td>\n",
              "      <td>0.2416</td>\n",
              "      <td>0.1860</td>\n",
              "      <td>0.2750</td>\n",
              "      <td>0.08902</td>\n",
              "      <td>0</td>\n",
              "    </tr>\n",
              "    <tr>\n",
              "      <th>2</th>\n",
              "      <td>19.69</td>\n",
              "      <td>21.25</td>\n",
              "      <td>130.00</td>\n",
              "      <td>1203.0</td>\n",
              "      <td>0.10960</td>\n",
              "      <td>0.15990</td>\n",
              "      <td>0.19740</td>\n",
              "      <td>0.12790</td>\n",
              "      <td>0.2069</td>\n",
              "      <td>0.05999</td>\n",
              "      <td>...</td>\n",
              "      <td>25.53</td>\n",
              "      <td>152.50</td>\n",
              "      <td>1709.0</td>\n",
              "      <td>0.14440</td>\n",
              "      <td>0.42450</td>\n",
              "      <td>0.4504</td>\n",
              "      <td>0.2430</td>\n",
              "      <td>0.3613</td>\n",
              "      <td>0.08758</td>\n",
              "      <td>0</td>\n",
              "    </tr>\n",
              "    <tr>\n",
              "      <th>3</th>\n",
              "      <td>11.42</td>\n",
              "      <td>20.38</td>\n",
              "      <td>77.58</td>\n",
              "      <td>386.1</td>\n",
              "      <td>0.14250</td>\n",
              "      <td>0.28390</td>\n",
              "      <td>0.24140</td>\n",
              "      <td>0.10520</td>\n",
              "      <td>0.2597</td>\n",
              "      <td>0.09744</td>\n",
              "      <td>...</td>\n",
              "      <td>26.50</td>\n",
              "      <td>98.87</td>\n",
              "      <td>567.7</td>\n",
              "      <td>0.20980</td>\n",
              "      <td>0.86630</td>\n",
              "      <td>0.6869</td>\n",
              "      <td>0.2575</td>\n",
              "      <td>0.6638</td>\n",
              "      <td>0.17300</td>\n",
              "      <td>0</td>\n",
              "    </tr>\n",
              "    <tr>\n",
              "      <th>4</th>\n",
              "      <td>20.29</td>\n",
              "      <td>14.34</td>\n",
              "      <td>135.10</td>\n",
              "      <td>1297.0</td>\n",
              "      <td>0.10030</td>\n",
              "      <td>0.13280</td>\n",
              "      <td>0.19800</td>\n",
              "      <td>0.10430</td>\n",
              "      <td>0.1809</td>\n",
              "      <td>0.05883</td>\n",
              "      <td>...</td>\n",
              "      <td>16.67</td>\n",
              "      <td>152.20</td>\n",
              "      <td>1575.0</td>\n",
              "      <td>0.13740</td>\n",
              "      <td>0.20500</td>\n",
              "      <td>0.4000</td>\n",
              "      <td>0.1625</td>\n",
              "      <td>0.2364</td>\n",
              "      <td>0.07678</td>\n",
              "      <td>0</td>\n",
              "    </tr>\n",
              "    <tr>\n",
              "      <th>...</th>\n",
              "      <td>...</td>\n",
              "      <td>...</td>\n",
              "      <td>...</td>\n",
              "      <td>...</td>\n",
              "      <td>...</td>\n",
              "      <td>...</td>\n",
              "      <td>...</td>\n",
              "      <td>...</td>\n",
              "      <td>...</td>\n",
              "      <td>...</td>\n",
              "      <td>...</td>\n",
              "      <td>...</td>\n",
              "      <td>...</td>\n",
              "      <td>...</td>\n",
              "      <td>...</td>\n",
              "      <td>...</td>\n",
              "      <td>...</td>\n",
              "      <td>...</td>\n",
              "      <td>...</td>\n",
              "      <td>...</td>\n",
              "      <td>...</td>\n",
              "    </tr>\n",
              "    <tr>\n",
              "      <th>564</th>\n",
              "      <td>21.56</td>\n",
              "      <td>22.39</td>\n",
              "      <td>142.00</td>\n",
              "      <td>1479.0</td>\n",
              "      <td>0.11100</td>\n",
              "      <td>0.11590</td>\n",
              "      <td>0.24390</td>\n",
              "      <td>0.13890</td>\n",
              "      <td>0.1726</td>\n",
              "      <td>0.05623</td>\n",
              "      <td>...</td>\n",
              "      <td>26.40</td>\n",
              "      <td>166.10</td>\n",
              "      <td>2027.0</td>\n",
              "      <td>0.14100</td>\n",
              "      <td>0.21130</td>\n",
              "      <td>0.4107</td>\n",
              "      <td>0.2216</td>\n",
              "      <td>0.2060</td>\n",
              "      <td>0.07115</td>\n",
              "      <td>0</td>\n",
              "    </tr>\n",
              "    <tr>\n",
              "      <th>565</th>\n",
              "      <td>20.13</td>\n",
              "      <td>28.25</td>\n",
              "      <td>131.20</td>\n",
              "      <td>1261.0</td>\n",
              "      <td>0.09780</td>\n",
              "      <td>0.10340</td>\n",
              "      <td>0.14400</td>\n",
              "      <td>0.09791</td>\n",
              "      <td>0.1752</td>\n",
              "      <td>0.05533</td>\n",
              "      <td>...</td>\n",
              "      <td>38.25</td>\n",
              "      <td>155.00</td>\n",
              "      <td>1731.0</td>\n",
              "      <td>0.11660</td>\n",
              "      <td>0.19220</td>\n",
              "      <td>0.3215</td>\n",
              "      <td>0.1628</td>\n",
              "      <td>0.2572</td>\n",
              "      <td>0.06637</td>\n",
              "      <td>0</td>\n",
              "    </tr>\n",
              "    <tr>\n",
              "      <th>566</th>\n",
              "      <td>16.60</td>\n",
              "      <td>28.08</td>\n",
              "      <td>108.30</td>\n",
              "      <td>858.1</td>\n",
              "      <td>0.08455</td>\n",
              "      <td>0.10230</td>\n",
              "      <td>0.09251</td>\n",
              "      <td>0.05302</td>\n",
              "      <td>0.1590</td>\n",
              "      <td>0.05648</td>\n",
              "      <td>...</td>\n",
              "      <td>34.12</td>\n",
              "      <td>126.70</td>\n",
              "      <td>1124.0</td>\n",
              "      <td>0.11390</td>\n",
              "      <td>0.30940</td>\n",
              "      <td>0.3403</td>\n",
              "      <td>0.1418</td>\n",
              "      <td>0.2218</td>\n",
              "      <td>0.07820</td>\n",
              "      <td>0</td>\n",
              "    </tr>\n",
              "    <tr>\n",
              "      <th>567</th>\n",
              "      <td>20.60</td>\n",
              "      <td>29.33</td>\n",
              "      <td>140.10</td>\n",
              "      <td>1265.0</td>\n",
              "      <td>0.11780</td>\n",
              "      <td>0.27700</td>\n",
              "      <td>0.35140</td>\n",
              "      <td>0.15200</td>\n",
              "      <td>0.2397</td>\n",
              "      <td>0.07016</td>\n",
              "      <td>...</td>\n",
              "      <td>39.42</td>\n",
              "      <td>184.60</td>\n",
              "      <td>1821.0</td>\n",
              "      <td>0.16500</td>\n",
              "      <td>0.86810</td>\n",
              "      <td>0.9387</td>\n",
              "      <td>0.2650</td>\n",
              "      <td>0.4087</td>\n",
              "      <td>0.12400</td>\n",
              "      <td>0</td>\n",
              "    </tr>\n",
              "    <tr>\n",
              "      <th>568</th>\n",
              "      <td>7.76</td>\n",
              "      <td>24.54</td>\n",
              "      <td>47.92</td>\n",
              "      <td>181.0</td>\n",
              "      <td>0.05263</td>\n",
              "      <td>0.04362</td>\n",
              "      <td>0.00000</td>\n",
              "      <td>0.00000</td>\n",
              "      <td>0.1587</td>\n",
              "      <td>0.05884</td>\n",
              "      <td>...</td>\n",
              "      <td>30.37</td>\n",
              "      <td>59.16</td>\n",
              "      <td>268.6</td>\n",
              "      <td>0.08996</td>\n",
              "      <td>0.06444</td>\n",
              "      <td>0.0000</td>\n",
              "      <td>0.0000</td>\n",
              "      <td>0.2871</td>\n",
              "      <td>0.07039</td>\n",
              "      <td>1</td>\n",
              "    </tr>\n",
              "  </tbody>\n",
              "</table>\n",
              "<p>569 rows × 31 columns</p>\n",
              "</div>\n",
              "      <button class=\"colab-df-convert\" onclick=\"convertToInteractive('df-8bf04ed1-e381-4fb3-88a8-f549ad4a5581')\"\n",
              "              title=\"Convert this dataframe to an interactive table.\"\n",
              "              style=\"display:none;\">\n",
              "        \n",
              "  <svg xmlns=\"http://www.w3.org/2000/svg\" height=\"24px\"viewBox=\"0 0 24 24\"\n",
              "       width=\"24px\">\n",
              "    <path d=\"M0 0h24v24H0V0z\" fill=\"none\"/>\n",
              "    <path d=\"M18.56 5.44l.94 2.06.94-2.06 2.06-.94-2.06-.94-.94-2.06-.94 2.06-2.06.94zm-11 1L8.5 8.5l.94-2.06 2.06-.94-2.06-.94L8.5 2.5l-.94 2.06-2.06.94zm10 10l.94 2.06.94-2.06 2.06-.94-2.06-.94-.94-2.06-.94 2.06-2.06.94z\"/><path d=\"M17.41 7.96l-1.37-1.37c-.4-.4-.92-.59-1.43-.59-.52 0-1.04.2-1.43.59L10.3 9.45l-7.72 7.72c-.78.78-.78 2.05 0 2.83L4 21.41c.39.39.9.59 1.41.59.51 0 1.02-.2 1.41-.59l7.78-7.78 2.81-2.81c.8-.78.8-2.07 0-2.86zM5.41 20L4 18.59l7.72-7.72 1.47 1.35L5.41 20z\"/>\n",
              "  </svg>\n",
              "      </button>\n",
              "      \n",
              "  <style>\n",
              "    .colab-df-container {\n",
              "      display:flex;\n",
              "      flex-wrap:wrap;\n",
              "      gap: 12px;\n",
              "    }\n",
              "\n",
              "    .colab-df-convert {\n",
              "      background-color: #E8F0FE;\n",
              "      border: none;\n",
              "      border-radius: 50%;\n",
              "      cursor: pointer;\n",
              "      display: none;\n",
              "      fill: #1967D2;\n",
              "      height: 32px;\n",
              "      padding: 0 0 0 0;\n",
              "      width: 32px;\n",
              "    }\n",
              "\n",
              "    .colab-df-convert:hover {\n",
              "      background-color: #E2EBFA;\n",
              "      box-shadow: 0px 1px 2px rgba(60, 64, 67, 0.3), 0px 1px 3px 1px rgba(60, 64, 67, 0.15);\n",
              "      fill: #174EA6;\n",
              "    }\n",
              "\n",
              "    [theme=dark] .colab-df-convert {\n",
              "      background-color: #3B4455;\n",
              "      fill: #D2E3FC;\n",
              "    }\n",
              "\n",
              "    [theme=dark] .colab-df-convert:hover {\n",
              "      background-color: #434B5C;\n",
              "      box-shadow: 0px 1px 3px 1px rgba(0, 0, 0, 0.15);\n",
              "      filter: drop-shadow(0px 1px 2px rgba(0, 0, 0, 0.3));\n",
              "      fill: #FFFFFF;\n",
              "    }\n",
              "  </style>\n",
              "\n",
              "      <script>\n",
              "        const buttonEl =\n",
              "          document.querySelector('#df-8bf04ed1-e381-4fb3-88a8-f549ad4a5581 button.colab-df-convert');\n",
              "        buttonEl.style.display =\n",
              "          google.colab.kernel.accessAllowed ? 'block' : 'none';\n",
              "\n",
              "        async function convertToInteractive(key) {\n",
              "          const element = document.querySelector('#df-8bf04ed1-e381-4fb3-88a8-f549ad4a5581');\n",
              "          const dataTable =\n",
              "            await google.colab.kernel.invokeFunction('convertToInteractive',\n",
              "                                                     [key], {});\n",
              "          if (!dataTable) return;\n",
              "\n",
              "          const docLinkHtml = 'Like what you see? Visit the ' +\n",
              "            '<a target=\"_blank\" href=https://colab.research.google.com/notebooks/data_table.ipynb>data table notebook</a>'\n",
              "            + ' to learn more about interactive tables.';\n",
              "          element.innerHTML = '';\n",
              "          dataTable['output_type'] = 'display_data';\n",
              "          await google.colab.output.renderOutput(dataTable, element);\n",
              "          const docLink = document.createElement('div');\n",
              "          docLink.innerHTML = docLinkHtml;\n",
              "          element.appendChild(docLink);\n",
              "        }\n",
              "      </script>\n",
              "    </div>\n",
              "  </div>\n",
              "  "
            ]
          },
          "metadata": {},
          "execution_count": 168
        }
      ]
    },
    {
      "cell_type": "markdown",
      "source": [
        "## 📑 (4) train, test 데이터 분리"
      ],
      "metadata": {
        "id": "h7RjRwuV8OG_"
      }
    },
    {
      "cell_type": "markdown",
      "source": [
        "- <u>모델 학습 및 테스트용 문제지와 정답지 생성</u>   \n",
        "    data: feature (문제)  \n",
        "    label: label (정답)  \n",
        "    test_size: 전체에서 테스트 데이터로 사용할 비율  \n",
        "    random_state : 데이터를 분리하는데 적용되는 랜덤성"
      ],
      "metadata": {
        "id": "kOukhCoK8OG_"
      }
    },
    {
      "cell_type": "code",
      "source": [
        "X_train, X_test, y_train, y_test = train_test_split(breast_cancer_data, breast_cancer_label, test_size=0.3, random_state=5)\n",
        "print('X_train 개수: ', len(X_train),', X_test 개수: ', len(X_test))"
      ],
      "metadata": {
        "colab": {
          "base_uri": "https://localhost:8080/"
        },
        "outputId": "0d7dbd9e-3c73-423a-a980-d50ea423234e",
        "id": "p6Yr-Zv68OG_"
      },
      "execution_count": null,
      "outputs": [
        {
          "output_type": "stream",
          "name": "stdout",
          "text": [
            "X_train 개수:  398 , X_test 개수:  171\n"
          ]
        }
      ]
    },
    {
      "cell_type": "code",
      "source": [
        "X_train.shape, y_train.shape"
      ],
      "metadata": {
        "colab": {
          "base_uri": "https://localhost:8080/"
        },
        "outputId": "f76019ef-a21a-4b88-bb19-57a69d82b2f0",
        "id": "5bK2W3eF8OHA"
      },
      "execution_count": null,
      "outputs": [
        {
          "output_type": "execute_result",
          "data": {
            "text/plain": [
              "((398, 30), (398,))"
            ]
          },
          "metadata": {},
          "execution_count": 156
        }
      ]
    },
    {
      "cell_type": "code",
      "source": [
        "X_test.shape, y_test.shape"
      ],
      "metadata": {
        "colab": {
          "base_uri": "https://localhost:8080/"
        },
        "outputId": "0cdc2787-9b12-452e-d6bb-386fdc9bc772",
        "id": "dZWk9M_m8OHA"
      },
      "execution_count": null,
      "outputs": [
        {
          "output_type": "execute_result",
          "data": {
            "text/plain": [
              "((171, 30), (171,))"
            ]
          },
          "metadata": {},
          "execution_count": 157
        }
      ]
    },
    {
      "cell_type": "code",
      "source": [
        "y_train, y_test"
      ],
      "metadata": {
        "colab": {
          "base_uri": "https://localhost:8080/"
        },
        "outputId": "d086374c-45fe-47d5-d2c9-14b742c3ed21",
        "id": "k1B-u6E38OHA"
      },
      "execution_count": null,
      "outputs": [
        {
          "output_type": "execute_result",
          "data": {
            "text/plain": [
              "(array([0, 1, 0, 1, 1, 1, 1, 1, 0, 1, 1, 1, 0, 1, 0, 1, 1, 1, 0, 1, 0, 1,\n",
              "        1, 0, 1, 1, 1, 0, 0, 0, 0, 1, 1, 1, 0, 1, 1, 0, 1, 1, 1, 1, 1, 1,\n",
              "        1, 1, 1, 1, 1, 1, 1, 1, 0, 0, 1, 1, 1, 0, 0, 1, 0, 1, 1, 1, 1, 1,\n",
              "        1, 0, 1, 0, 0, 1, 0, 1, 1, 0, 1, 0, 1, 1, 0, 1, 1, 1, 1, 1, 1, 0,\n",
              "        1, 0, 1, 0, 0, 1, 1, 1, 1, 0, 1, 1, 1, 1, 1, 0, 0, 1, 0, 1, 0, 0,\n",
              "        0, 1, 1, 0, 1, 0, 1, 1, 1, 1, 1, 1, 0, 1, 0, 0, 1, 1, 1, 1, 1, 1,\n",
              "        0, 0, 1, 1, 1, 0, 0, 0, 1, 1, 1, 0, 0, 1, 1, 1, 1, 0, 1, 0, 1, 1,\n",
              "        0, 1, 1, 1, 1, 0, 1, 0, 0, 1, 1, 1, 0, 1, 0, 0, 1, 1, 1, 1, 0, 1,\n",
              "        1, 1, 0, 0, 0, 0, 0, 1, 1, 1, 1, 1, 1, 1, 1, 1, 1, 1, 0, 1, 1, 1,\n",
              "        0, 1, 1, 0, 0, 1, 1, 1, 1, 1, 0, 1, 1, 1, 1, 1, 0, 1, 1, 0, 1, 0,\n",
              "        1, 0, 0, 1, 1, 0, 1, 0, 1, 0, 1, 1, 1, 0, 0, 0, 1, 0, 1, 1, 1, 1,\n",
              "        0, 0, 0, 1, 0, 1, 1, 0, 0, 0, 1, 1, 1, 1, 0, 0, 0, 1, 1, 1, 1, 0,\n",
              "        1, 0, 0, 0, 1, 0, 1, 0, 1, 0, 0, 1, 1, 1, 0, 1, 1, 1, 1, 0, 1, 0,\n",
              "        0, 0, 1, 0, 1, 0, 0, 1, 1, 0, 1, 0, 1, 1, 0, 0, 1, 1, 0, 1, 0, 1,\n",
              "        1, 1, 1, 0, 1, 1, 1, 1, 0, 1, 0, 1, 1, 1, 1, 0, 1, 1, 0, 0, 0, 0,\n",
              "        1, 0, 1, 1, 1, 1, 1, 1, 0, 1, 0, 0, 1, 1, 1, 0, 1, 0, 1, 0, 0, 0,\n",
              "        1, 0, 1, 1, 0, 1, 1, 0, 1, 0, 1, 0, 1, 0, 1, 1, 1, 1, 0, 1, 1, 0,\n",
              "        0, 0, 1, 1, 0, 0, 0, 1, 1, 0, 0, 0, 0, 1, 1, 1, 1, 1, 1, 0, 0, 0,\n",
              "        0, 1]),\n",
              " array([0, 1, 1, 1, 1, 0, 1, 1, 1, 1, 1, 1, 0, 1, 1, 1, 1, 1, 1, 1, 0, 1,\n",
              "        1, 1, 1, 1, 0, 0, 1, 0, 0, 0, 0, 0, 1, 1, 0, 1, 1, 0, 1, 1, 1, 0,\n",
              "        1, 1, 0, 0, 1, 0, 1, 1, 1, 1, 1, 0, 0, 0, 1, 0, 0, 0, 1, 1, 1, 1,\n",
              "        1, 1, 0, 0, 1, 0, 1, 1, 1, 1, 0, 1, 0, 0, 0, 1, 0, 0, 0, 1, 0, 1,\n",
              "        0, 0, 0, 0, 1, 1, 0, 0, 1, 1, 1, 1, 1, 0, 1, 1, 0, 0, 1, 0, 1, 0,\n",
              "        1, 0, 0, 0, 1, 1, 0, 1, 0, 1, 1, 1, 0, 1, 0, 1, 0, 1, 1, 0, 1, 1,\n",
              "        1, 1, 1, 0, 1, 1, 1, 1, 1, 1, 1, 0, 1, 1, 1, 0, 1, 1, 1, 0, 1, 1,\n",
              "        1, 0, 1, 1, 1, 1, 1, 1, 1, 1, 0, 0, 1, 1, 1, 1, 1]))"
            ]
          },
          "metadata": {},
          "execution_count": 159
        }
      ]
    },
    {
      "cell_type": "markdown",
      "source": [
        "## 📑 (5-6) 다양한 모델로 학습 및 평가"
      ],
      "metadata": {
        "id": "IbBdHpha8OHA"
      }
    },
    {
      "cell_type": "markdown",
      "source": [
        "### 📌 01_모듈 import"
      ],
      "metadata": {
        "id": "RgyrREkH8OHA"
      }
    },
    {
      "cell_type": "markdown",
      "source": [
        "- <u>패키지 import</u>  \n",
        "    정확도: metrics (accuracy_score)  \n",
        "    오차행렬: metrics (confusion_matrix)"
      ],
      "metadata": {
        "id": "OC3qATxG8OHA"
      }
    },
    {
      "cell_type": "code",
      "source": [
        "from sklearn.metrics import accuracy_score\n",
        "from sklearn.metrics import confusion_matrix"
      ],
      "metadata": {
        "id": "34TnRj_u8OHA"
      },
      "execution_count": null,
      "outputs": []
    },
    {
      "cell_type": "markdown",
      "source": [
        "### 📌 02_학습 및 평가 : Decision Tree"
      ],
      "metadata": {
        "id": "K-9XOjt18OHA"
      }
    },
    {
      "cell_type": "code",
      "source": [
        "from sklearn.tree import DecisionTreeClassifier\n",
        "\n",
        "decision_tree = DecisionTreeClassifier(random_state=5)\n",
        "decision_tree.fit(X_train, y_train)\n",
        "y_pred = decision_tree.predict(X_test)\n",
        "print(classification_report(y_test, y_pred))\n",
        "print('정확도 :', accuracy_score(y_test, y_pred))"
      ],
      "metadata": {
        "colab": {
          "base_uri": "https://localhost:8080/"
        },
        "outputId": "f641ca63-36ff-455d-cb90-f265436baedd",
        "id": "DHHZf5Ns8OHA"
      },
      "execution_count": null,
      "outputs": [
        {
          "output_type": "stream",
          "name": "stdout",
          "text": [
            "              precision    recall  f1-score   support\n",
            "\n",
            "           0       0.88      0.92      0.90        61\n",
            "           1       0.95      0.93      0.94       110\n",
            "\n",
            "    accuracy                           0.92       171\n",
            "   macro avg       0.91      0.92      0.92       171\n",
            "weighted avg       0.93      0.92      0.92       171\n",
            "\n",
            "정확도 : 0.9239766081871345\n"
          ]
        }
      ]
    },
    {
      "cell_type": "markdown",
      "source": [
        "### 📌 03_학습 및 평가 : Random Forest"
      ],
      "metadata": {
        "id": "CIPHefQi8OHA"
      }
    },
    {
      "cell_type": "code",
      "source": [
        "from sklearn.ensemble import RandomForestClassifier\n",
        "\n",
        "random_forest = RandomForestClassifier(random_state=5)\n",
        "random_forest.fit(X_train, y_train)\n",
        "y_pred = random_forest.predict(X_test)\n",
        "print(classification_report(y_test, y_pred))\n",
        "print('정확도 :', accuracy_score(y_test, y_pred))"
      ],
      "metadata": {
        "colab": {
          "base_uri": "https://localhost:8080/"
        },
        "outputId": "f402a16f-6701-402d-9ddc-326177d5951f",
        "id": "PsKdWR2c8OHA"
      },
      "execution_count": null,
      "outputs": [
        {
          "output_type": "stream",
          "name": "stdout",
          "text": [
            "              precision    recall  f1-score   support\n",
            "\n",
            "           0       0.98      0.95      0.97        61\n",
            "           1       0.97      0.99      0.98       110\n",
            "\n",
            "    accuracy                           0.98       171\n",
            "   macro avg       0.98      0.97      0.97       171\n",
            "weighted avg       0.98      0.98      0.98       171\n",
            "\n",
            "정확도 : 0.9766081871345029\n"
          ]
        }
      ]
    },
    {
      "cell_type": "markdown",
      "source": [
        "### 📌 04_학습 및 평가 : SVM"
      ],
      "metadata": {
        "id": "WLb-BYac8OHB"
      }
    },
    {
      "cell_type": "code",
      "source": [
        "from sklearn import svm\n",
        "\n",
        "svm_model = svm.SVC()\n",
        "svm_model.fit(X_train, y_train)\n",
        "y_pred = svm_model.predict(X_test)\n",
        "print(classification_report(y_test, y_pred))\n",
        "print('정확도 :', accuracy_score(y_test, y_pred))"
      ],
      "metadata": {
        "colab": {
          "base_uri": "https://localhost:8080/"
        },
        "outputId": "69a42cf8-aac7-4046-d451-2f3292b88650",
        "id": "8MRMBjV68OHB"
      },
      "execution_count": null,
      "outputs": [
        {
          "output_type": "stream",
          "name": "stdout",
          "text": [
            "              precision    recall  f1-score   support\n",
            "\n",
            "           0       1.00      0.90      0.95        61\n",
            "           1       0.95      1.00      0.97       110\n",
            "\n",
            "    accuracy                           0.96       171\n",
            "   macro avg       0.97      0.95      0.96       171\n",
            "weighted avg       0.97      0.96      0.96       171\n",
            "\n",
            "정확도 : 0.9649122807017544\n"
          ]
        }
      ]
    },
    {
      "cell_type": "markdown",
      "source": [
        "### 📌 05_학습 및 평가 : SGD Classifier"
      ],
      "metadata": {
        "id": "6yRcVPUT8OHB"
      }
    },
    {
      "cell_type": "code",
      "source": [
        "from sklearn.linear_model import SGDClassifier\n",
        "\n",
        "sgd_model = SGDClassifier()\n",
        "sgd_model.fit(X_train, y_train)\n",
        "y_pred = sgd_model.predict(X_test)\n",
        "print(classification_report(y_test, y_pred))\n",
        "print('정확도 :', accuracy_score(y_test, y_pred))"
      ],
      "metadata": {
        "colab": {
          "base_uri": "https://localhost:8080/"
        },
        "outputId": "6211c126-597b-4aac-a6f9-5a98a084d7b1",
        "id": "4VWScqNv8OHB"
      },
      "execution_count": null,
      "outputs": [
        {
          "output_type": "stream",
          "name": "stdout",
          "text": [
            "              precision    recall  f1-score   support\n",
            "\n",
            "           0       0.64      0.98      0.77        61\n",
            "           1       0.99      0.69      0.81       110\n",
            "\n",
            "    accuracy                           0.80       171\n",
            "   macro avg       0.81      0.84      0.79       171\n",
            "weighted avg       0.86      0.80      0.80       171\n",
            "\n",
            "정확도 : 0.7953216374269005\n"
          ]
        }
      ]
    },
    {
      "cell_type": "markdown",
      "source": [
        "### 📌 06_학습 및 평가 : Logistic Regression\n"
      ],
      "metadata": {
        "id": "aUgQCzGw8OHB"
      }
    },
    {
      "cell_type": "code",
      "source": [
        "from sklearn.linear_model import LogisticRegression\n",
        "\n",
        "logistic_model = LogisticRegression()\n",
        "logistic_model.fit(X_train, y_train)\n",
        "y_pred = logistic_model.predict(X_test)\n",
        "print(classification_report(y_test, y_pred))\n",
        "print('정확도 :', accuracy_score(y_test, y_pred))"
      ],
      "metadata": {
        "colab": {
          "base_uri": "https://localhost:8080/"
        },
        "outputId": "22cf0b77-8f47-465e-b0a4-cd886b8166e2",
        "id": "YSUwrL4U8OHB"
      },
      "execution_count": null,
      "outputs": [
        {
          "output_type": "stream",
          "name": "stdout",
          "text": [
            "              precision    recall  f1-score   support\n",
            "\n",
            "           0       0.95      0.92      0.93        61\n",
            "           1       0.96      0.97      0.96       110\n",
            "\n",
            "    accuracy                           0.95       171\n",
            "   macro avg       0.95      0.95      0.95       171\n",
            "weighted avg       0.95      0.95      0.95       171\n",
            "\n",
            "정확도 : 0.9532163742690059\n"
          ]
        },
        {
          "output_type": "stream",
          "name": "stderr",
          "text": [
            "/usr/local/lib/python3.7/dist-packages/sklearn/linear_model/_logistic.py:818: ConvergenceWarning: lbfgs failed to converge (status=1):\n",
            "STOP: TOTAL NO. of ITERATIONS REACHED LIMIT.\n",
            "\n",
            "Increase the number of iterations (max_iter) or scale the data as shown in:\n",
            "    https://scikit-learn.org/stable/modules/preprocessing.html\n",
            "Please also refer to the documentation for alternative solver options:\n",
            "    https://scikit-learn.org/stable/modules/linear_model.html#logistic-regression\n",
            "  extra_warning_msg=_LOGISTIC_SOLVER_CONVERGENCE_MSG,\n"
          ]
        }
      ]
    },
    {
      "cell_type": "markdown",
      "source": [
        "### 📌 07_최종 평가"
      ],
      "metadata": {
        "id": "GEUVsLXV8OHB"
      }
    },
    {
      "cell_type": "markdown",
      "source": [
        "- <u>Decision Tree</u>\n",
        "```\n",
        "                precision   recall   f1-score   support\n",
        "    accuracy                           0.92       171\n",
        "   macro avg       0.91      0.92      0.92       171\n",
        "weighted avg     0.93      0.92      0.92       171\n",
        "```\n",
        "\n",
        "- <u>Random Forest</u>\n",
        "```\n",
        "                precision   recall   f1-score   support\n",
        "    accuracy                           0.98       171\n",
        "   macro avg       0.98      0.97      0.97       171\n",
        "weighted avg     0.98      0.98      0.98       171\n",
        "```\n",
        "\n",
        "- <u>SVM</u>\n",
        "```\n",
        "                precision   recall   f1-score   support\n",
        "    accuracy                           0.96       171\n",
        "   macro avg       0.97      0.95      0.96       171\n",
        "weighted avg     0.97      0.96      0.96       171\n",
        "```\n",
        "\n",
        "- <u>SGD Classifier</u>\n",
        "```\n",
        "                precision   recall   f1-score   support\n",
        "    accuracy                           0.80       171\n",
        "   macro avg       0.81      0.84      0.79       171\n",
        "weighted avg     0.86      0.80      0.80       171\n",
        "```\n",
        "\n",
        "- <u>Logistic Regression</u>\n",
        "```\n",
        "                precision   recall   f1-score   support\n",
        "    accuracy                           0.95       171\n",
        "   macro avg       0.95      0.95      0.95       171\n",
        "weighted avg     0.95      0.95      0.95       171\n",
        "```\n",
        "\n",
        "<br>\n",
        "\n",
        "- <u>결론</u>  \n",
        "    동일한 데이터 조건으로 다양한 모델에 적용 시 SGD Classifier를 제외한 나머지 모델에서는 0.06 오차 범위 내 비슷한 성능을 보인다. SGD Classifier의 경우 앞선 두개의 프로젝트에서 사용한 데이터와 같게 클래스별 성능 차이가 있다. 유방암 양성 판별의 여부는 양성으로 판정되지 않는 경우가 발생하면 안되기 때문에 Recall을 평가 지표로 선택했다."
      ],
      "metadata": {
        "id": "DQydqUdC8OHB"
      }
    },
    {
      "cell_type": "markdown",
      "source": [
        "#  📕 EXPLORATION 01-4 : 1번째 EXPLORATION 및 이번주 회고"
      ],
      "metadata": {
        "id": "6lFmMnS_LvU3"
      }
    },
    {
      "cell_type": "markdown",
      "source": [
        "## 📑 (1) EXPLOPATION 회고"
      ],
      "metadata": {
        "id": "E5a45GH8Mb0t"
      }
    },
    {
      "cell_type": "markdown",
      "source": [
        "### 📌 01_학습 내용"
      ],
      "metadata": {
        "id": "AiUgoWINbGOq"
      }
    },
    {
      "cell_type": "markdown",
      "source": [
        "#### 💡 목차"
      ],
      "metadata": {
        "id": "rnltErROwkXq"
      }
    },
    {
      "cell_type": "markdown",
      "source": [
        "- scikit-learn 내장 데이터를 활용한 데이터 분석  \n",
        "- 데이터 셋 정보 확인  \n",
        "- 데이터 준비\n",
        "- DataFrame 자료형 변환\n",
        "- feature, label(target) 준비\n",
        "- training dataset / test dataset 분리 작업\n",
        "- 머신러닝 모델 학습\n",
        "- 머신러닝 모델 평가 \n",
        "- 오차 행렬"
      ],
      "metadata": {
        "id": "dOepa4wvb50-"
      }
    },
    {
      "cell_type": "markdown",
      "source": [
        "#### 💡 머신러닝 모델"
      ],
      "metadata": {
        "id": "1cBCO4vxvLxP"
      }
    },
    {
      "cell_type": "markdown",
      "source": [
        "- <u>Decision Tree</u> \n",
        "    - 개념  \n",
        "    특정 기준에 따라 데이터를 분류, 회귀하는 지도 학습 모델  \n",
        "    데이터를 분석해 예측 가능한 규칙의 조합으로 패턴을 표현 (스무고개 방식)  \n",
        "    복잡성이 낮도록 설계 (분류의 맨 끝이 가장 섞이지 않은 상태로 완전히 분류)\n",
        "\n",
        "    - 장점  \n",
        "    데이터의 전처리가 필요 없음  \n",
        "    수치형, 범주형 변수를 한번에 다루기 가능\n",
        "\n",
        "    - 단점   \n",
        "    변수간 상호작용 파악에 부적합  \n",
        "    큰 샘플 사이즈에 부적합 (낮은 가독성, 효율성)  \n",
        "    트리 크기 제한이 없으면 과적합으로 알고리즘 성능 저하  \n",
        "    특정 데이터에만 원활한 작동 가능 (결정경계가 데이터 축에 수직)  \n",
        "    약간의 차이에 따라 트리 모양이 크게 변화 가능  "
      ],
      "metadata": {
        "id": "q93UIF7H9Llk"
      }
    },
    {
      "cell_type": "markdown",
      "source": [
        "\n",
        "- <u>Random Forest</u>\n",
        "    - 개념 \n",
        "    다수의 Decision Tree 모델을 훈련시켜 결과를 예측하는 데이터를 검출, 분류, 회귀하는 모델   \n",
        "    여러 모델을 통해 예측한 값의 평균으로 최종 예측값 산출 (앙상블 알고리즘)  \n",
        "\n",
        "    - 장점 \n",
        "    임의화를 통한 일반화 성능 우수 / 파라미터 조정 용이  \n",
        "    간편하고 빠른 학습 가능 / 데이터의 전처리가 필요 없음 / 적은 과적합  \n",
        "\n",
        "    - 단점 \n",
        "    모델 성능 개선의 어려움\n",
        "    변수간 상호작용 파악에 부적합  \n",
        "    큰 샘플 사이즈에 부적합 (낮은 가독성, 효율성)"
      ],
      "metadata": {
        "id": "mSMbK3rMiEUA"
      }
    },
    {
      "cell_type": "markdown",
      "source": [
        "- <u>SVM</u>  \n",
        "    - 개념  \n",
        "    초평면을 이용해 분류를 수행하는 선형 분류 알고리즘 모델 (분류를 위한 기준선 정의)  \n",
        "    Decision Boundary(결정 경계): 두 개의 클래스를 구분  \n",
        "    Support Vector: Decision Boundary에 가까이 있는 데이터  \n",
        "    Margin: Decision Boundary와 Support Vector 사이의 거리  \n",
        "    Margin이 넓을수록 새로운 데이터 구분에 용이 (최적의 Decision Boundary는 Margin 최대화)  \n",
        "\n",
        "    - 장점  \n",
        "    신경망에 비해 사용 수월 / 적은 데이터 특성에도 성능 우수  \n",
        "    적은 오류 데이터의 영향 / 적은 과적합  \n",
        "    저차원,고차원의 적은 데이터에서 일반화 능력 우수  \n",
        "\n",
        "    - 단점  \n",
        "    여러개의 조합 테스트 필요 / 느린 학습 속도 / 커널함수의 선택 불명확  \n",
        "    데이터 특성의 스케일링에 민감 / 신경망과 같이 해석이 어렵고 복잡한 블랙박스 형태  "
      ],
      "metadata": {
        "id": "Rix51qXqiGZ5"
      }
    },
    {
      "cell_type": "markdown",
      "source": [
        "- <u>SGD Classifier</u>\n",
        "    - 개념  \n",
        "    대규모 학습에 적합한 배치 크기가 1인 경사하강법 알고리즘  \n",
        "    무작위로 배치 크기가 1인 단 한 개의 데이터를 추출하여 기울기를 계산  \n",
        "    배치: 단일 반복에서 기울기를 계산하는 데 사용하는 데이터의 총 개수\n",
        "\n",
        "    - 장점  \n",
        "    훨씬 적은 데이터 세트로 중요한 평균값 추정 가능  \n",
        "    쉬운 알고리즘 구현  \n",
        "\n",
        "    - 단점  \n",
        "    정규화 및 반복 등의 많은 파라미터 필요  \n",
        "    파라미터가 불충분할 경우 심한 노이즈 / 최저점을 찾지 못할 가능성 존재  "
      ],
      "metadata": {
        "id": "pXG6Xw5WiJDg"
      }
    },
    {
      "cell_type": "markdown",
      "source": [
        "- <u>Logistic Regression</u>  \n",
        "    - 개념  \n",
        "    대규모 학습에 적합합 소프트맥스 함수 사용 다중 클래스 분류 알고리즘 모델  \n",
        "    특성 간의 관계를 보여주고 특정 결과의 확률 계산  \n",
        "    소프트맥스 함수: 클래스가 N개일 때, N차원의 벡터가 각 클래스가 정답일 확률을 표현하도 정규화\n",
        "\n",
        "    - 장점  \n",
        "    간단한 식 / 정규화 / 잘 보정된 예측 확률 제공 (효율적)  \n",
        "    분류 모델이지만 확률값 얻을 수 있음\n",
        "\n",
        "    - 단점  \n",
        "    비선형 문제 해결에 사용 불가 (이산적 결과의 경우 범주형 결과 예측에만 사용 가능)  \n",
        "    데이터 표시에 큰 의존성 (필요한 모든 독립 변수를 식별하지 않는 한 출력 가치 없음)  \n",
        "    표현적인 제한(상호 작용 추가 필요) / 과적합에 취약 / 확률 파악, 가중치 해석 어려움"
      ],
      "metadata": {
        "id": "d--uikGniK3R"
      }
    },
    {
      "cell_type": "markdown",
      "source": [
        "#### 💡 03_머신러닝 모델 평가 / 오차행렬"
      ],
      "metadata": {
        "id": "dcjDn39Xqxvh"
      }
    },
    {
      "cell_type": "markdown",
      "source": [
        "- <u>confusion_matrix</u>  \n",
        "    - <u>True Positive(TP)</u>  \n",
        "    양성으로 분류된 양성 사례  \n",
        "\n",
        "    - <u>True Negative(TN)</u>   \n",
        "    음성으로 분류된 음성 사례  \n",
        "\n",
        "    - <u>False Positive(FP)</u>  \n",
        "    양성으로 분류된 음성 사례  \n",
        "\n",
        "    - <u>False Negative(FN)</u>   \n",
        "    음성으로 분류된 양성 사례  "
      ],
      "metadata": {
        "id": "jOVJaKK8iXGR"
      }
    },
    {
      "cell_type": "markdown",
      "source": [
        "- <u>평가</u>  \n",
        "    - <u>Precision</u>  \n",
        "    `TP / (FP + TP)`  \n",
        "    예측 양성 중 올바르게 분류된 양성에 대한 척도 (검출 정확도)  \n",
        "\n",
        "    - <u>Sensitivity (True Positive Rate, Recall)</u>  \n",
        "    `TP / (FN + TP)`\n",
        "    양성으로 분류된 양성 사례의 척도 (검출률)  \n",
        "\n",
        "    - <u>F1 score</u>  \n",
        "    `2∗(precision∗recall)/precision+recall`  \n",
        "    precision과 recall의 조화평균  \n",
        "    분류 클래스 간 데이터가 불균형이 심각할때 사용  \n",
        "\n",
        "    - <u>Accuracy</u>  \n",
        "    `(TN + TP) / (TN + FP + FN + TP)`  \n",
        "    전체 데이터 중 올바른 예측에 대한 척도 (정확도)  \n",
        "    직관적으로 모댈 예측 성능을 나타냄  "
      ],
      "metadata": {
        "id": "_7g53nGt-eGU"
      }
    },
    {
      "cell_type": "markdown",
      "source": [
        "### 📌 02_학습 성취"
      ],
      "metadata": {
        "id": "wdLK6jH5b5vB"
      }
    },
    {
      "cell_type": "markdown",
      "source": [
        "사실 노드의 설명을 참고로 혼자 프로젝트를 진행했기 때문에 프로젝트에서 원하는 부분을 내가 잘 진행했는지 모르겠다. 그래도 일단 노드에서 배운 내용의 이론적인 내용은 이해를 했고, 모델 정확도 평가까지는 코드로 진행할 수 있게 되었다. 그래서 위의 프로젝트 수행 내용을 보면 정확도에 대한 평가를 기반으로 모델을 선택한 경우가 많다.    \n",
        "\n",
        "    오차행렬 코드\n",
        "    real = 실제 값,   prediction = 예측한 값\n",
        "    from sklearn.metrics import confusion_matrix\n",
        "    confusion_matrix(real, prediction)\n",
        "\n",
        "    from sklearn.metrics import precision_score, recall_score, f1_score\n",
        "    precision_score(real, prediction)\n",
        "    recall_score(real, prediction)\n",
        "    f1_score(real, prediction)\n",
        "\n",
        "마지막에 배운 오차행렬에 대한 부분도 개념적으로는 이해가 가고, 예시를 들었을 경우 실제 어느 모델이 나을 것인가에 대한 것은 분류가 가능하다. 하지만 이를 실제로 코드로 적용하는 법이 어렵다. 노드에서도 나온 부분이 있고, 구글링을 해보니 코드 자체는 위와 같이 나온다. 코드 자체의 구성도 이해는 가는데, 실제 값과 예측값을 어떻게 지정하는가에 대한 부분이 어렵다. 이 부분은 추가적으로 학습이 필요할 것 같다."
      ],
      "metadata": {
        "id": "f11sDJ6Ub5nC"
      }
    },
    {
      "cell_type": "markdown",
      "source": [
        "### 📌 03_학습 시 의문점"
      ],
      "metadata": {
        "id": "d7J759JKg4Le"
      }
    },
    {
      "cell_type": "markdown",
      "source": [
        "- <u>test_size와 random_state</u>  \n",
        "    test_size와 random_state의 선호 기준이 있는지가 궁금하다. 두개의 값이 달라지면 데이터 정확도의 결과도 같이 달라지는데, test_size의 경우 통상적으로 사용되는 사이즈가 있는지 궁금하다. 그 값이 없다면 그냥 데이터 정확도가 높은 것을 기반으로 선택을 하는지, 아니면 다른 기준이 있는지 궁금하다.  \n",
        "\n",
        "- <u>Decision Tree와 Random Forest</u>  \n",
        "    Decision Tree의 단점을 극복한 모델이 Random Forest라고 배웠다. 그런데 여기서 드는 의문점은 Random Forest이 있음에도 불구하고 굳이 Decision Tree를 사용하는 경우가 있는지, 있다면 왜 사용을 하는 것인지 궁금하다.  \n",
        "\n",
        "- <u>오류 문구</u>  \n",
        "    LogisticRegression부분, 일정 SVM에서 정확도를 출력하면 오류 문구가 뜬다. 이 문구가 뭘 의미하는지 잘 모르겠다. 그리고 왜 로지스틱회귀에서만 이런 문구가 뜨는 것인지 궁금하다.  \n",
        "\n",
        "- <u>모델 간 오차 범위</u>  \n",
        "    모델간의 오차범위가 심한 경우가 있다. 이 경우 해당 모델이 이 데이터에 적합하지 않은 것인지, 아니면 더 많은 데이터 파라미터 값 수정을 해야하는지 궁금하다."
      ],
      "metadata": {
        "id": "_-x-VWX5n27T"
      }
    },
    {
      "cell_type": "markdown",
      "source": [
        "## 📑 (2) 이번주 회고"
      ],
      "metadata": {
        "id": "2_n02NJ9p-9t"
      }
    },
    {
      "cell_type": "markdown",
      "source": [
        "### 📌 01_이번주 회고"
      ],
      "metadata": {
        "id": "dGzkyHjdpmYK"
      }
    },
    {
      "cell_type": "markdown",
      "source": [
        "이번주에 처음으로 Exploration을 진행했다.  \n",
        "계속되는 컨디션 난조로 당장의 수업 진도를 따라 잡기도 벅차서 아직 내 진도는 fundamentals 4, 파이썬 기초를 알까 말까한 수준이다. 그 상황도 압박적인데, 이번주부터는 당장에 마감 기한이 있는 작업을 진행해야 한다니 눈 앞이 캄캄했다. 처음에는 이왕 시작했는데 졸업을 못하면 사람이 아니라는 생각이 들었는데, 지금은 정신이 제대로 안돌아와서 제공해주시는 자료만 6개월 안에 다 배워서 수료라도 할 수 있었으면 하는 바램이다. 그나마 다행이었던 점이라면, Exploration에도 설명이 있었다는 점이었다. 아직 fundamentals 7을 제대로 학습하지 못해서 아예 제출을 못할 줄 알았는데, 기존 노드처럼 설명을 해주시고, 약간의 실습을 거친 후 프로젝트를 진행하는 것이어서 너무 다행이었다. 아니었으면 제출할 엄두도 못냈을 것 같다. 앉아있는 것 자체가 힘든데, 그래도 이번주 병원 가는 부분을 제외하고 수업 시간에 집중을 못해도 앉아라도 있어보려고 노력했던 점과, 당일은 아니지만 Exploration을 마감 내에 제출하게 되어 일단은 나 자신에게 칭찬을 해주고 싶다. 마지막으로 다음주에 성취했으면 하는 부분을 정리해보고, 이번주 회고를 마치고자 한다."
      ],
      "metadata": {
        "id": "uY80GGQNa6wb"
      }
    },
    {
      "cell_type": "markdown",
      "source": [
        "### 📌 02_다음주 성취 목록"
      ],
      "metadata": {
        "id": "YLtXj8XapqSR"
      }
    },
    {
      "cell_type": "markdown",
      "source": [
        "- 매일 노드 이해하려고 노력하고, 밀린 노드는 짬짬이 보기  \n",
        "    오늘 노드 진도가 조금밖에 나가지 못하더라도 이해하는 방향으로 학습을 진행하자! 정신이 없어서 앉아만 있을 때 노드를 읽기만 하면 정말 머릿속에 내용이 잘 기억이 안난다. 다시 보게 되는 경우 아예 초면인 느낌이다. 이미 밀린 노드도 엄청 많고, 앞으로 밀릴 노드도 예정되어 있기 때문에(...) 마음이 조급한 건 어쩔 수 없지만 최소한 마음만 급해서 노드 성취 버튼을 누르는 것에 의의를 두지 말고 하루에 적은 양의 페이지만 나가더라도 그 부분은 확실하게 이해하고 넘어가자. 그렇게 되면 그 노드는 다시 봐도 머릿속에 들어있다. 어쩔 수 없지만 상황이 좋아질 때 까지 욕심을 버릴 수 밖에 없을 것 같다. 조급하게 군다고 바뀌는 것도 없으니 최대한 이해하려는 노력은 해보자!  \n",
        "\n",
        "- 파이썬 기초 공부하기 \n",
        "    노드를 진행하다 보면 파이썬을 잘 알수록 도움이 많이 되는 것 같다. 풀잎스쿨은 끝났지만 아직 개인 사정으로 인해 파이썬을 못 끝냈으니 파이썬을 계속 공부할 필요가 있어보인다! 그런데 노드를 먼저 진행해야 할지, 아니면 파이썬을 먼저해야 할지 감이 안잡히는 부분이 있다. 이 부분은 퍼실님과 상의를 해보아도 좋을 것 같다!     \n",
        "\n",
        "- 통증을 줄이기 위해 노력하기 \n",
        "    이 부분은 내가 마음먹는다고 따라주지 않기 때문에 너무 곤란한다. 이건 내가 해결할 수 있는 부분은 아니지만, 지금 가장 필요한 부분이기 때문에 적어 보았다. 일단 큰 병원을 다니기로 마음 먹었기에 낫는 것에 집중해야 할 것 같다. 컨디션이 가장 중요하니 병원을 다니는 것 외에도 최대한 통증을 줄이기 위해 노력하고 수업에 잘 참여할 수 있도록 하자!  \n",
        "\n",
        "- 퍼실님들과 조원님들께 감사하기 \n",
        "    사실 퍼실님들께 매번 아프다고 말씀드리기 너무 죄송스럽다. 그럼에도 불구하고 항상 걱정해주시고 잘 챙겨주시는 퍼실님들께 정말 감사드린다. 오프라인으로 수업을 참여하지 못해도 조원분들이 워낙 잘 챙겨주시고 걱정해주셔서 소외감 같은건 사실 느껴지지 않고 학습 조 분위기도 너무 좋다. 그래서 정말 모든 분들에게 감사드린다. 혹여나 내가 그 와중에 자꾸 아파서 도움도 못되는데, 괜히 수업 분위기를 흐리는 것 같아 걱정이 되긴 한다. 얼른 상태가 좋아져서 조원님들과 오프라인으로 수업도 진행하고 싶고, 그분들의 학습에 도움이 되었으면 좋겠다!  "
      ],
      "metadata": {
        "id": "0GhE1wWVc28H"
      }
    }
  ]
}