{
  "cells": [
    {
      "cell_type": "markdown",
      "metadata": {
        "id": "view-in-github",
        "colab_type": "text"
      },
      "source": [
        "<a href=\"https://colab.research.google.com/github/9645258/aiffel/blob/main/02_nlp/%5BGD_12%5Dnlp.ipynb\" target=\"_parent\"><img src=\"https://colab.research.google.com/assets/colab-badge.svg\" alt=\"Open In Colab\"/></a>"
      ]
    },
    {
      "cell_type": "markdown",
      "id": "f41a39c6",
      "metadata": {
        "id": "f41a39c6"
      },
      "source": [
        "# **GD NLP 12 : 번역가는 대화에도 능하다**"
      ]
    },
    {
      "cell_type": "markdown",
      "id": "e3eb2299",
      "metadata": {
        "id": "e3eb2299"
      },
      "source": [
        "- **멋진 챗봇 만들기**"
      ]
    },
    {
      "cell_type": "markdown",
      "id": "c2c4286d",
      "metadata": {
        "id": "c2c4286d"
      },
      "source": [
        "- **챗봇 훈련데이터 전처리 과정이 체계적으로 진행되었는가?**  \n",
        "챗봇 훈련데이터를 위한 전처리와 augmentation이 적절히 수행되어 3만개 가량의 훈련데이터셋이 구축되었다.  \n",
        "\n",
        "- **transformer 모델을 활용한 챗봇 모델이 과적합을 피해 안정적으로 훈련되었는가?**  \n",
        "과적합을 피할 수 있는 하이퍼파라미터 셋이 적절히 제시되었다.  \n",
        "\n",
        "- **챗봇이 사용자의 질문에 그럴듯한 형태로 답하는 사례가 있는가?**  \n",
        "주어진 예문을 포함하여 챗봇에 던진 질문에 적절히 답하는 사례가 제출되었다.  \n"
      ]
    },
    {
      "cell_type": "markdown",
      "id": "2a58ca80",
      "metadata": {
        "id": "2a58ca80"
      },
      "source": [
        "## **1. 데이터 준비**"
      ]
    },
    {
      "cell_type": "markdown",
      "id": "dc80bdf3",
      "metadata": {
        "id": "dc80bdf3"
      },
      "source": [
        "### **1-1. 라이브러리 import**"
      ]
    },
    {
      "cell_type": "code",
      "execution_count": null,
      "id": "294be18c",
      "metadata": {
        "id": "294be18c"
      },
      "outputs": [],
      "source": [
        "import re\n",
        "import os\n",
        "import io\n",
        "import time\n",
        "import nltk\n",
        "import gensim\n",
        "import random\n",
        "import numpy as np\n",
        "import pandas as pd\n",
        "import tensorflow as tf\n",
        "\n",
        "from konlpy.tag import Mecab\n",
        "from tqdm.notebook import tqdm\n",
        "import matplotlib.pyplot as plt\n",
        "from collections import Counter\n",
        "from sklearn.model_selection import train_test_split\n",
        "from nltk.translate.bleu_score import sentence_bleu \n",
        "from nltk.translate.bleu_score import SmoothingFunction\n",
        "\n",
        "import warnings\n",
        "warnings.filterwarnings('ignore')"
      ]
    },
    {
      "cell_type": "markdown",
      "id": "4dabbb1c",
      "metadata": {
        "id": "4dabbb1c"
      },
      "source": [
        "### **1-2. 데이터 import**"
      ]
    },
    {
      "cell_type": "code",
      "execution_count": null,
      "id": "fdfb4c7f",
      "metadata": {
        "id": "fdfb4c7f"
      },
      "outputs": [],
      "source": [
        "dataset = pd.read_csv('~/aiffel/GD_12/data/ChatbotData .csv')"
      ]
    },
    {
      "cell_type": "markdown",
      "id": "6051ae17",
      "metadata": {
        "id": "6051ae17"
      },
      "source": [
        "### **1-3. 데이터 정제**"
      ]
    },
    {
      "cell_type": "markdown",
      "id": "fee2b9e8",
      "metadata": {
        "id": "fee2b9e8"
      },
      "source": [
        "- **데이터 확인**"
      ]
    },
    {
      "cell_type": "code",
      "execution_count": null,
      "id": "ec2e28d4",
      "metadata": {
        "id": "ec2e28d4",
        "outputId": "db7d1af9-b9f1-4a7e-c70c-9ee376f16679"
      },
      "outputs": [
        {
          "data": {
            "text/html": [
              "<div>\n",
              "<style scoped>\n",
              "    .dataframe tbody tr th:only-of-type {\n",
              "        vertical-align: middle;\n",
              "    }\n",
              "\n",
              "    .dataframe tbody tr th {\n",
              "        vertical-align: top;\n",
              "    }\n",
              "\n",
              "    .dataframe thead th {\n",
              "        text-align: right;\n",
              "    }\n",
              "</style>\n",
              "<table border=\"1\" class=\"dataframe\">\n",
              "  <thead>\n",
              "    <tr style=\"text-align: right;\">\n",
              "      <th></th>\n",
              "      <th>Q</th>\n",
              "      <th>A</th>\n",
              "      <th>label</th>\n",
              "    </tr>\n",
              "  </thead>\n",
              "  <tbody>\n",
              "    <tr>\n",
              "      <th>0</th>\n",
              "      <td>12시 땡!</td>\n",
              "      <td>하루가 또 가네요.</td>\n",
              "      <td>0</td>\n",
              "    </tr>\n",
              "    <tr>\n",
              "      <th>1</th>\n",
              "      <td>1지망 학교 떨어졌어</td>\n",
              "      <td>위로해 드립니다.</td>\n",
              "      <td>0</td>\n",
              "    </tr>\n",
              "    <tr>\n",
              "      <th>2</th>\n",
              "      <td>3박4일 놀러가고 싶다</td>\n",
              "      <td>여행은 언제나 좋죠.</td>\n",
              "      <td>0</td>\n",
              "    </tr>\n",
              "    <tr>\n",
              "      <th>3</th>\n",
              "      <td>3박4일 정도 놀러가고 싶다</td>\n",
              "      <td>여행은 언제나 좋죠.</td>\n",
              "      <td>0</td>\n",
              "    </tr>\n",
              "    <tr>\n",
              "      <th>4</th>\n",
              "      <td>PPL 심하네</td>\n",
              "      <td>눈살이 찌푸려지죠.</td>\n",
              "      <td>0</td>\n",
              "    </tr>\n",
              "    <tr>\n",
              "      <th>...</th>\n",
              "      <td>...</td>\n",
              "      <td>...</td>\n",
              "      <td>...</td>\n",
              "    </tr>\n",
              "    <tr>\n",
              "      <th>11818</th>\n",
              "      <td>훔쳐보는 것도 눈치 보임.</td>\n",
              "      <td>티가 나니까 눈치가 보이는 거죠!</td>\n",
              "      <td>2</td>\n",
              "    </tr>\n",
              "    <tr>\n",
              "      <th>11819</th>\n",
              "      <td>훔쳐보는 것도 눈치 보임.</td>\n",
              "      <td>훔쳐보는 거 티나나봐요.</td>\n",
              "      <td>2</td>\n",
              "    </tr>\n",
              "    <tr>\n",
              "      <th>11820</th>\n",
              "      <td>흑기사 해주는 짝남.</td>\n",
              "      <td>설렜겠어요.</td>\n",
              "      <td>2</td>\n",
              "    </tr>\n",
              "    <tr>\n",
              "      <th>11821</th>\n",
              "      <td>힘든 연애 좋은 연애라는게 무슨 차이일까?</td>\n",
              "      <td>잘 헤어질 수 있는 사이 여부인 거 같아요.</td>\n",
              "      <td>2</td>\n",
              "    </tr>\n",
              "    <tr>\n",
              "      <th>11822</th>\n",
              "      <td>힘들어서 결혼할까봐</td>\n",
              "      <td>도피성 결혼은 하지 않길 바라요.</td>\n",
              "      <td>2</td>\n",
              "    </tr>\n",
              "  </tbody>\n",
              "</table>\n",
              "<p>11823 rows × 3 columns</p>\n",
              "</div>"
            ],
            "text/plain": [
              "                             Q                         A  label\n",
              "0                       12시 땡!                하루가 또 가네요.      0\n",
              "1                  1지망 학교 떨어졌어                 위로해 드립니다.      0\n",
              "2                 3박4일 놀러가고 싶다               여행은 언제나 좋죠.      0\n",
              "3              3박4일 정도 놀러가고 싶다               여행은 언제나 좋죠.      0\n",
              "4                      PPL 심하네                눈살이 찌푸려지죠.      0\n",
              "...                        ...                       ...    ...\n",
              "11818           훔쳐보는 것도 눈치 보임.        티가 나니까 눈치가 보이는 거죠!      2\n",
              "11819           훔쳐보는 것도 눈치 보임.             훔쳐보는 거 티나나봐요.      2\n",
              "11820              흑기사 해주는 짝남.                    설렜겠어요.      2\n",
              "11821  힘든 연애 좋은 연애라는게 무슨 차이일까?  잘 헤어질 수 있는 사이 여부인 거 같아요.      2\n",
              "11822               힘들어서 결혼할까봐        도피성 결혼은 하지 않길 바라요.      2\n",
              "\n",
              "[11823 rows x 3 columns]"
            ]
          },
          "execution_count": 3,
          "metadata": {},
          "output_type": "execute_result"
        }
      ],
      "source": [
        "dataset"
      ]
    },
    {
      "cell_type": "markdown",
      "id": "97f1d027",
      "metadata": {
        "id": "97f1d027"
      },
      "source": [
        "- **총 데이터 수 확인**"
      ]
    },
    {
      "cell_type": "code",
      "execution_count": null,
      "id": "22e41933",
      "metadata": {
        "scrolled": true,
        "id": "22e41933",
        "outputId": "6ed7f185-1b16-4b6d-fdf2-9130bc46f33a"
      },
      "outputs": [
        {
          "data": {
            "text/plain": [
              "11823"
            ]
          },
          "execution_count": 4,
          "metadata": {},
          "output_type": "execute_result"
        }
      ],
      "source": [
        "len(dataset)"
      ]
    },
    {
      "cell_type": "markdown",
      "id": "88b3a2b4",
      "metadata": {
        "id": "88b3a2b4"
      },
      "source": [
        "- **불필요 컬럼 삭제**"
      ]
    },
    {
      "cell_type": "code",
      "execution_count": null,
      "id": "1eb9a76c",
      "metadata": {
        "id": "1eb9a76c"
      },
      "outputs": [],
      "source": [
        "dataset.drop(('label'), axis = 'columns', inplace = True)"
      ]
    },
    {
      "cell_type": "markdown",
      "id": "59352c63",
      "metadata": {
        "id": "59352c63"
      },
      "source": [
        "- **데이터 확인**"
      ]
    },
    {
      "cell_type": "code",
      "execution_count": null,
      "id": "b727a720",
      "metadata": {
        "scrolled": true,
        "id": "b727a720",
        "outputId": "299efbcd-2c20-4935-94e9-6525fd23ebc9"
      },
      "outputs": [
        {
          "data": {
            "text/html": [
              "<div>\n",
              "<style scoped>\n",
              "    .dataframe tbody tr th:only-of-type {\n",
              "        vertical-align: middle;\n",
              "    }\n",
              "\n",
              "    .dataframe tbody tr th {\n",
              "        vertical-align: top;\n",
              "    }\n",
              "\n",
              "    .dataframe thead th {\n",
              "        text-align: right;\n",
              "    }\n",
              "</style>\n",
              "<table border=\"1\" class=\"dataframe\">\n",
              "  <thead>\n",
              "    <tr style=\"text-align: right;\">\n",
              "      <th></th>\n",
              "      <th>Q</th>\n",
              "      <th>A</th>\n",
              "    </tr>\n",
              "  </thead>\n",
              "  <tbody>\n",
              "    <tr>\n",
              "      <th>6687</th>\n",
              "      <td>설레였던게 언젠인지</td>\n",
              "      <td>곧 설레는 순간이 올 거예요.</td>\n",
              "    </tr>\n",
              "    <tr>\n",
              "      <th>5342</th>\n",
              "      <td>3개월째</td>\n",
              "      <td>아프지 마요.</td>\n",
              "    </tr>\n",
              "    <tr>\n",
              "      <th>9168</th>\n",
              "      <td>나는 아직 고백안했는데 소문이 나서 짝남이 알게 됐어.</td>\n",
              "      <td>많이 당황했겠어요.</td>\n",
              "    </tr>\n",
              "    <tr>\n",
              "      <th>3791</th>\n",
              "      <td>인턴하고 싶어</td>\n",
              "      <td>얼른 알아보세요.</td>\n",
              "    </tr>\n",
              "    <tr>\n",
              "      <th>3649</th>\n",
              "      <td>이 무리에 낀게 잘못인가</td>\n",
              "      <td>지금도 늦지 않았어요.</td>\n",
              "    </tr>\n",
              "    <tr>\n",
              "      <th>9020</th>\n",
              "      <td>관심있는 여자애한테 의미있는 선물을 주고 싶은데 뭘 주면 좋아할까요?</td>\n",
              "      <td>필요한 게 뭔지 살펴보세요.</td>\n",
              "    </tr>\n",
              "    <tr>\n",
              "      <th>11100</th>\n",
              "      <td>좋아하는 사람 환심 살 수 있는 방법 좀.</td>\n",
              "      <td>그 분이 좋아하는 것을 알아봐요.</td>\n",
              "    </tr>\n",
              "    <tr>\n",
              "      <th>5571</th>\n",
              "      <td>괜찮은게 아닌가봐</td>\n",
              "      <td>안 괜찮아도 돼요.</td>\n",
              "    </tr>\n",
              "    <tr>\n",
              "      <th>6048</th>\n",
              "      <td>다시 사랑한다고 했는데.</td>\n",
              "      <td>마음이 허전하가봐요.</td>\n",
              "    </tr>\n",
              "    <tr>\n",
              "      <th>9551</th>\n",
              "      <td>너무 사랑하는데 동거해도될까?</td>\n",
              "      <td>책임질 수 있다면 하고 싶은 대로 하세요.</td>\n",
              "    </tr>\n",
              "  </tbody>\n",
              "</table>\n",
              "</div>"
            ],
            "text/plain": [
              "                                            Q                        A\n",
              "6687                               설레였던게 언젠인지         곧 설레는 순간이 올 거예요.\n",
              "5342                                     3개월째                  아프지 마요.\n",
              "9168           나는 아직 고백안했는데 소문이 나서 짝남이 알게 됐어.               많이 당황했겠어요.\n",
              "3791                                  인턴하고 싶어                얼른 알아보세요.\n",
              "3649                            이 무리에 낀게 잘못인가             지금도 늦지 않았어요.\n",
              "9020   관심있는 여자애한테 의미있는 선물을 주고 싶은데 뭘 주면 좋아할까요?          필요한 게 뭔지 살펴보세요.\n",
              "11100                 좋아하는 사람 환심 살 수 있는 방법 좀.       그 분이 좋아하는 것을 알아봐요.\n",
              "5571                                괜찮은게 아닌가봐               안 괜찮아도 돼요.\n",
              "6048                            다시 사랑한다고 했는데.              마음이 허전하가봐요.\n",
              "9551                         너무 사랑하는데 동거해도될까?  책임질 수 있다면 하고 싶은 대로 하세요."
            ]
          },
          "metadata": {},
          "output_type": "display_data"
        }
      ],
      "source": [
        "display(dataset.sample(10))"
      ]
    },
    {
      "cell_type": "markdown",
      "id": "b6979c82",
      "metadata": {
        "id": "b6979c82"
      },
      "source": [
        "- **데이터 정보 확인**  \n",
        "    - 총 데이터 수: 11,823개\n",
        "    - 결측치: 0개  \n",
        "    - 중복 데이터: 73개  "
      ]
    },
    {
      "cell_type": "code",
      "execution_count": null,
      "id": "0c2b19f3",
      "metadata": {
        "id": "0c2b19f3",
        "outputId": "08a0d657-fa2e-410d-9683-3819d318d85a"
      },
      "outputs": [
        {
          "name": "stdout",
          "output_type": "stream",
          "text": [
            "<class 'pandas.core.frame.DataFrame'>\n",
            "RangeIndex: 11823 entries, 0 to 11822\n",
            "Data columns (total 2 columns):\n",
            " #   Column  Non-Null Count  Dtype \n",
            "---  ------  --------------  ----- \n",
            " 0   Q       11823 non-null  object\n",
            " 1   A       11823 non-null  object\n",
            "dtypes: object(2)\n",
            "memory usage: 184.9+ KB\n",
            "Dupliacted Data Num: 73\n"
          ]
        }
      ],
      "source": [
        "dataset.info()\n",
        "dup = dataset.duplicated()\n",
        "dup = dup.value_counts()[True]\n",
        "\n",
        "print(f\"Dupliacted Data Num: {dup:,}\")"
      ]
    },
    {
      "cell_type": "markdown",
      "id": "53ef5739",
      "metadata": {
        "id": "53ef5739"
      },
      "source": [
        "- **중복 데이터 제거**"
      ]
    },
    {
      "cell_type": "code",
      "execution_count": null,
      "id": "f5f7f86b",
      "metadata": {
        "id": "f5f7f86b",
        "outputId": "517d752e-28ff-4357-f96e-016ba4a0c64c"
      },
      "outputs": [
        {
          "name": "stdout",
          "output_type": "stream",
          "text": [
            "최종 데이터 수: 11750개\n"
          ]
        }
      ],
      "source": [
        "dataset.drop_duplicates(inplace = True)\n",
        "print(f\"최종 데이터 수: {len(dataset)}개\")"
      ]
    },
    {
      "cell_type": "markdown",
      "id": "41566a4d",
      "metadata": {
        "id": "41566a4d"
      },
      "source": [
        "### **1-4. 데이터 정규화**"
      ]
    },
    {
      "cell_type": "markdown",
      "id": "e7c78856",
      "metadata": {
        "id": "e7c78856"
      },
      "source": [
        "- **영문 소문자화 및 영어, 한글, 숫자, 주요 특수문자 제외 모든 문자 제거 함수 제작**  "
      ]
    },
    {
      "cell_type": "code",
      "execution_count": null,
      "id": "eafab7e5",
      "metadata": {
        "id": "eafab7e5"
      },
      "outputs": [],
      "source": [
        "def preprocess_sentence(sentence):\n",
        "    sentence = sentence.lower().strip()\n",
        "    \n",
        "    sentence = re.sub(r\"([0-9?.!,])\", r\" \\1 \", sentence)\n",
        "    sentence = re.sub(r'[\" \"]+', \" \", sentence)\n",
        "    sentence = re.sub(r\"[^a-zA-Z0-9ㄱ-ㅎ|가-힣?.!,]+\", \" \", sentence)\n",
        "    sentence = sentence.strip()\n",
        "    \n",
        "    return sentence"
      ]
    },
    {
      "cell_type": "markdown",
      "id": "c8b7c80e",
      "metadata": {
        "id": "c8b7c80e"
      },
      "source": [
        "- **데이터 정규화**"
      ]
    },
    {
      "cell_type": "code",
      "execution_count": null,
      "id": "d3b4255e",
      "metadata": {
        "id": "d3b4255e"
      },
      "outputs": [],
      "source": [
        "dataset[\"Q\"] = dataset[\"Q\"].apply(preprocess_sentence)\n",
        "dataset[\"A\"] = dataset[\"A\"].apply(preprocess_sentence)"
      ]
    },
    {
      "cell_type": "markdown",
      "id": "8d716e43",
      "metadata": {
        "id": "8d716e43"
      },
      "source": [
        "- **데이터 확인**"
      ]
    },
    {
      "cell_type": "code",
      "execution_count": null,
      "id": "07bfe097",
      "metadata": {
        "scrolled": false,
        "id": "07bfe097",
        "outputId": "fdae3386-2c8b-4864-a549-d5988aaff4dd"
      },
      "outputs": [
        {
          "data": {
            "text/html": [
              "<div>\n",
              "<style scoped>\n",
              "    .dataframe tbody tr th:only-of-type {\n",
              "        vertical-align: middle;\n",
              "    }\n",
              "\n",
              "    .dataframe tbody tr th {\n",
              "        vertical-align: top;\n",
              "    }\n",
              "\n",
              "    .dataframe thead th {\n",
              "        text-align: right;\n",
              "    }\n",
              "</style>\n",
              "<table border=\"1\" class=\"dataframe\">\n",
              "  <thead>\n",
              "    <tr style=\"text-align: right;\">\n",
              "      <th></th>\n",
              "      <th>Q</th>\n",
              "      <th>A</th>\n",
              "    </tr>\n",
              "  </thead>\n",
              "  <tbody>\n",
              "    <tr>\n",
              "      <th>0</th>\n",
              "      <td>1 2 시 땡 !</td>\n",
              "      <td>하루가 또 가네요 .</td>\n",
              "    </tr>\n",
              "    <tr>\n",
              "      <th>1</th>\n",
              "      <td>1 지망 학교 떨어졌어</td>\n",
              "      <td>위로해 드립니다 .</td>\n",
              "    </tr>\n",
              "    <tr>\n",
              "      <th>2</th>\n",
              "      <td>3 박 4 일 놀러가고 싶다</td>\n",
              "      <td>여행은 언제나 좋죠 .</td>\n",
              "    </tr>\n",
              "    <tr>\n",
              "      <th>3</th>\n",
              "      <td>3 박 4 일 정도 놀러가고 싶다</td>\n",
              "      <td>여행은 언제나 좋죠 .</td>\n",
              "    </tr>\n",
              "    <tr>\n",
              "      <th>4</th>\n",
              "      <td>ppl 심하네</td>\n",
              "      <td>눈살이 찌푸려지죠 .</td>\n",
              "    </tr>\n",
              "    <tr>\n",
              "      <th>5</th>\n",
              "      <td>sd카드 망가졌어</td>\n",
              "      <td>다시 새로 사는 게 마음 편해요 .</td>\n",
              "    </tr>\n",
              "    <tr>\n",
              "      <th>6</th>\n",
              "      <td>sd카드 안돼</td>\n",
              "      <td>다시 새로 사는 게 마음 편해요 .</td>\n",
              "    </tr>\n",
              "    <tr>\n",
              "      <th>7</th>\n",
              "      <td>sns 맞팔 왜 안하지</td>\n",
              "      <td>잘 모르고 있을 수도 있어요 .</td>\n",
              "    </tr>\n",
              "    <tr>\n",
              "      <th>8</th>\n",
              "      <td>sns 시간낭비인 거 아는데 매일 하는 중</td>\n",
              "      <td>시간을 정하고 해보세요 .</td>\n",
              "    </tr>\n",
              "    <tr>\n",
              "      <th>9</th>\n",
              "      <td>sns 시간낭비인데 자꾸 보게됨</td>\n",
              "      <td>시간을 정하고 해보세요 .</td>\n",
              "    </tr>\n",
              "  </tbody>\n",
              "</table>\n",
              "</div>"
            ],
            "text/plain": [
              "                         Q                    A\n",
              "0                1 2 시 땡 !          하루가 또 가네요 .\n",
              "1             1 지망 학교 떨어졌어           위로해 드립니다 .\n",
              "2          3 박 4 일 놀러가고 싶다         여행은 언제나 좋죠 .\n",
              "3       3 박 4 일 정도 놀러가고 싶다         여행은 언제나 좋죠 .\n",
              "4                  ppl 심하네          눈살이 찌푸려지죠 .\n",
              "5                sd카드 망가졌어  다시 새로 사는 게 마음 편해요 .\n",
              "6                  sd카드 안돼  다시 새로 사는 게 마음 편해요 .\n",
              "7             sns 맞팔 왜 안하지    잘 모르고 있을 수도 있어요 .\n",
              "8  sns 시간낭비인 거 아는데 매일 하는 중       시간을 정하고 해보세요 .\n",
              "9        sns 시간낭비인데 자꾸 보게됨       시간을 정하고 해보세요 ."
            ]
          },
          "metadata": {},
          "output_type": "display_data"
        }
      ],
      "source": [
        "display(dataset.head(10))"
      ]
    },
    {
      "cell_type": "markdown",
      "id": "543b7cdd",
      "metadata": {
        "id": "543b7cdd"
      },
      "source": [
        "### **1-5. 데이터 토큰화**"
      ]
    },
    {
      "cell_type": "markdown",
      "id": "1b022f56",
      "metadata": {
        "id": "1b022f56"
      },
      "source": [
        "- **Mecab을 활용한 토큰화**"
      ]
    },
    {
      "cell_type": "code",
      "execution_count": null,
      "id": "0557c0f8",
      "metadata": {
        "id": "0557c0f8"
      },
      "outputs": [],
      "source": [
        "m = Mecab()"
      ]
    },
    {
      "cell_type": "code",
      "execution_count": null,
      "id": "cd89380d",
      "metadata": {
        "id": "cd89380d"
      },
      "outputs": [],
      "source": [
        "dataset[\"Q\"] = dataset[\"Q\"].apply(lambda x: \" \".join(m.morphs(x)))\n",
        "dataset[\"A\"] = dataset[\"A\"].apply(lambda x: \" \".join(m.morphs(x)))"
      ]
    },
    {
      "cell_type": "markdown",
      "id": "d31a0763",
      "metadata": {
        "id": "d31a0763"
      },
      "source": [
        "- **데이터 확인**"
      ]
    },
    {
      "cell_type": "code",
      "execution_count": null,
      "id": "1a0adb3c",
      "metadata": {
        "id": "1a0adb3c",
        "outputId": "65a2ae43-dd4e-4b58-94e9-e6b0c9ba6591"
      },
      "outputs": [
        {
          "data": {
            "text/html": [
              "<div>\n",
              "<style scoped>\n",
              "    .dataframe tbody tr th:only-of-type {\n",
              "        vertical-align: middle;\n",
              "    }\n",
              "\n",
              "    .dataframe tbody tr th {\n",
              "        vertical-align: top;\n",
              "    }\n",
              "\n",
              "    .dataframe thead th {\n",
              "        text-align: right;\n",
              "    }\n",
              "</style>\n",
              "<table border=\"1\" class=\"dataframe\">\n",
              "  <thead>\n",
              "    <tr style=\"text-align: right;\">\n",
              "      <th></th>\n",
              "      <th>Q</th>\n",
              "      <th>A</th>\n",
              "    </tr>\n",
              "  </thead>\n",
              "  <tbody>\n",
              "    <tr>\n",
              "      <th>76</th>\n",
              "      <td>같이 수영장 가 기 로 했 어</td>\n",
              "      <td>즐거운 시간 보내 고 오 세요 !</td>\n",
              "    </tr>\n",
              "    <tr>\n",
              "      <th>10304</th>\n",
              "      <td>썸남 이 춥 다고 옷 잠궈 주 는 데 설레 .</td>\n",
              "      <td>다정 한 사람 이 네요 .</td>\n",
              "    </tr>\n",
              "    <tr>\n",
              "      <th>1729</th>\n",
              "      <td>목표 가 없 어</td>\n",
              "      <td>목표 는 있 으면 좋 겠 지만 없 다고 미리 걱정 할 필요 없 어요 . 생길 거 예요 .</td>\n",
              "    </tr>\n",
              "    <tr>\n",
              "      <th>10940</th>\n",
              "      <td>인연 이 있 다고 생각 해 ?</td>\n",
              "      <td>저 랑 당신 도 인연 이 죠 .</td>\n",
              "    </tr>\n",
              "    <tr>\n",
              "      <th>9122</th>\n",
              "      <td>나 부담 스러워 하 면 어쩌 지 ?</td>\n",
              "      <td>좀 더 편안 하 게 대해 보 세요 .</td>\n",
              "    </tr>\n",
              "    <tr>\n",
              "      <th>4420</th>\n",
              "      <td>차 팔 았 더니 불편 하 네</td>\n",
              "      <td>불편 함 을 조금 감수 해 보 세요 .</td>\n",
              "    </tr>\n",
              "    <tr>\n",
              "      <th>5423</th>\n",
              "      <td>sns 에서 다른 이성 이랑 대화 하 는 걸 보 니 화 가 나</td>\n",
              "      <td>sns 보 지 마세요 .</td>\n",
              "    </tr>\n",
              "    <tr>\n",
              "      <th>3337</th>\n",
              "      <td>오늘 도 평온 해</td>\n",
              "      <td>내일 도 평온 하 길 바라 요 .</td>\n",
              "    </tr>\n",
              "    <tr>\n",
              "      <th>4580</th>\n",
              "      <td>치맥 먹 으면서 축구 봐야지</td>\n",
              "      <td>보다 보 면 재미있 어요 .</td>\n",
              "    </tr>\n",
              "    <tr>\n",
              "      <th>11636</th>\n",
              "      <td>차 없 으면 데이트 못 해 ?</td>\n",
              "      <td>걸어다니 면서 하 는 데이트 가 진정한 데이트 죠 .</td>\n",
              "    </tr>\n",
              "  </tbody>\n",
              "</table>\n",
              "</div>"
            ],
            "text/plain": [
              "                                        Q  \\\n",
              "76                       같이 수영장 가 기 로 했 어   \n",
              "10304           썸남 이 춥 다고 옷 잠궈 주 는 데 설레 .   \n",
              "1729                             목표 가 없 어   \n",
              "10940                    인연 이 있 다고 생각 해 ?   \n",
              "9122                  나 부담 스러워 하 면 어쩌 지 ?   \n",
              "4420                      차 팔 았 더니 불편 하 네   \n",
              "5423   sns 에서 다른 이성 이랑 대화 하 는 걸 보 니 화 가 나   \n",
              "3337                            오늘 도 평온 해   \n",
              "4580                      치맥 먹 으면서 축구 봐야지   \n",
              "11636                    차 없 으면 데이트 못 해 ?   \n",
              "\n",
              "                                                       A  \n",
              "76                                    즐거운 시간 보내 고 오 세요 !  \n",
              "10304                                     다정 한 사람 이 네요 .  \n",
              "1729   목표 는 있 으면 좋 겠 지만 없 다고 미리 걱정 할 필요 없 어요 . 생길 거 예요 .  \n",
              "10940                                  저 랑 당신 도 인연 이 죠 .  \n",
              "9122                                좀 더 편안 하 게 대해 보 세요 .  \n",
              "4420                               불편 함 을 조금 감수 해 보 세요 .  \n",
              "5423                                       sns 보 지 마세요 .  \n",
              "3337                                  내일 도 평온 하 길 바라 요 .  \n",
              "4580                                     보다 보 면 재미있 어요 .  \n",
              "11636                      걸어다니 면서 하 는 데이트 가 진정한 데이트 죠 .  "
            ]
          },
          "metadata": {},
          "output_type": "display_data"
        }
      ],
      "source": [
        "display(dataset.sample(10))"
      ]
    },
    {
      "cell_type": "markdown",
      "id": "c7f79469",
      "metadata": {
        "id": "c7f79469"
      },
      "source": [
        "- **디코더 문장 시작/끝 토큰 추가**"
      ]
    },
    {
      "cell_type": "code",
      "execution_count": null,
      "id": "f9bb677b",
      "metadata": {
        "id": "f9bb677b"
      },
      "outputs": [],
      "source": [
        "dataset[\"A\"] = dataset[\"A\"].apply(lambda x: \"<sos> \" + x + \" <eos>\")"
      ]
    },
    {
      "cell_type": "markdown",
      "id": "aad8584c",
      "metadata": {
        "id": "aad8584c"
      },
      "source": [
        "- **데이터 확인**"
      ]
    },
    {
      "cell_type": "code",
      "execution_count": null,
      "id": "4411bd32",
      "metadata": {
        "scrolled": false,
        "id": "4411bd32",
        "outputId": "5c4ea62d-be1c-46ec-f620-ce6c96dced0f"
      },
      "outputs": [
        {
          "data": {
            "text/html": [
              "<div>\n",
              "<style scoped>\n",
              "    .dataframe tbody tr th:only-of-type {\n",
              "        vertical-align: middle;\n",
              "    }\n",
              "\n",
              "    .dataframe tbody tr th {\n",
              "        vertical-align: top;\n",
              "    }\n",
              "\n",
              "    .dataframe thead th {\n",
              "        text-align: right;\n",
              "    }\n",
              "</style>\n",
              "<table border=\"1\" class=\"dataframe\">\n",
              "  <thead>\n",
              "    <tr style=\"text-align: right;\">\n",
              "      <th></th>\n",
              "      <th>Q</th>\n",
              "      <th>A</th>\n",
              "    </tr>\n",
              "  </thead>\n",
              "  <tbody>\n",
              "    <tr>\n",
              "      <th>2413</th>\n",
              "      <td>생리통 너무 심해</td>\n",
              "      <td>&lt;sos&gt; 약 을 먹 거나 병원 에 가 보 세요 . &lt;eos&gt;</td>\n",
              "    </tr>\n",
              "    <tr>\n",
              "      <th>5533</th>\n",
              "      <td>계속 시간 을 갖 자는 의미 는 뭔가 ?</td>\n",
              "      <td>&lt;sos&gt; 생각 할 시간 과 정리 할 시간 이 필요 하 다는 거 겠 죠 . &lt;eos&gt;</td>\n",
              "    </tr>\n",
              "    <tr>\n",
              "      <th>11686</th>\n",
              "      <td>친구 결혼식 에서 축가 준비 중</td>\n",
              "      <td>&lt;sos&gt; 친구 가 좋 아 하 겠 어요 . &lt;eos&gt;</td>\n",
              "    </tr>\n",
              "    <tr>\n",
              "      <th>8239</th>\n",
              "      <td>집착 은 절대 하 지 말 아야지</td>\n",
              "      <td>&lt;sos&gt; 잘 하 고 있 어요 . &lt;eos&gt;</td>\n",
              "    </tr>\n",
              "    <tr>\n",
              "      <th>10473</th>\n",
              "      <td>약속 을 계속 미루 는 썸남</td>\n",
              "      <td>&lt;sos&gt; 약속 을 소홀히 생각 하 는 사람 은 믿음직 스럽 지 못해요 . &lt;eos&gt;</td>\n",
              "    </tr>\n",
              "    <tr>\n",
              "      <th>9308</th>\n",
              "      <td>남자 친구 가 너무 객관 적 이 야 .</td>\n",
              "      <td>&lt;sos&gt; 좀 더 내 편 이 되 어 달 라고 해 보 세요 . &lt;eos&gt;</td>\n",
              "    </tr>\n",
              "    <tr>\n",
              "      <th>10530</th>\n",
              "      <td>여자 가 더 사랑 해서 한 결혼</td>\n",
              "      <td>&lt;sos&gt; 누가 더 사랑 하 는지 는 상관 없 어요 . &lt;eos&gt;</td>\n",
              "    </tr>\n",
              "    <tr>\n",
              "      <th>440</th>\n",
              "      <td>꽃다발 준비 했 어</td>\n",
              "      <td>&lt;sos&gt; 멋진 선물 이 네요 . &lt;eos&gt;</td>\n",
              "    </tr>\n",
              "    <tr>\n",
              "      <th>627</th>\n",
              "      <td>나 만 뒤처지 는 느낌 이 야</td>\n",
              "      <td>&lt;sos&gt; 스스로 경쟁 해야 하 고 이겨야 한다는 강박 관념 에 사로잡히 지 마세요...</td>\n",
              "    </tr>\n",
              "    <tr>\n",
              "      <th>4183</th>\n",
              "      <td>조카 입학 선물</td>\n",
              "      <td>&lt;sos&gt; 가방 은 어때요 . &lt;eos&gt;</td>\n",
              "    </tr>\n",
              "  </tbody>\n",
              "</table>\n",
              "</div>"
            ],
            "text/plain": [
              "                            Q  \\\n",
              "2413                생리통 너무 심해   \n",
              "5533   계속 시간 을 갖 자는 의미 는 뭔가 ?   \n",
              "11686       친구 결혼식 에서 축가 준비 중   \n",
              "8239        집착 은 절대 하 지 말 아야지   \n",
              "10473         약속 을 계속 미루 는 썸남   \n",
              "9308    남자 친구 가 너무 객관 적 이 야 .   \n",
              "10530       여자 가 더 사랑 해서 한 결혼   \n",
              "440                꽃다발 준비 했 어   \n",
              "627          나 만 뒤처지 는 느낌 이 야   \n",
              "4183                 조카 입학 선물   \n",
              "\n",
              "                                                       A  \n",
              "2413                  <sos> 약 을 먹 거나 병원 에 가 보 세요 . <eos>  \n",
              "5533     <sos> 생각 할 시간 과 정리 할 시간 이 필요 하 다는 거 겠 죠 . <eos>  \n",
              "11686                      <sos> 친구 가 좋 아 하 겠 어요 . <eos>  \n",
              "8239                            <sos> 잘 하 고 있 어요 . <eos>  \n",
              "10473    <sos> 약속 을 소홀히 생각 하 는 사람 은 믿음직 스럽 지 못해요 . <eos>  \n",
              "9308             <sos> 좀 더 내 편 이 되 어 달 라고 해 보 세요 . <eos>  \n",
              "10530               <sos> 누가 더 사랑 하 는지 는 상관 없 어요 . <eos>  \n",
              "440                             <sos> 멋진 선물 이 네요 . <eos>  \n",
              "627    <sos> 스스로 경쟁 해야 하 고 이겨야 한다는 강박 관념 에 사로잡히 지 마세요...  \n",
              "4183                              <sos> 가방 은 어때요 . <eos>  "
            ]
          },
          "metadata": {},
          "output_type": "display_data"
        }
      ],
      "source": [
        "display(dataset.sample(10))"
      ]
    },
    {
      "cell_type": "markdown",
      "id": "d41df112",
      "metadata": {
        "id": "d41df112"
      },
      "source": [
        "- **토크나이저 생성**"
      ]
    },
    {
      "cell_type": "code",
      "execution_count": null,
      "id": "7b8a024b",
      "metadata": {
        "id": "7b8a024b"
      },
      "outputs": [],
      "source": [
        "def get_tokenizer(corpus, vocab_size):\n",
        "    tokenizer = tf.keras.preprocessing.text.Tokenizer(\n",
        "        filters='',\n",
        "        oov_token=\"<UNK>\",\n",
        "        num_words=vocab_size\n",
        "    )\n",
        "    corpus_input = [sentence.split() for sentence in corpus]\n",
        "    tokenizer.fit_on_texts(corpus_input)\n",
        "    \n",
        "    if vocab_size is not None:\n",
        "        words_frequency = [w for w,c in tokenizer.word_index.items() if c >= vocab_size + 1]\n",
        "        for w in words_frequency:\n",
        "            del tokenizer.word_index[w]\n",
        "            del tokenizer.word_counts[w]\n",
        "    \n",
        "    return tokenizer\n",
        "\n",
        "concat = pd.concat([dataset[\"Q\"], dataset[\"A\"]])\n",
        "tokenizer = get_tokenizer(concat, None)"
      ]
    },
    {
      "cell_type": "markdown",
      "id": "cd942407",
      "metadata": {
        "id": "cd942407"
      },
      "source": [
        "- **토큰 수 확인**"
      ]
    },
    {
      "cell_type": "code",
      "execution_count": null,
      "id": "a9ac5c77",
      "metadata": {
        "id": "a9ac5c77",
        "outputId": "663d8dc6-30d0-4dd2-e8bd-69e85be18253"
      },
      "outputs": [
        {
          "name": "stdout",
          "output_type": "stream",
          "text": [
            "6810\n"
          ]
        }
      ],
      "source": [
        "print(len(tokenizer.word_index))"
      ]
    },
    {
      "cell_type": "markdown",
      "id": "74a8740b",
      "metadata": {
        "id": "74a8740b"
      },
      "source": [
        "- **문장 정수화**"
      ]
    },
    {
      "cell_type": "code",
      "execution_count": null,
      "id": "eeb7aee6",
      "metadata": {
        "id": "eeb7aee6"
      },
      "outputs": [],
      "source": [
        "def encoding_sentence(copus, tokenizer):\n",
        "    tensor = tokenizer.texts_to_sequences(copus)\n",
        "    tensor = tf.keras.preprocessing.sequence.pad_sequences(tensor, padding = 'post')\n",
        "    return tensor"
      ]
    },
    {
      "cell_type": "code",
      "execution_count": null,
      "id": "38bebbec",
      "metadata": {
        "id": "38bebbec"
      },
      "outputs": [],
      "source": [
        "enc_tensor = encoding_sentence(dataset[\"Q\"], tokenizer)\n",
        "dec_tensor = encoding_sentence(dataset[\"A\"], tokenizer)"
      ]
    },
    {
      "cell_type": "markdown",
      "id": "68de48c4",
      "metadata": {
        "id": "68de48c4"
      },
      "source": [
        "- **문장 정수화 확인**"
      ]
    },
    {
      "cell_type": "code",
      "execution_count": null,
      "id": "f07fd211",
      "metadata": {
        "id": "f07fd211",
        "outputId": "7aff4ac9-09b0-4d1f-88cb-f114e9c121fa"
      },
      "outputs": [
        {
          "data": {
            "text/plain": [
              "array([[ 206,  241,  174, ...,    0,    0,    0],\n",
              "       [ 206, 3322,  531, ...,    0,    0,    0],\n",
              "       [ 266, 2061,  458, ...,    0,    0,    0],\n",
              "       ...,\n",
              "       [6250,   15,   55, ...,    0,    0,    0],\n",
              "       [ 207,  111,   13, ...,    0,    0,    0],\n",
              "       [  70,  278,  157, ...,    0,    0,    0]], dtype=int32)"
            ]
          },
          "execution_count": 21,
          "metadata": {},
          "output_type": "execute_result"
        }
      ],
      "source": [
        "enc_tensor"
      ]
    },
    {
      "cell_type": "code",
      "execution_count": null,
      "id": "36879a13",
      "metadata": {
        "id": "36879a13",
        "outputId": "dd7c1e4a-0f93-4c73-d1d6-c53dfe980cc2"
      },
      "outputs": [
        {
          "data": {
            "text/plain": [
              "array([[   3,  249,    9, ...,    0,    0,    0],\n",
              "       [   3,  522,   15, ...,    0,    0,    0],\n",
              "       [   3,  238,   18, ...,    0,    0,    0],\n",
              "       ...,\n",
              "       [   3, 2275,   25, ...,    0,    0,    0],\n",
              "       [   3,   49, 1609, ...,    0,    0,    0],\n",
              "       [   3, 4610,  157, ...,    0,    0,    0]], dtype=int32)"
            ]
          },
          "execution_count": 22,
          "metadata": {},
          "output_type": "execute_result"
        }
      ],
      "source": [
        "dec_tensor"
      ]
    },
    {
      "cell_type": "markdown",
      "id": "db449f49",
      "metadata": {
        "id": "db449f49"
      },
      "source": [
        "- **데이터 빈도 시각화 함수 제작**"
      ]
    },
    {
      "cell_type": "code",
      "execution_count": null,
      "id": "26fa47ee",
      "metadata": {
        "id": "26fa47ee"
      },
      "outputs": [],
      "source": [
        "def show_sentence_length(sentence_num, title, range_=[0, 500]):\n",
        "    plt.figure(figsize=(13, 5))\n",
        "    plt.suptitle(title, fontsize=14)\n",
        "    \n",
        "    plt.subplot(1, 2, 1)\n",
        "    plt.hist(sentence_num, bins=range_[1], range=range_, facecolor='b', label='train')\n",
        "    plt.xlabel('Number of question')\n",
        "    plt.ylabel('Count of question')\n",
        "    \n",
        "    plt.subplot(1, 2, 2)\n",
        "    plt.boxplot(sentence_num, labels=['token counts'], showmeans=True)\n",
        "\n",
        "    plt.show()\n",
        "    \n",
        "    print(f\"최대 길이: {np.max(sentence_num):d}\")\n",
        "    print(f\"최소 길이: {np.min(sentence_num):d}\")\n",
        "    print(f\"평균 길이: {np.mean(sentence_num):.3f}\")\n",
        "    print(f\"표준편차: {np.std(sentence_num):.3f}\", end = \"\\n\\n\")\n",
        "    \n",
        "    percentile25 = np.percentile(sentence_num, 25)\n",
        "    percentile50 = np.percentile(sentence_num, 50)\n",
        "    percentile75 = np.percentile(sentence_num, 75)\n",
        "    percentileIQR = percentile75 - percentile25\n",
        "    percentileMAX = percentile75 + percentileIQR * 1.5\n",
        "    \n",
        "    print(f\"25%: {percentile25:.3f}\")\n",
        "    print(f\"50%: {percentile50:.3f}\")\n",
        "    print(f\"75%: {percentile75:.3f}\")\n",
        "    print(f\"100%: {percentileMAX:.3f}\")\n",
        "    print(f\"사분범위: {percentileIQR:.3f}\")"
      ]
    },
    {
      "cell_type": "markdown",
      "id": "aca669e2",
      "metadata": {
        "id": "aca669e2"
      },
      "source": [
        "- **데이터 문장 길이 확인 함수 제작**"
      ]
    },
    {
      "cell_type": "code",
      "execution_count": null,
      "id": "4d97fd63",
      "metadata": {
        "id": "4d97fd63"
      },
      "outputs": [],
      "source": [
        "def get_sentence_len(tensor):\n",
        "    counts = []\n",
        "    for sentence in tensor.tolist():\n",
        "        try:\n",
        "            idx = sentence.index(0)\n",
        "            counts.append(idx)\n",
        "        except:\n",
        "            counts.append(len(sentence))\n",
        "    return counts"
      ]
    },
    {
      "cell_type": "code",
      "execution_count": null,
      "id": "c4dff4a4",
      "metadata": {
        "id": "c4dff4a4"
      },
      "outputs": [],
      "source": [
        "enc_counts = get_sentence_len(enc_tensor)\n",
        "dec_counts = get_sentence_len(dec_tensor)"
      ]
    },
    {
      "cell_type": "markdown",
      "id": "70b19b31",
      "metadata": {
        "id": "70b19b31"
      },
      "source": [
        "- **라벨 Q의 문장 정보**"
      ]
    },
    {
      "cell_type": "code",
      "execution_count": null,
      "id": "60c20a9a",
      "metadata": {
        "id": "60c20a9a",
        "outputId": "9e117faa-b358-4020-a5e6-078258ada10f"
      },
      "outputs": [
        {
          "data": {
            "image/png": "[encoded data removed]",
            "text/plain": [
              "<Figure size 936x360 with 2 Axes>"
            ]
          },
          "metadata": {
            "needs_background": "light"
          },
          "output_type": "display_data"
        },
        {
          "name": "stdout",
          "output_type": "stream",
          "text": [
            "최대 길이: 32\n",
            "최소 길이: 1\n",
            "평균 길이: 7.035\n",
            "표준편차: 3.524\n",
            "\n",
            "25%: 5.000\n",
            "50%: 6.000\n",
            "75%: 9.000\n",
            "100%: 15.000\n",
            "사분범위: 4.000\n"
          ]
        }
      ],
      "source": [
        "show_sentence_length(enc_counts, \"Question Sentence Infomation\", [0, 40])"
      ]
    },
    {
      "cell_type": "markdown",
      "id": "9e3cadde",
      "metadata": {
        "id": "9e3cadde"
      },
      "source": [
        "- **라벨 A의 문장 정보**"
      ]
    },
    {
      "cell_type": "code",
      "execution_count": null,
      "id": "00ada1a5",
      "metadata": {
        "id": "00ada1a5",
        "outputId": "15d7c452-fd0f-42cd-ff13-659f53519cf1"
      },
      "outputs": [
        {
          "data": {
            "image/png": "[encoded data removed]",
            "text/plain": [
              "<Figure size 936x360 with 2 Axes>"
            ]
          },
          "metadata": {
            "needs_background": "light"
          },
          "output_type": "display_data"
        },
        {
          "name": "stdout",
          "output_type": "stream",
          "text": [
            "최대 길이: 42\n",
            "최소 길이: 3\n",
            "평균 길이: 10.377\n",
            "표준편차: 3.575\n",
            "\n",
            "25%: 8.000\n",
            "50%: 10.000\n",
            "75%: 12.000\n",
            "100%: 18.000\n",
            "사분범위: 4.000\n"
          ]
        }
      ],
      "source": [
        "show_sentence_length(dec_counts, \"Answer Sentence Infomation\", [0, 40])"
      ]
    },
    {
      "cell_type": "markdown",
      "id": "a1b70ac5",
      "metadata": {
        "id": "a1b70ac5"
      },
      "source": [
        "- **토큰 사용 빈도 확인**"
      ]
    },
    {
      "cell_type": "code",
      "execution_count": null,
      "id": "226ec741",
      "metadata": {
        "id": "226ec741",
        "outputId": "a9979300-dbc7-421c-9c56-eab4d0f9dc5e"
      },
      "outputs": [
        {
          "data": {
            "image/png": "[encoded data removed]",
            "text/plain": [
              "<Figure size 936x360 with 2 Axes>"
            ]
          },
          "metadata": {
            "needs_background": "light"
          },
          "output_type": "display_data"
        },
        {
          "name": "stdout",
          "output_type": "stream",
          "text": [
            "최대 길이: 13870\n",
            "최소 길이: 1\n",
            "평균 길이: 30.048\n",
            "표준편차: 310.114\n",
            "\n",
            "25%: 1.000\n",
            "50%: 2.000\n",
            "75%: 7.000\n",
            "100%: 16.000\n",
            "사분범위: 6.000\n"
          ]
        }
      ],
      "source": [
        "freq = [value for value in tokenizer.word_counts.values()]\n",
        "show_sentence_length(freq, \"Word Frequency\", [0, 100])"
      ]
    },
    {
      "cell_type": "markdown",
      "id": "757ab774",
      "metadata": {
        "id": "757ab774"
      },
      "source": [
        "- **사용빈도 4분위에 해당하는 토큰 수 확인**"
      ]
    },
    {
      "cell_type": "code",
      "execution_count": null,
      "id": "240e598c",
      "metadata": {
        "id": "240e598c",
        "outputId": "db03f4e2-f984-4679-d5e9-4c266f85ad46"
      },
      "outputs": [
        {
          "name": "stdout",
          "output_type": "stream",
          "text": [
            "5872\n"
          ]
        }
      ],
      "source": [
        "def wordNumByFreq(tokenizer, freq_num):\n",
        "    sorted_freq = sorted(tokenizer.word_counts.items(), key=lambda x: x[1])\n",
        "    for idx, (_, freq) in enumerate(sorted_freq):\n",
        "        if freq > freq_num: break;\n",
        "    return idx\n",
        "\n",
        "print(wordNumByFreq(tokenizer, 16))"
      ]
    },
    {
      "cell_type": "markdown",
      "id": "80308c09",
      "metadata": {
        "id": "80308c09"
      },
      "source": [
        "- **최종 토크나이저 생성**"
      ]
    },
    {
      "cell_type": "code",
      "execution_count": null,
      "id": "2e209a45",
      "metadata": {
        "id": "2e209a45"
      },
      "outputs": [],
      "source": [
        "concat = pd.concat([dataset[\"Q\"], dataset[\"A\"]])\n",
        "tokenizer = get_tokenizer(concat, 5872)"
      ]
    },
    {
      "cell_type": "code",
      "execution_count": null,
      "id": "2e760a46",
      "metadata": {
        "id": "2e760a46"
      },
      "outputs": [],
      "source": [
        "q = dataset[\"Q\"].apply(lambda x: len(tokenizer.texts_to_sequences([x])[0]) <= 15)\n",
        "a = dataset[\"A\"].apply(lambda x: len(tokenizer.texts_to_sequences([x])[0]) <= 18)\n",
        "dataset = dataset[q & a]"
      ]
    },
    {
      "cell_type": "markdown",
      "id": "d93f93bd",
      "metadata": {
        "id": "d93f93bd"
      },
      "source": [
        "- **최종 토크나이저 수 확인**"
      ]
    },
    {
      "cell_type": "code",
      "execution_count": null,
      "id": "4d6a36a9",
      "metadata": {
        "id": "4d6a36a9",
        "outputId": "1cb723b5-e4e4-4bcd-c9cc-7dfa78a3383a"
      },
      "outputs": [
        {
          "name": "stdout",
          "output_type": "stream",
          "text": [
            "5872\n"
          ]
        }
      ],
      "source": [
        "print(len(tokenizer.word_index))"
      ]
    },
    {
      "cell_type": "markdown",
      "id": "1964fb1f",
      "metadata": {
        "id": "1964fb1f"
      },
      "source": [
        "## **2. Test 데이터 분할**"
      ]
    },
    {
      "cell_type": "markdown",
      "id": "25c2d210",
      "metadata": {
        "id": "25c2d210"
      },
      "source": [
        "- **데이터 분할**"
      ]
    },
    {
      "cell_type": "code",
      "execution_count": null,
      "id": "063a8be8",
      "metadata": {
        "id": "063a8be8"
      },
      "outputs": [],
      "source": [
        "test_dataset = dataset[:100]\n",
        "dataset = dataset[100:]"
      ]
    },
    {
      "cell_type": "markdown",
      "id": "1a641025",
      "metadata": {
        "id": "1a641025"
      },
      "source": [
        "- **Test 분할 데이터 확인**"
      ]
    },
    {
      "cell_type": "code",
      "execution_count": null,
      "id": "4922b2eb",
      "metadata": {
        "id": "4922b2eb",
        "outputId": "7728c87e-da2c-4bbc-c1cf-dd30b3eecb4c"
      },
      "outputs": [
        {
          "data": {
            "text/html": [
              "<div>\n",
              "<style scoped>\n",
              "    .dataframe tbody tr th:only-of-type {\n",
              "        vertical-align: middle;\n",
              "    }\n",
              "\n",
              "    .dataframe tbody tr th {\n",
              "        vertical-align: top;\n",
              "    }\n",
              "\n",
              "    .dataframe thead th {\n",
              "        text-align: right;\n",
              "    }\n",
              "</style>\n",
              "<table border=\"1\" class=\"dataframe\">\n",
              "  <thead>\n",
              "    <tr style=\"text-align: right;\">\n",
              "      <th></th>\n",
              "      <th>Q</th>\n",
              "      <th>A</th>\n",
              "    </tr>\n",
              "  </thead>\n",
              "  <tbody>\n",
              "    <tr>\n",
              "      <th>33</th>\n",
              "      <td>가족 들 이랑 여행 갈 거 야</td>\n",
              "      <td>&lt;sos&gt; 좋 은 생각 이 에요 . &lt;eos&gt;</td>\n",
              "    </tr>\n",
              "    <tr>\n",
              "      <th>10</th>\n",
              "      <td>sns 보 면 나 만 빼 고 다 행복 해 보여</td>\n",
              "      <td>&lt;sos&gt; 자랑 하 는 자리 니까요 . &lt;eos&gt;</td>\n",
              "    </tr>\n",
              "    <tr>\n",
              "      <th>14</th>\n",
              "      <td>가난 한 자 의 설움</td>\n",
              "      <td>&lt;sos&gt; 돈 은 다시 들어올 거 예요 . &lt;eos&gt;</td>\n",
              "    </tr>\n",
              "    <tr>\n",
              "      <th>56</th>\n",
              "      <td>감기약 이 없 어</td>\n",
              "      <td>&lt;sos&gt; 병원 가 세요 . &lt;eos&gt;</td>\n",
              "    </tr>\n",
              "    <tr>\n",
              "      <th>30</th>\n",
              "      <td>가족 들 이랑 서먹 해</td>\n",
              "      <td>&lt;sos&gt; 다 들 바빠서 이야기 할 시간 이 부족 했 나 봐요 . &lt;eos&gt;</td>\n",
              "    </tr>\n",
              "    <tr>\n",
              "      <th>60</th>\n",
              "      <td>감정 컨트롤 을 못 하 겠 어</td>\n",
              "      <td>&lt;sos&gt; 그건 습관 이 에요 . &lt;eos&gt;</td>\n",
              "    </tr>\n",
              "    <tr>\n",
              "      <th>104</th>\n",
              "      <td>거짓말 이 거짓말 을 낳 아</td>\n",
              "      <td>&lt;sos&gt; 진실 된 말 을 하 려고 노력 해 보 세요 . &lt;eos&gt;</td>\n",
              "    </tr>\n",
              "    <tr>\n",
              "      <th>69</th>\n",
              "      <td>강아지 키우 고 싶 은데 역시 안 돼 겠지</td>\n",
              "      <td>&lt;sos&gt; 먼저 생활 패턴 을 살펴 보 세요 . &lt;eos&gt;</td>\n",
              "    </tr>\n",
              "    <tr>\n",
              "      <th>37</th>\n",
              "      <td>가족 한테 스트레스 풀 었 어</td>\n",
              "      <td>&lt;sos&gt; 정말 후회 할 습관 이 에요 . &lt;eos&gt;</td>\n",
              "    </tr>\n",
              "    <tr>\n",
              "      <th>58</th>\n",
              "      <td>감미 로운 목소리 좋 아</td>\n",
              "      <td>&lt;sos&gt; 저 도 듣 고 싶 네요 . &lt;eos&gt;</td>\n",
              "    </tr>\n",
              "  </tbody>\n",
              "</table>\n",
              "</div>"
            ],
            "text/plain": [
              "                             Q                                           A\n",
              "33            가족 들 이랑 여행 갈 거 야                   <sos> 좋 은 생각 이 에요 . <eos>\n",
              "10   sns 보 면 나 만 빼 고 다 행복 해 보여                 <sos> 자랑 하 는 자리 니까요 . <eos>\n",
              "14                 가난 한 자 의 설움               <sos> 돈 은 다시 들어올 거 예요 . <eos>\n",
              "56                   감기약 이 없 어                       <sos> 병원 가 세요 . <eos>\n",
              "30                가족 들 이랑 서먹 해  <sos> 다 들 바빠서 이야기 할 시간 이 부족 했 나 봐요 . <eos>\n",
              "60            감정 컨트롤 을 못 하 겠 어                    <sos> 그건 습관 이 에요 . <eos>\n",
              "104            거짓말 이 거짓말 을 낳 아       <sos> 진실 된 말 을 하 려고 노력 해 보 세요 . <eos>\n",
              "69     강아지 키우 고 싶 은데 역시 안 돼 겠지            <sos> 먼저 생활 패턴 을 살펴 보 세요 . <eos>\n",
              "37            가족 한테 스트레스 풀 었 어               <sos> 정말 후회 할 습관 이 에요 . <eos>\n",
              "58               감미 로운 목소리 좋 아                  <sos> 저 도 듣 고 싶 네요 . <eos>"
            ]
          },
          "metadata": {},
          "output_type": "display_data"
        }
      ],
      "source": [
        "display(test_dataset.sample(10))"
      ]
    },
    {
      "cell_type": "markdown",
      "id": "528067cf",
      "metadata": {
        "id": "528067cf"
      },
      "source": [
        "- **Train 분할 데이터 확인**"
      ]
    },
    {
      "cell_type": "code",
      "execution_count": null,
      "id": "f53e50b1",
      "metadata": {
        "id": "f53e50b1",
        "outputId": "339526c6-ca61-4ebc-8340-e24e0b5c235f"
      },
      "outputs": [
        {
          "data": {
            "text/html": [
              "<div>\n",
              "<style scoped>\n",
              "    .dataframe tbody tr th:only-of-type {\n",
              "        vertical-align: middle;\n",
              "    }\n",
              "\n",
              "    .dataframe tbody tr th {\n",
              "        vertical-align: top;\n",
              "    }\n",
              "\n",
              "    .dataframe thead th {\n",
              "        text-align: right;\n",
              "    }\n",
              "</style>\n",
              "<table border=\"1\" class=\"dataframe\">\n",
              "  <thead>\n",
              "    <tr style=\"text-align: right;\">\n",
              "      <th></th>\n",
              "      <th>Q</th>\n",
              "      <th>A</th>\n",
              "    </tr>\n",
              "  </thead>\n",
              "  <tbody>\n",
              "    <tr>\n",
              "      <th>11541</th>\n",
              "      <td>짝 녀 와 자연 스럽 게 친해질 수 있 는 방법 좀 .</td>\n",
              "      <td>&lt;sos&gt; 공통 관심사 를 찾아보 세요 . &lt;eos&gt;</td>\n",
              "    </tr>\n",
              "    <tr>\n",
              "      <th>7066</th>\n",
              "      <td>여전히 괴롭 다</td>\n",
              "      <td>&lt;sos&gt; 이별 은 몹시 도 괴로우 니까요 . &lt;eos&gt;</td>\n",
              "    </tr>\n",
              "    <tr>\n",
              "      <th>4498</th>\n",
              "      <td>초콜릿 만들 어서 줄까 ?</td>\n",
              "      <td>&lt;sos&gt; 좋 아 할 거 예요 . &lt;eos&gt;</td>\n",
              "    </tr>\n",
              "    <tr>\n",
              "      <th>5928</th>\n",
              "      <td>너무 사랑 했 고 너무 그리워 하 는 그 사람 .</td>\n",
              "      <td>&lt;sos&gt; 애틋 한 사랑 을 하 셨 네요 . &lt;eos&gt;</td>\n",
              "    </tr>\n",
              "    <tr>\n",
              "      <th>8292</th>\n",
              "      <td>참 허무 하 네 .</td>\n",
              "      <td>&lt;sos&gt; 마음 이 허전 한가 봐요 . &lt;eos&gt;</td>\n",
              "    </tr>\n",
              "    <tr>\n",
              "      <th>1478</th>\n",
              "      <td>마음 이 싱숭생숭 해서 자꾸 글 을 쓰 게 되 네</td>\n",
              "      <td>&lt;sos&gt; 글 쓰 면서 정리 가 될 거 예요 . &lt;eos&gt;</td>\n",
              "    </tr>\n",
              "    <tr>\n",
              "      <th>5161</th>\n",
              "      <td>혼자 가 편하 대</td>\n",
              "      <td>&lt;sos&gt; 상대방 을 이해 해 주 세요 . &lt;eos&gt;</td>\n",
              "    </tr>\n",
              "    <tr>\n",
              "      <th>10270</th>\n",
              "      <td>썸 과 연인 사이</td>\n",
              "      <td>&lt;sos&gt; 이제 선택 할 상황 이 네요 . &lt;eos&gt;</td>\n",
              "    </tr>\n",
              "    <tr>\n",
              "      <th>9723</th>\n",
              "      <td>매일 카페 에서 그 의 뒷모습 만 보 게 돼 .</td>\n",
              "      <td>&lt;sos&gt; 이제 앞모습 을 보 세요 . &lt;eos&gt;</td>\n",
              "    </tr>\n",
              "    <tr>\n",
              "      <th>1225</th>\n",
              "      <td>대학 가 야 하나 ?</td>\n",
              "      <td>&lt;sos&gt; 장단점 을 분석 해 보 세요 . &lt;eos&gt;</td>\n",
              "    </tr>\n",
              "  </tbody>\n",
              "</table>\n",
              "</div>"
            ],
            "text/plain": [
              "                                    Q                                 A\n",
              "11541  짝 녀 와 자연 스럽 게 친해질 수 있 는 방법 좀 .     <sos> 공통 관심사 를 찾아보 세요 . <eos>\n",
              "7066                         여전히 괴롭 다   <sos> 이별 은 몹시 도 괴로우 니까요 . <eos>\n",
              "4498                   초콜릿 만들 어서 줄까 ?          <sos> 좋 아 할 거 예요 . <eos>\n",
              "5928      너무 사랑 했 고 너무 그리워 하 는 그 사람 .    <sos> 애틋 한 사랑 을 하 셨 네요 . <eos>\n",
              "8292                       참 허무 하 네 .       <sos> 마음 이 허전 한가 봐요 . <eos>\n",
              "1478      마음 이 싱숭생숭 해서 자꾸 글 을 쓰 게 되 네  <sos> 글 쓰 면서 정리 가 될 거 예요 . <eos>\n",
              "5161                        혼자 가 편하 대     <sos> 상대방 을 이해 해 주 세요 . <eos>\n",
              "10270                       썸 과 연인 사이     <sos> 이제 선택 할 상황 이 네요 . <eos>\n",
              "9723       매일 카페 에서 그 의 뒷모습 만 보 게 돼 .       <sos> 이제 앞모습 을 보 세요 . <eos>\n",
              "1225                      대학 가 야 하나 ?     <sos> 장단점 을 분석 해 보 세요 . <eos>"
            ]
          },
          "metadata": {},
          "output_type": "display_data"
        }
      ],
      "source": [
        "display(dataset.sample(10))"
      ]
    },
    {
      "cell_type": "markdown",
      "id": "bedd2881",
      "metadata": {
        "id": "bedd2881"
      },
      "source": [
        "## **3. 데이터 증강**"
      ]
    },
    {
      "cell_type": "markdown",
      "id": "4cda85e8",
      "metadata": {
        "id": "4cda85e8"
      },
      "source": [
        "### **3-1. 사전 훈련 임베딩 모델 import**"
      ]
    },
    {
      "cell_type": "code",
      "execution_count": null,
      "id": "3d17672b",
      "metadata": {
        "id": "3d17672b"
      },
      "outputs": [],
      "source": [
        "w2v = gensim.models.Word2Vec.load('~/aiffel/GD_12/data/ko.bin')"
      ]
    },
    {
      "cell_type": "markdown",
      "id": "71d74a7e",
      "metadata": {
        "id": "71d74a7e"
      },
      "source": [
        "### **3-2. 데이터 증강**"
      ]
    },
    {
      "cell_type": "markdown",
      "id": "1857b090",
      "metadata": {
        "id": "1857b090"
      },
      "source": [
        "- **데이터 증강 함수 생성**"
      ]
    },
    {
      "cell_type": "code",
      "execution_count": null,
      "id": "f8a2f7ef",
      "metadata": {
        "id": "f8a2f7ef"
      },
      "outputs": [],
      "source": [
        "def lexical_sub(sentence, word2vec, enc_arg=True):\n",
        "    toks = sentence.split()\n",
        "    if not enc_arg:   #<sos>, <eos> 토큰 제외\n",
        "        toks = toks[1:-1]\n",
        "\n",
        "    _from = random.choice(toks)\n",
        "    \n",
        "    try:\n",
        "        _to = word2vec.most_similar(_from)[0][0]\n",
        "    except:\n",
        "        return \"_\"\n",
        "    \n",
        "    res = \"\"\n",
        "    for tok in sentence.split():\n",
        "        if tok == _from:\n",
        "            res += _to + \" \"\n",
        "        else:\n",
        "            res += tok + \" \"\n",
        "    return res"
      ]
    },
    {
      "cell_type": "code",
      "execution_count": null,
      "id": "1ac8e441",
      "metadata": {
        "id": "1ac8e441"
      },
      "outputs": [],
      "source": [
        "def argument_data(dataset, word2vec, enc_arg=True):\n",
        "    qna = \"Q\" if enc_arg else \"A\"\n",
        "    arg = dataset[qna].apply(lambda x: lexical_sub(x, word2vec, enc_arg))\n",
        "    \n",
        "    arg_data = dataset.copy()\n",
        "    arg_data[qna] = arg\n",
        "    \n",
        "    arg_data = arg_data[arg_data[qna] != \"_\"]\n",
        "    return arg_data"
      ]
    },
    {
      "cell_type": "markdown",
      "id": "502b4b3b",
      "metadata": {
        "id": "502b4b3b"
      },
      "source": [
        "- **데이터 증강**"
      ]
    },
    {
      "cell_type": "code",
      "execution_count": null,
      "id": "e7ee3b70",
      "metadata": {
        "scrolled": true,
        "id": "e7ee3b70"
      },
      "outputs": [],
      "source": [
        "enc_alpha = argument_data(dataset, w2v, True)\n",
        "dec_alpha = argument_data(dataset, w2v, False)"
      ]
    },
    {
      "cell_type": "code",
      "execution_count": null,
      "id": "ae14a4ce",
      "metadata": {
        "id": "ae14a4ce",
        "outputId": "17735f1e-c759-47b5-89f7-a36de0eea995"
      },
      "outputs": [
        {
          "name": "stdout",
          "output_type": "stream",
          "text": [
            "Q 기본 문장: 걱정 좀 없이 살 고 싶 다 .\n",
            "Q 증강 문장: 걱정 좀 없이 살아오 고 싶 다 . \n",
            "A 기본 문장: <sos> 누구 나 걱정 은 있 어요 . <eos>\n",
            "A 증강 문장: <sos> 누구 나 걱정 은 있 어요 는데 <eos> \n"
          ]
        }
      ],
      "source": [
        "enc_idx = set(dataset.index)\n",
        "enc_alpha_idx = set(enc_alpha.index)\n",
        "dec_alpha_idx = set(dec_alpha.index)\n",
        "\n",
        "vet = enc_idx & enc_alpha_idx & dec_alpha_idx\n",
        "vet = list(vet)[0]\n",
        "\n",
        "print(f\"Q 기본 문장: {dataset['Q'][vet]}\")\n",
        "print(f\"Q 증강 문장: {enc_alpha['Q'][vet]}\")\n",
        "print(f\"A 기본 문장: {dataset['A'][vet]}\")\n",
        "print(f\"A 증강 문장: {dec_alpha['A'][vet]}\")"
      ]
    },
    {
      "cell_type": "markdown",
      "id": "e82e054d",
      "metadata": {
        "id": "e82e054d"
      },
      "source": [
        "### **3-3. 데이터 결합**"
      ]
    },
    {
      "cell_type": "markdown",
      "id": "86f61d3e",
      "metadata": {
        "id": "86f61d3e"
      },
      "source": [
        "- **데이터 결합 진행**"
      ]
    },
    {
      "cell_type": "code",
      "execution_count": null,
      "id": "39366b68",
      "metadata": {
        "id": "39366b68"
      },
      "outputs": [],
      "source": [
        "dataset = pd.concat([dataset, enc_alpha, dec_alpha])\n",
        "dataset = dataset.sample(frac=1)"
      ]
    },
    {
      "cell_type": "markdown",
      "id": "b0d10ec3",
      "metadata": {
        "id": "b0d10ec3"
      },
      "source": [
        "- **최종 데이터 수**"
      ]
    },
    {
      "cell_type": "code",
      "execution_count": null,
      "id": "ea4cba82",
      "metadata": {
        "id": "ea4cba82",
        "outputId": "18ab1fcb-9972-4d43-8111-9b0ac1d4d6ef"
      },
      "outputs": [
        {
          "data": {
            "text/plain": [
              "29952"
            ]
          },
          "execution_count": 42,
          "metadata": {},
          "output_type": "execute_result"
        }
      ],
      "source": [
        "len(dataset)"
      ]
    },
    {
      "cell_type": "markdown",
      "id": "cd52291c",
      "metadata": {
        "id": "cd52291c"
      },
      "source": [
        "- **최종 데이터 확인**"
      ]
    },
    {
      "cell_type": "code",
      "execution_count": null,
      "id": "87c86e1c",
      "metadata": {
        "id": "87c86e1c",
        "outputId": "b74fec6e-4353-442c-b91d-a303b7706973"
      },
      "outputs": [
        {
          "data": {
            "text/html": [
              "<div>\n",
              "<style scoped>\n",
              "    .dataframe tbody tr th:only-of-type {\n",
              "        vertical-align: middle;\n",
              "    }\n",
              "\n",
              "    .dataframe tbody tr th {\n",
              "        vertical-align: top;\n",
              "    }\n",
              "\n",
              "    .dataframe thead th {\n",
              "        text-align: right;\n",
              "    }\n",
              "</style>\n",
              "<table border=\"1\" class=\"dataframe\">\n",
              "  <thead>\n",
              "    <tr style=\"text-align: right;\">\n",
              "      <th></th>\n",
              "      <th>Q</th>\n",
              "      <th>A</th>\n",
              "    </tr>\n",
              "  </thead>\n",
              "  <tbody>\n",
              "    <tr>\n",
              "      <th>3587</th>\n",
              "      <td>월세 너무 저렴</td>\n",
              "      <td>&lt;sos&gt; 돈 을 얼른 모아야 할 이유 가 생겼 네요 . &lt;eos&gt;</td>\n",
              "    </tr>\n",
              "    <tr>\n",
              "      <th>5226</th>\n",
              "      <td>회사 를 차리 고 겠 다</td>\n",
              "      <td>&lt;sos&gt; 확신 이 있 을 때 시작 해 보 세요 . &lt;eos&gt;</td>\n",
              "    </tr>\n",
              "    <tr>\n",
              "      <th>5546</th>\n",
              "      <td>공허 함 이 크 네</td>\n",
              "      <td>&lt;sos&gt; 제 가 채워 줄게요 . &lt;eos&gt;</td>\n",
              "    </tr>\n",
              "    <tr>\n",
              "      <th>4283</th>\n",
              "      <td>현재 행복 해</td>\n",
              "      <td>&lt;sos&gt; 현재 를 즐기 세요 ! &lt;eos&gt;</td>\n",
              "    </tr>\n",
              "    <tr>\n",
              "      <th>5474</th>\n",
              "      <td>거의 매일 술</td>\n",
              "      <td>&lt;sos&gt; 술 많이 드 시 면 더 무너 져요 . &lt;eos&gt;</td>\n",
              "    </tr>\n",
              "    <tr>\n",
              "      <th>7248</th>\n",
              "      <td>과연 차단 이 안 되 있 을까 ? ?</td>\n",
              "      <td>&lt;sos&gt; 관심 을 끄 세요 . &lt;eos&gt;</td>\n",
              "    </tr>\n",
              "    <tr>\n",
              "      <th>6050</th>\n",
              "      <td>다시 와도 싫 다고 단호 시키 게 말 해야지</td>\n",
              "      <td>&lt;sos&gt; 잘 할 수 있 을 거 예요 . &lt;eos&gt;</td>\n",
              "    </tr>\n",
              "    <tr>\n",
              "      <th>9681</th>\n",
              "      <td>마음 이 예쁜 사람 만나 고 싶 어</td>\n",
              "      <td>&lt;sos&gt; 마음 이 예쁜 사람 을 찾 ㄴ다는 게 더 힘들 거 예요 . &lt;eos&gt;</td>\n",
              "    </tr>\n",
              "    <tr>\n",
              "      <th>7508</th>\n",
              "      <td>이별 은 냉정 할수록 좋 은 것 같 아</td>\n",
              "      <td>&lt;sos&gt; 감정 적 일수록 더 힘들 어 지 기 만이 할 거 예요 . &lt;eos&gt;</td>\n",
              "    </tr>\n",
              "    <tr>\n",
              "      <th>441</th>\n",
              "      <td>꽃바구니 선물 이랑 과일 바구니 선물 뭐 가 좋 아 ?</td>\n",
              "      <td>&lt;sos&gt; 받 는 사람 이 부럽 네요 . &lt;eos&gt;</td>\n",
              "    </tr>\n",
              "  </tbody>\n",
              "</table>\n",
              "</div>"
            ],
            "text/plain": [
              "                                   Q  \\\n",
              "3587                       월세 너무 저렴    \n",
              "5226                  회사 를 차리 고 겠 다    \n",
              "5546                      공허 함 이 크 네   \n",
              "4283                        현재 행복 해    \n",
              "5474                         거의 매일 술   \n",
              "7248           과연 차단 이 안 되 있 을까 ? ?    \n",
              "6050       다시 와도 싫 다고 단호 시키 게 말 해야지    \n",
              "9681             마음 이 예쁜 사람 만나 고 싶 어   \n",
              "7508           이별 은 냉정 할수록 좋 은 것 같 아   \n",
              "441   꽃바구니 선물 이랑 과일 바구니 선물 뭐 가 좋 아 ?   \n",
              "\n",
              "                                                  A  \n",
              "3587          <sos> 돈 을 얼른 모아야 할 이유 가 생겼 네요 . <eos>  \n",
              "5226             <sos> 확신 이 있 을 때 시작 해 보 세요 . <eos>  \n",
              "5546                       <sos> 제 가 채워 줄게요 . <eos>  \n",
              "4283                       <sos> 현재 를 즐기 세요 ! <eos>  \n",
              "5474               <sos> 술 많이 드 시 면 더 무너 져요 . <eos>  \n",
              "7248                        <sos> 관심 을 끄 세요 . <eos>  \n",
              "6050                   <sos> 잘 할 수 있 을 거 예요 . <eos>  \n",
              "9681  <sos> 마음 이 예쁜 사람 을 찾 ㄴ다는 게 더 힘들 거 예요 . <eos>   \n",
              "7508   <sos> 감정 적 일수록 더 힘들 어 지 기 만이 할 거 예요 . <eos>   \n",
              "441                    <sos> 받 는 사람 이 부럽 네요 . <eos>  "
            ]
          },
          "metadata": {},
          "output_type": "display_data"
        }
      ],
      "source": [
        "display(dataset.head(10))"
      ]
    },
    {
      "cell_type": "markdown",
      "id": "082c1d2b",
      "metadata": {
        "id": "082c1d2b"
      },
      "source": [
        "## **4. 데이터 벡터화**"
      ]
    },
    {
      "cell_type": "markdown",
      "id": "5df72665",
      "metadata": {
        "id": "5df72665"
      },
      "source": [
        "- **데이터 확인**"
      ]
    },
    {
      "cell_type": "markdown",
      "id": "6bbc1cda",
      "metadata": {
        "id": "6bbc1cda"
      },
      "source": [
        "- **정수 인코딩**"
      ]
    },
    {
      "cell_type": "code",
      "execution_count": null,
      "id": "10c7f560",
      "metadata": {
        "id": "10c7f560"
      },
      "outputs": [],
      "source": [
        "enc_tensor = encoding_sentence(dataset[\"Q\"], tokenizer)\n",
        "dec_tensor = encoding_sentence(dataset[\"A\"], tokenizer)"
      ]
    },
    {
      "cell_type": "markdown",
      "id": "35207a85",
      "metadata": {
        "id": "35207a85"
      },
      "source": [
        "- **데이터 확인**"
      ]
    },
    {
      "cell_type": "code",
      "execution_count": null,
      "id": "f3012927",
      "metadata": {
        "id": "f3012927",
        "outputId": "ae26f17d-2868-46dd-a494-495f6c36f30a"
      },
      "outputs": [
        {
          "data": {
            "text/plain": [
              "array([[2936,   56, 4357, ...,    0,    0,    0],\n",
              "       [ 339,   31,  812, ...,    0,    0,    0],\n",
              "       [1148,  304,    5, ...,    0,    0,    0],\n",
              "       ...,\n",
              "       [  13,   22,    6, ...,  150,   11,    2],\n",
              "       [ 996,  394,  180, ...,    0,    0,    0],\n",
              "       [  69,    1, 1177, ...,    0,    0,    0]], dtype=int32)"
            ]
          },
          "execution_count": 45,
          "metadata": {},
          "output_type": "execute_result"
        }
      ],
      "source": [
        "enc_tensor"
      ]
    },
    {
      "cell_type": "code",
      "execution_count": null,
      "id": "19b5bc6c",
      "metadata": {
        "id": "19b5bc6c",
        "outputId": "322760ea-0c0b-4efa-cf99-6398e2c25e0d"
      },
      "outputs": [
        {
          "data": {
            "text/plain": [
              "array([[   3,  226,    8, ...,    0,    0,    0],\n",
              "       [   3,  511,    5, ...,    0,    0,    0],\n",
              "       [   3,  144,    9, ...,    0,    0,    0],\n",
              "       ...,\n",
              "       [   3, 2007,    8, ...,    0,    0,    0],\n",
              "       [   3, 1137,   31, ...,    0,    0,    0],\n",
              "       [   3,   69,   23, ...,    0,    0,    0]], dtype=int32)"
            ]
          },
          "execution_count": 46,
          "metadata": {},
          "output_type": "execute_result"
        }
      ],
      "source": [
        "dec_tensor"
      ]
    },
    {
      "cell_type": "markdown",
      "id": "4511fce7",
      "metadata": {
        "id": "4511fce7"
      },
      "source": [
        "- **최종 데이터 수**"
      ]
    },
    {
      "cell_type": "code",
      "execution_count": null,
      "id": "993fa392",
      "metadata": {
        "id": "993fa392",
        "outputId": "94263e70-63db-4791-906e-5cb9e2216db4"
      },
      "outputs": [
        {
          "data": {
            "text/plain": [
              "29952"
            ]
          },
          "execution_count": 47,
          "metadata": {},
          "output_type": "execute_result"
        }
      ],
      "source": [
        "len(dataset)"
      ]
    },
    {
      "cell_type": "markdown",
      "id": "a8144965",
      "metadata": {
        "id": "a8144965"
      },
      "source": [
        "## **5. 모델 생성**"
      ]
    },
    {
      "cell_type": "markdown",
      "id": "6ec6a4a6",
      "metadata": {
        "id": "6ec6a4a6"
      },
      "source": [
        "### **5-1. Positional Encoding**"
      ]
    },
    {
      "cell_type": "code",
      "execution_count": null,
      "id": "42c7fead",
      "metadata": {
        "id": "42c7fead"
      },
      "outputs": [],
      "source": [
        "def positional_encoding(pos, d_model):\n",
        "    def cal_angle(position, i):\n",
        "        return position / np.power(10000, int(i)/d_model)\n",
        "    \n",
        "    def get_posi_angle_vec(position):\n",
        "        return [cal_angle(position, i) for i in range(d_model)]\n",
        "    \n",
        "    sinusoid_table = np.array([get_posi_angle_vec(pos_i) for pos_i in range(pos)])\n",
        "    \n",
        "    sinusoid_table[:, 0::2] = np.sin(sinusoid_table[:, 0::2])\n",
        "    sinusoid_table[:, 1::2] = np.cos(sinusoid_table[:, 1::2])\n",
        "    \n",
        "    return sinusoid_table"
      ]
    },
    {
      "cell_type": "markdown",
      "id": "fb7201e8",
      "metadata": {
        "id": "fb7201e8"
      },
      "source": [
        "### **5-2. MultiHeadAttention**"
      ]
    },
    {
      "cell_type": "code",
      "execution_count": null,
      "id": "5cee2319",
      "metadata": {
        "id": "5cee2319"
      },
      "outputs": [],
      "source": [
        "class MultiHeadAttention(tf.keras.layers.Layer):\n",
        "    def __init__(self, d_model, num_heads):\n",
        "        super(MultiHeadAttention, self).__init__()\n",
        "        self.num_heads = num_heads\n",
        "        self.d_model = d_model\n",
        "            \n",
        "        self.depth = d_model // self.num_heads\n",
        "            \n",
        "        self.W_q = tf.keras.layers.Dense(d_model)\n",
        "        self.W_k = tf.keras.layers.Dense(d_model)\n",
        "        self.W_v = tf.keras.layers.Dense(d_model)\n",
        "            \n",
        "        self.linear = tf.keras.layers.Dense(d_model)\n",
        "\n",
        "    def scaled_dot_product_attention(self, Q, K, V, mask):\n",
        "        d_k = tf.cast(K.shape[-1], tf.float32)\n",
        "        QK = tf.matmul(Q, K, transpose_b=True)\n",
        "\n",
        "        scaled_qk = QK / tf.math.sqrt(d_k)\n",
        "\n",
        "        if mask is not None: scaled_qk += (mask * -1e9)  \n",
        "\n",
        "        attentions = tf.nn.softmax(scaled_qk, axis=-1)\n",
        "        out = tf.matmul(attentions, V)\n",
        "\n",
        "        return out, attentions\n",
        "            \n",
        "\n",
        "    def split_heads(self, x):\n",
        "        batch_size = x.shape[0]\n",
        "        split_x = tf.reshape(x, (batch_size, -1, self.num_heads, self.depth))\n",
        "        split_x = tf.transpose(split_x, perm=[0, 2, 1, 3])\n",
        "\n",
        "        return split_x\n",
        "\n",
        "    def combine_heads(self, x):\n",
        "        batch_size = x.shape[0]\n",
        "        combined_x = tf.transpose(x, perm=[0, 2, 1, 3])\n",
        "        combined_x = tf.reshape(combined_x, (batch_size, -1, self.d_model))\n",
        "\n",
        "        return combined_x\n",
        "\n",
        "        \n",
        "    def call(self, Q, K, V, mask):\n",
        "        WQ = self.W_q(Q)\n",
        "        WK = self.W_k(K)\n",
        "        WV = self.W_v(V)\n",
        "        \n",
        "        WQ_splits = self.split_heads(WQ)\n",
        "        WK_splits = self.split_heads(WK)\n",
        "        WV_splits = self.split_heads(WV)\n",
        "            \n",
        "        out, attention_weights = self.scaled_dot_product_attention(\n",
        "            WQ_splits, WK_splits, WV_splits, mask\n",
        "        )\n",
        "        out = self.combine_heads(out)\n",
        "        out = self.linear(out)\n",
        "                \n",
        "        return out, attention_weights"
      ]
    },
    {
      "cell_type": "markdown",
      "id": "12b403c4",
      "metadata": {
        "id": "12b403c4"
      },
      "source": [
        "### **5-3. Position-wise Feed-Forward Network**"
      ]
    },
    {
      "cell_type": "code",
      "execution_count": null,
      "id": "9b311c75",
      "metadata": {
        "id": "9b311c75"
      },
      "outputs": [],
      "source": [
        "class PoswiseFeedForwardNet(tf.keras.layers.Layer):\n",
        "    def __init__(self, d_model, d_ff):\n",
        "        super(PoswiseFeedForwardNet, self).__init__()\n",
        "        self.w_1 = tf.keras.layers.Dense(d_ff, activation='relu')\n",
        "        self.w_2 = tf.keras.layers.Dense(d_model)\n",
        "\n",
        "    def call(self, x):\n",
        "        out = self.w_1(x)\n",
        "        out = self.w_2(out)\n",
        "            \n",
        "        return out"
      ]
    },
    {
      "cell_type": "markdown",
      "id": "a74fb422",
      "metadata": {
        "id": "a74fb422"
      },
      "source": [
        "### **5-4. Mask Layer**"
      ]
    },
    {
      "cell_type": "code",
      "execution_count": null,
      "id": "4608a7d5",
      "metadata": {
        "id": "4608a7d5"
      },
      "outputs": [],
      "source": [
        "def generate_padding_mask(seq):\n",
        "    seq = tf.cast(tf.math.equal(seq, 0), tf.float32)\n",
        "    return seq[:, tf.newaxis, tf.newaxis, :]\n",
        "\n",
        "def generate_causality_mask(src_len, tgt_len):\n",
        "    mask = 1 - np.cumsum(np.eye(src_len, tgt_len), 0)\n",
        "    return tf.cast(mask, tf.float32)\n",
        "\n",
        "def generate_masks(src, tgt):\n",
        "    enc_mask = generate_padding_mask(src)\n",
        "    dec_mask = generate_padding_mask(tgt)\n",
        "\n",
        "    dec_enc_causality_mask = generate_causality_mask(tgt.shape[1], src.shape[1])\n",
        "    dec_enc_mask = tf.maximum(enc_mask, dec_enc_causality_mask)\n",
        "\n",
        "    dec_causality_mask = generate_causality_mask(tgt.shape[1], tgt.shape[1])\n",
        "    dec_mask = tf.maximum(dec_mask, dec_causality_mask)\n",
        "\n",
        "    return enc_mask, dec_enc_mask, dec_mask"
      ]
    },
    {
      "cell_type": "markdown",
      "id": "5acd02aa",
      "metadata": {
        "id": "5acd02aa"
      },
      "source": [
        "### **5-5. Encoder Layer**"
      ]
    },
    {
      "cell_type": "code",
      "execution_count": null,
      "id": "6ede8839",
      "metadata": {
        "id": "6ede8839"
      },
      "outputs": [],
      "source": [
        "class EncoderLayer(tf.keras.layers.Layer):\n",
        "    def __init__(self, d_model, n_heads, d_ff, dropout):\n",
        "        super(EncoderLayer, self).__init__()\n",
        "\n",
        "        self.enc_self_attn = MultiHeadAttention(d_model, n_heads)\n",
        "        self.ffn = PoswiseFeedForwardNet(d_model, d_ff)\n",
        "\n",
        "        self.norm_1 = tf.keras.layers.LayerNormalization(epsilon=1e-6)\n",
        "        self.norm_2 = tf.keras.layers.LayerNormalization(epsilon=1e-6)\n",
        "\n",
        "        self.dropout = tf.keras.layers.Dropout(dropout)\n",
        "        \n",
        "    def call(self, x, mask):\n",
        "        residual = x\n",
        "        out = self.norm_1(x)\n",
        "        out, enc_attn = self.enc_self_attn(out, out, out, mask)\n",
        "        out = self.dropout(out)\n",
        "        out += residual\n",
        "        \n",
        "        residual = out\n",
        "        out = self.norm_2(out)\n",
        "        out = self.ffn(out)\n",
        "        out = self.dropout(out)\n",
        "        out += residual\n",
        "        \n",
        "        return out, enc_attn"
      ]
    },
    {
      "cell_type": "markdown",
      "id": "e926b845",
      "metadata": {
        "id": "e926b845"
      },
      "source": [
        "### **5-6. Decoder Layer**"
      ]
    },
    {
      "cell_type": "code",
      "execution_count": null,
      "id": "8248d4f0",
      "metadata": {
        "id": "8248d4f0"
      },
      "outputs": [],
      "source": [
        "class DecoderLayer(tf.keras.layers.Layer):\n",
        "    def __init__(self, d_model, num_heads, d_ff, dropout):\n",
        "        super(DecoderLayer, self).__init__()\n",
        "\n",
        "        self.dec_self_attn = MultiHeadAttention(d_model, num_heads)\n",
        "        self.enc_dec_attn = MultiHeadAttention(d_model, num_heads)\n",
        "\n",
        "        self.ffn = PoswiseFeedForwardNet(d_model, d_ff)\n",
        "\n",
        "        self.norm_1 = tf.keras.layers.LayerNormalization(epsilon=1e-6)\n",
        "        self.norm_2 = tf.keras.layers.LayerNormalization(epsilon=1e-6)\n",
        "        self.norm_3 = tf.keras.layers.LayerNormalization(epsilon=1e-6)\n",
        "\n",
        "        self.dropout = tf.keras.layers.Dropout(dropout)\n",
        "    \n",
        "    def call(self, x, enc_out, causality_mask, padding_mask):\n",
        "        residual = x\n",
        "        out = self.norm_1(x)\n",
        "        out, dec_attn = self.dec_self_attn(out, out, out, padding_mask)\n",
        "        out = self.dropout(out)\n",
        "        out += residual\n",
        "\n",
        "        residual = out\n",
        "        out = self.norm_2(out)\n",
        "        out, dec_enc_attn = self.enc_dec_attn(out, enc_out, enc_out, causality_mask)\n",
        "        out = self.dropout(out)\n",
        "        out += residual\n",
        "       \n",
        "        residual = out\n",
        "        out = self.norm_3(out)\n",
        "        out = self.ffn(out)\n",
        "        out = self.dropout(out)\n",
        "        out += residual\n",
        "\n",
        "        return out, dec_attn, dec_enc_attn"
      ]
    },
    {
      "cell_type": "markdown",
      "id": "9caa3d8e",
      "metadata": {
        "id": "9caa3d8e"
      },
      "source": [
        "### **5-7. Encoder**"
      ]
    },
    {
      "cell_type": "code",
      "execution_count": null,
      "id": "71bb9752",
      "metadata": {
        "id": "71bb9752"
      },
      "outputs": [],
      "source": [
        "class Encoder(tf.keras.Model):\n",
        "    def __init__(self,\n",
        "                 n_layers,\n",
        "                 d_model,\n",
        "                 n_heads,\n",
        "                 d_ff,\n",
        "                 dropout):\n",
        "        super(Encoder, self).__init__()\n",
        "        self.n_layers = n_layers\n",
        "        self.enc_layers = [EncoderLayer(d_model, n_heads, d_ff, dropout) \n",
        "                        for _ in range(n_layers)]\n",
        "        \n",
        "    def call(self, x, mask):\n",
        "        out = x\n",
        "    \n",
        "        enc_attns = list()\n",
        "        for i in range(self.n_layers):\n",
        "            out, enc_attn = self.enc_layers[i](out, mask)\n",
        "            enc_attns.append(enc_attn)\n",
        "        \n",
        "        return out, enc_attns"
      ]
    },
    {
      "cell_type": "markdown",
      "id": "02c8fca8",
      "metadata": {
        "id": "02c8fca8"
      },
      "source": [
        "### **5-8. Decoder**"
      ]
    },
    {
      "cell_type": "code",
      "execution_count": null,
      "id": "51c2f956",
      "metadata": {
        "id": "51c2f956"
      },
      "outputs": [],
      "source": [
        "class Decoder(tf.keras.Model):\n",
        "    def __init__(self,\n",
        "                 n_layers,\n",
        "                 d_model,\n",
        "                 n_heads,\n",
        "                 d_ff,\n",
        "                 dropout):\n",
        "        super(Decoder, self).__init__()\n",
        "        self.n_layers = n_layers\n",
        "        self.dec_layers = [DecoderLayer(d_model, n_heads, d_ff, dropout) \n",
        "                            for _ in range(n_layers)]\n",
        "                            \n",
        "                            \n",
        "    def call(self, x, enc_out, causality_mask, padding_mask):\n",
        "        out = x\n",
        "    \n",
        "        dec_attns = list()\n",
        "        dec_enc_attns = list()\n",
        "        for i in range(self.n_layers):\n",
        "            out, dec_attn, dec_enc_attn = \\\n",
        "            self.dec_layers[i](out, enc_out, causality_mask, padding_mask)\n",
        "\n",
        "            dec_attns.append(dec_attn)\n",
        "            dec_enc_attns.append(dec_enc_attn)\n",
        "\n",
        "        return out, dec_attns, dec_enc_attns"
      ]
    },
    {
      "cell_type": "markdown",
      "id": "3a51d728",
      "metadata": {
        "id": "3a51d728"
      },
      "source": [
        "### **5-9. Transformer**"
      ]
    },
    {
      "cell_type": "code",
      "execution_count": null,
      "id": "44177d46",
      "metadata": {
        "id": "44177d46"
      },
      "outputs": [],
      "source": [
        "class Transformer(tf.keras.Model):\n",
        "    def __init__(\n",
        "        self,\n",
        "        n_layers, d_model, n_heads, d_ff,\n",
        "        src_vocab_size, tgt_vocab_size,\n",
        "        pos_len,\n",
        "        dropout=0.2,\n",
        "        shared=True\n",
        "    ):\n",
        "        super(Transformer, self).__init__()\n",
        "        self.d_model = tf.cast(d_model, tf.float32)\n",
        "\n",
        "        self.enc_emb = tf.keras.layers.Embedding(src_vocab_size, d_model)\n",
        "        self.dec_emb = tf.keras.layers.Embedding(tgt_vocab_size, d_model)\n",
        "\n",
        "        self.pos_encoding = positional_encoding(pos_len, d_model)\n",
        "        self.dropout = tf.keras.layers.Dropout(dropout)\n",
        "\n",
        "        self.encoder = Encoder(n_layers, d_model, n_heads, d_ff, dropout)\n",
        "        self.decoder = Decoder(n_layers, d_model, n_heads, d_ff, dropout)\n",
        "\n",
        "        self.fc = tf.keras.layers.Dense(tgt_vocab_size)\n",
        "\n",
        "        self.shared = shared\n",
        "\n",
        "        if shared: self.fc.set_weights(tf.transpose(self.dec_emb.weights))\n",
        "\n",
        "            \n",
        "    def embedding(self, emb, x):\n",
        "        seq_len = x.shape[1]\n",
        "        out = emb(x)\n",
        "\n",
        "        if self.shared: out *= tf.math.sqrt(self.d_model)\n",
        "\n",
        "        out += self.pos_encoding[np.newaxis, ...][:, :seq_len, :]\n",
        "        out = self.dropout(out)\n",
        "\n",
        "        return out\n",
        "\n",
        "        \n",
        "    def call(self, enc_in, dec_in, enc_mask, causality_mask, dec_mask):\n",
        "        enc_in = self.embedding(self.enc_emb, enc_in)\n",
        "        dec_in = self.embedding(self.dec_emb, dec_in)\n",
        "\n",
        "        enc_out, enc_attns = self.encoder(enc_in, enc_mask)\n",
        "        \n",
        "        dec_out, dec_attns, dec_enc_attns = \\\n",
        "        self.decoder(dec_in, enc_out, causality_mask, dec_mask)\n",
        "        \n",
        "        logits = self.fc(dec_out)\n",
        "        \n",
        "        return logits, enc_attns, dec_attns, dec_enc_attns"
      ]
    },
    {
      "cell_type": "code",
      "execution_count": null,
      "id": "40077552",
      "metadata": {
        "id": "40077552"
      },
      "outputs": [],
      "source": [
        "transformer = Transformer(\n",
        "    n_layers=2,\n",
        "    d_model=128,\n",
        "    n_heads=8,\n",
        "    d_ff=128,\n",
        "    dropout=0.5,\n",
        "    pos_len=200,\n",
        "    shared=True,\n",
        "    src_vocab_size=5872, tgt_vocab_size=5872\n",
        ")"
      ]
    },
    {
      "cell_type": "markdown",
      "id": "480b9d98",
      "metadata": {
        "id": "480b9d98"
      },
      "source": [
        "### **5-10. Optimizer**"
      ]
    },
    {
      "cell_type": "code",
      "execution_count": null,
      "id": "18b845a8",
      "metadata": {
        "id": "18b845a8"
      },
      "outputs": [],
      "source": [
        "class LearningRateScheduler(tf.keras.optimizers.schedules.LearningRateSchedule):\n",
        "    def __init__(self, d_model, warmup_steps=4000):\n",
        "        super(LearningRateScheduler, self).__init__()\n",
        "        self.d_model = d_model\n",
        "        self.warmup_steps = warmup_steps\n",
        "    \n",
        "    def __call__(self, step):\n",
        "        arg1 = step ** -0.5\n",
        "        arg2 = step * (self.warmup_steps ** -1.5)\n",
        "        \n",
        "        return (self.d_model ** -0.5) * tf.math.minimum(arg1, arg2)"
      ]
    },
    {
      "cell_type": "code",
      "execution_count": null,
      "id": "09cb9da5",
      "metadata": {
        "id": "09cb9da5"
      },
      "outputs": [],
      "source": [
        "def loss_function(real, pred):\n",
        "    mask = tf.math.logical_not(tf.math.equal(real, 0))\n",
        "    loss_ = loss_object(real, pred)\n",
        "    mask = tf.cast(mask, dtype=loss_.dtype)\n",
        "    loss_ *= mask\n",
        "    return tf.reduce_sum(loss_)/tf.reduce_sum(mask)"
      ]
    },
    {
      "cell_type": "code",
      "execution_count": null,
      "id": "59da2f8c",
      "metadata": {
        "id": "59da2f8c"
      },
      "outputs": [],
      "source": [
        "learning_rate = LearningRateScheduler(512)\n",
        "optimizer = tf.keras.optimizers.Adam(\n",
        "    learning_rate, beta_1=0.9, beta_2=0.98, epsilon=1e-9\n",
        ")\n",
        "\n",
        "loss_object = tf.keras.losses.SparseCategoricalCrossentropy(\n",
        "    from_logits=True, reduction='none')"
      ]
    },
    {
      "cell_type": "markdown",
      "id": "adf25f33",
      "metadata": {
        "id": "adf25f33"
      },
      "source": [
        "## **6. 모델 학습**"
      ]
    },
    {
      "cell_type": "markdown",
      "id": "01e79f2f",
      "metadata": {
        "id": "01e79f2f"
      },
      "source": [
        "### **6-1. 학습 함수 생성**"
      ]
    },
    {
      "cell_type": "code",
      "execution_count": null,
      "id": "4328feed",
      "metadata": {
        "id": "4328feed"
      },
      "outputs": [],
      "source": [
        "@tf.function()\n",
        "def train_step(src, tgt, model, optimizer):\n",
        "    tgt_in = tgt[:, :-1]\n",
        "    gold = tgt[:, 1:]\n",
        "\n",
        "    enc_mask, dec_enc_mask, dec_mask = generate_masks(src, tgt_in)\n",
        "\n",
        "    with tf.GradientTape() as tape:\n",
        "        predictions, enc_attns, dec_attns, dec_enc_attns = \\\n",
        "        model(src, tgt_in, enc_mask, dec_enc_mask, dec_mask)\n",
        "        loss = loss_function(gold, predictions)\n",
        "\n",
        "    gradients = tape.gradient(loss, model.trainable_variables)    \n",
        "    optimizer.apply_gradients(zip(gradients, model.trainable_variables))\n",
        "\n",
        "    return loss, enc_attns, dec_attns, dec_enc_attns"
      ]
    },
    {
      "cell_type": "markdown",
      "id": "868fc88f",
      "metadata": {
        "id": "868fc88f"
      },
      "source": [
        "### **6-2. 학습 진행**"
      ]
    },
    {
      "cell_type": "code",
      "execution_count": null,
      "id": "dddb851e",
      "metadata": {
        "id": "dddb851e",
        "outputId": "7e17fa5a-bb8d-4ce4-80ba-86d2f247716a"
      },
      "outputs": [
        {
          "data": {
            "application/vnd.jupyter.widget-view+json": {
              "model_id": "0d333f0150eb450c8da6b1a78769f909",
              "version_major": 2,
              "version_minor": 0
            },
            "text/plain": [
              "  0%|          | 0/468 [00:00<?, ?it/s]"
            ]
          },
          "metadata": {},
          "output_type": "display_data"
        },
        {
          "data": {
            "application/vnd.jupyter.widget-view+json": {
              "model_id": "24916b5023dc41b09ce9f38d1604040e",
              "version_major": 2,
              "version_minor": 0
            },
            "text/plain": [
              "  0%|          | 0/468 [00:00<?, ?it/s]"
            ]
          },
          "metadata": {},
          "output_type": "display_data"
        },
        {
          "data": {
            "application/vnd.jupyter.widget-view+json": {
              "model_id": "e9a564ab92114f53a1360e0de480824d",
              "version_major": 2,
              "version_minor": 0
            },
            "text/plain": [
              "  0%|          | 0/468 [00:00<?, ?it/s]"
            ]
          },
          "metadata": {},
          "output_type": "display_data"
        },
        {
          "data": {
            "application/vnd.jupyter.widget-view+json": {
              "model_id": "57e5ea962945472ea05f9f021c13b6fa",
              "version_major": 2,
              "version_minor": 0
            },
            "text/plain": [
              "  0%|          | 0/468 [00:00<?, ?it/s]"
            ]
          },
          "metadata": {},
          "output_type": "display_data"
        },
        {
          "data": {
            "application/vnd.jupyter.widget-view+json": {
              "model_id": "d453933b3e2944e0b77423a054f49e71",
              "version_major": 2,
              "version_minor": 0
            },
            "text/plain": [
              "  0%|          | 0/468 [00:00<?, ?it/s]"
            ]
          },
          "metadata": {},
          "output_type": "display_data"
        },
        {
          "data": {
            "application/vnd.jupyter.widget-view+json": {
              "model_id": "6fd6614e14994f71ac8938ad7d582527",
              "version_major": 2,
              "version_minor": 0
            },
            "text/plain": [
              "  0%|          | 0/468 [00:00<?, ?it/s]"
            ]
          },
          "metadata": {},
          "output_type": "display_data"
        },
        {
          "data": {
            "application/vnd.jupyter.widget-view+json": {
              "model_id": "023b139bc38f4e3d8600dd923e38796a",
              "version_major": 2,
              "version_minor": 0
            },
            "text/plain": [
              "  0%|          | 0/468 [00:00<?, ?it/s]"
            ]
          },
          "metadata": {},
          "output_type": "display_data"
        },
        {
          "data": {
            "application/vnd.jupyter.widget-view+json": {
              "model_id": "99531806d30c43c9b25ad29ccc82c8bc",
              "version_major": 2,
              "version_minor": 0
            },
            "text/plain": [
              "  0%|          | 0/468 [00:00<?, ?it/s]"
            ]
          },
          "metadata": {},
          "output_type": "display_data"
        },
        {
          "data": {
            "application/vnd.jupyter.widget-view+json": {
              "model_id": "8bc311f87bad4768b4dfec7d57217a54",
              "version_major": 2,
              "version_minor": 0
            },
            "text/plain": [
              "  0%|          | 0/468 [00:00<?, ?it/s]"
            ]
          },
          "metadata": {},
          "output_type": "display_data"
        },
        {
          "data": {
            "application/vnd.jupyter.widget-view+json": {
              "model_id": "5d837b1320f34c44b108d1b9b6f0b8c7",
              "version_major": 2,
              "version_minor": 0
            },
            "text/plain": [
              "  0%|          | 0/468 [00:00<?, ?it/s]"
            ]
          },
          "metadata": {},
          "output_type": "display_data"
        }
      ],
      "source": [
        "def model_fit(enc_train, dec_train, model, epochs, batch_size):\n",
        "    for epoch in range(epochs):\n",
        "        total_loss = 0\n",
        "\n",
        "        idx_list = list(range(0, enc_train.shape[0], batch_size))\n",
        "        random.shuffle(idx_list)\n",
        "        t = tqdm(idx_list)\n",
        "\n",
        "        for (batch, idx) in enumerate(t):\n",
        "            batch_loss, enc_attns, dec_attns, dec_enc_attns = \\\n",
        "            train_step(\n",
        "                enc_train[idx:idx+batch_size],\n",
        "                dec_train[idx:idx+batch_size],\n",
        "                model,\n",
        "                optimizer\n",
        "            )\n",
        "\n",
        "            total_loss += batch_loss\n",
        "\n",
        "            t.set_description_str('Epoch %2d' % (epoch + 1))\n",
        "            t.set_postfix_str('Loss %.4f' % (total_loss.numpy() / (batch + 1)))\n",
        "            \n",
        "\n",
        "model_fit(enc_tensor, dec_tensor, transformer, epochs=10, batch_size=64)"
      ]
    },
    {
      "cell_type": "markdown",
      "id": "3cc45fee",
      "metadata": {
        "id": "3cc45fee"
      },
      "source": [
        "### **6-3. 학습 결과 확인**"
      ]
    },
    {
      "cell_type": "code",
      "execution_count": null,
      "id": "29597768",
      "metadata": {
        "id": "29597768"
      },
      "outputs": [],
      "source": [
        "def translate(sentence, model, tokenizer, enc_tensor, dec_tensor):\n",
        "    enc_maxlen = enc_tensor.shape[-1]\n",
        "    dec_maxlen = dec_tensor.shape[-1]\n",
        "\n",
        "    sos_idx = tokenizer.word_index['<sos>']\n",
        "    eos_idx = tokenizer.word_index['<eos>']\n",
        "\n",
        "    sentence = preprocess_sentence(sentence)\n",
        "\n",
        "    m = Mecab()\n",
        "    sentence = m.morphs(sentence)\n",
        "\n",
        "    _input = tokenizer.texts_to_sequences([sentence])\n",
        "    _input = tf.keras.preprocessing.sequence.pad_sequences(\n",
        "        _input,\n",
        "        maxlen=enc_maxlen,\n",
        "        padding='post'\n",
        "    )\n",
        "\n",
        "    ids = []\n",
        "    output = tf.expand_dims([sos_idx], 0)\n",
        "\n",
        "    for i in range(dec_maxlen):\n",
        "        enc_padding_mask, combined_mask, dec_padding_mask = generate_masks(\n",
        "            _input, output\n",
        "        )\n",
        "\n",
        "        predictions, enc_attns, dec_attns, dec_enc_attns = model(\n",
        "            _input, output, enc_padding_mask, combined_mask, dec_padding_mask\n",
        "        )\n",
        "\n",
        "        predicted_id = tf.argmax(\n",
        "            tf.math.softmax(predictions, axis=-1)[0, -1]\n",
        "        ).numpy().item()\n",
        "\n",
        "        if predicted_id == eos_idx:\n",
        "            result = tokenizer.sequences_to_texts([ids])\n",
        "            return result\n",
        "\n",
        "        ids.append(predicted_id)\n",
        "        output = tf.concat([output, tf.expand_dims([predicted_id], 0)], axis=-1)\n",
        "    result = tokenizer.sequences_to_texts([ids])\n",
        "    return result"
      ]
    },
    {
      "cell_type": "code",
      "execution_count": null,
      "id": "b6442a4c",
      "metadata": {
        "id": "b6442a4c",
        "outputId": "6f09e406-e92c-48a5-ad13-22bcdf4a7689"
      },
      "outputs": [
        {
          "name": "stdout",
          "output_type": "stream",
          "text": [
            "Quenstion: 지루하다, 놀러가고 싶어.                          \n",
            "Answer: 저 도 요 !                                  \n",
            "\n",
            "Quenstion: 오늘 일찍 일어났더니 피곤하다.                       \n",
            "Answer: <UNK> 을 많이 하 는 건 어떨까 요 ?                 \n",
            "\n",
            "Quenstion: 간만에 여자친구랑 데이트 하기로 했어.                   \n",
            "Answer: 좋 은 만남 만 하 셨 네요 .                        \n",
            "\n",
            "Quenstion: 집에 있는다는 소리야.                            \n",
            "Answer: 온전 하 고 있 었 나 봐요 .                        \n",
            "\n"
          ]
        }
      ],
      "source": [
        "test_sentences = [\"지루하다, 놀러가고 싶어.\", \"오늘 일찍 일어났더니 피곤하다.\", \"간만에 여자친구랑 데이트 하기로 했어.\", \"집에 있는다는 소리야.\"]\n",
        "\n",
        "for sentence in test_sentences:\n",
        "    ans = translate(sentence, transformer, tokenizer, enc_tensor, dec_tensor)[0]\n",
        "    print(f\"Quenstion: {sentence:<40}\")\n",
        "    print(f\"Answer: {ans:<40}\", \"\\n\")"
      ]
    },
    {
      "cell_type": "markdown",
      "id": "5cbe454b",
      "metadata": {
        "id": "5cbe454b"
      },
      "source": [
        "## **7. 모델 평가**"
      ]
    },
    {
      "cell_type": "markdown",
      "id": "7d8c101e",
      "metadata": {
        "id": "7d8c101e"
      },
      "source": [
        "### **7-1. Beam Search 및 BLEU 함수 정의**"
      ]
    },
    {
      "cell_type": "markdown",
      "id": "c72ca8b6",
      "metadata": {
        "id": "c72ca8b6"
      },
      "source": [
        "- **모델 입력 및 출력 함수**"
      ]
    },
    {
      "cell_type": "code",
      "execution_count": null,
      "id": "984ad3c5",
      "metadata": {
        "id": "984ad3c5"
      },
      "outputs": [],
      "source": [
        "def calc_prob(src_ids, tgt_ids, model):\n",
        "    enc_padding_mask, combined_mask, dec_padding_mask = generate_masks(\n",
        "        src_ids, tgt_ids\n",
        "    )\n",
        "    \n",
        "    predictions, enc_attns, dec_attns, dec_enc_attns = model(\n",
        "        src_ids, tgt_ids, enc_padding_mask, combined_mask, dec_padding_mask\n",
        "    )\n",
        "    return tf.math.softmax(predictions, axis=-1)"
      ]
    },
    {
      "cell_type": "markdown",
      "id": "07108f0b",
      "metadata": {
        "id": "07108f0b"
      },
      "source": [
        "- **Beam Search**"
      ]
    },
    {
      "cell_type": "code",
      "execution_count": null,
      "id": "81eb2f31",
      "metadata": {
        "id": "81eb2f31"
      },
      "outputs": [],
      "source": [
        "def beam_search_decoder(\n",
        "    sentence, model, tokenizer,\n",
        "    enc_maxlen, dec_maxlen,\n",
        "    beam_size\n",
        "):\n",
        "    sos_idx = tokenizer.word_index['<sos>']\n",
        "    eos_idx = tokenizer.word_index['<eos>']\n",
        "\n",
        "    tokens = tokenizer.texts_to_sequences([sentence])\n",
        "    src_in = tf.keras.preprocessing.sequence.pad_sequences(\n",
        "        tokens,\n",
        "        maxlen=enc_maxlen,\n",
        "        padding='post'\n",
        "    )\n",
        "\n",
        "    pred_cache = np.zeros((beam_size * beam_size, dec_maxlen), dtype=np.long)\n",
        "    pred = np.zeros((beam_size, dec_maxlen), dtype=np.long)\n",
        "\n",
        "    eos_flag = np.zeros((beam_size, ), dtype=np.long)\n",
        "    scores = np.ones((beam_size, ))\n",
        "\n",
        "    pred[:, 0] = sos_idx\n",
        "\n",
        "    dec_in = tf.expand_dims(pred[0, :1], 0)\n",
        "    prob = calc_prob(src_in, dec_in, model)[0, -1].numpy()\n",
        "    \n",
        "    \n",
        "    for seq_pos in range(1, dec_maxlen):\n",
        "        score_cache = np.ones((beam_size * beam_size, ))\n",
        "\n",
        "        # init\n",
        "        for branch_idx in range(beam_size):\n",
        "            cache_pos = branch_idx*beam_size\n",
        "\n",
        "            score_cache[cache_pos:cache_pos+beam_size] = scores[branch_idx]\n",
        "            pred_cache[cache_pos:cache_pos+beam_size, :seq_pos] = \\\n",
        "            pred[branch_idx, :seq_pos]\n",
        "\n",
        "        for branch_idx in range(beam_size):\n",
        "            cache_pos = branch_idx*beam_size\n",
        "\n",
        "            if seq_pos != 1:   # 모든 Branch를 로 시작하는 경우를 방지\n",
        "                dec_in = pred_cache[branch_idx, :seq_pos]\n",
        "                dec_in = tf.expand_dims(dec_in, 0)\n",
        "\n",
        "                prob = calc_prob(src_in, dec_in, model)[0, -1].numpy()\n",
        "\n",
        "            for beam_idx in range(beam_size):\n",
        "                max_idx = np.argmax(prob)\n",
        "\n",
        "                score_cache[cache_pos+beam_idx] *= prob[max_idx]\n",
        "                pred_cache[cache_pos+beam_idx, seq_pos] = max_idx\n",
        "\n",
        "                prob[max_idx] = -1\n",
        "\n",
        "        for beam_idx in range(beam_size):\n",
        "            if eos_flag[beam_idx] == -1: continue\n",
        "\n",
        "            max_idx = np.argmax(score_cache)\n",
        "            prediction = pred_cache[max_idx, :seq_pos+1]\n",
        "\n",
        "            pred[beam_idx, :seq_pos+1] = prediction\n",
        "            scores[beam_idx] = score_cache[max_idx]\n",
        "            score_cache[max_idx] = -1\n",
        "\n",
        "            if prediction[-1] == eos_idx:\n",
        "                eos_flag[beam_idx] = -1\n",
        "    return pred"
      ]
    },
    {
      "cell_type": "markdown",
      "id": "8ca1d6a8",
      "metadata": {
        "id": "8ca1d6a8"
      },
      "source": [
        "- **BLEU 계산 함수**"
      ]
    },
    {
      "cell_type": "code",
      "execution_count": null,
      "id": "d0455dd8",
      "metadata": {
        "id": "d0455dd8"
      },
      "outputs": [],
      "source": [
        "def calculate_bleu(reference, candidate, weights=[0.25, 0.25, 0.25, 0.25]):\n",
        "    return sentence_bleu(\n",
        "        [reference],\n",
        "        candidate,\n",
        "        weights=weights,\n",
        "        smoothing_function=SmoothingFunction().method1\n",
        "    )"
      ]
    },
    {
      "cell_type": "markdown",
      "id": "c74c5ff8",
      "metadata": {
        "id": "c74c5ff8"
      },
      "source": [
        "- **Beam search 및 BLEU 계산 함수**"
      ]
    },
    {
      "cell_type": "code",
      "execution_count": null,
      "id": "4455e2e9",
      "metadata": {
        "id": "4455e2e9"
      },
      "outputs": [],
      "source": [
        "def beam_bleu(reference, ids, tokenizer, verbose=False):\n",
        "    reference = reference.split()\n",
        "\n",
        "    total_score = 0.0\n",
        "    for _id in ids:\n",
        "        seq2text = tokenizer.sequences_to_texts([_id])[0]\n",
        "        _idx =  seq2text.find(\"<eos>\")\n",
        "        seq2text = seq2text[6:_idx]\n",
        "        candidate = seq2text.split()\n",
        "        score = calculate_bleu(reference, candidate)\n",
        "        \n",
        "        if verbose:\n",
        "            print(\"Reference:\".ljust(10), \" \".join(reference))\n",
        "            print(\"Candidate:\".ljust(10), \" \".join(candidate))\n",
        "            print(\"BLEU:\".ljust(10), f\"{calculate_bleu(reference, candidate):.3f}\", end=\"\\n\\n\")\n",
        "        \n",
        "        total_score += score\n",
        "        \n",
        "    return total_score / len(ids)"
      ]
    },
    {
      "cell_type": "markdown",
      "id": "ed56c9a5",
      "metadata": {
        "id": "ed56c9a5"
      },
      "source": [
        "- **Beam search 예문 및 BLEU 출력**"
      ]
    },
    {
      "cell_type": "code",
      "execution_count": null,
      "id": "9c23bc2d",
      "metadata": {
        "id": "9c23bc2d"
      },
      "outputs": [],
      "source": [
        "idx = 30\n",
        "test_enc_sentence = test_dataset[\"Q\"][idx]\n",
        "\n",
        "test_dec_tensor = encoding_sentence(test_dataset[\"A\"], tokenizer)\n",
        "test_dec_sentence = tokenizer.sequences_to_texts([test_dec_tensor[idx]])[0]\n",
        "_idx = test_dec_sentence.find(\"<eos>\")\n",
        "test_dec_sentence = test_dec_sentence[6:_idx]\n",
        "\n",
        "\n",
        "ids = beam_search_decoder(\n",
        "    test_enc_sentence,\n",
        "    transformer, tokenizer,\n",
        "    enc_tensor.shape[-1], dec_tensor.shape[-1],\n",
        "    beam_size=5\n",
        ")\n",
        "\n",
        "bleu = beam_bleu(test_dec_sentence, ids, tokenizer, verbose=True)"
      ]
    },
    {
      "cell_type": "markdown",
      "id": "77bbaf2f",
      "metadata": {
        "id": "77bbaf2f"
      },
      "source": [
        "### **7-2. Test data BLEU**"
      ]
    },
    {
      "cell_type": "code",
      "execution_count": null,
      "id": "76edfb4f",
      "metadata": {
        "id": "76edfb4f"
      },
      "outputs": [],
      "source": [
        "enc_maxlen = enc_tensor.shape[-1]\n",
        "dec_maxlen = dec_tensor.shape[-1]\n",
        "\n",
        "aver_bleu = 0\n",
        "for _, que, ans in test_dataset.itertuples():\n",
        "    ids = beam_search_decoder(\n",
        "        que,\n",
        "        transformer, tokenizer,\n",
        "        enc_maxlen, dec_maxlen,\n",
        "        beam_size=5\n",
        "    )\n",
        "    \n",
        "    test_dec_sentence = tokenizer.sequences_to_texts([que])[0]\n",
        "    _idx = test_dec_sentence.find(\"<eos>\")\n",
        "    test_dec_sentence = test_dec_sentence[6:_idx]\n",
        "    \n",
        "    aver_bleu += beam_bleu(test_dec_sentence, ids, tokenizer, verbose=False)"
      ]
    },
    {
      "cell_type": "code",
      "execution_count": null,
      "id": "55506c48",
      "metadata": {
        "id": "55506c48",
        "outputId": "3252a117-dcc3-4d3a-b1d2-0126fea974d2"
      },
      "outputs": [
        {
          "name": "stdout",
          "output_type": "stream",
          "text": [
            "Test Data BLEU: 0.576\n"
          ]
        }
      ],
      "source": [
        "print(f\"Test Data BLEU: {aver_bleu:.3f}\")"
      ]
    },
    {
      "cell_type": "markdown",
      "id": "70ba5ee8",
      "metadata": {
        "id": "70ba5ee8"
      },
      "source": [
        "### **7-3. 최종 결과**"
      ]
    },
    {
      "cell_type": "markdown",
      "id": "ccd198de",
      "metadata": {
        "id": "ccd198de"
      },
      "source": [
        "최종 Test의 BLEU는 0.576으로, 이해할 수 있는 양호한 번역으로 준수한 성능으로 평가되지만, 평가 수준에 비해 생각보다 실제 나타난 문장이 매끄럽지 않은 경우가 많다."
      ]
    }
  ],
  "metadata": {
    "kernelspec": {
      "display_name": "Python 3 (ipykernel)",
      "language": "python",
      "name": "python3"
    },
    "language_info": {
      "codemirror_mode": {
        "name": "ipython",
        "version": 3
      },
      "file_extension": ".py",
      "mimetype": "text/x-python",
      "name": "python",
      "nbconvert_exporter": "python",
      "pygments_lexer": "ipython3",
      "version": "3.9.7"
    },
    "colab": {
      "provenance": [],
      "collapsed_sections": [
        "41566a4d",
        "543b7cdd",
        "4cda85e8",
        "71d74a7e",
        "e82e054d",
        "6ec6a4a6",
        "fb7201e8",
        "12b403c4",
        "a74fb422",
        "5acd02aa",
        "e926b845",
        "9caa3d8e",
        "02c8fca8",
        "3a51d728",
        "480b9d98",
        "01e79f2f",
        "868fc88f",
        "3cc45fee",
        "7d8c101e",
        "77bbaf2f",
        "97235e32"
      ],
      "include_colab_link": true
    }
  },
  "nbformat": 4,
  "nbformat_minor": 5
}