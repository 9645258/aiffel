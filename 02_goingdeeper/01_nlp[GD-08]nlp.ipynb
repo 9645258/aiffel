{
  "nbformat": 4,
  "nbformat_minor": 0,
  "metadata": {
    "colab": {
      "name": "[GD-08]nlp.ipynb",
      "provenance": [],
      "collapsed_sections": [],
      "machine_shape": "hm",
      "authorship_tag": "ABX9TyNbfr0GC147tmTnxYgrE4Tf",
      "include_colab_link": true
    },
    "kernelspec": {
      "name": "python3",
      "display_name": "Python 3"
    },
    "language_info": {
      "name": "python"
    },
    "accelerator": "GPU",
    "gpuClass": "standard"
  },
  "cells": [
    {
      "cell_type": "markdown",
      "metadata": {
        "id": "view-in-github",
        "colab_type": "text"
      },
      "source": [
        "<a href=\"https://colab.research.google.com/github/9645258/aiffel/blob/main/02_goingdeeper/01_nlp%5BGD-08%5Dnlp.ipynb\" target=\"_parent\"><img src=\"https://colab.research.google.com/assets/colab-badge.svg\" alt=\"Open In Colab\"/></a>"
      ]
    },
    {
      "cell_type": "markdown",
      "source": [
        "# **GD NLP 08 : Seq2seq으로 번역기 만들기**"
      ],
      "metadata": {
        "id": "pNXL_JsblFzm"
      }
    },
    {
      "cell_type": "markdown",
      "source": [
        "- **한영 번역기 만들기**  \n",
        "\n",
        "- **번역기 모델 학습에 필요한 텍스트 데이터 전처리가 한국어 포함하여 잘 이루어졌다.**  \n",
        "구두점, 대소문자, 띄어쓰기, 한글 형태소분석 등 번역기 모델에 요구되는 전처리가 정상적으로 진행되었다.  \n",
        "\n",
        "- **Attentional Seq2seq 모델이 정상적으로 구동된다.**  \n",
        "seq2seq 모델 훈련 과정에서 training loss가 안정적으로 떨어지면서 학습이 진행됨이 확인되었다.  \n",
        "\n",
        "- **테스트 결과 의미가 통하는 수준의 번역문이 생성되었다.**  \n",
        "테스트용 디코더 모델이 정상적으로 만들어져서, 정답과 어느 정도 유사한 영어 번역이 진행됨을 확인하였다.  "
      ],
      "metadata": {
        "id": "kknJZLHnrRiH"
      }
    },
    {
      "cell_type": "markdown",
      "source": [
        "## **1. 데이터 준비**\n"
      ],
      "metadata": {
        "id": "h0sduuCFlOTm"
      }
    },
    {
      "cell_type": "markdown",
      "source": [
        "### **1-1. 라이브러리 import**"
      ],
      "metadata": {
        "id": "NTOWlZFfsOWb"
      }
    },
    {
      "cell_type": "code",
      "execution_count": null,
      "metadata": {
        "id": "m0ZziMjIYqvu"
      },
      "outputs": [],
      "source": [
        "import re\n",
        "import os\n",
        "import io\n",
        "import random\n",
        "import tarfile\n",
        "import numpy as np\n",
        "import pandas as pd\n",
        "from tqdm import tqdm\n",
        "from konlpy.tag import Mecab\n",
        "\n",
        "import tensorflow as tf\n",
        "\n",
        "import seaborn as sns\n",
        "import matplotlib as mpl\n",
        "import matplotlib.pyplot as plt\n",
        "import matplotlib.ticker as ticker\n",
        "import matplotlib.font_manager as fm\n",
        "\n",
        "import warnings\n",
        "warnings.filterwarnings(action='ignore')"
      ]
    },
    {
      "cell_type": "code",
      "source": [
        "mpl.rcParams['font.family'] = 'NanumBarunGothic'\n",
        "mpl.rcParams['font.size'] = 12"
      ],
      "metadata": {
        "id": "6sIh0SieAZxn"
      },
      "execution_count": null,
      "outputs": []
    },
    {
      "cell_type": "code",
      "source": [
        "print(mpl.rcParams['font.family'])\n",
        "print(mpl.rcParams['font.size'])"
      ],
      "metadata": {
        "colab": {
          "base_uri": "https://localhost:8080/"
        },
        "id": "X1Jl61_c87Vg",
        "outputId": "6f92957d-450f-408a-94d6-2792ed16f3f6"
      },
      "execution_count": null,
      "outputs": [
        {
          "output_type": "stream",
          "name": "stdout",
          "text": [
            "['NanumBarunGothic']\n",
            "12.0\n"
          ]
        }
      ]
    },
    {
      "cell_type": "markdown",
      "source": [
        "### **1-2. 데이터 import**"
      ],
      "metadata": {
        "id": "bu2WWXoBsU5v"
      }
    },
    {
      "cell_type": "code",
      "source": [
        "from google.colab import drive\n",
        "drive.mount('/content/drive')"
      ],
      "metadata": {
        "colab": {
          "base_uri": "https://localhost:8080/"
        },
        "id": "nI1fw5gekDLc",
        "outputId": "7d2ff5c2-384c-4a8c-ed5e-4c042a63a0d9"
      },
      "execution_count": null,
      "outputs": [
        {
          "output_type": "stream",
          "name": "stdout",
          "text": [
            "Drive already mounted at /content/drive; to attempt to forcibly remount, call drive.mount(\"/content/drive\", force_remount=True).\n"
          ]
        }
      ]
    },
    {
      "cell_type": "markdown",
      "source": [
        "- **국문 및 영문 데이터 import**"
      ],
      "metadata": {
        "id": "_BNkngk5tAIe"
      }
    },
    {
      "cell_type": "code",
      "source": [
        "path_to_en = \"/content/drive/MyDrive/Colab Notebooks/aiffel/01_data/02-1_nlp/08/korean-english-news-v1/train/korean-english-park.train.en\"\n",
        "path_to_ko = \"/content/drive/MyDrive/Colab Notebooks/aiffel/01_data/02-1_nlp/08/korean-english-news-v1/train/korean-english-park.train.ko\""
      ],
      "metadata": {
        "id": "cKSx6r_vmVjA"
      },
      "execution_count": null,
      "outputs": []
    },
    {
      "cell_type": "code",
      "source": [
        "with open(path_to_ko, \"r\") as f:\n",
        "    kor_raw = f.read().splitlines()"
      ],
      "metadata": {
        "id": "4VmEcWWomzeu"
      },
      "execution_count": null,
      "outputs": []
    },
    {
      "cell_type": "code",
      "source": [
        "with open(path_to_en, \"r\") as f:\n",
        "    eng_raw = f.read().splitlines()"
      ],
      "metadata": {
        "id": "03Ho-DqrpzBH"
      },
      "execution_count": null,
      "outputs": []
    },
    {
      "cell_type": "markdown",
      "source": [
        "### **1-3. 데이터 확인**"
      ],
      "metadata": {
        "id": "u_rng_izsg5C"
      }
    },
    {
      "cell_type": "markdown",
      "source": [
        "- **데이터 수 확인**"
      ],
      "metadata": {
        "id": "Cd4aDScjsy4b"
      }
    },
    {
      "cell_type": "code",
      "source": [
        "print('국문 데이터 수:', len(kor_raw))\n",
        "print('영문 데이터 수:', len(eng_raw))"
      ],
      "metadata": {
        "colab": {
          "base_uri": "https://localhost:8080/"
        },
        "id": "7-fWt-Gaoi_r",
        "outputId": "037cf4e8-cd28-4707-b7ea-c322978000e0"
      },
      "execution_count": null,
      "outputs": [
        {
          "output_type": "stream",
          "name": "stdout",
          "text": [
            "국문 데이터 수: 94123\n",
            "영문 데이터 수: 94123\n"
          ]
        }
      ]
    },
    {
      "cell_type": "markdown",
      "source": [
        "- **데이터 확인**"
      ],
      "metadata": {
        "id": "1ejScIEkt3oJ"
      }
    },
    {
      "cell_type": "code",
      "source": [
        "print('<국문 데이터>\\n', random.sample(kor_raw, 30), '\\n')\n",
        "print('<영문 데이터>\\n', random.sample(eng_raw, 30))"
      ],
      "metadata": {
        "colab": {
          "base_uri": "https://localhost:8080/"
        },
        "id": "wOf9ZfAIo_7R",
        "outputId": "12c05093-3549-4d65-dfff-d5b7f188bce1"
      },
      "execution_count": null,
      "outputs": [
        {
          "output_type": "stream",
          "name": "stdout",
          "text": [
            "<국문 데이터>\n",
            " [\"음향 편집상은 영화 '이와 지마의 편지'의 앨런 로버트 머레이와 법 애스먼 팀에게 돌아갔다.\", '한편 로드리게스는 지난 2일 열린 미네소타 트윈스와 뉴욕 양키스와의 경기에서 병살타를 막기 위해 1루로 전력 질주하다 넘어져 부상을 입었다.', '아들은 아버지로부터 사업을 이어받는다.', '\"만약 영화가 엄청난 흥행 성적을 기록한 지점에 스파이크를 찍은 그래프를 본다면 그것은 미국 지하세계의 진실한 지도를 보는 것과 같다.', '김 씨는 6년 전 BBK를 운영하는 동안 주가를 조작하고 및 기업 자금을 횡령한 혐의로 체포되었다.', '대통령 당선인의 상원의원직 후임으로 지명된 롤랜드 버리스는, 자신에 대한 이야기를 할 때 스스로를 3인칭으로 지칭하며, 자신에게는 아무런 문제가 없고 상원의원직 지명에도 아무런 문제가 없다고 말했습니다.', 'WBC 베네수엘라戰, 승리를 기원합니다', '부동산 보유세가 2005년에 비해 올해 12배 가량 증가함에따라 서울 강남의 고급아파트에 거주하는 약 40만 명의 부자들이 세금 폭탄을 맞게 되었다고 코리아 타임스가 보도했다.', '포레티는 65세가 넘는 사람의 6%에 달하는 사람들이 고통을 받고 있는 질환을 갖고 있다.', '스페인에서는 또한 임산부가 신체적으로나 정신적으로 위험하다는 의사 진단을 받을 경우 언제든 낙태를 할 수 있다.', '그는 사고 전투기가 저공비행을 하는 것을 목격했을 당시 20가구가 사는 주택가에서 얼마 떨어지지 않은 쇼핑센터로 점심을 먹기 위해 가던 중이었다.', '온몸으로 말하는 기상캐스터', \"to the improvement 에서 to는 적용의 대상을 나타내는\\xa0전치사로서 to는 to the improvement  and (to) the increase 와\\xa0같이 the increase 에도 걸린다는 것에 유의해야 한다. his well-being과 his wealth에서 his는 man's를 대신하는 것이다.\", '미 당국은 이전에 돌아다니는 들소를 포획, 브루셀라 감염 여부를 검사하지 않고 무조건 도살했다.', '여행 일정이 변경될 경우 ESTA 웹사이트에서 정보를 쉽게 업데이트할 수 있다.', '대체 무엇이 잘못된 것입니까?”', '최종 우승작 5개는 내년 5월에 상금을 받게 된다.', '한국측 사절은 카불 지역에 머무르고 있고, 가즈니 지역의 아프간 대사는 인질들이 석방될 것이라는 낙관적인 전망을 보이고 있다.', '이는 지난 2005년 사실상 중단됐다.', '4억 소녀, 또 비키니 입고 노출…', '그는 “충돌이 계속되고 있고 전부 단속할 것이다”고 덧붙였다.', '프랑스 출신 세드릭 봐세르가 18일(현지시간) 229.5km 거리의 투르 드 프랑스 제10구간 우승을 일궈냈다.', '원문 & 독해설명 인쇄 한덕수 재정경제부 장관은 북핵 문제 해결을 위한 6자 회담이 성공적으로 마무리될 경우 북한을 다음번 APEC 재무장관회의에 특별 초대하자고 제의했다.', '공산주의 국가 중국이 2명의 우주 비행사를 태운 두 번째 유인우주선을 성공적으로 발사했다.', '대신 장난스런 힌트와 2008년 대선 유세에서 보통사람을 나타내는 ‘조(Joe)’로 평범한 유명인사에 대해 동의한다는 의미로 그는 “나는 첼리스트 조”라고 소개했다.', '미국의 지상파 방송이 시청률 감소로 울상이다.', '총 소리가 들렸으나 정확히 총격전이 벌어진 곳이 밝혀지지 않았다.', '지난주 파키스탄 대법원은 내년 치러질 대통령 선거에 샤리프의 참여를 허락했다.', '일각에서는 푸틴이 러사아 당국의 금융거래를 조사해온 주브코프를 총리에 앉히려는 것은 정치적인 의도가 있다고 보고 있다.', '56세의 바오와 28세의 지아는 지난 3월 간소한 결혼식을 가졌었다.'] \n",
            "\n",
            "<영문 데이터>\n",
            " ['In 2008, TIME magazine named him one of the 100 most influential people in the world.', \"Women 'bearing brunt' of climat...\", 'Since announcing earlier this month it would join the strike, Hyundai’s union has been criticized heavily, in part because the automaker expects a huge increase in exports due to the free trade agreement between Korea and the United States.The union leaders made the decision to strike in an executive session without taking the required vote from all of the members.', 'Arranging or carrying out the procedure in Britain or abroad is a criminal offense punishable by up to 14 years in prison, but no one has been prosecuted since it was banned under British law in 2003, Jeffrey said.', 'Kenya orphanage takes in elepha...', 'Draft likely to be reduced', 'Protesters threw rocks and set fire to buildings, and security forces used tear gas in response.', \"The spreading flames prompted mandatory evacuations of up to 300 homes Tuesday in the Los Feliz neighborhood on the park's south side, according to the fire department.\", 'While Tuesday is an important primary day for Democrats, it could also be a turning point for Republicans.', 'Most travel companies in the region subscribe to IAATO, the International Association of Antarctic Tour Operators, which sets guidelines to manage tourism here.', 'But some youngsters complain that they have to interrupt careers and schooling.', '\"I have a responsibility and it\\'s something that I did wrong, and if I could personally apologize to every single person that has lost a loved one from drunk driving I would,\" Richie said.', 'The drugs were hidden in luggage on international commercial flights from the Dominican Republic to JFK, the complaint alleges.', 'And its 93 deaths now account for almost half of the recorded fatalities worldwide, according to figures from the World Health Organization.', 'To make matters more complicated, many of the best restaurants are hidden inside anonymous office blocks or a marked only by a tiny sign, usually in Japanese characters.', 'Lawmakers criticised Italy, backing the conclusions of an Italian prosecutor who wants to try 26 Americans, most believed to be CIA agents, and six Italians for their role in the 2003 kidnapping of a Muslim cleric in Milan.', 'The Beijing city government stopped giving out new rickshaw licenses a few years ago, so most are illegal but police generally turn a blind eye especially if a foreigner is on board.', \"He's apparently all right, but the Vice President has had to cancel a campaign appearance today because of a recurring heart problem.\", \"Not for the 21,000 additional General Motors workers who learned this morning they'll lose their factory jobs by next year, and not for car enthusiasts, who love the Pontiac brand, which is going away.\", 'They added that the drug could be an alternative to addictive sleep therapies such as benzodiazepines.', \"Obama's Senate office will close sometime within two months.\", \"Women 'bearing brunt' of climat...\", \"Harper's announcement comes as Canada marked its one-year anniversary of its mission in Kandahar, the former Taliban stronghold.\", \"Merckle's family had already reported him missing earlier in the day after he walked out of the house and did not return.\", '(CNN) Spaniards rarely seem at a loss for words except when it comes to their national anthem.', 'The warning came as a German journalist and his Afghan translator were kidnapped in eastern Afghanistan overnight.', '\"We will gauge how to make up for the lost production in due time,\" Watanabe said.', \"The film's boisterous fun kicks off from its recognition that the blues already was rock 'n' roll;\", \"In Tokyo, police arrested a 16-year-old boy on charges of swindling virtual currency worth $360,000 in an interactive role playing game by manipulating another player's portfolio using a stolen ID and password.\", '\"I would like to call for all political parties to join us in forming a strong government,\" PPP leader Samak Sundaravej said at a news conference. \"I will certainly be the prime minister.']\n"
          ]
        }
      ]
    },
    {
      "cell_type": "markdown",
      "source": [
        "### **1-4. 중복 데이터 제거**"
      ],
      "metadata": {
        "id": "Az16hhvJt9xQ"
      }
    },
    {
      "cell_type": "markdown",
      "source": [
        "- **중복 데이터 제거**  \n",
        "zip으로 병렬 쌍을 고정하여 set로 중복 데이터 제거"
      ],
      "metadata": {
        "id": "p0OkjhcXUj9f"
      }
    },
    {
      "cell_type": "code",
      "source": [
        "cleaned_corpus = set(zip(kor_raw,eng_raw))"
      ],
      "metadata": {
        "id": "ImvXmjpJUw1V"
      },
      "execution_count": null,
      "outputs": []
    },
    {
      "cell_type": "markdown",
      "source": [
        "- **중복 데이터 제거 후 데이터 수 확인**"
      ],
      "metadata": {
        "id": "50U19-tRADYI"
      }
    },
    {
      "cell_type": "code",
      "source": [
        "print(\"중복 데이터 제거 후 데이터 수:\", len(cleaned_corpus))"
      ],
      "metadata": {
        "colab": {
          "base_uri": "https://localhost:8080/"
        },
        "id": "bW1pbvuUAMCy",
        "outputId": "e80f6631-3d95-454f-a479-c0a984f5ec4e"
      },
      "execution_count": null,
      "outputs": [
        {
          "output_type": "stream",
          "name": "stdout",
          "text": [
            "중복 데이터 제거 후 데이터 수: 78968\n"
          ]
        }
      ]
    },
    {
      "cell_type": "markdown",
      "source": [
        "- **중복 데이터 제거 후 데이터 확인**"
      ],
      "metadata": {
        "id": "cfy1yPDZXSGA"
      }
    },
    {
      "cell_type": "code",
      "source": [
        "random.sample(cleaned_corpus, 10)"
      ],
      "metadata": {
        "colab": {
          "base_uri": "https://localhost:8080/"
        },
        "id": "pRoGel2TVzpT",
        "outputId": "7c8f5cd5-ae8d-451b-8847-3655d05c0810"
      },
      "execution_count": null,
      "outputs": [
        {
          "output_type": "execute_result",
          "data": {
            "text/plain": [
              "[('비위생적인 환경과 깨끗한 물의 부족으로 일부 피난캠프에서는 설사와 이질이 발생했다.',\n",
              "  'Unhygienic conditions and a lack of clean water have contributed to isolated cases of diarrhea and dysentery in some refugee camps.'),\n",
              " ('러시아 보안국 최고 책임자는 바사예프가 ‘특수작전’에 의한 전투 중에 사망했다고 발표했지만 반군 웹사이트는 바사예프를 비롯, 또 다른 세 명의 반군들이 폭발물을 가득 실은 트럭이 터지는 바람에 사망했다고 바사예프의 사망 소식을 전했다.',\n",
              "  'But a pro-rebel website said Basayev and three other militants died when a truck carrying explosives blew up accidentally.'),\n",
              " ('마돈나의 입양 문제와 관련, 65명의 인권 변호인단을 이끌고 있는 저스틴 드존지 변호사 또한 카인자 장관의 결정으로 입양 진행이 중단될 수 있다고 밝혔다.',\n",
              "  \"a human rights lawyer who led a 65-member rights group challenge to Madonna's adoption, also said the minister's decision could halt the adoption process.\"),\n",
              " ('미국 버클리 소재 캘리포니아 주립대학 연구진은 인도네시아 해안에 서식하는 야생 문어가 매력적인 상대에 대해 소심하거나 로맨틱하지 않은 독선적인 행동은 절대로 하지 않는다는 사실을 밝혀냈다.',\n",
              "  'The study by researchers from the University of California, Berkeley, who journeyed off the coast of Indonesia found that wild octopuses are far from the shy, unromantic loners their captive brethren appear to be.'),\n",
              " ('그러나 이스라엘 관계자는 휴전협상에 합의했다는 간단한 확인조차 하지 않은 상태다.',\n",
              "  'Israeli officials, however, stopped short of confirming that a cease-fire agreement has been reached.'),\n",
              " ('그러나 국제감자연구소만 감자의 탁월함을 인정한 것이 아니다.',\n",
              "  \"But it's not the only one hailing the qualities of the dirty spud.\"),\n",
              " ('공장 관리인인 데이브 도르코는 공장 내 모든 직원과 조사관들은 안전하며 처치를 받았다고 밝혔으나 정확한 부상자는 즉시 밝혀지지 않았다.',\n",
              "  'It was not immediately clear how many people were injured, though plant manager Dave Dorko said all employees and inspectors at the plant were safe and accounted for.'),\n",
              " ('백일해 백신에 관한 이번 연구에서 수천 명의 건강한 이탈리아 유아에게 두 가지 서로 다른 양의 티메로살을 투약하고 10년 후 1,400명의 아이들의 뇌 기능을 실험한 결과 단 한 명의 자폐증 사례만이 발견되었습니다.',\n",
              "  'Only one case of autism was found when testing the brain function of 1400 children 10 years after thousands of healthy Italian babies got two different amounts of the preservative in a study of whooping cough vaccine.'),\n",
              " ('탁신 계열의 정당인 국민의 힘(PPP)이 최근 연합 정부로 집권했다.',\n",
              "  \"Thaksin's party, the People Power Party(PPP), is the largest member of the current coalition government.\"),\n",
              " ('New history textbook aims to balance the ideological pendulum 이데올로기 균형 잡기 위해 새 국사 교과서 편찬\\xa0 \\xa0 \\xa02007.02',\n",
              "  'The two sides also agreed to dispatch a battalion of 350 soldiers to Lebanon on a peacekeeping mission, as well as to extend the presence of medical and engineering units in Afghanistan for another year.')]"
            ]
          },
          "metadata": {},
          "execution_count": 59
        }
      ]
    },
    {
      "cell_type": "markdown",
      "source": [
        "### **1-5. 데이터셋 변환**"
      ],
      "metadata": {
        "id": "ICMCpE86Agym"
      }
    },
    {
      "cell_type": "code",
      "source": [
        "dataset = pd.DataFrame(cleaned_corpus, columns=[\"kor\", \"eng\"])"
      ],
      "metadata": {
        "id": "s7PUhlCqAgGE"
      },
      "execution_count": null,
      "outputs": []
    },
    {
      "cell_type": "code",
      "source": [
        "dataset.sample(10)"
      ],
      "metadata": {
        "colab": {
          "base_uri": "https://localhost:8080/",
          "height": 363
        },
        "id": "zbS9jTzKAnqg",
        "outputId": "6b161bb3-d318-429e-9065-bbd6bf2900c2"
      },
      "execution_count": null,
      "outputs": [
        {
          "output_type": "execute_result",
          "data": {
            "text/plain": [
              "                                                     kor  \\\n",
              "15986  대다수의 한국인들은 현재의 대통령 임기를 바꾸려는 노무현 대통령의 개헌안이 국회나 ...   \n",
              "75331  교정국장은 “재소자들이 화장실의 변기를 혀로 청소하라는 압력을 받았다는 보고도 들어...   \n",
              "36587  이 용의자는 지난 몇 년간 아르헨티나 국적으로 칼로스 헥토르 프로멘바움이란 이름을 ...   \n",
              "41925                         올해 1/4분기 쿠바 방문객은 15% 증가했다.   \n",
              "67980  이란은 지난 몇주간 원심분리기 수백대를 설치했으며 다음달까지 3000번의 작업을 가...   \n",
              "43690  여성 가수의 부재는 올해 더 많이 부각되고 있다. 다른 주요 수상 분야인 올해의 앨...   \n",
              "18882                     북한,“폭정의 전초기지” 발언에 대해 미국에 사과 요구   \n",
              "9430                  한 러시아 남성이 이발비가 비싸다는 이유로 미용사를 살해했다.   \n",
              "24238  퍼거슨 감독은 “동점골은 우리에게 승리에 대한 인센티브를 줬으며 승리를 거둔 선수들...   \n",
              "76485  이번 회동은 두 국가 해법 등 오바마가 추구하는 포괄적 평화 정착 계획의 일환으로 ...   \n",
              "\n",
              "                                                     eng  \n",
              "15986  A majority of South Koreans believe President ...  \n",
              "75331  \"These were improper, illegal heinous and desp...  \n",
              "36587  The suspect had been a regular customer at the...  \n",
              "41925  HAVANA, Cuba (CNN) Cuba said Wednesday that it...  \n",
              "67980  Iran has installed hundreds of centrifuges wit...  \n",
              "43690  The absence of women may be more glaring this ...  \n",
              "18882  North Korea's leadership demanded an apology y...  \n",
              "9430   MOSCOW, Russia (CNN) A Russian man is accused ...  \n",
              "24238  \"The equaliser gave us the incentive to go on ...  \n",
              "76485  Senior White House officials say this meeting ...  "
            ],
            "text/html": [
              "\n",
              "  <div id=\"df-0fa8b45e-cb8b-4164-84aa-a1e968e0b4c3\">\n",
              "    <div class=\"colab-df-container\">\n",
              "      <div>\n",
              "<style scoped>\n",
              "    .dataframe tbody tr th:only-of-type {\n",
              "        vertical-align: middle;\n",
              "    }\n",
              "\n",
              "    .dataframe tbody tr th {\n",
              "        vertical-align: top;\n",
              "    }\n",
              "\n",
              "    .dataframe thead th {\n",
              "        text-align: right;\n",
              "    }\n",
              "</style>\n",
              "<table border=\"1\" class=\"dataframe\">\n",
              "  <thead>\n",
              "    <tr style=\"text-align: right;\">\n",
              "      <th></th>\n",
              "      <th>kor</th>\n",
              "      <th>eng</th>\n",
              "    </tr>\n",
              "  </thead>\n",
              "  <tbody>\n",
              "    <tr>\n",
              "      <th>15986</th>\n",
              "      <td>대다수의 한국인들은 현재의 대통령 임기를 바꾸려는 노무현 대통령의 개헌안이 국회나 ...</td>\n",
              "      <td>A majority of South Koreans believe President ...</td>\n",
              "    </tr>\n",
              "    <tr>\n",
              "      <th>75331</th>\n",
              "      <td>교정국장은 “재소자들이 화장실의 변기를 혀로 청소하라는 압력을 받았다는 보고도 들어...</td>\n",
              "      <td>\"These were improper, illegal heinous and desp...</td>\n",
              "    </tr>\n",
              "    <tr>\n",
              "      <th>36587</th>\n",
              "      <td>이 용의자는 지난 몇 년간 아르헨티나 국적으로 칼로스 헥토르 프로멘바움이란 이름을 ...</td>\n",
              "      <td>The suspect had been a regular customer at the...</td>\n",
              "    </tr>\n",
              "    <tr>\n",
              "      <th>41925</th>\n",
              "      <td>올해 1/4분기 쿠바 방문객은 15% 증가했다.</td>\n",
              "      <td>HAVANA, Cuba (CNN) Cuba said Wednesday that it...</td>\n",
              "    </tr>\n",
              "    <tr>\n",
              "      <th>67980</th>\n",
              "      <td>이란은 지난 몇주간 원심분리기 수백대를 설치했으며 다음달까지 3000번의 작업을 가...</td>\n",
              "      <td>Iran has installed hundreds of centrifuges wit...</td>\n",
              "    </tr>\n",
              "    <tr>\n",
              "      <th>43690</th>\n",
              "      <td>여성 가수의 부재는 올해 더 많이 부각되고 있다. 다른 주요 수상 분야인 올해의 앨...</td>\n",
              "      <td>The absence of women may be more glaring this ...</td>\n",
              "    </tr>\n",
              "    <tr>\n",
              "      <th>18882</th>\n",
              "      <td>북한,“폭정의 전초기지” 발언에 대해 미국에 사과 요구</td>\n",
              "      <td>North Korea's leadership demanded an apology y...</td>\n",
              "    </tr>\n",
              "    <tr>\n",
              "      <th>9430</th>\n",
              "      <td>한 러시아 남성이 이발비가 비싸다는 이유로 미용사를 살해했다.</td>\n",
              "      <td>MOSCOW, Russia (CNN) A Russian man is accused ...</td>\n",
              "    </tr>\n",
              "    <tr>\n",
              "      <th>24238</th>\n",
              "      <td>퍼거슨 감독은 “동점골은 우리에게 승리에 대한 인센티브를 줬으며 승리를 거둔 선수들...</td>\n",
              "      <td>\"The equaliser gave us the incentive to go on ...</td>\n",
              "    </tr>\n",
              "    <tr>\n",
              "      <th>76485</th>\n",
              "      <td>이번 회동은 두 국가 해법 등 오바마가 추구하는 포괄적 평화 정착 계획의 일환으로 ...</td>\n",
              "      <td>Senior White House officials say this meeting ...</td>\n",
              "    </tr>\n",
              "  </tbody>\n",
              "</table>\n",
              "</div>\n",
              "      <button class=\"colab-df-convert\" onclick=\"convertToInteractive('df-0fa8b45e-cb8b-4164-84aa-a1e968e0b4c3')\"\n",
              "              title=\"Convert this dataframe to an interactive table.\"\n",
              "              style=\"display:none;\">\n",
              "        \n",
              "  <svg xmlns=\"http://www.w3.org/2000/svg\" height=\"24px\"viewBox=\"0 0 24 24\"\n",
              "       width=\"24px\">\n",
              "    <path d=\"M0 0h24v24H0V0z\" fill=\"none\"/>\n",
              "    <path d=\"M18.56 5.44l.94 2.06.94-2.06 2.06-.94-2.06-.94-.94-2.06-.94 2.06-2.06.94zm-11 1L8.5 8.5l.94-2.06 2.06-.94-2.06-.94L8.5 2.5l-.94 2.06-2.06.94zm10 10l.94 2.06.94-2.06 2.06-.94-2.06-.94-.94-2.06-.94 2.06-2.06.94z\"/><path d=\"M17.41 7.96l-1.37-1.37c-.4-.4-.92-.59-1.43-.59-.52 0-1.04.2-1.43.59L10.3 9.45l-7.72 7.72c-.78.78-.78 2.05 0 2.83L4 21.41c.39.39.9.59 1.41.59.51 0 1.02-.2 1.41-.59l7.78-7.78 2.81-2.81c.8-.78.8-2.07 0-2.86zM5.41 20L4 18.59l7.72-7.72 1.47 1.35L5.41 20z\"/>\n",
              "  </svg>\n",
              "      </button>\n",
              "      \n",
              "  <style>\n",
              "    .colab-df-container {\n",
              "      display:flex;\n",
              "      flex-wrap:wrap;\n",
              "      gap: 12px;\n",
              "    }\n",
              "\n",
              "    .colab-df-convert {\n",
              "      background-color: #E8F0FE;\n",
              "      border: none;\n",
              "      border-radius: 50%;\n",
              "      cursor: pointer;\n",
              "      display: none;\n",
              "      fill: #1967D2;\n",
              "      height: 32px;\n",
              "      padding: 0 0 0 0;\n",
              "      width: 32px;\n",
              "    }\n",
              "\n",
              "    .colab-df-convert:hover {\n",
              "      background-color: #E2EBFA;\n",
              "      box-shadow: 0px 1px 2px rgba(60, 64, 67, 0.3), 0px 1px 3px 1px rgba(60, 64, 67, 0.15);\n",
              "      fill: #174EA6;\n",
              "    }\n",
              "\n",
              "    [theme=dark] .colab-df-convert {\n",
              "      background-color: #3B4455;\n",
              "      fill: #D2E3FC;\n",
              "    }\n",
              "\n",
              "    [theme=dark] .colab-df-convert:hover {\n",
              "      background-color: #434B5C;\n",
              "      box-shadow: 0px 1px 3px 1px rgba(0, 0, 0, 0.15);\n",
              "      filter: drop-shadow(0px 1px 2px rgba(0, 0, 0, 0.3));\n",
              "      fill: #FFFFFF;\n",
              "    }\n",
              "  </style>\n",
              "\n",
              "      <script>\n",
              "        const buttonEl =\n",
              "          document.querySelector('#df-0fa8b45e-cb8b-4164-84aa-a1e968e0b4c3 button.colab-df-convert');\n",
              "        buttonEl.style.display =\n",
              "          google.colab.kernel.accessAllowed ? 'block' : 'none';\n",
              "\n",
              "        async function convertToInteractive(key) {\n",
              "          const element = document.querySelector('#df-0fa8b45e-cb8b-4164-84aa-a1e968e0b4c3');\n",
              "          const dataTable =\n",
              "            await google.colab.kernel.invokeFunction('convertToInteractive',\n",
              "                                                     [key], {});\n",
              "          if (!dataTable) return;\n",
              "\n",
              "          const docLinkHtml = 'Like what you see? Visit the ' +\n",
              "            '<a target=\"_blank\" href=https://colab.research.google.com/notebooks/data_table.ipynb>data table notebook</a>'\n",
              "            + ' to learn more about interactive tables.';\n",
              "          element.innerHTML = '';\n",
              "          dataTable['output_type'] = 'display_data';\n",
              "          await google.colab.output.renderOutput(dataTable, element);\n",
              "          const docLink = document.createElement('div');\n",
              "          docLink.innerHTML = docLinkHtml;\n",
              "          element.appendChild(docLink);\n",
              "        }\n",
              "      </script>\n",
              "    </div>\n",
              "  </div>\n",
              "  "
            ]
          },
          "metadata": {},
          "execution_count": 63
        }
      ]
    },
    {
      "cell_type": "markdown",
      "source": [
        "## **2. 데이터 정제**"
      ],
      "metadata": {
        "id": "eU6NeJ5EYy5w"
      }
    },
    {
      "cell_type": "markdown",
      "source": [
        "### **2-1. 토큰 수 기준 데이터 선별**"
      ],
      "metadata": {
        "id": "Qpl-KGNwCAZa"
      }
    },
    {
      "cell_type": "markdown",
      "source": [
        "- **토큰 길이가 40 이하인 데이터 선별**"
      ],
      "metadata": {
        "id": "NgzjObYBi0ep"
      }
    },
    {
      "cell_type": "code",
      "source": [
        "def filt_sentence_length(df, col, sentence_len):\n",
        "    df = df.copy()\n",
        "    df[\"len\"] = df[col].apply(lambda x: len(x.split()))\n",
        "    df = df.loc[df[\"len\"] < sentence_len]\n",
        "    df.drop([\"len\"], axis=\"columns\", inplace=True)\n",
        "    return df\n",
        "    \n",
        "dataset = filt_sentence_length(dataset, \"kor\", 40)\n",
        "dataset = filt_sentence_length(dataset, \"eng\", 40)"
      ],
      "metadata": {
        "id": "AEb02UiNBS1c"
      },
      "execution_count": null,
      "outputs": []
    },
    {
      "cell_type": "markdown",
      "source": [
        "### **2-2. 정규식을 활용한 정제**"
      ],
      "metadata": {
        "id": "RlhBFmBJZW6T"
      }
    },
    {
      "cell_type": "markdown",
      "source": [
        "- **국문 데이터 정제화 함수**"
      ],
      "metadata": {
        "id": "wcgRN1EMB3Zk"
      }
    },
    {
      "cell_type": "code",
      "source": [
        "def preprocess_sentence(sentence):\n",
        "    sentence = sentence.lower().strip()\n",
        "    sentence = re.sub(r\"([0-9?.!,])\", r\" \\1 \", sentence)\n",
        "    sentence = re.sub(r'[\" \"]+', \" \", sentence)\n",
        "    sentence = re.sub(r\"[^a-zA-Zㄱ-ㅎ가-힣0-9?.!,]+\", \" \", sentence)\n",
        "    sentence = sentence.strip()\n",
        "    return sentence"
      ],
      "metadata": {
        "id": "D605hxzdfkiX"
      },
      "execution_count": null,
      "outputs": []
    },
    {
      "cell_type": "markdown",
      "source": [
        "- **국문 데이터 정제화**"
      ],
      "metadata": {
        "id": "4dOWrWG5hfuN"
      }
    },
    {
      "cell_type": "code",
      "source": [
        "dataset[\"kor\"] = dataset[\"kor\"].apply(preprocess_sentence)"
      ],
      "metadata": {
        "id": "BT-MxpJWBs-B"
      },
      "execution_count": null,
      "outputs": []
    },
    {
      "cell_type": "markdown",
      "source": [
        "- **영문 데이터 정제화 함수**"
      ],
      "metadata": {
        "id": "MUq5-6F7B0Lh"
      }
    },
    {
      "cell_type": "code",
      "source": [
        "def preprocess_with_token(sentence, decoder_data=False):\n",
        "    sentence = preprocess_sentence(sentence)\n",
        "                                   \n",
        "    if decoder_data:\n",
        "        sentence = \"<sos> \" + sentence + \" <eos>\"\n",
        "    return sentence"
      ],
      "metadata": {
        "id": "6ZZ4HdYDhzBs"
      },
      "execution_count": null,
      "outputs": []
    },
    {
      "cell_type": "markdown",
      "source": [
        "- **영문 데이터 정제화**"
      ],
      "metadata": {
        "id": "O0inKGiXhu7d"
      }
    },
    {
      "cell_type": "code",
      "source": [
        "dataset[\"eng\"] = dataset[\"eng\"].apply(lambda x: preprocess_with_token(x, True))"
      ],
      "metadata": {
        "id": "5FqZYV_hBocH"
      },
      "execution_count": null,
      "outputs": []
    },
    {
      "cell_type": "markdown",
      "source": [
        "### **2-3. 정제 데이터 확인**"
      ],
      "metadata": {
        "id": "r59hHZQDl51_"
      }
    },
    {
      "cell_type": "markdown",
      "source": [
        "- **정제 데이터 수 확인**"
      ],
      "metadata": {
        "id": "rmFQrq4Dl-eY"
      }
    },
    {
      "cell_type": "code",
      "source": [
        "print('정제 국문 데이터 수:', len(dataset[\"kor\"]))\n",
        "print('정제 영문 데이터 수:', len(dataset[\"eng\"]))"
      ],
      "metadata": {
        "colab": {
          "base_uri": "https://localhost:8080/"
        },
        "id": "EJmRgPIPkvrH",
        "outputId": "c07f2e33-8b2e-4fb7-89dc-b933640422a3"
      },
      "execution_count": null,
      "outputs": [
        {
          "output_type": "stream",
          "name": "stdout",
          "text": [
            "정제 국문 데이터 수: 74925\n",
            "정제 영문 데이터 수: 74925\n"
          ]
        }
      ]
    },
    {
      "cell_type": "markdown",
      "source": [
        "- **정제 데이터 문장 확인**"
      ],
      "metadata": {
        "id": "UfB7m2uPmAwH"
      }
    },
    {
      "cell_type": "code",
      "source": [
        "dataset.sample(10)"
      ],
      "metadata": {
        "colab": {
          "base_uri": "https://localhost:8080/",
          "height": 363
        },
        "id": "9Le03Yl1kdKk",
        "outputId": "a9aa8c45-c4f5-45ce-e23a-43445f4d0669"
      },
      "execution_count": null,
      "outputs": [
        {
          "output_type": "execute_result",
          "data": {
            "text/plain": [
              "                                                     kor  \\\n",
              "9423                           아이티 , 춤추던 학생들로 인해 학교건물 붕괴   \n",
              "44538  봉사하는 사회 , 그리고 기개가 있는 국가를 건설하는 책임있는 시민이 되기를 말입니다 .   \n",
              "34322  최근 코리아 타임스가 실시한 여론 조사를 보면 응답자들은 미국 비자 등록 절차가 까...   \n",
              "66525                            뉴욕 증권 거래소에서 워렌 레비슨입니다 .   \n",
              "32662  산토리니는 매년 수많은 관광객을 맞이하는 가장 볼만 하고 고급스런 관광객의 행선지 ...   \n",
              "25855                     그중 한 사람은 경찰이었으며 나머지는 시민이었습니다 .   \n",
              "62061     태풍으로 7 4 4 여 가구의 전기가 끊겼고 일부 지역에서는 물 공급이 중단됐다 .   \n",
              "25849  산업 감시 회사인 오일 체인지 인터내셔널 전무 이사인 스티브 크레츠만은 중동에서는 ...   \n",
              "41557  강한 어조로 쓰인 한 잡지 기사는 인도에서의 병원 생활을 끝낸 달라이라마가 조국의 ...   \n",
              "12207  이전 미국은 북한이 6 자 회담에서 합의한 핵 프로그램 신고를 완전히 이행하지 않았...   \n",
              "\n",
              "                                                     eng  \n",
              "9423   <sos> kids dancing causes haiti school collaps...  \n",
              "44538  <sos> responsible citizens , building communit...  \n",
              "34322  <sos> a recent korea times survey has shown th...  \n",
              "66525  <sos> warren levinson at the new york stock ex...  \n",
              "32662  <sos> santorini welcomes hundreds of thousands...  \n",
              "25855  <sos> one of them was a policeman and the othe...  \n",
              "62061  <sos> power outages hit 7 4 4 households , and...  \n",
              "25849  <sos> steve kretzmann , executive director of ...  \n",
              "41557  <sos> called on the dalai lama , who ended a h...  \n",
              "12207  <sos> washington has accused pyongyang of not ...  "
            ],
            "text/html": [
              "\n",
              "  <div id=\"df-ba9c84a6-d946-4235-86a0-26c863ea36ba\">\n",
              "    <div class=\"colab-df-container\">\n",
              "      <div>\n",
              "<style scoped>\n",
              "    .dataframe tbody tr th:only-of-type {\n",
              "        vertical-align: middle;\n",
              "    }\n",
              "\n",
              "    .dataframe tbody tr th {\n",
              "        vertical-align: top;\n",
              "    }\n",
              "\n",
              "    .dataframe thead th {\n",
              "        text-align: right;\n",
              "    }\n",
              "</style>\n",
              "<table border=\"1\" class=\"dataframe\">\n",
              "  <thead>\n",
              "    <tr style=\"text-align: right;\">\n",
              "      <th></th>\n",
              "      <th>kor</th>\n",
              "      <th>eng</th>\n",
              "    </tr>\n",
              "  </thead>\n",
              "  <tbody>\n",
              "    <tr>\n",
              "      <th>9423</th>\n",
              "      <td>아이티 , 춤추던 학생들로 인해 학교건물 붕괴</td>\n",
              "      <td>&lt;sos&gt; kids dancing causes haiti school collaps...</td>\n",
              "    </tr>\n",
              "    <tr>\n",
              "      <th>44538</th>\n",
              "      <td>봉사하는 사회 , 그리고 기개가 있는 국가를 건설하는 책임있는 시민이 되기를 말입니다 .</td>\n",
              "      <td>&lt;sos&gt; responsible citizens , building communit...</td>\n",
              "    </tr>\n",
              "    <tr>\n",
              "      <th>34322</th>\n",
              "      <td>최근 코리아 타임스가 실시한 여론 조사를 보면 응답자들은 미국 비자 등록 절차가 까...</td>\n",
              "      <td>&lt;sos&gt; a recent korea times survey has shown th...</td>\n",
              "    </tr>\n",
              "    <tr>\n",
              "      <th>66525</th>\n",
              "      <td>뉴욕 증권 거래소에서 워렌 레비슨입니다 .</td>\n",
              "      <td>&lt;sos&gt; warren levinson at the new york stock ex...</td>\n",
              "    </tr>\n",
              "    <tr>\n",
              "      <th>32662</th>\n",
              "      <td>산토리니는 매년 수많은 관광객을 맞이하는 가장 볼만 하고 고급스런 관광객의 행선지 ...</td>\n",
              "      <td>&lt;sos&gt; santorini welcomes hundreds of thousands...</td>\n",
              "    </tr>\n",
              "    <tr>\n",
              "      <th>25855</th>\n",
              "      <td>그중 한 사람은 경찰이었으며 나머지는 시민이었습니다 .</td>\n",
              "      <td>&lt;sos&gt; one of them was a policeman and the othe...</td>\n",
              "    </tr>\n",
              "    <tr>\n",
              "      <th>62061</th>\n",
              "      <td>태풍으로 7 4 4 여 가구의 전기가 끊겼고 일부 지역에서는 물 공급이 중단됐다 .</td>\n",
              "      <td>&lt;sos&gt; power outages hit 7 4 4 households , and...</td>\n",
              "    </tr>\n",
              "    <tr>\n",
              "      <th>25849</th>\n",
              "      <td>산업 감시 회사인 오일 체인지 인터내셔널 전무 이사인 스티브 크레츠만은 중동에서는 ...</td>\n",
              "      <td>&lt;sos&gt; steve kretzmann , executive director of ...</td>\n",
              "    </tr>\n",
              "    <tr>\n",
              "      <th>41557</th>\n",
              "      <td>강한 어조로 쓰인 한 잡지 기사는 인도에서의 병원 생활을 끝낸 달라이라마가 조국의 ...</td>\n",
              "      <td>&lt;sos&gt; called on the dalai lama , who ended a h...</td>\n",
              "    </tr>\n",
              "    <tr>\n",
              "      <th>12207</th>\n",
              "      <td>이전 미국은 북한이 6 자 회담에서 합의한 핵 프로그램 신고를 완전히 이행하지 않았...</td>\n",
              "      <td>&lt;sos&gt; washington has accused pyongyang of not ...</td>\n",
              "    </tr>\n",
              "  </tbody>\n",
              "</table>\n",
              "</div>\n",
              "      <button class=\"colab-df-convert\" onclick=\"convertToInteractive('df-ba9c84a6-d946-4235-86a0-26c863ea36ba')\"\n",
              "              title=\"Convert this dataframe to an interactive table.\"\n",
              "              style=\"display:none;\">\n",
              "        \n",
              "  <svg xmlns=\"http://www.w3.org/2000/svg\" height=\"24px\"viewBox=\"0 0 24 24\"\n",
              "       width=\"24px\">\n",
              "    <path d=\"M0 0h24v24H0V0z\" fill=\"none\"/>\n",
              "    <path d=\"M18.56 5.44l.94 2.06.94-2.06 2.06-.94-2.06-.94-.94-2.06-.94 2.06-2.06.94zm-11 1L8.5 8.5l.94-2.06 2.06-.94-2.06-.94L8.5 2.5l-.94 2.06-2.06.94zm10 10l.94 2.06.94-2.06 2.06-.94-2.06-.94-.94-2.06-.94 2.06-2.06.94z\"/><path d=\"M17.41 7.96l-1.37-1.37c-.4-.4-.92-.59-1.43-.59-.52 0-1.04.2-1.43.59L10.3 9.45l-7.72 7.72c-.78.78-.78 2.05 0 2.83L4 21.41c.39.39.9.59 1.41.59.51 0 1.02-.2 1.41-.59l7.78-7.78 2.81-2.81c.8-.78.8-2.07 0-2.86zM5.41 20L4 18.59l7.72-7.72 1.47 1.35L5.41 20z\"/>\n",
              "  </svg>\n",
              "      </button>\n",
              "      \n",
              "  <style>\n",
              "    .colab-df-container {\n",
              "      display:flex;\n",
              "      flex-wrap:wrap;\n",
              "      gap: 12px;\n",
              "    }\n",
              "\n",
              "    .colab-df-convert {\n",
              "      background-color: #E8F0FE;\n",
              "      border: none;\n",
              "      border-radius: 50%;\n",
              "      cursor: pointer;\n",
              "      display: none;\n",
              "      fill: #1967D2;\n",
              "      height: 32px;\n",
              "      padding: 0 0 0 0;\n",
              "      width: 32px;\n",
              "    }\n",
              "\n",
              "    .colab-df-convert:hover {\n",
              "      background-color: #E2EBFA;\n",
              "      box-shadow: 0px 1px 2px rgba(60, 64, 67, 0.3), 0px 1px 3px 1px rgba(60, 64, 67, 0.15);\n",
              "      fill: #174EA6;\n",
              "    }\n",
              "\n",
              "    [theme=dark] .colab-df-convert {\n",
              "      background-color: #3B4455;\n",
              "      fill: #D2E3FC;\n",
              "    }\n",
              "\n",
              "    [theme=dark] .colab-df-convert:hover {\n",
              "      background-color: #434B5C;\n",
              "      box-shadow: 0px 1px 3px 1px rgba(0, 0, 0, 0.15);\n",
              "      filter: drop-shadow(0px 1px 2px rgba(0, 0, 0, 0.3));\n",
              "      fill: #FFFFFF;\n",
              "    }\n",
              "  </style>\n",
              "\n",
              "      <script>\n",
              "        const buttonEl =\n",
              "          document.querySelector('#df-ba9c84a6-d946-4235-86a0-26c863ea36ba button.colab-df-convert');\n",
              "        buttonEl.style.display =\n",
              "          google.colab.kernel.accessAllowed ? 'block' : 'none';\n",
              "\n",
              "        async function convertToInteractive(key) {\n",
              "          const element = document.querySelector('#df-ba9c84a6-d946-4235-86a0-26c863ea36ba');\n",
              "          const dataTable =\n",
              "            await google.colab.kernel.invokeFunction('convertToInteractive',\n",
              "                                                     [key], {});\n",
              "          if (!dataTable) return;\n",
              "\n",
              "          const docLinkHtml = 'Like what you see? Visit the ' +\n",
              "            '<a target=\"_blank\" href=https://colab.research.google.com/notebooks/data_table.ipynb>data table notebook</a>'\n",
              "            + ' to learn more about interactive tables.';\n",
              "          element.innerHTML = '';\n",
              "          dataTable['output_type'] = 'display_data';\n",
              "          await google.colab.output.renderOutput(dataTable, element);\n",
              "          const docLink = document.createElement('div');\n",
              "          docLink.innerHTML = docLinkHtml;\n",
              "          element.appendChild(docLink);\n",
              "        }\n",
              "      </script>\n",
              "    </div>\n",
              "  </div>\n",
              "  "
            ]
          },
          "metadata": {},
          "execution_count": 70
        }
      ]
    },
    {
      "cell_type": "markdown",
      "source": [
        "## **3. 데이터 토큰화**"
      ],
      "metadata": {
        "id": "RScsvQJ1m79o"
      }
    },
    {
      "cell_type": "markdown",
      "source": [
        "### **3-1. 토큰화 함수**"
      ],
      "metadata": {
        "id": "ZICdphibonNV"
      }
    },
    {
      "cell_type": "code",
      "source": [
        "def tokenize(corpus, vocab_size, maxlen, encoder_TF=True):\n",
        "    tokenizer = tf.keras.preprocessing.text.Tokenizer(filters = '', oov_token = \"<UNK>\", num_words = vocab_size)\n",
        "    corpus_input = corpus\n",
        "    \n",
        "    if encoder_TF:\n",
        "        m = Mecab()\n",
        "    \n",
        "        corpus_input = []\n",
        "        for sentence in corpus:\n",
        "            corpus_input.append(m.morphs(sentence))\n",
        "    \n",
        "    tokenizer.fit_on_texts(corpus_input)\n",
        "    \n",
        "    if vocab_size is not None:\n",
        "        words_frequency = [w for w,c in tokenizer.word_index.items() if c >= vocab_size + 1]\n",
        "        for w in words_frequency:\n",
        "            del tokenizer.word_index[w]\n",
        "            del tokenizer.word_counts[w]\n",
        "    \n",
        "    tensor = tokenizer.texts_to_sequences(corpus_input)\n",
        "    tensor = tf.keras.preprocessing.sequence.pad_sequences(tensor, padding='post', maxlen=maxlen)\n",
        "    return tensor, tokenizer"
      ],
      "metadata": {
        "id": "lfMAFeKHnEGX"
      },
      "execution_count": null,
      "outputs": []
    },
    {
      "cell_type": "markdown",
      "source": [
        "### **3-2. 국문 토큰화**"
      ],
      "metadata": {
        "id": "Tdm95YIlocHd"
      }
    },
    {
      "cell_type": "code",
      "source": [
        "enc_tensor, enc_tokenizer = tokenize(dataset[\"kor\"], None, None, encoder_TF=True)\n",
        "print(\"국문 토큰 수:\", f\"{len(enc_tokenizer.word_index):,}\")"
      ],
      "metadata": {
        "colab": {
          "base_uri": "https://localhost:8080/"
        },
        "id": "QNQU0P0IoOZ_",
        "outputId": "2a59b72e-69d9-4baf-efd4-738fe2d543e8"
      },
      "execution_count": null,
      "outputs": [
        {
          "output_type": "stream",
          "name": "stdout",
          "text": [
            "국문 토큰 수: 49,012\n"
          ]
        }
      ]
    },
    {
      "cell_type": "markdown",
      "source": [
        "### **3-3. 영문 토큰화**"
      ],
      "metadata": {
        "id": "3SCHBWZGCunv"
      }
    },
    {
      "cell_type": "code",
      "source": [
        "dec_tensor, dec_tokenizer = tokenize(dataset[\"eng\"], None, None, encoder_TF=False)\n",
        "print(\"영문 토큰 수:\", f\"{len(dec_tokenizer.word_index):,}\")"
      ],
      "metadata": {
        "colab": {
          "base_uri": "https://localhost:8080/"
        },
        "id": "H0ysC8dWCuV_",
        "outputId": "d5ba1107-cc00-4ffd-e66c-c77c51d995b8"
      },
      "execution_count": null,
      "outputs": [
        {
          "output_type": "stream",
          "name": "stdout",
          "text": [
            "영문 토큰 수: 42,931\n"
          ]
        }
      ]
    },
    {
      "cell_type": "markdown",
      "source": [
        "## **4. 모델 설계**\n"
      ],
      "metadata": {
        "id": "ZIXMq-CEZnce"
      }
    },
    {
      "cell_type": "markdown",
      "source": [
        "### **4-1. BahdanauAttention**"
      ],
      "metadata": {
        "id": "c5bjgQBRs8EE"
      }
    },
    {
      "cell_type": "code",
      "source": [
        "class BahdanauAttention(tf.keras.layers.Layer):\n",
        "    def __init__(self, units):\n",
        "        super(BahdanauAttention, self).__init__()\n",
        "        self.w_dec = tf.keras.layers.Dense(units)\n",
        "        self.w_enc = tf.keras.layers.Dense(units)\n",
        "        self.w_com = tf.keras.layers.Dense(1)\n",
        "    \n",
        "    def call(self, h_enc, h_dec):\n",
        "        h_enc = self.w_enc(h_enc)\n",
        "        h_dec = tf.expand_dims(h_dec, 1)\n",
        "        h_dec = self.w_dec(h_dec)\n",
        "\n",
        "        score = self.w_com(tf.nn.tanh(h_dec + h_enc))\n",
        "        \n",
        "        attn = tf.nn.softmax(score, axis=1)\n",
        "\n",
        "        context_vec = attn * h_enc\n",
        "        context_vec = tf.reduce_sum(context_vec, axis=1)\n",
        "\n",
        "        return context_vec, attn"
      ],
      "metadata": {
        "id": "sOXqaUKMpz95"
      },
      "execution_count": null,
      "outputs": []
    },
    {
      "cell_type": "markdown",
      "source": [
        "### **4-2. Encoder**"
      ],
      "metadata": {
        "id": "xSbJSUcOtA84"
      }
    },
    {
      "cell_type": "code",
      "source": [
        "class Encoder(tf.keras.Model):\n",
        "    def __init__(self, vocab_size, embedding_dim, enc_units):\n",
        "        super(Encoder, self).__init__()\n",
        "        \n",
        "        self.enc_units = enc_units\n",
        "        self.embedding = tf.keras.layers.Embedding(vocab_size, embedding_dim)\n",
        "        self.gru = tf.keras.layers.GRU(enc_units, dropout=0.2, return_sequences=True)\n",
        "        \n",
        "    def call(self, x):\n",
        "        out = self.embedding(x)\n",
        "        out = self.gru(out)\n",
        "        \n",
        "        return out"
      ],
      "metadata": {
        "id": "YOfdnYA_p0n-"
      },
      "execution_count": null,
      "outputs": []
    },
    {
      "cell_type": "markdown",
      "source": [
        "### **4-3. Decoder**"
      ],
      "metadata": {
        "id": "G0FEXI9itFzR"
      }
    },
    {
      "cell_type": "code",
      "source": [
        "class Decoder(tf.keras.Model):\n",
        "    def __init__(self, vocab_size, embedding_dim, dec_units):\n",
        "        super(Decoder, self).__init__()\n",
        "        self.dec_units = dec_units\n",
        "        self.embedding = tf.keras.layers.Embedding(vocab_size, embedding_dim)\n",
        "        self.gru = tf.keras.layers.GRU(dec_units, dropout=0.2, return_sequences=True, return_state=True)\n",
        "        self.fc = tf.keras.layers.Dense(vocab_size)\n",
        "\n",
        "        self.attention = BahdanauAttention(self.dec_units)\n",
        "\n",
        "    def call(self, x, h_dec, enc_out):\n",
        "        context_vec, attn = self.attention(enc_out, h_dec)\n",
        "\n",
        "        out = self.embedding(x)\n",
        "        out = tf.concat([tf.expand_dims(context_vec, 1), out], axis=-1)\n",
        "        \n",
        "        out, h_dec = self.gru(out)\n",
        "        out = tf.reshape(out, (-1, out.shape[2]))\n",
        "        out = self.fc(out)\n",
        "\n",
        "        return out, h_dec, attn"
      ],
      "metadata": {
        "id": "z50v_d8Vp2cy"
      },
      "execution_count": null,
      "outputs": []
    },
    {
      "cell_type": "markdown",
      "source": [
        "### **4-4. 모델 구조 확인**"
      ],
      "metadata": {
        "id": "hTAaz4Drty1l"
      }
    },
    {
      "cell_type": "code",
      "source": [
        "SRC_VOCAB_SIZE = len(enc_tokenizer.word_index) + 1\n",
        "TGT_VOCAB_SIZE = len(dec_tokenizer.word_index) + 1\n",
        "\n",
        "units = 256\n",
        "embedding_dim = 256\n",
        "\n",
        "encoder = Encoder(SRC_VOCAB_SIZE, embedding_dim, units)\n",
        "decoder = Decoder(TGT_VOCAB_SIZE, embedding_dim, units)"
      ],
      "metadata": {
        "id": "ONRF1iazp3kE"
      },
      "execution_count": null,
      "outputs": []
    },
    {
      "cell_type": "markdown",
      "source": [
        "### **4-5. 옵티마이저 설정**"
      ],
      "metadata": {
        "id": "8W2Ba6VLtJNt"
      }
    },
    {
      "cell_type": "code",
      "source": [
        "optimizer = tf.keras.optimizers.Adam()\n",
        "loss_object = tf.keras.losses.SparseCategoricalCrossentropy(from_logits=True, reduction='none')"
      ],
      "metadata": {
        "id": "3Kqxkplbp4wh"
      },
      "execution_count": null,
      "outputs": []
    },
    {
      "cell_type": "markdown",
      "source": [
        "### **4-6. 손실 함수 설정**"
      ],
      "metadata": {
        "id": "eX_ojOkgD7h4"
      }
    },
    {
      "cell_type": "code",
      "source": [
        "def loss_function(real, pred):\n",
        "    mask = tf.math.logical_not(tf.math.equal(real, 0))\n",
        "    loss = loss_object(real, pred)\n",
        "    \n",
        "    mask = tf.cast(mask, dtype=loss.dtype)\n",
        "    loss *= mask\n",
        "    \n",
        "    return tf.reduce_mean(loss)"
      ],
      "metadata": {
        "id": "4pxc1QDoD5nZ"
      },
      "execution_count": null,
      "outputs": []
    },
    {
      "cell_type": "markdown",
      "source": [
        "### **4-7. 학습 함수 설정**"
      ],
      "metadata": {
        "id": "z-EA82I-uLfj"
      }
    },
    {
      "cell_type": "code",
      "source": [
        "@tf.function\n",
        "def train_step(src, tgt, encoder, decoder, optimizer, dec_tok):\n",
        "    bsz = src.shape[0]\n",
        "    loss = 0\n",
        "\n",
        "    with tf.GradientTape() as tape:\n",
        "        enc_out = encoder(src)\n",
        "        h_dec = enc_out[:, -1]\n",
        "        \n",
        "        dec_src = tf.expand_dims([dec_tok.word_index['<sos>']] * bsz, 1)\n",
        "\n",
        "        for t in range(1, tgt.shape[1]):\n",
        "            pred, h_dec, _ = decoder(dec_src, h_dec, enc_out)\n",
        "\n",
        "            loss += loss_function(tgt[:, t], pred)\n",
        "            dec_src = tf.expand_dims(tgt[:, t], 1)\n",
        "        \n",
        "    batch_loss = (loss / int(tgt.shape[1]))\n",
        "\n",
        "    variables = encoder.trainable_variables + decoder.trainable_variables\n",
        "    gradients = tape.gradient(loss, variables)\n",
        "    optimizer.apply_gradients(zip(gradients, variables))\n",
        "    \n",
        "    return batch_loss"
      ],
      "metadata": {
        "id": "JeADJW4_2Bbe"
      },
      "execution_count": null,
      "outputs": []
    },
    {
      "cell_type": "markdown",
      "source": [
        "## **5. 모델 훈련 및 평가**\n"
      ],
      "metadata": {
        "id": "VVL3dLFtZrcu"
      }
    },
    {
      "cell_type": "markdown",
      "source": [
        "### **5-1. 모델 훈련**"
      ],
      "metadata": {
        "id": "QEduwnJw47BP"
      }
    },
    {
      "cell_type": "code",
      "source": [
        "EPOCHS = 20\n",
        "BATCH_SIZE = 64\n",
        "\n",
        "\n",
        "for epoch in range(EPOCHS):\n",
        "    total_loss = 0\n",
        "    \n",
        "    idx_list = list(range(0, enc_tensor.shape[0], BATCH_SIZE))\n",
        "    random.shuffle(idx_list)\n",
        "    t = tqdm(idx_list)\n",
        "\n",
        "    for (batch, idx) in enumerate(t):\n",
        "        batch_loss = train_step(enc_tensor[idx:idx+BATCH_SIZE], dec_tensor[idx:idx+BATCH_SIZE], encoder, decoder, optimizer, dec_tokenizer)\n",
        "    \n",
        "        total_loss += batch_loss\n",
        "        \n",
        "        t.set_description_str('Epoch %2d' % (epoch + 1))\n",
        "        t.set_postfix_str('Loss %.4f' % (total_loss.numpy() / (batch + 1)))"
      ],
      "metadata": {
        "colab": {
          "base_uri": "https://localhost:8080/"
        },
        "id": "Qi1H9m6j2Mys",
        "outputId": "25fcd2f9-54bf-4c9d-c982-45c2b965bc65"
      },
      "execution_count": null,
      "outputs": [
        {
          "output_type": "stream",
          "name": "stderr",
          "text": [
            "Epoch  1: 100%|██████████| 1171/1171 [09:29<00:00,  2.05it/s, Loss 2.4002]\n",
            "Epoch  2: 100%|██████████| 1171/1171 [07:06<00:00,  2.74it/s, Loss 2.3796]\n",
            "Epoch  3: 100%|██████████| 1171/1171 [07:06<00:00,  2.74it/s, Loss 2.3799]\n",
            "Epoch  4: 100%|██████████| 1171/1171 [07:06<00:00,  2.75it/s, Loss 2.3799]\n",
            "Epoch  5: 100%|██████████| 1171/1171 [07:06<00:00,  2.75it/s, Loss 2.3799]\n",
            "Epoch  6: 100%|██████████| 1171/1171 [07:07<00:00,  2.74it/s, Loss 2.3799]\n",
            "Epoch  7: 100%|██████████| 1171/1171 [07:07<00:00,  2.74it/s, Loss 2.3799]\n",
            "Epoch  8: 100%|██████████| 1171/1171 [07:07<00:00,  2.74it/s, Loss 2.3800]\n",
            "Epoch  9: 100%|██████████| 1171/1171 [07:07<00:00,  2.74it/s, Loss 2.3799]\n",
            "Epoch 10: 100%|██████████| 1171/1171 [07:10<00:00,  2.72it/s, Loss 2.2124]\n",
            "Epoch 11: 100%|██████████| 1171/1171 [07:13<00:00,  2.70it/s, Loss 1.8635]\n",
            "Epoch 12: 100%|██████████| 1171/1171 [07:13<00:00,  2.70it/s, Loss 1.7070]\n",
            "Epoch 13: 100%|██████████| 1171/1171 [07:13<00:00,  2.70it/s, Loss 1.5938]\n",
            "Epoch 14: 100%|██████████| 1171/1171 [07:13<00:00,  2.70it/s, Loss 1.5001]\n",
            "Epoch 15: 100%|██████████| 1171/1171 [07:14<00:00,  2.70it/s, Loss 1.4187]\n",
            "Epoch 16: 100%|██████████| 1171/1171 [07:14<00:00,  2.70it/s, Loss 1.3448]\n",
            "Epoch 17: 100%|██████████| 1171/1171 [07:14<00:00,  2.70it/s, Loss 1.2773]\n",
            "Epoch 18: 100%|██████████| 1171/1171 [07:14<00:00,  2.70it/s, Loss 1.2173]\n",
            "Epoch 19: 100%|██████████| 1171/1171 [07:14<00:00,  2.70it/s, Loss 1.1591]\n",
            "Epoch 20: 100%|██████████| 1171/1171 [07:13<00:00,  2.70it/s, Loss 1.1070]\n"
          ]
        }
      ]
    },
    {
      "cell_type": "markdown",
      "source": [
        "### **5-2. 모델 평가 함수**"
      ],
      "metadata": {
        "id": "JK6q1N7M5AKp"
      }
    },
    {
      "cell_type": "markdown",
      "source": [
        "- **번역 수행 함수**"
      ],
      "metadata": {
        "id": "oMwmFfh65lom"
      }
    },
    {
      "cell_type": "code",
      "source": [
        "def evaluate(sentence, encoder, decoder):\n",
        "    m = Mecab()\n",
        "    \n",
        "    attention = np.zeros((dec_tensor.shape[-1], enc_tensor.shape[-1]))\n",
        "    \n",
        "    sentence = preprocess_sentence(sentence)\n",
        "    sentence = m.morphs(sentence)\n",
        "    \n",
        "    inputs = enc_tokenizer.texts_to_sequences([sentence])\n",
        "    inputs = tf.keras.preprocessing.sequence.pad_sequences(inputs, maxlen=enc_tensor.shape[-1], padding='post')\n",
        "\n",
        "    result = ''\n",
        "\n",
        "    enc_out = encoder(inputs)\n",
        "\n",
        "    dec_hidden = enc_out[:, -1]\n",
        "    dec_input = tf.expand_dims([dec_tokenizer.word_index['<sos>']], 0)\n",
        "\n",
        "    for t in range(dec_tensor.shape[-1]):\n",
        "        predictions, dec_hidden, attention_weights = decoder(dec_input, dec_hidden, enc_out)\n",
        "\n",
        "        attention_weights = tf.reshape(attention_weights, (-1, ))\n",
        "        attention[t] = attention_weights.numpy()\n",
        "\n",
        "        predicted_id = \\\n",
        "        tf.argmax(tf.math.softmax(predictions, axis=-1)[0]).numpy()\n",
        "\n",
        "        result += dec_tokenizer.index_word[predicted_id] + ' '\n",
        "\n",
        "        if dec_tokenizer.index_word[predicted_id] == '<eos>':\n",
        "            return result, sentence, attention\n",
        "\n",
        "        dec_input = tf.expand_dims([predicted_id], 0)\n",
        "\n",
        "    return result, sentence, attention"
      ],
      "metadata": {
        "id": "_6hVTHaB4_NU"
      },
      "execution_count": null,
      "outputs": []
    },
    {
      "cell_type": "markdown",
      "source": [
        "- **matrix 생성 함수**"
      ],
      "metadata": {
        "id": "7RMPThId5x-7"
      }
    },
    {
      "cell_type": "code",
      "source": [
        "def plot_attention(attention, sentence, predicted_sentence):\n",
        "    fig = plt.figure(figsize=(10,10))\n",
        "    ax = fig.add_subplot(1, 1, 1)\n",
        "    ax.matshow(attention, cmap='viridis')\n",
        "\n",
        "    fontdict = {'fontsize': 15, 'fontfamily' : 'NanumBarunGothic'}\n",
        "\n",
        "    ax.set_xticklabels([''] + sentence, fontdict=fontdict)\n",
        "    ax.set_yticklabels([''] + predicted_sentence, fontdict=fontdict)\n",
        "\n",
        "    ax.xaxis.set_major_locator(ticker.MultipleLocator(1))\n",
        "    ax.yaxis.set_major_locator(ticker.MultipleLocator(1))\n",
        "\n",
        "    plt.show()"
      ],
      "metadata": {
        "id": "qwJCGIFb5IKJ"
      },
      "execution_count": null,
      "outputs": []
    },
    {
      "cell_type": "markdown",
      "source": [
        "- **번역 및 시각화 함수**"
      ],
      "metadata": {
        "id": "UoUbw8HR503D"
      }
    },
    {
      "cell_type": "code",
      "source": [
        "def translate(sentence, encoder, decoder):\n",
        "    result, sentence, attention = evaluate(sentence, encoder, decoder)\n",
        "\n",
        "    print('국문: %s' % (sentence))\n",
        "    print('번역을 수행한 영문: {}'.format(result))\n",
        "    \n",
        "    attention = attention[:len(result.split()), :len(sentence)]\n",
        "    plot_attention(attention, sentence, result.split(' '))"
      ],
      "metadata": {
        "id": "QGNt1Z3J5JNQ"
      },
      "execution_count": null,
      "outputs": []
    },
    {
      "cell_type": "markdown",
      "source": [
        "### **5-3. 모델 평가**"
      ],
      "metadata": {
        "id": "I_q7YHxi7Cjq"
      }
    },
    {
      "cell_type": "code",
      "source": [
        "translate(\"오바마는 대통령이다.\", encoder, decoder)"
      ],
      "metadata": {
        "colab": {
          "base_uri": "https://localhost:8080/",
          "height": 638
        },
        "id": "3ZLrz2MI7Ysj",
        "outputId": "e5fe76de-9cb9-4912-d51f-e28fbc6cbce2"
      },
      "execution_count": null,
      "outputs": [
        {
          "output_type": "stream",
          "name": "stdout",
          "text": [
            "국문: ['오바마', '는', '대통령', '이', '다', '.']\n",
            "번역을 수행한 영문: obama is a former president . <eos> \n"
          ]
        },
        {
          "output_type": "display_data",
          "data": {
            "text/plain": [
              "<Figure size 720x720 with 1 Axes>"
            ],
            "image/png": "[encoded data removed]"
          },
          "metadata": {
            "needs_background": "light"
          }
        }
      ]
    },
    {
      "cell_type": "code",
      "source": [
        "translate(\"시민들은 도시 속에 산다.\", encoder, decoder)"
      ],
      "metadata": {
        "colab": {
          "base_uri": "https://localhost:8080/",
          "height": 638
        },
        "id": "IM5SXyXg7i7-",
        "outputId": "10a694ef-0a60-4f2e-d149-e7922a8f4628"
      },
      "execution_count": null,
      "outputs": [
        {
          "output_type": "stream",
          "name": "stdout",
          "text": [
            "국문: ['시민', '들', '은', '도시', '속', '에', '산다', '.']\n",
            "번역을 수행한 영문: they are also a huge number of the city . <eos> \n"
          ]
        },
        {
          "output_type": "display_data",
          "data": {
            "text/plain": [
              "<Figure size 720x720 with 1 Axes>"
            ],
            "image/png": "[encoded data removed]"
          },
          "metadata": {
            "needs_background": "light"
          }
        }
      ]
    },
    {
      "cell_type": "code",
      "source": [
        "translate(\"커피는 필요 없다.\", encoder, decoder)"
      ],
      "metadata": {
        "colab": {
          "base_uri": "https://localhost:8080/",
          "height": 466
        },
        "id": "ibLRJiJh7lQc",
        "outputId": "7d320a3c-44d1-4cde-d4db-be53f29a7442"
      },
      "execution_count": null,
      "outputs": [
        {
          "output_type": "stream",
          "name": "stdout",
          "text": [
            "국문: ['커피', '는', '필요', '없', '다', '.']\n",
            "번역을 수행한 영문: he says . <eos> \n"
          ]
        },
        {
          "output_type": "display_data",
          "data": {
            "text/plain": [
              "<Figure size 720x720 with 1 Axes>"
            ],
            "image/png": "[encoded data removed]"
          },
          "metadata": {
            "needs_background": "light"
          }
        }
      ]
    },
    {
      "cell_type": "code",
      "source": [
        "translate(\"일곱 명의 사망자가 발생했다.\", encoder, decoder)"
      ],
      "metadata": {
        "colab": {
          "base_uri": "https://localhost:8080/",
          "height": 404
        },
        "id": "4fsHSb2E7mfL",
        "outputId": "07511b5e-a14e-43da-b9d7-274547f9facc"
      },
      "execution_count": null,
      "outputs": [
        {
          "output_type": "stream",
          "name": "stdout",
          "text": [
            "국문: ['일곱', '명', '의', '사망자', '가', '발생', '했', '다', '.']\n",
            "번역을 수행한 영문: six were killed . <eos> \n"
          ]
        },
        {
          "output_type": "display_data",
          "data": {
            "text/plain": [
              "<Figure size 720x720 with 1 Axes>"
            ],
            "image/png": "[encoded data removed]"
          },
          "metadata": {
            "needs_background": "light"
          }
        }
      ]
    },
    {
      "cell_type": "code",
      "source": [
        "translate(\"여름은 날씨가 덥다.\", encoder, decoder)"
      ],
      "metadata": {
        "colab": {
          "base_uri": "https://localhost:8080/",
          "height": 638
        },
        "id": "RT6uin1v72s6",
        "outputId": "c3e56a88-eb0a-4d0f-8253-578d3d0974f5"
      },
      "execution_count": null,
      "outputs": [
        {
          "output_type": "stream",
          "name": "stdout",
          "text": [
            "국문: ['여름', '은', '날씨', '가', '덥', '다', '.']\n",
            "번역을 수행한 영문: the summer morning , the weather is the best way to get the new weather . <eos> \n"
          ]
        },
        {
          "output_type": "display_data",
          "data": {
            "text/plain": [
              "<Figure size 720x720 with 1 Axes>"
            ],
            "image/png": "[encoded data removed]"
          },
          "metadata": {
            "needs_background": "light"
          }
        }
      ]
    },
    {
      "cell_type": "code",
      "source": [
        "translate(\"그와 그녀는 결혼을 한다.\", encoder, decoder)"
      ],
      "metadata": {
        "colab": {
          "base_uri": "https://localhost:8080/",
          "height": 638
        },
        "id": "qZ20yONa7_qa",
        "outputId": "4b36ff9f-69aa-465b-d55e-12e6a3585c9f"
      },
      "execution_count": null,
      "outputs": [
        {
          "output_type": "stream",
          "name": "stdout",
          "text": [
            "국문: ['그', '와', '그녀', '는', '결혼', '을', '한다', '.']\n",
            "번역을 수행한 영문: he is married to her marriage . <eos> \n"
          ]
        },
        {
          "output_type": "display_data",
          "data": {
            "text/plain": [
              "<Figure size 720x720 with 1 Axes>"
            ],
            "image/png": "[encoded data removed]"
          },
          "metadata": {
            "needs_background": "light"
          }
        }
      ]
    },
    {
      "cell_type": "code",
      "source": [
        "translate(\"영화관에서 영화를 보고 싶다.\", encoder, decoder)"
      ],
      "metadata": {
        "colab": {
          "base_uri": "https://localhost:8080/",
          "height": 638
        },
        "id": "j97jGtW68ENQ",
        "outputId": "11da8b9f-ee20-4447-d7c2-4b1c6fc59873"
      },
      "execution_count": null,
      "outputs": [
        {
          "output_type": "stream",
          "name": "stdout",
          "text": [
            "국문: ['영화관', '에서', '영화', '를', '보', '고', '싶', '다', '.']\n",
            "번역을 수행한 영문: i want to play a movie in the screen . <eos> \n"
          ]
        },
        {
          "output_type": "display_data",
          "data": {
            "text/plain": [
              "<Figure size 720x720 with 1 Axes>"
            ],
            "image/png": "[encoded data removed]"
          },
          "metadata": {
            "needs_background": "light"
          }
        }
      ]
    },
    {
      "cell_type": "code",
      "source": [
        "translate(\"아이들은 학교에 간다.\", encoder, decoder)"
      ],
      "metadata": {
        "colab": {
          "base_uri": "https://localhost:8080/",
          "height": 638
        },
        "id": "gorA8ILti2EV",
        "outputId": "276cce07-a8dc-49a8-8359-da5cada619b4"
      },
      "execution_count": null,
      "outputs": [
        {
          "output_type": "stream",
          "name": "stdout",
          "text": [
            "국문: ['아이', '들', '은', '학교', '에', '간다', '.']\n",
            "번역을 수행한 영문: they were in the school . <eos> \n"
          ]
        },
        {
          "output_type": "display_data",
          "data": {
            "text/plain": [
              "<Figure size 720x720 with 1 Axes>"
            ],
            "image/png": "[encoded data removed]"
          },
          "metadata": {
            "needs_background": "light"
          }
        }
      ]
    },
    {
      "cell_type": "code",
      "source": [
        "translate(\"동물은 동물원에 있다.\", encoder, decoder)"
      ],
      "metadata": {
        "colab": {
          "base_uri": "https://localhost:8080/",
          "height": 638
        },
        "id": "Ajcy1_iri19g",
        "outputId": "53b13316-ee86-4511-879a-11a152dd07a6"
      },
      "execution_count": null,
      "outputs": [
        {
          "output_type": "stream",
          "name": "stdout",
          "text": [
            "국문: ['동물', '은', '동물원', '에', '있', '다', '.']\n",
            "번역을 수행한 영문: the animals are being found in the zoo s . <eos> \n"
          ]
        },
        {
          "output_type": "display_data",
          "data": {
            "text/plain": [
              "<Figure size 720x720 with 1 Axes>"
            ],
            "image/png": "[encoded data removed]"
          },
          "metadata": {
            "needs_background": "light"
          }
        }
      ]
    },
    {
      "cell_type": "code",
      "source": [
        "translate(\"큰 문제가 발생하다.\", encoder, decoder)"
      ],
      "metadata": {
        "colab": {
          "base_uri": "https://localhost:8080/",
          "height": 638
        },
        "id": "V1sfUygMi11C",
        "outputId": "e9284973-2336-4327-f895-6cb567a933e4"
      },
      "execution_count": null,
      "outputs": [
        {
          "output_type": "stream",
          "name": "stdout",
          "text": [
            "국문: ['큰', '문제', '가', '발생', '하', '다', '.']\n",
            "번역을 수행한 영문: the problem is a major point . <eos> \n"
          ]
        },
        {
          "output_type": "display_data",
          "data": {
            "text/plain": [
              "<Figure size 720x720 with 1 Axes>"
            ],
            "image/png": "[encoded data removed]"
          },
          "metadata": {
            "needs_background": "light"
          }
        }
      ]
    },
    {
      "cell_type": "markdown",
      "source": [
        "### **5-4. 최종 평가**"
      ],
      "metadata": {
        "id": "tfMZXv8xOzhH"
      }
    },
    {
      "cell_type": "markdown",
      "source": [
        "|**학습 횟수**|**국문**|**번역을 수행한 영문**|**결과**|\n",
        "|:---:|:---:|:---:|:---:|\n",
        "|**20**|**오바마는 대통령이다.**|**obama is a** former **president**.|**○**|\n",
        "|**50**|**오바마는 대통령이다.**|he said he will be a big battle.|**✕**|\n",
        "|**20**|**시민들은 도시 속에 산다.**|they are also a huge number of the **city**.|**△**|\n",
        "|**50**|**시민들은 도시 속에 산다.**|they snaked in **cities** , cheers took place across the **city** to enjoy the city sidewalks .|**△**|\n",
        "|**20**|**커피는 필요 없다.**|he says.|**✕**|\n",
        "|**50**|**커피는 필요 없다.**|the level of vitamin helps you match much **coffee**.|**△**|\n",
        "|**20**|**일곱 명의 사망자가 발생했다.**|six **were killed**.|**△**|\n",
        "|**50**|**일곱 명의 사망자가 발생했다.**|**seven people were killed.**|**○**|\n",
        "|**20**|**여름은 날씨가 덥다.**|**the summer** morning , the **weather** is the best way to get the new **weather**.|**△**|\n",
        "|**50**|**여름은 날씨가 덥다.**|**the summer is** expected.|**△**|\n",
        "|**20**|**그와 그녀는 결혼을 한다.**|**he is married to her** marriage.|**○**|\n",
        "|**50**|**그와 그녀는 결혼을 한다.**|her marriage **are married** in marriage.|**△**|\n",
        "|**20**|**영화관에서 영화를 보고 싶다.**|i **want to** play a **movie in the screen**.|**○**|\n",
        "|**50**|**영화관에서 영화를 보고 싶다.**|you don t.|**✕**|\n",
        "|**20**|**아이들은 학교에 간다.**|they were in the **school**.|**△**|\n",
        "|**50**|**아이들은 학교에 간다.**|**children are** all at **school** to **school**.|**○**|\n",
        "|**20**|**동물은 동물원에 있다.**|**the animals are** being found **in the zoo** s.|**○**|\n",
        "|**50**|**동물은 동물원에 있다.**|**the animal is** also a popular wild that they were amazed at a **zoo**.|**△**|\n",
        "|**20**|**큰 문제가 발생하다.**|the **problem** is a major point .|**△**|\n",
        "|**50**|**큰 문제가 발생하다.**|a key **problem** is a **big problem**.|**△**|"
      ],
      "metadata": {
        "id": "dWGe-v6uQWDu"
      }
    },
    {
      "cell_type": "markdown",
      "source": [
        "이번 프로젝트에서는 번역 모델을 만들어 보았다. 그 결과 전체적으로 번역이 잘 이루어지지 않았고, 주어나 동사 부분만 한두개 맞추는 모습을 보였다. 데이터를 살펴보았는데, he, she 같은 데이터에서 많이 나온 주어의 경우 부분은 잘 맞추는 편이었다. 하지만 신기하게 동사나 어미를 붙이는 순간 문장이 잘 안나오는 결과가 많았다. 데이터의 내용이 전반적으로 경제나 정치, 사회 등 일반적이지 않은 내용이 많아 일반 문장의 경우 더 번역을 잘 수행하지 못하는 것 같다는 생각이 들었다. 생각보다 하이퍼 파라미터를 조정하여도 잘 맞추는 모습을 보이지 않는 것으로 보아 데이터를 좀 더 보완될 필요성이 느껴진다."
      ],
      "metadata": {
        "id": "-DW-jQyWO_Zt"
      }
    },
    {
      "cell_type": "markdown",
      "source": [
        "## **6. 회고**\n"
      ],
      "metadata": {
        "id": "9fqvr4PsZu5t"
      }
    },
    {
      "cell_type": "markdown",
      "source": [
        "### **6-1. 프로젝트 회고**\n"
      ],
      "metadata": {
        "id": "IKUpvUL_ZxMO"
      }
    },
    {
      "cell_type": "markdown",
      "source": [
        "이번 프로젝트를 수행하면서 가장 많고 다양한 오류들을 접한 것 같다.  \n",
        "\n",
        "가장 문제가 되었던 부분은 학습 함수 부분인데, 토큰화를 잘 진행했음에도 불구하고 학습을 진행하면 계속 start를 찾을 수 없다는 오류가 발생했다. 그래서 맨 처음에는 내가 작업한 코드와 다른 분들의 코드를 비교해 보았는데 코드상의 다른 점이 없었고, 그래서 일단 start로 문장의 시작을 구분한 분들의 코드를 그대로 가져와 돌려보았는데 그 조차 똑같은 오류가 발생했다. start가 없다는 의미가 딕셔너리나 리스트 내에 start로 된 부분을 찾을 수 없다는 의미였는데, 데이터 확인을 해보면 멀쩡히 출력 되어서 너무 답답했다. 그래서 또 다른 분의 코드를 봤는데 이 분은 기본적인 전처리 진행 후 데이터프레임으로 형태 변환을 진행해서 작업을 진행하셨고, 시작과 끝을 start-end가 아닌 sos-eos로 구분하셨기에 그 분의 코드를 활용해 작업해보았다. 그랬더니 코드는 잘 돌아갔는데, 정작 내가 작성한 처음의 코드가 하나도 남지 않아서 너무 아쉬웠다.  \n",
        "\n",
        "두번째로 애를 먹었던 부분은 역시나 저번과 똑같이 한글 폰트 문제였다. 노드에서 제시한대로 작업했으나 제대로 출력이 되지 않았고, 때문에 여러 방법을 시도해서 시각화 하는 것에 성공했다. 그런데 여기서 문제는 한글 폰트 설정이 끝나고 무조건 커널을 재연결 해줘야 했는데, 처음에 학습 에폭을 크게 돌렸으나 다시 커널을 연결해야 했기 때문에 다시 학습을 해야 한다는 점이었다. 보통 시각화를 진행하는 부분이 뒷부분에 많이 나오기 때문에 지금까지 학습 시간이 너무 허무했다. 그래서 로컬을 활용하는 게 좋다는 생각이 들었고, 만약 COLAB을 사용하더라도 먼저 그냥 아무 표라도 시각화해서 한글이 잘 나오는지 확인해봐야겠다는 생각이 들었다.  \n",
        "\n",
        "그 외에도 과적합을 막기 위해 EARLY STOPPING을 사용하고 싶었으나, 코드가 안돌아갔다. 이유를 확인해보니 MODEL.FIT을 안하면 ES을 사용할 수 없다고 한다. 그런 부분은 처음 알았기에 조금 새로웠다.  \n",
        "\n",
        "그리고 학습을 진행하면서 다양한 파라미터를 만져봤는데, `run_opts = tf.RunOptions(report_tensor_allocations_upon_oom = True)` 오류가 자주 떴다. 이유를 찾아보았으나 처음에는 너무 사람들의 다양한 의견 때문에 오류의 정체를 알기 어려웠는데, CPU 보다 작업하려는 내용이 크면 발생하는 오류인 것 같았다. 이런 오류는 처음 봐서 신기하기도 했고, 오류의 내용을 좀 더 구체적으로 CPU가 부족하다고 적었으면 이렇게 오래 고민하지 않아도 될 것 같다는 생각이 들어서 이런 부분을 조금 보완해줬으면 하는 생각이 들었다.  \n",
        "\n",
        "그리고 다양한 EPOCH,BATCH SIZE를 설정해 보았으나 LOSS 값은 거의 변동이 없었다. 한번 실수로 옵티마이저 설정 부분 코드를 안돌렸는데, 이 경우에는 어쩐지 2.3 이하로 LOSS 값이 안떨어지는 현상이 발생해서 옵티마이저 설정이 중요하구나를 느꼈다. 그리고 EPOCH이나 BATCH SIZE도 중요하지만 결국에 데이터의 사이즈나 상태에 따라 결과가 많이 차이나는 것 같아서 이번에도 데이터의 중요성을 더 크게 느낀 것 같다."
      ],
      "metadata": {
        "id": "PPRXGw-lEllD"
      }
    },
    {
      "cell_type": "markdown",
      "source": [
        "### **6-2. 참고자료**\n"
      ],
      "metadata": {
        "id": "EF0p_rZbZzg0"
      }
    },
    {
      "cell_type": "markdown",
      "source": [
        "1. https://github.com/hayaseleu/SSAC_classifications/blob/master/Going_deeper(NLP)/Going%20Deeper(NLP)_SSAC%208.%20Seq2seq%EC%9C%BC%EB%A1%9C%20%EB%B2%88%EC%97%AD%EA%B8%B0%20%EB%A7%8C%EB%93%A4%EA%B8%B0.ipynb  \n",
        "2. https://github.com/miinkang/AI_Project_AIFFEL/blob/main/%5BGD-08%5Dattention_based_seq2seq_translation.ipynb  \n",
        "3. https://github.com/eunji1/Aiffel/blob/main/NLP/NLP%5B08%5Dtranslation.ipynb\n",
        "4. https://github.com/YAGI0423/aiffel_going_deeper_nlp/blob/main/going_deeper_08/GD08_v3_1.ipynb  \n",
        "5. https://github.com/keras-team/keras/issues/12806  \n",
        "6. https://stackoverflow.com/questions/49665757/how-to-add-report-tensor-allocations-upon-oom-to-runoptions-in-keras   \n",
        "7. https://tensorflowkorea.gitbooks.io/tensorflow-kr/content/g3doc/api_docs/python/client.html  \n",
        "8. https://colab.research.google.com/github/nicewook/datascience_exercise/blob/master/korean_font_on_matplotlib.ipynb#scrollTo=O_cpXzdg0cjb"
      ],
      "metadata": {
        "id": "awCWV6b2afM-"
      }
    }
  ]
}