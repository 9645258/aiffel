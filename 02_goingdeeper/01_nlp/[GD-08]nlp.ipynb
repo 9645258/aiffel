{
  "nbformat": 4,
  "nbformat_minor": 0,
  "metadata": {
    "colab": {
      "name": "[GD-08]nlp.ipynb",
      "provenance": [],
      "collapsed_sections": [
        "pvZBeMRrV5sG",
        "NTOWlZFfsOWb",
        "bu2WWXoBsU5v",
        "u_rng_izsg5C",
        "Az16hhvJt9xQ",
        "1MwJTmYOua62"
      ],
      "machine_shape": "hm",
      "authorship_tag": "ABX9TyMviSWMly/C8ZImFPf8neXF",
      "include_colab_link": true
    },
    "kernelspec": {
      "name": "python3",
      "display_name": "Python 3"
    },
    "language_info": {
      "name": "python"
    },
    "accelerator": "GPU",
    "gpuClass": "standard"
  },
  "cells": [
    {
      "cell_type": "markdown",
      "metadata": {
        "id": "view-in-github",
        "colab_type": "text"
      },
      "source": [
        "<a href=\"https://colab.research.google.com/github/9645258/aiffel/blob/main/02_goingdeeper/01_nlp/%5BGD-08%5Dnlp.ipynb\" target=\"_parent\"><img src=\"https://colab.research.google.com/assets/colab-badge.svg\" alt=\"Open In Colab\"/></a>"
      ]
    },
    {
      "cell_type": "markdown",
      "source": [
        "## 00"
      ],
      "metadata": {
        "id": "pvZBeMRrV5sG"
      }
    },
    {
      "cell_type": "code",
      "source": [
        "!sudo apt-get install g++ openjdk-8-jdk"
      ],
      "metadata": {
        "id": "lpt8PdCrjUBO",
        "colab": {
          "base_uri": "https://localhost:8080/"
        },
        "outputId": "b1aa85c7-f92a-4f3e-d01f-b3302ae2a5d7"
      },
      "execution_count": null,
      "outputs": [
        {
          "output_type": "stream",
          "name": "stdout",
          "text": [
            "Reading package lists... Done\n",
            "Building dependency tree       \n",
            "Reading state information... Done\n",
            "g++ is already the newest version (4:7.4.0-1ubuntu2.3).\n",
            "openjdk-8-jdk is already the newest version (8u312-b07-0ubuntu1~18.04).\n",
            "The following package was automatically installed and is no longer required:\n",
            "  libnvidia-common-460\n",
            "Use 'sudo apt autoremove' to remove it.\n",
            "0 upgraded, 0 newly installed, 0 to remove and 71 not upgraded.\n"
          ]
        }
      ]
    },
    {
      "cell_type": "code",
      "source": [
        "!bash <(curl -s https://raw.githubusercontent.com/konlpy/konlpy/master/scripts/mecab.sh)"
      ],
      "metadata": {
        "id": "Y17bl19VjXm0",
        "colab": {
          "base_uri": "https://localhost:8080/"
        },
        "outputId": "23690370-78b0-4291-cee9-87ce0fb8aa71"
      },
      "execution_count": null,
      "outputs": [
        {
          "output_type": "stream",
          "name": "stdout",
          "text": [
            "mecab-ko is already installed\n",
            "mecab-ko-dic is already installed\n",
            "mecab-python is already installed\n",
            "Done.\n"
          ]
        }
      ]
    },
    {
      "cell_type": "code",
      "source": [
        "!pip install konlpy"
      ],
      "metadata": {
        "id": "6FR8UXXjjfv4",
        "colab": {
          "base_uri": "https://localhost:8080/"
        },
        "outputId": "8dc8dde3-8dac-4387-ec4d-3a6e791fd72a"
      },
      "execution_count": null,
      "outputs": [
        {
          "output_type": "stream",
          "name": "stdout",
          "text": [
            "Looking in indexes: https://pypi.org/simple, https://us-python.pkg.dev/colab-wheels/public/simple/\n",
            "Requirement already satisfied: konlpy in /usr/local/lib/python3.7/dist-packages (0.6.0)\n",
            "Requirement already satisfied: numpy>=1.6 in /usr/local/lib/python3.7/dist-packages (from konlpy) (1.21.6)\n",
            "Requirement already satisfied: lxml>=4.1.0 in /usr/local/lib/python3.7/dist-packages (from konlpy) (4.2.6)\n",
            "Requirement already satisfied: JPype1>=0.7.0 in /usr/local/lib/python3.7/dist-packages (from konlpy) (1.4.0)\n",
            "Requirement already satisfied: typing-extensions in /usr/local/lib/python3.7/dist-packages (from JPype1>=0.7.0->konlpy) (4.1.1)\n"
          ]
        }
      ]
    },
    {
      "cell_type": "markdown",
      "source": [
        "# **GD NLP 08 : Seq2seq으로 번역기 만들기**"
      ],
      "metadata": {
        "id": "pNXL_JsblFzm"
      }
    },
    {
      "cell_type": "markdown",
      "source": [
        "- **한영 번역기 만들기**  \n",
        "\n",
        "- **번역기 모델 학습에 필요한 텍스트 데이터 전처리가 한국어 포함하여 잘 이루어졌다.**  \n",
        "구두점, 대소문자, 띄어쓰기, 한글 형태소분석 등 번역기 모델에 요구되는 전처리가 정상적으로 진행되었다.  \n",
        "\n",
        "- **Attentional Seq2seq 모델이 정상적으로 구동된다.**  \n",
        "seq2seq 모델 훈련 과정에서 training loss가 안정적으로 떨어지면서 학습이 진행됨이 확인되었다.  \n",
        "\n",
        "- **테스트 결과 의미가 통하는 수준의 번역문이 생성되었다.**  \n",
        "테스트용 디코더 모델이 정상적으로 만들어져서, 정답과 어느 정도 유사한 영어 번역이 진행됨을 확인하였다.  "
      ],
      "metadata": {
        "id": "kknJZLHnrRiH"
      }
    },
    {
      "cell_type": "markdown",
      "source": [
        "## **1. 데이터 준비**\n"
      ],
      "metadata": {
        "id": "h0sduuCFlOTm"
      }
    },
    {
      "cell_type": "markdown",
      "source": [
        "### **1-1. 라이브러리 import**"
      ],
      "metadata": {
        "id": "NTOWlZFfsOWb"
      }
    },
    {
      "cell_type": "code",
      "execution_count": null,
      "metadata": {
        "id": "m0ZziMjIYqvu"
      },
      "outputs": [],
      "source": [
        "import re\n",
        "import os\n",
        "import io\n",
        "import random\n",
        "import tarfile\n",
        "import numpy as np\n",
        "import pandas as pd\n",
        "from tqdm import tqdm\n",
        "import tensorflow as tf\n",
        "from konlpy.tag import Mecab\n",
        "\n",
        "import matplotlib as mpl\n",
        "import matplotlib.pyplot as plt\n",
        "import matplotlib.ticker as ticker\n",
        "import matplotlib.font_manager as fm"
      ]
    },
    {
      "cell_type": "markdown",
      "source": [
        "### **1-2. 데이터 import**"
      ],
      "metadata": {
        "id": "bu2WWXoBsU5v"
      }
    },
    {
      "cell_type": "code",
      "source": [
        "from google.colab import drive\n",
        "drive.mount('/content/drive')"
      ],
      "metadata": {
        "colab": {
          "base_uri": "https://localhost:8080/"
        },
        "id": "nI1fw5gekDLc",
        "outputId": "b4335759-f377-44c9-8fe5-1e61c0793f3b"
      },
      "execution_count": null,
      "outputs": [
        {
          "output_type": "stream",
          "name": "stdout",
          "text": [
            "Drive already mounted at /content/drive; to attempt to forcibly remount, call drive.mount(\"/content/drive\", force_remount=True).\n"
          ]
        }
      ]
    },
    {
      "cell_type": "markdown",
      "source": [
        "- **폰트 경로 설정**"
      ],
      "metadata": {
        "id": "bkdStrdzs5pe"
      }
    },
    {
      "cell_type": "code",
      "source": [
        "fontpath = '/content/drive/MyDrive/Colab Notebooks/aiffel/01_data/ROKAF Sans Bold.ttf'\n",
        "font = fm.FontProperties(fname = fontpath)\n",
        "plt.rc('font', family='ROKAF Sans')\n",
        "mpl.font_manager.findfont(font)\n",
        "%config InlineBackend.figure_format = 'retina'"
      ],
      "metadata": {
        "id": "Rxj-556skB87"
      },
      "execution_count": null,
      "outputs": []
    },
    {
      "cell_type": "markdown",
      "source": [
        "- **국문 및 영문 train 데이터 import**"
      ],
      "metadata": {
        "id": "_BNkngk5tAIe"
      }
    },
    {
      "cell_type": "code",
      "source": [
        "path_to_en = \"/content/drive/MyDrive/Colab Notebooks/aiffel/01_data/02-1_nlp/08/korean-english-news-v1/train/korean-english-park.train.en\"\n",
        "path_to_ko = \"/content/drive/MyDrive/Colab Notebooks/aiffel/01_data/02-1_nlp/08/korean-english-news-v1/train/korean-english-park.train.ko\""
      ],
      "metadata": {
        "id": "cKSx6r_vmVjA"
      },
      "execution_count": null,
      "outputs": []
    },
    {
      "cell_type": "code",
      "source": [
        "with open(path_to_ko, \"r\") as f:\n",
        "    kor_raw = f.read().splitlines()"
      ],
      "metadata": {
        "id": "4VmEcWWomzeu"
      },
      "execution_count": null,
      "outputs": []
    },
    {
      "cell_type": "code",
      "source": [
        "with open(path_to_en, \"r\") as f:\n",
        "    eng_raw = f.read().splitlines()"
      ],
      "metadata": {
        "id": "03Ho-DqrpzBH"
      },
      "execution_count": null,
      "outputs": []
    },
    {
      "cell_type": "markdown",
      "source": [
        "### **1-3. 데이터 확인**"
      ],
      "metadata": {
        "id": "u_rng_izsg5C"
      }
    },
    {
      "cell_type": "markdown",
      "source": [
        "- **데이터 수 확인**"
      ],
      "metadata": {
        "id": "Cd4aDScjsy4b"
      }
    },
    {
      "cell_type": "code",
      "source": [
        "print('국문 train 데이터 수:', len(kor_raw))\n",
        "print('영문 train 데이터 수:', len(eng_raw))"
      ],
      "metadata": {
        "colab": {
          "base_uri": "https://localhost:8080/"
        },
        "id": "7-fWt-Gaoi_r",
        "outputId": "370bb884-0bc3-4ece-f232-dbcd25d6b605"
      },
      "execution_count": null,
      "outputs": [
        {
          "output_type": "stream",
          "name": "stdout",
          "text": [
            "국문 train 데이터 수: 94123\n",
            "영문 train 데이터 수: 94123\n"
          ]
        }
      ]
    },
    {
      "cell_type": "markdown",
      "source": [
        "- **데이터 확인**"
      ],
      "metadata": {
        "id": "1ejScIEkt3oJ"
      }
    },
    {
      "cell_type": "code",
      "source": [
        "print('국문 train 데이터:\\n', random.sample(kor_raw, 30))\n",
        "print('\\n')\n",
        "print('영문 train 데이터:\\n', random.sample(eng_raw, 30))"
      ],
      "metadata": {
        "colab": {
          "base_uri": "https://localhost:8080/"
        },
        "id": "wOf9ZfAIo_7R",
        "outputId": "a17d83e1-4b19-42f4-f7c8-a880896a536a"
      },
      "execution_count": null,
      "outputs": [
        {
          "output_type": "stream",
          "name": "stdout",
          "text": [
            "국문 train 데이터:\n",
            " ['중국이 2008년 베이징 올림픽 성화봉송과 관련, 성화 봉송로에 대만을 포함시키며 “중국의 다리”라는 표현을 써 대만과 정치적인 마찰을 빚고 있다.', 'initially 처음에, 첫머리에', \"홍콩 영화 '무간도'를 미국판으로 리메이크한 '사자(死子)들'은 레오나르도 디카프리오가 보스톤 범죄 조직 그늘 밑의 경찰로, 맷 데이먼이 야비한 갱으로, 잭 니콜슨이 모든 이들을 배후 조종하는 무자비한 갱 두목으로 등장한다.\", '중국의 가족계획정책이 기혼자들의 1가구 1자녀 정책을 무시하면서 “인구 재팽창” 국변을 맞고 있다.', '베이징 공항에서 중국 여행객들은 힐 대표의 사진을 찍으려고 몰려들기도 한다고 이름을 밝히지 않은 힐 대표의 한 경호원이 말했다.', '그는“미움이나 악의로 영화를 제작할 수 없고 아무런 악감정도 이 영화에 반영되지 않았다”며 “부시의 정치를 싫어하지만 이상하고 엉뚱한 어색한 방법으로 마음을 끌어당겨 미국의 마음을 사로 잡았던 부시가 영화배우 존 웨인과 더 닮았다는 것을 알고 있다”고 말했다.', '농민들의 파업이 이어지며 크리스티나 페르난데스 아르헨티나 대통령 정부는 난관에 봉착했다.', '시라크는 \"이란이 어느 곳에 핵무기를 떨어뜨릴 것인가.', '최근 조지 부시 미국 대통령이 이스라엘과 팔레스타인을 순방했으며 그의 순방일정 3일째, 중동평화회담과 관련한 이 같은 발표가 있었다.', '지난해 6월 이후 아기 엄마가 된 데이븐포트(31)는 개인적인 사정으로 대회에 참여하지 못한다고 밝혔다.', '이번 사고는 MBC 지역 방송국에서 주최한 콘서트를 보기 위해 5천여 명의 시민이 기다리고 있던 운동장 입구에서 벌어졌다.', '영국 석간 이브닝 스탠더드는 매들린과 얼굴이 비슷한 사진의 소녀는 인근 올리브 농장주의 딸이라고 설명했다.', '박태환은 한국인으로는 처음 올림픽을 제외한 국제 수영 대회에서 메달을 땄다.', '또 10명 중 1명은 계속된 휴대폰 사용으로 다른 사람들로부터 비난을 받을 적이 있다고 말했다.', '세상을 바꾼 10가지 생각', '홍역-이하선염-풍진(measles-mumps-rubella, MMR）백신은 어린이는 반듯이 접종해야하며 성인도 재 접종해야 한다.', '롤링스톤스의 기타리스트인 키스 리차드(63)는 이달초 스웨덴에서 열린 자신들의 콘서트를 혹평한 현지언론에 대해 공식적으로 사과를 요청했다.', '홍콩 닭장 아파트 생활', '18~29세의 젊은층 유권자 중 61%는 오바마 후보에 투표했다고 밝혔으며 클린턴을 선택했다는 유권자의 비율은 39%로 밝혀졌다.', '제이미 린은 알드리지(19)와 미시시피 주 남부 소도시인 리버티 인근에서 동거하면서 자주모습을 드러냈으며 그의 임신 사실이 더 확실해 졌다.', '여기 운 좋게 근사하고 적절한 숙박비의 호텔 예약 숙제를 해결했다.', '차이사엥은 “혼란스러운 분도 있고 실망스러워하는 당원도 있다”며 “그러나 지금은 인내심과 신중함이 필요한 시점이고 언젠가는 해결책이 나올 것”이라고 덧붙였다.', '테넌트 서장은 “브래지어와 팬티의 주인을 찾는 것이 걱정\"이라며 \"2명의 여성이 체평이 특이해 이를 기초로 그를 이번 절도 사건에 연루 시킬 수 있었다”고 말했다.', '응답자 중 29퍼센트는 한국을 2년 내에 방문하고 싶은 곳으로 꼽았다.', '여당의 당수는 자동적으로 총리직에 오른다.', '“그가 이른바 미국 상원의석을 판매하려고 했던 혐의, 법안 통과에 대한 불법선거자금 수수, 시카고 소재 주요 어린이병원에 대한 의료보험금 지급 거부, 시카고트리뷴의 논설위원 해고 이외에도 지금부터 그가 행하는 모든 일들이 부패로 얼룩질 것이라는 심각한 우려를 낳고 있습니다.”', '한편 케냐에서 가장 오래된 신문인 헤럴드는 2일 사무엘 기부투 중앙선거관리위원회 의장이 누가 이번 총선에서 당선됐는지 모른다고 말한 사실을 보도했다.', '심한 강풍이 불고, 비도 오면서 상대적으로 피해가 더 발생할 수도 있겠습니다.”', '‘이슬람 마그레브 알카에다’는 또 “순교자가 타깃에 도달하는데 실패했다”며 “그는 비상 경계선 앞 에서 폭탄을 터뜨리는 방법을 택했다”고 밝혔다.', 'Japan accusing Korea infringed technology patents 일본, 한국 기술 특허 시비\\xa0 \\xa0 \\xa02005.08']\n",
            "\n",
            "\n",
            "영문 train 데이터:\n",
            " ['\"Kind of don\\'t have to worry about that now,\" he said.', 'But the Mayor is now 16 years old, and nearing his end.', 'He said if the newspaper continues to publish malicious reports about the Korean prosecution, he would file a compensation suit.', \"He is also due to hold talks with Putin's successor-elect, Dmitry Medvedev, who is due to replace Putin next month and is expected to appoint his predecessor as prime minister.\", \"Arirang's director Lee said he wasn't overly concerned about being kidnapped when he visited the North for a week last year.\", '\"It can be confirmed that Tony Blair has been received into full communion with the Catholic Church by Cardinal Cormac Murphy-O\\'Connor,\" the head of the church in England and Wales, the church said in a statement.', 'There have been 20 such fires this year in the Philadelphia suburb.', 'As a result, Virginia also is attracting more tourists to partake in wine tastings, local cuisine and stays at nearby inns.', 'Of those who voted for Barack Obama, 42 percent said they would be satisfied if Hillary Clinton was the nominee, according to the exit polls.', 'The spy agency said it considers the cyber attack a ``grave threat’’ to the national security.', 'Some penguins are still being cared for, both in the north and south of Brazil.', 'The successful launch made South Korea the 37th country to send a person into space and second from Asia.', 'Space shuttle Discovery and a crew of seven rocketed into orbit Tuesday in pursuit of the international space station, where a formidable construction job awaits them. Discovery blasted off at 11:38 a.m., ducking through clouds.', 'Australia has experienced some success in under-age tournaments and another factor likely to build the strength of the lads from Down Under is their World Cup bid for 2018.', 'Flying with the flu?', 'Flakey forecasters promise cash...', 'There have been some fears that the arrival of the Olympic torch could even spark violent protests against China, but there has been no talk of banning the torch by national Olympic committees.', 'Iraq which has about a 60 percent Shiite population is also made up of Sunni Arabs, Kurds, Turkmens, Christians and others.', 'And the differences between brain volumes in drinkers and nondrinkers were quite small', 'And every immigrant, by embracing these ideals, makes our country more, not less, American.', 'Living in a cage in Hong Kong', \"Last weekend's election presents the most formidable challenge to Robert Mugabe's 28 years of rule in Zimbabwe.\", 'Police confirm they have taken a person into custody but are not saying who.', 'Authorities found the Maple Valley woman after detecting the general location of her cell phone Thursday morning, then searching along Highway 169 near Renton, southeast of Seattle, the route she took home from work.', 'Among the Republicans, John McCain and Mitt Romney appear to be the frontrunners, with both seeking a morale-boosting victory after rival Mike Huckabee claimed victory in Iowa.', '(male voice)“ The top priority right now is getting the economy out of the ditch.”', 'Witnesses said rioters were setting fire to buildings in protest at the result,', '400 foreign nationals left on Saturday and another 400 were slated to leave on Sunday.', \"Elektra's history dates back to 1950, when a 19-year-old Holzman founded the record company in his dorm room at St. John's College in Annapolis, Maryland.\", 'Andy Roddick overcame a second-set lapse and beat fourth-seeded Nikolay Davydenko 6-3 4-6 6-2.']\n"
          ]
        }
      ]
    },
    {
      "cell_type": "markdown",
      "source": [
        "### **1-4. 데이터 병합**"
      ],
      "metadata": {
        "id": "Az16hhvJt9xQ"
      }
    },
    {
      "cell_type": "markdown",
      "source": [
        "- **국문/영문 데이터 수가 같으므로 한개의 데이터셋으로 변환**"
      ],
      "metadata": {
        "id": "7SKh9eaLuNKi"
      }
    },
    {
      "cell_type": "code",
      "source": [
        "dataset = pd.DataFrame(zip(kor_raw, eng_raw), columns = [\"kor\", \"eng\"])"
      ],
      "metadata": {
        "id": "cGr9FcHunfEe"
      },
      "execution_count": null,
      "outputs": []
    },
    {
      "cell_type": "markdown",
      "source": [
        "- **데이터 확인**"
      ],
      "metadata": {
        "id": "pF8zCp9vuVlD"
      }
    },
    {
      "cell_type": "code",
      "source": [
        "dataset.sample(10)"
      ],
      "metadata": {
        "colab": {
          "base_uri": "https://localhost:8080/",
          "height": 363
        },
        "id": "px-ntXKDqK48",
        "outputId": "805248a1-514c-49e5-cc36-9d04fc8df818"
      },
      "execution_count": null,
      "outputs": [
        {
          "output_type": "execute_result",
          "data": {
            "text/plain": [
              "                                                     kor  \\\n",
              "72362  이는 체코 출신 예술가 데이비드 서니가 만든 논란의 여지가 많은 설치 예술작품에 따...   \n",
              "92523  Biden, Palin Go Toe to Toe on the Issues 용호상박의...   \n",
              "48870  하지만 6자회담은 2년여간 교착 상태에 빠졌으며 북한은 지난 10월 9일 핵실험을 ...   \n",
              "92608                   “ 3월 말이라는 점을 감안할 때 꽤 많은 양의 눈입니다.   \n",
              "41323  유니버셜 익스프레스는 이번 경매 물품을 배카로로부터 500만 달러(약 50억원)에 ...   \n",
              "18596  지난해부터 계속된 호우와 지난 몇 주간 볼리비아를 강타한 폭풍으로 볼리비아 전역에서...   \n",
              "49272  노왁의 변호사인 도널드 리케박은 판사가 살인 미수혐의에 대해 증명할 수 있는 요인을...   \n",
              "64021                                [동영상]추신수 스리런 홈런 작렬!   \n",
              "89597                                       원문 & 독해설명 인쇄   \n",
              "79324  Majority expect Roh’s proposal to be thwarted ...   \n",
              "\n",
              "                                                     eng  \n",
              "72362  That's the view of the European Union accordin...  \n",
              "92523  The head of the FDIC says the agency is standi...  \n",
              "48870  But the talks have been stalled for two years,...  \n",
              "92608  “ Pretty heavy snow, especially considering it...  \n",
              "41323  Universal bought the items from Vaccaro for $5...  \n",
              "18596  LA PAZ, Bolivia (CNN) President Evo Morales de...  \n",
              "49272  Her attorney, Donald Lykkebak, argued the judg...  \n",
              "64021                 Korea to double African aid by ...  \n",
              "89597  The protesters later joined the anti-impeachme...  \n",
              "79324  A report released by the Information Ministry ...  "
            ],
            "text/html": [
              "\n",
              "  <div id=\"df-73df1198-72af-44fb-ac6e-7d2d4c3910de\">\n",
              "    <div class=\"colab-df-container\">\n",
              "      <div>\n",
              "<style scoped>\n",
              "    .dataframe tbody tr th:only-of-type {\n",
              "        vertical-align: middle;\n",
              "    }\n",
              "\n",
              "    .dataframe tbody tr th {\n",
              "        vertical-align: top;\n",
              "    }\n",
              "\n",
              "    .dataframe thead th {\n",
              "        text-align: right;\n",
              "    }\n",
              "</style>\n",
              "<table border=\"1\" class=\"dataframe\">\n",
              "  <thead>\n",
              "    <tr style=\"text-align: right;\">\n",
              "      <th></th>\n",
              "      <th>kor</th>\n",
              "      <th>eng</th>\n",
              "    </tr>\n",
              "  </thead>\n",
              "  <tbody>\n",
              "    <tr>\n",
              "      <th>72362</th>\n",
              "      <td>이는 체코 출신 예술가 데이비드 서니가 만든 논란의 여지가 많은 설치 예술작품에 따...</td>\n",
              "      <td>That's the view of the European Union accordin...</td>\n",
              "    </tr>\n",
              "    <tr>\n",
              "      <th>92523</th>\n",
              "      <td>Biden, Palin Go Toe to Toe on the Issues 용호상박의...</td>\n",
              "      <td>The head of the FDIC says the agency is standi...</td>\n",
              "    </tr>\n",
              "    <tr>\n",
              "      <th>48870</th>\n",
              "      <td>하지만 6자회담은 2년여간 교착 상태에 빠졌으며 북한은 지난 10월 9일 핵실험을 ...</td>\n",
              "      <td>But the talks have been stalled for two years,...</td>\n",
              "    </tr>\n",
              "    <tr>\n",
              "      <th>92608</th>\n",
              "      <td>“ 3월 말이라는 점을 감안할 때 꽤 많은 양의 눈입니다.</td>\n",
              "      <td>“ Pretty heavy snow, especially considering it...</td>\n",
              "    </tr>\n",
              "    <tr>\n",
              "      <th>41323</th>\n",
              "      <td>유니버셜 익스프레스는 이번 경매 물품을 배카로로부터 500만 달러(약 50억원)에 ...</td>\n",
              "      <td>Universal bought the items from Vaccaro for $5...</td>\n",
              "    </tr>\n",
              "    <tr>\n",
              "      <th>18596</th>\n",
              "      <td>지난해부터 계속된 호우와 지난 몇 주간 볼리비아를 강타한 폭풍으로 볼리비아 전역에서...</td>\n",
              "      <td>LA PAZ, Bolivia (CNN) President Evo Morales de...</td>\n",
              "    </tr>\n",
              "    <tr>\n",
              "      <th>49272</th>\n",
              "      <td>노왁의 변호사인 도널드 리케박은 판사가 살인 미수혐의에 대해 증명할 수 있는 요인을...</td>\n",
              "      <td>Her attorney, Donald Lykkebak, argued the judg...</td>\n",
              "    </tr>\n",
              "    <tr>\n",
              "      <th>64021</th>\n",
              "      <td>[동영상]추신수 스리런 홈런 작렬!</td>\n",
              "      <td>Korea to double African aid by ...</td>\n",
              "    </tr>\n",
              "    <tr>\n",
              "      <th>89597</th>\n",
              "      <td>원문 &amp; 독해설명 인쇄</td>\n",
              "      <td>The protesters later joined the anti-impeachme...</td>\n",
              "    </tr>\n",
              "    <tr>\n",
              "      <th>79324</th>\n",
              "      <td>Majority expect Roh’s proposal to be thwarted ...</td>\n",
              "      <td>A report released by the Information Ministry ...</td>\n",
              "    </tr>\n",
              "  </tbody>\n",
              "</table>\n",
              "</div>\n",
              "      <button class=\"colab-df-convert\" onclick=\"convertToInteractive('df-73df1198-72af-44fb-ac6e-7d2d4c3910de')\"\n",
              "              title=\"Convert this dataframe to an interactive table.\"\n",
              "              style=\"display:none;\">\n",
              "        \n",
              "  <svg xmlns=\"http://www.w3.org/2000/svg\" height=\"24px\"viewBox=\"0 0 24 24\"\n",
              "       width=\"24px\">\n",
              "    <path d=\"M0 0h24v24H0V0z\" fill=\"none\"/>\n",
              "    <path d=\"M18.56 5.44l.94 2.06.94-2.06 2.06-.94-2.06-.94-.94-2.06-.94 2.06-2.06.94zm-11 1L8.5 8.5l.94-2.06 2.06-.94-2.06-.94L8.5 2.5l-.94 2.06-2.06.94zm10 10l.94 2.06.94-2.06 2.06-.94-2.06-.94-.94-2.06-.94 2.06-2.06.94z\"/><path d=\"M17.41 7.96l-1.37-1.37c-.4-.4-.92-.59-1.43-.59-.52 0-1.04.2-1.43.59L10.3 9.45l-7.72 7.72c-.78.78-.78 2.05 0 2.83L4 21.41c.39.39.9.59 1.41.59.51 0 1.02-.2 1.41-.59l7.78-7.78 2.81-2.81c.8-.78.8-2.07 0-2.86zM5.41 20L4 18.59l7.72-7.72 1.47 1.35L5.41 20z\"/>\n",
              "  </svg>\n",
              "      </button>\n",
              "      \n",
              "  <style>\n",
              "    .colab-df-container {\n",
              "      display:flex;\n",
              "      flex-wrap:wrap;\n",
              "      gap: 12px;\n",
              "    }\n",
              "\n",
              "    .colab-df-convert {\n",
              "      background-color: #E8F0FE;\n",
              "      border: none;\n",
              "      border-radius: 50%;\n",
              "      cursor: pointer;\n",
              "      display: none;\n",
              "      fill: #1967D2;\n",
              "      height: 32px;\n",
              "      padding: 0 0 0 0;\n",
              "      width: 32px;\n",
              "    }\n",
              "\n",
              "    .colab-df-convert:hover {\n",
              "      background-color: #E2EBFA;\n",
              "      box-shadow: 0px 1px 2px rgba(60, 64, 67, 0.3), 0px 1px 3px 1px rgba(60, 64, 67, 0.15);\n",
              "      fill: #174EA6;\n",
              "    }\n",
              "\n",
              "    [theme=dark] .colab-df-convert {\n",
              "      background-color: #3B4455;\n",
              "      fill: #D2E3FC;\n",
              "    }\n",
              "\n",
              "    [theme=dark] .colab-df-convert:hover {\n",
              "      background-color: #434B5C;\n",
              "      box-shadow: 0px 1px 3px 1px rgba(0, 0, 0, 0.15);\n",
              "      filter: drop-shadow(0px 1px 2px rgba(0, 0, 0, 0.3));\n",
              "      fill: #FFFFFF;\n",
              "    }\n",
              "  </style>\n",
              "\n",
              "      <script>\n",
              "        const buttonEl =\n",
              "          document.querySelector('#df-73df1198-72af-44fb-ac6e-7d2d4c3910de button.colab-df-convert');\n",
              "        buttonEl.style.display =\n",
              "          google.colab.kernel.accessAllowed ? 'block' : 'none';\n",
              "\n",
              "        async function convertToInteractive(key) {\n",
              "          const element = document.querySelector('#df-73df1198-72af-44fb-ac6e-7d2d4c3910de');\n",
              "          const dataTable =\n",
              "            await google.colab.kernel.invokeFunction('convertToInteractive',\n",
              "                                                     [key], {});\n",
              "          if (!dataTable) return;\n",
              "\n",
              "          const docLinkHtml = 'Like what you see? Visit the ' +\n",
              "            '<a target=\"_blank\" href=https://colab.research.google.com/notebooks/data_table.ipynb>data table notebook</a>'\n",
              "            + ' to learn more about interactive tables.';\n",
              "          element.innerHTML = '';\n",
              "          dataTable['output_type'] = 'display_data';\n",
              "          await google.colab.output.renderOutput(dataTable, element);\n",
              "          const docLink = document.createElement('div');\n",
              "          docLink.innerHTML = docLinkHtml;\n",
              "          element.appendChild(docLink);\n",
              "        }\n",
              "      </script>\n",
              "    </div>\n",
              "  </div>\n",
              "  "
            ]
          },
          "metadata": {},
          "execution_count": 13
        }
      ]
    },
    {
      "cell_type": "markdown",
      "source": [
        "### **1-5. 중복 데이터 및 결측치 확인**"
      ],
      "metadata": {
        "id": "1MwJTmYOua62"
      }
    },
    {
      "cell_type": "markdown",
      "source": [
        "- **데이터 정보 확인**  \n",
        "결측치 없음  "
      ],
      "metadata": {
        "id": "RipshExuuXm9"
      }
    },
    {
      "cell_type": "code",
      "source": [
        "dataset.info()"
      ],
      "metadata": {
        "colab": {
          "base_uri": "https://localhost:8080/"
        },
        "id": "eSPEHrbXzFdy",
        "outputId": "349e1872-6dac-4891-912c-be50fa11fc23"
      },
      "execution_count": null,
      "outputs": [
        {
          "output_type": "stream",
          "name": "stdout",
          "text": [
            "<class 'pandas.core.frame.DataFrame'>\n",
            "RangeIndex: 94123 entries, 0 to 94122\n",
            "Data columns (total 2 columns):\n",
            " #   Column  Non-Null Count  Dtype \n",
            "---  ------  --------------  ----- \n",
            " 0   kor     94123 non-null  object\n",
            " 1   eng     94123 non-null  object\n",
            "dtypes: object(2)\n",
            "memory usage: 1.4+ MB\n"
          ]
        }
      ]
    },
    {
      "cell_type": "markdown",
      "source": [
        "- **중복 데이터 확인 및 삭제**"
      ],
      "metadata": {
        "id": "5g9Thok4uhOz"
      }
    },
    {
      "cell_type": "code",
      "source": [
        "print(\"train 데이터 수:\", len(dataset))\n",
        "\n",
        "dup_data = dataset.duplicated()\n",
        "dup_data = dup_data.value_counts()\n",
        "print(\"중복 train 데이터 수:\", dup_data[True])\n",
        "\n",
        "dataset.drop_duplicates(inplace = True)\n",
        "print(\"최종 train 데이터 수:\", len(dataset))"
      ],
      "metadata": {
        "colab": {
          "base_uri": "https://localhost:8080/"
        },
        "id": "N8_JADWn_dax",
        "outputId": "cb5e8bb7-ce22-48a9-c2e6-bef94f3f3a8d"
      },
      "execution_count": null,
      "outputs": [
        {
          "output_type": "stream",
          "name": "stdout",
          "text": [
            "train 데이터 수: 94123\n",
            "중복 train 데이터 수: 15155\n",
            "최종 train 데이터 수: 78968\n"
          ]
        }
      ]
    },
    {
      "cell_type": "markdown",
      "source": [
        "### **1-6. 데이터 문장 길이 확인**"
      ],
      "metadata": {
        "id": "18Opv-Sfi0oI"
      }
    },
    {
      "cell_type": "code",
      "source": [
        "def show_sentence_length(sentence_num, title, range_=[0, 500]):\n",
        "    plt.figure(figsize=(13, 5))\n",
        "    plt.suptitle(title, fontsize=14)\n",
        "    \n",
        "    plt.subplot(1, 2, 1)\n",
        "    plt.hist(sentence_num, bins=range_[1], range=range_, facecolor='b', label='train')\n",
        "    plt.xlabel('Number of question')\n",
        "    plt.ylabel('Count of question')\n",
        "    \n",
        "    plt.subplot(1, 2, 2)\n",
        "    plt.boxplot(sentence_num, labels=['token counts'], showmeans=True)\n",
        "\n",
        "    plt.show()\n",
        "    \n",
        "    print(\"< Sentence Info >\".center(100, \"=\"))\n",
        "    print(f\"길이 최대:    {np.max(sentence_num):4d}\")\n",
        "    print(f\"길이 최소:    {np.min(sentence_num):4d}\")\n",
        "    print(f\"길이 평균:    {np.mean(sentence_num):7.3f}\")\n",
        "    print(f\"길이 표준편차: {np.std(sentence_num):7.3f}\", end=\"\\n\\n\")\n",
        "    \n",
        "    percentile25 = np.percentile(sentence_num, 25)\n",
        "    percentile50 = np.percentile(sentence_num, 50)\n",
        "    percentile75 = np.percentile(sentence_num, 75)\n",
        "    percentileIQR = percentile75 - percentile25\n",
        "    percentileMAX = percentile75 + percentileIQR * 1.5\n",
        "    \n",
        "    print(f\" 25/100분위:  {percentile25:7.3f}\")\n",
        "    print(f\" 50/100분위:  {percentile50:7.3f}\")\n",
        "    print(f\" 75/100분위:  {percentile75:7.3f}\")\n",
        "    print(f\" MAX/100분위: {percentileMAX:7.3f}\")\n",
        "    print(f\" IQR: {percentileIQR:7.3f}\")\n",
        "    print(\"=\" * 100)"
      ],
      "metadata": {
        "id": "wNV6GJIki1pR"
      },
      "execution_count": null,
      "outputs": []
    }
  ]
}