{
  "cells": [
    {
      "cell_type": "markdown",
      "metadata": {
        "id": "view-in-github",
        "colab_type": "text"
      },
      "source": [
        "<a href=\"https://colab.research.google.com/github/9645258/aiffel/blob/main/02_goingdeeper/01_nlp/%5BGD-14%5Dnlp.ipynb\" target=\"_parent\"><img src=\"https://colab.research.google.com/assets/colab-badge.svg\" alt=\"Open In Colab\"/></a>"
      ]
    },
    {
      "cell_type": "markdown",
      "id": "8b8101f8",
      "metadata": {
        "id": "8b8101f8"
      },
      "source": [
        "# **GD NLP 14 : BERT pretrained model 제작**"
      ]
    },
    {
      "cell_type": "markdown",
      "id": "d10f6f11",
      "metadata": {
        "id": "d10f6f11"
      },
      "source": [
        "- **mini BERT 만들기**"
      ]
    },
    {
      "cell_type": "markdown",
      "id": "229a92a4",
      "metadata": {
        "id": "229a92a4"
      },
      "source": [
        "- **한글 코퍼스를 가공하여 BERT pretrain용 데이터셋을 잘 생성하였다.**  \n",
        "MLM, NSP task의 특징이 잘 반영된 pretrain용 데이터셋 생성과정이 체계적으로 진행되었다.  \n",
        "\n",
        "- **구현한 BERT 모델의 학습이 안정적으로 진행됨을 확인하였다.**  \n",
        "학습진행 과정 중에 MLM, NSP loss의 안정적인 감소가 확인되었다.  \n",
        "\n",
        "- **1M짜리 mini BERT 모델의 제작과 학습이 정상적으로 진행되었다.**  \n",
        "학습된 모델 및 학습과정의 시각화 내역이 제출되었다."
      ]
    },
    {
      "cell_type": "markdown",
      "id": "50a20e47",
      "metadata": {
        "id": "50a20e47"
      },
      "source": [
        "## **1. 데이터 준비**"
      ]
    },
    {
      "cell_type": "markdown",
      "id": "2072047d",
      "metadata": {
        "id": "2072047d"
      },
      "source": [
        "### **1-1. 라이브러리 import**"
      ]
    },
    {
      "cell_type": "code",
      "execution_count": null,
      "id": "0265a850",
      "metadata": {
        "id": "0265a850"
      },
      "outputs": [],
      "source": [
        "from __future__ import absolute_import, division, print_function, unicode_literals\n",
        "\n",
        "import os\n",
        "import re\n",
        "import json\n",
        "import math\n",
        "import copy\n",
        "import shutil\n",
        "import random\n",
        "import zipfile\n",
        "import collections\n",
        "import numpy as np\n",
        "import pandas as pd\n",
        "import sentencepiece as spm\n",
        "from datetime import datetime\n",
        "import matplotlib.pyplot as plt\n",
        "from tqdm.notebook import tqdm\n",
        "\n",
        "import tensorflow as tf\n",
        "import tensorflow.keras.backend as K\n",
        "\n",
        "import warnings\n",
        "warnings.filterwarnings(action='ignore')"
      ]
    },
    {
      "cell_type": "markdown",
      "id": "1a981a82",
      "metadata": {
        "id": "1a981a82"
      },
      "source": [
        "### **1-2. Random Seed 설정**"
      ]
    },
    {
      "cell_type": "code",
      "execution_count": null,
      "id": "c4127ec5",
      "metadata": {
        "id": "c4127ec5"
      },
      "outputs": [],
      "source": [
        "random_seed = 2525\n",
        "random.seed(random_seed) \n",
        "np.random.seed(random_seed)\n",
        "tf.random.set_seed(random_seed)"
      ]
    },
    {
      "cell_type": "markdown",
      "id": "b582a8c7",
      "metadata": {
        "id": "b582a8c7"
      },
      "source": [
        "### **1-3. 데이터 import**"
      ]
    },
    {
      "cell_type": "code",
      "execution_count": null,
      "id": "74b76630",
      "metadata": {
        "id": "74b76630"
      },
      "outputs": [],
      "source": [
        "corpus_file = 'C:/Users/96452/00_work/01_GD/14/data/kowiki.txt'"
      ]
    },
    {
      "cell_type": "markdown",
      "id": "cf5923e1",
      "metadata": {
        "id": "cf5923e1"
      },
      "source": [
        "### **1-4. 데이터 확인**"
      ]
    },
    {
      "cell_type": "markdown",
      "id": "1523edb8",
      "metadata": {
        "id": "1523edb8"
      },
      "source": [
        "- **데이터 확인**"
      ]
    },
    {
      "cell_type": "code",
      "execution_count": null,
      "id": "b34d992d",
      "metadata": {
        "id": "b34d992d",
        "outputId": "b82fe661-da53-4575-9c4a-7e3b5c7b3637"
      },
      "outputs": [
        {
          "name": "stdout",
          "output_type": "stream",
          "text": [
            "지미 카터\n",
            "\n",
            "제임스 얼 \"지미\" 카터 주니어(, 1924년 10월 1일 ~ )는 민주당 출신 미국 39번째 대통령 (1977년 ~ 1981년)이다.\n",
            "\n",
            "지미 카터는 조지아주 섬터 카운티 플레인스 마을에서 태어났다. 조지아 공과대학교를 졸업하였다. 그 후 해군에 들어가 전함·원자력·잠수함의 승무원으로 일하였다. 1953년 미국 해군 대위로 예편하였고 이후 땅콩·면화 등을 가꿔 많은 돈을 벌었다. 그의 별명이 \"땅콩 농부\" (Peanut Farmer)로 알려졌다.\n",
            "\n",
            "1962년 조지아 주 상원 의원 선거에서 낙선하나 그 선거가 부정선거 였음을 입증하게 되어 당선되고, 1966년 조지아 주 지사 선거에 낙선하지만 1970년 조지아 주 지사를 역임했다. 대통령이 되기 전 조지아주 상원의원을 두번 연임했으며, 1971년부터 1975년까지 조지아 지사로 근무했다. 조지아 주지사로 지내면서, 미국에 사는 흑인 등용법을 내세웠다.\n",
            "\n"
          ]
        }
      ],
      "source": [
        "f = open(corpus_file, 'r', encoding='utf-8')\n",
        "lines = f.readlines()\n",
        "for idx, line in enumerate(lines):\n",
        "    print(line.strip(), end=\"\\n\\n\")\n",
        "    if idx == 3: break;\n",
        "f.close()"
      ]
    },
    {
      "cell_type": "markdown",
      "id": "1fcd8e4b",
      "metadata": {
        "id": "1fcd8e4b"
      },
      "source": [
        "- **데이터 내 총 문단 수 확인**"
      ]
    },
    {
      "cell_type": "code",
      "execution_count": null,
      "id": "0f4e1d2f",
      "metadata": {
        "id": "0f4e1d2f",
        "outputId": "9a4c676e-fb1c-4583-83dc-4017d3ecdaac"
      },
      "outputs": [
        {
          "data": {
            "text/plain": [
              "3957761"
            ]
          },
          "execution_count": 5,
          "metadata": {},
          "output_type": "execute_result"
        }
      ],
      "source": [
        "len(lines)"
      ]
    },
    {
      "cell_type": "markdown",
      "id": "895173fc",
      "metadata": {
        "id": "895173fc"
      },
      "source": [
        "## **2. Tokenizer 준비**"
      ]
    },
    {
      "cell_type": "markdown",
      "id": "9cf9b93b",
      "metadata": {
        "id": "9cf9b93b"
      },
      "source": [
        "### **2-1. SentencePiece 모델 생성** "
      ]
    },
    {
      "cell_type": "markdown",
      "id": "099ed936",
      "metadata": {
        "id": "099ed936"
      },
      "source": [
        "- **vocab_size가 8,000인 sentencepiece 모델 생성**"
      ]
    },
    {
      "cell_type": "code",
      "execution_count": null,
      "id": "00755978",
      "metadata": {
        "id": "00755978"
      },
      "outputs": [],
      "source": [
        "prefix = 'ko_8000'\n",
        "vocab_size = 8000\n",
        "\n",
        "spm.SentencePieceTrainer.train(\n",
        "    f\"--input={corpus_file} --model_prefix={prefix} --vocab_size={vocab_size + 7}\" + \n",
        "    \" --model_type=bpe\" +\n",
        "    \" --max_sentence_length=999999\" +\n",
        "    \" --pad_id=0 --pad_piece=[PAD]\" +\n",
        "    \" --unk_id=1 --unk_piece=[UNK]\" +\n",
        "    \" --bos_id=2 --bos_piece=[BOS]\" +\n",
        "    \" --eos_id=3 --eos_piece=[EOS]\" +\n",
        "    \" --user_defined_symbols=[SEP],[CLS],[MASK]\")"
      ]
    },
    {
      "cell_type": "markdown",
      "id": "06eeabaa",
      "metadata": {
        "id": "06eeabaa"
      },
      "source": [
        "### **2-2. SentencePiece 모델 확인** "
      ]
    },
    {
      "cell_type": "markdown",
      "id": "c2431ab6",
      "metadata": {
        "id": "c2431ab6"
      },
      "source": [
        "- **모델 생성 및 import 확인**"
      ]
    },
    {
      "cell_type": "code",
      "execution_count": null,
      "id": "e15e4490",
      "metadata": {
        "scrolled": true,
        "id": "e15e4490",
        "outputId": "1a7d78b7-390a-4126-d241-721764910cc9"
      },
      "outputs": [
        {
          "data": {
            "text/plain": [
              "True"
            ]
          },
          "execution_count": 7,
          "metadata": {},
          "output_type": "execute_result"
        }
      ],
      "source": [
        "model_dir = 'C:/Users/96452/00_work/01_GD/14/data/'\n",
        "vocab = spm.SentencePieceProcessor()\n",
        "vocab.load(f\"{model_dir}ko_8000.model\")"
      ]
    },
    {
      "cell_type": "markdown",
      "id": "8d346bcb",
      "metadata": {
        "id": "8d346bcb"
      },
      "source": [
        "- **vocab size 확인**"
      ]
    },
    {
      "cell_type": "code",
      "execution_count": null,
      "id": "ab58b4ab",
      "metadata": {
        "id": "ab58b4ab",
        "outputId": "676c1ed4-c888-4901-f051-7294a4bdf4c7"
      },
      "outputs": [
        {
          "data": {
            "text/plain": [
              "8007"
            ]
          },
          "execution_count": 8,
          "metadata": {},
          "output_type": "execute_result"
        }
      ],
      "source": [
        "vocab.get_piece_size()"
      ]
    },
    {
      "cell_type": "markdown",
      "id": "a50d8482",
      "metadata": {
        "id": "a50d8482"
      },
      "source": [
        "- **특수 토큰 확인**"
      ]
    },
    {
      "cell_type": "code",
      "execution_count": null,
      "id": "7dd3844a",
      "metadata": {
        "id": "7dd3844a",
        "outputId": "15aed038-c2e5-4513-97de-183ffcd3919c"
      },
      "outputs": [
        {
          "data": {
            "text/plain": [
              "['[PAD]', '[UNK]', '[BOS]', '[EOS]', '[SEP]', '[CLS]', '[MASK]']"
            ]
          },
          "execution_count": 9,
          "metadata": {},
          "output_type": "execute_result"
        }
      ],
      "source": [
        "[vocab.id_to_piece(idx) for idx in range(0, 7)]"
      ]
    },
    {
      "cell_type": "markdown",
      "id": "c261fc8f",
      "metadata": {
        "id": "c261fc8f"
      },
      "source": [
        "- **일반 토큰 확인**"
      ]
    },
    {
      "cell_type": "code",
      "execution_count": null,
      "id": "9a679df1",
      "metadata": {
        "id": "9a679df1",
        "outputId": "78979627-1b72-4cc5-f586-18a31ac863ba"
      },
      "outputs": [
        {
          "data": {
            "text/plain": [
              "['▁1', '▁이', '으로', '에서', '▁있', '▁2', '▁그', '▁대', '▁사', '이다']"
            ]
          },
          "execution_count": 10,
          "metadata": {},
          "output_type": "execute_result"
        }
      ],
      "source": [
        "[vocab.id_to_piece(idx) for idx in range(7, 17)]"
      ]
    },
    {
      "cell_type": "markdown",
      "id": "013e150b",
      "metadata": {
        "id": "013e150b"
      },
      "source": [
        "## **3. 데이터 전처리**"
      ]
    },
    {
      "cell_type": "markdown",
      "id": "574dfb0d",
      "metadata": {
        "id": "574dfb0d"
      },
      "source": [
        "### **3-1. MASK**"
      ]
    },
    {
      "cell_type": "markdown",
      "id": "0a090838",
      "metadata": {
        "id": "0a090838"
      },
      "source": [
        "- **MASK 생성 함수 정의**  \n",
        "MASK 비율 전체 토큰의 15% (80% - `[MASK]` 토큰 / 10% - 랜덤 토큰 / 10% - 원래 토큰)"
      ]
    },
    {
      "cell_type": "code",
      "execution_count": null,
      "id": "c744cf9b",
      "metadata": {
        "id": "c744cf9b"
      },
      "outputs": [],
      "source": [
        "def create_pretrain_mask(tokens, mask_cnt, vocab_list):\n",
        "\n",
        "    cand_idx = []\n",
        "    for (i, token) in enumerate(tokens):\n",
        "        if token == \"[CLS]\" or token == \"[SEP]\":\n",
        "            continue\n",
        "        if 0 < len(cand_idx) and not token.startswith(u\"\\u2581\"):\n",
        "            cand_idx[-1].append(i)\n",
        "        else:\n",
        "            cand_idx.append([i])\n",
        "\n",
        "    random.shuffle(cand_idx)\n",
        "\n",
        "    mask_lms = []\n",
        "    for index_set in cand_idx:\n",
        "        if len(mask_lms) >= mask_cnt:\n",
        "            break\n",
        "        if len(mask_lms) + len(index_set) > mask_cnt:\n",
        "            continue\n",
        "        dice = random.random()\n",
        "        for index in index_set:\n",
        "            masked_token = None\n",
        "            if dice < 0.8:\n",
        "                masked_token = \"[MASK]\"\n",
        "            elif dice < 0.9:\n",
        "                masked_token = tokens[index]\n",
        "            else:\n",
        "                masked_token = random.choice(vocab_list)\n",
        "            mask_lms.append({\"index\": index, \"label\": tokens[index]})\n",
        "            tokens[index] = masked_token\n",
        "\n",
        "    mask_lms = sorted(mask_lms, key=lambda x: x[\"index\"])\n",
        "    mask_idx = [p[\"index\"] for p in mask_lms]\n",
        "    mask_label = [p[\"label\"] for p in mask_lms]\n",
        "\n",
        "    return tokens, mask_idx, mask_label"
      ]
    },
    {
      "cell_type": "markdown",
      "id": "4ef36c3a",
      "metadata": {
        "id": "4ef36c3a"
      },
      "source": [
        "- **MASK 생성 예시 확인**"
      ]
    },
    {
      "cell_type": "code",
      "execution_count": null,
      "id": "69eb9745",
      "metadata": {
        "id": "69eb9745"
      },
      "outputs": [],
      "source": [
        "tokens_org = vocab.encode_as_pieces(\"장마가 끝났지만 아직도 비가 와\")"
      ]
    },
    {
      "cell_type": "code",
      "execution_count": null,
      "id": "2191500f",
      "metadata": {
        "id": "2191500f"
      },
      "outputs": [],
      "source": [
        "vocab_list = []\n",
        "for id in range(7, len(vocab)):\n",
        "    if not vocab.is_unknown(id):\n",
        "        vocab_list.append(vocab.id_to_piece(id))"
      ]
    },
    {
      "cell_type": "code",
      "execution_count": null,
      "id": "ae4df5f7",
      "metadata": {
        "id": "ae4df5f7"
      },
      "outputs": [],
      "source": [
        "mask_cnt = int((len(tokens_org) - 3) * 0.5)\n",
        "tokens, mask_idx, mask_label = create_pretrain_mask(tokens_org.copy(), mask_cnt, vocab_list)"
      ]
    },
    {
      "cell_type": "code",
      "execution_count": null,
      "id": "d58b6bc7",
      "metadata": {
        "scrolled": true,
        "id": "d58b6bc7",
        "outputId": "a31e1add-a884-4e50-8c7d-9055e3efdade"
      },
      "outputs": [
        {
          "name": "stdout",
          "output_type": "stream",
          "text": [
            "원본 예시 문장: ['▁장', '마', '가', '▁끝', '났', '지만', '▁아직', '도', '▁비', '가', '▁와'] \n",
            "\n",
            "MASK가 적용된 문장: ['[MASK]', '[MASK]', '[MASK]', '▁끝', '났', '지만', '▁아직', '도', '▁비', '가', '[MASK]']\n",
            "MASK 적용 부분: idx - [0, 1, 2, 10] / mask_label - ['▁장', '마', '가', '▁와']\n"
          ]
        }
      ],
      "source": [
        "print(\"원본 예시 문장:\", tokens_org, '\\n')\n",
        "print(\"MASK가 적용된 문장:\", tokens)\n",
        "print(\"MASK 적용 부분:\", \"idx -\", mask_idx, \"/ mask_label -\", mask_label)"
      ]
    },
    {
      "cell_type": "markdown",
      "id": "db167a9a",
      "metadata": {
        "id": "db167a9a"
      },
      "source": [
        "### **3-2. NSP**"
      ]
    },
    {
      "cell_type": "markdown",
      "id": "a2fa50bb",
      "metadata": {
        "id": "a2fa50bb"
      },
      "source": [
        "- **토큰 길이 제한**"
      ]
    },
    {
      "cell_type": "code",
      "execution_count": null,
      "id": "64bfed30",
      "metadata": {
        "id": "64bfed30"
      },
      "outputs": [],
      "source": [
        "def trim_tokens(tokens_a, tokens_b, max_seq):\n",
        "\n",
        "    while True:\n",
        "        total_length = len(tokens_a) + len(tokens_b)\n",
        "        if total_length <= max_seq:\n",
        "            break\n",
        "\n",
        "        if len(tokens_a) > len(tokens_b):\n",
        "            del tokens_a[0]\n",
        "        else:\n",
        "            tokens_b.pop()"
      ]
    },
    {
      "cell_type": "markdown",
      "id": "1b8ac543",
      "metadata": {
        "id": "1b8ac543"
      },
      "source": [
        "- **NSP 데이터 생성**"
      ]
    },
    {
      "cell_type": "code",
      "execution_count": null,
      "id": "f350ffd2",
      "metadata": {
        "id": "f350ffd2"
      },
      "outputs": [],
      "source": [
        "def create_pretrain_instances(vocab, doc, n_seq, mask_prob, vocab_list):\n",
        "\n",
        "    max_seq = n_seq - 3\n",
        "\n",
        "    instances = []\n",
        "    current_chunk = []\n",
        "    current_length = 0\n",
        "    for i in range(len(doc)):\n",
        "        current_chunk.append(doc[i])\n",
        "        current_length += len(doc[i])\n",
        "        if 1 < len(current_chunk) and (i == len(doc) - 1 or current_length >= max_seq):\n",
        "\n",
        "            a_end = 1\n",
        "            if 1 < len(current_chunk):\n",
        "                a_end = random.randrange(1, len(current_chunk))\n",
        "            tokens_a = []\n",
        "            for j in range(a_end):\n",
        "                tokens_a.extend(current_chunk[j])\n",
        "\n",
        "            tokens_b = []\n",
        "            for j in range(a_end, len(current_chunk)):\n",
        "                tokens_b.extend(current_chunk[j])\n",
        "\n",
        "            if random.random() < 0.5:\n",
        "                is_next = 0\n",
        "                tokens_t = tokens_a\n",
        "                tokens_a = tokens_b\n",
        "                tokens_b = tokens_t\n",
        "            else:\n",
        "                is_next = 1\n",
        "\n",
        "            trim_tokens(tokens_a, tokens_b, max_seq)\n",
        "            assert 0 < len(tokens_a)\n",
        "            assert 0 < len(tokens_b)\n",
        "\n",
        "            tokens = [\"[CLS]\"] + tokens_a + [\"[SEP]\"] + tokens_b + [\"[SEP]\"]\n",
        "            segment = [0] * (len(tokens_a) + 2) + [1] * (len(tokens_b) + 1)\n",
        "\n",
        "            tokens, mask_idx, mask_label = create_pretrain_mask(tokens, int((len(tokens) - 3) * mask_prob), vocab_list)\n",
        "\n",
        "            instance = {\n",
        "                \"예시 문장 토큰 확인\": tokens,\n",
        "                \"예시 문장 segment 확인\": segment,\n",
        "                \"is_next\": is_next,\n",
        "                \"MASK 적용 부분 - idx\": mask_idx,\n",
        "                \"MASK 적용 부분 - label\": mask_label\n",
        "            }\n",
        "            instances.append(instance)\n",
        "\n",
        "            current_chunk = []\n",
        "            current_length = 0\n",
        "    return instances"
      ]
    },
    {
      "cell_type": "markdown",
      "id": "92412ab1",
      "metadata": {
        "id": "92412ab1"
      },
      "source": [
        "- **NSP 생성 예시 확인**"
      ]
    },
    {
      "cell_type": "code",
      "execution_count": null,
      "id": "8ef9bdd4",
      "metadata": {
        "id": "8ef9bdd4"
      },
      "outputs": [],
      "source": [
        "string = \"\"\"장마가 끝났지만 아직도 비가 와\n",
        "이제는 그만 왔으면 좋겠어\n",
        "\"\"\""
      ]
    },
    {
      "cell_type": "code",
      "execution_count": null,
      "id": "fbe31c5b",
      "metadata": {
        "id": "fbe31c5b"
      },
      "outputs": [],
      "source": [
        "doc = [vocab.encode_as_pieces(line) for line in string.split(\"\\n\")]\n",
        "instances = create_pretrain_instances(vocab, doc, 64, 0.15, vocab_list)"
      ]
    },
    {
      "cell_type": "code",
      "execution_count": null,
      "id": "645b9f1b",
      "metadata": {
        "id": "645b9f1b",
        "outputId": "dab00828-eefb-4a93-929c-9ff04b05846f"
      },
      "outputs": [
        {
          "name": "stdout",
          "output_type": "stream",
          "text": [
            "예시 문장 토큰 확인: ['[CLS]', '▁이', '제는', '▁그', '만', '▁왔', '으면', '▁좋', '겠', '어', '[SEP]', '▁장', '마', '가', '▁끝', '났', '지만', '[MASK]', '[MASK]', '▁비', '가', '[MASK]', '[SEP]']\n",
            "예시 문장 segment 확인: [0, 0, 0, 0, 0, 0, 0, 0, 0, 0, 0, 1, 1, 1, 1, 1, 1, 1, 1, 1, 1, 1, 1]\n",
            "is_next: 0\n",
            "MASK 적용 부분 - idx: [17, 18, 21]\n",
            "MASK 적용 부분 - label: ['▁아직', '도', '▁와']\n"
          ]
        }
      ],
      "source": [
        "for key, value in instances[0].items():\n",
        "    print(f\"{key}: {value}\", end = '\\n')"
      ]
    },
    {
      "cell_type": "markdown",
      "id": "107684f2",
      "metadata": {
        "id": "107684f2"
      },
      "source": [
        "## **4. pretrain 데이터**"
      ]
    },
    {
      "cell_type": "markdown",
      "id": "6f96acb5",
      "metadata": {
        "id": "6f96acb5"
      },
      "source": [
        "### **4-1. pretrain 데이터 생성**"
      ]
    },
    {
      "cell_type": "markdown",
      "id": "4c544941",
      "metadata": {
        "id": "4c544941"
      },
      "source": [
        "- **pretrain 데이터 생성 함수 정의**"
      ]
    },
    {
      "cell_type": "code",
      "execution_count": null,
      "id": "43335442",
      "metadata": {
        "id": "43335442"
      },
      "outputs": [],
      "source": [
        "def make_pretrain_data(vocab, in_file, out_file, n_seq, mask_prob=0.15):\n",
        "    def save_pretrain_instances(out_f, doc):\n",
        "        instances = create_pretrain_instances(vocab, doc, n_seq, mask_prob, vocab_list)\n",
        "        for instance in instances:\n",
        "            out_f.write(json.dumps(instance, ensure_ascii=False))\n",
        "            out_f.write(\"\\n\")\n",
        "\n",
        "    vocab_list = []\n",
        "    for id in range(7, len(vocab)):\n",
        "        if not vocab.is_unknown(id):\n",
        "            vocab_list.append(vocab.id_to_piece(id))\n",
        "\n",
        "    line_cnt = 0\n",
        "    with open(in_file, \"r\", encoding = 'utf-8') as in_f:\n",
        "        for line in in_f:\n",
        "            line_cnt += 1\n",
        "\n",
        "    with open(in_file, \"r\", encoding = 'utf-8') as in_f:\n",
        "        with open(out_file, \"w\", encoding = 'utf-8') as out_f:\n",
        "            doc = []\n",
        "            for line in tqdm(in_f, total=line_cnt):\n",
        "                line = line.strip()\n",
        "                if line == \"\":\n",
        "                    if 0 < len(doc):\n",
        "                        save_pretrain_instances(out_f, doc)\n",
        "                        doc = []\n",
        "                else:\n",
        "                    pieces = vocab.encode_as_pieces(line)\n",
        "                    if 0 < len(pieces):\n",
        "                        doc.append(pieces)\n",
        "            if 0 < len(doc):\n",
        "                save_pretrain_instances(out_f, doc)\n",
        "                doc = []"
      ]
    },
    {
      "cell_type": "markdown",
      "id": "c367b50e",
      "metadata": {
        "id": "c367b50e"
      },
      "source": [
        "- **pretrain 데이터 생성**"
      ]
    },
    {
      "cell_type": "code",
      "execution_count": null,
      "id": "5789f4dc",
      "metadata": {
        "id": "5789f4dc",
        "outputId": "fcbdf41d-397c-4ef6-fbe2-5a79fc4a1a1a"
      },
      "outputs": [
        {
          "data": {
            "application/vnd.jupyter.widget-view+json": {
              "model_id": "edcc959288d444a39cac782380935fa7",
              "version_major": 2,
              "version_minor": 0
            },
            "text/plain": [
              "  0%|          | 0/3957761 [00:00<?, ?it/s]"
            ]
          },
          "metadata": {},
          "output_type": "display_data"
        }
      ],
      "source": [
        "pretrain_json_path = 'C:/Users/96452/00_work/01_GD/14/data/bert_pre_train.json'\n",
        "make_pretrain_data(vocab, corpus_file, pretrain_json_path, 128)"
      ]
    },
    {
      "cell_type": "markdown",
      "id": "287782fa",
      "metadata": {
        "id": "287782fa"
      },
      "source": [
        "- **pretrain 데이터 수 확인**"
      ]
    },
    {
      "cell_type": "code",
      "execution_count": null,
      "id": "6462d3f1",
      "metadata": {
        "id": "6462d3f1",
        "outputId": "d7b00b77-6e42-403b-a2d3-1bad6e0534b2"
      },
      "outputs": [
        {
          "data": {
            "text/plain": [
              "918189"
            ]
          },
          "execution_count": 23,
          "metadata": {},
          "output_type": "execute_result"
        }
      ],
      "source": [
        "total = 0\n",
        "\n",
        "with open(pretrain_json_path, \"r\", encoding = 'utf-8') as f:\n",
        "    for line in f:\n",
        "        total += 1\n",
        "\n",
        "total"
      ]
    },
    {
      "cell_type": "markdown",
      "id": "41c34ba8",
      "metadata": {
        "id": "41c34ba8"
      },
      "source": [
        "### **4-2. pretrain 데이터 import**"
      ]
    },
    {
      "cell_type": "markdown",
      "id": "6f915bb1",
      "metadata": {
        "id": "6f915bb1"
      },
      "source": [
        "- **pretrain 데이터 import 함수 생성**"
      ]
    },
    {
      "cell_type": "code",
      "execution_count": null,
      "id": "3c51c66b",
      "metadata": {
        "id": "3c51c66b"
      },
      "outputs": [],
      "source": [
        "def load_pre_train_data(vocab, filename, n_seq, count=None):\n",
        "    \n",
        "    total = 0\n",
        "    with open(filename, \"r\", encoding = 'utf-8') as f:\n",
        "        for line in f:\n",
        "            total += 1\n",
        "            \n",
        "            if count is not None and count <= total:\n",
        "                break\n",
        "\n",
        "    enc_tokens = np.memmap(filename='enc_tokens.memmap', mode='w+', dtype=np.int32, shape=(total, n_seq))\n",
        "    segments = np.memmap(filename='segments.memmap', mode='w+', dtype=np.int32, shape=(total, n_seq))\n",
        "    labels_nsp = np.memmap(filename='labels_nsp.memmap', mode='w+', dtype=np.int32, shape=(total,))\n",
        "    labels_mlm = np.memmap(filename='labels_mlm.memmap', mode='w+', dtype=np.int32, shape=(total, n_seq))\n",
        "\n",
        "    with open(filename, \"r\", encoding = 'utf-8') as f:\n",
        "        for i, line in enumerate(tqdm(f, total=total)):\n",
        "            if total <= i:\n",
        "                print(\"early stop\", total, i)\n",
        "                break\n",
        "            data = json.loads(line)\n",
        "\n",
        "            enc_token = [vocab.piece_to_id(p) for p in data[\"예시 문장 토큰 확인\"]]\n",
        "            enc_token += [0] * (n_seq - len(enc_token))\n",
        "\n",
        "            segment = data[\"예시 문장 segment 확인\"]\n",
        "            segment += [0] * (n_seq - len(segment))\n",
        "\n",
        "            label_nsp = data[\"is_next\"]\n",
        "\n",
        "            mask_idx = np.array(data[\"MASK 적용 부분 - idx\"], dtype=np.int)\n",
        "            mask_label = np.array([vocab.piece_to_id(p) for p in data[\"MASK 적용 부분 - label\"]], dtype=np.int)\n",
        "            label_mlm = np.full(n_seq, dtype=np.int, fill_value=0)\n",
        "            label_mlm[mask_idx] = mask_label\n",
        "\n",
        "            assert len(enc_token) == len(segment) == len(label_mlm) == n_seq\n",
        "\n",
        "            enc_tokens[i] = enc_token\n",
        "            segments[i] = segment\n",
        "            labels_nsp[i] = label_nsp\n",
        "            labels_mlm[i] = label_mlm\n",
        "\n",
        "    return (enc_tokens, segments), (labels_nsp, labels_mlm)"
      ]
    },
    {
      "cell_type": "markdown",
      "id": "0d8c7e05",
      "metadata": {
        "id": "0d8c7e05"
      },
      "source": [
        "- **pretrain 데이터 import**"
      ]
    },
    {
      "cell_type": "code",
      "execution_count": null,
      "id": "2018acf8",
      "metadata": {
        "id": "2018acf8",
        "outputId": "4257155e-8d70-46e1-a965-a5ecb102ac51"
      },
      "outputs": [
        {
          "data": {
            "application/vnd.jupyter.widget-view+json": {
              "model_id": "a12c6a60ce444407860a21e083e92b8a",
              "version_major": 2,
              "version_minor": 0
            },
            "text/plain": [
              "  0%|          | 0/114773 [00:00<?, ?it/s]"
            ]
          },
          "metadata": {},
          "output_type": "display_data"
        },
        {
          "name": "stdout",
          "output_type": "stream",
          "text": [
            "early stop 114773 114773\n"
          ]
        }
      ],
      "source": [
        "pre_train_inputs, pre_train_labels = load_pre_train_data(vocab, pretrain_json_path, 128, count=114773)"
      ]
    },
    {
      "cell_type": "markdown",
      "id": "0fe7522a",
      "metadata": {
        "id": "0fe7522a"
      },
      "source": [
        "- **학습 데이터 분할**"
      ]
    },
    {
      "cell_type": "code",
      "execution_count": null,
      "id": "4fbb977d",
      "metadata": {
        "id": "4fbb977d"
      },
      "outputs": [],
      "source": [
        "pre_train_inputs = (pre_train_inputs[0][100:], pre_train_inputs[1][100:])\n",
        "pre_train_labels = (pre_train_labels[0][100:], pre_train_labels[1][100:])"
      ]
    },
    {
      "cell_type": "markdown",
      "id": "1d293e1d",
      "metadata": {
        "id": "1d293e1d"
      },
      "source": [
        "- **테스트 데이터 분할**"
      ]
    },
    {
      "cell_type": "code",
      "execution_count": null,
      "id": "1c4a8de8",
      "metadata": {
        "id": "1c4a8de8"
      },
      "outputs": [],
      "source": [
        "test_input = (pre_train_inputs[0][:100], pre_train_inputs[1][:100])\n",
        "test_label = (pre_train_labels[0][:100], pre_train_labels[1][:100])"
      ]
    },
    {
      "cell_type": "markdown",
      "id": "1f90a69c",
      "metadata": {
        "id": "1f90a69c"
      },
      "source": [
        "## **5. BERT 모델 생성**"
      ]
    },
    {
      "cell_type": "markdown",
      "id": "13cc03d4",
      "metadata": {
        "id": "13cc03d4"
      },
      "source": [
        "### **5-1. 유틸리티 함수**"
      ]
    },
    {
      "cell_type": "code",
      "execution_count": null,
      "id": "86eafbe5",
      "metadata": {
        "id": "86eafbe5"
      },
      "outputs": [],
      "source": [
        "def get_pad_mask(tokens, i_pad=0):\n",
        "    mask = tf.cast(tf.math.equal(tokens, i_pad), tf.float32)\n",
        "    mask = tf.expand_dims(mask, axis=1)\n",
        "    return mask\n",
        "\n",
        "\n",
        "def get_ahead_mask(tokens, i_pad=0):\n",
        "    n_seq = tf.shape(tokens)[1]\n",
        "    ahead_mask = 1 - tf.linalg.band_part(tf.ones((n_seq, n_seq)), -1, 0)\n",
        "    ahead_mask = tf.expand_dims(ahead_mask, axis=0)\n",
        "    pad_mask = get_pad_mask(tokens, i_pad)\n",
        "    mask = tf.maximum(ahead_mask, pad_mask)\n",
        "    return mask\n",
        "\n",
        "@tf.function(experimental_relax_shapes=True)\n",
        "def gelu(x):\n",
        "    return 0.5 * x * (1 + K.tanh(x * 0.7978845608 * (1 + 0.044715 * x * x)))\n",
        "\n",
        "def kernel_initializer(stddev=0.02):\n",
        "    return tf.keras.initializers.TruncatedNormal(stddev=stddev)\n",
        "\n",
        "def bias_initializer():\n",
        "    return tf.zeros_initializer"
      ]
    },
    {
      "cell_type": "markdown",
      "id": "a3b5a757",
      "metadata": {
        "id": "a3b5a757"
      },
      "source": [
        "### **5-2. 데이터 관리**"
      ]
    },
    {
      "cell_type": "code",
      "execution_count": null,
      "id": "79aa9384",
      "metadata": {
        "id": "79aa9384"
      },
      "outputs": [],
      "source": [
        "class Config(dict):\n",
        "    __getattr__ = dict.__getitem__\n",
        "    __setattr__ = dict.__setitem__\n",
        "\n",
        "    @classmethod\n",
        "    def load(cls, file):\n",
        "        with open(file, 'r', encoding = 'utf-8') as f:\n",
        "            config = json.loads(f.read())\n",
        "            return Config(config)"
      ]
    },
    {
      "cell_type": "markdown",
      "id": "b1d62640",
      "metadata": {
        "id": "b1d62640"
      },
      "source": [
        "### **5-3. 임베딩 레이어**"
      ]
    },
    {
      "cell_type": "code",
      "execution_count": null,
      "id": "9f199ba5",
      "metadata": {
        "id": "9f199ba5"
      },
      "outputs": [],
      "source": [
        "class SharedEmbedding(tf.keras.layers.Layer):\n",
        "\n",
        "    def __init__(self, config, name=\"weight_shared_embedding\"):\n",
        "        \n",
        "        super().__init__(name=name)\n",
        "\n",
        "        self.n_vocab = config.n_vocab\n",
        "        self.d_model = config.d_model\n",
        "    \n",
        "    def build(self, input_shape):\n",
        "        with tf.name_scope(\"shared_embedding_weight\"):\n",
        "            self.shared_weights = self.add_weight(\n",
        "                \"weights\",\n",
        "                shape=[self.n_vocab, self.d_model],\n",
        "                initializer=kernel_initializer()\n",
        "            )\n",
        "\n",
        "    def call(self, inputs, mode=\"embedding\"):\n",
        "\n",
        "        if mode == \"embedding\":\n",
        "            return self._embedding(inputs)\n",
        "        elif mode == \"linear\":\n",
        "            return self._linear(inputs)\n",
        "        else:\n",
        "            raise ValueError(f\"mode {mode} is not valid.\")\n",
        "    \n",
        "    def _embedding(self, inputs):\n",
        "\n",
        "        embed = tf.gather(self.shared_weights, tf.cast(inputs, tf.int32))\n",
        "        return embed\n",
        "\n",
        "    def _linear(self, inputs):\n",
        "\n",
        "        n_batch = tf.shape(inputs)[0]\n",
        "        n_seq = tf.shape(inputs)[1]\n",
        "        inputs = tf.reshape(inputs, [-1, self.d_model])\n",
        "        outputs = tf.matmul(inputs, self.shared_weights, transpose_b=True)\n",
        "        outputs = tf.reshape(outputs, [n_batch, n_seq, self.n_vocab])\n",
        "        return outputs"
      ]
    },
    {
      "cell_type": "markdown",
      "id": "d1f0e59b",
      "metadata": {
        "id": "d1f0e59b"
      },
      "source": [
        "### **5-4. DotProduct**"
      ]
    },
    {
      "cell_type": "code",
      "execution_count": null,
      "id": "7d38e629",
      "metadata": {
        "id": "7d38e629"
      },
      "outputs": [],
      "source": [
        "class ScaleDotProductAttention(tf.keras.layers.Layer):\n",
        "\n",
        "    def __init__(self, name=\"scale_dot_product_attention\"):\n",
        "\n",
        "        super().__init__(name=name)\n",
        "\n",
        "    def call(self, Q, K, V, attn_mask):\n",
        "        attn_score = tf.matmul(Q, K, transpose_b=True)\n",
        "        scale = tf.math.sqrt(tf.cast(tf.shape(K)[-1], tf.float32))\n",
        "        attn_scale = tf.math.divide(attn_score, scale)\n",
        "        attn_scale -= 1.e9 * attn_mask\n",
        "        attn_prob = tf.nn.softmax(attn_scale, axis=-1)\n",
        "        attn_out = tf.matmul(attn_prob, V)\n",
        "        return attn_out"
      ]
    },
    {
      "cell_type": "markdown",
      "id": "0adc3faa",
      "metadata": {
        "id": "0adc3faa"
      },
      "source": [
        "### **5-5. 멀티 헤드 어텐션**"
      ]
    },
    {
      "cell_type": "code",
      "execution_count": null,
      "id": "c96ab320",
      "metadata": {
        "id": "c96ab320"
      },
      "outputs": [],
      "source": [
        "class MultiHeadAttention(tf.keras.layers.Layer):\n",
        "\n",
        "    def __init__(self, config, name=\"multi_head_attention\"):\n",
        "        \n",
        "        super().__init__(name=name)\n",
        "\n",
        "        self.d_model = config.d_model\n",
        "        self.n_head = config.n_head\n",
        "        self.d_head = config.d_head\n",
        "\n",
        "        self.W_Q = tf.keras.layers.Dense(config.n_head * config.d_head, kernel_initializer=kernel_initializer(), bias_initializer=bias_initializer())\n",
        "        self.W_K = tf.keras.layers.Dense(config.n_head * config.d_head, kernel_initializer=kernel_initializer(), bias_initializer=bias_initializer())\n",
        "        self.W_V = tf.keras.layers.Dense(config.n_head * config.d_head, kernel_initializer=kernel_initializer(), bias_initializer=bias_initializer())\n",
        "\n",
        "        self.attention = ScaleDotProductAttention(name=\"self_attention\")\n",
        "        self.W_O = tf.keras.layers.Dense(config.d_model, kernel_initializer=kernel_initializer(), bias_initializer=bias_initializer())\n",
        "\n",
        "    def call(self, Q, K, V, attn_mask):\n",
        "\n",
        "        batch_size = tf.shape(Q)[0]\n",
        "        Q_m = tf.transpose(tf.reshape(self.W_Q(Q), [batch_size, -1, self.n_head, self.d_head]), [0, 2, 1, 3])\n",
        "        K_m = tf.transpose(tf.reshape(self.W_K(K), [batch_size, -1, self.n_head, self.d_head]), [0, 2, 1, 3])\n",
        "        V_m = tf.transpose(tf.reshape(self.W_V(V), [batch_size, -1, self.n_head, self.d_head]), [0, 2, 1, 3])\n",
        "        \n",
        "        attn_mask_m = tf.expand_dims(attn_mask, axis=1)\n",
        "\n",
        "        attn_out = self.attention(Q_m, K_m, V_m, attn_mask_m)\n",
        "\n",
        "        attn_out_m = tf.transpose(attn_out, perm=[0, 2, 1, 3])\n",
        "        attn_out = tf.reshape(attn_out_m, [batch_size, -1, config.n_head * config.d_head])\n",
        "        attn_out = self.W_O(attn_out)\n",
        "\n",
        "        return attn_out"
      ]
    },
    {
      "cell_type": "markdown",
      "id": "7792abae",
      "metadata": {
        "id": "7792abae"
      },
      "source": [
        "### **5-6. FFNN**"
      ]
    },
    {
      "cell_type": "code",
      "execution_count": null,
      "id": "42d731ef",
      "metadata": {
        "id": "42d731ef"
      },
      "outputs": [],
      "source": [
        "class PositionWiseFeedForward(tf.keras.layers.Layer):\n",
        "\n",
        "    def __init__(self, config, name=\"feed_forward\"):\n",
        "        super().__init__(name=name)\n",
        "\n",
        "        self.W_1 = tf.keras.layers.Dense(config.d_ff, activation=gelu, kernel_initializer=kernel_initializer(), bias_initializer=bias_initializer())\n",
        "        self.W_2 = tf.keras.layers.Dense(config.d_model, kernel_initializer=kernel_initializer(), bias_initializer=bias_initializer())\n",
        "\n",
        "    def call(self, inputs):\n",
        "        ff_val = self.W_2(self.W_1(inputs))\n",
        "        return ff_val"
      ]
    },
    {
      "cell_type": "markdown",
      "id": "60699bc2",
      "metadata": {
        "id": "60699bc2"
      },
      "source": [
        "### **5-7. 인코더**"
      ]
    },
    {
      "cell_type": "code",
      "execution_count": null,
      "id": "642b52f5",
      "metadata": {
        "id": "642b52f5"
      },
      "outputs": [],
      "source": [
        "class EncoderLayer(tf.keras.layers.Layer):\n",
        "\n",
        "    def __init__(self, config, name=\"encoder_layer\"):\n",
        "        super().__init__(name=name)\n",
        "\n",
        "        self.self_attention = MultiHeadAttention(config)\n",
        "        self.norm1 = tf.keras.layers.LayerNormalization(epsilon=config.layernorm_epsilon)\n",
        "\n",
        "        self.ffn = PositionWiseFeedForward(config)\n",
        "        self.norm2 = tf.keras.layers.LayerNormalization(epsilon=config.layernorm_epsilon)\n",
        "\n",
        "        self.dropout = tf.keras.layers.Dropout(config.dropout)\n",
        " \n",
        "    def call(self, enc_embed, self_mask):\n",
        "        \n",
        "        self_attn_val = self.self_attention(enc_embed, enc_embed, enc_embed, self_mask)\n",
        "        norm1_val = self.norm1(enc_embed + self.dropout(self_attn_val))\n",
        "\n",
        "        ffn_val = self.ffn(norm1_val)\n",
        "        enc_out = self.norm2(norm1_val + self.dropout(ffn_val))\n",
        "\n",
        "        return enc_out"
      ]
    },
    {
      "cell_type": "markdown",
      "id": "f3827c4b",
      "metadata": {
        "id": "f3827c4b"
      },
      "source": [
        "### **5-8. BERT**"
      ]
    },
    {
      "cell_type": "code",
      "execution_count": null,
      "id": "7b497865",
      "metadata": {
        "id": "7b497865"
      },
      "outputs": [],
      "source": [
        "class BERT(tf.keras.layers.Layer):\n",
        "\n",
        "    def __init__(self, config, name=\"bert\"):\n",
        "        \n",
        "        super().__init__(name=name)\n",
        "\n",
        "        self.i_pad = config.i_pad\n",
        "        self.embedding = SharedEmbedding(config)\n",
        "        self.position = PositionalEmbedding(config)\n",
        "        self.segment = tf.keras.layers.Embedding(2, config.d_model, embeddings_initializer=kernel_initializer())\n",
        "        self.norm = tf.keras.layers.LayerNormalization(epsilon=config.layernorm_epsilon)\n",
        "        \n",
        "        self.encoder_layers = [EncoderLayer(config, name=f\"encoder_layer_{i}\") for i in range(config.n_layer)]\n",
        "\n",
        "        self.dropout = tf.keras.layers.Dropout(config.dropout)\n",
        "\n",
        "    def call(self, inputs):\n",
        "\n",
        "        enc_tokens, segments = inputs\n",
        "\n",
        "        enc_self_mask = tf.keras.layers.Lambda(get_pad_mask, output_shape=(1, None), name='enc_self_mask')(enc_tokens, self.i_pad)\n",
        "\n",
        "        enc_embed = self.get_embedding(enc_tokens, segments)\n",
        "\n",
        "        enc_out = self.dropout(enc_embed)\n",
        "        \n",
        "        for encoder_layer in self.encoder_layers:\n",
        "            enc_out = encoder_layer(enc_out, enc_self_mask)\n",
        "\n",
        "        logits_cls = enc_out[:,0]\n",
        "        logits_lm = self.embedding(enc_out, mode=\"linear\")\n",
        "        \n",
        "        return logits_cls, logits_lm\n",
        "    \n",
        "    def get_embedding(self, tokens, segments):\n",
        "\n",
        "        embed = self.embedding(tokens) + self.position(tokens) + self.segment(segments)\n",
        "        embed = self.norm(embed)\n",
        "        \n",
        "        return embed"
      ]
    },
    {
      "cell_type": "markdown",
      "id": "45997955",
      "metadata": {
        "id": "45997955"
      },
      "source": [
        "### **5-9. PositionalEmbedding**"
      ]
    },
    {
      "cell_type": "code",
      "execution_count": null,
      "id": "ea2a0540",
      "metadata": {
        "id": "ea2a0540"
      },
      "outputs": [],
      "source": [
        "class PositionalEmbedding(tf.keras.layers.Layer):\n",
        "\n",
        "    def __init__(self, config, name=\"position_embedding\"):\n",
        "\n",
        "        super().__init__(name=name)\n",
        "        \n",
        "        self.embedding = tf.keras.layers.Embedding(config.n_seq, config.d_model, embeddings_initializer=kernel_initializer())\n",
        "\n",
        "    def call(self, inputs):\n",
        "\n",
        "        position = tf.cast(tf.math.cumsum(tf.ones_like(inputs), axis=1, exclusive=True), tf.int32)\n",
        "        embed = self.embedding(position)\n",
        "        \n",
        "        return embed"
      ]
    },
    {
      "cell_type": "markdown",
      "id": "f10a1226",
      "metadata": {
        "id": "f10a1226"
      },
      "source": [
        "## **6. Pretrain을 위한 BERT 모델**"
      ]
    },
    {
      "cell_type": "markdown",
      "id": "48566641",
      "metadata": {
        "id": "48566641"
      },
      "source": [
        "### **6-1. Pretrain을 위한 BERT 모델 정의**"
      ]
    },
    {
      "cell_type": "markdown",
      "id": "523ba024",
      "metadata": {
        "id": "523ba024"
      },
      "source": [
        "- **Encoder Layer class**"
      ]
    },
    {
      "cell_type": "code",
      "execution_count": null,
      "id": "95a27b6c",
      "metadata": {
        "id": "95a27b6c"
      },
      "outputs": [],
      "source": [
        "class PooledOutput(tf.keras.layers.Layer):\n",
        "    \n",
        "    def __init__(self, config, n_output, name=\"pooled_output\"):\n",
        "        super().__init__(name=name)\n",
        "\n",
        "        self.dense1 = tf.keras.layers.Dense(config.d_model, activation=tf.nn.tanh, kernel_initializer=kernel_initializer(), bias_initializer=bias_initializer())\n",
        "        self.dense2 = tf.keras.layers.Dense(n_output, use_bias=False, activation=tf.nn.softmax, name=\"nsp\",\n",
        "                                            kernel_initializer=kernel_initializer(), bias_initializer=bias_initializer())\n",
        " \n",
        "    def call(self, inputs):\n",
        "        outputs = self.dense1(inputs)\n",
        "        outputs = self.dense2(outputs)\n",
        "        return outputs"
      ]
    },
    {
      "cell_type": "markdown",
      "id": "6e5101c7",
      "metadata": {
        "id": "6e5101c7"
      },
      "source": [
        "- **Pretrain BERT 모델 생성**"
      ]
    },
    {
      "cell_type": "code",
      "execution_count": null,
      "id": "2a815a99",
      "metadata": {
        "id": "2a815a99"
      },
      "outputs": [],
      "source": [
        "def build_model_pre_train(config):\n",
        "    \n",
        "    enc_tokens = tf.keras.layers.Input((None,), name=\"enc_tokens\")\n",
        "    segments = tf.keras.layers.Input((None,), name=\"segments\")\n",
        "\n",
        "    bert = BERT(config)\n",
        "    logits_cls, logits_lm = bert((enc_tokens, segments))\n",
        "\n",
        "    logits_cls = PooledOutput(config, 2, name=\"pooled_nsp\")(logits_cls)\n",
        "    outputs_nsp = tf.keras.layers.Softmax(name=\"nsp\")(logits_cls)\n",
        "\n",
        "    outputs_mlm = tf.keras.layers.Softmax(name=\"mlm\")(logits_lm)\n",
        "\n",
        "    model = tf.keras.Model(inputs=(enc_tokens, segments), outputs=(outputs_nsp, outputs_mlm))\n",
        "    \n",
        "    return model"
      ]
    },
    {
      "cell_type": "markdown",
      "id": "59ce8cba",
      "metadata": {
        "id": "59ce8cba"
      },
      "source": [
        "### **6-2. Pretrain을 위한 BERT 모델 생성**"
      ]
    },
    {
      "cell_type": "code",
      "execution_count": null,
      "id": "74da7921",
      "metadata": {
        "id": "74da7921",
        "outputId": "88a6110e-e99a-4297-aa4d-573688538c1d"
      },
      "outputs": [
        {
          "name": "stdout",
          "output_type": "stream",
          "text": [
            "Model: \"model\"\n",
            "__________________________________________________________________________________________________\n",
            "Layer (type)                    Output Shape         Param #     Connected to                     \n",
            "==================================================================================================\n",
            "enc_tokens (InputLayer)         [(None, None)]       0                                            \n",
            "__________________________________________________________________________________________________\n",
            "segments (InputLayer)           [(None, None)]       0                                            \n",
            "__________________________________________________________________________________________________\n",
            "bert (BERT)                     ((None, 512), (None, 10541056    enc_tokens[0][0]                 \n",
            "                                                                 segments[0][0]                   \n",
            "__________________________________________________________________________________________________\n",
            "pooled_nsp (PooledOutput)       (None, 2)            263680      bert[0][0]                       \n",
            "__________________________________________________________________________________________________\n",
            "nsp (Softmax)                   (None, 2)            0           pooled_nsp[0][0]                 \n",
            "__________________________________________________________________________________________________\n",
            "mlm (Softmax)                   (None, None, 8007)   0           bert[0][1]                       \n",
            "==================================================================================================\n",
            "Total params: 10,804,736\n",
            "Trainable params: 10,804,736\n",
            "Non-trainable params: 0\n",
            "__________________________________________________________________________________________________\n"
          ]
        }
      ],
      "source": [
        "config = Config({\"d_model\": 512, \"n_head\": 8, \"d_head\": 64, \"dropout\": 0.1, \"d_ff\": 1024, \n",
        "                 \"layernorm_epsilon\": 0.001, \"n_layer\": 3, \"n_seq\": 256, \"n_vocab\": 0, \"i_pad\": 0})\n",
        "\n",
        "config.n_vocab = len(vocab)\n",
        "config.i_pad = vocab.pad_id()\n",
        "\n",
        "pre_train_model = build_model_pre_train(config)\n",
        "pre_train_model.summary()"
      ]
    },
    {
      "cell_type": "markdown",
      "id": "0b2ce1b7",
      "metadata": {
        "id": "0b2ce1b7"
      },
      "source": [
        "## **7. BERT 모델 학습**"
      ]
    },
    {
      "cell_type": "markdown",
      "id": "1f9afac8",
      "metadata": {
        "id": "1f9afac8"
      },
      "source": [
        "### **7-1. 옵티마이저 설정**"
      ]
    },
    {
      "cell_type": "code",
      "execution_count": null,
      "id": "341f1ed3",
      "metadata": {
        "id": "341f1ed3"
      },
      "outputs": [],
      "source": [
        "class CosineSchedule(tf.keras.optimizers.schedules.LearningRateSchedule):\n",
        "    def __init__(self, train_steps=4000, warmup_steps=2000, max_lr=2.5e-4):\n",
        "        super().__init__()\n",
        "\n",
        "        assert 0 < warmup_steps < train_steps\n",
        "        self.warmup_steps = warmup_steps\n",
        "        self.train_steps = train_steps\n",
        "        self.max_lr = max_lr\n",
        "\n",
        "    def __call__(self, step_num):\n",
        "        state = tf.cast(step_num <= self.warmup_steps, tf.float32)\n",
        "        lr1 = tf.cast(step_num, tf.float32) / self.warmup_steps\n",
        "        progress = tf.cast(step_num - self.warmup_steps, tf.float32) / max(1, self.train_steps - self.warmup_steps)\n",
        "        lr2 = 0.5 * (1.0 + tf.math.cos(math.pi * progress))\n",
        "        return (state * lr1 + (1 - state) * lr2) * self.max_lr"
      ]
    },
    {
      "cell_type": "code",
      "execution_count": null,
      "id": "7153e137",
      "metadata": {
        "id": "7153e137"
      },
      "outputs": [],
      "source": [
        "def lm_loss(y_true, y_pred):\n",
        "    loss = tf.keras.losses.SparseCategoricalCrossentropy(reduction=tf.keras.losses.Reduction.NONE)(y_true, y_pred)\n",
        "\n",
        "    mask = tf.cast(tf.math.not_equal(y_true, 0), dtype=loss.dtype)\n",
        "    loss *= mask\n",
        "    return loss * 20 "
      ]
    },
    {
      "cell_type": "code",
      "execution_count": null,
      "id": "4124a990",
      "metadata": {
        "id": "4124a990"
      },
      "outputs": [],
      "source": [
        "def lm_acc(y_true, y_pred):\n",
        "    y_pred_class = tf.cast(K.argmax(y_pred, axis=-1), tf.float32)\n",
        "    matches = tf.cast(K.equal(y_true, y_pred_class), tf.float32)\n",
        "\n",
        "    mask = tf.cast(tf.math.not_equal(y_true, 0), dtype=matches.dtype)\n",
        "    matches *= mask\n",
        "\n",
        "    accuracy = K.sum(matches) / K.maximum(K.sum(mask), 1)\n",
        "    return accuracy"
      ]
    },
    {
      "cell_type": "code",
      "execution_count": null,
      "id": "95d4af22",
      "metadata": {
        "id": "95d4af22"
      },
      "outputs": [],
      "source": [
        "epochs = 10\n",
        "batch_size = 64"
      ]
    },
    {
      "cell_type": "code",
      "execution_count": null,
      "id": "bffa49fb",
      "metadata": {
        "id": "bffa49fb"
      },
      "outputs": [],
      "source": [
        "train_steps = math.ceil(len(pre_train_inputs[0]) / batch_size) * epochs\n",
        "learning_rate = CosineSchedule(train_steps=train_steps, warmup_steps=max(100, train_steps // 10))\n",
        "optimizer = tf.keras.optimizers.Adam(learning_rate, beta_1=0.9, beta_2=0.98, epsilon=1e-9)"
      ]
    },
    {
      "cell_type": "code",
      "execution_count": null,
      "id": "5fed7c78",
      "metadata": {
        "id": "5fed7c78"
      },
      "outputs": [],
      "source": [
        "pre_train_model.compile(loss=(tf.keras.losses.sparse_categorical_crossentropy, lm_loss), optimizer=optimizer, metrics={\"nsp\": \"acc\", \"mlm\": lm_acc})"
      ]
    },
    {
      "cell_type": "markdown",
      "id": "1f2d7a34",
      "metadata": {
        "id": "1f2d7a34"
      },
      "source": [
        "### **7-2. 모델 학습**"
      ]
    },
    {
      "cell_type": "code",
      "execution_count": null,
      "id": "09ef9d33",
      "metadata": {
        "id": "09ef9d33",
        "outputId": "b430747b-d9c5-43e5-9a2a-c790eeafa91d"
      },
      "outputs": [
        {
          "name": "stdout",
          "output_type": "stream",
          "text": [
            "Epoch 1/10\n",
            "1792/1792 [==============================] - 107s 57ms/step - loss: 18.8720 - nsp_loss: 0.6455 - mlm_loss: 18.2265 - nsp_acc: 0.5931 - mlm_lm_acc: 0.1236\n",
            "Epoch 2/10\n",
            "1792/1792 [==============================] - 100s 56ms/step - loss: 16.2499 - nsp_loss: 0.6199 - mlm_loss: 15.6300 - nsp_acc: 0.6164 - mlm_lm_acc: 0.1505\n",
            "Epoch 3/10\n",
            "1792/1792 [==============================] - 106s 59ms/step - loss: 13.6351 - nsp_loss: 0.6132 - mlm_loss: 13.0219 - nsp_acc: 0.6230 - mlm_lm_acc: 0.2069\n",
            "Epoch 4/10\n",
            "1792/1792 [==============================] - 109s 61ms/step - loss: 12.6839 - nsp_loss: 0.6084 - mlm_loss: 12.0755 - nsp_acc: 0.6311 - mlm_lm_acc: 0.2354\n",
            "Epoch 5/10\n",
            "1792/1792 [==============================] - 108s 60ms/step - loss: 12.0543 - nsp_loss: 0.6030 - mlm_loss: 11.4513 - nsp_acc: 0.6429 - mlm_lm_acc: 0.2571\n",
            "Epoch 6/10\n",
            "1792/1792 [==============================] - 109s 61ms/step - loss: 11.5579 - nsp_loss: 0.5960 - mlm_loss: 10.9619 - nsp_acc: 0.6581 - mlm_lm_acc: 0.2746\n",
            "Epoch 7/10\n",
            "1792/1792 [==============================] - 108s 60ms/step - loss: 11.1474 - nsp_loss: 0.5855 - mlm_loss: 10.5619 - nsp_acc: 0.6812 - mlm_lm_acc: 0.2898\n",
            "Epoch 8/10\n",
            "1792/1792 [==============================] - 107s 60ms/step - loss: 10.8304 - nsp_loss: 0.5727 - mlm_loss: 10.2577 - nsp_acc: 0.7011 - mlm_lm_acc: 0.3016\n",
            "Epoch 9/10\n",
            "1792/1792 [==============================] - 107s 60ms/step - loss: 10.6138 - nsp_loss: 0.5589 - mlm_loss: 10.0548 - nsp_acc: 0.7223 - mlm_lm_acc: 0.3099\n",
            "Epoch 10/10\n",
            "1792/1792 [==============================] - 108s 60ms/step - loss: 10.5018 - nsp_loss: 0.5500 - mlm_loss: 9.9518 - nsp_acc: 0.7352 - mlm_lm_acc: 0.3142\n"
          ]
        }
      ],
      "source": [
        "history = pre_train_model.fit(pre_train_inputs, pre_train_labels, epochs=epochs, batch_size=batch_size)"
      ]
    },
    {
      "cell_type": "markdown",
      "id": "002986cf",
      "metadata": {
        "id": "002986cf"
      },
      "source": [
        "## **8. 모델 평가**"
      ]
    },
    {
      "cell_type": "markdown",
      "id": "788bcc9d",
      "metadata": {
        "id": "788bcc9d"
      },
      "source": [
        "### **8-1. 학습 결과 시각화**"
      ]
    },
    {
      "cell_type": "code",
      "execution_count": null,
      "id": "7f413c12",
      "metadata": {
        "id": "7f413c12",
        "outputId": "1dd61716-8a94-4e04-d53d-43fdca31bd3f"
      },
      "outputs": [
        {
          "data": {
            "image/png": "[encoded data removed]",
            "text/plain": [
              "<Figure size 1080x360 with 2 Axes>"
            ]
          },
          "metadata": {
            "needs_background": "light"
          },
          "output_type": "display_data"
        }
      ],
      "source": [
        "plt.figure(figsize=(15, 5))\n",
        "\n",
        "plt.subplot(1, 2, 1)\n",
        "plt.plot(history.history['loss'], label='loss')\n",
        "plt.plot(history.history['nsp_loss'], label='nsp_loss')\n",
        "plt.plot(history.history['mlm_loss'], label='mlm_loss')\n",
        "plt.xlabel('Epoch')\n",
        "plt.legend()\n",
        "\n",
        "plt.subplot(1, 2, 2)\n",
        "plt.plot(history.history['nsp_acc'], label='nsp_acc')\n",
        "plt.plot(history.history['mlm_lm_acc'], label='mlm_acc')\n",
        "plt.xlabel('Epoch')\n",
        "plt.legend()\n",
        "\n",
        "plt.show()"
      ]
    },
    {
      "cell_type": "markdown",
      "id": "26dd6c97",
      "metadata": {
        "id": "26dd6c97"
      },
      "source": [
        "### **8-2. 모델 평가**"
      ]
    },
    {
      "cell_type": "code",
      "execution_count": null,
      "id": "aa19d508",
      "metadata": {
        "id": "aa19d508",
        "outputId": "e5e8766e-9b35-4634-d503-68adf819bc34"
      },
      "outputs": [
        {
          "name": "stdout",
          "output_type": "stream",
          "text": [
            "문장: [CLS] 방정식[SEP] 방정식(方程式, )은 미지수가 포함된 식에서, 그 미지수에 특정한 값을 주었을 때만 성립하는 등식이다. 이때, 방정식을[MASK][MASK][MASK][MASK] 하는(성립하게[MASK][MASK][MASK][MASK][MASK] 값을 해 또는 근이라 한다. 방정식의 해는 없을 수도 있고, 여러[MASK][MASK] 수도 있고, 모든 값일 수도 있다. 전자의 경우는 불능이라고 하고, 중자의 경우는[MASK][MASK][MASK][MASK] 후자의 경우는 항등식(부정)이라 한다.[MASK] 들어[MASK][MASK][SEP]\n",
            "\n",
            "NSP Answer:   True\n",
            "[MASK] Answer: ['참이', '되게', '하는)', '특정', '문자의', '개일', '방정식,', '예를', '은', '문']\n",
            "\n",
            "NSP Predict:  1\n",
            "[MASK] Predict: ['정수야', '해)))의', '값일', '항정식,', '예를', '전는']\n",
            "\n",
            "문장: [CLS]자라며 양측 진영에서 모두 비판받은 대통령으로[MASK][MASK][MASK][MASK] 행정수도 이전과 혁신도시 등 지방 균형 발전을 추진하였으나[MASK][MASK][MASK][MASK][MASK] 수도 이전은 헌법재판소에서 관습헌법이라는 이유로 위헌 결정을[MASK] 행정도시로 선회하였다.[SEP] 주요 실책으로는 정치적으로 친인척 및 측근비리, 사회적으로 교육 정책[MASK] 부동산 정책의[MASK][MASK] 경제적으로 양극화 심화에 따른 민생경제 파탄, 외교적으로 햇볕정책의[MASK] 등이 꼽힌다. 부동산[MASK][MASK] 전반적으로[SEP]\n",
            "\n",
            "NSP Answer:   False\n",
            "[MASK] Answer: ['평가받는다.', '세종특별자치시의', '내려', '정치적으로', '및', '실패,', '실패', '정책은']\n",
            "\n",
            "NSP Predict:  0\n",
            "[MASK] Predict: ['출명하였다,', '제재년하였다일', '위한', '정치적으로', '및', '정책,', '정책', '정책은']\n",
            "\n",
            "문장: [CLS] 처럼 가나에[MASK][MASK][MASK][MASK] 강제로 쓰는 것도 가능하다.[SEP] 처럼 올림표기를 쓸 한자가 가나로 충분히 구분된다면옴寺돔 써서 분리할 필요가 없으므로 쓰지 않는다. 또한,[SEP]\n",
            "\n",
            "NSP Answer:   False\n",
            "[MASK] Answer: ['올림표기를', '|를']\n",
            "\n",
            "NSP Predict:  0\n",
            "[MASK] Predict: ['림표를', '림를']\n",
            "\n",
            "문장: [CLS] 극한으로 얻는다.[MASK][MASK][MASK][MASK] formula_17으로 하고 시간 좌표를 formula_18로 하면, 세계선의 선소[MASK][MASK][MASK][MASK] formula_20 로 표시된다. formula_21와 formula_22는 시간과 공간의[MASK][MASK][MASK] 나타내는 인덱스로 0은 시간,[MASK][MASK][MASK][MASK][MASK] 공간 성분을 표시한다. formula_9는 시공간 사이의 변환을 나타내는 계량 텐서이다. 예를 들어 가장 평탄한 시공간을 나타내는 민코프스키 레코晃 텐서의 경우[SEP] 여기서 기호는 다음과 같다.[SEP]\n",
            "\n",
            "NSP Answer:   False\n",
            "[MASK] Answer: ['공간', '좌표를', 'formula_19는', '좌표를', '1,2,3은', '계량']\n",
            "\n",
            "NSP Predict:  0\n",
            "[MASK] Predict: ['formula_22는', 'formula표2는', '환을', 'formula_25터터', '성으로']\n",
            "\n",
            "문장: [CLS]동맹을 일으키다가 정학을 당하였다. 집안 형편이 어려워져 중학교를 1년간 휴학한 뒤 부일장학회의 장학금을 얻어[MASK][MASK][MASK][MASK][MASK][MASK][MASK] 1963년에 가까스로 졸업하고 부산상고에 진학하여 1966년에 졸업하였다.[SEP] 노무현은 1946년 9월 1일에[MASK] 김해에서 아버지 노판석과 어머니 이순례[MASK] 3남 2녀[MASK] 막내로 태어났다. 그의 위로 있는 형 2명 중 맏형 영현은 교통사고로[MASK][MASK][MASK][MASK][MASK][MASK] 작은 형[MASK][MASK][SEP]\n",
            "\n",
            "NSP Answer:   False\n",
            "[MASK] Answer: ['가까스로', '중학교에', '다니다가', '경상남도', '사이에서', '중', '세상을', '떠났고,', '건평']\n",
            "\n",
            "NSP Predict:  0\n",
            "[MASK] Predict: ['학...하였다.', '어머니', '중', '중', '태어났다주...,', '형녀']\n",
            "\n"
          ]
        }
      ],
      "source": [
        "for _idx in np.random.randint(100, size=5).tolist():\n",
        "\n",
        "    print(\"문장:\", vocab.decode_ids(test_input[0][_idx].tolist()), end=\"\\n\\n\")\n",
        "    print(\"NSP Answer:\".ljust(13), bool(test_label[0][_idx]))\n",
        "    print(\"[MASK] Answer:\".ljust(13), vocab.decode_ids(test_label[1][_idx].tolist()).split(), end=\"\\n\\n\")\n",
        "\n",
        "    nsp_predict, mask_predict = pre_train_model((test_input[0][_idx].reshape(1, -1), test_input[1][_idx].reshape(1, -1)))\n",
        "\n",
        "    mask_predict = [np.argmax(token) for token in mask_predict[0]]\n",
        "    mask_predict *= np.clip(test_label[1][_idx], 0, 1)\n",
        "\n",
        "    print(\"NSP Predict:\".ljust(13), np.argmax(nsp_predict))\n",
        "    print(\"[MASK] Predict:\".ljust(13), vocab.decode_ids(mask_predict.tolist()).split(), end=\"\\n\\n\")"
      ]
    },
    {
      "cell_type": "markdown",
      "id": "15578820",
      "metadata": {
        "id": "15578820"
      },
      "source": [
        "### **8-3. 테스트 데이터 평가**"
      ]
    },
    {
      "cell_type": "code",
      "execution_count": null,
      "id": "25382b6d",
      "metadata": {
        "id": "25382b6d",
        "outputId": "7c94b43e-7ed1-4983-c9e9-2bc89cbb95d9"
      },
      "outputs": [
        {
          "name": "stdout",
          "output_type": "stream",
          "text": [
            "4/4 [==============================] - 0s 14ms/step - loss: 10.4598 - nsp_loss: 0.5569 - mlm_loss: 9.9029 - nsp_acc: 0.7400 - mlm_lm_acc: 0.3449\n"
          ]
        }
      ],
      "source": [
        "_ = pre_train_model.evaluate(test_input, test_label)"
      ]
    },
    {
      "cell_type": "markdown",
      "id": "3f9b0189",
      "metadata": {
        "id": "3f9b0189"
      },
      "source": [
        "||**MLM**|**NSP**|**Total**|\n",
        "|:---:|:---:|:---:|:---:|\n",
        "|**Loss**|11.743|0.677|12.419|\n",
        "|**Accuracy**|0.281|0.560||"
      ]
    },
    {
      "cell_type": "markdown",
      "id": "a86c4c94",
      "metadata": {
        "id": "a86c4c94"
      },
      "source": [
        "## **9. 회고**"
      ]
    },
    {
      "cell_type": "markdown",
      "id": "00e9ecbc",
      "metadata": {
        "id": "00e9ecbc"
      },
      "source": [
        "### **9-1. 프로젝트 회고**"
      ]
    },
    {
      "cell_type": "markdown",
      "id": "9bc33c17",
      "metadata": {
        "id": "9bc33c17"
      },
      "source": [
        "이번 프로젝트는 크게 오류 없이 잘 진행되었다. 그렇기 때문에 다른 프로젝트에 비해 직접 따라치며 작성하는 시간을 가져볼 수 있어서 좋았다. \n",
        "\n",
        "이번에 작업하면서 문제가 되었던 부분은 2군데 였는데, 항상 문제가 되는 인코딩 부분과 파일 저장 부분이었다. 인코딩의 경우 코랩에서 진행할 때나 LMS 환경에서는 크게 문제가 된 적이 없는데, 꼭 로컬에서 진행하는 경우 encoding = 'utf-8'을 넣어주지 않으면 파일을 읽거나 쓰는 부분에서 계속 오류가 발생한다. 매번 쓰기가 귀찮아서 원인을 찾고 싶지만 일단 시간이 급했기에 그냥 오늘은 평소와 같이 인코딩 부분을 기재하고 진행했다.  \n",
        "\n",
        "그리고 파일 저장 부분은 왜 그런지 모르는데 계속 오류가 났디. 그래서 커널을 다시 실행을 여러 차례 진행했더니 동일한 코드로 잘 진행되는 결과를 얻을 수 있었다. 매번 궁금하고 제일 힘든 부분이 딱히 이유를 알 수 없는 오류인 것 같다. 계속 오류가 나거나 계속 잘 되는 일괄적인 패턴을 안보이고, 되다가 안되는 경우에는 이게 맞는건지 틀린건지 감이 잘 안잡혀서 다음에 진행할 때에도 문제가 발생하게 되는 것 같다. 오류를 만났을 때에는 꼭 되짚어보고 원인을 확인하고 넘어가는 습관을 들이는 것이 중요할 것 같다. "
      ]
    },
    {
      "cell_type": "markdown",
      "id": "25dfbd6e",
      "metadata": {
        "id": "25dfbd6e"
      },
      "source": [
        "### **9-2. 참고 자료**"
      ]
    },
    {
      "cell_type": "markdown",
      "id": "599d6472",
      "metadata": {
        "id": "599d6472"
      },
      "source": [
        "1. https://github.com/YAGI0423/aiffel_going_deeper_nlp/blob/main/going_deeper_14/GD14_v2_2.ipynb"
      ]
    }
  ],
  "metadata": {
    "kernelspec": {
      "display_name": "Python 3 (ipykernel)",
      "language": "python",
      "name": "python3"
    },
    "language_info": {
      "codemirror_mode": {
        "name": "ipython",
        "version": 3
      },
      "file_extension": ".py",
      "mimetype": "text/x-python",
      "name": "python",
      "nbconvert_exporter": "python",
      "pygments_lexer": "ipython3",
      "version": "3.9.0"
    },
    "colab": {
      "name": "[GD-14]nlp.ipynb",
      "provenance": [],
      "include_colab_link": true
    }
  },
  "nbformat": 4,
  "nbformat_minor": 5
}