{
  "cells": [
    {
      "cell_type": "markdown",
      "metadata": {
        "id": "view-in-github",
        "colab_type": "text"
      },
      "source": [
        "<a href=\"https://colab.research.google.com/github/9645258/aiffel/blob/main/02_goingdeeper/01_nlp/%5BGD-02%5Dnlp.ipynb\" target=\"_parent\"><img src=\"https://colab.research.google.com/assets/colab-badge.svg\" alt=\"Open In Colab\"/></a>"
      ]
    },
    {
      "cell_type": "markdown",
      "id": "672729ab",
      "metadata": {
        "id": "672729ab"
      },
      "source": [
        "# **GD NLP 02 : 멋진 단어사전 만들기**"
      ]
    },
    {
      "cell_type": "markdown",
      "source": [
        "소설책 1권 분량의 텍스트를 lecture에서 다룬 다양한 기법으로 전처리하여 단어사전을 만들어 본다. 각각의 단어사전을 토대로 language model을 생성하여 perplexity를 측정해 보고 어떤 기법의 성능이 우수한지 평가해 본다. "
      ],
      "metadata": {
        "id": "6Q8Y9avrlhQf"
      },
      "id": "6Q8Y9avrlhQf"
    },
    {
      "cell_type": "markdown",
      "source": [
        "- **SentencePiece 사용하기**  \n",
        "    - SentencePiece를 이용하여 모델을 만들기까지의 과정이 정상적으로 진행되었는가?  \n",
        "    - SentencePiece를 통해 만든 Tokenizer가 자연어처리 모델과 결합하여 동작하는가?  \n",
        "    - SentencePiece의 성능을 다각도로 비교분석하였는가?  \n"
      ],
      "metadata": {
        "id": "x9W0w80slpiH"
      },
      "id": "x9W0w80slpiH"
    },
    {
      "cell_type": "markdown",
      "id": "8f45106f",
      "metadata": {
        "id": "8f45106f"
      },
      "source": [
        "---"
      ]
    },
    {
      "cell_type": "markdown",
      "id": "94bd8d48",
      "metadata": {
        "id": "94bd8d48"
      },
      "source": [
        "# **1. 데이터 준비**"
      ]
    },
    {
      "cell_type": "markdown",
      "id": "5929e320",
      "metadata": {
        "id": "5929e320"
      },
      "source": [
        "## **1-1. 라이브러리 Import**"
      ]
    },
    {
      "cell_type": "code",
      "execution_count": null,
      "id": "c955e097",
      "metadata": {
        "id": "c955e097"
      },
      "outputs": [],
      "source": [
        "import os\n",
        "import csv\n",
        "import konlpy\n",
        "import numpy as np\n",
        "import pandas as pd\n",
        "import tensorflow as tf\n",
        "import matplotlib.pyplot as plt\n",
        "import sentencepiece as spm\n",
        "\n",
        "from konlpy.tag import Okt\n",
        "from tensorflow import keras\n",
        "from tensorflow.keras.models import load_model\n",
        "from tensorflow.keras.initializers import Constant\n",
        "from sklearn.model_selection import train_test_split\n",
        "from tensorflow.keras.callbacks import EarlyStopping, ModelCheckpoint\n",
        "\n",
        "%matplotlib inline"
      ]
    },
    {
      "cell_type": "markdown",
      "id": "1bca34c7",
      "metadata": {
        "id": "1bca34c7"
      },
      "source": [
        "## **1-2. 데이터 Import**"
      ]
    },
    {
      "cell_type": "code",
      "execution_count": null,
      "id": "215a5d4f",
      "metadata": {
        "id": "215a5d4f"
      },
      "outputs": [],
      "source": [
        "train_data = pd.read_table('C:/Users/96452/00_work/NLP-02/data/ratings_train.txt')\n",
        "test_data = pd.read_table('C:/Users/96452/00_work/NLP-02/data/ratings_test.txt')"
      ]
    },
    {
      "cell_type": "markdown",
      "id": "b6eef551",
      "metadata": {
        "id": "b6eef551"
      },
      "source": [
        "## **1-3. 데이터 형태 확인**"
      ]
    },
    {
      "cell_type": "markdown",
      "id": "8d22c935",
      "metadata": {
        "id": "8d22c935"
      },
      "source": [
        "### **1-3-1. train_data 데이터 형태 확인**"
      ]
    },
    {
      "cell_type": "markdown",
      "id": "c1c9df94",
      "metadata": {
        "id": "c1c9df94"
      },
      "source": [
        "**데이터 수**  \n",
        "총 15,000개\n",
        "    \n",
        "**컬럼 수**  \n",
        "총 3개 (id, document, label)  "
      ]
    },
    {
      "cell_type": "code",
      "execution_count": null,
      "id": "7e03b733",
      "metadata": {
        "scrolled": true,
        "id": "7e03b733",
        "outputId": "a35730cf-35ef-479d-ced0-b74ed13479f8"
      },
      "outputs": [
        {
          "data": {
            "text/html": [
              "<div>\n",
              "<style scoped>\n",
              "    .dataframe tbody tr th:only-of-type {\n",
              "        vertical-align: middle;\n",
              "    }\n",
              "\n",
              "    .dataframe tbody tr th {\n",
              "        vertical-align: top;\n",
              "    }\n",
              "\n",
              "    .dataframe thead th {\n",
              "        text-align: right;\n",
              "    }\n",
              "</style>\n",
              "<table border=\"1\" class=\"dataframe\">\n",
              "  <thead>\n",
              "    <tr style=\"text-align: right;\">\n",
              "      <th></th>\n",
              "      <th>id</th>\n",
              "      <th>document</th>\n",
              "      <th>label</th>\n",
              "    </tr>\n",
              "  </thead>\n",
              "  <tbody>\n",
              "    <tr>\n",
              "      <th>0</th>\n",
              "      <td>9976970</td>\n",
              "      <td>아 더빙.. 진짜 짜증나네요 목소리</td>\n",
              "      <td>0</td>\n",
              "    </tr>\n",
              "    <tr>\n",
              "      <th>1</th>\n",
              "      <td>3819312</td>\n",
              "      <td>흠...포스터보고 초딩영화줄....오버연기조차 가볍지 않구나</td>\n",
              "      <td>1</td>\n",
              "    </tr>\n",
              "    <tr>\n",
              "      <th>2</th>\n",
              "      <td>10265843</td>\n",
              "      <td>너무재밓었다그래서보는것을추천한다</td>\n",
              "      <td>0</td>\n",
              "    </tr>\n",
              "    <tr>\n",
              "      <th>3</th>\n",
              "      <td>9045019</td>\n",
              "      <td>교도소 이야기구먼 ..솔직히 재미는 없다..평점 조정</td>\n",
              "      <td>0</td>\n",
              "    </tr>\n",
              "    <tr>\n",
              "      <th>4</th>\n",
              "      <td>6483659</td>\n",
              "      <td>사이몬페그의 익살스런 연기가 돋보였던 영화!스파이더맨에서 늙어보이기만 했던 커스틴 ...</td>\n",
              "      <td>1</td>\n",
              "    </tr>\n",
              "    <tr>\n",
              "      <th>...</th>\n",
              "      <td>...</td>\n",
              "      <td>...</td>\n",
              "      <td>...</td>\n",
              "    </tr>\n",
              "    <tr>\n",
              "      <th>149995</th>\n",
              "      <td>6222902</td>\n",
              "      <td>인간이 문제지.. 소는 뭔죄인가..</td>\n",
              "      <td>0</td>\n",
              "    </tr>\n",
              "    <tr>\n",
              "      <th>149996</th>\n",
              "      <td>8549745</td>\n",
              "      <td>평점이 너무 낮아서...</td>\n",
              "      <td>1</td>\n",
              "    </tr>\n",
              "    <tr>\n",
              "      <th>149997</th>\n",
              "      <td>9311800</td>\n",
              "      <td>이게 뭐요? 한국인은 거들먹거리고 필리핀 혼혈은 착하다?</td>\n",
              "      <td>0</td>\n",
              "    </tr>\n",
              "    <tr>\n",
              "      <th>149998</th>\n",
              "      <td>2376369</td>\n",
              "      <td>청춘 영화의 최고봉.방황과 우울했던 날들의 자화상</td>\n",
              "      <td>1</td>\n",
              "    </tr>\n",
              "    <tr>\n",
              "      <th>149999</th>\n",
              "      <td>9619869</td>\n",
              "      <td>한국 영화 최초로 수간하는 내용이 담긴 영화</td>\n",
              "      <td>0</td>\n",
              "    </tr>\n",
              "  </tbody>\n",
              "</table>\n",
              "<p>150000 rows × 3 columns</p>\n",
              "</div>"
            ],
            "text/plain": [
              "              id                                           document  label\n",
              "0        9976970                                아 더빙.. 진짜 짜증나네요 목소리      0\n",
              "1        3819312                  흠...포스터보고 초딩영화줄....오버연기조차 가볍지 않구나      1\n",
              "2       10265843                                  너무재밓었다그래서보는것을추천한다      0\n",
              "3        9045019                      교도소 이야기구먼 ..솔직히 재미는 없다..평점 조정      0\n",
              "4        6483659  사이몬페그의 익살스런 연기가 돋보였던 영화!스파이더맨에서 늙어보이기만 했던 커스틴 ...      1\n",
              "...          ...                                                ...    ...\n",
              "149995   6222902                                인간이 문제지.. 소는 뭔죄인가..      0\n",
              "149996   8549745                                      평점이 너무 낮아서...      1\n",
              "149997   9311800                    이게 뭐요? 한국인은 거들먹거리고 필리핀 혼혈은 착하다?      0\n",
              "149998   2376369                        청춘 영화의 최고봉.방황과 우울했던 날들의 자화상      1\n",
              "149999   9619869                           한국 영화 최초로 수간하는 내용이 담긴 영화      0\n",
              "\n",
              "[150000 rows x 3 columns]"
            ]
          },
          "execution_count": 3,
          "metadata": {},
          "output_type": "execute_result"
        }
      ],
      "source": [
        "train_data"
      ]
    },
    {
      "cell_type": "markdown",
      "id": "2184b80c",
      "metadata": {
        "id": "2184b80c"
      },
      "source": [
        "### **1-3-2. test_data 데이터 형태 확인**"
      ]
    },
    {
      "cell_type": "markdown",
      "id": "386faa77",
      "metadata": {
        "id": "386faa77"
      },
      "source": [
        "**데이터 수**  \n",
        "총 5,000개\n",
        "    \n",
        "**컬럼 수**  \n",
        "총 3개 (id, document, label)  "
      ]
    },
    {
      "cell_type": "code",
      "execution_count": null,
      "id": "ed53390f",
      "metadata": {
        "id": "ed53390f",
        "outputId": "962dcb86-4a2c-4072-a56a-f14e071ce85e"
      },
      "outputs": [
        {
          "data": {
            "text/html": [
              "<div>\n",
              "<style scoped>\n",
              "    .dataframe tbody tr th:only-of-type {\n",
              "        vertical-align: middle;\n",
              "    }\n",
              "\n",
              "    .dataframe tbody tr th {\n",
              "        vertical-align: top;\n",
              "    }\n",
              "\n",
              "    .dataframe thead th {\n",
              "        text-align: right;\n",
              "    }\n",
              "</style>\n",
              "<table border=\"1\" class=\"dataframe\">\n",
              "  <thead>\n",
              "    <tr style=\"text-align: right;\">\n",
              "      <th></th>\n",
              "      <th>id</th>\n",
              "      <th>document</th>\n",
              "      <th>label</th>\n",
              "    </tr>\n",
              "  </thead>\n",
              "  <tbody>\n",
              "    <tr>\n",
              "      <th>0</th>\n",
              "      <td>6270596</td>\n",
              "      <td>굳 ㅋ</td>\n",
              "      <td>1</td>\n",
              "    </tr>\n",
              "    <tr>\n",
              "      <th>1</th>\n",
              "      <td>9274899</td>\n",
              "      <td>GDNTOPCLASSINTHECLUB</td>\n",
              "      <td>0</td>\n",
              "    </tr>\n",
              "    <tr>\n",
              "      <th>2</th>\n",
              "      <td>8544678</td>\n",
              "      <td>뭐야 이 평점들은.... 나쁘진 않지만 10점 짜리는 더더욱 아니잖아</td>\n",
              "      <td>0</td>\n",
              "    </tr>\n",
              "    <tr>\n",
              "      <th>3</th>\n",
              "      <td>6825595</td>\n",
              "      <td>지루하지는 않은데 완전 막장임... 돈주고 보기에는....</td>\n",
              "      <td>0</td>\n",
              "    </tr>\n",
              "    <tr>\n",
              "      <th>4</th>\n",
              "      <td>6723715</td>\n",
              "      <td>3D만 아니었어도 별 다섯 개 줬을텐데.. 왜 3D로 나와서 제 심기를 불편하게 하죠??</td>\n",
              "      <td>0</td>\n",
              "    </tr>\n",
              "    <tr>\n",
              "      <th>...</th>\n",
              "      <td>...</td>\n",
              "      <td>...</td>\n",
              "      <td>...</td>\n",
              "    </tr>\n",
              "    <tr>\n",
              "      <th>49995</th>\n",
              "      <td>4608761</td>\n",
              "      <td>오랜만에 평점 로긴했네ㅋㅋ 킹왕짱 쌈뽕한 영화를 만났습니다 강렬하게 육쾌함</td>\n",
              "      <td>1</td>\n",
              "    </tr>\n",
              "    <tr>\n",
              "      <th>49996</th>\n",
              "      <td>5308387</td>\n",
              "      <td>의지 박약들이나 하는거다 탈영은 일단 주인공 김대희 닮았고 이등병 찐따 OOOO</td>\n",
              "      <td>0</td>\n",
              "    </tr>\n",
              "    <tr>\n",
              "      <th>49997</th>\n",
              "      <td>9072549</td>\n",
              "      <td>그림도 좋고 완성도도 높았지만... 보는 내내 불안하게 만든다</td>\n",
              "      <td>0</td>\n",
              "    </tr>\n",
              "    <tr>\n",
              "      <th>49998</th>\n",
              "      <td>5802125</td>\n",
              "      <td>절대 봐서는 안 될 영화.. 재미도 없고 기분만 잡치고.. 한 세트장에서 다 해먹네</td>\n",
              "      <td>0</td>\n",
              "    </tr>\n",
              "    <tr>\n",
              "      <th>49999</th>\n",
              "      <td>6070594</td>\n",
              "      <td>마무리는 또 왜이래</td>\n",
              "      <td>0</td>\n",
              "    </tr>\n",
              "  </tbody>\n",
              "</table>\n",
              "<p>50000 rows × 3 columns</p>\n",
              "</div>"
            ],
            "text/plain": [
              "            id                                           document  label\n",
              "0      6270596                                                굳 ㅋ      1\n",
              "1      9274899                               GDNTOPCLASSINTHECLUB      0\n",
              "2      8544678             뭐야 이 평점들은.... 나쁘진 않지만 10점 짜리는 더더욱 아니잖아      0\n",
              "3      6825595                   지루하지는 않은데 완전 막장임... 돈주고 보기에는....      0\n",
              "4      6723715  3D만 아니었어도 별 다섯 개 줬을텐데.. 왜 3D로 나와서 제 심기를 불편하게 하죠??      0\n",
              "...        ...                                                ...    ...\n",
              "49995  4608761          오랜만에 평점 로긴했네ㅋㅋ 킹왕짱 쌈뽕한 영화를 만났습니다 강렬하게 육쾌함      1\n",
              "49996  5308387       의지 박약들이나 하는거다 탈영은 일단 주인공 김대희 닮았고 이등병 찐따 OOOO      0\n",
              "49997  9072549                 그림도 좋고 완성도도 높았지만... 보는 내내 불안하게 만든다      0\n",
              "49998  5802125     절대 봐서는 안 될 영화.. 재미도 없고 기분만 잡치고.. 한 세트장에서 다 해먹네      0\n",
              "49999  6070594                                         마무리는 또 왜이래      0\n",
              "\n",
              "[50000 rows x 3 columns]"
            ]
          },
          "execution_count": 4,
          "metadata": {},
          "output_type": "execute_result"
        }
      ],
      "source": [
        "test_data"
      ]
    },
    {
      "cell_type": "markdown",
      "id": "455428dc",
      "metadata": {
        "id": "455428dc"
      },
      "source": [
        "---"
      ]
    },
    {
      "cell_type": "markdown",
      "id": "570df112",
      "metadata": {
        "id": "570df112"
      },
      "source": [
        "# **2. 전처리 진행**"
      ]
    },
    {
      "cell_type": "markdown",
      "id": "efff0563",
      "metadata": {
        "id": "efff0563"
      },
      "source": [
        "## **2-1. 결측치 및 중복 데이터 제거**"
      ]
    },
    {
      "cell_type": "markdown",
      "id": "4bf291cb",
      "metadata": {
        "id": "4bf291cb"
      },
      "source": [
        "### **2-1-1. 결측치 및 중복 데이터 확인 함수**"
      ]
    },
    {
      "cell_type": "code",
      "execution_count": null,
      "id": "d43207b9",
      "metadata": {
        "id": "d43207b9"
      },
      "outputs": [],
      "source": [
        "def data_info(data):\n",
        "    print(\"데이터 수:\", len(data))\n",
        "    print(\"중복 데이터 수:\", data.isnull().sum())\n",
        "    print(\"null 값:\", len(data)-len(set(data)))"
      ]
    },
    {
      "cell_type": "markdown",
      "id": "950c93a2",
      "metadata": {
        "id": "950c93a2"
      },
      "source": [
        "### **2-1-2. train_data 결측치 및 중복 데이터 확인**"
      ]
    },
    {
      "cell_type": "code",
      "execution_count": null,
      "id": "ec13022b",
      "metadata": {
        "id": "ec13022b",
        "outputId": "d5529344-ce7f-480f-c063-e066b6b6bfba"
      },
      "outputs": [
        {
          "name": "stdout",
          "output_type": "stream",
          "text": [
            "데이터 수: 150000\n",
            "중복 데이터 수: 5\n",
            "null 값: 3817\n"
          ]
        }
      ],
      "source": [
        "data_info(train_data[\"document\"])"
      ]
    },
    {
      "cell_type": "markdown",
      "id": "8f7df2a0",
      "metadata": {
        "id": "8f7df2a0"
      },
      "source": [
        "### **2-1-3. train_data 결측치 및 중복 데이터 제거**"
      ]
    },
    {
      "cell_type": "code",
      "execution_count": null,
      "id": "4665a807",
      "metadata": {
        "id": "4665a807"
      },
      "outputs": [],
      "source": [
        "train_data.dropna(inplace=True)\n",
        "train_data.drop_duplicates([\"document\"], inplace=True)"
      ]
    },
    {
      "cell_type": "code",
      "execution_count": null,
      "id": "877d6a4c",
      "metadata": {
        "id": "877d6a4c",
        "outputId": "21712526-ad0b-4a91-f323-22b7869c63a2"
      },
      "outputs": [
        {
          "data": {
            "text/html": [
              "<div>\n",
              "<style scoped>\n",
              "    .dataframe tbody tr th:only-of-type {\n",
              "        vertical-align: middle;\n",
              "    }\n",
              "\n",
              "    .dataframe tbody tr th {\n",
              "        vertical-align: top;\n",
              "    }\n",
              "\n",
              "    .dataframe thead th {\n",
              "        text-align: right;\n",
              "    }\n",
              "</style>\n",
              "<table border=\"1\" class=\"dataframe\">\n",
              "  <thead>\n",
              "    <tr style=\"text-align: right;\">\n",
              "      <th></th>\n",
              "      <th>id</th>\n",
              "      <th>document</th>\n",
              "      <th>label</th>\n",
              "    </tr>\n",
              "  </thead>\n",
              "  <tbody>\n",
              "    <tr>\n",
              "      <th>0</th>\n",
              "      <td>9976970</td>\n",
              "      <td>아 더빙.. 진짜 짜증나네요 목소리</td>\n",
              "      <td>0</td>\n",
              "    </tr>\n",
              "    <tr>\n",
              "      <th>1</th>\n",
              "      <td>3819312</td>\n",
              "      <td>흠...포스터보고 초딩영화줄....오버연기조차 가볍지 않구나</td>\n",
              "      <td>1</td>\n",
              "    </tr>\n",
              "    <tr>\n",
              "      <th>2</th>\n",
              "      <td>10265843</td>\n",
              "      <td>너무재밓었다그래서보는것을추천한다</td>\n",
              "      <td>0</td>\n",
              "    </tr>\n",
              "    <tr>\n",
              "      <th>3</th>\n",
              "      <td>9045019</td>\n",
              "      <td>교도소 이야기구먼 ..솔직히 재미는 없다..평점 조정</td>\n",
              "      <td>0</td>\n",
              "    </tr>\n",
              "    <tr>\n",
              "      <th>4</th>\n",
              "      <td>6483659</td>\n",
              "      <td>사이몬페그의 익살스런 연기가 돋보였던 영화!스파이더맨에서 늙어보이기만 했던 커스틴 ...</td>\n",
              "      <td>1</td>\n",
              "    </tr>\n",
              "    <tr>\n",
              "      <th>...</th>\n",
              "      <td>...</td>\n",
              "      <td>...</td>\n",
              "      <td>...</td>\n",
              "    </tr>\n",
              "    <tr>\n",
              "      <th>149995</th>\n",
              "      <td>6222902</td>\n",
              "      <td>인간이 문제지.. 소는 뭔죄인가..</td>\n",
              "      <td>0</td>\n",
              "    </tr>\n",
              "    <tr>\n",
              "      <th>149996</th>\n",
              "      <td>8549745</td>\n",
              "      <td>평점이 너무 낮아서...</td>\n",
              "      <td>1</td>\n",
              "    </tr>\n",
              "    <tr>\n",
              "      <th>149997</th>\n",
              "      <td>9311800</td>\n",
              "      <td>이게 뭐요? 한국인은 거들먹거리고 필리핀 혼혈은 착하다?</td>\n",
              "      <td>0</td>\n",
              "    </tr>\n",
              "    <tr>\n",
              "      <th>149998</th>\n",
              "      <td>2376369</td>\n",
              "      <td>청춘 영화의 최고봉.방황과 우울했던 날들의 자화상</td>\n",
              "      <td>1</td>\n",
              "    </tr>\n",
              "    <tr>\n",
              "      <th>149999</th>\n",
              "      <td>9619869</td>\n",
              "      <td>한국 영화 최초로 수간하는 내용이 담긴 영화</td>\n",
              "      <td>0</td>\n",
              "    </tr>\n",
              "  </tbody>\n",
              "</table>\n",
              "<p>146182 rows × 3 columns</p>\n",
              "</div>"
            ],
            "text/plain": [
              "              id                                           document  label\n",
              "0        9976970                                아 더빙.. 진짜 짜증나네요 목소리      0\n",
              "1        3819312                  흠...포스터보고 초딩영화줄....오버연기조차 가볍지 않구나      1\n",
              "2       10265843                                  너무재밓었다그래서보는것을추천한다      0\n",
              "3        9045019                      교도소 이야기구먼 ..솔직히 재미는 없다..평점 조정      0\n",
              "4        6483659  사이몬페그의 익살스런 연기가 돋보였던 영화!스파이더맨에서 늙어보이기만 했던 커스틴 ...      1\n",
              "...          ...                                                ...    ...\n",
              "149995   6222902                                인간이 문제지.. 소는 뭔죄인가..      0\n",
              "149996   8549745                                      평점이 너무 낮아서...      1\n",
              "149997   9311800                    이게 뭐요? 한국인은 거들먹거리고 필리핀 혼혈은 착하다?      0\n",
              "149998   2376369                        청춘 영화의 최고봉.방황과 우울했던 날들의 자화상      1\n",
              "149999   9619869                           한국 영화 최초로 수간하는 내용이 담긴 영화      0\n",
              "\n",
              "[146182 rows x 3 columns]"
            ]
          },
          "execution_count": 8,
          "metadata": {},
          "output_type": "execute_result"
        }
      ],
      "source": [
        "train_data"
      ]
    },
    {
      "cell_type": "markdown",
      "id": "a72ef512",
      "metadata": {
        "id": "a72ef512"
      },
      "source": [
        "### **2-1-4. test_data 결측치 및 중복 데이터 확인**"
      ]
    },
    {
      "cell_type": "code",
      "execution_count": null,
      "id": "08a34bb3",
      "metadata": {
        "id": "08a34bb3",
        "outputId": "5b9b46d9-52c0-43bc-afe7-7d2e07636d3a"
      },
      "outputs": [
        {
          "name": "stdout",
          "output_type": "stream",
          "text": [
            "데이터 수: 50000\n",
            "중복 데이터 수: 3\n",
            "null 값: 842\n"
          ]
        }
      ],
      "source": [
        "data_info(test_data[\"document\"])"
      ]
    },
    {
      "cell_type": "markdown",
      "id": "6fe3fe53",
      "metadata": {
        "id": "6fe3fe53"
      },
      "source": [
        "### **2-1-5. test_data 결측치 및 중복 데이터 제거**"
      ]
    },
    {
      "cell_type": "code",
      "execution_count": null,
      "id": "4eecb654",
      "metadata": {
        "id": "4eecb654"
      },
      "outputs": [],
      "source": [
        "test_data.dropna(inplace=True)\n",
        "test_data.drop_duplicates([\"document\"], inplace=True)"
      ]
    },
    {
      "cell_type": "code",
      "execution_count": null,
      "id": "7c952b82",
      "metadata": {
        "id": "7c952b82",
        "outputId": "d5064976-e41d-437e-8be4-c16a1140d1a8"
      },
      "outputs": [
        {
          "data": {
            "text/html": [
              "<div>\n",
              "<style scoped>\n",
              "    .dataframe tbody tr th:only-of-type {\n",
              "        vertical-align: middle;\n",
              "    }\n",
              "\n",
              "    .dataframe tbody tr th {\n",
              "        vertical-align: top;\n",
              "    }\n",
              "\n",
              "    .dataframe thead th {\n",
              "        text-align: right;\n",
              "    }\n",
              "</style>\n",
              "<table border=\"1\" class=\"dataframe\">\n",
              "  <thead>\n",
              "    <tr style=\"text-align: right;\">\n",
              "      <th></th>\n",
              "      <th>id</th>\n",
              "      <th>document</th>\n",
              "      <th>label</th>\n",
              "    </tr>\n",
              "  </thead>\n",
              "  <tbody>\n",
              "    <tr>\n",
              "      <th>0</th>\n",
              "      <td>6270596</td>\n",
              "      <td>굳 ㅋ</td>\n",
              "      <td>1</td>\n",
              "    </tr>\n",
              "    <tr>\n",
              "      <th>1</th>\n",
              "      <td>9274899</td>\n",
              "      <td>GDNTOPCLASSINTHECLUB</td>\n",
              "      <td>0</td>\n",
              "    </tr>\n",
              "    <tr>\n",
              "      <th>2</th>\n",
              "      <td>8544678</td>\n",
              "      <td>뭐야 이 평점들은.... 나쁘진 않지만 10점 짜리는 더더욱 아니잖아</td>\n",
              "      <td>0</td>\n",
              "    </tr>\n",
              "    <tr>\n",
              "      <th>3</th>\n",
              "      <td>6825595</td>\n",
              "      <td>지루하지는 않은데 완전 막장임... 돈주고 보기에는....</td>\n",
              "      <td>0</td>\n",
              "    </tr>\n",
              "    <tr>\n",
              "      <th>4</th>\n",
              "      <td>6723715</td>\n",
              "      <td>3D만 아니었어도 별 다섯 개 줬을텐데.. 왜 3D로 나와서 제 심기를 불편하게 하죠??</td>\n",
              "      <td>0</td>\n",
              "    </tr>\n",
              "    <tr>\n",
              "      <th>...</th>\n",
              "      <td>...</td>\n",
              "      <td>...</td>\n",
              "      <td>...</td>\n",
              "    </tr>\n",
              "    <tr>\n",
              "      <th>49995</th>\n",
              "      <td>4608761</td>\n",
              "      <td>오랜만에 평점 로긴했네ㅋㅋ 킹왕짱 쌈뽕한 영화를 만났습니다 강렬하게 육쾌함</td>\n",
              "      <td>1</td>\n",
              "    </tr>\n",
              "    <tr>\n",
              "      <th>49996</th>\n",
              "      <td>5308387</td>\n",
              "      <td>의지 박약들이나 하는거다 탈영은 일단 주인공 김대희 닮았고 이등병 찐따 OOOO</td>\n",
              "      <td>0</td>\n",
              "    </tr>\n",
              "    <tr>\n",
              "      <th>49997</th>\n",
              "      <td>9072549</td>\n",
              "      <td>그림도 좋고 완성도도 높았지만... 보는 내내 불안하게 만든다</td>\n",
              "      <td>0</td>\n",
              "    </tr>\n",
              "    <tr>\n",
              "      <th>49998</th>\n",
              "      <td>5802125</td>\n",
              "      <td>절대 봐서는 안 될 영화.. 재미도 없고 기분만 잡치고.. 한 세트장에서 다 해먹네</td>\n",
              "      <td>0</td>\n",
              "    </tr>\n",
              "    <tr>\n",
              "      <th>49999</th>\n",
              "      <td>6070594</td>\n",
              "      <td>마무리는 또 왜이래</td>\n",
              "      <td>0</td>\n",
              "    </tr>\n",
              "  </tbody>\n",
              "</table>\n",
              "<p>49157 rows × 3 columns</p>\n",
              "</div>"
            ],
            "text/plain": [
              "            id                                           document  label\n",
              "0      6270596                                                굳 ㅋ      1\n",
              "1      9274899                               GDNTOPCLASSINTHECLUB      0\n",
              "2      8544678             뭐야 이 평점들은.... 나쁘진 않지만 10점 짜리는 더더욱 아니잖아      0\n",
              "3      6825595                   지루하지는 않은데 완전 막장임... 돈주고 보기에는....      0\n",
              "4      6723715  3D만 아니었어도 별 다섯 개 줬을텐데.. 왜 3D로 나와서 제 심기를 불편하게 하죠??      0\n",
              "...        ...                                                ...    ...\n",
              "49995  4608761          오랜만에 평점 로긴했네ㅋㅋ 킹왕짱 쌈뽕한 영화를 만났습니다 강렬하게 육쾌함      1\n",
              "49996  5308387       의지 박약들이나 하는거다 탈영은 일단 주인공 김대희 닮았고 이등병 찐따 OOOO      0\n",
              "49997  9072549                 그림도 좋고 완성도도 높았지만... 보는 내내 불안하게 만든다      0\n",
              "49998  5802125     절대 봐서는 안 될 영화.. 재미도 없고 기분만 잡치고.. 한 세트장에서 다 해먹네      0\n",
              "49999  6070594                                         마무리는 또 왜이래      0\n",
              "\n",
              "[49157 rows x 3 columns]"
            ]
          },
          "execution_count": 11,
          "metadata": {},
          "output_type": "execute_result"
        }
      ],
      "source": [
        "test_data"
      ]
    },
    {
      "cell_type": "markdown",
      "id": "e67d12b4",
      "metadata": {
        "id": "e67d12b4"
      },
      "source": [
        "## **2-2. 데이터 분포 길이 조정**"
      ]
    },
    {
      "cell_type": "markdown",
      "id": "2babd382",
      "metadata": {
        "id": "2babd382"
      },
      "source": [
        "### **2-2-1. 데이터 분포 길이 확인 및 시각화 함수**"
      ]
    },
    {
      "cell_type": "code",
      "execution_count": null,
      "id": "ea69e9a3",
      "metadata": {
        "id": "ea69e9a3"
      },
      "outputs": [],
      "source": [
        "def draw_sentence_length(data, title):\n",
        "    min_len = 999\n",
        "    max_len = 0\n",
        "    sum_len = 0\n",
        "    \n",
        "    data = data.dropna()\n",
        "    cleaned_corpus = list(set(data))\n",
        "    \n",
        "    for sen in cleaned_corpus:\n",
        "        length = len(sen)\n",
        "        if min_len > length: min_len = length\n",
        "        if max_len < length: max_len = length\n",
        "        sum_len += length\n",
        "        \n",
        "    sentence_length = np.zeros((max_len), dtype=np.int)\n",
        "\n",
        "    for sen in cleaned_corpus:\n",
        "        sentence_length[len(sen)-1] += 1\n",
        "\n",
        "    plt.bar(range(max_len), sentence_length, width=1.0)\n",
        "    plt.title(title)\n",
        "    plt.show()\n",
        "    \n",
        "    print(\"전체 문장 수:\", len(cleaned_corpus))\n",
        "    print(\"최단 문장 길이:\", min_len)\n",
        "    print(\"최장 문장 길이:\", max_len)\n",
        "    print(\"평균 문장 길이:\", sum_len // len(cleaned_corpus))"
      ]
    },
    {
      "cell_type": "markdown",
      "id": "fb660fab",
      "metadata": {
        "id": "fb660fab"
      },
      "source": [
        "### **2-2-2. train_data 데이터 분포 길이 확인 및 시각화**"
      ]
    },
    {
      "cell_type": "code",
      "execution_count": null,
      "id": "e5bfdc81",
      "metadata": {
        "id": "e5bfdc81",
        "outputId": "c730887a-2e0d-48ba-94b8-4c783fa9a51f"
      },
      "outputs": [
        {
          "name": "stderr",
          "output_type": "stream",
          "text": [
            "C:\\Users\\96452\\AppData\\Local\\Temp\\ipykernel_13424\\324541869.py:15: DeprecationWarning: `np.int` is a deprecated alias for the builtin `int`. To silence this warning, use `int` by itself. Doing this will not modify any behavior and is safe. When replacing `np.int`, you may wish to use e.g. `np.int64` or `np.int32` to specify the precision. If you wish to review your current use, check the release note link for additional information.\n",
            "Deprecated in NumPy 1.20; for more details and guidance: https://numpy.org/devdocs/release/1.20.0-notes.html#deprecations\n",
            "  sentence_length = np.zeros((max_len), dtype=np.int)\n"
          ]
        },
        {
          "data": {
            "image/png": "[encoded data removed]",
            "text/plain": [
              "<Figure size 432x288 with 1 Axes>"
            ]
          },
          "metadata": {
            "needs_background": "light"
          },
          "output_type": "display_data"
        },
        {
          "name": "stdout",
          "output_type": "stream",
          "text": [
            "전체 문장 수: 146182\n",
            "최단 문장 길이: 1\n",
            "최장 문장 길이: 146\n",
            "평균 문장 길이: 35\n"
          ]
        }
      ],
      "source": [
        "draw_sentence_length(train_data[\"document\"], title = \"train data\")"
      ]
    },
    {
      "cell_type": "markdown",
      "id": "e1437fe0",
      "metadata": {
        "id": "e1437fe0"
      },
      "source": [
        "### **2-2-2. test_data 데이터 분포 길이 확인 및 시각화**"
      ]
    },
    {
      "cell_type": "code",
      "execution_count": null,
      "id": "7bc48d6d",
      "metadata": {
        "id": "7bc48d6d",
        "outputId": "67dd12ff-d2f0-4b08-b274-b67e0326c8a6"
      },
      "outputs": [
        {
          "name": "stderr",
          "output_type": "stream",
          "text": [
            "C:\\Users\\96452\\AppData\\Local\\Temp\\ipykernel_13424\\324541869.py:15: DeprecationWarning: `np.int` is a deprecated alias for the builtin `int`. To silence this warning, use `int` by itself. Doing this will not modify any behavior and is safe. When replacing `np.int`, you may wish to use e.g. `np.int64` or `np.int32` to specify the precision. If you wish to review your current use, check the release note link for additional information.\n",
            "Deprecated in NumPy 1.20; for more details and guidance: https://numpy.org/devdocs/release/1.20.0-notes.html#deprecations\n",
            "  sentence_length = np.zeros((max_len), dtype=np.int)\n"
          ]
        },
        {
          "data": {
            "image/png": "[encoded data removed]",
            "text/plain": [
              "<Figure size 432x288 with 1 Axes>"
            ]
          },
          "metadata": {
            "needs_background": "light"
          },
          "output_type": "display_data"
        },
        {
          "name": "stdout",
          "output_type": "stream",
          "text": [
            "전체 문장 수: 49157\n",
            "최단 문장 길이: 1\n",
            "최장 문장 길이: 144\n",
            "평균 문장 길이: 35\n"
          ]
        }
      ],
      "source": [
        "draw_sentence_length(test_data[\"document\"], title = \"test data\")"
      ]
    },
    {
      "cell_type": "markdown",
      "id": "711f0649",
      "metadata": {
        "id": "711f0649"
      },
      "source": [
        "### **2-2-3. 최적의 max_len 탐색 함수**"
      ]
    },
    {
      "cell_type": "code",
      "execution_count": null,
      "id": "8a7b9c15",
      "metadata": {
        "id": "8a7b9c15"
      },
      "outputs": [],
      "source": [
        "def below_threshold_len(max_len, nested_list):\n",
        "    cnt = 0\n",
        "    for s in nested_list:\n",
        "        if(len(s) <= max_len):\n",
        "            cnt = cnt + 1\n",
        "    print('전체 샘플 중 길이가 %s 이하인 샘플의 비율: %s'%(max_len, (cnt / len(nested_list))*100))"
      ]
    },
    {
      "cell_type": "markdown",
      "id": "7d7a0d6d",
      "metadata": {
        "id": "7d7a0d6d"
      },
      "source": [
        "### **2-2-4. train_data 최적의 max_len 확인**"
      ]
    },
    {
      "cell_type": "code",
      "execution_count": null,
      "id": "e2cc730e",
      "metadata": {
        "id": "e2cc730e",
        "outputId": "7090213e-a0fd-40f5-f30e-9c9ed9a84ec4"
      },
      "outputs": [
        {
          "name": "stdout",
          "output_type": "stream",
          "text": [
            "전체 샘플 중 길이가 110 이하인 샘플의 비율: 95.21965768699293\n",
            "전체 샘플 중 길이가 100 이하인 샘플의 비율: 94.0594601250496\n",
            "전체 샘플 중 길이가 10 이하인 샘플의 비율: 8.543459523060294\n",
            "전체 샘플 중 길이가 8 이하인 샘플의 비율: 5.559508010562176\n"
          ]
        }
      ],
      "source": [
        "below_threshold_len(110, train_data[\"document\"])\n",
        "below_threshold_len(100, train_data[\"document\"]) \n",
        "below_threshold_len(10, train_data[\"document\"])\n",
        "below_threshold_len(8, train_data[\"document\"])"
      ]
    },
    {
      "cell_type": "markdown",
      "id": "77ad0e86",
      "metadata": {
        "id": "77ad0e86"
      },
      "source": [
        "### **2-2-5. test_data 최적의 max_len 확인**"
      ]
    },
    {
      "cell_type": "code",
      "execution_count": null,
      "id": "7cd379b2",
      "metadata": {
        "id": "7cd379b2",
        "outputId": "1d3b7300-6028-489c-b7cc-a52289919c3f"
      },
      "outputs": [
        {
          "name": "stdout",
          "output_type": "stream",
          "text": [
            "전체 샘플 중 길이가 110 이하인 샘플의 비율: 95.18278169945278\n",
            "전체 샘플 중 길이가 100 이하인 샘플의 비율: 94.10663791525113\n",
            "전체 샘플 중 길이가 10 이하인 샘플의 비율: 8.871574750289888\n",
            "전체 샘플 중 길이가 8 이하인 샘플의 비율: 5.820127347071628\n"
          ]
        }
      ],
      "source": [
        "below_threshold_len(110, test_data[\"document\"])\n",
        "below_threshold_len(100, test_data[\"document\"]) \n",
        "below_threshold_len(10, test_data[\"document\"])\n",
        "below_threshold_len(8, test_data[\"document\"])"
      ]
    },
    {
      "cell_type": "markdown",
      "id": "e109c41a",
      "metadata": {
        "id": "e109c41a"
      },
      "source": [
        "### **2-2-6. train_data, test_data 데이터 분포 길이 조정 함수**"
      ]
    },
    {
      "cell_type": "code",
      "execution_count": null,
      "id": "27dab6cd",
      "metadata": {
        "id": "27dab6cd"
      },
      "outputs": [],
      "source": [
        "def filt_length(data, min_len, max_len):\n",
        "    df = train_data.copy()\n",
        "    df[\"length\"] = df[\"document\"].apply(lambda x: len(x))\n",
        "    \n",
        "    df = df.loc[df[\"length\"] >= min_len]\n",
        "    df = df.loc[df[\"length\"] <= max_len]\n",
        "    \n",
        "    df.drop([\"length\"], axis = \"columns\", inplace=True)\n",
        "    return df"
      ]
    },
    {
      "cell_type": "markdown",
      "id": "748ace5a",
      "metadata": {
        "id": "748ace5a"
      },
      "source": [
        "### **2-2-7. train_data, test_data 데이터 분포 길이 조정**"
      ]
    },
    {
      "cell_type": "markdown",
      "id": "357bceb7",
      "metadata": {
        "id": "357bceb7"
      },
      "source": [
        "**test_data와 train_data의 상위 5%, 하위 5% 정도를 제거한 범위인 8 - 110 범위의 데이터만 사용**"
      ]
    },
    {
      "cell_type": "code",
      "execution_count": null,
      "id": "786e64ad",
      "metadata": {
        "id": "786e64ad"
      },
      "outputs": [],
      "source": [
        "min_len, max_len = 8, 110\n",
        "\n",
        "train_data = filt_length(train_data, min_len = min_len, max_len = max_len)\n",
        "test_data = filt_length(test_data, min_len = min_len, max_len = max_len)\n",
        "\n",
        "y_train = np.array(train_data[\"label\"])\n",
        "y_test = np.array(test_data[\"label\"])"
      ]
    },
    {
      "cell_type": "markdown",
      "id": "8de8fbc7",
      "metadata": {
        "id": "8de8fbc7"
      },
      "source": [
        "### **2-2-8. 데이터 분포 조정 후 train_data 데이터 분포 길이 확인 및 시각화**"
      ]
    },
    {
      "cell_type": "code",
      "execution_count": null,
      "id": "2a5a98d6",
      "metadata": {
        "id": "2a5a98d6",
        "outputId": "1b26fd90-dd17-4b75-967e-17b617137d0b"
      },
      "outputs": [
        {
          "name": "stderr",
          "output_type": "stream",
          "text": [
            "C:\\Users\\96452\\AppData\\Local\\Temp\\ipykernel_13424\\324541869.py:15: DeprecationWarning: `np.int` is a deprecated alias for the builtin `int`. To silence this warning, use `int` by itself. Doing this will not modify any behavior and is safe. When replacing `np.int`, you may wish to use e.g. `np.int64` or `np.int32` to specify the precision. If you wish to review your current use, check the release note link for additional information.\n",
            "Deprecated in NumPy 1.20; for more details and guidance: https://numpy.org/devdocs/release/1.20.0-notes.html#deprecations\n",
            "  sentence_length = np.zeros((max_len), dtype=np.int)\n"
          ]
        },
        {
          "data": {
            "image/png": "[encoded data removed]",
            "text/plain": [
              "<Figure size 432x288 with 1 Axes>"
            ]
          },
          "metadata": {
            "needs_background": "light"
          },
          "output_type": "display_data"
        },
        {
          "name": "stdout",
          "output_type": "stream",
          "text": [
            "전체 문장 수: 132836\n",
            "최단 문장 길이: 8\n",
            "최장 문장 길이: 110\n",
            "평균 문장 길이: 32\n"
          ]
        }
      ],
      "source": [
        "draw_sentence_length(train_data[\"document\"], title = \"train data\")"
      ]
    },
    {
      "cell_type": "markdown",
      "id": "08767235",
      "metadata": {
        "id": "08767235"
      },
      "source": [
        "### **2-2-9. 데이터 분포 조정 후 test_data 데이터 분포 길이 확인 및 시각화**"
      ]
    },
    {
      "cell_type": "code",
      "execution_count": null,
      "id": "ad3183cc",
      "metadata": {
        "id": "ad3183cc",
        "outputId": "9ac6b447-a910-47c6-9805-da9fc3d269c4"
      },
      "outputs": [
        {
          "name": "stderr",
          "output_type": "stream",
          "text": [
            "C:\\Users\\96452\\AppData\\Local\\Temp\\ipykernel_13424\\324541869.py:15: DeprecationWarning: `np.int` is a deprecated alias for the builtin `int`. To silence this warning, use `int` by itself. Doing this will not modify any behavior and is safe. When replacing `np.int`, you may wish to use e.g. `np.int64` or `np.int32` to specify the precision. If you wish to review your current use, check the release note link for additional information.\n",
            "Deprecated in NumPy 1.20; for more details and guidance: https://numpy.org/devdocs/release/1.20.0-notes.html#deprecations\n",
            "  sentence_length = np.zeros((max_len), dtype=np.int)\n"
          ]
        },
        {
          "data": {
            "image/png": "[encoded data removed]",
            "text/plain": [
              "<Figure size 432x288 with 1 Axes>"
            ]
          },
          "metadata": {
            "needs_background": "light"
          },
          "output_type": "display_data"
        },
        {
          "name": "stdout",
          "output_type": "stream",
          "text": [
            "전체 문장 수: 132836\n",
            "최단 문장 길이: 8\n",
            "최장 문장 길이: 110\n",
            "평균 문장 길이: 32\n"
          ]
        }
      ],
      "source": [
        "draw_sentence_length(test_data[\"document\"], title = \"test data\")"
      ]
    },
    {
      "cell_type": "markdown",
      "id": "d77f3d2d",
      "metadata": {
        "id": "d77f3d2d"
      },
      "source": [
        "---"
      ]
    },
    {
      "cell_type": "markdown",
      "id": "77cc9085",
      "metadata": {
        "id": "77cc9085"
      },
      "source": [
        "# **3. 토큰화**"
      ]
    },
    {
      "cell_type": "markdown",
      "id": "6ef56912",
      "metadata": {
        "id": "6ef56912"
      },
      "source": [
        "## **3-1. 공백 기반 토큰화**"
      ]
    },
    {
      "cell_type": "markdown",
      "id": "170c0af4",
      "metadata": {
        "id": "170c0af4"
      },
      "source": [
        "### **3-1-1. 공백 기반 토큰화 함수**"
      ]
    },
    {
      "cell_type": "code",
      "execution_count": null,
      "id": "8653d324",
      "metadata": {
        "id": "8653d324"
      },
      "outputs": [],
      "source": [
        "tokenizer = tf.keras.preprocessing.text.Tokenizer(filters='')\n",
        "\n",
        "def get_split_tokenize(data):\n",
        "    mecab_corpus = []\n",
        "    \n",
        "    for sentence in data:\n",
        "        mecab_corpus.append(sentence.split())\n",
        "\n",
        "    tokenizer.fit_on_texts(mecab_corpus)\n",
        "    mecab_tensor = tokenizer.texts_to_sequences(mecab_corpus)\n",
        "    mecab_tensor = tf.keras.preprocessing.sequence.pad_sequences(mecab_tensor, padding='post', maxlen=max_len)\n",
        "    return mecab_tensor"
      ]
    },
    {
      "cell_type": "markdown",
      "id": "bcfc60e1",
      "metadata": {
        "id": "bcfc60e1"
      },
      "source": [
        "### **3-1-2. 단어 크기 확인**"
      ]
    },
    {
      "cell_type": "code",
      "execution_count": null,
      "id": "859a9a33",
      "metadata": {
        "id": "859a9a33",
        "outputId": "0c514eb9-6ade-4d96-99b1-769d44e6136e"
      },
      "outputs": [
        {
          "name": "stdout",
          "output_type": "stream",
          "text": [
            "단어 사전 크기: 300566\n"
          ]
        }
      ],
      "source": [
        "X_train = get_split_tokenize(train_data[\"document\"])\n",
        "split_X_test = get_split_tokenize(test_data[\"document\"])\n",
        "\n",
        "print(\"단어 사전 크기:\", len(tokenizer.word_index))"
      ]
    },
    {
      "cell_type": "markdown",
      "id": "605fba7b",
      "metadata": {
        "id": "605fba7b"
      },
      "source": [
        "### **3-1-3. 데이터 분할**"
      ]
    },
    {
      "cell_type": "code",
      "execution_count": null,
      "id": "fb2313bb",
      "metadata": {
        "id": "fb2313bb"
      },
      "outputs": [],
      "source": [
        "split_train_input, split_val_input, split_train_target, split_val_target = \\\n",
        "    train_test_split(X_train, y_train, test_size=0.2, random_state=2525)"
      ]
    },
    {
      "cell_type": "markdown",
      "id": "6850bcdd",
      "metadata": {
        "id": "6850bcdd"
      },
      "source": [
        "## **3-2. Okt을 활용한 형태소 기반 토큰화**"
      ]
    },
    {
      "cell_type": "markdown",
      "id": "c96bcfed",
      "metadata": {
        "id": "c96bcfed"
      },
      "source": [
        "###  **3-2-1. Okt 토큰화 함수**"
      ]
    },
    {
      "cell_type": "code",
      "execution_count": null,
      "id": "73a351fa",
      "metadata": {
        "id": "73a351fa"
      },
      "outputs": [],
      "source": [
        "tokenizer = tf.keras.preprocessing.text.Tokenizer(filters='')\n",
        "m = Okt()\n",
        "\n",
        "def get_Okt_tokenize(data):\n",
        "    Okt_corpus = []\n",
        "    \n",
        "    for sentence in data:\n",
        "        Okt_corpus.append(m.morphs(sentence))\n",
        "\n",
        "    tokenizer.fit_on_texts(Okt_corpus)\n",
        "    Okt_tensor = tokenizer.texts_to_sequences(Okt_corpus)\n",
        "    Okt_tensor = tf.keras.preprocessing.sequence.pad_sequences(Okt_tensor, padding ='post', maxlen = max_len)\n",
        "    return Okt_tensor"
      ]
    },
    {
      "cell_type": "markdown",
      "id": "4bac10e7",
      "metadata": {
        "id": "4bac10e7"
      },
      "source": [
        "### **3-2-2. 단어 사전 크기 확인**"
      ]
    },
    {
      "cell_type": "code",
      "execution_count": null,
      "id": "ba0ff3ec",
      "metadata": {
        "id": "ba0ff3ec",
        "outputId": "4f22242b-aa9a-4b3a-9323-20d586482fb8"
      },
      "outputs": [
        {
          "name": "stdout",
          "output_type": "stream",
          "text": [
            "단어 사전 크기: 91341\n"
          ]
        }
      ],
      "source": [
        "X_train = get_Okt_tokenize(train_data[\"document\"])\n",
        "Okt_X_test = get_Okt_tokenize(test_data[\"document\"])\n",
        "\n",
        "print(\"단어 사전 크기:\", len(tokenizer.word_index))"
      ]
    },
    {
      "cell_type": "markdown",
      "id": "902f038a",
      "metadata": {
        "id": "902f038a"
      },
      "source": [
        "### **3-2-3. 데이터 분할**"
      ]
    },
    {
      "cell_type": "code",
      "execution_count": null,
      "id": "9aa74de2",
      "metadata": {
        "id": "9aa74de2"
      },
      "outputs": [],
      "source": [
        "Okt_train_input, Okt_val_input, Okt_train_target, Okt_val_target = \\\n",
        "    train_test_split(X_train, y_train, test_size=0.2, random_state = 2525)"
      ]
    },
    {
      "cell_type": "markdown",
      "id": "f6825dd0",
      "metadata": {
        "id": "f6825dd0"
      },
      "source": [
        "## **3-3. SentencePiece 기반 토큰화**"
      ]
    },
    {
      "cell_type": "markdown",
      "id": "08ed01d8",
      "metadata": {
        "id": "08ed01d8"
      },
      "source": [
        "### **3-3-1. SentencePiece 학습 및 저장**"
      ]
    },
    {
      "cell_type": "code",
      "execution_count": null,
      "id": "99565f1e",
      "metadata": {
        "id": "99565f1e"
      },
      "outputs": [],
      "source": [
        "temp_file = 'C:/Users/96452/00_work/NLP-02/data/korean-english-park.train.ko.temp'\n",
        "vocab_size = 8000\n",
        "\n",
        "with open(temp_file, 'w', encoding = 'utf-8') as f:\n",
        "    for row in train_data['document']:\n",
        "        f.write(str(row) + '\\n')\n",
        "\n",
        "spm.SentencePieceTrainer.Train(\n",
        "    '--input={} --model_prefix=kor_spm_unigram --vocab_size={}'.format(temp_file, vocab_size)    \n",
        ")\n",
        "\n",
        "spm.SentencePieceTrainer.Train(\n",
        "    '--input={} --model_prefix=kor_spm_bep --model_type=bpe --vocab_size={}'.format(temp_file, vocab_size)    \n",
        ")"
      ]
    },
    {
      "cell_type": "markdown",
      "id": "d0afe335",
      "metadata": {
        "id": "d0afe335"
      },
      "source": [
        "### **3-3-2. SentencePiece 모델 테스트 함수**"
      ]
    },
    {
      "cell_type": "code",
      "execution_count": null,
      "id": "adb9f6c8",
      "metadata": {
        "id": "adb9f6c8"
      },
      "outputs": [],
      "source": [
        "def test_performance(model):\n",
        "    s = spm.SentencePieceProcessor()\n",
        "    s.Load(model)\n",
        "\n",
        "    # SentencePiece를 활용한 sentence -> encoding\n",
        "    tokensIDs = s.EncodeAsIds('아버지가방에들어가신다.')\n",
        "    print(tokensIDs)\n",
        "\n",
        "    # SentencePiece를 활용한 sentence -> encoded pieces\n",
        "    print(s.SampleEncodeAsPieces('아버지가방에들어가신다.',1, 0.0))\n",
        "\n",
        "    # SentencePiece를 활용한 encoding -> sentence 복원\n",
        "    print(s.DecodeIds(tokensIDs))"
      ]
    },
    {
      "cell_type": "markdown",
      "id": "56358deb",
      "metadata": {
        "id": "56358deb"
      },
      "source": [
        "### **3-3-2. unigram 확인**"
      ]
    },
    {
      "cell_type": "code",
      "execution_count": null,
      "id": "886b671b",
      "metadata": {
        "id": "886b671b",
        "outputId": "fb7c7457-0724-4694-d40c-80e2b5d74d09"
      },
      "outputs": [
        {
          "data": {
            "text/html": [
              "<div>\n",
              "<style scoped>\n",
              "    .dataframe tbody tr th:only-of-type {\n",
              "        vertical-align: middle;\n",
              "    }\n",
              "\n",
              "    .dataframe tbody tr th {\n",
              "        vertical-align: top;\n",
              "    }\n",
              "\n",
              "    .dataframe thead th {\n",
              "        text-align: right;\n",
              "    }\n",
              "</style>\n",
              "<table border=\"1\" class=\"dataframe\">\n",
              "  <thead>\n",
              "    <tr style=\"text-align: right;\">\n",
              "      <th></th>\n",
              "      <th>0</th>\n",
              "      <th>1</th>\n",
              "    </tr>\n",
              "  </thead>\n",
              "  <tbody>\n",
              "    <tr>\n",
              "      <th>0</th>\n",
              "      <td>&lt;unk&gt;</td>\n",
              "      <td>0.00000</td>\n",
              "    </tr>\n",
              "    <tr>\n",
              "      <th>1</th>\n",
              "      <td>&lt;s&gt;</td>\n",
              "      <td>0.00000</td>\n",
              "    </tr>\n",
              "    <tr>\n",
              "      <th>2</th>\n",
              "      <td>&lt;/s&gt;</td>\n",
              "      <td>0.00000</td>\n",
              "    </tr>\n",
              "    <tr>\n",
              "      <th>3</th>\n",
              "      <td>▁</td>\n",
              "      <td>-3.17945</td>\n",
              "    </tr>\n",
              "    <tr>\n",
              "      <th>4</th>\n",
              "      <td>.</td>\n",
              "      <td>-3.47926</td>\n",
              "    </tr>\n",
              "    <tr>\n",
              "      <th>5</th>\n",
              "      <td>..</td>\n",
              "      <td>-4.32507</td>\n",
              "    </tr>\n",
              "    <tr>\n",
              "      <th>6</th>\n",
              "      <td>이</td>\n",
              "      <td>-4.42715</td>\n",
              "    </tr>\n",
              "    <tr>\n",
              "      <th>7</th>\n",
              "      <td>▁영화</td>\n",
              "      <td>-4.50779</td>\n",
              "    </tr>\n",
              "    <tr>\n",
              "      <th>8</th>\n",
              "      <td>...</td>\n",
              "      <td>-4.56210</td>\n",
              "    </tr>\n",
              "    <tr>\n",
              "      <th>9</th>\n",
              "      <td>의</td>\n",
              "      <td>-4.71342</td>\n",
              "    </tr>\n",
              "  </tbody>\n",
              "</table>\n",
              "</div>"
            ],
            "text/plain": [
              "       0        1\n",
              "0  <unk>  0.00000\n",
              "1    <s>  0.00000\n",
              "2   </s>  0.00000\n",
              "3      ▁ -3.17945\n",
              "4      . -3.47926\n",
              "5     .. -4.32507\n",
              "6      이 -4.42715\n",
              "7    ▁영화 -4.50779\n",
              "8    ... -4.56210\n",
              "9      의 -4.71342"
            ]
          },
          "execution_count": 73,
          "metadata": {},
          "output_type": "execute_result"
        }
      ],
      "source": [
        "unigram_vocab_list = pd.read_csv('kor_spm_unigram.vocab', sep='\\t', header=None, quoting=csv.QUOTE_NONE)\n",
        "unigram_vocab_list[:10]"
      ]
    },
    {
      "cell_type": "code",
      "execution_count": null,
      "id": "f44c5ad3",
      "metadata": {
        "id": "f44c5ad3",
        "outputId": "ed48ad2a-94c3-4e3f-9c1b-6bbe439fbd87"
      },
      "outputs": [
        {
          "name": "stdout",
          "output_type": "stream",
          "text": [
            "[1441, 10, 398, 15, 1337, 10, 141, 17, 4]\n",
            "['▁아버지', '가', '방', '에', '들어', '가', '신', '다', '.']\n",
            "아버지가방에들어가신다.\n"
          ]
        }
      ],
      "source": [
        "test_performance(model = 'kor_spm_unigram.model')"
      ]
    },
    {
      "cell_type": "markdown",
      "id": "71921d0c",
      "metadata": {
        "id": "71921d0c"
      },
      "source": [
        "### **3-3-3. bep 확인**"
      ]
    },
    {
      "cell_type": "code",
      "execution_count": null,
      "id": "aba6f535",
      "metadata": {
        "id": "aba6f535",
        "outputId": "f6d75a5d-9ff9-40c5-8007-9c7cffe4e770"
      },
      "outputs": [
        {
          "data": {
            "text/html": [
              "<div>\n",
              "<style scoped>\n",
              "    .dataframe tbody tr th:only-of-type {\n",
              "        vertical-align: middle;\n",
              "    }\n",
              "\n",
              "    .dataframe tbody tr th {\n",
              "        vertical-align: top;\n",
              "    }\n",
              "\n",
              "    .dataframe thead th {\n",
              "        text-align: right;\n",
              "    }\n",
              "</style>\n",
              "<table border=\"1\" class=\"dataframe\">\n",
              "  <thead>\n",
              "    <tr style=\"text-align: right;\">\n",
              "      <th></th>\n",
              "      <th>0</th>\n",
              "      <th>1</th>\n",
              "    </tr>\n",
              "  </thead>\n",
              "  <tbody>\n",
              "    <tr>\n",
              "      <th>0</th>\n",
              "      <td>&lt;unk&gt;</td>\n",
              "      <td>0</td>\n",
              "    </tr>\n",
              "    <tr>\n",
              "      <th>1</th>\n",
              "      <td>&lt;s&gt;</td>\n",
              "      <td>0</td>\n",
              "    </tr>\n",
              "    <tr>\n",
              "      <th>2</th>\n",
              "      <td>&lt;/s&gt;</td>\n",
              "      <td>0</td>\n",
              "    </tr>\n",
              "    <tr>\n",
              "      <th>3</th>\n",
              "      <td>..</td>\n",
              "      <td>0</td>\n",
              "    </tr>\n",
              "    <tr>\n",
              "      <th>4</th>\n",
              "      <td>영화</td>\n",
              "      <td>-1</td>\n",
              "    </tr>\n",
              "    <tr>\n",
              "      <th>5</th>\n",
              "      <td>▁영화</td>\n",
              "      <td>-2</td>\n",
              "    </tr>\n",
              "    <tr>\n",
              "      <th>6</th>\n",
              "      <td>▁이</td>\n",
              "      <td>-3</td>\n",
              "    </tr>\n",
              "    <tr>\n",
              "      <th>7</th>\n",
              "      <td>...</td>\n",
              "      <td>-4</td>\n",
              "    </tr>\n",
              "    <tr>\n",
              "      <th>8</th>\n",
              "      <td>▁아</td>\n",
              "      <td>-5</td>\n",
              "    </tr>\n",
              "    <tr>\n",
              "      <th>9</th>\n",
              "      <td>▁재</td>\n",
              "      <td>-6</td>\n",
              "    </tr>\n",
              "  </tbody>\n",
              "</table>\n",
              "</div>"
            ],
            "text/plain": [
              "       0  1\n",
              "0  <unk>  0\n",
              "1    <s>  0\n",
              "2   </s>  0\n",
              "3     ..  0\n",
              "4     영화 -1\n",
              "5    ▁영화 -2\n",
              "6     ▁이 -3\n",
              "7    ... -4\n",
              "8     ▁아 -5\n",
              "9     ▁재 -6"
            ]
          },
          "execution_count": 75,
          "metadata": {},
          "output_type": "execute_result"
        }
      ],
      "source": [
        "bep_vocab_list = pd.read_csv('kor_spm_bep.vocab', sep='\\t', header=None, quoting=csv.QUOTE_NONE)\n",
        "bep_vocab_list[:10]"
      ]
    },
    {
      "cell_type": "code",
      "execution_count": null,
      "id": "cea27f97",
      "metadata": {
        "id": "cea27f97",
        "outputId": "e84a2f15-d155-44b3-fcb9-e63d77b035ab"
      },
      "outputs": [
        {
          "name": "stdout",
          "output_type": "stream",
          "text": [
            "[5028, 888, 6556, 6294, 1450, 6290, 6396, 6284, 6282]\n",
            "['▁아버', '지가', '방', '에', '들어', '가', '신', '다', '.']\n",
            "아버지가방에들어가신다.\n"
          ]
        }
      ],
      "source": [
        "test_performance(model = 'kor_spm_bep.model')"
      ]
    },
    {
      "cell_type": "markdown",
      "id": "eff40667",
      "metadata": {
        "id": "eff40667"
      },
      "source": [
        "### **3-3-4. SentencePiece 토큰화 함수**"
      ]
    },
    {
      "cell_type": "code",
      "execution_count": null,
      "id": "84d06c4b",
      "metadata": {
        "id": "84d06c4b"
      },
      "outputs": [],
      "source": [
        "def sp_tokenize(s, corpus):\n",
        "\n",
        "    tensor = []\n",
        "\n",
        "    for sen in corpus:\n",
        "        tensor.append(s.EncodeAsIds(sen))\n",
        "\n",
        "    with open(\"C:/Users/96452/00_work/NLP-02/kor_spm_bep.vocab\".format(spm), 'r', encoding = 'utf-8') as f: \n",
        "        vocab = f.readlines()\n",
        "\n",
        "    word_index = {}\n",
        "    index_word = {}\n",
        "\n",
        "    for idx, line in enumerate(vocab):\n",
        "        word = line.split(\"\\t\")[0]\n",
        "\n",
        "        word_index.update({idx:word})\n",
        "        index_word.update({word:idx})\n",
        "\n",
        "    tensor = tf.keras.preprocessing.sequence.pad_sequences(tensor, padding='pre', maxlen=max_len)\n",
        "\n",
        "    return tensor, word_index, index_word"
      ]
    },
    {
      "cell_type": "markdown",
      "id": "dc8bcfa6",
      "metadata": {
        "id": "dc8bcfa6"
      },
      "source": [
        "### **3-3-5. unigram 토큰화 및 데이터 분할**"
      ]
    },
    {
      "cell_type": "code",
      "execution_count": null,
      "id": "f684e3bf",
      "metadata": {
        "scrolled": true,
        "id": "f684e3bf"
      },
      "outputs": [],
      "source": [
        "u = spm.SentencePieceProcessor()\n",
        "u.Load('kor_spm_unigram.model') \n",
        "\n",
        "X_train, X_train_word_index, X_train_index_word = sp_tokenize(u, train_data['document'])\n",
        "uni_X_test, X_test_word_index, X_test_index_word = sp_tokenize(u, test_data['document'])\n",
        "\n",
        "uni_train_input, uni_val_input, uni_train_target, uni_val_target = \\\n",
        "    train_test_split(X_train, y_train, test_size=0.2, random_state = 2525)"
      ]
    },
    {
      "cell_type": "markdown",
      "id": "dbbfdc37",
      "metadata": {
        "id": "dbbfdc37"
      },
      "source": [
        "### **3-3-6. bpe 토큰화 및 데이터 분할**"
      ]
    },
    {
      "cell_type": "code",
      "execution_count": null,
      "id": "39153933",
      "metadata": {
        "id": "39153933"
      },
      "outputs": [],
      "source": [
        "b = spm.SentencePieceProcessor()\n",
        "b.Load('kor_spm_bep.model') \n",
        "\n",
        "X_train, X_train_word_index, X_train_index_word = sp_tokenize(b, train_data['document'])\n",
        "bpe_X_test, X_test_word_index, X_test_index_word = sp_tokenize(b, test_data['document'])\n",
        "\n",
        "bpe_train_input, bpe_val_input, bpe_train_target, bpe_val_target = \\\n",
        "    train_test_split(X_train, y_train, test_size=0.2, random_state = 2525)"
      ]
    },
    {
      "cell_type": "markdown",
      "id": "3d1cd3ca",
      "metadata": {
        "id": "3d1cd3ca"
      },
      "source": [
        "---"
      ]
    },
    {
      "cell_type": "markdown",
      "id": "ccd43f4a",
      "metadata": {
        "id": "ccd43f4a"
      },
      "source": [
        "# **4. 모델 설계 및 학습**"
      ]
    },
    {
      "cell_type": "markdown",
      "id": "1cb477d8",
      "metadata": {
        "id": "1cb477d8"
      },
      "source": [
        "## **4-1. 모델 설계**"
      ]
    },
    {
      "cell_type": "code",
      "execution_count": null,
      "id": "405acab7",
      "metadata": {
        "id": "405acab7"
      },
      "outputs": [],
      "source": [
        "vocab_size = 8000\n",
        "word_vector_dim = 128"
      ]
    },
    {
      "cell_type": "code",
      "execution_count": null,
      "id": "f93fa143",
      "metadata": {
        "id": "f93fa143"
      },
      "outputs": [],
      "source": [
        "def get_model(vocab_size):\n",
        "    model_1d = tf.keras.Sequential()\n",
        "    model_1d.add(tf.keras.layers.Embedding(vocab_size, 16, input_shape=(None,)))\n",
        "    model_1d.add(tf.keras.layers.Conv1D(16, 7, activation='relu'))\n",
        "    model_1d.add(tf.keras.layers.MaxPooling1D(5))\n",
        "    model_1d.add(tf.keras.layers.Conv1D(16, 7, activation='relu'))\n",
        "    model_1d.add(tf.keras.layers.GlobalMaxPooling1D())\n",
        "    model_1d.add(tf.keras.layers.Dense(8, activation='tanh'))\n",
        "    model_1d.add(tf.keras.layers.Dense(1, activation='sigmoid'))  # 최종 출력은 긍정/부정을 나타내는 1dim 입니다.\n",
        "   \n",
        "    model_1d.compile(optimizer='adam', loss='binary_crossentropy', metrics=['accuracy'])\n",
        "    \n",
        "    model_1d.summary()\n",
        "    print('\\n')\n",
        "    \n",
        "    return model_1d"
      ]
    },
    {
      "cell_type": "markdown",
      "id": "fd8fe799",
      "metadata": {
        "id": "fd8fe799"
      },
      "source": [
        "## **4-2. 모델 학습**"
      ]
    },
    {
      "cell_type": "markdown",
      "id": "1812d3aa",
      "metadata": {
        "id": "1812d3aa"
      },
      "source": [
        "### **4-2-1. 공백 기반 토큰화 - 전체**"
      ]
    },
    {
      "cell_type": "code",
      "execution_count": null,
      "id": "be2cbadd",
      "metadata": {
        "id": "be2cbadd",
        "outputId": "33d81d15-055e-4efc-8686-6a2bdb255048"
      },
      "outputs": [
        {
          "name": "stdout",
          "output_type": "stream",
          "text": [
            "Model: \"sequential_24\"\n",
            "_________________________________________________________________\n",
            "Layer (type)                 Output Shape              Param #   \n",
            "=================================================================\n",
            "embedding_24 (Embedding)     (None, None, 16)          4809056   \n",
            "_________________________________________________________________\n",
            "conv1d_8 (Conv1D)            (None, None, 16)          1808      \n",
            "_________________________________________________________________\n",
            "max_pooling1d_4 (MaxPooling1 (None, None, 16)          0         \n",
            "_________________________________________________________________\n",
            "conv1d_9 (Conv1D)            (None, None, 16)          1808      \n",
            "_________________________________________________________________\n",
            "global_max_pooling1d_4 (Glob (None, 16)                0         \n",
            "_________________________________________________________________\n",
            "dense_45 (Dense)             (None, 8)                 136       \n",
            "_________________________________________________________________\n",
            "dense_46 (Dense)             (None, 1)                 9         \n",
            "=================================================================\n",
            "Total params: 4,812,817\n",
            "Trainable params: 4,812,817\n",
            "Non-trainable params: 0\n",
            "_________________________________________________________________\n",
            "\n",
            "\n",
            "Epoch 1/30\n",
            "3321/3321 [==============================] - 9s 3ms/step - loss: 0.4845 - accuracy: 0.7439 - val_loss: 0.4200 - val_accuracy: 0.7960\n",
            "Epoch 2/30\n",
            "3321/3321 [==============================] - 8s 2ms/step - loss: 0.1402 - accuracy: 0.9515 - val_loss: 0.5264 - val_accuracy: 0.7780\n",
            "Epoch 3/30\n",
            "3321/3321 [==============================] - 8s 2ms/step - loss: 0.0282 - accuracy: 0.9912 - val_loss: 0.6608 - val_accuracy: 0.7712\n",
            "Epoch 4/30\n",
            "3321/3321 [==============================] - 8s 2ms/step - loss: 0.0083 - accuracy: 0.9976 - val_loss: 0.8599 - val_accuracy: 0.7669\n",
            "Epoch 5/30\n",
            "3321/3321 [==============================] - 8s 2ms/step - loss: 0.0036 - accuracy: 0.9990 - val_loss: 0.9929 - val_accuracy: 0.7683\n",
            "Epoch 6/30\n",
            "3321/3321 [==============================] - 8s 2ms/step - loss: 0.0020 - accuracy: 0.9994 - val_loss: 1.0451 - val_accuracy: 0.7702\n",
            "Epoch 00006: early stopping\n"
          ]
        },
        {
          "data": {
            "text/plain": [
              "<keras.callbacks.History at 0x2692cd3b730>"
            ]
          },
          "execution_count": 89,
          "metadata": {},
          "output_type": "execute_result"
        }
      ],
      "source": [
        "early = EarlyStopping(monitor = 'val_loss', mode = 'min', verbose = 1, patience = 5)\n",
        "\n",
        "split_model = get_model(300566)\n",
        "split_model.fit(split_train_input, split_train_target, epochs = 30, validation_data = (split_val_input, split_val_target), callbacks = [early])"
      ]
    },
    {
      "cell_type": "markdown",
      "id": "81a8d225",
      "metadata": {
        "id": "81a8d225"
      },
      "source": [
        "### **4-2-2. 공백 기반 토큰화 - 8000**"
      ]
    },
    {
      "cell_type": "code",
      "execution_count": null,
      "id": "46689844",
      "metadata": {
        "id": "46689844",
        "outputId": "d6e921a3-29cb-4c7e-f4c7-bc4a588f8334"
      },
      "outputs": [
        {
          "name": "stdout",
          "output_type": "stream",
          "text": [
            "Model: \"sequential_26\"\n",
            "_________________________________________________________________\n",
            "Layer (type)                 Output Shape              Param #   \n",
            "=================================================================\n",
            "embedding_26 (Embedding)     (None, None, 16)          128000    \n",
            "_________________________________________________________________\n",
            "conv1d_12 (Conv1D)           (None, None, 16)          1808      \n",
            "_________________________________________________________________\n",
            "max_pooling1d_6 (MaxPooling1 (None, None, 16)          0         \n",
            "_________________________________________________________________\n",
            "conv1d_13 (Conv1D)           (None, None, 16)          1808      \n",
            "_________________________________________________________________\n",
            "global_max_pooling1d_6 (Glob (None, 16)                0         \n",
            "_________________________________________________________________\n",
            "dense_49 (Dense)             (None, 8)                 136       \n",
            "_________________________________________________________________\n",
            "dense_50 (Dense)             (None, 1)                 9         \n",
            "=================================================================\n",
            "Total params: 131,761\n",
            "Trainable params: 131,761\n",
            "Non-trainable params: 0\n",
            "_________________________________________________________________\n",
            "\n",
            "\n",
            "Epoch 1/30\n",
            "3321/3321 [==============================] - 8s 2ms/step - loss: 0.4998 - accuracy: 0.7320 - val_loss: 0.4570 - val_accuracy: 0.7654\n",
            "Epoch 2/30\n",
            "3321/3321 [==============================] - 7s 2ms/step - loss: 0.4169 - accuracy: 0.7881 - val_loss: 0.4488 - val_accuracy: 0.7717\n",
            "Epoch 3/30\n",
            "3321/3321 [==============================] - 7s 2ms/step - loss: 0.3758 - accuracy: 0.8118 - val_loss: 0.4663 - val_accuracy: 0.7666\n",
            "Epoch 4/30\n",
            "3321/3321 [==============================] - 7s 2ms/step - loss: 0.3307 - accuracy: 0.8355 - val_loss: 0.5030 - val_accuracy: 0.7595\n",
            "Epoch 5/30\n",
            "3321/3321 [==============================] - 7s 2ms/step - loss: 0.2886 - accuracy: 0.8543 - val_loss: 0.5762 - val_accuracy: 0.7465\n",
            "Epoch 6/30\n",
            "3321/3321 [==============================] - 7s 2ms/step - loss: 0.2578 - accuracy: 0.8675 - val_loss: 0.6278 - val_accuracy: 0.7489\n",
            "Epoch 7/30\n",
            "3321/3321 [==============================] - 7s 2ms/step - loss: 0.2358 - accuracy: 0.8775 - val_loss: 0.7158 - val_accuracy: 0.7360\n",
            "Epoch 00007: early stopping\n"
          ]
        },
        {
          "data": {
            "text/plain": [
              "<keras.callbacks.History at 0x265ebe2b700>"
            ]
          },
          "execution_count": 93,
          "metadata": {},
          "output_type": "execute_result"
        }
      ],
      "source": [
        "early = EarlyStopping(monitor = 'val_loss', mode = 'min', verbose = 1, patience = 5)\n",
        "\n",
        "split_cut_model = get_model(8000)\n",
        "split_cut_model.fit(split_train_input, split_train_target, epochs = 30, validation_data = (split_val_input, split_val_target), callbacks = [early])"
      ]
    },
    {
      "cell_type": "markdown",
      "id": "afeab7f9",
      "metadata": {
        "id": "afeab7f9"
      },
      "source": [
        "### **4-2-3. Okt를 활용한 형태소 기반 토큰화 - 전체**"
      ]
    },
    {
      "cell_type": "code",
      "execution_count": null,
      "id": "29a369b5",
      "metadata": {
        "id": "29a369b5",
        "outputId": "8cedb73a-f325-4eea-ba21-d1ae49c4ab22"
      },
      "outputs": [
        {
          "name": "stdout",
          "output_type": "stream",
          "text": [
            "Model: \"sequential_25\"\n",
            "_________________________________________________________________\n",
            "Layer (type)                 Output Shape              Param #   \n",
            "=================================================================\n",
            "embedding_25 (Embedding)     (None, None, 16)          1461456   \n",
            "_________________________________________________________________\n",
            "conv1d_10 (Conv1D)           (None, None, 16)          1808      \n",
            "_________________________________________________________________\n",
            "max_pooling1d_5 (MaxPooling1 (None, None, 16)          0         \n",
            "_________________________________________________________________\n",
            "conv1d_11 (Conv1D)           (None, None, 16)          1808      \n",
            "_________________________________________________________________\n",
            "global_max_pooling1d_5 (Glob (None, 16)                0         \n",
            "_________________________________________________________________\n",
            "dense_47 (Dense)             (None, 8)                 136       \n",
            "_________________________________________________________________\n",
            "dense_48 (Dense)             (None, 1)                 9         \n",
            "=================================================================\n",
            "Total params: 1,465,217\n",
            "Trainable params: 1,465,217\n",
            "Non-trainable params: 0\n",
            "_________________________________________________________________\n",
            "\n",
            "\n",
            "Epoch 1/30\n",
            "3321/3321 [==============================] - 10s 3ms/step - loss: 0.3861 - accuracy: 0.8213 - val_loss: 0.3467 - val_accuracy: 0.8481\n",
            "Epoch 2/30\n",
            "3321/3321 [==============================] - 7s 2ms/step - loss: 0.2295 - accuracy: 0.9101 - val_loss: 0.3462 - val_accuracy: 0.8579\n",
            "Epoch 3/30\n",
            "3321/3321 [==============================] - 7s 2ms/step - loss: 0.1267 - accuracy: 0.9548 - val_loss: 0.4104 - val_accuracy: 0.8437\n",
            "Epoch 4/30\n",
            "3321/3321 [==============================] - 7s 2ms/step - loss: 0.0664 - accuracy: 0.9783 - val_loss: 0.5156 - val_accuracy: 0.8342\n",
            "Epoch 5/30\n",
            "3321/3321 [==============================] - 7s 2ms/step - loss: 0.0390 - accuracy: 0.9880 - val_loss: 0.6093 - val_accuracy: 0.8354\n",
            "Epoch 6/30\n",
            "3321/3321 [==============================] - 7s 2ms/step - loss: 0.0258 - accuracy: 0.9920 - val_loss: 0.6999 - val_accuracy: 0.8335\n",
            "Epoch 7/30\n",
            "3321/3321 [==============================] - 7s 2ms/step - loss: 0.0175 - accuracy: 0.9946 - val_loss: 0.7912 - val_accuracy: 0.8249\n",
            "Epoch 00007: early stopping\n"
          ]
        },
        {
          "data": {
            "text/plain": [
              "<keras.callbacks.History at 0x265819c2850>"
            ]
          },
          "execution_count": 90,
          "metadata": {},
          "output_type": "execute_result"
        }
      ],
      "source": [
        "early = EarlyStopping(monitor = 'val_loss', mode = 'min', verbose = 1, patience = 5)\n",
        "\n",
        "Okt_model = get_model(91341)\n",
        "Okt_model.fit(Okt_train_input, Okt_train_target, epochs = 30, validation_data = (Okt_val_input, Okt_val_target), callbacks = [early])"
      ]
    },
    {
      "cell_type": "markdown",
      "id": "b62893bc",
      "metadata": {
        "id": "b62893bc"
      },
      "source": [
        "### **4-2-4. Okt를 활용한 형태소 기반 토큰화 - 8000**"
      ]
    },
    {
      "cell_type": "code",
      "execution_count": null,
      "id": "ffba4f04",
      "metadata": {
        "id": "ffba4f04",
        "outputId": "3b7e78e7-a0da-4715-b252-8d0ce50a846f"
      },
      "outputs": [
        {
          "name": "stdout",
          "output_type": "stream",
          "text": [
            "Model: \"sequential_27\"\n",
            "_________________________________________________________________\n",
            "Layer (type)                 Output Shape              Param #   \n",
            "=================================================================\n",
            "embedding_27 (Embedding)     (None, None, 16)          128000    \n",
            "_________________________________________________________________\n",
            "conv1d_14 (Conv1D)           (None, None, 16)          1808      \n",
            "_________________________________________________________________\n",
            "max_pooling1d_7 (MaxPooling1 (None, None, 16)          0         \n",
            "_________________________________________________________________\n",
            "conv1d_15 (Conv1D)           (None, None, 16)          1808      \n",
            "_________________________________________________________________\n",
            "global_max_pooling1d_7 (Glob (None, 16)                0         \n",
            "_________________________________________________________________\n",
            "dense_51 (Dense)             (None, 8)                 136       \n",
            "_________________________________________________________________\n",
            "dense_52 (Dense)             (None, 1)                 9         \n",
            "=================================================================\n",
            "Total params: 131,761\n",
            "Trainable params: 131,761\n",
            "Non-trainable params: 0\n",
            "_________________________________________________________________\n",
            "\n",
            "\n",
            "Epoch 1/30\n",
            "3321/3321 [==============================] - 7s 2ms/step - loss: 0.3959 - accuracy: 0.8136 - val_loss: 0.3415 - val_accuracy: 0.8498\n",
            "Epoch 2/30\n",
            "3321/3321 [==============================] - 7s 2ms/step - loss: 0.3065 - accuracy: 0.8697 - val_loss: 0.3461 - val_accuracy: 0.8452\n",
            "Epoch 3/30\n",
            "3321/3321 [==============================] - 7s 2ms/step - loss: 0.2577 - accuracy: 0.8936 - val_loss: 0.3528 - val_accuracy: 0.8481\n",
            "Epoch 4/30\n",
            "3321/3321 [==============================] - 7s 2ms/step - loss: 0.2066 - accuracy: 0.9179 - val_loss: 0.3878 - val_accuracy: 0.8418\n",
            "Epoch 5/30\n",
            "3321/3321 [==============================] - 7s 2ms/step - loss: 0.1615 - accuracy: 0.9384 - val_loss: 0.4490 - val_accuracy: 0.8297\n",
            "Epoch 6/30\n",
            "3321/3321 [==============================] - 7s 2ms/step - loss: 0.1281 - accuracy: 0.9518 - val_loss: 0.5020 - val_accuracy: 0.8256\n",
            "Epoch 00006: early stopping\n"
          ]
        },
        {
          "data": {
            "text/plain": [
              "<keras.callbacks.History at 0x26926a1cb20>"
            ]
          },
          "execution_count": 94,
          "metadata": {},
          "output_type": "execute_result"
        }
      ],
      "source": [
        "early = EarlyStopping(monitor = 'val_loss', mode = 'min', verbose = 1, patience = 5)\n",
        "\n",
        "Okt_cut_model = get_model(8000)\n",
        "Okt_cut_model.fit(Okt_train_input, Okt_train_target, epochs = 30, validation_data = (Okt_val_input, Okt_val_target), callbacks = [early])"
      ]
    },
    {
      "cell_type": "markdown",
      "id": "3c4bfe73",
      "metadata": {
        "id": "3c4bfe73"
      },
      "source": [
        "### **4-2-5. SentencePiece - unigram**"
      ]
    },
    {
      "cell_type": "code",
      "execution_count": null,
      "id": "e96224ee",
      "metadata": {
        "id": "e96224ee",
        "outputId": "f3da4963-3343-4f97-f38d-22df43966651"
      },
      "outputs": [
        {
          "name": "stdout",
          "output_type": "stream",
          "text": [
            "Model: \"sequential_22\"\n",
            "_________________________________________________________________\n",
            "Layer (type)                 Output Shape              Param #   \n",
            "=================================================================\n",
            "embedding_22 (Embedding)     (None, None, 16)          128000    \n",
            "_________________________________________________________________\n",
            "conv1d_4 (Conv1D)            (None, None, 16)          1808      \n",
            "_________________________________________________________________\n",
            "max_pooling1d_2 (MaxPooling1 (None, None, 16)          0         \n",
            "_________________________________________________________________\n",
            "conv1d_5 (Conv1D)            (None, None, 16)          1808      \n",
            "_________________________________________________________________\n",
            "global_max_pooling1d_2 (Glob (None, 16)                0         \n",
            "_________________________________________________________________\n",
            "dense_41 (Dense)             (None, 8)                 136       \n",
            "_________________________________________________________________\n",
            "dense_42 (Dense)             (None, 1)                 9         \n",
            "=================================================================\n",
            "Total params: 131,761\n",
            "Trainable params: 131,761\n",
            "Non-trainable params: 0\n",
            "_________________________________________________________________\n",
            "\n",
            "\n",
            "Epoch 1/30\n",
            "3321/3321 [==============================] - 7s 2ms/step - loss: 0.5129 - accuracy: 0.7297 - val_loss: 0.4608 - val_accuracy: 0.7707\n",
            "Epoch 2/30\n",
            "3321/3321 [==============================] - 7s 2ms/step - loss: 0.4206 - accuracy: 0.7950 - val_loss: 0.4592 - val_accuracy: 0.7741\n",
            "Epoch 3/30\n",
            "3321/3321 [==============================] - 7s 2ms/step - loss: 0.3582 - accuracy: 0.8312 - val_loss: 0.4985 - val_accuracy: 0.7603\n",
            "Epoch 4/30\n",
            "3321/3321 [==============================] - 7s 2ms/step - loss: 0.2918 - accuracy: 0.8650 - val_loss: 0.5611 - val_accuracy: 0.7507\n",
            "Epoch 5/30\n",
            "3321/3321 [==============================] - 7s 2ms/step - loss: 0.2387 - accuracy: 0.8897 - val_loss: 0.6250 - val_accuracy: 0.7496\n",
            "Epoch 6/30\n",
            "3321/3321 [==============================] - 7s 2ms/step - loss: 0.2016 - accuracy: 0.9056 - val_loss: 0.7168 - val_accuracy: 0.7435\n",
            "Epoch 7/30\n",
            "3321/3321 [==============================] - 7s 2ms/step - loss: 0.1768 - accuracy: 0.9162 - val_loss: 0.8024 - val_accuracy: 0.7407\n",
            "Epoch 00007: early stopping\n"
          ]
        },
        {
          "data": {
            "text/plain": [
              "<keras.callbacks.History at 0x2691fb7bdc0>"
            ]
          },
          "execution_count": 85,
          "metadata": {},
          "output_type": "execute_result"
        }
      ],
      "source": [
        "early = EarlyStopping(monitor = 'val_loss', mode = 'min', verbose = 1, patience = 5)\n",
        "\n",
        "uni_model = get_model(8000)\n",
        "uni_model.fit(uni_train_input, uni_train_target, epochs = 30, validation_data = (uni_val_input, uni_val_target), callbacks = [early])"
      ]
    },
    {
      "cell_type": "markdown",
      "id": "03d9642e",
      "metadata": {
        "id": "03d9642e"
      },
      "source": [
        "### **4-2-6. SentencePiece - bpe**"
      ]
    },
    {
      "cell_type": "code",
      "execution_count": null,
      "id": "047026d3",
      "metadata": {
        "id": "047026d3",
        "outputId": "342de7b0-7a75-4e4c-95e3-292b14d2d1e9"
      },
      "outputs": [
        {
          "name": "stdout",
          "output_type": "stream",
          "text": [
            "Model: \"sequential_23\"\n",
            "_________________________________________________________________\n",
            "Layer (type)                 Output Shape              Param #   \n",
            "=================================================================\n",
            "embedding_23 (Embedding)     (None, None, 16)          128000    \n",
            "_________________________________________________________________\n",
            "conv1d_6 (Conv1D)            (None, None, 16)          1808      \n",
            "_________________________________________________________________\n",
            "max_pooling1d_3 (MaxPooling1 (None, None, 16)          0         \n",
            "_________________________________________________________________\n",
            "conv1d_7 (Conv1D)            (None, None, 16)          1808      \n",
            "_________________________________________________________________\n",
            "global_max_pooling1d_3 (Glob (None, 16)                0         \n",
            "_________________________________________________________________\n",
            "dense_43 (Dense)             (None, 8)                 136       \n",
            "_________________________________________________________________\n",
            "dense_44 (Dense)             (None, 1)                 9         \n",
            "=================================================================\n",
            "Total params: 131,761\n",
            "Trainable params: 131,761\n",
            "Non-trainable params: 0\n",
            "_________________________________________________________________\n",
            "\n",
            "\n",
            "Epoch 1/30\n",
            "3321/3321 [==============================] - 7s 2ms/step - loss: 0.5101 - accuracy: 0.7303 - val_loss: 0.4615 - val_accuracy: 0.7712\n",
            "Epoch 2/30\n",
            "3321/3321 [==============================] - 7s 2ms/step - loss: 0.4156 - accuracy: 0.7988 - val_loss: 0.4610 - val_accuracy: 0.7715\n",
            "Epoch 3/30\n",
            "3321/3321 [==============================] - 7s 2ms/step - loss: 0.3501 - accuracy: 0.8354 - val_loss: 0.4871 - val_accuracy: 0.7663\n",
            "Epoch 4/30\n",
            "3321/3321 [==============================] - 7s 2ms/step - loss: 0.2830 - accuracy: 0.8691 - val_loss: 0.5464 - val_accuracy: 0.7532\n",
            "Epoch 5/30\n",
            "3321/3321 [==============================] - 7s 2ms/step - loss: 0.2299 - accuracy: 0.8938 - val_loss: 0.6314 - val_accuracy: 0.7481\n",
            "Epoch 6/30\n",
            "3321/3321 [==============================] - 7s 2ms/step - loss: 0.1952 - accuracy: 0.9087 - val_loss: 0.7202 - val_accuracy: 0.7458\n",
            "Epoch 7/30\n",
            "3321/3321 [==============================] - 7s 2ms/step - loss: 0.1718 - accuracy: 0.9182 - val_loss: 0.7946 - val_accuracy: 0.7402\n",
            "Epoch 00007: early stopping\n"
          ]
        },
        {
          "data": {
            "text/plain": [
              "<keras.callbacks.History at 0x2658a502490>"
            ]
          },
          "execution_count": 87,
          "metadata": {},
          "output_type": "execute_result"
        }
      ],
      "source": [
        "early = EarlyStopping(monitor = 'val_loss', mode = 'min', verbose = 1, patience = 5)\n",
        "\n",
        "bpe_model = get_model(8000)\n",
        "bpe_model.fit(bpe_train_input, bpe_train_target, epochs = 30, validation_data = (bpe_val_input, bpe_val_target), callbacks = [early])"
      ]
    },
    {
      "cell_type": "markdown",
      "id": "4fef8526",
      "metadata": {
        "id": "4fef8526"
      },
      "source": [
        "---"
      ]
    },
    {
      "cell_type": "markdown",
      "id": "879ef195",
      "metadata": {
        "id": "879ef195"
      },
      "source": [
        "# **5. 모델 평가**"
      ]
    },
    {
      "cell_type": "markdown",
      "id": "1486ab58",
      "metadata": {
        "id": "1486ab58"
      },
      "source": [
        "## **5-1. 개별 모델 평가**"
      ]
    },
    {
      "cell_type": "markdown",
      "id": "fbb08114",
      "metadata": {
        "id": "fbb08114"
      },
      "source": [
        "### **5-1-1. 공백 기반 토큰화 - 전체**"
      ]
    },
    {
      "cell_type": "code",
      "execution_count": null,
      "id": "832fce47",
      "metadata": {
        "id": "832fce47",
        "outputId": "162a1895-7617-40a9-c576-42839d88dd32"
      },
      "outputs": [
        {
          "name": "stdout",
          "output_type": "stream",
          "text": [
            "4152/4152 [==============================] - 3s 788us/step - loss: 0.2095 - accuracy: 0.9539\n"
          ]
        },
        {
          "data": {
            "text/plain": [
              "[0.20954474806785583, 0.9538905024528503]"
            ]
          },
          "execution_count": 91,
          "metadata": {},
          "output_type": "execute_result"
        }
      ],
      "source": [
        "split_model.evaluate(split_X_test, y_test)"
      ]
    },
    {
      "cell_type": "markdown",
      "id": "48168e61",
      "metadata": {
        "id": "48168e61"
      },
      "source": [
        "### **5-1-2. 공백 기반 토큰화 - 8000**"
      ]
    },
    {
      "cell_type": "code",
      "execution_count": null,
      "id": "7ae7443d",
      "metadata": {
        "id": "7ae7443d",
        "outputId": "43bf5598-b054-4fb3-f403-b7cf23f9d09b"
      },
      "outputs": [
        {
          "name": "stdout",
          "output_type": "stream",
          "text": [
            "4152/4152 [==============================] - 4s 946us/step - loss: 0.3064 - accuracy: 0.8585\n"
          ]
        },
        {
          "data": {
            "text/plain": [
              "[0.30643796920776367, 0.858502209186554]"
            ]
          },
          "execution_count": 95,
          "metadata": {},
          "output_type": "execute_result"
        }
      ],
      "source": [
        "split_cut_model.evaluate(split_X_test, y_test)"
      ]
    },
    {
      "cell_type": "markdown",
      "id": "c453e611",
      "metadata": {
        "id": "c453e611"
      },
      "source": [
        "### **5-1-3. Okt를 활용한 형태소 기반 토큰화 - 전체**"
      ]
    },
    {
      "cell_type": "code",
      "execution_count": null,
      "id": "24fde357",
      "metadata": {
        "id": "24fde357",
        "outputId": "222e2a6e-149a-45d8-df0c-e89f858b58ba"
      },
      "outputs": [
        {
          "name": "stdout",
          "output_type": "stream",
          "text": [
            "4152/4152 [==============================] - 4s 868us/step - loss: 0.1678 - accuracy: 0.9622\n"
          ]
        },
        {
          "data": {
            "text/plain": [
              "[0.16778375208377838, 0.9621939659118652]"
            ]
          },
          "execution_count": 92,
          "metadata": {},
          "output_type": "execute_result"
        }
      ],
      "source": [
        "Okt_model.evaluate(Okt_X_test, y_test)"
      ]
    },
    {
      "cell_type": "markdown",
      "id": "71c38f57",
      "metadata": {
        "id": "71c38f57"
      },
      "source": [
        "### **5-1-4. Okt를 활용한 형태소 기반 토큰화 - 8000**"
      ]
    },
    {
      "cell_type": "code",
      "execution_count": null,
      "id": "d25cdc76",
      "metadata": {
        "id": "d25cdc76",
        "outputId": "bd9b8fb0-ea4f-4999-9b34-89ae354dcbe0"
      },
      "outputs": [
        {
          "name": "stdout",
          "output_type": "stream",
          "text": [
            "4152/4152 [==============================] - 4s 915us/step - loss: 0.1736 - accuracy: 0.9407\n"
          ]
        },
        {
          "data": {
            "text/plain": [
              "[0.1736217886209488, 0.9406937956809998]"
            ]
          },
          "execution_count": 96,
          "metadata": {},
          "output_type": "execute_result"
        }
      ],
      "source": [
        "Okt_cut_model.evaluate(Okt_X_test, y_test)"
      ]
    },
    {
      "cell_type": "markdown",
      "id": "ca72c33e",
      "metadata": {
        "id": "ca72c33e"
      },
      "source": [
        "### **5-1-5. SentencePiece - unigram**"
      ]
    },
    {
      "cell_type": "code",
      "execution_count": null,
      "id": "d515003f",
      "metadata": {
        "id": "d515003f",
        "outputId": "12351ea2-ce13-4ef4-f8df-0e9b3d220547"
      },
      "outputs": [
        {
          "name": "stdout",
          "output_type": "stream",
          "text": [
            "4152/4152 [==============================] - 4s 951us/step - loss: 0.2779 - accuracy: 0.8925\n"
          ]
        },
        {
          "data": {
            "text/plain": [
              "[0.2779094874858856, 0.8924990296363831]"
            ]
          },
          "execution_count": 86,
          "metadata": {},
          "output_type": "execute_result"
        }
      ],
      "source": [
        "uni_model.evaluate(uni_X_test, y_test)"
      ]
    },
    {
      "cell_type": "markdown",
      "id": "7e167e93",
      "metadata": {
        "id": "7e167e93"
      },
      "source": [
        "### **5-1-6. SentencePiece - bpe**"
      ]
    },
    {
      "cell_type": "code",
      "execution_count": null,
      "id": "ea8ee0bd",
      "metadata": {
        "id": "ea8ee0bd",
        "outputId": "2802b6ac-7077-4ecd-e64b-9ad6b582d733"
      },
      "outputs": [
        {
          "name": "stdout",
          "output_type": "stream",
          "text": [
            "4152/4152 [==============================] - 4s 1ms/step - loss: 0.2703 - accuracy: 0.8947\n"
          ]
        },
        {
          "data": {
            "text/plain": [
              "[0.2703467011451721, 0.8947348594665527]"
            ]
          },
          "execution_count": 88,
          "metadata": {},
          "output_type": "execute_result"
        }
      ],
      "source": [
        "bpe_model.evaluate(bpe_X_test, y_test)"
      ]
    },
    {
      "cell_type": "markdown",
      "id": "614163c8",
      "metadata": {
        "id": "614163c8"
      },
      "source": [
        "## **5-2. 전체 모델 비교 평가**"
      ]
    },
    {
      "cell_type": "markdown",
      "id": "2261822a",
      "metadata": {
        "id": "2261822a"
      },
      "source": [
        "|**Tokenizer (Vocab Size)**|**Loss**|**Accuracy**|**평가 - 공백(8,000) 제외 전체적으로 Loss 0.2 / Accuracy 0.9 정도의 수치를 보임**|\n",
        ":---:|:---:|:---:|:---:|\n",
        "|**공백 (300,566)**|0.2095|0.9539|가장 사전 크기가 크고, 사전 크기가 큰 경우 생각보다 높은 정확도를 보임|\n",
        "|**Okt (91,341)**|0.1678|0.9622|**비교 대상 중 가장 좋은 성능을 보임**|\n",
        "|**공백 (8,000)**|0.3064|0.8585|**동일한 사전 크기로 비교하는 경우 가장 낮은 성능을 보임**|\n",
        "|**Okt (8,000)**|0.1736|0.9407|동일한 사전 크기로 비교하는 경우에도 크게 Loss, Accuracy 값 차이 없이 좋은 성능을 보임|\n",
        "|**unicode (8,000)**|0.2779|0.8925|실제 분리된 형태소를 살펴보면 bpe 보다 더 잘 분리하는 모습을 보이지만, 수치상으로는 크게 다르지 않거나 낮게 확인됨|\n",
        "|**bpe (8,000)**|0.2703|0.8947|unicode와 거의 비슷한 성능을 보임|"
      ]
    },
    {
      "cell_type": "markdown",
      "id": "1c9bd184",
      "metadata": {
        "id": "1c9bd184"
      },
      "source": [
        "---"
      ]
    }
  ],
  "metadata": {
    "kernelspec": {
      "display_name": "Python 3 (ipykernel)",
      "language": "python",
      "name": "python3"
    },
    "language_info": {
      "codemirror_mode": {
        "name": "ipython",
        "version": 3
      },
      "file_extension": ".py",
      "mimetype": "text/x-python",
      "name": "python",
      "nbconvert_exporter": "python",
      "pygments_lexer": "ipython3",
      "version": "3.9.0"
    },
    "colab": {
      "name": "[GD-02]nlp.ipynb",
      "provenance": [],
      "collapsed_sections": [
        "94bd8d48",
        "5929e320",
        "1bca34c7",
        "b6eef551",
        "8d22c935",
        "2184b80c",
        "570df112",
        "efff0563",
        "4bf291cb",
        "950c93a2",
        "8f7df2a0",
        "a72ef512",
        "6fe3fe53",
        "e67d12b4",
        "2babd382",
        "fb660fab",
        "e1437fe0",
        "711f0649",
        "7d7a0d6d",
        "77ad0e86",
        "e109c41a",
        "748ace5a",
        "8de8fbc7",
        "08767235",
        "77cc9085",
        "6ef56912",
        "170c0af4",
        "bcfc60e1",
        "605fba7b",
        "6850bcdd",
        "c96bcfed",
        "4bac10e7",
        "902f038a",
        "f6825dd0",
        "08ed01d8",
        "d0afe335",
        "56358deb",
        "71921d0c",
        "eff40667",
        "dc8bcfa6",
        "dbbfdc37",
        "ccd43f4a",
        "1cb477d8",
        "fd8fe799",
        "1812d3aa",
        "81a8d225",
        "afeab7f9",
        "b62893bc",
        "3c4bfe73",
        "03d9642e",
        "879ef195",
        "1486ab58",
        "fbb08114",
        "48168e61",
        "c453e611",
        "71c38f57",
        "ca72c33e",
        "7e167e93",
        "614163c8",
        "f1051950",
        "fb5d93b0"
      ],
      "include_colab_link": true
    }
  },
  "nbformat": 4,
  "nbformat_minor": 5
}