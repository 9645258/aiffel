{
  "cells": [
    {
      "cell_type": "markdown",
      "metadata": {
        "id": "view-in-github",
        "colab_type": "text"
      },
      "source": [
        "<a href=\"https://colab.research.google.com/github/9645258/aiffel/blob/main/02_goingdeeper/01_nlp/%5BGD-10%5Dnlp.ipynb\" target=\"_parent\"><img src=\"https://colab.research.google.com/assets/colab-badge.svg\" alt=\"Open In Colab\"/></a>"
      ]
    },
    {
      "cell_type": "markdown",
      "id": "b651be82",
      "metadata": {
        "id": "b651be82"
      },
      "source": [
        "## **1. 데이터 준비**"
      ]
    },
    {
      "cell_type": "markdown",
      "id": "6714a747",
      "metadata": {
        "id": "6714a747"
      },
      "source": [
        "### **1-1. 라이브러리 import**"
      ]
    },
    {
      "cell_type": "code",
      "execution_count": null,
      "id": "a17649a7",
      "metadata": {
        "id": "a17649a7"
      },
      "outputs": [],
      "source": [
        "import re\n",
        "import os\n",
        "import io\n",
        "import random\n",
        "import tarfile\n",
        "import numpy as np\n",
        "import pandas as pd\n",
        "import sentencepiece as spm\n",
        "\n",
        "import tensorflow as tf\n",
        "\n",
        "import seaborn as sns\n",
        "import matplotlib as mpl\n",
        "import matplotlib.pyplot as plt\n",
        "import matplotlib.ticker as ticker\n",
        "from matplotlib import font_manager,rc\n",
        "\n",
        "from tqdm.notebook import tqdm\n",
        "from tqdm import tqdm_notebook\n",
        "\n",
        "import warnings\n",
        "warnings.filterwarnings(action='ignore')"
      ]
    },
    {
      "cell_type": "markdown",
      "id": "78fbb155",
      "metadata": {
        "id": "78fbb155"
      },
      "source": [
        "### **1-2. 데이터 import**"
      ]
    },
    {
      "cell_type": "markdown",
      "id": "d7c90e88",
      "metadata": {
        "id": "d7c90e88"
      },
      "source": [
        "- **국문 및 영문 데이터 import**"
      ]
    },
    {
      "cell_type": "code",
      "execution_count": null,
      "id": "e02c5bfd",
      "metadata": {
        "id": "e02c5bfd"
      },
      "outputs": [],
      "source": [
        "data_dir = 'C:/Users/96452/00_work/01_GD/10/data'\n",
        "kor_path = data_dir + '/korean-english-park.train.ko'\n",
        "eng_path = data_dir + '/korean-english-park.train.en'"
      ]
    },
    {
      "cell_type": "code",
      "execution_count": null,
      "id": "d375d02a",
      "metadata": {
        "id": "d375d02a"
      },
      "outputs": [],
      "source": [
        "with open(kor_path, \"r\", encoding = 'utf-8') as f:\n",
        "    kor = f.read().splitlines()"
      ]
    },
    {
      "cell_type": "code",
      "execution_count": null,
      "id": "e0bc5935",
      "metadata": {
        "id": "e0bc5935"
      },
      "outputs": [],
      "source": [
        "with open(eng_path, \"r\", encoding = 'utf-8') as f:\n",
        "    eng = f.read().splitlines()"
      ]
    },
    {
      "cell_type": "markdown",
      "id": "e5bb12c7",
      "metadata": {
        "id": "e5bb12c7"
      },
      "source": [
        "### **1-3. 데이터 확인**"
      ]
    },
    {
      "cell_type": "markdown",
      "id": "8bf85110",
      "metadata": {
        "id": "8bf85110"
      },
      "source": [
        "- **데이터 수 확인**"
      ]
    },
    {
      "cell_type": "code",
      "execution_count": null,
      "id": "76ec2308",
      "metadata": {
        "id": "76ec2308",
        "outputId": "e284536a-d3c7-4560-c4cb-5e0306318724"
      },
      "outputs": [
        {
          "name": "stdout",
          "output_type": "stream",
          "text": [
            "국문 데이터 수: 94123\n",
            "영문 데이터 수: 94123\n"
          ]
        }
      ],
      "source": [
        "print('국문 데이터 수:', len(kor))\n",
        "print('영문 데이터 수:', len(eng))"
      ]
    },
    {
      "cell_type": "markdown",
      "id": "36dcf0c2",
      "metadata": {
        "id": "36dcf0c2"
      },
      "source": [
        "- **데이터 확인**"
      ]
    },
    {
      "cell_type": "code",
      "execution_count": null,
      "id": "4964d2b1",
      "metadata": {
        "id": "4964d2b1",
        "outputId": "1b6880f5-2d36-4900-cf0e-4b41b445fb3f"
      },
      "outputs": [
        {
          "name": "stdout",
          "output_type": "stream",
          "text": [
            "<국문 데이터>\n",
            " ['헐슈호트 관장은 “기하급수적으로 많은 관람객이 모여들 것이며 교육과 학습을 위한 실제적 도구 역할을 다할 것”이라고 말했다.', '29일, 시라크 대통령은 이란과 이란의 핵 프로그램에 대해 \"이란이 핵무기 1~2개를 보유한다고 해서 큰 위험이 되지는 않을 것이다\"라고 밝혔다.', '우리나라는 1992년 이후 무궁화 1호를 시작으로 통신 위성 등 11차례 걸쳐 위성을 발사한 바 있다.', '거주지에 소아 관련 병을 가장 잘 치료하는 병원이 어디인지 찾아야 한다.', '도쿄 레스토랑은 보통 일품(一品) 요리로 손님을 접대한다.', '이 교리에 의거, 이에 관련 신도들의 즉각적인 파문조치가 시행될 예정이다.', '24시간 내에 열대성 폭풍 영향을 입게되는 열대성 폭풍 경보가 팔마솔라 남부 베라크루즈까지 내려졌다.', '공기가 희박하다.', '그의 귀가 되는 장치는 넓은 지역에 펼쳐져 있는 정교한 대형 전파망원경이다. 전파망원경은 외계기원의 신호를 위해 우주를 자세히 조사한다.', '이란에서 간첩 협의로 기소된 미국인 기자가 구속에 항의하며 단식 투쟁에 들어갔습니다.', '“두흐”로도 알려진 캉 케크 이우는 수도인 프놈 펜의 악명높은 S21 교도소의 책임자였다.', '고속범선은 여러 개의 돛대를 갖춘 배로 홍차나 모직물 같은 고가의 물품을 운반하는데 사용했다.', '토론회가 종료된 직후 CNN과 오피니언 리서치사가 실시한 여론조사에서 응답자 중 54%가 이번 토론회에서 오바마가 가장 잘 했다는 평가를 내렸고 공화당 대선후보인 존 매케인 상원의원이 더 잘했다는 응답은 30%에 불과했다.', '백신 첨가물 중 가장 논란이 많은 물질이며, 몇몇 사람들에 의해 자폐증을 일으키는 물질로 의심받고 있다.', '지난해 퓨 리서치, AP, AOL에서 여론조사를 실시한 결과 응답자의 81%는 공공장소에서 울리는 휴대폰 벨소리와 통화소리에 짜증을 느낀 적이 있다고 대답했다.'] \n",
            "\n",
            "<영문 데이터>\n",
            " ['The hunt for Neil began three years ago when German police discovered about 200 online photographs of a man sexually abusing children.', 'In Berlin, Jackson was *taking a break from a California courtroom where he testified last week in a $21 million lawsuit claiming he *backed out of concerts.', '``It is the result of anti-corporate sentiment, excessive regulations and prejudice against foreign capital that have been widespread since the launch of the Roh administration,’’ said Na Seong-rin, an economics professor at Hanyang University.', '\"It\\'s incomprehensible that while the option of abortion is provided for and recognized by the national health system and facilitated by accredited clinics, authorities allow the persecution of women and professionals involved,\" it said.', 'Songdo to host G-20 prep meetin...', '- Once you admit that the base is there, you become', 'In a press release, the network announced that \"24\\'s\" premiere, set for January, was \"being postponed to ensure that [the seventh season] can air uninterrupted, in its entirety.\"', '˝The Afghan government is doing all it can to secure the release of 22 South Koreans held hostage by the Taliban, President Hamid Karzai has said.', 'An investigators’ report - entitled ”No medal for the Olympics on labour rights” - cites ”gross violations of basic labour standards… including adult wages at half the legal minimum, employment of workers as young as 12 years old”.', 'Kenya orphanage takes in elepha...', 'Soviet and U.S. nuclear submarines have often traveled under the polar icecap, but no one has so far reached the seabed under the Pole, where depths exceed 4,000 meters (13,100 feet).', \"Britain's Prince Harry apologized through a spokesman Saturday after videos surfaced showing him using offensive language to describe people in his military unit.\", \"Tensions have been heightened since North Korea carried out a nuclear test on October 9th. The talks, which also involve Russia, South Korea and Japan, will be held in Beijing, China's foreign ministry said.\", 'Blair, once enormously popular in his country, saw his popularity tumble largely over his alliance with Bush on Iraq.', \"Illegal copies of Microsoft's Windows XP operating system are on sale for about $6 at Moscow markets.\"]\n"
          ]
        }
      ],
      "source": [
        "print('<국문 데이터>\\n', random.sample(kor, 15), '\\n')\n",
        "print('<영문 데이터>\\n', random.sample(eng, 15))"
      ]
    },
    {
      "cell_type": "markdown",
      "id": "2b790655",
      "metadata": {
        "id": "2b790655"
      },
      "source": [
        "### **1-4. 중복 데이터 제거**"
      ]
    },
    {
      "cell_type": "markdown",
      "id": "1c1064b9",
      "metadata": {
        "id": "1c1064b9"
      },
      "source": [
        "- **중복 데이터 제거**  \n",
        "zip으로 병렬 쌍을 고정하여 set로 중복 데이터 제거"
      ]
    },
    {
      "cell_type": "code",
      "execution_count": null,
      "id": "c3d3669a",
      "metadata": {
        "id": "c3d3669a"
      },
      "outputs": [],
      "source": [
        "cleaned_corpus = set(zip(kor,eng))"
      ]
    },
    {
      "cell_type": "markdown",
      "id": "dbe8aab7",
      "metadata": {
        "id": "dbe8aab7"
      },
      "source": [
        "- **중복 데이터 제거 후 데이터 수 확인**"
      ]
    },
    {
      "cell_type": "code",
      "execution_count": null,
      "id": "7507bb6b",
      "metadata": {
        "id": "7507bb6b",
        "outputId": "2c9ed1dc-61da-4e07-e65e-7b90ce95463d"
      },
      "outputs": [
        {
          "name": "stdout",
          "output_type": "stream",
          "text": [
            "중복 데이터 제거 후 데이터 수: 78968\n"
          ]
        }
      ],
      "source": [
        "print(\"중복 데이터 제거 후 데이터 수:\", len(cleaned_corpus))"
      ]
    },
    {
      "cell_type": "markdown",
      "id": "d3438480",
      "metadata": {
        "id": "d3438480"
      },
      "source": [
        "- **중복 데이터 제거 후 데이터 확인**"
      ]
    },
    {
      "cell_type": "code",
      "execution_count": null,
      "id": "4ccbb013",
      "metadata": {
        "id": "4ccbb013",
        "outputId": "fcd204f3-a2b3-40ce-b73e-40d4e5948e73"
      },
      "outputs": [
        {
          "data": {
            "text/plain": [
              "[('이에 10개 시민단체들은 서울 중심에 있는 정부청사에서 기자회견을 갖고 성범죄자의 사진과 정확한 주소를 포함하는 모든 정보를 공개할 것을 요구했다.',\n",
              "  'Ten civic groups met the press at the government complex in central Seoul yesterday, demanding the release of full information, including photographs and exact addresses, of convicted sex offenders.'),\n",
              " ('공화당 대선주자인 존 매케인 상원의원은 27일(현지시간) 핵안보 정책에 대한 연설에서 미국이 상당수의 핵무기를 폐기할 필요성이 있다고 강조했다.',\n",
              "  'The United States should scrap a significant portion of its nuclear arsenal, Sen. John McCain said Tuesday in a speech laying out his nuclear security policy.'),\n",
              " ('이 수치는 통계청이 2003년 데이터를 집계하기 시작한 이래 최고치이다.',\n",
              "  'The figure was the highest since the office began compiling data in 2003.'),\n",
              " (\"America's new objectives for the Afghanistan war to be announced next week 아프가니스탄 전쟁에 대한 미국의 새로운 목표 내주에 발표 예정\\xa0 \\xa0 \\xa02009.06\",\n",
              "  '(Stewart)“ When you talk about the regulators, why not the Financial News Network?'),\n",
              " ('애틀란타에서 열린 1주일 벤처창업이 열린 것은 이번이 25회째로 지난해 1월 콜로라도주 보울더에서 열린 행사에서 이 같은 컵셉이 만들어졌다.',\n",
              "  'The Atlanta event was the 25th Startup Weekend since the concept was created in Boulder, Colorado, in July 2007.'),\n",
              " ('마담 투소 베를린 박물관은 오는 7월 9일 개관할 예정이다.',\n",
              "  \"Madame Tussauds' Berlin museum is scheduled to open on July 9.\"),\n",
              " ('‘수퍼 화요일’경선에 승부를 걸겠다고 밝힌 루디 줄리아니 전 뉴욕시장은 4%를 얻는데 그쳤다.',\n",
              "  'Rudy Giuliani, who has turned the focus of his campaign to the February 5 \"Super Tuesday\" primaries, trailed with 4 percent.'),\n",
              " ('신행정수도건설추진위원회는 기본안과 함께 신행정수도 이전 계획 대상을 발표했다.',\n",
              "  'The Presidential Committee on Administrative Capital Relocation on Wednesday announced the scale of the relocation of agencies to the planned new administrative capital along with a basic plan.'),\n",
              " ('부활을 꿈꿨고, 거의 이룬 것이나 진배 없습니다.', 'For a change, an old guy almost won.'),\n",
              " ('영국 왕실은 왕세자 커플이 검소한 결혼식을 올리고 싶다는 의견을 존중하여 여왕이 이들의 결혼식을 멀리서 지켜볼 계획이라고 밝혔다.',\n",
              "  \"Britain's Queen Elizabeth will not attend the wedding of her eldest son Prince Charles to his long-time partner Camilla Parker Bowles, adding to an air of chaos that has surrounded plans for the day.\")]"
            ]
          },
          "execution_count": 12,
          "metadata": {},
          "output_type": "execute_result"
        }
      ],
      "source": [
        "random.sample(cleaned_corpus, 10)"
      ]
    },
    {
      "cell_type": "markdown",
      "id": "3034d411",
      "metadata": {
        "id": "3034d411"
      },
      "source": [
        "## **2. 데이터 정제**"
      ]
    },
    {
      "cell_type": "markdown",
      "id": "483e1c1a",
      "metadata": {
        "id": "483e1c1a"
      },
      "source": [
        "### **2-1. 정제 함수 정의**"
      ]
    },
    {
      "cell_type": "markdown",
      "id": "5b64b816",
      "metadata": {
        "id": "5b64b816"
      },
      "source": [
        "- **알파벳, 문장 부호, 한글 제외 전체 제거 및 영문 소문자화**  \n",
        "- **문장 부호 양옆 공백 추가 및 문장 앞 뒤 공백 제거**  \n",
        "- **숫자 데이터 삭제 시 학습 결과가 좋지 않으므로 숫자 데이터도 남기기로 결정**"
      ]
    },
    {
      "cell_type": "code",
      "execution_count": null,
      "id": "3dafc6a3",
      "metadata": {
        "id": "3dafc6a3"
      },
      "outputs": [],
      "source": [
        "def preprocess_sentence(sentence):\n",
        "    \n",
        "    sentence = re.sub(r\"^\\s+|\\s+$\", \"\", sentence)\n",
        "    sentence = re.sub(r\"[^a-zA-Zㄱ-ㅎ0-9가-힣?.!,]+\", \" \", sentence)\n",
        "    sentence = re.sub(r\"([?.!,])\", r\" \\1 \", sentence)\n",
        "    sentence = re.sub(r'[\" \"]+', \" \", sentence)\n",
        "    sentence = sentence.strip()\n",
        "    \n",
        "    return sentence"
      ]
    },
    {
      "cell_type": "markdown",
      "id": "3b3c10d7",
      "metadata": {
        "id": "3b3c10d7"
      },
      "source": [
        "- **SentencePeice를 활용한 데이터 토큰화 함수**"
      ]
    },
    {
      "cell_type": "code",
      "execution_count": null,
      "id": "ba28713e",
      "metadata": {
        "id": "ba28713e"
      },
      "outputs": [],
      "source": [
        "def generate_tokenizer(corpus, vocab_size, lang = \"ko\", pad_id = 0, bos_id = 1, eos_id = 2, unk_id = 3):\n",
        "\n",
        "    temp_file = data_dir + f'/korean-english-park-corpus-{lang}.txt'\n",
        "    \n",
        "    with open(temp_file, 'w', encoding = 'utf-8') as f:\n",
        "        for row in corpus:\n",
        "            f.write(str(row) + '\\n')\n",
        "    \n",
        "    spm.SentencePieceTrainer.Train(\n",
        "        f'--input={temp_file} --pad_id={pad_id} --bos_id={bos_id} --eos_id={eos_id} \\\n",
        "        --unk_id={unk_id} --model_prefix=spm_{lang} --vocab_size={vocab_size}'\n",
        "    )\n",
        "    tokenizer = spm.SentencePieceProcessor()\n",
        "    tokenizer.Load(f'spm_{lang}.model')\n",
        "\n",
        "    return tokenizer"
      ]
    },
    {
      "cell_type": "markdown",
      "id": "8dfa7c2d",
      "metadata": {
        "id": "8dfa7c2d"
      },
      "source": [
        "### **2-2. 데이터 정제화**"
      ]
    },
    {
      "cell_type": "code",
      "execution_count": null,
      "id": "e5e0be37",
      "metadata": {
        "id": "e5e0be37"
      },
      "outputs": [],
      "source": [
        "eng_corpus = []\n",
        "kor_corpus = []"
      ]
    },
    {
      "cell_type": "code",
      "execution_count": null,
      "id": "914686ca",
      "metadata": {
        "id": "914686ca"
      },
      "outputs": [],
      "source": [
        "for pair in cleaned_corpus:\n",
        "    k, e = pair[0], pair[1]\n",
        "\n",
        "    kor_corpus.append(preprocess_sentence(k))\n",
        "    eng_corpus.append(preprocess_sentence(e))"
      ]
    },
    {
      "cell_type": "markdown",
      "id": "6d581387",
      "metadata": {
        "id": "6d581387"
      },
      "source": [
        "### **2-3. 데이터 토큰화**"
      ]
    },
    {
      "cell_type": "code",
      "execution_count": null,
      "id": "54a5e4c6",
      "metadata": {
        "id": "54a5e4c6"
      },
      "outputs": [],
      "source": [
        "ko_tokenizer = generate_tokenizer(kor_corpus, 30000, \"ko\")\n",
        "en_tokenizer = generate_tokenizer(eng_corpus, 30000, \"en\")"
      ]
    },
    {
      "cell_type": "markdown",
      "id": "78c879fd",
      "metadata": {
        "id": "78c879fd"
      },
      "source": [
        "### **2-4. 정제 진행 후 데이터 확인**"
      ]
    },
    {
      "cell_type": "markdown",
      "id": "d011f898",
      "metadata": {
        "id": "d011f898"
      },
      "source": [
        "- **데이터 정보 확인**"
      ]
    },
    {
      "cell_type": "code",
      "execution_count": null,
      "id": "534a7e28",
      "metadata": {
        "id": "534a7e28",
        "outputId": "cd14172e-dc9a-452c-8bb1-88fd7447b88c"
      },
      "outputs": [
        {
          "data": {
            "text/plain": [
              "<sentencepiece.SentencePieceProcessor; proxy of <Swig Object of type 'sentencepiece::SentencePieceProcessor *' at 0x00000224C04DF720> >"
            ]
          },
          "execution_count": 18,
          "metadata": {},
          "output_type": "execute_result"
        }
      ],
      "source": [
        "ko_tokenizer"
      ]
    },
    {
      "cell_type": "code",
      "execution_count": null,
      "id": "24e9b06c",
      "metadata": {
        "id": "24e9b06c",
        "outputId": "d58952ba-4356-4803-a2ad-476e3698875e"
      },
      "outputs": [
        {
          "data": {
            "text/plain": [
              "<sentencepiece.SentencePieceProcessor; proxy of <Swig Object of type 'sentencepiece::SentencePieceProcessor *' at 0x00000224C04DFBA0> >"
            ]
          },
          "execution_count": 19,
          "metadata": {},
          "output_type": "execute_result"
        }
      ],
      "source": [
        "en_tokenizer"
      ]
    },
    {
      "cell_type": "markdown",
      "id": "18776098",
      "metadata": {
        "id": "18776098"
      },
      "source": [
        "- **데이터 확인**"
      ]
    },
    {
      "cell_type": "code",
      "execution_count": null,
      "id": "b7aab2d7",
      "metadata": {
        "id": "b7aab2d7",
        "outputId": "1717f7b8-98a8-468a-800f-7d39c8f534e5"
      },
      "outputs": [
        {
          "name": "stdout",
          "output_type": "stream",
          "text": [
            "['정부가 새로운 인종간 긴장을 해결하는 데에 실패한 것에 대한 우려가 이번 사태의 주요 원인 중 하나로 믿어지고 있다 .', '당국은 체포된 블라고예비치 주지사와 해리스 비서실장이 각각 메일과 전화로 사기를 공동 모의하고 뇌물 수수를 요구한 혐의를 받고 있다고 밝혔다 .', '데이브는 자신의 아내가 우려를 하며 동정적이 될 거라고 생각한다 .', '오바마 후보 지지자들로부터 경선 사퇴 압박을 받고 있는 클린턴에 대해 오바마는 그녀가 경선을 완주하는 것이 바람직하다는 의견을 제시했다 .']\n"
          ]
        }
      ],
      "source": [
        "print(kor_corpus[:4])"
      ]
    },
    {
      "cell_type": "code",
      "execution_count": null,
      "id": "48a4cfde",
      "metadata": {
        "id": "48a4cfde",
        "outputId": "a26785f9-51dc-4531-cb3e-1772e4d8b154"
      },
      "outputs": [
        {
          "name": "stdout",
          "output_type": "stream",
          "text": [
            "['Concern about a government failure to tackle renewed ethnic tension is believed to be one of the main reasons for the upset .', 'Each was charged with a count of conspiracy to commit mail and wire fraud and a count of solicitation of bribery , authorities said .', 'Dave figures his wife would be concerned and compassionate .', 'Clinton this weekend shot down calls by Obama backers to drop out of the race , and Obama said Clinton should remain in race as long as she wants .']\n"
          ]
        }
      ],
      "source": [
        "print(eng_corpus[:4])"
      ]
    },
    {
      "cell_type": "markdown",
      "id": "91b2938b",
      "metadata": {
        "id": "91b2938b"
      },
      "source": [
        "### **2-5. 단어사전 크기 재정의**"
      ]
    },
    {
      "cell_type": "code",
      "execution_count": null,
      "id": "5f0266f8",
      "metadata": {
        "id": "5f0266f8",
        "outputId": "e57d5883-1b71-445d-db79-c9018b179047"
      },
      "outputs": [
        {
          "data": {
            "text/plain": [
              "True"
            ]
          },
          "execution_count": 27,
          "metadata": {},
          "output_type": "execute_result"
        }
      ],
      "source": [
        "SRC_VOCAB_SIZE = TGT_VOCAB_SIZE = 25000\n",
        "\n",
        "ko_tokenizer = generate_tokenizer(kor_corpus, SRC_VOCAB_SIZE, \"ko\")\n",
        "en_tokenizer = generate_tokenizer(eng_corpus, TGT_VOCAB_SIZE, \"en\")\n",
        "en_tokenizer.set_encode_extra_options(\"bos:eos\")"
      ]
    },
    {
      "cell_type": "markdown",
      "id": "3d949655",
      "metadata": {
        "id": "3d949655"
      },
      "source": [
        "### **2-6. 데이터 선별**"
      ]
    },
    {
      "cell_type": "markdown",
      "id": "8f207af5",
      "metadata": {
        "id": "8f207af5"
      },
      "source": [
        "- **토큰 길이 50이하의 데이터 선별**"
      ]
    },
    {
      "cell_type": "code",
      "execution_count": null,
      "id": "4bc1839d",
      "metadata": {
        "id": "4bc1839d"
      },
      "outputs": [],
      "source": [
        "src_corpus = []\n",
        "tgt_corpus = []"
      ]
    },
    {
      "cell_type": "code",
      "execution_count": null,
      "id": "e9e40b0d",
      "metadata": {
        "id": "e9e40b0d"
      },
      "outputs": [],
      "source": [
        "assert len(kor_corpus) == len(eng_corpus)"
      ]
    },
    {
      "cell_type": "code",
      "execution_count": null,
      "id": "9ddabc7c",
      "metadata": {
        "id": "9ddabc7c",
        "outputId": "39961c4e-2ed8-4192-9422-45e2530748bb"
      },
      "outputs": [
        {
          "data": {
            "application/vnd.jupyter.widget-view+json": {
              "model_id": "bc3c21b1dfa946a5beb1f2c419683ddf",
              "version_major": 2,
              "version_minor": 0
            },
            "text/plain": [
              "  0%|          | 0/78968 [00:00<?, ?it/s]"
            ]
          },
          "metadata": {},
          "output_type": "display_data"
        }
      ],
      "source": [
        "for idx in tqdm_notebook(range(len(kor_corpus))):\n",
        "    src = ko_tokenizer.EncodeAsIds(kor_corpus[idx])\n",
        "    tgt = en_tokenizer.EncodeAsIds(eng_corpus[idx])\n",
        "    \n",
        "    if len(src) <= 50 and len(tgt) <= 50:\n",
        "        src_corpus.append(src)\n",
        "        tgt_corpus.append(tgt)"
      ]
    },
    {
      "cell_type": "markdown",
      "id": "383bf555",
      "metadata": {
        "id": "383bf555"
      },
      "source": [
        "### **2-7. 텐서 변환 처리**"
      ]
    },
    {
      "cell_type": "code",
      "execution_count": null,
      "id": "d564f05a",
      "metadata": {
        "id": "d564f05a"
      },
      "outputs": [],
      "source": [
        "enc_train = tf.keras.preprocessing.sequence.pad_sequences(src_corpus, padding = 'post')\n",
        "dec_train = tf.keras.preprocessing.sequence.pad_sequences(tgt_corpus, padding = 'post')"
      ]
    },
    {
      "cell_type": "markdown",
      "id": "56b5e6f8",
      "metadata": {
        "id": "56b5e6f8"
      },
      "source": [
        "- **데이터 형태 확인**"
      ]
    },
    {
      "cell_type": "code",
      "execution_count": null,
      "id": "2e31ad2c",
      "metadata": {
        "id": "2e31ad2c",
        "outputId": "e9195523-546d-43bd-f384-2f57bc77d7d9"
      },
      "outputs": [
        {
          "data": {
            "text/plain": [
              "(70844, 50)"
            ]
          },
          "execution_count": 32,
          "metadata": {},
          "output_type": "execute_result"
        }
      ],
      "source": [
        "enc_train.shape"
      ]
    },
    {
      "cell_type": "code",
      "execution_count": null,
      "id": "4a1dd1ba",
      "metadata": {
        "id": "4a1dd1ba",
        "outputId": "db51fa3b-85e3-49a6-d4fc-a9a68294b2df"
      },
      "outputs": [
        {
          "data": {
            "text/plain": [
              "(70844, 50)"
            ]
          },
          "execution_count": 33,
          "metadata": {},
          "output_type": "execute_result"
        }
      ],
      "source": [
        "dec_train.shape"
      ]
    },
    {
      "cell_type": "markdown",
      "id": "3df5fa89",
      "metadata": {
        "id": "3df5fa89"
      },
      "source": [
        "- **데이터 확인**"
      ]
    },
    {
      "cell_type": "code",
      "execution_count": null,
      "id": "311891f2",
      "metadata": {
        "id": "311891f2",
        "outputId": "55ee685e-14e8-44c6-d559-0f037887f83b"
      },
      "outputs": [
        {
          "data": {
            "text/plain": [
              "array([[  304,   175,    91, ...,     0,     0,     0],\n",
              "       [  216,     9,  2572, ...,     0,     0,     0],\n",
              "       [10237,     6,   167, ...,     0,     0,     0],\n",
              "       ...,\n",
              "       [ 2410,    94,  1346, ...,     0,     0,     0],\n",
              "       [  157,   922,   438, ...,     0,     0,     0],\n",
              "       [21010,    14,    87, ...,     0,     0,     0]])"
            ]
          },
          "execution_count": 34,
          "metadata": {},
          "output_type": "execute_result"
        }
      ],
      "source": [
        "enc_train"
      ]
    },
    {
      "cell_type": "code",
      "execution_count": null,
      "id": "8cd46d52",
      "metadata": {
        "id": "8cd46d52",
        "outputId": "151152f4-83d8-48fe-8482-9046bbd8ee03"
      },
      "outputs": [
        {
          "data": {
            "text/plain": [
              "array([[   1, 7370,   59, ...,    0,    0,    0],\n",
              "       [   1,  468, 3351, ...,    0,    0,    0],\n",
              "       [   1, 6101, 1847, ...,    0,    0,    0],\n",
              "       ...,\n",
              "       [   1,  110,   11, ...,    2,    0,    0],\n",
              "       [   1,  332,    4, ...,    0,    0,    0],\n",
              "       [   1, 1625,   14, ...,    0,    0,    0]])"
            ]
          },
          "execution_count": 35,
          "metadata": {},
          "output_type": "execute_result"
        }
      ],
      "source": [
        "dec_train"
      ]
    },
    {
      "cell_type": "markdown",
      "id": "4b60fbc7",
      "metadata": {
        "id": "4b60fbc7"
      },
      "source": [
        "## **3. 모델 설계**"
      ]
    },
    {
      "cell_type": "markdown",
      "id": "2512e5e0",
      "metadata": {
        "id": "2512e5e0"
      },
      "source": [
        "### **3-1. Positional Encoding**"
      ]
    },
    {
      "cell_type": "code",
      "execution_count": null,
      "id": "7438a0d3",
      "metadata": {
        "id": "7438a0d3"
      },
      "outputs": [],
      "source": [
        "def positional_encoding(pos, d_model):\n",
        "    def cal_angle(position, i):\n",
        "        return position / np.power(10000, int(i)/d_model)\n",
        "    \n",
        "    def get_posi_angle_vec(position):\n",
        "        return [cal_angle(position, i) for i in range(d_model)]\n",
        "    \n",
        "    sinusoid_table = np.array([get_posi_angle_vec(pos_i) for pos_i in range(pos)])\n",
        "    \n",
        "    sinusoid_table[:, 0::2] = np.sin(sinusoid_table[:, 0::2])\n",
        "    sinusoid_table[:, 1::2] = np.cos(sinusoid_table[:, 1::2])\n",
        "    \n",
        "    return sinusoid_table"
      ]
    },
    {
      "cell_type": "markdown",
      "id": "3b363eb2",
      "metadata": {
        "id": "3b363eb2"
      },
      "source": [
        "### **3-2. Multi Head Attention**"
      ]
    },
    {
      "cell_type": "code",
      "execution_count": null,
      "id": "9089aee7",
      "metadata": {
        "id": "9089aee7"
      },
      "outputs": [],
      "source": [
        "class MultiHeadAttention(tf.keras.layers.Layer):\n",
        "    def __init__(self, d_model, num_heads):\n",
        "        super(MultiHeadAttention, self).__init__()\n",
        "        self.num_heads = num_heads\n",
        "        self.d_model = d_model\n",
        "            \n",
        "        self.depth = d_model // self.num_heads\n",
        "            \n",
        "        self.W_q = tf.keras.layers.Dense(d_model)\n",
        "        self.W_k = tf.keras.layers.Dense(d_model)\n",
        "        self.W_v = tf.keras.layers.Dense(d_model)\n",
        "            \n",
        "        self.linear = tf.keras.layers.Dense(d_model)\n",
        "\n",
        "    def scaled_dot_product_attention(self, Q, K, V, mask):\n",
        "        d_k = tf.cast(K.shape[-1], tf.float32)\n",
        "        QK = tf.matmul(Q, K, transpose_b=  True)\n",
        "\n",
        "        scaled_qk = QK / tf.math.sqrt(d_k)\n",
        "\n",
        "        if mask is not None: scaled_qk += (mask * -1e9)  \n",
        "\n",
        "        attentions = tf.nn.softmax(scaled_qk, axis = -1)\n",
        "        out = tf.matmul(attentions, V)\n",
        "\n",
        "        return out, attentions\n",
        "            \n",
        "\n",
        "    def split_heads(self, x):\n",
        "        batch_size = x.shape[0]\n",
        "        split_x = tf.reshape(x, (batch_size, -1, self.num_heads, self.depth))\n",
        "        split_x = tf.transpose(split_x, perm = [0, 2, 1, 3])\n",
        "\n",
        "        return split_x\n",
        "\n",
        "    def combine_heads(self, x):\n",
        "        batch_size = x.shape[0]\n",
        "        combined_x = tf.transpose(x, perm = [0, 2, 1, 3])\n",
        "        combined_x = tf.reshape(combined_x, (batch_size, -1, self.d_model))\n",
        "\n",
        "        return combined_x\n",
        "\n",
        "        \n",
        "    def call(self, Q, K, V, mask):\n",
        "        WQ = self.W_q(Q)\n",
        "        WK = self.W_k(K)\n",
        "        WV = self.W_v(V)\n",
        "        \n",
        "        WQ_splits = self.split_heads(WQ)\n",
        "        WK_splits = self.split_heads(WK)\n",
        "        WV_splits = self.split_heads(WV)\n",
        "            \n",
        "        out, attention_weights = self.scaled_dot_product_attention(WQ_splits, WK_splits, WV_splits, mask)\n",
        "        out = self.combine_heads(out)\n",
        "        out = self.linear(out)\n",
        "                \n",
        "        return out, attention_weights"
      ]
    },
    {
      "cell_type": "markdown",
      "id": "a6f12717",
      "metadata": {
        "id": "a6f12717"
      },
      "source": [
        "### **3-3. Position-wise Feed-Forward Network**"
      ]
    },
    {
      "cell_type": "code",
      "execution_count": null,
      "id": "bb7afc3d",
      "metadata": {
        "id": "bb7afc3d"
      },
      "outputs": [],
      "source": [
        "class PoswiseFeedForwardNet(tf.keras.layers.Layer):\n",
        "    def __init__(self, d_model, d_ff):\n",
        "        super(PoswiseFeedForwardNet, self).__init__()\n",
        "        self.w_1 = tf.keras.layers.Dense(d_ff, activation = 'relu')\n",
        "        self.w_2 = tf.keras.layers.Dense(d_model)\n",
        "\n",
        "    def call(self, x):\n",
        "        out = self.w_1(x)\n",
        "        out = self.w_2(out)\n",
        "            \n",
        "        return out"
      ]
    },
    {
      "cell_type": "markdown",
      "id": "af6d419c",
      "metadata": {
        "id": "af6d419c"
      },
      "source": [
        "### **3-4. padding mask**"
      ]
    },
    {
      "cell_type": "code",
      "execution_count": null,
      "id": "e2d32777",
      "metadata": {
        "id": "e2d32777"
      },
      "outputs": [],
      "source": [
        "def generate_padding_mask(seq):\n",
        "    seq = tf.cast(tf.math.equal(seq, 0), tf.float32)\n",
        "    return seq[:, tf.newaxis, tf.newaxis, :]\n",
        "\n",
        "def generate_causality_mask(src_len, tgt_len):\n",
        "    mask = 1 - np.cumsum(np.eye(src_len, tgt_len), 0)\n",
        "    return tf.cast(mask, tf.float32)\n",
        "\n",
        "def generate_masks(src, tgt):\n",
        "    enc_mask = generate_padding_mask(src)\n",
        "    dec_mask = generate_padding_mask(tgt)\n",
        "\n",
        "    dec_enc_causality_mask = generate_causality_mask(tgt.shape[1], src.shape[1])\n",
        "    dec_enc_mask = tf.maximum(enc_mask, dec_enc_causality_mask)\n",
        "\n",
        "    dec_causality_mask = generate_causality_mask(tgt.shape[1], tgt.shape[1])\n",
        "    dec_mask = tf.maximum(dec_mask, dec_causality_mask)\n",
        "\n",
        "    return enc_mask, dec_enc_mask, dec_mask"
      ]
    },
    {
      "cell_type": "markdown",
      "id": "32dd70d6",
      "metadata": {
        "id": "32dd70d6"
      },
      "source": [
        "### **3-5. Encoder Layer**"
      ]
    },
    {
      "cell_type": "code",
      "execution_count": null,
      "id": "433388e1",
      "metadata": {
        "id": "433388e1"
      },
      "outputs": [],
      "source": [
        "class EncoderLayer(tf.keras.layers.Layer):\n",
        "    def __init__(self, d_model, n_heads, d_ff, dropout):\n",
        "        super(EncoderLayer, self).__init__()\n",
        "\n",
        "        self.enc_self_attn = MultiHeadAttention(d_model, n_heads)\n",
        "        self.ffn = PoswiseFeedForwardNet(d_model, d_ff)\n",
        "\n",
        "        self.norm_1 = tf.keras.layers.LayerNormalization(epsilon=1e-6)\n",
        "        self.norm_2 = tf.keras.layers.LayerNormalization(epsilon=1e-6)\n",
        "\n",
        "        self.dropout = tf.keras.layers.Dropout(dropout)\n",
        "        \n",
        "    def call(self, x, mask):\n",
        "        residual = x\n",
        "        out = self.norm_1(x)\n",
        "        out, enc_attn = self.enc_self_attn(out, out, out, mask)\n",
        "        out = self.dropout(out)\n",
        "        out += residual\n",
        "        \n",
        "        residual = out\n",
        "        out = self.norm_2(out)\n",
        "        out = self.ffn(out)\n",
        "        out = self.dropout(out)\n",
        "        out += residual\n",
        "        \n",
        "        return out, enc_attn"
      ]
    },
    {
      "cell_type": "markdown",
      "id": "2a15caef",
      "metadata": {
        "id": "2a15caef"
      },
      "source": [
        "### **3-6. Decoder Layer**"
      ]
    },
    {
      "cell_type": "code",
      "execution_count": null,
      "id": "bd46b3e9",
      "metadata": {
        "id": "bd46b3e9"
      },
      "outputs": [],
      "source": [
        "class DecoderLayer(tf.keras.layers.Layer):\n",
        "    def __init__(self, d_model, num_heads, d_ff, dropout):\n",
        "        super(DecoderLayer, self).__init__()\n",
        "\n",
        "        self.dec_self_attn = MultiHeadAttention(d_model, num_heads)\n",
        "        self.enc_dec_attn = MultiHeadAttention(d_model, num_heads)\n",
        "\n",
        "        self.ffn = PoswiseFeedForwardNet(d_model, d_ff)\n",
        "\n",
        "        self.norm_1 = tf.keras.layers.LayerNormalization(epsilon=1e-6)\n",
        "        self.norm_2 = tf.keras.layers.LayerNormalization(epsilon=1e-6)\n",
        "        self.norm_3 = tf.keras.layers.LayerNormalization(epsilon=1e-6)\n",
        "\n",
        "        self.dropout = tf.keras.layers.Dropout(dropout)\n",
        "    \n",
        "    def call(self, x, enc_out, causality_mask, padding_mask):\n",
        "        residual = x\n",
        "        out = self.norm_1(x)\n",
        "        out, dec_attn = self.dec_self_attn(out, out, out, padding_mask)\n",
        "        out = self.dropout(out)\n",
        "        out += residual\n",
        "\n",
        "        residual = out\n",
        "        out = self.norm_2(out)\n",
        "        out, dec_enc_attn = self.enc_dec_attn(out, enc_out, enc_out, causality_mask)\n",
        "        out = self.dropout(out)\n",
        "        out += residual\n",
        "       \n",
        "        residual = out\n",
        "        out = self.norm_3(out)\n",
        "        out = self.ffn(out)\n",
        "        out = self.dropout(out)\n",
        "        out += residual\n",
        "\n",
        "        return out, dec_attn, dec_enc_attn"
      ]
    },
    {
      "cell_type": "markdown",
      "id": "c67dd097",
      "metadata": {
        "id": "c67dd097"
      },
      "source": [
        "### **3-7. Encoder**"
      ]
    },
    {
      "cell_type": "code",
      "execution_count": null,
      "id": "3e2bd32b",
      "metadata": {
        "id": "3e2bd32b"
      },
      "outputs": [],
      "source": [
        "class Encoder(tf.keras.Model):\n",
        "    def __init__(self, n_layers, d_model, n_heads, d_ff, dropout):\n",
        "        super(Encoder, self).__init__()\n",
        "        self.n_layers = n_layers\n",
        "        self.enc_layers = [EncoderLayer(d_model, n_heads, d_ff, dropout) \n",
        "                        for _ in range(n_layers)]\n",
        "        \n",
        "    def call(self, x, mask):\n",
        "        out = x\n",
        "    \n",
        "        enc_attns = list()\n",
        "        for i in range(self.n_layers):\n",
        "            out, enc_attn = self.enc_layers[i](out, mask)\n",
        "            enc_attns.append(enc_attn)\n",
        "        \n",
        "        return out, enc_attns"
      ]
    },
    {
      "cell_type": "markdown",
      "id": "6211bb61",
      "metadata": {
        "id": "6211bb61"
      },
      "source": [
        "### **3-8. Decoder**"
      ]
    },
    {
      "cell_type": "code",
      "execution_count": null,
      "id": "220196a9",
      "metadata": {
        "id": "220196a9"
      },
      "outputs": [],
      "source": [
        "class Decoder(tf.keras.Model):\n",
        "    def __init__(self, n_layers, d_model, n_heads, d_ff, dropout):\n",
        "        super(Decoder, self).__init__()\n",
        "        self.n_layers = n_layers\n",
        "        self.dec_layers = [DecoderLayer(d_model, n_heads, d_ff, dropout) for _ in range(n_layers)]\n",
        "                                 \n",
        "    def call(self, x, enc_out, causality_mask, padding_mask):\n",
        "        out = x\n",
        "    \n",
        "        dec_attns = list()\n",
        "        dec_enc_attns = list()\n",
        "        for i in range(self.n_layers):\n",
        "            out, dec_attn, dec_enc_attn = \\\n",
        "            self.dec_layers[i](out, enc_out, causality_mask, padding_mask)\n",
        "\n",
        "            dec_attns.append(dec_attn)\n",
        "            dec_enc_attns.append(dec_enc_attn)\n",
        "\n",
        "        return out, dec_attns, dec_enc_attns"
      ]
    },
    {
      "cell_type": "markdown",
      "id": "455408b5",
      "metadata": {
        "id": "455408b5"
      },
      "source": [
        "### **3-9. Transformer**"
      ]
    },
    {
      "cell_type": "code",
      "execution_count": null,
      "id": "6114a93e",
      "metadata": {
        "id": "6114a93e"
      },
      "outputs": [],
      "source": [
        "class Transformer(tf.keras.Model):\n",
        "    def __init__(self, n_layers, d_model, n_heads, d_ff, src_vocab_size, tgt_vocab_size, \n",
        "                 pos_len, dropout=0.2, shared=True):\n",
        "        \n",
        "        super(Transformer, self).__init__()\n",
        "        self.d_model = tf.cast(d_model, tf.float32)\n",
        "\n",
        "        self.enc_emb = tf.keras.layers.Embedding(src_vocab_size, d_model)\n",
        "        self.dec_emb = tf.keras.layers.Embedding(tgt_vocab_size, d_model)\n",
        "\n",
        "        self.pos_encoding = positional_encoding(pos_len, d_model)\n",
        "        self.dropout = tf.keras.layers.Dropout(dropout)\n",
        "\n",
        "        self.encoder = Encoder(n_layers, d_model, n_heads, d_ff, dropout)\n",
        "        self.decoder = Decoder(n_layers, d_model, n_heads, d_ff, dropout)\n",
        "\n",
        "        self.fc = tf.keras.layers.Dense(tgt_vocab_size)\n",
        "\n",
        "        self.shared = shared\n",
        "\n",
        "        if shared: self.fc.set_weights(tf.transpose(self.dec_emb.weights))\n",
        "\n",
        "            \n",
        "    def embedding(self, emb, x):\n",
        "        seq_len = x.shape[1]\n",
        "        out = emb(x)\n",
        "\n",
        "        if self.shared: out *= tf.math.sqrt(self.d_model)\n",
        "\n",
        "        out += self.pos_encoding[np.newaxis, ...][:, :seq_len, :]\n",
        "        out = self.dropout(out)\n",
        "\n",
        "        return out\n",
        "\n",
        "        \n",
        "    def call(self, enc_in, dec_in, enc_mask, causality_mask, dec_mask):\n",
        "        enc_in = self.embedding(self.enc_emb, enc_in)\n",
        "        dec_in = self.embedding(self.dec_emb, dec_in)\n",
        "\n",
        "        enc_out, enc_attns = self.encoder(enc_in, enc_mask)\n",
        "        \n",
        "        dec_out, dec_attns, dec_enc_attns = \\\n",
        "        self.decoder(dec_in, enc_out, causality_mask, dec_mask)\n",
        "        \n",
        "        logits = self.fc(dec_out)\n",
        "        \n",
        "        return logits, enc_attns, dec_attns, dec_enc_attns"
      ]
    },
    {
      "cell_type": "markdown",
      "id": "f81aacb3",
      "metadata": {
        "id": "f81aacb3"
      },
      "source": [
        "### **3-10. Optimizer**"
      ]
    },
    {
      "cell_type": "markdown",
      "id": "2dd852ee",
      "metadata": {
        "id": "2dd852ee"
      },
      "source": [
        "- **Learning Rate Scheduler / Adam**"
      ]
    },
    {
      "cell_type": "code",
      "execution_count": null,
      "id": "4ffba8cf",
      "metadata": {
        "id": "4ffba8cf"
      },
      "outputs": [],
      "source": [
        "class LearningRateScheduler(tf.keras.optimizers.schedules.LearningRateSchedule):\n",
        "    def __init__(self, d_model, warmup_steps = 4000):\n",
        "        super(LearningRateScheduler, self).__init__()\n",
        "        self.d_model = d_model\n",
        "        self.warmup_steps = warmup_steps\n",
        "    \n",
        "    def __call__(self, step):\n",
        "        arg1 = step ** -0.5\n",
        "        arg2 = step * (self.warmup_steps ** -1.5)\n",
        "        \n",
        "        return (self.d_model ** -0.5) * tf.math.minimum(arg1, arg2)"
      ]
    },
    {
      "cell_type": "code",
      "execution_count": null,
      "id": "f4b533ec",
      "metadata": {
        "id": "f4b533ec"
      },
      "outputs": [],
      "source": [
        "learning_rate = LearningRateScheduler(512)"
      ]
    },
    {
      "cell_type": "code",
      "execution_count": null,
      "id": "17774e31",
      "metadata": {
        "id": "17774e31"
      },
      "outputs": [],
      "source": [
        "optimizer = tf.keras.optimizers.Adam(learning_rate, beta_1 = 0.9, beta_2 = 0.98, epsilon = 1e-9)"
      ]
    },
    {
      "cell_type": "markdown",
      "id": "126c1ecb",
      "metadata": {
        "id": "126c1ecb"
      },
      "source": [
        "### **3-11. Loss Function**"
      ]
    },
    {
      "cell_type": "code",
      "execution_count": null,
      "id": "61deb386",
      "metadata": {
        "id": "61deb386"
      },
      "outputs": [],
      "source": [
        "loss_object = tf.keras.losses.SparseCategoricalCrossentropy(from_logits = True, reduction = 'none')"
      ]
    },
    {
      "cell_type": "code",
      "execution_count": null,
      "id": "0fce8c1f",
      "metadata": {
        "id": "0fce8c1f"
      },
      "outputs": [],
      "source": [
        "def loss_function(real, pred):\n",
        "    mask = tf.math.logical_not(tf.math.equal(real, 0))\n",
        "    loss_ = loss_object(real, pred)\n",
        "    \n",
        "    mask = tf.cast(mask, dtype = loss_.dtype)\n",
        "    loss_ *= mask\n",
        "    \n",
        "    return tf.reduce_sum(loss_) / tf.reduce_sum(mask)    "
      ]
    },
    {
      "cell_type": "markdown",
      "id": "8d512f08",
      "metadata": {
        "id": "8d512f08"
      },
      "source": [
        "### **3-12. Train Step Function**"
      ]
    },
    {
      "cell_type": "code",
      "execution_count": null,
      "id": "3fdfc4d8",
      "metadata": {
        "id": "3fdfc4d8"
      },
      "outputs": [],
      "source": [
        "@tf.function()\n",
        "def train_step(src, tgt, model, optimizer):\n",
        "    gold = tgt[:, 1:]\n",
        "        \n",
        "    enc_mask, dec_enc_mask, dec_mask = generate_masks(src, tgt)\n",
        "\n",
        "    with tf.GradientTape() as tape:\n",
        "        predictions, enc_attns, dec_attns, dec_enc_attns = \\\n",
        "        model(src, tgt, enc_mask, dec_enc_mask, dec_mask)\n",
        "        loss = loss_function(gold, predictions[:, :-1])\n",
        "\n",
        "    gradients = tape.gradient(loss, model.trainable_variables)    \n",
        "    optimizer.apply_gradients(zip(gradients, model.trainable_variables))\n",
        "    \n",
        "    return loss, enc_attns, dec_attns, dec_enc_attns"
      ]
    },
    {
      "cell_type": "markdown",
      "id": "53513aad",
      "metadata": {
        "id": "53513aad"
      },
      "source": [
        "## **4. 학습 과정 출력 설계**"
      ]
    },
    {
      "cell_type": "markdown",
      "id": "566a84d3",
      "metadata": {
        "id": "566a84d3"
      },
      "source": [
        "### **4-1. Attention 시각화**"
      ]
    },
    {
      "cell_type": "code",
      "execution_count": null,
      "id": "9a5e608f",
      "metadata": {
        "id": "9a5e608f"
      },
      "outputs": [],
      "source": [
        "def visualize_attention(src, tgt, enc_attns, dec_attns, dec_enc_attns):\n",
        "    def draw(data, ax, x = \"auto\", y = \"auto\"):\n",
        "        sns.heatmap(data, square = True, vmin = 0.0, vmax = 1.0, cbar = False, ax = ax, xticklabels = x, yticklabels = y)\n",
        "        \n",
        "    for layer in range(0, 2, 1):\n",
        "        fig, axs = plt.subplots(1, 4, figsize = (20, 10))\n",
        "        print(f\"<Self Attention {layer + 1}>\")\n",
        "        for h in range(4):\n",
        "            draw(enc_attns[layer][0, h, :len(src), :len(src)], axs[h], src, src)\n",
        "        plt.show()\n",
        "        \n",
        "    for layer in range(0, 2, 1):\n",
        "        fig, axs = plt.subplots(1, 4, figsize = (20, 10))\n",
        "        print(f\"<Decoder Self Layer {layer + 1}>\")\n",
        "        for h in range(4):\n",
        "            draw(dec_attns[layer][0, h, :len(tgt), :len(tgt)], axs[h], tgt, tgt)\n",
        "        plt.show()\n",
        "\n",
        "        print(f\"<Context Vector By Decoder Input {layer + 1}>\")\n",
        "        fig, axs = plt.subplots(1, 4, figsize = (20, 10))\n",
        "        for h in range(4):\n",
        "            draw(dec_enc_attns[layer][0, h, :len(tgt), :len(src)], axs[h], src, tgt)\n",
        "        plt.show()"
      ]
    },
    {
      "cell_type": "markdown",
      "id": "71a5b21c",
      "metadata": {
        "id": "71a5b21c"
      },
      "source": [
        "### **4-2. 번역 진행**"
      ]
    },
    {
      "cell_type": "code",
      "execution_count": null,
      "id": "530dbbae",
      "metadata": {
        "id": "530dbbae"
      },
      "outputs": [],
      "source": [
        "def evaluate(sentence, model, src_tokenizer, tgt_tokenizer):\n",
        "    sentence = preprocess_sentence(sentence)\n",
        "    pieces = src_tokenizer.encode_as_pieces(sentence)\n",
        "    tokens = src_tokenizer.encode_as_ids(sentence)\n",
        "\n",
        "    _input = tf.keras.preprocessing.sequence.pad_sequences([tokens], maxlen=enc_train.shape[-1], padding = 'post')\n",
        "    \n",
        "    print(len(_input))\n",
        "    print(enc_train.shape[-1])\n",
        "\n",
        "    ids = []\n",
        "    output = tf.expand_dims([tgt_tokenizer.bos_id()], 0)\n",
        "    \n",
        "    for i in range(dec_train.shape[-1]):\n",
        "        enc_padding_mask, combined_mask, dec_padding_mask = generate_masks(_input, output)\n",
        "        predictions, enc_attns, dec_attns, dec_enc_attns = model(_input, output, enc_padding_mask, combined_mask, dec_padding_mask)\n",
        "        predicted_id = tf.argmax(tf.math.softmax(predictions, axis=-1)[0, -1]).numpy().item()\n",
        "        \n",
        "        if tgt_tokenizer.eos_id() == predicted_id:\n",
        "            result = tgt_tokenizer.decode_ids(ids)\n",
        "            return pieces, result, enc_attns, dec_attns, dec_enc_attns\n",
        "\n",
        "        ids.append(predicted_id)\n",
        "        output = tf.concat([output, tf.expand_dims([predicted_id], 0)], axis=-1)\n",
        "        \n",
        "    result = tgt_tokenizer.decode_ids(ids)\n",
        "    \n",
        "    return pieces, result, enc_attns, dec_attns, dec_enc_attns"
      ]
    },
    {
      "cell_type": "code",
      "execution_count": null,
      "id": "34e1805a",
      "metadata": {
        "id": "34e1805a"
      },
      "outputs": [],
      "source": [
        "def translate(sentence, model, src_tokenizer, tgt_tokenizer, plot_attention = False):\n",
        "    pieces, result, enc_attns, dec_attns, dec_enc_attns = evaluate(sentence, model, src_tokenizer, tgt_tokenizer)\n",
        " \n",
        "    print('국문:', sentence)\n",
        "    print('번역을 수행한 영문:', result)\n",
        "\n",
        "    if plot_attention:\n",
        "        visualize_attention(pieces, result.split(), enc_attns, dec_attns, dec_enc_attns)"
      ]
    },
    {
      "cell_type": "markdown",
      "id": "23b98991",
      "metadata": {
        "id": "23b98991"
      },
      "source": [
        "## **5. 학습 과정 출력 설계**"
      ]
    },
    {
      "cell_type": "markdown",
      "id": "a431e269",
      "metadata": {
        "id": "a431e269"
      },
      "source": [
        "### **5-1. 모델 정의**"
      ]
    },
    {
      "cell_type": "code",
      "execution_count": null,
      "id": "1fd96663",
      "metadata": {
        "id": "1fd96663"
      },
      "outputs": [],
      "source": [
        "transformer = Transformer(n_layers = 2, d_model = 512, n_heads = 8, d_ff = 2048, \n",
        "                          src_vocab_size = SRC_VOCAB_SIZE, tgt_vocab_size = TGT_VOCAB_SIZE,\n",
        "                          pos_len = 200, dropout = 0.3, shared = True)"
      ]
    },
    {
      "cell_type": "markdown",
      "id": "474a1590",
      "metadata": {
        "id": "474a1590"
      },
      "source": [
        "### **5-2. 학습 정의**"
      ]
    },
    {
      "cell_type": "code",
      "execution_count": null,
      "id": "26b64cec",
      "metadata": {
        "id": "26b64cec"
      },
      "outputs": [],
      "source": [
        "BATCH_SIZE = 64\n",
        "EPOCHS = 30"
      ]
    },
    {
      "cell_type": "markdown",
      "id": "85564e6e",
      "metadata": {
        "id": "85564e6e"
      },
      "source": [
        "### **5-3. 예시 문장 정의**"
      ]
    },
    {
      "cell_type": "code",
      "execution_count": null,
      "id": "e890a965",
      "metadata": {
        "id": "e890a965"
      },
      "outputs": [],
      "source": [
        "examples = [\"오바마는 대통령이다.\", \"시민들은 도시 속에 산다.\", \"커피는 필요 없다.\", \"일곱 명의 사망자가 발생했다.\", \n",
        "            \"여름은 날씨가 덥다.\", \"그와 그녀는 결혼을 한다.\", \"영화관에서 영화를 보고 싶다.\", \"아이들은 학교에 간다.\",\n",
        "            \"동물은 동물원에 있다.\", \"큰 문제가 발생하다.\"]"
      ]
    },
    {
      "cell_type": "markdown",
      "id": "f5fb2d2f",
      "metadata": {
        "id": "f5fb2d2f"
      },
      "source": [
        "### **5-4. 최종 학습 및 학습 과정 출력 함수 정의**"
      ]
    },
    {
      "cell_type": "code",
      "execution_count": null,
      "id": "7c097a8c",
      "metadata": {
        "id": "7c097a8c"
      },
      "outputs": [],
      "source": [
        "def fit(enc_train, dec_train, enc_tokenizer, dec_tokenizer):\n",
        "    enc_maxlen, dec_maxlen = enc_train.shape[-1], dec_train.shape[-1]\n",
        "    \n",
        "    for epoch in range(EPOCHS):\n",
        "        total_loss = 0\n",
        "\n",
        "        idx_list = list(range(0, enc_train.shape[0], BATCH_SIZE))\n",
        "        random.shuffle(idx_list)\n",
        "        t = tqdm_notebook(idx_list)\n",
        "\n",
        "        for (batch, idx) in enumerate(t):\n",
        "            batch_loss, enc_attns, dec_attns, dec_enc_attns = \\\n",
        "            train_step(enc_train[idx:idx+BATCH_SIZE], dec_train[idx:idx+BATCH_SIZE], transformer, optimizer)\n",
        "\n",
        "            total_loss += batch_loss\n",
        "\n",
        "            t.set_description_str('Epoch %2d' % (epoch + 1))\n",
        "            t.set_postfix_str('Loss %.3f' % (total_loss.numpy() / (batch + 1)))\n",
        "        \n",
        "        if (epoch + 1) % 1 == 0:\n",
        "            print(f'<EPOCH {epoch + 1}>')\n",
        "            for example in examples: \n",
        "                translate(example, transformer, ko_tokenizer, en_tokenizer, plot_attention = False)\n",
        "            print(f'\\n')\n",
        "        \n",
        "        if (epoch + 1) % 30 == 0:\n",
        "            translate(example, transformer, ko_tokenizer, en_tokenizer, plot_attention = True)"
      ]
    },
    {
      "cell_type": "markdown",
      "id": "6d384d8e",
      "metadata": {
        "id": "6d384d8e"
      },
      "source": [
        "### **5-5. 학습 진행 및 결과 확인**"
      ]
    },
    {
      "cell_type": "markdown",
      "source": [
        "- **숫자 미포함 데이터를 활용한 학습 진행**"
      ],
      "metadata": {
        "id": "XslrTRcC1dRw"
      },
      "id": "XslrTRcC1dRw"
    },
    {
      "cell_type": "code",
      "execution_count": null,
      "id": "03d6e1fe",
      "metadata": {
        "colab": {
          "referenced_widgets": [
            "19526978fcf44af89d5fa1a5c9cf732c",
            "1e7e099fa102412aa78f3bcf26427f1c",
            "7df582760eb24b3584056d03bd08f8f6",
            "e503fadf88ae4b6d94d38304c417b670",
            "bdf8d8574f5d4dbe9be9a39d320c94bc",
            "b958476d65684da4b0a8f39610c8535a",
            "59303705b2684fb2b1de339629868d3a",
            "f4f2faab87ec4d8f907bcd6e61629a8c",
            "962155c3cef94cacba29dc4a4ffdf258",
            "99e16630dcaf4b61842c9e3025343ba3",
            "a3c3d6c1076544db80b3b658294f0272",
            "b53af78a319c4030a9547c2596b6b672",
            "204defd7a3af4ec79c829a809952cf3e",
            "a7a9b57eaffe4917afd0fff878786eb2",
            "8eb17326205e44cba937763656366ae0",
            "f9eb7ec0f99b44ae8c03488caa292a48",
            "2368cd376aae43e58fc16346952a1156",
            "051b42b59256462cac43cdd2ef129c4f",
            "3882ef9fcb0e4f5daebd1489416d4eec",
            "1f9c19723a1946f38502fcd3c164774e",
            "88b200eb18094f9a8cecb6dbe77eaf6f",
            "c7c64e7b89a04582a19af24515111894",
            "78762adb686b42db926d22b7e2110db5",
            "c7353fb99a3b430d9b7fbc1137c1e3de",
            "b34898fa34a94d589119c6d92e0e729e",
            "c1a3283a089e43769cfd88c1d6721c35",
            "76aa1191c3b7460f8e98faae830c3513",
            "4045754a2b3841a4996b4bedc59201f4",
            "430c02c77aa04239b10b56ae0572d1ce",
            "e6c898cf0de44953a7e913772cafd831"
          ]
        },
        "id": "03d6e1fe",
        "outputId": "f8f87da7-62b0-4804-bae0-ac1665017013"
      },
      "outputs": [
        {
          "data": {
            "application/vnd.jupyter.widget-view+json": {
              "model_id": "19526978fcf44af89d5fa1a5c9cf732c",
              "version_major": 2,
              "version_minor": 0
            },
            "text/plain": [
              "  0%|          | 0/1120 [00:00<?, ?it/s]"
            ]
          },
          "metadata": {},
          "output_type": "display_data"
        },
        {
          "name": "stdout",
          "output_type": "stream",
          "text": [
            "<EPOCH 1>\n",
            "1\n",
            "50\n",
            "국문: 오바마는 대통령이다.\n",
            "번역을 수행한 영문: Obama s elected to the presidential presidential presidential candidate .\n",
            "1\n",
            "50\n",
            "국문: 시민들은 도시 속에 산다.\n",
            "번역을 수행한 영문: They are a little in the area .\n",
            "1\n",
            "50\n",
            "국문: 커피는 필요 없다.\n",
            "번역을 수행한 영문: They are not going to be able to be very very very very very very very very very very  ⁇ \n",
            "1\n",
            "50\n",
            "국문: 일곱 명의 사망자가 발생했다.\n",
            "번역을 수행한 영문: The blast was killed in a nearly nearly , a hospital , who was killed .\n",
            "1\n",
            "50\n",
            "국문: 여름은 날씨가 덥다.\n",
            "번역을 수행한 영문: They are expected to be a lot of the first time .\n",
            "1\n",
            "50\n",
            "국문: 그와 그녀는 결혼을 한다.\n",
            "번역을 수행한 영문: He was a very good .\n",
            "1\n",
            "50\n",
            "국문: 영화관에서 영화를 보고 싶다.\n",
            "번역을 수행한 영문: They s films to the film .\n",
            "1\n",
            "50\n",
            "국문: 아이들은 학교에 간다.\n",
            "번역을 수행한 영문: They are not to be a lot of the deaths .\n",
            "1\n",
            "50\n",
            "국문: 동물은 동물원에 있다.\n",
            "번역을 수행한 영문: They can be a smaller .\n",
            "1\n",
            "50\n",
            "국문: 큰 문제가 발생하다.\n",
            "번역을 수행한 영문: They are a lot of the U . S .\n",
            "\n",
            "\n"
          ]
        },
        {
          "data": {
            "application/vnd.jupyter.widget-view+json": {
              "model_id": "1e7e099fa102412aa78f3bcf26427f1c",
              "version_major": 2,
              "version_minor": 0
            },
            "text/plain": [
              "  0%|          | 0/1120 [00:00<?, ?it/s]"
            ]
          },
          "metadata": {},
          "output_type": "display_data"
        },
        {
          "name": "stdout",
          "output_type": "stream",
          "text": [
            "<EPOCH 2>\n",
            "1\n",
            "50\n",
            "국문: 오바마는 대통령이다.\n",
            "번역을 수행한 영문: Obama is not a president .\n",
            "1\n",
            "50\n",
            "국문: 시민들은 도시 속에 산다.\n",
            "번역을 수행한 영문: The city is the city of city .\n",
            "1\n",
            "50\n",
            "국문: 커피는 필요 없다.\n",
            "번역을 수행한 영문: There is no risk .\n",
            "1\n",
            "50\n",
            "국문: 일곱 명의 사망자가 발생했다.\n",
            "번역을 수행한 영문: On Tuesday , the death toll was killed .\n",
            "1\n",
            "50\n",
            "국문: 여름은 날씨가 덥다.\n",
            "번역을 수행한 영문: The weather is the weather .\n",
            "1\n",
            "50\n",
            "국문: 그와 그녀는 결혼을 한다.\n",
            "번역을 수행한 영문: He was married to marriage .\n",
            "1\n",
            "50\n",
            "국문: 영화관에서 영화를 보고 싶다.\n",
            "번역을 수행한 영문: The film has been the film .\n",
            "1\n",
            "50\n",
            "국문: 아이들은 학교에 간다.\n",
            "번역을 수행한 영문: The children were being tortured .\n",
            "1\n",
            "50\n",
            "국문: 동물은 동물원에 있다.\n",
            "번역을 수행한 영문: animals are animals .\n",
            "1\n",
            "50\n",
            "국문: 큰 문제가 발생하다.\n",
            "번역을 수행한 영문: The Korea Times reports the government is not a new .\n",
            "\n",
            "\n"
          ]
        },
        {
          "data": {
            "application/vnd.jupyter.widget-view+json": {
              "model_id": "7df582760eb24b3584056d03bd08f8f6",
              "version_major": 2,
              "version_minor": 0
            },
            "text/plain": [
              "  0%|          | 0/1120 [00:00<?, ?it/s]"
            ]
          },
          "metadata": {},
          "output_type": "display_data"
        },
        {
          "name": "stdout",
          "output_type": "stream",
          "text": [
            "<EPOCH 3>\n",
            "1\n",
            "50\n",
            "국문: 오바마는 대통령이다.\n",
            "번역을 수행한 영문: It is a president .\n",
            "1\n",
            "50\n",
            "국문: 시민들은 도시 속에 산다.\n",
            "번역을 수행한 영문: They are in the town of San Diego .\n",
            "1\n",
            "50\n",
            "국문: 커피는 필요 없다.\n",
            "번역을 수행한 영문: coffee is not a coffee .\n",
            "1\n",
            "50\n",
            "국문: 일곱 명의 사망자가 발생했다.\n",
            "번역을 수행한 영문: The death toll was killed .\n",
            "1\n",
            "50\n",
            "국문: 여름은 날씨가 덥다.\n",
            "번역을 수행한 영문: The weather is the weather .\n",
            "1\n",
            "50\n",
            "국문: 그와 그녀는 결혼을 한다.\n",
            "번역을 수행한 영문: He and her marriage , she said .\n",
            "1\n",
            "50\n",
            "국문: 영화관에서 영화를 보고 싶다.\n",
            "번역을 수행한 영문: They have long been held .\n",
            "1\n",
            "50\n",
            "국문: 아이들은 학교에 간다.\n",
            "번역을 수행한 영문: kids are children .\n",
            "1\n",
            "50\n",
            "국문: 동물은 동물원에 있다.\n",
            "번역을 수행한 영문: animal animals have been animals .\n",
            "1\n",
            "50\n",
            "국문: 큰 문제가 발생하다.\n",
            "번역을 수행한 영문: The problem is the problem is the problem .\n",
            "\n",
            "\n"
          ]
        },
        {
          "data": {
            "application/vnd.jupyter.widget-view+json": {
              "model_id": "e503fadf88ae4b6d94d38304c417b670",
              "version_major": 2,
              "version_minor": 0
            },
            "text/plain": [
              "  0%|          | 0/1120 [00:00<?, ?it/s]"
            ]
          },
          "metadata": {},
          "output_type": "display_data"
        },
        {
          "name": "stdout",
          "output_type": "stream",
          "text": [
            "<EPOCH 4>\n",
            "1\n",
            "50\n",
            "국문: 오바마는 대통령이다.\n",
            "번역을 수행한 영문: The President is a president .\n",
            "1\n",
            "50\n",
            "국문: 시민들은 도시 속에 산다.\n",
            "번역을 수행한 영문: The city s city is in the city .\n",
            "1\n",
            "50\n",
            "국문: 커피는 필요 없다.\n",
            "번역을 수행한 영문: coffee in coffee\n",
            "1\n",
            "50\n",
            "국문: 일곱 명의 사망자가 발생했다.\n",
            "번역을 수행한 영문: On Sunday , people died .\n",
            "1\n",
            "50\n",
            "국문: 여름은 날씨가 덥다.\n",
            "번역을 수행한 영문: This is a weather .\n",
            "1\n",
            "50\n",
            "국문: 그와 그녀는 결혼을 한다.\n",
            "번역을 수행한 영문: He and her marriage .\n",
            "1\n",
            "50\n",
            "국문: 영화관에서 영화를 보고 싶다.\n",
            "번역을 수행한 영문: The movie will be held by the theater s theaters .\n",
            "1\n",
            "50\n",
            "국문: 아이들은 학교에 간다.\n",
            "번역을 수행한 영문: children are children .\n",
            "1\n",
            "50\n",
            "국문: 동물은 동물원에 있다.\n",
            "번역을 수행한 영문: Animal rights animals are animals .\n",
            "1\n",
            "50\n",
            "국문: 큰 문제가 발생하다.\n",
            "번역을 수행한 영문: The big problems in the big media .\n",
            "\n",
            "\n"
          ]
        },
        {
          "data": {
            "application/vnd.jupyter.widget-view+json": {
              "model_id": "bdf8d8574f5d4dbe9be9a39d320c94bc",
              "version_major": 2,
              "version_minor": 0
            },
            "text/plain": [
              "  0%|          | 0/1120 [00:00<?, ?it/s]"
            ]
          },
          "metadata": {},
          "output_type": "display_data"
        },
        {
          "name": "stdout",
          "output_type": "stream",
          "text": [
            "<EPOCH 5>\n",
            "1\n",
            "50\n",
            "국문: 오바마는 대통령이다.\n",
            "번역을 수행한 영문: It is a president .\n",
            "1\n",
            "50\n",
            "국문: 시민들은 도시 속에 산다.\n",
            "번역을 수행한 영문: citizens .\n",
            "1\n",
            "50\n",
            "국문: 커피는 필요 없다.\n",
            "번역을 수행한 영문: She needs to be able to get a cup of de France .\n",
            "1\n",
            "50\n",
            "국문: 일곱 명의 사망자가 발생했다.\n",
            "번역을 수행한 영문: Six soldiers were dead .\n",
            "1\n",
            "50\n",
            "국문: 여름은 날씨가 덥다.\n",
            "번역을 수행한 영문: This is a way of weather .\n",
            "1\n",
            "50\n",
            "국문: 그와 그녀는 결혼을 한다.\n",
            "번역을 수행한 영문: She and her keeps her wedding\n",
            "1\n",
            "50\n",
            "국문: 영화관에서 영화를 보고 싶다.\n",
            "번역을 수행한 영문: In theaters , it s a lot to know .\n",
            "1\n",
            "50\n",
            "국문: 아이들은 학교에 간다.\n",
            "번역을 수행한 영문: children\n",
            "1\n",
            "50\n",
            "국문: 동물은 동물원에 있다.\n",
            "번역을 수행한 영문: Animals are located .\n",
            "1\n",
            "50\n",
            "국문: 큰 문제가 발생하다.\n",
            "번역을 수행한 영문: It is a big problem .\n",
            "\n",
            "\n"
          ]
        },
        {
          "data": {
            "application/vnd.jupyter.widget-view+json": {
              "model_id": "b958476d65684da4b0a8f39610c8535a",
              "version_major": 2,
              "version_minor": 0
            },
            "text/plain": [
              "  0%|          | 0/1120 [00:00<?, ?it/s]"
            ]
          },
          "metadata": {},
          "output_type": "display_data"
        },
        {
          "name": "stdout",
          "output_type": "stream",
          "text": [
            "<EPOCH 6>\n",
            "1\n",
            "50\n",
            "국문: 오바마는 대통령이다.\n",
            "번역을 수행한 영문: Obama is the president .\n",
            "1\n",
            "50\n",
            "국문: 시민들은 도시 속에 산다.\n",
            "번역을 수행한 영문: They are on the street .\n",
            "1\n",
            "50\n",
            "국문: 커피는 필요 없다.\n",
            "번역을 수행한 영문: There is no immediate need for a night .\n",
            "1\n",
            "50\n",
            "국문: 일곱 명의 사망자가 발생했다.\n",
            "번역을 수행한 영문: Six seven people died Sunday , she said .\n",
            "1\n",
            "50\n",
            "국문: 여름은 날씨가 덥다.\n",
            "번역을 수행한 영문: This summer rain is the summer and summer .\n",
            "1\n",
            "50\n",
            "국문: 그와 그녀는 결혼을 한다.\n",
            "번역을 수행한 영문: She and she married her\n",
            "1\n",
            "50\n",
            "국문: 영화관에서 영화를 보고 싶다.\n",
            "번역을 수행한 영문: The film opens in theaters .\n",
            "1\n",
            "50\n",
            "국문: 아이들은 학교에 간다.\n",
            "번역을 수행한 영문: The kids are crying , but kids .\n",
            "1\n",
            "50\n",
            "국문: 동물은 동물원에 있다.\n",
            "번역을 수행한 영문: animals are located about animals .\n",
            "1\n",
            "50\n",
            "국문: 큰 문제가 발생하다.\n",
            "번역을 수행한 영문: The big problems have been a problem .\n",
            "\n",
            "\n"
          ]
        },
        {
          "data": {
            "application/vnd.jupyter.widget-view+json": {
              "model_id": "59303705b2684fb2b1de339629868d3a",
              "version_major": 2,
              "version_minor": 0
            },
            "text/plain": [
              "  0%|          | 0/1120 [00:00<?, ?it/s]"
            ]
          },
          "metadata": {},
          "output_type": "display_data"
        },
        {
          "name": "stdout",
          "output_type": "stream",
          "text": [
            "<EPOCH 7>\n",
            "1\n",
            "50\n",
            "국문: 오바마는 대통령이다.\n",
            "번역을 수행한 영문: The President is a president .\n",
            "1\n",
            "50\n",
            "국문: 시민들은 도시 속에 산다.\n",
            "번역을 수행한 영문: They are taking the mountain .\n",
            "1\n",
            "50\n",
            "국문: 커피는 필요 없다.\n",
            "번역을 수행한 영문: coffee is nod for speaking conditions .\n",
            "1\n",
            "50\n",
            "국문: 일곱 명의 사망자가 발생했다.\n",
            "번역을 수행한 영문: The seven victims , who died Tuesday , were reported .\n",
            "1\n",
            "50\n",
            "국문: 여름은 날씨가 덥다.\n",
            "번역을 수행한 영문: This summer weather is a pretty cool summer .\n",
            "1\n",
            "50\n",
            "국문: 그와 그녀는 결혼을 한다.\n",
            "번역을 수행한 영문: He and she married in a state .\n",
            "1\n",
            "50\n",
            "국문: 영화관에서 영화를 보고 싶다.\n",
            "번역을 수행한 영문: I want to play some kind of movie theater .\n",
            "1\n",
            "50\n",
            "국문: 아이들은 학교에 간다.\n",
            "번역을 수행한 영문: He s kids in schools .\n",
            "1\n",
            "50\n",
            "국문: 동물은 동물원에 있다.\n",
            "번역을 수행한 영문: The animals are considered .\n",
            "1\n",
            "50\n",
            "국문: 큰 문제가 발생하다.\n",
            "번역을 수행한 영문: It is a big problem .\n",
            "\n",
            "\n"
          ]
        },
        {
          "data": {
            "application/vnd.jupyter.widget-view+json": {
              "model_id": "f4f2faab87ec4d8f907bcd6e61629a8c",
              "version_major": 2,
              "version_minor": 0
            },
            "text/plain": [
              "  0%|          | 0/1120 [00:00<?, ?it/s]"
            ]
          },
          "metadata": {},
          "output_type": "display_data"
        },
        {
          "name": "stdout",
          "output_type": "stream",
          "text": [
            "<EPOCH 8>\n",
            "1\n",
            "50\n",
            "국문: 오바마는 대통령이다.\n",
            "번역을 수행한 영문: The President is a Obama victory .\n",
            "1\n",
            "50\n",
            "국문: 시민들은 도시 속에 산다.\n",
            "번역을 수행한 영문: citizens takers sometime in the street .\n",
            "1\n",
            "50\n",
            "국문: 커피는 필요 없다.\n",
            "번역을 수행한 영문: coffee . supplies participation .\n",
            "1\n",
            "50\n",
            "국문: 일곱 명의 사망자가 발생했다.\n",
            "번역을 수행한 영문: Seven of seven were dead , a year old girl injured Tuesday , said provincial lawmaker .\n",
            "1\n",
            "50\n",
            "국문: 여름은 날씨가 덥다.\n",
            "번역을 수행한 영문: summer is a place for a place .\n",
            "1\n",
            "50\n",
            "국문: 그와 그녀는 결혼을 한다.\n",
            "번역을 수행한 영문: She and she married in .\n",
            "1\n",
            "50\n",
            "국문: 영화관에서 영화를 보고 싶다.\n",
            "번역을 수행한 영문: There are some to be some viewers in theaters .\n",
            "1\n",
            "50\n",
            "국문: 아이들은 학교에 간다.\n",
            "번역을 수행한 영문: children\n",
            "1\n",
            "50\n",
            "국문: 동물은 동물원에 있다.\n",
            "번역을 수행한 영문: The animals are animals .\n",
            "1\n",
            "50\n",
            "국문: 큰 문제가 발생하다.\n",
            "번역을 수행한 영문: A big problem is that a matter of problems worry about that .\n",
            "\n",
            "\n"
          ]
        },
        {
          "data": {
            "application/vnd.jupyter.widget-view+json": {
              "model_id": "962155c3cef94cacba29dc4a4ffdf258",
              "version_major": 2,
              "version_minor": 0
            },
            "text/plain": [
              "  0%|          | 0/1120 [00:00<?, ?it/s]"
            ]
          },
          "metadata": {},
          "output_type": "display_data"
        },
        {
          "name": "stdout",
          "output_type": "stream",
          "text": [
            "<EPOCH 9>\n",
            "1\n",
            "50\n",
            "국문: 오바마는 대통령이다.\n",
            "번역을 수행한 영문: President Obama is , and is a critical person .\n",
            "1\n",
            "50\n",
            "국문: 시민들은 도시 속에 산다.\n",
            "번역을 수행한 영문: citizens .\n",
            "1\n",
            "50\n",
            "국문: 커피는 필요 없다.\n",
            "번역을 수행한 영문: coffee there is no other holds coffee\n",
            "1\n",
            "50\n",
            "국문: 일곱 명의 사망자가 발생했다.\n",
            "번역을 수행한 영문: Seven seven people were dead , including seven persons , but more than dead person victim survived .\n",
            "1\n",
            "50\n",
            "국문: 여름은 날씨가 덥다.\n",
            "번역을 수행한 영문: This summer weather is the weather .\n",
            "1\n",
            "50\n",
            "국문: 그와 그녀는 결혼을 한다.\n",
            "번역을 수행한 영문: She and she married in a wedding .\n",
            "1\n",
            "50\n",
            "국문: 영화관에서 영화를 보고 싶다.\n",
            "번역을 수행한 영문: You may not see if you can film .\n",
            "1\n",
            "50\n",
            "국문: 아이들은 학교에 간다.\n",
            "번역을 수행한 영문: Here s children\n",
            "1\n",
            "50\n",
            "국문: 동물은 동물원에 있다.\n",
            "번역을 수행한 영문: The animal is animals .\n",
            "1\n",
            "50\n",
            "국문: 큰 문제가 발생하다.\n",
            "번역을 수행한 영문: At one point on the problem .\n",
            "\n",
            "\n"
          ]
        },
        {
          "data": {
            "application/vnd.jupyter.widget-view+json": {
              "model_id": "99e16630dcaf4b61842c9e3025343ba3",
              "version_major": 2,
              "version_minor": 0
            },
            "text/plain": [
              "  0%|          | 0/1120 [00:00<?, ?it/s]"
            ]
          },
          "metadata": {},
          "output_type": "display_data"
        },
        {
          "name": "stdout",
          "output_type": "stream",
          "text": [
            "<EPOCH 10>\n",
            "1\n",
            "50\n",
            "국문: 오바마는 대통령이다.\n",
            "번역을 수행한 영문: The Oval Office is a Obama family .\n",
            "1\n",
            "50\n",
            "국문: 시민들은 도시 속에 산다.\n",
            "번역을 수행한 영문: The city s food city will only become the only one visiting .\n",
            "1\n",
            "50\n",
            "국문: 커피는 필요 없다.\n",
            "번역을 수행한 영문: coffee makes coffee .\n",
            "1\n",
            "50\n",
            "국문: 일곱 명의 사망자가 발생했다.\n",
            "번역을 수행한 영문: Seven people were killed , , of them injuries .\n",
            "1\n",
            "50\n",
            "국문: 여름은 날씨가 덥다.\n",
            "번역을 수행한 영문: summer is a place that s weather is a summer .\n",
            "1\n",
            "50\n",
            "국문: 그와 그녀는 결혼을 한다.\n",
            "번역을 수행한 영문: she and her married\n",
            "1\n",
            "50\n",
            "국문: 영화관에서 영화를 보고 싶다.\n",
            "번역을 수행한 영문: There may be some words .\n",
            "1\n",
            "50\n",
            "국문: 아이들은 학교에 간다.\n",
            "번역을 수행한 영문: child\n",
            "1\n",
            "50\n",
            "국문: 동물은 동물원에 있다.\n",
            "번역을 수행한 영문: The animal is considered a zoo on .\n",
            "1\n",
            "50\n",
            "국문: 큰 문제가 발생하다.\n",
            "번역을 수행한 영문: At a big problem , he takes a big problem .\n",
            "\n",
            "\n"
          ]
        },
        {
          "data": {
            "application/vnd.jupyter.widget-view+json": {
              "model_id": "a3c3d6c1076544db80b3b658294f0272",
              "version_major": 2,
              "version_minor": 0
            },
            "text/plain": [
              "  0%|          | 0/1120 [00:00<?, ?it/s]"
            ]
          },
          "metadata": {},
          "output_type": "display_data"
        },
        {
          "name": "stdout",
          "output_type": "stream",
          "text": [
            "<EPOCH 11>\n",
            "1\n",
            "50\n",
            "국문: 오바마는 대통령이다.\n",
            "번역을 수행한 영문: The President s Obama is .\n",
            "1\n",
            "50\n",
            "국문: 시민들은 도시 속에 산다.\n",
            "번역을 수행한 영문: The city s long time can all to .\n",
            "1\n",
            "50\n",
            "국문: 커피는 필요 없다.\n",
            "번역을 수행한 영문: coffee speaking coffee .\n",
            "1\n",
            "50\n",
            "국문: 일곱 명의 사망자가 발생했다.\n",
            "번역을 수행한 영문: Seven people were killed Tuesday , said the government s connection kicks .\n",
            "1\n",
            "50\n",
            "국문: 여름은 날씨가 덥다.\n",
            "번역을 수행한 영문: This summer weather is a place that does not lights .\n",
            "1\n",
            "50\n",
            "국문: 그와 그녀는 결혼을 한다.\n",
            "번역을 수행한 영문: she and she married .\n",
            "1\n",
            "50\n",
            "국문: 영화관에서 영화를 보고 싶다.\n",
            "번역을 수행한 영문: I wanted to play on And in films .\n",
            "1\n",
            "50\n",
            "국문: 아이들은 학교에 간다.\n",
            "번역을 수행한 영문: boy she says she s spending six children with Detroit .\n",
            "1\n",
            "50\n",
            "국문: 동물은 동물원에 있다.\n",
            "번역을 수행한 영문: The animals are considered .\n",
            "1\n",
            "50\n",
            "국문: 큰 문제가 발생하다.\n",
            "번역을 수행한 영문: At a big problem , we are not a problem .\n",
            "\n",
            "\n"
          ]
        },
        {
          "data": {
            "application/vnd.jupyter.widget-view+json": {
              "model_id": "b53af78a319c4030a9547c2596b6b672",
              "version_major": 2,
              "version_minor": 0
            },
            "text/plain": [
              "  0%|          | 0/1120 [00:00<?, ?it/s]"
            ]
          },
          "metadata": {},
          "output_type": "display_data"
        },
        {
          "name": "stdout",
          "output_type": "stream",
          "text": [
            "<EPOCH 12>\n",
            "1\n",
            "50\n",
            "국문: 오바마는 대통령이다.\n",
            "번역을 수행한 영문: The president is going to .\n",
            "1\n",
            "50\n",
            "국문: 시민들은 도시 속에 산다.\n",
            "번역을 수행한 영문: This is the wealthy to the San Diego  ⁇ ui surrounding the San Diego  ⁇ uiulu .\n",
            "1\n",
            "50\n",
            "국문: 커피는 필요 없다.\n",
            "번역을 수행한 영문: coffee is no otheroff .\n",
            "1\n",
            "50\n",
            "국문: 일곱 명의 사망자가 발생했다.\n",
            "번역을 수행한 영문: Seven of the dead were wounded .\n",
            "1\n",
            "50\n",
            "국문: 여름은 날씨가 덥다.\n",
            "번역을 수행한 영문: summer is pretty much higher .\n",
            "1\n",
            "50\n",
            "국문: 그와 그녀는 결혼을 한다.\n",
            "번역을 수행한 영문: she and her married in another\n",
            "1\n",
            "50\n",
            "국문: 영화관에서 영화를 보고 싶다.\n",
            "번역을 수행한 영문: I would like to talk about filming .\n",
            "1\n",
            "50\n",
            "국문: 아이들은 학교에 간다.\n",
            "번역을 수행한 영문: children\n",
            "1\n",
            "50\n",
            "국문: 동물은 동물원에 있다.\n",
            "번역을 수행한 영문: animals are considered .\n",
            "1\n",
            "50\n",
            "국문: 큰 문제가 발생하다.\n",
            "번역을 수행한 영문: It is a big problem .\n",
            "\n",
            "\n"
          ]
        },
        {
          "data": {
            "application/vnd.jupyter.widget-view+json": {
              "model_id": "204defd7a3af4ec79c829a809952cf3e",
              "version_major": 2,
              "version_minor": 0
            },
            "text/plain": [
              "  0%|          | 0/1120 [00:00<?, ?it/s]"
            ]
          },
          "metadata": {},
          "output_type": "display_data"
        },
        {
          "name": "stdout",
          "output_type": "stream",
          "text": [
            "<EPOCH 13>\n",
            "1\n",
            "50\n",
            "국문: 오바마는 대통령이다.\n",
            "번역을 수행한 영문: The President is tall central President .\n",
            "1\n",
            "50\n",
            "국문: 시민들은 도시 속에 산다.\n",
            "번역을 수행한 영문: For the land is half of the city s long .\n",
            "1\n",
            "50\n",
            "국문: 커피는 필요 없다.\n",
            "번역을 수행한 영문: coffee . aren t  marched .\n",
            "1\n",
            "50\n",
            "국문: 일곱 명의 사망자가 발생했다.\n",
            "번역을 수행한 영문: In put everything from seven deaths .\n",
            "1\n",
            "50\n",
            "국문: 여름은 날씨가 덥다.\n",
            "번역을 수행한 영문: This summer s weather is a weather good summer .\n",
            "1\n",
            "50\n",
            "국문: 그와 그녀는 결혼을 한다.\n",
            "번역을 수행한 영문: She married a marriage to a family\n",
            "1\n",
            "50\n",
            "국문: 영화관에서 영화를 보고 싶다.\n",
            "번역을 수행한 영문: There may be few words , he wrote .\n",
            "1\n",
            "50\n",
            "국문: 아이들은 학교에 간다.\n",
            "번역을 수행한 영문: kids are she said to school .\n",
            "1\n",
            "50\n",
            "국문: 동물은 동물원에 있다.\n",
            "번역을 수행한 영문: The animals are considered .\n",
            "1\n",
            "50\n",
            "국문: 큰 문제가 발생하다.\n",
            "번역을 수행한 영문: It s not big signs .\n",
            "\n",
            "\n"
          ]
        },
        {
          "data": {
            "application/vnd.jupyter.widget-view+json": {
              "model_id": "a7a9b57eaffe4917afd0fff878786eb2",
              "version_major": 2,
              "version_minor": 0
            },
            "text/plain": [
              "  0%|          | 0/1120 [00:00<?, ?it/s]"
            ]
          },
          "metadata": {},
          "output_type": "display_data"
        },
        {
          "name": "stdout",
          "output_type": "stream",
          "text": [
            "<EPOCH 14>\n",
            "1\n",
            "50\n",
            "국문: 오바마는 대통령이다.\n",
            "번역을 수행한 영문: The President is a Obama all .\n",
            "1\n",
            "50\n",
            "국문: 시민들은 도시 속에 산다.\n",
            "번역을 수행한 영문: They re running the overseas .\n",
            "1\n",
            "50\n",
            "국문: 커피는 필요 없다.\n",
            "번역을 수행한 영문: coffee . doesn t speak for allegedly coffee .\n",
            "1\n",
            "50\n",
            "국문: 일곱 명의 사망자가 발생했다.\n",
            "번역을 수행한 영문: Seven of seven people were killed .\n",
            "1\n",
            "50\n",
            "국문: 여름은 날씨가 덥다.\n",
            "번역을 수행한 영문: This summer is a weatherern Pay spokeswoman .\n",
            "1\n",
            "50\n",
            "국문: 그와 그녀는 결혼을 한다.\n",
            "번역을 수행한 영문: She and she married on a question .\n",
            "1\n",
            "50\n",
            "국문: 영화관에서 영화를 보고 싶다.\n",
            "번역을 수행한 영문: There may be even if you have theaters .\n",
            "1\n",
            "50\n",
            "국문: 아이들은 학교에 간다.\n",
            "번역을 수행한 영문: boys are children\n",
            "1\n",
            "50\n",
            "국문: 동물은 동물원에 있다.\n",
            "번역을 수행한 영문: The animals are animals .\n",
            "1\n",
            "50\n",
            "국문: 큰 문제가 발생하다.\n",
            "번역을 수행한 영문: Fears that Korea s By problem has attracted a big problems .\n",
            "\n",
            "\n"
          ]
        },
        {
          "data": {
            "application/vnd.jupyter.widget-view+json": {
              "model_id": "8eb17326205e44cba937763656366ae0",
              "version_major": 2,
              "version_minor": 0
            },
            "text/plain": [
              "  0%|          | 0/1120 [00:00<?, ?it/s]"
            ]
          },
          "metadata": {},
          "output_type": "display_data"
        },
        {
          "name": "stdout",
          "output_type": "stream",
          "text": [
            "<EPOCH 15>\n",
            "1\n",
            "50\n",
            "국문: 오바마는 대통령이다.\n",
            "번역을 수행한 영문: The President is a Obama present .\n",
            "1\n",
            "50\n",
            "국문: 시민들은 도시 속에 산다.\n",
            "번역을 수행한 영문: For the rest of the country is getting about urban .\n",
            "1\n",
            "50\n",
            "국문: 커피는 필요 없다.\n",
            "번역을 수행한 영문: coffee . aren t drinking .\n",
            "1\n",
            "50\n",
            "국문: 일곱 명의 사망자가 발생했다.\n",
            "번역을 수행한 영문: Seven soldiers were killed , said Monday .\n",
            "1\n",
            "50\n",
            "국문: 여름은 날씨가 덥다.\n",
            "번역을 수행한 영문: This summer weather is a weather for dry condition .\n",
            "1\n",
            "50\n",
            "국문: 그와 그녀는 결혼을 한다.\n",
            "번역을 수행한 영문: She and she married in a wedding\n",
            "1\n",
            "50\n",
            "국문: 영화관에서 영화를 보고 싶다.\n",
            "번역을 수행한 영문: By some theater , he might be starring in theaters .\n",
            "1\n",
            "50\n",
            "국문: 아이들은 학교에 간다.\n",
            "번역을 수행한 영문: boys say they are driven in childhood .\n",
            "1\n",
            "50\n",
            "국문: 동물은 동물원에 있다.\n",
            "번역을 수행한 영문: The animals are animals .\n",
            "1\n",
            "50\n",
            "국문: 큰 문제가 발생하다.\n",
            "번역을 수행한 영문: D problem is required to be very big in problems .\n",
            "\n",
            "\n"
          ]
        },
        {
          "data": {
            "application/vnd.jupyter.widget-view+json": {
              "model_id": "f9eb7ec0f99b44ae8c03488caa292a48",
              "version_major": 2,
              "version_minor": 0
            },
            "text/plain": [
              "  0%|          | 0/1120 [00:00<?, ?it/s]"
            ]
          },
          "metadata": {},
          "output_type": "display_data"
        },
        {
          "name": "stdout",
          "output_type": "stream",
          "text": [
            "<EPOCH 16>\n",
            "1\n",
            "50\n",
            "국문: 오바마는 대통령이다.\n",
            "번역을 수행한 영문: The President is , Obama is .\n",
            "1\n",
            "50\n",
            "국문: 시민들은 도시 속에 산다.\n",
            "번역을 수행한 영문: They can just five months .\n",
            "1\n",
            "50\n",
            "국문: 커피는 필요 없다.\n",
            "번역을 수행한 영문: coffee . does not makes it much more coffee .\n",
            "1\n",
            "50\n",
            "국문: 일곱 명의 사망자가 발생했다.\n",
            "번역을 수행한 영문: Seven people were killed , said Monday .\n",
            "1\n",
            "50\n",
            "국문: 여름은 날씨가 덥다.\n",
            "번역을 수행한 영문: This summer .\n",
            "1\n",
            "50\n",
            "국문: 그와 그녀는 결혼을 한다.\n",
            "번역을 수행한 영문: she and her married .\n",
            "1\n",
            "50\n",
            "국문: 영화관에서 영화를 보고 싶다.\n",
            "번역을 수행한 영문: I didn t want to see them .\n",
            "1\n",
            "50\n",
            "국문: 아이들은 학교에 간다.\n",
            "번역을 수행한 영문: children United States\n",
            "1\n",
            "50\n",
            "국문: 동물은 동물원에 있다.\n",
            "번역을 수행한 영문: The animals are attracting a sign of animal .\n",
            "1\n",
            "50\n",
            "국문: 큰 문제가 발생하다.\n",
            "번역을 수행한 영문: My big problems\n",
            "\n",
            "\n"
          ]
        },
        {
          "data": {
            "application/vnd.jupyter.widget-view+json": {
              "model_id": "2368cd376aae43e58fc16346952a1156",
              "version_major": 2,
              "version_minor": 0
            },
            "text/plain": [
              "  0%|          | 0/1120 [00:00<?, ?it/s]"
            ]
          },
          "metadata": {},
          "output_type": "display_data"
        },
        {
          "name": "stdout",
          "output_type": "stream",
          "text": [
            "<EPOCH 17>\n",
            "1\n",
            "50\n",
            "국문: 오바마는 대통령이다.\n",
            "번역을 수행한 영문: The President is the Obamas .\n",
            "1\n",
            "50\n",
            "국문: 시민들은 도시 속에 산다.\n",
            "번역을 수행한 영문: The st cities will just apply .\n",
            "1\n",
            "50\n",
            "국문: 커피는 필요 없다.\n",
            "번역을 수행한 영문: coffee .\n",
            "1\n",
            "50\n",
            "국문: 일곱 명의 사망자가 발생했다.\n",
            "번역을 수행한 영문: Seven people were killed , she said Monday , marking ambush seven and six other deaths .\n",
            "1\n",
            "50\n",
            "국문: 여름은 날씨가 덥다.\n",
            "번역을 수행한 영문: This summer .\n",
            "1\n",
            "50\n",
            "국문: 그와 그녀는 결혼을 한다.\n",
            "번역을 수행한 영문: She married a girls time .\n",
            "1\n",
            "50\n",
            "국문: 영화관에서 영화를 보고 싶다.\n",
            "번역을 수행한 영문: There may be some viewers if you can realize the movie .\n",
            "1\n",
            "50\n",
            "국문: 아이들은 학교에 간다.\n",
            "번역을 수행한 영문: kids are likely to may be Beijing wanted to school .\n",
            "1\n",
            "50\n",
            "국문: 동물은 동물원에 있다.\n",
            "번역을 수행한 영문: The animals are animals .\n",
            "1\n",
            "50\n",
            "국문: 큰 문제가 발생하다.\n",
            "번역을 수행한 영문: It s not the problem I ve been a problem .\n",
            "\n",
            "\n"
          ]
        },
        {
          "data": {
            "application/vnd.jupyter.widget-view+json": {
              "model_id": "051b42b59256462cac43cdd2ef129c4f",
              "version_major": 2,
              "version_minor": 0
            },
            "text/plain": [
              "  0%|          | 0/1120 [00:00<?, ?it/s]"
            ]
          },
          "metadata": {},
          "output_type": "display_data"
        },
        {
          "name": "stdout",
          "output_type": "stream",
          "text": [
            "<EPOCH 18>\n",
            "1\n",
            "50\n",
            "국문: 오바마는 대통령이다.\n",
            "번역을 수행한 영문: The President is , Obama is .\n",
            "1\n",
            "50\n",
            "국문: 시민들은 도시 속에 산다.\n",
            "번역을 수행한 영문: Some people are suspected of involvement in the s .\n",
            "1\n",
            "50\n",
            "국문: 커피는 필요 없다.\n",
            "번역을 수행한 영문: coffee makes coffee accepts coffee .\n",
            "1\n",
            "50\n",
            "국문: 일곱 명의 사망자가 발생했다.\n",
            "번역을 수행한 영문: Seven of the dead were Nepal reached Sunday , according to some with about , people .\n",
            "1\n",
            "50\n",
            "국문: 여름은 날씨가 덥다.\n",
            "번역을 수행한 영문: summer .\n",
            "1\n",
            "50\n",
            "국문: 그와 그녀는 결혼을 한다.\n",
            "번역을 수행한 영문: she and everyone married to marry .\n",
            "1\n",
            "50\n",
            "국문: 영화관에서 영화를 보고 싶다.\n",
            "번역을 수행한 영문: There may be some fellow he starring David as Change TV .\n",
            "1\n",
            "50\n",
            "국문: 아이들은 학교에 간다.\n",
            "번역을 수행한 영문: The children are gone to school .\n",
            "1\n",
            "50\n",
            "국문: 동물은 동물원에 있다.\n",
            "번역을 수행한 영문: animals are zoos .\n",
            "1\n",
            "50\n",
            "국문: 큰 문제가 발생하다.\n",
            "번역을 수행한 영문: big problems were made available .\n",
            "\n",
            "\n"
          ]
        },
        {
          "data": {
            "application/vnd.jupyter.widget-view+json": {
              "model_id": "3882ef9fcb0e4f5daebd1489416d4eec",
              "version_major": 2,
              "version_minor": 0
            },
            "text/plain": [
              "  0%|          | 0/1120 [00:00<?, ?it/s]"
            ]
          },
          "metadata": {},
          "output_type": "display_data"
        },
        {
          "name": "stdout",
          "output_type": "stream",
          "text": [
            "<EPOCH 19>\n",
            "1\n",
            "50\n",
            "국문: 오바마는 대통령이다.\n",
            "번역을 수행한 영문: The President is going to be president .\n",
            "1\n",
            "50\n",
            "국문: 시민들은 도시 속에 산다.\n",
            "번역을 수행한 영문: They can just five months .\n",
            "1\n",
            "50\n",
            "국문: 커피는 필요 없다.\n",
            "번역을 수행한 영문: coffee .\n",
            "1\n",
            "50\n",
            "국문: 일곱 명의 사망자가 발생했다.\n",
            "번역을 수행한 영문: Seven of the victims were Nepal reached Sunday , .\n",
            "1\n",
            "50\n",
            "국문: 여름은 날씨가 덥다.\n",
            "번역을 수행한 영문: This summer s weather is a summer .\n",
            "1\n",
            "50\n",
            "국문: 그와 그녀는 결혼을 한다.\n",
            "번역을 수행한 영문: She and her marriedie .\n",
            "1\n",
            "50\n",
            "국문: 영화관에서 영화를 보고 싶다.\n",
            "번역을 수행한 영문: There may be some words .\n",
            "1\n",
            "50\n",
            "국문: 아이들은 학교에 간다.\n",
            "번역을 수행한 영문: The boy says he drives the children .\n",
            "1\n",
            "50\n",
            "국문: 동물은 동물원에 있다.\n",
            "번역을 수행한 영문: The animals are wearing a zoo .\n",
            "1\n",
            "50\n",
            "국문: 큰 문제가 발생하다.\n",
            "번역을 수행한 영문: It s not just a sign of the problem .\n",
            "\n",
            "\n"
          ]
        },
        {
          "data": {
            "application/vnd.jupyter.widget-view+json": {
              "model_id": "1f9c19723a1946f38502fcd3c164774e",
              "version_major": 2,
              "version_minor": 0
            },
            "text/plain": [
              "  0%|          | 0/1120 [00:00<?, ?it/s]"
            ]
          },
          "metadata": {},
          "output_type": "display_data"
        },
        {
          "name": "stdout",
          "output_type": "stream",
          "text": [
            "<EPOCH 20>\n",
            "1\n",
            "50\n",
            "국문: 오바마는 대통령이다.\n",
            "번역을 수행한 영문: The President is , Obama is a black president .\n",
            "1\n",
            "50\n",
            "국문: 시민들은 도시 속에 산다.\n",
            "번역을 수행한 영문: The city s urban rise is onto the rise .\n",
            "1\n",
            "50\n",
            "국문: 커피는 필요 없다.\n",
            "번역을 수행한 영문: coffee there is no coffee .\n",
            "1\n",
            "50\n",
            "국문: 일곱 명의 사망자가 발생했다.\n",
            "번역을 수행한 영문: Seven people were dead Tuesday , a toll toll media tollhind .\n",
            "1\n",
            "50\n",
            "국문: 여름은 날씨가 덥다.\n",
            "번역을 수행한 영문: The summer weather is in weather .\n",
            "1\n",
            "50\n",
            "국문: 그와 그녀는 결혼을 한다.\n",
            "번역을 수행한 영문: She and she married in a Senate crew\n",
            "1\n",
            "50\n",
            "국문: 영화관에서 영화를 보고 싶다.\n",
            "번역을 수행한 영문: There may be some words .\n",
            "1\n",
            "50\n",
            "국문: 아이들은 학교에 간다.\n",
            "번역을 수행한 영문: children\n",
            "1\n",
            "50\n",
            "국문: 동물은 동물원에 있다.\n",
            "번역을 수행한 영문: The animals are zoos .\n",
            "1\n",
            "50\n",
            "국문: 큰 문제가 발생하다.\n",
            "번역을 수행한 영문: Fears that too largely will also be a big problem .\n",
            "\n",
            "\n"
          ]
        },
        {
          "data": {
            "application/vnd.jupyter.widget-view+json": {
              "model_id": "88b200eb18094f9a8cecb6dbe77eaf6f",
              "version_major": 2,
              "version_minor": 0
            },
            "text/plain": [
              "  0%|          | 0/1120 [00:00<?, ?it/s]"
            ]
          },
          "metadata": {},
          "output_type": "display_data"
        },
        {
          "name": "stdout",
          "output_type": "stream",
          "text": [
            "<EPOCH 21>\n",
            "1\n",
            "50\n",
            "국문: 오바마는 대통령이다.\n",
            "번역을 수행한 영문: The President is the Obama family .\n",
            "1\n",
            "50\n",
            "국문: 시민들은 도시 속에 산다.\n",
            "번역을 수행한 영문: Some citizens can rise in food prices .\n",
            "1\n",
            "50\n",
            "국문: 커피는 필요 없다.\n",
            "번역을 수행한 영문: coffee makes coffee .\n",
            "1\n",
            "50\n",
            "국문: 일곱 명의 사망자가 발생했다.\n",
            "번역을 수행한 영문: Seven people were killed , Li said .\n",
            "1\n",
            "50\n",
            "국문: 여름은 날씨가 덥다.\n",
            "번역을 수행한 영문: The weather is lost for weather .\n",
            "1\n",
            "50\n",
            "국문: 그와 그녀는 결혼을 한다.\n",
            "번역을 수행한 영문: She and her marriage\n",
            "1\n",
            "50\n",
            "국문: 영화관에서 영화를 보고 싶다.\n",
            "번역을 수행한 영문: There may be some fellow after  ⁇ \n",
            "1\n",
            "50\n",
            "국문: 아이들은 학교에 간다.\n",
            "번역을 수행한 영문: children are divided over school .\n",
            "1\n",
            "50\n",
            "국문: 동물은 동물원에 있다.\n",
            "번역을 수행한 영문: The animals are zoo , but the zoo is looking for animals .\n",
            "1\n",
            "50\n",
            "국문: 큰 문제가 발생하다.\n",
            "번역을 수행한 영문: It s not a problem here .\n",
            "\n",
            "\n"
          ]
        },
        {
          "data": {
            "application/vnd.jupyter.widget-view+json": {
              "model_id": "c7c64e7b89a04582a19af24515111894",
              "version_major": 2,
              "version_minor": 0
            },
            "text/plain": [
              "  0%|          | 0/1120 [00:00<?, ?it/s]"
            ]
          },
          "metadata": {},
          "output_type": "display_data"
        },
        {
          "name": "stdout",
          "output_type": "stream",
          "text": [
            "<EPOCH 22>\n",
            "1\n",
            "50\n",
            "국문: 오바마는 대통령이다.\n",
            "번역을 수행한 영문: The President is in the Obama administration .\n",
            "1\n",
            "50\n",
            "국문: 시민들은 도시 속에 산다.\n",
            "번역을 수행한 영문: They re just provinces to see bird flu .\n",
            "1\n",
            "50\n",
            "국문: 커피는 필요 없다.\n",
            "번역을 수행한 영문: coffee .\n",
            "1\n",
            "50\n",
            "국문: 일곱 명의 사망자가 발생했다.\n",
            "번역을 수행한 영문: Seven people were injured Wednesday , were killed .\n",
            "1\n",
            "50\n",
            "국문: 여름은 날씨가 덥다.\n",
            "번역을 수행한 영문: The weather is greater .\n",
            "1\n",
            "50\n",
            "국문: 그와 그녀는 결혼을 한다.\n",
            "번역을 수행한 영문: She and she married people .\n",
            "1\n",
            "50\n",
            "국문: 영화관에서 영화를 보고 싶다.\n",
            "번역을 수행한 영문: There may be able to leap on .\n",
            "1\n",
            "50\n",
            "국문: 아이들은 학교에 간다.\n",
            "번역을 수행한 영문: Her children are two sons in school , legal experts say .\n",
            "1\n",
            "50\n",
            "국문: 동물은 동물원에 있다.\n",
            "번역을 수행한 영문: The animals are zoos .\n",
            "1\n",
            "50\n",
            "국문: 큰 문제가 발생하다.\n",
            "번역을 수행한 영문: It is rare for a problem .\n",
            "\n",
            "\n"
          ]
        },
        {
          "data": {
            "application/vnd.jupyter.widget-view+json": {
              "model_id": "78762adb686b42db926d22b7e2110db5",
              "version_major": 2,
              "version_minor": 0
            },
            "text/plain": [
              "  0%|          | 0/1120 [00:00<?, ?it/s]"
            ]
          },
          "metadata": {},
          "output_type": "display_data"
        },
        {
          "name": "stdout",
          "output_type": "stream",
          "text": [
            "<EPOCH 23>\n",
            "1\n",
            "50\n",
            "국문: 오바마는 대통령이다.\n",
            "번역을 수행한 영문: The President is a trail .\n",
            "1\n",
            "50\n",
            "국문: 시민들은 도시 속에 산다.\n",
            "번역을 수행한 영문: They s battle will on the rise in sea ice .\n",
            "1\n",
            "50\n",
            "국문: 커피는 필요 없다.\n",
            "번역을 수행한 영문: coffee .\n",
            "1\n",
            "50\n",
            "국문: 일곱 명의 사망자가 발생했다.\n",
            "번역을 수행한 영문: Six seven people were killed .\n",
            "1\n",
            "50\n",
            "국문: 여름은 날씨가 덥다.\n",
            "번역을 수행한 영문: over weather .\n",
            "1\n",
            "50\n",
            "국문: 그와 그녀는 결혼을 한다.\n",
            "번역을 수행한 영문: He had a marry .\n",
            "1\n",
            "50\n",
            "국문: 영화관에서 영화를 보고 싶다.\n",
            "번역을 수행한 영문: There may be some fellow Star immediate release .\n",
            "1\n",
            "50\n",
            "국문: 아이들은 학교에 간다.\n",
            "번역을 수행한 영문: children are in schools .\n",
            "1\n",
            "50\n",
            "국문: 동물은 동물원에 있다.\n",
            "번역을 수행한 영문: animals are zoos .\n",
            "1\n",
            "50\n",
            "국문: 큰 문제가 발생하다.\n",
            "번역을 수행한 영문: Fears that Korea s problem is not a problem .\n",
            "\n",
            "\n"
          ]
        },
        {
          "data": {
            "application/vnd.jupyter.widget-view+json": {
              "model_id": "c7353fb99a3b430d9b7fbc1137c1e3de",
              "version_major": 2,
              "version_minor": 0
            },
            "text/plain": [
              "  0%|          | 0/1120 [00:00<?, ?it/s]"
            ]
          },
          "metadata": {},
          "output_type": "display_data"
        },
        {
          "name": "stdout",
          "output_type": "stream",
          "text": [
            "<EPOCH 24>\n",
            "1\n",
            "50\n",
            "국문: 오바마는 대통령이다.\n",
            "번역을 수행한 영문: President Obama is president .\n",
            "1\n",
            "50\n",
            "국문: 시민들은 도시 속에 산다.\n",
            "번역을 수행한 영문: They can street through the city .\n",
            "1\n",
            "50\n",
            "국문: 커피는 필요 없다.\n",
            "번역을 수행한 영문: coffee there s no other fuel .\n",
            "1\n",
            "50\n",
            "국문: 일곱 명의 사망자가 발생했다.\n",
            "번역을 수행한 영문: Seven of the victims were fatal .\n",
            "1\n",
            "50\n",
            "국문: 여름은 날씨가 덥다.\n",
            "번역을 수행한 영문: This summer weather is a place that your weather is summer .\n",
            "1\n",
            "50\n",
            "국문: 그와 그녀는 결혼을 한다.\n",
            "번역을 수행한 영문: She married .\n",
            "1\n",
            "50\n",
            "국문: 영화관에서 영화를 보고 싶다.\n",
            "번역을 수행한 영문: You might have to start .\n",
            "1\n",
            "50\n",
            "국문: 아이들은 학교에 간다.\n",
            "번역을 수행한 영문: He said while he wanted to school .\n",
            "1\n",
            "50\n",
            "국문: 동물은 동물원에 있다.\n",
            "번역을 수행한 영문: The animal zoo is base .\n",
            "1\n",
            "50\n",
            "국문: 큰 문제가 발생하다.\n",
            "번역을 수행한 영문: It is a problem that is not a big problem , but a problem is not a problem problem here .\n",
            "\n",
            "\n"
          ]
        },
        {
          "data": {
            "application/vnd.jupyter.widget-view+json": {
              "model_id": "b34898fa34a94d589119c6d92e0e729e",
              "version_major": 2,
              "version_minor": 0
            },
            "text/plain": [
              "  0%|          | 0/1120 [00:00<?, ?it/s]"
            ]
          },
          "metadata": {},
          "output_type": "display_data"
        },
        {
          "name": "stdout",
          "output_type": "stream",
          "text": [
            "<EPOCH 25>\n",
            "1\n",
            "50\n",
            "국문: 오바마는 대통령이다.\n",
            "번역을 수행한 영문: The President is , Obama is .\n",
            "1\n",
            "50\n",
            "국문: 시민들은 도시 속에 산다.\n",
            "번역을 수행한 영문: They ve decided the overseas will take every extra in the wealth .\n",
            "1\n",
            "50\n",
            "국문: 커피는 필요 없다.\n",
            "번역을 수행한 영문: coffee there is no need for  ⁇ \n",
            "1\n",
            "50\n",
            "국문: 일곱 명의 사망자가 발생했다.\n",
            "번역을 수행한 영문: Seven people were killed , and some said he was about killed .\n",
            "1\n",
            "50\n",
            "국문: 여름은 날씨가 덥다.\n",
            "번역을 수행한 영문: summer weather .\n",
            "1\n",
            "50\n",
            "국문: 그와 그녀는 결혼을 한다.\n",
            "번역을 수행한 영문: She and she married in the state\n",
            "1\n",
            "50\n",
            "국문: 영화관에서 영화를 보고 싶다.\n",
            "번역을 수행한 영문: There may be some talking about .\n",
            "1\n",
            "50\n",
            "국문: 아이들은 학교에 간다.\n",
            "번역을 수행한 영문: children are likely to school .\n",
            "1\n",
            "50\n",
            "국문: 동물은 동물원에 있다.\n",
            "번역을 수행한 영문: zoo animals are zoos .\n",
            "1\n",
            "50\n",
            "국문: 큰 문제가 발생하다.\n",
            "번역을 수행한 영문: It is a problem that will happen here .\n",
            "\n",
            "\n"
          ]
        },
        {
          "data": {
            "application/vnd.jupyter.widget-view+json": {
              "model_id": "c1a3283a089e43769cfd88c1d6721c35",
              "version_major": 2,
              "version_minor": 0
            },
            "text/plain": [
              "  0%|          | 0/1120 [00:00<?, ?it/s]"
            ]
          },
          "metadata": {},
          "output_type": "display_data"
        },
        {
          "name": "stdout",
          "output_type": "stream",
          "text": [
            "<EPOCH 26>\n",
            "1\n",
            "50\n",
            "국문: 오바마는 대통령이다.\n",
            "번역을 수행한 영문: President Obama is a family .\n",
            "1\n",
            "50\n",
            "국문: 시민들은 도시 속에 산다.\n",
            "번역을 수행한 영문: They called several people to go .\n",
            "1\n",
            "50\n",
            "국문: 커피는 필요 없다.\n",
            "번역을 수행한 영문: coffee .\n",
            "1\n",
            "50\n",
            "국문: 일곱 명의 사망자가 발생했다.\n",
            "번역을 수행한 영문: Seven seven people have died , she said .\n",
            "1\n",
            "50\n",
            "국문: 여름은 날씨가 덥다.\n",
            "번역을 수행한 영문: summer .\n",
            "1\n",
            "50\n",
            "국문: 그와 그녀는 결혼을 한다.\n",
            "번역을 수행한 영문: She and she married .\n",
            "1\n",
            "50\n",
            "국문: 영화관에서 영화를 보고 싶다.\n",
            "번역을 수행한 영문: There may be some fellow available to Amy correctly .\n",
            "1\n",
            "50\n",
            "국문: 아이들은 학교에 간다.\n",
            "번역을 수행한 영문: but we say we are tired to school .\n",
            "1\n",
            "50\n",
            "국문: 동물은 동물원에 있다.\n",
            "번역을 수행한 영문: The animals are considered a zoo .\n",
            "1\n",
            "50\n",
            "국문: 큰 문제가 발생하다.\n",
            "번역을 수행한 영문: It s breaking problems .\n",
            "\n",
            "\n"
          ]
        },
        {
          "data": {
            "application/vnd.jupyter.widget-view+json": {
              "model_id": "76aa1191c3b7460f8e98faae830c3513",
              "version_major": 2,
              "version_minor": 0
            },
            "text/plain": [
              "  0%|          | 0/1120 [00:00<?, ?it/s]"
            ]
          },
          "metadata": {},
          "output_type": "display_data"
        },
        {
          "name": "stdout",
          "output_type": "stream",
          "text": [
            "<EPOCH 27>\n",
            "1\n",
            "50\n",
            "국문: 오바마는 대통령이다.\n",
            "번역을 수행한 영문: The President is a Obama term .\n",
            "1\n",
            "50\n",
            "국문: 시민들은 도시 속에 산다.\n",
            "번역을 수행한 영문: The citizens are grew in the nd area .\n",
            "1\n",
            "50\n",
            "국문: 커피는 필요 없다.\n",
            "번역을 수행한 영문: coffee there s no other known rescue when De coffee reachesus .\n",
            "1\n",
            "50\n",
            "국문: 일곱 명의 사망자가 발생했다.\n",
            "번역을 수행한 영문: Seven seven people were killed .\n",
            "1\n",
            "50\n",
            "국문: 여름은 날씨가 덥다.\n",
            "번역을 수행한 영문: summer weather is great .\n",
            "1\n",
            "50\n",
            "국문: 그와 그녀는 결혼을 한다.\n",
            "번역을 수행한 영문: She and her marriage\n",
            "1\n",
            "50\n",
            "국문: 영화관에서 영화를 보고 싶다.\n",
            "번역을 수행한 영문: There may be some new movie  ⁇  shoes .\n",
            "1\n",
            "50\n",
            "국문: 아이들은 학교에 간다.\n",
            "번역을 수행한 영문: children are she said to school .\n",
            "1\n",
            "50\n",
            "국문: 동물은 동물원에 있다.\n",
            "번역을 수행한 영문: The animals are zoo , which remains zoos or zoos , is zoo zoo officials said .\n",
            "1\n",
            "50\n",
            "국문: 큰 문제가 발생하다.\n",
            "번역을 수행한 영문: It s not a problem .\n",
            "\n",
            "\n"
          ]
        },
        {
          "data": {
            "application/vnd.jupyter.widget-view+json": {
              "model_id": "4045754a2b3841a4996b4bedc59201f4",
              "version_major": 2,
              "version_minor": 0
            },
            "text/plain": [
              "  0%|          | 0/1120 [00:00<?, ?it/s]"
            ]
          },
          "metadata": {},
          "output_type": "display_data"
        },
        {
          "name": "stdout",
          "output_type": "stream",
          "text": [
            "<EPOCH 28>\n",
            "1\n",
            "50\n",
            "국문: 오바마는 대통령이다.\n",
            "번역을 수행한 영문: The President is bringing Obama to Obama , .\n",
            "1\n",
            "50\n",
            "국문: 시민들은 도시 속에 산다.\n",
            "번역을 수행한 영문: Some citizens can rise in wealth through the city .\n",
            "1\n",
            "50\n",
            "국문: 커피는 필요 없다.\n",
            "번역을 수행한 영문: coffee .\n",
            "1\n",
            "50\n",
            "국문: 일곱 명의 사망자가 발생했다.\n",
            "번역을 수행한 영문: Seven people were dead , said media .\n",
            "1\n",
            "50\n",
            "국문: 여름은 날씨가 덥다.\n",
            "번역을 수행한 영문: summer weather .\n",
            "1\n",
            "50\n",
            "국문: 그와 그녀는 결혼을 한다.\n",
            "번역을 수행한 영문: She and her marriage\n",
            "1\n",
            "50\n",
            "국문: 영화관에서 영화를 보고 싶다.\n",
            "번역을 수행한 영문: There may be some words .\n",
            "1\n",
            "50\n",
            "국문: 아이들은 학교에 간다.\n",
            "번역을 수행한 영문: By some school intend to school .\n",
            "1\n",
            "50\n",
            "국문: 동물은 동물원에 있다.\n",
            "번역을 수행한 영문: The animals are visitors .\n",
            "1\n",
            "50\n",
            "국문: 큰 문제가 발생하다.\n",
            "번역을 수행한 영문: It s not that first worry is being a major problem solving .\n",
            "\n",
            "\n"
          ]
        },
        {
          "data": {
            "application/vnd.jupyter.widget-view+json": {
              "model_id": "430c02c77aa04239b10b56ae0572d1ce",
              "version_major": 2,
              "version_minor": 0
            },
            "text/plain": [
              "  0%|          | 0/1120 [00:00<?, ?it/s]"
            ]
          },
          "metadata": {},
          "output_type": "display_data"
        },
        {
          "name": "stdout",
          "output_type": "stream",
          "text": [
            "<EPOCH 29>\n",
            "1\n",
            "50\n",
            "국문: 오바마는 대통령이다.\n",
            "번역을 수행한 영문: President Obama is in the president .\n",
            "1\n",
            "50\n",
            "국문: 시민들은 도시 속에 산다.\n",
            "번역을 수행한 영문: The people will just apply the s go live to the mountain .\n",
            "1\n",
            "50\n",
            "국문: 커피는 필요 없다.\n",
            "번역을 수행한 영문: coffee .\n",
            "1\n",
            "50\n",
            "국문: 일곱 명의 사망자가 발생했다.\n",
            "번역을 수행한 영문: Seven people were dead , he said .\n",
            "1\n",
            "50\n",
            "국문: 여름은 날씨가 덥다.\n",
            "번역을 수행한 영문: summer weather .\n",
            "1\n",
            "50\n",
            "국문: 그와 그녀는 결혼을 한다.\n",
            "번역을 수행한 영문: she and her marriage .\n",
            "1\n",
            "50\n",
            "국문: 영화관에서 영화를 보고 싶다.\n",
            "번역을 수행한 영문: If he wanted to start to play .\n",
            "1\n",
            "50\n",
            "국문: 아이들은 학교에 간다.\n",
            "번역을 수행한 영문: Her children are all but said he\n",
            "1\n",
            "50\n",
            "국문: 동물은 동물원에 있다.\n",
            "번역을 수행한 영문: The animals are zoo .\n",
            "1\n",
            "50\n",
            "국문: 큰 문제가 발생하다.\n",
            "번역을 수행한 영문: It s  problems in the custody .\n",
            "\n",
            "\n"
          ]
        },
        {
          "data": {
            "application/vnd.jupyter.widget-view+json": {
              "model_id": "e6c898cf0de44953a7e913772cafd831",
              "version_major": 2,
              "version_minor": 0
            },
            "text/plain": [
              "  0%|          | 0/1120 [00:00<?, ?it/s]"
            ]
          },
          "metadata": {},
          "output_type": "display_data"
        },
        {
          "name": "stdout",
          "output_type": "stream",
          "text": [
            "<EPOCH 30>\n",
            "1\n",
            "50\n",
            "국문: 오바마는 대통령이다.\n",
            "번역을 수행한 영문: The President is in plus years .\n",
            "1\n",
            "50\n",
            "국문: 시민들은 도시 속에 산다.\n",
            "번역을 수행한 영문: The city is put to traffic .\n",
            "1\n",
            "50\n",
            "국문: 커피는 필요 없다.\n",
            "번역을 수행한 영문: coffee .\n",
            "1\n",
            "50\n",
            "국문: 일곱 명의 사망자가 발생했다.\n",
            "번역을 수행한 영문: Seven seven people were killed .\n",
            "1\n",
            "50\n",
            "국문: 여름은 날씨가 덥다.\n",
            "번역을 수행한 영문: summer weather .\n",
            "1\n",
            "50\n",
            "국문: 그와 그녀는 결혼을 한다.\n",
            "번역을 수행한 영문: She and her marriage .\n",
            "1\n",
            "50\n",
            "국문: 영화관에서 영화를 보고 싶다.\n",
            "번역을 수행한 영문: There may be some words , he says .\n",
            "1\n",
            "50\n",
            "국문: 아이들은 학교에 간다.\n",
            "번역을 수행한 영문: children\n",
            "1\n",
            "50\n",
            "국문: 동물은 동물원에 있다.\n",
            "번역을 수행한 영문: The animals are zoo .\n",
            "1\n",
            "50\n",
            "국문: 큰 문제가 발생하다.\n",
            "번역을 수행한 영문: It s amazing that .\n",
            "\n",
            "\n",
            "1\n",
            "50\n",
            "국문: 큰 문제가 발생하다.\n",
            "번역을 수행한 영문: It s amazing that .\n",
            "<Self Attention 1>\n"
          ]
        },
        {
          "data": {
            "image/png": "[encoded data removed]",
            "text/plain": [
              "<Figure size 1440x720 with 4 Axes>"
            ]
          },
          "metadata": {
            "needs_background": "light"
          },
          "output_type": "display_data"
        },
        {
          "name": "stdout",
          "output_type": "stream",
          "text": [
            "<Self Attention 2>\n"
          ]
        },
        {
          "data": {
            "image/png": "[encoded data removed]",
            "text/plain": [
              "<Figure size 1440x720 with 4 Axes>"
            ]
          },
          "metadata": {
            "needs_background": "light"
          },
          "output_type": "display_data"
        },
        {
          "name": "stdout",
          "output_type": "stream",
          "text": [
            "<Decoder Self Layer 1>\n"
          ]
        },
        {
          "data": {
            "image/png": "[encoded data removed]",
            "text/plain": [
              "<Figure size 1440x720 with 4 Axes>"
            ]
          },
          "metadata": {
            "needs_background": "light"
          },
          "output_type": "display_data"
        },
        {
          "name": "stdout",
          "output_type": "stream",
          "text": [
            "<Context Vector By Decoder Input 1>\n"
          ]
        },
        {
          "data": {
            "image/png": "[encoded data removed]",
            "text/plain": [
              "<Figure size 1440x720 with 4 Axes>"
            ]
          },
          "metadata": {
            "needs_background": "light"
          },
          "output_type": "display_data"
        },
        {
          "name": "stdout",
          "output_type": "stream",
          "text": [
            "<Decoder Self Layer 2>\n"
          ]
        },
        {
          "data": {
            "image/png": "[encoded data removed]",
            "text/plain": [
              "<Figure size 1440x720 with 4 Axes>"
            ]
          },
          "metadata": {
            "needs_background": "light"
          },
          "output_type": "display_data"
        },
        {
          "name": "stdout",
          "output_type": "stream",
          "text": [
            "<Context Vector By Decoder Input 2>\n"
          ]
        },
        {
          "data": {
            "image/png": "[encoded data removed]",
            "text/plain": [
              "<Figure size 1440x720 with 4 Axes>"
            ]
          },
          "metadata": {
            "needs_background": "light"
          },
          "output_type": "display_data"
        }
      ],
      "source": [
        "fit(enc_train, dec_train, ko_tokenizer, en_tokenizer)"
      ]
    },
    {
      "cell_type": "markdown",
      "source": [
        "- **숫자 포함 데이터를 활용한 학습 진행**"
      ],
      "metadata": {
        "id": "8jdJgikz1j2u"
      },
      "id": "8jdJgikz1j2u"
    },
    {
      "cell_type": "code",
      "execution_count": null,
      "id": "3232af77",
      "metadata": {
        "colab": {
          "referenced_widgets": [
            "5c5222ed31ae4405b1361ab2ed59c228",
            "28853b2315fe41189cdf6afe737b5f0b",
            "f6c6828ff7ec45ffa1f018112befab1d",
            "f4ca1797ef2248979df5f4ec76ebbc1e",
            "7df806df8b3945128b7d3cceb47441c0",
            "9763c3614d314271ac2211d19a3dcca5",
            "41c181b4426344ba8e0f8c3a4a142389",
            "7b973ac6ad6646ceba2bfd7497f0ff67",
            "e77e6bf7649a4c269cfdea04cb3d1eb6",
            "d385b74f762c447583790670aa6f1a5f",
            "3faf0b5ebe8241aaaecd13bcdbce0670",
            "fce8895ec7c0421b9a76ee0041604976",
            "54ebb68153a142c5a55221134f2852eb",
            "d72a664387f54d37addc51de147b3613",
            "a7f2a0ea01b44d31a20f4e7be6f4216f",
            "0973ed271dd84b7089818ac427674923",
            "596c20e9288d46f7ab7c93febd7de079",
            "dacba8912abc4083bd8d984b95ec5184",
            "95d41e1558f04b298419457859db391b",
            "fdfe5d7c5b9544f89b4d7039bc9d4006",
            "f20822a2ef284fc486d45011189c5397",
            "445fcd044de54439aeb311b7867744bb",
            "3e171b6a7a154a5899e4c04e60c98720",
            "fb41d017e03b47f6aec8c5162cd1c2e4",
            "5545efea061948ca89b7ab33d37bba23",
            "479e5bdd137346a3a18c7c5f67c32ea3",
            "89cefb6f8bbd46c9ac0c5fa757c9ef47",
            "ddc8708c1c79409d9e3cb3edbfa4ff6d",
            "740945f65e0a4b5ba08aad257fe7541a",
            "89921876e933483fae5fb68e0c4375c6"
          ]
        },
        "id": "3232af77",
        "outputId": "bd173923-6997-4f86-9ddb-decf919647b6"
      },
      "outputs": [
        {
          "data": {
            "application/vnd.jupyter.widget-view+json": {
              "model_id": "5c5222ed31ae4405b1361ab2ed59c228",
              "version_major": 2,
              "version_minor": 0
            },
            "text/plain": [
              "  0%|          | 0/1107 [00:00<?, ?it/s]"
            ]
          },
          "metadata": {},
          "output_type": "display_data"
        },
        {
          "name": "stdout",
          "output_type": "stream",
          "text": [
            "<EPOCH 1>\n",
            "1\n",
            "50\n",
            "국문: 오바마는 대통령이다.\n",
            "번역을 수행한 영문: Obama is the first time .\n",
            "1\n",
            "50\n",
            "국문: 시민들은 도시 속에 산다.\n",
            "번역을 수행한 영문: They are a new car .\n",
            "1\n",
            "50\n",
            "국문: 커피는 필요 없다.\n",
            "번역을 수행한 영문: This is a lot of the new .\n",
            "1\n",
            "50\n",
            "국문: 일곱 명의 사망자가 발생했다.\n",
            "번역을 수행한 영문: They were killed in the town of the town .\n",
            "1\n",
            "50\n",
            "국문: 여름은 날씨가 덥다.\n",
            "번역을 수행한 영문: They are up to the Internet .\n",
            "1\n",
            "50\n",
            "국문: 그와 그녀는 결혼을 한다.\n",
            "번역을 수행한 영문: She has been a new .\n",
            "1\n",
            "50\n",
            "국문: 영화관에서 영화를 보고 싶다.\n",
            "번역을 수행한 영문: The movie is a movie .\n",
            "1\n",
            "50\n",
            "국문: 아이들은 학교에 간다.\n",
            "번역을 수행한 영문: They are not to be a .\n",
            "1\n",
            "50\n",
            "국문: 동물은 동물원에 있다.\n",
            "번역을 수행한 영문: They are still to be a high .\n",
            "1\n",
            "50\n",
            "국문: 큰 문제가 발생하다.\n",
            "번역을 수행한 영문: They are a lot of the country .\n",
            "\n",
            "\n"
          ]
        },
        {
          "data": {
            "application/vnd.jupyter.widget-view+json": {
              "model_id": "28853b2315fe41189cdf6afe737b5f0b",
              "version_major": 2,
              "version_minor": 0
            },
            "text/plain": [
              "  0%|          | 0/1107 [00:00<?, ?it/s]"
            ]
          },
          "metadata": {},
          "output_type": "display_data"
        },
        {
          "name": "stdout",
          "output_type": "stream",
          "text": [
            "<EPOCH 2>\n",
            "1\n",
            "50\n",
            "국문: 오바마는 대통령이다.\n",
            "번역을 수행한 영문: Obama is the first time .\n",
            "1\n",
            "50\n",
            "국문: 시민들은 도시 속에 산다.\n",
            "번역을 수행한 영문: The city solar system is a huge .\n",
            "1\n",
            "50\n",
            "국문: 커피는 필요 없다.\n",
            "번역을 수행한 영문: The ideas are not going to because it is not going to because it s not yet .\n",
            "1\n",
            "50\n",
            "국문: 일곱 명의 사망자가 발생했다.\n",
            "번역을 수행한 영문: The death toll from the death toll from the death toll from the death toll .\n",
            "1\n",
            "50\n",
            "국문: 여름은 날씨가 덥다.\n",
            "번역을 수행한 영문: summer summer weather is the summer of summer .\n",
            "1\n",
            "50\n",
            "국문: 그와 그녀는 결혼을 한다.\n",
            "번역을 수행한 영문: She she must marry her marriage .\n",
            "1\n",
            "50\n",
            "국문: 영화관에서 영화를 보고 싶다.\n",
            "번역을 수행한 영문: The film films are now in the film .\n",
            "1\n",
            "50\n",
            "국문: 아이들은 학교에 간다.\n",
            "번역을 수행한 영문: The children were being given to the children .\n",
            "1\n",
            "50\n",
            "국문: 동물은 동물원에 있다.\n",
            "번역을 수행한 영문: animals are being held in animals .\n",
            "1\n",
            "50\n",
            "국문: 큰 문제가 발생하다.\n",
            "번역을 수행한 영문: The problem is not going to be a problem .\n",
            "\n",
            "\n"
          ]
        },
        {
          "data": {
            "application/vnd.jupyter.widget-view+json": {
              "model_id": "f6c6828ff7ec45ffa1f018112befab1d",
              "version_major": 2,
              "version_minor": 0
            },
            "text/plain": [
              "  0%|          | 0/1107 [00:00<?, ?it/s]"
            ]
          },
          "metadata": {},
          "output_type": "display_data"
        },
        {
          "name": "stdout",
          "output_type": "stream",
          "text": [
            "<EPOCH 3>\n",
            "1\n",
            "50\n",
            "국문: 오바마는 대통령이다.\n",
            "번역을 수행한 영문: Obama s president is a new president .\n",
            "1\n",
            "50\n",
            "국문: 시민들은 도시 속에 산다.\n",
            "번역을 수행한 영문: The dust storms are scattered .\n",
            "1\n",
            "50\n",
            "국문: 커피는 필요 없다.\n",
            "번역을 수행한 영문: If you need to be a very bad .\n",
            "1\n",
            "50\n",
            "국문: 일곱 명의 사망자가 발생했다.\n",
            "번역을 수행한 영문: The death toll was killed .\n",
            "1\n",
            "50\n",
            "국문: 여름은 날씨가 덥다.\n",
            "번역을 수행한 영문: summer summer weather is weather weather weather .\n",
            "1\n",
            "50\n",
            "국문: 그와 그녀는 결혼을 한다.\n",
            "번역을 수행한 영문: She and she married she should be she .\n",
            "1\n",
            "50\n",
            "국문: 영화관에서 영화를 보고 싶다.\n",
            "번역을 수행한 영문: The AP s Mark Smith is a big movie .\n",
            "1\n",
            "50\n",
            "국문: 아이들은 학교에 간다.\n",
            "번역을 수행한 영문: children were children .\n",
            "1\n",
            "50\n",
            "국문: 동물은 동물원에 있다.\n",
            "번역을 수행한 영문: Animals are  ⁇ oo .\n",
            "1\n",
            "50\n",
            "국문: 큰 문제가 발생하다.\n",
            "번역을 수행한 영문: The problems are likely to be a problem .\n",
            "\n",
            "\n"
          ]
        },
        {
          "data": {
            "application/vnd.jupyter.widget-view+json": {
              "model_id": "f4ca1797ef2248979df5f4ec76ebbc1e",
              "version_major": 2,
              "version_minor": 0
            },
            "text/plain": [
              "  0%|          | 0/1107 [00:00<?, ?it/s]"
            ]
          },
          "metadata": {},
          "output_type": "display_data"
        },
        {
          "name": "stdout",
          "output_type": "stream",
          "text": [
            "<EPOCH 4>\n",
            "1\n",
            "50\n",
            "국문: 오바마는 대통령이다.\n",
            "번역을 수행한 영문: Obama is the President .\n",
            "1\n",
            "50\n",
            "국문: 시민들은 도시 속에 산다.\n",
            "번역을 수행한 영문: The streets of the city s cities .\n",
            "1\n",
            "50\n",
            "국문: 커피는 필요 없다.\n",
            "번역을 수행한 영문: coffee is necessary , he needed to do not allow them to do anything .\n",
            "1\n",
            "50\n",
            "국문: 일곱 명의 사망자가 발생했다.\n",
            "번역을 수행한 영문: The dead were killed in the seven deaths .\n",
            "1\n",
            "50\n",
            "국문: 여름은 날씨가 덥다.\n",
            "번역을 수행한 영문: There are hot weather conditions .\n",
            "1\n",
            "50\n",
            "국문: 그와 그녀는 결혼을 한다.\n",
            "번역을 수행한 영문: He and his wife must be married .\n",
            "1\n",
            "50\n",
            "국문: 영화관에서 영화를 보고 싶다.\n",
            "번역을 수행한 영문: The film theaters at the theater .\n",
            "1\n",
            "50\n",
            "국문: 아이들은 학교에 간다.\n",
            "번역을 수행한 영문: The children are kids .\n",
            "1\n",
            "50\n",
            "국문: 동물은 동물원에 있다.\n",
            "번역을 수행한 영문: zoos are zood .\n",
            "1\n",
            "50\n",
            "국문: 큰 문제가 발생하다.\n",
            "번역을 수행한 영문: The problem is that there is a problem .\n",
            "\n",
            "\n"
          ]
        },
        {
          "data": {
            "application/vnd.jupyter.widget-view+json": {
              "model_id": "7df806df8b3945128b7d3cceb47441c0",
              "version_major": 2,
              "version_minor": 0
            },
            "text/plain": [
              "  0%|          | 0/1107 [00:00<?, ?it/s]"
            ]
          },
          "metadata": {},
          "output_type": "display_data"
        },
        {
          "name": "stdout",
          "output_type": "stream",
          "text": [
            "<EPOCH 5>\n",
            "1\n",
            "50\n",
            "국문: 오바마는 대통령이다.\n",
            "번역을 수행한 영문: Obama is the president .\n",
            "1\n",
            "50\n",
            "국문: 시민들은 도시 속에 산다.\n",
            "번역을 수행한 영문: There are a growing city .\n",
            "1\n",
            "50\n",
            "국문: 커피는 필요 없다.\n",
            "번역을 수행한 영문: Then there are no need .\n",
            "1\n",
            "50\n",
            "국문: 일곱 명의 사망자가 발생했다.\n",
            "번역을 수행한 영문: Seven other seven people died .\n",
            "1\n",
            "50\n",
            "국문: 여름은 날씨가 덥다.\n",
            "번역을 수행한 영문: summer weather is cold .\n",
            "1\n",
            "50\n",
            "국문: 그와 그녀는 결혼을 한다.\n",
            "번역을 수행한 영문: She and she should marry her .\n",
            "1\n",
            "50\n",
            "국문: 영화관에서 영화를 보고 싶다.\n",
            "번역을 수행한 영문: The movie will be made at the top of the film .\n",
            "1\n",
            "50\n",
            "국문: 아이들은 학교에 간다.\n",
            "번역을 수행한 영문: They are kids .\n",
            "1\n",
            "50\n",
            "국문: 동물은 동물원에 있다.\n",
            "번역을 수행한 영문: habitats are being sold .\n",
            "1\n",
            "50\n",
            "국문: 큰 문제가 발생하다.\n",
            "번역을 수행한 영문: A big problem is that the problem is a big problem .\n",
            "\n",
            "\n"
          ]
        },
        {
          "data": {
            "application/vnd.jupyter.widget-view+json": {
              "model_id": "9763c3614d314271ac2211d19a3dcca5",
              "version_major": 2,
              "version_minor": 0
            },
            "text/plain": [
              "  0%|          | 0/1107 [00:00<?, ?it/s]"
            ]
          },
          "metadata": {},
          "output_type": "display_data"
        },
        {
          "name": "stdout",
          "output_type": "stream",
          "text": [
            "<EPOCH 6>\n",
            "1\n",
            "50\n",
            "국문: 오바마는 대통령이다.\n",
            "번역을 수행한 영문: Obama is a President . . . . . . . . . . . . . . . . . . . . . .\n",
            "1\n",
            "50\n",
            "국문: 시민들은 도시 속에 산다.\n",
            "번역을 수행한 영문: A city of city is a city .\n",
            "1\n",
            "50\n",
            "국문: 커피는 필요 없다.\n",
            "번역을 수행한 영문: An coffee is a fairly good thing .\n",
            "1\n",
            "50\n",
            "국문: 일곱 명의 사망자가 발생했다.\n",
            "번역을 수행한 영문: Seven of the seven people died .\n",
            "1\n",
            "50\n",
            "국문: 여름은 날씨가 덥다.\n",
            "번역을 수행한 영문: The weather is cold weather .\n",
            "1\n",
            "50\n",
            "국문: 그와 그녀는 결혼을 한다.\n",
            "번역을 수행한 영문: She and her hat .\n",
            "1\n",
            "50\n",
            "국문: 영화관에서 영화를 보고 싶다.\n",
            "번역을 수행한 영문: The film will play for the movie .\n",
            "1\n",
            "50\n",
            "국문: 아이들은 학교에 간다.\n",
            "번역을 수행한 영문: They are headed to school .\n",
            "1\n",
            "50\n",
            "국문: 동물은 동물원에 있다.\n",
            "번역을 수행한 영문: habitats are being zoo .\n",
            "1\n",
            "50\n",
            "국문: 큰 문제가 발생하다.\n",
            "번역을 수행한 영문: It is the fifth big problems .\n",
            "\n",
            "\n"
          ]
        },
        {
          "data": {
            "application/vnd.jupyter.widget-view+json": {
              "model_id": "41c181b4426344ba8e0f8c3a4a142389",
              "version_major": 2,
              "version_minor": 0
            },
            "text/plain": [
              "  0%|          | 0/1107 [00:00<?, ?it/s]"
            ]
          },
          "metadata": {},
          "output_type": "display_data"
        },
        {
          "name": "stdout",
          "output_type": "stream",
          "text": [
            "<EPOCH 7>\n",
            "1\n",
            "50\n",
            "국문: 오바마는 대통령이다.\n",
            "번역을 수행한 영문: He is a president of Illinois .\n",
            "1\n",
            "50\n",
            "국문: 시민들은 도시 속에 산다.\n",
            "번역을 수행한 영문: We have to be somewhere in the city .\n",
            "1\n",
            "50\n",
            "국문: 커피는 필요 없다.\n",
            "번역을 수행한 영문: There is no need for a permanent UN .\n",
            "1\n",
            "50\n",
            "국문: 일곱 명의 사망자가 발생했다.\n",
            "번역을 수행한 영문: The seven Across the seven cases .\n",
            "1\n",
            "50\n",
            "국문: 여름은 날씨가 덥다.\n",
            "번역을 수행한 영문: The weather weather has rainy weather .\n",
            "1\n",
            "50\n",
            "국문: 그와 그녀는 결혼을 한다.\n",
            "번역을 수행한 영문: She She has been married to her marriage .\n",
            "1\n",
            "50\n",
            "국문: 영화관에서 영화를 보고 싶다.\n",
            "번역을 수행한 영문: The film s movie set for theaters .\n",
            "1\n",
            "50\n",
            "국문: 아이들은 학교에 간다.\n",
            "번역을 수행한 영문: They are schooling up .\n",
            "1\n",
            "50\n",
            "국문: 동물은 동물원에 있다.\n",
            "번역을 수행한 영문: animals are zoo officials .\n",
            "1\n",
            "50\n",
            "국문: 큰 문제가 발생하다.\n",
            "번역을 수행한 영문: A big problem is according to a report released .\n",
            "\n",
            "\n"
          ]
        },
        {
          "data": {
            "application/vnd.jupyter.widget-view+json": {
              "model_id": "7b973ac6ad6646ceba2bfd7497f0ff67",
              "version_major": 2,
              "version_minor": 0
            },
            "text/plain": [
              "  0%|          | 0/1107 [00:00<?, ?it/s]"
            ]
          },
          "metadata": {},
          "output_type": "display_data"
        },
        {
          "name": "stdout",
          "output_type": "stream",
          "text": [
            "<EPOCH 8>\n",
            "1\n",
            "50\n",
            "국문: 오바마는 대통령이다.\n",
            "번역을 수행한 영문: The president is a major stepoff .\n",
            "1\n",
            "50\n",
            "국문: 시민들은 도시 속에 산다.\n",
            "번역을 수행한 영문: That is the city s going .\n",
            "1\n",
            "50\n",
            "국문: 커피는 필요 없다.\n",
            "번역을 수행한 영문: There are no needs of coffee .\n",
            "1\n",
            "50\n",
            "국문: 일곱 명의 사망자가 발생했다.\n",
            "번역을 수행한 영문: Seven crew members killed a personnel leaving .\n",
            "1\n",
            "50\n",
            "국문: 여름은 날씨가 덥다.\n",
            "번역을 수행한 영문: The weather was weather .\n",
            "1\n",
            "50\n",
            "국문: 그와 그녀는 결혼을 한다.\n",
            "번역을 수행한 영문: She and she should marry .\n",
            "1\n",
            "50\n",
            "국문: 영화관에서 영화를 보고 싶다.\n",
            "번역을 수행한 영문: The movie wants to see everything from movie .\n",
            "1\n",
            "50\n",
            "국문: 아이들은 학교에 간다.\n",
            "번역을 수행한 영문: The children are able to get up .\n",
            "1\n",
            "50\n",
            "국문: 동물은 동물원에 있다.\n",
            "번역을 수행한 영문: Animals are on animal .\n",
            "1\n",
            "50\n",
            "국문: 큰 문제가 발생하다.\n",
            "번역을 수행한 영문: A big problem is communist .\n",
            "\n",
            "\n"
          ]
        },
        {
          "data": {
            "application/vnd.jupyter.widget-view+json": {
              "model_id": "e77e6bf7649a4c269cfdea04cb3d1eb6",
              "version_major": 2,
              "version_minor": 0
            },
            "text/plain": [
              "  0%|          | 0/1107 [00:00<?, ?it/s]"
            ]
          },
          "metadata": {},
          "output_type": "display_data"
        },
        {
          "name": "stdout",
          "output_type": "stream",
          "text": [
            "<EPOCH 9>\n",
            "1\n",
            "50\n",
            "국문: 오바마는 대통령이다.\n",
            "번역을 수행한 영문: President Obama is a bigger than fiction .\n",
            "1\n",
            "50\n",
            "국문: 시민들은 도시 속에 산다.\n",
            "번역을 수행한 영문: city is one of city citizens .\n",
            "1\n",
            "50\n",
            "국문: 커피는 필요 없다.\n",
            "번역을 수행한 영문: There are no needs to drive .\n",
            "1\n",
            "50\n",
            "국문: 일곱 명의 사망자가 발생했다.\n",
            "번역을 수행한 영문: killed seven people in the seven days .\n",
            "1\n",
            "50\n",
            "국문: 여름은 날씨가 덥다.\n",
            "번역을 수행한 영문: Children are experiencing good weather .\n",
            "1\n",
            "50\n",
            "국문: 그와 그녀는 결혼을 한다.\n",
            "번역을 수행한 영문: She and she should have married a guy .\n",
            "1\n",
            "50\n",
            "국문: 영화관에서 영화를 보고 싶다.\n",
            "번역을 수행한 영문: The film opens with several movies .\n",
            "1\n",
            "50\n",
            "국문: 아이들은 학교에 간다.\n",
            "번역을 수행한 영문: We are children .\n",
            "1\n",
            "50\n",
            "국문: 동물은 동물원에 있다.\n",
            "번역을 수행한 영문: kept name zoos in zoo officials .\n",
            "1\n",
            "50\n",
            "국문: 큰 문제가 발생하다.\n",
            "번역을 수행한 영문: A big problem is hugely caused by the question of the AP s Jason Bang there is an apparent bid .\n",
            "\n",
            "\n"
          ]
        },
        {
          "data": {
            "application/vnd.jupyter.widget-view+json": {
              "model_id": "d385b74f762c447583790670aa6f1a5f",
              "version_major": 2,
              "version_minor": 0
            },
            "text/plain": [
              "  0%|          | 0/1107 [00:00<?, ?it/s]"
            ]
          },
          "metadata": {},
          "output_type": "display_data"
        },
        {
          "name": "stdout",
          "output_type": "stream",
          "text": [
            "<EPOCH 10>\n",
            "1\n",
            "50\n",
            "국문: 오바마는 대통령이다.\n",
            "번역을 수행한 영문: Obama is a man who s president .\n",
            "1\n",
            "50\n",
            "국문: 시민들은 도시 속에 산다.\n",
            "번역을 수행한 영문: That is down to 90 .\n",
            "1\n",
            "50\n",
            "국문: 커피는 필요 없다.\n",
            "번역을 수행한 영문: There s another fair .\n",
            "1\n",
            "50\n",
            "국문: 일곱 명의 사망자가 발생했다.\n",
            "번역을 수행한 영문: Seven people were killed , the local official said .\n",
            "1\n",
            "50\n",
            "국문: 여름은 날씨가 덥다.\n",
            "번역을 수행한 영문: weathery weather and cold weather is good .\n",
            "1\n",
            "50\n",
            "국문: 그와 그녀는 결혼을 한다.\n",
            "번역을 수행한 영문: she and her marriage .\n",
            "1\n",
            "50\n",
            "국문: 영화관에서 영화를 보고 싶다.\n",
            "번역을 수행한 영문: The movie wants to come with the cinema .\n",
            "1\n",
            "50\n",
            "국문: 아이들은 학교에 간다.\n",
            "번역을 수행한 영문: We are school kids .\n",
            "1\n",
            "50\n",
            "국문: 동물은 동물원에 있다.\n",
            "번역을 수행한 영문: habitat are being zoo zoo officials zoo officials .\n",
            "1\n",
            "50\n",
            "국문: 큰 문제가 발생하다.\n",
            "번역을 수행한 영문: A big problem is that a foreign language can have a giant woman sitting next .\n",
            "\n",
            "\n"
          ]
        },
        {
          "data": {
            "application/vnd.jupyter.widget-view+json": {
              "model_id": "3faf0b5ebe8241aaaecd13bcdbce0670",
              "version_major": 2,
              "version_minor": 0
            },
            "text/plain": [
              "  0%|          | 0/1107 [00:00<?, ?it/s]"
            ]
          },
          "metadata": {},
          "output_type": "display_data"
        },
        {
          "name": "stdout",
          "output_type": "stream",
          "text": [
            "<EPOCH 11>\n",
            "1\n",
            "50\n",
            "국문: 오바마는 대통령이다.\n",
            "번역을 수행한 영문: Obama is a place .\n",
            "1\n",
            "50\n",
            "국문: 시민들은 도시 속에 산다.\n",
            "번역을 수행한 영문: San Every cities a mountain\n",
            "1\n",
            "50\n",
            "국문: 커피는 필요 없다.\n",
            "번역을 수행한 영문: need to be settleed on the chest .\n",
            "1\n",
            "50\n",
            "국문: 일곱 명의 사망자가 발생했다.\n",
            "번역을 수행한 영문: Seven other people were killed .\n",
            "1\n",
            "50\n",
            "국문: 여름은 날씨가 덥다.\n",
            "번역을 수행한 영문: summer . . . . . .\n",
            "1\n",
            "50\n",
            "국문: 그와 그녀는 결혼을 한다.\n",
            "번역을 수행한 영문: She she married . . .\n",
            "1\n",
            "50\n",
            "국문: 영화관에서 영화를 보고 싶다.\n",
            "번역을 수행한 영문: The film wants to see some of the films as some for theaters .\n",
            "1\n",
            "50\n",
            "국문: 아이들은 학교에 간다.\n",
            "번역을 수행한 영문: The children are schooling .\n",
            "1\n",
            "50\n",
            "국문: 동물은 동물원에 있다.\n",
            "번역을 수행한 영문: viruses are on the animals .\n",
            "1\n",
            "50\n",
            "국문: 큰 문제가 발생하다.\n",
            "번역을 수행한 영문: It is the first time a huge explosion .\n",
            "\n",
            "\n"
          ]
        },
        {
          "data": {
            "application/vnd.jupyter.widget-view+json": {
              "model_id": "fce8895ec7c0421b9a76ee0041604976",
              "version_major": 2,
              "version_minor": 0
            },
            "text/plain": [
              "  0%|          | 0/1107 [00:00<?, ?it/s]"
            ]
          },
          "metadata": {},
          "output_type": "display_data"
        },
        {
          "name": "stdout",
          "output_type": "stream",
          "text": [
            "<EPOCH 12>\n",
            "1\n",
            "50\n",
            "국문: 오바마는 대통령이다.\n",
            "번역을 수행한 영문: Obama is a place .\n",
            "1\n",
            "50\n",
            "국문: 시민들은 도시 속에 산다.\n",
            "번역을 수행한 영문: Some city residents complain of a city .\n",
            "1\n",
            "50\n",
            "국문: 커피는 필요 없다.\n",
            "번역을 수행한 영문: need nobody need to do the drinkers .\n",
            "1\n",
            "50\n",
            "국문: 일곱 명의 사망자가 발생했다.\n",
            "번역을 수행한 영문: Seven other people were dead , including the seven death toll stories Wednesday .\n",
            "1\n",
            "50\n",
            "국문: 여름은 날씨가 덥다.\n",
            "번역을 수행한 영문: weather weather in weather and summer .\n",
            "1\n",
            "50\n",
            "국문: 그와 그녀는 결혼을 한다.\n",
            "번역을 수행한 영문: She and she married .\n",
            "1\n",
            "50\n",
            "국문: 영화관에서 영화를 보고 싶다.\n",
            "번역을 수행한 영문: The film s final sees .\n",
            "1\n",
            "50\n",
            "국문: 아이들은 학교에 간다.\n",
            "번역을 수행한 영문: The children are school .\n",
            "1\n",
            "50\n",
            "국문: 동물은 동물원에 있다.\n",
            "번역을 수행한 영문: The virus are on the zoo s list .\n",
            "1\n",
            "50\n",
            "국문: 큰 문제가 발생하다.\n",
            "번역을 수행한 영문: A big problem is not a problem .\n",
            "\n",
            "\n"
          ]
        },
        {
          "data": {
            "application/vnd.jupyter.widget-view+json": {
              "model_id": "54ebb68153a142c5a55221134f2852eb",
              "version_major": 2,
              "version_minor": 0
            },
            "text/plain": [
              "  0%|          | 0/1107 [00:00<?, ?it/s]"
            ]
          },
          "metadata": {},
          "output_type": "display_data"
        },
        {
          "name": "stdout",
          "output_type": "stream",
          "text": [
            "<EPOCH 13>\n",
            "1\n",
            "50\n",
            "국문: 오바마는 대통령이다.\n",
            "번역을 수행한 영문: Obama is a President .\n",
            "1\n",
            "50\n",
            "국문: 시민들은 도시 속에 산다.\n",
            "번역을 수행한 영문: San Diego cities are excellent .\n",
            "1\n",
            "50\n",
            "국문: 커피는 필요 없다.\n",
            "번역을 수행한 영문: There needs to drive the chest Golden Globes need to meet ET .\n",
            "1\n",
            "50\n",
            "국문: 일곱 명의 사망자가 발생했다.\n",
            "번역을 수행한 영문: Seven other tasks were bloodless .\n",
            "1\n",
            "50\n",
            "국문: 여름은 날씨가 덥다.\n",
            "번역을 수행한 영문: summer weather is weather .\n",
            "1\n",
            "50\n",
            "국문: 그와 그녀는 결혼을 한다.\n",
            "번역을 수행한 영문: she and her later .\n",
            "1\n",
            "50\n",
            "국문: 영화관에서 영화를 보고 싶다.\n",
            "번역을 수행한 영문: The film s final report with theaters .\n",
            "1\n",
            "50\n",
            "국문: 아이들은 학교에 간다.\n",
            "번역을 수행한 영문: The kids are schoold here , kids , but they are eager to get them to school .\n",
            "1\n",
            "50\n",
            "국문: 동물은 동물원에 있다.\n",
            "번역을 수행한 영문: zoo contacts include the zoo s zoo safety .\n",
            "1\n",
            "50\n",
            "국문: 큰 문제가 발생하다.\n",
            "번역을 수행한 영문: A bigger question issue is an appalling event .\n",
            "\n",
            "\n"
          ]
        },
        {
          "data": {
            "application/vnd.jupyter.widget-view+json": {
              "model_id": "d72a664387f54d37addc51de147b3613",
              "version_major": 2,
              "version_minor": 0
            },
            "text/plain": [
              "  0%|          | 0/1107 [00:00<?, ?it/s]"
            ]
          },
          "metadata": {},
          "output_type": "display_data"
        },
        {
          "name": "stdout",
          "output_type": "stream",
          "text": [
            "<EPOCH 14>\n",
            "1\n",
            "50\n",
            "국문: 오바마는 대통령이다.\n",
            "번역을 수행한 영문: He is a President .\n",
            "1\n",
            "50\n",
            "국문: 시민들은 도시 속에 산다.\n",
            "번역을 수행한 영문: That is the city .\n",
            "1\n",
            "50\n",
            "국문: 커피는 필요 없다.\n",
            "번역을 수행한 영문: The needs of medicine , which tends to its once children .\n",
            "1\n",
            "50\n",
            "국문: 일곱 명의 사망자가 발생했다.\n",
            "번역을 수행한 영문: Seven people were killed along the seven opinion polls .\n",
            "1\n",
            "50\n",
            "국문: 여름은 날씨가 덥다.\n",
            "번역을 수행한 영문: summer is hot weather .\n",
            "1\n",
            "50\n",
            "국문: 그와 그녀는 결혼을 한다.\n",
            "번역을 수행한 영문: She and her later .\n",
            "1\n",
            "50\n",
            "국문: 영화관에서 영화를 보고 싶다.\n",
            "번역을 수행한 영문: The film will gives the movies very few .\n",
            "1\n",
            "50\n",
            "국문: 아이들은 학교에 간다.\n",
            "번역을 수행한 영문: We are school children .\n",
            "1\n",
            "50\n",
            "국문: 동물은 동물원에 있다.\n",
            "번역을 수행한 영문: Animal contacts . .\n",
            "1\n",
            "50\n",
            "국문: 큰 문제가 발생하다.\n",
            "번역을 수행한 영문: It is the first time a foreign ministry issue .\n",
            "\n",
            "\n"
          ]
        },
        {
          "data": {
            "application/vnd.jupyter.widget-view+json": {
              "model_id": "a7f2a0ea01b44d31a20f4e7be6f4216f",
              "version_major": 2,
              "version_minor": 0
            },
            "text/plain": [
              "  0%|          | 0/1107 [00:00<?, ?it/s]"
            ]
          },
          "metadata": {},
          "output_type": "display_data"
        },
        {
          "name": "stdout",
          "output_type": "stream",
          "text": [
            "<EPOCH 15>\n",
            "1\n",
            "50\n",
            "국문: 오바마는 대통령이다.\n",
            "번역을 수행한 영문: Obama is a place in the presidential election .\n",
            "1\n",
            "50\n",
            "국문: 시민들은 도시 속에 산다.\n",
            "번역을 수행한 영문: We have cities down the city .\n",
            "1\n",
            "50\n",
            "국문: 커피는 필요 없다.\n",
            "번역을 수행한 영문: The needs to drive the drinker .\n",
            "1\n",
            "50\n",
            "국문: 일곱 명의 사망자가 발생했다.\n",
            "번역을 수행한 영문: Seven people were killed by the deaths .\n",
            "1\n",
            "50\n",
            "국문: 여름은 날씨가 덥다.\n",
            "번역을 수행한 영문: weather You weather patterns cold and weather cold\n",
            "1\n",
            "50\n",
            "국문: 그와 그녀는 결혼을 한다.\n",
            "번역을 수행한 영문: She and married she would have .\n",
            "1\n",
            "50\n",
            "국문: 영화관에서 영화를 보고 싶다.\n",
            "번역을 수행한 영문: The big screen will see finally the final version of the movie .\n",
            "1\n",
            "50\n",
            "국문: 아이들은 학교에 간다.\n",
            "번역을 수행한 영문: The children are school .\n",
            "1\n",
            "50\n",
            "국문: 동물은 동물원에 있다.\n",
            "번역을 수행한 영문: The zoo is zoo officials zoo protection .\n",
            "1\n",
            "50\n",
            "국문: 큰 문제가 발생하다.\n",
            "번역을 수행한 영문: It is the first time a huge attack .\n",
            "\n",
            "\n"
          ]
        },
        {
          "data": {
            "application/vnd.jupyter.widget-view+json": {
              "model_id": "0973ed271dd84b7089818ac427674923",
              "version_major": 2,
              "version_minor": 0
            },
            "text/plain": [
              "  0%|          | 0/1107 [00:00<?, ?it/s]"
            ]
          },
          "metadata": {},
          "output_type": "display_data"
        },
        {
          "name": "stdout",
          "output_type": "stream",
          "text": [
            "<EPOCH 16>\n",
            "1\n",
            "50\n",
            "국문: 오바마는 대통령이다.\n",
            "번역을 수행한 영문: Obama is a place in the presidential election\n",
            "1\n",
            "50\n",
            "국문: 시민들은 도시 속에 산다.\n",
            "번역을 수행한 영문: We are in the San Diego .\n",
            "1\n",
            "50\n",
            "국문: 커피는 필요 없다.\n",
            "번역을 수행한 영문: There are no need .\n",
            "1\n",
            "50\n",
            "국문: 일곱 명의 사망자가 발생했다.\n",
            "번역을 수행한 영문: Seven people were killed , the least uh fire wreck .\n",
            "1\n",
            "50\n",
            "국문: 여름은 날씨가 덥다.\n",
            "번역을 수행한 영문: summer . weather is always and hot .\n",
            "1\n",
            "50\n",
            "국문: 그와 그녀는 결혼을 한다.\n",
            "번역을 수행한 영문: She she married .\n",
            "1\n",
            "50\n",
            "국문: 영화관에서 영화를 보고 싶다.\n",
            "번역을 수행한 영문: The film wants to play a big screen .\n",
            "1\n",
            "50\n",
            "국문: 아이들은 학교에 간다.\n",
            "번역을 수행한 영문: The kids schools .\n",
            "1\n",
            "50\n",
            "국문: 동물은 동물원에 있다.\n",
            "번역을 수행한 영문: Animal are on their zoo .\n",
            "1\n",
            "50\n",
            "국문: 큰 문제가 발생하다.\n",
            "번역을 수행한 영문: It s a big problem .\n",
            "\n",
            "\n"
          ]
        },
        {
          "data": {
            "application/vnd.jupyter.widget-view+json": {
              "model_id": "596c20e9288d46f7ab7c93febd7de079",
              "version_major": 2,
              "version_minor": 0
            },
            "text/plain": [
              "  0%|          | 0/1107 [00:00<?, ?it/s]"
            ]
          },
          "metadata": {},
          "output_type": "display_data"
        },
        {
          "name": "stdout",
          "output_type": "stream",
          "text": [
            "<EPOCH 17>\n",
            "1\n",
            "50\n",
            "국문: 오바마는 대통령이다.\n",
            "번역을 수행한 영문: Obama is a man president .\n",
            "1\n",
            "50\n",
            "국문: 시민들은 도시 속에 산다.\n",
            "번역을 수행한 영문: big citys in neighboring .\n",
            "1\n",
            "50\n",
            "국문: 커피는 필요 없다.\n",
            "번역을 수행한 영문: needs to do so .\n",
            "1\n",
            "50\n",
            "국문: 일곱 명의 사망자가 발생했다.\n",
            "번역을 수행한 영문: Seven people were killed , the least Wednesday .\n",
            "1\n",
            "50\n",
            "국문: 여름은 날씨가 덥다.\n",
            "번역을 수행한 영문: summer weather weather in Gaza .\n",
            "1\n",
            "50\n",
            "국문: 그와 그녀는 결혼을 한다.\n",
            "번역을 수행한 영문: She and she should be married .\n",
            "1\n",
            "50\n",
            "국문: 영화관에서 영화를 보고 싶다.\n",
            "번역을 수행한 영문: The movie will be several votes at the cinema .\n",
            "1\n",
            "50\n",
            "국문: 아이들은 학교에 간다.\n",
            "번역을 수행한 영문: They are schooling at age 20 .\n",
            "1\n",
            "50\n",
            "국문: 동물은 동물원에 있다.\n",
            "번역을 수행한 영문: The zoo is usual at the zoo .\n",
            "1\n",
            "50\n",
            "국문: 큰 문제가 발생하다.\n",
            "번역을 수행한 영문: It s a big crisis .\n",
            "\n",
            "\n"
          ]
        },
        {
          "data": {
            "application/vnd.jupyter.widget-view+json": {
              "model_id": "dacba8912abc4083bd8d984b95ec5184",
              "version_major": 2,
              "version_minor": 0
            },
            "text/plain": [
              "  0%|          | 0/1107 [00:00<?, ?it/s]"
            ]
          },
          "metadata": {},
          "output_type": "display_data"
        },
        {
          "name": "stdout",
          "output_type": "stream",
          "text": [
            "<EPOCH 18>\n",
            "1\n",
            "50\n",
            "국문: 오바마는 대통령이다.\n",
            "번역을 수행한 영문: It is President Elect Barack Obama .\n",
            "1\n",
            "50\n",
            "국문: 시민들은 도시 속에 산다.\n",
            "번역을 수행한 영문: Sanies Protested up .\n",
            "1\n",
            "50\n",
            "국문: 커피는 필요 없다.\n",
            "번역을 수행한 영문: The needs to Colombian liv its ordinary consent .\n",
            "1\n",
            "50\n",
            "국문: 일곱 명의 사망자가 발생했다.\n",
            "번역을 수행한 영문: Seven people were killed , the least several people said .\n",
            "1\n",
            "50\n",
            "국문: 여름은 날씨가 덥다.\n",
            "번역을 수행한 영문: In the summer weather , weathers and weather are .\n",
            "1\n",
            "50\n",
            "국문: 그와 그녀는 결혼을 한다.\n",
            "번역을 수행한 영문: She she married .\n",
            "1\n",
            "50\n",
            "국문: 영화관에서 영화를 보고 싶다.\n",
            "번역을 수행한 영문: The movie will be on stage , stand .\n",
            "1\n",
            "50\n",
            "국문: 아이들은 학교에 간다.\n",
            "번역을 수행한 영문: The children are school .\n",
            "1\n",
            "50\n",
            "국문: 동물은 동물원에 있다.\n",
            "번역을 수행한 영문: viruses have been on animals .\n",
            "1\n",
            "50\n",
            "국문: 큰 문제가 발생하다.\n",
            "번역을 수행한 영문: It s been the first problem .\n",
            "\n",
            "\n"
          ]
        },
        {
          "data": {
            "application/vnd.jupyter.widget-view+json": {
              "model_id": "95d41e1558f04b298419457859db391b",
              "version_major": 2,
              "version_minor": 0
            },
            "text/plain": [
              "  0%|          | 0/1107 [00:00<?, ?it/s]"
            ]
          },
          "metadata": {},
          "output_type": "display_data"
        },
        {
          "name": "stdout",
          "output_type": "stream",
          "text": [
            "<EPOCH 19>\n",
            "1\n",
            "50\n",
            "국문: 오바마는 대통령이다.\n",
            "번역을 수행한 영문: Obama is President .\n",
            "1\n",
            "50\n",
            "국문: 시민들은 도시 속에 산다.\n",
            "번역을 수행한 영문: San Diego cities are valued .\n",
            "1\n",
            "50\n",
            "국문: 커피는 필요 없다.\n",
            "번역을 수행한 영문: The need no necessary .\n",
            "1\n",
            "50\n",
            "국문: 일곱 명의 사망자가 발생했다.\n",
            "번역을 수행한 영문: Seven other seven people died .\n",
            "1\n",
            "50\n",
            "국문: 여름은 날씨가 덥다.\n",
            "번역을 수행한 영문: summer weather weather has the weather stopped .\n",
            "1\n",
            "50\n",
            "국문: 그와 그녀는 결혼을 한다.\n",
            "번역을 수행한 영문: She she married .\n",
            "1\n",
            "50\n",
            "국문: 영화관에서 영화를 보고 싶다.\n",
            "번역을 수행한 영문: The movie , which wants to best viewers with final films , films .\n",
            "1\n",
            "50\n",
            "국문: 아이들은 학교에 간다.\n",
            "번역을 수행한 영문: The children are schooling in school .\n",
            "1\n",
            "50\n",
            "국문: 동물은 동물원에 있다.\n",
            "번역을 수행한 영문: zoo contacts have been blamed .\n",
            "1\n",
            "50\n",
            "국문: 큰 문제가 발생하다.\n",
            "번역을 수행한 영문: It appears that the story was the largest issue .\n",
            "\n",
            "\n"
          ]
        },
        {
          "data": {
            "application/vnd.jupyter.widget-view+json": {
              "model_id": "fdfe5d7c5b9544f89b4d7039bc9d4006",
              "version_major": 2,
              "version_minor": 0
            },
            "text/plain": [
              "  0%|          | 0/1107 [00:00<?, ?it/s]"
            ]
          },
          "metadata": {},
          "output_type": "display_data"
        },
        {
          "name": "stdout",
          "output_type": "stream",
          "text": [
            "<EPOCH 20>\n",
            "1\n",
            "50\n",
            "국문: 오바마는 대통령이다.\n",
            "번역을 수행한 영문: Obama is President . Watch Obama s leading presidential trip\n",
            "1\n",
            "50\n",
            "국문: 시민들은 도시 속에 산다.\n",
            "번역을 수행한 영문: Some in the city of All rights .\n",
            "1\n",
            "50\n",
            "국문: 커피는 필요 없다.\n",
            "번역을 수행한 영문: need to do so .\n",
            "1\n",
            "50\n",
            "국문: 일곱 명의 사망자가 발생했다.\n",
            "번역을 수행한 영문: Seven people were killed and another seven were wounded .\n",
            "1\n",
            "50\n",
            "국문: 여름은 날씨가 덥다.\n",
            "번역을 수행한 영문: You weather in weather .\n",
            "1\n",
            "50\n",
            "국문: 그와 그녀는 결혼을 한다.\n",
            "번역을 수행한 영문: She she married .\n",
            "1\n",
            "50\n",
            "국문: 영화관에서 영화를 보고 싶다.\n",
            "번역을 수행한 영문: The idea sees , it s several hit the final .\n",
            "1\n",
            "50\n",
            "국문: 아이들은 학교에 간다.\n",
            "번역을 수행한 영문: The children are school .\n",
            "1\n",
            "50\n",
            "국문: 동물은 동물원에 있다.\n",
            "번역을 수행한 영문: zoo officials are Wednesday .\n",
            "1\n",
            "50\n",
            "국문: 큰 문제가 발생하다.\n",
            "번역을 수행한 영문: It s coming toward a foreign national congress .\n",
            "\n",
            "\n"
          ]
        },
        {
          "data": {
            "application/vnd.jupyter.widget-view+json": {
              "model_id": "f20822a2ef284fc486d45011189c5397",
              "version_major": 2,
              "version_minor": 0
            },
            "text/plain": [
              "  0%|          | 0/1107 [00:00<?, ?it/s]"
            ]
          },
          "metadata": {},
          "output_type": "display_data"
        },
        {
          "name": "stdout",
          "output_type": "stream",
          "text": [
            "<EPOCH 21>\n",
            "1\n",
            "50\n",
            "국문: 오바마는 대통령이다.\n",
            "번역을 수행한 영문: Obama is a man who s president .\n",
            "1\n",
            "50\n",
            "국문: 시민들은 도시 속에 산다.\n",
            "번역을 수행한 영문: ies in motor cities .\n",
            "1\n",
            "50\n",
            "국문: 커피는 필요 없다.\n",
            "번역을 수행한 영문: delegation needs to be a short liv southeast .\n",
            "1\n",
            "50\n",
            "국문: 일곱 명의 사망자가 발생했다.\n",
            "번역을 수행한 영문: Seven other people were killed .\n",
            "1\n",
            "50\n",
            "국문: 여름은 날씨가 덥다.\n",
            "번역을 수행한 영문: summer weather for weather .\n",
            "1\n",
            "50\n",
            "국문: 그와 그녀는 결혼을 한다.\n",
            "번역을 수행한 영문: She She becomes prime minister .\n",
            "1\n",
            "50\n",
            "국문: 영화관에서 영화를 보고 싶다.\n",
            "번역을 수행한 영문: The movie , which I wanted to hits from a theater .\n",
            "1\n",
            "50\n",
            "국문: 아이들은 학교에 간다.\n",
            "번역을 수행한 영문: The children are school .\n",
            "1\n",
            "50\n",
            "국문: 동물은 동물원에 있다.\n",
            "번역을 수행한 영문: Animal are sometimes escaped .\n",
            "1\n",
            "50\n",
            "국문: 큰 문제가 발생하다.\n",
            "번역을 수행한 영문: It is the first time a huge number of protesters .\n",
            "\n",
            "\n"
          ]
        },
        {
          "data": {
            "application/vnd.jupyter.widget-view+json": {
              "model_id": "445fcd044de54439aeb311b7867744bb",
              "version_major": 2,
              "version_minor": 0
            },
            "text/plain": [
              "  0%|          | 0/1107 [00:00<?, ?it/s]"
            ]
          },
          "metadata": {},
          "output_type": "display_data"
        },
        {
          "name": "stdout",
          "output_type": "stream",
          "text": [
            "<EPOCH 22>\n",
            "1\n",
            "50\n",
            "국문: 오바마는 대통령이다.\n",
            "번역을 수행한 영문: President Obama has a place in the presidential election .\n",
            "1\n",
            "50\n",
            "국문: 시민들은 도시 속에 산다.\n",
            "번역을 수행한 영문: Sanern Chinula also helped .\n",
            "1\n",
            "50\n",
            "국문: 커피는 필요 없다.\n",
            "번역을 수행한 영문: holiday needs to be unveiled .\n",
            "1\n",
            "50\n",
            "국문: 일곱 명의 사망자가 발생했다.\n",
            "번역을 수행한 영문: Seven other seven people were dead .\n",
            "1\n",
            "50\n",
            "국문: 여름은 날씨가 덥다.\n",
            "번역을 수행한 영문: weather weather weather Santa weather and weather Santa M .\n",
            "1\n",
            "50\n",
            "국문: 그와 그녀는 결혼을 한다.\n",
            "번역을 수행한 영문: She She married Barcelona as she would .\n",
            "1\n",
            "50\n",
            "국문: 영화관에서 영화를 보고 싶다.\n",
            "번역을 수행한 영문: The movie wants to finally report from says .\n",
            "1\n",
            "50\n",
            "국문: 아이들은 학교에 간다.\n",
            "번역을 수행한 영문: The children are from schoolchildren .\n",
            "1\n",
            "50\n",
            "국문: 동물은 동물원에 있다.\n",
            "번역을 수행한 영문: Animal are sometimes zoo officials Wednesday .\n",
            "1\n",
            "50\n",
            "국문: 큰 문제가 발생하다.\n",
            "번역을 수행한 영문: It s coming out a big story\n",
            "\n",
            "\n"
          ]
        },
        {
          "data": {
            "application/vnd.jupyter.widget-view+json": {
              "model_id": "3e171b6a7a154a5899e4c04e60c98720",
              "version_major": 2,
              "version_minor": 0
            },
            "text/plain": [
              "  0%|          | 0/1107 [00:00<?, ?it/s]"
            ]
          },
          "metadata": {},
          "output_type": "display_data"
        },
        {
          "name": "stdout",
          "output_type": "stream",
          "text": [
            "<EPOCH 23>\n",
            "1\n",
            "50\n",
            "국문: 오바마는 대통령이다.\n",
            "번역을 수행한 영문: Obama is a President . . . . .\n",
            "1\n",
            "50\n",
            "국문: 시민들은 도시 속에 산다.\n",
            "번역을 수행한 영문: San Antonio A railways .\n",
            "1\n",
            "50\n",
            "국문: 커피는 필요 없다.\n",
            "번역을 수행한 영문: There s no need for either drinkers .\n",
            "1\n",
            "50\n",
            "국문: 일곱 명의 사망자가 발생했다.\n",
            "번역을 수행한 영문: Seven people were killed seven .\n",
            "1\n",
            "50\n",
            "국문: 여름은 날씨가 덥다.\n",
            "번역을 수행한 영문: weather weather weather Santa for weather .\n",
            "1\n",
            "50\n",
            "국문: 그와 그녀는 결혼을 한다.\n",
            "번역을 수행한 영문: She and her marriage taken married .\n",
            "1\n",
            "50\n",
            "국문: 영화관에서 영화를 보고 싶다.\n",
            "번역을 수행한 영문: The ideas for some viewers .\n",
            "1\n",
            "50\n",
            "국문: 아이들은 학교에 간다.\n",
            "번역을 수행한 영문: The children are school teaching Ministry .\n",
            "1\n",
            "50\n",
            "국문: 동물은 동물원에 있다.\n",
            "번역을 수행한 영문: The zoo is worth zoo offers for the zoo Now\n",
            "1\n",
            "50\n",
            "국문: 큰 문제가 발생하다.\n",
            "번역을 수행한 영문: It is the first time a foreign participant at a problems .\n",
            "\n",
            "\n"
          ]
        },
        {
          "data": {
            "application/vnd.jupyter.widget-view+json": {
              "model_id": "fb41d017e03b47f6aec8c5162cd1c2e4",
              "version_major": 2,
              "version_minor": 0
            },
            "text/plain": [
              "  0%|          | 0/1107 [00:00<?, ?it/s]"
            ]
          },
          "metadata": {},
          "output_type": "display_data"
        },
        {
          "name": "stdout",
          "output_type": "stream",
          "text": [
            "<EPOCH 24>\n",
            "1\n",
            "50\n",
            "국문: 오바마는 대통령이다.\n",
            "번역을 수행한 영문: He President Obama is a President .\n",
            "1\n",
            "50\n",
            "국문: 시민들은 도시 속에 산다.\n",
            "번역을 수행한 영문: San Francisco became the city .\n",
            "1\n",
            "50\n",
            "국문: 커피는 필요 없다.\n",
            "번역을 수행한 영문: need to do its east during Christmas .\n",
            "1\n",
            "50\n",
            "국문: 일곱 명의 사망자가 발생했다.\n",
            "번역을 수행한 영문: Seven people were killed , the least seven days before the seven death toll .\n",
            "1\n",
            "50\n",
            "국문: 여름은 날씨가 덥다.\n",
            "번역을 수행한 영문: summer weather weather weather and weather is always look .\n",
            "1\n",
            "50\n",
            "국문: 그와 그녀는 결혼을 한다.\n",
            "번역을 수행한 영문: She and her married\n",
            "1\n",
            "50\n",
            "국문: 영화관에서 영화를 보고 싶다.\n",
            "번역을 수행한 영문: The final pitching for theaters .\n",
            "1\n",
            "50\n",
            "국문: 아이들은 학교에 간다.\n",
            "번역을 수행한 영문: The children are schooling in the schools .\n",
            "1\n",
            "50\n",
            "국문: 동물은 동물원에 있다.\n",
            "번역을 수행한 영문: zoo contacts are in the zoo .\n",
            "1\n",
            "50\n",
            "국문: 큰 문제가 발생하다.\n",
            "번역을 수행한 영문: It s coming a total of personal early .\n",
            "\n",
            "\n"
          ]
        },
        {
          "data": {
            "application/vnd.jupyter.widget-view+json": {
              "model_id": "5545efea061948ca89b7ab33d37bba23",
              "version_major": 2,
              "version_minor": 0
            },
            "text/plain": [
              "  0%|          | 0/1107 [00:00<?, ?it/s]"
            ]
          },
          "metadata": {},
          "output_type": "display_data"
        },
        {
          "name": "stdout",
          "output_type": "stream",
          "text": [
            "<EPOCH 25>\n",
            "1\n",
            "50\n",
            "국문: 오바마는 대통령이다.\n",
            "번역을 수행한 영문: Obama is a President .\n",
            "1\n",
            "50\n",
            "국문: 시민들은 도시 속에 산다.\n",
            "번역을 수행한 영문: San Francisco Oakland , New is a nice safety .\n",
            "1\n",
            "50\n",
            "국문: 커피는 필요 없다.\n",
            "번역을 수행한 영문: need nobody needs .\n",
            "1\n",
            "50\n",
            "국문: 일곱 명의 사망자가 발생했다.\n",
            "번역을 수행한 영문: Seven other seven deaths were forced to rise .\n",
            "1\n",
            "50\n",
            "국문: 여름은 날씨가 덥다.\n",
            "번역을 수행한 영문: summer weather weather weather weather .\n",
            "1\n",
            "50\n",
            "국문: 그와 그녀는 결혼을 한다.\n",
            "번역을 수행한 영문: She and her wedding .\n",
            "1\n",
            "50\n",
            "국문: 영화관에서 영화를 보고 싶다.\n",
            "번역을 수행한 영문: The movie wants to finally see finally at the cinema .\n",
            "1\n",
            "50\n",
            "국문: 아이들은 학교에 간다.\n",
            "번역을 수행한 영문: The children are school teaching lodged in the house .\n",
            "1\n",
            "50\n",
            "국문: 동물은 동물원에 있다.\n",
            "번역을 수행한 영문: zoo officials are on the zoo s list .\n",
            "1\n",
            "50\n",
            "국문: 큰 문제가 발생하다.\n",
            "번역을 수행한 영문: It is the first time a foreign survey .\n",
            "\n",
            "\n"
          ]
        },
        {
          "data": {
            "application/vnd.jupyter.widget-view+json": {
              "model_id": "479e5bdd137346a3a18c7c5f67c32ea3",
              "version_major": 2,
              "version_minor": 0
            },
            "text/plain": [
              "  0%|          | 0/1107 [00:00<?, ?it/s]"
            ]
          },
          "metadata": {},
          "output_type": "display_data"
        },
        {
          "name": "stdout",
          "output_type": "stream",
          "text": [
            "<EPOCH 26>\n",
            "1\n",
            "50\n",
            "국문: 오바마는 대통령이다.\n",
            "번역을 수행한 영문: Obama is a place in the electoral procedure .\n",
            "1\n",
            "50\n",
            "국문: 시민들은 도시 속에 산다.\n",
            "번역을 수행한 영문: Ouries are Yonhap news .\n",
            "1\n",
            "50\n",
            "국문: 커피는 필요 없다.\n",
            "번역을 수행한 영문: He cannot need a fairly member .\n",
            "1\n",
            "50\n",
            "국문: 일곱 명의 사망자가 발생했다.\n",
            "번역을 수행한 영문: Seven people were killed , the plane official said .\n",
            "1\n",
            "50\n",
            "국문: 여름은 날씨가 덥다.\n",
            "번역을 수행한 영문: summer .\n",
            "1\n",
            "50\n",
            "국문: 그와 그녀는 결혼을 한다.\n",
            "번역을 수행한 영문: She she married just in her wedding .\n",
            "1\n",
            "50\n",
            "국문: 영화관에서 영화를 보고 싶다.\n",
            "번역을 수행한 영문: The latest gives the cinema , I hope to want to be see .\n",
            "1\n",
            "50\n",
            "국문: 아이들은 학교에 간다.\n",
            "번역을 수행한 영문: We are schools in these houses , school boys .\n",
            "1\n",
            "50\n",
            "국문: 동물은 동물원에 있다.\n",
            "번역을 수행한 영문: zoo officials are zoo contact .\n",
            "1\n",
            "50\n",
            "국문: 큰 문제가 발생하다.\n",
            "번역을 수행한 영문: It s the biggest problem that there is a problem .\n",
            "\n",
            "\n"
          ]
        },
        {
          "data": {
            "application/vnd.jupyter.widget-view+json": {
              "model_id": "89cefb6f8bbd46c9ac0c5fa757c9ef47",
              "version_major": 2,
              "version_minor": 0
            },
            "text/plain": [
              "  0%|          | 0/1107 [00:00<?, ?it/s]"
            ]
          },
          "metadata": {},
          "output_type": "display_data"
        },
        {
          "name": "stdout",
          "output_type": "stream",
          "text": [
            "<EPOCH 27>\n",
            "1\n",
            "50\n",
            "국문: 오바마는 대통령이다.\n",
            "번역을 수행한 영문: Obama is a President .\n",
            "1\n",
            "50\n",
            "국문: 시민들은 도시 속에 산다.\n",
            "번역을 수행한 영문: Ouries are sorry .\n",
            "1\n",
            "50\n",
            "국문: 커피는 필요 없다.\n",
            "번역을 수행한 영문: He cannot need to .\n",
            "1\n",
            "50\n",
            "국문: 일곱 명의 사망자가 발생했다.\n",
            "번역을 수행한 영문: Seven people were killed , the led by the death toll .\n",
            "1\n",
            "50\n",
            "국문: 여름은 날씨가 덥다.\n",
            "번역을 수행한 영문: summer . weather weather weather and cold weather is just her .\n",
            "1\n",
            "50\n",
            "국문: 그와 그녀는 결혼을 한다.\n",
            "번역을 수행한 영문: She and her marriage license\n",
            "1\n",
            "50\n",
            "국문: 영화관에서 영화를 보고 싶다.\n",
            "번역을 수행한 영문: The movie will be three star ideas .\n",
            "1\n",
            "50\n",
            "국문: 아이들은 학교에 간다.\n",
            "번역을 수행한 영문: We are schools in intelligence .\n",
            "1\n",
            "50\n",
            "국문: 동물은 동물원에 있다.\n",
            "번역을 수행한 영문: Animal zoo officials are zoo officials .\n",
            "1\n",
            "50\n",
            "국문: 큰 문제가 발생하다.\n",
            "번역을 수행한 영문: Its overseas for up to the congressional committees are handling problems\n",
            "\n",
            "\n"
          ]
        },
        {
          "data": {
            "application/vnd.jupyter.widget-view+json": {
              "model_id": "ddc8708c1c79409d9e3cb3edbfa4ff6d",
              "version_major": 2,
              "version_minor": 0
            },
            "text/plain": [
              "  0%|          | 0/1107 [00:00<?, ?it/s]"
            ]
          },
          "metadata": {},
          "output_type": "display_data"
        },
        {
          "name": "stdout",
          "output_type": "stream",
          "text": [
            "<EPOCH 28>\n",
            "1\n",
            "50\n",
            "국문: 오바마는 대통령이다.\n",
            "번역을 수행한 영문: Obama on what is on the president .\n",
            "1\n",
            "50\n",
            "국문: 시민들은 도시 속에 산다.\n",
            "번역을 수행한 영문: We are in the San Twental News .\n",
            "1\n",
            "50\n",
            "국문: 커피는 필요 없다.\n",
            "번역을 수행한 영문: needs to be its tool , he said .\n",
            "1\n",
            "50\n",
            "국문: 일곱 명의 사망자가 발생했다.\n",
            "번역을 수행한 영문: Seven other seven people were killed .\n",
            "1\n",
            "50\n",
            "국문: 여름은 날씨가 덥다.\n",
            "번역을 수행한 영문: You re even seeing weather and summer .\n",
            "1\n",
            "50\n",
            "국문: 그와 그녀는 결혼을 한다.\n",
            "번역을 수행한 영문: She and her underwear .\n",
            "1\n",
            "50\n",
            "국문: 영화관에서 영화를 보고 싶다.\n",
            "번역을 수행한 영문: The latest movie will be playing in July .\n",
            "1\n",
            "50\n",
            "국문: 아이들은 학교에 간다.\n",
            "번역을 수행한 영문: The children are her kids in school .\n",
            "1\n",
            "50\n",
            "국문: 동물은 동물원에 있다.\n",
            "번역을 수행한 영문: zoos have been nationwide .\n",
            "1\n",
            "50\n",
            "국문: 큰 문제가 발생하다.\n",
            "번역을 수행한 영문: It s a big issue that has happened .\n",
            "\n",
            "\n"
          ]
        },
        {
          "data": {
            "application/vnd.jupyter.widget-view+json": {
              "model_id": "740945f65e0a4b5ba08aad257fe7541a",
              "version_major": 2,
              "version_minor": 0
            },
            "text/plain": [
              "  0%|          | 0/1107 [00:00<?, ?it/s]"
            ]
          },
          "metadata": {},
          "output_type": "display_data"
        },
        {
          "name": "stdout",
          "output_type": "stream",
          "text": [
            "<EPOCH 29>\n",
            "1\n",
            "50\n",
            "국문: 오바마는 대통령이다.\n",
            "번역을 수행한 영문: Obama is a place .\n",
            "1\n",
            "50\n",
            "국문: 시민들은 도시 속에 산다.\n",
            "번역을 수행한 영문: Among the city s lives\n",
            "1\n",
            "50\n",
            "국문: 커피는 필요 없다.\n",
            "번역을 수행한 영문: need to do well .\n",
            "1\n",
            "50\n",
            "국문: 일곱 명의 사망자가 발생했다.\n",
            "번역을 수행한 영문: Seven P5N injured the fatality in the5 accident .\n",
            "1\n",
            "50\n",
            "국문: 여름은 날씨가 덥다.\n",
            "번역을 수행한 영문: Even weather weather .\n",
            "1\n",
            "50\n",
            "국문: 그와 그녀는 결혼을 한다.\n",
            "번역을 수행한 영문: She and her wedding\n",
            "1\n",
            "50\n",
            "국문: 영화관에서 영화를 보고 싶다.\n",
            "번역을 수행한 영문: The movie wants to finally report with theater .\n",
            "1\n",
            "50\n",
            "국문: 아이들은 학교에 간다.\n",
            "번역을 수행한 영문: The children are school .\n",
            "1\n",
            "50\n",
            "국문: 동물은 동물원에 있다.\n",
            "번역을 수행한 영문: Animal zoos are at the zoo .\n",
            "1\n",
            "50\n",
            "국문: 큰 문제가 발생하다.\n",
            "번역을 수행한 영문: It s been the first time a huge attack .\n",
            "\n",
            "\n"
          ]
        },
        {
          "data": {
            "application/vnd.jupyter.widget-view+json": {
              "model_id": "89921876e933483fae5fb68e0c4375c6",
              "version_major": 2,
              "version_minor": 0
            },
            "text/plain": [
              "  0%|          | 0/1107 [00:00<?, ?it/s]"
            ]
          },
          "metadata": {},
          "output_type": "display_data"
        },
        {
          "name": "stdout",
          "output_type": "stream",
          "text": [
            "<EPOCH 30>\n",
            "1\n",
            "50\n",
            "국문: 오바마는 대통령이다.\n",
            "번역을 수행한 영문: Obama is President elect .\n",
            "1\n",
            "50\n",
            "국문: 시민들은 도시 속에 산다.\n",
            "번역을 수행한 영문: Among the city s urban was a safety 22 .\n",
            "1\n",
            "50\n",
            "국문: 커피는 필요 없다.\n",
            "번역을 수행한 영문: He cannot need a permanent member .\n",
            "1\n",
            "50\n",
            "국문: 일곱 명의 사망자가 발생했다.\n",
            "번역을 수행한 영문: Seven people were killed or wounded .\n",
            "1\n",
            "50\n",
            "국문: 여름은 날씨가 덥다.\n",
            "번역을 수행한 영문: You can even see weather .\n",
            "1\n",
            "50\n",
            "국문: 그와 그녀는 결혼을 한다.\n",
            "번역을 수행한 영문: She and her marriage license\n",
            "1\n",
            "50\n",
            "국문: 영화관에서 영화를 보고 싶다.\n",
            "번역을 수행한 영문: The idea three new movie finally .\n",
            "1\n",
            "50\n",
            "국문: 아이들은 학교에 간다.\n",
            "번역을 수행한 영문: The children are school .\n",
            "1\n",
            "50\n",
            "국문: 동물은 동물원에 있다.\n",
            "번역을 수행한 영문: The zoo is pursuing a zoo .\n",
            "1\n",
            "50\n",
            "국문: 큰 문제가 발생하다.\n",
            "번역을 수행한 영문: It s been a huge political issue .\n",
            "\n",
            "\n",
            "1\n",
            "50\n",
            "국문: 큰 문제가 발생하다.\n",
            "번역을 수행한 영문: It s been a huge political issue .\n",
            "<Self Attention 1>\n"
          ]
        },
        {
          "data": {
            "image/png": "[encoded data removed]",
            "text/plain": [
              "<Figure size 1440x720 with 4 Axes>"
            ]
          },
          "metadata": {
            "needs_background": "light"
          },
          "output_type": "display_data"
        },
        {
          "name": "stdout",
          "output_type": "stream",
          "text": [
            "<Self Attention 2>\n"
          ]
        },
        {
          "data": {
            "image/png": "[encoded data removed]",
            "text/plain": [
              "<Figure size 1440x720 with 4 Axes>"
            ]
          },
          "metadata": {
            "needs_background": "light"
          },
          "output_type": "display_data"
        },
        {
          "name": "stdout",
          "output_type": "stream",
          "text": [
            "<Decoder Self Layer 1>\n"
          ]
        },
        {
          "data": {
            "image/png": "[encoded data removed]",
            "text/plain": [
              "<Figure size 1440x720 with 4 Axes>"
            ]
          },
          "metadata": {
            "needs_background": "light"
          },
          "output_type": "display_data"
        },
        {
          "name": "stdout",
          "output_type": "stream",
          "text": [
            "<Context Vector By Decoder Input 1>\n"
          ]
        },
        {
          "data": {
            "image/png": "[encoded data removed]",
            "text/plain": [
              "<Figure size 1440x720 with 4 Axes>"
            ]
          },
          "metadata": {
            "needs_background": "light"
          },
          "output_type": "display_data"
        },
        {
          "name": "stdout",
          "output_type": "stream",
          "text": [
            "<Decoder Self Layer 2>\n"
          ]
        },
        {
          "data": {
            "image/png": "[encoded data removed]",
            "text/plain": [
              "<Figure size 1440x720 with 4 Axes>"
            ]
          },
          "metadata": {
            "needs_background": "light"
          },
          "output_type": "display_data"
        },
        {
          "name": "stdout",
          "output_type": "stream",
          "text": [
            "<Context Vector By Decoder Input 2>\n"
          ]
        },
        {
          "data": {
            "image/png": "[encoded data removed]",
            "text/plain": [
              "<Figure size 1440x720 with 4 Axes>"
            ]
          },
          "metadata": {
            "needs_background": "light"
          },
          "output_type": "display_data"
        }
      ],
      "source": [
        "fit(enc_train, dec_train, ko_tokenizer, en_tokenizer)"
      ]
    },
    {
      "cell_type": "markdown",
      "id": "4b2a3d0a",
      "metadata": {
        "id": "4b2a3d0a"
      },
      "source": [
        "### **5-6. 최종 학습 결과 확인**"
      ]
    },
    {
      "cell_type": "markdown",
      "id": "db80ab07",
      "metadata": {
        "id": "db80ab07"
      },
      "source": [
        "- **SentencePeice를 사용한 Transformer 모델의 학습 횟수 별 결과 비교** "
      ]
    },
    {
      "cell_type": "markdown",
      "id": "8c93f1e6",
      "metadata": {
        "id": "8c93f1e6"
      },
      "source": [
        "|**학습 횟수**|**국문**|**숫자 데이터를 미포함한 Transformer 번역 수행 영문**|**숫자 데이터를 포함한 Transformer 번역 수행 영문**|\n",
        "|:---:|:---:|:---:|:---:|\n",
        "|1|오바마는 대통령이다.|Obama s elected to the presidential presidential presidential candidate.|Obama is the first time.|\n",
        "|5|오바마는 대통령이다.|It is a president.|**Obama is the president.**|\n",
        "|10|오바마는 대통령이다.|The Oval Office is a Obama family.|**Obama is a man who s president.**|\n",
        "|15|오바마는 대통령이다.|The President is a Obama present.|Obama is a place in the presidential election.|\n",
        "|20|오바마는 대통령이다.|**The President is, Obama is a black president.**|Obama is President. Watch Obama s leading presidential trip|\n",
        "|25|오바마는 대통령이다.|The President is, Obama is.|**Obama is a President.**|\n",
        "|30|오바마는 대통령이다.|The President is in plus years.|**Obama is President elect.**|\n"
      ]
    },
    {
      "cell_type": "markdown",
      "id": "9fad4024",
      "metadata": {
        "id": "9fad4024"
      },
      "source": [
        "|**학습 횟수**|**국문**|**숫자 데이터를 미포함한 Transformer 번역 수행 영문**|**숫자 데이터를 포함한 Transformer 번역 수행 영문**|\n",
        "|:---:|:---:|:---:|:---:|\n",
        "|1|시민들은 도시 속에 산다.|They are a little in the area.|They are a new car.|\n",
        "|5|시민들은 도시 속에 산다.|citizens.|**There are a growing city.**|\n",
        "|10|시민들은 도시 속에 산다.|The city s food city will only become the only one visiting.|That is down to 90.|\n",
        "|15|시민들은 도시 속에 산다.|For the rest of the country is getting about urban.|We have cities down the city.|\n",
        "|20|시민들은 도시 속에 산다.|The city s urban rise is onto the rise.|Some in the city of All rights.|\n",
        "|25|시민들은 도시 속에 산다.|They ve decided the overseas will take every extra in the wealth.|San Francisco Oakland, New is a nice safety.|\n",
        "|30|시민들은 도시 속에 산다.|The city is put to traffic.|Among the city s urban was a safety 22.|"
      ]
    },
    {
      "cell_type": "markdown",
      "id": "3eb6d468",
      "metadata": {
        "id": "3eb6d468"
      },
      "source": [
        "|**학습 횟수**|**국문**|**숫자 데이터를 미포함한 Transformer 번역 수행 영문**|**숫자 데이터를 포함한 Transformer 번역 수행 영문**|\n",
        "|:---:|:---:|:---:|:---:|\n",
        "|1|커피는 필요 없다.|They are not going to be able to be very very very very very very very very very very ⁇|This is a lot of the new.|\n",
        "|5|커피는 필요 없다.|She needs to be able to get a cup of de France.|Then there are no need.|\n",
        "|10|커피는 필요 없다.|coffee makes coffee.|There s another fair.|\n",
        "|15|커피는 필요 없다.|coffee . aren t drinking.|The needs to drive the drinker.|\n",
        "|20|커피는 필요 없다.|coffee there is no coffee.|need to do so.|\n",
        "|25|커피는 필요 없다.|coffee there is no need for ⁇|need nobody needs.|\n",
        "|30|커피는 필요 없다.|coffee.|He cannot need a permanent member.|"
      ]
    },
    {
      "cell_type": "markdown",
      "id": "14fbb948",
      "metadata": {
        "id": "14fbb948"
      },
      "source": [
        "|**학습 횟수**|**국문**|**숫자 데이터를 미포함한 Transformer 번역 수행 영문**|**숫자 데이터를 포함한 Transformer 번역 수행 영문**|\n",
        "|:---:|:---:|:---:|:---:|\n",
        "|1|일곱 명의 사망자가 발생했다.|The blast was killed in a nearly nearly , a hospital, who was killed.|They were killed in the town of the town.|\n",
        "|5|일곱 명의 사망자가 발생했다.|Six soldiers were dead.|Seven other seven people died.|\n",
        "|10|일곱 명의 사망자가 발생했다.|Seven people were killed, , of them injuries.|Seven people were killed , the local official said.|\n",
        "|15|일곱 명의 사망자가 발생했다.|Seven soldiers were killed, said Monday.|**Seven people were killed by the deaths.**|\n",
        "|20|일곱 명의 사망자가 발생했다.|Seven people were dead Tuesday, a toll toll media tollhind.|Seven people were killed and another seven were wounded.|\n",
        "|25|일곱 명의 사망자가 발생했다.|Seven people were killed, and some said he was about killed.|Seven other seven deaths were forced to rise.|\n",
        "|30|일곱 명의 사망자가 발생했다.|Seven seven people were killed.|Seven people were killed or wounded.|"
      ]
    },
    {
      "cell_type": "markdown",
      "source": [
        "처음에는 프로젝트 지시 사항에 따라 숫자 데이터를 미포함해서 진행했으나, 생각보다 좋지 않은 결과를 보여주었다. 학습이 진행됨에 따라 어느정도 맞추는 확률이 높아지는 모습을 보여야 하는데, 한두개의 키워드나 흐름 외에 전체적으로 성능이 떨어지는 모습을 보여 주었다. 혹시나 싶은 마음에 저번 프로젝트에서 진행했던 대로 정규화를 진행해서 출력을 해 본 결과, 숫자 데이터를 포함했을 경우 더 뛰어난 성능을 보여주는 것이 확인되었다. 하지만 전반적으로 저번 프로젝트에 비해 미비한 성능을 보여주어 아쉽다."
      ],
      "metadata": {
        "id": "rJt8hJXY8lGN"
      },
      "id": "rJt8hJXY8lGN"
    },
    {
      "cell_type": "markdown",
      "id": "b8a62fd0",
      "metadata": {
        "id": "b8a62fd0"
      },
      "source": [
        "- **20회 학습 기준 - Mecab을 사용한 Seq2seq모델과 SentencePeice를 사용한 Transformer 모델 비교**"
      ]
    },
    {
      "cell_type": "markdown",
      "id": "c94e7333",
      "metadata": {
        "id": "c94e7333"
      },
      "source": [
        "|**국문**|**Seq2seq 번역 수행 영문**|**숫자 미포함 데이터 Transformer 번역 수행 영문**|**숫자 포함 데이터 Transformer 번역 수행 영문**|\n",
        "|:---:|:---:|:---:|:---:|\n",
        "|오바마는 대통령이다.|obama is a former president.|The President is, Obama is a black president.|Obama is President. Watch Obama s leading presidential trip|\n",
        "|시민들은 도시 속에 산다.|they are also a huge number of the city.|The city s urban rise is onto the rise.|Some in the city of All rights.|\n",
        "|커피는 필요 없다.|he says.|coffee there is no coffee.|need to do so.|\n",
        "|일곱 명의 사망자가 발생했다.|six were killed.|Seven people were dead Tuesday, a toll toll media tollhind.|Seven people were killed and another seven were wounded.|\n",
        "|여름은 날씨가 덥다.|the summer morning , the weather is the best way to get the new weather.|The summer weather is in weather.|You weather in weather.|\n",
        "|그와 그녀는 결혼을 한다.|he is married to her marriage.|She and she married in a Senate crew|She she married.|\n",
        "|영화관에서 영화를 보고 싶다.|i want to play a movie in the screen.|There may be some words.|The idea sees, it s several hit the final.|\n",
        "|아이들은 학교에 간다.|they were in the school.|children|The children are school.|\n",
        "|동물은 동물원에 있다.|the animals are being found in the zoos.|The animals are zoos.|zoo officials are Wednesday.|\n",
        "|큰 문제가 발생하다.|the problem is a major point.|Fears that too largely will also be a big problem.|It s coming toward a foreign national congress.|"
      ]
    },
    {
      "cell_type": "markdown",
      "source": [
        "전반적으로 두개의 모델을 비교해 본 결과, Mecab을 활용한 Seq2seq모델의 성능이 더 좋다는 것을 알 수 있다. 아무래도 Mecab의 경우에는 한글에 특화된 형태소 분석기이기 때문에 더 성능이 좋다고 생각해 볼 수 있을 것 같다. 이를 뒷받침하기 위해서는 Mecab을 형태소 분석기로 활용한 뒤 Transformer 모델을 사용한 결과가 필요한데, 이번에 시간이 부족해서 그 부분까지 진행하지는 못했다. SentencePiece는 영-한 둘 다 토큰화가 가능하기 때문에 범용성이 뛰어나긴 하지만, 결과 확인을 통해 한국어에 특화된 형태소 분석기의 필요성을 느낄 수 있었다."
      ],
      "metadata": {
        "id": "NHaYEa1v7W3P"
      },
      "id": "NHaYEa1v7W3P"
    },
    {
      "cell_type": "markdown",
      "id": "c9ef3bce",
      "metadata": {
        "id": "c9ef3bce"
      },
      "source": [
        "## **6. 회고**"
      ]
    },
    {
      "cell_type": "markdown",
      "id": "66686f2b",
      "metadata": {
        "id": "66686f2b"
      },
      "source": [
        "### **6-1. 프로젝트 회고**"
      ]
    },
    {
      "cell_type": "markdown",
      "id": "b5ae52cc",
      "metadata": {
        "id": "b5ae52cc"
      },
      "source": [
        "이번 프로젝트에서는 오류가 많이 나지는 않았으나 오류가 계속 해결되지 않는 문제가 발생하였다.  \n",
        "\n",
        "가장 먼저 문제였던 부분은 토큰화 부분이었는데, 계속해서 토큰화 과정에서 오류가 발생했다. 인코딩 문제, 토큰화 완료된 문장을 확인했을 때 제대로 토큰화가 진행되지 않는 문제, vocab 크기 오류 문제 등 문제도 다양했고, 해결도 잘 되지 않았다. 내가 작업을 진행했을 때에는 문제가 해결되지 않았는데, 다른 분들과 문제를 공유한 결과 크게 코드에 변화가 없었으나 문제가 해결이 되었다. 아무래도 인코딩이 가장 큰 문제였던 것 같은데, 정확한 해결 이유를 잘 모르겠다.  \n",
        "\n",
        "두번째 문제는 아직 해결을 하지 못했는데, 왜 학습 진행 시 문장 출력 결과에 1, 50이 같이 출력이 되는지 모르겠다. 해결을 해보려고 코드를 찾아보고 많은 시도를 했지만 결국 해결하지 못해서 아쉽다.  \n",
        "\n",
        "Transformer 모델은 모델의 구조가 복잡하고 많아서 그런지 항상 코드를 구현할 때 어렵다는 생각이 든다. 그리고 이번에는 따로 train, test 데이터로 나뉘어 있지 않다보니 early stopping을 활용하지 못하는 점이 아주 답답하다. 일부러 좋은 결과를 위해 많이 학습을 돌렸는데 오버피팅 현상이 발생했고, 오버피팅 발생 직전 가장 성능이 좋은 지점을 결정하는 부분이 어렵고 애매하게 느껴진 것 같다.  \n",
        "\n",
        "그리고 마지막 결과에 시각화를 진행했는데, 한글 폰트를 설정했음에도 불구하고 일부 폰트 부분이 깨지는 경우가 발생했다. 이건 폰트 구성의 문제 같은데, 10,000자 이상으로 구성된 폰트로 바꿔주니 문제가 해결 되었다. 생각보다 시각화 부분에서 자잘한 오류가 많이 발생하는 것 같고, 매번 비슷한 문제가 발생하기 때문에 꼭 잘 확인하고 넘어가는 게 중요할 것 같다.  \n",
        "\n",
        "마지막으로 학습 결과를 확인했을 때 여러번 학습을 돌려봤는데, 신기하게 돌릴 때 마다 결과가 너무 다르게 나온다. 이유는 잘 모르겠는데, 어느 경우에는 학습 횟수가 적은 경우 똑같은 글자를 길게 나열하는 경우가 있고, 또 다른 경우에는 물음표를 뱉어낸다. 무슨 기준으로 그런건지 이유가 궁금하다."
      ]
    },
    {
      "cell_type": "markdown",
      "id": "80e0542d",
      "metadata": {
        "id": "80e0542d"
      },
      "source": [
        "### **6-2. 참고 자료**"
      ]
    },
    {
      "cell_type": "markdown",
      "id": "a5726244",
      "metadata": {
        "id": "a5726244"
      },
      "source": [
        "1. https://github.com/YAGI0423/aiffel_going_deeper_nlp/blob/main/going_deeper_10/GD10_v4_1.ipynb\n",
        "2. https://github.com/eunji1/Aiffel/blob/main/NLP/NLP%5B10%5Dtransformer.ipynb"
      ]
    }
  ],
  "metadata": {
    "kernelspec": {
      "display_name": "Python 3 (ipykernel)",
      "language": "python",
      "name": "python3"
    },
    "language_info": {
      "codemirror_mode": {
        "name": "ipython",
        "version": 3
      },
      "file_extension": ".py",
      "mimetype": "text/x-python",
      "name": "python",
      "nbconvert_exporter": "python",
      "pygments_lexer": "ipython3",
      "version": "3.9.0"
    },
    "colab": {
      "name": "[GD-10]nlp.ipynb",
      "provenance": [],
      "collapsed_sections": [
        "483e1c1a",
        "8dfa7c2d",
        "6d581387",
        "78c879fd",
        "91b2938b",
        "3d949655",
        "383bf555",
        "2512e5e0",
        "3b363eb2",
        "a6f12717",
        "af6d419c",
        "32dd70d6",
        "2a15caef",
        "c67dd097",
        "6211bb61",
        "455408b5",
        "f81aacb3",
        "126c1ecb",
        "8d512f08",
        "566a84d3",
        "71a5b21c",
        "a431e269",
        "474a1590",
        "85564e6e",
        "f5fb2d2f",
        "66686f2b",
        "80e0542d"
      ],
      "include_colab_link": true
    }
  },
  "nbformat": 4,
  "nbformat_minor": 5
}