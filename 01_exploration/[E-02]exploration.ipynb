{
  "nbformat": 4,
  "nbformat_minor": 0,
  "metadata": {
    "colab": {
      "name": "[E-02]aiffel_exploration.ipynb",
      "provenance": [],
      "collapsed_sections": [
        "jFkKDgKB7Fzx",
        "Kjuj4vFk7Zym",
        "EgUUJzMfqxS3",
        "k4i6luHP2xHe",
        "5jE0r-yreAu0",
        "YqsuxwFUjOnO",
        "i5SzFxywnjrC",
        "j4YMIoqRuS5V",
        "bNnbyJqnvgwQ",
        "nAAKyHASwQek",
        "SZdYRiPhXCxv",
        "NUERi7_vXZt9",
        "nJp2d3VphtSp",
        "HNMzCwVxGWly",
        "CML7KkUaKWJq",
        "Weu1QIE4K9Se",
        "Sk39m7SvSCD5",
        "pZ72osGfSjs7",
        "YaT-MJ-qD5ye",
        "XVWANIF8FMdV",
        "wc0t4u8iflJz",
        "qWGwUYPUGg0B",
        "3OtpuYwfGmce",
        "nwDySfcaLtez",
        "int9WcyILzxT",
        "a9j-kvXOJMT2",
        "ar3xyL89J0oT",
        "Z3UJ1g4IXY-X",
        "GDNnc7WWHl78",
        "agOsFGXF9FeE",
        "t-YjEhcZ9GGw",
        "tz6bpWBn-1U-",
        "ONrfB7i26bwS",
        "eH8PhYXL7ANY",
        "O6oAlXIN7Om3",
        "UFGDpcFI7Wbl",
        "adpKoeT5M7wj",
        "es58U61rNa89",
        "o85gx_6bgl3l",
        "E5a45GH8Mb0t",
        "cU2u6oeC3IXM",
        "FhFkJvfJWNzJ",
        "jrn0uQoAjydl",
        "ZJ5lXEiGauMD",
        "aczqPOPS23IC",
        "t6krd3C1sy0b"
      ],
      "include_colab_link": true
    },
    "kernelspec": {
      "name": "python3",
      "display_name": "Python 3"
    },
    "language_info": {
      "name": "python"
    }
  },
  "cells": [
    {
      "cell_type": "markdown",
      "metadata": {
        "id": "view-in-github",
        "colab_type": "text"
      },
      "source": [
        "<a href=\"https://colab.research.google.com/github/9645258/aiffel/blob/main/01_exploration/%5BE-02%5Dexploration.ipynb\" target=\"_parent\"><img src=\"https://colab.research.google.com/assets/colab-badge.svg\" alt=\"Open In Colab\"/></a>"
      ]
    },
    {
      "cell_type": "markdown",
      "source": [
        "# 📕  **EXPLORATION 02-1 : 학습 내용**"
      ],
      "metadata": {
        "id": "jFkKDgKB7Fzx"
      }
    },
    {
      "cell_type": "markdown",
      "source": [
        "## 📑 **(1) 목차**"
      ],
      "metadata": {
        "id": "Kjuj4vFk7Zym"
      }
    },
    {
      "cell_type": "markdown",
      "source": [
        "- **이전 EXPLORATION에서도학습했던 내용**  \n",
        "    - 데이터 준비     \n",
        "    - 데이터 셋 정보 확인  \n",
        "    - 데이터 준비  \n",
        "    - DataFrame 자료형 변환  \n",
        "    - feature, label(target) 준비  \n",
        "    - training dataset / test dataset 분리 작업   "
      ],
      "metadata": {
        "id": "I2-L5LVyq5ZI"
      }
    },
    {
      "cell_type": "markdown",
      "source": [
        "- **이번 EXPLORATION에서 학습한 내용**  \n",
        "    - 데이터 시각화  \n",
        "    - 상관관계 / 상관계수  \n",
        "    - 모델 (최적화 / 학습 / 평가)   \n",
        "    - 손실함수 (비용함수)  \n",
        "    - 기울기 / 그라디언트 (경사하강법 / 미분)  \n",
        "    - 하이퍼 파라미터    \n",
        "    - 선형회귀  \n"
      ],
      "metadata": {
        "id": "R4kFasss2NVb"
      }
    },
    {
      "cell_type": "markdown",
      "source": [
        "## 📑 **(2) 학습 내용**"
      ],
      "metadata": {
        "id": "EgUUJzMfqxS3"
      }
    },
    {
      "cell_type": "markdown",
      "source": [
        "### 📌 **01_데이터 시각화**"
      ],
      "metadata": {
        "id": "k4i6luHP2xHe"
      }
    },
    {
      "cell_type": "markdown",
      "source": [
        "- **matplotlib**  \n",
        "시각화 제공 패키지  \n",
        "간단하고 가벼운 그래프에 최적화  \n",
        "\n",
        "- **seaborn**  \n",
        "시각화 제공 패키지  \n",
        "시각화 자체의 기능이 더 특화된 패키지 (다양한 형태 그래프 지원)  "
      ],
      "metadata": {
        "id": "-HOoUiFTSABX"
      }
    },
    {
      "cell_type": "markdown",
      "source": [
        "### 📌 **02_상관관계**"
      ],
      "metadata": {
        "id": "5jE0r-yreAu0"
      }
    },
    {
      "cell_type": "markdown",
      "source": [
        "- **변수 상호간의 관계 정도**  \n",
        "각 값의 증가 / 감소에 대한 관계만 표현 (패턴 표현과 다른 개념)  \n",
        "기울기에 상관 없이 데이터 분포가 직선에 가까울수록 강한 상관관계  \n",
        "상관계수가 양일 경우 양의 상관관계 / 음일 경우 음의 상관관계  \n",
        "상관관계 강할수록 상관계수의 값이 커지고 1 or -1에 근접  \n",
        "상관관계 적을수록 상관계수의 값 0에 근접  "
      ],
      "metadata": {
        "id": "3FrlwQTQeEtx"
      }
    },
    {
      "cell_type": "markdown",
      "source": [
        "### 📌 **03_모델**"
      ],
      "metadata": {
        "id": "YqsuxwFUjOnO"
      }
    },
    {
      "cell_type": "markdown",
      "source": [
        "- **모델(Model)**  \n",
        "특정 정보를 입력받아 원하는 값 예측 및 출력 함수     \n",
        "\n",
        "- **모델 평가 지표**  \n",
        "정답과 예측값 간의 차이를 통해 모델 평가\n",
        "\n",
        "    - **MAE (Mean Absolute Error)**  \n",
        "    오차 절대차 평균값 (추출 값, 예측 값 차이)  \n",
        "\n",
        "    - **MSE (Mean Squared Error)**  \n",
        "    오차 제곱의 평균 (추출 값, 예측 값 차이)  \n",
        "\n",
        "    - **RMSE (Root Mean Squared Error)**    \n",
        "    MSE의 제곱근에 의한 오차  \n",
        "    가장 대표적으로 사용  \n",
        "\n",
        "    - **R-squared (Coefficient of Determination)**  \n",
        "    추출 값, 정답 간 계수 표현 (결정계수)  \n",
        "    값이 높을수록 더 좋은 모델  "
      ],
      "metadata": {
        "id": "LbHQbhInjXya"
      }
    },
    {
      "cell_type": "markdown",
      "source": [
        "### 📌 **04_손실함수**"
      ],
      "metadata": {
        "id": "i5SzFxywnjrC"
      }
    },
    {
      "cell_type": "markdown",
      "source": [
        "- **일차함수**  \n",
        "w = 기울기 / b = y절편 (파라미터, 가중치, 매개변수)  \n",
        "기울기, y절편을 가진 함수      \n",
        "실제 데이터는 일차함수의 형태가 아닌 경우가 대다수이므로 최적의 값 필요 (손실함수 활용)  \n",
        "\n",
        "- **손실함수(Loss Function) / 비용함수(Cost Function)**  \n",
        "모델의 예측 값과 실제 정답 값 차이  \n",
        "차이를 단계적으로 감소해 최적의 값 얻음 "
      ],
      "metadata": {
        "id": "6P2f9vyLmwDx"
      }
    },
    {
      "cell_type": "markdown",
      "source": [
        "### 📌 **05_기울기 (그래디언트)**"
      ],
      "metadata": {
        "id": "j4YMIoqRuS5V"
      }
    },
    {
      "cell_type": "markdown",
      "source": [
        "- **경사하강법 (Descent Method)**  \n",
        "기울기를 사용해 점차적으로 매개 변수 업데이트   \n",
        "특정 점에서의 기울기는 함수값이 작아지는 방향 안내 가능  \n",
        "\n",
        "    - **기울기 음수**  \n",
        "        W 값 증가 필요 (오른쪽으로 갈수록 손실함수 값 작아짐)  \n",
        "        \n",
        "    - **기울기 양수**  \n",
        "        W 값 감소 필요 (왼쪽으로 갈수록 손실함수 값 작아짐)  \n",
        "\n",
        "\n",
        "- **수치미분**  \n",
        "수학적으로 정확하지는 않지만 근사한 미분 계수 값 계산"
      ],
      "metadata": {
        "id": "ZSx-FKeHuWEF"
      }
    },
    {
      "cell_type": "markdown",
      "source": [
        "### 📌 **06_하이퍼 파라미터**"
      ],
      "metadata": {
        "id": "bNnbyJqnvgwQ"
      }
    },
    {
      "cell_type": "markdown",
      "source": [
        "- 사람이 직접 사전에 결정하는 파라미터 (보통 0.0001 - 0.01 같은 작은 값 사용)  \n",
        "- 과적합 문제 발생 가능성이 있기 때문에 무한히 많이 하는 것도 좋은 방법은 아님  "
      ],
      "metadata": {
        "id": "b6MBqY0EvhMX"
      }
    },
    {
      "cell_type": "markdown",
      "source": [
        "### 📌 **07_선형회귀**"
      ],
      "metadata": {
        "id": "nAAKyHASwQek"
      }
    },
    {
      "cell_type": "markdown",
      "source": [
        "- 선형 방정식을 활용해 예측 모델 설계 및 학습 (선형 방정식을 통해 회귀 문제를 푼다는 의미)  \n",
        "- sklearn.linear_model (LinearRegression)"
      ],
      "metadata": {
        "id": "W5EQ4BU8wQHi"
      }
    },
    {
      "cell_type": "markdown",
      "source": [
        "<hr>"
      ],
      "metadata": {
        "id": "NqIScTdMVgD1"
      }
    },
    {
      "cell_type": "markdown",
      "source": [
        "# 📕  **EXPLORATION 02-2 :  당뇨병 수치 맞추기**"
      ],
      "metadata": {
        "id": "SZdYRiPhXCxv"
      }
    },
    {
      "cell_type": "markdown",
      "source": [
        "## 📑 **(1) 데이터 가져오기**"
      ],
      "metadata": {
        "id": "NUERi7_vXZt9"
      }
    },
    {
      "cell_type": "markdown",
      "source": [
        "### 📌 **01_모듈 import**"
      ],
      "metadata": {
        "id": "ozkUDrklYam-"
      }
    },
    {
      "cell_type": "markdown",
      "source": [
        "- **scikit-learn 라이브러리**  \n",
        "  데이터 로딩: datasets (load_diabetes) "
      ],
      "metadata": {
        "id": "XSSvkyEnXYg_"
      }
    },
    {
      "cell_type": "code",
      "source": [
        "from sklearn.datasets import load_diabetes"
      ],
      "metadata": {
        "id": "0teNoXMyXRZa"
      },
      "execution_count": null,
      "outputs": []
    },
    {
      "cell_type": "markdown",
      "source": [
        "### 📌 **02_데이터 준비**"
      ],
      "metadata": {
        "id": "ocub0ZJOXxIc"
      }
    },
    {
      "cell_type": "code",
      "source": [
        "diabetes = load_diabetes()\n",
        "print(dir(diabetes))"
      ],
      "metadata": {
        "colab": {
          "base_uri": "https://localhost:8080/"
        },
        "id": "KmTK_sbjYqcV",
        "outputId": "73027f91-deb5-45f5-e5a2-408c2dbb63b2"
      },
      "execution_count": null,
      "outputs": [
        {
          "output_type": "stream",
          "name": "stdout",
          "text": [
            "['DESCR', 'data', 'data_filename', 'data_module', 'feature_names', 'frame', 'target', 'target_filename']\n"
          ]
        }
      ]
    },
    {
      "cell_type": "markdown",
      "source": [
        "### 📌 **03_데이터 정보**"
      ],
      "metadata": {
        "id": "-S_gnx3ChpEW"
      }
    },
    {
      "cell_type": "code",
      "source": [
        "diabetes = load_diabetes()\n",
        "diabetes.keys()"
      ],
      "metadata": {
        "colab": {
          "base_uri": "https://localhost:8080/"
        },
        "id": "XlS96k2kYy4L",
        "outputId": "f5a85fad-e216-46a8-b5c0-79fdbc832e03"
      },
      "execution_count": null,
      "outputs": [
        {
          "output_type": "execute_result",
          "data": {
            "text/plain": [
              "dict_keys(['data', 'target', 'frame', 'DESCR', 'feature_names', 'data_filename', 'target_filename', 'data_module'])"
            ]
          },
          "metadata": {},
          "execution_count": 397
        }
      ]
    },
    {
      "cell_type": "markdown",
      "source": [
        "- **데이터 정보 (8개)**   \n",
        "    data, target, frame, DESCR, feature_names, data_filename, target_filename, data_module  \n",
        "    데이터: 442개 / 속성: 10개  \n",
        "    속성 정보: 10개의 속성을 가진 당뇨병 환자 데이터  "
      ],
      "metadata": {
        "id": "HdBpgP6AZFMe"
      }
    },
    {
      "cell_type": "code",
      "source": [
        "# 데이터 크기 확인\n",
        "diabetes_data = diabetes.data\n",
        "print(diabetes_data.shape)"
      ],
      "metadata": {
        "colab": {
          "base_uri": "https://localhost:8080/"
        },
        "id": "hYCGSAq6ZEJL",
        "outputId": "25c488ee-1646-4006-f564-b1df3c17c371"
      },
      "execution_count": null,
      "outputs": [
        {
          "output_type": "stream",
          "name": "stdout",
          "text": [
            "(442, 10)\n"
          ]
        }
      ]
    },
    {
      "cell_type": "code",
      "source": [
        "# 데이터 정보 확인\n",
        "diabetes.data"
      ],
      "metadata": {
        "colab": {
          "base_uri": "https://localhost:8080/"
        },
        "id": "XGmPMklEd1-b",
        "outputId": "66568997-b032-4e01-e14f-40a96f10c2d7"
      },
      "execution_count": null,
      "outputs": [
        {
          "output_type": "execute_result",
          "data": {
            "text/plain": [
              "array([[ 0.03807591,  0.05068012,  0.06169621, ..., -0.00259226,\n",
              "         0.01990842, -0.01764613],\n",
              "       [-0.00188202, -0.04464164, -0.05147406, ..., -0.03949338,\n",
              "        -0.06832974, -0.09220405],\n",
              "       [ 0.08529891,  0.05068012,  0.04445121, ..., -0.00259226,\n",
              "         0.00286377, -0.02593034],\n",
              "       ...,\n",
              "       [ 0.04170844,  0.05068012, -0.01590626, ..., -0.01107952,\n",
              "        -0.04687948,  0.01549073],\n",
              "       [-0.04547248, -0.04464164,  0.03906215, ...,  0.02655962,\n",
              "         0.04452837, -0.02593034],\n",
              "       [-0.04547248, -0.04464164, -0.0730303 , ..., -0.03949338,\n",
              "        -0.00421986,  0.00306441]])"
            ]
          },
          "metadata": {},
          "execution_count": 399
        }
      ]
    },
    {
      "cell_type": "code",
      "source": [
        "# 데이터 타겟 정보 확인\n",
        "diabetes_label = diabetes.target\n",
        "print(diabetes_label.shape)\n",
        "diabetes_label"
      ],
      "metadata": {
        "colab": {
          "base_uri": "https://localhost:8080/"
        },
        "id": "tAp8nW1PZ7Nh",
        "outputId": "4e498929-8150-47bf-abe9-efbcbb1f1e17"
      },
      "execution_count": null,
      "outputs": [
        {
          "output_type": "stream",
          "name": "stdout",
          "text": [
            "(442,)\n"
          ]
        },
        {
          "output_type": "execute_result",
          "data": {
            "text/plain": [
              "array([151.,  75., 141., 206., 135.,  97., 138.,  63., 110., 310., 101.,\n",
              "        69., 179., 185., 118., 171., 166., 144.,  97., 168.,  68.,  49.,\n",
              "        68., 245., 184., 202., 137.,  85., 131., 283., 129.,  59., 341.,\n",
              "        87.,  65., 102., 265., 276., 252.,  90., 100.,  55.,  61.,  92.,\n",
              "       259.,  53., 190., 142.,  75., 142., 155., 225.,  59., 104., 182.,\n",
              "       128.,  52.,  37., 170., 170.,  61., 144.,  52., 128.,  71., 163.,\n",
              "       150.,  97., 160., 178.,  48., 270., 202., 111.,  85.,  42., 170.,\n",
              "       200., 252., 113., 143.,  51.,  52., 210.,  65., 141.,  55., 134.,\n",
              "        42., 111.,  98., 164.,  48.,  96.,  90., 162., 150., 279.,  92.,\n",
              "        83., 128., 102., 302., 198.,  95.,  53., 134., 144., 232.,  81.,\n",
              "       104.,  59., 246., 297., 258., 229., 275., 281., 179., 200., 200.,\n",
              "       173., 180.,  84., 121., 161.,  99., 109., 115., 268., 274., 158.,\n",
              "       107.,  83., 103., 272.,  85., 280., 336., 281., 118., 317., 235.,\n",
              "        60., 174., 259., 178., 128.,  96., 126., 288.,  88., 292.,  71.,\n",
              "       197., 186.,  25.,  84.,  96., 195.,  53., 217., 172., 131., 214.,\n",
              "        59.,  70., 220., 268., 152.,  47.,  74., 295., 101., 151., 127.,\n",
              "       237., 225.,  81., 151., 107.,  64., 138., 185., 265., 101., 137.,\n",
              "       143., 141.,  79., 292., 178.,  91., 116.,  86., 122.,  72., 129.,\n",
              "       142.,  90., 158.,  39., 196., 222., 277.,  99., 196., 202., 155.,\n",
              "        77., 191.,  70.,  73.,  49.,  65., 263., 248., 296., 214., 185.,\n",
              "        78.,  93., 252., 150.,  77., 208.,  77., 108., 160.,  53., 220.,\n",
              "       154., 259.,  90., 246., 124.,  67.,  72., 257., 262., 275., 177.,\n",
              "        71.,  47., 187., 125.,  78.,  51., 258., 215., 303., 243.,  91.,\n",
              "       150., 310., 153., 346.,  63.,  89.,  50.,  39., 103., 308., 116.,\n",
              "       145.,  74.,  45., 115., 264.,  87., 202., 127., 182., 241.,  66.,\n",
              "        94., 283.,  64., 102., 200., 265.,  94., 230., 181., 156., 233.,\n",
              "        60., 219.,  80.,  68., 332., 248.,  84., 200.,  55.,  85.,  89.,\n",
              "        31., 129.,  83., 275.,  65., 198., 236., 253., 124.,  44., 172.,\n",
              "       114., 142., 109., 180., 144., 163., 147.,  97., 220., 190., 109.,\n",
              "       191., 122., 230., 242., 248., 249., 192., 131., 237.,  78., 135.,\n",
              "       244., 199., 270., 164.,  72.,  96., 306.,  91., 214.,  95., 216.,\n",
              "       263., 178., 113., 200., 139., 139.,  88., 148.,  88., 243.,  71.,\n",
              "        77., 109., 272.,  60.,  54., 221.,  90., 311., 281., 182., 321.,\n",
              "        58., 262., 206., 233., 242., 123., 167.,  63., 197.,  71., 168.,\n",
              "       140., 217., 121., 235., 245.,  40.,  52., 104., 132.,  88.,  69.,\n",
              "       219.,  72., 201., 110.,  51., 277.,  63., 118.,  69., 273., 258.,\n",
              "        43., 198., 242., 232., 175.,  93., 168., 275., 293., 281.,  72.,\n",
              "       140., 189., 181., 209., 136., 261., 113., 131., 174., 257.,  55.,\n",
              "        84.,  42., 146., 212., 233.,  91., 111., 152., 120.,  67., 310.,\n",
              "        94., 183.,  66., 173.,  72.,  49.,  64.,  48., 178., 104., 132.,\n",
              "       220.,  57.])"
            ]
          },
          "metadata": {},
          "execution_count": 400
        }
      ]
    },
    {
      "cell_type": "code",
      "source": [
        "# 데이터 각 feature에 대한 설명\n",
        "diabetes.feature_names"
      ],
      "metadata": {
        "colab": {
          "base_uri": "https://localhost:8080/"
        },
        "id": "QnnDLuf-Z_AQ",
        "outputId": "477092a0-5925-4961-a7b2-65c0ed33ccff"
      },
      "execution_count": null,
      "outputs": [
        {
          "output_type": "execute_result",
          "data": {
            "text/plain": [
              "['age', 'sex', 'bmi', 'bp', 's1', 's2', 's3', 's4', 's5', 's6']"
            ]
          },
          "metadata": {},
          "execution_count": 401
        }
      ]
    },
    {
      "cell_type": "code",
      "source": [
        "# 데이터 모듈 확인\n",
        "diabetes.data_module"
      ],
      "metadata": {
        "colab": {
          "base_uri": "https://localhost:8080/",
          "height": 35
        },
        "id": "PmEHJc_LaUkj",
        "outputId": "75004f0f-ec1b-4b5f-98eb-3d9a61e44828"
      },
      "execution_count": null,
      "outputs": [
        {
          "output_type": "execute_result",
          "data": {
            "text/plain": [
              "'sklearn.datasets.data'"
            ],
            "application/vnd.google.colaboratory.intrinsic+json": {
              "type": "string"
            }
          },
          "metadata": {},
          "execution_count": 402
        }
      ]
    },
    {
      "cell_type": "code",
      "source": [
        "# target 파일명 확인\n",
        "diabetes.target_filename"
      ],
      "metadata": {
        "colab": {
          "base_uri": "https://localhost:8080/",
          "height": 35
        },
        "id": "MUnURkocbFiC",
        "outputId": "9b203b70-485f-4d48-b972-52a96a2255ff"
      },
      "execution_count": null,
      "outputs": [
        {
          "output_type": "execute_result",
          "data": {
            "text/plain": [
              "'diabetes_target.csv.gz'"
            ],
            "application/vnd.google.colaboratory.intrinsic+json": {
              "type": "string"
            }
          },
          "metadata": {},
          "execution_count": 403
        }
      ]
    },
    {
      "cell_type": "code",
      "source": [
        "# 데이터 파일명 확인\n",
        "diabetes.data_filename"
      ],
      "metadata": {
        "colab": {
          "base_uri": "https://localhost:8080/",
          "height": 35
        },
        "id": "OpZmYXfmaxaj",
        "outputId": "eb337969-38f4-4545-95ac-18407e7ca231"
      },
      "execution_count": null,
      "outputs": [
        {
          "output_type": "execute_result",
          "data": {
            "text/plain": [
              "'diabetes_data.csv.gz'"
            ],
            "application/vnd.google.colaboratory.intrinsic+json": {
              "type": "string"
            }
          },
          "metadata": {},
          "execution_count": 404
        }
      ]
    },
    {
      "cell_type": "code",
      "source": [
        "# 데이터셋 설명 확인\n",
        "diabetes.DESCR"
      ],
      "metadata": {
        "colab": {
          "base_uri": "https://localhost:8080/",
          "height": 91
        },
        "id": "zGuR0sTuaqlY",
        "outputId": "c03b23a7-479e-4283-fdd1-58da603c7d97"
      },
      "execution_count": null,
      "outputs": [
        {
          "output_type": "execute_result",
          "data": {
            "text/plain": [
              "'.. _diabetes_dataset:\\n\\nDiabetes dataset\\n----------------\\n\\nTen baseline variables, age, sex, body mass index, average blood\\npressure, and six blood serum measurements were obtained for each of n =\\n442 diabetes patients, as well as the response of interest, a\\nquantitative measure of disease progression one year after baseline.\\n\\n**Data Set Characteristics:**\\n\\n  :Number of Instances: 442\\n\\n  :Number of Attributes: First 10 columns are numeric predictive values\\n\\n  :Target: Column 11 is a quantitative measure of disease progression one year after baseline\\n\\n  :Attribute Information:\\n      - age     age in years\\n      - sex\\n      - bmi     body mass index\\n      - bp      average blood pressure\\n      - s1      tc, total serum cholesterol\\n      - s2      ldl, low-density lipoproteins\\n      - s3      hdl, high-density lipoproteins\\n      - s4      tch, total cholesterol / HDL\\n      - s5      ltg, possibly log of serum triglycerides level\\n      - s6      glu, blood sugar level\\n\\nNote: Each of these 10 feature variables have been mean centered and scaled by the standard deviation times `n_samples` (i.e. the sum of squares of each column totals 1).\\n\\nSource URL:\\nhttps://www4.stat.ncsu.edu/~boos/var.select/diabetes.html\\n\\nFor more information see:\\nBradley Efron, Trevor Hastie, Iain Johnstone and Robert Tibshirani (2004) \"Least Angle Regression,\" Annals of Statistics (with discussion), 407-499.\\n(https://web.stanford.edu/~hastie/Papers/LARS/LeastAngle_2002.pdf)'"
            ],
            "application/vnd.google.colaboratory.intrinsic+json": {
              "type": "string"
            }
          },
          "metadata": {},
          "execution_count": 405
        }
      ]
    },
    {
      "cell_type": "markdown",
      "source": [
        "### 📌 **04_데이터 저장**"
      ],
      "metadata": {
        "id": "yAa424NnhyOr"
      }
    },
    {
      "cell_type": "code",
      "source": [
        "df_X = diabetes.data\n",
        "df_y = diabetes.target"
      ],
      "metadata": {
        "id": "X6G5sGZJghVz"
      },
      "execution_count": null,
      "outputs": []
    },
    {
      "cell_type": "markdown",
      "source": [
        "## 📑 **(2) 입력할 데이터 X 준비**"
      ],
      "metadata": {
        "id": "nJp2d3VphtSp"
      }
    },
    {
      "cell_type": "markdown",
      "source": [
        "- **numpy import**  \n",
        "- **numpy array로 변환**  "
      ],
      "metadata": {
        "id": "-pG9jn9WiAVd"
      }
    },
    {
      "cell_type": "code",
      "source": [
        "import numpy as np\n",
        "\n",
        "df_X = np.array(df_X)"
      ],
      "metadata": {
        "id": "1V3jHtgngfqa"
      },
      "execution_count": null,
      "outputs": []
    },
    {
      "cell_type": "markdown",
      "source": [
        "## 📑 **(3) 예측할 데이터 Y 준비**"
      ],
      "metadata": {
        "id": "HNMzCwVxGWly"
      }
    },
    {
      "cell_type": "code",
      "source": [
        "df_y = np.array(df_y)"
      ],
      "metadata": {
        "id": "xGUgbfHVmD5q"
      },
      "execution_count": null,
      "outputs": []
    },
    {
      "cell_type": "markdown",
      "source": [
        "## 📑 **(4) Train, Test 데이터 분리**"
      ],
      "metadata": {
        "id": "CML7KkUaKWJq"
      }
    },
    {
      "cell_type": "markdown",
      "source": [
        "- **scikit learn train_test_split import**  \n",
        "- **모델 학습 및 테스트용 문제지와 정답지 생성**     \n",
        "    data: feature (문제)   \n",
        "    label: label (정답)  \n",
        "    test_size: 전체에서 테스트 데이터로 사용할 비율  \n",
        "    random_state : 데이터를 분리하는데 적용되는 랜덤성"
      ],
      "metadata": {
        "id": "MXbPB9scKwZR"
      }
    },
    {
      "cell_type": "code",
      "source": [
        "from sklearn.model_selection import train_test_split\n",
        "X_train, X_test, y_train, y_test = train_test_split(df_X,df_y)"
      ],
      "metadata": {
        "id": "ik2rhuLlz1Ob"
      },
      "execution_count": null,
      "outputs": []
    },
    {
      "cell_type": "code",
      "source": [
        "print(X_train.shape, y_train.shape)\n",
        "print(X_test.shape, y_test.shape)"
      ],
      "metadata": {
        "colab": {
          "base_uri": "https://localhost:8080/"
        },
        "id": "3bu7RsMmJqaA",
        "outputId": "79073179-4660-433b-bf4f-f9dfa7fae992"
      },
      "execution_count": null,
      "outputs": [
        {
          "output_type": "stream",
          "name": "stdout",
          "text": [
            "(331, 10) (331,)\n",
            "(111, 10) (111,)\n"
          ]
        }
      ]
    },
    {
      "cell_type": "markdown",
      "source": [
        "## 📑 **(5) 모델 준비**"
      ],
      "metadata": {
        "id": "Weu1QIE4K9Se"
      }
    },
    {
      "cell_type": "markdown",
      "source": [
        "### 📌 **01_W, b 준비**"
      ],
      "metadata": {
        "id": "p3IJoLnxRZqJ"
      }
    },
    {
      "cell_type": "markdown",
      "source": [
        "- **길이가 10인 W, 1개의 숫자 b 준비**  \n",
        "W (가중치) / b (y절편)  "
      ],
      "metadata": {
        "id": "-5YxwE5yQKeR"
      }
    },
    {
      "cell_type": "code",
      "source": [
        "W = np.random.rand(10)\n",
        "b = np.random.rand()\n",
        "\n",
        "print('W:', W, '\\n')\n",
        "print('b:', b)"
      ],
      "metadata": {
        "id": "D4AELoOeNfWp",
        "colab": {
          "base_uri": "https://localhost:8080/"
        },
        "outputId": "2099e937-d54d-42d6-beee-4a303d454fd3"
      },
      "execution_count": null,
      "outputs": [
        {
          "output_type": "stream",
          "name": "stdout",
          "text": [
            "W: [0.18917516 0.29921313 0.26961902 0.70876848 0.59859476 0.51487959\n",
            " 0.98817214 0.59233441 0.79774702 0.28624816] \n",
            "\n",
            "b: 0.10917337625143342\n"
          ]
        }
      ]
    },
    {
      "cell_type": "markdown",
      "source": [
        "### 📌 **02_모델 준비**"
      ],
      "metadata": {
        "id": "wj31bbF9Rfrr"
      }
    },
    {
      "cell_type": "code",
      "source": [
        "def model(X, W, b):\n",
        "    predictions = 0\n",
        "    for i in range(10):\n",
        "        predictions += X[:, i] * W[i]\n",
        "    predictions += b\n",
        "    return predictions"
      ],
      "metadata": {
        "id": "NiTl0_gbRkTS"
      },
      "execution_count": null,
      "outputs": []
    },
    {
      "cell_type": "markdown",
      "source": [
        "## 📑 **(6) 손실함수 loss 정의**"
      ],
      "metadata": {
        "id": "Sk39m7SvSCD5"
      }
    },
    {
      "cell_type": "markdown",
      "source": [
        "- **MSE 함수로 손실함수 정의**"
      ],
      "metadata": {
        "id": "KBhLBdr0SQwi"
      }
    },
    {
      "cell_type": "code",
      "source": [
        "def MSE(a, b):\n",
        "    # 두 값 차이 제곱의 평균\n",
        "    mse = ((a - b) ** 2).mean()\n",
        "    return mse"
      ],
      "metadata": {
        "id": "afzhcBQ1SCUr"
      },
      "execution_count": null,
      "outputs": []
    },
    {
      "cell_type": "code",
      "source": [
        "def loss(X, W, b, y):\n",
        "    predictions = model(X, W, b)\n",
        "    L = MSE(predictions, y)\n",
        "    return L"
      ],
      "metadata": {
        "id": "AVxfohzKSZLo"
      },
      "execution_count": null,
      "outputs": []
    },
    {
      "cell_type": "markdown",
      "source": [
        "## 📑 **(7) gradient 함수 구현**"
      ],
      "metadata": {
        "id": "pZ72osGfSjs7"
      }
    },
    {
      "cell_type": "markdown",
      "source": [
        "- **N: 데이터 개수(배치사이즈 개수)**"
      ],
      "metadata": {
        "id": "7gbDLGib1TzH"
      }
    },
    {
      "cell_type": "code",
      "source": [
        "def gradient(X, W, b, y):\n",
        "    N = len(W)\n",
        "    \n",
        "    y_pred = model(X, W, b)\n",
        "\n",
        "    dW = 1/N * 2 * X.T.dot(y_pred - y)   \n",
        "    db = 2 * (y_pred - y).mean()\n",
        "    return dW, db"
      ],
      "metadata": {
        "id": "heYXJ-uHSkO4"
      },
      "execution_count": null,
      "outputs": []
    },
    {
      "cell_type": "code",
      "source": [
        "dW, db = gradient(X_train, W, b, y_train)\n",
        "print(\"dW:\", dW)\n",
        "print(\"db:\", db)"
      ],
      "metadata": {
        "colab": {
          "base_uri": "https://localhost:8080/"
        },
        "id": "V1eQ7C3UStrB",
        "outputId": "708dee02-d297-4975-fd7a-4b9e4775f416"
      },
      "execution_count": null,
      "outputs": [
        {
          "output_type": "stream",
          "name": "stdout",
          "text": [
            "dW: [ -27.62313548   -3.16274641 -136.15679298  -72.54498382  -53.11778189\n",
            "  -46.84909326   81.80830212  -89.30199474 -117.18354358  -61.04983863]\n",
            "db: -299.3248556613463\n"
          ]
        }
      ]
    },
    {
      "cell_type": "markdown",
      "source": [
        "## 📑 **(8) 학습률 설정**"
      ],
      "metadata": {
        "id": "DsA5SYuTUSvd"
      }
    },
    {
      "cell_type": "code",
      "source": [
        "LEARNING_RATE = 0.9645258"
      ],
      "metadata": {
        "id": "YPc5RPKZUdXh"
      },
      "execution_count": null,
      "outputs": []
    },
    {
      "cell_type": "markdown",
      "source": [
        "## 📑 **(9) 모델 학습**"
      ],
      "metadata": {
        "id": "YaT-MJ-qD5ye"
      }
    },
    {
      "cell_type": "markdown",
      "source": [
        "- **gradient / W, b 업데이트 / 손실함수 기록**"
      ],
      "metadata": {
        "id": "pBEDVW3AEvcL"
      }
    },
    {
      "cell_type": "code",
      "source": [
        "losses = []\n",
        "\n",
        "for i in range(1,1001):\n",
        "    dW, db = gradient(X_train, W, b, y_train)\n",
        "    W -= LEARNING_RATE * dW\n",
        "    b -= LEARNING_RATE * db\n",
        "    L = loss(X_train, W, b, y_train)\n",
        "    losses.append(L)\n",
        "    if i % 10 == 0:\n",
        "        print('Iteration %d : Loss %0.6f' % (i, L))"
      ],
      "metadata": {
        "colab": {
          "base_uri": "https://localhost:8080/"
        },
        "id": "pV3437YVb9b7",
        "outputId": "3bd0bce9-0548-4844-8365-79b8300773cb"
      },
      "execution_count": null,
      "outputs": [
        {
          "output_type": "stream",
          "name": "stdout",
          "text": [
            "Iteration 10 : Loss 2952.165901\n",
            "Iteration 20 : Loss 2952.111902\n",
            "Iteration 30 : Loss 2952.059281\n",
            "Iteration 40 : Loss 2952.008004\n",
            "Iteration 50 : Loss 2951.958034\n",
            "Iteration 60 : Loss 2951.909340\n",
            "Iteration 70 : Loss 2951.861889\n",
            "Iteration 80 : Loss 2951.815648\n",
            "Iteration 90 : Loss 2951.770588\n",
            "Iteration 100 : Loss 2951.726677\n",
            "Iteration 110 : Loss 2951.683887\n",
            "Iteration 120 : Loss 2951.642188\n",
            "Iteration 130 : Loss 2951.601554\n",
            "Iteration 140 : Loss 2951.561957\n",
            "Iteration 150 : Loss 2951.523370\n",
            "Iteration 160 : Loss 2951.485768\n",
            "Iteration 170 : Loss 2951.449126\n",
            "Iteration 180 : Loss 2951.413418\n",
            "Iteration 190 : Loss 2951.378622\n",
            "Iteration 200 : Loss 2951.344713\n",
            "Iteration 210 : Loss 2951.311670\n",
            "Iteration 220 : Loss 2951.279470\n",
            "Iteration 230 : Loss 2951.248092\n",
            "Iteration 240 : Loss 2951.217515\n",
            "Iteration 250 : Loss 2951.187718\n",
            "Iteration 260 : Loss 2951.158681\n",
            "Iteration 270 : Loss 2951.130385\n",
            "Iteration 280 : Loss 2951.102811\n",
            "Iteration 290 : Loss 2951.075941\n",
            "Iteration 300 : Loss 2951.049757\n",
            "Iteration 310 : Loss 2951.024241\n",
            "Iteration 320 : Loss 2950.999376\n",
            "Iteration 330 : Loss 2950.975145\n",
            "Iteration 340 : Loss 2950.951533\n",
            "Iteration 350 : Loss 2950.928523\n",
            "Iteration 360 : Loss 2950.906101\n",
            "Iteration 370 : Loss 2950.884250\n",
            "Iteration 380 : Loss 2950.862958\n",
            "Iteration 390 : Loss 2950.842208\n",
            "Iteration 400 : Loss 2950.821988\n",
            "Iteration 410 : Loss 2950.802284\n",
            "Iteration 420 : Loss 2950.783083\n",
            "Iteration 430 : Loss 2950.764372\n",
            "Iteration 440 : Loss 2950.746138\n",
            "Iteration 450 : Loss 2950.728370\n",
            "Iteration 460 : Loss 2950.711055\n",
            "Iteration 470 : Loss 2950.694182\n",
            "Iteration 480 : Loss 2950.677740\n",
            "Iteration 490 : Loss 2950.661717\n",
            "Iteration 500 : Loss 2950.646103\n",
            "Iteration 510 : Loss 2950.630887\n",
            "Iteration 520 : Loss 2950.616060\n",
            "Iteration 530 : Loss 2950.601611\n",
            "Iteration 540 : Loss 2950.587531\n",
            "Iteration 550 : Loss 2950.573810\n",
            "Iteration 560 : Loss 2950.560439\n",
            "Iteration 570 : Loss 2950.547409\n",
            "Iteration 580 : Loss 2950.534712\n",
            "Iteration 590 : Loss 2950.522339\n",
            "Iteration 600 : Loss 2950.510282\n",
            "Iteration 610 : Loss 2950.498532\n",
            "Iteration 620 : Loss 2950.487083\n",
            "Iteration 630 : Loss 2950.475925\n",
            "Iteration 640 : Loss 2950.465052\n",
            "Iteration 650 : Loss 2950.454457\n",
            "Iteration 660 : Loss 2950.444132\n",
            "Iteration 670 : Loss 2950.434070\n",
            "Iteration 680 : Loss 2950.424265\n",
            "Iteration 690 : Loss 2950.414711\n",
            "Iteration 700 : Loss 2950.405400\n",
            "Iteration 710 : Loss 2950.396327\n",
            "Iteration 720 : Loss 2950.387485\n",
            "Iteration 730 : Loss 2950.378869\n",
            "Iteration 740 : Loss 2950.370473\n",
            "Iteration 750 : Loss 2950.362291\n",
            "Iteration 760 : Loss 2950.354318\n",
            "Iteration 770 : Loss 2950.346548\n",
            "Iteration 780 : Loss 2950.338977\n",
            "Iteration 790 : Loss 2950.331598\n",
            "Iteration 800 : Loss 2950.324409\n",
            "Iteration 810 : Loss 2950.317402\n",
            "Iteration 820 : Loss 2950.310574\n",
            "Iteration 830 : Loss 2950.303921\n",
            "Iteration 840 : Loss 2950.297437\n",
            "Iteration 850 : Loss 2950.291119\n",
            "Iteration 860 : Loss 2950.284962\n",
            "Iteration 870 : Loss 2950.278963\n",
            "Iteration 880 : Loss 2950.273116\n",
            "Iteration 890 : Loss 2950.267418\n",
            "Iteration 900 : Loss 2950.261866\n",
            "Iteration 910 : Loss 2950.256456\n",
            "Iteration 920 : Loss 2950.251183\n",
            "Iteration 930 : Loss 2950.246046\n",
            "Iteration 940 : Loss 2950.241039\n",
            "Iteration 950 : Loss 2950.236160\n",
            "Iteration 960 : Loss 2950.231405\n",
            "Iteration 970 : Loss 2950.226772\n",
            "Iteration 980 : Loss 2950.222257\n",
            "Iteration 990 : Loss 2950.217858\n",
            "Iteration 1000 : Loss 2950.213570\n"
          ]
        }
      ]
    },
    {
      "cell_type": "markdown",
      "source": [
        "- **시각화**"
      ],
      "metadata": {
        "id": "mL0MozbEfB4Y"
      }
    },
    {
      "cell_type": "code",
      "source": [
        "import matplotlib.pyplot as plt\n",
        "\n",
        "plt.plot(losses)\n",
        "plt.show()"
      ],
      "metadata": {
        "colab": {
          "base_uri": "https://localhost:8080/",
          "height": 264
        },
        "id": "Jr_MtSIIUxPR",
        "outputId": "5083a3a5-c707-4eb7-8309-b5335460a2de"
      },
      "execution_count": null,
      "outputs": [
        {
          "output_type": "display_data",
          "data": {
            "text/plain": [
              "<Figure size 432x288 with 1 Axes>"
            ],
            "image/png": "[encoded data removed]"
          },
          "metadata": {
            "needs_background": "light"
          }
        }
      ]
    },
    {
      "cell_type": "code",
      "source": [
        "W, b"
      ],
      "metadata": {
        "colab": {
          "base_uri": "https://localhost:8080/"
        },
        "id": "P1xLIs-uAge8",
        "outputId": "04cc76a8-2681-4a06-e53e-dc7ff9f799c5"
      },
      "execution_count": null,
      "outputs": [
        {
          "output_type": "execute_result",
          "data": {
            "text/plain": [
              "(array([ -33.80565105, -206.42140223,  527.43231856,  283.08799841,\n",
              "        -800.11707486,  517.92588987,   88.22656818,  139.29618729,\n",
              "         778.073808  ,   21.66765452]), 150.94204459665644)"
            ]
          },
          "metadata": {},
          "execution_count": 455
        }
      ]
    },
    {
      "cell_type": "markdown",
      "source": [
        "## 📑 **(10) test 데이터 성능 확인**"
      ],
      "metadata": {
        "id": "XVWANIF8FMdV"
      }
    },
    {
      "cell_type": "code",
      "source": [
        "prediction = model(X_test, W, b)\n",
        "mse = loss(X_test, W, b, y_test)\n",
        "mse"
      ],
      "metadata": {
        "colab": {
          "base_uri": "https://localhost:8080/"
        },
        "id": "G-Yz7Or6-88x",
        "outputId": "6f242e8f-d597-41f0-c647-b63fa5a65813"
      },
      "execution_count": null,
      "outputs": [
        {
          "output_type": "execute_result",
          "data": {
            "text/plain": [
              "2641.8256158091167"
            ]
          },
          "metadata": {},
          "execution_count": 451
        }
      ]
    },
    {
      "cell_type": "markdown",
      "source": [
        "## 📑 **(11) 정답 데이터, 예측 데이터 시각화**\n"
      ],
      "metadata": {
        "id": "TdlOY0DVF1KK"
      }
    },
    {
      "cell_type": "markdown",
      "source": [
        "### 📌 **01_모듈 import**"
      ],
      "metadata": {
        "id": "kaPoLdlKnk3u"
      }
    },
    {
      "cell_type": "code",
      "source": [
        "import matplotlib.pyplot as plt\n",
        "import seaborn as sns\n",
        "\n",
        "%matplotlib inline"
      ],
      "metadata": {
        "id": "kr-fKC-hnlDP"
      },
      "execution_count": null,
      "outputs": []
    },
    {
      "cell_type": "markdown",
      "source": [
        "### 📌 **02_시각화**"
      ],
      "metadata": {
        "id": "KgFGvBlXnnF9"
      }
    },
    {
      "cell_type": "code",
      "source": [
        "plt.scatter(X_test[:, 0], y_test, label='true')\n",
        "plt.scatter(X_test[:, 0], prediction, label='pred')\n",
        "plt.legend()\n",
        "plt.show()"
      ],
      "metadata": {
        "colab": {
          "base_uri": "https://localhost:8080/",
          "height": 264
        },
        "id": "e4pdxEMGgJeN",
        "outputId": "73e0e134-0b66-4218-a39d-df7611746c69"
      },
      "execution_count": null,
      "outputs": [
        {
          "output_type": "display_data",
          "data": {
            "text/plain": [
              "<Figure size 432x288 with 1 Axes>"
            ],
            "image/png": "[encoded data removed]"
          },
          "metadata": {
            "needs_background": "light"
          }
        }
      ]
    },
    {
      "cell_type": "markdown",
      "source": [
        "## 📑 **(12) 결론**"
      ],
      "metadata": {
        "id": "wc0t4u8iflJz"
      }
    },
    {
      "cell_type": "markdown",
      "source": [
        "그래프를 보면 데이터의 분포가 일정하지 않아 정답 데이터와 예측 데이터가 상관 관계가 크지 않음을 알 수 있다. "
      ],
      "metadata": {
        "id": "k4ITRXi2fqvA"
      }
    },
    {
      "cell_type": "markdown",
      "source": [
        "<hr>"
      ],
      "metadata": {
        "id": "eNBvniceFoho"
      }
    },
    {
      "cell_type": "markdown",
      "source": [
        "# 📕 **EXPLORATION 02-3 :  자전거 수요 예측 (날씨, 시간)**"
      ],
      "metadata": {
        "id": "qWGwUYPUGg0B"
      }
    },
    {
      "cell_type": "markdown",
      "source": [
        "## 📑 **(1) 데이터 가져오기**"
      ],
      "metadata": {
        "id": "3OtpuYwfGmce"
      }
    },
    {
      "cell_type": "markdown",
      "source": [
        "### 📌 **01_모듈 import**"
      ],
      "metadata": {
        "id": "nwDySfcaLtez"
      }
    },
    {
      "cell_type": "markdown",
      "source": [
        "- **pandas를 활용한 csv 파일 불러오기**"
      ],
      "metadata": {
        "id": "qSzrvoCF1ipq"
      }
    },
    {
      "cell_type": "code",
      "source": [
        "import pandas as pd\n",
        "\n",
        "train = pd.read_csv('https://raw.githubusercontent.com/9645258/aiffel/exploration/E-02/train.csv')\n",
        "train.head()"
      ],
      "metadata": {
        "id": "WNvn-uMCHPIQ",
        "outputId": "7fe25932-ad0f-4dbd-d857-826b72cf31c9",
        "colab": {
          "base_uri": "https://localhost:8080/",
          "height": 206
        }
      },
      "execution_count": null,
      "outputs": [
        {
          "output_type": "execute_result",
          "data": {
            "text/plain": [
              "              datetime  season  holiday  workingday  weather  temp   atemp  \\\n",
              "0  2011-01-01 00:00:00       1        0           0        1  9.84  14.395   \n",
              "1  2011-01-01 01:00:00       1        0           0        1  9.02  13.635   \n",
              "2  2011-01-01 02:00:00       1        0           0        1  9.02  13.635   \n",
              "3  2011-01-01 03:00:00       1        0           0        1  9.84  14.395   \n",
              "4  2011-01-01 04:00:00       1        0           0        1  9.84  14.395   \n",
              "\n",
              "   humidity  windspeed  casual  registered  count  \n",
              "0        81        0.0       3          13     16  \n",
              "1        80        0.0       8          32     40  \n",
              "2        80        0.0       5          27     32  \n",
              "3        75        0.0       3          10     13  \n",
              "4        75        0.0       0           1      1  "
            ],
            "text/html": [
              "\n",
              "  <div id=\"df-2c3b5bfb-3b05-4bca-b815-c9880b253297\">\n",
              "    <div class=\"colab-df-container\">\n",
              "      <div>\n",
              "<style scoped>\n",
              "    .dataframe tbody tr th:only-of-type {\n",
              "        vertical-align: middle;\n",
              "    }\n",
              "\n",
              "    .dataframe tbody tr th {\n",
              "        vertical-align: top;\n",
              "    }\n",
              "\n",
              "    .dataframe thead th {\n",
              "        text-align: right;\n",
              "    }\n",
              "</style>\n",
              "<table border=\"1\" class=\"dataframe\">\n",
              "  <thead>\n",
              "    <tr style=\"text-align: right;\">\n",
              "      <th></th>\n",
              "      <th>datetime</th>\n",
              "      <th>season</th>\n",
              "      <th>holiday</th>\n",
              "      <th>workingday</th>\n",
              "      <th>weather</th>\n",
              "      <th>temp</th>\n",
              "      <th>atemp</th>\n",
              "      <th>humidity</th>\n",
              "      <th>windspeed</th>\n",
              "      <th>casual</th>\n",
              "      <th>registered</th>\n",
              "      <th>count</th>\n",
              "    </tr>\n",
              "  </thead>\n",
              "  <tbody>\n",
              "    <tr>\n",
              "      <th>0</th>\n",
              "      <td>2011-01-01 00:00:00</td>\n",
              "      <td>1</td>\n",
              "      <td>0</td>\n",
              "      <td>0</td>\n",
              "      <td>1</td>\n",
              "      <td>9.84</td>\n",
              "      <td>14.395</td>\n",
              "      <td>81</td>\n",
              "      <td>0.0</td>\n",
              "      <td>3</td>\n",
              "      <td>13</td>\n",
              "      <td>16</td>\n",
              "    </tr>\n",
              "    <tr>\n",
              "      <th>1</th>\n",
              "      <td>2011-01-01 01:00:00</td>\n",
              "      <td>1</td>\n",
              "      <td>0</td>\n",
              "      <td>0</td>\n",
              "      <td>1</td>\n",
              "      <td>9.02</td>\n",
              "      <td>13.635</td>\n",
              "      <td>80</td>\n",
              "      <td>0.0</td>\n",
              "      <td>8</td>\n",
              "      <td>32</td>\n",
              "      <td>40</td>\n",
              "    </tr>\n",
              "    <tr>\n",
              "      <th>2</th>\n",
              "      <td>2011-01-01 02:00:00</td>\n",
              "      <td>1</td>\n",
              "      <td>0</td>\n",
              "      <td>0</td>\n",
              "      <td>1</td>\n",
              "      <td>9.02</td>\n",
              "      <td>13.635</td>\n",
              "      <td>80</td>\n",
              "      <td>0.0</td>\n",
              "      <td>5</td>\n",
              "      <td>27</td>\n",
              "      <td>32</td>\n",
              "    </tr>\n",
              "    <tr>\n",
              "      <th>3</th>\n",
              "      <td>2011-01-01 03:00:00</td>\n",
              "      <td>1</td>\n",
              "      <td>0</td>\n",
              "      <td>0</td>\n",
              "      <td>1</td>\n",
              "      <td>9.84</td>\n",
              "      <td>14.395</td>\n",
              "      <td>75</td>\n",
              "      <td>0.0</td>\n",
              "      <td>3</td>\n",
              "      <td>10</td>\n",
              "      <td>13</td>\n",
              "    </tr>\n",
              "    <tr>\n",
              "      <th>4</th>\n",
              "      <td>2011-01-01 04:00:00</td>\n",
              "      <td>1</td>\n",
              "      <td>0</td>\n",
              "      <td>0</td>\n",
              "      <td>1</td>\n",
              "      <td>9.84</td>\n",
              "      <td>14.395</td>\n",
              "      <td>75</td>\n",
              "      <td>0.0</td>\n",
              "      <td>0</td>\n",
              "      <td>1</td>\n",
              "      <td>1</td>\n",
              "    </tr>\n",
              "  </tbody>\n",
              "</table>\n",
              "</div>\n",
              "      <button class=\"colab-df-convert\" onclick=\"convertToInteractive('df-2c3b5bfb-3b05-4bca-b815-c9880b253297')\"\n",
              "              title=\"Convert this dataframe to an interactive table.\"\n",
              "              style=\"display:none;\">\n",
              "        \n",
              "  <svg xmlns=\"http://www.w3.org/2000/svg\" height=\"24px\"viewBox=\"0 0 24 24\"\n",
              "       width=\"24px\">\n",
              "    <path d=\"M0 0h24v24H0V0z\" fill=\"none\"/>\n",
              "    <path d=\"M18.56 5.44l.94 2.06.94-2.06 2.06-.94-2.06-.94-.94-2.06-.94 2.06-2.06.94zm-11 1L8.5 8.5l.94-2.06 2.06-.94-2.06-.94L8.5 2.5l-.94 2.06-2.06.94zm10 10l.94 2.06.94-2.06 2.06-.94-2.06-.94-.94-2.06-.94 2.06-2.06.94z\"/><path d=\"M17.41 7.96l-1.37-1.37c-.4-.4-.92-.59-1.43-.59-.52 0-1.04.2-1.43.59L10.3 9.45l-7.72 7.72c-.78.78-.78 2.05 0 2.83L4 21.41c.39.39.9.59 1.41.59.51 0 1.02-.2 1.41-.59l7.78-7.78 2.81-2.81c.8-.78.8-2.07 0-2.86zM5.41 20L4 18.59l7.72-7.72 1.47 1.35L5.41 20z\"/>\n",
              "  </svg>\n",
              "      </button>\n",
              "      \n",
              "  <style>\n",
              "    .colab-df-container {\n",
              "      display:flex;\n",
              "      flex-wrap:wrap;\n",
              "      gap: 12px;\n",
              "    }\n",
              "\n",
              "    .colab-df-convert {\n",
              "      background-color: #E8F0FE;\n",
              "      border: none;\n",
              "      border-radius: 50%;\n",
              "      cursor: pointer;\n",
              "      display: none;\n",
              "      fill: #1967D2;\n",
              "      height: 32px;\n",
              "      padding: 0 0 0 0;\n",
              "      width: 32px;\n",
              "    }\n",
              "\n",
              "    .colab-df-convert:hover {\n",
              "      background-color: #E2EBFA;\n",
              "      box-shadow: 0px 1px 2px rgba(60, 64, 67, 0.3), 0px 1px 3px 1px rgba(60, 64, 67, 0.15);\n",
              "      fill: #174EA6;\n",
              "    }\n",
              "\n",
              "    [theme=dark] .colab-df-convert {\n",
              "      background-color: #3B4455;\n",
              "      fill: #D2E3FC;\n",
              "    }\n",
              "\n",
              "    [theme=dark] .colab-df-convert:hover {\n",
              "      background-color: #434B5C;\n",
              "      box-shadow: 0px 1px 3px 1px rgba(0, 0, 0, 0.15);\n",
              "      filter: drop-shadow(0px 1px 2px rgba(0, 0, 0, 0.3));\n",
              "      fill: #FFFFFF;\n",
              "    }\n",
              "  </style>\n",
              "\n",
              "      <script>\n",
              "        const buttonEl =\n",
              "          document.querySelector('#df-2c3b5bfb-3b05-4bca-b815-c9880b253297 button.colab-df-convert');\n",
              "        buttonEl.style.display =\n",
              "          google.colab.kernel.accessAllowed ? 'block' : 'none';\n",
              "\n",
              "        async function convertToInteractive(key) {\n",
              "          const element = document.querySelector('#df-2c3b5bfb-3b05-4bca-b815-c9880b253297');\n",
              "          const dataTable =\n",
              "            await google.colab.kernel.invokeFunction('convertToInteractive',\n",
              "                                                     [key], {});\n",
              "          if (!dataTable) return;\n",
              "\n",
              "          const docLinkHtml = 'Like what you see? Visit the ' +\n",
              "            '<a target=\"_blank\" href=https://colab.research.google.com/notebooks/data_table.ipynb>data table notebook</a>'\n",
              "            + ' to learn more about interactive tables.';\n",
              "          element.innerHTML = '';\n",
              "          dataTable['output_type'] = 'display_data';\n",
              "          await google.colab.output.renderOutput(dataTable, element);\n",
              "          const docLink = document.createElement('div');\n",
              "          docLink.innerHTML = docLinkHtml;\n",
              "          element.appendChild(docLink);\n",
              "        }\n",
              "      </script>\n",
              "    </div>\n",
              "  </div>\n",
              "  "
            ]
          },
          "metadata": {},
          "execution_count": 461
        }
      ]
    },
    {
      "cell_type": "markdown",
      "source": [
        "### 📌 **02_데이터 정보**"
      ],
      "metadata": {
        "id": "int9WcyILzxT"
      }
    },
    {
      "cell_type": "markdown",
      "source": [
        "- **데이터 정보**  \n",
        "데이터: 10886개, 속성: 12개"
      ],
      "metadata": {
        "id": "cpxzIoygMOIl"
      }
    },
    {
      "cell_type": "code",
      "source": [
        "# 데이터 속성\n",
        "train.keys()"
      ],
      "metadata": {
        "colab": {
          "base_uri": "https://localhost:8080/"
        },
        "id": "iasaFSL6L8O2",
        "outputId": "55167862-fc81-43d6-cd1a-a953c20b0e33"
      },
      "execution_count": null,
      "outputs": [
        {
          "output_type": "execute_result",
          "data": {
            "text/plain": [
              "Index(['datetime', 'season', 'holiday', 'workingday', 'weather', 'temp',\n",
              "       'atemp', 'humidity', 'windspeed', 'casual', 'registered', 'count'],\n",
              "      dtype='object')"
            ]
          },
          "metadata": {},
          "execution_count": 462
        }
      ]
    },
    {
      "cell_type": "code",
      "source": [
        "# 데이터 크기 확인\n",
        "print(train.shape)"
      ],
      "metadata": {
        "colab": {
          "base_uri": "https://localhost:8080/"
        },
        "id": "ZRSxr4yOMNmq",
        "outputId": "96ff0953-5d7a-4281-ce4b-abeab84fb3b1"
      },
      "execution_count": null,
      "outputs": [
        {
          "output_type": "stream",
          "name": "stdout",
          "text": [
            "(10886, 12)\n"
          ]
        }
      ]
    },
    {
      "cell_type": "markdown",
      "source": [
        "## 📑 **(2) datetime 컬럼 datetime 자료형으로 변환 및 6가지 컬럼 생성**"
      ],
      "metadata": {
        "id": "a9j-kvXOJMT2"
      }
    },
    {
      "cell_type": "markdown",
      "source": [
        "### 📌 **01_datetime 자료형으로 변환**"
      ],
      "metadata": {
        "id": "ar3xyL89J0oT"
      }
    },
    {
      "cell_type": "code",
      "source": [
        "pd.to_datetime(train['datetime'])"
      ],
      "metadata": {
        "colab": {
          "base_uri": "https://localhost:8080/"
        },
        "id": "Spv9vUcAXBHK",
        "outputId": "b709f918-c2b1-4b92-8bb4-37c474121b04"
      },
      "execution_count": null,
      "outputs": [
        {
          "output_type": "execute_result",
          "data": {
            "text/plain": [
              "0       2011-01-01 00:00:00\n",
              "1       2011-01-01 01:00:00\n",
              "2       2011-01-01 02:00:00\n",
              "3       2011-01-01 03:00:00\n",
              "4       2011-01-01 04:00:00\n",
              "                ...        \n",
              "10881   2012-12-19 19:00:00\n",
              "10882   2012-12-19 20:00:00\n",
              "10883   2012-12-19 21:00:00\n",
              "10884   2012-12-19 22:00:00\n",
              "10885   2012-12-19 23:00:00\n",
              "Name: datetime, Length: 10886, dtype: datetime64[ns]"
            ]
          },
          "metadata": {},
          "execution_count": 464
        }
      ]
    },
    {
      "cell_type": "markdown",
      "source": [
        "### 📌 **02_새로운 열 생성**"
      ],
      "metadata": {
        "id": "bkkxLgB_cJuA"
      }
    },
    {
      "cell_type": "code",
      "source": [
        "train['datetime'] = pd.to_datetime(train['datetime'])"
      ],
      "metadata": {
        "id": "taffZvtfbcy8"
      },
      "execution_count": null,
      "outputs": []
    },
    {
      "cell_type": "markdown",
      "source": [
        "### 📌 **03_6가지 열로 추출 (연, 월, 일, 시, 분, 초)**"
      ],
      "metadata": {
        "id": "Z3UJ1g4IXY-X"
      }
    },
    {
      "cell_type": "markdown",
      "source": [
        "- **열 추출 시 영문으로 작성**  \n",
        "한글 작성 시 아래 시각화 부분에서 한글 깨짐 현상 발생  "
      ],
      "metadata": {
        "id": "HfGhSJFa-GUV"
      }
    },
    {
      "cell_type": "code",
      "source": [
        "train['year'] = train['datetime'].dt.year\n",
        "train['month'] = train['datetime'].dt.month\n",
        "train['day'] = train['datetime'].dt.day\n",
        "train['hour'] = train['datetime'].dt.hour\n",
        "train['minute'] = train['datetime'].dt.minute\n",
        "train['second'] = train['datetime'].dt.second\n",
        "train"
      ],
      "metadata": {
        "colab": {
          "base_uri": "https://localhost:8080/",
          "height": 423
        },
        "id": "kxBsI80YXdew",
        "outputId": "f95a94fb-67bd-4b7b-bd5d-b3f3a94eb103"
      },
      "execution_count": null,
      "outputs": [
        {
          "output_type": "execute_result",
          "data": {
            "text/plain": [
              "                 datetime  season  holiday  workingday  weather   temp  \\\n",
              "0     2011-01-01 00:00:00       1        0           0        1   9.84   \n",
              "1     2011-01-01 01:00:00       1        0           0        1   9.02   \n",
              "2     2011-01-01 02:00:00       1        0           0        1   9.02   \n",
              "3     2011-01-01 03:00:00       1        0           0        1   9.84   \n",
              "4     2011-01-01 04:00:00       1        0           0        1   9.84   \n",
              "...                   ...     ...      ...         ...      ...    ...   \n",
              "10881 2012-12-19 19:00:00       4        0           1        1  15.58   \n",
              "10882 2012-12-19 20:00:00       4        0           1        1  14.76   \n",
              "10883 2012-12-19 21:00:00       4        0           1        1  13.94   \n",
              "10884 2012-12-19 22:00:00       4        0           1        1  13.94   \n",
              "10885 2012-12-19 23:00:00       4        0           1        1  13.12   \n",
              "\n",
              "        atemp  humidity  windspeed  casual  registered  count  year  month  \\\n",
              "0      14.395        81     0.0000       3          13     16  2011      1   \n",
              "1      13.635        80     0.0000       8          32     40  2011      1   \n",
              "2      13.635        80     0.0000       5          27     32  2011      1   \n",
              "3      14.395        75     0.0000       3          10     13  2011      1   \n",
              "4      14.395        75     0.0000       0           1      1  2011      1   \n",
              "...       ...       ...        ...     ...         ...    ...   ...    ...   \n",
              "10881  19.695        50    26.0027       7         329    336  2012     12   \n",
              "10882  17.425        57    15.0013      10         231    241  2012     12   \n",
              "10883  15.910        61    15.0013       4         164    168  2012     12   \n",
              "10884  17.425        61     6.0032      12         117    129  2012     12   \n",
              "10885  16.665        66     8.9981       4          84     88  2012     12   \n",
              "\n",
              "       day  hour  minute  second  \n",
              "0        1     0       0       0  \n",
              "1        1     1       0       0  \n",
              "2        1     2       0       0  \n",
              "3        1     3       0       0  \n",
              "4        1     4       0       0  \n",
              "...    ...   ...     ...     ...  \n",
              "10881   19    19       0       0  \n",
              "10882   19    20       0       0  \n",
              "10883   19    21       0       0  \n",
              "10884   19    22       0       0  \n",
              "10885   19    23       0       0  \n",
              "\n",
              "[10886 rows x 18 columns]"
            ],
            "text/html": [
              "\n",
              "  <div id=\"df-f8ab500f-21e2-4cd3-9a9f-99b1486260dd\">\n",
              "    <div class=\"colab-df-container\">\n",
              "      <div>\n",
              "<style scoped>\n",
              "    .dataframe tbody tr th:only-of-type {\n",
              "        vertical-align: middle;\n",
              "    }\n",
              "\n",
              "    .dataframe tbody tr th {\n",
              "        vertical-align: top;\n",
              "    }\n",
              "\n",
              "    .dataframe thead th {\n",
              "        text-align: right;\n",
              "    }\n",
              "</style>\n",
              "<table border=\"1\" class=\"dataframe\">\n",
              "  <thead>\n",
              "    <tr style=\"text-align: right;\">\n",
              "      <th></th>\n",
              "      <th>datetime</th>\n",
              "      <th>season</th>\n",
              "      <th>holiday</th>\n",
              "      <th>workingday</th>\n",
              "      <th>weather</th>\n",
              "      <th>temp</th>\n",
              "      <th>atemp</th>\n",
              "      <th>humidity</th>\n",
              "      <th>windspeed</th>\n",
              "      <th>casual</th>\n",
              "      <th>registered</th>\n",
              "      <th>count</th>\n",
              "      <th>year</th>\n",
              "      <th>month</th>\n",
              "      <th>day</th>\n",
              "      <th>hour</th>\n",
              "      <th>minute</th>\n",
              "      <th>second</th>\n",
              "    </tr>\n",
              "  </thead>\n",
              "  <tbody>\n",
              "    <tr>\n",
              "      <th>0</th>\n",
              "      <td>2011-01-01 00:00:00</td>\n",
              "      <td>1</td>\n",
              "      <td>0</td>\n",
              "      <td>0</td>\n",
              "      <td>1</td>\n",
              "      <td>9.84</td>\n",
              "      <td>14.395</td>\n",
              "      <td>81</td>\n",
              "      <td>0.0000</td>\n",
              "      <td>3</td>\n",
              "      <td>13</td>\n",
              "      <td>16</td>\n",
              "      <td>2011</td>\n",
              "      <td>1</td>\n",
              "      <td>1</td>\n",
              "      <td>0</td>\n",
              "      <td>0</td>\n",
              "      <td>0</td>\n",
              "    </tr>\n",
              "    <tr>\n",
              "      <th>1</th>\n",
              "      <td>2011-01-01 01:00:00</td>\n",
              "      <td>1</td>\n",
              "      <td>0</td>\n",
              "      <td>0</td>\n",
              "      <td>1</td>\n",
              "      <td>9.02</td>\n",
              "      <td>13.635</td>\n",
              "      <td>80</td>\n",
              "      <td>0.0000</td>\n",
              "      <td>8</td>\n",
              "      <td>32</td>\n",
              "      <td>40</td>\n",
              "      <td>2011</td>\n",
              "      <td>1</td>\n",
              "      <td>1</td>\n",
              "      <td>1</td>\n",
              "      <td>0</td>\n",
              "      <td>0</td>\n",
              "    </tr>\n",
              "    <tr>\n",
              "      <th>2</th>\n",
              "      <td>2011-01-01 02:00:00</td>\n",
              "      <td>1</td>\n",
              "      <td>0</td>\n",
              "      <td>0</td>\n",
              "      <td>1</td>\n",
              "      <td>9.02</td>\n",
              "      <td>13.635</td>\n",
              "      <td>80</td>\n",
              "      <td>0.0000</td>\n",
              "      <td>5</td>\n",
              "      <td>27</td>\n",
              "      <td>32</td>\n",
              "      <td>2011</td>\n",
              "      <td>1</td>\n",
              "      <td>1</td>\n",
              "      <td>2</td>\n",
              "      <td>0</td>\n",
              "      <td>0</td>\n",
              "    </tr>\n",
              "    <tr>\n",
              "      <th>3</th>\n",
              "      <td>2011-01-01 03:00:00</td>\n",
              "      <td>1</td>\n",
              "      <td>0</td>\n",
              "      <td>0</td>\n",
              "      <td>1</td>\n",
              "      <td>9.84</td>\n",
              "      <td>14.395</td>\n",
              "      <td>75</td>\n",
              "      <td>0.0000</td>\n",
              "      <td>3</td>\n",
              "      <td>10</td>\n",
              "      <td>13</td>\n",
              "      <td>2011</td>\n",
              "      <td>1</td>\n",
              "      <td>1</td>\n",
              "      <td>3</td>\n",
              "      <td>0</td>\n",
              "      <td>0</td>\n",
              "    </tr>\n",
              "    <tr>\n",
              "      <th>4</th>\n",
              "      <td>2011-01-01 04:00:00</td>\n",
              "      <td>1</td>\n",
              "      <td>0</td>\n",
              "      <td>0</td>\n",
              "      <td>1</td>\n",
              "      <td>9.84</td>\n",
              "      <td>14.395</td>\n",
              "      <td>75</td>\n",
              "      <td>0.0000</td>\n",
              "      <td>0</td>\n",
              "      <td>1</td>\n",
              "      <td>1</td>\n",
              "      <td>2011</td>\n",
              "      <td>1</td>\n",
              "      <td>1</td>\n",
              "      <td>4</td>\n",
              "      <td>0</td>\n",
              "      <td>0</td>\n",
              "    </tr>\n",
              "    <tr>\n",
              "      <th>...</th>\n",
              "      <td>...</td>\n",
              "      <td>...</td>\n",
              "      <td>...</td>\n",
              "      <td>...</td>\n",
              "      <td>...</td>\n",
              "      <td>...</td>\n",
              "      <td>...</td>\n",
              "      <td>...</td>\n",
              "      <td>...</td>\n",
              "      <td>...</td>\n",
              "      <td>...</td>\n",
              "      <td>...</td>\n",
              "      <td>...</td>\n",
              "      <td>...</td>\n",
              "      <td>...</td>\n",
              "      <td>...</td>\n",
              "      <td>...</td>\n",
              "      <td>...</td>\n",
              "    </tr>\n",
              "    <tr>\n",
              "      <th>10881</th>\n",
              "      <td>2012-12-19 19:00:00</td>\n",
              "      <td>4</td>\n",
              "      <td>0</td>\n",
              "      <td>1</td>\n",
              "      <td>1</td>\n",
              "      <td>15.58</td>\n",
              "      <td>19.695</td>\n",
              "      <td>50</td>\n",
              "      <td>26.0027</td>\n",
              "      <td>7</td>\n",
              "      <td>329</td>\n",
              "      <td>336</td>\n",
              "      <td>2012</td>\n",
              "      <td>12</td>\n",
              "      <td>19</td>\n",
              "      <td>19</td>\n",
              "      <td>0</td>\n",
              "      <td>0</td>\n",
              "    </tr>\n",
              "    <tr>\n",
              "      <th>10882</th>\n",
              "      <td>2012-12-19 20:00:00</td>\n",
              "      <td>4</td>\n",
              "      <td>0</td>\n",
              "      <td>1</td>\n",
              "      <td>1</td>\n",
              "      <td>14.76</td>\n",
              "      <td>17.425</td>\n",
              "      <td>57</td>\n",
              "      <td>15.0013</td>\n",
              "      <td>10</td>\n",
              "      <td>231</td>\n",
              "      <td>241</td>\n",
              "      <td>2012</td>\n",
              "      <td>12</td>\n",
              "      <td>19</td>\n",
              "      <td>20</td>\n",
              "      <td>0</td>\n",
              "      <td>0</td>\n",
              "    </tr>\n",
              "    <tr>\n",
              "      <th>10883</th>\n",
              "      <td>2012-12-19 21:00:00</td>\n",
              "      <td>4</td>\n",
              "      <td>0</td>\n",
              "      <td>1</td>\n",
              "      <td>1</td>\n",
              "      <td>13.94</td>\n",
              "      <td>15.910</td>\n",
              "      <td>61</td>\n",
              "      <td>15.0013</td>\n",
              "      <td>4</td>\n",
              "      <td>164</td>\n",
              "      <td>168</td>\n",
              "      <td>2012</td>\n",
              "      <td>12</td>\n",
              "      <td>19</td>\n",
              "      <td>21</td>\n",
              "      <td>0</td>\n",
              "      <td>0</td>\n",
              "    </tr>\n",
              "    <tr>\n",
              "      <th>10884</th>\n",
              "      <td>2012-12-19 22:00:00</td>\n",
              "      <td>4</td>\n",
              "      <td>0</td>\n",
              "      <td>1</td>\n",
              "      <td>1</td>\n",
              "      <td>13.94</td>\n",
              "      <td>17.425</td>\n",
              "      <td>61</td>\n",
              "      <td>6.0032</td>\n",
              "      <td>12</td>\n",
              "      <td>117</td>\n",
              "      <td>129</td>\n",
              "      <td>2012</td>\n",
              "      <td>12</td>\n",
              "      <td>19</td>\n",
              "      <td>22</td>\n",
              "      <td>0</td>\n",
              "      <td>0</td>\n",
              "    </tr>\n",
              "    <tr>\n",
              "      <th>10885</th>\n",
              "      <td>2012-12-19 23:00:00</td>\n",
              "      <td>4</td>\n",
              "      <td>0</td>\n",
              "      <td>1</td>\n",
              "      <td>1</td>\n",
              "      <td>13.12</td>\n",
              "      <td>16.665</td>\n",
              "      <td>66</td>\n",
              "      <td>8.9981</td>\n",
              "      <td>4</td>\n",
              "      <td>84</td>\n",
              "      <td>88</td>\n",
              "      <td>2012</td>\n",
              "      <td>12</td>\n",
              "      <td>19</td>\n",
              "      <td>23</td>\n",
              "      <td>0</td>\n",
              "      <td>0</td>\n",
              "    </tr>\n",
              "  </tbody>\n",
              "</table>\n",
              "<p>10886 rows × 18 columns</p>\n",
              "</div>\n",
              "      <button class=\"colab-df-convert\" onclick=\"convertToInteractive('df-f8ab500f-21e2-4cd3-9a9f-99b1486260dd')\"\n",
              "              title=\"Convert this dataframe to an interactive table.\"\n",
              "              style=\"display:none;\">\n",
              "        \n",
              "  <svg xmlns=\"http://www.w3.org/2000/svg\" height=\"24px\"viewBox=\"0 0 24 24\"\n",
              "       width=\"24px\">\n",
              "    <path d=\"M0 0h24v24H0V0z\" fill=\"none\"/>\n",
              "    <path d=\"M18.56 5.44l.94 2.06.94-2.06 2.06-.94-2.06-.94-.94-2.06-.94 2.06-2.06.94zm-11 1L8.5 8.5l.94-2.06 2.06-.94-2.06-.94L8.5 2.5l-.94 2.06-2.06.94zm10 10l.94 2.06.94-2.06 2.06-.94-2.06-.94-.94-2.06-.94 2.06-2.06.94z\"/><path d=\"M17.41 7.96l-1.37-1.37c-.4-.4-.92-.59-1.43-.59-.52 0-1.04.2-1.43.59L10.3 9.45l-7.72 7.72c-.78.78-.78 2.05 0 2.83L4 21.41c.39.39.9.59 1.41.59.51 0 1.02-.2 1.41-.59l7.78-7.78 2.81-2.81c.8-.78.8-2.07 0-2.86zM5.41 20L4 18.59l7.72-7.72 1.47 1.35L5.41 20z\"/>\n",
              "  </svg>\n",
              "      </button>\n",
              "      \n",
              "  <style>\n",
              "    .colab-df-container {\n",
              "      display:flex;\n",
              "      flex-wrap:wrap;\n",
              "      gap: 12px;\n",
              "    }\n",
              "\n",
              "    .colab-df-convert {\n",
              "      background-color: #E8F0FE;\n",
              "      border: none;\n",
              "      border-radius: 50%;\n",
              "      cursor: pointer;\n",
              "      display: none;\n",
              "      fill: #1967D2;\n",
              "      height: 32px;\n",
              "      padding: 0 0 0 0;\n",
              "      width: 32px;\n",
              "    }\n",
              "\n",
              "    .colab-df-convert:hover {\n",
              "      background-color: #E2EBFA;\n",
              "      box-shadow: 0px 1px 2px rgba(60, 64, 67, 0.3), 0px 1px 3px 1px rgba(60, 64, 67, 0.15);\n",
              "      fill: #174EA6;\n",
              "    }\n",
              "\n",
              "    [theme=dark] .colab-df-convert {\n",
              "      background-color: #3B4455;\n",
              "      fill: #D2E3FC;\n",
              "    }\n",
              "\n",
              "    [theme=dark] .colab-df-convert:hover {\n",
              "      background-color: #434B5C;\n",
              "      box-shadow: 0px 1px 3px 1px rgba(0, 0, 0, 0.15);\n",
              "      filter: drop-shadow(0px 1px 2px rgba(0, 0, 0, 0.3));\n",
              "      fill: #FFFFFF;\n",
              "    }\n",
              "  </style>\n",
              "\n",
              "      <script>\n",
              "        const buttonEl =\n",
              "          document.querySelector('#df-f8ab500f-21e2-4cd3-9a9f-99b1486260dd button.colab-df-convert');\n",
              "        buttonEl.style.display =\n",
              "          google.colab.kernel.accessAllowed ? 'block' : 'none';\n",
              "\n",
              "        async function convertToInteractive(key) {\n",
              "          const element = document.querySelector('#df-f8ab500f-21e2-4cd3-9a9f-99b1486260dd');\n",
              "          const dataTable =\n",
              "            await google.colab.kernel.invokeFunction('convertToInteractive',\n",
              "                                                     [key], {});\n",
              "          if (!dataTable) return;\n",
              "\n",
              "          const docLinkHtml = 'Like what you see? Visit the ' +\n",
              "            '<a target=\"_blank\" href=https://colab.research.google.com/notebooks/data_table.ipynb>data table notebook</a>'\n",
              "            + ' to learn more about interactive tables.';\n",
              "          element.innerHTML = '';\n",
              "          dataTable['output_type'] = 'display_data';\n",
              "          await google.colab.output.renderOutput(dataTable, element);\n",
              "          const docLink = document.createElement('div');\n",
              "          docLink.innerHTML = docLinkHtml;\n",
              "          element.appendChild(docLink);\n",
              "        }\n",
              "      </script>\n",
              "    </div>\n",
              "  </div>\n",
              "  "
            ]
          },
          "metadata": {},
          "execution_count": 466
        }
      ]
    },
    {
      "cell_type": "markdown",
      "source": [
        "## 📑 **(3) year, month, day, hour, minute, second 데이터 개수 시각화**"
      ],
      "metadata": {
        "id": "GDNnc7WWHl78"
      }
    },
    {
      "cell_type": "markdown",
      "source": [
        "### 📌 **01_모듈 import**"
      ],
      "metadata": {
        "id": "agOsFGXF9FeE"
      }
    },
    {
      "cell_type": "markdown",
      "source": [
        "- **시각화 모듈 import**"
      ],
      "metadata": {
        "id": "3pKVYu1Q2MBb"
      }
    },
    {
      "cell_type": "code",
      "source": [
        "import matplotlib.pyplot as plt\n",
        "import seaborn as sns\n",
        "\n",
        "%matplotlib inline"
      ],
      "metadata": {
        "id": "am_e_0Zc9PRo"
      },
      "execution_count": null,
      "outputs": []
    },
    {
      "cell_type": "markdown",
      "source": [
        "### 📌 **02_시각화**"
      ],
      "metadata": {
        "id": "t-YjEhcZ9GGw"
      }
    },
    {
      "cell_type": "markdown",
      "source": [
        "- **sns.countplot / subplot을 활용**  \n",
        "그래프 가로 18 / 세로 8  \n",
        "2열 3행 그래프 배치  "
      ],
      "metadata": {
        "id": "hO_ZZjKTOuQu"
      }
    },
    {
      "cell_type": "code",
      "source": [
        "plt.figure(figsize=(18, 8))\n",
        "\n",
        "plt.subplot(2,3,1)\n",
        "sns.countplot(x='year', data=train)\n",
        "\n",
        "plt.subplot(2,3,2)\n",
        "sns.countplot(x='month', data=train)\n",
        "\n",
        "plt.subplot(2,3,3)\n",
        "sns.countplot(x='day', data=train)\n",
        "\n",
        "plt.subplot(2,3,4)\n",
        "sns.countplot(x='hour', data=train)\n",
        "\n",
        "plt.subplot(2,3,5)\n",
        "sns.countplot(x='minute', data=train)\n",
        "\n",
        "plt.subplot(2,3,6)\n",
        "sns.countplot(x='second', data=train)\n",
        "\n",
        "plt.show()"
      ],
      "metadata": {
        "id": "O4W0KWITcg3M",
        "colab": {
          "base_uri": "https://localhost:8080/",
          "height": 500
        },
        "outputId": "c2536268-8820-4b31-de99-b874a7b87da3"
      },
      "execution_count": null,
      "outputs": [
        {
          "output_type": "display_data",
          "data": {
            "text/plain": [
              "<Figure size 1296x576 with 6 Axes>"
            ],
            "image/png": "[encoded data removed]"
          },
          "metadata": {
            "needs_background": "light"
          }
        }
      ]
    },
    {
      "cell_type": "markdown",
      "source": [
        "## 📑 **(4) X, y 컬럼 선택 및 train/test 데이터 분리**"
      ],
      "metadata": {
        "id": "tz6bpWBn-1U-"
      }
    },
    {
      "cell_type": "markdown",
      "source": [
        "- **y 컬럼은 주어진 count 사용**  \n",
        "- **X 컬럼에 필요한 내용만 선택**  \n",
        "    - 날씨 관련  \n",
        "    humidity, temp,  atemp, windspeed, season, weather, casual\n",
        "    - 시간 관련 (시 보다 하위 데이터 버림 처리)    \n",
        "    month, day, hour  "
      ],
      "metadata": {
        "id": "w8UMlEvxoXzZ"
      }
    },
    {
      "cell_type": "code",
      "source": [
        "X = train[['humidity', 'temp',  'atemp', 'windspeed', 'season', 'weather', 'year', 'month', 'day', 'hour', 'casual']]\n",
        "y = train['count']"
      ],
      "metadata": {
        "id": "RM7YfmDv_gfg"
      },
      "execution_count": null,
      "outputs": []
    },
    {
      "cell_type": "markdown",
      "source": [
        "- **모델 학습 및 테스트용 문제지와 정답지 생성**   \n",
        "    data: feature (문제)  \n",
        "    label: label (정답)  \n",
        "    test_size: 전체에서 테스트 데이터로 사용할 비율  \n",
        "    random_state : 데이터를 분리하는데 적용되는 랜덤성  "
      ],
      "metadata": {
        "id": "AEv5T9SS6KTD"
      }
    },
    {
      "cell_type": "code",
      "source": [
        "X_train, X_test, y_train, y_test = train_test_split(X, y, test_size=0.3, random_state=30)\n",
        "print('X_train 개수: ', len(X_train),', X_test 개수: ', len(X_test))"
      ],
      "metadata": {
        "id": "sgocoeZ2Aasm",
        "colab": {
          "base_uri": "https://localhost:8080/"
        },
        "outputId": "09272d23-ec9c-4908-bd21-f139e493c1f4"
      },
      "execution_count": null,
      "outputs": [
        {
          "output_type": "stream",
          "name": "stdout",
          "text": [
            "X_train 개수:  7620 , X_test 개수:  3266\n"
          ]
        }
      ]
    },
    {
      "cell_type": "code",
      "source": [
        "X_train.shape, y_train.shape"
      ],
      "metadata": {
        "colab": {
          "base_uri": "https://localhost:8080/"
        },
        "id": "aUILn-lE6EUo",
        "outputId": "32c73caa-e065-4241-d30d-179e483ad951"
      },
      "execution_count": null,
      "outputs": [
        {
          "output_type": "execute_result",
          "data": {
            "text/plain": [
              "((7620, 11), (7620,))"
            ]
          },
          "metadata": {},
          "execution_count": 471
        }
      ]
    },
    {
      "cell_type": "code",
      "source": [
        "X_test.shape, y_test.shape"
      ],
      "metadata": {
        "colab": {
          "base_uri": "https://localhost:8080/"
        },
        "id": "k8dwhw386Gf_",
        "outputId": "5bf52b1a-4af3-4ffb-81d7-b64180ca4fe6"
      },
      "execution_count": null,
      "outputs": [
        {
          "output_type": "execute_result",
          "data": {
            "text/plain": [
              "((3266, 11), (3266,))"
            ]
          },
          "metadata": {},
          "execution_count": 472
        }
      ]
    },
    {
      "cell_type": "code",
      "source": [
        "y_train, y_test"
      ],
      "metadata": {
        "colab": {
          "base_uri": "https://localhost:8080/"
        },
        "id": "xqiwN2l56PTv",
        "outputId": "e4e3e151-4b74-44fc-dfad-a3e0fc911380"
      },
      "execution_count": null,
      "outputs": [
        {
          "output_type": "execute_result",
          "data": {
            "text/plain": [
              "(10845    355\n",
              " 5471       3\n",
              " 4636      16\n",
              " 1808      62\n",
              " 2377      60\n",
              "         ... \n",
              " 4859     153\n",
              " 919      201\n",
              " 500       38\n",
              " 4517     254\n",
              " 5925       6\n",
              " Name: count, Length: 7620, dtype: int64, 7983      34\n",
              " 6527      29\n",
              " 5638       5\n",
              " 9890     228\n",
              " 8042     286\n",
              "         ... \n",
              " 4422      48\n",
              " 3760      58\n",
              " 4104       6\n",
              " 1003       5\n",
              " 10580     84\n",
              " Name: count, Length: 3266, dtype: int64)"
            ]
          },
          "metadata": {},
          "execution_count": 473
        }
      ]
    },
    {
      "cell_type": "markdown",
      "source": [
        "## 📑 **(5) LinearRegression 모델 학습**"
      ],
      "metadata": {
        "id": "ONrfB7i26bwS"
      }
    },
    {
      "cell_type": "markdown",
      "source": [
        "- **선형회귀모델 import**"
      ],
      "metadata": {
        "id": "_fKE-pRU6t7H"
      }
    },
    {
      "cell_type": "code",
      "source": [
        "from sklearn.linear_model import LinearRegression\n",
        "\n",
        "model = LinearRegression()"
      ],
      "metadata": {
        "id": "oWveLP7c6ebV"
      },
      "execution_count": null,
      "outputs": []
    },
    {
      "cell_type": "markdown",
      "source": [
        "- **모델 학습**"
      ],
      "metadata": {
        "id": "btkYxbeO61HO"
      }
    },
    {
      "cell_type": "code",
      "source": [
        "model.fit(X_train, y_train)"
      ],
      "metadata": {
        "colab": {
          "base_uri": "https://localhost:8080/"
        },
        "id": "otTaPXd66zoH",
        "outputId": "b8e16261-4f33-4d1f-b690-946d899fe445"
      },
      "execution_count": null,
      "outputs": [
        {
          "output_type": "execute_result",
          "data": {
            "text/plain": [
              "LinearRegression()"
            ]
          },
          "metadata": {},
          "execution_count": 475
        }
      ]
    },
    {
      "cell_type": "markdown",
      "source": [
        "## 📑 **(6) 학습된 모델로 X_test 예측값 출력 및 손실함수값 계산**"
      ],
      "metadata": {
        "id": "eH8PhYXL7ANY"
      }
    },
    {
      "cell_type": "markdown",
      "source": [
        "### 📌 **01_예측값 출력**"
      ],
      "metadata": {
        "id": "O6oAlXIN7Om3"
      }
    },
    {
      "cell_type": "code",
      "source": [
        "predictions = model.predict(X_test)\n",
        "predictions"
      ],
      "metadata": {
        "colab": {
          "base_uri": "https://localhost:8080/"
        },
        "id": "OffpDrxQ7Fvl",
        "outputId": "1a9f9f81-c6e5-4c68-c60f-c3a04e4bc9e5"
      },
      "execution_count": null,
      "outputs": [
        {
          "output_type": "execute_result",
          "data": {
            "text/plain": [
              "array([ 92.33165875,  89.53315182,  19.1631862 , ...,  29.09616112,\n",
              "        21.55726693, 130.75675485])"
            ]
          },
          "metadata": {},
          "execution_count": 476
        }
      ]
    },
    {
      "cell_type": "markdown",
      "source": [
        "### 📌 **02_손실함수 값 계산**"
      ],
      "metadata": {
        "id": "UFGDpcFI7Wbl"
      }
    },
    {
      "cell_type": "markdown",
      "source": [
        "- **모듈 import**"
      ],
      "metadata": {
        "id": "4GVxS_eXEpw9"
      }
    },
    {
      "cell_type": "code",
      "source": [
        "from sklearn.metrics import mean_squared_error"
      ],
      "metadata": {
        "id": "YlBxyStIEFvw"
      },
      "execution_count": null,
      "outputs": []
    },
    {
      "cell_type": "markdown",
      "source": [
        "- **mse 값 계산**"
      ],
      "metadata": {
        "id": "KRhQW43uEjmV"
      }
    },
    {
      "cell_type": "code",
      "source": [
        "mse = mean_squared_error(y_test, predictions)\n",
        "mse"
      ],
      "metadata": {
        "colab": {
          "base_uri": "https://localhost:8080/"
        },
        "id": "-Dv4I7ul_T_J",
        "outputId": "7d97350c-79c9-4c48-e74c-cdd5b12aa83c"
      },
      "execution_count": null,
      "outputs": [
        {
          "output_type": "execute_result",
          "data": {
            "text/plain": [
              "14580.629065277393"
            ]
          },
          "metadata": {},
          "execution_count": 478
        }
      ]
    },
    {
      "cell_type": "markdown",
      "source": [
        "- **rmse 값 계산**"
      ],
      "metadata": {
        "id": "Rc6IaFriEwZ4"
      }
    },
    {
      "cell_type": "code",
      "source": [
        "rmse = mean_squared_error(y_test, predictions, squared = False)\n",
        "rmse"
      ],
      "metadata": {
        "colab": {
          "base_uri": "https://localhost:8080/"
        },
        "id": "XmBXOa2TBSTv",
        "outputId": "87a86c73-6d4c-404a-be9d-d1ebec56393f"
      },
      "execution_count": null,
      "outputs": [
        {
          "output_type": "execute_result",
          "data": {
            "text/plain": [
              "120.75027563230401"
            ]
          },
          "metadata": {},
          "execution_count": 479
        }
      ]
    },
    {
      "cell_type": "markdown",
      "source": [
        "## 📑 **(7) 예측 결과 시각화**"
      ],
      "metadata": {
        "id": "kus1IDUkJiWT"
      }
    },
    {
      "cell_type": "markdown",
      "source": [
        "### 📌 **01_모듈 import**"
      ],
      "metadata": {
        "id": "adpKoeT5M7wj"
      }
    },
    {
      "cell_type": "code",
      "source": [
        "import matplotlib.pyplot as plt\n",
        "import seaborn as sns\n",
        "\n",
        "%matplotlib inline"
      ],
      "metadata": {
        "id": "lwtIBOyINpUD"
      },
      "execution_count": null,
      "outputs": []
    },
    {
      "cell_type": "markdown",
      "source": [
        "### 📌 **02_데이터 시각화**"
      ],
      "metadata": {
        "id": "es58U61rNa89"
      }
    },
    {
      "cell_type": "markdown",
      "source": [
        "- **표**"
      ],
      "metadata": {
        "id": "TnkGZM3qN56D"
      }
    },
    {
      "cell_type": "code",
      "source": [
        "train_col = ['humidity', 'temp',  'atemp', 'windspeed', 'season', 'weather', 'year', 'month', 'day', 'hour', 'casual']\n",
        "X_test_df = pd.DataFrame(X_test, columns = train_col)\n",
        "\n",
        "X_test_df['count'] = y_test\n",
        "X_test_df['예측값'] = predictions\n",
        "\n",
        "X_test_df"
      ],
      "metadata": {
        "colab": {
          "base_uri": "https://localhost:8080/",
          "height": 423
        },
        "id": "CkJlKvpZJoY3",
        "outputId": "7b32aff0-2563-4f62-f366-6027e13c7323"
      },
      "execution_count": null,
      "outputs": [
        {
          "output_type": "execute_result",
          "data": {
            "text/plain": [
              "       humidity   temp   atemp  windspeed  season  weather  year  month  day  \\\n",
              "7983         94  27.06  29.545    12.9980       2        2  2012      6   13   \n",
              "6527         66  16.40  20.455    19.0012       1        3  2012      3    9   \n",
              "5638         93   9.02  12.120     7.0015       1        2  2012      1   10   \n",
              "9890         45  20.50  24.240    27.9993       4        1  2012     10   16   \n",
              "8042         50  27.06  31.060    12.9980       2        1  2012      6   15   \n",
              "...         ...    ...     ...        ...     ...      ...   ...    ...  ...   \n",
              "4422         62  16.40  20.455     8.9981       4        1  2011     10   16   \n",
              "3760         94  25.42  27.275     7.0015       3        3  2011      9    7   \n",
              "4104         81  14.76  18.180     6.0032       4        1  2011     10    3   \n",
              "1003        100  17.22  21.210    30.0026       1        3  2011      3    6   \n",
              "10580        75  11.48  13.635    11.0014       4        2  2012     12    7   \n",
              "\n",
              "       hour  casual  count         예측값  \n",
              "7983      0      34     34   92.331659  \n",
              "6527      5      29     29   89.533152  \n",
              "5638      1       5      5   19.163186  \n",
              "9890     11     228    228  302.135149  \n",
              "8042     11     286    286  377.186015  \n",
              "...     ...     ...    ...         ...  \n",
              "4422      7      48     48   97.151456  \n",
              "3760     15      58     58  106.629937  \n",
              "4104      1       6      6   29.096161  \n",
              "1003      7       5      5   21.557267  \n",
              "10580     6      84     84  130.756755  \n",
              "\n",
              "[3266 rows x 13 columns]"
            ],
            "text/html": [
              "\n",
              "  <div id=\"df-8f0d9853-9c7f-4a71-a592-8c505af3a447\">\n",
              "    <div class=\"colab-df-container\">\n",
              "      <div>\n",
              "<style scoped>\n",
              "    .dataframe tbody tr th:only-of-type {\n",
              "        vertical-align: middle;\n",
              "    }\n",
              "\n",
              "    .dataframe tbody tr th {\n",
              "        vertical-align: top;\n",
              "    }\n",
              "\n",
              "    .dataframe thead th {\n",
              "        text-align: right;\n",
              "    }\n",
              "</style>\n",
              "<table border=\"1\" class=\"dataframe\">\n",
              "  <thead>\n",
              "    <tr style=\"text-align: right;\">\n",
              "      <th></th>\n",
              "      <th>humidity</th>\n",
              "      <th>temp</th>\n",
              "      <th>atemp</th>\n",
              "      <th>windspeed</th>\n",
              "      <th>season</th>\n",
              "      <th>weather</th>\n",
              "      <th>year</th>\n",
              "      <th>month</th>\n",
              "      <th>day</th>\n",
              "      <th>hour</th>\n",
              "      <th>casual</th>\n",
              "      <th>count</th>\n",
              "      <th>예측값</th>\n",
              "    </tr>\n",
              "  </thead>\n",
              "  <tbody>\n",
              "    <tr>\n",
              "      <th>7983</th>\n",
              "      <td>94</td>\n",
              "      <td>27.06</td>\n",
              "      <td>29.545</td>\n",
              "      <td>12.9980</td>\n",
              "      <td>2</td>\n",
              "      <td>2</td>\n",
              "      <td>2012</td>\n",
              "      <td>6</td>\n",
              "      <td>13</td>\n",
              "      <td>0</td>\n",
              "      <td>34</td>\n",
              "      <td>34</td>\n",
              "      <td>92.331659</td>\n",
              "    </tr>\n",
              "    <tr>\n",
              "      <th>6527</th>\n",
              "      <td>66</td>\n",
              "      <td>16.40</td>\n",
              "      <td>20.455</td>\n",
              "      <td>19.0012</td>\n",
              "      <td>1</td>\n",
              "      <td>3</td>\n",
              "      <td>2012</td>\n",
              "      <td>3</td>\n",
              "      <td>9</td>\n",
              "      <td>5</td>\n",
              "      <td>29</td>\n",
              "      <td>29</td>\n",
              "      <td>89.533152</td>\n",
              "    </tr>\n",
              "    <tr>\n",
              "      <th>5638</th>\n",
              "      <td>93</td>\n",
              "      <td>9.02</td>\n",
              "      <td>12.120</td>\n",
              "      <td>7.0015</td>\n",
              "      <td>1</td>\n",
              "      <td>2</td>\n",
              "      <td>2012</td>\n",
              "      <td>1</td>\n",
              "      <td>10</td>\n",
              "      <td>1</td>\n",
              "      <td>5</td>\n",
              "      <td>5</td>\n",
              "      <td>19.163186</td>\n",
              "    </tr>\n",
              "    <tr>\n",
              "      <th>9890</th>\n",
              "      <td>45</td>\n",
              "      <td>20.50</td>\n",
              "      <td>24.240</td>\n",
              "      <td>27.9993</td>\n",
              "      <td>4</td>\n",
              "      <td>1</td>\n",
              "      <td>2012</td>\n",
              "      <td>10</td>\n",
              "      <td>16</td>\n",
              "      <td>11</td>\n",
              "      <td>228</td>\n",
              "      <td>228</td>\n",
              "      <td>302.135149</td>\n",
              "    </tr>\n",
              "    <tr>\n",
              "      <th>8042</th>\n",
              "      <td>50</td>\n",
              "      <td>27.06</td>\n",
              "      <td>31.060</td>\n",
              "      <td>12.9980</td>\n",
              "      <td>2</td>\n",
              "      <td>1</td>\n",
              "      <td>2012</td>\n",
              "      <td>6</td>\n",
              "      <td>15</td>\n",
              "      <td>11</td>\n",
              "      <td>286</td>\n",
              "      <td>286</td>\n",
              "      <td>377.186015</td>\n",
              "    </tr>\n",
              "    <tr>\n",
              "      <th>...</th>\n",
              "      <td>...</td>\n",
              "      <td>...</td>\n",
              "      <td>...</td>\n",
              "      <td>...</td>\n",
              "      <td>...</td>\n",
              "      <td>...</td>\n",
              "      <td>...</td>\n",
              "      <td>...</td>\n",
              "      <td>...</td>\n",
              "      <td>...</td>\n",
              "      <td>...</td>\n",
              "      <td>...</td>\n",
              "      <td>...</td>\n",
              "    </tr>\n",
              "    <tr>\n",
              "      <th>4422</th>\n",
              "      <td>62</td>\n",
              "      <td>16.40</td>\n",
              "      <td>20.455</td>\n",
              "      <td>8.9981</td>\n",
              "      <td>4</td>\n",
              "      <td>1</td>\n",
              "      <td>2011</td>\n",
              "      <td>10</td>\n",
              "      <td>16</td>\n",
              "      <td>7</td>\n",
              "      <td>48</td>\n",
              "      <td>48</td>\n",
              "      <td>97.151456</td>\n",
              "    </tr>\n",
              "    <tr>\n",
              "      <th>3760</th>\n",
              "      <td>94</td>\n",
              "      <td>25.42</td>\n",
              "      <td>27.275</td>\n",
              "      <td>7.0015</td>\n",
              "      <td>3</td>\n",
              "      <td>3</td>\n",
              "      <td>2011</td>\n",
              "      <td>9</td>\n",
              "      <td>7</td>\n",
              "      <td>15</td>\n",
              "      <td>58</td>\n",
              "      <td>58</td>\n",
              "      <td>106.629937</td>\n",
              "    </tr>\n",
              "    <tr>\n",
              "      <th>4104</th>\n",
              "      <td>81</td>\n",
              "      <td>14.76</td>\n",
              "      <td>18.180</td>\n",
              "      <td>6.0032</td>\n",
              "      <td>4</td>\n",
              "      <td>1</td>\n",
              "      <td>2011</td>\n",
              "      <td>10</td>\n",
              "      <td>3</td>\n",
              "      <td>1</td>\n",
              "      <td>6</td>\n",
              "      <td>6</td>\n",
              "      <td>29.096161</td>\n",
              "    </tr>\n",
              "    <tr>\n",
              "      <th>1003</th>\n",
              "      <td>100</td>\n",
              "      <td>17.22</td>\n",
              "      <td>21.210</td>\n",
              "      <td>30.0026</td>\n",
              "      <td>1</td>\n",
              "      <td>3</td>\n",
              "      <td>2011</td>\n",
              "      <td>3</td>\n",
              "      <td>6</td>\n",
              "      <td>7</td>\n",
              "      <td>5</td>\n",
              "      <td>5</td>\n",
              "      <td>21.557267</td>\n",
              "    </tr>\n",
              "    <tr>\n",
              "      <th>10580</th>\n",
              "      <td>75</td>\n",
              "      <td>11.48</td>\n",
              "      <td>13.635</td>\n",
              "      <td>11.0014</td>\n",
              "      <td>4</td>\n",
              "      <td>2</td>\n",
              "      <td>2012</td>\n",
              "      <td>12</td>\n",
              "      <td>7</td>\n",
              "      <td>6</td>\n",
              "      <td>84</td>\n",
              "      <td>84</td>\n",
              "      <td>130.756755</td>\n",
              "    </tr>\n",
              "  </tbody>\n",
              "</table>\n",
              "<p>3266 rows × 13 columns</p>\n",
              "</div>\n",
              "      <button class=\"colab-df-convert\" onclick=\"convertToInteractive('df-8f0d9853-9c7f-4a71-a592-8c505af3a447')\"\n",
              "              title=\"Convert this dataframe to an interactive table.\"\n",
              "              style=\"display:none;\">\n",
              "        \n",
              "  <svg xmlns=\"http://www.w3.org/2000/svg\" height=\"24px\"viewBox=\"0 0 24 24\"\n",
              "       width=\"24px\">\n",
              "    <path d=\"M0 0h24v24H0V0z\" fill=\"none\"/>\n",
              "    <path d=\"M18.56 5.44l.94 2.06.94-2.06 2.06-.94-2.06-.94-.94-2.06-.94 2.06-2.06.94zm-11 1L8.5 8.5l.94-2.06 2.06-.94-2.06-.94L8.5 2.5l-.94 2.06-2.06.94zm10 10l.94 2.06.94-2.06 2.06-.94-2.06-.94-.94-2.06-.94 2.06-2.06.94z\"/><path d=\"M17.41 7.96l-1.37-1.37c-.4-.4-.92-.59-1.43-.59-.52 0-1.04.2-1.43.59L10.3 9.45l-7.72 7.72c-.78.78-.78 2.05 0 2.83L4 21.41c.39.39.9.59 1.41.59.51 0 1.02-.2 1.41-.59l7.78-7.78 2.81-2.81c.8-.78.8-2.07 0-2.86zM5.41 20L4 18.59l7.72-7.72 1.47 1.35L5.41 20z\"/>\n",
              "  </svg>\n",
              "      </button>\n",
              "      \n",
              "  <style>\n",
              "    .colab-df-container {\n",
              "      display:flex;\n",
              "      flex-wrap:wrap;\n",
              "      gap: 12px;\n",
              "    }\n",
              "\n",
              "    .colab-df-convert {\n",
              "      background-color: #E8F0FE;\n",
              "      border: none;\n",
              "      border-radius: 50%;\n",
              "      cursor: pointer;\n",
              "      display: none;\n",
              "      fill: #1967D2;\n",
              "      height: 32px;\n",
              "      padding: 0 0 0 0;\n",
              "      width: 32px;\n",
              "    }\n",
              "\n",
              "    .colab-df-convert:hover {\n",
              "      background-color: #E2EBFA;\n",
              "      box-shadow: 0px 1px 2px rgba(60, 64, 67, 0.3), 0px 1px 3px 1px rgba(60, 64, 67, 0.15);\n",
              "      fill: #174EA6;\n",
              "    }\n",
              "\n",
              "    [theme=dark] .colab-df-convert {\n",
              "      background-color: #3B4455;\n",
              "      fill: #D2E3FC;\n",
              "    }\n",
              "\n",
              "    [theme=dark] .colab-df-convert:hover {\n",
              "      background-color: #434B5C;\n",
              "      box-shadow: 0px 1px 3px 1px rgba(0, 0, 0, 0.15);\n",
              "      filter: drop-shadow(0px 1px 2px rgba(0, 0, 0, 0.3));\n",
              "      fill: #FFFFFF;\n",
              "    }\n",
              "  </style>\n",
              "\n",
              "      <script>\n",
              "        const buttonEl =\n",
              "          document.querySelector('#df-8f0d9853-9c7f-4a71-a592-8c505af3a447 button.colab-df-convert');\n",
              "        buttonEl.style.display =\n",
              "          google.colab.kernel.accessAllowed ? 'block' : 'none';\n",
              "\n",
              "        async function convertToInteractive(key) {\n",
              "          const element = document.querySelector('#df-8f0d9853-9c7f-4a71-a592-8c505af3a447');\n",
              "          const dataTable =\n",
              "            await google.colab.kernel.invokeFunction('convertToInteractive',\n",
              "                                                     [key], {});\n",
              "          if (!dataTable) return;\n",
              "\n",
              "          const docLinkHtml = 'Like what you see? Visit the ' +\n",
              "            '<a target=\"_blank\" href=https://colab.research.google.com/notebooks/data_table.ipynb>data table notebook</a>'\n",
              "            + ' to learn more about interactive tables.';\n",
              "          element.innerHTML = '';\n",
              "          dataTable['output_type'] = 'display_data';\n",
              "          await google.colab.output.renderOutput(dataTable, element);\n",
              "          const docLink = document.createElement('div');\n",
              "          docLink.innerHTML = docLinkHtml;\n",
              "          element.appendChild(docLink);\n",
              "        }\n",
              "      </script>\n",
              "    </div>\n",
              "  </div>\n",
              "  "
            ]
          },
          "metadata": {},
          "execution_count": 490
        }
      ]
    },
    {
      "cell_type": "markdown",
      "source": [
        "- **그래프 (선형 그래프)**    \n",
        "그래프 가로 15 / 세로 5  \n",
        "1열 2행 그래프 배치  "
      ],
      "metadata": {
        "id": "xn9H6HIoNwrA"
      }
    },
    {
      "cell_type": "code",
      "source": [
        "plt.figure(figsize=(15, 5))\n",
        "\n",
        "plt.subplot(1,2,1)\n",
        "sns.lineplot(x = X_test_df['temp'], y = X_test_df['count'])\n",
        "\n",
        "plt.subplot(1,2,2)\n",
        "sns.lineplot(x = X_test_df['humidity'], y = X_test_df['count'])\n",
        "\n",
        "plt.show()"
      ],
      "metadata": {
        "colab": {
          "base_uri": "https://localhost:8080/",
          "height": 334
        },
        "id": "TV6q3ykONtpB",
        "outputId": "b3ee3ec4-7590-483c-94de-7869154aba95"
      },
      "execution_count": null,
      "outputs": [
        {
          "output_type": "display_data",
          "data": {
            "text/plain": [
              "<Figure size 1080x360 with 2 Axes>"
            ],
            "image/png": "[encoded data removed]"
          },
          "metadata": {
            "needs_background": "light"
          }
        }
      ]
    },
    {
      "cell_type": "markdown",
      "source": [
        "## 📑 **(8) 결론**"
      ],
      "metadata": {
        "id": "o85gx_6bgl3l"
      }
    },
    {
      "cell_type": "markdown",
      "source": [
        "그래프 형태를 보면 대체적으로 첫번째 그래프는 상승 곡선을, 두번째 그래프는 하향 곡선을 그리고 있다. 이를 통해 35도 정도까지는 온도가 높을수록 자전거를 탈 확률이 높지만 이후부터는 적어질 것이라고 예측할 수 있다. 또한 습도 20도 이하의 경우 자전거를 탈 확률이 낮지만, 습도 20도에 가파르게 자전거를 탈 확률이 상승해서 그 이후부터는 습도가 올라갈수록 자전거를 탈 확률이 낮아진다는 예측이 가능하다."
      ],
      "metadata": {
        "id": "fZ0E3sE4glnZ"
      }
    },
    {
      "cell_type": "markdown",
      "source": [
        "<hr>"
      ],
      "metadata": {
        "id": "tqbakjcKV9fR"
      }
    }
  ]
}