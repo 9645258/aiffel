{
  "nbformat": 4,
  "nbformat_minor": 0,
  "metadata": {
    "colab": {
      "name": "[E-11]exploration.ipynb",
      "provenance": [],
      "collapsed_sections": [
        "AjKpS7L--Z6f",
        "D82hKaDfMMeO",
        "H9W42ajYM5Aq",
        "BZaJaVtHntyE",
        "C1d-ppoA8eoz",
        "4W3zK8LY8nXb",
        "Wl-qyNDB-mJC",
        "fF6-tMbfAnf_",
        "X5HuL4qrBuBy",
        "L8VdhMUeC3rT",
        "WynS6LFaC6ry",
        "6vnE2iSDGVg6",
        "5BgeyasZ7b67",
        "iBFnXaQL7iuL",
        "aAFKx-sf7sjv",
        "8oZ8uIiN8B3h",
        "PyzjJrU_8Vza",
        "qcB1uz8D9GbR",
        "vWX9l_D39ba-",
        "jC_MbSXj9yAO",
        "5reZLsH_-P7g",
        "7lE6yooj-z2W",
        "AOh81Ga0-qSG",
        "iL9tHo07_l3j",
        "bt0usnyEACw-",
        "TmtfOQ3CChIn",
        "3w5hpwaqCmxe",
        "9A6q8HuxC1ZI",
        "1A7HBXnaAHVp",
        "xhTusUgGArcQ",
        "gmqM5pKkGZjc"
      ],
      "machine_shape": "hm",
      "authorship_tag": "ABX9TyOhElEkyqoPnm15AdBRi+p/",
      "include_colab_link": true
    },
    "kernelspec": {
      "name": "python3",
      "display_name": "Python 3"
    },
    "language_info": {
      "name": "python"
    },
    "accelerator": "TPU"
  },
  "cells": [
    {
      "cell_type": "markdown",
      "metadata": {
        "id": "view-in-github",
        "colab_type": "text"
      },
      "source": [
        "<a href=\"https://colab.research.google.com/github/9645258/aiffel/blob/main/01_exploration/%5BE-11%5Dexploration.ipynb\" target=\"_parent\"><img src=\"https://colab.research.google.com/assets/colab-badge.svg\" alt=\"Open In Colab\"/></a>"
      ]
    },
    {
      "cell_type": "markdown",
      "source": [
        "# **🌲 EXPLORATION 11-1 :한국어 데이터로 챗봇 만들기**"
      ],
      "metadata": {
        "id": "Doxa4rj7-MnH"
      }
    },
    {
      "cell_type": "markdown",
      "source": [
        "## **🌿 01_데이터 준비**"
      ],
      "metadata": {
        "id": "5Tr-Wc4Y-SbO"
      }
    },
    {
      "cell_type": "markdown",
      "source": [
        "### **🍃 01-1_필요 라이브러리 import**"
      ],
      "metadata": {
        "id": "AjKpS7L--Z6f"
      }
    },
    {
      "cell_type": "markdown",
      "source": [
        "- **os** (운영체제)  \n",
        "- **re** (정규 표현식)  \n",
        "- **numpy**  (수 표현)  \n",
        "- **pandas** (데이터 프레임)  \n",
        "- **matplotlib** (시각화)  \n",
        "- **tensorflow** (딥러닝 프로그램 구현)  \n",
        "- **tensorflow_datasets** (텐서플로 내장 데이터 셋 사용)  \n",
        "SubwordTextEncoder를 토크나이저로 사용"
      ],
      "metadata": {
        "id": "MFpAUlAHLKpx"
      }
    },
    {
      "cell_type": "code",
      "source": [
        "import os\n",
        "import re\n",
        "import numpy as np\n",
        "import pandas as pd\n",
        "import matplotlib.pyplot as plt\n",
        "import tensorflow as tf\n",
        "import tensorflow_datasets as tfds"
      ],
      "metadata": {
        "id": "bNTUBW2oLDQ9"
      },
      "execution_count": null,
      "outputs": []
    },
    {
      "cell_type": "markdown",
      "source": [
        "### **🍃 01-2_필요 데이터 import**"
      ],
      "metadata": {
        "id": "D82hKaDfMMeO"
      }
    },
    {
      "cell_type": "markdown",
      "source": [
        "- **구글 드라이브 마운트**"
      ],
      "metadata": {
        "id": "iyuApCJFMVgh"
      }
    },
    {
      "cell_type": "code",
      "source": [
        "from google.colab import drive\n",
        "drive.mount('/content/drive')"
      ],
      "metadata": {
        "colab": {
          "base_uri": "https://localhost:8080/"
        },
        "id": "cBuRe6uPMNXU",
        "outputId": "bc7f400f-15d4-4356-9bf6-ead59fcbecfe"
      },
      "execution_count": null,
      "outputs": [
        {
          "output_type": "stream",
          "name": "stdout",
          "text": [
            "Drive already mounted at /content/drive; to attempt to forcibly remount, call drive.mount(\"/content/drive\", force_remount=True).\n"
          ]
        }
      ]
    },
    {
      "cell_type": "code",
      "source": [
        "% cd /content/drive/MyDrive/Colab Notebooks/aiffel/01-2_exploration/E-11/data"
      ],
      "metadata": {
        "colab": {
          "base_uri": "https://localhost:8080/"
        },
        "id": "yeMbkMWuMQSP",
        "outputId": "57425726-7a2a-4c86-e85c-c9f01ad46043"
      },
      "execution_count": null,
      "outputs": [
        {
          "output_type": "stream",
          "name": "stdout",
          "text": [
            "/content/drive/MyDrive/Colab Notebooks/aiffel/01-2_exploration/E-11/data\n"
          ]
        }
      ]
    },
    {
      "cell_type": "markdown",
      "source": [
        "- **학습 데이터 import**"
      ],
      "metadata": {
        "id": "yIsAtwPJMWRJ"
      }
    },
    {
      "cell_type": "code",
      "source": [
        "chatbot_data = pd.read_csv('/content/drive/MyDrive/Colab Notebooks/aiffel/01-2_exploration/E-11/data/ChatbotData.csv')"
      ],
      "metadata": {
        "id": "luHPP7X1MXvh"
      },
      "execution_count": null,
      "outputs": []
    },
    {
      "cell_type": "markdown",
      "source": [
        "### **🍃 01-3_데이터 확인**"
      ],
      "metadata": {
        "id": "H9W42ajYM5Aq"
      }
    },
    {
      "cell_type": "markdown",
      "source": [
        "- **데이터 확인**  \n",
        "3개 열 (Q:질문, A:답변, label)  \n",
        "전체 데이터: 11,823개  \n",
        "질문 데이터: 11,823개  \n",
        "답변 데이터: 11,823개"
      ],
      "metadata": {
        "id": "lxY3NxypmlEs"
      }
    },
    {
      "cell_type": "code",
      "source": [
        "chatbot_data"
      ],
      "metadata": {
        "colab": {
          "base_uri": "https://localhost:8080/"
        },
        "id": "5-VoW07EM1_6",
        "outputId": "3ee53fcf-cc46-41f2-e657-7fa15c5f63af"
      },
      "execution_count": null,
      "outputs": [
        {
          "output_type": "execute_result",
          "data": {
            "text/plain": [
              "                             Q                         A  label\n",
              "0                       12시 땡!                하루가 또 가네요.      0\n",
              "1                  1지망 학교 떨어졌어                 위로해 드립니다.      0\n",
              "2                 3박4일 놀러가고 싶다               여행은 언제나 좋죠.      0\n",
              "3              3박4일 정도 놀러가고 싶다               여행은 언제나 좋죠.      0\n",
              "4                      PPL 심하네                눈살이 찌푸려지죠.      0\n",
              "...                        ...                       ...    ...\n",
              "11818           훔쳐보는 것도 눈치 보임.        티가 나니까 눈치가 보이는 거죠!      2\n",
              "11819           훔쳐보는 것도 눈치 보임.             훔쳐보는 거 티나나봐요.      2\n",
              "11820              흑기사 해주는 짝남.                    설렜겠어요.      2\n",
              "11821  힘든 연애 좋은 연애라는게 무슨 차이일까?  잘 헤어질 수 있는 사이 여부인 거 같아요.      2\n",
              "11822               힘들어서 결혼할까봐        도피성 결혼은 하지 않길 바라요.      2\n",
              "\n",
              "[11823 rows x 3 columns]"
            ],
            "text/html": [
              "\n",
              "  <div id=\"df-e0652908-d576-4cb9-94c3-ecc9f11d3b6e\">\n",
              "    <div class=\"colab-df-container\">\n",
              "      <div>\n",
              "<style scoped>\n",
              "    .dataframe tbody tr th:only-of-type {\n",
              "        vertical-align: middle;\n",
              "    }\n",
              "\n",
              "    .dataframe tbody tr th {\n",
              "        vertical-align: top;\n",
              "    }\n",
              "\n",
              "    .dataframe thead th {\n",
              "        text-align: right;\n",
              "    }\n",
              "</style>\n",
              "<table border=\"1\" class=\"dataframe\">\n",
              "  <thead>\n",
              "    <tr style=\"text-align: right;\">\n",
              "      <th></th>\n",
              "      <th>Q</th>\n",
              "      <th>A</th>\n",
              "      <th>label</th>\n",
              "    </tr>\n",
              "  </thead>\n",
              "  <tbody>\n",
              "    <tr>\n",
              "      <th>0</th>\n",
              "      <td>12시 땡!</td>\n",
              "      <td>하루가 또 가네요.</td>\n",
              "      <td>0</td>\n",
              "    </tr>\n",
              "    <tr>\n",
              "      <th>1</th>\n",
              "      <td>1지망 학교 떨어졌어</td>\n",
              "      <td>위로해 드립니다.</td>\n",
              "      <td>0</td>\n",
              "    </tr>\n",
              "    <tr>\n",
              "      <th>2</th>\n",
              "      <td>3박4일 놀러가고 싶다</td>\n",
              "      <td>여행은 언제나 좋죠.</td>\n",
              "      <td>0</td>\n",
              "    </tr>\n",
              "    <tr>\n",
              "      <th>3</th>\n",
              "      <td>3박4일 정도 놀러가고 싶다</td>\n",
              "      <td>여행은 언제나 좋죠.</td>\n",
              "      <td>0</td>\n",
              "    </tr>\n",
              "    <tr>\n",
              "      <th>4</th>\n",
              "      <td>PPL 심하네</td>\n",
              "      <td>눈살이 찌푸려지죠.</td>\n",
              "      <td>0</td>\n",
              "    </tr>\n",
              "    <tr>\n",
              "      <th>...</th>\n",
              "      <td>...</td>\n",
              "      <td>...</td>\n",
              "      <td>...</td>\n",
              "    </tr>\n",
              "    <tr>\n",
              "      <th>11818</th>\n",
              "      <td>훔쳐보는 것도 눈치 보임.</td>\n",
              "      <td>티가 나니까 눈치가 보이는 거죠!</td>\n",
              "      <td>2</td>\n",
              "    </tr>\n",
              "    <tr>\n",
              "      <th>11819</th>\n",
              "      <td>훔쳐보는 것도 눈치 보임.</td>\n",
              "      <td>훔쳐보는 거 티나나봐요.</td>\n",
              "      <td>2</td>\n",
              "    </tr>\n",
              "    <tr>\n",
              "      <th>11820</th>\n",
              "      <td>흑기사 해주는 짝남.</td>\n",
              "      <td>설렜겠어요.</td>\n",
              "      <td>2</td>\n",
              "    </tr>\n",
              "    <tr>\n",
              "      <th>11821</th>\n",
              "      <td>힘든 연애 좋은 연애라는게 무슨 차이일까?</td>\n",
              "      <td>잘 헤어질 수 있는 사이 여부인 거 같아요.</td>\n",
              "      <td>2</td>\n",
              "    </tr>\n",
              "    <tr>\n",
              "      <th>11822</th>\n",
              "      <td>힘들어서 결혼할까봐</td>\n",
              "      <td>도피성 결혼은 하지 않길 바라요.</td>\n",
              "      <td>2</td>\n",
              "    </tr>\n",
              "  </tbody>\n",
              "</table>\n",
              "<p>11823 rows × 3 columns</p>\n",
              "</div>\n",
              "      <button class=\"colab-df-convert\" onclick=\"convertToInteractive('df-e0652908-d576-4cb9-94c3-ecc9f11d3b6e')\"\n",
              "              title=\"Convert this dataframe to an interactive table.\"\n",
              "              style=\"display:none;\">\n",
              "        \n",
              "  <svg xmlns=\"http://www.w3.org/2000/svg\" height=\"24px\"viewBox=\"0 0 24 24\"\n",
              "       width=\"24px\">\n",
              "    <path d=\"M0 0h24v24H0V0z\" fill=\"none\"/>\n",
              "    <path d=\"M18.56 5.44l.94 2.06.94-2.06 2.06-.94-2.06-.94-.94-2.06-.94 2.06-2.06.94zm-11 1L8.5 8.5l.94-2.06 2.06-.94-2.06-.94L8.5 2.5l-.94 2.06-2.06.94zm10 10l.94 2.06.94-2.06 2.06-.94-2.06-.94-.94-2.06-.94 2.06-2.06.94z\"/><path d=\"M17.41 7.96l-1.37-1.37c-.4-.4-.92-.59-1.43-.59-.52 0-1.04.2-1.43.59L10.3 9.45l-7.72 7.72c-.78.78-.78 2.05 0 2.83L4 21.41c.39.39.9.59 1.41.59.51 0 1.02-.2 1.41-.59l7.78-7.78 2.81-2.81c.8-.78.8-2.07 0-2.86zM5.41 20L4 18.59l7.72-7.72 1.47 1.35L5.41 20z\"/>\n",
              "  </svg>\n",
              "      </button>\n",
              "      \n",
              "  <style>\n",
              "    .colab-df-container {\n",
              "      display:flex;\n",
              "      flex-wrap:wrap;\n",
              "      gap: 12px;\n",
              "    }\n",
              "\n",
              "    .colab-df-convert {\n",
              "      background-color: #E8F0FE;\n",
              "      border: none;\n",
              "      border-radius: 50%;\n",
              "      cursor: pointer;\n",
              "      display: none;\n",
              "      fill: #1967D2;\n",
              "      height: 32px;\n",
              "      padding: 0 0 0 0;\n",
              "      width: 32px;\n",
              "    }\n",
              "\n",
              "    .colab-df-convert:hover {\n",
              "      background-color: #E2EBFA;\n",
              "      box-shadow: 0px 1px 2px rgba(60, 64, 67, 0.3), 0px 1px 3px 1px rgba(60, 64, 67, 0.15);\n",
              "      fill: #174EA6;\n",
              "    }\n",
              "\n",
              "    [theme=dark] .colab-df-convert {\n",
              "      background-color: #3B4455;\n",
              "      fill: #D2E3FC;\n",
              "    }\n",
              "\n",
              "    [theme=dark] .colab-df-convert:hover {\n",
              "      background-color: #434B5C;\n",
              "      box-shadow: 0px 1px 3px 1px rgba(0, 0, 0, 0.15);\n",
              "      filter: drop-shadow(0px 1px 2px rgba(0, 0, 0, 0.3));\n",
              "      fill: #FFFFFF;\n",
              "    }\n",
              "  </style>\n",
              "\n",
              "      <script>\n",
              "        const buttonEl =\n",
              "          document.querySelector('#df-e0652908-d576-4cb9-94c3-ecc9f11d3b6e button.colab-df-convert');\n",
              "        buttonEl.style.display =\n",
              "          google.colab.kernel.accessAllowed ? 'block' : 'none';\n",
              "\n",
              "        async function convertToInteractive(key) {\n",
              "          const element = document.querySelector('#df-e0652908-d576-4cb9-94c3-ecc9f11d3b6e');\n",
              "          const dataTable =\n",
              "            await google.colab.kernel.invokeFunction('convertToInteractive',\n",
              "                                                     [key], {});\n",
              "          if (!dataTable) return;\n",
              "\n",
              "          const docLinkHtml = 'Like what you see? Visit the ' +\n",
              "            '<a target=\"_blank\" href=https://colab.research.google.com/notebooks/data_table.ipynb>data table notebook</a>'\n",
              "            + ' to learn more about interactive tables.';\n",
              "          element.innerHTML = '';\n",
              "          dataTable['output_type'] = 'display_data';\n",
              "          await google.colab.output.renderOutput(dataTable, element);\n",
              "          const docLink = document.createElement('div');\n",
              "          docLink.innerHTML = docLinkHtml;\n",
              "          element.appendChild(docLink);\n",
              "        }\n",
              "      </script>\n",
              "    </div>\n",
              "  </div>\n",
              "  "
            ]
          },
          "metadata": {},
          "execution_count": 5
        }
      ]
    },
    {
      "cell_type": "code",
      "source": [
        "print('전체 데이터 수:', len(chatbot_data))\n",
        "print('질문(Q) 데이터 수:', len(chatbot_data['Q']))\n",
        "print('답변(A) 데이터 수:', len(chatbot_data['A']))"
      ],
      "metadata": {
        "colab": {
          "base_uri": "https://localhost:8080/"
        },
        "id": "acq0Qvkpos9y",
        "outputId": "b92dfaf0-883d-43a9-93f3-dcb8c2263588"
      },
      "execution_count": null,
      "outputs": [
        {
          "output_type": "stream",
          "name": "stdout",
          "text": [
            "전체 데이터 수: 11823\n",
            "질문(Q) 데이터 수: 11823\n",
            "답변(A) 데이터 수: 11823\n"
          ]
        }
      ]
    },
    {
      "cell_type": "markdown",
      "source": [
        "## **🌿 02_데이터 전처리**"
      ],
      "metadata": {
        "id": "BZaJaVtHntyE"
      }
    },
    {
      "cell_type": "markdown",
      "source": [
        "### **🍃 02-1_정규 표현식**"
      ],
      "metadata": {
        "id": "C1d-ppoA8eoz"
      }
    },
    {
      "cell_type": "markdown",
      "source": [
        "\n",
        "- **정규 표현식**  \n",
        "    - **re.sub(정규 표현식 검색 패턴, 검색 대상 문자열, 변경하고 싶은 문자)**  \n",
        "- **문자열 대소문자 변환**  \n",
        "    - **upper()** : 소문자 → 대문자  \n",
        "    - **lower()** : 대문자 → 소문자  \n",
        "    - **capitalize()** : 맨 첫 글자만 대문자  \n",
        "    - **title()** : 알파벳 외의 문자로 나눠져 있는 영단어들의 맨 첫글자만 대문자  \n",
        "- **공백 제거**  \n",
        "    - **strip()** : 양 옆 공백 제거  \n",
        "    - **lstrip()** : 왼쪽 공백 제거  \n",
        "    - **rstrip()** : 오른쪽 공백 제거  "
      ],
      "metadata": {
        "id": "kwh9ngx21vyn"
      }
    },
    {
      "cell_type": "code",
      "source": [
        "def preprocess_sentence(sentence):\n",
        "    #영문 대문자 표기 (줄임말 사용이 많으므로 대문자 사용)\n",
        "    sentence = sentence.upper().strip()\n",
        "\n",
        "    # 단어와 특수기호 사이에 공백 생성\n",
        "    sentence = re.sub(r\"([?.!,])\", r\" \\1 \", sentence)\n",
        "    sentence = re.sub(r'[\" \"]+', \" \", sentence)\n",
        "\n",
        "    # a-z, A-Z, 특수기호, 숫자, 한글을 제외한 모든 글자 공백으로 대체\n",
        "    sentence = re.sub(r\"[^a-zA-Z0-9가-힣ㄱ-ㅎㅏ-ㅣ?.!,]+\", \" \", sentence)\n",
        "    sentence = sentence.strip()\n",
        "\n",
        "    return sentence"
      ],
      "metadata": {
        "id": "u014_gH0qUGj"
      },
      "execution_count": null,
      "outputs": []
    },
    {
      "cell_type": "markdown",
      "source": [
        "### **🍃 02-2_질문/답변 데이터셋 구성 및 확인**"
      ],
      "metadata": {
        "id": "4W3zK8LY8nXb"
      }
    },
    {
      "cell_type": "markdown",
      "source": [
        "- **질문/답변 데이터셋 구성**"
      ],
      "metadata": {
        "id": "Ld7OfjXw9QRD"
      }
    },
    {
      "cell_type": "code",
      "source": [
        "def load_conversations(questions, answers):\n",
        "    inputs, outputs = [], []\n",
        "    \n",
        "    for question, answer in zip(questions, answers):\n",
        "        inputs.append(preprocess_sentence(question))\n",
        "        outputs.append(preprocess_sentence(answer))\n",
        "        \n",
        "    return inputs, outputs"
      ],
      "metadata": {
        "id": "VX0_joCT7_qF"
      },
      "execution_count": null,
      "outputs": []
    },
    {
      "cell_type": "code",
      "source": [
        "questions, answers = load_conversations(chatbot_data['Q'], chatbot_data['A'])"
      ],
      "metadata": {
        "id": "E6IluQra9_ww"
      },
      "execution_count": null,
      "outputs": []
    },
    {
      "cell_type": "markdown",
      "source": [
        "- **질문/답변 데이터셋 수 확인**"
      ],
      "metadata": {
        "id": "5L2fyfiy9UAm"
      }
    },
    {
      "cell_type": "code",
      "source": [
        "print('질문(Q) 데이터 수:', len(questions))\n",
        "print('답변(A) 데이터 수:', len(answers))"
      ],
      "metadata": {
        "colab": {
          "base_uri": "https://localhost:8080/"
        },
        "id": "qlkMQkyi9YiX",
        "outputId": "ebaa3b22-f57f-4af1-cc7b-579cd7783402"
      },
      "execution_count": null,
      "outputs": [
        {
          "output_type": "stream",
          "name": "stdout",
          "text": [
            "질문(Q) 데이터 수: 11823\n",
            "답변(A) 데이터 수: 11823\n"
          ]
        }
      ]
    },
    {
      "cell_type": "markdown",
      "source": [
        "- **질문/답변 데이터셋 병렬 확인**  \n",
        "특수기호가 공백으로 분리됨 / 본문 병렬 저장 확인"
      ],
      "metadata": {
        "id": "KSMaYBz-95w3"
      }
    },
    {
      "cell_type": "code",
      "source": [
        "print('전처리 후의 60번째 질문 샘플: {}'.format(questions[59]))\n",
        "print('전처리 후의 60번째 답변 샘플: {}'.format(answers[59]))"
      ],
      "metadata": {
        "colab": {
          "base_uri": "https://localhost:8080/"
        },
        "id": "WpwolbdL97dM",
        "outputId": "5c5081ba-1f3e-44fb-e98a-480a0a641575"
      },
      "execution_count": null,
      "outputs": [
        {
          "output_type": "stream",
          "name": "stdout",
          "text": [
            "전처리 후의 60번째 질문 샘플: 감정이 쓰레기통처럼 엉망진창이야\n",
            "전처리 후의 60번째 답변 샘플: 자신을 더 사랑해주세요 .\n"
          ]
        }
      ]
    },
    {
      "cell_type": "markdown",
      "source": [
        "## **🌿 03_토큰화**"
      ],
      "metadata": {
        "id": "Wl-qyNDB-mJC"
      }
    },
    {
      "cell_type": "markdown",
      "source": [
        "### **🍃 03-1_토크나이저**"
      ],
      "metadata": {
        "id": "fF6-tMbfAnf_"
      }
    },
    {
      "cell_type": "markdown",
      "source": [
        "- **질문과 답변 데이터 셋을 활용한 단어장 생성**  \n",
        "각 단어에 고유한 정수 인덱스 부여  "
      ],
      "metadata": {
        "id": "pSCBJqmT_17U"
      }
    },
    {
      "cell_type": "code",
      "source": [
        "tokenizer = tfds.deprecated.text.SubwordTextEncoder.build_from_corpus(questions + answers, target_vocab_size = 2**13)"
      ],
      "metadata": {
        "id": "LJkjxQfF_2q0"
      },
      "execution_count": null,
      "outputs": []
    },
    {
      "cell_type": "markdown",
      "source": [
        "### **🍃 03-2_시작, 끝 토큰 추가**"
      ],
      "metadata": {
        "id": "X5HuL4qrBuBy"
      }
    },
    {
      "cell_type": "markdown",
      "source": [
        "- **디코더의 문정 생성 과정에서 사용할 시작토큰과 종료토큰 임의로 단어장에 추가해 정수를 부여**  "
      ],
      "metadata": {
        "id": "XXCJ5DEBAiJq"
      }
    },
    {
      "cell_type": "code",
      "source": [
        "START_TOKEN, END_TOKEN = [tokenizer.vocab_size], [tokenizer.vocab_size + 1]"
      ],
      "metadata": {
        "id": "DkJZMdLcAjs8"
      },
      "execution_count": null,
      "outputs": []
    },
    {
      "cell_type": "markdown",
      "source": [
        "- **토큰 2개(시작, 종료)를 추가하므로 단어장의 크기에 2개 추가**"
      ],
      "metadata": {
        "id": "7XGEFPR5COzs"
      }
    },
    {
      "cell_type": "code",
      "source": [
        "VOCAB_SIZE = tokenizer.vocab_size + 2"
      ],
      "metadata": {
        "id": "3vrJrPyAB3cO"
      },
      "execution_count": null,
      "outputs": []
    },
    {
      "cell_type": "markdown",
      "source": [
        "### **🍃 03-3_정수 인코딩 / 패딩**"
      ],
      "metadata": {
        "id": "L8VdhMUeC3rT"
      }
    },
    {
      "cell_type": "markdown",
      "source": [
        "- **최대 길이 40으로 패딩 진행**"
      ],
      "metadata": {
        "id": "4-eZpT1tFord"
      }
    },
    {
      "cell_type": "code",
      "source": [
        "MAX_LENGTH = 40"
      ],
      "metadata": {
        "id": "V1qpCCp2FpAn"
      },
      "execution_count": null,
      "outputs": []
    },
    {
      "cell_type": "markdown",
      "source": [
        "- **정수 인코딩, 최대 길이를 초과하는 샘플 제거, 패딩 진행 함수**"
      ],
      "metadata": {
        "id": "onU1tZfxEPYU"
      }
    },
    {
      "cell_type": "code",
      "source": [
        "def tokenize_and_filter(inputs, outputs):\n",
        "    tokenized_inputs, tokenized_outputs = [], []\n",
        "    \n",
        "    for (sentence1, sentence2) in zip(inputs, outputs):\n",
        "        # 시작 토큰, 종료 토큰 추가\n",
        "        sentence1 = START_TOKEN + tokenizer.encode(sentence1) + END_TOKEN\n",
        "        sentence2 = START_TOKEN + tokenizer.encode(sentence2) + END_TOKEN\n",
        "\n",
        "        # 최대 길이 40 이하인 경우에만 데이터셋으로 허용\n",
        "        if len(sentence1) <= MAX_LENGTH and len(sentence2) <= MAX_LENGTH:\n",
        "            tokenized_inputs.append(sentence1)\n",
        "            tokenized_outputs.append(sentence2)\n",
        "  \n",
        "  # 패딩: 최대 길이 - 40\n",
        "    tokenized_inputs = tf.keras.preprocessing.sequence.pad_sequences(tokenized_inputs, maxlen=MAX_LENGTH, padding='post')\n",
        "    tokenized_outputs = tf.keras.preprocessing.sequence.pad_sequences(tokenized_outputs, maxlen=MAX_LENGTH, padding='post')\n",
        "  \n",
        "    return tokenized_inputs, tokenized_outputs"
      ],
      "metadata": {
        "id": "ww2oNqZTDvtB"
      },
      "execution_count": null,
      "outputs": []
    },
    {
      "cell_type": "code",
      "source": [
        "questions, answers = tokenize_and_filter(questions, answers)"
      ],
      "metadata": {
        "id": "H6XcbJ-TDzeL"
      },
      "execution_count": null,
      "outputs": []
    },
    {
      "cell_type": "code",
      "source": [
        "print('단어장 크기:', (VOCAB_SIZE))\n",
        "print('토큰나이징 후 질문(Q) 샘플 개수: {}'.format(len(questions)))\n",
        "print('토큰나이징 후 답변(A) 샘플 개수: {}'.format(len(answers)))"
      ],
      "metadata": {
        "colab": {
          "base_uri": "https://localhost:8080/"
        },
        "id": "wmSijRXBDNAq",
        "outputId": "e86562b7-8124-4e2c-aa17-ab970fbf2ab6"
      },
      "execution_count": null,
      "outputs": [
        {
          "output_type": "stream",
          "name": "stdout",
          "text": [
            "단어장 크기: 8172\n",
            "토큰나이징 후 질문(Q) 샘플 개수: 11823\n",
            "토큰나이징 후 답변(A) 샘플 개수: 11823\n"
          ]
        }
      ]
    },
    {
      "cell_type": "markdown",
      "source": [
        "### **🍃 03-4_교사강요 사용**"
      ],
      "metadata": {
        "id": "WynS6LFaC6ry"
      }
    },
    {
      "cell_type": "code",
      "source": [
        "BATCH_SIZE = 64\n",
        "BUFFER_SIZE = 11823\n",
        "\n",
        "dataset = tf.data.Dataset.from_tensor_slices((\n",
        "    {\n",
        "        'inputs': questions,\n",
        "        'dec_inputs': answers[:, :-1]\n",
        "    },\n",
        "    {\n",
        "        'outputs': answers[:, 1:]\n",
        "    },\n",
        "))\n",
        "\n",
        "dataset = dataset.cache()\n",
        "dataset = dataset.shuffle(BUFFER_SIZE)\n",
        "dataset = dataset.batch(BATCH_SIZE)\n",
        "dataset = dataset.prefetch(tf.data.experimental.AUTOTUNE)"
      ],
      "metadata": {
        "id": "1VfUGH16GHvg"
      },
      "execution_count": null,
      "outputs": []
    },
    {
      "cell_type": "markdown",
      "source": [
        "## **🌿 04_모델 구성**"
      ],
      "metadata": {
        "id": "6vnE2iSDGVg6"
      }
    },
    {
      "cell_type": "markdown",
      "source": [
        "### **🍃 04-1_포지셔널 인코딩**"
      ],
      "metadata": {
        "id": "5BgeyasZ7b67"
      }
    },
    {
      "cell_type": "code",
      "source": [
        "class PositionalEncoding(tf.keras.layers.Layer):\n",
        "\n",
        "    def __init__(self, position, d_model):\n",
        "        super(PositionalEncoding, self).__init__()\n",
        "        self.pos_encoding = self.positional_encoding(position, d_model)\n",
        "\n",
        "    def get_angles(self, position, i, d_model):\n",
        "        angles = 1 / tf.pow(10000, (2 * (i // 2)) /\n",
        "                            tf.cast(d_model, tf.float32))\n",
        "        return position * angles\n",
        "\n",
        "    def positional_encoding(self, position, d_model):\n",
        "        angle_rads = self.get_angles(\n",
        "            position=tf.range(position, dtype=tf.float32)[:, tf.newaxis],\n",
        "            i=tf.range(d_model, dtype=tf.float32)[tf.newaxis, :],\n",
        "            d_model=d_model)\n",
        "\n",
        "        sines = tf.math.sin(angle_rads[:, 0::2])\n",
        "        cosines = tf.math.cos(angle_rads[:, 1::2])\n",
        "\n",
        "        pos_encoding = tf.concat([sines, cosines], axis=-1)\n",
        "        pos_encoding = pos_encoding[tf.newaxis, ...]\n",
        "        return tf.cast(pos_encoding, tf.float32)\n",
        "\n",
        "    def call(self, inputs):\n",
        "        return inputs + self.pos_encoding[:, :tf.shape(inputs)[1], :]"
      ],
      "metadata": {
        "id": "TZQT0xXV7jQz"
      },
      "execution_count": null,
      "outputs": []
    },
    {
      "cell_type": "markdown",
      "source": [
        "### **🍃 04-2_스케일드 닷 프로덕트 어텐션**"
      ],
      "metadata": {
        "id": "iBFnXaQL7iuL"
      }
    },
    {
      "cell_type": "code",
      "source": [
        "def scaled_dot_product_attention(query, key, value, mask):\n",
        "    matmul_qk = tf.matmul(query, key, transpose_b=True)\n",
        "\n",
        "    depth = tf.cast(tf.shape(key)[-1], tf.float32)\n",
        "    logits = matmul_qk / tf.math.sqrt(depth)\n",
        "\n",
        "    if mask is not None:\n",
        "        logits += (mask * -1e9)\n",
        "\n",
        "    attention_weights = tf.nn.softmax(logits, axis=-1)\n",
        "\n",
        "    output = tf.matmul(attention_weights, value)\n",
        "\n",
        "    return output"
      ],
      "metadata": {
        "id": "YBAYZ9GA7rUG"
      },
      "execution_count": null,
      "outputs": []
    },
    {
      "cell_type": "markdown",
      "source": [
        "### **🍃 04-3_멀티 헤드 어텐션**"
      ],
      "metadata": {
        "id": "aAFKx-sf7sjv"
      }
    },
    {
      "cell_type": "code",
      "source": [
        "class MultiHeadAttention(tf.keras.layers.Layer):\n",
        "\n",
        "  def __init__(self, d_model, num_heads, name=\"multi_head_attention\"):\n",
        "    super(MultiHeadAttention, self).__init__(name=name)\n",
        "    self.num_heads = num_heads\n",
        "    self.d_model = d_model\n",
        "\n",
        "    assert d_model % self.num_heads == 0\n",
        "\n",
        "    self.depth = d_model // self.num_heads\n",
        "\n",
        "    self.query_dense = tf.keras.layers.Dense(units=d_model)\n",
        "    self.key_dense = tf.keras.layers.Dense(units=d_model)\n",
        "    self.value_dense = tf.keras.layers.Dense(units=d_model)\n",
        "\n",
        "    self.dense = tf.keras.layers.Dense(units=d_model)\n",
        "\n",
        "  def split_heads(self, inputs, batch_size):\n",
        "    inputs = tf.reshape(\n",
        "        inputs, shape=(batch_size, -1, self.num_heads, self.depth))\n",
        "    return tf.transpose(inputs, perm=[0, 2, 1, 3])\n",
        "\n",
        "  def call(self, inputs):\n",
        "    query, key, value, mask = inputs['query'], inputs['key'], inputs[\n",
        "        'value'], inputs['mask']\n",
        "    batch_size = tf.shape(query)[0]\n",
        "\n",
        "    # Q, K, V Dense를 적용\n",
        "    query = self.query_dense(query)\n",
        "    key = self.key_dense(key)\n",
        "    value = self.value_dense(value)\n",
        "\n",
        "    # 병렬 연산을 위한 머리\n",
        "    query = self.split_heads(query, batch_size)\n",
        "    key = self.split_heads(key, batch_size)\n",
        "    value = self.split_heads(value, batch_size)\n",
        "\n",
        "    # Scaled Dot Product Attention\n",
        "    scaled_attention = scaled_dot_product_attention(query, key, value, mask)\n",
        "\n",
        "    scaled_attention = tf.transpose(scaled_attention, perm=[0, 2, 1, 3])\n",
        "\n",
        "    # 어텐션 연산 후에 각 결과를 다시 연결\n",
        "    concat_attention = tf.reshape(scaled_attention,\n",
        "                                  (batch_size, -1, self.d_model))\n",
        "\n",
        "    # 최종 결과에 Dense 한 번 더 적용\n",
        "    outputs = self.dense(concat_attention)\n",
        "\n",
        "    return outputs"
      ],
      "metadata": {
        "id": "DmOwKt6e7-M8"
      },
      "execution_count": null,
      "outputs": []
    },
    {
      "cell_type": "markdown",
      "source": [
        "### **🍃 04-4_패딩 마스킹**"
      ],
      "metadata": {
        "id": "8oZ8uIiN8B3h"
      }
    },
    {
      "cell_type": "code",
      "source": [
        "def create_padding_mask(x):\n",
        "    mask = tf.cast(tf.math.equal(x, 0), tf.float32)\n",
        "    return mask[:, tf.newaxis, tf.newaxis, :]"
      ],
      "metadata": {
        "id": "j10n_wrZ8VTj"
      },
      "execution_count": null,
      "outputs": []
    },
    {
      "cell_type": "markdown",
      "source": [
        "### **🍃 04-5_룩 어헤드 마스킹**"
      ],
      "metadata": {
        "id": "PyzjJrU_8Vza"
      }
    },
    {
      "cell_type": "code",
      "source": [
        "def create_look_ahead_mask(x):\n",
        "    seq_len = tf.shape(x)[1]\n",
        "    look_ahead_mask = 1 - \\\n",
        "        tf.linalg.band_part(tf.ones((seq_len, seq_len)), -1, 0)\n",
        "    padding_mask = create_padding_mask(x)\n",
        "    return tf.maximum(look_ahead_mask, padding_mask)"
      ],
      "metadata": {
        "id": "fvAWaYhM8ndI"
      },
      "execution_count": null,
      "outputs": []
    },
    {
      "cell_type": "markdown",
      "source": [
        "### **🍃 04-6_인코더 층 생성**"
      ],
      "metadata": {
        "id": "qcB1uz8D9GbR"
      }
    },
    {
      "cell_type": "markdown",
      "source": [
        "- **하나의 레이어 안에 두개의 서브 레이어 존재**"
      ],
      "metadata": {
        "id": "Vt5xK9ga9R06"
      }
    },
    {
      "cell_type": "code",
      "source": [
        "def encoder_layer(units, d_model, num_heads, dropout, name=\"encoder_layer\"):\n",
        "  inputs = tf.keras.Input(shape=(None, d_model), name=\"inputs\")\n",
        "\n",
        "  # 패딩 마스크\n",
        "  padding_mask = tf.keras.Input(shape=(1, 1, None), name=\"padding_mask\")\n",
        "\n",
        "  # 첫 번째 서브 레이어 : 멀티 헤드 어텐션 수행 (셀프 어텐션)\n",
        "  attention = MultiHeadAttention(\n",
        "      d_model, num_heads, name=\"attention\")({\n",
        "          'query': inputs,\n",
        "          'key': inputs,\n",
        "          'value': inputs,\n",
        "          'mask': padding_mask\n",
        "      })\n",
        "\n",
        "  # 어텐션의 결과는 Dropout과 Layer Normalization이라는 훈련을 돕는 테크닉을 수행\n",
        "  attention = tf.keras.layers.Dropout(rate=dropout)(attention)\n",
        "  attention = tf.keras.layers.LayerNormalization(\n",
        "      epsilon=1e-6)(inputs + attention)\n",
        "\n",
        "  # 두 번째 서브 레이어 : 2개의 완전연결층\n",
        "  outputs = tf.keras.layers.Dense(units=units, activation='relu')(attention)\n",
        "  outputs = tf.keras.layers.Dense(units=d_model)(outputs)\n",
        "\n",
        "  # 완전연결층의 결과는 Dropout과 LayerNormalization이라는 훈련을 돕는 테크닉을 수행\n",
        "  outputs = tf.keras.layers.Dropout(rate=dropout)(outputs)\n",
        "  outputs = tf.keras.layers.LayerNormalization(\n",
        "      epsilon=1e-6)(attention + outputs)\n",
        "\n",
        "  return tf.keras.Model(inputs=[inputs, padding_mask], outputs=outputs, name=name)"
      ],
      "metadata": {
        "id": "v6VnUX-l9CuR"
      },
      "execution_count": null,
      "outputs": []
    },
    {
      "cell_type": "markdown",
      "source": [
        "### **🍃 04-7_인코더 층을 쌓아 인코더 생성**"
      ],
      "metadata": {
        "id": "vWX9l_D39ba-"
      }
    },
    {
      "cell_type": "code",
      "source": [
        "def encoder(vocab_size, num_layers, units, d_model, num_heads, dropout, name=\"encoder\"):\n",
        "  inputs = tf.keras.Input(shape=(None,), name=\"inputs\")\n",
        "\n",
        "  # 패딩 마스크\n",
        "  padding_mask = tf.keras.Input(shape=(1, 1, None), name=\"padding_mask\")\n",
        "\n",
        "  # 임베딩 레이어\n",
        "  embeddings = tf.keras.layers.Embedding(vocab_size, d_model)(inputs)\n",
        "  embeddings *= tf.math.sqrt(tf.cast(d_model, tf.float32))\n",
        "\n",
        "  # 포지셔널 인코딩\n",
        "  embeddings = PositionalEncoding(vocab_size, d_model)(embeddings)\n",
        "\n",
        "  outputs = tf.keras.layers.Dropout(rate=dropout)(embeddings)\n",
        "\n",
        "  # num_layers만큼 쌓아올린 인코더의 층\n",
        "  for i in range(num_layers):\n",
        "    outputs = encoder_layer(\n",
        "        units=units,\n",
        "        d_model=d_model,\n",
        "        num_heads=num_heads,\n",
        "        dropout=dropout,\n",
        "        name=\"encoder_layer_{}\".format(i),\n",
        "    )([outputs, padding_mask])\n",
        "\n",
        "  return tf.keras.Model(inputs=[inputs, padding_mask], outputs=outputs, name=name)"
      ],
      "metadata": {
        "id": "cxtPPRw-9j3_"
      },
      "execution_count": null,
      "outputs": []
    },
    {
      "cell_type": "markdown",
      "source": [
        "### **🍃 04-8_디코더 생성**"
      ],
      "metadata": {
        "id": "jC_MbSXj9yAO"
      }
    },
    {
      "cell_type": "markdown",
      "source": [
        "- **하나의 레이어 안에 세개의 서브 레이어 존재**"
      ],
      "metadata": {
        "id": "PoVXq7oR-Gi6"
      }
    },
    {
      "cell_type": "code",
      "source": [
        "def decoder_layer(units, d_model, num_heads, dropout, name=\"decoder_layer\"):\n",
        "  inputs = tf.keras.Input(shape=(None, d_model), name=\"inputs\")\n",
        "  enc_outputs = tf.keras.Input(shape=(None, d_model), name=\"encoder_outputs\")\n",
        "  look_ahead_mask = tf.keras.Input(\n",
        "      shape=(1, None, None), name=\"look_ahead_mask\")\n",
        "  padding_mask = tf.keras.Input(shape=(1, 1, None), name='padding_mask')\n",
        "\n",
        "  # 첫 번째 서브 레이어 : 멀티 헤드 어텐션 수행 (셀프 어텐션)\n",
        "  attention1 = MultiHeadAttention(\n",
        "      d_model, num_heads, name=\"attention_1\")(inputs={'query': inputs, 'key': inputs, 'value': inputs, 'mask': look_ahead_mask})\n",
        "\n",
        "  # 멀티 헤드 어텐션의 결과는 LayerNormalization이라는 훈련을 돕는 테크닉을 수행\n",
        "  attention1 = tf.keras.layers.LayerNormalization(\n",
        "      epsilon=1e-6)(attention1 + inputs)\n",
        "\n",
        "  # 두 번째 서브 레이어 : 마스크드 멀티 헤드 어텐션 수행 (인코더-디코더 어텐션)\n",
        "  attention2 = MultiHeadAttention(\n",
        "      d_model, num_heads, name=\"attention_2\")(inputs={'query': attention1, 'key': enc_outputs, 'value': enc_outputs, 'mask': padding_mask})\n",
        "\n",
        "  # 마스크드 멀티 헤드 어텐션의 결과는 Dropout과 LayerNormalization이라는 훈련을 돕는 테크닉을 수행\n",
        "  attention2 = tf.keras.layers.Dropout(rate=dropout)(attention2)\n",
        "  attention2 = tf.keras.layers.LayerNormalization(\n",
        "      epsilon=1e-6)(attention2 + attention1)\n",
        "\n",
        "  # 세 번째 서브 레이어 : 2개의 완전연결층\n",
        "  outputs = tf.keras.layers.Dense(units=units, activation='relu')(attention2)\n",
        "  outputs = tf.keras.layers.Dense(units=d_model)(outputs)\n",
        "\n",
        "  # 완전연결층의 결과는 Dropout과 LayerNormalization 수행\n",
        "  outputs = tf.keras.layers.Dropout(rate=dropout)(outputs)\n",
        "  outputs = tf.keras.layers.LayerNormalization(\n",
        "      epsilon=1e-6)(outputs + attention2)\n",
        "\n",
        "  return tf.keras.Model(inputs=[inputs, enc_outputs, look_ahead_mask, padding_mask], outputs=outputs, name=name)"
      ],
      "metadata": {
        "id": "yG0cCt-h966Q"
      },
      "execution_count": null,
      "outputs": []
    },
    {
      "cell_type": "markdown",
      "source": [
        "### **🍃 04-9_디코더 층을 쌓아 디코더 생성**"
      ],
      "metadata": {
        "id": "5reZLsH_-P7g"
      }
    },
    {
      "cell_type": "code",
      "source": [
        "def decoder(vocab_size, num_layers, units, d_model, num_heads, dropout, name='decoder'):\n",
        "  inputs = tf.keras.Input(shape=(None,), name='inputs')\n",
        "  enc_outputs = tf.keras.Input(shape=(None, d_model), name='encoder_outputs')\n",
        "  look_ahead_mask = tf.keras.Input(\n",
        "      shape=(1, None, None), name='look_ahead_mask')\n",
        "\n",
        "  # 패딩 마스크\n",
        "  padding_mask = tf.keras.Input(shape=(1, 1, None), name='padding_mask')\n",
        "  \n",
        "  # 임베딩 레이어\n",
        "  embeddings = tf.keras.layers.Embedding(vocab_size, d_model)(inputs)\n",
        "  embeddings *= tf.math.sqrt(tf.cast(d_model, tf.float32))\n",
        "\n",
        "  # 포지셔널 인코딩\n",
        "  embeddings = PositionalEncoding(vocab_size, d_model)(embeddings)\n",
        "\n",
        "  # Dropout이라는 훈련을 돕는 테크닉 수행\n",
        "  outputs = tf.keras.layers.Dropout(rate=dropout)(embeddings)\n",
        "\n",
        "  for i in range(num_layers):\n",
        "    outputs = decoder_layer(\n",
        "        units=units,\n",
        "        d_model=d_model,\n",
        "        num_heads=num_heads,\n",
        "        dropout=dropout,\n",
        "        name='decoder_layer_{}'.format(i),\n",
        "    )(inputs=[outputs, enc_outputs, look_ahead_mask, padding_mask])\n",
        "\n",
        "  return tf.keras.Model(inputs=[inputs, enc_outputs, look_ahead_mask, padding_mask], outputs=outputs, name=name)"
      ],
      "metadata": {
        "id": "Pw5SW5sZ-Pgo"
      },
      "execution_count": null,
      "outputs": []
    },
    {
      "cell_type": "markdown",
      "source": [
        "## **🌿 05_모델 정의 및 학습**"
      ],
      "metadata": {
        "id": "7lE6yooj-z2W"
      }
    },
    {
      "cell_type": "markdown",
      "source": [
        "### **🍃 05-1_모델 정의**"
      ],
      "metadata": {
        "id": "AOh81Ga0-qSG"
      }
    },
    {
      "cell_type": "code",
      "source": [
        "def transformer(vocab_size, num_layers, units, d_model, num_heads, dropout, name=\"transformer\"):\n",
        "  inputs = tf.keras.Input(shape=(None,), name=\"inputs\")\n",
        "  dec_inputs = tf.keras.Input(shape=(None,), name=\"dec_inputs\")\n",
        "\n",
        "  # 인코더에서 패딩을 위한 마스크\n",
        "  enc_padding_mask = tf.keras.layers.Lambda(create_padding_mask, output_shape=(1, 1, None), name='enc_padding_mask')(inputs)\n",
        "\n",
        "  # 디코더에서 미래의 토큰을 마스크 하기 위해서 사용합니다.\n",
        "  # 내부적으로 패딩 마스크도 포함되어져 있습니다.\n",
        "  look_ahead_mask = tf.keras.layers.Lambda(create_look_ahead_mask, output_shape=(1, None, None), name='look_ahead_mask')(dec_inputs)\n",
        "\n",
        "  # 두 번째 어텐션 블록에서 인코더의 벡터들을 마스킹\n",
        "  # 디코더에서 패딩을 위한 마스크\n",
        "  dec_padding_mask = tf.keras.layers.Lambda(create_padding_mask, output_shape=(1, 1, None), name='dec_padding_mask')(inputs)\n",
        "\n",
        "  # 인코더\n",
        "  enc_outputs = encoder(vocab_size=vocab_size, num_layers=num_layers, units=units, d_model=d_model, num_heads=num_heads, dropout=dropout,)(inputs=[inputs, enc_padding_mask])\n",
        "\n",
        "  # 디코더\n",
        "  dec_outputs = decoder(vocab_size=vocab_size, num_layers=num_layers, units=units, d_model=d_model, num_heads=num_heads, dropout=dropout,)(inputs=[dec_inputs, enc_outputs, look_ahead_mask, dec_padding_mask])\n",
        "\n",
        "  # 완전연결층\n",
        "  outputs = tf.keras.layers.Dense(units=vocab_size, name=\"outputs\")(dec_outputs)\n",
        "\n",
        "  return tf.keras.Model(inputs=[inputs, dec_inputs], outputs=outputs, name=name)"
      ],
      "metadata": {
        "id": "h0EkOntA_AZP"
      },
      "execution_count": null,
      "outputs": []
    },
    {
      "cell_type": "markdown",
      "source": [
        "### **🍃 05-2_모델 생성**"
      ],
      "metadata": {
        "id": "iL9tHo07_l3j"
      }
    },
    {
      "cell_type": "code",
      "source": [
        "# Model 생성\n",
        "tf.keras.backend.clear_session()\n",
        "\n",
        "# 하이퍼파라미터\n",
        "\n",
        "# 인코더와 디코더의 층의 개수\n",
        "NUM_LAYERS = 2 \n",
        "# 인코더와 디코더 내부의 입, 출력의 고정 차원\n",
        "D_MODEL = 256 \n",
        "# 멀티 헤드 어텐션에서의 헤드 수 \n",
        "NUM_HEADS = 8 \n",
        "# 피드 포워드 신경망의 은닉층의 크기\n",
        "UNITS = 512 \n",
        "# 드롭아웃의 비율\n",
        "DROPOUT = 0.1\n",
        "\n",
        "model = transformer(vocab_size=VOCAB_SIZE, num_layers=NUM_LAYERS, units=UNITS, d_model=D_MODEL, num_heads=NUM_HEADS, dropout=DROPOUT)\n",
        "\n",
        "model.summary()"
      ],
      "metadata": {
        "colab": {
          "base_uri": "https://localhost:8080/"
        },
        "id": "6GCJSU3mLoHa",
        "outputId": "aa1602b2-afb0-47d8-d20c-9b5c1b165ada"
      },
      "execution_count": null,
      "outputs": [
        {
          "output_type": "stream",
          "name": "stdout",
          "text": [
            "Model: \"transformer\"\n",
            "__________________________________________________________________________________________________\n",
            " Layer (type)                   Output Shape         Param #     Connected to                     \n",
            "==================================================================================================\n",
            " inputs (InputLayer)            [(None, None)]       0           []                               \n",
            "                                                                                                  \n",
            " dec_inputs (InputLayer)        [(None, None)]       0           []                               \n",
            "                                                                                                  \n",
            " enc_padding_mask (Lambda)      (None, 1, 1, None)   0           ['inputs[0][0]']                 \n",
            "                                                                                                  \n",
            " encoder (Functional)           (None, None, 256)    3146240     ['inputs[0][0]',                 \n",
            "                                                                  'enc_padding_mask[0][0]']       \n",
            "                                                                                                  \n",
            " look_ahead_mask (Lambda)       (None, 1, None, Non  0           ['dec_inputs[0][0]']             \n",
            "                                e)                                                                \n",
            "                                                                                                  \n",
            " dec_padding_mask (Lambda)      (None, 1, 1, None)   0           ['inputs[0][0]']                 \n",
            "                                                                                                  \n",
            " decoder (Functional)           (None, None, 256)    3673600     ['dec_inputs[0][0]',             \n",
            "                                                                  'encoder[0][0]',                \n",
            "                                                                  'look_ahead_mask[0][0]',        \n",
            "                                                                  'dec_padding_mask[0][0]']       \n",
            "                                                                                                  \n",
            " outputs (Dense)                (None, None, 8172)   2100204     ['decoder[0][0]']                \n",
            "                                                                                                  \n",
            "==================================================================================================\n",
            "Total params: 8,920,044\n",
            "Trainable params: 8,920,044\n",
            "Non-trainable params: 0\n",
            "__________________________________________________________________________________________________\n"
          ]
        }
      ]
    },
    {
      "cell_type": "markdown",
      "source": [
        "### **🍃 05-3_손실 함수**"
      ],
      "metadata": {
        "id": "bt0usnyEACw-"
      }
    },
    {
      "cell_type": "code",
      "source": [
        "def loss_function(y_true, y_pred):\n",
        "  y_true = tf.reshape(y_true, shape=(-1, MAX_LENGTH - 1))\n",
        "  \n",
        "  loss = tf.keras.losses.SparseCategoricalCrossentropy(\n",
        "      from_logits=True, reduction='none')(y_true, y_pred)\n",
        "\n",
        "  mask = tf.cast(tf.not_equal(y_true, 0), tf.float32)\n",
        "  loss = tf.multiply(loss, mask)\n",
        "\n",
        "  return tf.reduce_mean(loss)"
      ],
      "metadata": {
        "id": "lkM39F2w__60"
      },
      "execution_count": null,
      "outputs": []
    },
    {
      "cell_type": "markdown",
      "source": [
        " ### **🍃 05-4_커스텀된 학습률**"
      ],
      "metadata": {
        "id": "TmtfOQ3CChIn"
      }
    },
    {
      "cell_type": "code",
      "source": [
        "class CustomSchedule(tf.keras.optimizers.schedules.LearningRateSchedule):\n",
        "\n",
        "    def __init__(self, d_model, warmup_steps=4000):\n",
        "        super(CustomSchedule, self).__init__()\n",
        "\n",
        "        self.d_model = d_model\n",
        "        self.d_model = tf.cast(self.d_model, tf.float32)\n",
        "\n",
        "        self.warmup_steps = warmup_steps\n",
        "\n",
        "    def __call__(self, step):\n",
        "        arg1 = tf.math.rsqrt(step)\n",
        "        arg2 = step * (self.warmup_steps**-1.5)\n",
        "\n",
        "        return tf.math.rsqrt(self.d_model) * tf.math.minimum(arg1, arg2)"
      ],
      "metadata": {
        "id": "Nu7873R8ClBn"
      },
      "execution_count": null,
      "outputs": []
    },
    {
      "cell_type": "markdown",
      "source": [
        " ### **🍃 05-5_정확도**"
      ],
      "metadata": {
        "id": "3w5hpwaqCmxe"
      }
    },
    {
      "cell_type": "code",
      "source": [
        "def accuracy(y_true, y_pred):\n",
        "    y_true = tf.reshape(y_true, shape=(-1, MAX_LENGTH - 1))\n",
        "    return tf.keras.metrics.sparse_categorical_accuracy(y_true, y_pred)"
      ],
      "metadata": {
        "id": "zDJFR-xrCpZV"
      },
      "execution_count": null,
      "outputs": []
    },
    {
      "cell_type": "markdown",
      "source": [
        " ### **🍃 05-6_모델 예측 함수 제작**"
      ],
      "metadata": {
        "id": "9A6q8HuxC1ZI"
      }
    },
    {
      "cell_type": "code",
      "source": [
        "def decoder_inference(sentence):\n",
        "  sentence = preprocess_sentence(sentence)\n",
        "\n",
        "  # 입력된 문장을 정수 인코딩 후, 시작 토큰과 종료 토큰을 앞뒤로 추가.\n",
        "  sentence = tf.expand_dims(\n",
        "      START_TOKEN + tokenizer.encode(sentence) + END_TOKEN, axis=0)\n",
        "\n",
        "  # 디코더의 현재까지의 예측한 출력 시퀀스가 지속적으로 저장되는 변수\n",
        "  # 처음에는 예측한 내용이 없음으로 시작 토큰만 별도 저장\n",
        "  output_sequence = tf.expand_dims(START_TOKEN, 0)\n",
        "\n",
        "  # 디코더의 인퍼런스 단계\n",
        "  for i in range(MAX_LENGTH):\n",
        "    # 디코더는 최대 MAX_LENGTH의 길이만큼 다음 단어 예측을 반복합니다.\n",
        "    predictions = model(inputs=[sentence, output_sequence], training=False)\n",
        "    predictions = predictions[:, -1:, :]\n",
        "\n",
        "    # 현재 예측한 단어의 정수\n",
        "    predicted_id = tf.cast(tf.argmax(predictions, axis=-1), tf.int32)\n",
        "\n",
        "    # 만약 현재 예측한 단어가 종료 토큰이라면 for문을 종료\n",
        "    if tf.equal(predicted_id, END_TOKEN[0]):\n",
        "      break\n",
        "\n",
        "    # 예측한 단어들은 지속적으로 output_sequence에 추가됩니다.\n",
        "    # 이 output_sequence는 다시 디코더의 입력이 됩니다.\n",
        "    output_sequence = tf.concat([output_sequence, predicted_id], axis=-1)\n",
        "\n",
        "  return tf.squeeze(output_sequence, axis=0)\n",
        "\n",
        "def sentence_generation(sentence):\n",
        "  # 입력 문장에 대해서 디코더를 동작 시켜 예측된 정수 시퀀스를 리턴받습니다.\n",
        "  prediction = decoder_inference(sentence)\n",
        "\n",
        "  # 정수 시퀀스를 다시 텍스트 시퀀스로 변환합니다.\n",
        "  predicted_sentence = tokenizer.decode(\n",
        "      [i for i in prediction if i < tokenizer.vocab_size])\n",
        "\n",
        "  print('입력 : {}'.format(sentence))\n",
        "  print('출력 : {}'.format(predicted_sentence))\n",
        "  print('\\n')\n",
        "\n",
        "  return predicted_sentence"
      ],
      "metadata": {
        "id": "hJsDPUVWC6Mu"
      },
      "execution_count": null,
      "outputs": []
    },
    {
      "cell_type": "markdown",
      "source": [
        " ### **🍃 05-7_모델 컴파일**"
      ],
      "metadata": {
        "id": "1A7HBXnaAHVp"
      }
    },
    {
      "cell_type": "code",
      "source": [
        "learning_rate = CustomSchedule(D_MODEL)\n",
        "\n",
        "optimizer = tf.keras.optimizers.Adam(\n",
        "    learning_rate, beta_1=0.9, beta_2=0.98, epsilon=1e-9)\n",
        "\n",
        "def accuracy(y_true, y_pred):\n",
        "  y_true = tf.reshape(y_true, shape=(-1, MAX_LENGTH - 1))\n",
        "  return tf.keras.metrics.sparse_categorical_accuracy(y_true, y_pred)\n",
        "\n",
        "model.compile(optimizer=optimizer, loss=loss_function, metrics=[accuracy])"
      ],
      "metadata": {
        "id": "wTStw8n9LpQB"
      },
      "execution_count": null,
      "outputs": []
    },
    {
      "cell_type": "markdown",
      "source": [
        " ### **🍃 05-8_모델 학습**"
      ],
      "metadata": {
        "id": "xhTusUgGArcQ"
      }
    },
    {
      "cell_type": "code",
      "source": [
        "EPOCHS = 70\n",
        "model.fit(dataset, epochs=EPOCHS, verbose=1)"
      ],
      "metadata": {
        "colab": {
          "base_uri": "https://localhost:8080/"
        },
        "id": "fF17Ta2SLqQ-",
        "outputId": "b2766cf3-3adb-4eca-9a7c-27ae0dd3216f"
      },
      "execution_count": null,
      "outputs": [
        {
          "output_type": "stream",
          "name": "stdout",
          "text": [
            "Epoch 1/70\n",
            "185/185 [==============================] - 60s 288ms/step - loss: 1.4515 - accuracy: 0.0222\n",
            "Epoch 2/70\n",
            "185/185 [==============================] - 53s 289ms/step - loss: 1.1769 - accuracy: 0.0495\n",
            "Epoch 3/70\n",
            "185/185 [==============================] - 53s 287ms/step - loss: 1.0042 - accuracy: 0.0507\n",
            "Epoch 4/70\n",
            "185/185 [==============================] - 53s 289ms/step - loss: 0.9281 - accuracy: 0.0547\n",
            "Epoch 5/70\n",
            "185/185 [==============================] - 53s 286ms/step - loss: 0.8705 - accuracy: 0.0576\n",
            "Epoch 6/70\n",
            "185/185 [==============================] - 53s 287ms/step - loss: 0.8125 - accuracy: 0.0613\n",
            "Epoch 7/70\n",
            "185/185 [==============================] - 53s 286ms/step - loss: 0.7489 - accuracy: 0.0668\n",
            "Epoch 8/70\n",
            "185/185 [==============================] - 53s 284ms/step - loss: 0.6776 - accuracy: 0.0744\n",
            "Epoch 9/70\n",
            "185/185 [==============================] - 53s 286ms/step - loss: 0.5983 - accuracy: 0.0833\n",
            "Epoch 10/70\n",
            "185/185 [==============================] - 53s 287ms/step - loss: 0.5156 - accuracy: 0.0924\n",
            "Epoch 11/70\n",
            "185/185 [==============================] - 53s 287ms/step - loss: 0.4320 - accuracy: 0.1029\n",
            "Epoch 12/70\n",
            "185/185 [==============================] - 53s 289ms/step - loss: 0.3509 - accuracy: 0.1140\n",
            "Epoch 13/70\n",
            "185/185 [==============================] - 53s 287ms/step - loss: 0.2745 - accuracy: 0.1254\n",
            "Epoch 14/70\n",
            "185/185 [==============================] - 53s 288ms/step - loss: 0.2079 - accuracy: 0.1356\n",
            "Epoch 15/70\n",
            "185/185 [==============================] - 54s 289ms/step - loss: 0.1528 - accuracy: 0.1452\n",
            "Epoch 16/70\n",
            "185/185 [==============================] - 54s 289ms/step - loss: 0.1106 - accuracy: 0.1529\n",
            "Epoch 17/70\n",
            "185/185 [==============================] - 53s 288ms/step - loss: 0.0794 - accuracy: 0.1589\n",
            "Epoch 18/70\n",
            "185/185 [==============================] - 54s 292ms/step - loss: 0.0608 - accuracy: 0.1619\n",
            "Epoch 19/70\n",
            "185/185 [==============================] - 54s 289ms/step - loss: 0.0514 - accuracy: 0.1635\n",
            "Epoch 20/70\n",
            "185/185 [==============================] - 54s 290ms/step - loss: 0.0453 - accuracy: 0.1645\n",
            "Epoch 21/70\n",
            "185/185 [==============================] - 53s 287ms/step - loss: 0.0413 - accuracy: 0.1652\n",
            "Epoch 22/70\n",
            "185/185 [==============================] - 53s 287ms/step - loss: 0.0404 - accuracy: 0.1651\n",
            "Epoch 23/70\n",
            "185/185 [==============================] - 53s 287ms/step - loss: 0.0353 - accuracy: 0.1664\n",
            "Epoch 24/70\n",
            "185/185 [==============================] - 54s 290ms/step - loss: 0.0320 - accuracy: 0.1670\n",
            "Epoch 25/70\n",
            "185/185 [==============================] - 54s 290ms/step - loss: 0.0274 - accuracy: 0.1682\n",
            "Epoch 26/70\n",
            "185/185 [==============================] - 53s 287ms/step - loss: 0.0246 - accuracy: 0.1689\n",
            "Epoch 27/70\n",
            "185/185 [==============================] - 53s 288ms/step - loss: 0.0218 - accuracy: 0.1696\n",
            "Epoch 28/70\n",
            "185/185 [==============================] - 53s 286ms/step - loss: 0.0208 - accuracy: 0.1698\n",
            "Epoch 29/70\n",
            "185/185 [==============================] - 53s 286ms/step - loss: 0.0173 - accuracy: 0.1709\n",
            "Epoch 30/70\n",
            "185/185 [==============================] - 53s 285ms/step - loss: 0.0169 - accuracy: 0.1708\n",
            "Epoch 31/70\n",
            "185/185 [==============================] - 53s 287ms/step - loss: 0.0151 - accuracy: 0.1713\n",
            "Epoch 32/70\n",
            "185/185 [==============================] - 53s 285ms/step - loss: 0.0142 - accuracy: 0.1715\n",
            "Epoch 33/70\n",
            "185/185 [==============================] - 53s 284ms/step - loss: 0.0132 - accuracy: 0.1718\n",
            "Epoch 34/70\n",
            "185/185 [==============================] - 53s 285ms/step - loss: 0.0120 - accuracy: 0.1720\n",
            "Epoch 35/70\n",
            "185/185 [==============================] - 53s 286ms/step - loss: 0.0116 - accuracy: 0.1722\n",
            "Epoch 36/70\n",
            "185/185 [==============================] - 53s 284ms/step - loss: 0.0107 - accuracy: 0.1725\n",
            "Epoch 37/70\n",
            "185/185 [==============================] - 53s 285ms/step - loss: 0.0102 - accuracy: 0.1726\n",
            "Epoch 38/70\n",
            "185/185 [==============================] - 53s 285ms/step - loss: 0.0088 - accuracy: 0.1729\n",
            "Epoch 39/70\n",
            "185/185 [==============================] - 53s 284ms/step - loss: 0.0094 - accuracy: 0.1727\n",
            "Epoch 40/70\n",
            "185/185 [==============================] - 53s 284ms/step - loss: 0.0090 - accuracy: 0.1729\n",
            "Epoch 41/70\n",
            "185/185 [==============================] - 53s 284ms/step - loss: 0.0081 - accuracy: 0.1730\n",
            "Epoch 42/70\n",
            "185/185 [==============================] - 52s 283ms/step - loss: 0.0077 - accuracy: 0.1732\n",
            "Epoch 43/70\n",
            "185/185 [==============================] - 53s 284ms/step - loss: 0.0075 - accuracy: 0.1732\n",
            "Epoch 44/70\n",
            "185/185 [==============================] - 53s 288ms/step - loss: 0.0070 - accuracy: 0.1733\n",
            "Epoch 45/70\n",
            "185/185 [==============================] - 53s 288ms/step - loss: 0.0069 - accuracy: 0.1734\n",
            "Epoch 46/70\n",
            "185/185 [==============================] - 54s 290ms/step - loss: 0.0063 - accuracy: 0.1735\n",
            "Epoch 47/70\n",
            "185/185 [==============================] - 54s 290ms/step - loss: 0.0061 - accuracy: 0.1736\n",
            "Epoch 48/70\n",
            "185/185 [==============================] - 53s 287ms/step - loss: 0.0061 - accuracy: 0.1736\n",
            "Epoch 49/70\n",
            "185/185 [==============================] - 54s 291ms/step - loss: 0.0058 - accuracy: 0.1737\n",
            "Epoch 50/70\n",
            "185/185 [==============================] - 55s 297ms/step - loss: 0.0057 - accuracy: 0.1737\n",
            "Epoch 51/70\n",
            "185/185 [==============================] - 59s 317ms/step - loss: 0.0053 - accuracy: 0.1738\n",
            "Epoch 52/70\n",
            "185/185 [==============================] - 55s 300ms/step - loss: 0.0053 - accuracy: 0.1738\n",
            "Epoch 53/70\n",
            "185/185 [==============================] - 56s 303ms/step - loss: 0.0049 - accuracy: 0.1738\n",
            "Epoch 54/70\n",
            "185/185 [==============================] - 54s 289ms/step - loss: 0.0050 - accuracy: 0.1738\n",
            "Epoch 55/70\n",
            "185/185 [==============================] - 53s 288ms/step - loss: 0.0049 - accuracy: 0.1739\n",
            "Epoch 56/70\n",
            "185/185 [==============================] - 53s 286ms/step - loss: 0.0044 - accuracy: 0.1739\n",
            "Epoch 57/70\n",
            "185/185 [==============================] - 54s 295ms/step - loss: 0.0043 - accuracy: 0.1740\n",
            "Epoch 58/70\n",
            "185/185 [==============================] - 53s 289ms/step - loss: 0.0042 - accuracy: 0.1740\n",
            "Epoch 59/70\n",
            "185/185 [==============================] - 54s 290ms/step - loss: 0.0043 - accuracy: 0.1740\n",
            "Epoch 60/70\n",
            "185/185 [==============================] - 53s 287ms/step - loss: 0.0041 - accuracy: 0.1740\n",
            "Epoch 61/70\n",
            "185/185 [==============================] - 53s 286ms/step - loss: 0.0040 - accuracy: 0.1740\n",
            "Epoch 62/70\n",
            "185/185 [==============================] - 53s 286ms/step - loss: 0.0038 - accuracy: 0.1741\n",
            "Epoch 63/70\n",
            "185/185 [==============================] - 53s 286ms/step - loss: 0.0037 - accuracy: 0.1741\n",
            "Epoch 64/70\n",
            "185/185 [==============================] - 53s 288ms/step - loss: 0.0038 - accuracy: 0.1741\n",
            "Epoch 65/70\n",
            "185/185 [==============================] - 53s 287ms/step - loss: 0.0037 - accuracy: 0.1740\n",
            "Epoch 66/70\n",
            "185/185 [==============================] - 53s 285ms/step - loss: 0.0038 - accuracy: 0.1740\n",
            "Epoch 67/70\n",
            "185/185 [==============================] - 53s 284ms/step - loss: 0.0035 - accuracy: 0.1741\n",
            "Epoch 68/70\n",
            "185/185 [==============================] - 52s 284ms/step - loss: 0.0034 - accuracy: 0.1742\n",
            "Epoch 69/70\n",
            "185/185 [==============================] - 52s 284ms/step - loss: 0.0034 - accuracy: 0.1742\n",
            "Epoch 70/70\n",
            "185/185 [==============================] - 53s 287ms/step - loss: 0.0032 - accuracy: 0.1742\n"
          ]
        },
        {
          "output_type": "execute_result",
          "data": {
            "text/plain": [
              "<keras.callbacks.History at 0x7fa764665c90>"
            ]
          },
          "metadata": {},
          "execution_count": 36
        }
      ]
    },
    {
      "cell_type": "markdown",
      "source": [
        "## **🌿 06_모델 평가**"
      ],
      "metadata": {
        "id": "gmqM5pKkGZjc"
      }
    },
    {
      "cell_type": "code",
      "source": [
        "sentence_generation(\"훌쩍 여행을 떠나고 싶어.\")"
      ],
      "metadata": {
        "colab": {
          "base_uri": "https://localhost:8080/",
          "height": 109
        },
        "id": "ESn79PtbIxwx",
        "outputId": "43f23c08-a49f-4014-8212-b169183ee7c8"
      },
      "execution_count": null,
      "outputs": [
        {
          "output_type": "stream",
          "name": "stdout",
          "text": [
            "입력 : 훌쩍 여행을 떠나고 싶어.\n",
            "출력 : 이김에 떠나보세요 .\n",
            "\n",
            "\n"
          ]
        },
        {
          "output_type": "execute_result",
          "data": {
            "text/plain": [
              "'이김에 떠나보세요 .'"
            ],
            "application/vnd.google.colaboratory.intrinsic+json": {
              "type": "string"
            }
          },
          "metadata": {},
          "execution_count": 133
        }
      ]
    },
    {
      "cell_type": "code",
      "source": [
        "sentence_generation(\"봄이 가고 여름이 오고 있어.\")"
      ],
      "metadata": {
        "colab": {
          "base_uri": "https://localhost:8080/",
          "height": 109
        },
        "id": "slQwtzhfZRh1",
        "outputId": "5c26fad8-0994-4843-e250-a4207bc54120"
      },
      "execution_count": null,
      "outputs": [
        {
          "output_type": "stream",
          "name": "stdout",
          "text": [
            "입력 : 봄이 가고 여름이 오고 있어.\n",
            "출력 : 구릿빛 피부 좋죠 !\n",
            "\n",
            "\n"
          ]
        },
        {
          "output_type": "execute_result",
          "data": {
            "text/plain": [
              "'구릿빛 피부 좋죠 !'"
            ],
            "application/vnd.google.colaboratory.intrinsic+json": {
              "type": "string"
            }
          },
          "metadata": {},
          "execution_count": 132
        }
      ]
    },
    {
      "cell_type": "code",
      "source": [
        "sentence_generation(\"오늘 너무 지치고 힘들어서 쉬고 싶어.\")"
      ],
      "metadata": {
        "colab": {
          "base_uri": "https://localhost:8080/",
          "height": 109
        },
        "id": "JhaF0QmCA2e6",
        "outputId": "9f687324-ee39-45f8-beca-48caa28ccdea"
      },
      "execution_count": null,
      "outputs": [
        {
          "output_type": "stream",
          "name": "stdout",
          "text": [
            "입력 : 오늘 너무 지치고 힘들어서 쉬고 싶어.\n",
            "출력 : 아무 생각 하지 말고 쉬세요 .\n",
            "\n",
            "\n"
          ]
        },
        {
          "output_type": "execute_result",
          "data": {
            "text/plain": [
              "'아무 생각 하지 말고 쉬세요 .'"
            ],
            "application/vnd.google.colaboratory.intrinsic+json": {
              "type": "string"
            }
          },
          "metadata": {},
          "execution_count": 131
        }
      ]
    },
    {
      "cell_type": "code",
      "source": [
        "sentence_generation(\"눈을 감았는데 생각이 많아서 잠이 안와.\")"
      ],
      "metadata": {
        "colab": {
          "base_uri": "https://localhost:8080/",
          "height": 109
        },
        "id": "TSvOSYHAA2Yn",
        "outputId": "8253d323-0cef-4db0-9750-f67693359638"
      },
      "execution_count": null,
      "outputs": [
        {
          "output_type": "stream",
          "name": "stdout",
          "text": [
            "입력 : 눈을 감았는데 생각이 많아서 잠이 안와.\n",
            "출력 : 끝낼 때를 아는 것도 중요한 것 같아요 .\n",
            "\n",
            "\n"
          ]
        },
        {
          "output_type": "execute_result",
          "data": {
            "text/plain": [
              "'끝낼 때를 아는 것도 중요한 것 같아요 .'"
            ],
            "application/vnd.google.colaboratory.intrinsic+json": {
              "type": "string"
            }
          },
          "metadata": {},
          "execution_count": 130
        }
      ]
    },
    {
      "cell_type": "code",
      "source": [
        "sentence_generation(\"밥은 제대로 챙겨 먹어야지!\")"
      ],
      "metadata": {
        "colab": {
          "base_uri": "https://localhost:8080/",
          "height": 109
        },
        "id": "Bl50jknVA2Uq",
        "outputId": "e4cbc98f-3883-4b6b-e721-56194a474604"
      },
      "execution_count": null,
      "outputs": [
        {
          "output_type": "stream",
          "name": "stdout",
          "text": [
            "입력 : 밥은 제대로 챙겨 먹어야지!\n",
            "출력 : 건강 생각해서 챙겨드세요 .\n",
            "\n",
            "\n"
          ]
        },
        {
          "output_type": "execute_result",
          "data": {
            "text/plain": [
              "'건강 생각해서 챙겨드세요 .'"
            ],
            "application/vnd.google.colaboratory.intrinsic+json": {
              "type": "string"
            }
          },
          "metadata": {},
          "execution_count": 129
        }
      ]
    },
    {
      "cell_type": "code",
      "source": [
        "sentence_generation(\"계속 검색을 해도 나오지 않는 걸!\")"
      ],
      "metadata": {
        "colab": {
          "base_uri": "https://localhost:8080/",
          "height": 109
        },
        "id": "RNHinHP4Uw3b",
        "outputId": "5f450c10-be7e-4505-f41e-41e19ffe11db"
      },
      "execution_count": null,
      "outputs": [
        {
          "output_type": "stream",
          "name": "stdout",
          "text": [
            "입력 : 계속 검색을 해도 나오지 않는 걸!\n",
            "출력 : 간절한 만큼 할 수 있을 거예요 .\n",
            "\n",
            "\n"
          ]
        },
        {
          "output_type": "execute_result",
          "data": {
            "text/plain": [
              "'간절한 만큼 할 수 있을 거예요 .'"
            ],
            "application/vnd.google.colaboratory.intrinsic+json": {
              "type": "string"
            }
          },
          "metadata": {},
          "execution_count": 137
        }
      ]
    },
    {
      "cell_type": "code",
      "source": [
        "sentence_generation(\"언제나 새로운 날들은 두근거려!\")"
      ],
      "metadata": {
        "colab": {
          "base_uri": "https://localhost:8080/",
          "height": 109
        },
        "id": "gjSrwPL4UwzY",
        "outputId": "d85abee2-2baa-41ce-f0c6-34dba4c23680"
      },
      "execution_count": null,
      "outputs": [
        {
          "output_type": "stream",
          "name": "stdout",
          "text": [
            "입력 : 언제나 새로운 날들은 두근거려!\n",
            "출력 : 저도 두근거리네요 .\n",
            "\n",
            "\n"
          ]
        },
        {
          "output_type": "execute_result",
          "data": {
            "text/plain": [
              "'저도 두근거리네요 .'"
            ],
            "application/vnd.google.colaboratory.intrinsic+json": {
              "type": "string"
            }
          },
          "metadata": {},
          "execution_count": 100
        }
      ]
    },
    {
      "cell_type": "code",
      "source": [
        "sentence_generation(\"내 마음에도 곰팡이가 핀 것 같아!\")"
      ],
      "metadata": {
        "colab": {
          "base_uri": "https://localhost:8080/",
          "height": 109
        },
        "id": "RbqKJ3BZUwux",
        "outputId": "7c6b1e54-9d5e-404b-b275-7bea929f7cf3"
      },
      "execution_count": null,
      "outputs": [
        {
          "output_type": "stream",
          "name": "stdout",
          "text": [
            "입력 : 내 마음에도 곰팡이가 핀 것 같아!\n",
            "출력 : 지금은 괜찮길 바랄게요 .\n",
            "\n",
            "\n"
          ]
        },
        {
          "output_type": "execute_result",
          "data": {
            "text/plain": [
              "'지금은 괜찮길 바랄게요 .'"
            ],
            "application/vnd.google.colaboratory.intrinsic+json": {
              "type": "string"
            }
          },
          "metadata": {},
          "execution_count": 101
        }
      ]
    },
    {
      "cell_type": "code",
      "source": [
        "sentence_generation(\"언제 나는 어른이 될까?\")"
      ],
      "metadata": {
        "colab": {
          "base_uri": "https://localhost:8080/",
          "height": 109
        },
        "id": "3QWiOIhZUwqe",
        "outputId": "224b8b29-fc36-47eb-c5fb-6b3d06664366"
      },
      "execution_count": null,
      "outputs": [
        {
          "output_type": "stream",
          "name": "stdout",
          "text": [
            "입력 : 언제 나는 어른이 될까?\n",
            "출력 : 물리적 나이가 아니라 정신적 나이가 중요하니까요 .\n",
            "\n",
            "\n"
          ]
        },
        {
          "output_type": "execute_result",
          "data": {
            "text/plain": [
              "'물리적 나이가 아니라 정신적 나이가 중요하니까요 .'"
            ],
            "application/vnd.google.colaboratory.intrinsic+json": {
              "type": "string"
            }
          },
          "metadata": {},
          "execution_count": 89
        }
      ]
    },
    {
      "cell_type": "code",
      "source": [
        "sentence_generation(\"오늘 아침 커피 한 잔 어때?\")"
      ],
      "metadata": {
        "colab": {
          "base_uri": "https://localhost:8080/",
          "height": 109
        },
        "id": "uCBDWR2tUwlR",
        "outputId": "7f05be4f-c634-4d20-efcc-b7023d496deb"
      },
      "execution_count": null,
      "outputs": [
        {
          "output_type": "stream",
          "name": "stdout",
          "text": [
            "입력 : 오늘 아침 커피 한 잔 어때?\n",
            "출력 : 건강에 좋은 습관이네요 .\n",
            "\n",
            "\n"
          ]
        },
        {
          "output_type": "execute_result",
          "data": {
            "text/plain": [
              "'건강에 좋은 습관이네요 .'"
            ],
            "application/vnd.google.colaboratory.intrinsic+json": {
              "type": "string"
            }
          },
          "metadata": {},
          "execution_count": 151
        }
      ]
    },
    {
      "cell_type": "code",
      "source": [
        "sentence_generation(\"내 행복은 어디에 있을까?\")"
      ],
      "metadata": {
        "colab": {
          "base_uri": "https://localhost:8080/",
          "height": 109
        },
        "id": "wBH19LcpUwgD",
        "outputId": "989cb29d-79c4-4f1a-bb84-cc010a84b2bb"
      },
      "execution_count": null,
      "outputs": [
        {
          "output_type": "stream",
          "name": "stdout",
          "text": [
            "입력 : 내 행복은 어디에 있을까?\n",
            "출력 : 있는 그대로의 나로 살아야 행복하게 살 수 있어요 .\n",
            "\n",
            "\n"
          ]
        },
        {
          "output_type": "execute_result",
          "data": {
            "text/plain": [
              "'있는 그대로의 나로 살아야 행복하게 살 수 있어요 .'"
            ],
            "application/vnd.google.colaboratory.intrinsic+json": {
              "type": "string"
            }
          },
          "metadata": {},
          "execution_count": 123
        }
      ]
    },
    {
      "cell_type": "code",
      "source": [
        "sentence_generation(\"내가 뭘 잘못한 게 있니?\")"
      ],
      "metadata": {
        "colab": {
          "base_uri": "https://localhost:8080/",
          "height": 109
        },
        "id": "fPXyUjF1UwaH",
        "outputId": "68267e28-e118-4bf1-aa04-6b24b6d3a6af"
      },
      "execution_count": null,
      "outputs": [
        {
          "output_type": "stream",
          "name": "stdout",
          "text": [
            "입력 : 내가 뭘 잘못한 게 있니?\n",
            "출력 : 상황이 그렇게 만든 거예요 .\n",
            "\n",
            "\n"
          ]
        },
        {
          "output_type": "execute_result",
          "data": {
            "text/plain": [
              "'상황이 그렇게 만든 거예요 .'"
            ],
            "application/vnd.google.colaboratory.intrinsic+json": {
              "type": "string"
            }
          },
          "metadata": {},
          "execution_count": 121
        }
      ]
    },
    {
      "cell_type": "markdown",
      "source": [
        "<hr>"
      ],
      "metadata": {
        "id": "NXz-Q0GcGtq1"
      }
    }
  ]
}