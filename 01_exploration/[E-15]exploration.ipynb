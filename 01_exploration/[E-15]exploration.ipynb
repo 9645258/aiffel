{
  "cells": [
    {
      "cell_type": "markdown",
      "metadata": {
        "id": "view-in-github",
        "colab_type": "text"
      },
      "source": [
        "<a href=\"https://colab.research.google.com/github/9645258/aiffel/blob/main/01_exploration/%5BE-15%5Dexploration.ipynb\" target=\"_parent\"><img src=\"https://colab.research.google.com/assets/colab-badge.svg\" alt=\"Open In Colab\"/></a>"
      ]
    },
    {
      "cell_type": "markdown",
      "source": [
        "# **🎄 EXPLORATION 15**  "
      ],
      "metadata": {
        "id": "P9ZFcb9e8NMv"
      },
      "id": "P9ZFcb9e8NMv"
    },
    {
      "cell_type": "markdown",
      "source": [
        "# **🌲 EXPLORATION 15-1 : Movielens 영화 추천**"
      ],
      "metadata": {
        "id": "B-adnVys8Xcf"
      },
      "id": "B-adnVys8Xcf"
    },
    {
      "cell_type": "markdown",
      "source": [
        "## **🌿 01_데이터 준비**"
      ],
      "metadata": {
        "id": "LDkOGbq183xp"
      },
      "id": "LDkOGbq183xp"
    },
    {
      "cell_type": "markdown",
      "source": [
        "### **🍃 01-1_필요 라이브러리 import**"
      ],
      "metadata": {
        "id": "ImQGI1bC8634"
      },
      "id": "ImQGI1bC8634"
    },
    {
      "cell_type": "markdown",
      "source": [
        "- **라이브러리 import**"
      ],
      "metadata": {
        "id": "CXWrHuk39Ojp"
      },
      "id": "CXWrHuk39Ojp"
    },
    {
      "cell_type": "code",
      "execution_count": null,
      "id": "7d7f61cf",
      "metadata": {
        "id": "7d7f61cf"
      },
      "outputs": [],
      "source": [
        "import os\n",
        "import math\n",
        "import time\n",
        "import numpy as np\n",
        "import pandas as pd\n",
        "from datetime import datetime\n",
        "import matplotlib.pyplot as plt\n",
        "from scipy.sparse import csr_matrix\n",
        "from implicit.als import AlternatingLeastSquares"
      ]
    },
    {
      "cell_type": "markdown",
      "source": [
        "- **implicit 라이브러리 권장 사항**"
      ],
      "metadata": {
        "id": "jiBrX_IW9C32"
      },
      "id": "jiBrX_IW9C32"
    },
    {
      "cell_type": "code",
      "execution_count": null,
      "id": "5dd69b12",
      "metadata": {
        "id": "5dd69b12"
      },
      "outputs": [],
      "source": [
        "os.environ['OPENBLAS_NUM_THREADS']='1'\n",
        "os.environ['KMP_DUPLICATE_LIB_OK']='True'\n",
        "os.environ['MKL_NUM_THREADS']='1'"
      ]
    },
    {
      "cell_type": "markdown",
      "source": [
        "### **🍃 01-2_필요 데이터 import**"
      ],
      "metadata": {
        "id": "VbRJHf169I4o"
      },
      "id": "VbRJHf169I4o"
    },
    {
      "cell_type": "markdown",
      "source": [
        "- **데이터 경로 설정**"
      ],
      "metadata": {
        "id": "GJGKRVDw9LCf"
      },
      "id": "GJGKRVDw9LCf"
    },
    {
      "cell_type": "code",
      "execution_count": null,
      "id": "cb93ca20",
      "metadata": {
        "id": "cb93ca20"
      },
      "outputs": [],
      "source": [
        "rating_file_path = os.getenv('HOME') + '/aiffel/exploration/E-15/data/ratings.dat'\n",
        "movie_file_path = os.getenv('HOME') + '/aiffel/exploration/E-15/data//movies.dat'"
      ]
    },
    {
      "cell_type": "markdown",
      "source": [
        "## **🌿 02_데이터 전처리**\n"
      ],
      "metadata": {
        "id": "l8Pf3xVF9cS2"
      },
      "id": "l8Pf3xVF9cS2"
    },
    {
      "cell_type": "markdown",
      "source": [
        "### **🍃 02-1_Movielens 데이터셋 전처리**"
      ],
      "metadata": {
        "id": "wZOg1XeD9gyD"
      },
      "id": "wZOg1XeD9gyD"
    },
    {
      "cell_type": "markdown",
      "source": [
        "- **필요 컬럼 분리**"
      ],
      "metadata": {
        "id": "lMaa9OL3-H8K"
      },
      "id": "lMaa9OL3-H8K"
    },
    {
      "cell_type": "code",
      "execution_count": null,
      "id": "f812412f",
      "metadata": {
        "id": "f812412f"
      },
      "outputs": [],
      "source": [
        "ratings_cols = ['user_id', 'movie_id', 'rating', 'timestamp']\n",
        "ratings = pd.read_csv(rating_file_path , sep='::', names=ratings_cols, engine='python', encoding='ISO-8859-1')\n",
        "rating_data_size = len(ratings)"
      ]
    },
    {
      "cell_type": "markdown",
      "source": [
        "- **데이터 수 확인**"
      ],
      "metadata": {
        "id": "OEMRJi7A9-Pi"
      },
      "id": "OEMRJi7A9-Pi"
    },
    {
      "cell_type": "code",
      "execution_count": null,
      "id": "36e88eec",
      "metadata": {
        "id": "36e88eec",
        "outputId": "db341de4-d997-48ae-f36c-0363c4fc6543"
      },
      "outputs": [
        {
          "name": "stdout",
          "output_type": "stream",
          "text": [
            "메인 데이터 레코드 수: 1000209\n"
          ]
        }
      ],
      "source": [
        "print('메인 데이터 레코드 수:', rating_data_size)"
      ]
    },
    {
      "cell_type": "markdown",
      "source": [
        "- **데이터 확인**"
      ],
      "metadata": {
        "id": "d4aLlagb-I0l"
      },
      "id": "d4aLlagb-I0l"
    },
    {
      "cell_type": "code",
      "execution_count": null,
      "id": "51cb577b",
      "metadata": {
        "id": "51cb577b",
        "outputId": "3fba9e9d-d2f7-4de3-9ce1-b585f1e7d1eb"
      },
      "outputs": [
        {
          "data": {
            "text/html": [
              "<div>\n",
              "<style scoped>\n",
              "    .dataframe tbody tr th:only-of-type {\n",
              "        vertical-align: middle;\n",
              "    }\n",
              "\n",
              "    .dataframe tbody tr th {\n",
              "        vertical-align: top;\n",
              "    }\n",
              "\n",
              "    .dataframe thead th {\n",
              "        text-align: right;\n",
              "    }\n",
              "</style>\n",
              "<table border=\"1\" class=\"dataframe\">\n",
              "  <thead>\n",
              "    <tr style=\"text-align: right;\">\n",
              "      <th></th>\n",
              "      <th>user_id</th>\n",
              "      <th>movie_id</th>\n",
              "      <th>rating</th>\n",
              "      <th>timestamp</th>\n",
              "    </tr>\n",
              "  </thead>\n",
              "  <tbody>\n",
              "    <tr>\n",
              "      <th>0</th>\n",
              "      <td>1</td>\n",
              "      <td>1193</td>\n",
              "      <td>5</td>\n",
              "      <td>978300760</td>\n",
              "    </tr>\n",
              "    <tr>\n",
              "      <th>1</th>\n",
              "      <td>1</td>\n",
              "      <td>661</td>\n",
              "      <td>3</td>\n",
              "      <td>978302109</td>\n",
              "    </tr>\n",
              "    <tr>\n",
              "      <th>2</th>\n",
              "      <td>1</td>\n",
              "      <td>914</td>\n",
              "      <td>3</td>\n",
              "      <td>978301968</td>\n",
              "    </tr>\n",
              "    <tr>\n",
              "      <th>3</th>\n",
              "      <td>1</td>\n",
              "      <td>3408</td>\n",
              "      <td>4</td>\n",
              "      <td>978300275</td>\n",
              "    </tr>\n",
              "    <tr>\n",
              "      <th>4</th>\n",
              "      <td>1</td>\n",
              "      <td>2355</td>\n",
              "      <td>5</td>\n",
              "      <td>978824291</td>\n",
              "    </tr>\n",
              "    <tr>\n",
              "      <th>...</th>\n",
              "      <td>...</td>\n",
              "      <td>...</td>\n",
              "      <td>...</td>\n",
              "      <td>...</td>\n",
              "    </tr>\n",
              "    <tr>\n",
              "      <th>1000204</th>\n",
              "      <td>6040</td>\n",
              "      <td>1091</td>\n",
              "      <td>1</td>\n",
              "      <td>956716541</td>\n",
              "    </tr>\n",
              "    <tr>\n",
              "      <th>1000205</th>\n",
              "      <td>6040</td>\n",
              "      <td>1094</td>\n",
              "      <td>5</td>\n",
              "      <td>956704887</td>\n",
              "    </tr>\n",
              "    <tr>\n",
              "      <th>1000206</th>\n",
              "      <td>6040</td>\n",
              "      <td>562</td>\n",
              "      <td>5</td>\n",
              "      <td>956704746</td>\n",
              "    </tr>\n",
              "    <tr>\n",
              "      <th>1000207</th>\n",
              "      <td>6040</td>\n",
              "      <td>1096</td>\n",
              "      <td>4</td>\n",
              "      <td>956715648</td>\n",
              "    </tr>\n",
              "    <tr>\n",
              "      <th>1000208</th>\n",
              "      <td>6040</td>\n",
              "      <td>1097</td>\n",
              "      <td>4</td>\n",
              "      <td>956715569</td>\n",
              "    </tr>\n",
              "  </tbody>\n",
              "</table>\n",
              "<p>1000209 rows × 4 columns</p>\n",
              "</div>"
            ],
            "text/plain": [
              "         user_id  movie_id  rating  timestamp\n",
              "0              1      1193       5  978300760\n",
              "1              1       661       3  978302109\n",
              "2              1       914       3  978301968\n",
              "3              1      3408       4  978300275\n",
              "4              1      2355       5  978824291\n",
              "...          ...       ...     ...        ...\n",
              "1000204     6040      1091       1  956716541\n",
              "1000205     6040      1094       5  956704887\n",
              "1000206     6040       562       5  956704746\n",
              "1000207     6040      1096       4  956715648\n",
              "1000208     6040      1097       4  956715569\n",
              "\n",
              "[1000209 rows x 4 columns]"
            ]
          },
          "execution_count": 6,
          "metadata": {},
          "output_type": "execute_result"
        }
      ],
      "source": [
        "ratings"
      ]
    },
    {
      "cell_type": "markdown",
      "source": [
        "### **🍃 02-1_Movies 데이터셋 전처리**"
      ],
      "metadata": {
        "id": "XNK2R9Pg9w4a"
      },
      "id": "XNK2R9Pg9w4a"
    },
    {
      "cell_type": "markdown",
      "source": [
        "- **필요 컬럼 분리**"
      ],
      "metadata": {
        "id": "3IV3ZQwM-CO8"
      },
      "id": "3IV3ZQwM-CO8"
    },
    {
      "cell_type": "code",
      "execution_count": null,
      "id": "3866d861",
      "metadata": {
        "id": "3866d861"
      },
      "outputs": [],
      "source": [
        "movies_cols = ['movie_id', 'title', 'genre'] \n",
        "movies = pd.read_csv(movie_file_path, sep='::', names=movies_cols, engine='python', encoding='ISO-8859-1')\n",
        "movies_data_size = len(movies)"
      ]
    },
    {
      "cell_type": "markdown",
      "source": [
        "- **데이터 수 확인**"
      ],
      "metadata": {
        "id": "ZPvuzgGk-BNL"
      },
      "id": "ZPvuzgGk-BNL"
    },
    {
      "cell_type": "code",
      "execution_count": null,
      "id": "2dbb64a8",
      "metadata": {
        "id": "2dbb64a8",
        "outputId": "a873b5e8-2cde-4420-95ac-9dec0659d59f"
      },
      "outputs": [
        {
          "name": "stdout",
          "output_type": "stream",
          "text": [
            "영화 정보 데이터 레코드 수: 3883\n"
          ]
        }
      ],
      "source": [
        "print('영화 정보 데이터 레코드 수:', movies_data_size)"
      ]
    },
    {
      "cell_type": "markdown",
      "source": [
        "- **데이터 확인**"
      ],
      "metadata": {
        "id": "PjVEzgUU-Le-"
      },
      "id": "PjVEzgUU-Le-"
    },
    {
      "cell_type": "code",
      "execution_count": null,
      "id": "20e37e15",
      "metadata": {
        "id": "20e37e15",
        "outputId": "b18dd5b3-7b4c-4333-ade5-bbfc8969c6d0"
      },
      "outputs": [
        {
          "data": {
            "text/html": [
              "<div>\n",
              "<style scoped>\n",
              "    .dataframe tbody tr th:only-of-type {\n",
              "        vertical-align: middle;\n",
              "    }\n",
              "\n",
              "    .dataframe tbody tr th {\n",
              "        vertical-align: top;\n",
              "    }\n",
              "\n",
              "    .dataframe thead th {\n",
              "        text-align: right;\n",
              "    }\n",
              "</style>\n",
              "<table border=\"1\" class=\"dataframe\">\n",
              "  <thead>\n",
              "    <tr style=\"text-align: right;\">\n",
              "      <th></th>\n",
              "      <th>movie_id</th>\n",
              "      <th>title</th>\n",
              "      <th>genre</th>\n",
              "    </tr>\n",
              "  </thead>\n",
              "  <tbody>\n",
              "    <tr>\n",
              "      <th>0</th>\n",
              "      <td>1</td>\n",
              "      <td>Toy Story (1995)</td>\n",
              "      <td>Animation|Children's|Comedy</td>\n",
              "    </tr>\n",
              "    <tr>\n",
              "      <th>1</th>\n",
              "      <td>2</td>\n",
              "      <td>Jumanji (1995)</td>\n",
              "      <td>Adventure|Children's|Fantasy</td>\n",
              "    </tr>\n",
              "    <tr>\n",
              "      <th>2</th>\n",
              "      <td>3</td>\n",
              "      <td>Grumpier Old Men (1995)</td>\n",
              "      <td>Comedy|Romance</td>\n",
              "    </tr>\n",
              "    <tr>\n",
              "      <th>3</th>\n",
              "      <td>4</td>\n",
              "      <td>Waiting to Exhale (1995)</td>\n",
              "      <td>Comedy|Drama</td>\n",
              "    </tr>\n",
              "    <tr>\n",
              "      <th>4</th>\n",
              "      <td>5</td>\n",
              "      <td>Father of the Bride Part II (1995)</td>\n",
              "      <td>Comedy</td>\n",
              "    </tr>\n",
              "    <tr>\n",
              "      <th>...</th>\n",
              "      <td>...</td>\n",
              "      <td>...</td>\n",
              "      <td>...</td>\n",
              "    </tr>\n",
              "    <tr>\n",
              "      <th>3878</th>\n",
              "      <td>3948</td>\n",
              "      <td>Meet the Parents (2000)</td>\n",
              "      <td>Comedy</td>\n",
              "    </tr>\n",
              "    <tr>\n",
              "      <th>3879</th>\n",
              "      <td>3949</td>\n",
              "      <td>Requiem for a Dream (2000)</td>\n",
              "      <td>Drama</td>\n",
              "    </tr>\n",
              "    <tr>\n",
              "      <th>3880</th>\n",
              "      <td>3950</td>\n",
              "      <td>Tigerland (2000)</td>\n",
              "      <td>Drama</td>\n",
              "    </tr>\n",
              "    <tr>\n",
              "      <th>3881</th>\n",
              "      <td>3951</td>\n",
              "      <td>Two Family House (2000)</td>\n",
              "      <td>Drama</td>\n",
              "    </tr>\n",
              "    <tr>\n",
              "      <th>3882</th>\n",
              "      <td>3952</td>\n",
              "      <td>Contender, The (2000)</td>\n",
              "      <td>Drama|Thriller</td>\n",
              "    </tr>\n",
              "  </tbody>\n",
              "</table>\n",
              "<p>3883 rows × 3 columns</p>\n",
              "</div>"
            ],
            "text/plain": [
              "      movie_id                               title  \\\n",
              "0            1                    Toy Story (1995)   \n",
              "1            2                      Jumanji (1995)   \n",
              "2            3             Grumpier Old Men (1995)   \n",
              "3            4            Waiting to Exhale (1995)   \n",
              "4            5  Father of the Bride Part II (1995)   \n",
              "...        ...                                 ...   \n",
              "3878      3948             Meet the Parents (2000)   \n",
              "3879      3949          Requiem for a Dream (2000)   \n",
              "3880      3950                    Tigerland (2000)   \n",
              "3881      3951             Two Family House (2000)   \n",
              "3882      3952               Contender, The (2000)   \n",
              "\n",
              "                             genre  \n",
              "0      Animation|Children's|Comedy  \n",
              "1     Adventure|Children's|Fantasy  \n",
              "2                   Comedy|Romance  \n",
              "3                     Comedy|Drama  \n",
              "4                           Comedy  \n",
              "...                            ...  \n",
              "3878                        Comedy  \n",
              "3879                         Drama  \n",
              "3880                         Drama  \n",
              "3881                         Drama  \n",
              "3882                Drama|Thriller  \n",
              "\n",
              "[3883 rows x 3 columns]"
            ]
          },
          "execution_count": 9,
          "metadata": {},
          "output_type": "execute_result"
        }
      ],
      "source": [
        "movies"
      ]
    },
    {
      "cell_type": "markdown",
      "source": [
        "- **영화 장르 종류 확인**"
      ],
      "metadata": {
        "id": "Cs9hVMJJ_jG1"
      },
      "id": "Cs9hVMJJ_jG1"
    },
    {
      "cell_type": "code",
      "execution_count": null,
      "id": "0189aac3",
      "metadata": {
        "id": "0189aac3"
      },
      "outputs": [],
      "source": [
        "genre_attribute = movies[\"genre\"]\n",
        "\n",
        "genre_set = set()\n",
        "for _, raw_data in genre_attribute.items():\n",
        "    data = raw_data.split(\"|\")\n",
        "    genre_set.update(data)"
      ]
    },
    {
      "cell_type": "code",
      "execution_count": null,
      "id": "691dee79",
      "metadata": {
        "id": "691dee79",
        "outputId": "ec74b697-a3be-47d2-d711-65c436216110"
      },
      "outputs": [
        {
          "name": "stdout",
          "output_type": "stream",
          "text": [
            "Thriller\n",
            "Sci-Fi\n",
            "Children's\n",
            "Drama\n",
            "Action\n",
            "Mystery\n",
            "Musical\n",
            "Film-Noir\n",
            "Fantasy\n",
            "Western\n",
            "Comedy\n",
            "Documentary\n",
            "Horror\n",
            "Animation\n",
            "Romance\n",
            "Crime\n",
            "War\n",
            "Adventure\n",
            "\n",
            "총 장르 수: 18\n"
          ]
        }
      ],
      "source": [
        "for genre in genre_set:\n",
        "    print(genre)\n",
        "print(\"\\n총 장르 수:\", len(genre_set))"
      ]
    },
    {
      "cell_type": "markdown",
      "source": [
        "### **🍃 02-3_데이터셋 결합**"
      ],
      "metadata": {
        "id": "EI1FYf3k_7sK"
      },
      "id": "EI1FYf3k_7sK"
    },
    {
      "cell_type": "markdown",
      "source": [
        "- **movie_id를 기준으로 두개의 데이터 결합**"
      ],
      "metadata": {
        "id": "9CsDm5KW__z7"
      },
      "id": "9CsDm5KW__z7"
    },
    {
      "cell_type": "code",
      "execution_count": null,
      "id": "d76aed7d",
      "metadata": {
        "id": "d76aed7d"
      },
      "outputs": [],
      "source": [
        "analy_data = ratings.join(movies.set_index(\"movie_id\"), on=\"movie_id\")\n",
        "analy_data.drop([\"movie_id\"], axis=1, inplace=True)"
      ]
    },
    {
      "cell_type": "markdown",
      "source": [
        "- **결합 데이터 확인**"
      ],
      "metadata": {
        "id": "p-OT3LYtAGL-"
      },
      "id": "p-OT3LYtAGL-"
    },
    {
      "cell_type": "code",
      "execution_count": null,
      "id": "85052239",
      "metadata": {
        "id": "85052239",
        "outputId": "02644610-55cb-4c00-ca71-ae020f5151d3"
      },
      "outputs": [
        {
          "data": {
            "text/html": [
              "<div>\n",
              "<style scoped>\n",
              "    .dataframe tbody tr th:only-of-type {\n",
              "        vertical-align: middle;\n",
              "    }\n",
              "\n",
              "    .dataframe tbody tr th {\n",
              "        vertical-align: top;\n",
              "    }\n",
              "\n",
              "    .dataframe thead th {\n",
              "        text-align: right;\n",
              "    }\n",
              "</style>\n",
              "<table border=\"1\" class=\"dataframe\">\n",
              "  <thead>\n",
              "    <tr style=\"text-align: right;\">\n",
              "      <th></th>\n",
              "      <th>user_id</th>\n",
              "      <th>rating</th>\n",
              "      <th>timestamp</th>\n",
              "      <th>title</th>\n",
              "      <th>genre</th>\n",
              "    </tr>\n",
              "  </thead>\n",
              "  <tbody>\n",
              "    <tr>\n",
              "      <th>0</th>\n",
              "      <td>1</td>\n",
              "      <td>5</td>\n",
              "      <td>978300760</td>\n",
              "      <td>One Flew Over the Cuckoo's Nest (1975)</td>\n",
              "      <td>Drama</td>\n",
              "    </tr>\n",
              "    <tr>\n",
              "      <th>1</th>\n",
              "      <td>1</td>\n",
              "      <td>3</td>\n",
              "      <td>978302109</td>\n",
              "      <td>James and the Giant Peach (1996)</td>\n",
              "      <td>Animation|Children's|Musical</td>\n",
              "    </tr>\n",
              "    <tr>\n",
              "      <th>2</th>\n",
              "      <td>1</td>\n",
              "      <td>3</td>\n",
              "      <td>978301968</td>\n",
              "      <td>My Fair Lady (1964)</td>\n",
              "      <td>Musical|Romance</td>\n",
              "    </tr>\n",
              "    <tr>\n",
              "      <th>3</th>\n",
              "      <td>1</td>\n",
              "      <td>4</td>\n",
              "      <td>978300275</td>\n",
              "      <td>Erin Brockovich (2000)</td>\n",
              "      <td>Drama</td>\n",
              "    </tr>\n",
              "    <tr>\n",
              "      <th>4</th>\n",
              "      <td>1</td>\n",
              "      <td>5</td>\n",
              "      <td>978824291</td>\n",
              "      <td>Bug's Life, A (1998)</td>\n",
              "      <td>Animation|Children's|Comedy</td>\n",
              "    </tr>\n",
              "    <tr>\n",
              "      <th>...</th>\n",
              "      <td>...</td>\n",
              "      <td>...</td>\n",
              "      <td>...</td>\n",
              "      <td>...</td>\n",
              "      <td>...</td>\n",
              "    </tr>\n",
              "    <tr>\n",
              "      <th>1000204</th>\n",
              "      <td>6040</td>\n",
              "      <td>1</td>\n",
              "      <td>956716541</td>\n",
              "      <td>Weekend at Bernie's (1989)</td>\n",
              "      <td>Comedy</td>\n",
              "    </tr>\n",
              "    <tr>\n",
              "      <th>1000205</th>\n",
              "      <td>6040</td>\n",
              "      <td>5</td>\n",
              "      <td>956704887</td>\n",
              "      <td>Crying Game, The (1992)</td>\n",
              "      <td>Drama|Romance|War</td>\n",
              "    </tr>\n",
              "    <tr>\n",
              "      <th>1000206</th>\n",
              "      <td>6040</td>\n",
              "      <td>5</td>\n",
              "      <td>956704746</td>\n",
              "      <td>Welcome to the Dollhouse (1995)</td>\n",
              "      <td>Comedy|Drama</td>\n",
              "    </tr>\n",
              "    <tr>\n",
              "      <th>1000207</th>\n",
              "      <td>6040</td>\n",
              "      <td>4</td>\n",
              "      <td>956715648</td>\n",
              "      <td>Sophie's Choice (1982)</td>\n",
              "      <td>Drama</td>\n",
              "    </tr>\n",
              "    <tr>\n",
              "      <th>1000208</th>\n",
              "      <td>6040</td>\n",
              "      <td>4</td>\n",
              "      <td>956715569</td>\n",
              "      <td>E.T. the Extra-Terrestrial (1982)</td>\n",
              "      <td>Children's|Drama|Fantasy|Sci-Fi</td>\n",
              "    </tr>\n",
              "  </tbody>\n",
              "</table>\n",
              "<p>1000209 rows × 5 columns</p>\n",
              "</div>"
            ],
            "text/plain": [
              "         user_id  rating  timestamp                                   title  \\\n",
              "0              1       5  978300760  One Flew Over the Cuckoo's Nest (1975)   \n",
              "1              1       3  978302109        James and the Giant Peach (1996)   \n",
              "2              1       3  978301968                     My Fair Lady (1964)   \n",
              "3              1       4  978300275                  Erin Brockovich (2000)   \n",
              "4              1       5  978824291                    Bug's Life, A (1998)   \n",
              "...          ...     ...        ...                                     ...   \n",
              "1000204     6040       1  956716541              Weekend at Bernie's (1989)   \n",
              "1000205     6040       5  956704887                 Crying Game, The (1992)   \n",
              "1000206     6040       5  956704746         Welcome to the Dollhouse (1995)   \n",
              "1000207     6040       4  956715648                  Sophie's Choice (1982)   \n",
              "1000208     6040       4  956715569       E.T. the Extra-Terrestrial (1982)   \n",
              "\n",
              "                                   genre  \n",
              "0                                  Drama  \n",
              "1           Animation|Children's|Musical  \n",
              "2                        Musical|Romance  \n",
              "3                                  Drama  \n",
              "4            Animation|Children's|Comedy  \n",
              "...                                  ...  \n",
              "1000204                           Comedy  \n",
              "1000205                Drama|Romance|War  \n",
              "1000206                     Comedy|Drama  \n",
              "1000207                            Drama  \n",
              "1000208  Children's|Drama|Fantasy|Sci-Fi  \n",
              "\n",
              "[1000209 rows x 5 columns]"
            ]
          },
          "execution_count": 13,
          "metadata": {},
          "output_type": "execute_result"
        }
      ],
      "source": [
        "analy_data"
      ]
    },
    {
      "cell_type": "markdown",
      "source": [
        "### **🍃 02-4_결합 데이터셋 전처리**"
      ],
      "metadata": {
        "id": "KLmDMW2QANlr"
      },
      "id": "KLmDMW2QANlr"
    },
    {
      "cell_type": "markdown",
      "source": [
        "- **이용자 평가 년도 추출**  "
      ],
      "metadata": {
        "id": "Anff6feeASmO"
      },
      "id": "Anff6feeASmO"
    },
    {
      "cell_type": "code",
      "execution_count": null,
      "id": "aaaa8044",
      "metadata": {
        "id": "aaaa8044"
      },
      "outputs": [],
      "source": [
        "analy_data[\"timestamp\"] = analy_data[\"timestamp\"].apply(lambda x: datetime.fromtimestamp(x).year)"
      ]
    },
    {
      "cell_type": "markdown",
      "source": [
        "- **데이터 확인**  "
      ],
      "metadata": {
        "id": "Hnp_Yd4rAdRS"
      },
      "id": "Hnp_Yd4rAdRS"
    },
    {
      "cell_type": "code",
      "execution_count": null,
      "id": "93cf96e1",
      "metadata": {
        "id": "93cf96e1",
        "outputId": "2947bb62-41d9-4b32-8981-f50521574f30"
      },
      "outputs": [
        {
          "data": {
            "text/html": [
              "<div>\n",
              "<style scoped>\n",
              "    .dataframe tbody tr th:only-of-type {\n",
              "        vertical-align: middle;\n",
              "    }\n",
              "\n",
              "    .dataframe tbody tr th {\n",
              "        vertical-align: top;\n",
              "    }\n",
              "\n",
              "    .dataframe thead th {\n",
              "        text-align: right;\n",
              "    }\n",
              "</style>\n",
              "<table border=\"1\" class=\"dataframe\">\n",
              "  <thead>\n",
              "    <tr style=\"text-align: right;\">\n",
              "      <th></th>\n",
              "      <th>user_id</th>\n",
              "      <th>rating</th>\n",
              "      <th>timestamp</th>\n",
              "      <th>title</th>\n",
              "      <th>genre</th>\n",
              "    </tr>\n",
              "  </thead>\n",
              "  <tbody>\n",
              "    <tr>\n",
              "      <th>0</th>\n",
              "      <td>1</td>\n",
              "      <td>5</td>\n",
              "      <td>2000</td>\n",
              "      <td>One Flew Over the Cuckoo's Nest (1975)</td>\n",
              "      <td>Drama</td>\n",
              "    </tr>\n",
              "    <tr>\n",
              "      <th>1</th>\n",
              "      <td>1</td>\n",
              "      <td>3</td>\n",
              "      <td>2000</td>\n",
              "      <td>James and the Giant Peach (1996)</td>\n",
              "      <td>Animation|Children's|Musical</td>\n",
              "    </tr>\n",
              "    <tr>\n",
              "      <th>2</th>\n",
              "      <td>1</td>\n",
              "      <td>3</td>\n",
              "      <td>2000</td>\n",
              "      <td>My Fair Lady (1964)</td>\n",
              "      <td>Musical|Romance</td>\n",
              "    </tr>\n",
              "    <tr>\n",
              "      <th>3</th>\n",
              "      <td>1</td>\n",
              "      <td>4</td>\n",
              "      <td>2000</td>\n",
              "      <td>Erin Brockovich (2000)</td>\n",
              "      <td>Drama</td>\n",
              "    </tr>\n",
              "    <tr>\n",
              "      <th>4</th>\n",
              "      <td>1</td>\n",
              "      <td>5</td>\n",
              "      <td>2001</td>\n",
              "      <td>Bug's Life, A (1998)</td>\n",
              "      <td>Animation|Children's|Comedy</td>\n",
              "    </tr>\n",
              "    <tr>\n",
              "      <th>...</th>\n",
              "      <td>...</td>\n",
              "      <td>...</td>\n",
              "      <td>...</td>\n",
              "      <td>...</td>\n",
              "      <td>...</td>\n",
              "    </tr>\n",
              "    <tr>\n",
              "      <th>1000204</th>\n",
              "      <td>6040</td>\n",
              "      <td>1</td>\n",
              "      <td>2000</td>\n",
              "      <td>Weekend at Bernie's (1989)</td>\n",
              "      <td>Comedy</td>\n",
              "    </tr>\n",
              "    <tr>\n",
              "      <th>1000205</th>\n",
              "      <td>6040</td>\n",
              "      <td>5</td>\n",
              "      <td>2000</td>\n",
              "      <td>Crying Game, The (1992)</td>\n",
              "      <td>Drama|Romance|War</td>\n",
              "    </tr>\n",
              "    <tr>\n",
              "      <th>1000206</th>\n",
              "      <td>6040</td>\n",
              "      <td>5</td>\n",
              "      <td>2000</td>\n",
              "      <td>Welcome to the Dollhouse (1995)</td>\n",
              "      <td>Comedy|Drama</td>\n",
              "    </tr>\n",
              "    <tr>\n",
              "      <th>1000207</th>\n",
              "      <td>6040</td>\n",
              "      <td>4</td>\n",
              "      <td>2000</td>\n",
              "      <td>Sophie's Choice (1982)</td>\n",
              "      <td>Drama</td>\n",
              "    </tr>\n",
              "    <tr>\n",
              "      <th>1000208</th>\n",
              "      <td>6040</td>\n",
              "      <td>4</td>\n",
              "      <td>2000</td>\n",
              "      <td>E.T. the Extra-Terrestrial (1982)</td>\n",
              "      <td>Children's|Drama|Fantasy|Sci-Fi</td>\n",
              "    </tr>\n",
              "  </tbody>\n",
              "</table>\n",
              "<p>1000209 rows × 5 columns</p>\n",
              "</div>"
            ],
            "text/plain": [
              "         user_id  rating  timestamp                                   title  \\\n",
              "0              1       5       2000  One Flew Over the Cuckoo's Nest (1975)   \n",
              "1              1       3       2000        James and the Giant Peach (1996)   \n",
              "2              1       3       2000                     My Fair Lady (1964)   \n",
              "3              1       4       2000                  Erin Brockovich (2000)   \n",
              "4              1       5       2001                    Bug's Life, A (1998)   \n",
              "...          ...     ...        ...                                     ...   \n",
              "1000204     6040       1       2000              Weekend at Bernie's (1989)   \n",
              "1000205     6040       5       2000                 Crying Game, The (1992)   \n",
              "1000206     6040       5       2000         Welcome to the Dollhouse (1995)   \n",
              "1000207     6040       4       2000                  Sophie's Choice (1982)   \n",
              "1000208     6040       4       2000       E.T. the Extra-Terrestrial (1982)   \n",
              "\n",
              "                                   genre  \n",
              "0                                  Drama  \n",
              "1           Animation|Children's|Musical  \n",
              "2                        Musical|Romance  \n",
              "3                                  Drama  \n",
              "4            Animation|Children's|Comedy  \n",
              "...                                  ...  \n",
              "1000204                           Comedy  \n",
              "1000205                Drama|Romance|War  \n",
              "1000206                     Comedy|Drama  \n",
              "1000207                            Drama  \n",
              "1000208  Children's|Drama|Fantasy|Sci-Fi  \n",
              "\n",
              "[1000209 rows x 5 columns]"
            ]
          },
          "execution_count": 15,
          "metadata": {},
          "output_type": "execute_result"
        }
      ],
      "source": [
        "analy_data"
      ]
    },
    {
      "cell_type": "markdown",
      "source": [
        "- **영화 개봉 년도 분할**  "
      ],
      "metadata": {
        "id": "7LW-HaOhAf4y"
      },
      "id": "7LW-HaOhAf4y"
    },
    {
      "cell_type": "code",
      "execution_count": null,
      "id": "e1668344",
      "metadata": {
        "id": "e1668344"
      },
      "outputs": [],
      "source": [
        "movie_year = analy_data[\"title\"]\n",
        "movie_year = movie_year.apply(lambda x: x[-5:-1])"
      ]
    },
    {
      "cell_type": "code",
      "execution_count": null,
      "id": "57d08d1f",
      "metadata": {
        "id": "57d08d1f"
      },
      "outputs": [],
      "source": [
        "analy_data[\"title\"] = analy_data[\"title\"].apply(lambda x: x[:-7])\n",
        "analy_data[\"movie_year\"] = movie_year"
      ]
    },
    {
      "cell_type": "markdown",
      "source": [
        "- **최종 전처리 데이터 확인**  "
      ],
      "metadata": {
        "id": "3D99NHHsApIY"
      },
      "id": "3D99NHHsApIY"
    },
    {
      "cell_type": "code",
      "execution_count": null,
      "id": "6cc7fb29",
      "metadata": {
        "id": "6cc7fb29",
        "outputId": "b29245b5-59dc-43d3-e4e2-3a0c3f5afef8"
      },
      "outputs": [
        {
          "data": {
            "text/html": [
              "<div>\n",
              "<style scoped>\n",
              "    .dataframe tbody tr th:only-of-type {\n",
              "        vertical-align: middle;\n",
              "    }\n",
              "\n",
              "    .dataframe tbody tr th {\n",
              "        vertical-align: top;\n",
              "    }\n",
              "\n",
              "    .dataframe thead th {\n",
              "        text-align: right;\n",
              "    }\n",
              "</style>\n",
              "<table border=\"1\" class=\"dataframe\">\n",
              "  <thead>\n",
              "    <tr style=\"text-align: right;\">\n",
              "      <th></th>\n",
              "      <th>user_id</th>\n",
              "      <th>rating</th>\n",
              "      <th>timestamp</th>\n",
              "      <th>title</th>\n",
              "      <th>genre</th>\n",
              "      <th>movie_year</th>\n",
              "    </tr>\n",
              "  </thead>\n",
              "  <tbody>\n",
              "    <tr>\n",
              "      <th>0</th>\n",
              "      <td>1</td>\n",
              "      <td>5</td>\n",
              "      <td>2000</td>\n",
              "      <td>One Flew Over the Cuckoo's Nest</td>\n",
              "      <td>Drama</td>\n",
              "      <td>1975</td>\n",
              "    </tr>\n",
              "    <tr>\n",
              "      <th>1</th>\n",
              "      <td>1</td>\n",
              "      <td>3</td>\n",
              "      <td>2000</td>\n",
              "      <td>James and the Giant Peach</td>\n",
              "      <td>Animation|Children's|Musical</td>\n",
              "      <td>1996</td>\n",
              "    </tr>\n",
              "    <tr>\n",
              "      <th>2</th>\n",
              "      <td>1</td>\n",
              "      <td>3</td>\n",
              "      <td>2000</td>\n",
              "      <td>My Fair Lady</td>\n",
              "      <td>Musical|Romance</td>\n",
              "      <td>1964</td>\n",
              "    </tr>\n",
              "    <tr>\n",
              "      <th>3</th>\n",
              "      <td>1</td>\n",
              "      <td>4</td>\n",
              "      <td>2000</td>\n",
              "      <td>Erin Brockovich</td>\n",
              "      <td>Drama</td>\n",
              "      <td>2000</td>\n",
              "    </tr>\n",
              "    <tr>\n",
              "      <th>4</th>\n",
              "      <td>1</td>\n",
              "      <td>5</td>\n",
              "      <td>2001</td>\n",
              "      <td>Bug's Life, A</td>\n",
              "      <td>Animation|Children's|Comedy</td>\n",
              "      <td>1998</td>\n",
              "    </tr>\n",
              "    <tr>\n",
              "      <th>...</th>\n",
              "      <td>...</td>\n",
              "      <td>...</td>\n",
              "      <td>...</td>\n",
              "      <td>...</td>\n",
              "      <td>...</td>\n",
              "      <td>...</td>\n",
              "    </tr>\n",
              "    <tr>\n",
              "      <th>1000204</th>\n",
              "      <td>6040</td>\n",
              "      <td>1</td>\n",
              "      <td>2000</td>\n",
              "      <td>Weekend at Bernie's</td>\n",
              "      <td>Comedy</td>\n",
              "      <td>1989</td>\n",
              "    </tr>\n",
              "    <tr>\n",
              "      <th>1000205</th>\n",
              "      <td>6040</td>\n",
              "      <td>5</td>\n",
              "      <td>2000</td>\n",
              "      <td>Crying Game, The</td>\n",
              "      <td>Drama|Romance|War</td>\n",
              "      <td>1992</td>\n",
              "    </tr>\n",
              "    <tr>\n",
              "      <th>1000206</th>\n",
              "      <td>6040</td>\n",
              "      <td>5</td>\n",
              "      <td>2000</td>\n",
              "      <td>Welcome to the Dollhouse</td>\n",
              "      <td>Comedy|Drama</td>\n",
              "      <td>1995</td>\n",
              "    </tr>\n",
              "    <tr>\n",
              "      <th>1000207</th>\n",
              "      <td>6040</td>\n",
              "      <td>4</td>\n",
              "      <td>2000</td>\n",
              "      <td>Sophie's Choice</td>\n",
              "      <td>Drama</td>\n",
              "      <td>1982</td>\n",
              "    </tr>\n",
              "    <tr>\n",
              "      <th>1000208</th>\n",
              "      <td>6040</td>\n",
              "      <td>4</td>\n",
              "      <td>2000</td>\n",
              "      <td>E.T. the Extra-Terrestrial</td>\n",
              "      <td>Children's|Drama|Fantasy|Sci-Fi</td>\n",
              "      <td>1982</td>\n",
              "    </tr>\n",
              "  </tbody>\n",
              "</table>\n",
              "<p>1000209 rows × 6 columns</p>\n",
              "</div>"
            ],
            "text/plain": [
              "         user_id  rating  timestamp                            title  \\\n",
              "0              1       5       2000  One Flew Over the Cuckoo's Nest   \n",
              "1              1       3       2000        James and the Giant Peach   \n",
              "2              1       3       2000                     My Fair Lady   \n",
              "3              1       4       2000                  Erin Brockovich   \n",
              "4              1       5       2001                    Bug's Life, A   \n",
              "...          ...     ...        ...                              ...   \n",
              "1000204     6040       1       2000              Weekend at Bernie's   \n",
              "1000205     6040       5       2000                 Crying Game, The   \n",
              "1000206     6040       5       2000         Welcome to the Dollhouse   \n",
              "1000207     6040       4       2000                  Sophie's Choice   \n",
              "1000208     6040       4       2000       E.T. the Extra-Terrestrial   \n",
              "\n",
              "                                   genre movie_year  \n",
              "0                                  Drama       1975  \n",
              "1           Animation|Children's|Musical       1996  \n",
              "2                        Musical|Romance       1964  \n",
              "3                                  Drama       2000  \n",
              "4            Animation|Children's|Comedy       1998  \n",
              "...                                  ...        ...  \n",
              "1000204                           Comedy       1989  \n",
              "1000205                Drama|Romance|War       1992  \n",
              "1000206                     Comedy|Drama       1995  \n",
              "1000207                            Drama       1982  \n",
              "1000208  Children's|Drama|Fantasy|Sci-Fi       1982  \n",
              "\n",
              "[1000209 rows x 6 columns]"
            ]
          },
          "execution_count": 18,
          "metadata": {},
          "output_type": "execute_result"
        }
      ],
      "source": [
        "analy_data"
      ]
    },
    {
      "cell_type": "markdown",
      "source": [
        "## **🌿 03_데이터 분석**"
      ],
      "metadata": {
        "id": "se3dnG-wAvNQ"
      },
      "id": "se3dnG-wAvNQ"
    },
    {
      "cell_type": "markdown",
      "source": [
        "### **🍃 03-1_사용자 수 확인**"
      ],
      "metadata": {
        "id": "2NQIGR11A4kh"
      },
      "id": "2NQIGR11A4kh"
    },
    {
      "cell_type": "code",
      "execution_count": null,
      "id": "51aa7566",
      "metadata": {
        "id": "51aa7566"
      },
      "outputs": [],
      "source": [
        "user_num = analy_data['user_id'].nunique()"
      ]
    },
    {
      "cell_type": "code",
      "execution_count": null,
      "id": "718d8dc2",
      "metadata": {
        "id": "718d8dc2",
        "outputId": "4f60427c-c2b5-420d-de3c-68c935a96279"
      },
      "outputs": [
        {
          "name": "stdout",
          "output_type": "stream",
          "text": [
            "사용자 수: 6040\n"
          ]
        }
      ],
      "source": [
        "print(\"사용자 수:\", user_num)"
      ]
    },
    {
      "cell_type": "markdown",
      "source": [
        "### **🍃 03-2_연도별 평점 수 확인**"
      ],
      "metadata": {
        "id": "f5pnXiaYA_V7"
      },
      "id": "f5pnXiaYA_V7"
    },
    {
      "cell_type": "markdown",
      "source": [
        "- **2000년에 가장 많은 평점 등록**"
      ],
      "metadata": {
        "id": "rW_FtrtIBb5Q"
      },
      "id": "rW_FtrtIBb5Q"
    },
    {
      "cell_type": "code",
      "execution_count": null,
      "id": "32fd6467",
      "metadata": {
        "id": "32fd6467"
      },
      "outputs": [],
      "source": [
        "year_data = analy_data[[\"rating\", \"timestamp\"]]\n",
        "year_data = year_data.groupby(\"timestamp\").count()"
      ]
    },
    {
      "cell_type": "code",
      "execution_count": null,
      "id": "dbd6146d",
      "metadata": {
        "id": "dbd6146d",
        "outputId": "9bf31fbf-919e-45db-c0ee-86fbae62f1af"
      },
      "outputs": [
        {
          "data": {
            "image/png": "[encoded data removed]",
            "text/plain": [
              "<Figure size 432x288 with 1 Axes>"
            ]
          },
          "metadata": {
            "needs_background": "light"
          },
          "output_type": "display_data"
        }
      ],
      "source": [
        "year_data.plot.bar(color=\"#1e90ff\")\n",
        "plt.show()"
      ]
    },
    {
      "cell_type": "code",
      "execution_count": null,
      "id": "82cf32d8",
      "metadata": {
        "id": "82cf32d8",
        "outputId": "2753223d-c8e4-49ee-88e5-f569c16d5149"
      },
      "outputs": [
        {
          "data": {
            "text/html": [
              "<div>\n",
              "<style scoped>\n",
              "    .dataframe tbody tr th:only-of-type {\n",
              "        vertical-align: middle;\n",
              "    }\n",
              "\n",
              "    .dataframe tbody tr th {\n",
              "        vertical-align: top;\n",
              "    }\n",
              "\n",
              "    .dataframe thead th {\n",
              "        text-align: right;\n",
              "    }\n",
              "</style>\n",
              "<table border=\"1\" class=\"dataframe\">\n",
              "  <thead>\n",
              "    <tr style=\"text-align: right;\">\n",
              "      <th></th>\n",
              "      <th>rating</th>\n",
              "    </tr>\n",
              "    <tr>\n",
              "      <th>timestamp</th>\n",
              "      <th></th>\n",
              "    </tr>\n",
              "  </thead>\n",
              "  <tbody>\n",
              "    <tr>\n",
              "      <th>2000</th>\n",
              "      <td>904757</td>\n",
              "    </tr>\n",
              "    <tr>\n",
              "      <th>2001</th>\n",
              "      <td>68058</td>\n",
              "    </tr>\n",
              "    <tr>\n",
              "      <th>2002</th>\n",
              "      <td>24046</td>\n",
              "    </tr>\n",
              "    <tr>\n",
              "      <th>2003</th>\n",
              "      <td>3348</td>\n",
              "    </tr>\n",
              "  </tbody>\n",
              "</table>\n",
              "</div>"
            ],
            "text/plain": [
              "           rating\n",
              "timestamp        \n",
              "2000       904757\n",
              "2001        68058\n",
              "2002        24046\n",
              "2003         3348"
            ]
          },
          "execution_count": 23,
          "metadata": {},
          "output_type": "execute_result"
        }
      ],
      "source": [
        "year_data"
      ]
    },
    {
      "cell_type": "markdown",
      "source": [
        "### **🍃 03-3_영화 개봉 연도별 평점 수 확인**"
      ],
      "metadata": {
        "id": "8E1aGUwABI2w"
      },
      "id": "8E1aGUwABI2w"
    },
    {
      "cell_type": "markdown",
      "source": [
        "- **최신 영화일수록 평점 수 분포가 많음**  "
      ],
      "metadata": {
        "id": "DNvgPecfBQJZ"
      },
      "id": "DNvgPecfBQJZ"
    },
    {
      "cell_type": "code",
      "execution_count": null,
      "id": "d8f7c3f1",
      "metadata": {
        "id": "d8f7c3f1"
      },
      "outputs": [],
      "source": [
        "year_data = analy_data[[\"rating\", \"movie_year\"]]\n",
        "year_data = year_data.groupby(\"movie_year\").count()"
      ]
    },
    {
      "cell_type": "code",
      "execution_count": null,
      "id": "2fe4a223",
      "metadata": {
        "id": "2fe4a223",
        "outputId": "60a72567-c61e-4f04-f38c-c4046209309f"
      },
      "outputs": [
        {
          "data": {
            "image/png": "[encoded data removed]",
            "text/plain": [
              "<Figure size 1080x360 with 1 Axes>"
            ]
          },
          "metadata": {
            "needs_background": "light"
          },
          "output_type": "display_data"
        }
      ],
      "source": [
        "year_data.plot.bar(color=\"#1e90ff\", figsize = (15, 5))\n",
        "plt.show()"
      ]
    },
    {
      "cell_type": "markdown",
      "source": [
        "### **🍃 03-4_이용자별 영화 시청 통계 확인**"
      ],
      "metadata": {
        "id": "biK2ZxIlBh27"
      },
      "id": "biK2ZxIlBh27"
    },
    {
      "cell_type": "markdown",
      "source": [
        "- **전체 이용자 수 6040명이 1인당 약 165편의 영화를 시청**"
      ],
      "metadata": {
        "id": "Hi9Krt4wBmW5"
      },
      "id": "Hi9Krt4wBmW5"
    },
    {
      "cell_type": "code",
      "execution_count": null,
      "id": "15f466cd",
      "metadata": {
        "id": "15f466cd"
      },
      "outputs": [],
      "source": [
        "user_count = analy_data.groupby('user_id')['title'].count("
      ]
    },
    {
      "cell_type": "code",
      "execution_count": null,
      "id": "87abb039",
      "metadata": {
        "id": "87abb039",
        "outputId": "fccee4f5-ab67-430f-a423-a49964822d0b"
      },
      "outputs": [
        {
          "data": {
            "text/plain": [
              "count    6040.000000\n",
              "mean      165.597517\n",
              "std       192.747029\n",
              "min        20.000000\n",
              "25%        44.000000\n",
              "50%        96.000000\n",
              "75%       208.000000\n",
              "max      2314.000000\n",
              "Name: title, dtype: float64"
            ]
          },
          "execution_count": 27,
          "metadata": {},
          "output_type": "execute_result"
        }
      ],
      "source": [
        "user_count.describe()"
      ]
    },
    {
      "cell_type": "markdown",
      "source": [
        "### **🍃 03-5_이용자별 별점 평균 확인**"
      ],
      "metadata": {
        "id": "a9mSOkgVB7ul"
      },
      "id": "a9mSOkgVB7ul"
    },
    {
      "cell_type": "markdown",
      "source": [
        "- **이용자 평균 약 3.8점의 평가 점수를 부여**"
      ],
      "metadata": {
        "id": "zCFbS6e5CLOe"
      },
      "id": "zCFbS6e5CLOe"
    },
    {
      "cell_type": "code",
      "execution_count": null,
      "id": "dfb50846",
      "metadata": {
        "id": "dfb50846"
      },
      "outputs": [],
      "source": [
        "user_median = analy_data.groupby('user_id')['rating'].median()"
      ]
    },
    {
      "cell_type": "code",
      "execution_count": null,
      "id": "26df550b",
      "metadata": {
        "id": "26df550b",
        "outputId": "aab02752-4d73-449e-89a0-558d62ca54a0"
      },
      "outputs": [
        {
          "data": {
            "text/plain": [
              "count    6040.000000\n",
              "mean        3.840811\n",
              "std         0.577449\n",
              "min         1.000000\n",
              "25%         4.000000\n",
              "50%         4.000000\n",
              "75%         4.000000\n",
              "max         5.000000\n",
              "Name: rating, dtype: float64"
            ]
          },
          "execution_count": 29,
          "metadata": {},
          "output_type": "execute_result"
        }
      ],
      "source": [
        "user_median.describe()"
      ]
    },
    {
      "cell_type": "markdown",
      "source": [
        "### **🍃 03-6_상위 30개 영화 확인**"
      ],
      "metadata": {
        "id": "llSxWuZ3CWdm"
      },
      "id": "llSxWuZ3CWdm"
    },
    {
      "cell_type": "markdown",
      "source": [
        "- **영화 관람 수 및 평점을 고려한 상위 30개 영화 확인**"
      ],
      "metadata": {
        "id": "KEtmfLJVCclN"
      },
      "id": "KEtmfLJVCclN"
    },
    {
      "cell_type": "code",
      "execution_count": null,
      "id": "4b609801",
      "metadata": {
        "id": "4b609801"
      },
      "outputs": [],
      "source": [
        "view_count = analy_data.groupby('title')[\"user_id\"].count()\n",
        "rating_mean = analy_data.groupby('title')[\"rating\"].mean()\n",
        "\n",
        "N, c = view_count.sum(), math.sqrt(2)\n",
        "\n",
        "#Q - c * 1 * (sqrt(N) / n)\n",
        "own_value_sys = rating_mean - c * (math.sqrt(N) / view_count)\n",
        "own_value_sys.sort_values(ascending=False, inplace=True)"
      ]
    },
    {
      "cell_type": "code",
      "execution_count": null,
      "id": "2aa59bba",
      "metadata": {
        "id": "2aa59bba",
        "outputId": "ada9edf3-8941-4a74-c897-b505a0e62a79"
      },
      "outputs": [
        {
          "data": {
            "text/plain": [
              "title\n",
              "Star Wars: Episode IV - A New Hope                3.980822\n",
              "Shawshank Redemption, The                         3.919461\n",
              "Raiders of the Lost Ark                           3.915131\n",
              "American Beauty                                   3.904795\n",
              "Schindler's List                                  3.896545\n",
              "Godfather, The                                    3.888726\n",
              "Sixth Sense, The                                  3.831085\n",
              "Star Wars: Episode V - The Empire Strikes Back    3.819946\n",
              "Saving Private Ryan                               3.804236\n",
              "Silence of the Lambs, The                         3.803196\n",
              "Matrix, The                                       3.769745\n",
              "Usual Suspects, The                               3.723858\n",
              "Princess Bride, The                               3.693546\n",
              "Fargo                                             3.691858\n",
              "Braveheart                                        3.656013\n",
              "Pulp Fiction                                      3.626734\n",
              "L.A. Confidential                                 3.601241\n",
              "One Flew Over the Cuckoo's Nest                   3.570805\n",
              "Casablanca                                        3.565392\n",
              "Star Wars: Episode VI - Return of the Jedi        3.532306\n",
              "Shakespeare in Love                               3.530451\n",
              "Terminator 2: Judgment Day                        3.524590\n",
              "Godfather: Part II, The                           3.521654\n",
              "Being John Malkovich                              3.494261\n",
              "Blade Runner                                      3.487577\n",
              "Terminator, The                                   3.477902\n",
              "Toy Story                                         3.465883\n",
              "Alien                                             3.460790\n",
              "Monty Python and the Holy Grail                   3.450681\n",
              "Forrest Gump                                      3.443318\n",
              "dtype: float64"
            ]
          },
          "execution_count": 31,
          "metadata": {},
          "output_type": "execute_result"
        }
      ],
      "source": [
        "own_value_sys.head(30)"
      ]
    },
    {
      "cell_type": "markdown",
      "source": [
        "## **🌿 04_2차 데이터 전처리**"
      ],
      "metadata": {
        "id": "1t5B5casC5-w"
      },
      "id": "1t5B5casC5-w"
    },
    {
      "cell_type": "markdown",
      "source": [
        "### **🍃 04-1_평점 3점 미만 데이터 삭제**"
      ],
      "metadata": {
        "id": "lwJ-3qfBC_EP"
      },
      "id": "lwJ-3qfBC_EP"
    },
    {
      "cell_type": "code",
      "execution_count": null,
      "id": "5464fbd9",
      "metadata": {
        "id": "5464fbd9"
      },
      "outputs": [],
      "source": [
        "data = ratings.drop([\"timestamp\"], axis=1)\n",
        "data = data[data['rating'] >= 3]"
      ]
    },
    {
      "cell_type": "code",
      "execution_count": null,
      "id": "90c7adaa",
      "metadata": {
        "id": "90c7adaa",
        "outputId": "f94f3e9c-0ede-4df0-81a3-e66d03797e53"
      },
      "outputs": [
        {
          "data": {
            "text/html": [
              "<div>\n",
              "<style scoped>\n",
              "    .dataframe tbody tr th:only-of-type {\n",
              "        vertical-align: middle;\n",
              "    }\n",
              "\n",
              "    .dataframe tbody tr th {\n",
              "        vertical-align: top;\n",
              "    }\n",
              "\n",
              "    .dataframe thead th {\n",
              "        text-align: right;\n",
              "    }\n",
              "</style>\n",
              "<table border=\"1\" class=\"dataframe\">\n",
              "  <thead>\n",
              "    <tr style=\"text-align: right;\">\n",
              "      <th></th>\n",
              "      <th>user_id</th>\n",
              "      <th>movie_id</th>\n",
              "      <th>rating</th>\n",
              "    </tr>\n",
              "  </thead>\n",
              "  <tbody>\n",
              "    <tr>\n",
              "      <th>0</th>\n",
              "      <td>1</td>\n",
              "      <td>1193</td>\n",
              "      <td>5</td>\n",
              "    </tr>\n",
              "    <tr>\n",
              "      <th>1</th>\n",
              "      <td>1</td>\n",
              "      <td>661</td>\n",
              "      <td>3</td>\n",
              "    </tr>\n",
              "    <tr>\n",
              "      <th>2</th>\n",
              "      <td>1</td>\n",
              "      <td>914</td>\n",
              "      <td>3</td>\n",
              "    </tr>\n",
              "    <tr>\n",
              "      <th>3</th>\n",
              "      <td>1</td>\n",
              "      <td>3408</td>\n",
              "      <td>4</td>\n",
              "    </tr>\n",
              "    <tr>\n",
              "      <th>4</th>\n",
              "      <td>1</td>\n",
              "      <td>2355</td>\n",
              "      <td>5</td>\n",
              "    </tr>\n",
              "    <tr>\n",
              "      <th>...</th>\n",
              "      <td>...</td>\n",
              "      <td>...</td>\n",
              "      <td>...</td>\n",
              "    </tr>\n",
              "    <tr>\n",
              "      <th>1000203</th>\n",
              "      <td>6040</td>\n",
              "      <td>1090</td>\n",
              "      <td>3</td>\n",
              "    </tr>\n",
              "    <tr>\n",
              "      <th>1000205</th>\n",
              "      <td>6040</td>\n",
              "      <td>1094</td>\n",
              "      <td>5</td>\n",
              "    </tr>\n",
              "    <tr>\n",
              "      <th>1000206</th>\n",
              "      <td>6040</td>\n",
              "      <td>562</td>\n",
              "      <td>5</td>\n",
              "    </tr>\n",
              "    <tr>\n",
              "      <th>1000207</th>\n",
              "      <td>6040</td>\n",
              "      <td>1096</td>\n",
              "      <td>4</td>\n",
              "    </tr>\n",
              "    <tr>\n",
              "      <th>1000208</th>\n",
              "      <td>6040</td>\n",
              "      <td>1097</td>\n",
              "      <td>4</td>\n",
              "    </tr>\n",
              "  </tbody>\n",
              "</table>\n",
              "<p>836478 rows × 3 columns</p>\n",
              "</div>"
            ],
            "text/plain": [
              "         user_id  movie_id  rating\n",
              "0              1      1193       5\n",
              "1              1       661       3\n",
              "2              1       914       3\n",
              "3              1      3408       4\n",
              "4              1      2355       5\n",
              "...          ...       ...     ...\n",
              "1000203     6040      1090       3\n",
              "1000205     6040      1094       5\n",
              "1000206     6040       562       5\n",
              "1000207     6040      1096       4\n",
              "1000208     6040      1097       4\n",
              "\n",
              "[836478 rows x 3 columns]"
            ]
          },
          "execution_count": 33,
          "metadata": {},
          "output_type": "execute_result"
        }
      ],
      "source": [
        "data"
      ]
    },
    {
      "cell_type": "markdown",
      "source": [
        "### **🍃 04-2_영화 제목 소문자 변환**"
      ],
      "metadata": {
        "id": "gXnRR5OsDPEJ"
      },
      "id": "gXnRR5OsDPEJ"
    },
    {
      "cell_type": "code",
      "execution_count": null,
      "id": "65d82bc2",
      "metadata": {
        "id": "65d82bc2"
      },
      "outputs": [],
      "source": [
        "movies['title'] = movies['title'].str.lower()"
      ]
    },
    {
      "cell_type": "code",
      "execution_count": null,
      "id": "ab8c1806",
      "metadata": {
        "id": "ab8c1806",
        "outputId": "e189e1e8-0d5b-4464-882f-fa9ef074fe1c"
      },
      "outputs": [
        {
          "data": {
            "text/html": [
              "<div>\n",
              "<style scoped>\n",
              "    .dataframe tbody tr th:only-of-type {\n",
              "        vertical-align: middle;\n",
              "    }\n",
              "\n",
              "    .dataframe tbody tr th {\n",
              "        vertical-align: top;\n",
              "    }\n",
              "\n",
              "    .dataframe thead th {\n",
              "        text-align: right;\n",
              "    }\n",
              "</style>\n",
              "<table border=\"1\" class=\"dataframe\">\n",
              "  <thead>\n",
              "    <tr style=\"text-align: right;\">\n",
              "      <th></th>\n",
              "      <th>movie_id</th>\n",
              "      <th>title</th>\n",
              "      <th>genre</th>\n",
              "    </tr>\n",
              "  </thead>\n",
              "  <tbody>\n",
              "    <tr>\n",
              "      <th>0</th>\n",
              "      <td>1</td>\n",
              "      <td>toy story (1995)</td>\n",
              "      <td>Animation|Children's|Comedy</td>\n",
              "    </tr>\n",
              "    <tr>\n",
              "      <th>1</th>\n",
              "      <td>2</td>\n",
              "      <td>jumanji (1995)</td>\n",
              "      <td>Adventure|Children's|Fantasy</td>\n",
              "    </tr>\n",
              "    <tr>\n",
              "      <th>2</th>\n",
              "      <td>3</td>\n",
              "      <td>grumpier old men (1995)</td>\n",
              "      <td>Comedy|Romance</td>\n",
              "    </tr>\n",
              "    <tr>\n",
              "      <th>3</th>\n",
              "      <td>4</td>\n",
              "      <td>waiting to exhale (1995)</td>\n",
              "      <td>Comedy|Drama</td>\n",
              "    </tr>\n",
              "    <tr>\n",
              "      <th>4</th>\n",
              "      <td>5</td>\n",
              "      <td>father of the bride part ii (1995)</td>\n",
              "      <td>Comedy</td>\n",
              "    </tr>\n",
              "    <tr>\n",
              "      <th>...</th>\n",
              "      <td>...</td>\n",
              "      <td>...</td>\n",
              "      <td>...</td>\n",
              "    </tr>\n",
              "    <tr>\n",
              "      <th>3878</th>\n",
              "      <td>3948</td>\n",
              "      <td>meet the parents (2000)</td>\n",
              "      <td>Comedy</td>\n",
              "    </tr>\n",
              "    <tr>\n",
              "      <th>3879</th>\n",
              "      <td>3949</td>\n",
              "      <td>requiem for a dream (2000)</td>\n",
              "      <td>Drama</td>\n",
              "    </tr>\n",
              "    <tr>\n",
              "      <th>3880</th>\n",
              "      <td>3950</td>\n",
              "      <td>tigerland (2000)</td>\n",
              "      <td>Drama</td>\n",
              "    </tr>\n",
              "    <tr>\n",
              "      <th>3881</th>\n",
              "      <td>3951</td>\n",
              "      <td>two family house (2000)</td>\n",
              "      <td>Drama</td>\n",
              "    </tr>\n",
              "    <tr>\n",
              "      <th>3882</th>\n",
              "      <td>3952</td>\n",
              "      <td>contender, the (2000)</td>\n",
              "      <td>Drama|Thriller</td>\n",
              "    </tr>\n",
              "  </tbody>\n",
              "</table>\n",
              "<p>3883 rows × 3 columns</p>\n",
              "</div>"
            ],
            "text/plain": [
              "      movie_id                               title  \\\n",
              "0            1                    toy story (1995)   \n",
              "1            2                      jumanji (1995)   \n",
              "2            3             grumpier old men (1995)   \n",
              "3            4            waiting to exhale (1995)   \n",
              "4            5  father of the bride part ii (1995)   \n",
              "...        ...                                 ...   \n",
              "3878      3948             meet the parents (2000)   \n",
              "3879      3949          requiem for a dream (2000)   \n",
              "3880      3950                    tigerland (2000)   \n",
              "3881      3951             two family house (2000)   \n",
              "3882      3952               contender, the (2000)   \n",
              "\n",
              "                             genre  \n",
              "0      Animation|Children's|Comedy  \n",
              "1     Adventure|Children's|Fantasy  \n",
              "2                   Comedy|Romance  \n",
              "3                     Comedy|Drama  \n",
              "4                           Comedy  \n",
              "...                            ...  \n",
              "3878                        Comedy  \n",
              "3879                         Drama  \n",
              "3880                         Drama  \n",
              "3881                         Drama  \n",
              "3882                Drama|Thriller  \n",
              "\n",
              "[3883 rows x 3 columns]"
            ]
          },
          "execution_count": 35,
          "metadata": {},
          "output_type": "execute_result"
        }
      ],
      "source": [
        "movies"
      ]
    },
    {
      "cell_type": "markdown",
      "source": [
        "### **🍃 04-3_최종 데이터셋 결합**"
      ],
      "metadata": {
        "id": "b3w7KOV3DLDc"
      },
      "id": "b3w7KOV3DLDc"
    },
    {
      "cell_type": "code",
      "execution_count": null,
      "id": "0a83c0b9",
      "metadata": {
        "id": "0a83c0b9"
      },
      "outputs": [],
      "source": [
        "data = data.join(movies.set_index(\"movie_id\"), on=\"movie_id\")\n",
        "data.drop([\"movie_id\", \"genre\"], axis=1, inplace=True)"
      ]
    },
    {
      "cell_type": "code",
      "execution_count": null,
      "id": "89a3bf8f",
      "metadata": {
        "id": "89a3bf8f",
        "outputId": "21afac37-c397-4042-b964-921db842d457"
      },
      "outputs": [
        {
          "data": {
            "text/html": [
              "<div>\n",
              "<style scoped>\n",
              "    .dataframe tbody tr th:only-of-type {\n",
              "        vertical-align: middle;\n",
              "    }\n",
              "\n",
              "    .dataframe tbody tr th {\n",
              "        vertical-align: top;\n",
              "    }\n",
              "\n",
              "    .dataframe thead th {\n",
              "        text-align: right;\n",
              "    }\n",
              "</style>\n",
              "<table border=\"1\" class=\"dataframe\">\n",
              "  <thead>\n",
              "    <tr style=\"text-align: right;\">\n",
              "      <th></th>\n",
              "      <th>user_id</th>\n",
              "      <th>rating</th>\n",
              "      <th>title</th>\n",
              "    </tr>\n",
              "  </thead>\n",
              "  <tbody>\n",
              "    <tr>\n",
              "      <th>0</th>\n",
              "      <td>1</td>\n",
              "      <td>5</td>\n",
              "      <td>one flew over the cuckoo's nest (1975)</td>\n",
              "    </tr>\n",
              "    <tr>\n",
              "      <th>1</th>\n",
              "      <td>1</td>\n",
              "      <td>3</td>\n",
              "      <td>james and the giant peach (1996)</td>\n",
              "    </tr>\n",
              "    <tr>\n",
              "      <th>2</th>\n",
              "      <td>1</td>\n",
              "      <td>3</td>\n",
              "      <td>my fair lady (1964)</td>\n",
              "    </tr>\n",
              "    <tr>\n",
              "      <th>3</th>\n",
              "      <td>1</td>\n",
              "      <td>4</td>\n",
              "      <td>erin brockovich (2000)</td>\n",
              "    </tr>\n",
              "    <tr>\n",
              "      <th>4</th>\n",
              "      <td>1</td>\n",
              "      <td>5</td>\n",
              "      <td>bug's life, a (1998)</td>\n",
              "    </tr>\n",
              "    <tr>\n",
              "      <th>...</th>\n",
              "      <td>...</td>\n",
              "      <td>...</td>\n",
              "      <td>...</td>\n",
              "    </tr>\n",
              "    <tr>\n",
              "      <th>1000203</th>\n",
              "      <td>6040</td>\n",
              "      <td>3</td>\n",
              "      <td>platoon (1986)</td>\n",
              "    </tr>\n",
              "    <tr>\n",
              "      <th>1000205</th>\n",
              "      <td>6040</td>\n",
              "      <td>5</td>\n",
              "      <td>crying game, the (1992)</td>\n",
              "    </tr>\n",
              "    <tr>\n",
              "      <th>1000206</th>\n",
              "      <td>6040</td>\n",
              "      <td>5</td>\n",
              "      <td>welcome to the dollhouse (1995)</td>\n",
              "    </tr>\n",
              "    <tr>\n",
              "      <th>1000207</th>\n",
              "      <td>6040</td>\n",
              "      <td>4</td>\n",
              "      <td>sophie's choice (1982)</td>\n",
              "    </tr>\n",
              "    <tr>\n",
              "      <th>1000208</th>\n",
              "      <td>6040</td>\n",
              "      <td>4</td>\n",
              "      <td>e.t. the extra-terrestrial (1982)</td>\n",
              "    </tr>\n",
              "  </tbody>\n",
              "</table>\n",
              "<p>836478 rows × 3 columns</p>\n",
              "</div>"
            ],
            "text/plain": [
              "         user_id  rating                                   title\n",
              "0              1       5  one flew over the cuckoo's nest (1975)\n",
              "1              1       3        james and the giant peach (1996)\n",
              "2              1       3                     my fair lady (1964)\n",
              "3              1       4                  erin brockovich (2000)\n",
              "4              1       5                    bug's life, a (1998)\n",
              "...          ...     ...                                     ...\n",
              "1000203     6040       3                          platoon (1986)\n",
              "1000205     6040       5                 crying game, the (1992)\n",
              "1000206     6040       5         welcome to the dollhouse (1995)\n",
              "1000207     6040       4                  sophie's choice (1982)\n",
              "1000208     6040       4       e.t. the extra-terrestrial (1982)\n",
              "\n",
              "[836478 rows x 3 columns]"
            ]
          },
          "execution_count": 37,
          "metadata": {},
          "output_type": "execute_result"
        }
      ],
      "source": [
        "data"
      ]
    },
    {
      "cell_type": "markdown",
      "source": [
        "## **🌿 05_이용자 및 선호 영화 5편 추가**"
      ],
      "metadata": {
        "id": "0uaJT0yoDnXM"
      },
      "id": "0uaJT0yoDnXM"
    },
    {
      "cell_type": "code",
      "execution_count": null,
      "id": "19b52b6f",
      "metadata": {
        "id": "19b52b6f"
      },
      "outputs": [],
      "source": [
        "my_favorite = [\"toy story (1995)\",\"jumanji (1995)\",\"bug's life, a (1998)\",\"balto (1995)\", \"babe (1995)\"]\n",
        "my_playlist = pd.DataFrame({'user_id': [\"leeoh\"]*5,'title': my_favorite,'rating':[5] * 5,})"
      ]
    },
    {
      "cell_type": "code",
      "execution_count": null,
      "id": "604a05c7",
      "metadata": {
        "id": "604a05c7"
      },
      "outputs": [],
      "source": [
        "if not data.isin({'user_id':[\"leeoh\"]})['user_id'].any():\n",
        "    data = data.append(my_playlist)"
      ]
    },
    {
      "cell_type": "code",
      "execution_count": null,
      "id": "cef2f230",
      "metadata": {
        "id": "cef2f230",
        "outputId": "22a4ee4b-c11b-477e-eb18-ef7ee7b58c0d"
      },
      "outputs": [
        {
          "data": {
            "text/html": [
              "<div>\n",
              "<style scoped>\n",
              "    .dataframe tbody tr th:only-of-type {\n",
              "        vertical-align: middle;\n",
              "    }\n",
              "\n",
              "    .dataframe tbody tr th {\n",
              "        vertical-align: top;\n",
              "    }\n",
              "\n",
              "    .dataframe thead th {\n",
              "        text-align: right;\n",
              "    }\n",
              "</style>\n",
              "<table border=\"1\" class=\"dataframe\">\n",
              "  <thead>\n",
              "    <tr style=\"text-align: right;\">\n",
              "      <th></th>\n",
              "      <th>user_id</th>\n",
              "      <th>rating</th>\n",
              "      <th>title</th>\n",
              "    </tr>\n",
              "  </thead>\n",
              "  <tbody>\n",
              "    <tr>\n",
              "      <th>0</th>\n",
              "      <td>1</td>\n",
              "      <td>5</td>\n",
              "      <td>one flew over the cuckoo's nest (1975)</td>\n",
              "    </tr>\n",
              "    <tr>\n",
              "      <th>1</th>\n",
              "      <td>1</td>\n",
              "      <td>3</td>\n",
              "      <td>james and the giant peach (1996)</td>\n",
              "    </tr>\n",
              "    <tr>\n",
              "      <th>2</th>\n",
              "      <td>1</td>\n",
              "      <td>3</td>\n",
              "      <td>my fair lady (1964)</td>\n",
              "    </tr>\n",
              "    <tr>\n",
              "      <th>3</th>\n",
              "      <td>1</td>\n",
              "      <td>4</td>\n",
              "      <td>erin brockovich (2000)</td>\n",
              "    </tr>\n",
              "    <tr>\n",
              "      <th>4</th>\n",
              "      <td>1</td>\n",
              "      <td>5</td>\n",
              "      <td>bug's life, a (1998)</td>\n",
              "    </tr>\n",
              "    <tr>\n",
              "      <th>...</th>\n",
              "      <td>...</td>\n",
              "      <td>...</td>\n",
              "      <td>...</td>\n",
              "    </tr>\n",
              "    <tr>\n",
              "      <th>0</th>\n",
              "      <td>leeoh</td>\n",
              "      <td>5</td>\n",
              "      <td>toy story (1995)</td>\n",
              "    </tr>\n",
              "    <tr>\n",
              "      <th>1</th>\n",
              "      <td>leeoh</td>\n",
              "      <td>5</td>\n",
              "      <td>jumanji (1995)</td>\n",
              "    </tr>\n",
              "    <tr>\n",
              "      <th>2</th>\n",
              "      <td>leeoh</td>\n",
              "      <td>5</td>\n",
              "      <td>bug's life, a (1998)</td>\n",
              "    </tr>\n",
              "    <tr>\n",
              "      <th>3</th>\n",
              "      <td>leeoh</td>\n",
              "      <td>5</td>\n",
              "      <td>balto (1995)</td>\n",
              "    </tr>\n",
              "    <tr>\n",
              "      <th>4</th>\n",
              "      <td>leeoh</td>\n",
              "      <td>5</td>\n",
              "      <td>babe (1995)</td>\n",
              "    </tr>\n",
              "  </tbody>\n",
              "</table>\n",
              "<p>836483 rows × 3 columns</p>\n",
              "</div>"
            ],
            "text/plain": [
              "   user_id  rating                                   title\n",
              "0        1       5  one flew over the cuckoo's nest (1975)\n",
              "1        1       3        james and the giant peach (1996)\n",
              "2        1       3                     my fair lady (1964)\n",
              "3        1       4                  erin brockovich (2000)\n",
              "4        1       5                    bug's life, a (1998)\n",
              "..     ...     ...                                     ...\n",
              "0    leeoh       5                        toy story (1995)\n",
              "1    leeoh       5                          jumanji (1995)\n",
              "2    leeoh       5                    bug's life, a (1998)\n",
              "3    leeoh       5                            balto (1995)\n",
              "4    leeoh       5                             babe (1995)\n",
              "\n",
              "[836483 rows x 3 columns]"
            ]
          },
          "execution_count": 40,
          "metadata": {},
          "output_type": "execute_result"
        }
      ],
      "source": [
        "data"
      ]
    },
    {
      "cell_type": "markdown",
      "source": [
        "## **🌿 06_3차 데이터 전처리**"
      ],
      "metadata": {
        "id": "K19GppVmEEob"
      },
      "id": "K19GppVmEEob"
    },
    {
      "cell_type": "markdown",
      "source": [
        "### **🍃 06-1_user_id, title 속성 인덱싱**"
      ],
      "metadata": {
        "id": "QZdiW9UpFGp6"
      },
      "id": "QZdiW9UpFGp6"
    },
    {
      "cell_type": "markdown",
      "source": [
        "- **유일 데이터 추출**"
      ],
      "metadata": {
        "id": "TsSjz_e2FVl7"
      },
      "id": "TsSjz_e2FVl7"
    },
    {
      "cell_type": "code",
      "execution_count": null,
      "id": "a3642b7d",
      "metadata": {
        "id": "a3642b7d"
      },
      "outputs": [],
      "source": [
        "user_unique = data['user_id'].unique()\n",
        "movie_unique = data['title'].unique()"
      ]
    },
    {
      "cell_type": "markdown",
      "source": [
        "- **인덱싱**"
      ],
      "metadata": {
        "id": "zB5m7mL7GHX3"
      },
      "id": "zB5m7mL7GHX3"
    },
    {
      "cell_type": "code",
      "execution_count": null,
      "id": "1905e090",
      "metadata": {
        "id": "1905e090"
      },
      "outputs": [],
      "source": [
        "user_to_idx = {v:k for k,v in enumerate(user_unique)}\n",
        "item_to_idx = {v:k for k,v in enumerate(movie_unique)}\n",
        "\n",
        "idx_to_item = {v:k for k,v in item_to_idx.items()}"
      ]
    },
    {
      "cell_type": "markdown",
      "source": [
        "- **비정상 데이터 제거**"
      ],
      "metadata": {
        "id": "cuT86DxIEtrI"
      },
      "id": "cuT86DxIEtrI"
    },
    {
      "cell_type": "code",
      "execution_count": null,
      "id": "37b89297",
      "metadata": {
        "id": "37b89297"
      },
      "outputs": [],
      "source": [
        "temp_user_data = data['user_id'].map(user_to_idx.get).dropna()"
      ]
    },
    {
      "cell_type": "markdown",
      "source": [
        "- **고유키 변환 (user_id)**"
      ],
      "metadata": {
        "id": "aby7h-J2Flke"
      },
      "id": "aby7h-J2Flke"
    },
    {
      "cell_type": "code",
      "execution_count": null,
      "id": "8bb7e00d",
      "metadata": {
        "id": "8bb7e00d"
      },
      "outputs": [],
      "source": [
        "if len(temp_user_data) == len(data):  \n",
        "    data['user_id'] = temp_user_data\n",
        "else:\n",
        "    print('user_id column indexing Fail')"
      ]
    },
    {
      "cell_type": "markdown",
      "source": [
        "- **고유키 변환 (title)**"
      ],
      "metadata": {
        "id": "TrsfioK3Fwmf"
      },
      "id": "TrsfioK3Fwmf"
    },
    {
      "cell_type": "code",
      "execution_count": null,
      "id": "6690606c",
      "metadata": {
        "id": "6690606c"
      },
      "outputs": [],
      "source": [
        "temp_movie_data = data['title'].map(item_to_idx.get).dropna()\n",
        "if len(temp_movie_data) == len(data):\n",
        "    data['title'] = temp_movie_data\n",
        "else:\n",
        "    print('title column indexing Fail')"
      ]
    },
    {
      "cell_type": "markdown",
      "source": [
        "### **🍃 06-2_최종 데이터 확인**"
      ],
      "metadata": {
        "id": "XNZ4Q5PEGQyJ"
      },
      "id": "XNZ4Q5PEGQyJ"
    },
    {
      "cell_type": "code",
      "execution_count": null,
      "id": "7ee4ebe7",
      "metadata": {
        "id": "7ee4ebe7",
        "outputId": "8063db4b-f202-477a-fb1a-59db972887e4"
      },
      "outputs": [
        {
          "data": {
            "text/html": [
              "<div>\n",
              "<style scoped>\n",
              "    .dataframe tbody tr th:only-of-type {\n",
              "        vertical-align: middle;\n",
              "    }\n",
              "\n",
              "    .dataframe tbody tr th {\n",
              "        vertical-align: top;\n",
              "    }\n",
              "\n",
              "    .dataframe thead th {\n",
              "        text-align: right;\n",
              "    }\n",
              "</style>\n",
              "<table border=\"1\" class=\"dataframe\">\n",
              "  <thead>\n",
              "    <tr style=\"text-align: right;\">\n",
              "      <th></th>\n",
              "      <th>user_id</th>\n",
              "      <th>rating</th>\n",
              "      <th>title</th>\n",
              "    </tr>\n",
              "  </thead>\n",
              "  <tbody>\n",
              "    <tr>\n",
              "      <th>0</th>\n",
              "      <td>0</td>\n",
              "      <td>5</td>\n",
              "      <td>0</td>\n",
              "    </tr>\n",
              "    <tr>\n",
              "      <th>1</th>\n",
              "      <td>0</td>\n",
              "      <td>3</td>\n",
              "      <td>1</td>\n",
              "    </tr>\n",
              "    <tr>\n",
              "      <th>2</th>\n",
              "      <td>0</td>\n",
              "      <td>3</td>\n",
              "      <td>2</td>\n",
              "    </tr>\n",
              "    <tr>\n",
              "      <th>3</th>\n",
              "      <td>0</td>\n",
              "      <td>4</td>\n",
              "      <td>3</td>\n",
              "    </tr>\n",
              "    <tr>\n",
              "      <th>4</th>\n",
              "      <td>0</td>\n",
              "      <td>5</td>\n",
              "      <td>4</td>\n",
              "    </tr>\n",
              "    <tr>\n",
              "      <th>...</th>\n",
              "      <td>...</td>\n",
              "      <td>...</td>\n",
              "      <td>...</td>\n",
              "    </tr>\n",
              "    <tr>\n",
              "      <th>0</th>\n",
              "      <td>6039</td>\n",
              "      <td>5</td>\n",
              "      <td>40</td>\n",
              "    </tr>\n",
              "    <tr>\n",
              "      <th>1</th>\n",
              "      <td>6039</td>\n",
              "      <td>5</td>\n",
              "      <td>513</td>\n",
              "    </tr>\n",
              "    <tr>\n",
              "      <th>2</th>\n",
              "      <td>6039</td>\n",
              "      <td>5</td>\n",
              "      <td>4</td>\n",
              "    </tr>\n",
              "    <tr>\n",
              "      <th>3</th>\n",
              "      <td>6039</td>\n",
              "      <td>5</td>\n",
              "      <td>1513</td>\n",
              "    </tr>\n",
              "    <tr>\n",
              "      <th>4</th>\n",
              "      <td>6039</td>\n",
              "      <td>5</td>\n",
              "      <td>322</td>\n",
              "    </tr>\n",
              "  </tbody>\n",
              "</table>\n",
              "<p>836483 rows × 3 columns</p>\n",
              "</div>"
            ],
            "text/plain": [
              "    user_id  rating  title\n",
              "0         0       5      0\n",
              "1         0       3      1\n",
              "2         0       3      2\n",
              "3         0       4      3\n",
              "4         0       5      4\n",
              "..      ...     ...    ...\n",
              "0      6039       5     40\n",
              "1      6039       5    513\n",
              "2      6039       5      4\n",
              "3      6039       5   1513\n",
              "4      6039       5    322\n",
              "\n",
              "[836483 rows x 3 columns]"
            ]
          },
          "execution_count": 46,
          "metadata": {},
          "output_type": "execute_result"
        }
      ],
      "source": [
        "data"
      ]
    },
    {
      "cell_type": "markdown",
      "source": [
        "## **🌿 07_CSR matrix 생성**"
      ],
      "metadata": {
        "id": "1l2r0EcnGby9"
      },
      "id": "1l2r0EcnGby9"
    },
    {
      "cell_type": "markdown",
      "source": [
        "### **🍃 07-1_유일 데이터 추출**"
      ],
      "metadata": {
        "id": "BaXchhkXG5rt"
      },
      "id": "BaXchhkXG5rt"
    },
    {
      "cell_type": "code",
      "execution_count": null,
      "id": "97db617d",
      "metadata": {
        "id": "97db617d"
      },
      "outputs": [],
      "source": [
        "num_user = data['user_id'].nunique()\n",
        "num_movie = data['title'].nunique()"
      ]
    },
    {
      "cell_type": "markdown",
      "source": [
        "### **🍃 07-2_csr 행렬 생성**"
      ],
      "metadata": {
        "id": "OjfpZrq0H13t"
      },
      "id": "OjfpZrq0H13t"
    },
    {
      "cell_type": "code",
      "execution_count": null,
      "id": "fda046bd",
      "metadata": {
        "id": "fda046bd"
      },
      "outputs": [],
      "source": [
        "csr_data = csr_matrix((data[\"rating\"],(data.user_id, data.title)),shape=(num_user, num_movie))\n",
        "csr_data_transpose = csr_data.T"
      ]
    },
    {
      "cell_type": "code",
      "execution_count": null,
      "id": "e1f4ac21",
      "metadata": {
        "id": "e1f4ac21",
        "outputId": "084be7c1-a015-412f-9f89-09f2ab727d91"
      },
      "outputs": [
        {
          "data": {
            "text/plain": [
              "<3628x6040 sparse matrix of type '<class 'numpy.int64'>'\n",
              "\twith 836483 stored elements in Compressed Sparse Column format>"
            ]
          },
          "execution_count": 50,
          "metadata": {},
          "output_type": "execute_result"
        }
      ],
      "source": [
        "csr_data_transpose"
      ]
    },
    {
      "cell_type": "markdown",
      "source": [
        "### **🍃 07-3_최종 데이터 수 확인**"
      ],
      "metadata": {
        "id": "HY5IczPeH9Ds"
      },
      "id": "HY5IczPeH9Ds"
    },
    {
      "cell_type": "code",
      "execution_count": null,
      "id": "b0a7059b",
      "metadata": {
        "id": "b0a7059b",
        "outputId": "348d8c8c-747c-4945-97f6-f6f96370d4e0"
      },
      "outputs": [
        {
          "name": "stdout",
          "output_type": "stream",
          "text": [
            "사용자 num: 6040\n",
            "영화 num: 3628\n"
          ]
        }
      ],
      "source": [
        "print(\"사용자 num:\", num_user)\n",
        "print(\"영화 num:\", num_movie)"
      ]
    },
    {
      "cell_type": "markdown",
      "source": [
        "## **🌿 08_ALS 모델 생성 및 학습**"
      ],
      "metadata": {
        "id": "4eoMz38pHAKQ"
      },
      "id": "4eoMz38pHAKQ"
    },
    {
      "cell_type": "markdown",
      "source": [
        "### **🍃 08-1_모델 생성**"
      ],
      "metadata": {
        "id": "kdoybuIvHEKw"
      },
      "id": "kdoybuIvHEKw"
    },
    {
      "cell_type": "code",
      "execution_count": null,
      "id": "a2b2e001",
      "metadata": {
        "id": "a2b2e001"
      },
      "outputs": [],
      "source": [
        "als_model = AlternatingLeastSquares(factors=512, regularization=0.01, use_gpu=True, iterations=4, dtype=np.float32)"
      ]
    },
    {
      "cell_type": "markdown",
      "source": [
        "### **🍃 08-2_모델 학습**"
      ],
      "metadata": {
        "id": "b55CZaydHYo1"
      },
      "id": "b55CZaydHYo1"
    },
    {
      "cell_type": "code",
      "execution_count": null,
      "id": "a36f2d2d",
      "metadata": {
        "colab": {
          "referenced_widgets": [
            "ba863424fc114df2aa152a04c5db0a23"
          ]
        },
        "id": "a36f2d2d",
        "outputId": "e266e325-b34a-4b40-f009-e270e262ea54"
      },
      "outputs": [
        {
          "data": {
            "application/vnd.jupyter.widget-view+json": {
              "model_id": "ba863424fc114df2aa152a04c5db0a23",
              "version_major": 2,
              "version_minor": 0
            },
            "text/plain": [
              "  0%|          | 0/4 [00:00<?, ?it/s]"
            ]
          },
          "metadata": {},
          "output_type": "display_data"
        }
      ],
      "source": [
        "als_model.fit(csr_data_transpose)"
      ]
    },
    {
      "cell_type": "markdown",
      "source": [
        "## **🌿 09_ALS 모델 평가**"
      ],
      "metadata": {
        "id": "guq5ygOQHkN6"
      },
      "id": "guq5ygOQHkN6"
    },
    {
      "cell_type": "markdown",
      "source": [
        "### **🍃 09-1_선호 영화와 일반 영화 내적 확인**"
      ],
      "metadata": {
        "id": "wGo88kTpHlOo"
      },
      "id": "wGo88kTpHlOo"
    },
    {
      "cell_type": "markdown",
      "source": [
        "- **toy story (1995)의 내적은 0.937로 높음**\n",
        "- **men in black (1997)의 내적은 -0.041으로 낮음**"
      ],
      "metadata": {
        "id": "b7HzwZr7JOYW"
      },
      "id": "b7HzwZr7JOYW"
    },
    {
      "cell_type": "code",
      "execution_count": null,
      "id": "c4f41b40",
      "metadata": {
        "id": "c4f41b40"
      },
      "outputs": [],
      "source": [
        "user_idx, toystory_idx = user_to_idx[\"leeoh\"], item_to_idx[\"toy story (1995)\"]\n",
        "user_vector = als_model.user_factors[user_idx]\n",
        "toystory_vector = als_model.item_factors[toystory_idx]"
      ]
    },
    {
      "cell_type": "code",
      "execution_count": null,
      "id": "6edbefb4",
      "metadata": {
        "id": "6edbefb4",
        "outputId": "ae701e4e-845f-4ef7-fa83-d56399088242"
      },
      "outputs": [
        {
          "name": "stdout",
          "output_type": "stream",
          "text": [
            "user vector shape: (512,)\n",
            "toy story vector shape: (512,)\n"
          ]
        }
      ],
      "source": [
        "print(\"user vector shape:\", user_vector.shape)\n",
        "print(\"toy story vector shape:\", toystory_vector.shape)"
      ]
    },
    {
      "cell_type": "code",
      "execution_count": null,
      "id": "0a3d3ba9",
      "metadata": {
        "id": "0a3d3ba9"
      },
      "outputs": [],
      "source": [
        "other = item_to_idx[\"men in black (1997)\"]\n",
        "other_vector = als_model.item_factors[other]"
      ]
    },
    {
      "cell_type": "code",
      "execution_count": null,
      "id": "29a6ad48",
      "metadata": {
        "id": "29a6ad48",
        "outputId": "4284ca74-54ac-4403-e22a-b51fa266f17b"
      },
      "outputs": [
        {
          "name": "stdout",
          "output_type": "stream",
          "text": [
            "toy story 내적: 0.937\n",
            "men in black 내적: -0.041\n"
          ]
        }
      ],
      "source": [
        "print(\"toy story 내적:\", round(np.dot(user_vector, toystory_vector), 3))\n",
        "print(\"men in black 내적:\", round(np.dot(user_vector, other_vector), 3))"
      ]
    },
    {
      "cell_type": "markdown",
      "source": [
        "### **🍃 09-2_이용자 선호 영화와 비슷한 영화 추천**"
      ],
      "metadata": {
        "id": "mlZ6gcsnJsl7"
      },
      "id": "mlZ6gcsnJsl7"
    },
    {
      "cell_type": "markdown",
      "source": [
        "- **이용자 선호 영화를 기반으로 비슷한 영화 15개 추천**  "
      ],
      "metadata": {
        "id": "CA1i930bJz8F"
      },
      "id": "CA1i930bJz8F"
    },
    {
      "cell_type": "code",
      "execution_count": null,
      "id": "705116c2",
      "metadata": {
        "id": "705116c2"
      },
      "outputs": [],
      "source": [
        "def print_similar_item(item_name, idx_to_item, num=5):\n",
        "    item_idx = item_to_idx[item_name]\n",
        "    \n",
        "    similar_item = als_model.similar_items(item_idx, N=num)\n",
        "    for item_idx, norm in similar_item:\n",
        "        print(idx_to_item[item_idx] + \":\", round(norm, 3))"
      ]
    },
    {
      "cell_type": "markdown",
      "source": [
        "- **toy story (1995)의 경우 예상과 다르게 호러 장르 영화를 많이 추천해주는 모습을 보임**"
      ],
      "metadata": {
        "id": "IZaBVEZUMrTc"
      },
      "id": "IZaBVEZUMrTc"
    },
    {
      "cell_type": "code",
      "execution_count": null,
      "id": "23f413b3",
      "metadata": {
        "id": "23f413b3",
        "outputId": "60656b2a-e232-4e71-d9f6-1b5b01b7ff39"
      },
      "outputs": [
        {
          "name": "stdout",
          "output_type": "stream",
          "text": [
            "toy story (1995): 1.0\n",
            "love, etc. (1996): 0.536\n",
            "separation, the (la séparation) (1994): 0.534\n",
            "song of freedom (1936): 0.534\n",
            "horror hotel (a.k.a. the city of the dead) (1960): 0.533\n",
            "penitentiary ii (1982): 0.533\n",
            "back stage (2000): 0.532\n",
            "project moon base (1953): 0.531\n",
            "broken vessels (1998): 0.531\n",
            "it's in the water (1998): 0.531\n",
            "just the ticket (1999): 0.531\n",
            "follow the bitch (1998): 0.53\n",
            "american strays (1996): 0.53\n",
            "bittersweet motel (2000): 0.53\n",
            "all things fair (1996): 0.53\n"
          ]
        }
      ],
      "source": [
        "print_similar_item(\"toy story (1995)\", idx_to_item, num=15)"
      ]
    },
    {
      "cell_type": "markdown",
      "source": [
        "- **jumanji (1995)의 어린이 장르 영화를 알맞게 추천해주는 모습을 보임**"
      ],
      "metadata": {
        "id": "8OGGSPtvNtkE"
      },
      "id": "8OGGSPtvNtkE"
    },
    {
      "cell_type": "code",
      "execution_count": null,
      "id": "d80b6a8a",
      "metadata": {
        "id": "d80b6a8a",
        "outputId": "9ad8379a-0cb6-401f-86ac-30a49e1ce53b"
      },
      "outputs": [
        {
          "name": "stdout",
          "output_type": "stream",
          "text": [
            "jumanji (1995): 1.0\n",
            "indian in the cupboard, the (1995): 0.633\n",
            "simple wish, a (1997): 0.623\n",
            "flubber (1997): 0.621\n",
            "merry war, a (1997): 0.621\n",
            "two bits (1995): 0.621\n",
            "running free (2000): 0.618\n",
            "crow: salvation, the (2000): 0.617\n",
            "amityville: dollhouse (1996): 0.617\n",
            "meatballs part ii (1984): 0.617\n",
            "man from down under, the (1943): 0.617\n",
            "soft toilet seats (1999): 0.616\n",
            "faithful (1996): 0.616\n",
            "search for one-eye jimmy, the (1996): 0.616\n",
            "strike! (a.k.a. all i wanna do, the hairy bird) (1998): 0.616\n"
          ]
        }
      ],
      "source": [
        "print_similar_item(\"jumanji (1995)\", idx_to_item, num=15)"
      ]
    },
    {
      "cell_type": "markdown",
      "source": [
        "- **bug's life, a (1998)의 경우 예상과 다르게 서부극 드라마 장르 영화를 많이 추천해주는 모습을 보임**"
      ],
      "metadata": {
        "id": "YFmxfYxpNQFW"
      },
      "id": "YFmxfYxpNQFW"
    },
    {
      "cell_type": "code",
      "execution_count": null,
      "id": "5d4203fb",
      "metadata": {
        "id": "5d4203fb",
        "outputId": "a528b669-6a24-48e9-c11f-e20cef4fd1f7"
      },
      "outputs": [
        {
          "name": "stdout",
          "output_type": "stream",
          "text": [
            "bug's life, a (1998): 1.0\n",
            "buck and the preacher (1972): 0.503\n",
            "better living (1998): 0.5\n",
            "secret agent, the (1996): 0.499\n",
            "tainted (1998): 0.499\n",
            "stranger, the (1994): 0.498\n",
            "paralyzing fear: the story of polio in america, a (1998): 0.497\n",
            "big trees, the (1952): 0.497\n",
            "open season (1996): 0.497\n",
            "adrenalin: fear the rush (1996): 0.497\n",
            "it happened here (1961): 0.496\n",
            "shopping (1994): 0.496\n",
            "b*a*p*s (1997): 0.496\n",
            "solas (1999): 0.496\n",
            "i got the hook up (1998): 0.496\n"
          ]
        }
      ],
      "source": [
        "print_similar_item(\"bug's life, a (1998)\", idx_to_item, num=15)"
      ]
    },
    {
      "cell_type": "markdown",
      "source": [
        "### **🍃 09-3_이용자 선호 영화 추천**"
      ],
      "metadata": {
        "id": "ZlVvw6OYKMdU"
      },
      "id": "ZlVvw6OYKMdU"
    },
    {
      "cell_type": "markdown",
      "source": [
        "- **이용자 선호 영화를 기반으로 아직 보지 않은 영화 중 선호 영화 20개 추천**  "
      ],
      "metadata": {
        "id": "PTVToMWfLylk"
      },
      "id": "PTVToMWfLylk"
    },
    {
      "cell_type": "code",
      "execution_count": null,
      "id": "2c650899",
      "metadata": {
        "id": "2c650899"
      },
      "outputs": [],
      "source": [
        "def print_recommend_item(user_name, idx_to_item, num=5):\n",
        "    user = user_to_idx[user_name]\n",
        "    \n",
        "    item_recommended = als_model.recommend(user, csr_data, N=num, filter_already_liked_items=True)\n",
        "    for item_idx, norm in item_recommended:\n",
        "        print(idx_to_item[item_idx] + \":\", round(norm, 3))"
      ]
    },
    {
      "cell_type": "markdown",
      "source": [
        "- **대부분 애니메이션, 어린이 장르를 선호 영화로 선택했던 다섯편의 영화와 동일하거나 비슷한 장르의 영화를 알맞게 추천**"
      ],
      "metadata": {
        "id": "4vGc0Y8nL9vX"
      },
      "id": "4vGc0Y8nL9vX"
    },
    {
      "cell_type": "code",
      "execution_count": null,
      "id": "b48fadb2",
      "metadata": {
        "id": "b48fadb2",
        "outputId": "aff0c14b-f6ca-4cb9-9606-c70e030189d6"
      },
      "outputs": [
        {
          "name": "stdout",
          "output_type": "stream",
          "text": [
            "toy story 2 (1999): 0.231\n",
            "aladdin (1992): 0.227\n",
            "babe: pig in the city (1998): 0.161\n",
            "matilda (1996): 0.161\n",
            "wrong trousers, the (1993): 0.144\n",
            "fly away home (1996): 0.144\n",
            "mulan (1998): 0.14\n",
            "indian in the cupboard, the (1995): 0.138\n",
            "santa clause, the (1994): 0.137\n",
            "chicken run (2000): 0.137\n",
            "antz (1998): 0.132\n",
            "lion king, the (1994): 0.127\n",
            "stuart little (1999): 0.125\n",
            "anastasia (1997): 0.124\n",
            "space jam (1996): 0.123\n",
            "honey, i shrunk the kids (1989): 0.12\n",
            "james and the giant peach (1996): 0.118\n",
            "hercules (1997): 0.113\n",
            "searching for bobby fischer (1993): 0.109\n",
            "secret garden, the (1993): 0.107\n"
          ]
        }
      ],
      "source": [
        "print_recommend_item(\"leeoh\", idx_to_item, num=20)"
      ]
    },
    {
      "cell_type": "markdown",
      "source": [
        "### **🍃 09-3_이용자 선호 영화 추천 기여도 확인**"
      ],
      "metadata": {
        "id": "0npR2I0vKV2N"
      },
      "id": "0npR2I0vKV2N"
    },
    {
      "cell_type": "markdown",
      "source": [
        "- **추천 받은 영화 중 3편을 골라 선호도가 표시되어 있는 영화 중 어느 영화가 추천에 많은 기여를 했는지 확인**"
      ],
      "metadata": {
        "id": "YCcGSw-0KYOU"
      },
      "id": "YCcGSw-0KYOU"
    },
    {
      "cell_type": "code",
      "execution_count": null,
      "id": "5b27a99a",
      "metadata": {
        "id": "5b27a99a"
      },
      "outputs": [],
      "source": [
        "def print_explain_item(user_name, item_name, idx_to_item):\n",
        "    explain = als_model.explain(\n",
        "        user_to_idx[user_name],\n",
        "        csr_data,\n",
        "        itemid=item_to_idx[item_name])\n",
        "    \n",
        "    for item_idx, norm in explain[1]:\n",
        "        print(idx_to_item[item_idx] + \":\", round(norm, 3))"
      ]
    },
    {
      "cell_type": "markdown",
      "source": [
        "- **toy story 2 (1999)의 경우 같은 시리즈인 toy story의 기여도가 0.163으로 가장 높음**"
      ],
      "metadata": {
        "id": "t5Xn6n4KKmdF"
      },
      "id": "t5Xn6n4KKmdF"
    },
    {
      "cell_type": "code",
      "execution_count": null,
      "id": "9a6f4ca6",
      "metadata": {
        "id": "9a6f4ca6",
        "outputId": "c87f02f1-0554-437a-b8ea-04c07805c2f8"
      },
      "outputs": [
        {
          "name": "stdout",
          "output_type": "stream",
          "text": [
            "toy story (1995): 0.163\n",
            "bug's life, a (1998): 0.083\n",
            "babe (1995): 0.037\n",
            "jumanji (1995): -0.02\n",
            "balto (1995): -0.046\n"
          ]
        }
      ],
      "source": [
        "print_explain_item(\"leeoh\", \"toy story 2 (1999)\", idx_to_item)"
      ]
    },
    {
      "cell_type": "markdown",
      "source": [
        "- **mulan (1998)의 경우 같은 2D 애니메이션 장르인 blato의 기여도가 0.058으로 가장 높음**"
      ],
      "metadata": {
        "id": "T3SkT2wfK640"
      },
      "id": "T3SkT2wfK640"
    },
    {
      "cell_type": "code",
      "execution_count": null,
      "id": "c38df3a8",
      "metadata": {
        "id": "c38df3a8",
        "outputId": "636c0dd6-7918-499e-92fe-6a163916b7bd"
      },
      "outputs": [
        {
          "name": "stdout",
          "output_type": "stream",
          "text": [
            "balto (1995): 0.058\n",
            "bug's life, a (1998): 0.035\n",
            "jumanji (1995): 0.02\n",
            "toy story (1995): 0.018\n",
            "babe (1995): -0.003\n"
          ]
        }
      ],
      "source": [
        "print_explain_item(\"leeoh\", \"mulan (1998)\", idx_to_item)"
      ]
    },
    {
      "cell_type": "markdown",
      "source": [
        "- **lion king, the (1994)의 경우 어린이 장르로 같이 분류되는 jumanji의 기여도가 0.057로 가장 높음**"
      ],
      "metadata": {
        "id": "rkXuUVU1LKOv"
      },
      "id": "rkXuUVU1LKOv"
    },
    {
      "cell_type": "code",
      "execution_count": null,
      "id": "08cff33c",
      "metadata": {
        "id": "08cff33c",
        "outputId": "c04a0b85-88b1-4458-f908-c3134909d992"
      },
      "outputs": [
        {
          "name": "stdout",
          "output_type": "stream",
          "text": [
            "jumanji (1995): 0.057\n",
            "toy story (1995): 0.048\n",
            "bug's life, a (1998): 0.014\n",
            "balto (1995): 0.004\n",
            "babe (1995): -0.013\n"
          ]
        }
      ],
      "source": [
        "print_explain_item(\"leeoh\", \"lion king, the (1994)\", idx_to_item)"
      ]
    },
    {
      "cell_type": "markdown",
      "source": [
        "## **🌿 10_결론**"
      ],
      "metadata": {
        "id": "ig11BSCPMbw6"
      },
      "id": "ig11BSCPMbw6"
    },
    {
      "cell_type": "markdown",
      "source": [
        "- **이용자 선호 영화와 비슷한 영화 추천: 생각보다 적절하지 않은 영화를 많이 추천**  \n",
        "생각보다 이용자 선호 영화와 비슷한 영화를 추천 받았을 때 적절하지 않은 영화를 많이 추천한다. 이유를 추측해보자면 데이터셋 크기에 비해 내가 선택한 영화가 어린이, 애니메이션 영화에 편중된 선택을 해서 그렇다고 생각한다. 실제로 내가 넷플릭스 같은 영화 추천 알고리즘을 사용할 때에도 장르나 국가만 같은 경우를 추천하는 경우가 꽤 있는데 이런 부분이 동일하게 적용되면 그렇게 추천을 진행할 수 있을 것 같다. 애니메이션 장르를 제외한 어린이 장르의 경우에는 그래도 나름 적절한 영화를 추천한 것을 보면 모델 자체의 문제라기 보다는 데이터의 분류가 더 세분화해서 진행되지 않았거나, 데이터의 양 자체가 적은 것이 문제라는 생각이 든다.  "
      ],
      "metadata": {
        "id": "ptb_a6_wOCtb"
      },
      "id": "ptb_a6_wOCtb"
    },
    {
      "cell_type": "markdown",
      "source": [
        "- **이용자 선호 영화 추천: 알맞은 영화를 추천**  \n",
        "이용자 선호 영화의 경우에는 비슷한 영화 추천과 다르게 애니메이션이나 어린이 영화로 적절하게 영화를 추천해주는 모습을 보인다."
      ],
      "metadata": {
        "id": "3dQ3Z7m3OXP8"
      },
      "id": "3dQ3Z7m3OXP8"
    },
    {
      "cell_type": "markdown",
      "source": [
        "<hr>"
      ],
      "metadata": {
        "id": "C71tXFVWTyxY"
      },
      "id": "C71tXFVWTyxY"
    }
  ],
  "metadata": {
    "kernelspec": {
      "display_name": "Python 3 (ipykernel)",
      "language": "python",
      "name": "python3"
    },
    "language_info": {
      "codemirror_mode": {
        "name": "ipython",
        "version": 3
      },
      "file_extension": ".py",
      "mimetype": "text/x-python",
      "name": "python",
      "nbconvert_exporter": "python",
      "pygments_lexer": "ipython3",
      "version": "3.9.7"
    },
    "colab": {
      "name": "[E-15]exploration.ipynb",
      "provenance": [],
      "collapsed_sections": [
        "B-adnVys8Xcf",
        "LDkOGbq183xp",
        "ImQGI1bC8634",
        "VbRJHf169I4o",
        "l8Pf3xVF9cS2",
        "wZOg1XeD9gyD",
        "XNK2R9Pg9w4a",
        "EI1FYf3k_7sK",
        "KLmDMW2QANlr",
        "se3dnG-wAvNQ",
        "2NQIGR11A4kh",
        "f5pnXiaYA_V7",
        "8E1aGUwABI2w",
        "biK2ZxIlBh27",
        "a9mSOkgVB7ul",
        "llSxWuZ3CWdm",
        "1t5B5casC5-w",
        "lwJ-3qfBC_EP",
        "gXnRR5OsDPEJ",
        "b3w7KOV3DLDc",
        "0uaJT0yoDnXM",
        "K19GppVmEEob",
        "QZdiW9UpFGp6",
        "XNZ4Q5PEGQyJ",
        "1l2r0EcnGby9",
        "BaXchhkXG5rt",
        "OjfpZrq0H13t",
        "HY5IczPeH9Ds",
        "4eoMz38pHAKQ",
        "kdoybuIvHEKw",
        "b55CZaydHYo1",
        "guq5ygOQHkN6",
        "wGo88kTpHlOo",
        "mlZ6gcsnJsl7",
        "ZlVvw6OYKMdU",
        "0npR2I0vKV2N",
        "ig11BSCPMbw6",
        "ByyoFwZzRd-4"
      ],
      "include_colab_link": true
    }
  },
  "nbformat": 4,
  "nbformat_minor": 5
}