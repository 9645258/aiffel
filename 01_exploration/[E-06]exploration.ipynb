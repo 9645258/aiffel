{
  "cells": [
    {
      "cell_type": "markdown",
      "metadata": {
        "id": "view-in-github",
        "colab_type": "text"
      },
      "source": [
        "<a href=\"https://colab.research.google.com/github/9645258/aiffel/blob/main/01_exploration/%5BE-06%5Dexploration.ipynb\" target=\"_parent\"><img src=\"https://colab.research.google.com/assets/colab-badge.svg\" alt=\"Open In Colab\"/></a>"
      ]
    },
    {
      "cell_type": "markdown",
      "id": "fb7c29f1",
      "metadata": {
        "id": "fb7c29f1"
      },
      "source": [
        "# **🎄 EXPLORATION 06**"
      ]
    },
    {
      "cell_type": "markdown",
      "id": "aa721be4",
      "metadata": {
        "id": "aa721be4"
      },
      "source": [
        "- **🌲 EXPLORATION 06-1 : 학습 내용**  \n",
        "- **🌲 EXPLORATION 06-2 : 멋진 가사가 만들기**  \n",
        "    - **🌿 01_데이터 준비**  \n",
        "        - 01-1_라이브러리 import  \n",
        "        - 01-2_데이터 import  \n",
        "        - 01-3_데이터 확인  \n",
        "    - **🌿 02_데이터 정제**  \n",
        "        - 02-1_내용 정제   \n",
        "        - 02-2_정제 완료 및 데이터 확인  \n",
        "        - 02-3_벡터화   \n",
        "        - 02-4_토큰화  \n",
        "        - 02-5_단어 사전 인덱스 구축 확인           \n",
        "        - 02-6_정제 완료 및 데이터 확인           \n",
        "        - 02-7_문장 생성 함수          \n",
        "    - **🌿 03_평가 데이터셋 분리**\n",
        "        - 03-1_데이터셋 객체 생성  \n",
        "        - 03-2_데이터셋 형태 확인  \n",
        "    - **🌿 04_모델 제작**  \n",
        "        - 04-1_모델 제작  \n",
        "        - 04-2_모델 임시 확인  \n",
        "        - 04-3_모델 구조 확인  \n",
        "        - 04-4_모델 학습 환경    \n",
        "    - **🌿 05_모델 학습 및 평가**    \n",
        "        - 05-1_모델 학습  \n",
        "        - 05-2_모델 평가   "
      ]
    },
    {
      "cell_type": "markdown",
      "id": "87097357",
      "metadata": {
        "id": "87097357"
      },
      "source": [
        "<hr>"
      ]
    },
    {
      "cell_type": "markdown",
      "id": "ea997df6",
      "metadata": {
        "id": "ea997df6"
      },
      "source": [
        "# **🌲 EXPLORATION 06-1 : 학습 내용**"
      ]
    },
    {
      "cell_type": "markdown",
      "id": "bdf1c21a",
      "metadata": {
        "id": "bdf1c21a"
      },
      "source": [
        "- **시퀀스(Sequence)**  \n",
        "- **순환신경망(RNN)**  \n",
        "- **언어 모델 (Language Model)**  \n",
        "- **토큰화(Tokenize)**  \n",
        "- **정규표현식(Regex)**  \n",
        "- **소스 문장 / 타겟 문장**  \n",
        "- **벡터화(vectorize)**  \n",
        "- **텐서(tensor)**  \n",
        "- **RNN**  "
      ]
    },
    {
      "cell_type": "markdown",
      "id": "bcd12577",
      "metadata": {
        "id": "bcd12577"
      },
      "source": [
        "<hr>"
      ]
    },
    {
      "cell_type": "markdown",
      "id": "1aa3118f",
      "metadata": {
        "id": "1aa3118f"
      },
      "source": [
        "# **🌲 EXPLORATION 06-2 : 멋진 가사가 만들기**"
      ]
    },
    {
      "cell_type": "markdown",
      "id": "f71554d5",
      "metadata": {
        "id": "f71554d5"
      },
      "source": [
        "## **🌿 01_데이터 준비**  "
      ]
    },
    {
      "cell_type": "markdown",
      "id": "430e73c5",
      "metadata": {
        "id": "430e73c5"
      },
      "source": [
        "### **🍃 01-1_라이브러리 import**"
      ]
    },
    {
      "cell_type": "markdown",
      "id": "42331d69",
      "metadata": {
        "id": "42331d69"
      },
      "source": [
        "- **os**  \n",
        "운영체제 기능 사용  \n",
        "\n",
        "- **re**  \n",
        "정규표현식 사용 \n",
        "\n",
        "- **glob**  \n",
        "파일 경로를 이용한 제어     \n",
        "\n",
        "- **matplotlib**  \n",
        "시각화  \n",
        "\n",
        "- **numpy**  \n",
        "수치 계산  \n",
        "\n",
        "- **tensorflow**    \n",
        "딥러닝 프로그램 구현  \n",
        "\n",
        "- **from sklearn.model_selection import train_test_split**    \n",
        "학습 셋 / 테스트 셋 분리  "
      ]
    },
    {
      "cell_type": "code",
      "execution_count": null,
      "id": "37b7d621",
      "metadata": {
        "id": "37b7d621"
      },
      "outputs": [],
      "source": [
        "import os\n",
        "import re\n",
        "import glob\n",
        "import matplotlib.pyplot as plt\n",
        "import numpy as np\n",
        "\n",
        "import tensorflow as tf\n",
        "from sklearn.model_selection import train_test_split"
      ]
    },
    {
      "cell_type": "markdown",
      "id": "5abc1ee8",
      "metadata": {
        "id": "5abc1ee8"
      },
      "source": [
        "### **🍃 01-2_데이터 import** "
      ]
    },
    {
      "cell_type": "markdown",
      "id": "6954291b",
      "metadata": {
        "id": "6954291b"
      },
      "source": [
        "- **glob.glob()**  \n",
        "해당 저장경로 내 해당 확장자를 리스트 형식으로 반환  "
      ]
    },
    {
      "cell_type": "code",
      "execution_count": null,
      "id": "488d5f43",
      "metadata": {
        "id": "488d5f43"
      },
      "outputs": [],
      "source": [
        "txt_file_path = os.getenv('HOME')+'/aiffel/exploration/E-06/data/lyricist/models/data/lyrics/*'\n",
        "txt_list = glob.glob(txt_file_path)\n",
        "\n",
        "raw_corpus = []\n",
        "\n",
        "# 파일을 읽기모드로 열고 라인 단위로 끊은 형태로 호출\n",
        "for txt_file in txt_list:\n",
        "    with open(txt_file, \"r\") as f:\n",
        "        raw = f.read().splitlines()\n",
        "        raw_corpus.extend(raw)"
      ]
    },
    {
      "cell_type": "markdown",
      "id": "fb4ad908",
      "metadata": {
        "id": "fb4ad908"
      },
      "source": [
        "### **🍃 01-3_데이터 확인** "
      ]
    },
    {
      "cell_type": "markdown",
      "id": "12a97984",
      "metadata": {
        "id": "12a97984"
      },
      "source": [
        "- **데이터 크기 및 샘플 출력**"
      ]
    },
    {
      "cell_type": "code",
      "execution_count": null,
      "id": "963181aa",
      "metadata": {
        "id": "963181aa",
        "outputId": "09c74b44-36c1-4be4-9ff8-0aaec468d88f"
      },
      "outputs": [
        {
          "name": "stdout",
          "output_type": "stream",
          "text": [
            "데이터 크기\n",
            " 187088\n",
            "\n",
            "Examples\n",
            " [\"Busted flat in Baton Rouge, waitin' for a train\", \"And I's feelin' near as faded as my jeans\", 'Bobby thumbed a diesel down, just before it rained']\n"
          ]
        }
      ],
      "source": [
        "# 데이터 크기 출력\n",
        "print(\"데이터 크기\\n\", len(raw_corpus))\n",
        "\n",
        "# 3라인 순차 출력\n",
        "print(\"\\nExamples\\n\", raw_corpus[:3])"
      ]
    },
    {
      "cell_type": "markdown",
      "id": "add7006f",
      "metadata": {
        "id": "add7006f"
      },
      "source": [
        "<hr>"
      ]
    },
    {
      "cell_type": "markdown",
      "id": "db31a045",
      "metadata": {
        "id": "db31a045"
      },
      "source": [
        "## **🌿 02_데이터 정제**  "
      ]
    },
    {
      "cell_type": "markdown",
      "id": "50f9182a",
      "metadata": {
        "id": "50f9182a"
      },
      "source": [
        "### **🍃 02-1_내용 정제** "
      ]
    },
    {
      "cell_type": "markdown",
      "id": "80387ad6",
      "metadata": {
        "id": "80387ad6"
      },
      "source": [
        "- **입력 문장 정제**\n",
        "    - **.replace()**  \n",
        "    특정 문자를 다른 문자로 치환  \n",
        "\n",
        "    - **lower()**  \n",
        "    소문자로 변경  \n",
        "\n",
        "    - **strip()**  \n",
        "    공백 제거\n",
        "\n",
        "    - **re.sub()**  \n",
        "    정규표현식을 활용한 문자 치환  "
      ]
    },
    {
      "cell_type": "code",
      "execution_count": null,
      "id": "895f531b",
      "metadata": {
        "id": "895f531b"
      },
      "outputs": [],
      "source": [
        "def preprocess_sentence(sentence):\n",
        "\n",
        "    # 소문자로 변경, 양쪽 공백 제거\n",
        "    sentence = sentence.lower().strip()\n",
        "\n",
        "    # 특수문자 양쪽 공백 삽입  \n",
        "    sentence = re.sub(r\"([?.!,¿])\", r\" \\1 \", sentence)\n",
        "\n",
        "    # 여러개의 공백을 하나의 공백으로 변환  \n",
        "    sentence = re.sub(r'[\" \"]+', \" \", sentence)\n",
        "\n",
        "    # 지정 특수기호가 아닌 모든 문자를 하나의 공백으로 변환\n",
        "    sentence = re.sub(r\"[^a-zA-Z?.!,¿]+\", \" \", sentence)\n",
        "\n",
        "    # 필요 없는 문자 삭제   \n",
        "    sentence = sentence.replace('[Chorus]', '')\n",
        "    sentence = sentence.replace('[Verse 1]', '')\n",
        "    sentence = sentence.replace('[Verse 2]', '')\n",
        "    sentence = sentence.replace('[Hook]', '')\n",
        "    sentence = sentence.replace('[Pre-Hook]', '')\n",
        "\n",
        "    # 양쪽 공백 삭제\n",
        "    sentence = sentence.strip()\n",
        "    sentence = '<start> ' + sentence + ' <end>'\n",
        "\n",
        "    return sentence"
      ]
    },
    {
      "cell_type": "markdown",
      "id": "442b349d",
      "metadata": {
        "id": "442b349d"
      },
      "source": [
        "### **🍃 02-2_정제 완료 및 데이터 확인** "
      ]
    },
    {
      "cell_type": "markdown",
      "id": "7f932fd6",
      "metadata": {
        "id": "7f932fd6"
      },
      "source": [
        "- **.split()**  \n",
        "분할  \n",
        "- **.append()**  \n",
        "요소 추가  "
      ]
    },
    {
      "cell_type": "code",
      "execution_count": null,
      "id": "e9ce11c5",
      "metadata": {
        "id": "e9ce11c5",
        "outputId": "f1dfea2c-ec72-46f5-f05e-840f2d9a74f6"
      },
      "outputs": [
        {
          "data": {
            "text/plain": [
              "['<start> busted flat in baton rouge , waitin for a train <end>',\n",
              " '<start> and i s feelin near as faded as my jeans <end>',\n",
              " '<start> bobby thumbed a diesel down , just before it rained <end>',\n",
              " '<start> i was playin soft while bobby sang the blues , yeah <end>',\n",
              " '<start> windshield wipers slappin time , i was holdin bobby s hand in mine <end>',\n",
              " '<start> you know , feelin good was good enough for me <end>',\n",
              " '<start> there bobby shared the secrets of my soul <end>',\n",
              " '<start> through all kinds of weather , through everything we done <end>',\n",
              " '<start> he s lookin for that home , and i hope he finds it <end>',\n",
              " '<start> nothin , that s all that bobby left me , yeah <end>']"
            ]
          },
          "execution_count": 5,
          "metadata": {},
          "output_type": "execute_result"
        }
      ],
      "source": [
        "corpus = []\n",
        "\n",
        "for sentence in raw_corpus:\n",
        "    if len(sentence) == 0: continue\n",
        "    if sentence[-1] == \"]\": continue\n",
        "    \n",
        "    \n",
        "\n",
        "    preprocessed_sentence = preprocess_sentence(sentence)\n",
        "    if len(preprocessed_sentence.split()) > 15: continue\n",
        "    corpus.append(preprocessed_sentence)\n",
        "\n",
        "corpus[:10]"
      ]
    },
    {
      "cell_type": "markdown",
      "id": "37083256",
      "metadata": {
        "id": "37083256"
      },
      "source": [
        "### **🍃 02-3_벡터화** "
      ]
    },
    {
      "cell_type": "markdown",
      "id": "2b260a5d",
      "metadata": {
        "id": "2b260a5d"
      },
      "source": [
        "- **tf.keras.preprocessing.text.Tokenizer**  \n",
        "Tensorflow를 활용한 Tokenize 전처리  \n",
        "텍스트를 단어 기반으로 토큰화 / 단어 사전 제작 / 데이터를 숫자로 변환   \n",
        "    - **num_words**  \n",
        "    전체 단어 수  \n",
        "    - **filters**  \n",
        "    별도의 전처리 추가  \n",
        "    - **oov_token**  \n",
        "    out-of-vocabulary / 사전에 없는 단어 대체 토큰  \n",
        "- **tf.keras.preprocessing.sequence.pad_sequences**  \n",
        "패딩 진행  \n",
        "    - **padding**  \n",
        "    앞에 0 채움 (기본) / 뒤에 0 채우고 싶은 경우 padding = 'post' 사용  \n",
        "    - **maxlen**  \n",
        "    해당 정수 값 만큼 시퀀스 길이 동일하게 설정    "
      ]
    },
    {
      "cell_type": "code",
      "execution_count": null,
      "id": "c549b860",
      "metadata": {
        "id": "c549b860"
      },
      "outputs": [],
      "source": [
        "def tokenize(corpus):\n",
        "    tokenizer = tf.keras.preprocessing.text.Tokenizer(\n",
        "        num_words = 15000, \n",
        "        filters=' ',\n",
        "        oov_token=\"<unk>\"\n",
        "    )\n",
        "    tokenizer.fit_on_texts(corpus)\n",
        "    tensor = tokenizer.texts_to_sequences(corpus)   \n",
        "    tensor = tf.keras.preprocessing.sequence.pad_sequences(tensor, padding='post', maxlen = 15)  \n",
        "    \n",
        "    print(tensor,tokenizer)\n",
        "    return tensor, tokenizer"
      ]
    },
    {
      "cell_type": "markdown",
      "id": "60ff0cc7",
      "metadata": {
        "id": "60ff0cc7"
      },
      "source": [
        "### **🍃 02-4_토큰화** "
      ]
    },
    {
      "cell_type": "markdown",
      "id": "ae99803c",
      "metadata": {
        "id": "ae99803c"
      },
      "source": [
        "- **tokenize( )**  \n",
        "토큰화  "
      ]
    },
    {
      "cell_type": "code",
      "execution_count": null,
      "id": "23157f5f",
      "metadata": {
        "id": "23157f5f",
        "outputId": "7f6c4e5f-69a6-4aaa-fd72-ad8b4322d0c5"
      },
      "outputs": [
        {
          "name": "stdout",
          "output_type": "stream",
          "text": [
            "[[   2 3991 1671 ...    0    0    0]\n",
            " [   2    8    4 ...    0    0    0]\n",
            " [   2  887 6793 ...    0    0    0]\n",
            " ...\n",
            " [   2 4748    5 ...    0    0    0]\n",
            " [   2   22   22 ...    3    0    0]\n",
            " [   2    3    0 ...    0    0    0]] <keras_preprocessing.text.Tokenizer object at 0x7fbff42a6e50>\n"
          ]
        }
      ],
      "source": [
        "tensor, tokenizer = tokenize(corpus)"
      ]
    },
    {
      "cell_type": "markdown",
      "id": "12de8200",
      "metadata": {
        "id": "12de8200"
      },
      "source": [
        "### **🍃 02-5_단어 사전 인덱스 구축 확인** "
      ]
    },
    {
      "cell_type": "code",
      "execution_count": null,
      "id": "dd4e9f4d",
      "metadata": {
        "id": "dd4e9f4d",
        "outputId": "387d42c8-3624-46ef-e04a-2c5aff6c4e79"
      },
      "outputs": [
        {
          "name": "stdout",
          "output_type": "stream",
          "text": [
            "1 : <unk>\n",
            "2 : <start>\n",
            "3 : <end>\n",
            "4 : i\n",
            "5 : ,\n",
            "6 : the\n",
            "7 : you\n",
            "8 : and\n",
            "9 : a\n",
            "10 : to\n"
          ]
        }
      ],
      "source": [
        "for idx in tokenizer.index_word:\n",
        "    print(idx, \":\", tokenizer.index_word[idx])\n",
        "\n",
        "    if idx >= 10: break"
      ]
    },
    {
      "cell_type": "markdown",
      "id": "490dd564",
      "metadata": {
        "id": "490dd564"
      },
      "source": [
        "### **🍃 02-6_정제 완료 및 데이터 확인** "
      ]
    },
    {
      "cell_type": "code",
      "execution_count": null,
      "id": "0b5dffee",
      "metadata": {
        "id": "0b5dffee",
        "outputId": "533ab531-4231-46c6-b786-63316bd5d2f6"
      },
      "outputs": [
        {
          "name": "stdout",
          "output_type": "stream",
          "text": [
            "[    2  3991  1671    14 12414  4458     5  1288    28     9   634     3\n",
            "     0     0]\n",
            "[ 3991  1671    14 12414  4458     5  1288    28     9   634     3     0\n",
            "     0     0]\n"
          ]
        }
      ],
      "source": [
        "src_input = tensor[:, :-1]  \n",
        "tgt_input = tensor[:, 1:]    \n",
        "\n",
        "print(src_input[0])\n",
        "print(tgt_input[0])"
      ]
    },
    {
      "cell_type": "markdown",
      "id": "a82aa471",
      "metadata": {
        "id": "a82aa471"
      },
      "source": [
        "### **🍃 02-7_문장 생성 함수** "
      ]
    },
    {
      "cell_type": "markdown",
      "id": "6135dd1f",
      "metadata": {
        "id": "6135dd1f"
      },
      "source": [
        "- **tf.argmax()**  \n",
        "최대값을 가지는 데이터 요소 추출  \n",
        "\n",
        "- **tokenizer.word_index**  \n",
        "단어와 숫자의 키-값 쌍을 포함하는 딕셔너리 반환"
      ]
    },
    {
      "cell_type": "code",
      "execution_count": null,
      "id": "27561f85",
      "metadata": {
        "id": "27561f85"
      },
      "outputs": [],
      "source": [
        "def generate_text(model, tokenizer, init_sentence=\"<start>\", max_len=15):\n",
        "    test_input = tokenizer.texts_to_sequences([init_sentence])\n",
        "    test_tensor = tf.convert_to_tensor(test_input, dtype=tf.int64)\n",
        "    end_token = tokenizer.word_index[\"<end>\"]\n",
        "\n",
        "    while True:\n",
        "        # 입력받은 문장의 텐서를 입력\n",
        "        predict = model(test_tensor)\n",
        "        # 모델이 예측한 마지막 단어 = 바로 새롭게 생성한 단어  \n",
        "        predict_word = tf.argmax(tf.nn.softmax(predict, axis=-1), axis=-1)[:, -1]\n",
        "        # 우리 모델이 새롭게 예측한 단어를 입력 문장의 뒤에 삽입  \n",
        "        test_tensor = tf.concat([test_tensor, tf.expand_dims(predict_word, axis=0)], axis=-1)\n",
        "        # <END>, max_len에 도달하지 않을 시 while 루프 돌면서 다음 단어를 예측  \n",
        "        if predict_word.numpy()[0] == end_token: break\n",
        "        if test_tensor.shape[1] >= max_len: break\n",
        "\n",
        "    generated = \"\"\n",
        "    # 생성된 tensor 안에 있는 word index를 tokenizer.index_word 사전을 통해 단어로 하나씩 변환\n",
        "    for word_index in test_tensor[0].numpy():\n",
        "        generated += tokenizer.index_word[word_index] + \" \"\n",
        "\n",
        "    return generated"
      ]
    },
    {
      "cell_type": "markdown",
      "id": "56073d6d",
      "metadata": {
        "id": "56073d6d"
      },
      "source": [
        "<hr>"
      ]
    },
    {
      "cell_type": "markdown",
      "id": "4dd86029",
      "metadata": {
        "id": "4dd86029"
      },
      "source": [
        "## **🌿 03_평가 데이터셋 분리**  "
      ]
    },
    {
      "cell_type": "markdown",
      "id": "5f1b94bb",
      "metadata": {
        "id": "5f1b94bb"
      },
      "source": [
        "### **🍃 03-1_데이터셋 객체 생성** "
      ]
    },
    {
      "cell_type": "markdown",
      "id": "15af48c7",
      "metadata": {
        "id": "15af48c7"
      },
      "source": [
        "- **tf.data.Dataset.from_tensor_slices()**  \n",
        "tf.data.Dataset 객체 생성  \n",
        "\n",
        "- **train_test_split**  \n",
        "train / test 분리  \n",
        "전체의 20% 데이터 test로 사용  "
      ]
    },
    {
      "cell_type": "code",
      "execution_count": null,
      "id": "7ea9ac99",
      "metadata": {
        "id": "7ea9ac99"
      },
      "outputs": [],
      "source": [
        "BUFFER_SIZE = len(src_input)\n",
        "BATCH_SIZE = 256\n",
        "steps_per_epoch = len(src_input) // BATCH_SIZE\n",
        "\n",
        "VOCAB_SIZE = tokenizer.num_words + 1\n",
        "\n",
        "X_train, X_val, y_train, y_val = train_test_split(src_input, tgt_input, test_size=0.2, random_state=25)\n",
        "\n",
        "train_dataset = tf.data.Dataset.from_tensor_slices((X_train, y_train))\n",
        "train_dataset = train_dataset.shuffle(BUFFER_SIZE)\n",
        "train_dataset = train_dataset.batch(BATCH_SIZE, drop_remainder=True)\n",
        "\n",
        "val_dataset = tf.data.Dataset.from_tensor_slices((X_val, y_val))\n",
        "val_dataset = val_dataset.shuffle(BUFFER_SIZE)\n",
        "val_dataset = val_dataset.batch(BATCH_SIZE, drop_remainder=True)"
      ]
    },
    {
      "cell_type": "markdown",
      "id": "628ca419",
      "metadata": {
        "id": "628ca419"
      },
      "source": [
        "### **🍃 03-2_데이터셋 형태 확인** "
      ]
    },
    {
      "cell_type": "markdown",
      "id": "ee88c00a",
      "metadata": {
        "id": "ee88c00a"
      },
      "source": [
        "- **.shape**  \n",
        "차원 형태 확인  "
      ]
    },
    {
      "cell_type": "code",
      "execution_count": null,
      "id": "06ce195b",
      "metadata": {
        "id": "06ce195b",
        "outputId": "73a7da38-4f61-4b1b-c7ab-107bcfa8255a"
      },
      "outputs": [
        {
          "name": "stdout",
          "output_type": "stream",
          "text": [
            "(124076, 14)\n",
            "(124076, 14)\n"
          ]
        }
      ],
      "source": [
        "print(X_train.shape)\n",
        "print(y_train.shape)"
      ]
    },
    {
      "cell_type": "code",
      "execution_count": null,
      "id": "3c3ea27f",
      "metadata": {
        "id": "3c3ea27f",
        "outputId": "d7c23f11-fcce-41a5-a998-0f0bb345e8d3"
      },
      "outputs": [
        {
          "name": "stdout",
          "output_type": "stream",
          "text": [
            "(31020, 14)\n",
            "(31020, 14)\n"
          ]
        }
      ],
      "source": [
        "print(X_val.shape)\n",
        "print(y_val.shape)"
      ]
    },
    {
      "cell_type": "markdown",
      "id": "53557343",
      "metadata": {
        "id": "53557343"
      },
      "source": [
        "- **_dataset**  \n",
        "데이터 셋 확인  "
      ]
    },
    {
      "cell_type": "code",
      "execution_count": null,
      "id": "cae9e0b3",
      "metadata": {
        "id": "cae9e0b3",
        "outputId": "5c3663b2-56a8-4934-e0ef-099be833c13a"
      },
      "outputs": [
        {
          "data": {
            "text/plain": [
              "<BatchDataset shapes: ((256, 14), (256, 14)), types: (tf.int32, tf.int32)>"
            ]
          },
          "execution_count": 14,
          "metadata": {},
          "output_type": "execute_result"
        }
      ],
      "source": [
        "train_dataset"
      ]
    },
    {
      "cell_type": "code",
      "execution_count": null,
      "id": "b47477c1",
      "metadata": {
        "id": "b47477c1",
        "outputId": "05b2a1f5-ca4c-407f-9a67-2131ce46360d"
      },
      "outputs": [
        {
          "data": {
            "text/plain": [
              "<BatchDataset shapes: ((256, 14), (256, 14)), types: (tf.int32, tf.int32)>"
            ]
          },
          "execution_count": 15,
          "metadata": {},
          "output_type": "execute_result"
        }
      ],
      "source": [
        "val_dataset"
      ]
    },
    {
      "cell_type": "markdown",
      "id": "fabc1777",
      "metadata": {
        "id": "fabc1777"
      },
      "source": [
        "<hr>"
      ]
    },
    {
      "cell_type": "markdown",
      "id": "1db224ec",
      "metadata": {
        "id": "1db224ec"
      },
      "source": [
        "## **🌿 04_모델 제작**"
      ]
    },
    {
      "cell_type": "markdown",
      "id": "b268c924",
      "metadata": {
        "id": "b268c924"
      },
      "source": [
        "### **🍃 04-1_모델 제작**"
      ]
    },
    {
      "cell_type": "markdown",
      "id": "4dd9a21b",
      "metadata": {
        "id": "4dd9a21b"
      },
      "source": [
        "- **Embedding layer**  \n",
        "1개  \n",
        "인덱스 값을 해당 순서의 워드 벡터로 변환  \n",
        "- **LSTM layer**  \n",
        "2개  \n",
        "- **Dense layer**  \n",
        "1개"
      ]
    },
    {
      "cell_type": "code",
      "execution_count": null,
      "id": "5e66a8c3",
      "metadata": {
        "id": "5e66a8c3"
      },
      "outputs": [],
      "source": [
        "class TextGenerator(tf.keras.Model):\n",
        "    \n",
        "    def __init__(self, vocab_size, embedding_size, hidden_size):\n",
        "        super().__init__()\n",
        "        \n",
        "        self.embedding = tf.keras.layers.Embedding(vocab_size, embedding_size)\n",
        "        self.rnn_1 = tf.keras.layers.LSTM(hidden_size, return_sequences=True)\n",
        "        self.rnn_2 = tf.keras.layers.LSTM(hidden_size, return_sequences=True)\n",
        "        self.linear = tf.keras.layers.Dense(vocab_size)\n",
        "\n",
        "    def call(self, x):\n",
        "        out = self.embedding(x)\n",
        "        out = self.rnn_1(out)\n",
        "        out = self.rnn_2(out)\n",
        "        out = self.linear(out)\n",
        "        \n",
        "        return out"
      ]
    },
    {
      "cell_type": "markdown",
      "id": "47b25368",
      "metadata": {
        "id": "47b25368"
      },
      "source": [
        "- **embedding_size**  \n",
        "차원 크기 (단어가 추상적으로 표현되는 크기)  \n",
        "- **hidden_size**  \n",
        "hidden state 의 차원수"
      ]
    },
    {
      "cell_type": "code",
      "execution_count": null,
      "id": "290cc664",
      "metadata": {
        "id": "290cc664"
      },
      "outputs": [],
      "source": [
        "embedding_size = 800\n",
        "hidden_size = 3000\n",
        "model = TextGenerator(tokenizer.num_words + 1, embedding_size , hidden_size)"
      ]
    },
    {
      "cell_type": "markdown",
      "id": "6bdf19e1",
      "metadata": {
        "id": "6bdf19e1"
      },
      "source": [
        "### **🍃 04-2_모델 임시 확인**  "
      ]
    },
    {
      "cell_type": "markdown",
      "id": "d832ba22",
      "metadata": {
        "id": "d832ba22"
      },
      "source": [
        "- **데이터셋에서 데이터 한 배치만 호출해 확인**  "
      ]
    },
    {
      "cell_type": "code",
      "execution_count": null,
      "id": "d922e22a",
      "metadata": {
        "id": "d922e22a",
        "outputId": "fef42186-daaf-49a7-bee5-55b5b22c1956"
      },
      "outputs": [
        {
          "data": {
            "text/plain": [
              "<tf.Tensor: shape=(256, 14, 15001), dtype=float32, numpy=\n",
              "array([[[-4.09009430e-04, -1.64461104e-04,  1.12753391e-04, ...,\n",
              "         -2.25251904e-04,  3.43091582e-04,  6.12408447e-04],\n",
              "        [-1.17768347e-03, -3.68402805e-04, -9.13951735e-05, ...,\n",
              "          5.35605286e-05,  7.92452425e-04,  4.21585952e-04],\n",
              "        [-1.50818366e-03, -6.36258046e-04, -3.68758221e-04, ...,\n",
              "          3.62952851e-04,  1.11246062e-03,  4.33767273e-04],\n",
              "        ...,\n",
              "        [-1.50055683e-03, -4.76013374e-04, -5.84574137e-03, ...,\n",
              "          8.74041754e-04,  5.09211607e-03, -2.24959967e-03],\n",
              "        [-1.48496602e-03, -3.24572116e-04, -6.14673179e-03, ...,\n",
              "          7.32184330e-04,  5.26099792e-03, -2.35676882e-03],\n",
              "        [-1.48861110e-03, -1.65096833e-04, -6.37711817e-03, ...,\n",
              "          5.59331966e-04,  5.37692849e-03, -2.46206019e-03]],\n",
              "\n",
              "       [[-4.09009430e-04, -1.64461104e-04,  1.12753391e-04, ...,\n",
              "         -2.25251904e-04,  3.43091582e-04,  6.12408447e-04],\n",
              "        [-6.23064872e-04, -1.59740976e-05,  2.44453724e-04, ...,\n",
              "         -2.27778233e-04,  7.90112594e-04,  8.30193690e-04],\n",
              "        [-1.91436091e-04,  1.77043461e-04, -1.31384729e-06, ...,\n",
              "         -1.87433267e-04,  8.63809080e-04,  8.61877750e-04],\n",
              "        ...,\n",
              "        [ 9.76332405e-04,  1.46752503e-03, -3.60552571e-03, ...,\n",
              "          9.91419773e-04,  3.22806300e-03, -6.89493550e-04],\n",
              "        [ 7.39901385e-04,  1.36350282e-03, -4.29231534e-03, ...,\n",
              "          9.16760648e-04,  3.72634083e-03, -1.01188535e-03],\n",
              "        [ 4.96606634e-04,  1.27442728e-03, -4.86089103e-03, ...,\n",
              "          7.91558996e-04,  4.14934242e-03, -1.30778132e-03]],\n",
              "\n",
              "       [[-4.09009430e-04, -1.64461104e-04,  1.12753391e-04, ...,\n",
              "         -2.25251904e-04,  3.43091582e-04,  6.12408447e-04],\n",
              "        [-3.19806422e-04, -1.25869614e-04,  2.32978084e-04, ...,\n",
              "         -3.80530604e-04,  3.73062619e-04,  3.87871201e-04],\n",
              "        [ 1.00675636e-04, -4.07718355e-04,  2.95542850e-04, ...,\n",
              "         -3.12560034e-04,  6.15043624e-04,  5.66187024e-04],\n",
              "        ...,\n",
              "        [ 3.34247277e-04, -1.17490184e-03, -1.60300103e-03, ...,\n",
              "         -3.71752612e-05,  1.47813803e-03, -1.15304196e-03],\n",
              "        [ 3.76760378e-04, -9.00887477e-04, -2.40834849e-03, ...,\n",
              "          7.03116712e-06,  2.16715527e-03, -1.33868342e-03],\n",
              "        [ 3.56460398e-04, -6.53506257e-04, -3.16630746e-03, ...,\n",
              "          4.85270939e-05,  2.79528974e-03, -1.49629859e-03]],\n",
              "\n",
              "       ...,\n",
              "\n",
              "       [[-4.09009430e-04, -1.64461104e-04,  1.12753391e-04, ...,\n",
              "         -2.25251904e-04,  3.43091582e-04,  6.12408447e-04],\n",
              "        [-4.93192405e-04, -4.35523601e-04,  1.77866779e-04, ...,\n",
              "         -2.80320819e-04,  5.50597790e-04,  1.03530567e-03],\n",
              "        [-4.97366593e-04, -6.05206238e-04,  2.34472216e-04, ...,\n",
              "         -2.06027049e-04,  2.71143188e-04,  8.18669214e-04],\n",
              "        ...,\n",
              "        [ 2.83758209e-06,  2.04859913e-04, -5.01893135e-03, ...,\n",
              "          7.86042598e-04,  3.39282816e-03, -9.71728005e-04],\n",
              "        [-1.71748383e-04,  2.64182105e-04, -5.45245409e-03, ...,\n",
              "          7.07450730e-04,  3.79177276e-03, -1.17928907e-03],\n",
              "        [-3.44960543e-04,  3.33422533e-04, -5.80282835e-03, ...,\n",
              "          5.77131286e-04,  4.12601093e-03, -1.39444019e-03]],\n",
              "\n",
              "       [[-4.09009430e-04, -1.64461104e-04,  1.12753391e-04, ...,\n",
              "         -2.25251904e-04,  3.43091582e-04,  6.12408447e-04],\n",
              "        [-5.36115607e-04, -1.69566396e-04,  2.77864921e-04, ...,\n",
              "         -2.27784883e-04,  4.94338514e-04,  8.33420840e-04],\n",
              "        [-1.00724644e-03, -3.47096764e-04,  3.61009996e-04, ...,\n",
              "         -4.62805532e-04,  2.85454909e-04,  1.37119414e-03],\n",
              "        ...,\n",
              "        [-4.56572074e-04, -3.30644398e-04, -2.04772252e-04, ...,\n",
              "          2.28086938e-05,  7.85946148e-04,  1.08296832e-03],\n",
              "        [-3.09432158e-04,  1.04162891e-05, -9.83400387e-04, ...,\n",
              "          1.70515865e-04,  1.39819738e-03,  7.90985592e-04],\n",
              "        [-2.58829357e-04,  2.70237884e-04, -1.84718193e-03, ...,\n",
              "          3.54734831e-04,  2.03195750e-03,  4.68384358e-04]],\n",
              "\n",
              "       [[-4.09009430e-04, -1.64461104e-04,  1.12753391e-04, ...,\n",
              "         -2.25251904e-04,  3.43091582e-04,  6.12408447e-04],\n",
              "        [-1.09496259e-03,  3.62412597e-04,  6.59998914e-05, ...,\n",
              "         -3.86789652e-05,  5.49927587e-04,  7.40643940e-04],\n",
              "        [-1.84009655e-03,  8.34211649e-04,  3.66171807e-05, ...,\n",
              "          1.24100785e-04,  6.53008174e-04,  5.96290920e-04],\n",
              "        ...,\n",
              "        [-9.85219027e-04,  1.20066246e-03, -4.81310766e-03, ...,\n",
              "          4.28857369e-04,  3.57917883e-03, -1.98194827e-03],\n",
              "        [-9.29150672e-04,  1.11315004e-03, -5.30187087e-03, ...,\n",
              "          3.71015718e-04,  3.98954796e-03, -2.14514043e-03],\n",
              "        [-9.06386995e-04,  1.04995258e-03, -5.69293974e-03, ...,\n",
              "          2.67640135e-04,  4.32547834e-03, -2.29310035e-03]]],\n",
              "      dtype=float32)>"
            ]
          },
          "execution_count": 18,
          "metadata": {},
          "output_type": "execute_result"
        }
      ],
      "source": [
        "for src_sample, tgt_sample in train_dataset.take(1): break\n",
        "model(src_sample)"
      ]
    },
    {
      "cell_type": "markdown",
      "id": "1444ee6b",
      "metadata": {
        "id": "1444ee6b"
      },
      "source": [
        "### **🍃 04-3_모델 구조 확인**  "
      ]
    },
    {
      "cell_type": "markdown",
      "id": "6192cde3",
      "metadata": {
        "id": "6192cde3"
      },
      "source": [
        "- **Embedding layer**  \n",
        "1개  \n",
        "- **LSTM layer**  \n",
        "2개  \n",
        "- **Dense layer**  \n",
        "1개  \n",
        "- **총 파라미터 / 학습 가능 파라미터**  \n",
        "174,642,801 / 174,642,801"
      ]
    },
    {
      "cell_type": "code",
      "execution_count": null,
      "id": "dae05e76",
      "metadata": {
        "id": "dae05e76",
        "outputId": "5ff5b133-fcf0-4b1b-b883-51ae622439d2"
      },
      "outputs": [
        {
          "name": "stdout",
          "output_type": "stream",
          "text": [
            "Model: \"text_generator\"\n",
            "_________________________________________________________________\n",
            "Layer (type)                 Output Shape              Param #   \n",
            "=================================================================\n",
            "embedding (Embedding)        multiple                  12000800  \n",
            "_________________________________________________________________\n",
            "lstm (LSTM)                  multiple                  45612000  \n",
            "_________________________________________________________________\n",
            "lstm_1 (LSTM)                multiple                  72012000  \n",
            "_________________________________________________________________\n",
            "dense (Dense)                multiple                  45018001  \n",
            "=================================================================\n",
            "Total params: 174,642,801\n",
            "Trainable params: 174,642,801\n",
            "Non-trainable params: 0\n",
            "_________________________________________________________________\n"
          ]
        }
      ],
      "source": [
        "model.summary()"
      ]
    },
    {
      "cell_type": "markdown",
      "id": "4ca7fe90",
      "metadata": {
        "id": "4ca7fe90"
      },
      "source": [
        "### **🍃 04-4_모델 학습 환경**  "
      ]
    },
    {
      "cell_type": "markdown",
      "id": "6e5a1d98",
      "metadata": {
        "id": "6e5a1d98"
      },
      "source": [
        "- **model.compile()**  \n",
        "모델 학습 환경 설정  \n",
        "- **optimizer**  \n",
        "옵티마이저 - Adam \n",
        "- **손실함수**  \n",
        "Sparse Categorical Cross Entropy  \n",
        "label이 정수 형태를 띄고 있는 경우 사용  \n",
        "- **metrics**  \n",
        "모델 평가 방법  \n",
        "tf.keras.metrics.SparseCategoricalAccuracy()"
      ]
    },
    {
      "cell_type": "code",
      "execution_count": null,
      "id": "acaf05bc",
      "metadata": {
        "id": "acaf05bc"
      },
      "outputs": [],
      "source": [
        "model.compile(\n",
        "    optimizer=tf.keras.optimizers.Adam(),\n",
        "    loss=tf.keras.losses.SparseCategoricalCrossentropy(from_logits=True, reduction='none'),\n",
        "    metrics=[tf.keras.metrics.SparseCategoricalAccuracy()])"
      ]
    },
    {
      "cell_type": "markdown",
      "id": "29238a5f",
      "metadata": {
        "id": "29238a5f"
      },
      "source": [
        "<hr>"
      ]
    },
    {
      "cell_type": "markdown",
      "id": "7794ac0f",
      "metadata": {
        "id": "7794ac0f"
      },
      "source": [
        "## **🌿 05_모델 학습 및 평가**"
      ]
    },
    {
      "cell_type": "markdown",
      "id": "129946ed",
      "metadata": {
        "id": "129946ed"
      },
      "source": [
        "### **🍃 05-1_모델 학습**"
      ]
    },
    {
      "cell_type": "markdown",
      "id": "f8fa5f73",
      "metadata": {
        "id": "f8fa5f73"
      },
      "source": [
        "history에 loss, accurancy 저장  \n",
        "- **model.fit()**  \n",
        "모델 학습  "
      ]
    },
    {
      "cell_type": "code",
      "execution_count": null,
      "id": "3e893cc7",
      "metadata": {
        "id": "3e893cc7",
        "outputId": "f5d81122-43c5-4565-b501-77f4c62407b9"
      },
      "outputs": [
        {
          "name": "stdout",
          "output_type": "stream",
          "text": [
            "Epoch 1/10\n",
            "484/484 [==============================] - 542s 1s/step - loss: 3.2602 - sparse_categorical_accuracy: 0.5058 - val_loss: 2.9189 - val_sparse_categorical_accuracy: 0.5299\n",
            "Epoch 2/10\n",
            "484/484 [==============================] - 540s 1s/step - loss: 2.7341 - sparse_categorical_accuracy: 0.5431 - val_loss: 2.6770 - val_sparse_categorical_accuracy: 0.5521\n",
            "Epoch 3/10\n",
            "484/484 [==============================] - 539s 1s/step - loss: 2.4108 - sparse_categorical_accuracy: 0.5717 - val_loss: 2.4981 - val_sparse_categorical_accuracy: 0.5757\n",
            "Epoch 4/10\n",
            "484/484 [==============================] - 540s 1s/step - loss: 2.0835 - sparse_categorical_accuracy: 0.6105 - val_loss: 2.3580 - val_sparse_categorical_accuracy: 0.6000\n",
            "Epoch 5/10\n",
            "484/484 [==============================] - 540s 1s/step - loss: 1.7703 - sparse_categorical_accuracy: 0.6570 - val_loss: 2.2575 - val_sparse_categorical_accuracy: 0.6239\n",
            "Epoch 6/10\n",
            "484/484 [==============================] - 540s 1s/step - loss: 1.4933 - sparse_categorical_accuracy: 0.7065 - val_loss: 2.1976 - val_sparse_categorical_accuracy: 0.6439\n",
            "Epoch 7/10\n",
            "484/484 [==============================] - 541s 1s/step - loss: 1.2734 - sparse_categorical_accuracy: 0.7502 - val_loss: 2.1707 - val_sparse_categorical_accuracy: 0.6587\n",
            "Epoch 8/10\n",
            "484/484 [==============================] - 540s 1s/step - loss: 1.1185 - sparse_categorical_accuracy: 0.7840 - val_loss: 2.1806 - val_sparse_categorical_accuracy: 0.6665\n",
            "Epoch 9/10\n",
            "484/484 [==============================] - 541s 1s/step - loss: 1.0301 - sparse_categorical_accuracy: 0.8026 - val_loss: 2.2034 - val_sparse_categorical_accuracy: 0.6692\n",
            "Epoch 10/10\n",
            "484/484 [==============================] - 540s 1s/step - loss: 0.9860 - sparse_categorical_accuracy: 0.8103 - val_loss: 2.2169 - val_sparse_categorical_accuracy: 0.6709\n"
          ]
        }
      ],
      "source": [
        "history = model.fit(train_dataset,\n",
        "            epochs=10,\n",
        "            batch_size=256,\n",
        "            validation_data=val_dataset,\n",
        "            verbose=1)"
      ]
    },
    {
      "cell_type": "markdown",
      "id": "c2e09150",
      "metadata": {
        "id": "c2e09150"
      },
      "source": [
        "### **🍃 05-2_모델 평가**"
      ]
    },
    {
      "cell_type": "markdown",
      "id": "d7e98cd3",
      "metadata": {
        "id": "d7e98cd3"
      },
      "source": [
        "- **정확도 / 손실 시각화**  "
      ]
    },
    {
      "cell_type": "code",
      "execution_count": null,
      "id": "886b1289",
      "metadata": {
        "id": "886b1289",
        "outputId": "c63ea94c-8ead-4e14-be05-091c319965f9"
      },
      "outputs": [
        {
          "data": {
            "image/png": "[encoded data removed]",
            "text/plain": [
              "<Figure size 720x360 with 2 Axes>"
            ]
          },
          "metadata": {
            "needs_background": "light"
          },
          "output_type": "display_data"
        }
      ],
      "source": [
        "plt.figure(figsize=(10,5))\n",
        "\n",
        "plt.subplot(1, 2, 1)  \n",
        "plt.plot(history.history['sparse_categorical_accuracy'])\n",
        "plt.plot(history.history['val_sparse_categorical_accuracy'])\n",
        "plt.title('Model accuracy')\n",
        "plt.xlabel('Epoch')\n",
        "plt.ylabel('Accuracy')\n",
        "plt.legend(['Train', 'Val'], loc='upper left')\n",
        "\n",
        "plt.subplot(1, 2, 2)  \n",
        "plt.plot(history.history['loss'])\n",
        "plt.plot(history.history['val_loss'])\n",
        "plt.title('Model loss')\n",
        "plt.xlabel('Epoch')\n",
        "plt.ylabel('Loss')\n",
        "plt.legend(['Train', 'Val'], loc='upper left')\n",
        "\n",
        "plt.tight_layout()\n",
        "plt.show()"
      ]
    },
    {
      "cell_type": "markdown",
      "id": "5480c7b4",
      "metadata": {
        "id": "5480c7b4"
      },
      "source": [
        "<hr>"
      ]
    },
    {
      "cell_type": "markdown",
      "id": "63e2a925",
      "metadata": {
        "id": "63e2a925"
      },
      "source": [
        "## **🌿 06_한줄 가사 생성**"
      ]
    },
    {
      "cell_type": "code",
      "execution_count": null,
      "id": "bb2175cc",
      "metadata": {
        "id": "bb2175cc",
        "outputId": "539b1d04-cbd4-4364-8d6a-5ef11e2873ff"
      },
      "outputs": [
        {
          "name": "stdout",
          "output_type": "stream",
          "text": [
            "<start> i m a superwoman oh ooh baby , baby , baby , baby <end> \n",
            "<start> i love you slim , we coulda been together , think about it <end> \n",
            "<start> i know you feel me now <end> \n",
            "\n",
            "\n",
            "<start> you know i extra do it they say im the best to do <end> \n",
            "<start> you have no reason to be gone <end> \n",
            "<start> you say you disturb me <end> \n"
          ]
        }
      ],
      "source": [
        "print(generate_text(model, tokenizer, init_sentence=\"<start> i\", max_len=25))\n",
        "print(generate_text(model, tokenizer, init_sentence=\"<start> i love\", max_len=25))\n",
        "print(generate_text(model, tokenizer, init_sentence=\"<start> i know\", max_len=25))\n",
        "print('\\n')\n",
        "print(generate_text(model, tokenizer, init_sentence=\"<start> you\", max_len=25))\n",
        "print(generate_text(model, tokenizer, init_sentence=\"<start> you have\", max_len=25))\n",
        "print(generate_text(model, tokenizer, init_sentence=\"<start> you say\", max_len=25))"
      ]
    },
    {
      "cell_type": "markdown",
      "id": "397ab39b",
      "metadata": {
        "id": "397ab39b"
      },
      "source": [
        "<hr>"
      ]
    }
  ],
  "metadata": {
    "kernelspec": {
      "display_name": "Python 3 (ipykernel)",
      "language": "python",
      "name": "python3"
    },
    "language_info": {
      "codemirror_mode": {
        "name": "ipython",
        "version": 3
      },
      "file_extension": ".py",
      "mimetype": "text/x-python",
      "name": "python",
      "nbconvert_exporter": "python",
      "pygments_lexer": "ipython3",
      "version": "3.9.7"
    },
    "colab": {
      "name": "[E-06]exploration.ipynb",
      "provenance": [],
      "collapsed_sections": [
        "fb7c29f1",
        "ea997df6",
        "1aa3118f",
        "f71554d5",
        "430e73c5",
        "5abc1ee8",
        "fb4ad908",
        "db31a045",
        "50f9182a",
        "442b349d",
        "37083256",
        "60ff0cc7",
        "12de8200",
        "490dd564",
        "a82aa471",
        "4dd86029",
        "5f1b94bb",
        "628ca419",
        "1db224ec",
        "b268c924",
        "6bdf19e1",
        "1444ee6b",
        "4ca7fe90",
        "7794ac0f",
        "129946ed",
        "c2e09150",
        "63e2a925",
        "9a4d110a"
      ],
      "include_colab_link": true
    }
  },
  "nbformat": 4,
  "nbformat_minor": 5
}