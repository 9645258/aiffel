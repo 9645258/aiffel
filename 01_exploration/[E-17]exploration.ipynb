{
  "cells": [
    {
      "cell_type": "markdown",
      "metadata": {
        "id": "view-in-github",
        "colab_type": "text"
      },
      "source": [
        "<a href=\"https://colab.research.google.com/github/9645258/aiffel/blob/main/01_exploration/%5BE-17%5Dexploration.ipynb\" target=\"_parent\"><img src=\"https://colab.research.google.com/assets/colab-badge.svg\" alt=\"Open In Colab\"/></a>"
      ]
    },
    {
      "cell_type": "markdown",
      "source": [
        "# **🎄 EXPLORATION 17**  "
      ],
      "metadata": {
        "id": "IY_DM6OSYMZm"
      },
      "id": "IY_DM6OSYMZm"
    },
    {
      "cell_type": "markdown",
      "source": [
        "# **🌲 EXPLORATION 17-1 : Movielens 영화 SBR**"
      ],
      "metadata": {
        "id": "87uFBfW9YOsE"
      },
      "id": "87uFBfW9YOsE"
    },
    {
      "cell_type": "markdown",
      "source": [
        "## **🌿 01_데이터 준비**"
      ],
      "metadata": {
        "id": "g2zK9BAAYZYT"
      },
      "id": "g2zK9BAAYZYT"
    },
    {
      "cell_type": "markdown",
      "source": [
        "### **🍃 01-1_필요 라이브러리 import**"
      ],
      "metadata": {
        "id": "0gJNacU1YbsT"
      },
      "id": "0gJNacU1YbsT"
    },
    {
      "cell_type": "code",
      "execution_count": null,
      "id": "6f3247c7",
      "metadata": {
        "id": "6f3247c7"
      },
      "outputs": [],
      "source": [
        "import datetime as dt\n",
        "from pathlib import Path\n",
        "import os\n",
        "from datetime import datetime\n",
        "\n",
        "import numpy as np\n",
        "import pandas as pd\n",
        "import warnings\n",
        "warnings.filterwarnings('ignore')\n",
        "\n",
        "import matplotlib.pyplot as plt\n",
        "\n",
        "import tensorflow as tf\n",
        "from tensorflow.keras.layers import Input, Dense, Dropout, GRU\n",
        "from tensorflow.keras.losses import categorical_crossentropy\n",
        "from tensorflow.keras.models import Model\n",
        "from tensorflow.keras.optimizers import Adam\n",
        "from tensorflow.keras.utils import to_categorical\n",
        "from tqdm import tqdm"
      ]
    },
    {
      "cell_type": "markdown",
      "source": [
        "### **🍃 01-2_필요 데이터 import**"
      ],
      "metadata": {
        "id": "FRI7CsKqYdan"
      },
      "id": "FRI7CsKqYdan"
    },
    {
      "cell_type": "code",
      "execution_count": null,
      "id": "7f6ad006",
      "metadata": {
        "id": "7f6ad006"
      },
      "outputs": [],
      "source": [
        "data_path = Path('C:/Users/96452/00_work/E-17/data/') \n",
        "train_path = data_path / 'ratings.dat'"
      ]
    },
    {
      "cell_type": "markdown",
      "source": [
        "### **🍃 01-3_필요 데이터 import**"
      ],
      "metadata": {
        "id": "ICX3XhzzaAsw"
      },
      "id": "ICX3XhzzaAsw"
    },
    {
      "cell_type": "code",
      "execution_count": null,
      "id": "acda6fb0",
      "metadata": {
        "id": "acda6fb0"
      },
      "outputs": [],
      "source": [
        "def load_data(data_path: Path, nrows=None):\n",
        "    data = pd.read_csv(data_path, sep='::', header=None, usecols=[0, 1, 2, 3], dtype={0: np.int32, 1: np.int32, 2: np.int32}, nrows=nrows)\n",
        "    data.columns = ['UserId', 'ItemId', 'Rating', 'Time']\n",
        "    return data"
      ]
    },
    {
      "cell_type": "markdown",
      "source": [
        "### **🍃 01-4_데이터 정렬**"
      ],
      "metadata": {
        "id": "i1i07kBOaBl1"
      },
      "id": "i1i07kBOaBl1"
    },
    {
      "cell_type": "markdown",
      "source": [
        "- **UserId, Time 순으로 정렬**\n"
      ],
      "metadata": {
        "id": "yAPk6cbEiIg5"
      },
      "id": "yAPk6cbEiIg5"
    },
    {
      "cell_type": "code",
      "execution_count": null,
      "id": "45620f0e",
      "metadata": {
        "id": "45620f0e",
        "outputId": "7c884943-db1b-484e-dec6-4fe3c05e9406"
      },
      "outputs": [
        {
          "data": {
            "text/html": [
              "<div>\n",
              "<style scoped>\n",
              "    .dataframe tbody tr th:only-of-type {\n",
              "        vertical-align: middle;\n",
              "    }\n",
              "\n",
              "    .dataframe tbody tr th {\n",
              "        vertical-align: top;\n",
              "    }\n",
              "\n",
              "    .dataframe thead th {\n",
              "        text-align: right;\n",
              "    }\n",
              "</style>\n",
              "<table border=\"1\" class=\"dataframe\">\n",
              "  <thead>\n",
              "    <tr style=\"text-align: right;\">\n",
              "      <th></th>\n",
              "      <th>UserId</th>\n",
              "      <th>ItemId</th>\n",
              "      <th>Rating</th>\n",
              "      <th>Time</th>\n",
              "    </tr>\n",
              "  </thead>\n",
              "  <tbody>\n",
              "    <tr>\n",
              "      <th>31</th>\n",
              "      <td>1</td>\n",
              "      <td>3186</td>\n",
              "      <td>4</td>\n",
              "      <td>978300019</td>\n",
              "    </tr>\n",
              "    <tr>\n",
              "      <th>22</th>\n",
              "      <td>1</td>\n",
              "      <td>1270</td>\n",
              "      <td>5</td>\n",
              "      <td>978300055</td>\n",
              "    </tr>\n",
              "    <tr>\n",
              "      <th>27</th>\n",
              "      <td>1</td>\n",
              "      <td>1721</td>\n",
              "      <td>4</td>\n",
              "      <td>978300055</td>\n",
              "    </tr>\n",
              "    <tr>\n",
              "      <th>37</th>\n",
              "      <td>1</td>\n",
              "      <td>1022</td>\n",
              "      <td>5</td>\n",
              "      <td>978300055</td>\n",
              "    </tr>\n",
              "    <tr>\n",
              "      <th>24</th>\n",
              "      <td>1</td>\n",
              "      <td>2340</td>\n",
              "      <td>3</td>\n",
              "      <td>978300103</td>\n",
              "    </tr>\n",
              "    <tr>\n",
              "      <th>...</th>\n",
              "      <td>...</td>\n",
              "      <td>...</td>\n",
              "      <td>...</td>\n",
              "      <td>...</td>\n",
              "    </tr>\n",
              "    <tr>\n",
              "      <th>1000019</th>\n",
              "      <td>6040</td>\n",
              "      <td>2917</td>\n",
              "      <td>4</td>\n",
              "      <td>997454429</td>\n",
              "    </tr>\n",
              "    <tr>\n",
              "      <th>999988</th>\n",
              "      <td>6040</td>\n",
              "      <td>1921</td>\n",
              "      <td>4</td>\n",
              "      <td>997454464</td>\n",
              "    </tr>\n",
              "    <tr>\n",
              "      <th>1000172</th>\n",
              "      <td>6040</td>\n",
              "      <td>1784</td>\n",
              "      <td>3</td>\n",
              "      <td>997454464</td>\n",
              "    </tr>\n",
              "    <tr>\n",
              "      <th>1000167</th>\n",
              "      <td>6040</td>\n",
              "      <td>161</td>\n",
              "      <td>3</td>\n",
              "      <td>997454486</td>\n",
              "    </tr>\n",
              "    <tr>\n",
              "      <th>1000042</th>\n",
              "      <td>6040</td>\n",
              "      <td>1221</td>\n",
              "      <td>4</td>\n",
              "      <td>998315055</td>\n",
              "    </tr>\n",
              "  </tbody>\n",
              "</table>\n",
              "<p>1000209 rows × 4 columns</p>\n",
              "</div>"
            ],
            "text/plain": [
              "         UserId  ItemId  Rating       Time\n",
              "31            1    3186       4  978300019\n",
              "22            1    1270       5  978300055\n",
              "27            1    1721       4  978300055\n",
              "37            1    1022       5  978300055\n",
              "24            1    2340       3  978300103\n",
              "...         ...     ...     ...        ...\n",
              "1000019    6040    2917       4  997454429\n",
              "999988     6040    1921       4  997454464\n",
              "1000172    6040    1784       3  997454464\n",
              "1000167    6040     161       3  997454486\n",
              "1000042    6040    1221       4  998315055\n",
              "\n",
              "[1000209 rows x 4 columns]"
            ]
          },
          "execution_count": 4,
          "metadata": {},
          "output_type": "execute_result"
        }
      ],
      "source": [
        "data = load_data(train_path, None)\n",
        "data.sort_values(['UserId', 'Time'], inplace=True)\n",
        "data"
      ]
    },
    {
      "cell_type": "markdown",
      "source": [
        "### **🍃 01-5_데이터 확인**"
      ],
      "metadata": {
        "id": "i9eX4so_iV7j"
      },
      "id": "i9eX4so_iV7j"
    },
    {
      "cell_type": "markdown",
      "source": [
        "- **유저 수, 아이템 수 확인**"
      ],
      "metadata": {
        "id": "lBREo8oUiY7k"
      },
      "id": "lBREo8oUiY7k"
    },
    {
      "cell_type": "code",
      "execution_count": null,
      "id": "66d1f69b",
      "metadata": {
        "id": "66d1f69b",
        "outputId": "8231b2ff-6278-481c-b2c8-d9776a85c83d"
      },
      "outputs": [
        {
          "data": {
            "text/plain": [
              "(6040, 3706)"
            ]
          },
          "execution_count": 5,
          "metadata": {},
          "output_type": "execute_result"
        }
      ],
      "source": [
        "data['UserId'].nunique(), data['ItemId'].nunique()"
      ]
    },
    {
      "cell_type": "markdown",
      "source": [
        "## **🌿 02_데이터 전처리**"
      ],
      "metadata": {
        "id": "wsfRJjseieiy"
      },
      "id": "wsfRJjseieiy"
    },
    {
      "cell_type": "markdown",
      "source": [
        "### **🍃 02-1_세션 길이 확인**"
      ],
      "metadata": {
        "id": "o55QtWeeinXP"
      },
      "id": "o55QtWeeinXP"
    },
    {
      "cell_type": "markdown",
      "source": [
        "- **해당 유저의 세션 내 클릭 횟수 확인**"
      ],
      "metadata": {
        "id": "zA9wNfDCjBG8"
      },
      "id": "zA9wNfDCjBG8"
    },
    {
      "cell_type": "code",
      "execution_count": null,
      "id": "28b17c6a",
      "metadata": {
        "id": "28b17c6a",
        "outputId": "68d09e16-0c4c-4b38-ba10-fa5e91a3ede9"
      },
      "outputs": [
        {
          "data": {
            "text/plain": [
              "UserId\n",
              "1        53\n",
              "2       129\n",
              "3        51\n",
              "4        21\n",
              "5       198\n",
              "       ... \n",
              "6036    888\n",
              "6037    202\n",
              "6038     20\n",
              "6039    123\n",
              "6040    341\n",
              "Length: 6040, dtype: int64"
            ]
          },
          "execution_count": 6,
          "metadata": {},
          "output_type": "execute_result"
        }
      ],
      "source": [
        "session_length = data.groupby('UserId').size()\n",
        "session_length"
      ]
    },
    {
      "cell_type": "markdown",
      "source": [
        "- **세션 길이 정보 확인**"
      ],
      "metadata": {
        "id": "Oc83cq1bjN4w"
      },
      "id": "Oc83cq1bjN4w"
    },
    {
      "cell_type": "code",
      "execution_count": null,
      "id": "607a83c1",
      "metadata": {
        "id": "607a83c1",
        "outputId": "b5b24fa8-bbba-4f85-e214-d46cdbf5aacb"
      },
      "outputs": [
        {
          "name": "stdout",
          "output_type": "stream",
          "text": [
            "각 세션 길이의 중앙값: 96.0\n",
            "각 세션 길이의 평균값: 165.5975165562914\n",
            "각 세션 길이의 최솟값: 20\n",
            "긱 세션 길이의 최댓값: 2314\n",
            "99.9% 세션의 길이: 1343.181000000005\n"
          ]
        }
      ],
      "source": [
        "print(f'각 세션 길이의 중앙값: {session_length.median()}')\n",
        "print(f'각 세션 길이의 평균값: {session_length.mean()}')\n",
        "print(f'각 세션 길이의 최솟값: {session_length.min()}')\n",
        "print(f'긱 세션 길이의 최댓값: {session_length.max()}')\n",
        "print(f'99.9% 세션의 길이: {session_length.quantile(0.999)}')"
      ]
    },
    {
      "cell_type": "markdown",
      "source": [
        "### **🍃 02-2_세션 길이 분포 누적합**"
      ],
      "metadata": {
        "id": "3bj2CvyxjeqD"
      },
      "id": "3bj2CvyxjeqD"
    },
    {
      "cell_type": "markdown",
      "source": [
        "- **세션 길이 기준(하위 99.9%) 분포 누적합**"
      ],
      "metadata": {
        "id": "NY3OIWmwix1_"
      },
      "id": "NY3OIWmwix1_"
    },
    {
      "cell_type": "code",
      "execution_count": null,
      "id": "770deec3",
      "metadata": {
        "id": "770deec3",
        "outputId": "88bd1225-3c7a-4c73-9888-78496fc4da95"
      },
      "outputs": [
        {
          "data": {
            "text/plain": [
              "20      0.014238\n",
              "21      0.029305\n",
              "22      0.042053\n",
              "23      0.055464\n",
              "24      0.068874\n",
              "          ...   \n",
              "1271    0.998179\n",
              "1277    0.998344\n",
              "1286    0.998510\n",
              "1302    0.998675\n",
              "1323    0.998841\n",
              "Length: 736, dtype: float64"
            ]
          },
          "execution_count": 8,
          "metadata": {},
          "output_type": "execute_result"
        }
      ],
      "source": [
        "length_count = session_length.groupby(session_length).size()\n",
        "length_percent_cumsum = length_count.cumsum() / length_count.sum()\n",
        "length_percent_cumsum_999 = length_percent_cumsum[length_percent_cumsum < 0.999]\n",
        "\n",
        "length_percent_cumsum_999"
      ]
    },
    {
      "cell_type": "markdown",
      "source": [
        "- **세션 길이 기준(하위 99.9%) 분포 누적합 시각화**"
      ],
      "metadata": {
        "id": "J7OMhwL0jZ5S"
      },
      "id": "J7OMhwL0jZ5S"
    },
    {
      "cell_type": "code",
      "execution_count": null,
      "id": "242dbc08",
      "metadata": {
        "id": "242dbc08",
        "outputId": "c9dd1ae0-ef67-4f85-b2ca-a37e357816a0"
      },
      "outputs": [
        {
          "data": {
            "image/png": "[encoded data removed]",
            "text/plain": [
              "<Figure size 1080x576 with 1 Axes>"
            ]
          },
          "metadata": {
            "needs_background": "light"
          },
          "output_type": "display_data"
        }
      ],
      "source": [
        "plt.figure(figsize=(15, 8))\n",
        "plt.bar(x=length_percent_cumsum_999.index,\n",
        "        height=length_percent_cumsum_999, color='red')\n",
        "plt.xticks(length_percent_cumsum_999.index)\n",
        "plt.yticks(np.arange(0, 1.01, 0.05))\n",
        "plt.title('Cumsum Percentage Until 0.999', size=20)\n",
        "plt.show()"
      ]
    },
    {
      "cell_type": "markdown",
      "source": [
        "### **🍃 02-3_세션 시간 확인**"
      ],
      "metadata": {
        "id": "S8u_nSRgjykJ"
      },
      "id": "S8u_nSRgjykJ"
    },
    {
      "cell_type": "markdown",
      "source": [
        "- **세션 시간 확인**"
      ],
      "metadata": {
        "id": "CDfvj-6Rkh_q"
      },
      "id": "CDfvj-6Rkh_q"
    },
    {
      "cell_type": "code",
      "execution_count": null,
      "id": "4b458a0c",
      "metadata": {
        "id": "4b458a0c",
        "outputId": "c5bcae67-305f-46f3-fd49-e3bbbb53e9b0"
      },
      "outputs": [
        {
          "data": {
            "text/html": [
              "<div>\n",
              "<style scoped>\n",
              "    .dataframe tbody tr th:only-of-type {\n",
              "        vertical-align: middle;\n",
              "    }\n",
              "\n",
              "    .dataframe tbody tr th {\n",
              "        vertical-align: top;\n",
              "    }\n",
              "\n",
              "    .dataframe thead th {\n",
              "        text-align: right;\n",
              "    }\n",
              "</style>\n",
              "<table border=\"1\" class=\"dataframe\">\n",
              "  <thead>\n",
              "    <tr style=\"text-align: right;\">\n",
              "      <th></th>\n",
              "      <th>UserId</th>\n",
              "      <th>ItemId</th>\n",
              "      <th>Rating</th>\n",
              "      <th>Time</th>\n",
              "    </tr>\n",
              "  </thead>\n",
              "  <tbody>\n",
              "    <tr>\n",
              "      <th>31</th>\n",
              "      <td>1</td>\n",
              "      <td>3186</td>\n",
              "      <td>4</td>\n",
              "      <td>2001-01-01 07:00:19</td>\n",
              "    </tr>\n",
              "    <tr>\n",
              "      <th>22</th>\n",
              "      <td>1</td>\n",
              "      <td>1270</td>\n",
              "      <td>5</td>\n",
              "      <td>2001-01-01 07:00:55</td>\n",
              "    </tr>\n",
              "    <tr>\n",
              "      <th>27</th>\n",
              "      <td>1</td>\n",
              "      <td>1721</td>\n",
              "      <td>4</td>\n",
              "      <td>2001-01-01 07:00:55</td>\n",
              "    </tr>\n",
              "    <tr>\n",
              "      <th>37</th>\n",
              "      <td>1</td>\n",
              "      <td>1022</td>\n",
              "      <td>5</td>\n",
              "      <td>2001-01-01 07:00:55</td>\n",
              "    </tr>\n",
              "    <tr>\n",
              "      <th>24</th>\n",
              "      <td>1</td>\n",
              "      <td>2340</td>\n",
              "      <td>3</td>\n",
              "      <td>2001-01-01 07:01:43</td>\n",
              "    </tr>\n",
              "  </tbody>\n",
              "</table>\n",
              "</div>"
            ],
            "text/plain": [
              "    UserId  ItemId  Rating                Time\n",
              "31       1    3186       4 2001-01-01 07:00:19\n",
              "22       1    1270       5 2001-01-01 07:00:55\n",
              "27       1    1721       4 2001-01-01 07:00:55\n",
              "37       1    1022       5 2001-01-01 07:00:55\n",
              "24       1    2340       3 2001-01-01 07:01:43"
            ]
          },
          "execution_count": 10,
          "metadata": {},
          "output_type": "execute_result"
        }
      ],
      "source": [
        "change_date = []\n",
        "for time in data['Time']:\n",
        "    temp = dt.datetime.fromtimestamp(time)\n",
        "    change_date.append(temp)\n",
        "\n",
        "data['Time'] = change_date\n",
        "data.head()"
      ]
    },
    {
      "cell_type": "markdown",
      "source": [
        "- **가장 오래된 세션, 가장 최근의 세션 확인**"
      ],
      "metadata": {
        "id": "DJT-VMW0kQ5p"
      },
      "id": "DJT-VMW0kQ5p"
    },
    {
      "cell_type": "code",
      "execution_count": null,
      "id": "ba729a63",
      "metadata": {
        "id": "ba729a63",
        "outputId": "7ca77bc4-ba3b-4563-ceef-05664024bc52"
      },
      "outputs": [
        {
          "name": "stdout",
          "output_type": "stream",
          "text": [
            "2000-04-26 08:05:32\n",
            "2003-03-01 02:49:50\n"
          ]
        }
      ],
      "source": [
        "oldest, latest = data['Time'].min(), data['Time'].max()\n",
        "print(oldest) \n",
        "print(latest)"
      ]
    },
    {
      "cell_type": "markdown",
      "source": [
        "### **🍃 02-4_평점 확인**"
      ],
      "metadata": {
        "id": "b1BkTyRrkyAM"
      },
      "id": "b1BkTyRrkyAM"
    },
    {
      "cell_type": "markdown",
      "source": [
        "- **평점 분포 시각화**"
      ],
      "metadata": {
        "id": "aANvou4ylLCo"
      },
      "id": "aANvou4ylLCo"
    },
    {
      "cell_type": "code",
      "execution_count": null,
      "id": "a9ef0a8d",
      "metadata": {
        "id": "a9ef0a8d",
        "outputId": "2d816b97-9524-40d8-d22d-88b8d01341d0"
      },
      "outputs": [
        {
          "data": {
            "image/png": "[encoded data removed]",
            "text/plain": [
              "<Figure size 432x288 with 1 Axes>"
            ]
          },
          "metadata": {
            "needs_background": "light"
          },
          "output_type": "display_data"
        }
      ],
      "source": [
        "plt.hist(data['Rating'], bins=5)\n",
        "plt.yticks(data['Rating'].value_counts())\n",
        "plt.show()"
      ]
    },
    {
      "cell_type": "markdown",
      "source": [
        "- **4점 이하의 평점 제거**"
      ],
      "metadata": {
        "id": "A0nBX-PxlSPh"
      },
      "id": "A0nBX-PxlSPh"
    },
    {
      "cell_type": "code",
      "execution_count": null,
      "id": "0f2f3bff",
      "metadata": {
        "id": "0f2f3bff",
        "outputId": "f2cb18eb-1082-472a-ccc5-b090a595a035"
      },
      "outputs": [
        {
          "name": "stdout",
          "output_type": "stream",
          "text": [
            "<class 'pandas.core.frame.DataFrame'>\n",
            "Int64Index: 575281 entries, 31 to 1000042\n",
            "Data columns (total 4 columns):\n",
            " #   Column  Non-Null Count   Dtype         \n",
            "---  ------  --------------   -----         \n",
            " 0   UserId  575281 non-null  int32         \n",
            " 1   ItemId  575281 non-null  int32         \n",
            " 2   Rating  575281 non-null  int32         \n",
            " 3   Time    575281 non-null  datetime64[ns]\n",
            "dtypes: datetime64[ns](1), int32(3)\n",
            "memory usage: 15.4 MB\n"
          ]
        }
      ],
      "source": [
        "data = data[data['Rating']>=4]\n",
        "data.info()"
      ]
    },
    {
      "cell_type": "markdown",
      "source": [
        "### **🍃 02-5_데이터 정제**"
      ],
      "metadata": {
        "id": "jeZucfQcl2Ra"
      },
      "id": "jeZucfQcl2Ra"
    },
    {
      "cell_type": "code",
      "execution_count": null,
      "id": "40235bac",
      "metadata": {
        "id": "40235bac"
      },
      "outputs": [],
      "source": [
        "def cleanse_recursive(data: pd.DataFrame, shortest, least_click) -> pd.DataFrame:\n",
        "    while True:\n",
        "        before_len = len(data)\n",
        "        data = cleanse_short_session(data, shortest)\n",
        "        data = cleanse_unpopular_item(data, least_click)\n",
        "        after_len = len(data)\n",
        "        if before_len == after_len:\n",
        "            break\n",
        "    return data"
      ]
    },
    {
      "cell_type": "markdown",
      "source": [
        "- **세션이 짧은 경우 삭제**"
      ],
      "metadata": {
        "id": "T1LmnOMimYjE"
      },
      "id": "T1LmnOMimYjE"
    },
    {
      "cell_type": "code",
      "source": [
        "def cleanse_short_session(data: pd.DataFrame, shortest):\n",
        "    session_len = data.groupby('UserId').size()\n",
        "    session_use = session_len[session_len >= shortest].index\n",
        "    data = data[data['UserId'].isin(session_use)]\n",
        "    return data"
      ],
      "metadata": {
        "id": "w_4UutT_luU_"
      },
      "id": "w_4UutT_luU_",
      "execution_count": null,
      "outputs": []
    },
    {
      "cell_type": "markdown",
      "source": [
        "- **비인기 영화 삭제**"
      ],
      "metadata": {
        "id": "D-JzJxExmboL"
      },
      "id": "D-JzJxExmboL"
    },
    {
      "cell_type": "code",
      "source": [
        "def cleanse_unpopular_item(data: pd.DataFrame, least_click):\n",
        "    item_popular = data.groupby('ItemId').size()\n",
        "    item_use = item_popular[item_popular >= least_click].index\n",
        "    data = data[data['ItemId'].isin(item_use)]\n",
        "    return data"
      ],
      "metadata": {
        "id": "UChoH2M_lvbR"
      },
      "id": "UChoH2M_lvbR",
      "execution_count": null,
      "outputs": []
    },
    {
      "cell_type": "markdown",
      "source": [
        "- **데이터 확인**"
      ],
      "metadata": {
        "id": "KAS5SEm_nDBN"
      },
      "id": "KAS5SEm_nDBN"
    },
    {
      "cell_type": "code",
      "execution_count": null,
      "id": "ad62053c",
      "metadata": {
        "id": "ad62053c",
        "outputId": "6ebd46e4-049c-4ffd-d313-375cdb8b3269"
      },
      "outputs": [
        {
          "data": {
            "text/html": [
              "<div>\n",
              "<style scoped>\n",
              "    .dataframe tbody tr th:only-of-type {\n",
              "        vertical-align: middle;\n",
              "    }\n",
              "\n",
              "    .dataframe tbody tr th {\n",
              "        vertical-align: top;\n",
              "    }\n",
              "\n",
              "    .dataframe thead th {\n",
              "        text-align: right;\n",
              "    }\n",
              "</style>\n",
              "<table border=\"1\" class=\"dataframe\">\n",
              "  <thead>\n",
              "    <tr style=\"text-align: right;\">\n",
              "      <th></th>\n",
              "      <th>UserId</th>\n",
              "      <th>ItemId</th>\n",
              "      <th>Rating</th>\n",
              "      <th>Time</th>\n",
              "    </tr>\n",
              "  </thead>\n",
              "  <tbody>\n",
              "    <tr>\n",
              "      <th>31</th>\n",
              "      <td>1</td>\n",
              "      <td>3186</td>\n",
              "      <td>4</td>\n",
              "      <td>2001-01-01 07:00:19</td>\n",
              "    </tr>\n",
              "    <tr>\n",
              "      <th>22</th>\n",
              "      <td>1</td>\n",
              "      <td>1270</td>\n",
              "      <td>5</td>\n",
              "      <td>2001-01-01 07:00:55</td>\n",
              "    </tr>\n",
              "    <tr>\n",
              "      <th>27</th>\n",
              "      <td>1</td>\n",
              "      <td>1721</td>\n",
              "      <td>4</td>\n",
              "      <td>2001-01-01 07:00:55</td>\n",
              "    </tr>\n",
              "    <tr>\n",
              "      <th>37</th>\n",
              "      <td>1</td>\n",
              "      <td>1022</td>\n",
              "      <td>5</td>\n",
              "      <td>2001-01-01 07:00:55</td>\n",
              "    </tr>\n",
              "    <tr>\n",
              "      <th>36</th>\n",
              "      <td>1</td>\n",
              "      <td>1836</td>\n",
              "      <td>5</td>\n",
              "      <td>2001-01-01 07:02:52</td>\n",
              "    </tr>\n",
              "    <tr>\n",
              "      <th>...</th>\n",
              "      <td>...</td>\n",
              "      <td>...</td>\n",
              "      <td>...</td>\n",
              "      <td>...</td>\n",
              "    </tr>\n",
              "    <tr>\n",
              "      <th>1000119</th>\n",
              "      <td>6040</td>\n",
              "      <td>3671</td>\n",
              "      <td>4</td>\n",
              "      <td>2001-08-10 23:39:27</td>\n",
              "    </tr>\n",
              "    <tr>\n",
              "      <th>999923</th>\n",
              "      <td>6040</td>\n",
              "      <td>232</td>\n",
              "      <td>5</td>\n",
              "      <td>2001-08-10 23:39:58</td>\n",
              "    </tr>\n",
              "    <tr>\n",
              "      <th>1000019</th>\n",
              "      <td>6040</td>\n",
              "      <td>2917</td>\n",
              "      <td>4</td>\n",
              "      <td>2001-08-10 23:40:29</td>\n",
              "    </tr>\n",
              "    <tr>\n",
              "      <th>999988</th>\n",
              "      <td>6040</td>\n",
              "      <td>1921</td>\n",
              "      <td>4</td>\n",
              "      <td>2001-08-10 23:41:04</td>\n",
              "    </tr>\n",
              "    <tr>\n",
              "      <th>1000042</th>\n",
              "      <td>6040</td>\n",
              "      <td>1221</td>\n",
              "      <td>4</td>\n",
              "      <td>2001-08-20 22:44:15</td>\n",
              "    </tr>\n",
              "  </tbody>\n",
              "</table>\n",
              "<p>569247 rows × 4 columns</p>\n",
              "</div>"
            ],
            "text/plain": [
              "         UserId  ItemId  Rating                Time\n",
              "31            1    3186       4 2001-01-01 07:00:19\n",
              "22            1    1270       5 2001-01-01 07:00:55\n",
              "27            1    1721       4 2001-01-01 07:00:55\n",
              "37            1    1022       5 2001-01-01 07:00:55\n",
              "36            1    1836       5 2001-01-01 07:02:52\n",
              "...         ...     ...     ...                 ...\n",
              "1000119    6040    3671       4 2001-08-10 23:39:27\n",
              "999923     6040     232       5 2001-08-10 23:39:58\n",
              "1000019    6040    2917       4 2001-08-10 23:40:29\n",
              "999988     6040    1921       4 2001-08-10 23:41:04\n",
              "1000042    6040    1221       4 2001-08-20 22:44:15\n",
              "\n",
              "[569247 rows x 4 columns]"
            ]
          },
          "execution_count": 15,
          "metadata": {},
          "output_type": "execute_result"
        }
      ],
      "source": [
        "data = cleanse_recursive(data, shortest=5, least_click=15)\n",
        "data"
      ]
    },
    {
      "cell_type": "markdown",
      "source": [
        "## **🌿 03_데이터 분리**"
      ],
      "metadata": {
        "id": "35isVVVjp90g"
      },
      "id": "35isVVVjp90g"
    },
    {
      "cell_type": "markdown",
      "source": [
        "### **🍃 03-1_데이터 순서 정렬**"
      ],
      "metadata": {
        "id": "Nnggbo0IqEaV"
      },
      "id": "Nnggbo0IqEaV"
    },
    {
      "cell_type": "markdown",
      "source": [
        "- **데이터 시간 순으로 정렬**"
      ],
      "metadata": {
        "id": "6iYRy6gqn3na"
      },
      "id": "6iYRy6gqn3na"
    },
    {
      "cell_type": "code",
      "execution_count": null,
      "id": "434a02ac",
      "metadata": {
        "id": "434a02ac",
        "outputId": "52169271-d1cd-4f99-87bd-aec007b19e92"
      },
      "outputs": [
        {
          "data": {
            "text/html": [
              "<div>\n",
              "<style scoped>\n",
              "    .dataframe tbody tr th:only-of-type {\n",
              "        vertical-align: middle;\n",
              "    }\n",
              "\n",
              "    .dataframe tbody tr th {\n",
              "        vertical-align: top;\n",
              "    }\n",
              "\n",
              "    .dataframe thead th {\n",
              "        text-align: right;\n",
              "    }\n",
              "</style>\n",
              "<table border=\"1\" class=\"dataframe\">\n",
              "  <thead>\n",
              "    <tr style=\"text-align: right;\">\n",
              "      <th></th>\n",
              "      <th>UserId</th>\n",
              "      <th>ItemId</th>\n",
              "      <th>Rating</th>\n",
              "      <th>Time</th>\n",
              "    </tr>\n",
              "  </thead>\n",
              "  <tbody>\n",
              "    <tr>\n",
              "      <th>1000138</th>\n",
              "      <td>6040</td>\n",
              "      <td>858</td>\n",
              "      <td>4</td>\n",
              "      <td>2000-04-26 08:05:32</td>\n",
              "    </tr>\n",
              "    <tr>\n",
              "      <th>999873</th>\n",
              "      <td>6040</td>\n",
              "      <td>593</td>\n",
              "      <td>5</td>\n",
              "      <td>2000-04-26 08:05:54</td>\n",
              "    </tr>\n",
              "    <tr>\n",
              "      <th>1000153</th>\n",
              "      <td>6040</td>\n",
              "      <td>2384</td>\n",
              "      <td>4</td>\n",
              "      <td>2000-04-26 08:05:54</td>\n",
              "    </tr>\n",
              "    <tr>\n",
              "      <th>1000007</th>\n",
              "      <td>6040</td>\n",
              "      <td>1961</td>\n",
              "      <td>4</td>\n",
              "      <td>2000-04-26 08:06:17</td>\n",
              "    </tr>\n",
              "    <tr>\n",
              "      <th>1000192</th>\n",
              "      <td>6040</td>\n",
              "      <td>2019</td>\n",
              "      <td>5</td>\n",
              "      <td>2000-04-26 08:06:17</td>\n",
              "    </tr>\n",
              "    <tr>\n",
              "      <th>999920</th>\n",
              "      <td>6040</td>\n",
              "      <td>213</td>\n",
              "      <td>5</td>\n",
              "      <td>2000-04-26 08:07:36</td>\n",
              "    </tr>\n",
              "    <tr>\n",
              "      <th>999980</th>\n",
              "      <td>6040</td>\n",
              "      <td>3505</td>\n",
              "      <td>4</td>\n",
              "      <td>2000-04-26 08:07:36</td>\n",
              "    </tr>\n",
              "    <tr>\n",
              "      <th>999967</th>\n",
              "      <td>6040</td>\n",
              "      <td>3111</td>\n",
              "      <td>5</td>\n",
              "      <td>2000-04-26 08:07:36</td>\n",
              "    </tr>\n",
              "    <tr>\n",
              "      <th>999884</th>\n",
              "      <td>6040</td>\n",
              "      <td>912</td>\n",
              "      <td>5</td>\n",
              "      <td>2000-04-26 08:09:51</td>\n",
              "    </tr>\n",
              "    <tr>\n",
              "      <th>999888</th>\n",
              "      <td>6040</td>\n",
              "      <td>919</td>\n",
              "      <td>5</td>\n",
              "      <td>2000-04-26 08:09:51</td>\n",
              "    </tr>\n",
              "    <tr>\n",
              "      <th>1000186</th>\n",
              "      <td>6040</td>\n",
              "      <td>527</td>\n",
              "      <td>5</td>\n",
              "      <td>2000-04-26 08:10:19</td>\n",
              "    </tr>\n",
              "    <tr>\n",
              "      <th>999991</th>\n",
              "      <td>6040</td>\n",
              "      <td>318</td>\n",
              "      <td>4</td>\n",
              "      <td>2000-04-26 08:10:57</td>\n",
              "    </tr>\n",
              "    <tr>\n",
              "      <th>1000063</th>\n",
              "      <td>6040</td>\n",
              "      <td>1252</td>\n",
              "      <td>5</td>\n",
              "      <td>2000-04-26 08:10:57</td>\n",
              "    </tr>\n",
              "    <tr>\n",
              "      <th>1000108</th>\n",
              "      <td>6040</td>\n",
              "      <td>3289</td>\n",
              "      <td>5</td>\n",
              "      <td>2000-04-26 08:11:45</td>\n",
              "    </tr>\n",
              "    <tr>\n",
              "      <th>1000083</th>\n",
              "      <td>6040</td>\n",
              "      <td>759</td>\n",
              "      <td>5</td>\n",
              "      <td>2000-04-26 08:14:08</td>\n",
              "    </tr>\n",
              "    <tr>\n",
              "      <th>999938</th>\n",
              "      <td>6040</td>\n",
              "      <td>2858</td>\n",
              "      <td>4</td>\n",
              "      <td>2000-04-26 08:14:35</td>\n",
              "    </tr>\n",
              "    <tr>\n",
              "      <th>999946</th>\n",
              "      <td>6040</td>\n",
              "      <td>608</td>\n",
              "      <td>4</td>\n",
              "      <td>2000-04-26 08:14:35</td>\n",
              "    </tr>\n",
              "    <tr>\n",
              "      <th>1000101</th>\n",
              "      <td>6040</td>\n",
              "      <td>1649</td>\n",
              "      <td>5</td>\n",
              "      <td>2000-04-26 08:15:19</td>\n",
              "    </tr>\n",
              "    <tr>\n",
              "      <th>1000200</th>\n",
              "      <td>6040</td>\n",
              "      <td>2028</td>\n",
              "      <td>5</td>\n",
              "      <td>2000-04-26 08:15:19</td>\n",
              "    </tr>\n",
              "    <tr>\n",
              "      <th>999992</th>\n",
              "      <td>6040</td>\n",
              "      <td>326</td>\n",
              "      <td>4</td>\n",
              "      <td>2000-04-26 08:15:19</td>\n",
              "    </tr>\n",
              "  </tbody>\n",
              "</table>\n",
              "</div>"
            ],
            "text/plain": [
              "         UserId  ItemId  Rating                Time\n",
              "1000138    6040     858       4 2000-04-26 08:05:32\n",
              "999873     6040     593       5 2000-04-26 08:05:54\n",
              "1000153    6040    2384       4 2000-04-26 08:05:54\n",
              "1000007    6040    1961       4 2000-04-26 08:06:17\n",
              "1000192    6040    2019       5 2000-04-26 08:06:17\n",
              "999920     6040     213       5 2000-04-26 08:07:36\n",
              "999980     6040    3505       4 2000-04-26 08:07:36\n",
              "999967     6040    3111       5 2000-04-26 08:07:36\n",
              "999884     6040     912       5 2000-04-26 08:09:51\n",
              "999888     6040     919       5 2000-04-26 08:09:51\n",
              "1000186    6040     527       5 2000-04-26 08:10:19\n",
              "999991     6040     318       4 2000-04-26 08:10:57\n",
              "1000063    6040    1252       5 2000-04-26 08:10:57\n",
              "1000108    6040    3289       5 2000-04-26 08:11:45\n",
              "1000083    6040     759       5 2000-04-26 08:14:08\n",
              "999938     6040    2858       4 2000-04-26 08:14:35\n",
              "999946     6040     608       4 2000-04-26 08:14:35\n",
              "1000101    6040    1649       5 2000-04-26 08:15:19\n",
              "1000200    6040    2028       5 2000-04-26 08:15:19\n",
              "999992     6040     326       4 2000-04-26 08:15:19"
            ]
          },
          "execution_count": 16,
          "metadata": {},
          "output_type": "execute_result"
        }
      ],
      "source": [
        "data = data.sort_values('Time')"
      ]
    },
    {
      "cell_type": "markdown",
      "source": [
        "### **🍃 03-2_Train, Test, Valid 데이터 분리**"
      ],
      "metadata": {
        "id": "2NhVzHeGqIdA"
      },
      "id": "2NhVzHeGqIdA"
    },
    {
      "cell_type": "code",
      "execution_count": null,
      "id": "0ad93250",
      "metadata": {
        "id": "0ad93250"
      },
      "outputs": [],
      "source": [
        "def split_by_date(data: pd.DataFrame, n_days: int):\n",
        "    final_time = data['Time'].max()\n",
        "    session_last_time = data.groupby('Time')['Time'].max()\n",
        "    session_in_train = session_last_time[session_last_time < final_time - dt.timedelta(n_days)].index\n",
        "    session_in_test = session_last_time[session_last_time >= final_time - dt.timedelta(n_days)].index\n",
        "\n",
        "    before_date = data[data['Time'].isin(session_in_train)]\n",
        "    after_date = data[data['Time'].isin(session_in_test)]\n",
        "    \n",
        "    return before_date, after_date"
      ]
    },
    {
      "cell_type": "code",
      "execution_count": null,
      "id": "0e1b03bf",
      "metadata": {
        "id": "0e1b03bf"
      },
      "outputs": [],
      "source": [
        "tr, test = split_by_date(data, n_days=180)\n",
        "tr, val = split_by_date(tr, n_days=180)"
      ]
    },
    {
      "cell_type": "markdown",
      "source": [
        "### **🍃 03-3_Train, Test, Valid 데이터 확인**"
      ],
      "metadata": {
        "id": "CVH6s5RMqayV"
      },
      "id": "CVH6s5RMqayV"
    },
    {
      "cell_type": "markdown",
      "source": [
        "- **데이터 확인 함수 생성**"
      ],
      "metadata": {
        "id": "ThVJYvqIqe5q"
      },
      "id": "ThVJYvqIqe5q"
    },
    {
      "cell_type": "code",
      "execution_count": null,
      "id": "414c7000",
      "metadata": {
        "id": "414c7000"
      },
      "outputs": [],
      "source": [
        "def stats_info(data: pd.DataFrame, status: str):\n",
        "    print(f'* {status} Set Stats Info\\n'\n",
        "          f'\\t Events: {len(data)}\\n'\n",
        "          f'\\t Sessions: {data[\"UserId\"].nunique()}\\n'\n",
        "          f'\\t Items: {data[\"ItemId\"].nunique()}\\n'\n",
        "          f'\\t First Time : {data[\"Time\"].min()}\\n'\n",
        "          f'\\t Last Time : {data[\"Time\"].max()}\\n')"
      ]
    },
    {
      "cell_type": "markdown",
      "source": [
        "- **데이터 확인**"
      ],
      "metadata": {
        "id": "4FwxOU21qh_j"
      },
      "id": "4FwxOU21qh_j"
    },
    {
      "cell_type": "code",
      "execution_count": null,
      "id": "5febd812",
      "metadata": {
        "id": "5febd812",
        "outputId": "a9a9ab05-8191-42fb-8772-c050dbef45f7"
      },
      "outputs": [
        {
          "name": "stdout",
          "output_type": "stream",
          "text": [
            "* train Set Stats Info\n",
            "\t Events: 558307\n",
            "\t Sessions: 6031\n",
            "\t Items: 2562\n",
            "\t First Time : 2000-04-26 08:05:32\n",
            "\t Last Time : 2002-03-05 12:58:17\n",
            "\n",
            "* valid Set Stats Info\n",
            "\t Events: 6211\n",
            "\t Sessions: 365\n",
            "\t Items: 1808\n",
            "\t First Time : 2002-03-05 13:38:49\n",
            "\t Last Time : 2002-09-01 13:20:59\n",
            "\n",
            "* test Set Stats Info\n",
            "\t Events: 4729\n",
            "\t Sessions: 311\n",
            "\t Items: 1512\n",
            "\t First Time : 2002-09-02 04:43:16\n",
            "\t Last Time : 2003-03-01 02:49:50\n",
            "\n"
          ]
        }
      ],
      "source": [
        "stats_info(tr, 'train')\n",
        "stats_info(val, 'valid')\n",
        "stats_info(test, 'test')"
      ]
    },
    {
      "cell_type": "markdown",
      "source": [
        "### **🍃 03-4_인덱싱**"
      ],
      "metadata": {
        "id": "2tQy6JNkqvXb"
      },
      "id": "2tQy6JNkqvXb"
    },
    {
      "cell_type": "markdown",
      "source": [
        "- **train data를 기준으로 인덱싱**"
      ],
      "metadata": {
        "id": "dB2LjO7lqyHC"
      },
      "id": "dB2LjO7lqyHC"
    },
    {
      "cell_type": "code",
      "execution_count": null,
      "id": "9a3136e3",
      "metadata": {
        "id": "9a3136e3"
      },
      "outputs": [],
      "source": [
        "id2idx = {item_id : index for index, item_id in enumerate(tr['ItemId'].unique())}\n",
        "\n",
        "def indexing(df, id2idx):\n",
        "    df['item_idx'] = df['ItemId'].map(lambda x: id2idx.get(x, -1))  # id2idx에 없는 아이템은 모르는 값(-1) 처리 해줍니다.\n",
        "    return df\n",
        "\n",
        "tr = indexing(tr, id2idx)\n",
        "val = indexing(val, id2idx)\n",
        "test = indexing(test, id2idx)"
      ]
    },
    {
      "cell_type": "code",
      "execution_count": null,
      "id": "b6e814df",
      "metadata": {
        "id": "b6e814df"
      },
      "outputs": [],
      "source": [
        "save_path = data_path / 'processed'\n",
        "save_path.mkdir(parents=True, exist_ok=True)\n",
        "\n",
        "tr.to_pickle(save_path / 'train.pkl')\n",
        "val.to_pickle(save_path / 'valid.pkl')\n",
        "test.to_pickle(save_path / 'test.pkl')"
      ]
    },
    {
      "cell_type": "markdown",
      "source": [
        "## **🌿 04_미니 배치 구성**"
      ],
      "metadata": {
        "id": "eJtdq0BPrC6U"
      },
      "id": "eJtdq0BPrC6U"
    },
    {
      "cell_type": "markdown",
      "source": [
        "### **🍃 04-1_SessionDataset**"
      ],
      "metadata": {
        "id": "Au9kc0rQrTzL"
      },
      "id": "Au9kc0rQrTzL"
    },
    {
      "cell_type": "markdown",
      "source": [
        "- **SessionDataset 구성**"
      ],
      "metadata": {
        "id": "_wW7fQmRr0L-"
      },
      "id": "_wW7fQmRr0L-"
    },
    {
      "cell_type": "code",
      "execution_count": null,
      "id": "97632d2d",
      "metadata": {
        "id": "97632d2d"
      },
      "outputs": [],
      "source": [
        "class SessionDataset:\n",
        "    \"\"\"Credit to yhs-968/pyGRU4REC.\"\"\"\n",
        "\n",
        "    def __init__(self, data):\n",
        "        self.df = data\n",
        "        self.click_offsets = self.get_click_offsets()\n",
        "        self.session_idx = np.arange(self.df['UserId'].nunique())  # indexing to UserId\n",
        "\n",
        "    def get_click_offsets(self):\n",
        "        \"\"\"\n",
        "        Return the indexes of the first click of each session IDs,\n",
        "        \"\"\"\n",
        "        offsets = np.zeros(self.df['UserId'].nunique() + 1, dtype=np.int32)\n",
        "        offsets[1:] = self.df.groupby('UserId').size().cumsum()\n",
        "        return offsets"
      ]
    },
    {
      "cell_type": "markdown",
      "source": [
        "- **SessionDataset 데이터 확인**"
      ],
      "metadata": {
        "id": "9tDSkdHir3Tp"
      },
      "id": "9tDSkdHir3Tp"
    },
    {
      "cell_type": "code",
      "execution_count": null,
      "id": "6eb9ec30",
      "metadata": {
        "id": "6eb9ec30",
        "outputId": "07f028e0-be3d-45bd-bfa2-480d1b208351"
      },
      "outputs": [
        {
          "data": {
            "text/html": [
              "<div>\n",
              "<style scoped>\n",
              "    .dataframe tbody tr th:only-of-type {\n",
              "        vertical-align: middle;\n",
              "    }\n",
              "\n",
              "    .dataframe tbody tr th {\n",
              "        vertical-align: top;\n",
              "    }\n",
              "\n",
              "    .dataframe thead th {\n",
              "        text-align: right;\n",
              "    }\n",
              "</style>\n",
              "<table border=\"1\" class=\"dataframe\">\n",
              "  <thead>\n",
              "    <tr style=\"text-align: right;\">\n",
              "      <th></th>\n",
              "      <th>UserId</th>\n",
              "      <th>ItemId</th>\n",
              "      <th>Rating</th>\n",
              "      <th>Time</th>\n",
              "      <th>item_idx</th>\n",
              "    </tr>\n",
              "  </thead>\n",
              "  <tbody>\n",
              "    <tr>\n",
              "      <th>1000138</th>\n",
              "      <td>6040</td>\n",
              "      <td>858</td>\n",
              "      <td>4</td>\n",
              "      <td>2000-04-26 08:05:32</td>\n",
              "      <td>0</td>\n",
              "    </tr>\n",
              "    <tr>\n",
              "      <th>999873</th>\n",
              "      <td>6040</td>\n",
              "      <td>593</td>\n",
              "      <td>5</td>\n",
              "      <td>2000-04-26 08:05:54</td>\n",
              "      <td>1</td>\n",
              "    </tr>\n",
              "    <tr>\n",
              "      <th>1000153</th>\n",
              "      <td>6040</td>\n",
              "      <td>2384</td>\n",
              "      <td>4</td>\n",
              "      <td>2000-04-26 08:05:54</td>\n",
              "      <td>2</td>\n",
              "    </tr>\n",
              "    <tr>\n",
              "      <th>1000007</th>\n",
              "      <td>6040</td>\n",
              "      <td>1961</td>\n",
              "      <td>4</td>\n",
              "      <td>2000-04-26 08:06:17</td>\n",
              "      <td>3</td>\n",
              "    </tr>\n",
              "    <tr>\n",
              "      <th>1000192</th>\n",
              "      <td>6040</td>\n",
              "      <td>2019</td>\n",
              "      <td>5</td>\n",
              "      <td>2000-04-26 08:06:17</td>\n",
              "      <td>4</td>\n",
              "    </tr>\n",
              "    <tr>\n",
              "      <th>999920</th>\n",
              "      <td>6040</td>\n",
              "      <td>213</td>\n",
              "      <td>5</td>\n",
              "      <td>2000-04-26 08:07:36</td>\n",
              "      <td>5</td>\n",
              "    </tr>\n",
              "    <tr>\n",
              "      <th>999980</th>\n",
              "      <td>6040</td>\n",
              "      <td>3505</td>\n",
              "      <td>4</td>\n",
              "      <td>2000-04-26 08:07:36</td>\n",
              "      <td>6</td>\n",
              "    </tr>\n",
              "    <tr>\n",
              "      <th>999967</th>\n",
              "      <td>6040</td>\n",
              "      <td>3111</td>\n",
              "      <td>5</td>\n",
              "      <td>2000-04-26 08:07:36</td>\n",
              "      <td>7</td>\n",
              "    </tr>\n",
              "    <tr>\n",
              "      <th>999884</th>\n",
              "      <td>6040</td>\n",
              "      <td>912</td>\n",
              "      <td>5</td>\n",
              "      <td>2000-04-26 08:09:51</td>\n",
              "      <td>8</td>\n",
              "    </tr>\n",
              "    <tr>\n",
              "      <th>999888</th>\n",
              "      <td>6040</td>\n",
              "      <td>919</td>\n",
              "      <td>5</td>\n",
              "      <td>2000-04-26 08:09:51</td>\n",
              "      <td>9</td>\n",
              "    </tr>\n",
              "    <tr>\n",
              "      <th>1000186</th>\n",
              "      <td>6040</td>\n",
              "      <td>527</td>\n",
              "      <td>5</td>\n",
              "      <td>2000-04-26 08:10:19</td>\n",
              "      <td>10</td>\n",
              "    </tr>\n",
              "    <tr>\n",
              "      <th>999991</th>\n",
              "      <td>6040</td>\n",
              "      <td>318</td>\n",
              "      <td>4</td>\n",
              "      <td>2000-04-26 08:10:57</td>\n",
              "      <td>11</td>\n",
              "    </tr>\n",
              "    <tr>\n",
              "      <th>1000063</th>\n",
              "      <td>6040</td>\n",
              "      <td>1252</td>\n",
              "      <td>5</td>\n",
              "      <td>2000-04-26 08:10:57</td>\n",
              "      <td>12</td>\n",
              "    </tr>\n",
              "    <tr>\n",
              "      <th>1000108</th>\n",
              "      <td>6040</td>\n",
              "      <td>3289</td>\n",
              "      <td>5</td>\n",
              "      <td>2000-04-26 08:11:45</td>\n",
              "      <td>13</td>\n",
              "    </tr>\n",
              "    <tr>\n",
              "      <th>1000083</th>\n",
              "      <td>6040</td>\n",
              "      <td>759</td>\n",
              "      <td>5</td>\n",
              "      <td>2000-04-26 08:14:08</td>\n",
              "      <td>14</td>\n",
              "    </tr>\n",
              "  </tbody>\n",
              "</table>\n",
              "</div>"
            ],
            "text/plain": [
              "         UserId  ItemId  Rating                Time  item_idx\n",
              "1000138    6040     858       4 2000-04-26 08:05:32         0\n",
              "999873     6040     593       5 2000-04-26 08:05:54         1\n",
              "1000153    6040    2384       4 2000-04-26 08:05:54         2\n",
              "1000007    6040    1961       4 2000-04-26 08:06:17         3\n",
              "1000192    6040    2019       5 2000-04-26 08:06:17         4\n",
              "999920     6040     213       5 2000-04-26 08:07:36         5\n",
              "999980     6040    3505       4 2000-04-26 08:07:36         6\n",
              "999967     6040    3111       5 2000-04-26 08:07:36         7\n",
              "999884     6040     912       5 2000-04-26 08:09:51         8\n",
              "999888     6040     919       5 2000-04-26 08:09:51         9\n",
              "1000186    6040     527       5 2000-04-26 08:10:19        10\n",
              "999991     6040     318       4 2000-04-26 08:10:57        11\n",
              "1000063    6040    1252       5 2000-04-26 08:10:57        12\n",
              "1000108    6040    3289       5 2000-04-26 08:11:45        13\n",
              "1000083    6040     759       5 2000-04-26 08:14:08        14"
            ]
          },
          "execution_count": 24,
          "metadata": {},
          "output_type": "execute_result"
        }
      ],
      "source": [
        "tr_dataset = SessionDataset(tr)\n",
        "tr_dataset.df.head(15)"
      ]
    },
    {
      "cell_type": "markdown",
      "source": [
        "- **SessionDataset 클릭 옵셋**"
      ],
      "metadata": {
        "id": "v2CRU5Kyr9Xy"
      },
      "id": "v2CRU5Kyr9Xy"
    },
    {
      "cell_type": "code",
      "execution_count": null,
      "id": "4a4c3546",
      "metadata": {
        "id": "4a4c3546",
        "outputId": "487ffb11-6f8e-417b-ea4a-911e7fe1d46d"
      },
      "outputs": [
        {
          "data": {
            "text/plain": [
              "array([     0,     45,    118, ..., 558008, 558098, 558307])"
            ]
          },
          "execution_count": 25,
          "metadata": {},
          "output_type": "execute_result"
        }
      ],
      "source": [
        "tr_dataset.click_offsets"
      ]
    },
    {
      "cell_type": "markdown",
      "source": [
        "- **SessionDataset 세션 인덱스**"
      ],
      "metadata": {
        "id": "cNQ_uNeRsBs9"
      },
      "id": "cNQ_uNeRsBs9"
    },
    {
      "cell_type": "code",
      "execution_count": null,
      "id": "92324698",
      "metadata": {
        "id": "92324698",
        "outputId": "19eaba4e-16ba-4d34-a740-5e46456d389f"
      },
      "outputs": [
        {
          "data": {
            "text/plain": [
              "array([   0,    1,    2, ..., 6028, 6029, 6030])"
            ]
          },
          "execution_count": 26,
          "metadata": {},
          "output_type": "execute_result"
        }
      ],
      "source": [
        "tr_dataset.session_idx"
      ]
    },
    {
      "cell_type": "markdown",
      "source": [
        "### **🍃 04-2_SessionDataLoader**"
      ],
      "metadata": {
        "id": "EerhLILesO6H"
      },
      "id": "EerhLILesO6H"
    },
    {
      "cell_type": "markdown",
      "source": [
        "- **SessionDataLoader 구성**"
      ],
      "metadata": {
        "id": "Zx06ZBSNsz1J"
      },
      "id": "Zx06ZBSNsz1J"
    },
    {
      "cell_type": "code",
      "execution_count": null,
      "id": "87f20b08",
      "metadata": {
        "id": "87f20b08"
      },
      "outputs": [],
      "source": [
        "class SessionDataLoader:\n",
        "\n",
        "    def __init__(self, dataset: SessionDataset, batch_size=50):\n",
        "        self.dataset = dataset\n",
        "        self.batch_size = batch_size\n",
        "\n",
        "    def __iter__(self):\n",
        "        start, end, mask, last_session, finished = self.initialize()\n",
        "\n",
        "        while not finished:\n",
        "            min_len = (end - start).min() - 1  # Shortest Length Among Sessions\n",
        "            for i in range(min_len):\n",
        "                # Build inputs & targets\n",
        "                inp = self.dataset.df['item_idx'].values[start + i]\n",
        "                target = self.dataset.df['item_idx'].values[start + i + 1]\n",
        "                yield inp, target, mask\n",
        "\n",
        "            start, end, mask, last_session, finished = self.update_status(start, end, min_len, last_session, finished)\n",
        "\n",
        "    def initialize(self):\n",
        "        first_iters = np.arange(self.batch_size)    # 첫 배치에 사용할 세션 Index를 가져옵니다.\n",
        "        last_session = self.batch_size - 1    # 마지막으로 다루고 있는 세션 Index를 저장해둡니다.\n",
        "        start = self.dataset.click_offsets[self.dataset.session_idx[first_iters]]       # data 상에서 session이 시작된 위치를 가져옵니다.\n",
        "        end = self.dataset.click_offsets[self.dataset.session_idx[first_iters] + 1]  # session이 끝난 위치 바로 다음 위치를 가져옵니다.\n",
        "        mask = np.array([])   # session의 모든 아이템을 다 돌은 경우 mask에 추가해줄 것입니다.\n",
        "        finished = False         # data를 전부 돌았는지 기록하기 위한 변수입니다.\n",
        "        return start, end, mask, last_session, finished\n",
        "\n",
        "    def update_status(self, start: np.ndarray, end: np.ndarray, min_len: int, last_session: int, finished: bool):  \n",
        "        # 다음 배치 데이터를 생성하기 위해 상태를 update합니다.\n",
        "        \n",
        "        start += min_len   # __iter__에서 min_len 만큼 for문을 돌았으므로 start를 min_len 만큼 더해줍니다.\n",
        "        mask = np.arange(self.batch_size)[(end - start) == 1]  \n",
        "        # end는 다음 세션이 시작되는 위치인데 start와 한 칸 차이난다는 것은 session이 끝났다는 뜻입니다. mask에 기록해줍니다.\n",
        "\n",
        "        for i, idx in enumerate(mask, start=1):  # mask에 추가된 세션 개수만큼 새로운 세션을 돌것입니다.\n",
        "            new_session = last_session + i  \n",
        "            if new_session > self.dataset.session_idx[-1]:  # 만약 새로운 세션이 마지막 세션 index보다 크다면 모든 학습데이터를 돈 것입니다.\n",
        "                finished = True\n",
        "                break\n",
        "            # update the next starting/ending point\n",
        "            start[idx] = self.dataset.click_offsets[self.dataset.session_idx[new_session]]     # 종료된 세션 대신 새로운 세션의 시작점을 기록합니다.\n",
        "            end[idx] = self.dataset.click_offsets[self.dataset.session_idx[new_session] + 1]\n",
        "\n",
        "        last_session += len(mask)  # 마지막 세션의 위치를 기록해둡니다.\n",
        "        return start, end, mask, last_session, finished"
      ]
    },
    {
      "cell_type": "markdown",
      "source": [
        "- **SessionDataLoader 데이터 확인**"
      ],
      "metadata": {
        "id": "rQZIR3kOs2qL"
      },
      "id": "rQZIR3kOs2qL"
    },
    {
      "cell_type": "code",
      "execution_count": null,
      "id": "90ec3362",
      "metadata": {
        "id": "90ec3362",
        "outputId": "72f143a5-c02b-45de-fa1a-79e37fdae8aa"
      },
      "outputs": [
        {
          "data": {
            "text/html": [
              "<div>\n",
              "<style scoped>\n",
              "    .dataframe tbody tr th:only-of-type {\n",
              "        vertical-align: middle;\n",
              "    }\n",
              "\n",
              "    .dataframe tbody tr th {\n",
              "        vertical-align: top;\n",
              "    }\n",
              "\n",
              "    .dataframe thead th {\n",
              "        text-align: right;\n",
              "    }\n",
              "</style>\n",
              "<table border=\"1\" class=\"dataframe\">\n",
              "  <thead>\n",
              "    <tr style=\"text-align: right;\">\n",
              "      <th></th>\n",
              "      <th>UserId</th>\n",
              "      <th>ItemId</th>\n",
              "      <th>Rating</th>\n",
              "      <th>Time</th>\n",
              "      <th>item_idx</th>\n",
              "    </tr>\n",
              "  </thead>\n",
              "  <tbody>\n",
              "    <tr>\n",
              "      <th>1000138</th>\n",
              "      <td>6040</td>\n",
              "      <td>858</td>\n",
              "      <td>4</td>\n",
              "      <td>2000-04-26 08:05:32</td>\n",
              "      <td>0</td>\n",
              "    </tr>\n",
              "    <tr>\n",
              "      <th>999873</th>\n",
              "      <td>6040</td>\n",
              "      <td>593</td>\n",
              "      <td>5</td>\n",
              "      <td>2000-04-26 08:05:54</td>\n",
              "      <td>1</td>\n",
              "    </tr>\n",
              "    <tr>\n",
              "      <th>1000153</th>\n",
              "      <td>6040</td>\n",
              "      <td>2384</td>\n",
              "      <td>4</td>\n",
              "      <td>2000-04-26 08:05:54</td>\n",
              "      <td>2</td>\n",
              "    </tr>\n",
              "    <tr>\n",
              "      <th>1000007</th>\n",
              "      <td>6040</td>\n",
              "      <td>1961</td>\n",
              "      <td>4</td>\n",
              "      <td>2000-04-26 08:06:17</td>\n",
              "      <td>3</td>\n",
              "    </tr>\n",
              "    <tr>\n",
              "      <th>1000192</th>\n",
              "      <td>6040</td>\n",
              "      <td>2019</td>\n",
              "      <td>5</td>\n",
              "      <td>2000-04-26 08:06:17</td>\n",
              "      <td>4</td>\n",
              "    </tr>\n",
              "    <tr>\n",
              "      <th>999920</th>\n",
              "      <td>6040</td>\n",
              "      <td>213</td>\n",
              "      <td>5</td>\n",
              "      <td>2000-04-26 08:07:36</td>\n",
              "      <td>5</td>\n",
              "    </tr>\n",
              "    <tr>\n",
              "      <th>999980</th>\n",
              "      <td>6040</td>\n",
              "      <td>3505</td>\n",
              "      <td>4</td>\n",
              "      <td>2000-04-26 08:07:36</td>\n",
              "      <td>6</td>\n",
              "    </tr>\n",
              "    <tr>\n",
              "      <th>999967</th>\n",
              "      <td>6040</td>\n",
              "      <td>3111</td>\n",
              "      <td>5</td>\n",
              "      <td>2000-04-26 08:07:36</td>\n",
              "      <td>7</td>\n",
              "    </tr>\n",
              "    <tr>\n",
              "      <th>999884</th>\n",
              "      <td>6040</td>\n",
              "      <td>912</td>\n",
              "      <td>5</td>\n",
              "      <td>2000-04-26 08:09:51</td>\n",
              "      <td>8</td>\n",
              "    </tr>\n",
              "    <tr>\n",
              "      <th>999888</th>\n",
              "      <td>6040</td>\n",
              "      <td>919</td>\n",
              "      <td>5</td>\n",
              "      <td>2000-04-26 08:09:51</td>\n",
              "      <td>9</td>\n",
              "    </tr>\n",
              "    <tr>\n",
              "      <th>1000186</th>\n",
              "      <td>6040</td>\n",
              "      <td>527</td>\n",
              "      <td>5</td>\n",
              "      <td>2000-04-26 08:10:19</td>\n",
              "      <td>10</td>\n",
              "    </tr>\n",
              "    <tr>\n",
              "      <th>999991</th>\n",
              "      <td>6040</td>\n",
              "      <td>318</td>\n",
              "      <td>4</td>\n",
              "      <td>2000-04-26 08:10:57</td>\n",
              "      <td>11</td>\n",
              "    </tr>\n",
              "    <tr>\n",
              "      <th>1000063</th>\n",
              "      <td>6040</td>\n",
              "      <td>1252</td>\n",
              "      <td>5</td>\n",
              "      <td>2000-04-26 08:10:57</td>\n",
              "      <td>12</td>\n",
              "    </tr>\n",
              "    <tr>\n",
              "      <th>1000108</th>\n",
              "      <td>6040</td>\n",
              "      <td>3289</td>\n",
              "      <td>5</td>\n",
              "      <td>2000-04-26 08:11:45</td>\n",
              "      <td>13</td>\n",
              "    </tr>\n",
              "    <tr>\n",
              "      <th>1000083</th>\n",
              "      <td>6040</td>\n",
              "      <td>759</td>\n",
              "      <td>5</td>\n",
              "      <td>2000-04-26 08:14:08</td>\n",
              "      <td>14</td>\n",
              "    </tr>\n",
              "  </tbody>\n",
              "</table>\n",
              "</div>"
            ],
            "text/plain": [
              "         UserId  ItemId  Rating                Time  item_idx\n",
              "1000138    6040     858       4 2000-04-26 08:05:32         0\n",
              "999873     6040     593       5 2000-04-26 08:05:54         1\n",
              "1000153    6040    2384       4 2000-04-26 08:05:54         2\n",
              "1000007    6040    1961       4 2000-04-26 08:06:17         3\n",
              "1000192    6040    2019       5 2000-04-26 08:06:17         4\n",
              "999920     6040     213       5 2000-04-26 08:07:36         5\n",
              "999980     6040    3505       4 2000-04-26 08:07:36         6\n",
              "999967     6040    3111       5 2000-04-26 08:07:36         7\n",
              "999884     6040     912       5 2000-04-26 08:09:51         8\n",
              "999888     6040     919       5 2000-04-26 08:09:51         9\n",
              "1000186    6040     527       5 2000-04-26 08:10:19        10\n",
              "999991     6040     318       4 2000-04-26 08:10:57        11\n",
              "1000063    6040    1252       5 2000-04-26 08:10:57        12\n",
              "1000108    6040    3289       5 2000-04-26 08:11:45        13\n",
              "1000083    6040     759       5 2000-04-26 08:14:08        14"
            ]
          },
          "execution_count": 28,
          "metadata": {},
          "output_type": "execute_result"
        }
      ],
      "source": [
        "tr_data_loader = SessionDataLoader(tr_dataset, batch_size=4)\n",
        "tr_dataset.df.head(15)"
      ]
    },
    {
      "cell_type": "markdown",
      "source": [
        "- **SessionDataLoader 데이터 인덱싱 확인**"
      ],
      "metadata": {
        "id": "Rkkff8uUs9bH"
      },
      "id": "Rkkff8uUs9bH"
    },
    {
      "cell_type": "code",
      "execution_count": null,
      "id": "7381e48d",
      "metadata": {
        "id": "7381e48d"
      },
      "outputs": [],
      "source": [
        "iter_ex = iter(tr_data_loader)"
      ]
    },
    {
      "cell_type": "code",
      "execution_count": null,
      "id": "9c872d93",
      "metadata": {
        "id": "9c872d93",
        "outputId": "682e030f-bd9a-4c3c-c095-d4e4672be64d"
      },
      "outputs": [
        {
          "name": "stdout",
          "output_type": "stream",
          "text": [
            "Model Input Item Idx are : [  0  45 116 138]\n",
            "Label Item Idx are :       [  1  46 117 139]\n",
            "Previous Masked Input Idx are []\n"
          ]
        }
      ],
      "source": [
        "inputs, labels, mask =  next(iter_ex)\n",
        "print(f'Model Input Item Idx are : {inputs}')\n",
        "print(f'Label Item Idx are : {\"\":5} {labels}')\n",
        "print(f'Previous Masked Input Idx are {mask}')"
      ]
    },
    {
      "cell_type": "markdown",
      "source": [
        "## **🌿 05_모델 구성**"
      ],
      "metadata": {
        "id": "PJIUeXA6tLH0"
      },
      "id": "PJIUeXA6tLH0"
    },
    {
      "cell_type": "markdown",
      "source": [
        "### **🍃 05-1_모델 생성**"
      ],
      "metadata": {
        "id": "kBaEYaZDtc5e"
      },
      "id": "kBaEYaZDtc5e"
    },
    {
      "cell_type": "code",
      "execution_count": null,
      "id": "4d85944c",
      "metadata": {
        "id": "4d85944c"
      },
      "outputs": [],
      "source": [
        "def create_model(args):\n",
        "    inputs = Input(batch_shape=(args.batch_size, 1, args.num_items))\n",
        "    gru, _ = GRU(args.hsz, stateful=True, return_state=True, name='GRU')(inputs)\n",
        "    dropout = Dropout(args.drop_rate)(gru)\n",
        "    predictions = Dense(args.num_items, activation='softmax')(dropout)\n",
        "    model = Model(inputs=inputs, outputs=[predictions])\n",
        "    model.compile(loss=categorical_crossentropy, optimizer=Adam(args.lr), metrics=['accuracy'])\n",
        "    model.summary()\n",
        "    return model"
      ]
    },
    {
      "cell_type": "markdown",
      "source": [
        "### **🍃 05-2_하이퍼 파라미터**"
      ],
      "metadata": {
        "id": "XCsGtSOGtiGx"
      },
      "id": "XCsGtSOGtiGx"
    },
    {
      "cell_type": "code",
      "execution_count": null,
      "id": "1bf4c2f2",
      "metadata": {
        "id": "1bf4c2f2"
      },
      "outputs": [],
      "source": [
        "class Args:\n",
        "    def __init__(self, tr, val, test, batch_size, hsz, drop_rate, lr, epochs, k):\n",
        "        self.tr = tr\n",
        "        self.val = val\n",
        "        self.test = test\n",
        "        self.num_items = tr['ItemId'].nunique()\n",
        "        self.num_sessions = tr['UserId'].nunique()\n",
        "        self.batch_size = batch_size\n",
        "        self.hsz = hsz\n",
        "        self.drop_rate = drop_rate\n",
        "        self.lr = lr\n",
        "        self.epochs = epochs\n",
        "        self.k = k"
      ]
    },
    {
      "cell_type": "code",
      "execution_count": null,
      "id": "d62a6389",
      "metadata": {
        "id": "d62a6389"
      },
      "outputs": [],
      "source": [
        "args = Args(tr, val, test, batch_size=256, hsz=50, drop_rate=0.1, lr=0.001, epochs=20, k=20)"
      ]
    },
    {
      "cell_type": "markdown",
      "source": [
        "### **🍃 05-3_모델 확인**"
      ],
      "metadata": {
        "id": "gOTPCpeqtnFT"
      },
      "id": "gOTPCpeqtnFT"
    },
    {
      "cell_type": "code",
      "execution_count": null,
      "id": "7d037c3a",
      "metadata": {
        "id": "7d037c3a",
        "outputId": "574dcc97-987c-4205-bf79-762d3e7f14a5"
      },
      "outputs": [
        {
          "name": "stdout",
          "output_type": "stream",
          "text": [
            "Model: \"model\"\n",
            "_________________________________________________________________\n",
            "Layer (type)                 Output Shape              Param #   \n",
            "=================================================================\n",
            "input_1 (InputLayer)         [(256, 1, 2562)]          0         \n",
            "_________________________________________________________________\n",
            "GRU (GRU)                    [(256, 50), (256, 50)]    392100    \n",
            "_________________________________________________________________\n",
            "dropout (Dropout)            (256, 50)                 0         \n",
            "_________________________________________________________________\n",
            "dense (Dense)                (256, 2562)               130662    \n",
            "=================================================================\n",
            "Total params: 522,762\n",
            "Trainable params: 522,762\n",
            "Non-trainable params: 0\n",
            "_________________________________________________________________\n"
          ]
        }
      ],
      "source": [
        "model = create_model(args)"
      ]
    },
    {
      "cell_type": "markdown",
      "source": [
        "### **🍃 05-4_MRR 지표**"
      ],
      "metadata": {
        "id": "go55EIQ0uTjG"
      },
      "id": "go55EIQ0uTjG"
    },
    {
      "cell_type": "code",
      "execution_count": null,
      "id": "6ce11211",
      "metadata": {
        "id": "6ce11211"
      },
      "outputs": [],
      "source": [
        "def mrr_k(pred, truth: int, k: int):\n",
        "    indexing = np.where(pred[:k] == truth)[0]\n",
        "    if len(indexing) > 0:\n",
        "        return 1 / (indexing[0] + 1)\n",
        "    else:\n",
        "        return 0"
      ]
    },
    {
      "cell_type": "markdown",
      "source": [
        "### **🍃 05-4_Recall 지표**"
      ],
      "metadata": {
        "id": "ly9hYRHnzd1o"
      },
      "id": "ly9hYRHnzd1o"
    },
    {
      "cell_type": "code",
      "execution_count": null,
      "id": "0bd5ba9e",
      "metadata": {
        "id": "0bd5ba9e"
      },
      "outputs": [],
      "source": [
        "def recall_k(pred, truth: int, k: int) -> int:\n",
        "    answer = truth in pred[:k]\n",
        "    return int(answer)"
      ]
    },
    {
      "cell_type": "markdown",
      "source": [
        "### **🍃 05-5_Train 함수 생성**"
      ],
      "metadata": {
        "id": "r_a1XCUFzgFL"
      },
      "id": "r_a1XCUFzgFL"
    },
    {
      "cell_type": "code",
      "execution_count": null,
      "id": "07c24cfd",
      "metadata": {
        "id": "07c24cfd"
      },
      "outputs": [],
      "source": [
        "def train_model(model, args):\n",
        "    train_dataset = SessionDataset(args.tr)\n",
        "    train_loader = SessionDataLoader(train_dataset, batch_size=args.batch_size)\n",
        "\n",
        "    for epoch in range(1, args.epochs + 1):\n",
        "        total_step = len(args.tr) - args.tr['UserId'].nunique()\n",
        "        tr_loader = tqdm(train_loader, total=total_step // args.batch_size, desc='Train', mininterval=1)\n",
        "        for feat, target, mask in tr_loader:\n",
        "            reset_hidden_states(model, mask)  # 종료된 session은 hidden_state를 초기화\n",
        "\n",
        "            input_ohe = to_categorical(feat, num_classes=args.num_items)\n",
        "            input_ohe = np.expand_dims(input_ohe, axis=1)\n",
        "            target_ohe = to_categorical(target, num_classes=args.num_items)\n",
        "\n",
        "            result = model.train_on_batch(input_ohe, target_ohe)\n",
        "            tr_loader.set_postfix(train_loss=result[0], accuracy = result[1])\n",
        "\n",
        "        val_recall, val_mrr = get_metrics(args.val, model, args, args.k)  # valid set 검증\n",
        "\n",
        "        print(f\"\\t - Recall@{args.k} epoch {epoch}: {val_recall:3f}\")\n",
        "        print(f\"\\t - MRR@{args.k}    epoch {epoch}: {val_mrr:3f}\\n\")"
      ]
    },
    {
      "cell_type": "markdown",
      "source": [
        "### **🍃 05-5_파라미터 초기화 함수 생성**"
      ],
      "metadata": {
        "id": "ryaOkOZ1zu1p"
      },
      "id": "ryaOkOZ1zu1p"
    },
    {
      "cell_type": "code",
      "execution_count": null,
      "id": "bbb86c9a",
      "metadata": {
        "id": "bbb86c9a"
      },
      "outputs": [],
      "source": [
        "def reset_hidden_states(model, mask):\n",
        "    gru_layer = model.get_layer(name='GRU')  # model에서 gru layer를 가져옵니다.\n",
        "    hidden_states = gru_layer.states[0].numpy()  # gru_layer의 parameter를 가져옵니다.\n",
        "    for elt in mask:  # mask된 인덱스 즉, 종료된 세션의 인덱스를 돌면서\n",
        "        hidden_states[elt, :] = 0  # parameter를 초기화\n",
        "    gru_layer.reset_states(states=hidden_states)"
      ]
    },
    {
      "cell_type": "markdown",
      "source": [
        "### **🍃 05-6_Metric 함수 생성**"
      ],
      "metadata": {
        "id": "uTB1Wgqjz2L6"
      },
      "id": "uTB1Wgqjz2L6"
    },
    {
      "cell_type": "code",
      "execution_count": null,
      "id": "03f2e9bb",
      "metadata": {
        "id": "03f2e9bb"
      },
      "outputs": [],
      "source": [
        "def get_metrics(data, model, args, k: int): \n",
        "    dataset = SessionDataset(data)\n",
        "    loader = SessionDataLoader(dataset, batch_size=args.batch_size)\n",
        "    recall_list, mrr_list = [], []\n",
        "\n",
        "    total_step = len(data) - data['UserId'].nunique()\n",
        "    for inputs, label, mask in tqdm(loader, total=total_step // args.batch_size, desc='Evaluation', mininterval=1):\n",
        "        reset_hidden_states(model, mask)\n",
        "        input_ohe = to_categorical(inputs, num_classes=args.num_items)\n",
        "        input_ohe = np.expand_dims(input_ohe, axis=1)\n",
        "\n",
        "        pred = model.predict(input_ohe, batch_size=args.batch_size)\n",
        "        pred_arg = tf.argsort(pred, direction='DESCENDING')  # softmax 값이 큰 순서대로 sorting 합니다.\n",
        "\n",
        "        length = len(inputs)\n",
        "        recall_list.extend([recall_k(pred_arg[i], label[i], k) for i in range(length)])\n",
        "        mrr_list.extend([mrr_k(pred_arg[i], label[i], k) for i in range(length)])\n",
        "\n",
        "    recall, mrr = np.mean(recall_list), np.mean(mrr_list)\n",
        "    return recall, mrr"
      ]
    },
    {
      "cell_type": "markdown",
      "source": [
        "### **🍃 05-7_모델 테스트 함수 생성**"
      ],
      "metadata": {
        "id": "jdwZ7X3V0Clr"
      },
      "id": "jdwZ7X3V0Clr"
    },
    {
      "cell_type": "code",
      "execution_count": null,
      "id": "9d884dfd",
      "metadata": {
        "id": "9d884dfd"
      },
      "outputs": [],
      "source": [
        "def test_model(model, args, test):\n",
        "    test_recall, test_mrr = get_metrics(test, model, args, 20)\n",
        "    print(f\"\\t - Recall@{args.k}: {test_recall:3f}\")\n",
        "    print(f\"\\t - MRR@{args.k}: {test_mrr:3f}\\n\")"
      ]
    },
    {
      "cell_type": "markdown",
      "source": [
        "## **🌿 06_1차 학습**"
      ],
      "metadata": {
        "id": "oLhKfz0WvG4u"
      },
      "id": "oLhKfz0WvG4u"
    },
    {
      "cell_type": "markdown",
      "source": [
        "### **🍃 06-1_1차 모델 학습**"
      ],
      "metadata": {
        "id": "l7baXfDnvY3I"
      },
      "id": "l7baXfDnvY3I"
    },
    {
      "cell_type": "code",
      "execution_count": null,
      "id": "cdd3f1f3",
      "metadata": {
        "id": "cdd3f1f3",
        "outputId": "f31d047f-25f7-4905-9b48-5fc2df698c4a"
      },
      "outputs": [
        {
          "name": "stderr",
          "output_type": "stream",
          "text": [
            "Train:  96%|█████████▌| 2065/2157 [01:33<00:04, 22.18it/s, accuracy=0, train_loss=7.01]      \n",
            "Evaluation:   9%|▉         | 2/22 [00:03<00:32,  1.65s/it]\n"
          ]
        },
        {
          "name": "stdout",
          "output_type": "stream",
          "text": [
            "\t - Recall@20 epoch 1: 0.054688\n",
            "\t - MRR@20    epoch 1: 0.008049\n",
            "\n"
          ]
        },
        {
          "name": "stderr",
          "output_type": "stream",
          "text": [
            "Train:  96%|█████████▌| 2065/2157 [01:18<00:03, 26.15it/s, accuracy=0.00781, train_loss=6.79]\n",
            "Evaluation:   9%|▉         | 2/22 [00:02<00:29,  1.48s/it]\n"
          ]
        },
        {
          "name": "stdout",
          "output_type": "stream",
          "text": [
            "\t - Recall@20 epoch 2: 0.066406\n",
            "\t - MRR@20    epoch 2: 0.011408\n",
            "\n"
          ]
        },
        {
          "name": "stderr",
          "output_type": "stream",
          "text": [
            "Train:  96%|█████████▌| 2065/2157 [01:23<00:03, 24.66it/s, accuracy=0.00391, train_loss=6.59]\n",
            "Evaluation:   9%|▉         | 2/22 [00:00<00:08,  2.43it/s]\n"
          ]
        },
        {
          "name": "stdout",
          "output_type": "stream",
          "text": [
            "\t - Recall@20 epoch 3: 0.066406\n",
            "\t - MRR@20    epoch 3: 0.015687\n",
            "\n"
          ]
        },
        {
          "name": "stderr",
          "output_type": "stream",
          "text": [
            "Train:  96%|█████████▌| 2065/2157 [01:22<00:03, 25.09it/s, accuracy=0.00781, train_loss=6.48]\n",
            "Evaluation:   9%|▉         | 2/22 [00:00<00:08,  2.48it/s]\n"
          ]
        },
        {
          "name": "stdout",
          "output_type": "stream",
          "text": [
            "\t - Recall@20 epoch 4: 0.074219\n",
            "\t - MRR@20    epoch 4: 0.019676\n",
            "\n"
          ]
        },
        {
          "name": "stderr",
          "output_type": "stream",
          "text": [
            "Train:  96%|█████████▌| 2065/2157 [01:20<00:03, 25.80it/s, accuracy=0.00781, train_loss=6.42]\n",
            "Evaluation:   9%|▉         | 2/22 [00:00<00:08,  2.42it/s]\n"
          ]
        },
        {
          "name": "stdout",
          "output_type": "stream",
          "text": [
            "\t - Recall@20 epoch 5: 0.070312\n",
            "\t - MRR@20    epoch 5: 0.018829\n",
            "\n"
          ]
        },
        {
          "name": "stderr",
          "output_type": "stream",
          "text": [
            "Train:  96%|█████████▌| 2065/2157 [01:20<00:03, 25.69it/s, accuracy=0.0117, train_loss=6.39] \n",
            "Evaluation:   9%|▉         | 2/22 [00:02<00:29,  1.50s/it]\n"
          ]
        },
        {
          "name": "stdout",
          "output_type": "stream",
          "text": [
            "\t - Recall@20 epoch 6: 0.072266\n",
            "\t - MRR@20    epoch 6: 0.017011\n",
            "\n"
          ]
        },
        {
          "name": "stderr",
          "output_type": "stream",
          "text": [
            "Train:  96%|█████████▌| 2065/2157 [01:18<00:03, 26.27it/s, accuracy=0.0156, train_loss=6.35] \n",
            "Evaluation:   9%|▉         | 2/22 [00:02<00:28,  1.42s/it]\n"
          ]
        },
        {
          "name": "stdout",
          "output_type": "stream",
          "text": [
            "\t - Recall@20 epoch 7: 0.078125\n",
            "\t - MRR@20    epoch 7: 0.017413\n",
            "\n"
          ]
        },
        {
          "name": "stderr",
          "output_type": "stream",
          "text": [
            "Train:  96%|█████████▌| 2065/2157 [01:20<00:03, 25.64it/s, accuracy=0.00781, train_loss=6.33]\n",
            "Evaluation:   9%|▉         | 2/22 [00:00<00:08,  2.43it/s]\n"
          ]
        },
        {
          "name": "stdout",
          "output_type": "stream",
          "text": [
            "\t - Recall@20 epoch 8: 0.085938\n",
            "\t - MRR@20    epoch 8: 0.019528\n",
            "\n"
          ]
        },
        {
          "name": "stderr",
          "output_type": "stream",
          "text": [
            "Train:  96%|█████████▌| 2065/2157 [01:17<00:03, 26.76it/s, accuracy=0.00781, train_loss=6.33]\n",
            "Evaluation:   9%|▉         | 2/22 [00:02<00:28,  1.45s/it]\n"
          ]
        },
        {
          "name": "stdout",
          "output_type": "stream",
          "text": [
            "\t - Recall@20 epoch 9: 0.080078\n",
            "\t - MRR@20    epoch 9: 0.018892\n",
            "\n"
          ]
        },
        {
          "name": "stderr",
          "output_type": "stream",
          "text": [
            "Train:  96%|█████████▌| 2065/2157 [01:17<00:03, 26.48it/s, accuracy=0.0117, train_loss=6.28] \n",
            "Evaluation:   9%|▉         | 2/22 [00:02<00:29,  1.48s/it]\n"
          ]
        },
        {
          "name": "stdout",
          "output_type": "stream",
          "text": [
            "\t - Recall@20 epoch 10: 0.078125\n",
            "\t - MRR@20    epoch 10: 0.018500\n",
            "\n"
          ]
        },
        {
          "name": "stderr",
          "output_type": "stream",
          "text": [
            "Train:  96%|█████████▌| 2065/2157 [01:18<00:03, 26.35it/s, accuracy=0.0273, train_loss=6.29] \n",
            "Evaluation:   9%|▉         | 2/22 [00:00<00:07,  2.56it/s]\n"
          ]
        },
        {
          "name": "stdout",
          "output_type": "stream",
          "text": [
            "\t - Recall@20 epoch 11: 0.076172\n",
            "\t - MRR@20    epoch 11: 0.018198\n",
            "\n"
          ]
        },
        {
          "name": "stderr",
          "output_type": "stream",
          "text": [
            "Train:  96%|█████████▌| 2065/2157 [01:19<00:03, 25.86it/s, accuracy=0.0117, train_loss=6.28] \n",
            "Evaluation:   9%|▉         | 2/22 [00:00<00:07,  2.51it/s]\n"
          ]
        },
        {
          "name": "stdout",
          "output_type": "stream",
          "text": [
            "\t - Recall@20 epoch 12: 0.076172\n",
            "\t - MRR@20    epoch 12: 0.017314\n",
            "\n"
          ]
        },
        {
          "name": "stderr",
          "output_type": "stream",
          "text": [
            "Train:  96%|█████████▌| 2065/2157 [01:22<00:03, 25.17it/s, accuracy=0.0195, train_loss=6.24] \n",
            "Evaluation:   9%|▉         | 2/22 [00:00<00:08,  2.48it/s]\n"
          ]
        },
        {
          "name": "stdout",
          "output_type": "stream",
          "text": [
            "\t - Recall@20 epoch 13: 0.082031\n",
            "\t - MRR@20    epoch 13: 0.017556\n",
            "\n"
          ]
        },
        {
          "name": "stderr",
          "output_type": "stream",
          "text": [
            "Train:  96%|█████████▌| 2065/2157 [01:22<00:03, 25.18it/s, accuracy=0.0117, train_loss=6.27] \n",
            "Evaluation:   9%|▉         | 2/22 [00:00<00:07,  2.53it/s]\n"
          ]
        },
        {
          "name": "stdout",
          "output_type": "stream",
          "text": [
            "\t - Recall@20 epoch 14: 0.080078\n",
            "\t - MRR@20    epoch 14: 0.017497\n",
            "\n"
          ]
        },
        {
          "name": "stderr",
          "output_type": "stream",
          "text": [
            "Train:  96%|█████████▌| 2065/2157 [01:19<00:03, 26.07it/s, accuracy=0.0195, train_loss=6.22] \n",
            "Evaluation:   9%|▉         | 2/22 [00:00<00:07,  2.60it/s]\n"
          ]
        },
        {
          "name": "stdout",
          "output_type": "stream",
          "text": [
            "\t - Recall@20 epoch 15: 0.080078\n",
            "\t - MRR@20    epoch 15: 0.016781\n",
            "\n"
          ]
        },
        {
          "name": "stderr",
          "output_type": "stream",
          "text": [
            "Train:  96%|█████████▌| 2065/2157 [01:20<00:03, 25.72it/s, accuracy=0.0195, train_loss=6.26] \n",
            "Evaluation:   9%|▉         | 2/22 [00:02<00:28,  1.42s/it]\n"
          ]
        },
        {
          "name": "stdout",
          "output_type": "stream",
          "text": [
            "\t - Recall@20 epoch 16: 0.082031\n",
            "\t - MRR@20    epoch 16: 0.017826\n",
            "\n"
          ]
        },
        {
          "name": "stderr",
          "output_type": "stream",
          "text": [
            "Train:  96%|█████████▌| 2065/2157 [01:18<00:03, 26.17it/s, accuracy=0.0195, train_loss=6.23] \n",
            "Evaluation:   9%|▉         | 2/22 [00:00<00:07,  2.60it/s]\n"
          ]
        },
        {
          "name": "stdout",
          "output_type": "stream",
          "text": [
            "\t - Recall@20 epoch 17: 0.082031\n",
            "\t - MRR@20    epoch 17: 0.016525\n",
            "\n"
          ]
        },
        {
          "name": "stderr",
          "output_type": "stream",
          "text": [
            "Train:  96%|█████████▌| 2065/2157 [01:19<00:03, 25.97it/s, accuracy=0.0195, train_loss=6.2]  \n",
            "Evaluation:   9%|▉         | 2/22 [00:00<00:07,  2.57it/s]\n"
          ]
        },
        {
          "name": "stdout",
          "output_type": "stream",
          "text": [
            "\t - Recall@20 epoch 18: 0.078125\n",
            "\t - MRR@20    epoch 18: 0.016508\n",
            "\n"
          ]
        },
        {
          "name": "stderr",
          "output_type": "stream",
          "text": [
            "Train:  96%|█████████▌| 2065/2157 [01:18<00:03, 26.32it/s, accuracy=0.0234, train_loss=6.19] \n",
            "Evaluation:   9%|▉         | 2/22 [00:00<00:07,  2.54it/s]\n"
          ]
        },
        {
          "name": "stdout",
          "output_type": "stream",
          "text": [
            "\t - Recall@20 epoch 19: 0.076172\n",
            "\t - MRR@20    epoch 19: 0.017004\n",
            "\n"
          ]
        },
        {
          "name": "stderr",
          "output_type": "stream",
          "text": [
            "Train:  96%|█████████▌| 2065/2157 [01:24<00:03, 24.52it/s, accuracy=0.0273, train_loss=6.18] \n",
            "Evaluation:   9%|▉         | 2/22 [00:00<00:07,  2.57it/s]"
          ]
        },
        {
          "name": "stdout",
          "output_type": "stream",
          "text": [
            "\t - Recall@20 epoch 20: 0.078125\n",
            "\t - MRR@20    epoch 20: 0.016918\n",
            "\n"
          ]
        },
        {
          "name": "stderr",
          "output_type": "stream",
          "text": [
            "\n"
          ]
        }
      ],
      "source": [
        "train_model(model, args)"
      ]
    },
    {
      "cell_type": "markdown",
      "source": [
        "### **🍃 06-2_1차 모델 학습 결과**"
      ],
      "metadata": {
        "id": "CnH_VxHqvfLE"
      },
      "id": "CnH_VxHqvfLE"
    },
    {
      "cell_type": "code",
      "execution_count": null,
      "id": "36975164",
      "metadata": {
        "id": "36975164",
        "outputId": "ae41b933-d9ff-451d-c83c-d7880fd1a30f"
      },
      "outputs": [
        {
          "name": "stderr",
          "output_type": "stream",
          "text": [
            "Evaluation:   6%|▌         | 1/17 [00:00<00:06,  2.42it/s]"
          ]
        },
        {
          "name": "stdout",
          "output_type": "stream",
          "text": [
            "\t - Recall@20: 0.066406\n",
            "\t - MRR@20: 0.012386\n",
            "\n"
          ]
        },
        {
          "name": "stderr",
          "output_type": "stream",
          "text": [
            "\n"
          ]
        }
      ],
      "source": [
        "test_model(model, args, test)"
      ]
    },
    {
      "cell_type": "markdown",
      "source": [
        "## **🌿 07_2차 학습**"
      ],
      "metadata": {
        "id": "WecllZ4Kwk6b"
      },
      "id": "WecllZ4Kwk6b"
    },
    {
      "cell_type": "markdown",
      "source": [
        "- **Learning rate 변경**"
      ],
      "metadata": {
        "id": "opakQ5pQw0oG"
      },
      "id": "opakQ5pQw0oG"
    },
    {
      "cell_type": "markdown",
      "source": [
        "### **🍃 07-1_2차 모델 학습**"
      ],
      "metadata": {
        "id": "buJu85s_wg0W"
      },
      "id": "buJu85s_wg0W"
    },
    {
      "cell_type": "code",
      "execution_count": null,
      "id": "238bd39b",
      "metadata": {
        "id": "238bd39b",
        "outputId": "a1f6f0bb-049f-40a8-edb7-b1df010d8963"
      },
      "outputs": [
        {
          "name": "stderr",
          "output_type": "stream",
          "text": [
            "Train:  96%|█████████▌| 2065/2157 [01:20<00:03, 25.55it/s, accuracy=0.0234, train_loss=6.18] \n",
            "Evaluation:   9%|▉         | 2/22 [00:00<00:08,  2.40it/s]\n"
          ]
        },
        {
          "name": "stdout",
          "output_type": "stream",
          "text": [
            "\t - Recall@20 epoch 1: 0.080078\n",
            "\t - MRR@20    epoch 1: 0.017481\n",
            "\n"
          ]
        },
        {
          "name": "stderr",
          "output_type": "stream",
          "text": [
            "Train:  96%|█████████▌| 2065/2157 [01:21<00:03, 25.38it/s, accuracy=0.0391, train_loss=6.16] \n",
            "Evaluation:   9%|▉         | 2/22 [00:00<00:07,  2.61it/s]\n"
          ]
        },
        {
          "name": "stdout",
          "output_type": "stream",
          "text": [
            "\t - Recall@20 epoch 2: 0.080078\n",
            "\t - MRR@20    epoch 2: 0.016570\n",
            "\n"
          ]
        },
        {
          "name": "stderr",
          "output_type": "stream",
          "text": [
            "Train:  96%|█████████▌| 2065/2157 [01:18<00:03, 26.19it/s, accuracy=0.0195, train_loss=6.19] \n",
            "Evaluation:   9%|▉         | 2/22 [00:02<00:26,  1.34s/it]\n"
          ]
        },
        {
          "name": "stdout",
          "output_type": "stream",
          "text": [
            "\t - Recall@20 epoch 3: 0.078125\n",
            "\t - MRR@20    epoch 3: 0.016975\n",
            "\n"
          ]
        },
        {
          "name": "stderr",
          "output_type": "stream",
          "text": [
            "Train:  96%|█████████▌| 2065/2157 [01:18<00:03, 26.32it/s, accuracy=0.0312, train_loss=6.13] \n",
            "Evaluation:   9%|▉         | 2/22 [00:00<00:08,  2.50it/s]\n"
          ]
        },
        {
          "name": "stdout",
          "output_type": "stream",
          "text": [
            "\t - Recall@20 epoch 4: 0.076172\n",
            "\t - MRR@20    epoch 4: 0.016654\n",
            "\n"
          ]
        },
        {
          "name": "stderr",
          "output_type": "stream",
          "text": [
            "Train:  96%|█████████▌| 2065/2157 [01:20<00:03, 25.51it/s, accuracy=0.0352, train_loss=6.15] \n",
            "Evaluation:   9%|▉         | 2/22 [00:00<00:07,  2.56it/s]\n"
          ]
        },
        {
          "name": "stdout",
          "output_type": "stream",
          "text": [
            "\t - Recall@20 epoch 5: 0.080078\n",
            "\t - MRR@20    epoch 5: 0.017310\n",
            "\n"
          ]
        },
        {
          "name": "stderr",
          "output_type": "stream",
          "text": [
            "Train:  96%|█████████▌| 2065/2157 [01:21<00:03, 25.45it/s, accuracy=0.0195, train_loss=6.17] \n",
            "Evaluation:   9%|▉         | 2/22 [00:02<00:29,  1.50s/it]\n"
          ]
        },
        {
          "name": "stdout",
          "output_type": "stream",
          "text": [
            "\t - Recall@20 epoch 6: 0.082031\n",
            "\t - MRR@20    epoch 6: 0.016158\n",
            "\n"
          ]
        },
        {
          "name": "stderr",
          "output_type": "stream",
          "text": [
            "Train:  96%|█████████▌| 2065/2157 [01:13<00:03, 28.10it/s, accuracy=0.0352, train_loss=6.13] \n",
            "Evaluation:   9%|▉         | 2/22 [00:00<00:07,  2.51it/s]\n"
          ]
        },
        {
          "name": "stdout",
          "output_type": "stream",
          "text": [
            "\t - Recall@20 epoch 7: 0.080078\n",
            "\t - MRR@20    epoch 7: 0.015740\n",
            "\n"
          ]
        },
        {
          "name": "stderr",
          "output_type": "stream",
          "text": [
            "Train:  96%|█████████▌| 2065/2157 [01:15<00:03, 27.41it/s, accuracy=0.0156, train_loss=6.14] \n",
            "Evaluation:   9%|▉         | 2/22 [00:03<00:30,  1.52s/it]\n"
          ]
        },
        {
          "name": "stdout",
          "output_type": "stream",
          "text": [
            "\t - Recall@20 epoch 8: 0.078125\n",
            "\t - MRR@20    epoch 8: 0.016369\n",
            "\n"
          ]
        },
        {
          "name": "stderr",
          "output_type": "stream",
          "text": [
            "Train:  96%|█████████▌| 2065/2157 [01:15<00:03, 27.41it/s, accuracy=0.0195, train_loss=6.07] \n",
            "Evaluation:   9%|▉         | 2/22 [00:00<00:08,  2.48it/s]\n"
          ]
        },
        {
          "name": "stdout",
          "output_type": "stream",
          "text": [
            "\t - Recall@20 epoch 9: 0.076172\n",
            "\t - MRR@20    epoch 9: 0.015574\n",
            "\n"
          ]
        },
        {
          "name": "stderr",
          "output_type": "stream",
          "text": [
            "Train:  96%|█████████▌| 2065/2157 [01:15<00:03, 27.52it/s, accuracy=0.0195, train_loss=6.1]  \n",
            "Evaluation:   9%|▉         | 2/22 [00:02<00:29,  1.49s/it]\n"
          ]
        },
        {
          "name": "stdout",
          "output_type": "stream",
          "text": [
            "\t - Recall@20 epoch 10: 0.080078\n",
            "\t - MRR@20    epoch 10: 0.017173\n",
            "\n"
          ]
        },
        {
          "name": "stderr",
          "output_type": "stream",
          "text": [
            "Train:  96%|█████████▌| 2065/2157 [01:12<00:03, 28.33it/s, accuracy=0.0352, train_loss=6.08] \n",
            "Evaluation:   9%|▉         | 2/22 [00:02<00:26,  1.33s/it]\n"
          ]
        },
        {
          "name": "stdout",
          "output_type": "stream",
          "text": [
            "\t - Recall@20 epoch 11: 0.082031\n",
            "\t - MRR@20    epoch 11: 0.015603\n",
            "\n"
          ]
        },
        {
          "name": "stderr",
          "output_type": "stream",
          "text": [
            "Train:  96%|█████████▌| 2065/2157 [01:15<00:03, 27.45it/s, accuracy=0.0312, train_loss=6.07] \n",
            "Evaluation:   9%|▉         | 2/22 [00:02<00:29,  1.50s/it]\n"
          ]
        },
        {
          "name": "stdout",
          "output_type": "stream",
          "text": [
            "\t - Recall@20 epoch 12: 0.083984\n",
            "\t - MRR@20    epoch 12: 0.015810\n",
            "\n"
          ]
        },
        {
          "name": "stderr",
          "output_type": "stream",
          "text": [
            "Train:  96%|█████████▌| 2065/2157 [01:15<00:03, 27.47it/s, accuracy=0.0195, train_loss=6.1]  \n",
            "Evaluation:   9%|▉         | 2/22 [00:02<00:29,  1.49s/it]\n"
          ]
        },
        {
          "name": "stdout",
          "output_type": "stream",
          "text": [
            "\t - Recall@20 epoch 13: 0.082031\n",
            "\t - MRR@20    epoch 13: 0.016075\n",
            "\n"
          ]
        },
        {
          "name": "stderr",
          "output_type": "stream",
          "text": [
            "Train:  96%|█████████▌| 2065/2157 [01:12<00:03, 28.30it/s, accuracy=0.0312, train_loss=6.09] \n",
            "Evaluation:   9%|▉         | 2/22 [00:03<00:30,  1.53s/it]\n"
          ]
        },
        {
          "name": "stdout",
          "output_type": "stream",
          "text": [
            "\t - Recall@20 epoch 14: 0.078125\n",
            "\t - MRR@20    epoch 14: 0.015592\n",
            "\n"
          ]
        },
        {
          "name": "stderr",
          "output_type": "stream",
          "text": [
            "Train:  96%|█████████▌| 2065/2157 [01:12<00:03, 28.33it/s, accuracy=0.0195, train_loss=6.07] \n",
            "Evaluation:   9%|▉         | 2/22 [00:02<00:28,  1.40s/it]\n"
          ]
        },
        {
          "name": "stdout",
          "output_type": "stream",
          "text": [
            "\t - Recall@20 epoch 15: 0.078125\n",
            "\t - MRR@20    epoch 15: 0.014882\n",
            "\n"
          ]
        },
        {
          "name": "stderr",
          "output_type": "stream",
          "text": [
            "Train:  96%|█████████▌| 2065/2157 [01:14<00:03, 27.55it/s, accuracy=0.0234, train_loss=6.11] \n",
            "Evaluation:   9%|▉         | 2/22 [00:00<00:07,  2.56it/s]\n"
          ]
        },
        {
          "name": "stdout",
          "output_type": "stream",
          "text": [
            "\t - Recall@20 epoch 16: 0.083984\n",
            "\t - MRR@20    epoch 16: 0.015413\n",
            "\n"
          ]
        },
        {
          "name": "stderr",
          "output_type": "stream",
          "text": [
            "Train:  96%|█████████▌| 2065/2157 [01:14<00:03, 27.58it/s, accuracy=0.0195, train_loss=6.05] \n",
            "Evaluation:   9%|▉         | 2/22 [00:00<00:07,  2.57it/s]\n"
          ]
        },
        {
          "name": "stdout",
          "output_type": "stream",
          "text": [
            "\t - Recall@20 epoch 17: 0.076172\n",
            "\t - MRR@20    epoch 17: 0.013875\n",
            "\n"
          ]
        },
        {
          "name": "stderr",
          "output_type": "stream",
          "text": [
            "Train:  96%|█████████▌| 2065/2157 [01:17<00:03, 26.67it/s, accuracy=0.0195, train_loss=6.1]  \n",
            "Evaluation:   9%|▉         | 2/22 [00:00<00:07,  2.56it/s]\n"
          ]
        },
        {
          "name": "stdout",
          "output_type": "stream",
          "text": [
            "\t - Recall@20 epoch 18: 0.076172\n",
            "\t - MRR@20    epoch 18: 0.013390\n",
            "\n"
          ]
        },
        {
          "name": "stderr",
          "output_type": "stream",
          "text": [
            "Train:  96%|█████████▌| 2065/2157 [01:12<00:03, 28.35it/s, accuracy=0.0195, train_loss=6.03] \n",
            "Evaluation:   9%|▉         | 2/22 [00:02<00:26,  1.35s/it]\n"
          ]
        },
        {
          "name": "stdout",
          "output_type": "stream",
          "text": [
            "\t - Recall@20 epoch 19: 0.078125\n",
            "\t - MRR@20    epoch 19: 0.013282\n",
            "\n"
          ]
        },
        {
          "name": "stderr",
          "output_type": "stream",
          "text": [
            "Train:  96%|█████████▌| 2065/2157 [01:15<00:03, 27.46it/s, accuracy=0.0352, train_loss=6.1]  \n",
            "Evaluation:   9%|▉         | 2/22 [00:02<00:29,  1.49s/it]\n"
          ]
        },
        {
          "name": "stdout",
          "output_type": "stream",
          "text": [
            "\t - Recall@20 epoch 20: 0.074219\n",
            "\t - MRR@20    epoch 20: 0.014090\n",
            "\n"
          ]
        },
        {
          "name": "stderr",
          "output_type": "stream",
          "text": [
            "Train:  96%|█████████▌| 2065/2157 [01:15<00:03, 27.42it/s, accuracy=0.0273, train_loss=6.05] \n",
            "Evaluation:   9%|▉         | 2/22 [00:02<00:29,  1.46s/it]\n"
          ]
        },
        {
          "name": "stdout",
          "output_type": "stream",
          "text": [
            "\t - Recall@20 epoch 21: 0.080078\n",
            "\t - MRR@20    epoch 21: 0.013749\n",
            "\n"
          ]
        },
        {
          "name": "stderr",
          "output_type": "stream",
          "text": [
            "Train:  96%|█████████▌| 2065/2157 [01:14<00:03, 27.90it/s, accuracy=0.0234, train_loss=6.04] \n",
            "Evaluation:   9%|▉         | 2/22 [00:02<00:27,  1.39s/it]\n"
          ]
        },
        {
          "name": "stdout",
          "output_type": "stream",
          "text": [
            "\t - Recall@20 epoch 22: 0.074219\n",
            "\t - MRR@20    epoch 22: 0.012555\n",
            "\n"
          ]
        },
        {
          "name": "stderr",
          "output_type": "stream",
          "text": [
            "Train:  96%|█████████▌| 2065/2157 [01:16<00:03, 27.16it/s, accuracy=0.0312, train_loss=6.03] \n",
            "Evaluation:   9%|▉         | 2/22 [00:03<00:30,  1.53s/it]\n"
          ]
        },
        {
          "name": "stdout",
          "output_type": "stream",
          "text": [
            "\t - Recall@20 epoch 23: 0.074219\n",
            "\t - MRR@20    epoch 23: 0.012645\n",
            "\n"
          ]
        },
        {
          "name": "stderr",
          "output_type": "stream",
          "text": [
            "Train:  96%|█████████▌| 2065/2157 [01:18<00:03, 26.29it/s, accuracy=0.0352, train_loss=6.05] \n",
            "Evaluation:   9%|▉         | 2/22 [00:00<00:08,  2.48it/s]\n"
          ]
        },
        {
          "name": "stdout",
          "output_type": "stream",
          "text": [
            "\t - Recall@20 epoch 24: 0.070312\n",
            "\t - MRR@20    epoch 24: 0.013706\n",
            "\n"
          ]
        },
        {
          "name": "stderr",
          "output_type": "stream",
          "text": [
            "Train:  96%|█████████▌| 2065/2157 [01:16<00:03, 27.08it/s, accuracy=0.0391, train_loss=6.07] \n",
            "Evaluation:   9%|▉         | 2/22 [00:02<00:29,  1.48s/it]\n"
          ]
        },
        {
          "name": "stdout",
          "output_type": "stream",
          "text": [
            "\t - Recall@20 epoch 25: 0.080078\n",
            "\t - MRR@20    epoch 25: 0.013627\n",
            "\n"
          ]
        },
        {
          "name": "stderr",
          "output_type": "stream",
          "text": [
            "Train:  96%|█████████▌| 2065/2157 [01:16<00:03, 27.10it/s, accuracy=0.0312, train_loss=6.03] \n",
            "Evaluation:   9%|▉         | 2/22 [00:02<00:27,  1.39s/it]\n"
          ]
        },
        {
          "name": "stdout",
          "output_type": "stream",
          "text": [
            "\t - Recall@20 epoch 26: 0.078125\n",
            "\t - MRR@20    epoch 26: 0.012734\n",
            "\n"
          ]
        },
        {
          "name": "stderr",
          "output_type": "stream",
          "text": [
            "Train:  96%|█████████▌| 2065/2157 [01:16<00:03, 27.00it/s, accuracy=0.0156, train_loss=6.06] \n",
            "Evaluation:   9%|▉         | 2/22 [00:00<00:08,  2.44it/s]\n"
          ]
        },
        {
          "name": "stdout",
          "output_type": "stream",
          "text": [
            "\t - Recall@20 epoch 27: 0.074219\n",
            "\t - MRR@20    epoch 27: 0.013594\n",
            "\n"
          ]
        },
        {
          "name": "stderr",
          "output_type": "stream",
          "text": [
            "Train:  96%|█████████▌| 2065/2157 [01:17<00:03, 26.47it/s, accuracy=0.0234, train_loss=6.07] \n",
            "Evaluation:   9%|▉         | 2/22 [00:03<00:30,  1.52s/it]\n"
          ]
        },
        {
          "name": "stdout",
          "output_type": "stream",
          "text": [
            "\t - Recall@20 epoch 28: 0.074219\n",
            "\t - MRR@20    epoch 28: 0.012578\n",
            "\n"
          ]
        },
        {
          "name": "stderr",
          "output_type": "stream",
          "text": [
            "Train:  96%|█████████▌| 2065/2157 [01:24<00:03, 24.49it/s, accuracy=0.0273, train_loss=6.06] \n",
            "Evaluation:   9%|▉         | 2/22 [00:00<00:08,  2.45it/s]\n"
          ]
        },
        {
          "name": "stdout",
          "output_type": "stream",
          "text": [
            "\t - Recall@20 epoch 29: 0.072266\n",
            "\t - MRR@20    epoch 29: 0.013552\n",
            "\n"
          ]
        },
        {
          "name": "stderr",
          "output_type": "stream",
          "text": [
            "Train:  96%|█████████▌| 2065/2157 [01:23<00:03, 24.67it/s, accuracy=0.0391, train_loss=6.04] \n",
            "Evaluation:   9%|▉         | 2/22 [00:03<00:30,  1.54s/it]"
          ]
        },
        {
          "name": "stdout",
          "output_type": "stream",
          "text": [
            "\t - Recall@20 epoch 30: 0.078125\n",
            "\t - MRR@20    epoch 30: 0.013085\n",
            "\n"
          ]
        },
        {
          "name": "stderr",
          "output_type": "stream",
          "text": [
            "\n"
          ]
        }
      ],
      "source": [
        "args = Args(tr, val, test, batch_size=256, hsz=100, drop_rate=0.3, lr=0.01, epochs=30, k=20)\n",
        "train_model(model, args)"
      ]
    },
    {
      "cell_type": "markdown",
      "source": [
        "### **🍃 07-2_2차 모델 학습 결과**"
      ],
      "metadata": {
        "id": "bBpluO1zws4s"
      },
      "id": "bBpluO1zws4s"
    },
    {
      "cell_type": "code",
      "execution_count": null,
      "id": "7c590b54",
      "metadata": {
        "id": "7c590b54",
        "outputId": "92b4fff3-5a0b-40b6-e010-727d193249c7"
      },
      "outputs": [
        {
          "name": "stderr",
          "output_type": "stream",
          "text": [
            "Evaluation:   6%|▌         | 1/17 [00:00<00:06,  2.33it/s]"
          ]
        },
        {
          "name": "stdout",
          "output_type": "stream",
          "text": [
            "\t - Recall@20: 0.070312\n",
            "\t - MRR@20: 0.014597\n",
            "\n"
          ]
        },
        {
          "name": "stderr",
          "output_type": "stream",
          "text": [
            "\n"
          ]
        }
      ],
      "source": [
        "test_model(model, args, test)"
      ]
    },
    {
      "cell_type": "markdown",
      "source": [
        "## **🌿 08_3차 학습**"
      ],
      "metadata": {
        "id": "SCraYCP-w9zX"
      },
      "id": "SCraYCP-w9zX"
    },
    {
      "cell_type": "markdown",
      "source": [
        "- **hidden size 변경**"
      ],
      "metadata": {
        "id": "B-7w65TKw5VO"
      },
      "id": "B-7w65TKw5VO"
    },
    {
      "cell_type": "markdown",
      "source": [
        "### **🍃 08-1_3차 모델 학습**"
      ],
      "metadata": {
        "id": "mT1hDoV9xBYS"
      },
      "id": "mT1hDoV9xBYS"
    },
    {
      "cell_type": "code",
      "execution_count": null,
      "id": "adc3490d",
      "metadata": {
        "id": "adc3490d",
        "outputId": "c2369b6a-d3ea-4c2a-d978-053518a12ebf"
      },
      "outputs": [
        {
          "name": "stderr",
          "output_type": "stream",
          "text": [
            "Train:  96%|█████████▌| 2065/2157 [01:26<00:03, 23.83it/s, accuracy=0.0273, train_loss=6.06] \n",
            "Evaluation:   9%|▉         | 2/22 [00:02<00:29,  1.46s/it]\n"
          ]
        },
        {
          "name": "stdout",
          "output_type": "stream",
          "text": [
            "\t - Recall@20 epoch 1: 0.076172\n",
            "\t - MRR@20    epoch 1: 0.013014\n",
            "\n"
          ]
        },
        {
          "name": "stderr",
          "output_type": "stream",
          "text": [
            "Train:  96%|█████████▌| 2065/2157 [01:21<00:03, 25.29it/s, accuracy=0.0234, train_loss=6.06] \n",
            "Evaluation:   9%|▉         | 2/22 [00:02<00:27,  1.40s/it]\n"
          ]
        },
        {
          "name": "stdout",
          "output_type": "stream",
          "text": [
            "\t - Recall@20 epoch 2: 0.072266\n",
            "\t - MRR@20    epoch 2: 0.012728\n",
            "\n"
          ]
        },
        {
          "name": "stderr",
          "output_type": "stream",
          "text": [
            "Train:  96%|█████████▌| 2065/2157 [01:24<00:03, 24.34it/s, accuracy=0.0273, train_loss=6.05] \n",
            "Evaluation:   9%|▉         | 2/22 [00:02<00:29,  1.46s/it]\n"
          ]
        },
        {
          "name": "stdout",
          "output_type": "stream",
          "text": [
            "\t - Recall@20 epoch 3: 0.074219\n",
            "\t - MRR@20    epoch 3: 0.012490\n",
            "\n"
          ]
        },
        {
          "name": "stderr",
          "output_type": "stream",
          "text": [
            "Train:  96%|█████████▌| 2065/2157 [01:23<00:03, 24.68it/s, accuracy=0.0469, train_loss=6.03] \n",
            "Evaluation:   9%|▉         | 2/22 [00:00<00:08,  2.43it/s]\n"
          ]
        },
        {
          "name": "stdout",
          "output_type": "stream",
          "text": [
            "\t - Recall@20 epoch 4: 0.074219\n",
            "\t - MRR@20    epoch 4: 0.012503\n",
            "\n"
          ]
        },
        {
          "name": "stderr",
          "output_type": "stream",
          "text": [
            "Train:  96%|█████████▌| 2065/2157 [01:25<00:03, 24.21it/s, accuracy=0.0352, train_loss=6.04] \n",
            "Evaluation:   9%|▉         | 2/22 [00:02<00:28,  1.41s/it]\n"
          ]
        },
        {
          "name": "stdout",
          "output_type": "stream",
          "text": [
            "\t - Recall@20 epoch 5: 0.074219\n",
            "\t - MRR@20    epoch 5: 0.012008\n",
            "\n"
          ]
        },
        {
          "name": "stderr",
          "output_type": "stream",
          "text": [
            "Train:  96%|█████████▌| 2065/2157 [01:23<00:03, 24.65it/s, accuracy=0.0508, train_loss=6.01] \n",
            "Evaluation:   9%|▉         | 2/22 [00:00<00:08,  2.38it/s]\n"
          ]
        },
        {
          "name": "stdout",
          "output_type": "stream",
          "text": [
            "\t - Recall@20 epoch 6: 0.076172\n",
            "\t - MRR@20    epoch 6: 0.013410\n",
            "\n"
          ]
        },
        {
          "name": "stderr",
          "output_type": "stream",
          "text": [
            "Train:  96%|█████████▌| 2065/2157 [01:26<00:03, 23.93it/s, accuracy=0.0391, train_loss=6.08] \n",
            "Evaluation:   9%|▉         | 2/22 [00:00<00:08,  2.40it/s]\n"
          ]
        },
        {
          "name": "stdout",
          "output_type": "stream",
          "text": [
            "\t - Recall@20 epoch 7: 0.072266\n",
            "\t - MRR@20    epoch 7: 0.012036\n",
            "\n"
          ]
        },
        {
          "name": "stderr",
          "output_type": "stream",
          "text": [
            "Train:  96%|█████████▌| 2065/2157 [01:26<00:03, 23.84it/s, accuracy=0.0469, train_loss=6.01] \n",
            "Evaluation:   9%|▉         | 2/22 [00:00<00:07,  2.51it/s]\n"
          ]
        },
        {
          "name": "stdout",
          "output_type": "stream",
          "text": [
            "\t - Recall@20 epoch 8: 0.078125\n",
            "\t - MRR@20    epoch 8: 0.012333\n",
            "\n"
          ]
        },
        {
          "name": "stderr",
          "output_type": "stream",
          "text": [
            "Train:  96%|█████████▌| 2065/2157 [01:26<00:03, 23.97it/s, accuracy=0.0352, train_loss=6.04] \n",
            "Evaluation:   9%|▉         | 2/22 [00:00<00:08,  2.32it/s]\n"
          ]
        },
        {
          "name": "stdout",
          "output_type": "stream",
          "text": [
            "\t - Recall@20 epoch 9: 0.074219\n",
            "\t - MRR@20    epoch 9: 0.013069\n",
            "\n"
          ]
        },
        {
          "name": "stderr",
          "output_type": "stream",
          "text": [
            "Train:  96%|█████████▌| 2065/2157 [01:27<00:03, 23.69it/s, accuracy=0.0391, train_loss=6.06] \n",
            "Evaluation:   9%|▉         | 2/22 [00:03<00:32,  1.61s/it]\n"
          ]
        },
        {
          "name": "stdout",
          "output_type": "stream",
          "text": [
            "\t - Recall@20 epoch 10: 0.072266\n",
            "\t - MRR@20    epoch 10: 0.012681\n",
            "\n"
          ]
        },
        {
          "name": "stderr",
          "output_type": "stream",
          "text": [
            "Train:  96%|█████████▌| 2065/2157 [01:22<00:03, 24.89it/s, accuracy=0.0547, train_loss=5.99] \n",
            "Evaluation:   9%|▉         | 2/22 [00:00<00:08,  2.48it/s]\n"
          ]
        },
        {
          "name": "stdout",
          "output_type": "stream",
          "text": [
            "\t - Recall@20 epoch 11: 0.072266\n",
            "\t - MRR@20    epoch 11: 0.011648\n",
            "\n"
          ]
        },
        {
          "name": "stderr",
          "output_type": "stream",
          "text": [
            "Train:  96%|█████████▌| 2065/2157 [01:33<00:04, 22.03it/s, accuracy=0.0547, train_loss=5.99] \n",
            "Evaluation:   9%|▉         | 2/22 [00:02<00:28,  1.42s/it]\n"
          ]
        },
        {
          "name": "stdout",
          "output_type": "stream",
          "text": [
            "\t - Recall@20 epoch 12: 0.070312\n",
            "\t - MRR@20    epoch 12: 0.011394\n",
            "\n"
          ]
        },
        {
          "name": "stderr",
          "output_type": "stream",
          "text": [
            "Train:  96%|█████████▌| 2065/2157 [01:28<00:03, 23.38it/s, accuracy=0.043, train_loss=6]     \n",
            "Evaluation:   9%|▉         | 2/22 [00:02<00:29,  1.46s/it]\n"
          ]
        },
        {
          "name": "stdout",
          "output_type": "stream",
          "text": [
            "\t - Recall@20 epoch 13: 0.070312\n",
            "\t - MRR@20    epoch 13: 0.011338\n",
            "\n"
          ]
        },
        {
          "name": "stderr",
          "output_type": "stream",
          "text": [
            "Train:  96%|█████████▌| 2065/2157 [01:27<00:03, 23.56it/s, accuracy=0.0469, train_loss=6.04] \n",
            "Evaluation:   9%|▉         | 2/22 [00:00<00:08,  2.46it/s]\n"
          ]
        },
        {
          "name": "stdout",
          "output_type": "stream",
          "text": [
            "\t - Recall@20 epoch 14: 0.070312\n",
            "\t - MRR@20    epoch 14: 0.011447\n",
            "\n"
          ]
        },
        {
          "name": "stderr",
          "output_type": "stream",
          "text": [
            "Train:  96%|█████████▌| 2065/2157 [01:34<00:04, 21.97it/s, accuracy=0.043, train_loss=6.05]  \n",
            "Evaluation:   9%|▉         | 2/22 [00:00<00:08,  2.49it/s]\n"
          ]
        },
        {
          "name": "stdout",
          "output_type": "stream",
          "text": [
            "\t - Recall@20 epoch 15: 0.070312\n",
            "\t - MRR@20    epoch 15: 0.011249\n",
            "\n"
          ]
        },
        {
          "name": "stderr",
          "output_type": "stream",
          "text": [
            "Train:  96%|█████████▌| 2065/2157 [01:21<00:03, 25.35it/s, accuracy=0.0195, train_loss=6.01] \n",
            "Evaluation:   9%|▉         | 2/22 [00:03<00:30,  1.53s/it]\n"
          ]
        },
        {
          "name": "stdout",
          "output_type": "stream",
          "text": [
            "\t - Recall@20 epoch 16: 0.070312\n",
            "\t - MRR@20    epoch 16: 0.012066\n",
            "\n"
          ]
        },
        {
          "name": "stderr",
          "output_type": "stream",
          "text": [
            "Train:  96%|█████████▌| 2065/2157 [01:24<00:03, 24.54it/s, accuracy=0.043, train_loss=5.99]  \n",
            "Evaluation:   9%|▉         | 2/22 [00:00<00:08,  2.35it/s]\n"
          ]
        },
        {
          "name": "stdout",
          "output_type": "stream",
          "text": [
            "\t - Recall@20 epoch 17: 0.074219\n",
            "\t - MRR@20    epoch 17: 0.011000\n",
            "\n"
          ]
        },
        {
          "name": "stderr",
          "output_type": "stream",
          "text": [
            "Train:  96%|█████████▌| 2065/2157 [01:26<00:03, 23.93it/s, accuracy=0.0508, train_loss=5.99] \n",
            "Evaluation:   9%|▉         | 2/22 [00:00<00:08,  2.44it/s]\n"
          ]
        },
        {
          "name": "stdout",
          "output_type": "stream",
          "text": [
            "\t - Recall@20 epoch 18: 0.072266\n",
            "\t - MRR@20    epoch 18: 0.010568\n",
            "\n"
          ]
        },
        {
          "name": "stderr",
          "output_type": "stream",
          "text": [
            "Train:  96%|█████████▌| 2065/2157 [01:27<00:03, 23.59it/s, accuracy=0.043, train_loss=6.05]  \n",
            "Evaluation:   9%|▉         | 2/22 [00:03<00:30,  1.50s/it]\n"
          ]
        },
        {
          "name": "stdout",
          "output_type": "stream",
          "text": [
            "\t - Recall@20 epoch 19: 0.074219\n",
            "\t - MRR@20    epoch 19: 0.010920\n",
            "\n"
          ]
        },
        {
          "name": "stderr",
          "output_type": "stream",
          "text": [
            "Train:  96%|█████████▌| 2065/2157 [01:22<00:03, 25.03it/s, accuracy=0.0352, train_loss=6.05] \n",
            "Evaluation:   9%|▉         | 2/22 [00:02<00:28,  1.44s/it]\n"
          ]
        },
        {
          "name": "stdout",
          "output_type": "stream",
          "text": [
            "\t - Recall@20 epoch 20: 0.072266\n",
            "\t - MRR@20    epoch 20: 0.011140\n",
            "\n"
          ]
        },
        {
          "name": "stderr",
          "output_type": "stream",
          "text": [
            "Train:  96%|█████████▌| 2065/2157 [01:22<00:03, 25.04it/s, accuracy=0.0195, train_loss=6.07] \n",
            "Evaluation:   9%|▉         | 2/22 [00:00<00:08,  2.45it/s]\n"
          ]
        },
        {
          "name": "stdout",
          "output_type": "stream",
          "text": [
            "\t - Recall@20 epoch 21: 0.070312\n",
            "\t - MRR@20    epoch 21: 0.010941\n",
            "\n"
          ]
        },
        {
          "name": "stderr",
          "output_type": "stream",
          "text": [
            "Train:  96%|█████████▌| 2065/2157 [01:25<00:03, 24.28it/s, accuracy=0.0469, train_loss=5.99] \n",
            "Evaluation:   9%|▉         | 2/22 [00:03<00:30,  1.54s/it]\n"
          ]
        },
        {
          "name": "stdout",
          "output_type": "stream",
          "text": [
            "\t - Recall@20 epoch 22: 0.078125\n",
            "\t - MRR@20    epoch 22: 0.011109\n",
            "\n"
          ]
        },
        {
          "name": "stderr",
          "output_type": "stream",
          "text": [
            "Train:  96%|█████████▌| 2065/2157 [01:22<00:03, 25.04it/s, accuracy=0.0312, train_loss=6.02] \n",
            "Evaluation:   9%|▉         | 2/22 [00:02<00:28,  1.43s/it]\n"
          ]
        },
        {
          "name": "stdout",
          "output_type": "stream",
          "text": [
            "\t - Recall@20 epoch 23: 0.074219\n",
            "\t - MRR@20    epoch 23: 0.010760\n",
            "\n"
          ]
        },
        {
          "name": "stderr",
          "output_type": "stream",
          "text": [
            "Train:  96%|█████████▌| 2065/2157 [01:27<00:03, 23.71it/s, accuracy=0.0312, train_loss=6]    \n",
            "Evaluation:   9%|▉         | 2/22 [00:00<00:08,  2.35it/s]\n"
          ]
        },
        {
          "name": "stdout",
          "output_type": "stream",
          "text": [
            "\t - Recall@20 epoch 24: 0.074219\n",
            "\t - MRR@20    epoch 24: 0.011422\n",
            "\n"
          ]
        },
        {
          "name": "stderr",
          "output_type": "stream",
          "text": [
            "Train:  96%|█████████▌| 2065/2157 [01:25<00:03, 24.03it/s, accuracy=0.0352, train_loss=5.99] \n",
            "Evaluation:   9%|▉         | 2/22 [00:00<00:08,  2.31it/s]\n"
          ]
        },
        {
          "name": "stdout",
          "output_type": "stream",
          "text": [
            "\t - Recall@20 epoch 25: 0.076172\n",
            "\t - MRR@20    epoch 25: 0.010900\n",
            "\n"
          ]
        },
        {
          "name": "stderr",
          "output_type": "stream",
          "text": [
            "Train:  96%|█████████▌| 2065/2157 [01:28<00:03, 23.45it/s, accuracy=0.043, train_loss=6.01]  \n",
            "Evaluation:   9%|▉         | 2/22 [00:03<00:30,  1.54s/it]\n"
          ]
        },
        {
          "name": "stdout",
          "output_type": "stream",
          "text": [
            "\t - Recall@20 epoch 26: 0.074219\n",
            "\t - MRR@20    epoch 26: 0.010771\n",
            "\n"
          ]
        },
        {
          "name": "stderr",
          "output_type": "stream",
          "text": [
            "Train:  96%|█████████▌| 2065/2157 [01:26<00:03, 23.74it/s, accuracy=0.0469, train_loss=6.02] \n",
            "Evaluation:   9%|▉         | 2/22 [00:00<00:08,  2.42it/s]\n"
          ]
        },
        {
          "name": "stdout",
          "output_type": "stream",
          "text": [
            "\t - Recall@20 epoch 27: 0.078125\n",
            "\t - MRR@20    epoch 27: 0.010936\n",
            "\n"
          ]
        },
        {
          "name": "stderr",
          "output_type": "stream",
          "text": [
            "Train:  96%|█████████▌| 2065/2157 [01:26<00:03, 23.91it/s, accuracy=0.0352, train_loss=6.03] \n",
            "Evaluation:   9%|▉         | 2/22 [00:00<00:08,  2.32it/s]\n"
          ]
        },
        {
          "name": "stdout",
          "output_type": "stream",
          "text": [
            "\t - Recall@20 epoch 28: 0.074219\n",
            "\t - MRR@20    epoch 28: 0.010906\n",
            "\n"
          ]
        },
        {
          "name": "stderr",
          "output_type": "stream",
          "text": [
            "Train:  96%|█████████▌| 2065/2157 [01:24<00:03, 24.58it/s, accuracy=0.0312, train_loss=6.05] \n",
            "Evaluation:   9%|▉         | 2/22 [00:00<00:08,  2.43it/s]\n"
          ]
        },
        {
          "name": "stdout",
          "output_type": "stream",
          "text": [
            "\t - Recall@20 epoch 29: 0.074219\n",
            "\t - MRR@20    epoch 29: 0.010466\n",
            "\n"
          ]
        },
        {
          "name": "stderr",
          "output_type": "stream",
          "text": [
            "Train:  96%|█████████▌| 2065/2157 [01:26<00:03, 23.80it/s, accuracy=0.043, train_loss=6.04]  \n",
            "Evaluation:   9%|▉         | 2/22 [00:03<00:31,  1.55s/it]"
          ]
        },
        {
          "name": "stdout",
          "output_type": "stream",
          "text": [
            "\t - Recall@20 epoch 30: 0.076172\n",
            "\t - MRR@20    epoch 30: 0.010830\n",
            "\n"
          ]
        },
        {
          "name": "stderr",
          "output_type": "stream",
          "text": [
            "\n"
          ]
        }
      ],
      "source": [
        "args = Args(tr, val, test, batch_size=256, hsz=128, drop_rate=0.1, lr=0.1, epochs=30, k=20)\n",
        "train_model(model, args)"
      ]
    },
    {
      "cell_type": "markdown",
      "source": [
        "### **🍃 08-2_3차 모델 학습 결과**"
      ],
      "metadata": {
        "id": "ukcFxjcExEnV"
      },
      "id": "ukcFxjcExEnV"
    },
    {
      "cell_type": "code",
      "execution_count": null,
      "id": "4c91c36e",
      "metadata": {
        "id": "4c91c36e",
        "outputId": "0fb7ced0-fe90-4f6a-f363-321092ee6c16"
      },
      "outputs": [
        {
          "name": "stderr",
          "output_type": "stream",
          "text": [
            "Evaluation:   6%|▌         | 1/17 [00:00<00:06,  2.56it/s]"
          ]
        },
        {
          "name": "stdout",
          "output_type": "stream",
          "text": [
            "\t - Recall@20: 0.070312\n",
            "\t - MRR@20: 0.016976\n",
            "\n"
          ]
        },
        {
          "name": "stderr",
          "output_type": "stream",
          "text": [
            "\n"
          ]
        }
      ],
      "source": [
        "test_model(model, args, test)"
      ]
    },
    {
      "cell_type": "markdown",
      "source": [
        "## **🌿 09_4차 학습**"
      ],
      "metadata": {
        "id": "dO9Orlv2xJrt"
      },
      "id": "dO9Orlv2xJrt"
    },
    {
      "cell_type": "markdown",
      "source": [
        "- **dropout 변경**"
      ],
      "metadata": {
        "id": "eLMaB_zrxLrp"
      },
      "id": "eLMaB_zrxLrp"
    },
    {
      "cell_type": "markdown",
      "source": [
        "### **🍃 09-1_4차 모델 학습**"
      ],
      "metadata": {
        "id": "LzLHF0ApxOZr"
      },
      "id": "LzLHF0ApxOZr"
    },
    {
      "cell_type": "code",
      "execution_count": null,
      "id": "e7f11011",
      "metadata": {
        "id": "e7f11011",
        "outputId": "a47aeafe-0a80-4188-d20c-638a02b2e7ac"
      },
      "outputs": [
        {
          "name": "stderr",
          "output_type": "stream",
          "text": [
            "Train:  96%|█████████▌| 2065/2157 [01:28<00:03, 23.30it/s, accuracy=0.0352, train_loss=5.99] \n",
            "Evaluation:   9%|▉         | 2/22 [00:03<00:31,  1.59s/it]\n"
          ]
        },
        {
          "name": "stdout",
          "output_type": "stream",
          "text": [
            "\t - Recall@20 epoch 1: 0.074219\n",
            "\t - MRR@20    epoch 1: 0.010647\n",
            "\n"
          ]
        },
        {
          "name": "stderr",
          "output_type": "stream",
          "text": [
            "Train:  96%|█████████▌| 2065/2157 [01:19<00:03, 25.95it/s, accuracy=0.0391, train_loss=6.03] \n",
            "Evaluation:   9%|▉         | 2/22 [00:03<00:30,  1.52s/it]\n"
          ]
        },
        {
          "name": "stdout",
          "output_type": "stream",
          "text": [
            "\t - Recall@20 epoch 2: 0.074219\n",
            "\t - MRR@20    epoch 2: 0.010553\n",
            "\n"
          ]
        },
        {
          "name": "stderr",
          "output_type": "stream",
          "text": [
            "Train:  96%|█████████▌| 2065/2157 [01:13<00:03, 28.23it/s, accuracy=0.043, train_loss=6.01]  \n",
            "Evaluation:   9%|▉         | 2/22 [00:00<00:07,  2.61it/s]\n"
          ]
        },
        {
          "name": "stdout",
          "output_type": "stream",
          "text": [
            "\t - Recall@20 epoch 3: 0.078125\n",
            "\t - MRR@20    epoch 3: 0.010960\n",
            "\n"
          ]
        },
        {
          "name": "stderr",
          "output_type": "stream",
          "text": [
            "Train:  96%|█████████▌| 2065/2157 [01:15<00:03, 27.51it/s, accuracy=0.043, train_loss=6.08]  \n",
            "Evaluation:   9%|▉         | 2/22 [00:00<00:07,  2.56it/s]\n"
          ]
        },
        {
          "name": "stdout",
          "output_type": "stream",
          "text": [
            "\t - Recall@20 epoch 4: 0.068359\n",
            "\t - MRR@20    epoch 4: 0.010544\n",
            "\n"
          ]
        },
        {
          "name": "stderr",
          "output_type": "stream",
          "text": [
            "Train:  96%|█████████▌| 2065/2157 [01:12<00:03, 28.30it/s, accuracy=0.043, train_loss=5.99]  \n",
            "Evaluation:   9%|▉         | 2/22 [00:00<00:07,  2.52it/s]\n"
          ]
        },
        {
          "name": "stdout",
          "output_type": "stream",
          "text": [
            "\t - Recall@20 epoch 5: 0.070312\n",
            "\t - MRR@20    epoch 5: 0.010425\n",
            "\n"
          ]
        },
        {
          "name": "stderr",
          "output_type": "stream",
          "text": [
            "Train:  96%|█████████▌| 2065/2157 [01:14<00:03, 27.54it/s, accuracy=0.0508, train_loss=6.03] \n",
            "Evaluation:   9%|▉         | 2/22 [00:00<00:07,  2.61it/s]\n"
          ]
        },
        {
          "name": "stdout",
          "output_type": "stream",
          "text": [
            "\t - Recall@20 epoch 6: 0.076172\n",
            "\t - MRR@20    epoch 6: 0.010914\n",
            "\n"
          ]
        },
        {
          "name": "stderr",
          "output_type": "stream",
          "text": [
            "Train:  96%|█████████▌| 2065/2157 [01:13<00:03, 28.13it/s, accuracy=0.0391, train_loss=6]    \n",
            "Evaluation:   9%|▉         | 2/22 [00:00<00:08,  2.39it/s]\n"
          ]
        },
        {
          "name": "stdout",
          "output_type": "stream",
          "text": [
            "\t - Recall@20 epoch 7: 0.076172\n",
            "\t - MRR@20    epoch 7: 0.011301\n",
            "\n"
          ]
        },
        {
          "name": "stderr",
          "output_type": "stream",
          "text": [
            "Train:  96%|█████████▌| 2065/2157 [01:15<00:03, 27.22it/s, accuracy=0.0391, train_loss=6.02]\n",
            "Evaluation:   9%|▉         | 2/22 [00:00<00:07,  2.55it/s]\n"
          ]
        },
        {
          "name": "stdout",
          "output_type": "stream",
          "text": [
            "\t - Recall@20 epoch 8: 0.076172\n",
            "\t - MRR@20    epoch 8: 0.011179\n",
            "\n"
          ]
        },
        {
          "name": "stderr",
          "output_type": "stream",
          "text": [
            "Train:  96%|█████████▌| 2065/2157 [01:13<00:03, 28.08it/s, accuracy=0.0391, train_loss=5.98] \n",
            "Evaluation:   9%|▉         | 2/22 [00:00<00:08,  2.47it/s]\n"
          ]
        },
        {
          "name": "stdout",
          "output_type": "stream",
          "text": [
            "\t - Recall@20 epoch 9: 0.078125\n",
            "\t - MRR@20    epoch 9: 0.011509\n",
            "\n"
          ]
        },
        {
          "name": "stderr",
          "output_type": "stream",
          "text": [
            "Train:  96%|█████████▌| 2065/2157 [01:15<00:03, 27.18it/s, accuracy=0.0391, train_loss=6.06] \n",
            "Evaluation:   9%|▉         | 2/22 [00:02<00:28,  1.42s/it]\n"
          ]
        },
        {
          "name": "stdout",
          "output_type": "stream",
          "text": [
            "\t - Recall@20 epoch 10: 0.082031\n",
            "\t - MRR@20    epoch 10: 0.011794\n",
            "\n"
          ]
        },
        {
          "name": "stderr",
          "output_type": "stream",
          "text": [
            "Train:  96%|█████████▌| 2065/2157 [01:16<00:03, 27.16it/s, accuracy=0.0312, train_loss=6.05] \n",
            "Evaluation:   9%|▉         | 2/22 [00:00<00:09,  2.21it/s]\n"
          ]
        },
        {
          "name": "stdout",
          "output_type": "stream",
          "text": [
            "\t - Recall@20 epoch 11: 0.083984\n",
            "\t - MRR@20    epoch 11: 0.011886\n",
            "\n"
          ]
        },
        {
          "name": "stderr",
          "output_type": "stream",
          "text": [
            "Train:  96%|█████████▌| 2065/2157 [01:15<00:03, 27.29it/s, accuracy=0.0273, train_loss=5.96] \n",
            "Evaluation:   9%|▉         | 2/22 [00:02<00:29,  1.49s/it]\n"
          ]
        },
        {
          "name": "stdout",
          "output_type": "stream",
          "text": [
            "\t - Recall@20 epoch 12: 0.080078\n",
            "\t - MRR@20    epoch 12: 0.011661\n",
            "\n"
          ]
        },
        {
          "name": "stderr",
          "output_type": "stream",
          "text": [
            "Train:  96%|█████████▌| 2065/2157 [01:14<00:03, 27.86it/s, accuracy=0.0195, train_loss=6.07] \n",
            "Evaluation:   9%|▉         | 2/22 [00:00<00:07,  2.64it/s]\n"
          ]
        },
        {
          "name": "stdout",
          "output_type": "stream",
          "text": [
            "\t - Recall@20 epoch 13: 0.080078\n",
            "\t - MRR@20    epoch 13: 0.011607\n",
            "\n"
          ]
        },
        {
          "name": "stderr",
          "output_type": "stream",
          "text": [
            "Train:  96%|█████████▌| 2065/2157 [01:16<00:03, 27.05it/s, accuracy=0.0352, train_loss=6.01] \n",
            "Evaluation:   9%|▉         | 2/22 [00:00<00:07,  2.55it/s]\n"
          ]
        },
        {
          "name": "stdout",
          "output_type": "stream",
          "text": [
            "\t - Recall@20 epoch 14: 0.083984\n",
            "\t - MRR@20    epoch 14: 0.011848\n",
            "\n"
          ]
        },
        {
          "name": "stderr",
          "output_type": "stream",
          "text": [
            "Train:  96%|█████████▌| 2065/2157 [01:18<00:03, 26.28it/s, accuracy=0.0352, train_loss=6.06] \n",
            "Evaluation:   9%|▉         | 2/22 [00:00<00:07,  2.50it/s]\n"
          ]
        },
        {
          "name": "stdout",
          "output_type": "stream",
          "text": [
            "\t - Recall@20 epoch 15: 0.082031\n",
            "\t - MRR@20    epoch 15: 0.012064\n",
            "\n"
          ]
        },
        {
          "name": "stderr",
          "output_type": "stream",
          "text": [
            "Train:  96%|█████████▌| 2065/2157 [01:16<00:03, 27.17it/s, accuracy=0.0352, train_loss=6.04] \n",
            "Evaluation:   9%|▉         | 2/22 [00:02<00:29,  1.48s/it]\n"
          ]
        },
        {
          "name": "stdout",
          "output_type": "stream",
          "text": [
            "\t - Recall@20 epoch 16: 0.083984\n",
            "\t - MRR@20    epoch 16: 0.011726\n",
            "\n"
          ]
        },
        {
          "name": "stderr",
          "output_type": "stream",
          "text": [
            "Train:  96%|█████████▌| 2065/2157 [01:13<00:03, 28.02it/s, accuracy=0.0352, train_loss=6.05] \n",
            "Evaluation:   9%|▉         | 2/22 [00:02<00:27,  1.40s/it]\n"
          ]
        },
        {
          "name": "stdout",
          "output_type": "stream",
          "text": [
            "\t - Recall@20 epoch 17: 0.080078\n",
            "\t - MRR@20    epoch 17: 0.011912\n",
            "\n"
          ]
        },
        {
          "name": "stderr",
          "output_type": "stream",
          "text": [
            "Train:  96%|█████████▌| 2065/2157 [01:16<00:03, 27.05it/s, accuracy=0.0352, train_loss=6.07] \n",
            "Evaluation:   9%|▉         | 2/22 [00:00<00:07,  2.60it/s]\n"
          ]
        },
        {
          "name": "stdout",
          "output_type": "stream",
          "text": [
            "\t - Recall@20 epoch 18: 0.083984\n",
            "\t - MRR@20    epoch 18: 0.012691\n",
            "\n"
          ]
        },
        {
          "name": "stderr",
          "output_type": "stream",
          "text": [
            "Train:  96%|█████████▌| 2065/2157 [01:15<00:03, 27.30it/s, accuracy=0.0547, train_loss=6.05] \n",
            "Evaluation:   9%|▉         | 2/22 [00:03<00:33,  1.69s/it]\n"
          ]
        },
        {
          "name": "stdout",
          "output_type": "stream",
          "text": [
            "\t - Recall@20 epoch 19: 0.080078\n",
            "\t - MRR@20    epoch 19: 0.011911\n",
            "\n"
          ]
        },
        {
          "name": "stderr",
          "output_type": "stream",
          "text": [
            "Train:  96%|█████████▌| 2065/2157 [01:13<00:03, 27.96it/s, accuracy=0.0469, train_loss=6.01] \n",
            "Evaluation:   9%|▉         | 2/22 [00:02<00:27,  1.40s/it]\n"
          ]
        },
        {
          "name": "stdout",
          "output_type": "stream",
          "text": [
            "\t - Recall@20 epoch 20: 0.078125\n",
            "\t - MRR@20    epoch 20: 0.012287\n",
            "\n"
          ]
        },
        {
          "name": "stderr",
          "output_type": "stream",
          "text": [
            "Train:  96%|█████████▌| 2065/2157 [01:13<00:03, 27.99it/s, accuracy=0.0391, train_loss=6]    \n",
            "Evaluation:   9%|▉         | 2/22 [00:00<00:07,  2.59it/s]\n"
          ]
        },
        {
          "name": "stdout",
          "output_type": "stream",
          "text": [
            "\t - Recall@20 epoch 21: 0.080078\n",
            "\t - MRR@20    epoch 21: 0.012162\n",
            "\n"
          ]
        },
        {
          "name": "stderr",
          "output_type": "stream",
          "text": [
            "Train:  96%|█████████▌| 2065/2157 [01:13<00:03, 28.08it/s, accuracy=0.0508, train_loss=5.99] \n",
            "Evaluation:   9%|▉         | 2/22 [00:00<00:07,  2.64it/s]\n"
          ]
        },
        {
          "name": "stdout",
          "output_type": "stream",
          "text": [
            "\t - Recall@20 epoch 22: 0.080078\n",
            "\t - MRR@20    epoch 22: 0.012286\n",
            "\n"
          ]
        },
        {
          "name": "stderr",
          "output_type": "stream",
          "text": [
            "Train:  96%|█████████▌| 2065/2157 [01:16<00:03, 27.09it/s, accuracy=0.0547, train_loss=6.02]\n",
            "Evaluation:   9%|▉         | 2/22 [00:02<00:28,  1.43s/it]\n"
          ]
        },
        {
          "name": "stdout",
          "output_type": "stream",
          "text": [
            "\t - Recall@20 epoch 23: 0.080078\n",
            "\t - MRR@20    epoch 23: 0.012513\n",
            "\n"
          ]
        },
        {
          "name": "stderr",
          "output_type": "stream",
          "text": [
            "Train:  96%|█████████▌| 2065/2157 [01:14<00:03, 27.55it/s, accuracy=0.0469, train_loss=6.05] \n",
            "Evaluation:   9%|▉         | 2/22 [00:03<00:30,  1.53s/it]\n"
          ]
        },
        {
          "name": "stdout",
          "output_type": "stream",
          "text": [
            "\t - Recall@20 epoch 24: 0.072266\n",
            "\t - MRR@20    epoch 24: 0.011719\n",
            "\n"
          ]
        },
        {
          "name": "stderr",
          "output_type": "stream",
          "text": [
            "Train:  96%|█████████▌| 2065/2157 [01:19<00:03, 26.14it/s, accuracy=0.0312, train_loss=6]    \n",
            "Evaluation:   9%|▉         | 2/22 [00:00<00:07,  2.65it/s]\n"
          ]
        },
        {
          "name": "stdout",
          "output_type": "stream",
          "text": [
            "\t - Recall@20 epoch 25: 0.076172\n",
            "\t - MRR@20    epoch 25: 0.012464\n",
            "\n"
          ]
        },
        {
          "name": "stderr",
          "output_type": "stream",
          "text": [
            "Train:  96%|█████████▌| 2065/2157 [01:15<00:03, 27.20it/s, accuracy=0.0352, train_loss=6.05] \n",
            "Evaluation:   9%|▉         | 2/22 [00:00<00:08,  2.43it/s]\n"
          ]
        },
        {
          "name": "stdout",
          "output_type": "stream",
          "text": [
            "\t - Recall@20 epoch 26: 0.078125\n",
            "\t - MRR@20    epoch 26: 0.012405\n",
            "\n"
          ]
        },
        {
          "name": "stderr",
          "output_type": "stream",
          "text": [
            "Train:  96%|█████████▌| 2065/2157 [01:17<00:03, 26.53it/s, accuracy=0.0547, train_loss=6.02] \n",
            "Evaluation:   9%|▉         | 2/22 [00:00<00:07,  2.55it/s]\n"
          ]
        },
        {
          "name": "stdout",
          "output_type": "stream",
          "text": [
            "\t - Recall@20 epoch 27: 0.072266\n",
            "\t - MRR@20    epoch 27: 0.012040\n",
            "\n"
          ]
        },
        {
          "name": "stderr",
          "output_type": "stream",
          "text": [
            "Train:  96%|█████████▌| 2065/2157 [01:16<00:03, 27.16it/s, accuracy=0.0391, train_loss=6.02] \n",
            "Evaluation:   9%|▉         | 2/22 [00:00<00:07,  2.51it/s]\n"
          ]
        },
        {
          "name": "stdout",
          "output_type": "stream",
          "text": [
            "\t - Recall@20 epoch 28: 0.078125\n",
            "\t - MRR@20    epoch 28: 0.012392\n",
            "\n"
          ]
        },
        {
          "name": "stderr",
          "output_type": "stream",
          "text": [
            "Train:  96%|█████████▌| 2065/2157 [01:19<00:03, 26.09it/s, accuracy=0.0273, train_loss=6.02] \n",
            "Evaluation:   9%|▉         | 2/22 [00:00<00:07,  2.60it/s]\n"
          ]
        },
        {
          "name": "stdout",
          "output_type": "stream",
          "text": [
            "\t - Recall@20 epoch 29: 0.074219\n",
            "\t - MRR@20    epoch 29: 0.012340\n",
            "\n"
          ]
        },
        {
          "name": "stderr",
          "output_type": "stream",
          "text": [
            "Train:  96%|█████████▌| 2065/2157 [01:15<00:03, 27.19it/s, accuracy=0.043, train_loss=6.01]  \n",
            "Evaluation:   9%|▉         | 2/22 [00:00<00:08,  2.48it/s]"
          ]
        },
        {
          "name": "stdout",
          "output_type": "stream",
          "text": [
            "\t - Recall@20 epoch 30: 0.076172\n",
            "\t - MRR@20    epoch 30: 0.012691\n",
            "\n"
          ]
        },
        {
          "name": "stderr",
          "output_type": "stream",
          "text": [
            "\n"
          ]
        }
      ],
      "source": [
        "args = Args(tr, val, test, batch_size=256, hsz=100, drop_rate=0.3, lr=0.1, epochs=30, k=20)\n",
        "train_model(model, args)"
      ]
    },
    {
      "cell_type": "markdown",
      "source": [
        "### **🍃 08-2_4차 모델 학습 결과**"
      ],
      "metadata": {
        "id": "1EcVBI1qxR7c"
      },
      "id": "1EcVBI1qxR7c"
    },
    {
      "cell_type": "code",
      "execution_count": null,
      "id": "7366aefe",
      "metadata": {
        "id": "7366aefe",
        "outputId": "730d0ecb-6248-40bd-ab61-b212087345e3"
      },
      "outputs": [
        {
          "name": "stderr",
          "output_type": "stream",
          "text": [
            "Evaluation:   6%|▌         | 1/17 [00:02<00:40,  2.56s/it]"
          ]
        },
        {
          "name": "stdout",
          "output_type": "stream",
          "text": [
            "\t - Recall@20: 0.066406\n",
            "\t - MRR@20: 0.015323\n",
            "\n"
          ]
        },
        {
          "name": "stderr",
          "output_type": "stream",
          "text": [
            "\n"
          ]
        }
      ],
      "source": [
        "test_model(model, args, test)"
      ]
    },
    {
      "cell_type": "markdown",
      "source": [
        "## **🌿 10_결론**"
      ],
      "metadata": {
        "id": "rKk4FY8cxrc5"
      },
      "id": "rKk4FY8cxrc5"
    },
    {
      "cell_type": "markdown",
      "source": [
        "**| --Recall-- | --MRR--- | 모델 변화**   \n",
        "\n",
        "| 0.066406 | 0.012386 | **기본 모델**  \n",
        "| 0.070312 | 0.014597 | **Learning rate 변경 (0.1 > 0.01)**  \n",
        "| 0.070312 | 0.016976 | **hidden size 변경 (100 > 128)**   \n",
        "| 0.066406 | 0.015323 | **dropout 변경 (0.1 > 0.3)**  \n"
      ],
      "metadata": {
        "id": "lnXpsDDFxdQ0"
      },
      "id": "lnXpsDDFxdQ0"
    },
    {
      "cell_type": "markdown",
      "source": [
        "모델 학습을 진행한 결과 유의미한 차이는 없지만 hidden size를 변경한 경우 recall 0.070312, MRR 0.016976으로 가장 높은 모습을 보여 주었다."
      ],
      "metadata": {
        "id": "fAu1GTct1M-2"
      },
      "id": "fAu1GTct1M-2"
    },
    {
      "cell_type": "markdown",
      "source": [
        "<hr>"
      ],
      "metadata": {
        "id": "02m1_7Db2X0-"
      },
      "id": "02m1_7Db2X0-"
    }
  ],
  "metadata": {
    "kernelspec": {
      "display_name": "Python 3 (ipykernel)",
      "language": "python",
      "name": "python3"
    },
    "language_info": {
      "codemirror_mode": {
        "name": "ipython",
        "version": 3
      },
      "file_extension": ".py",
      "mimetype": "text/x-python",
      "name": "python",
      "nbconvert_exporter": "python",
      "pygments_lexer": "ipython3",
      "version": "3.9.0"
    },
    "colab": {
      "name": "[E-17]exploration.ipynb",
      "provenance": [],
      "collapsed_sections": [
        "87uFBfW9YOsE",
        "g2zK9BAAYZYT",
        "0gJNacU1YbsT",
        "FRI7CsKqYdan",
        "ICX3XhzzaAsw",
        "i1i07kBOaBl1",
        "i9eX4so_iV7j",
        "wsfRJjseieiy",
        "o55QtWeeinXP",
        "3bj2CvyxjeqD",
        "S8u_nSRgjykJ",
        "b1BkTyRrkyAM",
        "jeZucfQcl2Ra",
        "35isVVVjp90g",
        "Nnggbo0IqEaV",
        "2NhVzHeGqIdA",
        "CVH6s5RMqayV",
        "2tQy6JNkqvXb",
        "eJtdq0BPrC6U",
        "Au9kc0rQrTzL",
        "EerhLILesO6H",
        "PJIUeXA6tLH0",
        "kBaEYaZDtc5e",
        "XCsGtSOGtiGx",
        "gOTPCpeqtnFT",
        "go55EIQ0uTjG",
        "ly9hYRHnzd1o",
        "r_a1XCUFzgFL",
        "ryaOkOZ1zu1p",
        "uTB1Wgqjz2L6",
        "jdwZ7X3V0Clr",
        "oLhKfz0WvG4u",
        "l7baXfDnvY3I",
        "CnH_VxHqvfLE",
        "WecllZ4Kwk6b",
        "buJu85s_wg0W",
        "bBpluO1zws4s",
        "SCraYCP-w9zX",
        "mT1hDoV9xBYS",
        "ukcFxjcExEnV",
        "dO9Orlv2xJrt",
        "LzLHF0ApxOZr",
        "1EcVBI1qxR7c",
        "rKk4FY8cxrc5"
      ],
      "include_colab_link": true
    }
  },
  "nbformat": 4,
  "nbformat_minor": 5
}