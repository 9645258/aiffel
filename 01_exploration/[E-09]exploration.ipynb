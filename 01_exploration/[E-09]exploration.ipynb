{
  "nbformat": 4,
  "nbformat_minor": 0,
  "metadata": {
    "colab": {
      "name": "[E-09]exploration.ipynb",
      "provenance": [],
      "collapsed_sections": [
        "QVkwoRLa97eu",
        "knBt2uzW9oag",
        "6zozJIMBOs6p",
        "g_Xze5plPo1L",
        "qd34pLOWPwHr",
        "cDhjKyyAP4fa",
        "1BGYuDwSQynK",
        "effBlN38Bm6X",
        "wVWB1m-eCRIJ",
        "Hmmp0b8i_Vg3",
        "jrPgJdKnBKVE",
        "LtF_P__zBg0h",
        "zBt7hnJ8BswA",
        "aRxcPk62Cgos",
        "1aMMr1AhDeDm",
        "CTnjrwthDt3C",
        "FUNBd1rOEHsU",
        "e6MbX08wE0IM",
        "jU6a0DtAE8K4",
        "wPn4E7xAHBY4",
        "RXvKvOnOHIcz",
        "smGHEiARHNIX",
        "p6jx7seLHk_T",
        "ST3R252nTb67",
        "vuZac0zQTnEP",
        "jtLTQdnuH1aG",
        "OPKyT_YrTv6i",
        "oUnxABMNTrg6",
        "Ymo_SRcRT3xD",
        "g8zr2FqhUUMl",
        "_5yaUcYfUN-F",
        "9UiY2ZJxYHPf",
        "n3kTz1oHYIw4",
        "TorWg60HZFH7",
        "2Gn6SBat89vz",
        "Hjx5ekbX9Bxe",
        "E1bMnGRy9GN_"
      ],
      "machine_shape": "hm",
      "authorship_tag": "ABX9TyPFrTunWTyrAdtbgvX8ZV0u",
      "include_colab_link": true
    },
    "kernelspec": {
      "name": "python3",
      "display_name": "Python 3"
    },
    "language_info": {
      "name": "python"
    },
    "accelerator": "TPU"
  },
  "cells": [
    {
      "cell_type": "markdown",
      "metadata": {
        "id": "view-in-github",
        "colab_type": "text"
      },
      "source": [
        "<a href=\"https://colab.research.google.com/github/9645258/aiffel/blob/main/01_exploration/%5BE-09%5Dexploration.ipynb\" target=\"_parent\"><img src=\"https://colab.research.google.com/assets/colab-badge.svg\" alt=\"Open In Colab\"/></a>"
      ]
    },
    {
      "cell_type": "markdown",
      "source": [
        "# **🎄 EXPLORATION 09**"
      ],
      "metadata": {
        "id": "QVkwoRLa97eu"
      }
    },
    {
      "cell_type": "markdown",
      "source": [
        "- **🌲 EXPLORATION 09-1 : 네이버 영화리뷰 감성분석 도전**  \n",
        "    - **🌿 01_데이터 준비**  \n",
        "        - **🍃 01-1_필요 라이브러리 다운**  \n",
        "        - **🍃 01-2_필요 라이브러리 import**  \n",
        "        - **🍃 01-3_필요 데이터 import**  \n",
        "    - **🌿 02_데이터로더 구성**  \n",
        "    - **🌿 03_모델 구성을 위한 데이터 분석 및 가공**  \n",
        "    - **🌿 04_모델 구성 및 validation set 구성**  \n",
        "        - **🍃 04-1_Train, val data 분리**  \n",
        "        - **🍃 04-2_세가지 모델 subclassing 선언**  \n",
        "        - **🍃 04-3_세가지 모델 선언**  \n",
        "    - **🌿 05_모델 훈련 개시 및  Loss, Accuracy 그래프 시각화**  \n",
        "        - **🍃 05-1_lstm**  \n",
        "        - **🍃 05-2_conv1d**  \n",
        "        - **🍃 05-3_gmp**  \n",
        "    - **🌿 06_학습된 Embedding 레이어 분석**  \n",
        "        - **🍃 06-1_학습된 Embedding 파라미터**  \n",
        "        - **🍃 06-2_단어 유사도 확인**  \n",
        "    - **🌿 07_한국어 Word2Vec 임베딩 활용하여 성능 개선**  \n",
        "        - **🍃 07-1_Embedding 파라미터 import**  \n",
        "        - **🍃 07-2_단어 유사도 확인**  \n",
        "        - **🍃 07-3_model에 사용할 embedding layer**  \n",
        "        - **🍃 07-4_subclassing을 활용한 word2vec을 embedding하는 모델 제작**  \n",
        "        - **🍃 07-5_세가지 모델 선언**  \n",
        "        - **🍃 07-6_lstm**  \n",
        "        - **🍃 07-7_conv1d**  \n",
        "        - **🍃 07-8_gmp**  \n",
        "    - **🌿 08_결론**  \n",
      ],
      "metadata": {
        "id": "FGzEty9xW31v"
      }
    },
    {
      "cell_type": "markdown",
      "source": [
        "# **🌲 EXPLORATION 09-1 : 네이버 영화리뷰 감성분석 도전**"
      ],
      "metadata": {
        "id": "knBt2uzW9oag"
      }
    },
    {
      "cell_type": "markdown",
      "source": [
        "## **🌿 01_데이터 준비**"
      ],
      "metadata": {
        "id": "6zozJIMBOs6p"
      }
    },
    {
      "cell_type": "markdown",
      "source": [
        "### **🍃 01-1_필요 라이브러리 다운**"
      ],
      "metadata": {
        "id": "g_Xze5plPo1L"
      }
    },
    {
      "cell_type": "markdown",
      "source": [
        "- **os** 운영체제"
      ],
      "metadata": {
        "id": "1SQNGzUSRour"
      }
    },
    {
      "cell_type": "code",
      "source": [
        "import os"
      ],
      "metadata": {
        "id": "5SkKVKiZ-deW"
      },
      "execution_count": null,
      "outputs": []
    },
    {
      "cell_type": "markdown",
      "source": [
        "- **gensim**  \n",
        "자연어를 벡터로 변환하는데 필요한 대부분의 편의기능을 제공하고 있는 패키지  \n",
        "Word2vec 등 포함  \n",
        "호환 및 안정성을 위해 3.8.으로 다운그레이드  \n",
        "- **jdk**  \n",
        "Java 환경에서 돌아가는 프로그램을 개발하는 데 필요한 툴들을 모아놓은 소프트웨어 패키지  \n",
        "- **JPype**  \n",
        "JAVA로 만들어진 내용을 파이썬으로 실행 가능하도록 하는 패키지  \n",
        "- **konlpy**  \n",
        "한국어 정보처리를 위한 파이썬 패키지  \n",
        "Komoran, Kkma, Hannanum, Mecab, Open Korean Text 등 포함   \n"
      ],
      "metadata": {
        "id": "fUCHfpN5wbR2"
      }
    },
    {
      "cell_type": "code",
      "source": [
        "!pip install --upgrade gensim==3.8.3 --user\n",
        "\n",
        "# install konlpy, jdk, JPype\n",
        "!pip install konlpy\n",
        "!apt-get install openjdk-8-jdk-headless -qq > /dev/null\n",
        "!pip3 install JPype1-py3\n",
        "\n",
        "# install mecab-ko\n",
        "os.chdir('/tmp/')\n",
        "!curl -LO https://bitbucket.org/eunjeon/mecab-ko/downloads/mecab-0.996-ko-0.9.2.tar.gz\n",
        "!tar zxfv mecab-0.996-ko-0.9.2.tar.gz\n",
        "os.chdir('/tmp/mecab-0.996-ko-0.9.2')\n",
        "!./configure\n",
        "!make\n",
        "!make check\n",
        "!make install\n",
        "\n",
        "# install mecab-ko-dic\n",
        "!apt-get install automake\n",
        "os.chdir('/tmp')\n",
        "!curl -LO https://bitbucket.org/eunjeon/mecab-ko-dic/downloads/mecab-ko-dic-2.1.1-20180720.tar.gz\n",
        "!tar -zxvf mecab-ko-dic-2.1.1-20180720.tar.gz\n",
        "os.chdir('/tmp/mecab-ko-dic-2.1.1-20180720')\n",
        "!./autogen.sh\n",
        "!./configure\n",
        "!make\n",
        "!make install\n",
        "\n",
        "# install mecab-python\n",
        "os.chdir('/content')\n",
        "!git clone https://bitbucket.org/eunjeon/mecab-python-0.996.git\n",
        "os.chdir('/content/mecab-python-0.996')\n",
        "!python3 setup.py build\n",
        "!python3 setup.py install"
      ],
      "metadata": {
        "colab": {
          "base_uri": "https://localhost:8080/"
        },
        "id": "jmh_pyrK6-QN",
        "outputId": "4e1385c0-cf0d-43c0-bff2-ff9283e2625a"
      },
      "execution_count": null,
      "outputs": [
        {
          "output_type": "stream",
          "name": "stdout",
          "text": [
            "Looking in indexes: https://pypi.org/simple, https://us-python.pkg.dev/colab-wheels/public/simple/\n",
            "Collecting gensim==3.8.3\n",
            "  Downloading gensim-3.8.3-cp37-cp37m-manylinux1_x86_64.whl (24.2 MB)\n",
            "\u001b[K     |████████████████████████████████| 24.2 MB 783 kB/s \n",
            "\u001b[?25hRequirement already satisfied: smart-open>=1.8.1 in /usr/local/lib/python3.7/dist-packages (from gensim==3.8.3) (6.0.0)\n",
            "Requirement already satisfied: scipy>=0.18.1 in /usr/local/lib/python3.7/dist-packages (from gensim==3.8.3) (1.4.1)\n",
            "Requirement already satisfied: six>=1.5.0 in /usr/local/lib/python3.7/dist-packages (from gensim==3.8.3) (1.15.0)\n",
            "Requirement already satisfied: numpy>=1.11.3 in /usr/local/lib/python3.7/dist-packages (from gensim==3.8.3) (1.21.6)\n",
            "Installing collected packages: gensim\n",
            "Successfully installed gensim-3.8.3\n",
            "Looking in indexes: https://pypi.org/simple, https://us-python.pkg.dev/colab-wheels/public/simple/\n",
            "Collecting konlpy\n",
            "  Downloading konlpy-0.6.0-py2.py3-none-any.whl (19.4 MB)\n",
            "\u001b[K     |████████████████████████████████| 19.4 MB 4.4 MB/s \n",
            "\u001b[?25hRequirement already satisfied: numpy>=1.6 in /usr/local/lib/python3.7/dist-packages (from konlpy) (1.21.6)\n",
            "Requirement already satisfied: lxml>=4.1.0 in /usr/local/lib/python3.7/dist-packages (from konlpy) (4.2.6)\n",
            "Collecting JPype1>=0.7.0\n",
            "  Downloading JPype1-1.4.0-cp37-cp37m-manylinux_2_5_x86_64.manylinux1_x86_64.whl (453 kB)\n",
            "\u001b[K     |████████████████████████████████| 453 kB 79.1 MB/s \n",
            "\u001b[?25hRequirement already satisfied: typing-extensions in /usr/local/lib/python3.7/dist-packages (from JPype1>=0.7.0->konlpy) (4.2.0)\n",
            "Installing collected packages: JPype1, konlpy\n",
            "Successfully installed JPype1-1.4.0 konlpy-0.6.0\n",
            "Looking in indexes: https://pypi.org/simple, https://us-python.pkg.dev/colab-wheels/public/simple/\n",
            "Collecting JPype1-py3\n",
            "  Downloading JPype1-py3-0.5.5.4.tar.gz (88 kB)\n",
            "\u001b[K     |████████████████████████████████| 88 kB 3.9 MB/s \n",
            "\u001b[?25hBuilding wheels for collected packages: JPype1-py3\n",
            "  Building wheel for JPype1-py3 (setup.py) ... \u001b[?25l\u001b[?25hdone\n",
            "  Created wheel for JPype1-py3: filename=JPype1_py3-0.5.5.4-cp37-cp37m-linux_x86_64.whl size=2693116 sha256=1d4275787dfc0da050291304cdb32e2b627ce7c5e8fb01b13891e02188d489fe\n",
            "  Stored in directory: /root/.cache/pip/wheels/e7/d1/09/f55dca0203b0691945bdf0f63d486a0b4d4e5ec4bd78a2502e\n",
            "Successfully built JPype1-py3\n",
            "Installing collected packages: JPype1-py3\n",
            "Successfully installed JPype1-py3-0.5.5.4\n",
            "  % Total    % Received % Xferd  Average Speed   Time    Time     Time  Current\n",
            "                                 Dload  Upload   Total   Spent    Left  Speed\n",
            "  0     0    0     0    0     0      0      0 --:--:-- --:--:-- --:--:--     0\n",
            "100 1381k  100 1381k    0     0  2261k      0 --:--:-- --:--:-- --:--:-- 2261k\n",
            "mecab-0.996-ko-0.9.2/\n",
            "mecab-0.996-ko-0.9.2/example/\n",
            "mecab-0.996-ko-0.9.2/example/example.cpp\n",
            "mecab-0.996-ko-0.9.2/example/example_lattice.cpp\n",
            "mecab-0.996-ko-0.9.2/example/example_lattice.c\n",
            "mecab-0.996-ko-0.9.2/example/example.c\n",
            "mecab-0.996-ko-0.9.2/example/thread_test.cpp\n",
            "mecab-0.996-ko-0.9.2/mecab-config.in\n",
            "mecab-0.996-ko-0.9.2/man/\n",
            "mecab-0.996-ko-0.9.2/man/Makefile.am\n",
            "mecab-0.996-ko-0.9.2/man/mecab.1\n",
            "mecab-0.996-ko-0.9.2/man/Makefile.in\n",
            "mecab-0.996-ko-0.9.2/mecab.iss.in\n",
            "mecab-0.996-ko-0.9.2/config.guess\n",
            "mecab-0.996-ko-0.9.2/README\n",
            "mecab-0.996-ko-0.9.2/COPYING\n",
            "mecab-0.996-ko-0.9.2/CHANGES.md\n",
            "mecab-0.996-ko-0.9.2/README.md\n",
            "mecab-0.996-ko-0.9.2/INSTALL\n",
            "mecab-0.996-ko-0.9.2/config.sub\n",
            "mecab-0.996-ko-0.9.2/configure.in\n",
            "mecab-0.996-ko-0.9.2/swig/\n",
            "mecab-0.996-ko-0.9.2/swig/Makefile\n",
            "mecab-0.996-ko-0.9.2/swig/version.h.in\n",
            "mecab-0.996-ko-0.9.2/swig/version.h\n",
            "mecab-0.996-ko-0.9.2/swig/MeCab.i\n",
            "mecab-0.996-ko-0.9.2/aclocal.m4\n",
            "mecab-0.996-ko-0.9.2/LGPL\n",
            "mecab-0.996-ko-0.9.2/Makefile.am\n",
            "mecab-0.996-ko-0.9.2/configure\n",
            "mecab-0.996-ko-0.9.2/tests/\n",
            "mecab-0.996-ko-0.9.2/tests/autolink/\n",
            "mecab-0.996-ko-0.9.2/tests/autolink/unk.def\n",
            "mecab-0.996-ko-0.9.2/tests/autolink/dicrc\n",
            "mecab-0.996-ko-0.9.2/tests/autolink/dic.csv\n",
            "mecab-0.996-ko-0.9.2/tests/autolink/test\n",
            "mecab-0.996-ko-0.9.2/tests/autolink/char.def\n",
            "mecab-0.996-ko-0.9.2/tests/autolink/matrix.def\n",
            "mecab-0.996-ko-0.9.2/tests/autolink/test.gld\n",
            "mecab-0.996-ko-0.9.2/tests/t9/\n",
            "mecab-0.996-ko-0.9.2/tests/t9/unk.def\n",
            "mecab-0.996-ko-0.9.2/tests/t9/ipadic.pl\n",
            "mecab-0.996-ko-0.9.2/tests/t9/dicrc\n",
            "mecab-0.996-ko-0.9.2/tests/t9/dic.csv\n",
            "mecab-0.996-ko-0.9.2/tests/t9/test\n",
            "mecab-0.996-ko-0.9.2/tests/t9/char.def\n",
            "mecab-0.996-ko-0.9.2/tests/t9/matrix.def\n",
            "mecab-0.996-ko-0.9.2/tests/t9/mkdic.pl\n",
            "mecab-0.996-ko-0.9.2/tests/t9/test.gld\n",
            "mecab-0.996-ko-0.9.2/tests/cost-train/\n",
            "mecab-0.996-ko-0.9.2/tests/cost-train/ipa.train\n",
            "mecab-0.996-ko-0.9.2/tests/cost-train/ipa.test\n",
            "mecab-0.996-ko-0.9.2/tests/cost-train/seed/\n",
            "mecab-0.996-ko-0.9.2/tests/cost-train/seed/rewrite.def\n",
            "mecab-0.996-ko-0.9.2/tests/cost-train/seed/feature.def\n",
            "mecab-0.996-ko-0.9.2/tests/cost-train/seed/unk.def\n",
            "mecab-0.996-ko-0.9.2/tests/cost-train/seed/dicrc\n",
            "mecab-0.996-ko-0.9.2/tests/cost-train/seed/dic.csv\n",
            "mecab-0.996-ko-0.9.2/tests/cost-train/seed/char.def\n",
            "mecab-0.996-ko-0.9.2/tests/cost-train/seed/matrix.def\n",
            "mecab-0.996-ko-0.9.2/tests/run-eval.sh\n",
            "mecab-0.996-ko-0.9.2/tests/run-cost-train.sh\n",
            "mecab-0.996-ko-0.9.2/tests/Makefile.am\n",
            "mecab-0.996-ko-0.9.2/tests/katakana/\n",
            "mecab-0.996-ko-0.9.2/tests/katakana/unk.def\n",
            "mecab-0.996-ko-0.9.2/tests/katakana/dicrc\n",
            "mecab-0.996-ko-0.9.2/tests/katakana/dic.csv\n",
            "mecab-0.996-ko-0.9.2/tests/katakana/test\n",
            "mecab-0.996-ko-0.9.2/tests/katakana/char.def\n",
            "mecab-0.996-ko-0.9.2/tests/katakana/matrix.def\n",
            "mecab-0.996-ko-0.9.2/tests/katakana/test.gld\n",
            "mecab-0.996-ko-0.9.2/tests/eval/\n",
            "mecab-0.996-ko-0.9.2/tests/eval/answer\n",
            "mecab-0.996-ko-0.9.2/tests/eval/system\n",
            "mecab-0.996-ko-0.9.2/tests/eval/test.gld\n",
            "mecab-0.996-ko-0.9.2/tests/shiin/\n",
            "mecab-0.996-ko-0.9.2/tests/shiin/unk.def\n",
            "mecab-0.996-ko-0.9.2/tests/shiin/dicrc\n",
            "mecab-0.996-ko-0.9.2/tests/shiin/dic.csv\n",
            "mecab-0.996-ko-0.9.2/tests/shiin/test\n",
            "mecab-0.996-ko-0.9.2/tests/shiin/char.def\n",
            "mecab-0.996-ko-0.9.2/tests/shiin/matrix.def\n",
            "mecab-0.996-ko-0.9.2/tests/shiin/mkdic.pl\n",
            "mecab-0.996-ko-0.9.2/tests/shiin/test.gld\n",
            "mecab-0.996-ko-0.9.2/tests/latin/\n",
            "mecab-0.996-ko-0.9.2/tests/latin/unk.def\n",
            "mecab-0.996-ko-0.9.2/tests/latin/dicrc\n",
            "mecab-0.996-ko-0.9.2/tests/latin/dic.csv\n",
            "mecab-0.996-ko-0.9.2/tests/latin/test\n",
            "mecab-0.996-ko-0.9.2/tests/latin/char.def\n",
            "mecab-0.996-ko-0.9.2/tests/latin/matrix.def\n",
            "mecab-0.996-ko-0.9.2/tests/latin/test.gld\n",
            "mecab-0.996-ko-0.9.2/tests/chartype/\n",
            "mecab-0.996-ko-0.9.2/tests/chartype/unk.def\n",
            "mecab-0.996-ko-0.9.2/tests/chartype/dicrc\n",
            "mecab-0.996-ko-0.9.2/tests/chartype/dic.csv\n",
            "mecab-0.996-ko-0.9.2/tests/chartype/test\n",
            "mecab-0.996-ko-0.9.2/tests/chartype/char.def\n",
            "mecab-0.996-ko-0.9.2/tests/chartype/matrix.def\n",
            "mecab-0.996-ko-0.9.2/tests/chartype/test.gld\n",
            "mecab-0.996-ko-0.9.2/tests/run-dics.sh\n",
            "mecab-0.996-ko-0.9.2/tests/ngram/\n",
            "mecab-0.996-ko-0.9.2/tests/ngram/unk.def\n",
            "mecab-0.996-ko-0.9.2/tests/ngram/dicrc\n",
            "mecab-0.996-ko-0.9.2/tests/ngram/dic.csv\n",
            "mecab-0.996-ko-0.9.2/tests/ngram/test\n",
            "mecab-0.996-ko-0.9.2/tests/ngram/char.def\n",
            "mecab-0.996-ko-0.9.2/tests/ngram/matrix.def\n",
            "mecab-0.996-ko-0.9.2/tests/ngram/test.gld\n",
            "mecab-0.996-ko-0.9.2/tests/Makefile.in\n",
            "mecab-0.996-ko-0.9.2/ltmain.sh\n",
            "mecab-0.996-ko-0.9.2/config.rpath\n",
            "mecab-0.996-ko-0.9.2/config.h.in\n",
            "mecab-0.996-ko-0.9.2/mecabrc.in\n",
            "mecab-0.996-ko-0.9.2/GPL\n",
            "mecab-0.996-ko-0.9.2/Makefile.train\n",
            "mecab-0.996-ko-0.9.2/ChangeLog\n",
            "mecab-0.996-ko-0.9.2/install-sh\n",
            "mecab-0.996-ko-0.9.2/AUTHORS\n",
            "mecab-0.996-ko-0.9.2/doc/\n",
            "mecab-0.996-ko-0.9.2/doc/bindings.html\n",
            "mecab-0.996-ko-0.9.2/doc/posid.html\n",
            "mecab-0.996-ko-0.9.2/doc/unk.html\n",
            "mecab-0.996-ko-0.9.2/doc/learn.html\n",
            "mecab-0.996-ko-0.9.2/doc/format.html\n",
            "mecab-0.996-ko-0.9.2/doc/libmecab.html\n",
            "mecab-0.996-ko-0.9.2/doc/mecab.css\n",
            "mecab-0.996-ko-0.9.2/doc/feature.html\n",
            "mecab-0.996-ko-0.9.2/doc/Makefile.am\n",
            "mecab-0.996-ko-0.9.2/doc/soft.html\n",
            "mecab-0.996-ko-0.9.2/doc/en/\n",
            "mecab-0.996-ko-0.9.2/doc/en/bindings.html\n",
            "mecab-0.996-ko-0.9.2/doc/dic-detail.html\n",
            "mecab-0.996-ko-0.9.2/doc/flow.png\n",
            "mecab-0.996-ko-0.9.2/doc/mecab.html\n",
            "mecab-0.996-ko-0.9.2/doc/index.html\n",
            "mecab-0.996-ko-0.9.2/doc/result.png\n",
            "mecab-0.996-ko-0.9.2/doc/doxygen/\n",
            "mecab-0.996-ko-0.9.2/doc/doxygen/tab_a.png\n",
            "mecab-0.996-ko-0.9.2/doc/doxygen/globals_eval.html\n",
            "mecab-0.996-ko-0.9.2/doc/doxygen/classMeCab_1_1Tagger-members.html\n",
            "mecab-0.996-ko-0.9.2/doc/doxygen/functions_vars.html\n",
            "mecab-0.996-ko-0.9.2/doc/doxygen/doxygen.css\n",
            "mecab-0.996-ko-0.9.2/doc/doxygen/tab_r.gif\n",
            "mecab-0.996-ko-0.9.2/doc/doxygen/classMeCab_1_1Lattice.html\n",
            "mecab-0.996-ko-0.9.2/doc/doxygen/functions.html\n",
            "mecab-0.996-ko-0.9.2/doc/doxygen/classMeCab_1_1Tagger.html\n",
            "mecab-0.996-ko-0.9.2/doc/doxygen/mecab_8h_source.html\n",
            "mecab-0.996-ko-0.9.2/doc/doxygen/tabs.css\n",
            "mecab-0.996-ko-0.9.2/doc/doxygen/nav_f.png\n",
            "mecab-0.996-ko-0.9.2/doc/doxygen/tab_b.png\n",
            "mecab-0.996-ko-0.9.2/doc/doxygen/globals.html\n",
            "mecab-0.996-ko-0.9.2/doc/doxygen/nav_h.png\n",
            "mecab-0.996-ko-0.9.2/doc/doxygen/tab_h.png\n",
            "mecab-0.996-ko-0.9.2/doc/doxygen/classMeCab_1_1Model.html\n",
            "mecab-0.996-ko-0.9.2/doc/doxygen/globals_func.html\n",
            "mecab-0.996-ko-0.9.2/doc/doxygen/closed.png\n",
            "mecab-0.996-ko-0.9.2/doc/doxygen/tab_l.gif\n",
            "mecab-0.996-ko-0.9.2/doc/doxygen/structmecab__path__t-members.html\n",
            "mecab-0.996-ko-0.9.2/doc/doxygen/functions_func.html\n",
            "mecab-0.996-ko-0.9.2/doc/doxygen/globals_type.html\n",
            "mecab-0.996-ko-0.9.2/doc/doxygen/classMeCab_1_1Lattice-members.html\n",
            "mecab-0.996-ko-0.9.2/doc/doxygen/structmecab__node__t.html\n",
            "mecab-0.996-ko-0.9.2/doc/doxygen/namespacemembers_func.html\n",
            "mecab-0.996-ko-0.9.2/doc/doxygen/tab_s.png\n",
            "mecab-0.996-ko-0.9.2/doc/doxygen/structmecab__dictionary__info__t-members.html\n",
            "mecab-0.996-ko-0.9.2/doc/doxygen/namespacemembers_type.html\n",
            "mecab-0.996-ko-0.9.2/doc/doxygen/classMeCab_1_1Model-members.html\n",
            "mecab-0.996-ko-0.9.2/doc/doxygen/structmecab__dictionary__info__t.html\n",
            "mecab-0.996-ko-0.9.2/doc/doxygen/namespaces.html\n",
            "mecab-0.996-ko-0.9.2/doc/doxygen/namespacemembers.html\n",
            "mecab-0.996-ko-0.9.2/doc/doxygen/namespaceMeCab.html\n",
            "mecab-0.996-ko-0.9.2/doc/doxygen/structmecab__path__t.html\n",
            "mecab-0.996-ko-0.9.2/doc/doxygen/files.html\n",
            "mecab-0.996-ko-0.9.2/doc/doxygen/structmecab__node__t-members.html\n",
            "mecab-0.996-ko-0.9.2/doc/doxygen/index.html\n",
            "mecab-0.996-ko-0.9.2/doc/doxygen/annotated.html\n",
            "mecab-0.996-ko-0.9.2/doc/doxygen/globals_defs.html\n",
            "mecab-0.996-ko-0.9.2/doc/doxygen/classes.html\n",
            "mecab-0.996-ko-0.9.2/doc/doxygen/mecab_8h-source.html\n",
            "mecab-0.996-ko-0.9.2/doc/doxygen/doxygen.png\n",
            "mecab-0.996-ko-0.9.2/doc/doxygen/tab_b.gif\n",
            "mecab-0.996-ko-0.9.2/doc/doxygen/bc_s.png\n",
            "mecab-0.996-ko-0.9.2/doc/doxygen/open.png\n",
            "mecab-0.996-ko-0.9.2/doc/doxygen/mecab_8h.html\n",
            "mecab-0.996-ko-0.9.2/doc/dic.html\n",
            "mecab-0.996-ko-0.9.2/doc/partial.html\n",
            "mecab-0.996-ko-0.9.2/doc/feature.png\n",
            "mecab-0.996-ko-0.9.2/doc/Makefile.in\n",
            "mecab-0.996-ko-0.9.2/missing\n",
            "mecab-0.996-ko-0.9.2/BSD\n",
            "mecab-0.996-ko-0.9.2/NEWS\n",
            "mecab-0.996-ko-0.9.2/mkinstalldirs\n",
            "mecab-0.996-ko-0.9.2/src/\n",
            "mecab-0.996-ko-0.9.2/src/dictionary.h\n",
            "mecab-0.996-ko-0.9.2/src/writer.h\n",
            "mecab-0.996-ko-0.9.2/src/utils.h\n",
            "mecab-0.996-ko-0.9.2/src/string_buffer.cpp\n",
            "mecab-0.996-ko-0.9.2/src/tokenizer.cpp\n",
            "mecab-0.996-ko-0.9.2/src/make.bat\n",
            "mecab-0.996-ko-0.9.2/src/mecab.h\n",
            "mecab-0.996-ko-0.9.2/src/freelist.h\n",
            "mecab-0.996-ko-0.9.2/src/string_buffer.h\n",
            "mecab-0.996-ko-0.9.2/src/learner_tagger.h\n",
            "mecab-0.996-ko-0.9.2/src/dictionary_compiler.cpp\n",
            "mecab-0.996-ko-0.9.2/src/eval.cpp\n",
            "mecab-0.996-ko-0.9.2/src/mecab-system-eval.cpp\n",
            "mecab-0.996-ko-0.9.2/src/darts.h\n",
            "mecab-0.996-ko-0.9.2/src/param.h\n",
            "mecab-0.996-ko-0.9.2/src/char_property.h\n",
            "mecab-0.996-ko-0.9.2/src/learner_node.h\n",
            "mecab-0.996-ko-0.9.2/src/mecab-dict-gen.cpp\n",
            "mecab-0.996-ko-0.9.2/src/mecab-dict-index.cpp\n",
            "mecab-0.996-ko-0.9.2/src/winmain.h\n",
            "mecab-0.996-ko-0.9.2/src/thread.h\n",
            "mecab-0.996-ko-0.9.2/src/context_id.cpp\n",
            "mecab-0.996-ko-0.9.2/src/Makefile.am\n",
            "mecab-0.996-ko-0.9.2/src/connector.h\n",
            "mecab-0.996-ko-0.9.2/src/common.h\n",
            "mecab-0.996-ko-0.9.2/src/dictionary_rewriter.cpp\n",
            "mecab-0.996-ko-0.9.2/src/Makefile.msvc.in\n",
            "mecab-0.996-ko-0.9.2/src/dictionary_rewriter.h\n",
            "mecab-0.996-ko-0.9.2/src/feature_index.h\n",
            "mecab-0.996-ko-0.9.2/src/iconv_utils.cpp\n",
            "mecab-0.996-ko-0.9.2/src/char_property.cpp\n",
            "mecab-0.996-ko-0.9.2/src/mecab-test-gen.cpp\n",
            "mecab-0.996-ko-0.9.2/src/tagger.cpp\n",
            "mecab-0.996-ko-0.9.2/src/mecab-cost-train.cpp\n",
            "mecab-0.996-ko-0.9.2/src/learner.cpp\n",
            "mecab-0.996-ko-0.9.2/src/dictionary.cpp\n",
            "mecab-0.996-ko-0.9.2/src/lbfgs.cpp\n",
            "mecab-0.996-ko-0.9.2/src/ucs.h\n",
            "mecab-0.996-ko-0.9.2/src/writer.cpp\n",
            "mecab-0.996-ko-0.9.2/src/learner_tagger.cpp\n",
            "mecab-0.996-ko-0.9.2/src/lbfgs.h\n",
            "mecab-0.996-ko-0.9.2/src/libmecab.cpp\n",
            "mecab-0.996-ko-0.9.2/src/tokenizer.h\n",
            "mecab-0.996-ko-0.9.2/src/mecab.cpp\n",
            "mecab-0.996-ko-0.9.2/src/utils.cpp\n",
            "mecab-0.996-ko-0.9.2/src/dictionary_generator.cpp\n",
            "mecab-0.996-ko-0.9.2/src/param.cpp\n",
            "mecab-0.996-ko-0.9.2/src/context_id.h\n",
            "mecab-0.996-ko-0.9.2/src/mmap.h\n",
            "mecab-0.996-ko-0.9.2/src/viterbi.h\n",
            "mecab-0.996-ko-0.9.2/src/viterbi.cpp\n",
            "mecab-0.996-ko-0.9.2/src/stream_wrapper.h\n",
            "mecab-0.996-ko-0.9.2/src/feature_index.cpp\n",
            "mecab-0.996-ko-0.9.2/src/nbest_generator.h\n",
            "mecab-0.996-ko-0.9.2/src/ucstable.h\n",
            "mecab-0.996-ko-0.9.2/src/nbest_generator.cpp\n",
            "mecab-0.996-ko-0.9.2/src/iconv_utils.h\n",
            "mecab-0.996-ko-0.9.2/src/connector.cpp\n",
            "mecab-0.996-ko-0.9.2/src/Makefile.in\n",
            "mecab-0.996-ko-0.9.2/src/scoped_ptr.h\n",
            "mecab-0.996-ko-0.9.2/Makefile.in\n",
            "checking for a BSD-compatible install... /usr/bin/install -c\n",
            "checking whether build environment is sane... yes\n",
            "checking for a thread-safe mkdir -p... /bin/mkdir -p\n",
            "checking for gawk... no\n",
            "checking for mawk... mawk\n",
            "checking whether make sets $(MAKE)... yes\n",
            "checking for gcc... gcc\n",
            "checking whether the C compiler works... yes\n",
            "checking for C compiler default output file name... a.out\n",
            "checking for suffix of executables... \n",
            "checking whether we are cross compiling... no\n",
            "checking for suffix of object files... o\n",
            "checking whether we are using the GNU C compiler... yes\n",
            "checking whether gcc accepts -g... yes\n",
            "checking for gcc option to accept ISO C89... none needed\n",
            "checking for style of include used by make... GNU\n",
            "checking dependency style of gcc... none\n",
            "checking for g++... g++\n",
            "checking whether we are using the GNU C++ compiler... yes\n",
            "checking whether g++ accepts -g... yes\n",
            "checking dependency style of g++... none\n",
            "checking how to run the C preprocessor... gcc -E\n",
            "checking for grep that handles long lines and -e... /bin/grep\n",
            "checking for egrep... /bin/grep -E\n",
            "checking whether gcc needs -traditional... no\n",
            "checking whether make sets $(MAKE)... (cached) yes\n",
            "checking build system type... x86_64-unknown-linux-gnu\n",
            "checking host system type... x86_64-unknown-linux-gnu\n",
            "checking how to print strings... printf\n",
            "checking for a sed that does not truncate output... /bin/sed\n",
            "checking for fgrep... /bin/grep -F\n",
            "checking for ld used by gcc... /usr/bin/ld\n",
            "checking if the linker (/usr/bin/ld) is GNU ld... yes\n",
            "checking for BSD- or MS-compatible name lister (nm)... /usr/bin/nm -B\n",
            "checking the name lister (/usr/bin/nm -B) interface... BSD nm\n",
            "checking whether ln -s works... yes\n",
            "checking the maximum length of command line arguments... 1572864\n",
            "checking whether the shell understands some XSI constructs... yes\n",
            "checking whether the shell understands \"+=\"... yes\n",
            "checking how to convert x86_64-unknown-linux-gnu file names to x86_64-unknown-linux-gnu format... func_convert_file_noop\n",
            "checking how to convert x86_64-unknown-linux-gnu file names to toolchain format... func_convert_file_noop\n",
            "checking for /usr/bin/ld option to reload object files... -r\n",
            "checking for objdump... objdump\n",
            "checking how to recognize dependent libraries... pass_all\n",
            "checking for dlltool... dlltool\n",
            "checking how to associate runtime and link libraries... printf %s\\n\n",
            "checking for ar... ar\n",
            "checking for archiver @FILE support... @\n",
            "checking for strip... strip\n",
            "checking for ranlib... ranlib\n",
            "checking command to parse /usr/bin/nm -B output from gcc object... ok\n",
            "checking for sysroot... no\n",
            "./configure: line 7378: /usr/bin/file: No such file or directory\n",
            "checking for mt... no\n",
            "checking if : is a manifest tool... no\n",
            "checking for ANSI C header files... yes\n",
            "checking for sys/types.h... yes\n",
            "checking for sys/stat.h... yes\n",
            "checking for stdlib.h... yes\n",
            "checking for string.h... yes\n",
            "checking for memory.h... yes\n",
            "checking for strings.h... yes\n",
            "checking for inttypes.h... yes\n",
            "checking for stdint.h... yes\n",
            "checking for unistd.h... yes\n",
            "checking for dlfcn.h... yes\n",
            "checking for objdir... .libs\n",
            "checking if gcc supports -fno-rtti -fno-exceptions... no\n",
            "checking for gcc option to produce PIC... -fPIC -DPIC\n",
            "checking if gcc PIC flag -fPIC -DPIC works... yes\n",
            "checking if gcc static flag -static works... yes\n",
            "checking if gcc supports -c -o file.o... yes\n",
            "checking if gcc supports -c -o file.o... (cached) yes\n",
            "checking whether the gcc linker (/usr/bin/ld) supports shared libraries... yes\n",
            "checking whether -lc should be explicitly linked in... no\n",
            "checking dynamic linker characteristics... GNU/Linux ld.so\n",
            "checking how to hardcode library paths into programs... immediate\n",
            "checking whether stripping libraries is possible... yes\n",
            "checking if libtool supports shared libraries... yes\n",
            "checking whether to build shared libraries... yes\n",
            "checking whether to build static libraries... yes\n",
            "checking how to run the C++ preprocessor... g++ -E\n",
            "checking for ld used by g++... /usr/bin/ld\n",
            "checking if the linker (/usr/bin/ld) is GNU ld... yes\n",
            "checking whether the g++ linker (/usr/bin/ld) supports shared libraries... yes\n",
            "checking for g++ option to produce PIC... -fPIC -DPIC\n",
            "checking if g++ PIC flag -fPIC -DPIC works... yes\n",
            "checking if g++ static flag -static works... yes\n",
            "checking if g++ supports -c -o file.o... yes\n",
            "checking if g++ supports -c -o file.o... (cached) yes\n",
            "checking whether the g++ linker (/usr/bin/ld) supports shared libraries... yes\n",
            "checking dynamic linker characteristics... (cached) GNU/Linux ld.so\n",
            "checking how to hardcode library paths into programs... immediate\n",
            "checking for library containing strerror... none required\n",
            "checking whether byte ordering is bigendian... no\n",
            "checking for ld used by GCC... /usr/bin/ld\n",
            "checking if the linker (/usr/bin/ld) is GNU ld... yes\n",
            "checking for shared library run path origin... done\n",
            "checking for iconv... yes\n",
            "checking for working iconv... yes\n",
            "checking for iconv declaration... \n",
            "         extern size_t iconv (iconv_t cd, char * *inbuf, size_t *inbytesleft, char * *outbuf, size_t *outbytesleft);\n",
            "checking for ANSI C header files... (cached) yes\n",
            "checking for an ANSI C-conforming const... yes\n",
            "checking whether byte ordering is bigendian... (cached) no\n",
            "checking for string.h... (cached) yes\n",
            "checking for stdlib.h... (cached) yes\n",
            "checking for unistd.h... (cached) yes\n",
            "checking fcntl.h usability... yes\n",
            "checking fcntl.h presence... yes\n",
            "checking for fcntl.h... yes\n",
            "checking for stdint.h... (cached) yes\n",
            "checking for sys/stat.h... (cached) yes\n",
            "checking sys/mman.h usability... yes\n",
            "checking sys/mman.h presence... yes\n",
            "checking for sys/mman.h... yes\n",
            "checking sys/times.h usability... yes\n",
            "checking sys/times.h presence... yes\n",
            "checking for sys/times.h... yes\n",
            "checking for sys/types.h... (cached) yes\n",
            "checking dirent.h usability... yes\n",
            "checking dirent.h presence... yes\n",
            "checking for dirent.h... yes\n",
            "checking ctype.h usability... yes\n",
            "checking ctype.h presence... yes\n",
            "checking for ctype.h... yes\n",
            "checking for sys/types.h... (cached) yes\n",
            "checking io.h usability... no\n",
            "checking io.h presence... no\n",
            "checking for io.h... no\n",
            "checking windows.h usability... no\n",
            "checking windows.h presence... no\n",
            "checking for windows.h... no\n",
            "checking pthread.h usability... yes\n",
            "checking pthread.h presence... yes\n",
            "checking for pthread.h... yes\n",
            "checking for off_t... yes\n",
            "checking for size_t... yes\n",
            "checking size of char... 1\n",
            "checking size of short... 2\n",
            "checking size of int... 4\n",
            "checking size of long... 8\n",
            "checking size of long long... 8\n",
            "checking size of size_t... 8\n",
            "checking for size_t... (cached) yes\n",
            "checking for unsigned long long int... yes\n",
            "checking for stdlib.h... (cached) yes\n",
            "checking for unistd.h... (cached) yes\n",
            "checking for sys/param.h... yes\n",
            "checking for getpagesize... yes\n",
            "checking for working mmap... yes\n",
            "checking for main in -lstdc++... yes\n",
            "checking for pthread_create in -lpthread... yes\n",
            "checking for pthread_join in -lpthread... yes\n",
            "checking for getenv... yes\n",
            "checking for opendir... yes\n",
            "checking whether make is GNU Make... yes\n",
            "checking if g++ supports stl <vector> (required)... yes\n",
            "checking if g++ supports stl <list> (required)... yes\n",
            "checking if g++ supports stl <map> (required)... yes\n",
            "checking if g++ supports stl <set> (required)... yes\n",
            "checking if g++ supports stl <queue> (required)... yes\n",
            "checking if g++ supports stl <functional> (required)... yes\n",
            "checking if g++ supports stl <algorithm> (required)... yes\n",
            "checking if g++ supports stl <string> (required)... yes\n",
            "checking if g++ supports stl <iostream> (required)... yes\n",
            "checking if g++ supports stl <sstream> (required)... yes\n",
            "checking if g++ supports stl <fstream> (required)... yes\n",
            "checking if g++ supports template <class T> (required)... yes\n",
            "checking if g++ supports const_cast<> (required)... yes\n",
            "checking if g++ supports static_cast<> (required)... yes\n",
            "checking if g++ supports reinterpret_cast<> (required)... yes\n",
            "checking if g++ supports namespaces (required) ... yes\n",
            "checking if g++ supports __thread (optional)... yes\n",
            "checking if g++ supports template <class T> (required)... yes\n",
            "checking if g++ supports GCC native atomic operations (optional)... yes\n",
            "checking if g++ supports OSX native atomic operations (optional)... no\n",
            "checking if g++ environment provides all required features... yes\n",
            "configure: creating ./config.status\n",
            "config.status: creating Makefile\n",
            "config.status: creating src/Makefile\n",
            "config.status: creating src/Makefile.msvc\n",
            "config.status: creating man/Makefile\n",
            "config.status: creating doc/Makefile\n",
            "config.status: creating tests/Makefile\n",
            "config.status: creating swig/version.h\n",
            "config.status: creating mecab.iss\n",
            "config.status: creating mecab-config\n",
            "config.status: creating mecabrc\n",
            "config.status: creating config.h\n",
            "config.status: executing depfiles commands\n",
            "config.status: executing libtool commands\n",
            "config.status: executing default commands\n",
            "make  all-recursive\n",
            "make[1]: Entering directory '/tmp/mecab-0.996-ko-0.9.2'\n",
            "Making all in src\n",
            "make[2]: Entering directory '/tmp/mecab-0.996-ko-0.9.2/src'\n",
            "/bin/bash ../libtool --tag=CXX   --mode=compile g++ -DHAVE_CONFIG_H -I. -I.. -DDIC_VERSION=102   -DMECAB_DEFAULT_RC=\"\\\"/usr/local/etc/mecabrc\\\"\"    -O3 -Wall  -c -o viterbi.lo viterbi.cpp\n",
            "libtool: compile:  g++ -DHAVE_CONFIG_H -I. -I.. -DDIC_VERSION=102 -DMECAB_DEFAULT_RC=\\\"/usr/local/etc/mecabrc\\\" -O3 -Wall -c viterbi.cpp  -fPIC -DPIC -o .libs/viterbi.o\n",
            "In file included from \u001b[01m\u001b[Kviterbi.cpp:14:0\u001b[m\u001b[K:\n",
            "\u001b[01m\u001b[Kparam.h:30:13:\u001b[m\u001b[K \u001b[01;35m\u001b[Kwarning: \u001b[m\u001b[K'\u001b[01m\u001b[KTarget {anonymous}::lexical_cast(Source) [with Target = std::__cxx11::basic_string<char>; Source = std::__cxx11::basic_string<char>]\u001b[m\u001b[K' defined but not used [\u001b[01;35m\u001b[K-Wunused-function\u001b[m\u001b[K]\n",
            " std::string \u001b[01;35m\u001b[Klexical_cast<std::string, std::string>\u001b[m\u001b[K(std::string arg) {\n",
            "             \u001b[01;35m\u001b[K^~~~~~~~~~~~~~~~~~~~~~~~~~~~~~~~~~~~~~\u001b[m\u001b[K\n",
            "libtool: compile:  g++ -DHAVE_CONFIG_H -I. -I.. -DDIC_VERSION=102 -DMECAB_DEFAULT_RC=\\\"/usr/local/etc/mecabrc\\\" -O3 -Wall -c viterbi.cpp -o viterbi.o >/dev/null 2>&1\n",
            "/bin/bash ../libtool --tag=CXX   --mode=compile g++ -DHAVE_CONFIG_H -I. -I.. -DDIC_VERSION=102   -DMECAB_DEFAULT_RC=\"\\\"/usr/local/etc/mecabrc\\\"\"    -O3 -Wall  -c -o tagger.lo tagger.cpp\n",
            "libtool: compile:  g++ -DHAVE_CONFIG_H -I. -I.. -DDIC_VERSION=102 -DMECAB_DEFAULT_RC=\\\"/usr/local/etc/mecabrc\\\" -O3 -Wall -c tagger.cpp  -fPIC -DPIC -o .libs/tagger.o\n",
            "libtool: compile:  g++ -DHAVE_CONFIG_H -I. -I.. -DDIC_VERSION=102 -DMECAB_DEFAULT_RC=\\\"/usr/local/etc/mecabrc\\\" -O3 -Wall -c tagger.cpp -o tagger.o >/dev/null 2>&1\n",
            "/bin/bash ../libtool --tag=CXX   --mode=compile g++ -DHAVE_CONFIG_H -I. -I.. -DDIC_VERSION=102   -DMECAB_DEFAULT_RC=\"\\\"/usr/local/etc/mecabrc\\\"\"    -O3 -Wall  -c -o utils.lo utils.cpp\n",
            "libtool: compile:  g++ -DHAVE_CONFIG_H -I. -I.. -DDIC_VERSION=102 -DMECAB_DEFAULT_RC=\\\"/usr/local/etc/mecabrc\\\" -O3 -Wall -c utils.cpp  -fPIC -DPIC -o .libs/utils.o\n",
            "libtool: compile:  g++ -DHAVE_CONFIG_H -I. -I.. -DDIC_VERSION=102 -DMECAB_DEFAULT_RC=\\\"/usr/local/etc/mecabrc\\\" -O3 -Wall -c utils.cpp -o utils.o >/dev/null 2>&1\n",
            "/bin/bash ../libtool --tag=CXX   --mode=compile g++ -DHAVE_CONFIG_H -I. -I.. -DDIC_VERSION=102   -DMECAB_DEFAULT_RC=\"\\\"/usr/local/etc/mecabrc\\\"\"    -O3 -Wall  -c -o eval.lo eval.cpp\n",
            "libtool: compile:  g++ -DHAVE_CONFIG_H -I. -I.. -DDIC_VERSION=102 -DMECAB_DEFAULT_RC=\\\"/usr/local/etc/mecabrc\\\" -O3 -Wall -c eval.cpp  -fPIC -DPIC -o .libs/eval.o\n",
            "libtool: compile:  g++ -DHAVE_CONFIG_H -I. -I.. -DDIC_VERSION=102 -DMECAB_DEFAULT_RC=\\\"/usr/local/etc/mecabrc\\\" -O3 -Wall -c eval.cpp -o eval.o >/dev/null 2>&1\n",
            "/bin/bash ../libtool --tag=CXX   --mode=compile g++ -DHAVE_CONFIG_H -I. -I.. -DDIC_VERSION=102   -DMECAB_DEFAULT_RC=\"\\\"/usr/local/etc/mecabrc\\\"\"    -O3 -Wall  -c -o iconv_utils.lo iconv_utils.cpp\n",
            "libtool: compile:  g++ -DHAVE_CONFIG_H -I. -I.. -DDIC_VERSION=102 -DMECAB_DEFAULT_RC=\\\"/usr/local/etc/mecabrc\\\" -O3 -Wall -c iconv_utils.cpp  -fPIC -DPIC -o .libs/iconv_utils.o\n",
            "libtool: compile:  g++ -DHAVE_CONFIG_H -I. -I.. -DDIC_VERSION=102 -DMECAB_DEFAULT_RC=\\\"/usr/local/etc/mecabrc\\\" -O3 -Wall -c iconv_utils.cpp -o iconv_utils.o >/dev/null 2>&1\n",
            "/bin/bash ../libtool --tag=CXX   --mode=compile g++ -DHAVE_CONFIG_H -I. -I.. -DDIC_VERSION=102   -DMECAB_DEFAULT_RC=\"\\\"/usr/local/etc/mecabrc\\\"\"    -O3 -Wall  -c -o dictionary_rewriter.lo dictionary_rewriter.cpp\n",
            "libtool: compile:  g++ -DHAVE_CONFIG_H -I. -I.. -DDIC_VERSION=102 -DMECAB_DEFAULT_RC=\\\"/usr/local/etc/mecabrc\\\" -O3 -Wall -c dictionary_rewriter.cpp  -fPIC -DPIC -o .libs/dictionary_rewriter.o\n",
            "libtool: compile:  g++ -DHAVE_CONFIG_H -I. -I.. -DDIC_VERSION=102 -DMECAB_DEFAULT_RC=\\\"/usr/local/etc/mecabrc\\\" -O3 -Wall -c dictionary_rewriter.cpp -o dictionary_rewriter.o >/dev/null 2>&1\n",
            "/bin/bash ../libtool --tag=CXX   --mode=compile g++ -DHAVE_CONFIG_H -I. -I.. -DDIC_VERSION=102   -DMECAB_DEFAULT_RC=\"\\\"/usr/local/etc/mecabrc\\\"\"    -O3 -Wall  -c -o dictionary_generator.lo dictionary_generator.cpp\n",
            "libtool: compile:  g++ -DHAVE_CONFIG_H -I. -I.. -DDIC_VERSION=102 -DMECAB_DEFAULT_RC=\\\"/usr/local/etc/mecabrc\\\" -O3 -Wall -c dictionary_generator.cpp  -fPIC -DPIC -o .libs/dictionary_generator.o\n",
            "libtool: compile:  g++ -DHAVE_CONFIG_H -I. -I.. -DDIC_VERSION=102 -DMECAB_DEFAULT_RC=\\\"/usr/local/etc/mecabrc\\\" -O3 -Wall -c dictionary_generator.cpp -o dictionary_generator.o >/dev/null 2>&1\n",
            "/bin/bash ../libtool --tag=CXX   --mode=compile g++ -DHAVE_CONFIG_H -I. -I.. -DDIC_VERSION=102   -DMECAB_DEFAULT_RC=\"\\\"/usr/local/etc/mecabrc\\\"\"    -O3 -Wall  -c -o dictionary_compiler.lo dictionary_compiler.cpp\n",
            "libtool: compile:  g++ -DHAVE_CONFIG_H -I. -I.. -DDIC_VERSION=102 -DMECAB_DEFAULT_RC=\\\"/usr/local/etc/mecabrc\\\" -O3 -Wall -c dictionary_compiler.cpp  -fPIC -DPIC -o .libs/dictionary_compiler.o\n",
            "libtool: compile:  g++ -DHAVE_CONFIG_H -I. -I.. -DDIC_VERSION=102 -DMECAB_DEFAULT_RC=\\\"/usr/local/etc/mecabrc\\\" -O3 -Wall -c dictionary_compiler.cpp -o dictionary_compiler.o >/dev/null 2>&1\n",
            "/bin/bash ../libtool --tag=CXX   --mode=compile g++ -DHAVE_CONFIG_H -I. -I.. -DDIC_VERSION=102   -DMECAB_DEFAULT_RC=\"\\\"/usr/local/etc/mecabrc\\\"\"    -O3 -Wall  -c -o context_id.lo context_id.cpp\n",
            "libtool: compile:  g++ -DHAVE_CONFIG_H -I. -I.. -DDIC_VERSION=102 -DMECAB_DEFAULT_RC=\\\"/usr/local/etc/mecabrc\\\" -O3 -Wall -c context_id.cpp  -fPIC -DPIC -o .libs/context_id.o\n",
            "libtool: compile:  g++ -DHAVE_CONFIG_H -I. -I.. -DDIC_VERSION=102 -DMECAB_DEFAULT_RC=\\\"/usr/local/etc/mecabrc\\\" -O3 -Wall -c context_id.cpp -o context_id.o >/dev/null 2>&1\n",
            "/bin/bash ../libtool --tag=CXX   --mode=compile g++ -DHAVE_CONFIG_H -I. -I.. -DDIC_VERSION=102   -DMECAB_DEFAULT_RC=\"\\\"/usr/local/etc/mecabrc\\\"\"    -O3 -Wall  -c -o connector.lo connector.cpp\n",
            "libtool: compile:  g++ -DHAVE_CONFIG_H -I. -I.. -DDIC_VERSION=102 -DMECAB_DEFAULT_RC=\\\"/usr/local/etc/mecabrc\\\" -O3 -Wall -c connector.cpp  -fPIC -DPIC -o .libs/connector.o\n",
            "libtool: compile:  g++ -DHAVE_CONFIG_H -I. -I.. -DDIC_VERSION=102 -DMECAB_DEFAULT_RC=\\\"/usr/local/etc/mecabrc\\\" -O3 -Wall -c connector.cpp -o connector.o >/dev/null 2>&1\n",
            "/bin/bash ../libtool --tag=CXX   --mode=compile g++ -DHAVE_CONFIG_H -I. -I.. -DDIC_VERSION=102   -DMECAB_DEFAULT_RC=\"\\\"/usr/local/etc/mecabrc\\\"\"    -O3 -Wall  -c -o nbest_generator.lo nbest_generator.cpp\n",
            "libtool: compile:  g++ -DHAVE_CONFIG_H -I. -I.. -DDIC_VERSION=102 -DMECAB_DEFAULT_RC=\\\"/usr/local/etc/mecabrc\\\" -O3 -Wall -c nbest_generator.cpp  -fPIC -DPIC -o .libs/nbest_generator.o\n",
            "libtool: compile:  g++ -DHAVE_CONFIG_H -I. -I.. -DDIC_VERSION=102 -DMECAB_DEFAULT_RC=\\\"/usr/local/etc/mecabrc\\\" -O3 -Wall -c nbest_generator.cpp -o nbest_generator.o >/dev/null 2>&1\n",
            "/bin/bash ../libtool --tag=CXX   --mode=compile g++ -DHAVE_CONFIG_H -I. -I.. -DDIC_VERSION=102   -DMECAB_DEFAULT_RC=\"\\\"/usr/local/etc/mecabrc\\\"\"    -O3 -Wall  -c -o writer.lo writer.cpp\n",
            "libtool: compile:  g++ -DHAVE_CONFIG_H -I. -I.. -DDIC_VERSION=102 -DMECAB_DEFAULT_RC=\\\"/usr/local/etc/mecabrc\\\" -O3 -Wall -c writer.cpp  -fPIC -DPIC -o .libs/writer.o\n",
            "libtool: compile:  g++ -DHAVE_CONFIG_H -I. -I.. -DDIC_VERSION=102 -DMECAB_DEFAULT_RC=\\\"/usr/local/etc/mecabrc\\\" -O3 -Wall -c writer.cpp -o writer.o >/dev/null 2>&1\n",
            "/bin/bash ../libtool --tag=CXX   --mode=compile g++ -DHAVE_CONFIG_H -I. -I.. -DDIC_VERSION=102   -DMECAB_DEFAULT_RC=\"\\\"/usr/local/etc/mecabrc\\\"\"    -O3 -Wall  -c -o string_buffer.lo string_buffer.cpp\n",
            "libtool: compile:  g++ -DHAVE_CONFIG_H -I. -I.. -DDIC_VERSION=102 -DMECAB_DEFAULT_RC=\\\"/usr/local/etc/mecabrc\\\" -O3 -Wall -c string_buffer.cpp  -fPIC -DPIC -o .libs/string_buffer.o\n",
            "libtool: compile:  g++ -DHAVE_CONFIG_H -I. -I.. -DDIC_VERSION=102 -DMECAB_DEFAULT_RC=\\\"/usr/local/etc/mecabrc\\\" -O3 -Wall -c string_buffer.cpp -o string_buffer.o >/dev/null 2>&1\n",
            "/bin/bash ../libtool --tag=CXX   --mode=compile g++ -DHAVE_CONFIG_H -I. -I.. -DDIC_VERSION=102   -DMECAB_DEFAULT_RC=\"\\\"/usr/local/etc/mecabrc\\\"\"    -O3 -Wall  -c -o param.lo param.cpp\n",
            "libtool: compile:  g++ -DHAVE_CONFIG_H -I. -I.. -DDIC_VERSION=102 -DMECAB_DEFAULT_RC=\\\"/usr/local/etc/mecabrc\\\" -O3 -Wall -c param.cpp  -fPIC -DPIC -o .libs/param.o\n",
            "libtool: compile:  g++ -DHAVE_CONFIG_H -I. -I.. -DDIC_VERSION=102 -DMECAB_DEFAULT_RC=\\\"/usr/local/etc/mecabrc\\\" -O3 -Wall -c param.cpp -o param.o >/dev/null 2>&1\n",
            "/bin/bash ../libtool --tag=CXX   --mode=compile g++ -DHAVE_CONFIG_H -I. -I.. -DDIC_VERSION=102   -DMECAB_DEFAULT_RC=\"\\\"/usr/local/etc/mecabrc\\\"\"    -O3 -Wall  -c -o tokenizer.lo tokenizer.cpp\n",
            "libtool: compile:  g++ -DHAVE_CONFIG_H -I. -I.. -DDIC_VERSION=102 -DMECAB_DEFAULT_RC=\\\"/usr/local/etc/mecabrc\\\" -O3 -Wall -c tokenizer.cpp  -fPIC -DPIC -o .libs/tokenizer.o\n",
            "libtool: compile:  g++ -DHAVE_CONFIG_H -I. -I.. -DDIC_VERSION=102 -DMECAB_DEFAULT_RC=\\\"/usr/local/etc/mecabrc\\\" -O3 -Wall -c tokenizer.cpp -o tokenizer.o >/dev/null 2>&1\n",
            "/bin/bash ../libtool --tag=CXX   --mode=compile g++ -DHAVE_CONFIG_H -I. -I.. -DDIC_VERSION=102   -DMECAB_DEFAULT_RC=\"\\\"/usr/local/etc/mecabrc\\\"\"    -O3 -Wall  -c -o char_property.lo char_property.cpp\n",
            "libtool: compile:  g++ -DHAVE_CONFIG_H -I. -I.. -DDIC_VERSION=102 -DMECAB_DEFAULT_RC=\\\"/usr/local/etc/mecabrc\\\" -O3 -Wall -c char_property.cpp  -fPIC -DPIC -o .libs/char_property.o\n",
            "libtool: compile:  g++ -DHAVE_CONFIG_H -I. -I.. -DDIC_VERSION=102 -DMECAB_DEFAULT_RC=\\\"/usr/local/etc/mecabrc\\\" -O3 -Wall -c char_property.cpp -o char_property.o >/dev/null 2>&1\n",
            "/bin/bash ../libtool --tag=CXX   --mode=compile g++ -DHAVE_CONFIG_H -I. -I.. -DDIC_VERSION=102   -DMECAB_DEFAULT_RC=\"\\\"/usr/local/etc/mecabrc\\\"\"    -O3 -Wall  -c -o dictionary.lo dictionary.cpp\n",
            "libtool: compile:  g++ -DHAVE_CONFIG_H -I. -I.. -DDIC_VERSION=102 -DMECAB_DEFAULT_RC=\\\"/usr/local/etc/mecabrc\\\" -O3 -Wall -c dictionary.cpp  -fPIC -DPIC -o .libs/dictionary.o\n",
            "libtool: compile:  g++ -DHAVE_CONFIG_H -I. -I.. -DDIC_VERSION=102 -DMECAB_DEFAULT_RC=\\\"/usr/local/etc/mecabrc\\\" -O3 -Wall -c dictionary.cpp -o dictionary.o >/dev/null 2>&1\n",
            "/bin/bash ../libtool --tag=CXX   --mode=compile g++ -DHAVE_CONFIG_H -I. -I.. -DDIC_VERSION=102   -DMECAB_DEFAULT_RC=\"\\\"/usr/local/etc/mecabrc\\\"\"    -O3 -Wall  -c -o feature_index.lo feature_index.cpp\n",
            "libtool: compile:  g++ -DHAVE_CONFIG_H -I. -I.. -DDIC_VERSION=102 -DMECAB_DEFAULT_RC=\\\"/usr/local/etc/mecabrc\\\" -O3 -Wall -c feature_index.cpp  -fPIC -DPIC -o .libs/feature_index.o\n",
            "libtool: compile:  g++ -DHAVE_CONFIG_H -I. -I.. -DDIC_VERSION=102 -DMECAB_DEFAULT_RC=\\\"/usr/local/etc/mecabrc\\\" -O3 -Wall -c feature_index.cpp -o feature_index.o >/dev/null 2>&1\n",
            "/bin/bash ../libtool --tag=CXX   --mode=compile g++ -DHAVE_CONFIG_H -I. -I.. -DDIC_VERSION=102   -DMECAB_DEFAULT_RC=\"\\\"/usr/local/etc/mecabrc\\\"\"    -O3 -Wall  -c -o lbfgs.lo lbfgs.cpp\n",
            "libtool: compile:  g++ -DHAVE_CONFIG_H -I. -I.. -DDIC_VERSION=102 -DMECAB_DEFAULT_RC=\\\"/usr/local/etc/mecabrc\\\" -O3 -Wall -c lbfgs.cpp  -fPIC -DPIC -o .libs/lbfgs.o\n",
            "libtool: compile:  g++ -DHAVE_CONFIG_H -I. -I.. -DDIC_VERSION=102 -DMECAB_DEFAULT_RC=\\\"/usr/local/etc/mecabrc\\\" -O3 -Wall -c lbfgs.cpp -o lbfgs.o >/dev/null 2>&1\n",
            "/bin/bash ../libtool --tag=CXX   --mode=compile g++ -DHAVE_CONFIG_H -I. -I.. -DDIC_VERSION=102   -DMECAB_DEFAULT_RC=\"\\\"/usr/local/etc/mecabrc\\\"\"    -O3 -Wall  -c -o learner_tagger.lo learner_tagger.cpp\n",
            "libtool: compile:  g++ -DHAVE_CONFIG_H -I. -I.. -DDIC_VERSION=102 -DMECAB_DEFAULT_RC=\\\"/usr/local/etc/mecabrc\\\" -O3 -Wall -c learner_tagger.cpp  -fPIC -DPIC -o .libs/learner_tagger.o\n",
            "\u001b[01m\u001b[Klearner_tagger.cpp:25:7:\u001b[m\u001b[K \u001b[01;35m\u001b[Kwarning: \u001b[m\u001b[K'\u001b[01m\u001b[Kchar* MeCab::{anonymous}::mystrdup(const string&)\u001b[m\u001b[K' defined but not used [\u001b[01;35m\u001b[K-Wunused-function\u001b[m\u001b[K]\n",
            " char *\u001b[01;35m\u001b[Kmystrdup\u001b[m\u001b[K(const std::string &str) {\n",
            "       \u001b[01;35m\u001b[K^~~~~~~~\u001b[m\u001b[K\n",
            "libtool: compile:  g++ -DHAVE_CONFIG_H -I. -I.. -DDIC_VERSION=102 -DMECAB_DEFAULT_RC=\\\"/usr/local/etc/mecabrc\\\" -O3 -Wall -c learner_tagger.cpp -o learner_tagger.o >/dev/null 2>&1\n",
            "/bin/bash ../libtool --tag=CXX   --mode=compile g++ -DHAVE_CONFIG_H -I. -I.. -DDIC_VERSION=102   -DMECAB_DEFAULT_RC=\"\\\"/usr/local/etc/mecabrc\\\"\"    -O3 -Wall  -c -o learner.lo learner.cpp\n",
            "libtool: compile:  g++ -DHAVE_CONFIG_H -I. -I.. -DDIC_VERSION=102 -DMECAB_DEFAULT_RC=\\\"/usr/local/etc/mecabrc\\\" -O3 -Wall -c learner.cpp  -fPIC -DPIC -o .libs/learner.o\n",
            "libtool: compile:  g++ -DHAVE_CONFIG_H -I. -I.. -DDIC_VERSION=102 -DMECAB_DEFAULT_RC=\\\"/usr/local/etc/mecabrc\\\" -O3 -Wall -c learner.cpp -o learner.o >/dev/null 2>&1\n",
            "/bin/bash ../libtool --tag=CXX   --mode=compile g++ -DHAVE_CONFIG_H -I. -I.. -DDIC_VERSION=102   -DMECAB_DEFAULT_RC=\"\\\"/usr/local/etc/mecabrc\\\"\"    -O3 -Wall  -c -o libmecab.lo libmecab.cpp\n",
            "libtool: compile:  g++ -DHAVE_CONFIG_H -I. -I.. -DDIC_VERSION=102 -DMECAB_DEFAULT_RC=\\\"/usr/local/etc/mecabrc\\\" -O3 -Wall -c libmecab.cpp  -fPIC -DPIC -o .libs/libmecab.o\n",
            "libtool: compile:  g++ -DHAVE_CONFIG_H -I. -I.. -DDIC_VERSION=102 -DMECAB_DEFAULT_RC=\\\"/usr/local/etc/mecabrc\\\" -O3 -Wall -c libmecab.cpp -o libmecab.o >/dev/null 2>&1\n",
            "/bin/bash ../libtool --tag=CXX   --mode=link g++  -O3 -Wall  -no-undefined -version-info 2:0:0  -o libmecab.la -rpath /usr/local/lib viterbi.lo tagger.lo utils.lo eval.lo iconv_utils.lo dictionary_rewriter.lo dictionary_generator.lo dictionary_compiler.lo context_id.lo connector.lo nbest_generator.lo writer.lo string_buffer.lo param.lo tokenizer.lo char_property.lo dictionary.lo feature_index.lo lbfgs.lo learner_tagger.lo learner.lo libmecab.lo  -lpthread -lpthread  -lstdc++ \n",
            "libtool: link: g++  -fPIC -DPIC -shared -nostdlib /usr/lib/gcc/x86_64-linux-gnu/7/../../../x86_64-linux-gnu/crti.o /usr/lib/gcc/x86_64-linux-gnu/7/crtbeginS.o  .libs/viterbi.o .libs/tagger.o .libs/utils.o .libs/eval.o .libs/iconv_utils.o .libs/dictionary_rewriter.o .libs/dictionary_generator.o .libs/dictionary_compiler.o .libs/context_id.o .libs/connector.o .libs/nbest_generator.o .libs/writer.o .libs/string_buffer.o .libs/param.o .libs/tokenizer.o .libs/char_property.o .libs/dictionary.o .libs/feature_index.o .libs/lbfgs.o .libs/learner_tagger.o .libs/learner.o .libs/libmecab.o   -lpthread -L/usr/lib/gcc/x86_64-linux-gnu/7 -L/usr/lib/gcc/x86_64-linux-gnu/7/../../../x86_64-linux-gnu -L/usr/lib/gcc/x86_64-linux-gnu/7/../../../../lib -L/lib/x86_64-linux-gnu -L/lib/../lib -L/usr/lib/x86_64-linux-gnu -L/usr/lib/../lib -L/usr/local/cuda/lib64/stubs -L/usr/lib/gcc/x86_64-linux-gnu/7/../../.. -lstdc++ -lm -lc -lgcc_s /usr/lib/gcc/x86_64-linux-gnu/7/crtendS.o /usr/lib/gcc/x86_64-linux-gnu/7/../../../x86_64-linux-gnu/crtn.o  -O3   -Wl,-soname -Wl,libmecab.so.2 -o .libs/libmecab.so.2.0.0\n",
            "libtool: link: (cd \".libs\" && rm -f \"libmecab.so.2\" && ln -s \"libmecab.so.2.0.0\" \"libmecab.so.2\")\n",
            "libtool: link: (cd \".libs\" && rm -f \"libmecab.so\" && ln -s \"libmecab.so.2.0.0\" \"libmecab.so\")\n",
            "libtool: link: ar cru .libs/libmecab.a  viterbi.o tagger.o utils.o eval.o iconv_utils.o dictionary_rewriter.o dictionary_generator.o dictionary_compiler.o context_id.o connector.o nbest_generator.o writer.o string_buffer.o param.o tokenizer.o char_property.o dictionary.o feature_index.o lbfgs.o learner_tagger.o learner.o libmecab.o\n",
            "ar: `u' modifier ignored since `D' is the default (see `U')\n",
            "libtool: link: ranlib .libs/libmecab.a\n",
            "libtool: link: ( cd \".libs\" && rm -f \"libmecab.la\" && ln -s \"../libmecab.la\" \"libmecab.la\" )\n",
            "g++ -DHAVE_CONFIG_H -I. -I.. -DDIC_VERSION=102   -DMECAB_DEFAULT_RC=\"\\\"/usr/local/etc/mecabrc\\\"\"    -O3 -Wall  -c -o mecab.o mecab.cpp\n",
            "/bin/bash ../libtool --tag=CXX   --mode=link g++  -O3 -Wall    -o mecab mecab.o libmecab.la -lpthread -lpthread  -lstdc++ \n",
            "libtool: link: g++ -O3 -Wall -o .libs/mecab mecab.o  ./.libs/libmecab.so -lpthread -lstdc++\n",
            "g++ -DHAVE_CONFIG_H -I. -I.. -DDIC_VERSION=102   -DMECAB_DEFAULT_RC=\"\\\"/usr/local/etc/mecabrc\\\"\"    -O3 -Wall  -c -o mecab-dict-index.o mecab-dict-index.cpp\n",
            "/bin/bash ../libtool --tag=CXX   --mode=link g++  -O3 -Wall    -o mecab-dict-index mecab-dict-index.o libmecab.la -lpthread -lpthread  -lstdc++ \n",
            "libtool: link: g++ -O3 -Wall -o .libs/mecab-dict-index mecab-dict-index.o  ./.libs/libmecab.so -lpthread -lstdc++\n",
            "g++ -DHAVE_CONFIG_H -I. -I.. -DDIC_VERSION=102   -DMECAB_DEFAULT_RC=\"\\\"/usr/local/etc/mecabrc\\\"\"    -O3 -Wall  -c -o mecab-dict-gen.o mecab-dict-gen.cpp\n",
            "/bin/bash ../libtool --tag=CXX   --mode=link g++  -O3 -Wall    -o mecab-dict-gen mecab-dict-gen.o libmecab.la -lpthread -lpthread  -lstdc++ \n",
            "libtool: link: g++ -O3 -Wall -o .libs/mecab-dict-gen mecab-dict-gen.o  ./.libs/libmecab.so -lpthread -lstdc++\n",
            "g++ -DHAVE_CONFIG_H -I. -I.. -DDIC_VERSION=102   -DMECAB_DEFAULT_RC=\"\\\"/usr/local/etc/mecabrc\\\"\"    -O3 -Wall  -c -o mecab-cost-train.o mecab-cost-train.cpp\n",
            "/bin/bash ../libtool --tag=CXX   --mode=link g++  -O3 -Wall    -o mecab-cost-train mecab-cost-train.o libmecab.la -lpthread -lpthread  -lstdc++ \n",
            "libtool: link: g++ -O3 -Wall -o .libs/mecab-cost-train mecab-cost-train.o  ./.libs/libmecab.so -lpthread -lstdc++\n",
            "g++ -DHAVE_CONFIG_H -I. -I.. -DDIC_VERSION=102   -DMECAB_DEFAULT_RC=\"\\\"/usr/local/etc/mecabrc\\\"\"    -O3 -Wall  -c -o mecab-system-eval.o mecab-system-eval.cpp\n",
            "/bin/bash ../libtool --tag=CXX   --mode=link g++  -O3 -Wall    -o mecab-system-eval mecab-system-eval.o libmecab.la -lpthread -lpthread  -lstdc++ \n",
            "libtool: link: g++ -O3 -Wall -o .libs/mecab-system-eval mecab-system-eval.o  ./.libs/libmecab.so -lpthread -lstdc++\n",
            "g++ -DHAVE_CONFIG_H -I. -I.. -DDIC_VERSION=102   -DMECAB_DEFAULT_RC=\"\\\"/usr/local/etc/mecabrc\\\"\"    -O3 -Wall  -c -o mecab-test-gen.o mecab-test-gen.cpp\n",
            "/bin/bash ../libtool --tag=CXX   --mode=link g++  -O3 -Wall    -o mecab-test-gen mecab-test-gen.o libmecab.la -lpthread -lpthread  -lstdc++ \n",
            "libtool: link: g++ -O3 -Wall -o .libs/mecab-test-gen mecab-test-gen.o  ./.libs/libmecab.so -lpthread -lstdc++\n",
            "make[2]: Leaving directory '/tmp/mecab-0.996-ko-0.9.2/src'\n",
            "Making all in man\n",
            "make[2]: Entering directory '/tmp/mecab-0.996-ko-0.9.2/man'\n",
            "make[2]: Nothing to be done for 'all'.\n",
            "make[2]: Leaving directory '/tmp/mecab-0.996-ko-0.9.2/man'\n",
            "Making all in doc\n",
            "make[2]: Entering directory '/tmp/mecab-0.996-ko-0.9.2/doc'\n",
            "make[2]: Nothing to be done for 'all'.\n",
            "make[2]: Leaving directory '/tmp/mecab-0.996-ko-0.9.2/doc'\n",
            "Making all in tests\n",
            "make[2]: Entering directory '/tmp/mecab-0.996-ko-0.9.2/tests'\n",
            "make[2]: Nothing to be done for 'all'.\n",
            "make[2]: Leaving directory '/tmp/mecab-0.996-ko-0.9.2/tests'\n",
            "make[2]: Entering directory '/tmp/mecab-0.996-ko-0.9.2'\n",
            "make[2]: Leaving directory '/tmp/mecab-0.996-ko-0.9.2'\n",
            "make[1]: Leaving directory '/tmp/mecab-0.996-ko-0.9.2'\n",
            "Making check in src\n",
            "make[1]: Entering directory '/tmp/mecab-0.996-ko-0.9.2/src'\n",
            "make[1]: Nothing to be done for 'check'.\n",
            "make[1]: Leaving directory '/tmp/mecab-0.996-ko-0.9.2/src'\n",
            "Making check in man\n",
            "make[1]: Entering directory '/tmp/mecab-0.996-ko-0.9.2/man'\n",
            "make[1]: Nothing to be done for 'check'.\n",
            "make[1]: Leaving directory '/tmp/mecab-0.996-ko-0.9.2/man'\n",
            "Making check in doc\n",
            "make[1]: Entering directory '/tmp/mecab-0.996-ko-0.9.2/doc'\n",
            "make[1]: Nothing to be done for 'check'.\n",
            "make[1]: Leaving directory '/tmp/mecab-0.996-ko-0.9.2/doc'\n",
            "Making check in tests\n",
            "make[1]: Entering directory '/tmp/mecab-0.996-ko-0.9.2/tests'\n",
            "make  check-TESTS\n",
            "make[2]: Entering directory '/tmp/mecab-0.996-ko-0.9.2/tests'\n",
            "./pos-id.def is not found. minimum setting is used\n",
            "reading ./unk.def ... 2\n",
            "emitting double-array: 100% |###########################################| \n",
            "./model.def is not found. skipped.\n",
            "./pos-id.def is not found. minimum setting is used\n",
            "reading ./dic.csv ... 177\n",
            "emitting double-array: 100% |###########################################| \n",
            "reading ./matrix.def ... 178x178\n",
            "emitting matrix      : 100% |###########################################| \n",
            "\n",
            "done!\n",
            "./pos-id.def is not found. minimum setting is used\n",
            "reading ./unk.def ... 2\n",
            "emitting double-array: 100% |###########################################| \n",
            "./model.def is not found. skipped.\n",
            "./pos-id.def is not found. minimum setting is used\n",
            "reading ./dic.csv ... 83\n",
            "emitting double-array: 100% |###########################################| \n",
            "reading ./matrix.def ... 84x84\n",
            "emitting matrix      : 100% |###########################################| \n",
            "\n",
            "done!\n",
            "./pos-id.def is not found. minimum setting is used\n",
            "reading ./unk.def ... 2\n",
            "emitting double-array: 100% |###########################################| \n",
            "./model.def is not found. skipped.\n",
            "./pos-id.def is not found. minimum setting is used\n",
            "reading ./dic.csv ... 450\n",
            "emitting double-array: 100% |###########################################| \n",
            "reading ./matrix.def ... 1x1\n",
            "\n",
            "done!\n",
            "./pos-id.def is not found. minimum setting is used\n",
            "reading ./unk.def ... 2\n",
            "emitting double-array: 100% |###########################################| \n",
            "./model.def is not found. skipped.\n",
            "./pos-id.def is not found. minimum setting is used\n",
            "reading ./dic.csv ... 162\n",
            "emitting double-array: 100% |###########################################| \n",
            "reading ./matrix.def ... 3x3\n",
            "emitting matrix      : 100% |###########################################| \n",
            "\n",
            "done!\n",
            "./pos-id.def is not found. minimum setting is used\n",
            "reading ./unk.def ... 2\n",
            "emitting double-array: 100% |###########################################| \n",
            "./model.def is not found. skipped.\n",
            "./pos-id.def is not found. minimum setting is used\n",
            "reading ./dic.csv ... 4\n",
            "emitting double-array: 100% |###########################################| \n",
            "reading ./matrix.def ... 1x1\n",
            "\n",
            "done!\n",
            "./pos-id.def is not found. minimum setting is used\n",
            "reading ./unk.def ... 11\n",
            "emitting double-array: 100% |###########################################| \n",
            "./model.def is not found. skipped.\n",
            "./pos-id.def is not found. minimum setting is used\n",
            "reading ./dic.csv ... 1\n",
            "reading ./matrix.def ... 1x1\n",
            "\n",
            "done!\n",
            "./pos-id.def is not found. minimum setting is used\n",
            "reading ./unk.def ... 2\n",
            "emitting double-array: 100% |###########################################| \n",
            "./model.def is not found. skipped.\n",
            "./pos-id.def is not found. minimum setting is used\n",
            "reading ./dic.csv ... 1\n",
            "reading ./matrix.def ... 1x1\n",
            "\n",
            "done!\n",
            "PASS: run-dics.sh\n",
            "PASS: run-eval.sh\n",
            "seed/pos-id.def is not found. minimum setting is used\n",
            "reading seed/unk.def ... 40\n",
            "emitting double-array: 100% |###########################################| \n",
            "seed/model.def is not found. skipped.\n",
            "seed/pos-id.def is not found. minimum setting is used\n",
            "reading seed/dic.csv ... 4335\n",
            "emitting double-array: 100% |###########################################| \n",
            "reading seed/matrix.def ... 1x1\n",
            "\n",
            "done!\n",
            "reading corpus ...\n",
            "Number of sentences: 34\n",
            "Number of features:  64108\n",
            "eta:                 0.00005\n",
            "freq:                1\n",
            "eval-size:           6\n",
            "unk-eval-size:       4\n",
            "threads:             1\n",
            "charset:             EUC-JP\n",
            "C(sigma^2):          1.00000\n",
            "\n",
            "iter=0 err=1.00000 F=0.35771 target=2406.28355 diff=1.00000\n",
            "iter=1 err=0.97059 F=0.65652 target=1484.25231 diff=0.38318\n",
            "iter=2 err=0.91176 F=0.79331 target=863.32765 diff=0.41834\n",
            "iter=3 err=0.85294 F=0.89213 target=596.72480 diff=0.30881\n",
            "iter=4 err=0.61765 F=0.95467 target=336.30744 diff=0.43641\n",
            "iter=5 err=0.50000 F=0.96702 target=246.53039 diff=0.26695\n",
            "iter=6 err=0.35294 F=0.95472 target=188.93963 diff=0.23361\n",
            "iter=7 err=0.20588 F=0.99106 target=168.62665 diff=0.10751\n",
            "iter=8 err=0.05882 F=0.99777 target=158.64865 diff=0.05917\n",
            "iter=9 err=0.08824 F=0.99665 target=154.14530 diff=0.02839\n",
            "iter=10 err=0.08824 F=0.99665 target=151.94257 diff=0.01429\n",
            "iter=11 err=0.02941 F=0.99888 target=147.20825 diff=0.03116\n",
            "iter=12 err=0.00000 F=1.00000 target=147.34956 diff=0.00096\n",
            "iter=13 err=0.02941 F=0.99888 target=146.32592 diff=0.00695\n",
            "iter=14 err=0.00000 F=1.00000 target=145.77299 diff=0.00378\n",
            "iter=15 err=0.02941 F=0.99888 target=145.24641 diff=0.00361\n",
            "iter=16 err=0.00000 F=1.00000 target=144.96490 diff=0.00194\n",
            "iter=17 err=0.02941 F=0.99888 target=144.90246 diff=0.00043\n",
            "iter=18 err=0.00000 F=1.00000 target=144.75959 diff=0.00099\n",
            "iter=19 err=0.00000 F=1.00000 target=144.71727 diff=0.00029\n",
            "iter=20 err=0.00000 F=1.00000 target=144.66337 diff=0.00037\n",
            "iter=21 err=0.00000 F=1.00000 target=144.61349 diff=0.00034\n",
            "iter=22 err=0.00000 F=1.00000 target=144.62987 diff=0.00011\n",
            "iter=23 err=0.00000 F=1.00000 target=144.60060 diff=0.00020\n",
            "iter=24 err=0.00000 F=1.00000 target=144.59125 diff=0.00006\n",
            "iter=25 err=0.00000 F=1.00000 target=144.58619 diff=0.00004\n",
            "iter=26 err=0.00000 F=1.00000 target=144.58219 diff=0.00003\n",
            "iter=27 err=0.00000 F=1.00000 target=144.58059 diff=0.00001\n",
            "\n",
            "Done! writing model file ... \n",
            "model-ipadic.c1.0.f1.model is not a binary model. reopen it as text mode...\n",
            "reading seed/unk.def ... 40\n",
            "reading seed/dic.csv ... 4335\n",
            "emitting model-ipadic.c1.0.f1.dic/left-id.def/ model-ipadic.c1.0.f1.dic/right-id.def\n",
            "emitting model-ipadic.c1.0.f1.dic/unk.def ... 40\n",
            "emitting model-ipadic.c1.0.f1.dic/dic.csv ... 4335\n",
            "emitting matrix      : 100% |###########################################| \n",
            "copying seed/char.def to model-ipadic.c1.0.f1.dic/char.def\n",
            "copying seed/rewrite.def to model-ipadic.c1.0.f1.dic/rewrite.def\n",
            "copying seed/dicrc to model-ipadic.c1.0.f1.dic/dicrc\n",
            "copying seed/feature.def to model-ipadic.c1.0.f1.dic/feature.def\n",
            "copying model-ipadic.c1.0.f1.model to model-ipadic.c1.0.f1.dic/model.def\n",
            "\n",
            "done!\n",
            "model-ipadic.c1.0.f1.dic/pos-id.def is not found. minimum setting is used\n",
            "reading model-ipadic.c1.0.f1.dic/unk.def ... 40\n",
            "emitting double-array: 100% |###########################################| \n",
            "model-ipadic.c1.0.f1.dic/pos-id.def is not found. minimum setting is used\n",
            "reading model-ipadic.c1.0.f1.dic/dic.csv ... 4335\n",
            "emitting double-array: 100% |###########################################| \n",
            "reading model-ipadic.c1.0.f1.dic/matrix.def ... 346x346\n",
            "emitting matrix      : 100% |###########################################| \n",
            "\n",
            "done!\n",
            "              precision          recall         F\n",
            "LEVEL 0:    12.8959(57/442) 11.8998(57/479) 12.3779\n",
            "LEVEL 1:    12.2172(54/442) 11.2735(54/479) 11.7264\n",
            "LEVEL 2:    11.7647(52/442) 10.8559(52/479) 11.2921\n",
            "LEVEL 4:    11.7647(52/442) 10.8559(52/479) 11.2921\n",
            "PASS: run-cost-train.sh\n",
            "==================\n",
            "All 3 tests passed\n",
            "==================\n",
            "make[2]: Leaving directory '/tmp/mecab-0.996-ko-0.9.2/tests'\n",
            "make[1]: Leaving directory '/tmp/mecab-0.996-ko-0.9.2/tests'\n",
            "make[1]: Entering directory '/tmp/mecab-0.996-ko-0.9.2'\n",
            "make[1]: Leaving directory '/tmp/mecab-0.996-ko-0.9.2'\n",
            "Making install in src\n",
            "make[1]: Entering directory '/tmp/mecab-0.996-ko-0.9.2/src'\n",
            "make[2]: Entering directory '/tmp/mecab-0.996-ko-0.9.2/src'\n",
            "test -z \"/usr/local/lib\" || /bin/mkdir -p \"/usr/local/lib\"\n",
            " /bin/bash ../libtool   --mode=install /usr/bin/install -c   libmecab.la '/usr/local/lib'\n",
            "libtool: install: /usr/bin/install -c .libs/libmecab.so.2.0.0 /usr/local/lib/libmecab.so.2.0.0\n",
            "libtool: install: (cd /usr/local/lib && { ln -s -f libmecab.so.2.0.0 libmecab.so.2 || { rm -f libmecab.so.2 && ln -s libmecab.so.2.0.0 libmecab.so.2; }; })\n",
            "libtool: install: (cd /usr/local/lib && { ln -s -f libmecab.so.2.0.0 libmecab.so || { rm -f libmecab.so && ln -s libmecab.so.2.0.0 libmecab.so; }; })\n",
            "libtool: install: /usr/bin/install -c .libs/libmecab.lai /usr/local/lib/libmecab.la\n",
            "libtool: install: /usr/bin/install -c .libs/libmecab.a /usr/local/lib/libmecab.a\n",
            "libtool: install: chmod 644 /usr/local/lib/libmecab.a\n",
            "libtool: install: ranlib /usr/local/lib/libmecab.a\n",
            "libtool: finish: PATH=\"/opt/bin:/usr/local/nvidia/bin:/usr/local/cuda/bin:/usr/local/sbin:/usr/local/bin:/usr/sbin:/usr/bin:/sbin:/bin:/tools/node/bin:/tools/google-cloud-sdk/bin:/sbin\" ldconfig -n /usr/local/lib\n",
            "----------------------------------------------------------------------\n",
            "Libraries have been installed in:\n",
            "   /usr/local/lib\n",
            "\n",
            "If you ever happen to want to link against installed libraries\n",
            "in a given directory, LIBDIR, you must either use libtool, and\n",
            "specify the full pathname of the library, or use the `-LLIBDIR'\n",
            "flag during linking and do at least one of the following:\n",
            "   - add LIBDIR to the `LD_LIBRARY_PATH' environment variable\n",
            "     during execution\n",
            "   - add LIBDIR to the `LD_RUN_PATH' environment variable\n",
            "     during linking\n",
            "   - use the `-Wl,-rpath -Wl,LIBDIR' linker flag\n",
            "   - have your system administrator add LIBDIR to `/etc/ld.so.conf'\n",
            "\n",
            "See any operating system documentation about shared libraries for\n",
            "more information, such as the ld(1) and ld.so(8) manual pages.\n",
            "----------------------------------------------------------------------\n",
            "test -z \"/usr/local/bin\" || /bin/mkdir -p \"/usr/local/bin\"\n",
            "  /bin/bash ../libtool   --mode=install /usr/bin/install -c mecab '/usr/local/bin'\n",
            "libtool: install: /usr/bin/install -c .libs/mecab /usr/local/bin/mecab\n",
            "test -z \"/usr/local/libexec/mecab\" || /bin/mkdir -p \"/usr/local/libexec/mecab\"\n",
            "  /bin/bash ../libtool   --mode=install /usr/bin/install -c mecab-dict-index mecab-dict-gen mecab-cost-train mecab-system-eval mecab-test-gen '/usr/local/libexec/mecab'\n",
            "libtool: install: /usr/bin/install -c .libs/mecab-dict-index /usr/local/libexec/mecab/mecab-dict-index\n",
            "libtool: install: /usr/bin/install -c .libs/mecab-dict-gen /usr/local/libexec/mecab/mecab-dict-gen\n",
            "libtool: install: /usr/bin/install -c .libs/mecab-cost-train /usr/local/libexec/mecab/mecab-cost-train\n",
            "libtool: install: /usr/bin/install -c .libs/mecab-system-eval /usr/local/libexec/mecab/mecab-system-eval\n",
            "libtool: install: /usr/bin/install -c .libs/mecab-test-gen /usr/local/libexec/mecab/mecab-test-gen\n",
            "test -z \"/usr/local/include\" || /bin/mkdir -p \"/usr/local/include\"\n",
            " /usr/bin/install -c -m 644 mecab.h '/usr/local/include'\n",
            "make[2]: Leaving directory '/tmp/mecab-0.996-ko-0.9.2/src'\n",
            "make[1]: Leaving directory '/tmp/mecab-0.996-ko-0.9.2/src'\n",
            "Making install in man\n",
            "make[1]: Entering directory '/tmp/mecab-0.996-ko-0.9.2/man'\n",
            "make[2]: Entering directory '/tmp/mecab-0.996-ko-0.9.2/man'\n",
            "make[2]: Nothing to be done for 'install-exec-am'.\n",
            "test -z \"/usr/local/share/man/man1\" || /bin/mkdir -p \"/usr/local/share/man/man1\"\n",
            " /usr/bin/install -c -m 644 mecab.1 '/usr/local/share/man/man1'\n",
            "make[2]: Leaving directory '/tmp/mecab-0.996-ko-0.9.2/man'\n",
            "make[1]: Leaving directory '/tmp/mecab-0.996-ko-0.9.2/man'\n",
            "Making install in doc\n",
            "make[1]: Entering directory '/tmp/mecab-0.996-ko-0.9.2/doc'\n",
            "make[2]: Entering directory '/tmp/mecab-0.996-ko-0.9.2/doc'\n",
            "make[2]: Nothing to be done for 'install-exec-am'.\n",
            "make[2]: Nothing to be done for 'install-data-am'.\n",
            "make[2]: Leaving directory '/tmp/mecab-0.996-ko-0.9.2/doc'\n",
            "make[1]: Leaving directory '/tmp/mecab-0.996-ko-0.9.2/doc'\n",
            "Making install in tests\n",
            "make[1]: Entering directory '/tmp/mecab-0.996-ko-0.9.2/tests'\n",
            "make[2]: Entering directory '/tmp/mecab-0.996-ko-0.9.2/tests'\n",
            "make[2]: Nothing to be done for 'install-exec-am'.\n",
            "make[2]: Nothing to be done for 'install-data-am'.\n",
            "make[2]: Leaving directory '/tmp/mecab-0.996-ko-0.9.2/tests'\n",
            "make[1]: Leaving directory '/tmp/mecab-0.996-ko-0.9.2/tests'\n",
            "make[1]: Entering directory '/tmp/mecab-0.996-ko-0.9.2'\n",
            "make[2]: Entering directory '/tmp/mecab-0.996-ko-0.9.2'\n",
            "test -z \"/usr/local/bin\" || /bin/mkdir -p \"/usr/local/bin\"\n",
            " /usr/bin/install -c mecab-config '/usr/local/bin'\n",
            "test -z \"/usr/local/etc\" || /bin/mkdir -p \"/usr/local/etc\"\n",
            " /usr/bin/install -c -m 644 mecabrc '/usr/local/etc'\n",
            "make[2]: Leaving directory '/tmp/mecab-0.996-ko-0.9.2'\n",
            "make[1]: Leaving directory '/tmp/mecab-0.996-ko-0.9.2'\n",
            "Reading package lists... Done\n",
            "Building dependency tree       \n",
            "Reading state information... Done\n",
            "The following package was automatically installed and is no longer required:\n",
            "  libnvidia-common-460\n",
            "Use 'apt autoremove' to remove it.\n",
            "The following additional packages will be installed:\n",
            "  autoconf autotools-dev libsigsegv2 m4\n",
            "Suggested packages:\n",
            "  autoconf-archive gnu-standards autoconf-doc libtool gettext m4-doc\n",
            "The following NEW packages will be installed:\n",
            "  autoconf automake autotools-dev libsigsegv2 m4\n",
            "0 upgraded, 5 newly installed, 0 to remove and 45 not upgraded.\n",
            "Need to get 1,082 kB of archives.\n",
            "After this operation, 3,994 kB of additional disk space will be used.\n",
            "Get:1 http://archive.ubuntu.com/ubuntu bionic/main amd64 libsigsegv2 amd64 2.12-1 [14.7 kB]\n",
            "Get:2 http://archive.ubuntu.com/ubuntu bionic/main amd64 m4 amd64 1.4.18-1 [197 kB]\n",
            "Get:3 http://archive.ubuntu.com/ubuntu bionic/main amd64 autoconf all 2.69-11 [322 kB]\n",
            "Get:4 http://archive.ubuntu.com/ubuntu bionic/main amd64 autotools-dev all 20180224.1 [39.6 kB]\n",
            "Get:5 http://archive.ubuntu.com/ubuntu bionic/main amd64 automake all 1:1.15.1-3ubuntu2 [509 kB]\n",
            "Fetched 1,082 kB in 0s (2,884 kB/s)\n",
            "Selecting previously unselected package libsigsegv2:amd64.\n",
            "(Reading database ... 155975 files and directories currently installed.)\n",
            "Preparing to unpack .../libsigsegv2_2.12-1_amd64.deb ...\n",
            "Unpacking libsigsegv2:amd64 (2.12-1) ...\n",
            "Selecting previously unselected package m4.\n",
            "Preparing to unpack .../archives/m4_1.4.18-1_amd64.deb ...\n",
            "Unpacking m4 (1.4.18-1) ...\n",
            "Selecting previously unselected package autoconf.\n",
            "Preparing to unpack .../autoconf_2.69-11_all.deb ...\n",
            "Unpacking autoconf (2.69-11) ...\n",
            "Selecting previously unselected package autotools-dev.\n",
            "Preparing to unpack .../autotools-dev_20180224.1_all.deb ...\n",
            "Unpacking autotools-dev (20180224.1) ...\n",
            "Selecting previously unselected package automake.\n",
            "Preparing to unpack .../automake_1%3a1.15.1-3ubuntu2_all.deb ...\n",
            "Unpacking automake (1:1.15.1-3ubuntu2) ...\n",
            "Setting up libsigsegv2:amd64 (2.12-1) ...\n",
            "Setting up m4 (1.4.18-1) ...\n",
            "Setting up autotools-dev (20180224.1) ...\n",
            "Setting up autoconf (2.69-11) ...\n",
            "Setting up automake (1:1.15.1-3ubuntu2) ...\n",
            "update-alternatives: using /usr/bin/automake-1.15 to provide /usr/bin/automake (automake) in auto mode\n",
            "Processing triggers for libc-bin (2.27-3ubuntu1.3) ...\n",
            "/sbin/ldconfig.real: /usr/local/lib/python3.7/dist-packages/ideep4py/lib/libmkldnn.so.0 is not a symbolic link\n",
            "\n",
            "Processing triggers for man-db (2.8.3-2ubuntu0.1) ...\n",
            "  % Total    % Received % Xferd  Average Speed   Time    Time     Time  Current\n",
            "                                 Dload  Upload   Total   Spent    Left  Speed\n",
            "  0     0    0     0    0     0      0      0 --:--:-- --:--:-- --:--:--     0\n",
            "100 47.4M  100 47.4M    0     0  42.3M      0  0:00:01  0:00:01 --:--:-- 42.3M\n",
            "mecab-ko-dic-2.1.1-20180720/\n",
            "mecab-ko-dic-2.1.1-20180720/configure\n",
            "mecab-ko-dic-2.1.1-20180720/COPYING\n",
            "mecab-ko-dic-2.1.1-20180720/autogen.sh\n",
            "mecab-ko-dic-2.1.1-20180720/Place-station.csv\n",
            "mecab-ko-dic-2.1.1-20180720/NNG.csv\n",
            "mecab-ko-dic-2.1.1-20180720/README\n",
            "mecab-ko-dic-2.1.1-20180720/EF.csv\n",
            "mecab-ko-dic-2.1.1-20180720/MAG.csv\n",
            "mecab-ko-dic-2.1.1-20180720/Preanalysis.csv\n",
            "mecab-ko-dic-2.1.1-20180720/NNB.csv\n",
            "mecab-ko-dic-2.1.1-20180720/Person-actor.csv\n",
            "mecab-ko-dic-2.1.1-20180720/VV.csv\n",
            "mecab-ko-dic-2.1.1-20180720/Makefile.in\n",
            "mecab-ko-dic-2.1.1-20180720/matrix.def\n",
            "mecab-ko-dic-2.1.1-20180720/EC.csv\n",
            "mecab-ko-dic-2.1.1-20180720/NNBC.csv\n",
            "mecab-ko-dic-2.1.1-20180720/clean\n",
            "mecab-ko-dic-2.1.1-20180720/ChangeLog\n",
            "mecab-ko-dic-2.1.1-20180720/J.csv\n",
            "mecab-ko-dic-2.1.1-20180720/.keep\n",
            "mecab-ko-dic-2.1.1-20180720/feature.def\n",
            "mecab-ko-dic-2.1.1-20180720/Foreign.csv\n",
            "mecab-ko-dic-2.1.1-20180720/XPN.csv\n",
            "mecab-ko-dic-2.1.1-20180720/EP.csv\n",
            "mecab-ko-dic-2.1.1-20180720/NR.csv\n",
            "mecab-ko-dic-2.1.1-20180720/left-id.def\n",
            "mecab-ko-dic-2.1.1-20180720/Place.csv\n",
            "mecab-ko-dic-2.1.1-20180720/Symbol.csv\n",
            "mecab-ko-dic-2.1.1-20180720/dicrc\n",
            "mecab-ko-dic-2.1.1-20180720/NP.csv\n",
            "mecab-ko-dic-2.1.1-20180720/ETM.csv\n",
            "mecab-ko-dic-2.1.1-20180720/IC.csv\n",
            "mecab-ko-dic-2.1.1-20180720/Place-address.csv\n",
            "mecab-ko-dic-2.1.1-20180720/Group.csv\n",
            "mecab-ko-dic-2.1.1-20180720/model.def\n",
            "mecab-ko-dic-2.1.1-20180720/XSN.csv\n",
            "mecab-ko-dic-2.1.1-20180720/INSTALL\n",
            "mecab-ko-dic-2.1.1-20180720/rewrite.def\n",
            "mecab-ko-dic-2.1.1-20180720/Inflect.csv\n",
            "mecab-ko-dic-2.1.1-20180720/configure.ac\n",
            "mecab-ko-dic-2.1.1-20180720/NNP.csv\n",
            "mecab-ko-dic-2.1.1-20180720/CoinedWord.csv\n",
            "mecab-ko-dic-2.1.1-20180720/XSV.csv\n",
            "mecab-ko-dic-2.1.1-20180720/pos-id.def\n",
            "mecab-ko-dic-2.1.1-20180720/Makefile.am\n",
            "mecab-ko-dic-2.1.1-20180720/unk.def\n",
            "mecab-ko-dic-2.1.1-20180720/missing\n",
            "mecab-ko-dic-2.1.1-20180720/VCP.csv\n",
            "mecab-ko-dic-2.1.1-20180720/install-sh\n",
            "mecab-ko-dic-2.1.1-20180720/Hanja.csv\n",
            "mecab-ko-dic-2.1.1-20180720/MAJ.csv\n",
            "mecab-ko-dic-2.1.1-20180720/XSA.csv\n",
            "mecab-ko-dic-2.1.1-20180720/Wikipedia.csv\n",
            "mecab-ko-dic-2.1.1-20180720/tools/\n",
            "mecab-ko-dic-2.1.1-20180720/tools/add-userdic.sh\n",
            "mecab-ko-dic-2.1.1-20180720/tools/mecab-bestn.sh\n",
            "mecab-ko-dic-2.1.1-20180720/tools/convert_for_using_store.sh\n",
            "mecab-ko-dic-2.1.1-20180720/user-dic/\n",
            "mecab-ko-dic-2.1.1-20180720/user-dic/nnp.csv\n",
            "mecab-ko-dic-2.1.1-20180720/user-dic/place.csv\n",
            "mecab-ko-dic-2.1.1-20180720/user-dic/person.csv\n",
            "mecab-ko-dic-2.1.1-20180720/user-dic/README.md\n",
            "mecab-ko-dic-2.1.1-20180720/NorthKorea.csv\n",
            "mecab-ko-dic-2.1.1-20180720/VX.csv\n",
            "mecab-ko-dic-2.1.1-20180720/right-id.def\n",
            "mecab-ko-dic-2.1.1-20180720/VA.csv\n",
            "mecab-ko-dic-2.1.1-20180720/char.def\n",
            "mecab-ko-dic-2.1.1-20180720/NEWS\n",
            "mecab-ko-dic-2.1.1-20180720/MM.csv\n",
            "mecab-ko-dic-2.1.1-20180720/ETN.csv\n",
            "mecab-ko-dic-2.1.1-20180720/AUTHORS\n",
            "mecab-ko-dic-2.1.1-20180720/Person.csv\n",
            "mecab-ko-dic-2.1.1-20180720/XR.csv\n",
            "mecab-ko-dic-2.1.1-20180720/VCN.csv\n",
            "Looking in current directory for macros.\n",
            "configure.ac:2: warning: AM_INIT_AUTOMAKE: two- and three-arguments forms are deprecated.  For more info, see:\n",
            "configure.ac:2: http://www.gnu.org/software/automake/manual/automake.html#Modernize-AM_005fINIT_005fAUTOMAKE-invocation\n",
            "checking for a BSD-compatible install... /usr/bin/install -c\n",
            "checking whether build environment is sane... yes\n",
            "/tmp/mecab-ko-dic-2.1.1-20180720/missing: Unknown `--is-lightweight' option\n",
            "Try `/tmp/mecab-ko-dic-2.1.1-20180720/missing --help' for more information\n",
            "configure: WARNING: 'missing' script is too old or missing\n",
            "checking for a thread-safe mkdir -p... /bin/mkdir -p\n",
            "checking for gawk... no\n",
            "checking for mawk... mawk\n",
            "checking whether make sets $(MAKE)... yes\n",
            "checking whether make supports nested variables... yes\n",
            "checking for mecab-config... /usr/local/bin/mecab-config\n",
            "checking that generated files are newer than configure... done\n",
            "configure: creating ./config.status\n",
            "config.status: creating Makefile\n",
            "/usr/local/libexec/mecab/mecab-dict-index -d . -o . -f UTF-8 -t UTF-8\n",
            "reading ./unk.def ... 13\n",
            "emitting double-array: 100% |###########################################| \n",
            "reading ./Group.csv ... 3176\n",
            "reading ./XPN.csv ... 83\n",
            "reading ./CoinedWord.csv ... 148\n",
            "reading ./VX.csv ... 125\n",
            "reading ./NNP.csv ... 2371\n",
            "reading ./Place.csv ... 30303\n",
            "reading ./NP.csv ... 342\n",
            "reading ./XR.csv ... 3637\n",
            "reading ./VCN.csv ... 7\n",
            "reading ./EP.csv ... 51\n",
            "reading ./IC.csv ... 1305\n",
            "reading ./NNB.csv ... 140\n",
            "reading ./Person-actor.csv ... 99230\n",
            "reading ./MAJ.csv ... 240\n",
            "reading ./MM.csv ... 453\n",
            "reading ./XSA.csv ... 19\n",
            "reading ./VA.csv ... 2360\n",
            "reading ./Symbol.csv ... 16\n",
            "reading ./VCP.csv ... 9\n",
            "reading ./NR.csv ... 482\n",
            "reading ./NorthKorea.csv ... 3\n",
            "reading ./ETM.csv ... 133\n",
            "reading ./J.csv ... 416\n",
            "reading ./EF.csv ... 1820\n",
            "reading ./Inflect.csv ... 44820\n",
            "reading ./Person.csv ... 196459\n",
            "reading ./Place-address.csv ... 19301\n",
            "reading ./Foreign.csv ... 11690\n",
            "reading ./NNG.csv ... 208524\n",
            "reading ./EC.csv ... 2547\n",
            "reading ./XSN.csv ... 124\n",
            "reading ./Preanalysis.csv ... 5\n",
            "reading ./XSV.csv ... 23\n",
            "reading ./Place-station.csv ... 1145\n",
            "reading ./Wikipedia.csv ... 36762\n",
            "reading ./NNBC.csv ... 677\n",
            "reading ./VV.csv ... 7331\n",
            "reading ./ETN.csv ... 14\n",
            "reading ./Hanja.csv ... 125750\n",
            "reading ./MAG.csv ... 14242\n",
            "emitting double-array: 100% |###########################################| \n",
            "reading ./matrix.def ... 3822x2693\n",
            "emitting matrix      : 100% |###########################################| \n",
            "\n",
            "done!\n",
            "echo To enable dictionary, rewrite /usr/local/etc/mecabrc as \\\"dicdir = /usr/local/lib/mecab/dic/mecab-ko-dic\\\"\n",
            "To enable dictionary, rewrite /usr/local/etc/mecabrc as \"dicdir = /usr/local/lib/mecab/dic/mecab-ko-dic\"\n",
            "make[1]: Entering directory '/tmp/mecab-ko-dic-2.1.1-20180720'\n",
            "make[1]: Nothing to be done for 'install-exec-am'.\n",
            " /bin/mkdir -p '/usr/local/lib/mecab/dic/mecab-ko-dic'\n",
            " /usr/bin/install -c -m 644 model.bin matrix.bin char.bin sys.dic unk.dic left-id.def right-id.def rewrite.def pos-id.def dicrc '/usr/local/lib/mecab/dic/mecab-ko-dic'\n",
            "make[1]: Leaving directory '/tmp/mecab-ko-dic-2.1.1-20180720'\n",
            "Cloning into 'mecab-python-0.996'...\n",
            "Unpacking objects: 100% (17/17), done.\n",
            "running build\n",
            "running build_py\n",
            "creating build\n",
            "creating build/lib.linux-x86_64-3.7\n",
            "copying MeCab.py -> build/lib.linux-x86_64-3.7\n",
            "running build_ext\n",
            "building '_MeCab' extension\n",
            "creating build/temp.linux-x86_64-3.7\n",
            "x86_64-linux-gnu-gcc -pthread -Wno-unused-result -Wsign-compare -DNDEBUG -g -fwrapv -O2 -Wall -g -fstack-protector-strong -Wformat -Werror=format-security -g -fwrapv -O2 -g -fstack-protector-strong -Wformat -Werror=format-security -Wdate-time -D_FORTIFY_SOURCE=2 -fPIC -I/usr/local/include -I/usr/include/python3.7m -c MeCab_wrap.cxx -o build/temp.linux-x86_64-3.7/MeCab_wrap.o\n",
            "x86_64-linux-gnu-g++ -pthread -shared -Wl,-O1 -Wl,-Bsymbolic-functions -Wl,-Bsymbolic-functions -g -fwrapv -O2 -Wl,-Bsymbolic-functions -g -fwrapv -O2 -g -fstack-protector-strong -Wformat -Werror=format-security -Wdate-time -D_FORTIFY_SOURCE=2 build/temp.linux-x86_64-3.7/MeCab_wrap.o -L/usr/local/lib -lmecab -lstdc++ -o build/lib.linux-x86_64-3.7/_MeCab.cpython-37m-x86_64-linux-gnu.so\n",
            "running install\n",
            "running build\n",
            "running build_py\n",
            "running build_ext\n",
            "running install_lib\n",
            "copying build/lib.linux-x86_64-3.7/MeCab.py -> /usr/local/lib/python3.7/dist-packages\n",
            "copying build/lib.linux-x86_64-3.7/_MeCab.cpython-37m-x86_64-linux-gnu.so -> /usr/local/lib/python3.7/dist-packages\n",
            "byte-compiling /usr/local/lib/python3.7/dist-packages/MeCab.py to MeCab.cpython-37.pyc\n",
            "running install_egg_info\n",
            "Writing /usr/local/lib/python3.7/dist-packages/mecab_python-0.996_ko_0.9.2.egg-info\n"
          ]
        }
      ]
    },
    {
      "cell_type": "markdown",
      "source": [
        "### **🍃 01-2_필요 라이브러리 import**"
      ],
      "metadata": {
        "id": "qd34pLOWPwHr"
      }
    },
    {
      "cell_type": "markdown",
      "source": [
        "- **re** (정규 표현식)  \n",
        "- **pandas** (데이터 프레임)  \n",
        "- **numpy**  (수 표현)  \n",
        "- **urllib** (웹 크롤링)     \n",
        "- **matplotlib** (시각화)  \n",
        "- **tensorflow / keras** (딥러닝 프로그램 구현)   \n",
        "- **Okt / Mecab** (형태소 분석기)   \n",
        "- **Tokenizer** (토크나이저)\n",
        "- **pad_sequences** (시퀀스 패딩)  \n",
        "- **keras.initializers import Constant** (파라미터 특정 상수 값으로 생성)\n",
        "- **EarlyStopping** (학습 조기 종료)  \n",
        "- **ModelCheckpoint** (학습중인 모델 자동 저장)  \n",
        "- **load_model** (모델 불러오기)  \n",
        "- **collections.Counter** (데이터 개수 카운팅)  \n",
        "- **gensim** (자연어 벡터 변환)  \n",
        "- **KeyedVectors / Word2VecKeyedVectors** (1회성 학습 모델 - 벡터 추가 불가, 높은 확장성, 가벼움)  \n",
        "- **sklearn.train_test_split** (테스트, 트레인 분리)"
      ],
      "metadata": {
        "id": "TR6YnQ8VQPKT"
      }
    },
    {
      "cell_type": "code",
      "source": [
        "import re\n",
        "import pandas as pd\n",
        "import numpy as np\n",
        "\n",
        "import urllib.request\n",
        "import matplotlib.pyplot as plt\n",
        "%matplotlib inline\n",
        "\n",
        "\n",
        "from konlpy.tag import Okt\n",
        "from konlpy.tag import Mecab\n",
        "\n",
        "from tensorflow import keras\n",
        "from tensorflow.keras.preprocessing.text import Tokenizer\n",
        "from tensorflow.keras.preprocessing.sequence import pad_sequences\n",
        "from tensorflow.keras.initializers import Constant\n",
        "from tensorflow.keras.callbacks import EarlyStopping, ModelCheckpoint\n",
        "from tensorflow.keras.models import load_model\n",
        "\n",
        "from collections import Counter\n",
        "import gensim\n",
        "from gensim.models import KeyedVectors\n",
        "from sklearn.model_selection import train_test_split\n",
        "from gensim.models.keyedvectors import Word2VecKeyedVectors"
      ],
      "metadata": {
        "id": "1UKjX2cG60hy"
      },
      "execution_count": null,
      "outputs": []
    },
    {
      "cell_type": "markdown",
      "source": [
        "### **🍃 01-3_필요 데이터 import**"
      ],
      "metadata": {
        "id": "cDhjKyyAP4fa"
      }
    },
    {
      "cell_type": "markdown",
      "source": [
        "- **구글 드라이브 마운트**"
      ],
      "metadata": {
        "id": "IsmV83j3QLAt"
      }
    },
    {
      "cell_type": "code",
      "source": [
        "from google.colab import drive\n",
        "drive.mount('/content/drive')"
      ],
      "metadata": {
        "colab": {
          "base_uri": "https://localhost:8080/"
        },
        "id": "69ayPoPE7G6o",
        "outputId": "2a6fb460-d5d4-4647-d3c0-088349b3a83a"
      },
      "execution_count": null,
      "outputs": [
        {
          "output_type": "stream",
          "name": "stdout",
          "text": [
            "Mounted at /content/drive\n"
          ]
        }
      ]
    },
    {
      "cell_type": "code",
      "source": [
        "% cd /content/drive/MyDrive/Colab Notebooks/aiffel/01-2_exploration/E-09/data"
      ],
      "metadata": {
        "colab": {
          "base_uri": "https://localhost:8080/"
        },
        "id": "YwwbmvS07YLS",
        "outputId": "7c0b808a-4410-4c6c-fcb5-51ff737f7263"
      },
      "execution_count": null,
      "outputs": [
        {
          "output_type": "stream",
          "name": "stdout",
          "text": [
            "/content/drive/MyDrive/Colab Notebooks/aiffel/01-2_exploration/E-09/data\n"
          ]
        }
      ]
    },
    {
      "cell_type": "markdown",
      "source": [
        "- **학습 데이터 import**"
      ],
      "metadata": {
        "id": "eQxxgHnbQAFb"
      }
    },
    {
      "cell_type": "code",
      "source": [
        "train_data = pd.read_table('/content/drive/MyDrive/Colab Notebooks/aiffel/01-2_exploration/E-09/data/ratings_train.txt')\n",
        "train_data.head()"
      ],
      "metadata": {
        "colab": {
          "base_uri": "https://localhost:8080/",
          "height": 206
        },
        "id": "naMNSr7Q62E2",
        "outputId": "88bac902-9c4f-4c05-cf0d-239f26aa5caf"
      },
      "execution_count": null,
      "outputs": [
        {
          "output_type": "execute_result",
          "data": {
            "text/plain": [
              "         id                                           document  label\n",
              "0   9976970                                아 더빙.. 진짜 짜증나네요 목소리      0\n",
              "1   3819312                  흠...포스터보고 초딩영화줄....오버연기조차 가볍지 않구나      1\n",
              "2  10265843                                  너무재밓었다그래서보는것을추천한다      0\n",
              "3   9045019                      교도소 이야기구먼 ..솔직히 재미는 없다..평점 조정      0\n",
              "4   6483659  사이몬페그의 익살스런 연기가 돋보였던 영화!스파이더맨에서 늙어보이기만 했던 커스틴 ...      1"
            ],
            "text/html": [
              "\n",
              "  <div id=\"df-44d27c47-47e0-476e-9105-a12762e4b42e\">\n",
              "    <div class=\"colab-df-container\">\n",
              "      <div>\n",
              "<style scoped>\n",
              "    .dataframe tbody tr th:only-of-type {\n",
              "        vertical-align: middle;\n",
              "    }\n",
              "\n",
              "    .dataframe tbody tr th {\n",
              "        vertical-align: top;\n",
              "    }\n",
              "\n",
              "    .dataframe thead th {\n",
              "        text-align: right;\n",
              "    }\n",
              "</style>\n",
              "<table border=\"1\" class=\"dataframe\">\n",
              "  <thead>\n",
              "    <tr style=\"text-align: right;\">\n",
              "      <th></th>\n",
              "      <th>id</th>\n",
              "      <th>document</th>\n",
              "      <th>label</th>\n",
              "    </tr>\n",
              "  </thead>\n",
              "  <tbody>\n",
              "    <tr>\n",
              "      <th>0</th>\n",
              "      <td>9976970</td>\n",
              "      <td>아 더빙.. 진짜 짜증나네요 목소리</td>\n",
              "      <td>0</td>\n",
              "    </tr>\n",
              "    <tr>\n",
              "      <th>1</th>\n",
              "      <td>3819312</td>\n",
              "      <td>흠...포스터보고 초딩영화줄....오버연기조차 가볍지 않구나</td>\n",
              "      <td>1</td>\n",
              "    </tr>\n",
              "    <tr>\n",
              "      <th>2</th>\n",
              "      <td>10265843</td>\n",
              "      <td>너무재밓었다그래서보는것을추천한다</td>\n",
              "      <td>0</td>\n",
              "    </tr>\n",
              "    <tr>\n",
              "      <th>3</th>\n",
              "      <td>9045019</td>\n",
              "      <td>교도소 이야기구먼 ..솔직히 재미는 없다..평점 조정</td>\n",
              "      <td>0</td>\n",
              "    </tr>\n",
              "    <tr>\n",
              "      <th>4</th>\n",
              "      <td>6483659</td>\n",
              "      <td>사이몬페그의 익살스런 연기가 돋보였던 영화!스파이더맨에서 늙어보이기만 했던 커스틴 ...</td>\n",
              "      <td>1</td>\n",
              "    </tr>\n",
              "  </tbody>\n",
              "</table>\n",
              "</div>\n",
              "      <button class=\"colab-df-convert\" onclick=\"convertToInteractive('df-44d27c47-47e0-476e-9105-a12762e4b42e')\"\n",
              "              title=\"Convert this dataframe to an interactive table.\"\n",
              "              style=\"display:none;\">\n",
              "        \n",
              "  <svg xmlns=\"http://www.w3.org/2000/svg\" height=\"24px\"viewBox=\"0 0 24 24\"\n",
              "       width=\"24px\">\n",
              "    <path d=\"M0 0h24v24H0V0z\" fill=\"none\"/>\n",
              "    <path d=\"M18.56 5.44l.94 2.06.94-2.06 2.06-.94-2.06-.94-.94-2.06-.94 2.06-2.06.94zm-11 1L8.5 8.5l.94-2.06 2.06-.94-2.06-.94L8.5 2.5l-.94 2.06-2.06.94zm10 10l.94 2.06.94-2.06 2.06-.94-2.06-.94-.94-2.06-.94 2.06-2.06.94z\"/><path d=\"M17.41 7.96l-1.37-1.37c-.4-.4-.92-.59-1.43-.59-.52 0-1.04.2-1.43.59L10.3 9.45l-7.72 7.72c-.78.78-.78 2.05 0 2.83L4 21.41c.39.39.9.59 1.41.59.51 0 1.02-.2 1.41-.59l7.78-7.78 2.81-2.81c.8-.78.8-2.07 0-2.86zM5.41 20L4 18.59l7.72-7.72 1.47 1.35L5.41 20z\"/>\n",
              "  </svg>\n",
              "      </button>\n",
              "      \n",
              "  <style>\n",
              "    .colab-df-container {\n",
              "      display:flex;\n",
              "      flex-wrap:wrap;\n",
              "      gap: 12px;\n",
              "    }\n",
              "\n",
              "    .colab-df-convert {\n",
              "      background-color: #E8F0FE;\n",
              "      border: none;\n",
              "      border-radius: 50%;\n",
              "      cursor: pointer;\n",
              "      display: none;\n",
              "      fill: #1967D2;\n",
              "      height: 32px;\n",
              "      padding: 0 0 0 0;\n",
              "      width: 32px;\n",
              "    }\n",
              "\n",
              "    .colab-df-convert:hover {\n",
              "      background-color: #E2EBFA;\n",
              "      box-shadow: 0px 1px 2px rgba(60, 64, 67, 0.3), 0px 1px 3px 1px rgba(60, 64, 67, 0.15);\n",
              "      fill: #174EA6;\n",
              "    }\n",
              "\n",
              "    [theme=dark] .colab-df-convert {\n",
              "      background-color: #3B4455;\n",
              "      fill: #D2E3FC;\n",
              "    }\n",
              "\n",
              "    [theme=dark] .colab-df-convert:hover {\n",
              "      background-color: #434B5C;\n",
              "      box-shadow: 0px 1px 3px 1px rgba(0, 0, 0, 0.15);\n",
              "      filter: drop-shadow(0px 1px 2px rgba(0, 0, 0, 0.3));\n",
              "      fill: #FFFFFF;\n",
              "    }\n",
              "  </style>\n",
              "\n",
              "      <script>\n",
              "        const buttonEl =\n",
              "          document.querySelector('#df-44d27c47-47e0-476e-9105-a12762e4b42e button.colab-df-convert');\n",
              "        buttonEl.style.display =\n",
              "          google.colab.kernel.accessAllowed ? 'block' : 'none';\n",
              "\n",
              "        async function convertToInteractive(key) {\n",
              "          const element = document.querySelector('#df-44d27c47-47e0-476e-9105-a12762e4b42e');\n",
              "          const dataTable =\n",
              "            await google.colab.kernel.invokeFunction('convertToInteractive',\n",
              "                                                     [key], {});\n",
              "          if (!dataTable) return;\n",
              "\n",
              "          const docLinkHtml = 'Like what you see? Visit the ' +\n",
              "            '<a target=\"_blank\" href=https://colab.research.google.com/notebooks/data_table.ipynb>data table notebook</a>'\n",
              "            + ' to learn more about interactive tables.';\n",
              "          element.innerHTML = '';\n",
              "          dataTable['output_type'] = 'display_data';\n",
              "          await google.colab.output.renderOutput(dataTable, element);\n",
              "          const docLink = document.createElement('div');\n",
              "          docLink.innerHTML = docLinkHtml;\n",
              "          element.appendChild(docLink);\n",
              "        }\n",
              "      </script>\n",
              "    </div>\n",
              "  </div>\n",
              "  "
            ]
          },
          "metadata": {},
          "execution_count": 6
        }
      ]
    },
    {
      "cell_type": "markdown",
      "source": [
        "- **테스트 데이터 import**"
      ],
      "metadata": {
        "id": "Q2FqNtgpQIVV"
      }
    },
    {
      "cell_type": "code",
      "source": [
        "test_data = pd.read_table('/content/drive/MyDrive/Colab Notebooks/aiffel/01-2_exploration/E-09/data/ratings_test.txt')\n",
        "test_data.head()"
      ],
      "metadata": {
        "colab": {
          "base_uri": "https://localhost:8080/",
          "height": 206
        },
        "id": "Cp_iiuxX7uI2",
        "outputId": "1ad864cd-f7c2-4ed4-a6aa-4368bb7ef6fa"
      },
      "execution_count": null,
      "outputs": [
        {
          "output_type": "execute_result",
          "data": {
            "text/plain": [
              "        id                                           document  label\n",
              "0  6270596                                                굳 ㅋ      1\n",
              "1  9274899                               GDNTOPCLASSINTHECLUB      0\n",
              "2  8544678             뭐야 이 평점들은.... 나쁘진 않지만 10점 짜리는 더더욱 아니잖아      0\n",
              "3  6825595                   지루하지는 않은데 완전 막장임... 돈주고 보기에는....      0\n",
              "4  6723715  3D만 아니었어도 별 다섯 개 줬을텐데.. 왜 3D로 나와서 제 심기를 불편하게 하죠??      0"
            ],
            "text/html": [
              "\n",
              "  <div id=\"df-8d57fd43-a7b4-408a-b0f4-173176b98415\">\n",
              "    <div class=\"colab-df-container\">\n",
              "      <div>\n",
              "<style scoped>\n",
              "    .dataframe tbody tr th:only-of-type {\n",
              "        vertical-align: middle;\n",
              "    }\n",
              "\n",
              "    .dataframe tbody tr th {\n",
              "        vertical-align: top;\n",
              "    }\n",
              "\n",
              "    .dataframe thead th {\n",
              "        text-align: right;\n",
              "    }\n",
              "</style>\n",
              "<table border=\"1\" class=\"dataframe\">\n",
              "  <thead>\n",
              "    <tr style=\"text-align: right;\">\n",
              "      <th></th>\n",
              "      <th>id</th>\n",
              "      <th>document</th>\n",
              "      <th>label</th>\n",
              "    </tr>\n",
              "  </thead>\n",
              "  <tbody>\n",
              "    <tr>\n",
              "      <th>0</th>\n",
              "      <td>6270596</td>\n",
              "      <td>굳 ㅋ</td>\n",
              "      <td>1</td>\n",
              "    </tr>\n",
              "    <tr>\n",
              "      <th>1</th>\n",
              "      <td>9274899</td>\n",
              "      <td>GDNTOPCLASSINTHECLUB</td>\n",
              "      <td>0</td>\n",
              "    </tr>\n",
              "    <tr>\n",
              "      <th>2</th>\n",
              "      <td>8544678</td>\n",
              "      <td>뭐야 이 평점들은.... 나쁘진 않지만 10점 짜리는 더더욱 아니잖아</td>\n",
              "      <td>0</td>\n",
              "    </tr>\n",
              "    <tr>\n",
              "      <th>3</th>\n",
              "      <td>6825595</td>\n",
              "      <td>지루하지는 않은데 완전 막장임... 돈주고 보기에는....</td>\n",
              "      <td>0</td>\n",
              "    </tr>\n",
              "    <tr>\n",
              "      <th>4</th>\n",
              "      <td>6723715</td>\n",
              "      <td>3D만 아니었어도 별 다섯 개 줬을텐데.. 왜 3D로 나와서 제 심기를 불편하게 하죠??</td>\n",
              "      <td>0</td>\n",
              "    </tr>\n",
              "  </tbody>\n",
              "</table>\n",
              "</div>\n",
              "      <button class=\"colab-df-convert\" onclick=\"convertToInteractive('df-8d57fd43-a7b4-408a-b0f4-173176b98415')\"\n",
              "              title=\"Convert this dataframe to an interactive table.\"\n",
              "              style=\"display:none;\">\n",
              "        \n",
              "  <svg xmlns=\"http://www.w3.org/2000/svg\" height=\"24px\"viewBox=\"0 0 24 24\"\n",
              "       width=\"24px\">\n",
              "    <path d=\"M0 0h24v24H0V0z\" fill=\"none\"/>\n",
              "    <path d=\"M18.56 5.44l.94 2.06.94-2.06 2.06-.94-2.06-.94-.94-2.06-.94 2.06-2.06.94zm-11 1L8.5 8.5l.94-2.06 2.06-.94-2.06-.94L8.5 2.5l-.94 2.06-2.06.94zm10 10l.94 2.06.94-2.06 2.06-.94-2.06-.94-.94-2.06-.94 2.06-2.06.94z\"/><path d=\"M17.41 7.96l-1.37-1.37c-.4-.4-.92-.59-1.43-.59-.52 0-1.04.2-1.43.59L10.3 9.45l-7.72 7.72c-.78.78-.78 2.05 0 2.83L4 21.41c.39.39.9.59 1.41.59.51 0 1.02-.2 1.41-.59l7.78-7.78 2.81-2.81c.8-.78.8-2.07 0-2.86zM5.41 20L4 18.59l7.72-7.72 1.47 1.35L5.41 20z\"/>\n",
              "  </svg>\n",
              "      </button>\n",
              "      \n",
              "  <style>\n",
              "    .colab-df-container {\n",
              "      display:flex;\n",
              "      flex-wrap:wrap;\n",
              "      gap: 12px;\n",
              "    }\n",
              "\n",
              "    .colab-df-convert {\n",
              "      background-color: #E8F0FE;\n",
              "      border: none;\n",
              "      border-radius: 50%;\n",
              "      cursor: pointer;\n",
              "      display: none;\n",
              "      fill: #1967D2;\n",
              "      height: 32px;\n",
              "      padding: 0 0 0 0;\n",
              "      width: 32px;\n",
              "    }\n",
              "\n",
              "    .colab-df-convert:hover {\n",
              "      background-color: #E2EBFA;\n",
              "      box-shadow: 0px 1px 2px rgba(60, 64, 67, 0.3), 0px 1px 3px 1px rgba(60, 64, 67, 0.15);\n",
              "      fill: #174EA6;\n",
              "    }\n",
              "\n",
              "    [theme=dark] .colab-df-convert {\n",
              "      background-color: #3B4455;\n",
              "      fill: #D2E3FC;\n",
              "    }\n",
              "\n",
              "    [theme=dark] .colab-df-convert:hover {\n",
              "      background-color: #434B5C;\n",
              "      box-shadow: 0px 1px 3px 1px rgba(0, 0, 0, 0.15);\n",
              "      filter: drop-shadow(0px 1px 2px rgba(0, 0, 0, 0.3));\n",
              "      fill: #FFFFFF;\n",
              "    }\n",
              "  </style>\n",
              "\n",
              "      <script>\n",
              "        const buttonEl =\n",
              "          document.querySelector('#df-8d57fd43-a7b4-408a-b0f4-173176b98415 button.colab-df-convert');\n",
              "        buttonEl.style.display =\n",
              "          google.colab.kernel.accessAllowed ? 'block' : 'none';\n",
              "\n",
              "        async function convertToInteractive(key) {\n",
              "          const element = document.querySelector('#df-8d57fd43-a7b4-408a-b0f4-173176b98415');\n",
              "          const dataTable =\n",
              "            await google.colab.kernel.invokeFunction('convertToInteractive',\n",
              "                                                     [key], {});\n",
              "          if (!dataTable) return;\n",
              "\n",
              "          const docLinkHtml = 'Like what you see? Visit the ' +\n",
              "            '<a target=\"_blank\" href=https://colab.research.google.com/notebooks/data_table.ipynb>data table notebook</a>'\n",
              "            + ' to learn more about interactive tables.';\n",
              "          element.innerHTML = '';\n",
              "          dataTable['output_type'] = 'display_data';\n",
              "          await google.colab.output.renderOutput(dataTable, element);\n",
              "          const docLink = document.createElement('div');\n",
              "          docLink.innerHTML = docLinkHtml;\n",
              "          element.appendChild(docLink);\n",
              "        }\n",
              "      </script>\n",
              "    </div>\n",
              "  </div>\n",
              "  "
            ]
          },
          "metadata": {},
          "execution_count": 7
        }
      ]
    },
    {
      "cell_type": "markdown",
      "source": [
        "## **🌿 02_데이터로더 구성**"
      ],
      "metadata": {
        "id": "1BGYuDwSQynK"
      }
    },
    {
      "cell_type": "markdown",
      "source": [
        "### **🍃 02-1_토큰화 및 불용어 제거**"
      ],
      "metadata": {
        "id": "effBlN38Bm6X"
      }
    },
    {
      "cell_type": "markdown",
      "source": [
        "- **형태소 분석기 Mecab을 활용한 토큰화**  \n",
        "- **불용어 제거**  \n",
        "\n"
      ],
      "metadata": {
        "id": "sOa37ujjBzNv"
      }
    },
    {
      "cell_type": "code",
      "source": [
        "tokenizer = Mecab()\n",
        "stopwords = ['의','가','이','은','들','는','좀','잘','걍','과','도','를','으로','자','에','와','한','하다']"
      ],
      "metadata": {
        "id": "z491KZ7271kr"
      },
      "execution_count": null,
      "outputs": []
    },
    {
      "cell_type": "markdown",
      "source": [
        "### **🍃 02-2_load_data 제작**"
      ],
      "metadata": {
        "id": "wVWB1m-eCRIJ"
      }
    },
    {
      "cell_type": "markdown",
      "source": [
        "- **데이터 중복 제거**  \n",
        "- **NaN 결측치 제거**  \n",
        "- **한국어 토크나이저로 토큰화**  \n",
        "- **불용어 제거**  \n",
        "- **사전 word_to_index 구성**  \n",
        "- **텍스트 스트링을 사전 인덱스 스트링으로 변환**  \n",
        "- **X_train, y_train, X_test, y_test, word_to_index**  "
      ],
      "metadata": {
        "id": "iFaVvwUO7yDh"
      }
    },
    {
      "cell_type": "code",
      "source": [
        "def load_data(train_data, test_data, num_words=10000):\n",
        "\n",
        "    #데이터 중복 제거(drop_duplicates) 및 NaN 결측치 제거(dropna)\n",
        "    train_data.drop_duplicates(subset=['document'], inplace=True)\n",
        "    train_data = train_data.dropna(how = 'any')\n",
        "    test_data.drop_duplicates(subset=['document'], inplace=True)\n",
        "    test_data = test_data.dropna(how = 'any')\n",
        "    \n",
        "    #토큰화(tokenizer) 및 불용어 제거(stopwords) \n",
        "    X_train = []\n",
        "    for sentence in train_data['document']:\n",
        "        temp_X = tokenizer.morphs(sentence)\n",
        "        temp_X = [word for word in temp_X if not word in stopwords]\n",
        "        X_train.append(temp_X)\n",
        "\n",
        "    X_test = []\n",
        "    for sentence in test_data['document']:\n",
        "        temp_X = tokenizer.morphs(sentence)\n",
        "        temp_X = [word for word in temp_X if not word in stopwords]\n",
        "        X_test.append(temp_X)\n",
        "\n",
        "    # 사전 word_to_index 구성 (word_to_index)\n",
        "    words = np.concatenate(X_train).tolist()\n",
        "    counter = Counter(words)\n",
        "    counter = counter.most_common(10000-4)\n",
        "    vocab = ['<PAD>', '<BOS>', '<UNK>', '<UNUSED>'] + [key for key, _ in counter]\n",
        "    word_to_index = {word:index for index, word in enumerate(vocab)}\n",
        "    \n",
        "    # 텍스트 스트링을 사전 인덱스 스트링으로 변환\n",
        "    def wordlist_to_indexlist(wordlist):\n",
        "        return [word_to_index[word] if word in word_to_index else word_to_index['<UNK>'] for word in wordlist]\n",
        "\n",
        "    # X_train, y_train, X_test, y_test, word_to_index\n",
        "    X_train = list(map(wordlist_to_indexlist, X_train))\n",
        "    X_test = list(map(wordlist_to_indexlist, X_test))\n",
        "\n",
        "    return X_train, np.array(list(train_data['label'])), X_test, np.array(list(test_data['label'])), word_to_index"
      ],
      "metadata": {
        "id": "zC1u1M24-fav"
      },
      "execution_count": null,
      "outputs": []
    },
    {
      "cell_type": "markdown",
      "source": [
        "### **🍃 02-3_기타 함수 제작**"
      ],
      "metadata": {
        "id": "Hmmp0b8i_Vg3"
      }
    },
    {
      "cell_type": "markdown",
      "source": [
        "- **문장 1개를 활용할 딕셔너리와 함께 주면, 단어 인덱스 리스트 벡터로 변환**\n",
        "- **모든 문장은 \\<BOS>로 시작**"
      ],
      "metadata": {
        "id": "NSt-jSeD-J2K"
      }
    },
    {
      "cell_type": "code",
      "source": [
        "def get_encoded_sentence(sentence, word_to_index):\n",
        "    return [word_to_index['<BOS>']]+[word_to_index[word] if word in word_to_index else word_to_index['<UNK>'] for word in sentence.split()]"
      ],
      "metadata": {
        "id": "KGpDGKeJLdg8"
      },
      "execution_count": null,
      "outputs": []
    },
    {
      "cell_type": "markdown",
      "source": [
        "- **여러 개의 문장 리스트를 한번에 단어 인덱스 리스트 벡터로 encode**"
      ],
      "metadata": {
        "id": "UwsuOksr_nMB"
      }
    },
    {
      "cell_type": "code",
      "source": [
        "def get_encoded_sentences(sentences, word_to_index):\n",
        "    return [get_encoded_sentence(sentence, word_to_index) for sentence in sentences]"
      ],
      "metadata": {
        "id": "m3FwraF_Likc"
      },
      "execution_count": null,
      "outputs": []
    },
    {
      "cell_type": "markdown",
      "source": [
        "- **숫자 벡터로 encode된 문장을 원래대로 decode**\n",
        "- **\\[1:]를 통해 \\<BOS> 제외**"
      ],
      "metadata": {
        "id": "0GRH878I_vUt"
      }
    },
    {
      "cell_type": "code",
      "source": [
        "def get_decoded_sentence(encoded_sentence, index_to_word):\n",
        "    return ' '.join(index_to_word[index] if index in index_to_word else '<UNK>' for index in encoded_sentence[1:])"
      ],
      "metadata": {
        "id": "5oasAQuILkXJ"
      },
      "execution_count": null,
      "outputs": []
    },
    {
      "cell_type": "markdown",
      "source": [
        "- **여러 개의 숫자 벡터로 encode된 문장을 한꺼번에 원래대로 decode**"
      ],
      "metadata": {
        "id": "fZn3uFqX_6T1"
      }
    },
    {
      "cell_type": "code",
      "source": [
        "def get_decoded_sentences(encoded_sentences, index_to_word):\n",
        "    return [get_decoded_sentence(encoded_sentence, index_to_word) for encoded_sentence in encoded_sentences]"
      ],
      "metadata": {
        "id": "ETZxG9xILmn7"
      },
      "execution_count": null,
      "outputs": []
    },
    {
      "cell_type": "markdown",
      "source": [
        "- **에폭에 따른 정확도(Accuracy), 손실(Loss) 시각화**"
      ],
      "metadata": {
        "id": "6v-c0fjXAEXL"
      }
    },
    {
      "cell_type": "code",
      "source": [
        "def visualization(history):\n",
        "    history_dict = history.history\n",
        "\n",
        "    acc = history_dict['accuracy']\n",
        "    val_acc = history_dict['val_accuracy']\n",
        "    loss = history_dict['loss']\n",
        "    val_loss = history_dict['val_loss']\n",
        "\n",
        "    epochs = range(1, len(acc) + 1)\n",
        "    \n",
        "    # 손실(Loss) 시각화\n",
        "    plt.plot(epochs, loss, 'bo', label='Training loss')\n",
        "    plt.plot(epochs, val_loss, 'b', label='Validation loss')\n",
        "    plt.title('Training and validation loss')\n",
        "    plt.xlabel('Epochs')\n",
        "    plt.ylabel('Loss')\n",
        "    plt.legend()\n",
        "    plt.show()\n",
        "    \n",
        "    # 정확도(Accuracy) 시각화\n",
        "    plt.clf()\n",
        "    plt.plot(epochs, acc, 'bo', label='Training acc')\n",
        "    plt.plot(epochs, val_acc, 'b', label='Validation acc')\n",
        "    plt.title('Training and validation accuracy')\n",
        "    plt.xlabel('Epochs')\n",
        "    plt.ylabel('Accuracy')\n",
        "    plt.legend()\n",
        "    plt.show()"
      ],
      "metadata": {
        "id": "KHyfTIj8LpBK"
      },
      "execution_count": null,
      "outputs": []
    },
    {
      "cell_type": "markdown",
      "source": [
        "- **model 훈련 및 평가**"
      ],
      "metadata": {
        "id": "aTEzErIxAy9g"
      }
    },
    {
      "cell_type": "code",
      "source": [
        "def fitting_machine(model,epoch):\n",
        "    model = model\n",
        "    model.compile(optimizer='adam',\n",
        "              loss='binary_crossentropy',\n",
        "              metrics=['accuracy'])\n",
        "\n",
        "    history = model.fit(partial_x_train,\n",
        "                        partial_y_train,\n",
        "                        epochs=epoch,\n",
        "                        batch_size=32,\n",
        "                        validation_data=(x_val, y_val),\n",
        "                        verbose=1)\n",
        "    \n",
        "    results = model.evaluate(X_test,  y_test, verbose=2)\n",
        "    print(f'\\nThis is {model.name}\\nLoss: {results[0]}\\nAccurancy: {results[1]}\\n')\n",
        "    \n",
        "    return history"
      ],
      "metadata": {
        "id": "S2GQUIJCLsBF"
      },
      "execution_count": null,
      "outputs": []
    },
    {
      "cell_type": "markdown",
      "source": [
        "## **🌿 03_모델 구성을 위한 데이터 분석 및 가공**"
      ],
      "metadata": {
        "id": "jrPgJdKnBKVE"
      }
    },
    {
      "cell_type": "markdown",
      "source": [
        "### **🍃 03-1_데이터 불러오기**"
      ],
      "metadata": {
        "id": "LtF_P__zBg0h"
      }
    },
    {
      "cell_type": "markdown",
      "source": [
        "- **data load 후 X_train, y_train, X_test, y_test, word_to_index 리턴**"
      ],
      "metadata": {
        "id": "pK3BzeYw-5tr"
      }
    },
    {
      "cell_type": "code",
      "source": [
        "X_train, y_train, X_test, y_test, word_to_index = load_data(train_data, test_data) "
      ],
      "metadata": {
        "id": "aQIxf1-KLxp1"
      },
      "execution_count": null,
      "outputs": []
    },
    {
      "cell_type": "markdown",
      "source": [
        "- **index에서 word로 변환**"
      ],
      "metadata": {
        "id": "dM8aSB1W-03l"
      }
    },
    {
      "cell_type": "code",
      "source": [
        "index_to_word = {index:word for word, index in word_to_index.items()}"
      ],
      "metadata": {
        "id": "y8vxPpDYLzGf"
      },
      "execution_count": null,
      "outputs": []
    },
    {
      "cell_type": "markdown",
      "source": [
        "- **word_to_index의 수**"
      ],
      "metadata": {
        "id": "uFT97pJm-sKj"
      }
    },
    {
      "cell_type": "code",
      "source": [
        "len(word_to_index)"
      ],
      "metadata": {
        "colab": {
          "base_uri": "https://localhost:8080/"
        },
        "id": "qvUWgNmIL0iX",
        "outputId": "d2ad77b5-fecb-43c1-aa57-8a056bc6d542"
      },
      "execution_count": null,
      "outputs": [
        {
          "output_type": "execute_result",
          "data": {
            "text/plain": [
              "10000"
            ]
          },
          "metadata": {},
          "execution_count": 18
        }
      ]
    },
    {
      "cell_type": "markdown",
      "source": [
        "- **function, data 형태 확인**"
      ],
      "metadata": {
        "id": "eNxnUlYF-jio"
      }
    },
    {
      "cell_type": "code",
      "source": [
        "print(get_decoded_sentence(X_train[0], index_to_word))\n",
        "print('라벨: ', y_train[0])"
      ],
      "metadata": {
        "colab": {
          "base_uri": "https://localhost:8080/"
        },
        "id": "eXnUcbCsL2xg",
        "outputId": "b0d76415-1721-4d1f-e8ba-f81b4b9a22e5"
      },
      "execution_count": null,
      "outputs": [
        {
          "output_type": "stream",
          "name": "stdout",
          "text": [
            "더 빙 . . 진짜 짜증 나 네요 목소리\n",
            "라벨:  0\n"
          ]
        }
      ]
    },
    {
      "cell_type": "markdown",
      "source": [
        "### **🍃 03-2_문장 길이 확인하기**"
      ],
      "metadata": {
        "id": "zBt7hnJ8BswA"
      }
    },
    {
      "cell_type": "markdown",
      "source": [
        "- **문장길이 평균값, 최대값, 표준편차 계산**  \n",
        "문장 길이 평균: 15 / 최대: 116 / 표준 편차: 12  \n",
        "적절한 문장 최대 길이: 41 (전체 문장의 93% 포함)"
      ],
      "metadata": {
        "id": "eSF4D9vTByh_"
      }
    },
    {
      "cell_type": "code",
      "source": [
        "total_data_text = list(X_train) + list(X_test)\n",
        "\n",
        "num_tokens = [len(tokens) for tokens in total_data_text]\n",
        "num_tokens = np.array(num_tokens)\n",
        "\n",
        "print('문장길이 평균: ', np.mean(num_tokens))\n",
        "print('문장길이 최대: ', np.max(num_tokens))\n",
        "print('문장길이 표준편차: ', np.std(num_tokens))\n",
        "\n",
        "max_tokens = np.mean(num_tokens) + 2 * np.std(num_tokens)\n",
        "maxlen = int(max_tokens)\n",
        "print('pad_sequences maxlen: ', maxlen)\n",
        "print('전체 문장의 {}%가 maxlen 설정값 이내에 포함됩니다. '.format(np.sum(num_tokens < max_tokens) / len(num_tokens)))"
      ],
      "metadata": {
        "colab": {
          "base_uri": "https://localhost:8080/"
        },
        "id": "nIwMWRw5L38G",
        "outputId": "aa2a05c7-f992-42a2-ee10-56db3a1b8548"
      },
      "execution_count": null,
      "outputs": [
        {
          "output_type": "stream",
          "name": "stdout",
          "text": [
            "문장길이 평균:  15.96938143432699\n",
            "문장길이 최대:  116\n",
            "문장길이 표준편차:  12.843571939469296\n",
            "pad_sequences maxlen:  41\n",
            "전체 문장의 0.9342988343341575%가 maxlen 설정값 이내에 포함됩니다. \n"
          ]
        }
      ]
    },
    {
      "cell_type": "markdown",
      "source": [
        "### **🍃 03-3_keras.pad_sequences를 활용한 패딩 추가**"
      ],
      "metadata": {
        "id": "aRxcPk62Cgos"
      }
    },
    {
      "cell_type": "code",
      "source": [
        "X_train = keras.preprocessing.sequence.pad_sequences(X_train,\n",
        "                                                        value=word_to_index[\"<PAD>\"],\n",
        "                                                        padding='pre',\n",
        "                                                        maxlen=maxlen)\n",
        "\n",
        "X_test = keras.preprocessing.sequence.pad_sequences(X_test,\n",
        "                                                       value=word_to_index[\"<PAD>\"],\n",
        "                                                       padding='pre',\n",
        "                                                       maxlen=maxlen)"
      ],
      "metadata": {
        "id": "4NdSjtndL5Wb"
      },
      "execution_count": null,
      "outputs": []
    },
    {
      "cell_type": "markdown",
      "source": [
        "## **🌿 04_모델 구성 및 validation set 구성**"
      ],
      "metadata": {
        "id": "1aMMr1AhDeDm"
      }
    },
    {
      "cell_type": "markdown",
      "source": [
        "### **🍃 04-1_Train, val data 분리**"
      ],
      "metadata": {
        "id": "CTnjrwthDt3C"
      }
    },
    {
      "cell_type": "markdown",
      "source": [
        "- **Train, val data 분리**  \n",
        "test_size=0.25 / random_state=25"
      ],
      "metadata": {
        "id": "WTboUf-_DEfT"
      }
    },
    {
      "cell_type": "code",
      "source": [
        "partial_x_train, x_val, partial_y_train, y_val = train_test_split(X_train, y_train, test_size=0.25, random_state=25)"
      ],
      "metadata": {
        "id": "KspFIWBEL6W9"
      },
      "execution_count": null,
      "outputs": []
    },
    {
      "cell_type": "markdown",
      "source": [
        "### **🍃 04-2_세가지 모델 subclassing 선언**"
      ],
      "metadata": {
        "id": "FUNBd1rOEHsU"
      }
    },
    {
      "cell_type": "markdown",
      "source": [
        "- **LSTMModel subclassing 선언**"
      ],
      "metadata": {
        "id": "nqOqL3s-EU6d"
      }
    },
    {
      "cell_type": "code",
      "source": [
        "class LSTMModel(keras.Model):\n",
        "    def __init__(self):\n",
        "        super().__init__()\n",
        "        vocab_size = 10000\n",
        "        word_vector_dim = 128\n",
        "        \n",
        "        self.embedding = keras.layers.Embedding(vocab_size, word_vector_dim, input_shape=(None,))\n",
        "        self.lstm = keras.layers.LSTM(128)\n",
        "        self.dense = keras.layers.Dense(1, activation='sigmoid')\n",
        "        \n",
        "    def call(self, x):\n",
        "        x = self.embedding(x)\n",
        "        x = self.lstm(x)\n",
        "        x = self.dense(x)\n",
        "        \n",
        "        return x"
      ],
      "metadata": {
        "id": "PqGx7zYTL7_i"
      },
      "execution_count": null,
      "outputs": []
    },
    {
      "cell_type": "markdown",
      "source": [
        "- **Conv1DModel subclassing 선언**"
      ],
      "metadata": {
        "id": "g398zH-eEhh9"
      }
    },
    {
      "cell_type": "code",
      "source": [
        "class Conv1DModel(keras.Model):\n",
        "    def __init__(self):\n",
        "        super().__init__()\n",
        "        vocab_size = 10000\n",
        "        word_vector_dim = 64\n",
        "        \n",
        "        self.embedding = keras.layers.Embedding(vocab_size, word_vector_dim, input_shape=(None,))\n",
        "        self.conv1 = keras.layers.Conv1D(64, 7, activation='relu')\n",
        "        self.maxp = keras.layers.MaxPooling1D(5)\n",
        "        self.conv2 = keras.layers.Conv1D(64, 7, activation='relu')\n",
        "        self.gmaxp = keras.layers.GlobalMaxPooling1D()\n",
        "        self.dense1 = keras.layers.Dense(128, activation='relu')\n",
        "        self.dense2 = keras.layers.Dense(1, activation='sigmoid')\n",
        "        \n",
        "    def call(self, x):\n",
        "        x = self.embedding(x)\n",
        "        x = self.conv1(x)\n",
        "        x = self.maxp(x)\n",
        "        x = self.conv2(x)\n",
        "        x = self.gmaxp(x)\n",
        "        x = self.dense1(x)\n",
        "        x = self.dense2(x)\n",
        "        \n",
        "        return x"
      ],
      "metadata": {
        "id": "4NxT1iYOMEGU"
      },
      "execution_count": null,
      "outputs": []
    },
    {
      "cell_type": "markdown",
      "source": [
        "- **GMPModel subclassing 선언**"
      ],
      "metadata": {
        "id": "WTD5ol3eEqrY"
      }
    },
    {
      "cell_type": "code",
      "source": [
        "class GMPModel(keras.Model):\n",
        "    def __init__(self):\n",
        "        super().__init__()\n",
        "        vocab_size = 10000\n",
        "        word_vector_dim = 64\n",
        "        \n",
        "        self.embedding = keras.layers.Embedding(vocab_size, word_vector_dim, input_shape=(None,))\n",
        "        self.gmp = keras.layers.GlobalMaxPooling1D()\n",
        "        self.dense1 = keras.layers.Dense(8, activation='relu')\n",
        "        self.dense2 = keras.layers.Dense(1, activation='sigmoid')\n",
        "        \n",
        "    def call(self, x):\n",
        "        x = self.embedding(x)\n",
        "        x = self.gmp(x)\n",
        "        x = self.dense1(x)\n",
        "        x = self.dense2(x)\n",
        "        \n",
        "        return x"
      ],
      "metadata": {
        "id": "aqHkIrUiMEAF"
      },
      "execution_count": null,
      "outputs": []
    },
    {
      "cell_type": "markdown",
      "source": [
        "### **🍃 04-3_세가지 모델 선언**"
      ],
      "metadata": {
        "id": "e6MbX08wE0IM"
      }
    },
    {
      "cell_type": "markdown",
      "source": [
        "- **Model 선언**\n",
        "\n"
      ],
      "metadata": {
        "id": "ZDFti51WOgC0"
      }
    },
    {
      "cell_type": "code",
      "source": [
        "lstm_model = LSTMModel()\n",
        "conv1d_model = Conv1DModel()\n",
        "gmp_model = GMPModel()"
      ],
      "metadata": {
        "id": "e9yWqMhyL8oA"
      },
      "execution_count": null,
      "outputs": []
    },
    {
      "cell_type": "markdown",
      "source": [
        "## **🌿 05_모델 훈련 개시 및  Loss, Accuracy 그래프 시각화**"
      ],
      "metadata": {
        "id": "jU6a0DtAE8K4"
      }
    },
    {
      "cell_type": "markdown",
      "source": [
        "### **🍃 05-1_lstm**"
      ],
      "metadata": {
        "id": "wPn4E7xAHBY4"
      }
    },
    {
      "cell_type": "markdown",
      "source": [
        "- **lstm 모델학습**  \n",
        "Epoch 10회 / loss: 0.74 / Accurancy: 0.83"
      ],
      "metadata": {
        "id": "baPpwIlKFJgH"
      }
    },
    {
      "cell_type": "code",
      "source": [
        "lstm_history = fitting_machine(lstm_model, 10)"
      ],
      "metadata": {
        "colab": {
          "base_uri": "https://localhost:8080/"
        },
        "id": "wHV30XiQMIJZ",
        "outputId": "63e40522-8fc8-4831-b915-e0670699e0ec"
      },
      "execution_count": null,
      "outputs": [
        {
          "output_type": "stream",
          "name": "stdout",
          "text": [
            "Epoch 1/10\n",
            "3427/3427 [==============================] - 156s 45ms/step - loss: 0.3733 - accuracy: 0.8336 - val_loss: 0.3222 - val_accuracy: 0.8611\n",
            "Epoch 2/10\n",
            "3427/3427 [==============================] - 174s 51ms/step - loss: 0.2857 - accuracy: 0.8793 - val_loss: 0.3199 - val_accuracy: 0.8657\n",
            "Epoch 3/10\n",
            "3427/3427 [==============================] - 168s 49ms/step - loss: 0.2410 - accuracy: 0.9003 - val_loss: 0.3324 - val_accuracy: 0.8644\n",
            "Epoch 4/10\n",
            "3427/3427 [==============================] - 169s 49ms/step - loss: 0.1992 - accuracy: 0.9198 - val_loss: 0.3568 - val_accuracy: 0.8597\n",
            "Epoch 5/10\n",
            "3427/3427 [==============================] - 171s 50ms/step - loss: 0.1599 - accuracy: 0.9368 - val_loss: 0.4076 - val_accuracy: 0.8557\n",
            "Epoch 6/10\n",
            "3427/3427 [==============================] - 173s 51ms/step - loss: 0.1278 - accuracy: 0.9504 - val_loss: 0.4722 - val_accuracy: 0.8556\n",
            "Epoch 7/10\n",
            "3427/3427 [==============================] - 178s 52ms/step - loss: 0.1018 - accuracy: 0.9601 - val_loss: 0.5274 - val_accuracy: 0.8507\n",
            "Epoch 8/10\n",
            "3427/3427 [==============================] - 207s 61ms/step - loss: 0.0801 - accuracy: 0.9691 - val_loss: 0.6349 - val_accuracy: 0.8487\n",
            "Epoch 9/10\n",
            "3427/3427 [==============================] - 203s 59ms/step - loss: 0.0647 - accuracy: 0.9754 - val_loss: 0.6977 - val_accuracy: 0.8459\n",
            "Epoch 10/10\n",
            "3427/3427 [==============================] - 200s 58ms/step - loss: 0.0522 - accuracy: 0.9802 - val_loss: 0.7395 - val_accuracy: 0.8459\n",
            "1537/1537 - 22s - loss: 0.7493 - accuracy: 0.8395 - 22s/epoch - 14ms/step\n",
            "\n",
            "This is lstm_model\n",
            "Loss: 0.7492682337760925\n",
            "Accurancy: 0.8394735455513\n",
            "\n"
          ]
        }
      ]
    },
    {
      "cell_type": "markdown",
      "source": [
        "- **lstm 시각화**  \n",
        "모델 학습을 진행할수록 그래프상의 Accurancy가 떨어져 training과의 거리가 멀어진다. 이 부분은 loss 부분도 동일하게 발생헀다. "
      ],
      "metadata": {
        "id": "eAmdniduF6_w"
      }
    },
    {
      "cell_type": "code",
      "source": [
        "visualization(lstm_history)"
      ],
      "metadata": {
        "colab": {
          "base_uri": "https://localhost:8080/",
          "height": 573
        },
        "id": "TWC-6YJXMLie",
        "outputId": "d0f8c839-0318-4456-9e70-4d010c932c83"
      },
      "execution_count": null,
      "outputs": [
        {
          "output_type": "display_data",
          "data": {
            "text/plain": [
              "<Figure size 432x288 with 1 Axes>"
            ],
            "image/png": "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\n"
          },
          "metadata": {
            "needs_background": "light"
          }
        },
        {
          "output_type": "display_data",
          "data": {
            "text/plain": [
              "<Figure size 432x288 with 1 Axes>"
            ],
            "image/png": "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\n"
          },
          "metadata": {
            "needs_background": "light"
          }
        }
      ]
    },
    {
      "cell_type": "markdown",
      "source": [
        "### **🍃 05-2_conv1d**"
      ],
      "metadata": {
        "id": "RXvKvOnOHIcz"
      }
    },
    {
      "cell_type": "markdown",
      "source": [
        "- **conv1d 모델학습**  \n",
        "Epoch 10회 / loss: 0.93 / Accurancy: 0.84"
      ],
      "metadata": {
        "id": "bN2ct1BsFY6T"
      }
    },
    {
      "cell_type": "code",
      "source": [
        "conv1d_history = fitting_machine(conv1d_model, 10)"
      ],
      "metadata": {
        "colab": {
          "base_uri": "https://localhost:8080/"
        },
        "id": "UVEWBoGIMMap",
        "outputId": "21235ab0-352f-475d-eae1-3a53910d410b"
      },
      "execution_count": null,
      "outputs": [
        {
          "output_type": "stream",
          "name": "stdout",
          "text": [
            "Epoch 1/10\n",
            "3427/3427 [==============================] - 38s 11ms/step - loss: 0.3675 - accuracy: 0.8340 - val_loss: 0.3258 - val_accuracy: 0.8577\n",
            "Epoch 2/10\n",
            "3427/3427 [==============================] - 37s 11ms/step - loss: 0.2621 - accuracy: 0.8911 - val_loss: 0.3277 - val_accuracy: 0.8585\n",
            "Epoch 3/10\n",
            "3427/3427 [==============================] - 34s 10ms/step - loss: 0.1798 - accuracy: 0.9293 - val_loss: 0.3776 - val_accuracy: 0.8564\n",
            "Epoch 4/10\n",
            "3427/3427 [==============================] - 31s 9ms/step - loss: 0.1144 - accuracy: 0.9564 - val_loss: 0.5476 - val_accuracy: 0.8492\n",
            "Epoch 5/10\n",
            "3427/3427 [==============================] - 30s 9ms/step - loss: 0.0805 - accuracy: 0.9696 - val_loss: 0.5868 - val_accuracy: 0.8480\n",
            "Epoch 6/10\n",
            "3427/3427 [==============================] - 29s 9ms/step - loss: 0.0585 - accuracy: 0.9784 - val_loss: 0.7341 - val_accuracy: 0.8373\n",
            "Epoch 7/10\n",
            "3427/3427 [==============================] - 31s 9ms/step - loss: 0.0491 - accuracy: 0.9812 - val_loss: 0.6922 - val_accuracy: 0.8400\n",
            "Epoch 8/10\n",
            "3427/3427 [==============================] - 33s 10ms/step - loss: 0.0402 - accuracy: 0.9845 - val_loss: 0.8949 - val_accuracy: 0.8389\n",
            "Epoch 9/10\n",
            "3427/3427 [==============================] - 35s 10ms/step - loss: 0.0343 - accuracy: 0.9872 - val_loss: 0.9872 - val_accuracy: 0.8378\n",
            "Epoch 10/10\n",
            "3427/3427 [==============================] - 31s 9ms/step - loss: 0.0293 - accuracy: 0.9888 - val_loss: 0.9257 - val_accuracy: 0.8419\n",
            "1537/1537 - 2s - loss: 0.9335 - accuracy: 0.8402 - 2s/epoch - 2ms/step\n",
            "\n",
            "This is conv1d_model\n",
            "Loss: 0.9334743022918701\n",
            "Accurancy: 0.8402058482170105\n",
            "\n"
          ]
        }
      ]
    },
    {
      "cell_type": "markdown",
      "source": [
        "- **conv1d 시각화**  \n",
        "모델 학습을 진행할수록 그래프상의 Accurancy가 떨어져 training과의 거리가 멀어진다. 이 부분은 loss 부분도 동일하게 발생헀다. "
      ],
      "metadata": {
        "id": "tmcSsJFpF32T"
      }
    },
    {
      "cell_type": "code",
      "source": [
        "visualization(conv1d_history)"
      ],
      "metadata": {
        "colab": {
          "base_uri": "https://localhost:8080/",
          "height": 573
        },
        "id": "Cp3ixIA-MNz6",
        "outputId": "36419841-4500-4c76-d3b2-09b778615a24"
      },
      "execution_count": null,
      "outputs": [
        {
          "output_type": "display_data",
          "data": {
            "text/plain": [
              "<Figure size 432x288 with 1 Axes>"
            ],
            "image/png": "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\n"
          },
          "metadata": {
            "needs_background": "light"
          }
        },
        {
          "output_type": "display_data",
          "data": {
            "text/plain": [
              "<Figure size 432x288 with 1 Axes>"
            ],
            "image/png": "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\n"
          },
          "metadata": {
            "needs_background": "light"
          }
        }
      ]
    },
    {
      "cell_type": "markdown",
      "source": [
        "### **🍃 05-3_gmp**"
      ],
      "metadata": {
        "id": "smGHEiARHNIX"
      }
    },
    {
      "cell_type": "markdown",
      "source": [
        "- **gmp 모델학습**  \n",
        "Epoch 10회 / loss: 0.67 / Accurancy: 0.82"
      ],
      "metadata": {
        "id": "i1JV2woqFpYR"
      }
    },
    {
      "cell_type": "code",
      "source": [
        "gmp_history = fitting_machine(gmp_model, 10)"
      ],
      "metadata": {
        "colab": {
          "base_uri": "https://localhost:8080/"
        },
        "id": "Sp3bmNVsMOj8",
        "outputId": "e24aa928-7c03-4a0a-a844-003fe226581e"
      },
      "execution_count": null,
      "outputs": [
        {
          "output_type": "stream",
          "name": "stdout",
          "text": [
            "Epoch 1/10\n",
            "3427/3427 [==============================] - 17s 5ms/step - loss: 0.3938 - accuracy: 0.8231 - val_loss: 0.3475 - val_accuracy: 0.8473\n",
            "Epoch 2/10\n",
            "3427/3427 [==============================] - 16s 5ms/step - loss: 0.3043 - accuracy: 0.8719 - val_loss: 0.3423 - val_accuracy: 0.8526\n",
            "Epoch 3/10\n",
            "3427/3427 [==============================] - 17s 5ms/step - loss: 0.2617 - accuracy: 0.8933 - val_loss: 0.3523 - val_accuracy: 0.8516\n",
            "Epoch 4/10\n",
            "3427/3427 [==============================] - 16s 5ms/step - loss: 0.2242 - accuracy: 0.9110 - val_loss: 0.3733 - val_accuracy: 0.8476\n",
            "Epoch 5/10\n",
            "3427/3427 [==============================] - 17s 5ms/step - loss: 0.1908 - accuracy: 0.9265 - val_loss: 0.4029 - val_accuracy: 0.8424\n",
            "Epoch 6/10\n",
            "3427/3427 [==============================] - 17s 5ms/step - loss: 0.1617 - accuracy: 0.9389 - val_loss: 0.4350 - val_accuracy: 0.8383\n",
            "Epoch 7/10\n",
            "3427/3427 [==============================] - 17s 5ms/step - loss: 0.1354 - accuracy: 0.9504 - val_loss: 0.4960 - val_accuracy: 0.8375\n",
            "Epoch 8/10\n",
            "3427/3427 [==============================] - 17s 5ms/step - loss: 0.1137 - accuracy: 0.9590 - val_loss: 0.5513 - val_accuracy: 0.8327\n",
            "Epoch 9/10\n",
            "3427/3427 [==============================] - 16s 5ms/step - loss: 0.0943 - accuracy: 0.9665 - val_loss: 0.6078 - val_accuracy: 0.8300\n",
            "Epoch 10/10\n",
            "3427/3427 [==============================] - 17s 5ms/step - loss: 0.0799 - accuracy: 0.9718 - val_loss: 0.6686 - val_accuracy: 0.8259\n",
            "1537/1537 - 1s - loss: 0.6710 - accuracy: 0.8263 - 1s/epoch - 925us/step\n",
            "\n",
            "This is gmp_model\n",
            "Loss: 0.6710314154624939\n",
            "Accurancy: 0.8262506127357483\n",
            "\n"
          ]
        }
      ]
    },
    {
      "cell_type": "markdown",
      "source": [
        "- **gmp 시각화**  \n",
        "모델 학습을 진행할수록 그래프상의 Accurancy가 떨어져 training과의 거리가 멀어진다. 이 부분은 loss 부분도 동일하게 발생헀다. "
      ],
      "metadata": {
        "id": "myW_b2zXFxIT"
      }
    },
    {
      "cell_type": "code",
      "source": [
        "visualization(gmp_history)"
      ],
      "metadata": {
        "colab": {
          "base_uri": "https://localhost:8080/",
          "height": 573
        },
        "id": "_b4wETXcMPpw",
        "outputId": "b7f0ac41-2057-4763-e944-825691426c02"
      },
      "execution_count": null,
      "outputs": [
        {
          "output_type": "display_data",
          "data": {
            "text/plain": [
              "<Figure size 432x288 with 1 Axes>"
            ],
            "image/png": "iVBORw0KGgoAAAANSUhEUgAAAYIAAAEWCAYAAABrDZDcAAAABHNCSVQICAgIfAhkiAAAAAlwSFlzAAALEgAACxIB0t1+/AAAADh0RVh0U29mdHdhcmUAbWF0cGxvdGxpYiB2ZXJzaW9uMy4yLjIsIGh0dHA6Ly9tYXRwbG90bGliLm9yZy+WH4yJAAAgAElEQVR4nO3deZQU5fX/8fcVkB0XwI1FMEEUZB9ARRC3BISAIi7IVyQuCC4oGhWXCMFoEiU5SoL5hRiXGAwaYggKihFBMBplQERWRWR0FBWRVdaB+/vjqRmacTZgeqpn+vM6Z850PV1ddbsH6vazlrk7IiKSvg6JOwAREYmXEoGISJpTIhARSXNKBCIiaU6JQEQkzSkRiIikOSUCKVVm9rKZXVna+8bJzFab2blJOK6b2Q+jx//PzH5ekn0P4DwDzezVA42ziON2N7Ps0j6ulL3KcQcg8TOzLQmbNYAdwO5o+zp3n1jSY7l7z2TsW9G5+9DSOI6ZNQE+Aaq4e0507IlAif+Gkn6UCAR3r5X72MxWA9e4+2v59zOzyrkXFxGpONQ0JIXKrfqb2Z1m9iXwpJkdYWYvmdlaM1sfPW6Y8JrZZnZN9Hiwmb1pZmOjfT8xs54HuG9TM5tjZpvN7DUzG29mfysk7pLEeL+Z/Tc63qtmVi/h+SvMLMvM1pnZPUV8Pp3N7Eszq5RQdqGZLYoedzKzt81sg5mtMbM/mNmhhRzrKTP7ZcL27dFrvjCzq/Lt28vM3jOzTWb2mZmNTnh6TvR7g5ltMbPTcj/bhNefbmbzzGxj9Pv0kn42RTGzk6PXbzCzJWbWJ+G5881saXTMz83sZ1F5vejvs8HMvjWzuWam61IZ0wcuxTkGOBI4HhhC+DfzZLTdGNgG/KGI13cGVgD1gIeAv5iZHcC+zwLvAnWB0cAVRZyzJDFeDvwUOAo4FMi9MLUA/hgd/7jofA0pgLu/A3wHnJ3vuM9Gj3cDI6L3cxpwDnB9EXETxdAjiuc8oBmQv3/iO2AQcDjQCxhmZhdEz3WLfh/u7rXc/e18xz4SmAaMi97b74BpZlY333v43mdTTMxVgBeBV6PX3QRMNLPm0S5/ITQz1gZOAV6Pym8DsoH6wNHA3YDWvSljSgRSnD3AKHff4e7b3H2du//T3be6+2bgAeDMIl6f5e5/dvfdwNPAsYT/8CXe18waAx2B+9x9p7u/CUwt7IQljPFJd//Q3bcBzwNto/L+wEvuPsfddwA/jz6DwvwdGABgZrWB86My3H2+u//P3XPcfTXwpwLiKMglUXyL3f07QuJLfH+z3f0Dd9/j7oui85XkuBASx0fu/kwU19+B5cBPEvYp7LMpyqlALeDX0d/odeAlos8G2AW0MLM67r7e3RcklB8LHO/uu9x9rmsBtDKnRCDFWevu23M3zKyGmf0pajrZRGiKODyxeSSfL3MfuPvW6GGt/dz3OODbhDKAzwoLuIQxfpnweGtCTMclHju6EK8r7FyEb//9zKwq0A9Y4O5ZURwnRs0eX0ZxPEioHRRnnxiArHzvr7OZzYqavjYCQ0t43NxjZ+UrywIaJGwX9tkUG7O7JybNxONeREiSWWb2hpmdFpU/DKwEXjWzVWY2smRvQ0qTEoEUJ/+3s9uA5kBnd6/D3qaIwpp7SsMa4Egzq5FQ1qiI/Q8mxjWJx47OWbewnd19KeGC15N9m4UgNDEtB5pFcdx9IDEQmrcSPUuoETVy98OA/5dw3OK+TX9BaDJL1Bj4vARxFXfcRvna9/OO6+7z3L0vodloCqGmgbtvdvfb3P0EoA9wq5mdc5CxyH5SIpD9VZvQ5r4ham8elewTRt+wM4HRZnZo9G3yJ0W85GBinAz0NrMzoo7dMRT//+RZ4GZCwvlHvjg2AVvM7CRgWAljeB4YbGYtokSUP/7ahBrSdjPrREhAudYSmrJOKOTY04ETzexyM6tsZpcCLQjNOAfjHULt4Q4zq2Jm3Ql/o0nR32ygmR3m7rsIn8keADPrbWY/jPqCNhL6VYpqipMkUCKQ/fUIUB34Bvgf8EoZnXcgocN1HfBL4DnCfIeCHHCM7r4EuIFwcV8DrCd0ZhYlt43+dXf/JqH8Z4SL9Gbgz1HMJYnh5eg9vE5oNnk93y7XA2PMbDNwH9G36+i1Wwl9Iv+NRuKcmu/Y64DehFrTOuAOoHe+uPebu+8kXPh7Ej73x4BB7r482uUKYHXURDaU8PeE0Bn+GrAFeBt4zN1nHUwssv9M/TJSHpnZc8Byd096jUSkolONQMoFM+toZj8ws0Oi4ZV9CW3NInKQNLNYyotjgBcIHbfZwDB3fy/ekEQqBjUNiYikOTUNiYikuXLXNFSvXj1v0qRJ3GGIiJQr8+fP/8bd6xf0XLlLBE2aNCEzMzPuMEREyhUzyz+jPI+ahkRE0pwSgYhImlMiEBFJc+Wuj6Agu3btIjs7m+3btxe/s8SqWrVqNGzYkCpVqsQdiohEKkQiyM7Opnbt2jRp0oTC73kicXN31q1bR3Z2Nk2bNo07HBGJVIimoe3bt1O3bl0lgRRnZtStW1c1N5EUUyESAaAkUE7o7ySSeipMIhARqai2bIGRI2H16uQcX4mgFKxbt462bdvStm1bjjnmGBo0aJC3vXPnziJfm5mZyfDhw4s9x+mnn14qsc6ePZvevXuXyrFEJLnc4R//gJNOgt/8Bl5+OTnnSctEMHEiNGkChxwSfk+ceHDHq1u3LgsXLmThwoUMHTqUESNG5G0feuih5OTkFPrajIwMxo0bV+w53nrrrYMLUkTKlRUr4Mc/hksugaOOgrffhmElvcfdfkq7RDBxIgwZAllZIdtmZYXtg00G+Q0ePJihQ4fSuXNn7rjjDt59911OO+002rVrx+mnn86KFSuAfb+hjx49mquuuoru3btzwgkn7JMgatWqlbd/9+7d6d+/PyeddBIDBw4kdwXZ6dOnc9JJJ9GhQweGDx9e7Df/b7/9lgsuuIDWrVtz6qmnsmjRIgDeeOONvBpNu3bt2Lx5M2vWrKFbt260bduWU045hblz55buByYiAGzdCnffDa1awbvvwu9/D/PmwamnFv/aA1Uhho/uj3vuCR90oq1bQ/nAgQW/5kBlZ2fz1ltvUalSJTZt2sTcuXOpXLkyr732GnfffTf//Oc/v/ea5cuXM2vWLDZv3kzz5s0ZNmzY98bcv/feeyxZsoTjjjuOLl268N///peMjAyuu+465syZQ9OmTRkwYECx8Y0aNYp27doxZcoUXn/9dQYNGsTChQsZO3Ys48ePp0uXLmzZsoVq1aoxYcIEfvzjH3PPPfewe/dutub/EEXkoLjDv/8NN98Mn34KgwbBQw/B0Ucn/9xplwg+/XT/yg/GxRdfTKVKlQDYuHEjV155JR999BFmxq5duwp8Ta9evahatSpVq1blqKOO4quvvqJhw4b77NOpU6e8srZt27J69Wpq1arFCSeckDc+f8CAAUyYMKHI+N588828ZHT22Wezbt06Nm3aRJcuXbj11lsZOHAg/fr1o2HDhnTs2JGrrrqKXbt2ccEFF9C2bduD+mxEZK+PP4bhw2H6dDjlFJgzB7p2Lbvzp13TUOPG+1d+MGrWrJn3+Oc//zlnnXUWixcv5sUXXyx0LH3VqlXzHleqVKnA/oWS7HMwRo4cyeOPP862bdvo0qULy5cvp1u3bsyZM4cGDRowePBg/vrXv5bqOUXS0bZtMHo0tGwJc+fC734HCxaUbRKANEwEDzwANWrsW1ajRihPpo0bN9KgQQMAnnrqqVI/fvPmzVm1ahWro/Flzz33XLGv6dq1KxOjzpHZs2dTr1496tSpw8cff0yrVq2488476dixI8uXLycrK4ujjz6aa6+9lmuuuYYFCxaU+nsQSSfTpoVv/7/4BfTrB8uXw4gREMfqK2mXCAYOhAkT4PjjwSz8njCh9PsH8rvjjju46667aNeuXal/gweoXr06jz32GD169KBDhw7Url2bww47rMjXjB49mvnz59O6dWtGjhzJ008/DcAjjzzCKaecQuvWralSpQo9e/Zk9uzZtGnThnbt2vHcc89x8803l/p7EEkHq1fDBRdA795w6KEwcyY8+ywcd1x8MZW7exZnZGR4/hvTLFu2jJNPPjmmiFLHli1bqFWrFu7ODTfcQLNmzRgxYkTcYX2P/l6SjnbsgLFjQ+uDGYwaBbfcEpJBWTCz+e6eUdBzaVcjqMj+/Oc/07ZtW1q2bMnGjRu57rrr4g5JRIBXXw3DQe+9F84/PzQD3XFH2SWB4qTdqKGKbMSIESlZAxBJV9nZod1/8mRo1gxeeSVMEks1qhGIiJSynTvh4YfD0hAvvQT33w8ffJCaSQBUIxARKVWzZsENN8CyZdCnDzz6aFjKJpWpRiAiUgrWrIHLL4ezz4bt2+HFF8NM4VRPAqBEICJyUHJy4JFHoHlzeOEFuO8+WLIkDA8tL5QISsFZZ53FjBkz9il75JFHGFbEUoHdu3cndxjs+eefz4YNG763z+jRoxk7dmyR554yZQpLly7N277vvvt47bXX9if8Amm5apHivfkmtG8fOoS7dIHFi8MEserV445s/ygRlIIBAwYwadKkfcomTZpUooXfIKwaevjhhx/QufMngjFjxnDuuece0LFEpGS++goGDw5LQWzYEGoC06fDD38Yd2QHRomgFPTv359p06bl3YRm9erVfPHFF3Tt2pVhw4aRkZFBy5YtGTVqVIGvb9KkCd988w0ADzzwACeeeCJnnHFG3lLVEOYIdOzYkTZt2nDRRRexdetW3nrrLaZOncrtt99O27Zt+fjjjxk8eDCTJ08GYObMmbRr145WrVpx1VVXsWPHjrzzjRo1ivbt29OqVSuWL19e5PvTctUiwe7dMH58aAZ69lm4667QKXzhhWGSWHlV4UYN3XILLFxYusds2za0ARbmyCOPpFOnTrz88sv07duXSZMmcckll2BmPPDAAxx55JHs3r2bc845h0WLFtG6desCjzN//nwmTZrEwoULycnJoX379nTo0AGAfv36ce211wJw77338pe//IWbbrqJPn360Lt3b/r377/PsbZv387gwYOZOXMmJ554IoMGDeKPf/wjt9xyCwD16tVjwYIFPPbYY4wdO5bHH3+80Pen5apF4J134Prrw6Jw55wDf/hDGB5aEahGUEoSm4cSm4Wef/552rdvT7t27ViyZMk+zTj5zZ07lwsvvJAaNWpQp04d+vTpk/fc4sWL6dq1K61atWLixIksWbKkyHhWrFhB06ZNOfHEEwG48sormTNnTt7z/fr1A6BDhw55C9UV5s033+SKK64ACl6uety4cWzYsIHKlSvTsWNHnnzySUaPHs0HH3xA7dq1izy2SKr75hu49tpwY5gvv4RJk+A//6k4SQCSXCMwsx7Ao0Al4HF3/3UB+1wCjAYceN/dLz+Ycxb1zT2Z+vbty4gRI1iwYAFbt26lQ4cOfPLJJ4wdO5Z58+ZxxBFHMHjw4EKXny7O4MGDmTJlCm3atOGpp55i9uzZBxVv7lLWB7OM9ciRI+nVqxfTp0+nS5cuzJgxI2+56mnTpjF48GBuvfVWBg0adFCxisRh50547DEYMwY2bYLbbgvrA1XE7zZJqxGYWSVgPNATaAEMMLMW+fZpBtwFdHH3lsAtyYon2WrVqsVZZ53FVVddlVcb2LRpEzVr1uSwww7jq6++4uVi7jzdrVs3pkyZwrZt29i8eTMvvvhi3nObN2/m2GOPZdeuXXlLRwPUrl2bzZs3f+9YzZs3Z/Xq1axcuRKAZ555hjPPPPOA3puWq5Z04g7/+le4R8CIEZCREZqbx46tmEkAklsj6ASsdPdVAGY2CegLJLaNXAuMd/f1AO7+dRLjSboBAwZw4YUX5jUR5S7bfNJJJ9GoUSO6dOlS5Ovbt2/PpZdeSps2bTjqqKPo2LFj3nP3338/nTt3pn79+nTu3Dnv4n/ZZZdx7bXXMm7cuLxOYoBq1arx5JNPcvHFF5OTk0PHjh0ZOnToAb2v3Hspt27dmho1auyzXPWsWbM45JBDaNmyJT179mTSpEk8/PDDVKlShVq1aukGNlKuzJ8Pt94a7hDWokUYCdSjR/nuCC6JpC1DbWb9gR7ufk20fQXQ2d1vTNhnCvAh0IXQfDTa3V8p4FhDgCEAjRs37pCVlbXP81rWuHzR30tSzWefhfuWP/MM1K8fmoOuuQYqV6DhNEUtQx3326wMNAO6Aw2BOWbWyt33mV3l7hOACRDuR1DWQYpIxbRlC/zmN6HZxx1GjgxDQuvUiTuyspXMRPA50Chhu2FUligbeMfddwGfmNmHhMQwL4lxiUia270bnnoq3B/gyy9hwAB48MHysS5QMiRz+Og8oJmZNTWzQ4HLgKn59plCqA1gZvWAE4FVB3Ky8nantXSlv5PE7T//CctCXHMNnHAC/O9/YXJYuiYBSGIicPcc4EZgBrAMeN7dl5jZGDPLHSA/A1hnZkuBWcDt7r5uf89VrVo11q1bp4tMinN31q1bR7Vq1eIORdLQ0qXQqxf86EeweTM8/3xYK6hz57gji1+FuGfxrl27yM7OPuAx+lJ2qlWrRsOGDalSpUrcoUia+PprGD0aJkyAWrVCc9BNN0E0lSZtpHJncamoUqUKTZs2jTsMEUkh27eHm8I8+CB89x0MGxYmhNWrF3dkqadCJAIRkVzu8NxzYQRQVhb85Cfw0EMVa0mI0qa1hkSkwnj7bTj99DAK6PDD4bXXYOpUJYHiKBGISLn3ySdw2WUhCWRlwRNPhFnC55wTd2Tlg5qGRKTc2rgx9AE88ghUqhRuE3n77aFTWEpOiUBEyp2cnDAKaNQoWLcOBg2CBx6ABg3ijqx8UtOQiJQb7jBtGrRqBTfcAKecApmZYZawksCBUyIQkXLh/ffhvPOgd++wRMS//w2vvx5mCcvBUSIQkZS2Zk1YDqJdO3jvvTA3YPFi6NOn4i8PXVbURyAiKWnrVvjtb8PqoDt3hpvE3HsvHHFE3JFVPEoEIpJSdu+Gp5+Gn/8cvvgCLrooJIMf/CDuyCouNQ2JSEpwh1deCU1AV18NjRqFO4VNnqwkkGxKBCISuwULQkdwz56hSej558Ms4a5d444sPSgRiEhssrLgiiugQ4dwg/hHHw3LRV98sTqCy5L6CESkzK1fD7/6FYwbFy74I0fCnXeG9YGk7CkRiEiZ2bEDHnsMfvnLkAwGDYL77w/9ARIfNQ2JSNLt2QOTJsHJJ8Ott0JGRugXeOopJYFUoEQgIkn1xhtw6qlhaejatWHGjPDTtm3ckUkuJQIRSYqlS8Ps3+7dw+zgp54KtYAf/SjuyCQ/JQIRKVVr1sCQIWFhuDfeCJ3CH34IV14ZloqW1KPOYhEpFVu2wNix4WfHDrjxxjA7WPcITn1KBCJyUHJy4PHHYfRo+OqrMAfgwQfhhz+MOzIpKSUCETkg7uF+wCNHwvLlcMYZYWnozp3jjkz2l/oIRGS/vfMOnHkmXHBBSAhTpoR1gZQEyiclAhEpsY8/hksvDcNBV6yAP/4RPvgA+vbVkhDlWVITgZn1MLMVZrbSzEYW8PxgM1trZgujn2uSGY+IHJh16+CWW8KEsJdeCjeJX7kShg6FKlXijk4OVtL6CMysEjAeOA/IBuaZ2VR3X5pv1+fc/cZkxSEiB27btrAe0K9+BZs3h+WhR4+G446LOzIpTcmsEXQCVrr7KnffCUwC+ibxfCJSSvbsgb/+FZo3D53BXbvCokUwYYKSQEWUzETQAPgsYTs7KsvvIjNbZGaTzazAVUfMbIiZZZpZ5tq1a5MRq4hEZs8ON4S/8ko46qhwg/gXX4SWLeOOTJIl7s7iF4Em7t4a+A/wdEE7ufsEd89w94z69euXaYAi6WLNGrj8cjjrLNiwAZ59Ft59N2xLxZbMRPA5kPgNv2FUlsfd17n7jmjzcaBDEuMRkQLk5MAjj4RmoH/+M3QEL1sWFok7JO6vilImkjmhbB7QzMyaEhLAZcDliTuY2bHuviba7AMsS2I8IpLPf/8L118f2v979IDf/14zgtNR0vK9u+cANwIzCBf45919iZmNMbM+0W7DzWyJmb0PDAcGJyseEdnr66/hpz8Ns4HXrw81genTlQTSlbl73DHsl4yMDM/MzIw7DJFyaffuMPLn7rvDInG33RYWhqtZM+7IJNnMbL67ZxT0nNYaEkkT8+aFZqDMzNABPH58mCAmoq4gkQru22/DDODOneHzz8NooJkzlQRkLyUCkQpqzx544okwGujxx+Hmm8MqoQMGaF0g2ZeahkQqoIULQzPQ229Dly7w2GPQunXcUUmqUo1ApALZuBGGD4cOHcKicE8+GZaHVhKQoqhGIFIBuMPEifCzn4WhocOGwS9/CUccEXdkUh4oEYiUc0uWwA03hBvFd+oE06aFGoFISalpSKSc2rIFbr8d2rYNM4P/9KfQJ6AkIPtLNQKRcsYdJk+GESPCcNCrr4Zf/xrq1Ys7MimvVCMQKUc+/BB+/GO45BKoXx/eeisMDVUSkIOhRCBSDmzdCvfeC61ahRvHjxsXZgqfdlrckUlFoKYhkRQ3dWoYEpqVBf/3f/Dww3DMMXFHJRWJagQiKWrVKvjJT6BvX6hVK9w57JlnlASk9CkRiKSY7dthzJhwa8hZs0IN4L334Mwz445MKio1DYmkkFdegZtuCrOCL7kEfvtbaNgw7qikolMiEImROyxYAP/6F7zwQrhF5IknwquvwnnnxR2dpAslApEytnt3GPb5wgvh59NPoVIl6NYt1AauugqqVo07SkknSgQiZWDnTnj99XDh//e/w3pAVauGb/2jR4dOYc0FkLgoEYgkyXffhTb/F16Al16CTZvC6J9evaBfP+jZE2rXjjtKESUCkVK1fj28+GJo83/llTACqG5d6N8/XPzPOQeqVYs7SpF9KRGIHKQ1a0JzzwsvhOGeOTnQoAFce224+J9xBlTW/zRJYfrnKXIAVq3aO9Ln7bfD6J9mzeC228LFPyMDDtEsHSknlAhESsA9rPv/wgshASxcGMrbtYNf/CJc/Fu00L2ApXxSIhApxJ49YWG33Iv/Rx+FC/3pp4eJXhdeCE2bxh2lyMFLaiIwsx7Ao0Al4HF3/3Uh+10ETAY6untmMmMSKUpODsydu/fi//nnoX3/7LNDs0/fvlrrRyqepCUCM6sEjAfOA7KBeWY21d2X5tuvNnAz8E6yYhEpytatMHNmuPBPnQrr1kH16tCjR2jy6dVL9/6Vii2ZNYJOwEp3XwVgZpOAvsDSfPvdD/wGuD2JsYjsIysr3Nt32rQw0Wv7djjssDCx68ILw81fataMO0qRspHMcQ0NgM8StrOjsjxm1h5o5O7TijqQmQ0xs0wzy1y7du1+BzJxIjRpEkZxNGkStiW95OTAnDlw551wyinh38ENN4Q7fl13XVjb5+uvwzLP/fopCUh6KVGNwMxqAtvcfY+ZnQicBLzs7rsO9MRmdgjwO2Bwcfu6+wRgAkBGRobvz3kmToQhQ0L1H8I3wSFDwuOBA/fnSFLefPMNvPxy+NY/YwZs2BDa+7t1C/f57dUrLPAmku5K2jQ0B+hqZkcArwLzgEuBoi6lnwONErYbRmW5agOnALMtjLk7BphqZn1Ks8P4nnv2JoFcW7eGciWCisUd3n8/LOcwbVq4paM7HH10aO7p1Sus7VOnTtyRiqSWkiYCc/etZnY18Ji7P2RmC4t5zTygmZk1JSSAy4DLc590941A3jJbZjYb+Flpjxr69NP9K5fyZcuW0NE7bRpMnx5G+QB07AijRoWLf/v2mtwlUpQSJwIzO41QA7g6KqtU1AvcPcfMbgRmRPs+4e5LzGwMkOnuUw806P3RuHFoDiqoXMqnjz/e29E7e3ZY2bN2bfjRj6B377CY29FHxx2lSPlR0kRwC3AX8K/oYn4CMKu4F7n7dGB6vrL7Ctm3ewlj2S8PPLBvHwFAjRqhXMqHnTvhzTf3XvxXrAjlzZvDjTeGb/1nnAGHHhpvnCLlVYkSgbu/AbwBeZ2837j78GQGVlpy+wHuuSc0BzVuHJKA+gdS21dfhaaeadPCiJ7Nm8OFvnt3uP76cPH/wQ/ijlKkYijpqKFngaHAbkLbfx0ze9TdH05mcKVl4EBd+FPdnj3hlo253/rnzQvlxx0Hl10WLvznnBPW8xeR0lXSpqEW7r7JzAYCLwMjgflAuUgEknrcQw3tnXfCuv3Tp4dagBl07gz33x/a+9u00UJuIslW0kRQxcyqABcAf3D3XWa2X+P5Jb2tWxe+5b/77t7fX38dnjv88DCTt1evsKxD/frxxiqSbkqaCP4ErAbeB+aY2fHApmQFJeXbd9/Be+/te9FftSo8ZwYnnxxG9nTqFIZ5tmunG7eIxKmkncXjgHEJRVlmdlZyQpLyZNeusE5/4kV/8eLQ5g+hc75jx7CMQ8eO0KGDJnSJpJqSdhYfBowCukVFbwBjgI1JiktSkHsYw5940V+wICzYBnDkkeFi37dv+N2xo5ZsFikPSlohfwJYDFwSbV8BPAn0S0ZQkhq+/HLfi/68eeHm7BCWaW7fHoYN29vEc8IJ6tgVKY9Kmgh+4O4XJWz/ogRLTEg5smkTZGbuvei/+y5kZ4fnKlUKK3b277/3ot+ypdr1RSqKkv5X3mZmZ7j7mwBm1gXYlrywJFm2bIE1a+CLL0Jbfu5Ff8WK0PQDYaJW167hgt+pU+jMrVEj3rhFJHlKmgiGAn+N+goA1gNXJick2V/uYeZt7gV+zZp9Hyf+3rJl39cefXS42A8cGC78GRlQt24870NE4lHSUUPvA23MrE60vcnMbgEWJTO40jRlCvztb2HESu3ae3+K2q5TJ9ygJK52b3fYuLH4C/yaNWHIZn7Vq4eZucceC23bhiGbudvHHhvW4m/USO36Iuluv1p53T1x7sCtwCOlG07yrF8Py5aFb86bNoXfuUMci2IWljUoSdIoSYKpVClc4NevL/rCnvt4WwENcDVr7r2gd+iw93H+33Xq6CIvIsU7mO6+cnWJ+elPw08u93CRzU0KiQmioO38j9eu3bd8Vwnv1Va9ekhAO3Z8/7natfdeyDt33vfbe+JFvq7AlooAAAtdSURBVHbt0vlMRETg4BJBuV5iwix0gNaoUTpj3XfsKD555D42+/6392OP1YJqIhKPIhOBmW2m4Au+AdWTElE5VbVq+KlXr/h9RURSSZGJwN3VCCEiUsHpTq4iImlOiUBEJM0pEYiIpDklAhGRNKdEICKS5pQIRETSnBKBiEiaUyIoQxMnQpMmcMgh4ffEiXFHJCKS5ERgZj3MbIWZrTSzkQU8P9TMPjCzhWb2ppm1SGY8cZo4EYYMgayssM5RVlbYVjIQkbiZe3KWDDKzSsCHwHlANjAPGODuSxP2qZO7oqmZ9QGud/ceRR03IyPDMzMzkxJzMjVpEi7++R1/PKxeXdbRiEi6MbP57p5R0HPJrBF0Ala6+yp33wlMAvom7pBvWeualPOF7Iry6af7Vy4iUlaSmQgaAJ8lbGdHZfswsxvM7GPgIWB4QQcysyFmlmlmmWvXrk1KsMnWuPH+lYuIlJXYO4vdfby7/wC4E7i3kH0muHuGu2fUr1+/bAMsJQ888P37/taoEcpFROKUzETwOdAoYbthVFaYScAFSYwnVgMHwoQJoU/ALPyeMCGUi4jE6WBuTFOceUAzM2tKSACXAZcn7mBmzdz9o2izF/ARFdjAgbrwi0jqSVoicPccM7sRmAFUAp5w9yVmNgbIdPepwI1mdi6wC1gPXJmseEREpGDJrBHg7tOB6fnK7kt4fHMyzy8iIsWLvbNYRETipUQgIpLmlAhERNKcEoGISJpTIkhDWgVVRBIlddSQpJ7cVVC3bg3buaugguY4iKQr1QjSzD337E0CubZuDeUikp6UCNKMVkEVkfyUCNKMVkEVkfyUCNKMVkEVkfyUCNKMVkEVkfw0aigNaRVUEUmkGoGISJpTIhARSXNKBCIiaU6JQEQkzSkRSGy05pFIatCoIYmF1jwSSR2qEUgstOaRSOpQIpBYaM0jkdShRCCx0JpHIqlDiUBioTWPRFKHEoHEQmseiaQOjRqS2GjNI5HUkNQagZn1MLMVZrbSzEYW8PytZrbUzBaZ2UwzOz6Z8YiIyPclLRGYWSVgPNATaAEMMLMW+XZ7D8hw99bAZOChZMUjIiIFS2aNoBOw0t1XuftOYBLQN3EHd5/l7rmjyf8HNExiPCIiUoBkJoIGwGcJ29lRWWGuBl5OYjwiIlKAlBg1ZGb/B2QADxfy/BAzyzSzzLVr15ZtcFLhac0jSXfJTASfA40SthtGZfsws3OBe4A+7r6joAO5+wR3z3D3jPr16yclWElPuWseZWWB+941j5QMJJ0kMxHMA5qZWVMzOxS4DJiauIOZtQP+REgCXycxFpECac0jkSQmAnfPAW4EZgDLgOfdfYmZjTGzPtFuDwO1gH+Y2UIzm1rI4USSQmseiSR5Qpm7Twem5yu7L+Hxuck8v0hxGjcOzUEFlYuki5ToLBaJi9Y8ElEikDSnNY9EtNaQiNY8krSnGoGISJpTIhBJAZrUJnFS05BIzHInteXOZ8id1AZqspKyoRqBSMw0qU3ipkQgEjNNapO4KRGIxKywyWua1CZlRYlAJGaa1CZxUyIQiZkmtUncNGpIJAVoUpvESTUCEZE0p0QgInk0sS09qWlIRABNbEtnqhGICKCJbelMiUBEAE1sS2dKBCICaGJbOlMiEBFAE9vSmRKBiACa2JbONGpIRPJoYlt6Uo1ARFKO5jOULdUIRCSlaD5D2VONQERSiuYzlD0lAhFJKZrPUPaSmgjMrIeZrTCzlWY2soDnu5nZAjPLMbP+yYxFRMoHzWcoe0lLBGZWCRgP9ARaAAPMrEW+3T4FBgPPJisOESlfNJ+h7CWzRtAJWOnuq9x9JzAJ6Ju4g7uvdvdFwJ4kxiEi5UgqzWdIl9FLyRw11AD4LGE7G+h8IAcysyHAEIDGqh+KVHipMJ8hnUYvlYvOYnef4O4Z7p5Rv379uMMRkTSQTqOXkpkIPgcaJWw3jMpERFJeOo1eSmYimAc0M7OmZnYocBkwNYnnExEpNek0eilpicDdc4AbgRnAMuB5d19iZmPMrA+AmXU0s2zgYuBPZrYkWfGIiOyPVBq9lOxO66QuMeHu04Hp+cruS3g8j9BkJCKSUnI7hO+5JzQHNW4ckkBZdxSXRae1uXvpHKmMZGRkeGZmZtxhiIiUiSZNwsU/v+OPh9WrS34cM5vv7hkFPVcuRg2JiKSrsui0ViIQEUlhZdFprUQgIpLCyqLTWolARCSFlcWSG7oxjYhIikv2khuqEYiIpDklAhGRNKdEICKS5pQIRETSnBKBiEiaK3dLTJjZWqCACdflSj3gm7iDSCH6PPbSZ7EvfR77OpjP43h3L/CGLuUuEVQEZpZZ2Jof6Uifx176LPalz2Nfyfo81DQkIpLmlAhERNKcEkE8JsQdQIrR57GXPot96fPYV1I+D/URiIikOdUIRETSnBKBiEiaUyIoQ2bWyMxmmdlSM1tiZjfHHVPczKySmb1nZi/FHUvczOxwM5tsZsvNbJmZnRZ3THEysxHR/5PFZvZ3M6sWd0xlxcyeMLOvzWxxQtmRZvYfM/so+n1EaZ1PiaBs5QC3uXsL4FTgBjNrEXNMcbsZWBZ3ECniUeAVdz8JaEMafy5m1gAYDmS4+ylAJeCyeKMqU08BPfKVjQRmunszYGa0XSqUCMqQu69x9wXR482E/+gN4o0qPmbWEOgFPB53LHEzs8OAbsBfANx9p7tviDeq2FUGqptZZaAG8EXM8ZQZd58DfJuvuC/wdPT4aeCC0jqfEkFMzKwJ0A54J95IYvUIcAewJ+5AUkBTYC3wZNRU9riZ1Yw7qLi4++fAWOBTYA2w0d1fjTeq2B3t7muix18CR5fWgZUIYmBmtYB/Are4+6a444mDmfUGvnb3+XHHkiIqA+2BP7p7O+A7SrHqX95E7d99CQnyOKCmmf1fvFGlDg/j/ktt7L8SQRkzsyqEJDDR3V+IO54YdQH6mNlqYBJwtpn9Ld6QYpUNZLt7bg1xMiExpKtzgU/cfa277wJeAE6POaa4fWVmxwJEv78urQMrEZQhMzNCG/Ayd/9d3PHEyd3vcveG7t6E0An4urun7Tc+d/8S+MzMmkdF5wBLYwwpbp8Cp5pZjej/zTmkced5ZCpwZfT4SuDfpXVgJYKy1QW4gvDtd2H0c37cQUnKuAmYaGaLgLbAgzHHE5uoZjQZWAB8QLhWpc1yE2b2d+BtoLmZZZvZ1cCvgfPM7CNCjenXpXY+LTEhIpLeVCMQEUlzSgQiImlOiUBEJM0pEYiIpDklAhGRNKdEIBIxs90Jw3oXmlmpzew1syaJK0mKpJLKcQcgkkK2uXvbuIMQKWuqEYgUw8xWm9lDZvaBmb1rZj+MypuY2etmtsjMZppZ46j8aDP7l5m9H/3kLo1Qycz+HK2x/6qZVY/2Hx7do2KRmU2K6W1KGlMiENmrer6moUsTntvo7q2APxBWTQX4PfC0u7cGJgLjovJxwBvu3oawXtCSqLwZMN7dWwIbgIui8pFAu+g4Q5P15kQKo5nFIhEz2+LutQooXw2c7e6rokUDv3T3umb2DXCsu++Kyte4ez0zWws0dPcdCcdoAvwnuqkIZnYnUMXdf2lmrwBbgCnAFHffkuS3KrIP1QhESsYLebw/diQ83s3ePrpewHhC7WFedCMWkTKjRCBSMpcm/H47evwWe2+fOBCYGz2eCQyDvHsyH1bYQc3sEKCRu88C7gQOA75XKxFJJn3zENmrupktTNh+xd1zh5AeEa0KugMYEJXdRLij2O2Eu4v9NCq/GZgQrRi5m5AU1lCwSsDfomRhwDjdolLKmvoIRIoR9RFkuPs3cccikgxqGhIRSXOqEYiIpDnVCERE0pwSgYhImlMiEBFJc0oEIiJpTolARCTN/X9xiBLdQRGIDQAAAABJRU5ErkJggg==\n"
          },
          "metadata": {
            "needs_background": "light"
          }
        },
        {
          "output_type": "display_data",
          "data": {
            "text/plain": [
              "<Figure size 432x288 with 1 Axes>"
            ],
            "image/png": "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\n"
          },
          "metadata": {
            "needs_background": "light"
          }
        }
      ]
    },
    {
      "cell_type": "markdown",
      "source": [
        "## **🌿 06_학습된 Embedding 레이어 분석**"
      ],
      "metadata": {
        "id": "p6jx7seLHk_T"
      }
    },
    {
      "cell_type": "markdown",
      "source": [
        "### **🍃 06-1_학습된 Embedding 파라미터**"
      ],
      "metadata": {
        "id": "ST3R252nTb67"
      }
    },
    {
      "cell_type": "markdown",
      "source": [
        "- **학습한 임베딩 파일을 파라미터에 써서 저장** \n",
        "- **단어 개수 만큼의 워드 벡터를 파일에 기록**  "
      ],
      "metadata": {
        "id": "XHq1p65mIPSL"
      }
    },
    {
      "cell_type": "code",
      "source": [
        "embedding_layer = lstm_model.layers[0]\n",
        "weights = embedding_layer.get_weights()[0]\n",
        "vocab_size, word_vector_dim = weights.shape[0], weights.shape[1]\n",
        "\n",
        "word2vec_file_path = '/content/drive/MyDrive/Colab Notebooks/aiffel/01-2_exploration/E-09/data/word2vec_file.txt'\n",
        "f = open(word2vec_file_path, 'w')\n",
        "f.write('{} {}\\n'.format(vocab_size-4, word_vector_dim))\n",
        "\n",
        "vectors = lstm_model.get_weights()[0]\n",
        "for i in range(4,vocab_size):\n",
        "    f.write('{} {}\\n'.format(index_to_word[i], ' '.join(map(str, list(vectors[i, :])))))\n",
        "f.close()"
      ],
      "metadata": {
        "id": "HQJ5rfz0MQug"
      },
      "execution_count": null,
      "outputs": []
    },
    {
      "cell_type": "markdown",
      "source": [
        "- **임베딩 파라미터를 읽어서 word vector로 활용**"
      ],
      "metadata": {
        "id": "U4MxvvvAJJgq"
      }
    },
    {
      "cell_type": "code",
      "source": [
        "word_vectors = Word2VecKeyedVectors.load_word2vec_format(word2vec_file_path, binary=False)\n",
        "vector = word_vectors['영화']\n",
        "vector"
      ],
      "metadata": {
        "colab": {
          "base_uri": "https://localhost:8080/"
        },
        "id": "-F7rk0VkMSfl",
        "outputId": "2f9f9d16-4980-4cca-85db-a891d3f18ee7"
      },
      "execution_count": null,
      "outputs": [
        {
          "output_type": "execute_result",
          "data": {
            "text/plain": [
              "array([ 0.26447856,  0.15835975,  0.09929051, -0.100451  , -0.0558989 ,\n",
              "        0.12765689,  0.09399854,  0.09564783,  0.09068885,  0.06786903,\n",
              "       -0.03658778,  0.01745875,  0.04256984, -0.12796403,  0.1269951 ,\n",
              "       -0.02082425,  0.0888258 ,  0.00956217, -0.0530119 , -0.08059976,\n",
              "        0.14221163, -0.21853872, -0.00734961, -0.17958237, -0.01994015,\n",
              "       -0.15596303,  0.1687754 , -0.01589603, -0.19664468,  0.36145142,\n",
              "       -0.12945536,  0.06325056, -0.12563887,  0.26201808, -0.02937509,\n",
              "        0.01942616,  0.0945683 , -0.05163124,  0.06482888, -0.07878715,\n",
              "       -0.19487685, -0.09754451, -0.17535195, -0.06950848, -0.19303054,\n",
              "        0.13453148, -0.12312096,  0.17835987, -0.01515478,  0.10297735,\n",
              "       -0.01177977, -0.04665555, -0.05311278, -0.03636943,  0.05029833,\n",
              "       -0.17197941, -0.1429408 , -0.08322045, -0.16102053, -0.09031742,\n",
              "        0.08282749, -0.03746272,  0.02964526,  0.04100472, -0.00323085,\n",
              "        0.09631939, -0.21213965,  0.08380376, -0.04160128, -0.08067659,\n",
              "        0.01861822, -0.1228779 ,  0.12249193,  0.11539838,  0.04358646,\n",
              "       -0.30005822,  0.0642921 , -0.22220418, -0.06045121,  0.01770367,\n",
              "        0.14676037,  0.03916641,  0.07996291, -0.2408899 , -0.1236497 ,\n",
              "        0.05953774, -0.02361691, -0.26940283, -0.08826214, -0.01903784,\n",
              "       -0.0510408 , -0.01269233, -0.04916565, -0.13412784, -0.14398189,\n",
              "        0.09261248, -0.13261972, -0.01121235, -0.2506385 ,  0.13488983,\n",
              "        0.06152108,  0.09928202,  0.03765056,  0.00807448, -0.00183653,\n",
              "       -0.16722153,  0.02071024, -0.07886444, -0.01592076,  0.25897595,\n",
              "       -0.02231362,  0.04843534,  0.09097856, -0.05460633,  0.00195508,\n",
              "        0.02587368,  0.14776084, -0.0772815 ,  0.01448348, -0.0009313 ,\n",
              "        0.10546176,  0.12357135, -0.18321401, -0.00891448,  0.17315072,\n",
              "        0.02919927,  0.23744379, -0.2694447 ], dtype=float32)"
            ]
          },
          "metadata": {},
          "execution_count": 34
        }
      ]
    },
    {
      "cell_type": "markdown",
      "source": [
        "### **🍃 06-2_단어 유사도 확인**"
      ],
      "metadata": {
        "id": "vuZac0zQTnEP"
      }
    },
    {
      "cell_type": "markdown",
      "source": [
        "- **워드 벡터가 의미 벡터 공간상에 유의미하게 학습되었는지 확인하는 방법**  \n",
        "- **단어를 주고 그와 가장 유사한 단어와 그 유사도를 확인**  \n",
        "감동: 약 74 - 86% 유사"
      ],
      "metadata": {
        "id": "98cxDZHrIZYs"
      }
    },
    {
      "cell_type": "code",
      "source": [
        "word_vectors.similar_by_word(\"감동\")"
      ],
      "metadata": {
        "colab": {
          "base_uri": "https://localhost:8080/"
        },
        "id": "L2OxrpY7jC2J",
        "outputId": "fa7e287c-c3c5-41bf-f2ae-e0d54d18e2dd"
      },
      "execution_count": null,
      "outputs": [
        {
          "output_type": "execute_result",
          "data": {
            "text/plain": [
              "[('입감', 0.8067985773086548),\n",
              " ('룬드그렌', 0.7884331941604614),\n",
              " ('명품', 0.7620113492012024),\n",
              " ('선언', 0.7537320852279663),\n",
              " ('이토록', 0.7524365782737732),\n",
              " ('서스펜스', 0.7522450685501099),\n",
              " ('우수', 0.7486531734466553),\n",
              " ('즐겁', 0.7481333613395691),\n",
              " ('즐거운', 0.7451295256614685),\n",
              " ('예민', 0.7448809742927551)]"
            ]
          },
          "metadata": {},
          "execution_count": 35
        }
      ]
    },
    {
      "cell_type": "markdown",
      "source": [
        "- **워드 벡터가 의미 벡터 공간상에 유의미하게 학습되었는지 확인하는 방법**  \n",
        "- **단어를 주고 그와 가장 유사한 단어와 그 유사도를 확인**  \n",
        "실망: 약 85 - 90% 유사"
      ],
      "metadata": {
        "id": "D5Y1VTL8Ivzq"
      }
    },
    {
      "cell_type": "code",
      "source": [
        "word_vectors.similar_by_word(\"실망\")"
      ],
      "metadata": {
        "colab": {
          "base_uri": "https://localhost:8080/"
        },
        "id": "5tvwsW4TjFCa",
        "outputId": "77ee1b6d-3281-46cf-c2c2-a0d541649a73"
      },
      "execution_count": null,
      "outputs": [
        {
          "output_type": "execute_result",
          "data": {
            "text/plain": [
              "[('재미없', 0.904398500919342),\n",
              " ('첨가', 0.8871858716011047),\n",
              " ('떨어지', 0.8861186504364014),\n",
              " ('까이', 0.8756111860275269),\n",
              " ('끊', 0.8750460743904114),\n",
              " ('짝퉁', 0.8750170469284058),\n",
              " ('해리슨포드', 0.8682207465171814),\n",
              " ('산드라블록', 0.8668769001960754),\n",
              " ('순결', 0.8664260506629944),\n",
              " ('무공', 0.858952522277832)]"
            ]
          },
          "metadata": {},
          "execution_count": 36
        }
      ]
    },
    {
      "cell_type": "markdown",
      "source": [
        "- **워드 벡터가 의미 벡터 공간상에 유의미하게 학습되었는지 확인하는 방법**  \n",
        "- **단어를 주고 그와 가장 유사한 단어와 그 유사도를 확인**  \n",
        "행복: 약 74 - 79% 유사"
      ],
      "metadata": {
        "id": "k1xV6clyIzXA"
      }
    },
    {
      "cell_type": "code",
      "source": [
        "word_vectors.similar_by_word(\"행복\")"
      ],
      "metadata": {
        "colab": {
          "base_uri": "https://localhost:8080/"
        },
        "id": "myGz0fNajJf4",
        "outputId": "0c5cfa0f-c68b-409f-fb3a-53621958a393"
      },
      "execution_count": null,
      "outputs": [
        {
          "output_type": "execute_result",
          "data": {
            "text/plain": [
              "[('유머러스', 0.794694185256958),\n",
              " ('들이', 0.7924076318740845),\n",
              " ('비극', 0.7804372310638428),\n",
              " ('짜릿', 0.778050422668457),\n",
              " ('다음', 0.7745981216430664),\n",
              " ('찡', 0.7637293338775635),\n",
              " ('소장', 0.7625682353973389),\n",
              " ('엠마', 0.756299614906311),\n",
              " ('동포', 0.751228392124176),\n",
              " ('홧팅', 0.747753381729126)]"
            ]
          },
          "metadata": {},
          "execution_count": 37
        }
      ]
    },
    {
      "cell_type": "markdown",
      "source": [
        "- **워드 벡터가 의미 벡터 공간상에 유의미하게 학습되었는지 확인하는 방법**  \n",
        "- **단어를 주고 그와 가장 유사한 단어와 그 유사도를 확인**  \n",
        "슬픔: 약 78 - 81% 유사"
      ],
      "metadata": {
        "id": "aZgh5dYuI1XK"
      }
    },
    {
      "cell_type": "code",
      "source": [
        "word_vectors.similar_by_word(\"슬픔\")"
      ],
      "metadata": {
        "colab": {
          "base_uri": "https://localhost:8080/"
        },
        "id": "QnjjkbyejLUO",
        "outputId": "bf728164-cc6f-4a46-a03b-aa88a508a71c"
      },
      "execution_count": null,
      "outputs": [
        {
          "output_type": "execute_result",
          "data": {
            "text/plain": [
              "[('오버랩', 0.8173151612281799),\n",
              " ('롤', 0.8109647035598755),\n",
              " ('풍성', 0.8106630444526672),\n",
              " ('비오', 0.807010293006897),\n",
              " ('빠져서', 0.7986940741539001),\n",
              " ('故', 0.79481041431427),\n",
              " ('숨막히', 0.7934947609901428),\n",
              " ('예스', 0.7918787002563477),\n",
              " ('하나하나', 0.7911376953125),\n",
              " ('되돌아보', 0.7896061539649963)]"
            ]
          },
          "metadata": {},
          "execution_count": 38
        }
      ]
    },
    {
      "cell_type": "markdown",
      "source": [
        "- **워드 벡터가 의미 벡터 공간상에 유의미하게 학습되었는지 확인하는 방법**  \n",
        "- **단어를 주고 그와 가장 유사한 단어와 그 유사도를 확인**  \n",
        "기대: 약 57 - 64% 유사"
      ],
      "metadata": {
        "id": "YTCNDfa3I4u6"
      }
    },
    {
      "cell_type": "code",
      "source": [
        "word_vectors.similar_by_word(\"기대\")"
      ],
      "metadata": {
        "colab": {
          "base_uri": "https://localhost:8080/"
        },
        "id": "ph-rklXwjN7G",
        "outputId": "8bf972e1-ec62-4780-c47c-68c905c90ecf"
      },
      "execution_count": null,
      "outputs": [
        {
          "output_type": "execute_result",
          "data": {
            "text/plain": [
              "[('전혀', 0.6426686644554138),\n",
              " ('P', 0.6401302218437195),\n",
              " ('흐', 0.6311445236206055),\n",
              " ('재료', 0.6189547777175903),\n",
              " ('음란', 0.5841942429542542),\n",
              " ('최', 0.5759871006011963),\n",
              " ('마녀', 0.5759713053703308),\n",
              " ('거짓', 0.5734671950340271),\n",
              " ('지나가', 0.5728680491447449),\n",
              " ('남겨', 0.5723528861999512)]"
            ]
          },
          "metadata": {},
          "execution_count": 39
        }
      ]
    },
    {
      "cell_type": "markdown",
      "source": [
        "## **🌿 07_한국어 Word2Vec 임베딩 활용하여 성능 개선**"
      ],
      "metadata": {
        "id": "jtLTQdnuH1aG"
      }
    },
    {
      "cell_type": "markdown",
      "source": [
        "### **🍃 07-1_Embedding 파라미터 import**"
      ],
      "metadata": {
        "id": "OPKyT_YrTv6i"
      }
    },
    {
      "cell_type": "markdown",
      "source": [
        "- **word vector로 활용**"
      ],
      "metadata": {
        "id": "ydyFDS-RJvAE"
      }
    },
    {
      "cell_type": "code",
      "source": [
        "word2vec_path = ('/content/drive/MyDrive/Colab Notebooks/aiffel/01-2_exploration/E-09/data/word2vec_ko.bin')\n",
        "word2vec = gensim.models.Word2Vec.load(word2vec_path)\n",
        "vector = word2vec['영화']\n",
        "vector"
      ],
      "metadata": {
        "colab": {
          "base_uri": "https://localhost:8080/"
        },
        "id": "125zkRJ2kQrQ",
        "outputId": "cfdbd1a1-63ab-4bc5-bdd4-a6966ea9b459"
      },
      "execution_count": null,
      "outputs": [
        {
          "output_type": "stream",
          "name": "stderr",
          "text": [
            "/usr/local/lib/python3.7/dist-packages/ipykernel_launcher.py:3: DeprecationWarning: Call to deprecated `__getitem__` (Method will be removed in 4.0.0, use self.wv.__getitem__() instead).\n",
            "  This is separate from the ipykernel package so we can avoid doing imports until\n"
          ]
        },
        {
          "output_type": "execute_result",
          "data": {
            "text/plain": [
              "array([-1.7577837 , -1.0874279 ,  1.5300866 , -0.1115231 , -0.37980682,\n",
              "        1.4828517 ,  1.3180419 ,  0.11094163,  0.7430535 , -0.45461136,\n",
              "        0.58841336,  0.5763913 ,  1.210707  ,  1.3132795 , -0.86962503,\n",
              "       -0.18507595, -0.47440064,  1.5100725 ,  1.0965794 ,  1.0600823 ,\n",
              "       -0.27457932, -0.70003706,  2.3117511 ,  1.4944884 ,  0.25560892,\n",
              "       -2.866659  , -0.28312334,  0.34263936, -0.67723423,  0.71714777,\n",
              "        0.25549442,  0.71732044, -0.13262457,  0.01792452, -0.3184774 ,\n",
              "        0.5271619 ,  0.7561084 , -2.1247065 ,  1.061429  , -0.21065854,\n",
              "        0.6877343 , -1.4956383 ,  0.60346967, -2.6955893 ,  0.37694618,\n",
              "       -1.0164185 ,  0.5430663 ,  0.1200121 , -2.6315718 ,  0.6216742 ,\n",
              "        1.1583976 , -2.5385962 ,  1.326312  , -0.10284371, -0.0286147 ,\n",
              "       -0.9132947 ,  0.7647564 ,  0.79202783, -1.8625957 , -0.7418395 ,\n",
              "        0.5884277 , -0.9917992 , -0.62114453,  1.5367815 , -0.6628939 ,\n",
              "        0.6712103 ,  0.12914915,  0.21228492,  0.9017655 , -0.25083402,\n",
              "        0.71500814,  0.08644514,  0.59993285,  0.5766137 ,  0.64095974,\n",
              "        0.47888306, -2.8426213 , -2.8502681 , -0.140544  , -1.5917364 ,\n",
              "        0.26691505,  0.59476066,  0.85868204,  1.0322351 ,  0.25671318,\n",
              "       -0.34831643,  1.752927  , -0.21967097, -0.77352476,  1.6995213 ,\n",
              "        1.3996491 , -0.9419836 ,  0.85996443, -1.8812876 , -2.5428605 ,\n",
              "        0.39351937, -1.2882805 ,  0.56548136,  1.006273  ,  1.2217585 ,\n",
              "        3.5744793 ,  1.717737  ,  1.6917158 , -2.2176905 , -0.3167447 ,\n",
              "        1.2449    , -1.255284  , -2.1539652 , -1.096709  , -0.74976933,\n",
              "       -0.16744931, -1.8507233 ,  2.1861036 , -0.05389732,  1.038033  ,\n",
              "        0.33730686, -1.4647075 , -1.264041  ,  0.25509247,  0.0622906 ,\n",
              "        0.27852032, -0.52661455,  0.8529616 ,  0.58257025, -0.57665855,\n",
              "        1.3990631 ,  0.28237963,  1.6566037 ,  1.9912103 ,  0.63888913,\n",
              "        0.7732426 , -1.3757724 ,  0.17209321, -0.2433672 ,  0.6328291 ,\n",
              "        1.486971  ,  2.3435354 , -1.7037928 ,  3.1944559 , -1.9049606 ,\n",
              "       -0.51309574,  0.79082954, -1.4480313 , -0.68631476,  0.62008876,\n",
              "       -2.3400223 , -0.5785594 ,  0.5270694 ,  3.0061607 , -1.3661511 ,\n",
              "       -2.7953272 , -1.1794031 , -0.27734265,  0.71130925, -0.06620383,\n",
              "        0.33663416,  0.7204997 , -0.923218  , -2.1603265 , -0.8904896 ,\n",
              "       -1.4137112 , -0.4189144 ,  0.42834592,  1.8104875 , -1.8274456 ,\n",
              "       -0.26700613,  0.7743727 ,  0.80048114,  1.1333636 ,  3.2746978 ,\n",
              "       -0.0188297 ,  0.9245737 , -0.1246058 , -0.5802861 , -0.01926111,\n",
              "        1.05892   , -1.4247856 ,  1.0689156 ,  2.5728712 , -1.294882  ,\n",
              "        0.74771804,  1.3066916 , -1.3213431 ,  1.6501019 , -0.12401557,\n",
              "        0.96340084,  0.26050946,  1.3826336 , -0.02877662,  2.3431563 ,\n",
              "       -0.26337367,  1.9162012 , -0.77454543,  1.7392642 ,  0.08038983,\n",
              "       -0.60325927,  0.29508227,  0.4812675 ,  0.5271086 ,  0.94171894],\n",
              "      dtype=float32)"
            ]
          },
          "metadata": {},
          "execution_count": 57
        }
      ]
    },
    {
      "cell_type": "markdown",
      "source": [
        "### **🍃 07-2_단어 유사도 확인**"
      ],
      "metadata": {
        "id": "oUnxABMNTrg6"
      }
    },
    {
      "cell_type": "markdown",
      "source": [
        "**전체적으로 word2vec의 결과가 word_vectors에 비해 10% 정도 낮게 확인**"
      ],
      "metadata": {
        "id": "T6HhEUPsWfes"
      }
    },
    {
      "cell_type": "markdown",
      "source": [
        "- **워드 벡터가 의미 벡터 공간상에 유의미하게 학습되었는지 확인하는 방법**  \n",
        "- **단어를 주고 그와 가장 유사한 단어와 그 유사도를 확인**  \n",
        "감동: 약 58 - 71% 유사"
      ],
      "metadata": {
        "id": "KjgGZqz7TE-Z"
      }
    },
    {
      "cell_type": "code",
      "source": [
        "word2vec.similar_by_word(\"감동\")"
      ],
      "metadata": {
        "colab": {
          "base_uri": "https://localhost:8080/"
        },
        "id": "wO40h6Qltxsx",
        "outputId": "8e01eb4e-6b3a-472d-f98f-7bf370cc3684"
      },
      "execution_count": null,
      "outputs": [
        {
          "output_type": "stream",
          "name": "stderr",
          "text": [
            "/usr/local/lib/python3.7/dist-packages/ipykernel_launcher.py:1: DeprecationWarning: Call to deprecated `similar_by_word` (Method will be removed in 4.0.0, use self.wv.similar_by_word() instead).\n",
            "  \"\"\"Entry point for launching an IPython kernel.\n"
          ]
        },
        {
          "output_type": "execute_result",
          "data": {
            "text/plain": [
              "[('감명', 0.7177015542984009),\n",
              " ('감격', 0.6908231973648071),\n",
              " ('실망', 0.6267645359039307),\n",
              " ('감화', 0.6191877126693726),\n",
              " ('감탄', 0.6140128374099731),\n",
              " ('칭찬', 0.6059398055076599),\n",
              " ('존경', 0.6032299995422363),\n",
              " ('자극', 0.594598650932312),\n",
              " ('감복', 0.5902734994888306),\n",
              " ('호응', 0.5850393772125244)]"
            ]
          },
          "metadata": {},
          "execution_count": 58
        }
      ]
    },
    {
      "cell_type": "markdown",
      "source": [
        "- **워드 벡터가 의미 벡터 공간상에 유의미하게 학습되었는지 확인하는 방법**  \n",
        "- **단어를 주고 그와 가장 유사한 단어와 그 유사도를 확인**  \n",
        "실망: 약 61 - 75% 유사"
      ],
      "metadata": {
        "id": "esWhT1pDTJhQ"
      }
    },
    {
      "cell_type": "code",
      "source": [
        "word2vec.similar_by_word(\"실망\")"
      ],
      "metadata": {
        "colab": {
          "base_uri": "https://localhost:8080/"
        },
        "id": "HiVriIhQt11G",
        "outputId": "6250391a-affa-4d65-e42d-8837807092a9"
      },
      "execution_count": null,
      "outputs": [
        {
          "output_type": "stream",
          "name": "stderr",
          "text": [
            "/usr/local/lib/python3.7/dist-packages/ipykernel_launcher.py:1: DeprecationWarning: Call to deprecated `similar_by_word` (Method will be removed in 4.0.0, use self.wv.similar_by_word() instead).\n",
            "  \"\"\"Entry point for launching an IPython kernel.\n"
          ]
        },
        {
          "output_type": "execute_result",
          "data": {
            "text/plain": [
              "[('당황', 0.7591220140457153),\n",
              " ('경악', 0.6881837248802185),\n",
              " ('분개', 0.6751235723495483),\n",
              " ('분노', 0.6750859022140503),\n",
              " ('격분', 0.647419810295105),\n",
              " ('감동', 0.6267645955085754),\n",
              " ('감탄', 0.6222271919250488),\n",
              " ('원망', 0.6156655550003052),\n",
              " ('조심', 0.6145114898681641),\n",
              " ('감복', 0.6109203696250916)]"
            ]
          },
          "metadata": {},
          "execution_count": 59
        }
      ]
    },
    {
      "cell_type": "markdown",
      "source": [
        "- **워드 벡터가 의미 벡터 공간상에 유의미하게 학습되었는지 확인하는 방법**  \n",
        "- **단어를 주고 그와 가장 유사한 단어와 그 유사도를 확인**  \n",
        "행복: 약 58 - 67% 유사"
      ],
      "metadata": {
        "id": "Jnmt4PkUTLAX"
      }
    },
    {
      "cell_type": "code",
      "source": [
        "word2vec.similar_by_word(\"행복\")"
      ],
      "metadata": {
        "colab": {
          "base_uri": "https://localhost:8080/"
        },
        "id": "6KHU8Y9Ot2I1",
        "outputId": "93e626b0-964e-4947-abd8-f2c3d1a8a66b"
      },
      "execution_count": null,
      "outputs": [
        {
          "output_type": "stream",
          "name": "stderr",
          "text": [
            "/usr/local/lib/python3.7/dist-packages/ipykernel_launcher.py:1: DeprecationWarning: Call to deprecated `similar_by_word` (Method will be removed in 4.0.0, use self.wv.similar_by_word() instead).\n",
            "  \"\"\"Entry point for launching an IPython kernel.\n"
          ]
        },
        {
          "output_type": "execute_result",
          "data": {
            "text/plain": [
              "[('사랑', 0.6759077310562134),\n",
              " ('기쁨', 0.6493781805038452),\n",
              " ('즐거움', 0.6396492719650269),\n",
              " ('삶', 0.6299898028373718),\n",
              " ('젊음', 0.6187379360198975),\n",
              " ('즐겁', 0.6027448177337646),\n",
              " ('인생', 0.6002243161201477),\n",
              " ('존엄', 0.5952589511871338),\n",
              " ('고독', 0.5938762426376343),\n",
              " ('불행', 0.5894461870193481)]"
            ]
          },
          "metadata": {},
          "execution_count": 60
        }
      ]
    },
    {
      "cell_type": "markdown",
      "source": [
        "- **워드 벡터가 의미 벡터 공간상에 유의미하게 학습되었는지 확인하는 방법**  \n",
        "- **단어를 주고 그와 가장 유사한 단어와 그 유사도를 확인**  \n",
        "슬픔: 약 68 - 77% 유사"
      ],
      "metadata": {
        "id": "H0X5sPk7TMZP"
      }
    },
    {
      "cell_type": "code",
      "source": [
        "word2vec.similar_by_word(\"슬픔\")"
      ],
      "metadata": {
        "colab": {
          "base_uri": "https://localhost:8080/"
        },
        "id": "jFY-0Khst2ao",
        "outputId": "8cd1aff5-78e5-4e58-939e-16fec2bae782"
      },
      "execution_count": null,
      "outputs": [
        {
          "output_type": "stream",
          "name": "stderr",
          "text": [
            "/usr/local/lib/python3.7/dist-packages/ipykernel_launcher.py:1: DeprecationWarning: Call to deprecated `similar_by_word` (Method will be removed in 4.0.0, use self.wv.similar_by_word() instead).\n",
            "  \"\"\"Entry point for launching an IPython kernel.\n"
          ]
        },
        {
          "output_type": "execute_result",
          "data": {
            "text/plain": [
              "[('기쁨', 0.7767106294631958),\n",
              " ('절망', 0.7710496783256531),\n",
              " ('아픔', 0.7430999279022217),\n",
              " ('비탄', 0.7297681570053101),\n",
              " ('고독', 0.7251476049423218),\n",
              " ('사랑', 0.7216662168502808),\n",
              " ('외로움', 0.7195188999176025),\n",
              " ('추억', 0.6951203346252441),\n",
              " ('이별', 0.6873862147331238),\n",
              " ('괴로움', 0.6854110956192017)]"
            ]
          },
          "metadata": {},
          "execution_count": 61
        }
      ]
    },
    {
      "cell_type": "markdown",
      "source": [
        "- **워드 벡터가 의미 벡터 공간상에 유의미하게 학습되었는지 확인하는 방법**  \n",
        "- **단어를 주고 그와 가장 유사한 단어와 그 유사도를 확인**  \n",
        "기대: 약 49 - 59% 유사"
      ],
      "metadata": {
        "id": "ZOUkH_5ITNoY"
      }
    },
    {
      "cell_type": "code",
      "source": [
        "word2vec.similar_by_word(\"기대\")"
      ],
      "metadata": {
        "colab": {
          "base_uri": "https://localhost:8080/"
        },
        "id": "NKteditPt2nX",
        "outputId": "89d351f9-881e-4377-d82a-bfa892900746"
      },
      "execution_count": null,
      "outputs": [
        {
          "output_type": "stream",
          "name": "stderr",
          "text": [
            "/usr/local/lib/python3.7/dist-packages/ipykernel_launcher.py:1: DeprecationWarning: Call to deprecated `similar_by_word` (Method will be removed in 4.0.0, use self.wv.similar_by_word() instead).\n",
            "  \"\"\"Entry point for launching an IPython kernel.\n"
          ]
        },
        {
          "output_type": "execute_result",
          "data": {
            "text/plain": [
              "[('예상', 0.5993404388427734),\n",
              " ('예측', 0.5521305203437805),\n",
              " ('전망', 0.5395902395248413),\n",
              " ('걱정', 0.5109213590621948),\n",
              " ('우려', 0.5100494623184204),\n",
              " ('생각', 0.5072912573814392),\n",
              " ('평가', 0.5036546587944031),\n",
              " ('신뢰', 0.5025410652160645),\n",
              " ('희망', 0.49611741304397583),\n",
              " ('관심도', 0.4947463572025299)]"
            ]
          },
          "metadata": {},
          "execution_count": 62
        }
      ]
    },
    {
      "cell_type": "markdown",
      "source": [
        "### **🍃 07-3_model에 사용할 embedding layer**"
      ],
      "metadata": {
        "id": "Ymo_SRcRT3xD"
      }
    },
    {
      "cell_type": "markdown",
      "source": [
        "- **embedding layer**  "
      ],
      "metadata": {
        "id": "SGycI-5hUEPk"
      }
    },
    {
      "cell_type": "code",
      "source": [
        "vocab_size = 10000\n",
        "word_vector_dim = 200\n",
        "\n",
        "embedding_matrix = np.random.rand(vocab_size, word_vector_dim)\n",
        "\n",
        "for i in range(4,vocab_size):\n",
        "    if index_to_word[i] in word2vec:\n",
        "        embedding_matrix[i] = word2vec[index_to_word[i]]"
      ],
      "metadata": {
        "colab": {
          "base_uri": "https://localhost:8080/"
        },
        "id": "5EF8bY8Yt8Qh",
        "outputId": "2e9a1ef7-8201-44c7-cb3a-958023d03316"
      },
      "execution_count": null,
      "outputs": [
        {
          "output_type": "stream",
          "name": "stderr",
          "text": [
            "/usr/local/lib/python3.7/dist-packages/ipykernel_launcher.py:8: DeprecationWarning: Call to deprecated `__contains__` (Method will be removed in 4.0.0, use self.wv.__contains__() instead).\n",
            "  \n",
            "/usr/local/lib/python3.7/dist-packages/ipykernel_launcher.py:9: DeprecationWarning: Call to deprecated `__getitem__` (Method will be removed in 4.0.0, use self.wv.__getitem__() instead).\n",
            "  if __name__ == '__main__':\n"
          ]
        }
      ]
    },
    {
      "cell_type": "markdown",
      "source": [
        "### **🍃 07-4_subclassing을 활용한 word2vec을 embedding하는 모델 제작**"
      ],
      "metadata": {
        "id": "g8zr2FqhUUMl"
      }
    },
    {
      "cell_type": "markdown",
      "source": [
        "- **LSTMModel word2vec embedding 모델 선언**"
      ],
      "metadata": {
        "id": "9IC_nWfoVMyv"
      }
    },
    {
      "cell_type": "code",
      "source": [
        "class LSTMModel_ko(keras.Model):\n",
        "    def __init__(self,embedding_m):\n",
        "        super().__init__()\n",
        "        vocab_size = 10000\n",
        "        word_vector_dim = 200\n",
        "        \n",
        "        self.embedding = keras.layers.Embedding(vocab_size, \n",
        "                                 word_vector_dim, \n",
        "                                 embeddings_initializer=Constant(embedding_m),\n",
        "                                 input_length=maxlen, \n",
        "                                 trainable=True)\n",
        "        self.lstm = keras.layers.LSTM(64)\n",
        "        self.dense1 = keras.layers.Dense(256, activation='relu')\n",
        "        self.dense2 = keras.layers.Dense(1, activation='sigmoid')\n",
        "        \n",
        "    def call(self, x):\n",
        "        x = self.embedding(x)\n",
        "        x = self.lstm(x)\n",
        "        x = self.dense1(x)\n",
        "        x = self.dense2(x)\n",
        "        \n",
        "        return x"
      ],
      "metadata": {
        "id": "F55QDrsqt82K"
      },
      "execution_count": null,
      "outputs": []
    },
    {
      "cell_type": "markdown",
      "source": [
        "- **Conv1DModel word2vec embedding 모델 선언**"
      ],
      "metadata": {
        "id": "aMdfHyJpVQwC"
      }
    },
    {
      "cell_type": "code",
      "source": [
        "class Conv1DModel_ko(keras.Model):\n",
        "    def __init__(self,embedding_m):\n",
        "        super().__init__()\n",
        "        vocab_size = 10000\n",
        "        word_vector_dim = 200\n",
        "        \n",
        "        self.embedding = keras.layers.Embedding(vocab_size, \n",
        "                                 word_vector_dim, \n",
        "                                 embeddings_initializer=Constant(embedding_m),\n",
        "                                 input_length=maxlen, \n",
        "                                 trainable=True)\n",
        "        self.conv1 = keras.layers.Conv1D(64, 7, activation='relu')\n",
        "        self.maxp = keras.layers.MaxPooling1D(5)\n",
        "        self.conv2 = keras.layers.Conv1D(64, 7, activation='relu')\n",
        "        self.gmaxp = keras.layers.GlobalMaxPooling1D()\n",
        "        self.dense1 = keras.layers.Dense(128, activation='relu')\n",
        "        self.dense2 = keras.layers.Dense(1, activation='sigmoid')\n",
        "        \n",
        "    def call(self, x):\n",
        "        x = self.embedding(x)\n",
        "        x = self.conv1(x)\n",
        "        x = self.maxp(x)\n",
        "        x = self.conv2(x)\n",
        "        x = self.gmaxp(x)\n",
        "        x = self.dense1(x)\n",
        "        x = self.dense2(x)\n",
        "\n",
        "        return x"
      ],
      "metadata": {
        "id": "d9ZVIUnft_gF"
      },
      "execution_count": null,
      "outputs": []
    },
    {
      "cell_type": "markdown",
      "source": [
        "- **GMPModel word2vec embedding 모델 선언**"
      ],
      "metadata": {
        "id": "2FMaQel0VTJo"
      }
    },
    {
      "cell_type": "code",
      "source": [
        "class GMPModel_ko(keras.Model):\n",
        "    def __init__(self,embedding_m):\n",
        "        super().__init__()\n",
        "        vocab_size = 10000\n",
        "        word_vector_dim = 200\n",
        "        \n",
        "        self.embedding = keras.layers.Embedding(vocab_size, \n",
        "                                 word_vector_dim, \n",
        "                                 embeddings_initializer=Constant(embedding_m),\n",
        "                                 input_length=maxlen, \n",
        "                                 trainable=True)\n",
        "        self.gmp = keras.layers.GlobalMaxPooling1D()\n",
        "        self.dense1 = keras.layers.Dense(8, activation='relu')\n",
        "        self.dense2 = keras.layers.Dense(1, activation='sigmoid')\n",
        "        \n",
        "    def call(self, x):\n",
        "        x = self.embedding(x)\n",
        "        x = self.gmp(x)\n",
        "        x = self.dense1(x)\n",
        "        x = self.dense2(x)\n",
        "        \n",
        "        return x"
      ],
      "metadata": {
        "id": "HiNMOVnGuHVp"
      },
      "execution_count": null,
      "outputs": []
    },
    {
      "cell_type": "markdown",
      "source": [
        "### **🍃 07-5_세가지 모델 선언**"
      ],
      "metadata": {
        "id": "_5yaUcYfUN-F"
      }
    },
    {
      "cell_type": "markdown",
      "source": [
        "- **모델 선언**"
      ],
      "metadata": {
        "id": "e8o5wjYSVmLG"
      }
    },
    {
      "cell_type": "code",
      "source": [
        "lstm_model_ko = LSTMModel_ko(embedding_matrix)\n",
        "conv1d_model_ko = Conv1DModel_ko(embedding_matrix)\n",
        "gmp_model_ko = GMPModel_ko(embedding_matrix)"
      ],
      "metadata": {
        "id": "w70m0t56uLTo"
      },
      "execution_count": null,
      "outputs": []
    },
    {
      "cell_type": "markdown",
      "source": [
        "### **🍃 07-6_lstm**"
      ],
      "metadata": {
        "id": "9UiY2ZJxYHPf"
      }
    },
    {
      "cell_type": "markdown",
      "source": [
        "- **lstm 모델학습**  \n",
        "Epoch 10회 / loss:0.69 / Accurancy: 0.84 "
      ],
      "metadata": {
        "id": "k_qY64R1YcEA"
      }
    },
    {
      "cell_type": "code",
      "source": [
        "lstm_ko_history = fitting_machine(lstm_model_ko, 10)"
      ],
      "metadata": {
        "colab": {
          "base_uri": "https://localhost:8080/"
        },
        "id": "ScT6moVruNgz",
        "outputId": "a90d73bd-f0ce-4d93-9dc7-3923494299c9"
      },
      "execution_count": null,
      "outputs": [
        {
          "output_type": "stream",
          "name": "stdout",
          "text": [
            "Epoch 1/10\n",
            "3427/3427 [==============================] - 127s 37ms/step - loss: 0.3905 - accuracy: 0.8222 - val_loss: 0.3320 - val_accuracy: 0.8569\n",
            "Epoch 2/10\n",
            "3427/3427 [==============================] - 126s 37ms/step - loss: 0.2957 - accuracy: 0.8750 - val_loss: 0.3181 - val_accuracy: 0.8610\n",
            "Epoch 3/10\n",
            "3427/3427 [==============================] - 126s 37ms/step - loss: 0.2537 - accuracy: 0.8946 - val_loss: 0.3243 - val_accuracy: 0.8614\n",
            "Epoch 4/10\n",
            "3427/3427 [==============================] - 126s 37ms/step - loss: 0.2154 - accuracy: 0.9121 - val_loss: 0.3427 - val_accuracy: 0.8636\n",
            "Epoch 5/10\n",
            "3427/3427 [==============================] - 144s 42ms/step - loss: 0.1791 - accuracy: 0.9286 - val_loss: 0.3725 - val_accuracy: 0.8630\n",
            "Epoch 6/10\n",
            "3427/3427 [==============================] - 156s 46ms/step - loss: 0.1458 - accuracy: 0.9420 - val_loss: 0.4170 - val_accuracy: 0.8563\n",
            "Epoch 7/10\n",
            "3427/3427 [==============================] - 159s 46ms/step - loss: 0.1160 - accuracy: 0.9551 - val_loss: 0.4829 - val_accuracy: 0.8553\n",
            "Epoch 8/10\n",
            "3427/3427 [==============================] - 156s 46ms/step - loss: 0.0928 - accuracy: 0.9635 - val_loss: 0.6100 - val_accuracy: 0.8588\n",
            "Epoch 9/10\n",
            "3427/3427 [==============================] - 157s 46ms/step - loss: 0.0772 - accuracy: 0.9704 - val_loss: 0.6280 - val_accuracy: 0.8553\n",
            "Epoch 10/10\n",
            "3427/3427 [==============================] - 159s 46ms/step - loss: 0.0638 - accuracy: 0.9758 - val_loss: 0.6832 - val_accuracy: 0.8518\n",
            "1537/1537 - 13s - loss: 0.6918 - accuracy: 0.8486 - 13s/epoch - 8ms/step\n",
            "\n",
            "This is lstm_model_ko\n",
            "Loss: 0.6917724013328552\n",
            "Accurancy: 0.8486278653144836\n",
            "\n"
          ]
        }
      ]
    },
    {
      "cell_type": "markdown",
      "source": [
        "- **lstm 시각화**  \n",
        "모델 학습을 진행할수록 그래프상의 Accurancy가 떨어져 training과의 거리가 멀어진다. 이 부분은 loss 부분도 동일하게 발생헀다. 그래도 확실히 이전보다는 조금 완만하게 진행되는게 눈에 보인다."
      ],
      "metadata": {
        "id": "Wzus0901YvFw"
      }
    },
    {
      "cell_type": "code",
      "source": [
        "visualization(lstm_ko_history)"
      ],
      "metadata": {
        "colab": {
          "base_uri": "https://localhost:8080/",
          "height": 573
        },
        "id": "UOPsHzONuQqQ",
        "outputId": "70e0c024-209e-4abf-b4e8-52eabedfcbea"
      },
      "execution_count": null,
      "outputs": [
        {
          "output_type": "display_data",
          "data": {
            "text/plain": [
              "<Figure size 432x288 with 1 Axes>"
            ],
            "image/png": "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\n"
          },
          "metadata": {
            "needs_background": "light"
          }
        },
        {
          "output_type": "display_data",
          "data": {
            "text/plain": [
              "<Figure size 432x288 with 1 Axes>"
            ],
            "image/png": "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\n"
          },
          "metadata": {
            "needs_background": "light"
          }
        }
      ]
    },
    {
      "cell_type": "markdown",
      "source": [
        "### **🍃 07-7_conv1d**"
      ],
      "metadata": {
        "id": "n3kTz1oHYIw4"
      }
    },
    {
      "cell_type": "markdown",
      "source": [
        "- **conv1d 모델학습**  \n",
        "Epoch 10회 / loss:0.80  / Accurancy:0.83 "
      ],
      "metadata": {
        "id": "YlbHb555YeYp"
      }
    },
    {
      "cell_type": "code",
      "source": [
        "conv1d_ko_history = fitting_machine(conv1d_model_ko, 10)"
      ],
      "metadata": {
        "colab": {
          "base_uri": "https://localhost:8080/"
        },
        "id": "5UTccqeOuR7U",
        "outputId": "10263180-ff6f-455c-db4d-0236a8600684"
      },
      "execution_count": null,
      "outputs": [
        {
          "output_type": "stream",
          "name": "stdout",
          "text": [
            "Epoch 1/10\n",
            "3427/3427 [==============================] - 60s 17ms/step - loss: 0.4270 - accuracy: 0.7974 - val_loss: 0.3531 - val_accuracy: 0.8463\n",
            "Epoch 2/10\n",
            "3427/3427 [==============================] - 61s 18ms/step - loss: 0.3152 - accuracy: 0.8653 - val_loss: 0.3307 - val_accuracy: 0.8553\n",
            "Epoch 3/10\n",
            "3427/3427 [==============================] - 60s 18ms/step - loss: 0.2674 - accuracy: 0.8891 - val_loss: 0.3445 - val_accuracy: 0.8540\n",
            "Epoch 4/10\n",
            "3427/3427 [==============================] - 57s 17ms/step - loss: 0.2218 - accuracy: 0.9097 - val_loss: 0.3656 - val_accuracy: 0.8561\n",
            "Epoch 5/10\n",
            "3427/3427 [==============================] - 57s 17ms/step - loss: 0.1781 - accuracy: 0.9294 - val_loss: 0.4184 - val_accuracy: 0.8501\n",
            "Epoch 6/10\n",
            "3427/3427 [==============================] - 51s 15ms/step - loss: 0.1406 - accuracy: 0.9452 - val_loss: 0.4713 - val_accuracy: 0.8475\n",
            "Epoch 7/10\n",
            "3427/3427 [==============================] - 49s 14ms/step - loss: 0.1098 - accuracy: 0.9584 - val_loss: 0.5345 - val_accuracy: 0.8476\n",
            "Epoch 8/10\n",
            "3427/3427 [==============================] - 50s 15ms/step - loss: 0.0895 - accuracy: 0.9657 - val_loss: 0.6109 - val_accuracy: 0.8440\n",
            "Epoch 9/10\n",
            "3427/3427 [==============================] - 47s 14ms/step - loss: 0.0730 - accuracy: 0.9724 - val_loss: 0.6533 - val_accuracy: 0.8450\n",
            "Epoch 10/10\n",
            "3427/3427 [==============================] - 46s 13ms/step - loss: 0.0609 - accuracy: 0.9767 - val_loss: 0.7856 - val_accuracy: 0.8420\n",
            "1537/1537 - 3s - loss: 0.8054 - accuracy: 0.8372 - 3s/epoch - 2ms/step\n",
            "\n",
            "This is conv1d_model_ko\n",
            "Loss: 0.8054388165473938\n",
            "Accurancy: 0.8372154235839844\n",
            "\n"
          ]
        }
      ]
    },
    {
      "cell_type": "markdown",
      "source": [
        "- **conv1d 시각화**  \n",
        "모델 학습을 진행해도 그래프상의 Accurancy가 일정해 training과의 거리가 멀어진다. loss 부분은 점점 training과의 거리가 멀어진다. 확실히 이전보다는 조금 완만하게 진행되는게 눈에 보인다."
      ],
      "metadata": {
        "id": "BM2_DwfSYynP"
      }
    },
    {
      "cell_type": "code",
      "source": [
        "visualization(conv1d_ko_history)"
      ],
      "metadata": {
        "colab": {
          "base_uri": "https://localhost:8080/",
          "height": 573
        },
        "id": "sUJO8nIuuUHr",
        "outputId": "2db3452e-a8c8-4eec-9be1-e3b18da93fa0"
      },
      "execution_count": null,
      "outputs": [
        {
          "output_type": "display_data",
          "data": {
            "text/plain": [
              "<Figure size 432x288 with 1 Axes>"
            ],
            "image/png": "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\n"
          },
          "metadata": {
            "needs_background": "light"
          }
        },
        {
          "output_type": "display_data",
          "data": {
            "text/plain": [
              "<Figure size 432x288 with 1 Axes>"
            ],
            "image/png": "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\n"
          },
          "metadata": {
            "needs_background": "light"
          }
        }
      ]
    },
    {
      "cell_type": "markdown",
      "source": [
        "### **🍃 07-8_gmp**"
      ],
      "metadata": {
        "id": "lpXtG_YyYLf9"
      }
    },
    {
      "cell_type": "markdown",
      "source": [
        "- **gmp 모델학습**  \n",
        "Epoch 10회 / loss:0.44 / Accurancy:0.82"
      ],
      "metadata": {
        "id": "EZdQ9viTYhWf"
      }
    },
    {
      "cell_type": "code",
      "source": [
        "gmp_ko_history = fitting_machine(gmp_model_ko, 10)"
      ],
      "metadata": {
        "colab": {
          "base_uri": "https://localhost:8080/"
        },
        "id": "ck7j2yeMuVLM",
        "outputId": "2fa9a5f3-bda8-4196-97b2-0ddd75e5d0f9"
      },
      "execution_count": null,
      "outputs": [
        {
          "output_type": "stream",
          "name": "stdout",
          "text": [
            "Epoch 1/10\n",
            "3427/3427 [==============================] - 38s 11ms/step - loss: 0.5959 - accuracy: 0.6594 - val_loss: 0.4722 - val_accuracy: 0.7758\n",
            "Epoch 2/10\n",
            "3427/3427 [==============================] - 38s 11ms/step - loss: 0.4282 - accuracy: 0.8019 - val_loss: 0.4128 - val_accuracy: 0.8112\n",
            "Epoch 3/10\n",
            "3427/3427 [==============================] - 38s 11ms/step - loss: 0.3724 - accuracy: 0.8342 - val_loss: 0.3930 - val_accuracy: 0.8218\n",
            "Epoch 4/10\n",
            "3427/3427 [==============================] - 38s 11ms/step - loss: 0.3375 - accuracy: 0.8540 - val_loss: 0.3946 - val_accuracy: 0.8215\n",
            "Epoch 5/10\n",
            "3427/3427 [==============================] - 38s 11ms/step - loss: 0.3079 - accuracy: 0.8704 - val_loss: 0.3811 - val_accuracy: 0.8313\n",
            "Epoch 6/10\n",
            "3427/3427 [==============================] - 38s 11ms/step - loss: 0.2821 - accuracy: 0.8828 - val_loss: 0.3877 - val_accuracy: 0.8312\n",
            "Epoch 7/10\n",
            "3427/3427 [==============================] - 39s 11ms/step - loss: 0.2601 - accuracy: 0.8935 - val_loss: 0.4013 - val_accuracy: 0.8283\n",
            "Epoch 8/10\n",
            "3427/3427 [==============================] - 39s 11ms/step - loss: 0.2367 - accuracy: 0.9047 - val_loss: 0.4078 - val_accuracy: 0.8337\n",
            "Epoch 9/10\n",
            "3427/3427 [==============================] - 39s 11ms/step - loss: 0.2175 - accuracy: 0.9142 - val_loss: 0.4374 - val_accuracy: 0.8297\n",
            "Epoch 10/10\n",
            "3427/3427 [==============================] - 39s 11ms/step - loss: 0.1975 - accuracy: 0.9236 - val_loss: 0.4384 - val_accuracy: 0.8322\n",
            "1537/1537 - 2s - loss: 0.4473 - accuracy: 0.8282 - 2s/epoch - 1ms/step\n",
            "\n",
            "This is gmp_model_ko\n",
            "Loss: 0.447309285402298\n",
            "Accurancy: 0.8281628489494324\n",
            "\n"
          ]
        }
      ]
    },
    {
      "cell_type": "markdown",
      "source": [
        "- **gmp 시각화**  \n",
        "모델 학습을 진행해도 그래프상의 Accurancy 가 일정해 training과의 거리가 멀어진다. 이 부분은 loss 부분도 동일하게 발생헀다. 확실히 이전보다는 조금 완만하게 진행되는게 눈에 보인다."
      ],
      "metadata": {
        "id": "0sufhyaKY1lo"
      }
    },
    {
      "cell_type": "code",
      "source": [
        "visualization(gmp_ko_history)"
      ],
      "metadata": {
        "colab": {
          "base_uri": "https://localhost:8080/",
          "height": 573
        },
        "id": "Qcvh3Cx9uV4q",
        "outputId": "749c1df8-11c9-4f43-e39b-2923f23f46f8"
      },
      "execution_count": null,
      "outputs": [
        {
          "output_type": "display_data",
          "data": {
            "text/plain": [
              "<Figure size 432x288 with 1 Axes>"
            ],
            "image/png": "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\n"
          },
          "metadata": {
            "needs_background": "light"
          }
        },
        {
          "output_type": "display_data",
          "data": {
            "text/plain": [
              "<Figure size 432x288 with 1 Axes>"
            ],
            "image/png": "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\n"
          },
          "metadata": {
            "needs_background": "light"
          }
        }
      ]
    },
    {
      "cell_type": "markdown",
      "source": [
        "## **🌿 08_결론**"
      ],
      "metadata": {
        "id": "TorWg60HZFH7"
      }
    },
    {
      "cell_type": "markdown",
      "source": [
        "**| model | loss | Accurancy |**   \n",
        "\n",
        "| lstm | 0.74 | 0.83 |  \n",
        "| conv1d | 0.93 | 0.84 |  \n",
        "| gmp | 0.67 | 0.82 |  \n",
        "\n",
        "**한국어 word2vec 임베딩 후 결과**  \n",
        "| lstm | 0.69 | 0.84 |  \n",
        "| conv1d | 0.80 | 0.83 |  \n",
        "| gmp | 0.44 | 0.82 |  \n",
        "\n",
        "loss 값에서는 어느정도 차이를 보이나 Accurancy의 경우 큰 차이를 보이지 않음  \n",
        "성능 면에서는 비슷한 성능을 보이나, 시각적으로 확인한 결과, gmp를 활용한 것이 가장 안정성이 있다고 판단 가능  \n",
        "성능 결과는 비슷하게 나오나 시각적 결과는 다르게 나오므로, 시각적 결과를 꼭 확인하는 자세가 필요  "
      ],
      "metadata": {
        "id": "yLwMk51_ZI5u"
      }
    },
    {
      "cell_type": "markdown",
      "source": [
        "**| 단어 | 유사도 | word2vec 임베딩 후 유사도 |**  \n",
        "| 감동 | 74 - 86% | 58 - 71% |  \n",
        "| 실망 | 85 - 90% | 61 - 75% |  \n",
        "| 행복 | 74 - 79% | 58 - 67% |  \n",
        "| 슬픔 | 78 - 81% | 68 - 77% |  \n",
        "| 기대 | 57 - 64% | 49 - 59% |  \n",
        "\n",
        "단어 유사도를 확인해보면 word2vec 임베딩 후 유사도가 더 높을 것이라고 기대했는데, 실제로는 10 - 15% 정도 낮은 유사도를 보임  \n",
        "예측 1. 선택 키워드가 주로 영화에 관련된 키워드인데, 실제 문장에 포함된 내용이 영화에 관련된 내용이 적음  \n",
        "예측 2. 말뭉치의 양이 적음  \n",
        "예측 3. 코드의 문제가 있음  "
      ],
      "metadata": {
        "id": "5Fb_oorRkO-N"
      }
    }
  ]
}
