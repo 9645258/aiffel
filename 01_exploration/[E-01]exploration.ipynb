{
  "cells": [
    {
      "cell_type": "markdown",
      "metadata": {
        "id": "view-in-github",
        "colab_type": "text"
      },
      "source": [
        "<a href=\"https://colab.research.google.com/github/9645258/aiffel/blob/main/01_exploration/%5BE-01%5Dexploration.ipynb\" target=\"_parent\"><img src=\"https://colab.research.google.com/assets/colab-badge.svg\" alt=\"Open In Colab\"/></a>"
      ]
    },
    {
      "cell_type": "markdown",
      "metadata": {
        "canvas": {
          "comments": [],
          "componentType": "CodeCell",
          "copiedOriginId": null,
          "headerColor": "none",
          "id": "ffdd0676-e2e3-4ade-a544-a90ecdea3bbc",
          "isComponent": false,
          "name": "",
          "parents": []
        },
        "id": "aYz8wlC8-OOU",
        "tags": []
      },
      "source": [
        "# 📕 **EXPLORATION 01-1 : 학습 내용**"
      ]
    },
    {
      "cell_type": "markdown",
      "metadata": {
        "canvas": {
          "comments": [],
          "componentType": "CodeCell",
          "copiedOriginId": null,
          "headerColor": "none",
          "id": "2cb90fc5-e452-47ee-9290-032ac2bc6b2d",
          "isComponent": false,
          "name": "",
          "parents": []
        },
        "id": "DJjDPIQw-qkh"
      },
      "source": [
        "## 📑 **(1) 목차**"
      ]
    },
    {
      "cell_type": "markdown",
      "metadata": {
        "canvas": {
          "comments": [],
          "componentType": "CodeCell",
          "copiedOriginId": null,
          "headerColor": "none",
          "id": "29090e02-f735-422e-8861-8edad68a7c4c",
          "isComponent": false,
          "name": "",
          "parents": []
        },
        "id": "dOepa4wvb50-"
      },
      "source": [
        "- scikit-learn 내장 데이터를 활용한 데이터 분석  \n",
        "- 데이터 셋 정보 확인  \n",
        "- 데이터 준비\n",
        "- DataFrame 자료형 변환\n",
        "- feature, label(target) 준비\n",
        "- training dataset / test dataset 분리 작업\n",
        "- 머신러닝 모델 학습\n",
        "- 머신러닝 모델 평가 \n",
        "- 오차 행렬"
      ]
    },
    {
      "cell_type": "markdown",
      "metadata": {
        "canvas": {
          "comments": [],
          "componentType": "CodeCell",
          "copiedOriginId": null,
          "headerColor": "none",
          "id": "464709cf-1e7a-41c1-b6d0-6fbe587e9c08",
          "isComponent": false,
          "name": "",
          "parents": []
        },
        "id": "kV1ojewC-wmH"
      },
      "source": [
        "## 📑 **(2) 학습 내용**"
      ]
    },
    {
      "cell_type": "markdown",
      "metadata": {
        "canvas": {
          "comments": [],
          "componentType": "CodeCell",
          "copiedOriginId": null,
          "headerColor": "none",
          "id": "00f152d6-98e2-4450-bbb6-50fdffa94b5e",
          "isComponent": false,
          "name": "",
          "parents": []
        },
        "id": "1cBCO4vxvLxP"
      },
      "source": [
        "### 📌 **01_머신러닝 모델**"
      ]
    },
    {
      "cell_type": "markdown",
      "metadata": {
        "canvas": {
          "comments": [],
          "componentType": "CodeCell",
          "copiedOriginId": null,
          "headerColor": "none",
          "id": "4c5035d1-9b7a-4b71-9070-8e4f57b6f8d3",
          "isComponent": false,
          "name": "",
          "parents": []
        },
        "id": "q93UIF7H9Llk"
      },
      "source": [
        "- **Decision Tree** \n",
        "    - **개념**  \n",
        "    특정 기준에 따라 데이터를 분류, 회귀하는 지도 학습 모델  \n",
        "    데이터를 분석해 예측 가능한 규칙의 조합으로 패턴을 표현 (스무고개 방식)  \n",
        "    복잡성이 낮도록 설계 (분류의 맨 끝이 가장 섞이지 않은 상태로 완전히 분류)\n",
        "\n",
        "    - **장점**  \n",
        "    데이터의 전처리가 필요 없음  \n",
        "    수치형, 범주형 변수를 한번에 다루기 가능\n",
        "\n",
        "    - **단점**   \n",
        "    변수간 상호작용 파악에 부적합  \n",
        "    큰 샘플 사이즈에 부적합 (낮은 가독성, 효율성)  \n",
        "    트리 크기 제한이 없으면 과적합으로 알고리즘 성능 저하  \n",
        "    특정 데이터에만 원활한 작동 가능 (결정경계가 데이터 축에 수직)  \n",
        "    약간의 차이에 따라 트리 모양이 크게 변화 가능  "
      ]
    },
    {
      "cell_type": "markdown",
      "metadata": {
        "canvas": {
          "comments": [],
          "componentType": "CodeCell",
          "copiedOriginId": null,
          "headerColor": "none",
          "id": "b5cee11a-3cde-40d0-933b-78777256f5cb",
          "isComponent": false,
          "name": "",
          "parents": []
        },
        "id": "mSMbK3rMiEUA"
      },
      "source": [
        "\n",
        "- **Random Forest**\n",
        "    - **개념**   \n",
        "    다수의 Decision Tree 모델을 훈련시켜 결과를 예측하는 데이터를 검출, 분류, 회귀하는 모델   \n",
        "    여러 모델을 통해 예측한 값의 평균으로 최종 예측값 산출 (앙상블 알고리즘)  \n",
        "\n",
        "    - **장점**  \n",
        "    임의화를 통한 일반화 성능 우수 / 파라미터 조정 용이  \n",
        "    간편하고 빠른 학습 가능 / 데이터의 전처리가 필요 없음 / 적은 과적합  \n",
        "\n",
        "    - **단점**  \n",
        "    모델 성능 개선의 어려움\n",
        "    변수간 상호작용 파악에 부적합  \n",
        "    큰 샘플 사이즈에 부적합 (낮은 가독성, 효율성)"
      ]
    },
    {
      "cell_type": "markdown",
      "metadata": {
        "canvas": {
          "comments": [],
          "componentType": "CodeCell",
          "copiedOriginId": null,
          "headerColor": "none",
          "id": "9d91d3a7-4b1e-48a2-a738-c7ed73ee8ee7",
          "isComponent": false,
          "name": "",
          "parents": []
        },
        "id": "Rix51qXqiGZ5"
      },
      "source": [
        "- **SVM**  \n",
        "    - **개념**  \n",
        "    초평면을 이용해 분류를 수행하는 선형 분류 알고리즘 모델 (분류를 위한 기준선 정의)  \n",
        "    Decision Boundary(결정 경계): 두 개의 클래스를 구분  \n",
        "    Support Vector: Decision Boundary에 가까이 있는 데이터  \n",
        "    Margin: Decision Boundary와 Support Vector 사이의 거리  \n",
        "    Margin이 넓을수록 새로운 데이터 구분에 용이 (최적의 Decision Boundary는 Margin 최대화)  \n",
        "\n",
        "    - **장점**  \n",
        "    신경망에 비해 사용 수월 / 적은 데이터 특성에도 성능 우수  \n",
        "    적은 오류 데이터의 영향 / 적은 과적합  \n",
        "    저차원,고차원의 적은 데이터에서 일반화 능력 우수  \n",
        "\n",
        "    - **단점**  \n",
        "    여러개의 조합 테스트 필요 / 느린 학습 속도 / 커널함수의 선택 불명확  \n",
        "    데이터 특성의 스케일링에 민감 / 신경망과 같이 해석이 어렵고 복잡한 블랙박스 형태  "
      ]
    },
    {
      "cell_type": "markdown",
      "metadata": {
        "canvas": {
          "comments": [],
          "componentType": "CodeCell",
          "copiedOriginId": null,
          "headerColor": "none",
          "id": "7352d929-d689-412b-a7f1-742a194f28f5",
          "isComponent": false,
          "name": "",
          "parents": []
        },
        "id": "pXG6Xw5WiJDg"
      },
      "source": [
        "- **SGD Classifier**\n",
        "    - **개념**  \n",
        "    대규모 학습에 적합한 배치 크기가 1인 경사하강법 알고리즘  \n",
        "    무작위로 배치 크기가 1인 단 한 개의 데이터를 추출하여 기울기를 계산  \n",
        "    배치: 단일 반복에서 기울기를 계산하는 데 사용하는 데이터의 총 개수\n",
        "\n",
        "    - **장점**  \n",
        "    훨씬 적은 데이터 세트로 중요한 평균값 추정 가능  \n",
        "    쉬운 알고리즘 구현  \n",
        "\n",
        "    - **단점**  \n",
        "    정규화 및 반복 등의 많은 파라미터 필요  \n",
        "    파라미터가 불충분할 경우 심한 노이즈 / 최저점을 찾지 못할 가능성 존재  "
      ]
    },
    {
      "cell_type": "markdown",
      "metadata": {
        "canvas": {
          "comments": [],
          "componentType": "CodeCell",
          "copiedOriginId": null,
          "headerColor": "none",
          "id": "3a8c04ec-43a4-41d3-906b-1e033d6f093f",
          "isComponent": false,
          "name": "",
          "parents": []
        },
        "id": "d--uikGniK3R"
      },
      "source": [
        "- **Logistic Regression**    \n",
        "    - **개념**  \n",
        "    대규모 학습에 적합합 소프트맥스 함수 사용 다중 클래스 분류 알고리즘 모델  \n",
        "    특성 간의 관계를 보여주고 특정 결과의 확률 계산  \n",
        "    소프트맥스 함수: 클래스가 N개일 때, N차원의 벡터가 각 클래스가 정답일 확률을 표현하도 정규화\n",
        "\n",
        "    - **장점**  \n",
        "    간단한 식 / 정규화 / 잘 보정된 예측 확률 제공 (효율적)  \n",
        "    분류 모델이지만 확률값 얻을 수 있음\n",
        "\n",
        "    - **단점**  \n",
        "    비선형 문제 해결에 사용 불가 (이산적 결과의 경우 범주형 결과 예측에만 사용 가능)  \n",
        "    데이터 표시에 큰 의존성 (필요한 모든 독립 변수를 식별하지 않는 한 출력 가치 없음)  \n",
        "    표현적인 제한(상호 작용 추가 필요) / 과적합에 취약 / 확률 파악, 가중치 해석 어려움"
      ]
    },
    {
      "cell_type": "markdown",
      "metadata": {
        "canvas": {
          "comments": [],
          "componentType": "CodeCell",
          "copiedOriginId": null,
          "headerColor": "none",
          "id": "bb2711b2-391d-48b6-b3f4-81524ef2cc75",
          "isComponent": false,
          "name": "",
          "parents": []
        },
        "id": "dcjDn39Xqxvh"
      },
      "source": [
        "### 📌 **02_머신러닝 모델 평가 / 오차행렬**"
      ]
    },
    {
      "cell_type": "markdown",
      "metadata": {
        "canvas": {
          "comments": [],
          "componentType": "CodeCell",
          "copiedOriginId": null,
          "headerColor": "none",
          "id": "be06331a-226a-4308-bf01-e3b0255bf02a",
          "isComponent": false,
          "name": "",
          "parents": []
        },
        "id": "jOVJaKK8iXGR"
      },
      "source": [
        "- **confusion_matrix**  \n",
        "    - **True Positive(TP)**  \n",
        "    양성으로 분류된 양성 사례  \n",
        "\n",
        "    - **True Negative(TN)**   \n",
        "    음성으로 분류된 음성 사례  \n",
        "\n",
        "    - **False Positive(FP)**  \n",
        "    양성으로 분류된 음성 사례  \n",
        "\n",
        "    - **False Negative(FN)**   \n",
        "    음성으로 분류된 양성 사례  "
      ]
    },
    {
      "cell_type": "markdown",
      "metadata": {
        "canvas": {
          "comments": [],
          "componentType": "CodeCell",
          "copiedOriginId": null,
          "headerColor": "none",
          "id": "3702433d-9392-4616-8ce4-03b1d316a9e6",
          "isComponent": false,
          "name": "",
          "parents": []
        },
        "id": "GBmWuLctVSzE"
      },
      "source": [
        "<hr>"
      ]
    },
    {
      "cell_type": "markdown",
      "metadata": {
        "canvas": {
          "comments": [],
          "componentType": "CodeCell",
          "copiedOriginId": null,
          "headerColor": "none",
          "id": "2dd82074-8d2a-4559-b94d-e273d4a8f112",
          "isComponent": false,
          "name": "",
          "parents": []
        },
        "id": "_7g53nGt-eGU"
      },
      "source": [
        "- **평가**  \n",
        "    - **Precision**  \n",
        "    `TP / (FP + TP)`  \n",
        "    예측 양성 중 올바르게 분류된 양성에 대한 척도 (검출 정확도)  \n",
        "\n",
        "    - **Sensitivity (True Positive Rate, Recall)**  \n",
        "    `TP / (FN + TP)`\n",
        "    양성으로 분류된 양성 사례의 척도 (검출률)  \n",
        "\n",
        "    - **F1 score**  \n",
        "    `2∗(precision∗recall)/precision+recall`  \n",
        "    precision과 recall의 조화평균  \n",
        "    분류 클래스 간 데이터가 불균형이 심각할때 사용  \n",
        "\n",
        "    - **Accuracy**   \n",
        "    `(TN + TP) / (TN + FP + FN + TP)`  \n",
        "    전체 데이터 중 올바른 예측에 대한 척도 (정확도)  \n",
        "    직관적으로 모댈 예측 성능을 나타냄"
      ]
    },
    {
      "cell_type": "markdown",
      "metadata": {
        "canvas": {
          "comments": [],
          "componentType": "CodeCell",
          "copiedOriginId": null,
          "headerColor": "none",
          "id": "cbe24f8e-be1e-40a5-870d-775aa4fd0a53",
          "isComponent": false,
          "name": "",
          "parents": []
        },
        "id": "pE8Rz1Qewqc4"
      },
      "source": [
        "# 📕 **EXPLORATION 01-2 :  load_digits 손글씨 분류**"
      ]
    },
    {
      "cell_type": "markdown",
      "metadata": {
        "canvas": {
          "comments": [],
          "componentType": "CodeCell",
          "copiedOriginId": null,
          "headerColor": "none",
          "id": "fcb22d0b-c84a-461e-880c-529bdab9a2e8",
          "isComponent": false,
          "name": "",
          "parents": []
        },
        "id": "S_c1fojIw4Hn"
      },
      "source": [
        "## 📑 **(1) 모듈 import**\n"
      ]
    },
    {
      "cell_type": "markdown",
      "metadata": {
        "canvas": {
          "comments": [],
          "componentType": "CodeCell",
          "copiedOriginId": null,
          "headerColor": "none",
          "id": "634de0ab-6861-4328-832b-e1ee50d13fc5",
          "isComponent": false,
          "name": "",
          "parents": []
        },
        "id": "Dlqq_9H60BFk"
      },
      "source": [
        "- **scikit-learn 라이브러리**  \n",
        "데이터 로딩: datasets (load_digits)  \n",
        "데이터셋 분리: model_selection (train_test_split)  \n",
        "성능 평가: metrics (classification_report)"
      ]
    },
    {
      "cell_type": "code",
      "execution_count": null,
      "metadata": {
        "canvas": {
          "comments": [],
          "componentType": "CodeCell",
          "copiedOriginId": null,
          "headerColor": "none",
          "id": "28a382d8-13b7-4240-887b-97071e5f742a",
          "isComponent": false,
          "name": "",
          "parents": []
        },
        "id": "eznyYQBMuStu"
      },
      "outputs": [],
      "source": [
        "from sklearn.datasets import load_digits\n",
        "from sklearn.model_selection import train_test_split\n",
        "from sklearn.metrics import classification_report"
      ]
    },
    {
      "cell_type": "markdown",
      "metadata": {
        "canvas": {
          "comments": [],
          "componentType": "CodeCell",
          "copiedOriginId": null,
          "headerColor": "none",
          "id": "cbe59363-cb53-48c9-8f83-76bc1347bb02",
          "isComponent": false,
          "name": "",
          "parents": []
        },
        "id": "P9cA097txRBJ"
      },
      "source": [
        "## 📑 **(2) 데이터 준비**"
      ]
    },
    {
      "cell_type": "markdown",
      "metadata": {
        "canvas": {
          "comments": [],
          "componentType": "CodeCell",
          "copiedOriginId": null,
          "headerColor": "none",
          "id": "d43c735f-9dce-4c6e-a22d-899f3cff537c",
          "isComponent": false,
          "name": "",
          "parents": []
        },
        "id": "fyefQasg0FrJ"
      },
      "source": [
        "- **load_digits 메서드 활용**  \n",
        "ESCR, data, feature_names, frame, images, target, target_names"
      ]
    },
    {
      "cell_type": "code",
      "execution_count": null,
      "metadata": {
        "canvas": {
          "comments": [],
          "componentType": "CodeCell",
          "copiedOriginId": null,
          "headerColor": "none",
          "id": "a62c1bf9-35c8-4a26-8815-dea248814f30",
          "isComponent": false,
          "name": "",
          "parents": []
        },
        "colab": {
          "base_uri": "https://localhost:8080/"
        },
        "id": "7sOi9-ohxY0M",
        "outputId": "717218ad-4feb-4dfe-acf7-aacbb02d2ba9"
      },
      "outputs": [
        {
          "name": "stdout",
          "output_type": "stream",
          "text": [
            "['DESCR', 'data', 'feature_names', 'frame', 'images', 'target', 'target_names']\n"
          ]
        }
      ],
      "source": [
        "digits = load_digits()\n",
        "print(dir(digits))"
      ]
    },
    {
      "cell_type": "code",
      "execution_count": null,
      "metadata": {
        "canvas": {
          "comments": [],
          "componentType": "CodeCell",
          "copiedOriginId": null,
          "headerColor": "none",
          "id": "f0af8b94-783c-4e07-a4eb-fc266aed96f7",
          "isComponent": false,
          "name": "",
          "parents": []
        },
        "colab": {
          "base_uri": "https://localhost:8080/"
        },
        "id": "DMCapqVj5pNT",
        "outputId": "8a1b5ae8-e81c-4830-f0b0-83ebe78437b6"
      },
      "outputs": [
        {
          "data": {
            "text/plain": [
              "dict_keys(['data', 'target', 'frame', 'feature_names', 'target_names', 'images', 'DESCR'])"
            ]
          },
          "execution_count": 3,
          "metadata": {},
          "output_type": "execute_result"
        }
      ],
      "source": [
        "digits = load_digits()\n",
        "digits.keys()"
      ]
    },
    {
      "cell_type": "markdown",
      "metadata": {
        "canvas": {
          "comments": [],
          "componentType": "CodeCell",
          "copiedOriginId": null,
          "headerColor": "none",
          "id": "bd41f9b5-879b-4e07-97fd-b52bb929b09f",
          "isComponent": false,
          "name": "",
          "parents": []
        },
        "id": "HOTUXh8dxJy6"
      },
      "source": [
        "## 📑 **(3) 데이터 이해**"
      ]
    },
    {
      "cell_type": "markdown",
      "metadata": {
        "canvas": {
          "comments": [],
          "componentType": "CodeCell",
          "copiedOriginId": null,
          "headerColor": "none",
          "id": "c8594810-6ee0-4a69-8707-7b38a432666d",
          "isComponent": false,
          "name": "",
          "parents": []
        },
        "id": "YgbuBqEW1r4t"
      },
      "source": [
        "### 📌 **01_digits 정보 확인**"
      ]
    },
    {
      "cell_type": "markdown",
      "metadata": {
        "canvas": {
          "comments": [],
          "componentType": "CodeCell",
          "copiedOriginId": null,
          "headerColor": "none",
          "id": "0cb3d11e-a3b9-4ca5-b3f1-a5d625c404d0",
          "isComponent": false,
          "name": "",
          "parents": []
        },
        "id": "PyT8ZhaG6ULz"
      },
      "source": [
        "- **데이터 정보 (7개)**  \n",
        "data, target, frame, feature_names, target_names, images, DESCR  \n",
        "데이터: 1797개 / 속성: 64개  \n",
        "속성 정보: 0 - 16에 있는 정수 픽셀 8*8 이미지 분류  "
      ]
    },
    {
      "cell_type": "code",
      "execution_count": null,
      "metadata": {
        "canvas": {
          "comments": [],
          "componentType": "CodeCell",
          "copiedOriginId": null,
          "headerColor": "none",
          "id": "380d1735-c5e7-422b-9364-633c87646255",
          "isComponent": false,
          "name": "",
          "parents": []
        },
        "colab": {
          "base_uri": "https://localhost:8080/"
        },
        "id": "XDOf0QJbvnwz",
        "outputId": "d6fd9340-0866-4eae-bd2a-61a86f04dd27"
      },
      "outputs": [
        {
          "name": "stdout",
          "output_type": "stream",
          "text": [
            "(1797, 64)\n"
          ]
        }
      ],
      "source": [
        "# 데이터 크기 확인\n",
        "digits_data = digits.data\n",
        "print(digits_data.shape)"
      ]
    },
    {
      "cell_type": "code",
      "execution_count": null,
      "metadata": {
        "canvas": {
          "comments": [],
          "componentType": "CodeCell",
          "copiedOriginId": null,
          "headerColor": "none",
          "id": "4d8e16cf-99ec-4da3-9a21-149815119da5",
          "isComponent": false,
          "name": "",
          "parents": []
        },
        "colab": {
          "base_uri": "https://localhost:8080/"
        },
        "id": "ndsI0Sgm-XAj",
        "outputId": "640479fa-b96b-48fa-981d-fbe2a41efe68"
      },
      "outputs": [
        {
          "name": "stdout",
          "output_type": "stream",
          "text": [
            "(1797,)\n"
          ]
        },
        {
          "data": {
            "text/plain": [
              "array([0, 1, 2, ..., 8, 9, 8])"
            ]
          },
          "execution_count": 5,
          "metadata": {},
          "output_type": "execute_result"
        }
      ],
      "source": [
        "# 데이터 타겟 정보 확인\n",
        "digits_label = digits.target\n",
        "print(digits_label.shape)\n",
        "digits_label"
      ]
    },
    {
      "cell_type": "code",
      "execution_count": null,
      "metadata": {
        "canvas": {
          "comments": [],
          "componentType": "CodeCell",
          "copiedOriginId": null,
          "headerColor": "none",
          "id": "42965a78-8c8e-4858-a51f-734726cacf76",
          "isComponent": false,
          "name": "",
          "parents": []
        },
        "colab": {
          "base_uri": "https://localhost:8080/"
        },
        "id": "8D-UDXXM90Rn",
        "outputId": "422f2c59-8086-462f-d541-7cf839c90056"
      },
      "outputs": [
        {
          "data": {
            "text/plain": [
              "['pixel_0_0',\n",
              " 'pixel_0_1',\n",
              " 'pixel_0_2',\n",
              " 'pixel_0_3',\n",
              " 'pixel_0_4',\n",
              " 'pixel_0_5',\n",
              " 'pixel_0_6',\n",
              " 'pixel_0_7',\n",
              " 'pixel_1_0',\n",
              " 'pixel_1_1',\n",
              " 'pixel_1_2',\n",
              " 'pixel_1_3',\n",
              " 'pixel_1_4',\n",
              " 'pixel_1_5',\n",
              " 'pixel_1_6',\n",
              " 'pixel_1_7',\n",
              " 'pixel_2_0',\n",
              " 'pixel_2_1',\n",
              " 'pixel_2_2',\n",
              " 'pixel_2_3',\n",
              " 'pixel_2_4',\n",
              " 'pixel_2_5',\n",
              " 'pixel_2_6',\n",
              " 'pixel_2_7',\n",
              " 'pixel_3_0',\n",
              " 'pixel_3_1',\n",
              " 'pixel_3_2',\n",
              " 'pixel_3_3',\n",
              " 'pixel_3_4',\n",
              " 'pixel_3_5',\n",
              " 'pixel_3_6',\n",
              " 'pixel_3_7',\n",
              " 'pixel_4_0',\n",
              " 'pixel_4_1',\n",
              " 'pixel_4_2',\n",
              " 'pixel_4_3',\n",
              " 'pixel_4_4',\n",
              " 'pixel_4_5',\n",
              " 'pixel_4_6',\n",
              " 'pixel_4_7',\n",
              " 'pixel_5_0',\n",
              " 'pixel_5_1',\n",
              " 'pixel_5_2',\n",
              " 'pixel_5_3',\n",
              " 'pixel_5_4',\n",
              " 'pixel_5_5',\n",
              " 'pixel_5_6',\n",
              " 'pixel_5_7',\n",
              " 'pixel_6_0',\n",
              " 'pixel_6_1',\n",
              " 'pixel_6_2',\n",
              " 'pixel_6_3',\n",
              " 'pixel_6_4',\n",
              " 'pixel_6_5',\n",
              " 'pixel_6_6',\n",
              " 'pixel_6_7',\n",
              " 'pixel_7_0',\n",
              " 'pixel_7_1',\n",
              " 'pixel_7_2',\n",
              " 'pixel_7_3',\n",
              " 'pixel_7_4',\n",
              " 'pixel_7_5',\n",
              " 'pixel_7_6',\n",
              " 'pixel_7_7']"
            ]
          },
          "execution_count": 6,
          "metadata": {},
          "output_type": "execute_result"
        }
      ],
      "source": [
        "# 데이터 각 feature에 대한 설명\n",
        "digits.feature_names"
      ]
    },
    {
      "cell_type": "code",
      "execution_count": null,
      "metadata": {
        "canvas": {
          "comments": [],
          "componentType": "CodeCell",
          "copiedOriginId": null,
          "headerColor": "none",
          "id": "48dda045-dfc7-4047-8f7a-f94dc15c1506",
          "isComponent": false,
          "name": "",
          "parents": []
        },
        "colab": {
          "base_uri": "https://localhost:8080/"
        },
        "id": "8CFO-xVZ7_E4",
        "outputId": "d2e5d474-ad62-4d64-c6e6-d78b884e5e13"
      },
      "outputs": [
        {
          "data": {
            "text/plain": [
              "array([0, 1, 2, 3, 4, 5, 6, 7, 8, 9])"
            ]
          },
          "execution_count": 7,
          "metadata": {},
          "output_type": "execute_result"
        }
      ],
      "source": [
        "# 데이터 라벨 이름 확인\n",
        "digits.target_names"
      ]
    },
    {
      "cell_type": "code",
      "execution_count": null,
      "metadata": {
        "canvas": {
          "comments": [],
          "componentType": "CodeCell",
          "copiedOriginId": null,
          "headerColor": "none",
          "id": "28ec1e85-1d93-461f-bd67-cbab1dcad13d",
          "isComponent": false,
          "name": "",
          "parents": []
        },
        "colab": {
          "base_uri": "https://localhost:8080/"
        },
        "id": "WAnAa5Uf86MC",
        "outputId": "5c556b24-c73a-44d6-ba22-1b705baee496"
      },
      "outputs": [
        {
          "name": "stdout",
          "output_type": "stream",
          "text": [
            "(1797, 8, 8)\n"
          ]
        }
      ],
      "source": [
        "# 데이터 이미지 확인\n",
        "print(digits.images.shape)"
      ]
    },
    {
      "cell_type": "code",
      "execution_count": null,
      "metadata": {
        "canvas": {
          "comments": [],
          "componentType": "CodeCell",
          "copiedOriginId": null,
          "headerColor": "none",
          "id": "9e0f7fab-bb19-41aa-b078-548fa6912b0c",
          "isComponent": false,
          "name": "",
          "parents": []
        },
        "colab": {
          "base_uri": "https://localhost:8080/",
          "height": 90
        },
        "id": "M7i0Y_R88Qr8",
        "outputId": "1771d24f-44e6-47e2-9844-07149165d206"
      },
      "outputs": [
        {
          "data": {
            "application/vnd.google.colaboratory.intrinsic+json": {
              "type": "string"
            },
            "text/plain": [
              "\".. _digits_dataset:\\n\\nOptical recognition of handwritten digits dataset\\n--------------------------------------------------\\n\\n**Data Set Characteristics:**\\n\\n    :Number of Instances: 1797\\n    :Number of Attributes: 64\\n    :Attribute Information: 8x8 image of integer pixels in the range 0..16.\\n    :Missing Attribute Values: None\\n    :Creator: E. Alpaydin (alpaydin '@' boun.edu.tr)\\n    :Date: July; 1998\\n\\nThis is a copy of the test set of the UCI ML hand-written digits datasets\\nhttps://archive.ics.uci.edu/ml/datasets/Optical+Recognition+of+Handwritten+Digits\\n\\nThe data set contains images of hand-written digits: 10 classes where\\neach class refers to a digit.\\n\\nPreprocessing programs made available by NIST were used to extract\\nnormalized bitmaps of handwritten digits from a preprinted form. From a\\ntotal of 43 people, 30 contributed to the training set and different 13\\nto the test set. 32x32 bitmaps are divided into nonoverlapping blocks of\\n4x4 and the number of on pixels are counted in each block. This generates\\nan input matrix of 8x8 where each element is an integer in the range\\n0..16. This reduces dimensionality and gives invariance to small\\ndistortions.\\n\\nFor info on NIST preprocessing routines, see M. D. Garris, J. L. Blue, G.\\nT. Candela, D. L. Dimmick, J. Geist, P. J. Grother, S. A. Janet, and C.\\nL. Wilson, NIST Form-Based Handprint Recognition System, NISTIR 5469,\\n1994.\\n\\n.. topic:: References\\n\\n  - C. Kaynak (1995) Methods of Combining Multiple Classifiers and Their\\n    Applications to Handwritten Digit Recognition, MSc Thesis, Institute of\\n    Graduate Studies in Science and Engineering, Bogazici University.\\n  - E. Alpaydin, C. Kaynak (1998) Cascading Classifiers, Kybernetika.\\n  - Ken Tang and Ponnuthurai N. Suganthan and Xi Yao and A. Kai Qin.\\n    Linear dimensionalityreduction using relevance weighted LDA. School of\\n    Electrical and Electronic Engineering Nanyang Technological University.\\n    2005.\\n  - Claudio Gentile. A New Approximate Maximal Margin Classification\\n    Algorithm. NIPS. 2000.\\n\""
            ]
          },
          "execution_count": 9,
          "metadata": {},
          "output_type": "execute_result"
        }
      ],
      "source": [
        "# 데이터셋 설명 확인\n",
        "digits.DESCR"
      ]
    },
    {
      "cell_type": "markdown",
      "metadata": {
        "canvas": {
          "comments": [],
          "componentType": "CodeCell",
          "copiedOriginId": null,
          "headerColor": "none",
          "id": "5574a6f6-804e-4ee4-89e0-8f3ab8cda609",
          "isComponent": false,
          "name": "",
          "parents": []
        },
        "id": "iPMnp8366sYF"
      },
      "source": [
        "### 📌 **02_DataFrame 자료형 변환**"
      ]
    },
    {
      "cell_type": "markdown",
      "metadata": {
        "canvas": {
          "comments": [],
          "componentType": "CodeCell",
          "copiedOriginId": null,
          "headerColor": "none",
          "id": "bb34f373-5b7b-4c10-9af4-d4bbf9d79f21",
          "isComponent": false,
          "name": "",
          "parents": []
        },
        "id": "BKPlpsgwAsLK"
      },
      "source": [
        "- **pandas import**"
      ]
    },
    {
      "cell_type": "code",
      "execution_count": null,
      "metadata": {
        "canvas": {
          "comments": [],
          "componentType": "CodeCell",
          "copiedOriginId": null,
          "headerColor": "none",
          "id": "f4347506-2cd2-4c3e-b29b-008f2e4abf61",
          "isComponent": false,
          "name": "",
          "parents": []
        },
        "id": "5vXzB8CS-z7p"
      },
      "outputs": [],
      "source": [
        "import pandas as pd"
      ]
    },
    {
      "cell_type": "markdown",
      "metadata": {
        "canvas": {
          "comments": [],
          "componentType": "CodeCell",
          "copiedOriginId": null,
          "headerColor": "none",
          "id": "1a44074a-e95f-497a-8910-295674bdaab8",
          "isComponent": false,
          "name": "",
          "parents": []
        },
        "id": "IN_StPoADM8m"
      },
      "source": [
        "- **DataFrame 자료형으로 변환**  \n",
        "data : digits_data  \n",
        "colums : feature_names"
      ]
    },
    {
      "cell_type": "code",
      "execution_count": null,
      "metadata": {
        "canvas": {
          "comments": [],
          "componentType": "CodeCell",
          "copiedOriginId": null,
          "headerColor": "none",
          "id": "51ad6aa4-95b4-4d81-bb86-6a84fcf2f612",
          "isComponent": false,
          "name": "",
          "parents": []
        },
        "colab": {
          "base_uri": "https://localhost:8080/",
          "height": 488
        },
        "id": "UMQrjdWJ_CDY",
        "outputId": "2def174b-ff9c-488d-bafa-d3647bb28113"
      },
      "outputs": [
        {
          "data": {
            "text/html": [
              "\n",
              "  <div id=\"df-112b1c81-570e-4d12-bda3-a1fe415d98c4\">\n",
              "    <div class=\"colab-df-container\">\n",
              "      <div>\n",
              "<style scoped>\n",
              "    .dataframe tbody tr th:only-of-type {\n",
              "        vertical-align: middle;\n",
              "    }\n",
              "\n",
              "    .dataframe tbody tr th {\n",
              "        vertical-align: top;\n",
              "    }\n",
              "\n",
              "    .dataframe thead th {\n",
              "        text-align: right;\n",
              "    }\n",
              "</style>\n",
              "<table border=\"1\" class=\"dataframe\">\n",
              "  <thead>\n",
              "    <tr style=\"text-align: right;\">\n",
              "      <th></th>\n",
              "      <th>pixel_0_0</th>\n",
              "      <th>pixel_0_1</th>\n",
              "      <th>pixel_0_2</th>\n",
              "      <th>pixel_0_3</th>\n",
              "      <th>pixel_0_4</th>\n",
              "      <th>pixel_0_5</th>\n",
              "      <th>pixel_0_6</th>\n",
              "      <th>pixel_0_7</th>\n",
              "      <th>pixel_1_0</th>\n",
              "      <th>pixel_1_1</th>\n",
              "      <th>...</th>\n",
              "      <th>pixel_6_6</th>\n",
              "      <th>pixel_6_7</th>\n",
              "      <th>pixel_7_0</th>\n",
              "      <th>pixel_7_1</th>\n",
              "      <th>pixel_7_2</th>\n",
              "      <th>pixel_7_3</th>\n",
              "      <th>pixel_7_4</th>\n",
              "      <th>pixel_7_5</th>\n",
              "      <th>pixel_7_6</th>\n",
              "      <th>pixel_7_7</th>\n",
              "    </tr>\n",
              "  </thead>\n",
              "  <tbody>\n",
              "    <tr>\n",
              "      <th>0</th>\n",
              "      <td>0.0</td>\n",
              "      <td>0.0</td>\n",
              "      <td>5.0</td>\n",
              "      <td>13.0</td>\n",
              "      <td>9.0</td>\n",
              "      <td>1.0</td>\n",
              "      <td>0.0</td>\n",
              "      <td>0.0</td>\n",
              "      <td>0.0</td>\n",
              "      <td>0.0</td>\n",
              "      <td>...</td>\n",
              "      <td>0.0</td>\n",
              "      <td>0.0</td>\n",
              "      <td>0.0</td>\n",
              "      <td>0.0</td>\n",
              "      <td>6.0</td>\n",
              "      <td>13.0</td>\n",
              "      <td>10.0</td>\n",
              "      <td>0.0</td>\n",
              "      <td>0.0</td>\n",
              "      <td>0.0</td>\n",
              "    </tr>\n",
              "    <tr>\n",
              "      <th>1</th>\n",
              "      <td>0.0</td>\n",
              "      <td>0.0</td>\n",
              "      <td>0.0</td>\n",
              "      <td>12.0</td>\n",
              "      <td>13.0</td>\n",
              "      <td>5.0</td>\n",
              "      <td>0.0</td>\n",
              "      <td>0.0</td>\n",
              "      <td>0.0</td>\n",
              "      <td>0.0</td>\n",
              "      <td>...</td>\n",
              "      <td>0.0</td>\n",
              "      <td>0.0</td>\n",
              "      <td>0.0</td>\n",
              "      <td>0.0</td>\n",
              "      <td>0.0</td>\n",
              "      <td>11.0</td>\n",
              "      <td>16.0</td>\n",
              "      <td>10.0</td>\n",
              "      <td>0.0</td>\n",
              "      <td>0.0</td>\n",
              "    </tr>\n",
              "    <tr>\n",
              "      <th>2</th>\n",
              "      <td>0.0</td>\n",
              "      <td>0.0</td>\n",
              "      <td>0.0</td>\n",
              "      <td>4.0</td>\n",
              "      <td>15.0</td>\n",
              "      <td>12.0</td>\n",
              "      <td>0.0</td>\n",
              "      <td>0.0</td>\n",
              "      <td>0.0</td>\n",
              "      <td>0.0</td>\n",
              "      <td>...</td>\n",
              "      <td>5.0</td>\n",
              "      <td>0.0</td>\n",
              "      <td>0.0</td>\n",
              "      <td>0.0</td>\n",
              "      <td>0.0</td>\n",
              "      <td>3.0</td>\n",
              "      <td>11.0</td>\n",
              "      <td>16.0</td>\n",
              "      <td>9.0</td>\n",
              "      <td>0.0</td>\n",
              "    </tr>\n",
              "    <tr>\n",
              "      <th>3</th>\n",
              "      <td>0.0</td>\n",
              "      <td>0.0</td>\n",
              "      <td>7.0</td>\n",
              "      <td>15.0</td>\n",
              "      <td>13.0</td>\n",
              "      <td>1.0</td>\n",
              "      <td>0.0</td>\n",
              "      <td>0.0</td>\n",
              "      <td>0.0</td>\n",
              "      <td>8.0</td>\n",
              "      <td>...</td>\n",
              "      <td>9.0</td>\n",
              "      <td>0.0</td>\n",
              "      <td>0.0</td>\n",
              "      <td>0.0</td>\n",
              "      <td>7.0</td>\n",
              "      <td>13.0</td>\n",
              "      <td>13.0</td>\n",
              "      <td>9.0</td>\n",
              "      <td>0.0</td>\n",
              "      <td>0.0</td>\n",
              "    </tr>\n",
              "    <tr>\n",
              "      <th>4</th>\n",
              "      <td>0.0</td>\n",
              "      <td>0.0</td>\n",
              "      <td>0.0</td>\n",
              "      <td>1.0</td>\n",
              "      <td>11.0</td>\n",
              "      <td>0.0</td>\n",
              "      <td>0.0</td>\n",
              "      <td>0.0</td>\n",
              "      <td>0.0</td>\n",
              "      <td>0.0</td>\n",
              "      <td>...</td>\n",
              "      <td>0.0</td>\n",
              "      <td>0.0</td>\n",
              "      <td>0.0</td>\n",
              "      <td>0.0</td>\n",
              "      <td>0.0</td>\n",
              "      <td>2.0</td>\n",
              "      <td>16.0</td>\n",
              "      <td>4.0</td>\n",
              "      <td>0.0</td>\n",
              "      <td>0.0</td>\n",
              "    </tr>\n",
              "    <tr>\n",
              "      <th>...</th>\n",
              "      <td>...</td>\n",
              "      <td>...</td>\n",
              "      <td>...</td>\n",
              "      <td>...</td>\n",
              "      <td>...</td>\n",
              "      <td>...</td>\n",
              "      <td>...</td>\n",
              "      <td>...</td>\n",
              "      <td>...</td>\n",
              "      <td>...</td>\n",
              "      <td>...</td>\n",
              "      <td>...</td>\n",
              "      <td>...</td>\n",
              "      <td>...</td>\n",
              "      <td>...</td>\n",
              "      <td>...</td>\n",
              "      <td>...</td>\n",
              "      <td>...</td>\n",
              "      <td>...</td>\n",
              "      <td>...</td>\n",
              "      <td>...</td>\n",
              "    </tr>\n",
              "    <tr>\n",
              "      <th>1792</th>\n",
              "      <td>0.0</td>\n",
              "      <td>0.0</td>\n",
              "      <td>4.0</td>\n",
              "      <td>10.0</td>\n",
              "      <td>13.0</td>\n",
              "      <td>6.0</td>\n",
              "      <td>0.0</td>\n",
              "      <td>0.0</td>\n",
              "      <td>0.0</td>\n",
              "      <td>1.0</td>\n",
              "      <td>...</td>\n",
              "      <td>4.0</td>\n",
              "      <td>0.0</td>\n",
              "      <td>0.0</td>\n",
              "      <td>0.0</td>\n",
              "      <td>2.0</td>\n",
              "      <td>14.0</td>\n",
              "      <td>15.0</td>\n",
              "      <td>9.0</td>\n",
              "      <td>0.0</td>\n",
              "      <td>0.0</td>\n",
              "    </tr>\n",
              "    <tr>\n",
              "      <th>1793</th>\n",
              "      <td>0.0</td>\n",
              "      <td>0.0</td>\n",
              "      <td>6.0</td>\n",
              "      <td>16.0</td>\n",
              "      <td>13.0</td>\n",
              "      <td>11.0</td>\n",
              "      <td>1.0</td>\n",
              "      <td>0.0</td>\n",
              "      <td>0.0</td>\n",
              "      <td>0.0</td>\n",
              "      <td>...</td>\n",
              "      <td>1.0</td>\n",
              "      <td>0.0</td>\n",
              "      <td>0.0</td>\n",
              "      <td>0.0</td>\n",
              "      <td>6.0</td>\n",
              "      <td>16.0</td>\n",
              "      <td>14.0</td>\n",
              "      <td>6.0</td>\n",
              "      <td>0.0</td>\n",
              "      <td>0.0</td>\n",
              "    </tr>\n",
              "    <tr>\n",
              "      <th>1794</th>\n",
              "      <td>0.0</td>\n",
              "      <td>0.0</td>\n",
              "      <td>1.0</td>\n",
              "      <td>11.0</td>\n",
              "      <td>15.0</td>\n",
              "      <td>1.0</td>\n",
              "      <td>0.0</td>\n",
              "      <td>0.0</td>\n",
              "      <td>0.0</td>\n",
              "      <td>0.0</td>\n",
              "      <td>...</td>\n",
              "      <td>0.0</td>\n",
              "      <td>0.0</td>\n",
              "      <td>0.0</td>\n",
              "      <td>0.0</td>\n",
              "      <td>2.0</td>\n",
              "      <td>9.0</td>\n",
              "      <td>13.0</td>\n",
              "      <td>6.0</td>\n",
              "      <td>0.0</td>\n",
              "      <td>0.0</td>\n",
              "    </tr>\n",
              "    <tr>\n",
              "      <th>1795</th>\n",
              "      <td>0.0</td>\n",
              "      <td>0.0</td>\n",
              "      <td>2.0</td>\n",
              "      <td>10.0</td>\n",
              "      <td>7.0</td>\n",
              "      <td>0.0</td>\n",
              "      <td>0.0</td>\n",
              "      <td>0.0</td>\n",
              "      <td>0.0</td>\n",
              "      <td>0.0</td>\n",
              "      <td>...</td>\n",
              "      <td>2.0</td>\n",
              "      <td>0.0</td>\n",
              "      <td>0.0</td>\n",
              "      <td>0.0</td>\n",
              "      <td>5.0</td>\n",
              "      <td>12.0</td>\n",
              "      <td>16.0</td>\n",
              "      <td>12.0</td>\n",
              "      <td>0.0</td>\n",
              "      <td>0.0</td>\n",
              "    </tr>\n",
              "    <tr>\n",
              "      <th>1796</th>\n",
              "      <td>0.0</td>\n",
              "      <td>0.0</td>\n",
              "      <td>10.0</td>\n",
              "      <td>14.0</td>\n",
              "      <td>8.0</td>\n",
              "      <td>1.0</td>\n",
              "      <td>0.0</td>\n",
              "      <td>0.0</td>\n",
              "      <td>0.0</td>\n",
              "      <td>2.0</td>\n",
              "      <td>...</td>\n",
              "      <td>8.0</td>\n",
              "      <td>0.0</td>\n",
              "      <td>0.0</td>\n",
              "      <td>1.0</td>\n",
              "      <td>8.0</td>\n",
              "      <td>12.0</td>\n",
              "      <td>14.0</td>\n",
              "      <td>12.0</td>\n",
              "      <td>1.0</td>\n",
              "      <td>0.0</td>\n",
              "    </tr>\n",
              "  </tbody>\n",
              "</table>\n",
              "<p>1797 rows × 64 columns</p>\n",
              "</div>\n",
              "      <button class=\"colab-df-convert\" onclick=\"convertToInteractive('df-112b1c81-570e-4d12-bda3-a1fe415d98c4')\"\n",
              "              title=\"Convert this dataframe to an interactive table.\"\n",
              "              style=\"display:none;\">\n",
              "        \n",
              "  <svg xmlns=\"http://www.w3.org/2000/svg\" height=\"24px\"viewBox=\"0 0 24 24\"\n",
              "       width=\"24px\">\n",
              "    <path d=\"M0 0h24v24H0V0z\" fill=\"none\"/>\n",
              "    <path d=\"M18.56 5.44l.94 2.06.94-2.06 2.06-.94-2.06-.94-.94-2.06-.94 2.06-2.06.94zm-11 1L8.5 8.5l.94-2.06 2.06-.94-2.06-.94L8.5 2.5l-.94 2.06-2.06.94zm10 10l.94 2.06.94-2.06 2.06-.94-2.06-.94-.94-2.06-.94 2.06-2.06.94z\"/><path d=\"M17.41 7.96l-1.37-1.37c-.4-.4-.92-.59-1.43-.59-.52 0-1.04.2-1.43.59L10.3 9.45l-7.72 7.72c-.78.78-.78 2.05 0 2.83L4 21.41c.39.39.9.59 1.41.59.51 0 1.02-.2 1.41-.59l7.78-7.78 2.81-2.81c.8-.78.8-2.07 0-2.86zM5.41 20L4 18.59l7.72-7.72 1.47 1.35L5.41 20z\"/>\n",
              "  </svg>\n",
              "      </button>\n",
              "      \n",
              "  <style>\n",
              "    .colab-df-container {\n",
              "      display:flex;\n",
              "      flex-wrap:wrap;\n",
              "      gap: 12px;\n",
              "    }\n",
              "\n",
              "    .colab-df-convert {\n",
              "      background-color: #E8F0FE;\n",
              "      border: none;\n",
              "      border-radius: 50%;\n",
              "      cursor: pointer;\n",
              "      display: none;\n",
              "      fill: #1967D2;\n",
              "      height: 32px;\n",
              "      padding: 0 0 0 0;\n",
              "      width: 32px;\n",
              "    }\n",
              "\n",
              "    .colab-df-convert:hover {\n",
              "      background-color: #E2EBFA;\n",
              "      box-shadow: 0px 1px 2px rgba(60, 64, 67, 0.3), 0px 1px 3px 1px rgba(60, 64, 67, 0.15);\n",
              "      fill: #174EA6;\n",
              "    }\n",
              "\n",
              "    [theme=dark] .colab-df-convert {\n",
              "      background-color: #3B4455;\n",
              "      fill: #D2E3FC;\n",
              "    }\n",
              "\n",
              "    [theme=dark] .colab-df-convert:hover {\n",
              "      background-color: #434B5C;\n",
              "      box-shadow: 0px 1px 3px 1px rgba(0, 0, 0, 0.15);\n",
              "      filter: drop-shadow(0px 1px 2px rgba(0, 0, 0, 0.3));\n",
              "      fill: #FFFFFF;\n",
              "    }\n",
              "  </style>\n",
              "\n",
              "      <script>\n",
              "        const buttonEl =\n",
              "          document.querySelector('#df-112b1c81-570e-4d12-bda3-a1fe415d98c4 button.colab-df-convert');\n",
              "        buttonEl.style.display =\n",
              "          google.colab.kernel.accessAllowed ? 'block' : 'none';\n",
              "\n",
              "        async function convertToInteractive(key) {\n",
              "          const element = document.querySelector('#df-112b1c81-570e-4d12-bda3-a1fe415d98c4');\n",
              "          const dataTable =\n",
              "            await google.colab.kernel.invokeFunction('convertToInteractive',\n",
              "                                                     [key], {});\n",
              "          if (!dataTable) return;\n",
              "\n",
              "          const docLinkHtml = 'Like what you see? Visit the ' +\n",
              "            '<a target=\"_blank\" href=https://colab.research.google.com/notebooks/data_table.ipynb>data table notebook</a>'\n",
              "            + ' to learn more about interactive tables.';\n",
              "          element.innerHTML = '';\n",
              "          dataTable['output_type'] = 'display_data';\n",
              "          await google.colab.output.renderOutput(dataTable, element);\n",
              "          const docLink = document.createElement('div');\n",
              "          docLink.innerHTML = docLinkHtml;\n",
              "          element.appendChild(docLink);\n",
              "        }\n",
              "      </script>\n",
              "    </div>\n",
              "  </div>\n",
              "  "
            ],
            "text/plain": [
              "      pixel_0_0  pixel_0_1  pixel_0_2  pixel_0_3  pixel_0_4  pixel_0_5  \\\n",
              "0           0.0        0.0        5.0       13.0        9.0        1.0   \n",
              "1           0.0        0.0        0.0       12.0       13.0        5.0   \n",
              "2           0.0        0.0        0.0        4.0       15.0       12.0   \n",
              "3           0.0        0.0        7.0       15.0       13.0        1.0   \n",
              "4           0.0        0.0        0.0        1.0       11.0        0.0   \n",
              "...         ...        ...        ...        ...        ...        ...   \n",
              "1792        0.0        0.0        4.0       10.0       13.0        6.0   \n",
              "1793        0.0        0.0        6.0       16.0       13.0       11.0   \n",
              "1794        0.0        0.0        1.0       11.0       15.0        1.0   \n",
              "1795        0.0        0.0        2.0       10.0        7.0        0.0   \n",
              "1796        0.0        0.0       10.0       14.0        8.0        1.0   \n",
              "\n",
              "      pixel_0_6  pixel_0_7  pixel_1_0  pixel_1_1  ...  pixel_6_6  pixel_6_7  \\\n",
              "0           0.0        0.0        0.0        0.0  ...        0.0        0.0   \n",
              "1           0.0        0.0        0.0        0.0  ...        0.0        0.0   \n",
              "2           0.0        0.0        0.0        0.0  ...        5.0        0.0   \n",
              "3           0.0        0.0        0.0        8.0  ...        9.0        0.0   \n",
              "4           0.0        0.0        0.0        0.0  ...        0.0        0.0   \n",
              "...         ...        ...        ...        ...  ...        ...        ...   \n",
              "1792        0.0        0.0        0.0        1.0  ...        4.0        0.0   \n",
              "1793        1.0        0.0        0.0        0.0  ...        1.0        0.0   \n",
              "1794        0.0        0.0        0.0        0.0  ...        0.0        0.0   \n",
              "1795        0.0        0.0        0.0        0.0  ...        2.0        0.0   \n",
              "1796        0.0        0.0        0.0        2.0  ...        8.0        0.0   \n",
              "\n",
              "      pixel_7_0  pixel_7_1  pixel_7_2  pixel_7_3  pixel_7_4  pixel_7_5  \\\n",
              "0           0.0        0.0        6.0       13.0       10.0        0.0   \n",
              "1           0.0        0.0        0.0       11.0       16.0       10.0   \n",
              "2           0.0        0.0        0.0        3.0       11.0       16.0   \n",
              "3           0.0        0.0        7.0       13.0       13.0        9.0   \n",
              "4           0.0        0.0        0.0        2.0       16.0        4.0   \n",
              "...         ...        ...        ...        ...        ...        ...   \n",
              "1792        0.0        0.0        2.0       14.0       15.0        9.0   \n",
              "1793        0.0        0.0        6.0       16.0       14.0        6.0   \n",
              "1794        0.0        0.0        2.0        9.0       13.0        6.0   \n",
              "1795        0.0        0.0        5.0       12.0       16.0       12.0   \n",
              "1796        0.0        1.0        8.0       12.0       14.0       12.0   \n",
              "\n",
              "      pixel_7_6  pixel_7_7  \n",
              "0           0.0        0.0  \n",
              "1           0.0        0.0  \n",
              "2           9.0        0.0  \n",
              "3           0.0        0.0  \n",
              "4           0.0        0.0  \n",
              "...         ...        ...  \n",
              "1792        0.0        0.0  \n",
              "1793        0.0        0.0  \n",
              "1794        0.0        0.0  \n",
              "1795        0.0        0.0  \n",
              "1796        1.0        0.0  \n",
              "\n",
              "[1797 rows x 64 columns]"
            ]
          },
          "execution_count": 11,
          "metadata": {},
          "output_type": "execute_result"
        }
      ],
      "source": [
        "digits_df = pd.DataFrame(data=digits_data, columns=digits.feature_names)\n",
        "digits_df"
      ]
    },
    {
      "cell_type": "markdown",
      "metadata": {
        "canvas": {
          "comments": [],
          "componentType": "CodeCell",
          "copiedOriginId": null,
          "headerColor": "none",
          "id": "51194216-b7a0-4d92-942f-996ee4206baf",
          "isComponent": false,
          "name": "",
          "parents": []
        },
        "id": "UGb1FgsYDrT2"
      },
      "source": [
        "- **Label data 추가**   \n",
        "    label(target) : 정답 데이터"
      ]
    },
    {
      "cell_type": "code",
      "execution_count": null,
      "metadata": {
        "canvas": {
          "comments": [],
          "componentType": "CodeCell",
          "copiedOriginId": null,
          "headerColor": "none",
          "id": "4f1ca8b5-2bfa-4e11-bb64-6637d4c4f4b7",
          "isComponent": false,
          "name": "",
          "parents": []
        },
        "colab": {
          "base_uri": "https://localhost:8080/",
          "height": 468
        },
        "id": "RwhQDg2-_7O4",
        "outputId": "5cb1754c-ffa2-4052-d6c6-4ebbcef2569a"
      },
      "outputs": [
        {
          "data": {
            "text/html": [
              "\n",
              "  <div id=\"df-d84f4994-da44-4480-9abd-0c25628a6462\">\n",
              "    <div class=\"colab-df-container\">\n",
              "      <div>\n",
              "<style scoped>\n",
              "    .dataframe tbody tr th:only-of-type {\n",
              "        vertical-align: middle;\n",
              "    }\n",
              "\n",
              "    .dataframe tbody tr th {\n",
              "        vertical-align: top;\n",
              "    }\n",
              "\n",
              "    .dataframe thead th {\n",
              "        text-align: right;\n",
              "    }\n",
              "</style>\n",
              "<table border=\"1\" class=\"dataframe\">\n",
              "  <thead>\n",
              "    <tr style=\"text-align: right;\">\n",
              "      <th></th>\n",
              "      <th>pixel_0_0</th>\n",
              "      <th>pixel_0_1</th>\n",
              "      <th>pixel_0_2</th>\n",
              "      <th>pixel_0_3</th>\n",
              "      <th>pixel_0_4</th>\n",
              "      <th>pixel_0_5</th>\n",
              "      <th>pixel_0_6</th>\n",
              "      <th>pixel_0_7</th>\n",
              "      <th>pixel_1_0</th>\n",
              "      <th>pixel_1_1</th>\n",
              "      <th>...</th>\n",
              "      <th>pixel_6_7</th>\n",
              "      <th>pixel_7_0</th>\n",
              "      <th>pixel_7_1</th>\n",
              "      <th>pixel_7_2</th>\n",
              "      <th>pixel_7_3</th>\n",
              "      <th>pixel_7_4</th>\n",
              "      <th>pixel_7_5</th>\n",
              "      <th>pixel_7_6</th>\n",
              "      <th>pixel_7_7</th>\n",
              "      <th>label</th>\n",
              "    </tr>\n",
              "  </thead>\n",
              "  <tbody>\n",
              "    <tr>\n",
              "      <th>0</th>\n",
              "      <td>0.0</td>\n",
              "      <td>0.0</td>\n",
              "      <td>5.0</td>\n",
              "      <td>13.0</td>\n",
              "      <td>9.0</td>\n",
              "      <td>1.0</td>\n",
              "      <td>0.0</td>\n",
              "      <td>0.0</td>\n",
              "      <td>0.0</td>\n",
              "      <td>0.0</td>\n",
              "      <td>...</td>\n",
              "      <td>0.0</td>\n",
              "      <td>0.0</td>\n",
              "      <td>0.0</td>\n",
              "      <td>6.0</td>\n",
              "      <td>13.0</td>\n",
              "      <td>10.0</td>\n",
              "      <td>0.0</td>\n",
              "      <td>0.0</td>\n",
              "      <td>0.0</td>\n",
              "      <td>0</td>\n",
              "    </tr>\n",
              "    <tr>\n",
              "      <th>1</th>\n",
              "      <td>0.0</td>\n",
              "      <td>0.0</td>\n",
              "      <td>0.0</td>\n",
              "      <td>12.0</td>\n",
              "      <td>13.0</td>\n",
              "      <td>5.0</td>\n",
              "      <td>0.0</td>\n",
              "      <td>0.0</td>\n",
              "      <td>0.0</td>\n",
              "      <td>0.0</td>\n",
              "      <td>...</td>\n",
              "      <td>0.0</td>\n",
              "      <td>0.0</td>\n",
              "      <td>0.0</td>\n",
              "      <td>0.0</td>\n",
              "      <td>11.0</td>\n",
              "      <td>16.0</td>\n",
              "      <td>10.0</td>\n",
              "      <td>0.0</td>\n",
              "      <td>0.0</td>\n",
              "      <td>1</td>\n",
              "    </tr>\n",
              "    <tr>\n",
              "      <th>2</th>\n",
              "      <td>0.0</td>\n",
              "      <td>0.0</td>\n",
              "      <td>0.0</td>\n",
              "      <td>4.0</td>\n",
              "      <td>15.0</td>\n",
              "      <td>12.0</td>\n",
              "      <td>0.0</td>\n",
              "      <td>0.0</td>\n",
              "      <td>0.0</td>\n",
              "      <td>0.0</td>\n",
              "      <td>...</td>\n",
              "      <td>0.0</td>\n",
              "      <td>0.0</td>\n",
              "      <td>0.0</td>\n",
              "      <td>0.0</td>\n",
              "      <td>3.0</td>\n",
              "      <td>11.0</td>\n",
              "      <td>16.0</td>\n",
              "      <td>9.0</td>\n",
              "      <td>0.0</td>\n",
              "      <td>2</td>\n",
              "    </tr>\n",
              "    <tr>\n",
              "      <th>3</th>\n",
              "      <td>0.0</td>\n",
              "      <td>0.0</td>\n",
              "      <td>7.0</td>\n",
              "      <td>15.0</td>\n",
              "      <td>13.0</td>\n",
              "      <td>1.0</td>\n",
              "      <td>0.0</td>\n",
              "      <td>0.0</td>\n",
              "      <td>0.0</td>\n",
              "      <td>8.0</td>\n",
              "      <td>...</td>\n",
              "      <td>0.0</td>\n",
              "      <td>0.0</td>\n",
              "      <td>0.0</td>\n",
              "      <td>7.0</td>\n",
              "      <td>13.0</td>\n",
              "      <td>13.0</td>\n",
              "      <td>9.0</td>\n",
              "      <td>0.0</td>\n",
              "      <td>0.0</td>\n",
              "      <td>3</td>\n",
              "    </tr>\n",
              "    <tr>\n",
              "      <th>4</th>\n",
              "      <td>0.0</td>\n",
              "      <td>0.0</td>\n",
              "      <td>0.0</td>\n",
              "      <td>1.0</td>\n",
              "      <td>11.0</td>\n",
              "      <td>0.0</td>\n",
              "      <td>0.0</td>\n",
              "      <td>0.0</td>\n",
              "      <td>0.0</td>\n",
              "      <td>0.0</td>\n",
              "      <td>...</td>\n",
              "      <td>0.0</td>\n",
              "      <td>0.0</td>\n",
              "      <td>0.0</td>\n",
              "      <td>0.0</td>\n",
              "      <td>2.0</td>\n",
              "      <td>16.0</td>\n",
              "      <td>4.0</td>\n",
              "      <td>0.0</td>\n",
              "      <td>0.0</td>\n",
              "      <td>4</td>\n",
              "    </tr>\n",
              "    <tr>\n",
              "      <th>...</th>\n",
              "      <td>...</td>\n",
              "      <td>...</td>\n",
              "      <td>...</td>\n",
              "      <td>...</td>\n",
              "      <td>...</td>\n",
              "      <td>...</td>\n",
              "      <td>...</td>\n",
              "      <td>...</td>\n",
              "      <td>...</td>\n",
              "      <td>...</td>\n",
              "      <td>...</td>\n",
              "      <td>...</td>\n",
              "      <td>...</td>\n",
              "      <td>...</td>\n",
              "      <td>...</td>\n",
              "      <td>...</td>\n",
              "      <td>...</td>\n",
              "      <td>...</td>\n",
              "      <td>...</td>\n",
              "      <td>...</td>\n",
              "      <td>...</td>\n",
              "    </tr>\n",
              "    <tr>\n",
              "      <th>1792</th>\n",
              "      <td>0.0</td>\n",
              "      <td>0.0</td>\n",
              "      <td>4.0</td>\n",
              "      <td>10.0</td>\n",
              "      <td>13.0</td>\n",
              "      <td>6.0</td>\n",
              "      <td>0.0</td>\n",
              "      <td>0.0</td>\n",
              "      <td>0.0</td>\n",
              "      <td>1.0</td>\n",
              "      <td>...</td>\n",
              "      <td>0.0</td>\n",
              "      <td>0.0</td>\n",
              "      <td>0.0</td>\n",
              "      <td>2.0</td>\n",
              "      <td>14.0</td>\n",
              "      <td>15.0</td>\n",
              "      <td>9.0</td>\n",
              "      <td>0.0</td>\n",
              "      <td>0.0</td>\n",
              "      <td>9</td>\n",
              "    </tr>\n",
              "    <tr>\n",
              "      <th>1793</th>\n",
              "      <td>0.0</td>\n",
              "      <td>0.0</td>\n",
              "      <td>6.0</td>\n",
              "      <td>16.0</td>\n",
              "      <td>13.0</td>\n",
              "      <td>11.0</td>\n",
              "      <td>1.0</td>\n",
              "      <td>0.0</td>\n",
              "      <td>0.0</td>\n",
              "      <td>0.0</td>\n",
              "      <td>...</td>\n",
              "      <td>0.0</td>\n",
              "      <td>0.0</td>\n",
              "      <td>0.0</td>\n",
              "      <td>6.0</td>\n",
              "      <td>16.0</td>\n",
              "      <td>14.0</td>\n",
              "      <td>6.0</td>\n",
              "      <td>0.0</td>\n",
              "      <td>0.0</td>\n",
              "      <td>0</td>\n",
              "    </tr>\n",
              "    <tr>\n",
              "      <th>1794</th>\n",
              "      <td>0.0</td>\n",
              "      <td>0.0</td>\n",
              "      <td>1.0</td>\n",
              "      <td>11.0</td>\n",
              "      <td>15.0</td>\n",
              "      <td>1.0</td>\n",
              "      <td>0.0</td>\n",
              "      <td>0.0</td>\n",
              "      <td>0.0</td>\n",
              "      <td>0.0</td>\n",
              "      <td>...</td>\n",
              "      <td>0.0</td>\n",
              "      <td>0.0</td>\n",
              "      <td>0.0</td>\n",
              "      <td>2.0</td>\n",
              "      <td>9.0</td>\n",
              "      <td>13.0</td>\n",
              "      <td>6.0</td>\n",
              "      <td>0.0</td>\n",
              "      <td>0.0</td>\n",
              "      <td>8</td>\n",
              "    </tr>\n",
              "    <tr>\n",
              "      <th>1795</th>\n",
              "      <td>0.0</td>\n",
              "      <td>0.0</td>\n",
              "      <td>2.0</td>\n",
              "      <td>10.0</td>\n",
              "      <td>7.0</td>\n",
              "      <td>0.0</td>\n",
              "      <td>0.0</td>\n",
              "      <td>0.0</td>\n",
              "      <td>0.0</td>\n",
              "      <td>0.0</td>\n",
              "      <td>...</td>\n",
              "      <td>0.0</td>\n",
              "      <td>0.0</td>\n",
              "      <td>0.0</td>\n",
              "      <td>5.0</td>\n",
              "      <td>12.0</td>\n",
              "      <td>16.0</td>\n",
              "      <td>12.0</td>\n",
              "      <td>0.0</td>\n",
              "      <td>0.0</td>\n",
              "      <td>9</td>\n",
              "    </tr>\n",
              "    <tr>\n",
              "      <th>1796</th>\n",
              "      <td>0.0</td>\n",
              "      <td>0.0</td>\n",
              "      <td>10.0</td>\n",
              "      <td>14.0</td>\n",
              "      <td>8.0</td>\n",
              "      <td>1.0</td>\n",
              "      <td>0.0</td>\n",
              "      <td>0.0</td>\n",
              "      <td>0.0</td>\n",
              "      <td>2.0</td>\n",
              "      <td>...</td>\n",
              "      <td>0.0</td>\n",
              "      <td>0.0</td>\n",
              "      <td>1.0</td>\n",
              "      <td>8.0</td>\n",
              "      <td>12.0</td>\n",
              "      <td>14.0</td>\n",
              "      <td>12.0</td>\n",
              "      <td>1.0</td>\n",
              "      <td>0.0</td>\n",
              "      <td>8</td>\n",
              "    </tr>\n",
              "  </tbody>\n",
              "</table>\n",
              "<p>1797 rows × 65 columns</p>\n",
              "</div>\n",
              "      <button class=\"colab-df-convert\" onclick=\"convertToInteractive('df-d84f4994-da44-4480-9abd-0c25628a6462')\"\n",
              "              title=\"Convert this dataframe to an interactive table.\"\n",
              "              style=\"display:none;\">\n",
              "        \n",
              "  <svg xmlns=\"http://www.w3.org/2000/svg\" height=\"24px\"viewBox=\"0 0 24 24\"\n",
              "       width=\"24px\">\n",
              "    <path d=\"M0 0h24v24H0V0z\" fill=\"none\"/>\n",
              "    <path d=\"M18.56 5.44l.94 2.06.94-2.06 2.06-.94-2.06-.94-.94-2.06-.94 2.06-2.06.94zm-11 1L8.5 8.5l.94-2.06 2.06-.94-2.06-.94L8.5 2.5l-.94 2.06-2.06.94zm10 10l.94 2.06.94-2.06 2.06-.94-2.06-.94-.94-2.06-.94 2.06-2.06.94z\"/><path d=\"M17.41 7.96l-1.37-1.37c-.4-.4-.92-.59-1.43-.59-.52 0-1.04.2-1.43.59L10.3 9.45l-7.72 7.72c-.78.78-.78 2.05 0 2.83L4 21.41c.39.39.9.59 1.41.59.51 0 1.02-.2 1.41-.59l7.78-7.78 2.81-2.81c.8-.78.8-2.07 0-2.86zM5.41 20L4 18.59l7.72-7.72 1.47 1.35L5.41 20z\"/>\n",
              "  </svg>\n",
              "      </button>\n",
              "      \n",
              "  <style>\n",
              "    .colab-df-container {\n",
              "      display:flex;\n",
              "      flex-wrap:wrap;\n",
              "      gap: 12px;\n",
              "    }\n",
              "\n",
              "    .colab-df-convert {\n",
              "      background-color: #E8F0FE;\n",
              "      border: none;\n",
              "      border-radius: 50%;\n",
              "      cursor: pointer;\n",
              "      display: none;\n",
              "      fill: #1967D2;\n",
              "      height: 32px;\n",
              "      padding: 0 0 0 0;\n",
              "      width: 32px;\n",
              "    }\n",
              "\n",
              "    .colab-df-convert:hover {\n",
              "      background-color: #E2EBFA;\n",
              "      box-shadow: 0px 1px 2px rgba(60, 64, 67, 0.3), 0px 1px 3px 1px rgba(60, 64, 67, 0.15);\n",
              "      fill: #174EA6;\n",
              "    }\n",
              "\n",
              "    [theme=dark] .colab-df-convert {\n",
              "      background-color: #3B4455;\n",
              "      fill: #D2E3FC;\n",
              "    }\n",
              "\n",
              "    [theme=dark] .colab-df-convert:hover {\n",
              "      background-color: #434B5C;\n",
              "      box-shadow: 0px 1px 3px 1px rgba(0, 0, 0, 0.15);\n",
              "      filter: drop-shadow(0px 1px 2px rgba(0, 0, 0, 0.3));\n",
              "      fill: #FFFFFF;\n",
              "    }\n",
              "  </style>\n",
              "\n",
              "      <script>\n",
              "        const buttonEl =\n",
              "          document.querySelector('#df-d84f4994-da44-4480-9abd-0c25628a6462 button.colab-df-convert');\n",
              "        buttonEl.style.display =\n",
              "          google.colab.kernel.accessAllowed ? 'block' : 'none';\n",
              "\n",
              "        async function convertToInteractive(key) {\n",
              "          const element = document.querySelector('#df-d84f4994-da44-4480-9abd-0c25628a6462');\n",
              "          const dataTable =\n",
              "            await google.colab.kernel.invokeFunction('convertToInteractive',\n",
              "                                                     [key], {});\n",
              "          if (!dataTable) return;\n",
              "\n",
              "          const docLinkHtml = 'Like what you see? Visit the ' +\n",
              "            '<a target=\"_blank\" href=https://colab.research.google.com/notebooks/data_table.ipynb>data table notebook</a>'\n",
              "            + ' to learn more about interactive tables.';\n",
              "          element.innerHTML = '';\n",
              "          dataTable['output_type'] = 'display_data';\n",
              "          await google.colab.output.renderOutput(dataTable, element);\n",
              "          const docLink = document.createElement('div');\n",
              "          docLink.innerHTML = docLinkHtml;\n",
              "          element.appendChild(docLink);\n",
              "        }\n",
              "      </script>\n",
              "    </div>\n",
              "  </div>\n",
              "  "
            ],
            "text/plain": [
              "      pixel_0_0  pixel_0_1  pixel_0_2  pixel_0_3  pixel_0_4  pixel_0_5  \\\n",
              "0           0.0        0.0        5.0       13.0        9.0        1.0   \n",
              "1           0.0        0.0        0.0       12.0       13.0        5.0   \n",
              "2           0.0        0.0        0.0        4.0       15.0       12.0   \n",
              "3           0.0        0.0        7.0       15.0       13.0        1.0   \n",
              "4           0.0        0.0        0.0        1.0       11.0        0.0   \n",
              "...         ...        ...        ...        ...        ...        ...   \n",
              "1792        0.0        0.0        4.0       10.0       13.0        6.0   \n",
              "1793        0.0        0.0        6.0       16.0       13.0       11.0   \n",
              "1794        0.0        0.0        1.0       11.0       15.0        1.0   \n",
              "1795        0.0        0.0        2.0       10.0        7.0        0.0   \n",
              "1796        0.0        0.0       10.0       14.0        8.0        1.0   \n",
              "\n",
              "      pixel_0_6  pixel_0_7  pixel_1_0  pixel_1_1  ...  pixel_6_7  pixel_7_0  \\\n",
              "0           0.0        0.0        0.0        0.0  ...        0.0        0.0   \n",
              "1           0.0        0.0        0.0        0.0  ...        0.0        0.0   \n",
              "2           0.0        0.0        0.0        0.0  ...        0.0        0.0   \n",
              "3           0.0        0.0        0.0        8.0  ...        0.0        0.0   \n",
              "4           0.0        0.0        0.0        0.0  ...        0.0        0.0   \n",
              "...         ...        ...        ...        ...  ...        ...        ...   \n",
              "1792        0.0        0.0        0.0        1.0  ...        0.0        0.0   \n",
              "1793        1.0        0.0        0.0        0.0  ...        0.0        0.0   \n",
              "1794        0.0        0.0        0.0        0.0  ...        0.0        0.0   \n",
              "1795        0.0        0.0        0.0        0.0  ...        0.0        0.0   \n",
              "1796        0.0        0.0        0.0        2.0  ...        0.0        0.0   \n",
              "\n",
              "      pixel_7_1  pixel_7_2  pixel_7_3  pixel_7_4  pixel_7_5  pixel_7_6  \\\n",
              "0           0.0        6.0       13.0       10.0        0.0        0.0   \n",
              "1           0.0        0.0       11.0       16.0       10.0        0.0   \n",
              "2           0.0        0.0        3.0       11.0       16.0        9.0   \n",
              "3           0.0        7.0       13.0       13.0        9.0        0.0   \n",
              "4           0.0        0.0        2.0       16.0        4.0        0.0   \n",
              "...         ...        ...        ...        ...        ...        ...   \n",
              "1792        0.0        2.0       14.0       15.0        9.0        0.0   \n",
              "1793        0.0        6.0       16.0       14.0        6.0        0.0   \n",
              "1794        0.0        2.0        9.0       13.0        6.0        0.0   \n",
              "1795        0.0        5.0       12.0       16.0       12.0        0.0   \n",
              "1796        1.0        8.0       12.0       14.0       12.0        1.0   \n",
              "\n",
              "      pixel_7_7  label  \n",
              "0           0.0      0  \n",
              "1           0.0      1  \n",
              "2           0.0      2  \n",
              "3           0.0      3  \n",
              "4           0.0      4  \n",
              "...         ...    ...  \n",
              "1792        0.0      9  \n",
              "1793        0.0      0  \n",
              "1794        0.0      8  \n",
              "1795        0.0      9  \n",
              "1796        0.0      8  \n",
              "\n",
              "[1797 rows x 65 columns]"
            ]
          },
          "execution_count": 12,
          "metadata": {},
          "output_type": "execute_result"
        }
      ],
      "source": [
        "digits_df[\"label\"] = digits.target\n",
        "digits_df"
      ]
    },
    {
      "cell_type": "markdown",
      "metadata": {
        "canvas": {
          "comments": [],
          "componentType": "CodeCell",
          "copiedOriginId": null,
          "headerColor": "none",
          "id": "4213502e-cc3d-4b66-a009-ed6805023664",
          "isComponent": false,
          "name": "",
          "parents": []
        },
        "id": "jjCWrI91EkEb"
      },
      "source": [
        "## 📑 **(4) train, test 데이터 분리**"
      ]
    },
    {
      "cell_type": "markdown",
      "metadata": {
        "canvas": {
          "comments": [],
          "componentType": "CodeCell",
          "copiedOriginId": null,
          "headerColor": "none",
          "id": "a3d7e136-e7ed-4c36-8736-4e0194d3895a",
          "isComponent": false,
          "name": "",
          "parents": []
        },
        "id": "-e1ft2TDGf8M"
      },
      "source": [
        "- **모델 학습 및 테스트용 문제지와 정답지 생성**   \n",
        "    data: feature (문제)  \n",
        "    label: label (정답)  \n",
        "    test_size: 전체에서 테스트 데이터로 사용할 비율  \n",
        "    random_state : 데이터를 분리하는데 적용되는 랜덤성"
      ]
    },
    {
      "cell_type": "code",
      "execution_count": null,
      "metadata": {
        "canvas": {
          "comments": [],
          "componentType": "CodeCell",
          "copiedOriginId": null,
          "headerColor": "none",
          "id": "824a5665-8eea-4992-a005-9a4c94d7869d",
          "isComponent": false,
          "name": "",
          "parents": []
        },
        "colab": {
          "base_uri": "https://localhost:8080/"
        },
        "id": "DNBsQhO9FgDV",
        "outputId": "2c076a3a-30b8-498b-bc8b-2ca083937490"
      },
      "outputs": [
        {
          "name": "stdout",
          "output_type": "stream",
          "text": [
            "X_train 개수:  1257 , X_test 개수:  540\n"
          ]
        }
      ],
      "source": [
        "X_train, X_test, y_train, y_test = train_test_split(digits_data, digits_label, test_size=0.3, random_state=30)\n",
        "print('X_train 개수: ', len(X_train),', X_test 개수: ', len(X_test))"
      ]
    },
    {
      "cell_type": "code",
      "execution_count": null,
      "metadata": {
        "canvas": {
          "comments": [],
          "componentType": "CodeCell",
          "copiedOriginId": null,
          "headerColor": "none",
          "id": "48e420b3-a23d-4ec8-8b5a-496ee5b35b80",
          "isComponent": false,
          "name": "",
          "parents": []
        },
        "colab": {
          "base_uri": "https://localhost:8080/"
        },
        "id": "lgq4G9-hGB3-",
        "outputId": "1966116b-8ee2-4034-8662-9bf5042314bc"
      },
      "outputs": [
        {
          "data": {
            "text/plain": [
              "((1257, 64), (1257,))"
            ]
          },
          "execution_count": 18,
          "metadata": {},
          "output_type": "execute_result"
        }
      ],
      "source": [
        "X_train.shape, y_train.shape"
      ]
    },
    {
      "cell_type": "code",
      "execution_count": null,
      "metadata": {
        "canvas": {
          "comments": [],
          "componentType": "CodeCell",
          "copiedOriginId": null,
          "headerColor": "none",
          "id": "9fdbb037-bdec-472a-b24f-24ba97e2003b",
          "isComponent": false,
          "name": "",
          "parents": []
        },
        "colab": {
          "base_uri": "https://localhost:8080/"
        },
        "id": "KklEptQMGFPk",
        "outputId": "c109c6a9-b891-4088-e47d-dc5e5431b6ea"
      },
      "outputs": [
        {
          "data": {
            "text/plain": [
              "((540, 64), (540,))"
            ]
          },
          "execution_count": 19,
          "metadata": {},
          "output_type": "execute_result"
        }
      ],
      "source": [
        "X_test.shape, y_test.shape"
      ]
    },
    {
      "cell_type": "code",
      "execution_count": null,
      "metadata": {
        "canvas": {
          "comments": [],
          "componentType": "CodeCell",
          "copiedOriginId": null,
          "headerColor": "none",
          "id": "5439bb83-1527-4ad6-8de2-7d4de6060b5d",
          "isComponent": false,
          "name": "",
          "parents": []
        },
        "colab": {
          "base_uri": "https://localhost:8080/"
        },
        "id": "1itqThWZGIUW",
        "outputId": "a2121713-8018-4ed8-a8b1-494f49bb7971"
      },
      "outputs": [
        {
          "data": {
            "text/plain": [
              "(array([4, 0, 7, ..., 8, 0, 5]),\n",
              " array([8, 1, 6, 5, 3, 8, 3, 2, 1, 2, 5, 8, 1, 2, 4, 1, 5, 1, 8, 3, 1, 0,\n",
              "        5, 0, 3, 5, 4, 1, 0, 5, 2, 5, 8, 7, 5, 8, 3, 2, 9, 4, 9, 0, 5, 3,\n",
              "        1, 6, 9, 6, 0, 9, 4, 9, 4, 4, 4, 2, 6, 2, 5, 5, 8, 6, 9, 6, 9, 7,\n",
              "        3, 8, 4, 1, 4, 8, 0, 1, 6, 1, 6, 2, 5, 7, 8, 5, 9, 2, 7, 6, 9, 2,\n",
              "        4, 5, 5, 8, 8, 0, 1, 2, 5, 4, 1, 2, 7, 8, 6, 8, 1, 0, 6, 0, 1, 0,\n",
              "        3, 1, 5, 3, 4, 1, 4, 6, 7, 2, 0, 9, 1, 2, 5, 6, 8, 8, 8, 1, 5, 0,\n",
              "        2, 4, 0, 6, 0, 4, 1, 2, 8, 7, 9, 4, 0, 4, 3, 6, 7, 2, 6, 1, 6, 6,\n",
              "        7, 2, 1, 3, 4, 0, 9, 7, 2, 2, 0, 7, 4, 7, 6, 8, 5, 6, 0, 1, 1, 1,\n",
              "        4, 8, 2, 6, 5, 4, 0, 2, 7, 3, 6, 2, 3, 7, 7, 4, 0, 8, 5, 1, 1, 7,\n",
              "        6, 3, 5, 3, 2, 9, 9, 9, 9, 4, 4, 1, 0, 2, 7, 1, 8, 4, 8, 7, 3, 7,\n",
              "        0, 6, 8, 7, 3, 1, 3, 3, 7, 1, 3, 0, 3, 6, 4, 9, 0, 9, 6, 2, 2, 0,\n",
              "        4, 2, 8, 7, 1, 4, 8, 0, 6, 6, 7, 2, 2, 8, 6, 9, 6, 2, 4, 5, 9, 9,\n",
              "        1, 1, 8, 9, 6, 7, 5, 6, 4, 0, 2, 4, 3, 2, 2, 1, 7, 7, 5, 5, 5, 2,\n",
              "        5, 8, 8, 4, 6, 9, 9, 2, 1, 3, 5, 7, 1, 0, 7, 6, 6, 9, 6, 8, 1, 7,\n",
              "        7, 0, 0, 5, 3, 3, 5, 8, 6, 8, 4, 1, 9, 4, 2, 5, 9, 7, 1, 3, 8, 0,\n",
              "        7, 0, 6, 8, 0, 5, 1, 9, 6, 5, 0, 0, 2, 1, 1, 1, 6, 9, 5, 1, 2, 4,\n",
              "        5, 2, 2, 5, 6, 9, 1, 6, 5, 3, 2, 5, 9, 4, 9, 5, 4, 1, 4, 4, 5, 4,\n",
              "        6, 5, 6, 3, 4, 6, 0, 7, 2, 3, 0, 3, 8, 4, 6, 6, 5, 8, 0, 4, 8, 4,\n",
              "        0, 8, 0, 7, 3, 9, 6, 1, 1, 4, 7, 4, 4, 0, 6, 9, 4, 9, 1, 1, 0, 5,\n",
              "        5, 2, 2, 6, 0, 7, 2, 6, 2, 7, 4, 7, 2, 3, 2, 7, 7, 0, 3, 4, 8, 6,\n",
              "        6, 6, 3, 3, 3, 9, 3, 9, 5, 7, 3, 0, 9, 5, 1, 5, 6, 7, 2, 2, 1, 9,\n",
              "        7, 3, 9, 9, 0, 0, 0, 0, 0, 9, 5, 2, 6, 7, 8, 5, 3, 3, 6, 1, 8, 9,\n",
              "        2, 4, 7, 7, 0, 4, 4, 2, 9, 8, 6, 8, 9, 8, 0, 4, 3, 1, 5, 3, 2, 5,\n",
              "        3, 2, 7, 9, 9, 2, 2, 8, 0, 4, 7, 0, 4, 2, 6, 5, 2, 3, 8, 6, 0, 2,\n",
              "        4, 8, 0, 1, 5, 9, 1, 8, 7, 0, 4, 0]))"
            ]
          },
          "execution_count": 20,
          "metadata": {},
          "output_type": "execute_result"
        }
      ],
      "source": [
        "y_train, y_test"
      ]
    },
    {
      "cell_type": "markdown",
      "metadata": {
        "canvas": {
          "comments": [],
          "componentType": "CodeCell",
          "copiedOriginId": null,
          "headerColor": "none",
          "id": "9fe96af5-3b35-4ad8-96ec-cb81ad2fc484",
          "isComponent": false,
          "name": "",
          "parents": []
        },
        "id": "bnEW7kH0HScP"
      },
      "source": [
        "## 📑 **(5) 다양한 모델로 학습 및 평가**"
      ]
    },
    {
      "cell_type": "markdown",
      "metadata": {
        "canvas": {
          "comments": [],
          "componentType": "CodeCell",
          "copiedOriginId": null,
          "headerColor": "none",
          "id": "12135b22-dcfe-4b9e-9c74-c432ef919049",
          "isComponent": false,
          "name": "",
          "parents": []
        },
        "id": "Q5pB56MQFzxq"
      },
      "source": [
        "### 📌 **01_모듈 import**"
      ]
    },
    {
      "cell_type": "markdown",
      "metadata": {
        "canvas": {
          "comments": [],
          "componentType": "CodeCell",
          "copiedOriginId": null,
          "headerColor": "none",
          "id": "098e7754-fe21-428c-b218-53fcd4b40c4f",
          "isComponent": false,
          "name": "",
          "parents": []
        },
        "id": "mZ51z-yiBJTH"
      },
      "source": [
        "- **패키지 import**  \n",
        "    정확도: metrics (accuracy_score)  \n",
        "    오차행렬: metrics (confusion_matrix)"
      ]
    },
    {
      "cell_type": "code",
      "execution_count": null,
      "metadata": {
        "canvas": {
          "comments": [],
          "componentType": "CodeCell",
          "copiedOriginId": null,
          "headerColor": "none",
          "id": "117a0343-7058-4ad1-89a7-d14720be6cbb",
          "isComponent": false,
          "name": "",
          "parents": []
        },
        "id": "ZUfBqgOcBJuB"
      },
      "outputs": [],
      "source": [
        "from sklearn.metrics import accuracy_score\n",
        "from sklearn.metrics import confusion_matrix"
      ]
    },
    {
      "cell_type": "markdown",
      "metadata": {
        "canvas": {
          "comments": [],
          "componentType": "CodeCell",
          "copiedOriginId": null,
          "headerColor": "none",
          "id": "f843abcf-ccce-43e0-8934-2f881c14b3ce",
          "isComponent": false,
          "name": "",
          "parents": []
        },
        "id": "N2rPmybUHtpc"
      },
      "source": [
        "### 📌 **02_학습 및 평가 : Decision Tree**"
      ]
    },
    {
      "cell_type": "code",
      "execution_count": null,
      "metadata": {
        "canvas": {
          "comments": [],
          "componentType": "CodeCell",
          "copiedOriginId": null,
          "headerColor": "none",
          "id": "b26bd238-37d2-4fee-abf8-a76f638e2aff",
          "isComponent": false,
          "name": "",
          "parents": []
        },
        "colab": {
          "base_uri": "https://localhost:8080/"
        },
        "id": "HBBg-q9AHydq",
        "outputId": "1d341e60-5622-45e9-8735-67291e4d436e"
      },
      "outputs": [
        {
          "name": "stdout",
          "output_type": "stream",
          "text": [
            "              precision    recall  f1-score   support\n",
            "\n",
            "           0       0.97      0.97      0.97        58\n",
            "           1       0.86      0.67      0.75        57\n",
            "           2       0.90      0.89      0.89        61\n",
            "           3       0.68      0.80      0.73        45\n",
            "           4       0.78      0.91      0.84        58\n",
            "           5       0.94      0.89      0.92        55\n",
            "           6       0.98      0.92      0.95        60\n",
            "           7       0.88      0.92      0.90        49\n",
            "           8       0.73      0.73      0.73        49\n",
            "           9       0.84      0.85      0.85        48\n",
            "\n",
            "    accuracy                           0.86       540\n",
            "   macro avg       0.86      0.85      0.85       540\n",
            "weighted avg       0.86      0.86      0.86       540\n",
            "\n",
            "정확도 : 0.8574074074074074\n"
          ]
        }
      ],
      "source": [
        "from sklearn.tree import DecisionTreeClassifier\n",
        "\n",
        "decision_tree = DecisionTreeClassifier(random_state=30)\n",
        "decision_tree.fit(X_train, y_train)\n",
        "y_pred = decision_tree.predict(X_test)\n",
        "print(classification_report(y_test, y_pred))\n",
        "print('정확도 :', accuracy_score(y_test, y_pred))"
      ]
    },
    {
      "cell_type": "markdown",
      "metadata": {
        "canvas": {
          "comments": [],
          "componentType": "CodeCell",
          "copiedOriginId": null,
          "headerColor": "none",
          "id": "52408227-c2a8-48fe-b1cd-c7b048f1f8e8",
          "isComponent": false,
          "name": "",
          "parents": []
        },
        "id": "EFcbcIP4KjhT"
      },
      "source": [
        "### 📌 **03_학습 및 평가 : Random Forest**"
      ]
    },
    {
      "cell_type": "code",
      "execution_count": null,
      "metadata": {
        "canvas": {
          "comments": [],
          "componentType": "CodeCell",
          "copiedOriginId": null,
          "headerColor": "none",
          "id": "ee3876a4-0e13-4fca-a302-5762f57734f4",
          "isComponent": false,
          "name": "",
          "parents": []
        },
        "colab": {
          "base_uri": "https://localhost:8080/"
        },
        "id": "HU1xuMkHKogc",
        "outputId": "bdeb62c0-b911-4c71-f2ed-3a581331db7c"
      },
      "outputs": [
        {
          "name": "stdout",
          "output_type": "stream",
          "text": [
            "              precision    recall  f1-score   support\n",
            "\n",
            "           0       1.00      0.98      0.99        58\n",
            "           1       0.95      1.00      0.97        57\n",
            "           2       1.00      1.00      1.00        61\n",
            "           3       0.96      0.98      0.97        45\n",
            "           4       0.97      0.97      0.97        58\n",
            "           5       0.96      0.98      0.97        55\n",
            "           6       1.00      0.98      0.99        60\n",
            "           7       1.00      1.00      1.00        49\n",
            "           8       0.92      0.94      0.93        49\n",
            "           9       0.98      0.90      0.93        48\n",
            "\n",
            "    accuracy                           0.97       540\n",
            "   macro avg       0.97      0.97      0.97       540\n",
            "weighted avg       0.97      0.97      0.97       540\n",
            "\n",
            "정확도 : 0.9740740740740741\n"
          ]
        }
      ],
      "source": [
        "from sklearn.ensemble import RandomForestClassifier\n",
        "\n",
        "random_forest = RandomForestClassifier(random_state=30)\n",
        "random_forest.fit(X_train, y_train)\n",
        "y_pred = random_forest.predict(X_test)\n",
        "print(classification_report(y_test, y_pred))\n",
        "print('정확도 :', accuracy_score(y_test, y_pred))"
      ]
    },
    {
      "cell_type": "markdown",
      "metadata": {
        "canvas": {
          "comments": [],
          "componentType": "CodeCell",
          "copiedOriginId": null,
          "headerColor": "none",
          "id": "e21997fe-4f2d-4cf1-bb28-97b9e78d80a8",
          "isComponent": false,
          "name": "",
          "parents": []
        },
        "id": "1ThGe-qCJ0oi"
      },
      "source": [
        "### 📌 **04_학습 및 평가 : SVM**  "
      ]
    },
    {
      "cell_type": "code",
      "execution_count": null,
      "metadata": {
        "canvas": {
          "comments": [],
          "componentType": "CodeCell",
          "copiedOriginId": null,
          "headerColor": "none",
          "id": "53037f54-a5fe-4215-81cc-88d750bd78e9",
          "isComponent": false,
          "name": "",
          "parents": []
        },
        "colab": {
          "base_uri": "https://localhost:8080/"
        },
        "id": "jkeXyPDuJ_wa",
        "outputId": "b9d1993d-350a-4a4e-cf7c-bb48ac14aa8b"
      },
      "outputs": [
        {
          "name": "stdout",
          "output_type": "stream",
          "text": [
            "              precision    recall  f1-score   support\n",
            "\n",
            "           0       1.00      0.98      0.99        58\n",
            "           1       0.98      1.00      0.99        57\n",
            "           2       0.98      1.00      0.99        61\n",
            "           3       0.98      0.96      0.97        45\n",
            "           4       0.98      0.98      0.98        58\n",
            "           5       0.98      1.00      0.99        55\n",
            "           6       1.00      0.98      0.99        60\n",
            "           7       1.00      1.00      1.00        49\n",
            "           8       0.96      0.98      0.97        49\n",
            "           9       0.98      0.96      0.97        48\n",
            "\n",
            "    accuracy                           0.99       540\n",
            "   macro avg       0.98      0.98      0.98       540\n",
            "weighted avg       0.99      0.99      0.99       540\n",
            "\n",
            "정확도 : 0.9851851851851852\n"
          ]
        }
      ],
      "source": [
        "from sklearn import svm\n",
        "\n",
        "svm_model = svm.SVC()\n",
        "svm_model.fit(X_train, y_train)\n",
        "y_pred = svm_model.predict(X_test)\n",
        "print(classification_report(y_test, y_pred))\n",
        "print('정확도 :', accuracy_score(y_test, y_pred))"
      ]
    },
    {
      "cell_type": "markdown",
      "metadata": {
        "canvas": {
          "comments": [],
          "componentType": "CodeCell",
          "copiedOriginId": null,
          "headerColor": "none",
          "id": "36c1b498-97f7-4b2e-b304-39b2f8218b79",
          "isComponent": false,
          "name": "",
          "parents": []
        },
        "id": "1bzV0z6LK24_"
      },
      "source": [
        "### 📌 **05_학습 및 평가 : SGD Classifier**"
      ]
    },
    {
      "cell_type": "code",
      "execution_count": null,
      "metadata": {
        "canvas": {
          "comments": [],
          "componentType": "CodeCell",
          "copiedOriginId": null,
          "headerColor": "none",
          "id": "cb6a4aaf-0070-4178-bd97-b07b0f18acf8",
          "isComponent": false,
          "name": "",
          "parents": []
        },
        "colab": {
          "base_uri": "https://localhost:8080/"
        },
        "id": "dOqv6BuJK6or",
        "outputId": "85b719bd-3373-4305-c4c9-e38264fd3d47"
      },
      "outputs": [
        {
          "name": "stdout",
          "output_type": "stream",
          "text": [
            "              precision    recall  f1-score   support\n",
            "\n",
            "           0       1.00      1.00      1.00        58\n",
            "           1       0.87      0.91      0.89        57\n",
            "           2       0.98      1.00      0.99        61\n",
            "           3       0.86      0.93      0.89        45\n",
            "           4       0.98      0.98      0.98        58\n",
            "           5       0.98      0.98      0.98        55\n",
            "           6       0.95      0.98      0.97        60\n",
            "           7       1.00      1.00      1.00        49\n",
            "           8       0.93      0.76      0.83        49\n",
            "           9       0.96      0.94      0.95        48\n",
            "\n",
            "    accuracy                           0.95       540\n",
            "   macro avg       0.95      0.95      0.95       540\n",
            "weighted avg       0.95      0.95      0.95       540\n",
            "\n",
            "정확도 : 0.9518518518518518\n"
          ]
        }
      ],
      "source": [
        "from sklearn.linear_model import SGDClassifier\n",
        "\n",
        "sgd_model = SGDClassifier()\n",
        "sgd_model.fit(X_train, y_train)\n",
        "y_pred = sgd_model.predict(X_test)\n",
        "print(classification_report(y_test, y_pred))\n",
        "print('정확도 :', accuracy_score(y_test, y_pred))"
      ]
    },
    {
      "cell_type": "markdown",
      "metadata": {
        "canvas": {
          "comments": [],
          "componentType": "CodeCell",
          "copiedOriginId": null,
          "headerColor": "none",
          "id": "1c1bdcef-e039-4933-a614-242a9b3afd3d",
          "isComponent": false,
          "name": "",
          "parents": []
        },
        "id": "0k4bYFtgLKfA"
      },
      "source": [
        "### 📌 **06_학습 및 평가 : Logistic Regression**\n"
      ]
    },
    {
      "cell_type": "code",
      "execution_count": null,
      "metadata": {
        "canvas": {
          "comments": [],
          "componentType": "CodeCell",
          "copiedOriginId": null,
          "headerColor": "none",
          "id": "90c3d052-24ca-4d4b-b823-0a9f859e66b9",
          "isComponent": false,
          "name": "",
          "parents": []
        },
        "colab": {
          "base_uri": "https://localhost:8080/"
        },
        "id": "kmD0GseXLR3a",
        "outputId": "4e1f2d27-0fba-4568-f783-29a7690f7ec4"
      },
      "outputs": [
        {
          "name": "stdout",
          "output_type": "stream",
          "text": [
            "              precision    recall  f1-score   support\n",
            "\n",
            "           0       1.00      0.98      0.99        58\n",
            "           1       0.96      0.93      0.95        57\n",
            "           2       0.97      0.98      0.98        61\n",
            "           3       0.93      0.93      0.93        45\n",
            "           4       0.97      0.98      0.97        58\n",
            "           5       0.98      0.96      0.97        55\n",
            "           6       1.00      0.98      0.99        60\n",
            "           7       1.00      1.00      1.00        49\n",
            "           8       0.92      0.96      0.94        49\n",
            "           9       0.94      0.96      0.95        48\n",
            "\n",
            "    accuracy                           0.97       540\n",
            "   macro avg       0.97      0.97      0.97       540\n",
            "weighted avg       0.97      0.97      0.97       540\n",
            "\n",
            "정확도 : 0.9685185185185186\n"
          ]
        },
        {
          "name": "stderr",
          "output_type": "stream",
          "text": [
            "/usr/local/lib/python3.7/dist-packages/sklearn/linear_model/_logistic.py:818: ConvergenceWarning: lbfgs failed to converge (status=1):\n",
            "STOP: TOTAL NO. of ITERATIONS REACHED LIMIT.\n",
            "\n",
            "Increase the number of iterations (max_iter) or scale the data as shown in:\n",
            "    https://scikit-learn.org/stable/modules/preprocessing.html\n",
            "Please also refer to the documentation for alternative solver options:\n",
            "    https://scikit-learn.org/stable/modules/linear_model.html#logistic-regression\n",
            "  extra_warning_msg=_LOGISTIC_SOLVER_CONVERGENCE_MSG,\n"
          ]
        }
      ],
      "source": [
        "from sklearn.linear_model import LogisticRegression\n",
        "\n",
        "logistic_model = LogisticRegression()\n",
        "logistic_model.fit(X_train, y_train)\n",
        "y_pred = logistic_model.predict(X_test)\n",
        "print(classification_report(y_test, y_pred))\n",
        "print('정확도 :', accuracy_score(y_test, y_pred))"
      ]
    },
    {
      "cell_type": "markdown",
      "metadata": {
        "canvas": {
          "comments": [],
          "componentType": "CodeCell",
          "copiedOriginId": null,
          "headerColor": "none",
          "id": "16ecbe30-ab35-4b97-8d4e-b1771fb48b2b",
          "isComponent": false,
          "name": "",
          "parents": []
        },
        "id": "MggH3RQhxl76"
      },
      "source": [
        "### 📌 **07_최종 평가**"
      ]
    },
    {
      "cell_type": "markdown",
      "metadata": {
        "canvas": {
          "comments": [],
          "componentType": "CodeCell",
          "copiedOriginId": null,
          "headerColor": "none",
          "id": "3911fa4f-4818-463f-b116-0b6a0f96978a",
          "isComponent": false,
          "name": "",
          "parents": []
        },
        "id": "ZobB_mXWyKXl"
      },
      "source": [
        "- **Decision Tree**\n",
        "```\n",
        "                precision   recall   f1-score   support\n",
        "    accuracy                           0.86       540\n",
        "   macro avg       0.86      0.85      0.85       540\n",
        "weighted avg     0.86      0.86      0.86       540\n",
        "```\n",
        "\n",
        "\n",
        "- **Random Forest**\n",
        "```\n",
        "                precision   recall   f1-score   support\n",
        "    accuracy                           0.97       540\n",
        "   macro avg       0.97      0.97      0.97       540\n",
        "weighted avg     0.97      0.97      0.97       540\n",
        "```\n",
        "\n",
        "\n",
        "- **SVM**\n",
        "```\n",
        "                precision   recall   f1-score   support\n",
        "    accuracy                           0.99       540\n",
        "   macro avg       0.98      0.98      0.98       540\n",
        "weighted avg     0.99      0.99      0.99       540\n",
        "```\n",
        "\n",
        "\n",
        "- **SGD Classifier**\n",
        "```\n",
        "                precision   recall   f1-score   support\n",
        "    accuracy                           0.95       540\n",
        "   macro avg       0.95      0.95      0.95       540\n",
        "weighted avg     0.95      0.95      0.95       540\n",
        "```\n",
        "\n",
        "\n",
        "- **Logistic Regression**\n",
        "```\n",
        "                precision   recall   f1-score   support\n",
        "    accuracy                           0.97       540\n",
        "   macro avg       0.97      0.97      0.97       540\n",
        "weighted avg     0.97      0.97      0.97       540\n",
        "```"
      ]
    },
    {
      "cell_type": "markdown",
      "metadata": {
        "canvas": {
          "comments": [],
          "componentType": "CodeCell",
          "copiedOriginId": null,
          "headerColor": "none",
          "id": "2d17b452-1982-47e0-a8ba-2eaeb407395d",
          "isComponent": false,
          "name": "",
          "parents": []
        },
        "id": "V_7KXpvj8Sea"
      },
      "source": [
        "## 📑 **(6) 결론**"
      ]
    },
    {
      "cell_type": "markdown",
      "metadata": {
        "canvas": {
          "comments": [],
          "componentType": "CodeCell",
          "copiedOriginId": null,
          "headerColor": "none",
          "id": "b85bc72f-f1ef-4660-8755-75b0bf5aef87",
          "isComponent": false,
          "name": "",
          "parents": []
        },
        "id": "jSwoKBVz8Vlg"
      },
      "source": [
        "동일한 데이터 조건으로 다양한 모델에 적용 시 Decision Tree를 제외한 나머지 모델에서는 0.03 오차 범위 내 비슷한 성능을 보인다. SGD Classifier의 경우 클래스간 성능 차이가 다른 모델에 비해 약간 차이를 보이는 경향이 있었다. 손글씨 분류의 경우에는 정확도(accuracy)를 평가 지표로 사용하는 방향을 선택했다. 왜냐하면 분류 클래스 간의 데이터 불균형이 심각한 수준이 아니라고 판단해 직관적으로 모델 예측 성능을 나타내는 편이 좋다고 생각했기 때문이다."
      ]
    },
    {
      "cell_type": "markdown",
      "metadata": {
        "canvas": {
          "comments": [],
          "componentType": "CodeCell",
          "copiedOriginId": null,
          "headerColor": "none",
          "id": "8f7c47d7-83d6-4f31-baca-88ffed9288a4",
          "isComponent": false,
          "name": "",
          "parents": []
        },
        "id": "evMvJtRo8fND"
      },
      "source": [
        "<hr>"
      ]
    },
    {
      "cell_type": "markdown",
      "metadata": {
        "canvas": {
          "comments": [],
          "componentType": "CodeCell",
          "copiedOriginId": null,
          "headerColor": "none",
          "id": "8204b38d-bff0-46f7-9878-2fd772a6ea08",
          "isComponent": false,
          "name": "",
          "parents": []
        },
        "id": "vFs9fgEz-Mmz"
      },
      "source": [
        ""
      ]
    },
    {
      "cell_type": "markdown",
      "metadata": {
        "canvas": {
          "comments": [],
          "componentType": "CodeCell",
          "copiedOriginId": null,
          "headerColor": "none",
          "id": "9c94591b-a105-4d2e-a5e8-80d25a5432b6",
          "isComponent": false,
          "name": "",
          "parents": []
        },
        "id": "B6cxSCxI74A3"
      },
      "source": [
        "# 📕 **EXPLORATION 01-3 :  load_wine 와인 분류**"
      ]
    },
    {
      "cell_type": "markdown",
      "metadata": {
        "canvas": {
          "comments": [],
          "componentType": "CodeCell",
          "copiedOriginId": null,
          "headerColor": "none",
          "id": "bc893cca-8eb4-430f-b737-650de0403748",
          "isComponent": false,
          "name": "",
          "parents": []
        },
        "id": "I6iVrAuL74A4"
      },
      "source": [
        "## 📑 **(1) 모듈 import**\n"
      ]
    },
    {
      "cell_type": "markdown",
      "metadata": {
        "canvas": {
          "comments": [],
          "componentType": "CodeCell",
          "copiedOriginId": null,
          "headerColor": "none",
          "id": "4005f9e9-b822-4a5a-948f-a497ae1ddaac",
          "isComponent": false,
          "name": "",
          "parents": []
        },
        "id": "J-49SpRS74A4"
      },
      "source": [
        "- **scikit-learn 라이브러리**  \n",
        "데이터 로딩: datasets (load_wine)  \n",
        "데이터셋 분리: model_selection (train_test_split)  \n",
        "성능 평가: metrics (classification_report)"
      ]
    },
    {
      "cell_type": "code",
      "execution_count": null,
      "metadata": {
        "canvas": {
          "comments": [],
          "componentType": "CodeCell",
          "copiedOriginId": null,
          "headerColor": "none",
          "id": "05bb8a80-6f6d-4010-92e3-eca5c779b3d8",
          "isComponent": false,
          "name": "",
          "parents": []
        },
        "id": "GRrRF8hT74A4"
      },
      "outputs": [],
      "source": [
        "from sklearn.datasets import load_wine\n",
        "from sklearn.model_selection import train_test_split\n",
        "from sklearn.metrics import classification_report"
      ]
    },
    {
      "cell_type": "markdown",
      "metadata": {
        "canvas": {
          "comments": [],
          "componentType": "CodeCell",
          "copiedOriginId": null,
          "headerColor": "none",
          "id": "8776f86c-08e8-49f9-a980-3bf2c1b31712",
          "isComponent": false,
          "name": "",
          "parents": []
        },
        "id": "WQkgYLK574A4"
      },
      "source": [
        "## 📑 **(2) 데이터 준비**"
      ]
    },
    {
      "cell_type": "markdown",
      "metadata": {
        "canvas": {
          "comments": [],
          "componentType": "CodeCell",
          "copiedOriginId": null,
          "headerColor": "none",
          "id": "2a85ea96-42db-4f47-b3f1-23c549bd45fd",
          "isComponent": false,
          "name": "",
          "parents": []
        },
        "id": "0UkvNLjH74A4"
      },
      "source": [
        "- **load_wine 메서드 활용**  \n",
        "    DESCR, data, feature_names, frame, target, target_names"
      ]
    },
    {
      "cell_type": "code",
      "execution_count": null,
      "metadata": {
        "canvas": {
          "comments": [],
          "componentType": "CodeCell",
          "copiedOriginId": null,
          "headerColor": "none",
          "id": "e64fc0cd-5530-46cf-9a94-33edffa68128",
          "isComponent": false,
          "name": "",
          "parents": []
        },
        "colab": {
          "base_uri": "https://localhost:8080/"
        },
        "id": "CvsFKuR374A4",
        "outputId": "fadd20eb-e57e-4dfd-884e-8c29ed5c5c4b"
      },
      "outputs": [
        {
          "name": "stdout",
          "output_type": "stream",
          "text": [
            "['DESCR', 'data', 'feature_names', 'frame', 'target', 'target_names']\n"
          ]
        }
      ],
      "source": [
        "wine = load_wine()\n",
        "print(dir(wine))"
      ]
    },
    {
      "cell_type": "code",
      "execution_count": null,
      "metadata": {
        "canvas": {
          "comments": [],
          "componentType": "CodeCell",
          "copiedOriginId": null,
          "headerColor": "none",
          "id": "93475b68-31f7-4af5-81a6-458ccde42d40",
          "isComponent": false,
          "name": "",
          "parents": []
        },
        "colab": {
          "base_uri": "https://localhost:8080/"
        },
        "id": "Q_ph-KSE74A4",
        "outputId": "000d9314-9e1b-4702-8abb-29b6c1cc117d"
      },
      "outputs": [
        {
          "data": {
            "text/plain": [
              "dict_keys(['data', 'target', 'frame', 'target_names', 'DESCR', 'feature_names'])"
            ]
          },
          "execution_count": 132,
          "metadata": {},
          "output_type": "execute_result"
        }
      ],
      "source": [
        "wine = load_wine()\n",
        "wine.keys()"
      ]
    },
    {
      "cell_type": "markdown",
      "metadata": {
        "canvas": {
          "comments": [],
          "componentType": "CodeCell",
          "copiedOriginId": null,
          "headerColor": "none",
          "id": "240533d2-e4e4-4397-82f7-e50005582f42",
          "isComponent": false,
          "name": "",
          "parents": []
        },
        "id": "v5S6i35u74A4"
      },
      "source": [
        "## 📑 **(3) 데이터 이해**"
      ]
    },
    {
      "cell_type": "markdown",
      "metadata": {
        "canvas": {
          "comments": [],
          "componentType": "CodeCell",
          "copiedOriginId": null,
          "headerColor": "none",
          "id": "977a45d6-46fd-4813-8ee0-91071c04993b",
          "isComponent": false,
          "name": "",
          "parents": []
        },
        "id": "btj0rRgy74A5"
      },
      "source": [
        "### 📌 **01_wine 정보 확인**"
      ]
    },
    {
      "cell_type": "markdown",
      "metadata": {
        "canvas": {
          "comments": [],
          "componentType": "CodeCell",
          "copiedOriginId": null,
          "headerColor": "none",
          "id": "4b167192-b1ee-481c-8048-eb3bac75cbfc",
          "isComponent": false,
          "name": "",
          "parents": []
        },
        "id": "KhdjlfDf74A5"
      },
      "source": [
        "- **데이터 정보 (6개)**  \n",
        "data, target, feature_names, target_names, frame, DESCR  \n",
        "데이터: 178개 / 속성: 13개  \n",
        "속성 정보: 13개의 속성을 가진 와인 데이터로 와인의 등급 분류"
      ]
    },
    {
      "cell_type": "code",
      "execution_count": null,
      "metadata": {
        "canvas": {
          "comments": [],
          "componentType": "CodeCell",
          "copiedOriginId": null,
          "headerColor": "none",
          "id": "ecd4100d-ebfa-4673-84a0-5a199174995c",
          "isComponent": false,
          "name": "",
          "parents": []
        },
        "colab": {
          "base_uri": "https://localhost:8080/"
        },
        "id": "o_el9tXq74A5",
        "outputId": "3b9eccc4-3f3c-4106-8fd1-fb08a7404a5e"
      },
      "outputs": [
        {
          "name": "stdout",
          "output_type": "stream",
          "text": [
            "(178, 13)\n"
          ]
        }
      ],
      "source": [
        "# 데이터 크기 확인\n",
        "wine_data = wine.data\n",
        "print(wine_data.shape)"
      ]
    },
    {
      "cell_type": "code",
      "execution_count": null,
      "metadata": {
        "canvas": {
          "comments": [],
          "componentType": "CodeCell",
          "copiedOriginId": null,
          "headerColor": "none",
          "id": "6e570dfb-6852-4b87-8afa-b1d764ac422e",
          "isComponent": false,
          "name": "",
          "parents": []
        },
        "colab": {
          "base_uri": "https://localhost:8080/"
        },
        "id": "tsPIN4JH74A5",
        "outputId": "c8d4664e-92cb-4260-efa9-c84806adf082"
      },
      "outputs": [
        {
          "name": "stdout",
          "output_type": "stream",
          "text": [
            "(178,)\n"
          ]
        },
        {
          "data": {
            "text/plain": [
              "array([0, 0, 0, 0, 0, 0, 0, 0, 0, 0, 0, 0, 0, 0, 0, 0, 0, 0, 0, 0, 0, 0,\n",
              "       0, 0, 0, 0, 0, 0, 0, 0, 0, 0, 0, 0, 0, 0, 0, 0, 0, 0, 0, 0, 0, 0,\n",
              "       0, 0, 0, 0, 0, 0, 0, 0, 0, 0, 0, 0, 0, 0, 0, 1, 1, 1, 1, 1, 1, 1,\n",
              "       1, 1, 1, 1, 1, 1, 1, 1, 1, 1, 1, 1, 1, 1, 1, 1, 1, 1, 1, 1, 1, 1,\n",
              "       1, 1, 1, 1, 1, 1, 1, 1, 1, 1, 1, 1, 1, 1, 1, 1, 1, 1, 1, 1, 1, 1,\n",
              "       1, 1, 1, 1, 1, 1, 1, 1, 1, 1, 1, 1, 1, 1, 1, 1, 1, 1, 1, 1, 2, 2,\n",
              "       2, 2, 2, 2, 2, 2, 2, 2, 2, 2, 2, 2, 2, 2, 2, 2, 2, 2, 2, 2, 2, 2,\n",
              "       2, 2, 2, 2, 2, 2, 2, 2, 2, 2, 2, 2, 2, 2, 2, 2, 2, 2, 2, 2, 2, 2,\n",
              "       2, 2])"
            ]
          },
          "execution_count": 134,
          "metadata": {},
          "output_type": "execute_result"
        }
      ],
      "source": [
        "# 데이터 타겟 정보 확인\n",
        "wine_label = wine.target\n",
        "print(wine_label.shape)\n",
        "wine_label"
      ]
    },
    {
      "cell_type": "code",
      "execution_count": null,
      "metadata": {
        "canvas": {
          "comments": [],
          "componentType": "CodeCell",
          "copiedOriginId": null,
          "headerColor": "none",
          "id": "a1e833ed-a523-4527-b24a-88cbf25da30c",
          "isComponent": false,
          "name": "",
          "parents": []
        },
        "colab": {
          "base_uri": "https://localhost:8080/"
        },
        "id": "F-6CclGR74A5",
        "outputId": "2eb85c6a-9edf-42b6-f208-a24fc0df1814"
      },
      "outputs": [
        {
          "data": {
            "text/plain": [
              "['alcohol',\n",
              " 'malic_acid',\n",
              " 'ash',\n",
              " 'alcalinity_of_ash',\n",
              " 'magnesium',\n",
              " 'total_phenols',\n",
              " 'flavanoids',\n",
              " 'nonflavanoid_phenols',\n",
              " 'proanthocyanins',\n",
              " 'color_intensity',\n",
              " 'hue',\n",
              " 'od280/od315_of_diluted_wines',\n",
              " 'proline']"
            ]
          },
          "execution_count": 135,
          "metadata": {},
          "output_type": "execute_result"
        }
      ],
      "source": [
        "# 데이터 각 feature에 대한 설명\n",
        "wine.feature_names"
      ]
    },
    {
      "cell_type": "code",
      "execution_count": null,
      "metadata": {
        "canvas": {
          "comments": [],
          "componentType": "CodeCell",
          "copiedOriginId": null,
          "headerColor": "none",
          "id": "a8ff2e36-862d-480f-b637-7e9d01f3118f",
          "isComponent": false,
          "name": "",
          "parents": []
        },
        "colab": {
          "base_uri": "https://localhost:8080/"
        },
        "id": "L2TqTXDc74A5",
        "outputId": "b18e5d64-a513-4065-eed3-77cd53c19aca"
      },
      "outputs": [
        {
          "data": {
            "text/plain": [
              "array(['class_0', 'class_1', 'class_2'], dtype='<U7')"
            ]
          },
          "execution_count": 136,
          "metadata": {},
          "output_type": "execute_result"
        }
      ],
      "source": [
        "# 데이터 라벨 이름 확인\n",
        "wine.target_names"
      ]
    },
    {
      "cell_type": "code",
      "execution_count": null,
      "metadata": {
        "canvas": {
          "comments": [],
          "componentType": "CodeCell",
          "copiedOriginId": null,
          "headerColor": "none",
          "id": "84fe6f5d-d602-44ea-a8f6-cb7c33ce4d33",
          "isComponent": false,
          "name": "",
          "parents": []
        },
        "colab": {
          "base_uri": "https://localhost:8080/",
          "height": 90
        },
        "id": "PeomBPYH74A5",
        "outputId": "b4cbf4ca-b469-4e02-e9cd-40e8c9c5d742"
      },
      "outputs": [
        {
          "data": {
            "application/vnd.google.colaboratory.intrinsic+json": {
              "type": "string"
            },
            "text/plain": [
              "'.. _wine_dataset:\\n\\nWine recognition dataset\\n------------------------\\n\\n**Data Set Characteristics:**\\n\\n    :Number of Instances: 178 (50 in each of three classes)\\n    :Number of Attributes: 13 numeric, predictive attributes and the class\\n    :Attribute Information:\\n \\t\\t- Alcohol\\n \\t\\t- Malic acid\\n \\t\\t- Ash\\n\\t\\t- Alcalinity of ash  \\n \\t\\t- Magnesium\\n\\t\\t- Total phenols\\n \\t\\t- Flavanoids\\n \\t\\t- Nonflavanoid phenols\\n \\t\\t- Proanthocyanins\\n\\t\\t- Color intensity\\n \\t\\t- Hue\\n \\t\\t- OD280/OD315 of diluted wines\\n \\t\\t- Proline\\n\\n    - class:\\n            - class_0\\n            - class_1\\n            - class_2\\n\\t\\t\\n    :Summary Statistics:\\n    \\n    ============================= ==== ===== ======= =====\\n                                   Min   Max   Mean     SD\\n    ============================= ==== ===== ======= =====\\n    Alcohol:                      11.0  14.8    13.0   0.8\\n    Malic Acid:                   0.74  5.80    2.34  1.12\\n    Ash:                          1.36  3.23    2.36  0.27\\n    Alcalinity of Ash:            10.6  30.0    19.5   3.3\\n    Magnesium:                    70.0 162.0    99.7  14.3\\n    Total Phenols:                0.98  3.88    2.29  0.63\\n    Flavanoids:                   0.34  5.08    2.03  1.00\\n    Nonflavanoid Phenols:         0.13  0.66    0.36  0.12\\n    Proanthocyanins:              0.41  3.58    1.59  0.57\\n    Colour Intensity:              1.3  13.0     5.1   2.3\\n    Hue:                          0.48  1.71    0.96  0.23\\n    OD280/OD315 of diluted wines: 1.27  4.00    2.61  0.71\\n    Proline:                       278  1680     746   315\\n    ============================= ==== ===== ======= =====\\n\\n    :Missing Attribute Values: None\\n    :Class Distribution: class_0 (59), class_1 (71), class_2 (48)\\n    :Creator: R.A. Fisher\\n    :Donor: Michael Marshall (MARSHALL%PLU@io.arc.nasa.gov)\\n    :Date: July, 1988\\n\\nThis is a copy of UCI ML Wine recognition datasets.\\nhttps://archive.ics.uci.edu/ml/machine-learning-databases/wine/wine.data\\n\\nThe data is the results of a chemical analysis of wines grown in the same\\nregion in Italy by three different cultivators. There are thirteen different\\nmeasurements taken for different constituents found in the three types of\\nwine.\\n\\nOriginal Owners: \\n\\nForina, M. et al, PARVUS - \\nAn Extendible Package for Data Exploration, Classification and Correlation. \\nInstitute of Pharmaceutical and Food Analysis and Technologies,\\nVia Brigata Salerno, 16147 Genoa, Italy.\\n\\nCitation:\\n\\nLichman, M. (2013). UCI Machine Learning Repository\\n[https://archive.ics.uci.edu/ml]. Irvine, CA: University of California,\\nSchool of Information and Computer Science. \\n\\n.. topic:: References\\n\\n  (1) S. Aeberhard, D. Coomans and O. de Vel, \\n  Comparison of Classifiers in High Dimensional Settings, \\n  Tech. Rep. no. 92-02, (1992), Dept. of Computer Science and Dept. of  \\n  Mathematics and Statistics, James Cook University of North Queensland. \\n  (Also submitted to Technometrics). \\n\\n  The data was used with many others for comparing various \\n  classifiers. The classes are separable, though only RDA \\n  has achieved 100% correct classification. \\n  (RDA : 100%, QDA 99.4%, LDA 98.9%, 1NN 96.1% (z-transformed data)) \\n  (All results using the leave-one-out technique) \\n\\n  (2) S. Aeberhard, D. Coomans and O. de Vel, \\n  \"THE CLASSIFICATION PERFORMANCE OF RDA\" \\n  Tech. Rep. no. 92-01, (1992), Dept. of Computer Science and Dept. of \\n  Mathematics and Statistics, James Cook University of North Queensland. \\n  (Also submitted to Journal of Chemometrics).\\n'"
            ]
          },
          "execution_count": 137,
          "metadata": {},
          "output_type": "execute_result"
        }
      ],
      "source": [
        "# 데이터셋 설명 확인\n",
        "wine.DESCR"
      ]
    },
    {
      "cell_type": "markdown",
      "metadata": {
        "canvas": {
          "comments": [],
          "componentType": "CodeCell",
          "copiedOriginId": null,
          "headerColor": "none",
          "id": "1e3e4c7c-8cb4-4df1-bb75-d16b371af564",
          "isComponent": false,
          "name": "",
          "parents": []
        },
        "id": "B-id95zZ74A5"
      },
      "source": [
        "### 📌 **02_DataFrame 자료형 변환**"
      ]
    },
    {
      "cell_type": "markdown",
      "metadata": {
        "canvas": {
          "comments": [],
          "componentType": "CodeCell",
          "copiedOriginId": null,
          "headerColor": "none",
          "id": "36b92d50-0700-454f-8f31-ca479b751f2d",
          "isComponent": false,
          "name": "",
          "parents": []
        },
        "id": "GQfnMrcR74A5"
      },
      "source": [
        "- **pandas import**"
      ]
    },
    {
      "cell_type": "code",
      "execution_count": null,
      "metadata": {
        "canvas": {
          "comments": [],
          "componentType": "CodeCell",
          "copiedOriginId": null,
          "headerColor": "none",
          "id": "b5199214-3364-47e8-9351-17733fb8fe2f",
          "isComponent": false,
          "name": "",
          "parents": []
        },
        "id": "nOQtmGTR74A5"
      },
      "outputs": [],
      "source": [
        "import pandas as pd"
      ]
    },
    {
      "cell_type": "markdown",
      "metadata": {
        "canvas": {
          "comments": [],
          "componentType": "CodeCell",
          "copiedOriginId": null,
          "headerColor": "none",
          "id": "532a573f-8e16-4450-9d55-59c4c259c59c",
          "isComponent": false,
          "name": "",
          "parents": []
        },
        "id": "FY7ybTF-74A6"
      },
      "source": [
        "- **DataFrame 자료형으로 변환**   \n",
        "    data : wine_data  \n",
        "    colums : feature_names"
      ]
    },
    {
      "cell_type": "code",
      "execution_count": null,
      "metadata": {
        "canvas": {
          "comments": [],
          "componentType": "CodeCell",
          "copiedOriginId": null,
          "headerColor": "none",
          "id": "9534f186-a47a-48cf-9e0a-628b0c63ac44",
          "isComponent": false,
          "name": "",
          "parents": []
        },
        "colab": {
          "base_uri": "https://localhost:8080/",
          "height": 424
        },
        "id": "kJBssv3U74A6",
        "outputId": "827e8904-e0b5-49cc-ae23-374c97505aad"
      },
      "outputs": [
        {
          "data": {
            "text/html": [
              "\n",
              "  <div id=\"df-3a1ef63f-8cc2-4354-9ba9-0eba65cf8118\">\n",
              "    <div class=\"colab-df-container\">\n",
              "      <div>\n",
              "<style scoped>\n",
              "    .dataframe tbody tr th:only-of-type {\n",
              "        vertical-align: middle;\n",
              "    }\n",
              "\n",
              "    .dataframe tbody tr th {\n",
              "        vertical-align: top;\n",
              "    }\n",
              "\n",
              "    .dataframe thead th {\n",
              "        text-align: right;\n",
              "    }\n",
              "</style>\n",
              "<table border=\"1\" class=\"dataframe\">\n",
              "  <thead>\n",
              "    <tr style=\"text-align: right;\">\n",
              "      <th></th>\n",
              "      <th>alcohol</th>\n",
              "      <th>malic_acid</th>\n",
              "      <th>ash</th>\n",
              "      <th>alcalinity_of_ash</th>\n",
              "      <th>magnesium</th>\n",
              "      <th>total_phenols</th>\n",
              "      <th>flavanoids</th>\n",
              "      <th>nonflavanoid_phenols</th>\n",
              "      <th>proanthocyanins</th>\n",
              "      <th>color_intensity</th>\n",
              "      <th>hue</th>\n",
              "      <th>od280/od315_of_diluted_wines</th>\n",
              "      <th>proline</th>\n",
              "    </tr>\n",
              "  </thead>\n",
              "  <tbody>\n",
              "    <tr>\n",
              "      <th>0</th>\n",
              "      <td>14.23</td>\n",
              "      <td>1.71</td>\n",
              "      <td>2.43</td>\n",
              "      <td>15.6</td>\n",
              "      <td>127.0</td>\n",
              "      <td>2.80</td>\n",
              "      <td>3.06</td>\n",
              "      <td>0.28</td>\n",
              "      <td>2.29</td>\n",
              "      <td>5.64</td>\n",
              "      <td>1.04</td>\n",
              "      <td>3.92</td>\n",
              "      <td>1065.0</td>\n",
              "    </tr>\n",
              "    <tr>\n",
              "      <th>1</th>\n",
              "      <td>13.20</td>\n",
              "      <td>1.78</td>\n",
              "      <td>2.14</td>\n",
              "      <td>11.2</td>\n",
              "      <td>100.0</td>\n",
              "      <td>2.65</td>\n",
              "      <td>2.76</td>\n",
              "      <td>0.26</td>\n",
              "      <td>1.28</td>\n",
              "      <td>4.38</td>\n",
              "      <td>1.05</td>\n",
              "      <td>3.40</td>\n",
              "      <td>1050.0</td>\n",
              "    </tr>\n",
              "    <tr>\n",
              "      <th>2</th>\n",
              "      <td>13.16</td>\n",
              "      <td>2.36</td>\n",
              "      <td>2.67</td>\n",
              "      <td>18.6</td>\n",
              "      <td>101.0</td>\n",
              "      <td>2.80</td>\n",
              "      <td>3.24</td>\n",
              "      <td>0.30</td>\n",
              "      <td>2.81</td>\n",
              "      <td>5.68</td>\n",
              "      <td>1.03</td>\n",
              "      <td>3.17</td>\n",
              "      <td>1185.0</td>\n",
              "    </tr>\n",
              "    <tr>\n",
              "      <th>3</th>\n",
              "      <td>14.37</td>\n",
              "      <td>1.95</td>\n",
              "      <td>2.50</td>\n",
              "      <td>16.8</td>\n",
              "      <td>113.0</td>\n",
              "      <td>3.85</td>\n",
              "      <td>3.49</td>\n",
              "      <td>0.24</td>\n",
              "      <td>2.18</td>\n",
              "      <td>7.80</td>\n",
              "      <td>0.86</td>\n",
              "      <td>3.45</td>\n",
              "      <td>1480.0</td>\n",
              "    </tr>\n",
              "    <tr>\n",
              "      <th>4</th>\n",
              "      <td>13.24</td>\n",
              "      <td>2.59</td>\n",
              "      <td>2.87</td>\n",
              "      <td>21.0</td>\n",
              "      <td>118.0</td>\n",
              "      <td>2.80</td>\n",
              "      <td>2.69</td>\n",
              "      <td>0.39</td>\n",
              "      <td>1.82</td>\n",
              "      <td>4.32</td>\n",
              "      <td>1.04</td>\n",
              "      <td>2.93</td>\n",
              "      <td>735.0</td>\n",
              "    </tr>\n",
              "    <tr>\n",
              "      <th>...</th>\n",
              "      <td>...</td>\n",
              "      <td>...</td>\n",
              "      <td>...</td>\n",
              "      <td>...</td>\n",
              "      <td>...</td>\n",
              "      <td>...</td>\n",
              "      <td>...</td>\n",
              "      <td>...</td>\n",
              "      <td>...</td>\n",
              "      <td>...</td>\n",
              "      <td>...</td>\n",
              "      <td>...</td>\n",
              "      <td>...</td>\n",
              "    </tr>\n",
              "    <tr>\n",
              "      <th>173</th>\n",
              "      <td>13.71</td>\n",
              "      <td>5.65</td>\n",
              "      <td>2.45</td>\n",
              "      <td>20.5</td>\n",
              "      <td>95.0</td>\n",
              "      <td>1.68</td>\n",
              "      <td>0.61</td>\n",
              "      <td>0.52</td>\n",
              "      <td>1.06</td>\n",
              "      <td>7.70</td>\n",
              "      <td>0.64</td>\n",
              "      <td>1.74</td>\n",
              "      <td>740.0</td>\n",
              "    </tr>\n",
              "    <tr>\n",
              "      <th>174</th>\n",
              "      <td>13.40</td>\n",
              "      <td>3.91</td>\n",
              "      <td>2.48</td>\n",
              "      <td>23.0</td>\n",
              "      <td>102.0</td>\n",
              "      <td>1.80</td>\n",
              "      <td>0.75</td>\n",
              "      <td>0.43</td>\n",
              "      <td>1.41</td>\n",
              "      <td>7.30</td>\n",
              "      <td>0.70</td>\n",
              "      <td>1.56</td>\n",
              "      <td>750.0</td>\n",
              "    </tr>\n",
              "    <tr>\n",
              "      <th>175</th>\n",
              "      <td>13.27</td>\n",
              "      <td>4.28</td>\n",
              "      <td>2.26</td>\n",
              "      <td>20.0</td>\n",
              "      <td>120.0</td>\n",
              "      <td>1.59</td>\n",
              "      <td>0.69</td>\n",
              "      <td>0.43</td>\n",
              "      <td>1.35</td>\n",
              "      <td>10.20</td>\n",
              "      <td>0.59</td>\n",
              "      <td>1.56</td>\n",
              "      <td>835.0</td>\n",
              "    </tr>\n",
              "    <tr>\n",
              "      <th>176</th>\n",
              "      <td>13.17</td>\n",
              "      <td>2.59</td>\n",
              "      <td>2.37</td>\n",
              "      <td>20.0</td>\n",
              "      <td>120.0</td>\n",
              "      <td>1.65</td>\n",
              "      <td>0.68</td>\n",
              "      <td>0.53</td>\n",
              "      <td>1.46</td>\n",
              "      <td>9.30</td>\n",
              "      <td>0.60</td>\n",
              "      <td>1.62</td>\n",
              "      <td>840.0</td>\n",
              "    </tr>\n",
              "    <tr>\n",
              "      <th>177</th>\n",
              "      <td>14.13</td>\n",
              "      <td>4.10</td>\n",
              "      <td>2.74</td>\n",
              "      <td>24.5</td>\n",
              "      <td>96.0</td>\n",
              "      <td>2.05</td>\n",
              "      <td>0.76</td>\n",
              "      <td>0.56</td>\n",
              "      <td>1.35</td>\n",
              "      <td>9.20</td>\n",
              "      <td>0.61</td>\n",
              "      <td>1.60</td>\n",
              "      <td>560.0</td>\n",
              "    </tr>\n",
              "  </tbody>\n",
              "</table>\n",
              "<p>178 rows × 13 columns</p>\n",
              "</div>\n",
              "      <button class=\"colab-df-convert\" onclick=\"convertToInteractive('df-3a1ef63f-8cc2-4354-9ba9-0eba65cf8118')\"\n",
              "              title=\"Convert this dataframe to an interactive table.\"\n",
              "              style=\"display:none;\">\n",
              "        \n",
              "  <svg xmlns=\"http://www.w3.org/2000/svg\" height=\"24px\"viewBox=\"0 0 24 24\"\n",
              "       width=\"24px\">\n",
              "    <path d=\"M0 0h24v24H0V0z\" fill=\"none\"/>\n",
              "    <path d=\"M18.56 5.44l.94 2.06.94-2.06 2.06-.94-2.06-.94-.94-2.06-.94 2.06-2.06.94zm-11 1L8.5 8.5l.94-2.06 2.06-.94-2.06-.94L8.5 2.5l-.94 2.06-2.06.94zm10 10l.94 2.06.94-2.06 2.06-.94-2.06-.94-.94-2.06-.94 2.06-2.06.94z\"/><path d=\"M17.41 7.96l-1.37-1.37c-.4-.4-.92-.59-1.43-.59-.52 0-1.04.2-1.43.59L10.3 9.45l-7.72 7.72c-.78.78-.78 2.05 0 2.83L4 21.41c.39.39.9.59 1.41.59.51 0 1.02-.2 1.41-.59l7.78-7.78 2.81-2.81c.8-.78.8-2.07 0-2.86zM5.41 20L4 18.59l7.72-7.72 1.47 1.35L5.41 20z\"/>\n",
              "  </svg>\n",
              "      </button>\n",
              "      \n",
              "  <style>\n",
              "    .colab-df-container {\n",
              "      display:flex;\n",
              "      flex-wrap:wrap;\n",
              "      gap: 12px;\n",
              "    }\n",
              "\n",
              "    .colab-df-convert {\n",
              "      background-color: #E8F0FE;\n",
              "      border: none;\n",
              "      border-radius: 50%;\n",
              "      cursor: pointer;\n",
              "      display: none;\n",
              "      fill: #1967D2;\n",
              "      height: 32px;\n",
              "      padding: 0 0 0 0;\n",
              "      width: 32px;\n",
              "    }\n",
              "\n",
              "    .colab-df-convert:hover {\n",
              "      background-color: #E2EBFA;\n",
              "      box-shadow: 0px 1px 2px rgba(60, 64, 67, 0.3), 0px 1px 3px 1px rgba(60, 64, 67, 0.15);\n",
              "      fill: #174EA6;\n",
              "    }\n",
              "\n",
              "    [theme=dark] .colab-df-convert {\n",
              "      background-color: #3B4455;\n",
              "      fill: #D2E3FC;\n",
              "    }\n",
              "\n",
              "    [theme=dark] .colab-df-convert:hover {\n",
              "      background-color: #434B5C;\n",
              "      box-shadow: 0px 1px 3px 1px rgba(0, 0, 0, 0.15);\n",
              "      filter: drop-shadow(0px 1px 2px rgba(0, 0, 0, 0.3));\n",
              "      fill: #FFFFFF;\n",
              "    }\n",
              "  </style>\n",
              "\n",
              "      <script>\n",
              "        const buttonEl =\n",
              "          document.querySelector('#df-3a1ef63f-8cc2-4354-9ba9-0eba65cf8118 button.colab-df-convert');\n",
              "        buttonEl.style.display =\n",
              "          google.colab.kernel.accessAllowed ? 'block' : 'none';\n",
              "\n",
              "        async function convertToInteractive(key) {\n",
              "          const element = document.querySelector('#df-3a1ef63f-8cc2-4354-9ba9-0eba65cf8118');\n",
              "          const dataTable =\n",
              "            await google.colab.kernel.invokeFunction('convertToInteractive',\n",
              "                                                     [key], {});\n",
              "          if (!dataTable) return;\n",
              "\n",
              "          const docLinkHtml = 'Like what you see? Visit the ' +\n",
              "            '<a target=\"_blank\" href=https://colab.research.google.com/notebooks/data_table.ipynb>data table notebook</a>'\n",
              "            + ' to learn more about interactive tables.';\n",
              "          element.innerHTML = '';\n",
              "          dataTable['output_type'] = 'display_data';\n",
              "          await google.colab.output.renderOutput(dataTable, element);\n",
              "          const docLink = document.createElement('div');\n",
              "          docLink.innerHTML = docLinkHtml;\n",
              "          element.appendChild(docLink);\n",
              "        }\n",
              "      </script>\n",
              "    </div>\n",
              "  </div>\n",
              "  "
            ],
            "text/plain": [
              "     alcohol  malic_acid   ash  alcalinity_of_ash  magnesium  total_phenols  \\\n",
              "0      14.23        1.71  2.43               15.6      127.0           2.80   \n",
              "1      13.20        1.78  2.14               11.2      100.0           2.65   \n",
              "2      13.16        2.36  2.67               18.6      101.0           2.80   \n",
              "3      14.37        1.95  2.50               16.8      113.0           3.85   \n",
              "4      13.24        2.59  2.87               21.0      118.0           2.80   \n",
              "..       ...         ...   ...                ...        ...            ...   \n",
              "173    13.71        5.65  2.45               20.5       95.0           1.68   \n",
              "174    13.40        3.91  2.48               23.0      102.0           1.80   \n",
              "175    13.27        4.28  2.26               20.0      120.0           1.59   \n",
              "176    13.17        2.59  2.37               20.0      120.0           1.65   \n",
              "177    14.13        4.10  2.74               24.5       96.0           2.05   \n",
              "\n",
              "     flavanoids  nonflavanoid_phenols  proanthocyanins  color_intensity   hue  \\\n",
              "0          3.06                  0.28             2.29             5.64  1.04   \n",
              "1          2.76                  0.26             1.28             4.38  1.05   \n",
              "2          3.24                  0.30             2.81             5.68  1.03   \n",
              "3          3.49                  0.24             2.18             7.80  0.86   \n",
              "4          2.69                  0.39             1.82             4.32  1.04   \n",
              "..          ...                   ...              ...              ...   ...   \n",
              "173        0.61                  0.52             1.06             7.70  0.64   \n",
              "174        0.75                  0.43             1.41             7.30  0.70   \n",
              "175        0.69                  0.43             1.35            10.20  0.59   \n",
              "176        0.68                  0.53             1.46             9.30  0.60   \n",
              "177        0.76                  0.56             1.35             9.20  0.61   \n",
              "\n",
              "     od280/od315_of_diluted_wines  proline  \n",
              "0                            3.92   1065.0  \n",
              "1                            3.40   1050.0  \n",
              "2                            3.17   1185.0  \n",
              "3                            3.45   1480.0  \n",
              "4                            2.93    735.0  \n",
              "..                            ...      ...  \n",
              "173                          1.74    740.0  \n",
              "174                          1.56    750.0  \n",
              "175                          1.56    835.0  \n",
              "176                          1.62    840.0  \n",
              "177                          1.60    560.0  \n",
              "\n",
              "[178 rows x 13 columns]"
            ]
          },
          "execution_count": 138,
          "metadata": {},
          "output_type": "execute_result"
        }
      ],
      "source": [
        "wine_df = pd.DataFrame(data=wine_data, columns=wine.feature_names)\n",
        "wine_df"
      ]
    },
    {
      "cell_type": "markdown",
      "metadata": {
        "canvas": {
          "comments": [],
          "componentType": "CodeCell",
          "copiedOriginId": null,
          "headerColor": "none",
          "id": "f8dde27e-8672-4053-8f1b-aa06492fda8b",
          "isComponent": false,
          "name": "",
          "parents": []
        },
        "id": "PetGkhy-74A6"
      },
      "source": [
        "- **Label data 추가**  \n",
        "    label(target) : 정답 데이터"
      ]
    },
    {
      "cell_type": "code",
      "execution_count": null,
      "metadata": {
        "canvas": {
          "comments": [],
          "componentType": "CodeCell",
          "copiedOriginId": null,
          "headerColor": "none",
          "id": "d6d3a1ff-e010-43fa-b1e8-e90569d6c222",
          "isComponent": false,
          "name": "",
          "parents": []
        },
        "colab": {
          "base_uri": "https://localhost:8080/",
          "height": 424
        },
        "id": "u_hSHHqR74A6",
        "outputId": "48e2788c-37f8-4f59-e75f-20a342650db3"
      },
      "outputs": [
        {
          "data": {
            "text/html": [
              "\n",
              "  <div id=\"df-92dc1423-c8a7-4da8-89cc-726db2c9426a\">\n",
              "    <div class=\"colab-df-container\">\n",
              "      <div>\n",
              "<style scoped>\n",
              "    .dataframe tbody tr th:only-of-type {\n",
              "        vertical-align: middle;\n",
              "    }\n",
              "\n",
              "    .dataframe tbody tr th {\n",
              "        vertical-align: top;\n",
              "    }\n",
              "\n",
              "    .dataframe thead th {\n",
              "        text-align: right;\n",
              "    }\n",
              "</style>\n",
              "<table border=\"1\" class=\"dataframe\">\n",
              "  <thead>\n",
              "    <tr style=\"text-align: right;\">\n",
              "      <th></th>\n",
              "      <th>alcohol</th>\n",
              "      <th>malic_acid</th>\n",
              "      <th>ash</th>\n",
              "      <th>alcalinity_of_ash</th>\n",
              "      <th>magnesium</th>\n",
              "      <th>total_phenols</th>\n",
              "      <th>flavanoids</th>\n",
              "      <th>nonflavanoid_phenols</th>\n",
              "      <th>proanthocyanins</th>\n",
              "      <th>color_intensity</th>\n",
              "      <th>hue</th>\n",
              "      <th>od280/od315_of_diluted_wines</th>\n",
              "      <th>proline</th>\n",
              "      <th>label</th>\n",
              "    </tr>\n",
              "  </thead>\n",
              "  <tbody>\n",
              "    <tr>\n",
              "      <th>0</th>\n",
              "      <td>14.23</td>\n",
              "      <td>1.71</td>\n",
              "      <td>2.43</td>\n",
              "      <td>15.6</td>\n",
              "      <td>127.0</td>\n",
              "      <td>2.80</td>\n",
              "      <td>3.06</td>\n",
              "      <td>0.28</td>\n",
              "      <td>2.29</td>\n",
              "      <td>5.64</td>\n",
              "      <td>1.04</td>\n",
              "      <td>3.92</td>\n",
              "      <td>1065.0</td>\n",
              "      <td>0</td>\n",
              "    </tr>\n",
              "    <tr>\n",
              "      <th>1</th>\n",
              "      <td>13.20</td>\n",
              "      <td>1.78</td>\n",
              "      <td>2.14</td>\n",
              "      <td>11.2</td>\n",
              "      <td>100.0</td>\n",
              "      <td>2.65</td>\n",
              "      <td>2.76</td>\n",
              "      <td>0.26</td>\n",
              "      <td>1.28</td>\n",
              "      <td>4.38</td>\n",
              "      <td>1.05</td>\n",
              "      <td>3.40</td>\n",
              "      <td>1050.0</td>\n",
              "      <td>0</td>\n",
              "    </tr>\n",
              "    <tr>\n",
              "      <th>2</th>\n",
              "      <td>13.16</td>\n",
              "      <td>2.36</td>\n",
              "      <td>2.67</td>\n",
              "      <td>18.6</td>\n",
              "      <td>101.0</td>\n",
              "      <td>2.80</td>\n",
              "      <td>3.24</td>\n",
              "      <td>0.30</td>\n",
              "      <td>2.81</td>\n",
              "      <td>5.68</td>\n",
              "      <td>1.03</td>\n",
              "      <td>3.17</td>\n",
              "      <td>1185.0</td>\n",
              "      <td>0</td>\n",
              "    </tr>\n",
              "    <tr>\n",
              "      <th>3</th>\n",
              "      <td>14.37</td>\n",
              "      <td>1.95</td>\n",
              "      <td>2.50</td>\n",
              "      <td>16.8</td>\n",
              "      <td>113.0</td>\n",
              "      <td>3.85</td>\n",
              "      <td>3.49</td>\n",
              "      <td>0.24</td>\n",
              "      <td>2.18</td>\n",
              "      <td>7.80</td>\n",
              "      <td>0.86</td>\n",
              "      <td>3.45</td>\n",
              "      <td>1480.0</td>\n",
              "      <td>0</td>\n",
              "    </tr>\n",
              "    <tr>\n",
              "      <th>4</th>\n",
              "      <td>13.24</td>\n",
              "      <td>2.59</td>\n",
              "      <td>2.87</td>\n",
              "      <td>21.0</td>\n",
              "      <td>118.0</td>\n",
              "      <td>2.80</td>\n",
              "      <td>2.69</td>\n",
              "      <td>0.39</td>\n",
              "      <td>1.82</td>\n",
              "      <td>4.32</td>\n",
              "      <td>1.04</td>\n",
              "      <td>2.93</td>\n",
              "      <td>735.0</td>\n",
              "      <td>0</td>\n",
              "    </tr>\n",
              "    <tr>\n",
              "      <th>...</th>\n",
              "      <td>...</td>\n",
              "      <td>...</td>\n",
              "      <td>...</td>\n",
              "      <td>...</td>\n",
              "      <td>...</td>\n",
              "      <td>...</td>\n",
              "      <td>...</td>\n",
              "      <td>...</td>\n",
              "      <td>...</td>\n",
              "      <td>...</td>\n",
              "      <td>...</td>\n",
              "      <td>...</td>\n",
              "      <td>...</td>\n",
              "      <td>...</td>\n",
              "    </tr>\n",
              "    <tr>\n",
              "      <th>173</th>\n",
              "      <td>13.71</td>\n",
              "      <td>5.65</td>\n",
              "      <td>2.45</td>\n",
              "      <td>20.5</td>\n",
              "      <td>95.0</td>\n",
              "      <td>1.68</td>\n",
              "      <td>0.61</td>\n",
              "      <td>0.52</td>\n",
              "      <td>1.06</td>\n",
              "      <td>7.70</td>\n",
              "      <td>0.64</td>\n",
              "      <td>1.74</td>\n",
              "      <td>740.0</td>\n",
              "      <td>2</td>\n",
              "    </tr>\n",
              "    <tr>\n",
              "      <th>174</th>\n",
              "      <td>13.40</td>\n",
              "      <td>3.91</td>\n",
              "      <td>2.48</td>\n",
              "      <td>23.0</td>\n",
              "      <td>102.0</td>\n",
              "      <td>1.80</td>\n",
              "      <td>0.75</td>\n",
              "      <td>0.43</td>\n",
              "      <td>1.41</td>\n",
              "      <td>7.30</td>\n",
              "      <td>0.70</td>\n",
              "      <td>1.56</td>\n",
              "      <td>750.0</td>\n",
              "      <td>2</td>\n",
              "    </tr>\n",
              "    <tr>\n",
              "      <th>175</th>\n",
              "      <td>13.27</td>\n",
              "      <td>4.28</td>\n",
              "      <td>2.26</td>\n",
              "      <td>20.0</td>\n",
              "      <td>120.0</td>\n",
              "      <td>1.59</td>\n",
              "      <td>0.69</td>\n",
              "      <td>0.43</td>\n",
              "      <td>1.35</td>\n",
              "      <td>10.20</td>\n",
              "      <td>0.59</td>\n",
              "      <td>1.56</td>\n",
              "      <td>835.0</td>\n",
              "      <td>2</td>\n",
              "    </tr>\n",
              "    <tr>\n",
              "      <th>176</th>\n",
              "      <td>13.17</td>\n",
              "      <td>2.59</td>\n",
              "      <td>2.37</td>\n",
              "      <td>20.0</td>\n",
              "      <td>120.0</td>\n",
              "      <td>1.65</td>\n",
              "      <td>0.68</td>\n",
              "      <td>0.53</td>\n",
              "      <td>1.46</td>\n",
              "      <td>9.30</td>\n",
              "      <td>0.60</td>\n",
              "      <td>1.62</td>\n",
              "      <td>840.0</td>\n",
              "      <td>2</td>\n",
              "    </tr>\n",
              "    <tr>\n",
              "      <th>177</th>\n",
              "      <td>14.13</td>\n",
              "      <td>4.10</td>\n",
              "      <td>2.74</td>\n",
              "      <td>24.5</td>\n",
              "      <td>96.0</td>\n",
              "      <td>2.05</td>\n",
              "      <td>0.76</td>\n",
              "      <td>0.56</td>\n",
              "      <td>1.35</td>\n",
              "      <td>9.20</td>\n",
              "      <td>0.61</td>\n",
              "      <td>1.60</td>\n",
              "      <td>560.0</td>\n",
              "      <td>2</td>\n",
              "    </tr>\n",
              "  </tbody>\n",
              "</table>\n",
              "<p>178 rows × 14 columns</p>\n",
              "</div>\n",
              "      <button class=\"colab-df-convert\" onclick=\"convertToInteractive('df-92dc1423-c8a7-4da8-89cc-726db2c9426a')\"\n",
              "              title=\"Convert this dataframe to an interactive table.\"\n",
              "              style=\"display:none;\">\n",
              "        \n",
              "  <svg xmlns=\"http://www.w3.org/2000/svg\" height=\"24px\"viewBox=\"0 0 24 24\"\n",
              "       width=\"24px\">\n",
              "    <path d=\"M0 0h24v24H0V0z\" fill=\"none\"/>\n",
              "    <path d=\"M18.56 5.44l.94 2.06.94-2.06 2.06-.94-2.06-.94-.94-2.06-.94 2.06-2.06.94zm-11 1L8.5 8.5l.94-2.06 2.06-.94-2.06-.94L8.5 2.5l-.94 2.06-2.06.94zm10 10l.94 2.06.94-2.06 2.06-.94-2.06-.94-.94-2.06-.94 2.06-2.06.94z\"/><path d=\"M17.41 7.96l-1.37-1.37c-.4-.4-.92-.59-1.43-.59-.52 0-1.04.2-1.43.59L10.3 9.45l-7.72 7.72c-.78.78-.78 2.05 0 2.83L4 21.41c.39.39.9.59 1.41.59.51 0 1.02-.2 1.41-.59l7.78-7.78 2.81-2.81c.8-.78.8-2.07 0-2.86zM5.41 20L4 18.59l7.72-7.72 1.47 1.35L5.41 20z\"/>\n",
              "  </svg>\n",
              "      </button>\n",
              "      \n",
              "  <style>\n",
              "    .colab-df-container {\n",
              "      display:flex;\n",
              "      flex-wrap:wrap;\n",
              "      gap: 12px;\n",
              "    }\n",
              "\n",
              "    .colab-df-convert {\n",
              "      background-color: #E8F0FE;\n",
              "      border: none;\n",
              "      border-radius: 50%;\n",
              "      cursor: pointer;\n",
              "      display: none;\n",
              "      fill: #1967D2;\n",
              "      height: 32px;\n",
              "      padding: 0 0 0 0;\n",
              "      width: 32px;\n",
              "    }\n",
              "\n",
              "    .colab-df-convert:hover {\n",
              "      background-color: #E2EBFA;\n",
              "      box-shadow: 0px 1px 2px rgba(60, 64, 67, 0.3), 0px 1px 3px 1px rgba(60, 64, 67, 0.15);\n",
              "      fill: #174EA6;\n",
              "    }\n",
              "\n",
              "    [theme=dark] .colab-df-convert {\n",
              "      background-color: #3B4455;\n",
              "      fill: #D2E3FC;\n",
              "    }\n",
              "\n",
              "    [theme=dark] .colab-df-convert:hover {\n",
              "      background-color: #434B5C;\n",
              "      box-shadow: 0px 1px 3px 1px rgba(0, 0, 0, 0.15);\n",
              "      filter: drop-shadow(0px 1px 2px rgba(0, 0, 0, 0.3));\n",
              "      fill: #FFFFFF;\n",
              "    }\n",
              "  </style>\n",
              "\n",
              "      <script>\n",
              "        const buttonEl =\n",
              "          document.querySelector('#df-92dc1423-c8a7-4da8-89cc-726db2c9426a button.colab-df-convert');\n",
              "        buttonEl.style.display =\n",
              "          google.colab.kernel.accessAllowed ? 'block' : 'none';\n",
              "\n",
              "        async function convertToInteractive(key) {\n",
              "          const element = document.querySelector('#df-92dc1423-c8a7-4da8-89cc-726db2c9426a');\n",
              "          const dataTable =\n",
              "            await google.colab.kernel.invokeFunction('convertToInteractive',\n",
              "                                                     [key], {});\n",
              "          if (!dataTable) return;\n",
              "\n",
              "          const docLinkHtml = 'Like what you see? Visit the ' +\n",
              "            '<a target=\"_blank\" href=https://colab.research.google.com/notebooks/data_table.ipynb>data table notebook</a>'\n",
              "            + ' to learn more about interactive tables.';\n",
              "          element.innerHTML = '';\n",
              "          dataTable['output_type'] = 'display_data';\n",
              "          await google.colab.output.renderOutput(dataTable, element);\n",
              "          const docLink = document.createElement('div');\n",
              "          docLink.innerHTML = docLinkHtml;\n",
              "          element.appendChild(docLink);\n",
              "        }\n",
              "      </script>\n",
              "    </div>\n",
              "  </div>\n",
              "  "
            ],
            "text/plain": [
              "     alcohol  malic_acid   ash  alcalinity_of_ash  magnesium  total_phenols  \\\n",
              "0      14.23        1.71  2.43               15.6      127.0           2.80   \n",
              "1      13.20        1.78  2.14               11.2      100.0           2.65   \n",
              "2      13.16        2.36  2.67               18.6      101.0           2.80   \n",
              "3      14.37        1.95  2.50               16.8      113.0           3.85   \n",
              "4      13.24        2.59  2.87               21.0      118.0           2.80   \n",
              "..       ...         ...   ...                ...        ...            ...   \n",
              "173    13.71        5.65  2.45               20.5       95.0           1.68   \n",
              "174    13.40        3.91  2.48               23.0      102.0           1.80   \n",
              "175    13.27        4.28  2.26               20.0      120.0           1.59   \n",
              "176    13.17        2.59  2.37               20.0      120.0           1.65   \n",
              "177    14.13        4.10  2.74               24.5       96.0           2.05   \n",
              "\n",
              "     flavanoids  nonflavanoid_phenols  proanthocyanins  color_intensity   hue  \\\n",
              "0          3.06                  0.28             2.29             5.64  1.04   \n",
              "1          2.76                  0.26             1.28             4.38  1.05   \n",
              "2          3.24                  0.30             2.81             5.68  1.03   \n",
              "3          3.49                  0.24             2.18             7.80  0.86   \n",
              "4          2.69                  0.39             1.82             4.32  1.04   \n",
              "..          ...                   ...              ...              ...   ...   \n",
              "173        0.61                  0.52             1.06             7.70  0.64   \n",
              "174        0.75                  0.43             1.41             7.30  0.70   \n",
              "175        0.69                  0.43             1.35            10.20  0.59   \n",
              "176        0.68                  0.53             1.46             9.30  0.60   \n",
              "177        0.76                  0.56             1.35             9.20  0.61   \n",
              "\n",
              "     od280/od315_of_diluted_wines  proline  label  \n",
              "0                            3.92   1065.0      0  \n",
              "1                            3.40   1050.0      0  \n",
              "2                            3.17   1185.0      0  \n",
              "3                            3.45   1480.0      0  \n",
              "4                            2.93    735.0      0  \n",
              "..                            ...      ...    ...  \n",
              "173                          1.74    740.0      2  \n",
              "174                          1.56    750.0      2  \n",
              "175                          1.56    835.0      2  \n",
              "176                          1.62    840.0      2  \n",
              "177                          1.60    560.0      2  \n",
              "\n",
              "[178 rows x 14 columns]"
            ]
          },
          "execution_count": 139,
          "metadata": {},
          "output_type": "execute_result"
        }
      ],
      "source": [
        "wine_df[\"label\"] = wine.target\n",
        "wine_df"
      ]
    },
    {
      "cell_type": "markdown",
      "metadata": {
        "canvas": {
          "comments": [],
          "componentType": "CodeCell",
          "copiedOriginId": null,
          "headerColor": "none",
          "id": "e1bf319e-8e60-459e-9098-42468ba36fc2",
          "isComponent": false,
          "name": "",
          "parents": []
        },
        "id": "8BJQSFPZ74A6"
      },
      "source": [
        "## 📑 **(4) train, test 데이터 분리**"
      ]
    },
    {
      "cell_type": "markdown",
      "metadata": {
        "canvas": {
          "comments": [],
          "componentType": "CodeCell",
          "copiedOriginId": null,
          "headerColor": "none",
          "id": "758bea99-8f91-44b2-86e3-a14d0aa7efb0",
          "isComponent": false,
          "name": "",
          "parents": []
        },
        "id": "BT2WGsF674A6"
      },
      "source": [
        "- **모델 학습 및 테스트용 문제지와 정답지 생성**   \n",
        "data: feature (문제)  \n",
        "label: label (정답)  \n",
        "test_size: 전체에서 테스트 데이터로 사용할 비율  \n",
        "random_state : 데이터를 분리하는데 적용되는 랜덤성"
      ]
    },
    {
      "cell_type": "code",
      "execution_count": null,
      "metadata": {
        "canvas": {
          "comments": [],
          "componentType": "CodeCell",
          "copiedOriginId": null,
          "headerColor": "none",
          "id": "337145d0-3fdf-44f6-8656-cad520c6b0d7",
          "isComponent": false,
          "name": "",
          "parents": []
        },
        "colab": {
          "base_uri": "https://localhost:8080/"
        },
        "id": "60W2TfSG74A7",
        "outputId": "8ba539c8-4bab-40f3-f389-721a727323db"
      },
      "outputs": [
        {
          "name": "stdout",
          "output_type": "stream",
          "text": [
            "X_train 개수:  124 , X_test 개수:  54\n"
          ]
        }
      ],
      "source": [
        "X_train, X_test, y_train, y_test = train_test_split(wine_data, wine_label, test_size=0.3, random_state=15)\n",
        "print('X_train 개수: ', len(X_train),', X_test 개수: ', len(X_test))"
      ]
    },
    {
      "cell_type": "code",
      "execution_count": null,
      "metadata": {
        "canvas": {
          "comments": [],
          "componentType": "CodeCell",
          "copiedOriginId": null,
          "headerColor": "none",
          "id": "45931a94-180d-4b4b-9709-c4e59ad681bd",
          "isComponent": false,
          "name": "",
          "parents": []
        },
        "colab": {
          "base_uri": "https://localhost:8080/"
        },
        "id": "GkBpBtIO74A7",
        "outputId": "374052c2-a83b-40e5-c7cd-33c6a273d445"
      },
      "outputs": [
        {
          "data": {
            "text/plain": [
              "((124, 13), (124,))"
            ]
          },
          "execution_count": 141,
          "metadata": {},
          "output_type": "execute_result"
        }
      ],
      "source": [
        "X_train.shape, y_train.shape"
      ]
    },
    {
      "cell_type": "code",
      "execution_count": null,
      "metadata": {
        "canvas": {
          "comments": [],
          "componentType": "CodeCell",
          "copiedOriginId": null,
          "headerColor": "none",
          "id": "da6a0bdd-39b8-4daa-a43a-7bec636e7122",
          "isComponent": false,
          "name": "",
          "parents": []
        },
        "colab": {
          "base_uri": "https://localhost:8080/"
        },
        "id": "drWK0m3e74A7",
        "outputId": "2f956297-ae21-4021-f5e1-d1ddbb5e2029"
      },
      "outputs": [
        {
          "data": {
            "text/plain": [
              "((54, 13), (54,))"
            ]
          },
          "execution_count": 142,
          "metadata": {},
          "output_type": "execute_result"
        }
      ],
      "source": [
        "X_test.shape, y_test.shape"
      ]
    },
    {
      "cell_type": "code",
      "execution_count": null,
      "metadata": {
        "canvas": {
          "comments": [],
          "componentType": "CodeCell",
          "copiedOriginId": null,
          "headerColor": "none",
          "id": "5601c50b-66b2-44cf-8a71-9358cfae4330",
          "isComponent": false,
          "name": "",
          "parents": []
        },
        "colab": {
          "base_uri": "https://localhost:8080/"
        },
        "id": "-MsYBogo74A7",
        "outputId": "ced913ba-839f-463f-c322-8845aa4bbb53"
      },
      "outputs": [
        {
          "data": {
            "text/plain": [
              "(array([0, 0, 2, 1, 1, 0, 0, 2, 2, 1, 0, 1, 2, 2, 1, 1, 0, 2, 0, 1, 2, 1,\n",
              "        0, 1, 1, 2, 1, 2, 2, 1, 1, 2, 1, 0, 1, 0, 1, 0, 0, 2, 1, 1, 1, 0,\n",
              "        1, 2, 0, 1, 0, 2, 1, 0, 1, 1, 0, 1, 1, 0, 1, 1, 1, 2, 2, 0, 1, 0,\n",
              "        1, 1, 2, 0, 0, 1, 1, 1, 1, 1, 0, 2, 2, 2, 1, 0, 0, 2, 1, 0, 0, 1,\n",
              "        2, 1, 0, 0, 0, 0, 1, 2, 1, 0, 1, 0, 0, 1, 1, 2, 0, 0, 0, 0, 1, 2,\n",
              "        0, 1, 2, 0, 2, 0, 1, 1, 2, 2, 1, 1, 2, 2]),\n",
              " array([2, 0, 2, 0, 1, 0, 1, 2, 1, 0, 1, 1, 1, 1, 0, 1, 2, 0, 2, 1, 2, 0,\n",
              "        2, 2, 2, 0, 2, 1, 0, 0, 1, 2, 0, 1, 2, 0, 0, 1, 1, 2, 1, 1, 2, 2,\n",
              "        1, 1, 2, 0, 0, 0, 0, 2, 0, 1]))"
            ]
          },
          "execution_count": 143,
          "metadata": {},
          "output_type": "execute_result"
        }
      ],
      "source": [
        "y_train, y_test"
      ]
    },
    {
      "cell_type": "markdown",
      "metadata": {
        "canvas": {
          "comments": [],
          "componentType": "CodeCell",
          "copiedOriginId": null,
          "headerColor": "none",
          "id": "82dfed9f-4b94-4c8c-8ac0-10760e29523b",
          "isComponent": false,
          "name": "",
          "parents": []
        },
        "id": "f7qAIfFP74A7"
      },
      "source": [
        "## 📑 **(5) 다양한 모델로 학습 및 평가**"
      ]
    },
    {
      "cell_type": "markdown",
      "metadata": {
        "canvas": {
          "comments": [],
          "componentType": "CodeCell",
          "copiedOriginId": null,
          "headerColor": "none",
          "id": "b037ebb8-0d21-439f-a57d-42b5efc8a4cf",
          "isComponent": false,
          "name": "",
          "parents": []
        },
        "id": "a3gDiB6I74A7"
      },
      "source": [
        "### 📌 **01_모듈 import**"
      ]
    },
    {
      "cell_type": "markdown",
      "metadata": {
        "canvas": {
          "comments": [],
          "componentType": "CodeCell",
          "copiedOriginId": null,
          "headerColor": "none",
          "id": "c30eae3e-0069-48d1-a899-447f9ed0f9f5",
          "isComponent": false,
          "name": "",
          "parents": []
        },
        "id": "rOn6lnnj74A7"
      },
      "source": [
        "- **패키지 import**  \n",
        "정확도: metrics (accuracy_score)  \n",
        "오차행렬: metrics (confusion_matrix)"
      ]
    },
    {
      "cell_type": "code",
      "execution_count": null,
      "metadata": {
        "canvas": {
          "comments": [],
          "componentType": "CodeCell",
          "copiedOriginId": null,
          "headerColor": "none",
          "id": "cc7f78e6-9d4b-4dde-8f1a-7648bfc61b99",
          "isComponent": false,
          "name": "",
          "parents": []
        },
        "id": "asOkTMHY74A7"
      },
      "outputs": [],
      "source": [
        "from sklearn.metrics import accuracy_score\n",
        "from sklearn.metrics import confusion_matrix"
      ]
    },
    {
      "cell_type": "markdown",
      "metadata": {
        "canvas": {
          "comments": [],
          "componentType": "CodeCell",
          "copiedOriginId": null,
          "headerColor": "none",
          "id": "c2c06182-c724-4aef-9740-3bed2fc89c27",
          "isComponent": false,
          "name": "",
          "parents": []
        },
        "id": "VQS2laFD74A8"
      },
      "source": [
        "### 📌 **02_학습 및 평가 : Decision Tree**"
      ]
    },
    {
      "cell_type": "code",
      "execution_count": null,
      "metadata": {
        "canvas": {
          "comments": [],
          "componentType": "CodeCell",
          "copiedOriginId": null,
          "headerColor": "none",
          "id": "d74e342d-6da6-4906-b74c-9d8459d360d5",
          "isComponent": false,
          "name": "",
          "parents": []
        },
        "colab": {
          "base_uri": "https://localhost:8080/"
        },
        "id": "lLri8hTp74A8",
        "outputId": "60d972b6-ddcc-4afc-85a9-9b665f65f91a"
      },
      "outputs": [
        {
          "name": "stdout",
          "output_type": "stream",
          "text": [
            "              precision    recall  f1-score   support\n",
            "\n",
            "           0       1.00      1.00      1.00        18\n",
            "           1       0.89      0.89      0.89        19\n",
            "           2       0.88      0.88      0.88        17\n",
            "\n",
            "    accuracy                           0.93        54\n",
            "   macro avg       0.93      0.93      0.93        54\n",
            "weighted avg       0.93      0.93      0.93        54\n",
            "\n",
            "정확도 : 0.9259259259259259\n"
          ]
        }
      ],
      "source": [
        "from sklearn.tree import DecisionTreeClassifier\n",
        "\n",
        "decision_tree = DecisionTreeClassifier(random_state=15)\n",
        "decision_tree.fit(X_train, y_train)\n",
        "y_pred = decision_tree.predict(X_test)\n",
        "print(classification_report(y_test, y_pred))\n",
        "print('정확도 :', accuracy_score(y_test, y_pred))"
      ]
    },
    {
      "cell_type": "markdown",
      "metadata": {
        "canvas": {
          "comments": [],
          "componentType": "CodeCell",
          "copiedOriginId": null,
          "headerColor": "none",
          "id": "685a2515-010c-4181-9e4a-cbcc55d80aba",
          "isComponent": false,
          "name": "",
          "parents": []
        },
        "id": "xLBF6HJm74A8"
      },
      "source": [
        "### 📌 **03_학습 및 평가 : Random Forest**"
      ]
    },
    {
      "cell_type": "code",
      "execution_count": null,
      "metadata": {
        "canvas": {
          "comments": [],
          "componentType": "CodeCell",
          "copiedOriginId": null,
          "headerColor": "none",
          "id": "6d44142e-336a-422c-b061-58d46bc4da0f",
          "isComponent": false,
          "name": "",
          "parents": []
        },
        "colab": {
          "base_uri": "https://localhost:8080/"
        },
        "id": "TcoyEpc-74A8",
        "outputId": "30e66868-7a03-4f61-b231-2ad245ef0fea"
      },
      "outputs": [
        {
          "name": "stdout",
          "output_type": "stream",
          "text": [
            "              precision    recall  f1-score   support\n",
            "\n",
            "           0       1.00      1.00      1.00        18\n",
            "           1       1.00      1.00      1.00        19\n",
            "           2       1.00      1.00      1.00        17\n",
            "\n",
            "    accuracy                           1.00        54\n",
            "   macro avg       1.00      1.00      1.00        54\n",
            "weighted avg       1.00      1.00      1.00        54\n",
            "\n",
            "정확도 : 1.0\n"
          ]
        }
      ],
      "source": [
        "from sklearn.ensemble import RandomForestClassifier\n",
        "\n",
        "random_forest = RandomForestClassifier(random_state=15)\n",
        "random_forest.fit(X_train, y_train)\n",
        "y_pred = random_forest.predict(X_test)\n",
        "print(classification_report(y_test, y_pred))\n",
        "print('정확도 :', accuracy_score(y_test, y_pred))"
      ]
    },
    {
      "cell_type": "markdown",
      "metadata": {
        "canvas": {
          "comments": [],
          "componentType": "CodeCell",
          "copiedOriginId": null,
          "headerColor": "none",
          "id": "8c890b24-7573-42b0-82f6-d60631030985",
          "isComponent": false,
          "name": "",
          "parents": []
        },
        "id": "xfBnHfhq74A8"
      },
      "source": [
        "### 📌 **04_학습 및 평가 : SVM**"
      ]
    },
    {
      "cell_type": "code",
      "execution_count": null,
      "metadata": {
        "canvas": {
          "comments": [],
          "componentType": "CodeCell",
          "copiedOriginId": null,
          "headerColor": "none",
          "id": "0b528cc5-e7a5-4ab3-913f-da839d3653fb",
          "isComponent": false,
          "name": "",
          "parents": []
        },
        "colab": {
          "base_uri": "https://localhost:8080/"
        },
        "id": "exjpjHRm74A8",
        "outputId": "afd8ece1-73be-43f9-badf-7fc381ed90eb"
      },
      "outputs": [
        {
          "name": "stdout",
          "output_type": "stream",
          "text": [
            "              precision    recall  f1-score   support\n",
            "\n",
            "           0       0.84      0.89      0.86        18\n",
            "           1       0.51      0.95      0.67        19\n",
            "           2       0.00      0.00      0.00        17\n",
            "\n",
            "    accuracy                           0.63        54\n",
            "   macro avg       0.45      0.61      0.51        54\n",
            "weighted avg       0.46      0.63      0.52        54\n",
            "\n",
            "정확도 : 0.6296296296296297\n"
          ]
        },
        {
          "name": "stderr",
          "output_type": "stream",
          "text": [
            "/usr/local/lib/python3.7/dist-packages/sklearn/metrics/_classification.py:1318: UndefinedMetricWarning: Precision and F-score are ill-defined and being set to 0.0 in labels with no predicted samples. Use `zero_division` parameter to control this behavior.\n",
            "  _warn_prf(average, modifier, msg_start, len(result))\n",
            "/usr/local/lib/python3.7/dist-packages/sklearn/metrics/_classification.py:1318: UndefinedMetricWarning: Precision and F-score are ill-defined and being set to 0.0 in labels with no predicted samples. Use `zero_division` parameter to control this behavior.\n",
            "  _warn_prf(average, modifier, msg_start, len(result))\n",
            "/usr/local/lib/python3.7/dist-packages/sklearn/metrics/_classification.py:1318: UndefinedMetricWarning: Precision and F-score are ill-defined and being set to 0.0 in labels with no predicted samples. Use `zero_division` parameter to control this behavior.\n",
            "  _warn_prf(average, modifier, msg_start, len(result))\n"
          ]
        }
      ],
      "source": [
        "from sklearn import svm\n",
        "\n",
        "svm_model = svm.SVC()\n",
        "svm_model.fit(X_train, y_train)\n",
        "y_pred = svm_model.predict(X_test)\n",
        "print(classification_report(y_test, y_pred))\n",
        "print('정확도 :', accuracy_score(y_test, y_pred))"
      ]
    },
    {
      "cell_type": "markdown",
      "metadata": {
        "canvas": {
          "comments": [],
          "componentType": "CodeCell",
          "copiedOriginId": null,
          "headerColor": "none",
          "id": "7e6dd67d-4251-4b1a-a56d-b6e1df0feac3",
          "isComponent": false,
          "name": "",
          "parents": []
        },
        "id": "5vGCumY-74A8"
      },
      "source": [
        "### 📌 **05_학습 및 평가 : SGD Classifier**"
      ]
    },
    {
      "cell_type": "code",
      "execution_count": null,
      "metadata": {
        "canvas": {
          "comments": [],
          "componentType": "CodeCell",
          "copiedOriginId": null,
          "headerColor": "none",
          "id": "38d826ab-fe81-4914-a178-ed092527e686",
          "isComponent": false,
          "name": "",
          "parents": []
        },
        "colab": {
          "base_uri": "https://localhost:8080/"
        },
        "id": "auHWkW1_74A8",
        "outputId": "c8f521c8-f7c5-42e5-fdec-0260cca96ada"
      },
      "outputs": [
        {
          "name": "stdout",
          "output_type": "stream",
          "text": [
            "              precision    recall  f1-score   support\n",
            "\n",
            "           0       0.79      0.83      0.81        18\n",
            "           1       0.49      0.89      0.63        19\n",
            "           2       0.00      0.00      0.00        17\n",
            "\n",
            "    accuracy                           0.59        54\n",
            "   macro avg       0.43      0.58      0.48        54\n",
            "weighted avg       0.43      0.59      0.49        54\n",
            "\n",
            "정확도 : 0.5925925925925926\n"
          ]
        },
        {
          "name": "stderr",
          "output_type": "stream",
          "text": [
            "/usr/local/lib/python3.7/dist-packages/sklearn/metrics/_classification.py:1318: UndefinedMetricWarning: Precision and F-score are ill-defined and being set to 0.0 in labels with no predicted samples. Use `zero_division` parameter to control this behavior.\n",
            "  _warn_prf(average, modifier, msg_start, len(result))\n",
            "/usr/local/lib/python3.7/dist-packages/sklearn/metrics/_classification.py:1318: UndefinedMetricWarning: Precision and F-score are ill-defined and being set to 0.0 in labels with no predicted samples. Use `zero_division` parameter to control this behavior.\n",
            "  _warn_prf(average, modifier, msg_start, len(result))\n",
            "/usr/local/lib/python3.7/dist-packages/sklearn/metrics/_classification.py:1318: UndefinedMetricWarning: Precision and F-score are ill-defined and being set to 0.0 in labels with no predicted samples. Use `zero_division` parameter to control this behavior.\n",
            "  _warn_prf(average, modifier, msg_start, len(result))\n"
          ]
        }
      ],
      "source": [
        "from sklearn.linear_model import SGDClassifier\n",
        "\n",
        "sgd_model = SGDClassifier()\n",
        "sgd_model.fit(X_train, y_train)\n",
        "y_pred = sgd_model.predict(X_test)\n",
        "print(classification_report(y_test, y_pred))\n",
        "print('정확도 :', accuracy_score(y_test, y_pred))"
      ]
    },
    {
      "cell_type": "markdown",
      "metadata": {
        "canvas": {
          "comments": [],
          "componentType": "CodeCell",
          "copiedOriginId": null,
          "headerColor": "none",
          "id": "7f6a27ed-774e-4565-9481-739049e8d222",
          "isComponent": false,
          "name": "",
          "parents": []
        },
        "id": "Rr8gfx9L74A8"
      },
      "source": [
        "### 📌 **06_학습 및 평가 : Logistic Regression**\n"
      ]
    },
    {
      "cell_type": "code",
      "execution_count": null,
      "metadata": {
        "canvas": {
          "comments": [],
          "componentType": "CodeCell",
          "copiedOriginId": null,
          "headerColor": "none",
          "id": "a7259c3b-1201-4694-9e2c-5694f2a197d1",
          "isComponent": false,
          "name": "",
          "parents": []
        },
        "colab": {
          "base_uri": "https://localhost:8080/"
        },
        "id": "rfxIj_8a74A8",
        "outputId": "59cea33c-2e04-4282-c032-c61bfdee26f8"
      },
      "outputs": [
        {
          "name": "stdout",
          "output_type": "stream",
          "text": [
            "              precision    recall  f1-score   support\n",
            "\n",
            "           0       1.00      0.94      0.97        18\n",
            "           1       0.90      1.00      0.95        19\n",
            "           2       1.00      0.94      0.97        17\n",
            "\n",
            "    accuracy                           0.96        54\n",
            "   macro avg       0.97      0.96      0.96        54\n",
            "weighted avg       0.97      0.96      0.96        54\n",
            "\n",
            "정확도 : 0.9629629629629629\n"
          ]
        },
        {
          "name": "stderr",
          "output_type": "stream",
          "text": [
            "/usr/local/lib/python3.7/dist-packages/sklearn/linear_model/_logistic.py:818: ConvergenceWarning: lbfgs failed to converge (status=1):\n",
            "STOP: TOTAL NO. of ITERATIONS REACHED LIMIT.\n",
            "\n",
            "Increase the number of iterations (max_iter) or scale the data as shown in:\n",
            "    https://scikit-learn.org/stable/modules/preprocessing.html\n",
            "Please also refer to the documentation for alternative solver options:\n",
            "    https://scikit-learn.org/stable/modules/linear_model.html#logistic-regression\n",
            "  extra_warning_msg=_LOGISTIC_SOLVER_CONVERGENCE_MSG,\n"
          ]
        }
      ],
      "source": [
        "from sklearn.linear_model import LogisticRegression\n",
        "\n",
        "logistic_model = LogisticRegression()\n",
        "logistic_model.fit(X_train, y_train)\n",
        "y_pred = logistic_model.predict(X_test)\n",
        "print(classification_report(y_test, y_pred))\n",
        "print('정확도 :', accuracy_score(y_test, y_pred))"
      ]
    },
    {
      "cell_type": "markdown",
      "metadata": {
        "canvas": {
          "comments": [],
          "componentType": "CodeCell",
          "copiedOriginId": null,
          "headerColor": "none",
          "id": "89882695-70c2-406f-b3ec-61d4346b09c3",
          "isComponent": false,
          "name": "",
          "parents": []
        },
        "id": "tnne0na774A8"
      },
      "source": [
        "### 📌 **07_최종 평가**"
      ]
    },
    {
      "cell_type": "markdown",
      "metadata": {
        "canvas": {
          "comments": [],
          "componentType": "CodeCell",
          "copiedOriginId": null,
          "headerColor": "none",
          "id": "ac9c2e02-9076-43c1-978d-bafa55065239",
          "isComponent": false,
          "name": "",
          "parents": []
        },
        "id": "hLHUhxbw74A9"
      },
      "source": [
        "- **Decision Tree**\n",
        "```\n",
        "                precision   recall   f1-score   support\n",
        "    accuracy                           0.93        54\n",
        "   macro avg       0.93      0.93      0.93        54\n",
        "weighted avg     0.93      0.93      0.93        54\n",
        "```\n",
        "\n",
        "\n",
        "- **Random Forest**\n",
        "```\n",
        "    accuracy                           1.00        54\n",
        "   macro avg       1.00      1.00      1.00        54\n",
        "weighted avg     1.00      1.00      1.00        54\n",
        "```\n",
        "\n",
        "\n",
        "- **SVM**\n",
        "```\n",
        "                precision   recall   f1-score   support\n",
        "     accuracy                          0.63        54\n",
        "   macro avg       0.45      0.61      0.51        54\n",
        "weighted avg     0.46      0.63      0.52        54\n",
        "```\n",
        "\n",
        "\n",
        "- **SGD Classifier**\n",
        "```\n",
        "                precision   recall   f1-score   support\n",
        "    accuracy                           0.59        54\n",
        "   macro avg       0.81      0.61      0.53        54\n",
        "weighted avg     0.82      0.59      0.52        54\n",
        "```\n",
        "\n",
        "\n",
        "- **Logistic Regression**\n",
        "```\n",
        "                precision   recall   f1-score   support\n",
        "    accuracy                           0.96        54\n",
        "   macro avg       0.97      0.96      0.96        54\n",
        "weighted avg     0.97      0.96      0.96        54\n",
        "```"
      ]
    },
    {
      "cell_type": "markdown",
      "metadata": {
        "canvas": {
          "comments": [],
          "componentType": "CodeCell",
          "copiedOriginId": null,
          "headerColor": "none",
          "id": "c281ee61-06ab-450e-8c1c-819aac07c7b3",
          "isComponent": false,
          "name": "",
          "parents": []
        },
        "id": "5Hz9LtBd9d_9"
      },
      "source": [
        "## 📑 **(6) 결론**"
      ]
    },
    {
      "cell_type": "markdown",
      "metadata": {
        "canvas": {
          "comments": [],
          "componentType": "CodeCell",
          "copiedOriginId": null,
          "headerColor": "none",
          "id": "e73af0dc-1a5d-4afb-ac9d-83c7a3c386f5",
          "isComponent": false,
          "name": "",
          "parents": []
        },
        "id": "33CryR_b9eXZ"
      },
      "source": [
        "동일한 데이터 조건으로 다양한 모델에 적용 시 성능의 차이가 많이 나는 것을 볼 수 있다. SGD Classifier과 SVM이 다른 모델에 비해 성능이 매우 안좋게 나오고, Random Forest의 경우에는 반대로 정확도 1.0으로 신용할 수 없는 결과가 나온다. (random_state의 값을 바꾸면 1.0이 아닌 값이 나오기는 한다.) 그 외에도 데이터 클래스의 수가 적어서 그런지 대부분의 데이터가 앞선 손글씨 모델에 비해 클래스간 성능 차이가 크다. 때문에 손글씨 분류와 같이 정확도(accuracy)를 평가 지표로 사용하는 것은 문제가 있다고 여겨진다. 그래서 F1 score의 가중 평균을 평가 지표로 선택하는 방향으로 결정했다. 일단 데이터의 신뢰가 낮기도 하지만, 각 클래스간의 오차도 상당히 크기 때문이다."
      ]
    },
    {
      "cell_type": "markdown",
      "metadata": {
        "canvas": {
          "comments": [],
          "componentType": "CodeCell",
          "copiedOriginId": null,
          "headerColor": "none",
          "id": "6c16e5f1-60c4-4680-bdb3-c618eee8bc8d",
          "isComponent": false,
          "name": "",
          "parents": []
        },
        "id": "JkCAQnWqkt88"
      },
      "source": [
        "<hr>"
      ]
    },
    {
      "cell_type": "markdown",
      "metadata": {
        "canvas": {
          "comments": [],
          "componentType": "CodeCell",
          "copiedOriginId": null,
          "headerColor": "none",
          "id": "cae06fb4-b42e-4863-81e4-c8fd58b15b1b",
          "isComponent": false,
          "name": "",
          "parents": []
        },
        "id": "vpuFFdcs8OG4"
      },
      "source": [
        "# 📕 **EXPLORATION 01-4 :  load_breast_cancer 유방암 여부 진단**"
      ]
    },
    {
      "cell_type": "markdown",
      "metadata": {
        "canvas": {
          "comments": [],
          "componentType": "CodeCell",
          "copiedOriginId": null,
          "headerColor": "none",
          "id": "a9d45c24-45f2-4254-bdbd-ba9f4efa995c",
          "isComponent": false,
          "name": "",
          "parents": []
        },
        "id": "2WT0xSGz8OG9"
      },
      "source": [
        "## 📑 **(1) 모듈 import**\n"
      ]
    },
    {
      "cell_type": "markdown",
      "metadata": {
        "canvas": {
          "comments": [],
          "componentType": "CodeCell",
          "copiedOriginId": null,
          "headerColor": "none",
          "id": "7f0f5351-d219-43ae-9209-c3c1acf91d58",
          "isComponent": false,
          "name": "",
          "parents": []
        },
        "id": "0B91dHYi8OG9"
      },
      "source": [
        "- **scikit-learn 라이브러리**  \n",
        "데이터 로딩: datasets (load_breast_cancer)  \n",
        "데이터셋 분리: model_selection (train_test_split)  \n",
        "성능 평가: metrics (classification_report)"
      ]
    },
    {
      "cell_type": "code",
      "execution_count": null,
      "metadata": {
        "canvas": {
          "comments": [],
          "componentType": "CodeCell",
          "copiedOriginId": null,
          "headerColor": "none",
          "id": "8de50388-9bb4-484e-80cd-b2066b6e36ef",
          "isComponent": false,
          "name": "",
          "parents": []
        },
        "id": "b-981pdX8OG9"
      },
      "outputs": [],
      "source": [
        "from sklearn.datasets import load_breast_cancer\n",
        "from sklearn.model_selection import train_test_split\n",
        "from sklearn.metrics import classification_report"
      ]
    },
    {
      "cell_type": "markdown",
      "metadata": {
        "canvas": {
          "comments": [],
          "componentType": "CodeCell",
          "copiedOriginId": null,
          "headerColor": "none",
          "id": "eee77fb4-c13d-494f-8e57-028469245638",
          "isComponent": false,
          "name": "",
          "parents": []
        },
        "id": "bNzjZ1qp8OG9"
      },
      "source": [
        "## 📑 **(2) 데이터 준비**"
      ]
    },
    {
      "cell_type": "markdown",
      "metadata": {
        "canvas": {
          "comments": [],
          "componentType": "CodeCell",
          "copiedOriginId": null,
          "headerColor": "none",
          "id": "1d5010bf-ffad-4378-a415-78316279b326",
          "isComponent": false,
          "name": "",
          "parents": []
        },
        "id": "bXToVR8Y8OG-"
      },
      "source": [
        "- **load_breast_cancer 메서드 활용**    \n",
        "    DESCR, data, data_module, feature_names, filename, frame, target, target_names"
      ]
    },
    {
      "cell_type": "code",
      "execution_count": null,
      "metadata": {
        "canvas": {
          "comments": [],
          "componentType": "CodeCell",
          "copiedOriginId": null,
          "headerColor": "none",
          "id": "f88cc895-df22-4506-91ef-fc85b4803097",
          "isComponent": false,
          "name": "",
          "parents": []
        },
        "colab": {
          "base_uri": "https://localhost:8080/"
        },
        "id": "Dr-_-0Mc8OG-",
        "outputId": "9b73afe1-e662-453b-d869-530c8929c0e2"
      },
      "outputs": [
        {
          "name": "stdout",
          "output_type": "stream",
          "text": [
            "['DESCR', 'data', 'data_module', 'feature_names', 'filename', 'frame', 'target', 'target_names']\n"
          ]
        }
      ],
      "source": [
        "breast_cancer = load_breast_cancer()\n",
        "print(dir(breast_cancer))"
      ]
    },
    {
      "cell_type": "code",
      "execution_count": null,
      "metadata": {
        "canvas": {
          "comments": [],
          "componentType": "CodeCell",
          "copiedOriginId": null,
          "headerColor": "none",
          "id": "61ba3478-2e4a-4e1f-915d-6385ef6d33d9",
          "isComponent": false,
          "name": "",
          "parents": []
        },
        "colab": {
          "base_uri": "https://localhost:8080/"
        },
        "id": "IKgZv4F-8OG-",
        "outputId": "e68de51d-64b6-4dbb-8f46-0c2e185aff58"
      },
      "outputs": [
        {
          "data": {
            "text/plain": [
              "dict_keys(['data', 'target', 'frame', 'target_names', 'DESCR', 'feature_names', 'filename', 'data_module'])"
            ]
          },
          "execution_count": 152,
          "metadata": {},
          "output_type": "execute_result"
        }
      ],
      "source": [
        "breast_cancer = load_breast_cancer()\n",
        "breast_cancer.keys()"
      ]
    },
    {
      "cell_type": "markdown",
      "metadata": {
        "canvas": {
          "comments": [],
          "componentType": "CodeCell",
          "copiedOriginId": null,
          "headerColor": "none",
          "id": "4bec0395-a346-474d-b664-e6f3d94e52fc",
          "isComponent": false,
          "name": "",
          "parents": []
        },
        "id": "vFDbaOJn8OG-"
      },
      "source": [
        "## 📑 **(3) 데이터 이해**"
      ]
    },
    {
      "cell_type": "markdown",
      "metadata": {
        "canvas": {
          "comments": [],
          "componentType": "CodeCell",
          "copiedOriginId": null,
          "headerColor": "none",
          "id": "893d5a71-bb0a-423d-8c71-3113f2349e91",
          "isComponent": false,
          "name": "",
          "parents": []
        },
        "id": "7UjXn2Qh8OG-"
      },
      "source": [
        "### 📌 01_breast_cancer 정보 확인"
      ]
    },
    {
      "cell_type": "markdown",
      "metadata": {
        "canvas": {
          "comments": [],
          "componentType": "CodeCell",
          "copiedOriginId": null,
          "headerColor": "none",
          "id": "6fa80553-a15b-4af8-88fb-675fc4f0d568",
          "isComponent": false,
          "name": "",
          "parents": []
        },
        "id": "0S0TqUkX8OG-"
      },
      "source": [
        "- <u>데이터 정보 (8개)</u>  \n",
        "    data, target, frame, target_names, DESCR, feature_names, filename, data_module  \n",
        "    데이터: 569개 / 속성: 30개  \n",
        "    속성 정보: 30개의 속성을 가진 유방암 데이터로 악성, 양성 2가지로 분류"
      ]
    },
    {
      "cell_type": "code",
      "execution_count": null,
      "metadata": {
        "canvas": {
          "comments": [],
          "componentType": "CodeCell",
          "copiedOriginId": null,
          "headerColor": "none",
          "id": "e0bfd73b-8a22-4361-9b56-297e4d8dcc9f",
          "isComponent": false,
          "name": "",
          "parents": []
        },
        "colab": {
          "base_uri": "https://localhost:8080/"
        },
        "id": "qWDYVt0F8OG-",
        "outputId": "c4f62822-3828-4a12-ef94-6fa27d143d28"
      },
      "outputs": [
        {
          "name": "stdout",
          "output_type": "stream",
          "text": [
            "(569, 30)\n"
          ]
        }
      ],
      "source": [
        "# 데이터 크기 확인\n",
        "breast_cancer_data = breast_cancer.data\n",
        "print(breast_cancer_data.shape)"
      ]
    },
    {
      "cell_type": "code",
      "execution_count": null,
      "metadata": {
        "canvas": {
          "comments": [],
          "componentType": "CodeCell",
          "copiedOriginId": null,
          "headerColor": "none",
          "id": "349def3d-0489-41dc-a644-e47671c10963",
          "isComponent": false,
          "name": "",
          "parents": []
        },
        "colab": {
          "base_uri": "https://localhost:8080/"
        },
        "id": "TLVLONBf8OG-",
        "outputId": "7b7343de-a5e5-4c44-f525-efffe823d8a5"
      },
      "outputs": [
        {
          "name": "stdout",
          "output_type": "stream",
          "text": [
            "(569,)\n"
          ]
        },
        {
          "data": {
            "text/plain": [
              "array([0, 0, 0, 0, 0, 0, 0, 0, 0, 0, 0, 0, 0, 0, 0, 0, 0, 0, 0, 1, 1, 1,\n",
              "       0, 0, 0, 0, 0, 0, 0, 0, 0, 0, 0, 0, 0, 0, 0, 1, 0, 0, 0, 0, 0, 0,\n",
              "       0, 0, 1, 0, 1, 1, 1, 1, 1, 0, 0, 1, 0, 0, 1, 1, 1, 1, 0, 1, 0, 0,\n",
              "       1, 1, 1, 1, 0, 1, 0, 0, 1, 0, 1, 0, 0, 1, 1, 1, 0, 0, 1, 0, 0, 0,\n",
              "       1, 1, 1, 0, 1, 1, 0, 0, 1, 1, 1, 0, 0, 1, 1, 1, 1, 0, 1, 1, 0, 1,\n",
              "       1, 1, 1, 1, 1, 1, 1, 0, 0, 0, 1, 0, 0, 1, 1, 1, 0, 0, 1, 0, 1, 0,\n",
              "       0, 1, 0, 0, 1, 1, 0, 1, 1, 0, 1, 1, 1, 1, 0, 1, 1, 1, 1, 1, 1, 1,\n",
              "       1, 1, 0, 1, 1, 1, 1, 0, 0, 1, 0, 1, 1, 0, 0, 1, 1, 0, 0, 1, 1, 1,\n",
              "       1, 0, 1, 1, 0, 0, 0, 1, 0, 1, 0, 1, 1, 1, 0, 1, 1, 0, 0, 1, 0, 0,\n",
              "       0, 0, 1, 0, 0, 0, 1, 0, 1, 0, 1, 1, 0, 1, 0, 0, 0, 0, 1, 1, 0, 0,\n",
              "       1, 1, 1, 0, 1, 1, 1, 1, 1, 0, 0, 1, 1, 0, 1, 1, 0, 0, 1, 0, 1, 1,\n",
              "       1, 1, 0, 1, 1, 1, 1, 1, 0, 1, 0, 0, 0, 0, 0, 0, 0, 0, 0, 0, 0, 0,\n",
              "       0, 0, 1, 1, 1, 1, 1, 1, 0, 1, 0, 1, 1, 0, 1, 1, 0, 1, 0, 0, 1, 1,\n",
              "       1, 1, 1, 1, 1, 1, 1, 1, 1, 1, 1, 0, 1, 1, 0, 1, 0, 1, 1, 1, 1, 1,\n",
              "       1, 1, 1, 1, 1, 1, 1, 1, 1, 0, 1, 1, 1, 0, 1, 0, 1, 1, 1, 1, 0, 0,\n",
              "       0, 1, 1, 1, 1, 0, 1, 0, 1, 0, 1, 1, 1, 0, 1, 1, 1, 1, 1, 1, 1, 0,\n",
              "       0, 0, 1, 1, 1, 1, 1, 1, 1, 1, 1, 1, 1, 0, 0, 1, 0, 0, 0, 1, 0, 0,\n",
              "       1, 1, 1, 1, 1, 0, 1, 1, 1, 1, 1, 0, 1, 1, 1, 0, 1, 1, 0, 0, 1, 1,\n",
              "       1, 1, 1, 1, 0, 1, 1, 1, 1, 1, 1, 1, 0, 1, 1, 1, 1, 1, 0, 1, 1, 0,\n",
              "       1, 1, 1, 1, 1, 1, 1, 1, 1, 1, 1, 1, 0, 1, 0, 0, 1, 0, 1, 1, 1, 1,\n",
              "       1, 0, 1, 1, 0, 1, 0, 1, 1, 0, 1, 0, 1, 1, 1, 1, 1, 1, 1, 1, 0, 0,\n",
              "       1, 1, 1, 1, 1, 1, 0, 1, 1, 1, 1, 1, 1, 1, 1, 1, 1, 0, 1, 1, 1, 1,\n",
              "       1, 1, 1, 0, 1, 0, 1, 1, 0, 1, 1, 1, 1, 1, 0, 0, 1, 0, 1, 0, 1, 1,\n",
              "       1, 1, 1, 0, 1, 1, 0, 1, 0, 1, 0, 0, 1, 1, 1, 0, 1, 1, 1, 1, 1, 1,\n",
              "       1, 1, 1, 1, 1, 0, 1, 0, 0, 1, 1, 1, 1, 1, 1, 1, 1, 1, 1, 1, 1, 1,\n",
              "       1, 1, 1, 1, 1, 1, 1, 1, 1, 1, 1, 1, 0, 0, 0, 0, 0, 0, 1])"
            ]
          },
          "execution_count": 105,
          "metadata": {},
          "output_type": "execute_result"
        }
      ],
      "source": [
        "# 데이터 타겟 정보 확인\n",
        "breast_cancer_label = breast_cancer.target\n",
        "print(breast_cancer_label.shape)\n",
        "breast_cancer_label"
      ]
    },
    {
      "cell_type": "code",
      "execution_count": null,
      "metadata": {
        "canvas": {
          "comments": [],
          "componentType": "CodeCell",
          "copiedOriginId": null,
          "headerColor": "none",
          "id": "84818174-e19e-4a70-b97b-3988b21faaa7",
          "isComponent": false,
          "name": "",
          "parents": []
        },
        "colab": {
          "base_uri": "https://localhost:8080/"
        },
        "id": "gN6oDp9F8OG-",
        "outputId": "ffc546c4-37d3-4e0f-852d-334e7c802c0f"
      },
      "outputs": [
        {
          "data": {
            "text/plain": [
              "array(['mean radius', 'mean texture', 'mean perimeter', 'mean area',\n",
              "       'mean smoothness', 'mean compactness', 'mean concavity',\n",
              "       'mean concave points', 'mean symmetry', 'mean fractal dimension',\n",
              "       'radius error', 'texture error', 'perimeter error', 'area error',\n",
              "       'smoothness error', 'compactness error', 'concavity error',\n",
              "       'concave points error', 'symmetry error',\n",
              "       'fractal dimension error', 'worst radius', 'worst texture',\n",
              "       'worst perimeter', 'worst area', 'worst smoothness',\n",
              "       'worst compactness', 'worst concavity', 'worst concave points',\n",
              "       'worst symmetry', 'worst fractal dimension'], dtype='<U23')"
            ]
          },
          "execution_count": 106,
          "metadata": {},
          "output_type": "execute_result"
        }
      ],
      "source": [
        "# 데이터 각 feature에 대한 설명\n",
        "breast_cancer.feature_names"
      ]
    },
    {
      "cell_type": "code",
      "execution_count": null,
      "metadata": {
        "canvas": {
          "comments": [],
          "componentType": "CodeCell",
          "copiedOriginId": null,
          "headerColor": "none",
          "id": "16f9c1e9-a442-474a-abf1-21e7f67f8851",
          "isComponent": false,
          "name": "",
          "parents": []
        },
        "colab": {
          "base_uri": "https://localhost:8080/"
        },
        "id": "KlpYl_u18OG-",
        "outputId": "3086d144-f903-4955-d08e-cf1a1ec48114"
      },
      "outputs": [
        {
          "data": {
            "text/plain": [
              "array(['malignant', 'benign'], dtype='<U9')"
            ]
          },
          "execution_count": 107,
          "metadata": {},
          "output_type": "execute_result"
        }
      ],
      "source": [
        "# 데이터 라벨 이름 확인\n",
        "breast_cancer.target_names"
      ]
    },
    {
      "cell_type": "code",
      "execution_count": null,
      "metadata": {
        "canvas": {
          "comments": [],
          "componentType": "CodeCell",
          "copiedOriginId": null,
          "headerColor": "none",
          "id": "bbb63310-6593-43c4-874b-e568e741a56c",
          "isComponent": false,
          "name": "",
          "parents": []
        },
        "colab": {
          "base_uri": "https://localhost:8080/",
          "height": 35
        },
        "id": "dyGjDMXvKTIH",
        "outputId": "bcae247d-8373-44c3-8d01-3409397c07a6"
      },
      "outputs": [
        {
          "data": {
            "application/vnd.google.colaboratory.intrinsic+json": {
              "type": "string"
            },
            "text/plain": [
              "'sklearn.datasets.data'"
            ]
          },
          "execution_count": 112,
          "metadata": {},
          "output_type": "execute_result"
        }
      ],
      "source": [
        "# 데이터 모듈 확인\n",
        "breast_cancer.data_module"
      ]
    },
    {
      "cell_type": "code",
      "execution_count": null,
      "metadata": {
        "canvas": {
          "comments": [],
          "componentType": "CodeCell",
          "copiedOriginId": null,
          "headerColor": "none",
          "id": "99b83aab-da5e-4176-bf32-2b1e652c0218",
          "isComponent": false,
          "name": "",
          "parents": []
        },
        "colab": {
          "base_uri": "https://localhost:8080/",
          "height": 35
        },
        "id": "VAeWgHhd8OG_",
        "outputId": "abbd0d65-3f4f-4427-8908-6b6962496574"
      },
      "outputs": [
        {
          "data": {
            "application/vnd.google.colaboratory.intrinsic+json": {
              "type": "string"
            },
            "text/plain": [
              "'breast_cancer.csv'"
            ]
          },
          "execution_count": 110,
          "metadata": {},
          "output_type": "execute_result"
        }
      ],
      "source": [
        "# 데이터 파일 이름 확인\n",
        "breast_cancer.filename"
      ]
    },
    {
      "cell_type": "code",
      "execution_count": null,
      "metadata": {
        "canvas": {
          "comments": [],
          "componentType": "CodeCell",
          "copiedOriginId": null,
          "headerColor": "none",
          "id": "b3721575-3cfa-48d9-ada3-cf6fa599ed34",
          "isComponent": false,
          "name": "",
          "parents": []
        },
        "colab": {
          "base_uri": "https://localhost:8080/",
          "height": 90
        },
        "id": "RJwXfUSn8OG_",
        "outputId": "d663efa6-8b37-47e3-fdac-8dd6d2c3fb51"
      },
      "outputs": [
        {
          "data": {
            "application/vnd.google.colaboratory.intrinsic+json": {
              "type": "string"
            },
            "text/plain": [
              "'.. _breast_cancer_dataset:\\n\\nBreast cancer wisconsin (diagnostic) dataset\\n--------------------------------------------\\n\\n**Data Set Characteristics:**\\n\\n    :Number of Instances: 569\\n\\n    :Number of Attributes: 30 numeric, predictive attributes and the class\\n\\n    :Attribute Information:\\n        - radius (mean of distances from center to points on the perimeter)\\n        - texture (standard deviation of gray-scale values)\\n        - perimeter\\n        - area\\n        - smoothness (local variation in radius lengths)\\n        - compactness (perimeter^2 / area - 1.0)\\n        - concavity (severity of concave portions of the contour)\\n        - concave points (number of concave portions of the contour)\\n        - symmetry\\n        - fractal dimension (\"coastline approximation\" - 1)\\n\\n        The mean, standard error, and \"worst\" or largest (mean of the three\\n        worst/largest values) of these features were computed for each image,\\n        resulting in 30 features.  For instance, field 0 is Mean Radius, field\\n        10 is Radius SE, field 20 is Worst Radius.\\n\\n        - class:\\n                - WDBC-Malignant\\n                - WDBC-Benign\\n\\n    :Summary Statistics:\\n\\n    ===================================== ====== ======\\n                                           Min    Max\\n    ===================================== ====== ======\\n    radius (mean):                        6.981  28.11\\n    texture (mean):                       9.71   39.28\\n    perimeter (mean):                     43.79  188.5\\n    area (mean):                          143.5  2501.0\\n    smoothness (mean):                    0.053  0.163\\n    compactness (mean):                   0.019  0.345\\n    concavity (mean):                     0.0    0.427\\n    concave points (mean):                0.0    0.201\\n    symmetry (mean):                      0.106  0.304\\n    fractal dimension (mean):             0.05   0.097\\n    radius (standard error):              0.112  2.873\\n    texture (standard error):             0.36   4.885\\n    perimeter (standard error):           0.757  21.98\\n    area (standard error):                6.802  542.2\\n    smoothness (standard error):          0.002  0.031\\n    compactness (standard error):         0.002  0.135\\n    concavity (standard error):           0.0    0.396\\n    concave points (standard error):      0.0    0.053\\n    symmetry (standard error):            0.008  0.079\\n    fractal dimension (standard error):   0.001  0.03\\n    radius (worst):                       7.93   36.04\\n    texture (worst):                      12.02  49.54\\n    perimeter (worst):                    50.41  251.2\\n    area (worst):                         185.2  4254.0\\n    smoothness (worst):                   0.071  0.223\\n    compactness (worst):                  0.027  1.058\\n    concavity (worst):                    0.0    1.252\\n    concave points (worst):               0.0    0.291\\n    symmetry (worst):                     0.156  0.664\\n    fractal dimension (worst):            0.055  0.208\\n    ===================================== ====== ======\\n\\n    :Missing Attribute Values: None\\n\\n    :Class Distribution: 212 - Malignant, 357 - Benign\\n\\n    :Creator:  Dr. William H. Wolberg, W. Nick Street, Olvi L. Mangasarian\\n\\n    :Donor: Nick Street\\n\\n    :Date: November, 1995\\n\\nThis is a copy of UCI ML Breast Cancer Wisconsin (Diagnostic) datasets.\\nhttps://goo.gl/U2Uwz2\\n\\nFeatures are computed from a digitized image of a fine needle\\naspirate (FNA) of a breast mass.  They describe\\ncharacteristics of the cell nuclei present in the image.\\n\\nSeparating plane described above was obtained using\\nMultisurface Method-Tree (MSM-T) [K. P. Bennett, \"Decision Tree\\nConstruction Via Linear Programming.\" Proceedings of the 4th\\nMidwest Artificial Intelligence and Cognitive Science Society,\\npp. 97-101, 1992], a classification method which uses linear\\nprogramming to construct a decision tree.  Relevant features\\nwere selected using an exhaustive search in the space of 1-4\\nfeatures and 1-3 separating planes.\\n\\nThe actual linear program used to obtain the separating plane\\nin the 3-dimensional space is that described in:\\n[K. P. Bennett and O. L. Mangasarian: \"Robust Linear\\nProgramming Discrimination of Two Linearly Inseparable Sets\",\\nOptimization Methods and Software 1, 1992, 23-34].\\n\\nThis database is also available through the UW CS ftp server:\\n\\nftp ftp.cs.wisc.edu\\ncd math-prog/cpo-dataset/machine-learn/WDBC/\\n\\n.. topic:: References\\n\\n   - W.N. Street, W.H. Wolberg and O.L. Mangasarian. Nuclear feature extraction \\n     for breast tumor diagnosis. IS&T/SPIE 1993 International Symposium on \\n     Electronic Imaging: Science and Technology, volume 1905, pages 861-870,\\n     San Jose, CA, 1993.\\n   - O.L. Mangasarian, W.N. Street and W.H. Wolberg. Breast cancer diagnosis and \\n     prognosis via linear programming. Operations Research, 43(4), pages 570-577, \\n     July-August 1995.\\n   - W.H. Wolberg, W.N. Street, and O.L. Mangasarian. Machine learning techniques\\n     to diagnose breast cancer from fine-needle aspirates. Cancer Letters 77 (1994) \\n     163-171.'"
            ]
          },
          "execution_count": 108,
          "metadata": {},
          "output_type": "execute_result"
        }
      ],
      "source": [
        "# 데이터셋 설명 확인\n",
        "breast_cancer.DESCR"
      ]
    },
    {
      "cell_type": "markdown",
      "metadata": {
        "canvas": {
          "comments": [],
          "componentType": "CodeCell",
          "copiedOriginId": null,
          "headerColor": "none",
          "id": "f6a161ee-e90a-4b23-82d7-9fc0c6b9df56",
          "isComponent": false,
          "name": "",
          "parents": []
        },
        "id": "GYU6MBXP8OG_"
      },
      "source": [
        "### 📌 02_DataFrame 자료형 변환"
      ]
    },
    {
      "cell_type": "markdown",
      "metadata": {
        "canvas": {
          "comments": [],
          "componentType": "CodeCell",
          "copiedOriginId": null,
          "headerColor": "none",
          "id": "839d595f-77b0-4e1b-8077-9feb7ac98a7b",
          "isComponent": false,
          "name": "",
          "parents": []
        },
        "id": "G8k1rorr8OG_"
      },
      "source": [
        "- <u>pandas import</u>"
      ]
    },
    {
      "cell_type": "code",
      "execution_count": null,
      "metadata": {
        "canvas": {
          "comments": [],
          "componentType": "CodeCell",
          "copiedOriginId": null,
          "headerColor": "none",
          "id": "3ac103d1-cc75-405f-883f-6b845fe31ac5",
          "isComponent": false,
          "name": "",
          "parents": []
        },
        "id": "J8lYFLEh8OG_"
      },
      "outputs": [],
      "source": [
        "import pandas as pd"
      ]
    },
    {
      "cell_type": "markdown",
      "metadata": {
        "canvas": {
          "comments": [],
          "componentType": "CodeCell",
          "copiedOriginId": null,
          "headerColor": "none",
          "id": "d85f0302-be17-450a-8022-040926d27665",
          "isComponent": false,
          "name": "",
          "parents": []
        },
        "id": "JERsWg7c8OG_"
      },
      "source": [
        "- <u>DataFrame 자료형으로 변환</u>  \n",
        "    data : breast_cancer_data  \n",
        "    colums : feature_names"
      ]
    },
    {
      "cell_type": "code",
      "execution_count": null,
      "metadata": {
        "canvas": {
          "comments": [],
          "componentType": "CodeCell",
          "copiedOriginId": null,
          "headerColor": "none",
          "id": "67b9e749-b296-4a0d-abdd-8b72e04262b6",
          "isComponent": false,
          "name": "",
          "parents": []
        },
        "colab": {
          "base_uri": "https://localhost:8080/",
          "height": 502
        },
        "id": "2OUfNJ258OG_",
        "outputId": "ce212bc7-6193-4471-d5f1-237274de901b"
      },
      "outputs": [
        {
          "data": {
            "text/html": [
              "\n",
              "  <div id=\"df-8c0fc5e6-91dc-4073-b379-32d0861bb6cf\">\n",
              "    <div class=\"colab-df-container\">\n",
              "      <div>\n",
              "<style scoped>\n",
              "    .dataframe tbody tr th:only-of-type {\n",
              "        vertical-align: middle;\n",
              "    }\n",
              "\n",
              "    .dataframe tbody tr th {\n",
              "        vertical-align: top;\n",
              "    }\n",
              "\n",
              "    .dataframe thead th {\n",
              "        text-align: right;\n",
              "    }\n",
              "</style>\n",
              "<table border=\"1\" class=\"dataframe\">\n",
              "  <thead>\n",
              "    <tr style=\"text-align: right;\">\n",
              "      <th></th>\n",
              "      <th>mean radius</th>\n",
              "      <th>mean texture</th>\n",
              "      <th>mean perimeter</th>\n",
              "      <th>mean area</th>\n",
              "      <th>mean smoothness</th>\n",
              "      <th>mean compactness</th>\n",
              "      <th>mean concavity</th>\n",
              "      <th>mean concave points</th>\n",
              "      <th>mean symmetry</th>\n",
              "      <th>mean fractal dimension</th>\n",
              "      <th>...</th>\n",
              "      <th>worst radius</th>\n",
              "      <th>worst texture</th>\n",
              "      <th>worst perimeter</th>\n",
              "      <th>worst area</th>\n",
              "      <th>worst smoothness</th>\n",
              "      <th>worst compactness</th>\n",
              "      <th>worst concavity</th>\n",
              "      <th>worst concave points</th>\n",
              "      <th>worst symmetry</th>\n",
              "      <th>worst fractal dimension</th>\n",
              "    </tr>\n",
              "  </thead>\n",
              "  <tbody>\n",
              "    <tr>\n",
              "      <th>0</th>\n",
              "      <td>17.99</td>\n",
              "      <td>10.38</td>\n",
              "      <td>122.80</td>\n",
              "      <td>1001.0</td>\n",
              "      <td>0.11840</td>\n",
              "      <td>0.27760</td>\n",
              "      <td>0.30010</td>\n",
              "      <td>0.14710</td>\n",
              "      <td>0.2419</td>\n",
              "      <td>0.07871</td>\n",
              "      <td>...</td>\n",
              "      <td>25.380</td>\n",
              "      <td>17.33</td>\n",
              "      <td>184.60</td>\n",
              "      <td>2019.0</td>\n",
              "      <td>0.16220</td>\n",
              "      <td>0.66560</td>\n",
              "      <td>0.7119</td>\n",
              "      <td>0.2654</td>\n",
              "      <td>0.4601</td>\n",
              "      <td>0.11890</td>\n",
              "    </tr>\n",
              "    <tr>\n",
              "      <th>1</th>\n",
              "      <td>20.57</td>\n",
              "      <td>17.77</td>\n",
              "      <td>132.90</td>\n",
              "      <td>1326.0</td>\n",
              "      <td>0.08474</td>\n",
              "      <td>0.07864</td>\n",
              "      <td>0.08690</td>\n",
              "      <td>0.07017</td>\n",
              "      <td>0.1812</td>\n",
              "      <td>0.05667</td>\n",
              "      <td>...</td>\n",
              "      <td>24.990</td>\n",
              "      <td>23.41</td>\n",
              "      <td>158.80</td>\n",
              "      <td>1956.0</td>\n",
              "      <td>0.12380</td>\n",
              "      <td>0.18660</td>\n",
              "      <td>0.2416</td>\n",
              "      <td>0.1860</td>\n",
              "      <td>0.2750</td>\n",
              "      <td>0.08902</td>\n",
              "    </tr>\n",
              "    <tr>\n",
              "      <th>2</th>\n",
              "      <td>19.69</td>\n",
              "      <td>21.25</td>\n",
              "      <td>130.00</td>\n",
              "      <td>1203.0</td>\n",
              "      <td>0.10960</td>\n",
              "      <td>0.15990</td>\n",
              "      <td>0.19740</td>\n",
              "      <td>0.12790</td>\n",
              "      <td>0.2069</td>\n",
              "      <td>0.05999</td>\n",
              "      <td>...</td>\n",
              "      <td>23.570</td>\n",
              "      <td>25.53</td>\n",
              "      <td>152.50</td>\n",
              "      <td>1709.0</td>\n",
              "      <td>0.14440</td>\n",
              "      <td>0.42450</td>\n",
              "      <td>0.4504</td>\n",
              "      <td>0.2430</td>\n",
              "      <td>0.3613</td>\n",
              "      <td>0.08758</td>\n",
              "    </tr>\n",
              "    <tr>\n",
              "      <th>3</th>\n",
              "      <td>11.42</td>\n",
              "      <td>20.38</td>\n",
              "      <td>77.58</td>\n",
              "      <td>386.1</td>\n",
              "      <td>0.14250</td>\n",
              "      <td>0.28390</td>\n",
              "      <td>0.24140</td>\n",
              "      <td>0.10520</td>\n",
              "      <td>0.2597</td>\n",
              "      <td>0.09744</td>\n",
              "      <td>...</td>\n",
              "      <td>14.910</td>\n",
              "      <td>26.50</td>\n",
              "      <td>98.87</td>\n",
              "      <td>567.7</td>\n",
              "      <td>0.20980</td>\n",
              "      <td>0.86630</td>\n",
              "      <td>0.6869</td>\n",
              "      <td>0.2575</td>\n",
              "      <td>0.6638</td>\n",
              "      <td>0.17300</td>\n",
              "    </tr>\n",
              "    <tr>\n",
              "      <th>4</th>\n",
              "      <td>20.29</td>\n",
              "      <td>14.34</td>\n",
              "      <td>135.10</td>\n",
              "      <td>1297.0</td>\n",
              "      <td>0.10030</td>\n",
              "      <td>0.13280</td>\n",
              "      <td>0.19800</td>\n",
              "      <td>0.10430</td>\n",
              "      <td>0.1809</td>\n",
              "      <td>0.05883</td>\n",
              "      <td>...</td>\n",
              "      <td>22.540</td>\n",
              "      <td>16.67</td>\n",
              "      <td>152.20</td>\n",
              "      <td>1575.0</td>\n",
              "      <td>0.13740</td>\n",
              "      <td>0.20500</td>\n",
              "      <td>0.4000</td>\n",
              "      <td>0.1625</td>\n",
              "      <td>0.2364</td>\n",
              "      <td>0.07678</td>\n",
              "    </tr>\n",
              "    <tr>\n",
              "      <th>...</th>\n",
              "      <td>...</td>\n",
              "      <td>...</td>\n",
              "      <td>...</td>\n",
              "      <td>...</td>\n",
              "      <td>...</td>\n",
              "      <td>...</td>\n",
              "      <td>...</td>\n",
              "      <td>...</td>\n",
              "      <td>...</td>\n",
              "      <td>...</td>\n",
              "      <td>...</td>\n",
              "      <td>...</td>\n",
              "      <td>...</td>\n",
              "      <td>...</td>\n",
              "      <td>...</td>\n",
              "      <td>...</td>\n",
              "      <td>...</td>\n",
              "      <td>...</td>\n",
              "      <td>...</td>\n",
              "      <td>...</td>\n",
              "      <td>...</td>\n",
              "    </tr>\n",
              "    <tr>\n",
              "      <th>564</th>\n",
              "      <td>21.56</td>\n",
              "      <td>22.39</td>\n",
              "      <td>142.00</td>\n",
              "      <td>1479.0</td>\n",
              "      <td>0.11100</td>\n",
              "      <td>0.11590</td>\n",
              "      <td>0.24390</td>\n",
              "      <td>0.13890</td>\n",
              "      <td>0.1726</td>\n",
              "      <td>0.05623</td>\n",
              "      <td>...</td>\n",
              "      <td>25.450</td>\n",
              "      <td>26.40</td>\n",
              "      <td>166.10</td>\n",
              "      <td>2027.0</td>\n",
              "      <td>0.14100</td>\n",
              "      <td>0.21130</td>\n",
              "      <td>0.4107</td>\n",
              "      <td>0.2216</td>\n",
              "      <td>0.2060</td>\n",
              "      <td>0.07115</td>\n",
              "    </tr>\n",
              "    <tr>\n",
              "      <th>565</th>\n",
              "      <td>20.13</td>\n",
              "      <td>28.25</td>\n",
              "      <td>131.20</td>\n",
              "      <td>1261.0</td>\n",
              "      <td>0.09780</td>\n",
              "      <td>0.10340</td>\n",
              "      <td>0.14400</td>\n",
              "      <td>0.09791</td>\n",
              "      <td>0.1752</td>\n",
              "      <td>0.05533</td>\n",
              "      <td>...</td>\n",
              "      <td>23.690</td>\n",
              "      <td>38.25</td>\n",
              "      <td>155.00</td>\n",
              "      <td>1731.0</td>\n",
              "      <td>0.11660</td>\n",
              "      <td>0.19220</td>\n",
              "      <td>0.3215</td>\n",
              "      <td>0.1628</td>\n",
              "      <td>0.2572</td>\n",
              "      <td>0.06637</td>\n",
              "    </tr>\n",
              "    <tr>\n",
              "      <th>566</th>\n",
              "      <td>16.60</td>\n",
              "      <td>28.08</td>\n",
              "      <td>108.30</td>\n",
              "      <td>858.1</td>\n",
              "      <td>0.08455</td>\n",
              "      <td>0.10230</td>\n",
              "      <td>0.09251</td>\n",
              "      <td>0.05302</td>\n",
              "      <td>0.1590</td>\n",
              "      <td>0.05648</td>\n",
              "      <td>...</td>\n",
              "      <td>18.980</td>\n",
              "      <td>34.12</td>\n",
              "      <td>126.70</td>\n",
              "      <td>1124.0</td>\n",
              "      <td>0.11390</td>\n",
              "      <td>0.30940</td>\n",
              "      <td>0.3403</td>\n",
              "      <td>0.1418</td>\n",
              "      <td>0.2218</td>\n",
              "      <td>0.07820</td>\n",
              "    </tr>\n",
              "    <tr>\n",
              "      <th>567</th>\n",
              "      <td>20.60</td>\n",
              "      <td>29.33</td>\n",
              "      <td>140.10</td>\n",
              "      <td>1265.0</td>\n",
              "      <td>0.11780</td>\n",
              "      <td>0.27700</td>\n",
              "      <td>0.35140</td>\n",
              "      <td>0.15200</td>\n",
              "      <td>0.2397</td>\n",
              "      <td>0.07016</td>\n",
              "      <td>...</td>\n",
              "      <td>25.740</td>\n",
              "      <td>39.42</td>\n",
              "      <td>184.60</td>\n",
              "      <td>1821.0</td>\n",
              "      <td>0.16500</td>\n",
              "      <td>0.86810</td>\n",
              "      <td>0.9387</td>\n",
              "      <td>0.2650</td>\n",
              "      <td>0.4087</td>\n",
              "      <td>0.12400</td>\n",
              "    </tr>\n",
              "    <tr>\n",
              "      <th>568</th>\n",
              "      <td>7.76</td>\n",
              "      <td>24.54</td>\n",
              "      <td>47.92</td>\n",
              "      <td>181.0</td>\n",
              "      <td>0.05263</td>\n",
              "      <td>0.04362</td>\n",
              "      <td>0.00000</td>\n",
              "      <td>0.00000</td>\n",
              "      <td>0.1587</td>\n",
              "      <td>0.05884</td>\n",
              "      <td>...</td>\n",
              "      <td>9.456</td>\n",
              "      <td>30.37</td>\n",
              "      <td>59.16</td>\n",
              "      <td>268.6</td>\n",
              "      <td>0.08996</td>\n",
              "      <td>0.06444</td>\n",
              "      <td>0.0000</td>\n",
              "      <td>0.0000</td>\n",
              "      <td>0.2871</td>\n",
              "      <td>0.07039</td>\n",
              "    </tr>\n",
              "  </tbody>\n",
              "</table>\n",
              "<p>569 rows × 30 columns</p>\n",
              "</div>\n",
              "      <button class=\"colab-df-convert\" onclick=\"convertToInteractive('df-8c0fc5e6-91dc-4073-b379-32d0861bb6cf')\"\n",
              "              title=\"Convert this dataframe to an interactive table.\"\n",
              "              style=\"display:none;\">\n",
              "        \n",
              "  <svg xmlns=\"http://www.w3.org/2000/svg\" height=\"24px\"viewBox=\"0 0 24 24\"\n",
              "       width=\"24px\">\n",
              "    <path d=\"M0 0h24v24H0V0z\" fill=\"none\"/>\n",
              "    <path d=\"M18.56 5.44l.94 2.06.94-2.06 2.06-.94-2.06-.94-.94-2.06-.94 2.06-2.06.94zm-11 1L8.5 8.5l.94-2.06 2.06-.94-2.06-.94L8.5 2.5l-.94 2.06-2.06.94zm10 10l.94 2.06.94-2.06 2.06-.94-2.06-.94-.94-2.06-.94 2.06-2.06.94z\"/><path d=\"M17.41 7.96l-1.37-1.37c-.4-.4-.92-.59-1.43-.59-.52 0-1.04.2-1.43.59L10.3 9.45l-7.72 7.72c-.78.78-.78 2.05 0 2.83L4 21.41c.39.39.9.59 1.41.59.51 0 1.02-.2 1.41-.59l7.78-7.78 2.81-2.81c.8-.78.8-2.07 0-2.86zM5.41 20L4 18.59l7.72-7.72 1.47 1.35L5.41 20z\"/>\n",
              "  </svg>\n",
              "      </button>\n",
              "      \n",
              "  <style>\n",
              "    .colab-df-container {\n",
              "      display:flex;\n",
              "      flex-wrap:wrap;\n",
              "      gap: 12px;\n",
              "    }\n",
              "\n",
              "    .colab-df-convert {\n",
              "      background-color: #E8F0FE;\n",
              "      border: none;\n",
              "      border-radius: 50%;\n",
              "      cursor: pointer;\n",
              "      display: none;\n",
              "      fill: #1967D2;\n",
              "      height: 32px;\n",
              "      padding: 0 0 0 0;\n",
              "      width: 32px;\n",
              "    }\n",
              "\n",
              "    .colab-df-convert:hover {\n",
              "      background-color: #E2EBFA;\n",
              "      box-shadow: 0px 1px 2px rgba(60, 64, 67, 0.3), 0px 1px 3px 1px rgba(60, 64, 67, 0.15);\n",
              "      fill: #174EA6;\n",
              "    }\n",
              "\n",
              "    [theme=dark] .colab-df-convert {\n",
              "      background-color: #3B4455;\n",
              "      fill: #D2E3FC;\n",
              "    }\n",
              "\n",
              "    [theme=dark] .colab-df-convert:hover {\n",
              "      background-color: #434B5C;\n",
              "      box-shadow: 0px 1px 3px 1px rgba(0, 0, 0, 0.15);\n",
              "      filter: drop-shadow(0px 1px 2px rgba(0, 0, 0, 0.3));\n",
              "      fill: #FFFFFF;\n",
              "    }\n",
              "  </style>\n",
              "\n",
              "      <script>\n",
              "        const buttonEl =\n",
              "          document.querySelector('#df-8c0fc5e6-91dc-4073-b379-32d0861bb6cf button.colab-df-convert');\n",
              "        buttonEl.style.display =\n",
              "          google.colab.kernel.accessAllowed ? 'block' : 'none';\n",
              "\n",
              "        async function convertToInteractive(key) {\n",
              "          const element = document.querySelector('#df-8c0fc5e6-91dc-4073-b379-32d0861bb6cf');\n",
              "          const dataTable =\n",
              "            await google.colab.kernel.invokeFunction('convertToInteractive',\n",
              "                                                     [key], {});\n",
              "          if (!dataTable) return;\n",
              "\n",
              "          const docLinkHtml = 'Like what you see? Visit the ' +\n",
              "            '<a target=\"_blank\" href=https://colab.research.google.com/notebooks/data_table.ipynb>data table notebook</a>'\n",
              "            + ' to learn more about interactive tables.';\n",
              "          element.innerHTML = '';\n",
              "          dataTable['output_type'] = 'display_data';\n",
              "          await google.colab.output.renderOutput(dataTable, element);\n",
              "          const docLink = document.createElement('div');\n",
              "          docLink.innerHTML = docLinkHtml;\n",
              "          element.appendChild(docLink);\n",
              "        }\n",
              "      </script>\n",
              "    </div>\n",
              "  </div>\n",
              "  "
            ],
            "text/plain": [
              "     mean radius  mean texture  mean perimeter  mean area  mean smoothness  \\\n",
              "0          17.99         10.38          122.80     1001.0          0.11840   \n",
              "1          20.57         17.77          132.90     1326.0          0.08474   \n",
              "2          19.69         21.25          130.00     1203.0          0.10960   \n",
              "3          11.42         20.38           77.58      386.1          0.14250   \n",
              "4          20.29         14.34          135.10     1297.0          0.10030   \n",
              "..           ...           ...             ...        ...              ...   \n",
              "564        21.56         22.39          142.00     1479.0          0.11100   \n",
              "565        20.13         28.25          131.20     1261.0          0.09780   \n",
              "566        16.60         28.08          108.30      858.1          0.08455   \n",
              "567        20.60         29.33          140.10     1265.0          0.11780   \n",
              "568         7.76         24.54           47.92      181.0          0.05263   \n",
              "\n",
              "     mean compactness  mean concavity  mean concave points  mean symmetry  \\\n",
              "0             0.27760         0.30010              0.14710         0.2419   \n",
              "1             0.07864         0.08690              0.07017         0.1812   \n",
              "2             0.15990         0.19740              0.12790         0.2069   \n",
              "3             0.28390         0.24140              0.10520         0.2597   \n",
              "4             0.13280         0.19800              0.10430         0.1809   \n",
              "..                ...             ...                  ...            ...   \n",
              "564           0.11590         0.24390              0.13890         0.1726   \n",
              "565           0.10340         0.14400              0.09791         0.1752   \n",
              "566           0.10230         0.09251              0.05302         0.1590   \n",
              "567           0.27700         0.35140              0.15200         0.2397   \n",
              "568           0.04362         0.00000              0.00000         0.1587   \n",
              "\n",
              "     mean fractal dimension  ...  worst radius  worst texture  \\\n",
              "0                   0.07871  ...        25.380          17.33   \n",
              "1                   0.05667  ...        24.990          23.41   \n",
              "2                   0.05999  ...        23.570          25.53   \n",
              "3                   0.09744  ...        14.910          26.50   \n",
              "4                   0.05883  ...        22.540          16.67   \n",
              "..                      ...  ...           ...            ...   \n",
              "564                 0.05623  ...        25.450          26.40   \n",
              "565                 0.05533  ...        23.690          38.25   \n",
              "566                 0.05648  ...        18.980          34.12   \n",
              "567                 0.07016  ...        25.740          39.42   \n",
              "568                 0.05884  ...         9.456          30.37   \n",
              "\n",
              "     worst perimeter  worst area  worst smoothness  worst compactness  \\\n",
              "0             184.60      2019.0           0.16220            0.66560   \n",
              "1             158.80      1956.0           0.12380            0.18660   \n",
              "2             152.50      1709.0           0.14440            0.42450   \n",
              "3              98.87       567.7           0.20980            0.86630   \n",
              "4             152.20      1575.0           0.13740            0.20500   \n",
              "..               ...         ...               ...                ...   \n",
              "564           166.10      2027.0           0.14100            0.21130   \n",
              "565           155.00      1731.0           0.11660            0.19220   \n",
              "566           126.70      1124.0           0.11390            0.30940   \n",
              "567           184.60      1821.0           0.16500            0.86810   \n",
              "568            59.16       268.6           0.08996            0.06444   \n",
              "\n",
              "     worst concavity  worst concave points  worst symmetry  \\\n",
              "0             0.7119                0.2654          0.4601   \n",
              "1             0.2416                0.1860          0.2750   \n",
              "2             0.4504                0.2430          0.3613   \n",
              "3             0.6869                0.2575          0.6638   \n",
              "4             0.4000                0.1625          0.2364   \n",
              "..               ...                   ...             ...   \n",
              "564           0.4107                0.2216          0.2060   \n",
              "565           0.3215                0.1628          0.2572   \n",
              "566           0.3403                0.1418          0.2218   \n",
              "567           0.9387                0.2650          0.4087   \n",
              "568           0.0000                0.0000          0.2871   \n",
              "\n",
              "     worst fractal dimension  \n",
              "0                    0.11890  \n",
              "1                    0.08902  \n",
              "2                    0.08758  \n",
              "3                    0.17300  \n",
              "4                    0.07678  \n",
              "..                       ...  \n",
              "564                  0.07115  \n",
              "565                  0.06637  \n",
              "566                  0.07820  \n",
              "567                  0.12400  \n",
              "568                  0.07039  \n",
              "\n",
              "[569 rows x 30 columns]"
            ]
          },
          "execution_count": 167,
          "metadata": {},
          "output_type": "execute_result"
        }
      ],
      "source": [
        "breast_cancer_df = pd.DataFrame(data=breast_cancer_data, columns=breast_cancer.feature_names)\n",
        "breast_cancer_df"
      ]
    },
    {
      "cell_type": "markdown",
      "metadata": {
        "canvas": {
          "comments": [],
          "componentType": "CodeCell",
          "copiedOriginId": null,
          "headerColor": "none",
          "id": "c36b6205-dd2f-4aa8-bb92-027c11a38bda",
          "isComponent": false,
          "name": "",
          "parents": []
        },
        "id": "wCuNIxc_8OG_"
      },
      "source": [
        "- <u>Label data 추가</u>  \n",
        "    label(target) : 정답 데이터"
      ]
    },
    {
      "cell_type": "code",
      "execution_count": null,
      "metadata": {
        "canvas": {
          "comments": [],
          "componentType": "CodeCell",
          "copiedOriginId": null,
          "headerColor": "none",
          "id": "7fb81a32-28ec-4184-a210-ab11f9478a56",
          "isComponent": false,
          "name": "",
          "parents": []
        },
        "colab": {
          "base_uri": "https://localhost:8080/",
          "height": 502
        },
        "id": "RAMqLLat8OG_",
        "outputId": "a59807fb-6e07-4857-9b72-ff7d6d405c17"
      },
      "outputs": [
        {
          "data": {
            "text/html": [
              "\n",
              "  <div id=\"df-8bf04ed1-e381-4fb3-88a8-f549ad4a5581\">\n",
              "    <div class=\"colab-df-container\">\n",
              "      <div>\n",
              "<style scoped>\n",
              "    .dataframe tbody tr th:only-of-type {\n",
              "        vertical-align: middle;\n",
              "    }\n",
              "\n",
              "    .dataframe tbody tr th {\n",
              "        vertical-align: top;\n",
              "    }\n",
              "\n",
              "    .dataframe thead th {\n",
              "        text-align: right;\n",
              "    }\n",
              "</style>\n",
              "<table border=\"1\" class=\"dataframe\">\n",
              "  <thead>\n",
              "    <tr style=\"text-align: right;\">\n",
              "      <th></th>\n",
              "      <th>mean radius</th>\n",
              "      <th>mean texture</th>\n",
              "      <th>mean perimeter</th>\n",
              "      <th>mean area</th>\n",
              "      <th>mean smoothness</th>\n",
              "      <th>mean compactness</th>\n",
              "      <th>mean concavity</th>\n",
              "      <th>mean concave points</th>\n",
              "      <th>mean symmetry</th>\n",
              "      <th>mean fractal dimension</th>\n",
              "      <th>...</th>\n",
              "      <th>worst texture</th>\n",
              "      <th>worst perimeter</th>\n",
              "      <th>worst area</th>\n",
              "      <th>worst smoothness</th>\n",
              "      <th>worst compactness</th>\n",
              "      <th>worst concavity</th>\n",
              "      <th>worst concave points</th>\n",
              "      <th>worst symmetry</th>\n",
              "      <th>worst fractal dimension</th>\n",
              "      <th>label</th>\n",
              "    </tr>\n",
              "  </thead>\n",
              "  <tbody>\n",
              "    <tr>\n",
              "      <th>0</th>\n",
              "      <td>17.99</td>\n",
              "      <td>10.38</td>\n",
              "      <td>122.80</td>\n",
              "      <td>1001.0</td>\n",
              "      <td>0.11840</td>\n",
              "      <td>0.27760</td>\n",
              "      <td>0.30010</td>\n",
              "      <td>0.14710</td>\n",
              "      <td>0.2419</td>\n",
              "      <td>0.07871</td>\n",
              "      <td>...</td>\n",
              "      <td>17.33</td>\n",
              "      <td>184.60</td>\n",
              "      <td>2019.0</td>\n",
              "      <td>0.16220</td>\n",
              "      <td>0.66560</td>\n",
              "      <td>0.7119</td>\n",
              "      <td>0.2654</td>\n",
              "      <td>0.4601</td>\n",
              "      <td>0.11890</td>\n",
              "      <td>0</td>\n",
              "    </tr>\n",
              "    <tr>\n",
              "      <th>1</th>\n",
              "      <td>20.57</td>\n",
              "      <td>17.77</td>\n",
              "      <td>132.90</td>\n",
              "      <td>1326.0</td>\n",
              "      <td>0.08474</td>\n",
              "      <td>0.07864</td>\n",
              "      <td>0.08690</td>\n",
              "      <td>0.07017</td>\n",
              "      <td>0.1812</td>\n",
              "      <td>0.05667</td>\n",
              "      <td>...</td>\n",
              "      <td>23.41</td>\n",
              "      <td>158.80</td>\n",
              "      <td>1956.0</td>\n",
              "      <td>0.12380</td>\n",
              "      <td>0.18660</td>\n",
              "      <td>0.2416</td>\n",
              "      <td>0.1860</td>\n",
              "      <td>0.2750</td>\n",
              "      <td>0.08902</td>\n",
              "      <td>0</td>\n",
              "    </tr>\n",
              "    <tr>\n",
              "      <th>2</th>\n",
              "      <td>19.69</td>\n",
              "      <td>21.25</td>\n",
              "      <td>130.00</td>\n",
              "      <td>1203.0</td>\n",
              "      <td>0.10960</td>\n",
              "      <td>0.15990</td>\n",
              "      <td>0.19740</td>\n",
              "      <td>0.12790</td>\n",
              "      <td>0.2069</td>\n",
              "      <td>0.05999</td>\n",
              "      <td>...</td>\n",
              "      <td>25.53</td>\n",
              "      <td>152.50</td>\n",
              "      <td>1709.0</td>\n",
              "      <td>0.14440</td>\n",
              "      <td>0.42450</td>\n",
              "      <td>0.4504</td>\n",
              "      <td>0.2430</td>\n",
              "      <td>0.3613</td>\n",
              "      <td>0.08758</td>\n",
              "      <td>0</td>\n",
              "    </tr>\n",
              "    <tr>\n",
              "      <th>3</th>\n",
              "      <td>11.42</td>\n",
              "      <td>20.38</td>\n",
              "      <td>77.58</td>\n",
              "      <td>386.1</td>\n",
              "      <td>0.14250</td>\n",
              "      <td>0.28390</td>\n",
              "      <td>0.24140</td>\n",
              "      <td>0.10520</td>\n",
              "      <td>0.2597</td>\n",
              "      <td>0.09744</td>\n",
              "      <td>...</td>\n",
              "      <td>26.50</td>\n",
              "      <td>98.87</td>\n",
              "      <td>567.7</td>\n",
              "      <td>0.20980</td>\n",
              "      <td>0.86630</td>\n",
              "      <td>0.6869</td>\n",
              "      <td>0.2575</td>\n",
              "      <td>0.6638</td>\n",
              "      <td>0.17300</td>\n",
              "      <td>0</td>\n",
              "    </tr>\n",
              "    <tr>\n",
              "      <th>4</th>\n",
              "      <td>20.29</td>\n",
              "      <td>14.34</td>\n",
              "      <td>135.10</td>\n",
              "      <td>1297.0</td>\n",
              "      <td>0.10030</td>\n",
              "      <td>0.13280</td>\n",
              "      <td>0.19800</td>\n",
              "      <td>0.10430</td>\n",
              "      <td>0.1809</td>\n",
              "      <td>0.05883</td>\n",
              "      <td>...</td>\n",
              "      <td>16.67</td>\n",
              "      <td>152.20</td>\n",
              "      <td>1575.0</td>\n",
              "      <td>0.13740</td>\n",
              "      <td>0.20500</td>\n",
              "      <td>0.4000</td>\n",
              "      <td>0.1625</td>\n",
              "      <td>0.2364</td>\n",
              "      <td>0.07678</td>\n",
              "      <td>0</td>\n",
              "    </tr>\n",
              "    <tr>\n",
              "      <th>...</th>\n",
              "      <td>...</td>\n",
              "      <td>...</td>\n",
              "      <td>...</td>\n",
              "      <td>...</td>\n",
              "      <td>...</td>\n",
              "      <td>...</td>\n",
              "      <td>...</td>\n",
              "      <td>...</td>\n",
              "      <td>...</td>\n",
              "      <td>...</td>\n",
              "      <td>...</td>\n",
              "      <td>...</td>\n",
              "      <td>...</td>\n",
              "      <td>...</td>\n",
              "      <td>...</td>\n",
              "      <td>...</td>\n",
              "      <td>...</td>\n",
              "      <td>...</td>\n",
              "      <td>...</td>\n",
              "      <td>...</td>\n",
              "      <td>...</td>\n",
              "    </tr>\n",
              "    <tr>\n",
              "      <th>564</th>\n",
              "      <td>21.56</td>\n",
              "      <td>22.39</td>\n",
              "      <td>142.00</td>\n",
              "      <td>1479.0</td>\n",
              "      <td>0.11100</td>\n",
              "      <td>0.11590</td>\n",
              "      <td>0.24390</td>\n",
              "      <td>0.13890</td>\n",
              "      <td>0.1726</td>\n",
              "      <td>0.05623</td>\n",
              "      <td>...</td>\n",
              "      <td>26.40</td>\n",
              "      <td>166.10</td>\n",
              "      <td>2027.0</td>\n",
              "      <td>0.14100</td>\n",
              "      <td>0.21130</td>\n",
              "      <td>0.4107</td>\n",
              "      <td>0.2216</td>\n",
              "      <td>0.2060</td>\n",
              "      <td>0.07115</td>\n",
              "      <td>0</td>\n",
              "    </tr>\n",
              "    <tr>\n",
              "      <th>565</th>\n",
              "      <td>20.13</td>\n",
              "      <td>28.25</td>\n",
              "      <td>131.20</td>\n",
              "      <td>1261.0</td>\n",
              "      <td>0.09780</td>\n",
              "      <td>0.10340</td>\n",
              "      <td>0.14400</td>\n",
              "      <td>0.09791</td>\n",
              "      <td>0.1752</td>\n",
              "      <td>0.05533</td>\n",
              "      <td>...</td>\n",
              "      <td>38.25</td>\n",
              "      <td>155.00</td>\n",
              "      <td>1731.0</td>\n",
              "      <td>0.11660</td>\n",
              "      <td>0.19220</td>\n",
              "      <td>0.3215</td>\n",
              "      <td>0.1628</td>\n",
              "      <td>0.2572</td>\n",
              "      <td>0.06637</td>\n",
              "      <td>0</td>\n",
              "    </tr>\n",
              "    <tr>\n",
              "      <th>566</th>\n",
              "      <td>16.60</td>\n",
              "      <td>28.08</td>\n",
              "      <td>108.30</td>\n",
              "      <td>858.1</td>\n",
              "      <td>0.08455</td>\n",
              "      <td>0.10230</td>\n",
              "      <td>0.09251</td>\n",
              "      <td>0.05302</td>\n",
              "      <td>0.1590</td>\n",
              "      <td>0.05648</td>\n",
              "      <td>...</td>\n",
              "      <td>34.12</td>\n",
              "      <td>126.70</td>\n",
              "      <td>1124.0</td>\n",
              "      <td>0.11390</td>\n",
              "      <td>0.30940</td>\n",
              "      <td>0.3403</td>\n",
              "      <td>0.1418</td>\n",
              "      <td>0.2218</td>\n",
              "      <td>0.07820</td>\n",
              "      <td>0</td>\n",
              "    </tr>\n",
              "    <tr>\n",
              "      <th>567</th>\n",
              "      <td>20.60</td>\n",
              "      <td>29.33</td>\n",
              "      <td>140.10</td>\n",
              "      <td>1265.0</td>\n",
              "      <td>0.11780</td>\n",
              "      <td>0.27700</td>\n",
              "      <td>0.35140</td>\n",
              "      <td>0.15200</td>\n",
              "      <td>0.2397</td>\n",
              "      <td>0.07016</td>\n",
              "      <td>...</td>\n",
              "      <td>39.42</td>\n",
              "      <td>184.60</td>\n",
              "      <td>1821.0</td>\n",
              "      <td>0.16500</td>\n",
              "      <td>0.86810</td>\n",
              "      <td>0.9387</td>\n",
              "      <td>0.2650</td>\n",
              "      <td>0.4087</td>\n",
              "      <td>0.12400</td>\n",
              "      <td>0</td>\n",
              "    </tr>\n",
              "    <tr>\n",
              "      <th>568</th>\n",
              "      <td>7.76</td>\n",
              "      <td>24.54</td>\n",
              "      <td>47.92</td>\n",
              "      <td>181.0</td>\n",
              "      <td>0.05263</td>\n",
              "      <td>0.04362</td>\n",
              "      <td>0.00000</td>\n",
              "      <td>0.00000</td>\n",
              "      <td>0.1587</td>\n",
              "      <td>0.05884</td>\n",
              "      <td>...</td>\n",
              "      <td>30.37</td>\n",
              "      <td>59.16</td>\n",
              "      <td>268.6</td>\n",
              "      <td>0.08996</td>\n",
              "      <td>0.06444</td>\n",
              "      <td>0.0000</td>\n",
              "      <td>0.0000</td>\n",
              "      <td>0.2871</td>\n",
              "      <td>0.07039</td>\n",
              "      <td>1</td>\n",
              "    </tr>\n",
              "  </tbody>\n",
              "</table>\n",
              "<p>569 rows × 31 columns</p>\n",
              "</div>\n",
              "      <button class=\"colab-df-convert\" onclick=\"convertToInteractive('df-8bf04ed1-e381-4fb3-88a8-f549ad4a5581')\"\n",
              "              title=\"Convert this dataframe to an interactive table.\"\n",
              "              style=\"display:none;\">\n",
              "        \n",
              "  <svg xmlns=\"http://www.w3.org/2000/svg\" height=\"24px\"viewBox=\"0 0 24 24\"\n",
              "       width=\"24px\">\n",
              "    <path d=\"M0 0h24v24H0V0z\" fill=\"none\"/>\n",
              "    <path d=\"M18.56 5.44l.94 2.06.94-2.06 2.06-.94-2.06-.94-.94-2.06-.94 2.06-2.06.94zm-11 1L8.5 8.5l.94-2.06 2.06-.94-2.06-.94L8.5 2.5l-.94 2.06-2.06.94zm10 10l.94 2.06.94-2.06 2.06-.94-2.06-.94-.94-2.06-.94 2.06-2.06.94z\"/><path d=\"M17.41 7.96l-1.37-1.37c-.4-.4-.92-.59-1.43-.59-.52 0-1.04.2-1.43.59L10.3 9.45l-7.72 7.72c-.78.78-.78 2.05 0 2.83L4 21.41c.39.39.9.59 1.41.59.51 0 1.02-.2 1.41-.59l7.78-7.78 2.81-2.81c.8-.78.8-2.07 0-2.86zM5.41 20L4 18.59l7.72-7.72 1.47 1.35L5.41 20z\"/>\n",
              "  </svg>\n",
              "      </button>\n",
              "      \n",
              "  <style>\n",
              "    .colab-df-container {\n",
              "      display:flex;\n",
              "      flex-wrap:wrap;\n",
              "      gap: 12px;\n",
              "    }\n",
              "\n",
              "    .colab-df-convert {\n",
              "      background-color: #E8F0FE;\n",
              "      border: none;\n",
              "      border-radius: 50%;\n",
              "      cursor: pointer;\n",
              "      display: none;\n",
              "      fill: #1967D2;\n",
              "      height: 32px;\n",
              "      padding: 0 0 0 0;\n",
              "      width: 32px;\n",
              "    }\n",
              "\n",
              "    .colab-df-convert:hover {\n",
              "      background-color: #E2EBFA;\n",
              "      box-shadow: 0px 1px 2px rgba(60, 64, 67, 0.3), 0px 1px 3px 1px rgba(60, 64, 67, 0.15);\n",
              "      fill: #174EA6;\n",
              "    }\n",
              "\n",
              "    [theme=dark] .colab-df-convert {\n",
              "      background-color: #3B4455;\n",
              "      fill: #D2E3FC;\n",
              "    }\n",
              "\n",
              "    [theme=dark] .colab-df-convert:hover {\n",
              "      background-color: #434B5C;\n",
              "      box-shadow: 0px 1px 3px 1px rgba(0, 0, 0, 0.15);\n",
              "      filter: drop-shadow(0px 1px 2px rgba(0, 0, 0, 0.3));\n",
              "      fill: #FFFFFF;\n",
              "    }\n",
              "  </style>\n",
              "\n",
              "      <script>\n",
              "        const buttonEl =\n",
              "          document.querySelector('#df-8bf04ed1-e381-4fb3-88a8-f549ad4a5581 button.colab-df-convert');\n",
              "        buttonEl.style.display =\n",
              "          google.colab.kernel.accessAllowed ? 'block' : 'none';\n",
              "\n",
              "        async function convertToInteractive(key) {\n",
              "          const element = document.querySelector('#df-8bf04ed1-e381-4fb3-88a8-f549ad4a5581');\n",
              "          const dataTable =\n",
              "            await google.colab.kernel.invokeFunction('convertToInteractive',\n",
              "                                                     [key], {});\n",
              "          if (!dataTable) return;\n",
              "\n",
              "          const docLinkHtml = 'Like what you see? Visit the ' +\n",
              "            '<a target=\"_blank\" href=https://colab.research.google.com/notebooks/data_table.ipynb>data table notebook</a>'\n",
              "            + ' to learn more about interactive tables.';\n",
              "          element.innerHTML = '';\n",
              "          dataTable['output_type'] = 'display_data';\n",
              "          await google.colab.output.renderOutput(dataTable, element);\n",
              "          const docLink = document.createElement('div');\n",
              "          docLink.innerHTML = docLinkHtml;\n",
              "          element.appendChild(docLink);\n",
              "        }\n",
              "      </script>\n",
              "    </div>\n",
              "  </div>\n",
              "  "
            ],
            "text/plain": [
              "     mean radius  mean texture  mean perimeter  mean area  mean smoothness  \\\n",
              "0          17.99         10.38          122.80     1001.0          0.11840   \n",
              "1          20.57         17.77          132.90     1326.0          0.08474   \n",
              "2          19.69         21.25          130.00     1203.0          0.10960   \n",
              "3          11.42         20.38           77.58      386.1          0.14250   \n",
              "4          20.29         14.34          135.10     1297.0          0.10030   \n",
              "..           ...           ...             ...        ...              ...   \n",
              "564        21.56         22.39          142.00     1479.0          0.11100   \n",
              "565        20.13         28.25          131.20     1261.0          0.09780   \n",
              "566        16.60         28.08          108.30      858.1          0.08455   \n",
              "567        20.60         29.33          140.10     1265.0          0.11780   \n",
              "568         7.76         24.54           47.92      181.0          0.05263   \n",
              "\n",
              "     mean compactness  mean concavity  mean concave points  mean symmetry  \\\n",
              "0             0.27760         0.30010              0.14710         0.2419   \n",
              "1             0.07864         0.08690              0.07017         0.1812   \n",
              "2             0.15990         0.19740              0.12790         0.2069   \n",
              "3             0.28390         0.24140              0.10520         0.2597   \n",
              "4             0.13280         0.19800              0.10430         0.1809   \n",
              "..                ...             ...                  ...            ...   \n",
              "564           0.11590         0.24390              0.13890         0.1726   \n",
              "565           0.10340         0.14400              0.09791         0.1752   \n",
              "566           0.10230         0.09251              0.05302         0.1590   \n",
              "567           0.27700         0.35140              0.15200         0.2397   \n",
              "568           0.04362         0.00000              0.00000         0.1587   \n",
              "\n",
              "     mean fractal dimension  ...  worst texture  worst perimeter  worst area  \\\n",
              "0                   0.07871  ...          17.33           184.60      2019.0   \n",
              "1                   0.05667  ...          23.41           158.80      1956.0   \n",
              "2                   0.05999  ...          25.53           152.50      1709.0   \n",
              "3                   0.09744  ...          26.50            98.87       567.7   \n",
              "4                   0.05883  ...          16.67           152.20      1575.0   \n",
              "..                      ...  ...            ...              ...         ...   \n",
              "564                 0.05623  ...          26.40           166.10      2027.0   \n",
              "565                 0.05533  ...          38.25           155.00      1731.0   \n",
              "566                 0.05648  ...          34.12           126.70      1124.0   \n",
              "567                 0.07016  ...          39.42           184.60      1821.0   \n",
              "568                 0.05884  ...          30.37            59.16       268.6   \n",
              "\n",
              "     worst smoothness  worst compactness  worst concavity  \\\n",
              "0             0.16220            0.66560           0.7119   \n",
              "1             0.12380            0.18660           0.2416   \n",
              "2             0.14440            0.42450           0.4504   \n",
              "3             0.20980            0.86630           0.6869   \n",
              "4             0.13740            0.20500           0.4000   \n",
              "..                ...                ...              ...   \n",
              "564           0.14100            0.21130           0.4107   \n",
              "565           0.11660            0.19220           0.3215   \n",
              "566           0.11390            0.30940           0.3403   \n",
              "567           0.16500            0.86810           0.9387   \n",
              "568           0.08996            0.06444           0.0000   \n",
              "\n",
              "     worst concave points  worst symmetry  worst fractal dimension  label  \n",
              "0                  0.2654          0.4601                  0.11890      0  \n",
              "1                  0.1860          0.2750                  0.08902      0  \n",
              "2                  0.2430          0.3613                  0.08758      0  \n",
              "3                  0.2575          0.6638                  0.17300      0  \n",
              "4                  0.1625          0.2364                  0.07678      0  \n",
              "..                    ...             ...                      ...    ...  \n",
              "564                0.2216          0.2060                  0.07115      0  \n",
              "565                0.1628          0.2572                  0.06637      0  \n",
              "566                0.1418          0.2218                  0.07820      0  \n",
              "567                0.2650          0.4087                  0.12400      0  \n",
              "568                0.0000          0.2871                  0.07039      1  \n",
              "\n",
              "[569 rows x 31 columns]"
            ]
          },
          "execution_count": 168,
          "metadata": {},
          "output_type": "execute_result"
        }
      ],
      "source": [
        "breast_cancer_df[\"label\"] = breast_cancer.target\n",
        "breast_cancer_df"
      ]
    },
    {
      "cell_type": "markdown",
      "metadata": {
        "canvas": {
          "comments": [],
          "componentType": "CodeCell",
          "copiedOriginId": null,
          "headerColor": "none",
          "id": "de41e76e-35c3-4205-9ef3-aa3f8bb0c4fa",
          "isComponent": false,
          "name": "",
          "parents": []
        },
        "id": "h7RjRwuV8OG_"
      },
      "source": [
        "## 📑 **(4) train, test 데이터 분리**"
      ]
    },
    {
      "cell_type": "markdown",
      "metadata": {
        "canvas": {
          "comments": [],
          "componentType": "CodeCell",
          "copiedOriginId": null,
          "headerColor": "none",
          "id": "e20b9f9b-27cd-4087-a77e-e2e63d8e4a30",
          "isComponent": false,
          "name": "",
          "parents": []
        },
        "id": "kOukhCoK8OG_"
      },
      "source": [
        "- **모델 학습 및 테스트용 문제지와 정답지 생성**     \n",
        "    data: feature (문제)  \n",
        "    label: label (정답)  \n",
        "    test_size: 전체에서 테스트 데이터로 사용할 비율  \n",
        "    random_state : 데이터를 분리하는데 적용되는 랜덤성"
      ]
    },
    {
      "cell_type": "code",
      "execution_count": null,
      "metadata": {
        "canvas": {
          "comments": [],
          "componentType": "CodeCell",
          "copiedOriginId": null,
          "headerColor": "none",
          "id": "29e06b21-4e6f-4c2d-a9c6-75d146c2ea81",
          "isComponent": false,
          "name": "",
          "parents": []
        },
        "colab": {
          "base_uri": "https://localhost:8080/"
        },
        "id": "p6Yr-Zv68OG_",
        "outputId": "0d7dbd9e-3c73-423a-a980-d50ea423234e"
      },
      "outputs": [
        {
          "name": "stdout",
          "output_type": "stream",
          "text": [
            "X_train 개수:  398 , X_test 개수:  171\n"
          ]
        }
      ],
      "source": [
        "X_train, X_test, y_train, y_test = train_test_split(breast_cancer_data, breast_cancer_label, test_size=0.3, random_state=5)\n",
        "print('X_train 개수: ', len(X_train),', X_test 개수: ', len(X_test))"
      ]
    },
    {
      "cell_type": "code",
      "execution_count": null,
      "metadata": {
        "canvas": {
          "comments": [],
          "componentType": "CodeCell",
          "copiedOriginId": null,
          "headerColor": "none",
          "id": "9c214b4f-e016-41e1-8737-3e9d35fab5c7",
          "isComponent": false,
          "name": "",
          "parents": []
        },
        "colab": {
          "base_uri": "https://localhost:8080/"
        },
        "id": "5bK2W3eF8OHA",
        "outputId": "f76019ef-a21a-4b88-bb19-57a69d82b2f0"
      },
      "outputs": [
        {
          "data": {
            "text/plain": [
              "((398, 30), (398,))"
            ]
          },
          "execution_count": 156,
          "metadata": {},
          "output_type": "execute_result"
        }
      ],
      "source": [
        "X_train.shape, y_train.shape"
      ]
    },
    {
      "cell_type": "code",
      "execution_count": null,
      "metadata": {
        "canvas": {
          "comments": [],
          "componentType": "CodeCell",
          "copiedOriginId": null,
          "headerColor": "none",
          "id": "396af9bc-2f06-437e-a16d-8019860094b2",
          "isComponent": false,
          "name": "",
          "parents": []
        },
        "colab": {
          "base_uri": "https://localhost:8080/"
        },
        "id": "dZWk9M_m8OHA",
        "outputId": "0cdc2787-9b12-452e-d6bb-386fdc9bc772"
      },
      "outputs": [
        {
          "data": {
            "text/plain": [
              "((171, 30), (171,))"
            ]
          },
          "execution_count": 157,
          "metadata": {},
          "output_type": "execute_result"
        }
      ],
      "source": [
        "X_test.shape, y_test.shape"
      ]
    },
    {
      "cell_type": "code",
      "execution_count": null,
      "metadata": {
        "canvas": {
          "comments": [],
          "componentType": "CodeCell",
          "copiedOriginId": null,
          "headerColor": "none",
          "id": "d69dc6fa-f95f-4ec9-a076-b70d6e67d2ea",
          "isComponent": false,
          "name": "",
          "parents": []
        },
        "colab": {
          "base_uri": "https://localhost:8080/"
        },
        "id": "k1B-u6E38OHA",
        "outputId": "d086374c-45fe-47d5-d2c9-14b742c3ed21"
      },
      "outputs": [
        {
          "data": {
            "text/plain": [
              "(array([0, 1, 0, 1, 1, 1, 1, 1, 0, 1, 1, 1, 0, 1, 0, 1, 1, 1, 0, 1, 0, 1,\n",
              "        1, 0, 1, 1, 1, 0, 0, 0, 0, 1, 1, 1, 0, 1, 1, 0, 1, 1, 1, 1, 1, 1,\n",
              "        1, 1, 1, 1, 1, 1, 1, 1, 0, 0, 1, 1, 1, 0, 0, 1, 0, 1, 1, 1, 1, 1,\n",
              "        1, 0, 1, 0, 0, 1, 0, 1, 1, 0, 1, 0, 1, 1, 0, 1, 1, 1, 1, 1, 1, 0,\n",
              "        1, 0, 1, 0, 0, 1, 1, 1, 1, 0, 1, 1, 1, 1, 1, 0, 0, 1, 0, 1, 0, 0,\n",
              "        0, 1, 1, 0, 1, 0, 1, 1, 1, 1, 1, 1, 0, 1, 0, 0, 1, 1, 1, 1, 1, 1,\n",
              "        0, 0, 1, 1, 1, 0, 0, 0, 1, 1, 1, 0, 0, 1, 1, 1, 1, 0, 1, 0, 1, 1,\n",
              "        0, 1, 1, 1, 1, 0, 1, 0, 0, 1, 1, 1, 0, 1, 0, 0, 1, 1, 1, 1, 0, 1,\n",
              "        1, 1, 0, 0, 0, 0, 0, 1, 1, 1, 1, 1, 1, 1, 1, 1, 1, 1, 0, 1, 1, 1,\n",
              "        0, 1, 1, 0, 0, 1, 1, 1, 1, 1, 0, 1, 1, 1, 1, 1, 0, 1, 1, 0, 1, 0,\n",
              "        1, 0, 0, 1, 1, 0, 1, 0, 1, 0, 1, 1, 1, 0, 0, 0, 1, 0, 1, 1, 1, 1,\n",
              "        0, 0, 0, 1, 0, 1, 1, 0, 0, 0, 1, 1, 1, 1, 0, 0, 0, 1, 1, 1, 1, 0,\n",
              "        1, 0, 0, 0, 1, 0, 1, 0, 1, 0, 0, 1, 1, 1, 0, 1, 1, 1, 1, 0, 1, 0,\n",
              "        0, 0, 1, 0, 1, 0, 0, 1, 1, 0, 1, 0, 1, 1, 0, 0, 1, 1, 0, 1, 0, 1,\n",
              "        1, 1, 1, 0, 1, 1, 1, 1, 0, 1, 0, 1, 1, 1, 1, 0, 1, 1, 0, 0, 0, 0,\n",
              "        1, 0, 1, 1, 1, 1, 1, 1, 0, 1, 0, 0, 1, 1, 1, 0, 1, 0, 1, 0, 0, 0,\n",
              "        1, 0, 1, 1, 0, 1, 1, 0, 1, 0, 1, 0, 1, 0, 1, 1, 1, 1, 0, 1, 1, 0,\n",
              "        0, 0, 1, 1, 0, 0, 0, 1, 1, 0, 0, 0, 0, 1, 1, 1, 1, 1, 1, 0, 0, 0,\n",
              "        0, 1]),\n",
              " array([0, 1, 1, 1, 1, 0, 1, 1, 1, 1, 1, 1, 0, 1, 1, 1, 1, 1, 1, 1, 0, 1,\n",
              "        1, 1, 1, 1, 0, 0, 1, 0, 0, 0, 0, 0, 1, 1, 0, 1, 1, 0, 1, 1, 1, 0,\n",
              "        1, 1, 0, 0, 1, 0, 1, 1, 1, 1, 1, 0, 0, 0, 1, 0, 0, 0, 1, 1, 1, 1,\n",
              "        1, 1, 0, 0, 1, 0, 1, 1, 1, 1, 0, 1, 0, 0, 0, 1, 0, 0, 0, 1, 0, 1,\n",
              "        0, 0, 0, 0, 1, 1, 0, 0, 1, 1, 1, 1, 1, 0, 1, 1, 0, 0, 1, 0, 1, 0,\n",
              "        1, 0, 0, 0, 1, 1, 0, 1, 0, 1, 1, 1, 0, 1, 0, 1, 0, 1, 1, 0, 1, 1,\n",
              "        1, 1, 1, 0, 1, 1, 1, 1, 1, 1, 1, 0, 1, 1, 1, 0, 1, 1, 1, 0, 1, 1,\n",
              "        1, 0, 1, 1, 1, 1, 1, 1, 1, 1, 0, 0, 1, 1, 1, 1, 1]))"
            ]
          },
          "execution_count": 159,
          "metadata": {},
          "output_type": "execute_result"
        }
      ],
      "source": [
        "y_train, y_test"
      ]
    },
    {
      "cell_type": "markdown",
      "metadata": {
        "canvas": {
          "comments": [],
          "componentType": "CodeCell",
          "copiedOriginId": null,
          "headerColor": "none",
          "id": "19744baa-8a12-4313-8bbb-50f8c165de4d",
          "isComponent": false,
          "name": "",
          "parents": []
        },
        "id": "IbBdHpha8OHA"
      },
      "source": [
        "## 📑 **(5) 다양한 모델로 학습 및 평가**"
      ]
    },
    {
      "cell_type": "markdown",
      "metadata": {
        "canvas": {
          "comments": [],
          "componentType": "CodeCell",
          "copiedOriginId": null,
          "headerColor": "none",
          "id": "062f503f-0aaf-4b43-8a14-9862a5ed1133",
          "isComponent": false,
          "name": "",
          "parents": []
        },
        "id": "RgyrREkH8OHA"
      },
      "source": [
        "### 📌 **01_모듈 import**"
      ]
    },
    {
      "cell_type": "markdown",
      "metadata": {
        "canvas": {
          "comments": [],
          "componentType": "CodeCell",
          "copiedOriginId": null,
          "headerColor": "none",
          "id": "35c1f951-cd9e-4e10-9bf0-74c2830ea198",
          "isComponent": false,
          "name": "",
          "parents": []
        },
        "id": "OC3qATxG8OHA"
      },
      "source": [
        "- **패키지 import**   \n",
        "    정확도: metrics (accuracy_score)  \n",
        "    오차행렬: metrics (confusion_matrix)"
      ]
    },
    {
      "cell_type": "code",
      "execution_count": null,
      "metadata": {
        "canvas": {
          "comments": [],
          "componentType": "CodeCell",
          "copiedOriginId": null,
          "headerColor": "none",
          "id": "c374eacc-66ba-45de-895c-045648dd5f1b",
          "isComponent": false,
          "name": "",
          "parents": []
        },
        "id": "34TnRj_u8OHA"
      },
      "outputs": [],
      "source": [
        "from sklearn.metrics import accuracy_score\n",
        "from sklearn.metrics import confusion_matrix"
      ]
    },
    {
      "cell_type": "markdown",
      "metadata": {
        "canvas": {
          "comments": [],
          "componentType": "CodeCell",
          "copiedOriginId": null,
          "headerColor": "none",
          "id": "ff65036f-1ebf-459c-a093-5f0d264240e7",
          "isComponent": false,
          "name": "",
          "parents": []
        },
        "id": "K-9XOjt18OHA"
      },
      "source": [
        "### 📌 **02_학습 및 평가 : Decision Tree**"
      ]
    },
    {
      "cell_type": "code",
      "execution_count": null,
      "metadata": {
        "canvas": {
          "comments": [],
          "componentType": "CodeCell",
          "copiedOriginId": null,
          "headerColor": "none",
          "id": "bcf31210-e94a-4d76-aed3-8e8ef9194c96",
          "isComponent": false,
          "name": "",
          "parents": []
        },
        "colab": {
          "base_uri": "https://localhost:8080/"
        },
        "id": "DHHZf5Ns8OHA",
        "outputId": "f641ca63-36ff-455d-cb90-f265436baedd"
      },
      "outputs": [
        {
          "name": "stdout",
          "output_type": "stream",
          "text": [
            "              precision    recall  f1-score   support\n",
            "\n",
            "           0       0.88      0.92      0.90        61\n",
            "           1       0.95      0.93      0.94       110\n",
            "\n",
            "    accuracy                           0.92       171\n",
            "   macro avg       0.91      0.92      0.92       171\n",
            "weighted avg       0.93      0.92      0.92       171\n",
            "\n",
            "정확도 : 0.9239766081871345\n"
          ]
        }
      ],
      "source": [
        "from sklearn.tree import DecisionTreeClassifier\n",
        "\n",
        "decision_tree = DecisionTreeClassifier(random_state=5)\n",
        "decision_tree.fit(X_train, y_train)\n",
        "y_pred = decision_tree.predict(X_test)\n",
        "print(classification_report(y_test, y_pred))\n",
        "print('정확도 :', accuracy_score(y_test, y_pred))"
      ]
    },
    {
      "cell_type": "markdown",
      "metadata": {
        "canvas": {
          "comments": [],
          "componentType": "CodeCell",
          "copiedOriginId": null,
          "headerColor": "none",
          "id": "c0fe9156-e76a-40bf-96a6-611d4003d1e9",
          "isComponent": false,
          "name": "",
          "parents": []
        },
        "id": "CIPHefQi8OHA"
      },
      "source": [
        "### 📌 **03_학습 및 평가 : Random Forest**"
      ]
    },
    {
      "cell_type": "code",
      "execution_count": null,
      "metadata": {
        "canvas": {
          "comments": [],
          "componentType": "CodeCell",
          "copiedOriginId": null,
          "headerColor": "none",
          "id": "e5cb04ec-ca7e-4726-8b21-8a0d69b9dd21",
          "isComponent": false,
          "name": "",
          "parents": []
        },
        "colab": {
          "base_uri": "https://localhost:8080/"
        },
        "id": "PsKdWR2c8OHA",
        "outputId": "f402a16f-6701-402d-9ddc-326177d5951f"
      },
      "outputs": [
        {
          "name": "stdout",
          "output_type": "stream",
          "text": [
            "              precision    recall  f1-score   support\n",
            "\n",
            "           0       0.98      0.95      0.97        61\n",
            "           1       0.97      0.99      0.98       110\n",
            "\n",
            "    accuracy                           0.98       171\n",
            "   macro avg       0.98      0.97      0.97       171\n",
            "weighted avg       0.98      0.98      0.98       171\n",
            "\n",
            "정확도 : 0.9766081871345029\n"
          ]
        }
      ],
      "source": [
        "from sklearn.ensemble import RandomForestClassifier\n",
        "\n",
        "random_forest = RandomForestClassifier(random_state=5)\n",
        "random_forest.fit(X_train, y_train)\n",
        "y_pred = random_forest.predict(X_test)\n",
        "print(classification_report(y_test, y_pred))\n",
        "print('정확도 :', accuracy_score(y_test, y_pred))"
      ]
    },
    {
      "cell_type": "markdown",
      "metadata": {
        "canvas": {
          "comments": [],
          "componentType": "CodeCell",
          "copiedOriginId": null,
          "headerColor": "none",
          "id": "33ceb108-fad6-4720-aeb3-64e919976381",
          "isComponent": false,
          "name": "",
          "parents": []
        },
        "id": "WLb-BYac8OHB"
      },
      "source": [
        "### 📌 **04_학습 및 평가 : SVM**"
      ]
    },
    {
      "cell_type": "code",
      "execution_count": null,
      "metadata": {
        "canvas": {
          "comments": [],
          "componentType": "CodeCell",
          "copiedOriginId": null,
          "headerColor": "none",
          "id": "f5bcbab0-428e-4833-aba5-d569a790d8f9",
          "isComponent": false,
          "name": "",
          "parents": []
        },
        "colab": {
          "base_uri": "https://localhost:8080/"
        },
        "id": "8MRMBjV68OHB",
        "outputId": "69a42cf8-aac7-4046-d451-2f3292b88650"
      },
      "outputs": [
        {
          "name": "stdout",
          "output_type": "stream",
          "text": [
            "              precision    recall  f1-score   support\n",
            "\n",
            "           0       1.00      0.90      0.95        61\n",
            "           1       0.95      1.00      0.97       110\n",
            "\n",
            "    accuracy                           0.96       171\n",
            "   macro avg       0.97      0.95      0.96       171\n",
            "weighted avg       0.97      0.96      0.96       171\n",
            "\n",
            "정확도 : 0.9649122807017544\n"
          ]
        }
      ],
      "source": [
        "from sklearn import svm\n",
        "\n",
        "svm_model = svm.SVC()\n",
        "svm_model.fit(X_train, y_train)\n",
        "y_pred = svm_model.predict(X_test)\n",
        "print(classification_report(y_test, y_pred))\n",
        "print('정확도 :', accuracy_score(y_test, y_pred))"
      ]
    },
    {
      "cell_type": "markdown",
      "metadata": {
        "canvas": {
          "comments": [],
          "componentType": "CodeCell",
          "copiedOriginId": null,
          "headerColor": "none",
          "id": "031ee7b8-342b-435b-8d34-43dc80b29571",
          "isComponent": false,
          "name": "",
          "parents": []
        },
        "id": "6yRcVPUT8OHB"
      },
      "source": [
        "### 📌 **05_학습 및 평가 : SGD Classifier**"
      ]
    },
    {
      "cell_type": "code",
      "execution_count": null,
      "metadata": {
        "canvas": {
          "comments": [],
          "componentType": "CodeCell",
          "copiedOriginId": null,
          "headerColor": "none",
          "id": "c087d0f6-9758-44a2-8585-38cc0f44dc57",
          "isComponent": false,
          "name": "",
          "parents": []
        },
        "colab": {
          "base_uri": "https://localhost:8080/"
        },
        "id": "4VWScqNv8OHB",
        "outputId": "6211c126-597b-4aac-a6f9-5a98a084d7b1"
      },
      "outputs": [
        {
          "name": "stdout",
          "output_type": "stream",
          "text": [
            "              precision    recall  f1-score   support\n",
            "\n",
            "           0       0.64      0.98      0.77        61\n",
            "           1       0.99      0.69      0.81       110\n",
            "\n",
            "    accuracy                           0.80       171\n",
            "   macro avg       0.81      0.84      0.79       171\n",
            "weighted avg       0.86      0.80      0.80       171\n",
            "\n",
            "정확도 : 0.7953216374269005\n"
          ]
        }
      ],
      "source": [
        "from sklearn.linear_model import SGDClassifier\n",
        "\n",
        "sgd_model = SGDClassifier()\n",
        "sgd_model.fit(X_train, y_train)\n",
        "y_pred = sgd_model.predict(X_test)\n",
        "print(classification_report(y_test, y_pred))\n",
        "print('정확도 :', accuracy_score(y_test, y_pred))"
      ]
    },
    {
      "cell_type": "markdown",
      "metadata": {
        "canvas": {
          "comments": [],
          "componentType": "CodeCell",
          "copiedOriginId": null,
          "headerColor": "none",
          "id": "9eabf9c5-98ec-45cc-93b2-28d3576f63f2",
          "isComponent": false,
          "name": "",
          "parents": []
        },
        "id": "aUgQCzGw8OHB"
      },
      "source": [
        "### 📌 **06_학습 및 평가 : Logistic Regression**\n"
      ]
    },
    {
      "cell_type": "code",
      "execution_count": null,
      "metadata": {
        "canvas": {
          "comments": [],
          "componentType": "CodeCell",
          "copiedOriginId": null,
          "headerColor": "none",
          "id": "101d4dab-2e60-45cd-b432-88f686597a2c",
          "isComponent": false,
          "name": "",
          "parents": []
        },
        "colab": {
          "base_uri": "https://localhost:8080/"
        },
        "id": "YSUwrL4U8OHB",
        "outputId": "22cf0b77-8f47-465e-b0a4-cd886b8166e2"
      },
      "outputs": [
        {
          "name": "stdout",
          "output_type": "stream",
          "text": [
            "              precision    recall  f1-score   support\n",
            "\n",
            "           0       0.95      0.92      0.93        61\n",
            "           1       0.96      0.97      0.96       110\n",
            "\n",
            "    accuracy                           0.95       171\n",
            "   macro avg       0.95      0.95      0.95       171\n",
            "weighted avg       0.95      0.95      0.95       171\n",
            "\n",
            "정확도 : 0.9532163742690059\n"
          ]
        },
        {
          "name": "stderr",
          "output_type": "stream",
          "text": [
            "/usr/local/lib/python3.7/dist-packages/sklearn/linear_model/_logistic.py:818: ConvergenceWarning: lbfgs failed to converge (status=1):\n",
            "STOP: TOTAL NO. of ITERATIONS REACHED LIMIT.\n",
            "\n",
            "Increase the number of iterations (max_iter) or scale the data as shown in:\n",
            "    https://scikit-learn.org/stable/modules/preprocessing.html\n",
            "Please also refer to the documentation for alternative solver options:\n",
            "    https://scikit-learn.org/stable/modules/linear_model.html#logistic-regression\n",
            "  extra_warning_msg=_LOGISTIC_SOLVER_CONVERGENCE_MSG,\n"
          ]
        }
      ],
      "source": [
        "from sklearn.linear_model import LogisticRegression\n",
        "\n",
        "logistic_model = LogisticRegression()\n",
        "logistic_model.fit(X_train, y_train)\n",
        "y_pred = logistic_model.predict(X_test)\n",
        "print(classification_report(y_test, y_pred))\n",
        "print('정확도 :', accuracy_score(y_test, y_pred))"
      ]
    },
    {
      "cell_type": "markdown",
      "metadata": {
        "canvas": {
          "comments": [],
          "componentType": "CodeCell",
          "copiedOriginId": null,
          "headerColor": "none",
          "id": "a13b9249-5a7a-47fe-b500-0316d4525d03",
          "isComponent": false,
          "name": "",
          "parents": []
        },
        "id": "GEUVsLXV8OHB"
      },
      "source": [
        "### 📌 **07_최종 평가**"
      ]
    },
    {
      "cell_type": "markdown",
      "metadata": {
        "canvas": {
          "comments": [],
          "componentType": "CodeCell",
          "copiedOriginId": null,
          "headerColor": "none",
          "id": "ba63df51-c424-4520-85b1-bf63d208e999",
          "isComponent": false,
          "name": "",
          "parents": []
        },
        "id": "DQydqUdC8OHB"
      },
      "source": [
        "- **Decision Tree**\n",
        "```\n",
        "                precision   recall   f1-score   support\n",
        "    accuracy                           0.92       171\n",
        "   macro avg       0.91      0.92      0.92       171\n",
        "weighted avg     0.93      0.92      0.92       171\n",
        "```\n",
        "\n",
        "\n",
        "- **Random Forest**\n",
        "```\n",
        "                precision   recall   f1-score   support\n",
        "    accuracy                           0.98       171\n",
        "   macro avg       0.98      0.97      0.97       171\n",
        "weighted avg     0.98      0.98      0.98       171\n",
        "```\n",
        "\n",
        "\n",
        "- **SVM**\n",
        "```\n",
        "                precision   recall   f1-score   support\n",
        "    accuracy                           0.96       171\n",
        "   macro avg       0.97      0.95      0.96       171\n",
        "weighted avg     0.97      0.96      0.96       171\n",
        "```\n",
        "\n",
        "\n",
        "- **SGD Classifier**\n",
        "```\n",
        "                precision   recall   f1-score   support\n",
        "    accuracy                           0.80       171\n",
        "   macro avg       0.81      0.84      0.79       171\n",
        "weighted avg     0.86      0.80      0.80       171\n",
        "```\n",
        "\n",
        "\n",
        "- **Logistic Regression**\n",
        "```\n",
        "                precision   recall   f1-score   support\n",
        "    accuracy                           0.95       171\n",
        "   macro avg       0.95      0.95      0.95       171\n",
        "weighted avg     0.95      0.95      0.95       171\n",
        "```"
      ]
    },
    {
      "cell_type": "markdown",
      "metadata": {
        "canvas": {
          "comments": [],
          "componentType": "CodeCell",
          "copiedOriginId": null,
          "headerColor": "none",
          "id": "09c5ed27-8be5-47ed-aba4-39c5d389ed7e",
          "isComponent": false,
          "name": "",
          "parents": []
        },
        "id": "pCGnjBlO-KHN"
      },
      "source": [
        "## 📑 **(6) 결론**"
      ]
    },
    {
      "cell_type": "markdown",
      "metadata": {
        "canvas": {
          "comments": [],
          "componentType": "CodeCell",
          "copiedOriginId": null,
          "headerColor": "none",
          "id": "af57c537-2173-45dc-bbca-60229303ecda",
          "isComponent": false,
          "name": "",
          "parents": []
        },
        "id": "eip60F4B-KXe"
      },
      "source": [
        "동일한 데이터 조건으로 다양한 모델에 적용 시 SGD Classifier를 제외한 나머지 모델에서는 0.06 오차 범위 내 비슷한 성능을 보인다. SGD Classifier의 경우 앞선 두개의 프로젝트에서 사용한 데이터와 같게 클래스별 성능 차이가 있다. 유방암 양성 판별의 여부는 양성으로 판정되지 않는 경우가 발생하면 안되기 때문에 Recall을 평가 지표로 선택했다."
      ]
    },
    {
      "cell_type": "markdown",
      "metadata": {
        "canvas": {
          "comments": [],
          "componentType": "CodeCell",
          "copiedOriginId": null,
          "headerColor": "none",
          "id": "780c5796-2323-4b4c-a128-e8f12a8d55a6",
          "isComponent": false,
          "name": "",
          "parents": []
        },
        "id": "8bs6ZncMkyVH"
      },
      "source": [
        "<hr>"
      ]
    }
  ],
  "metadata": {
    "canvas": {
      "colorPalette": [
        "inherit",
        "inherit",
        "inherit",
        "inherit",
        "inherit",
        "inherit",
        "inherit",
        "inherit",
        "inherit",
        "inherit"
      ],
      "parameters": []
    },
    "colab": {
      "collapsed_sections": [
        "aYz8wlC8-OOU",
        "DJjDPIQw-qkh",
        "kV1ojewC-wmH",
        "1cBCO4vxvLxP",
        "dcjDn39Xqxvh",
        "pE8Rz1Qewqc4",
        "S_c1fojIw4Hn",
        "P9cA097txRBJ",
        "HOTUXh8dxJy6",
        "jjCWrI91EkEb",
        "bnEW7kH0HScP",
        "V_7KXpvj8Sea",
        "B6cxSCxI74A3",
        "I6iVrAuL74A4",
        "WQkgYLK574A4",
        "v5S6i35u74A4",
        "btj0rRgy74A5",
        "B-id95zZ74A5",
        "8BJQSFPZ74A6",
        "f7qAIfFP74A7",
        "a3gDiB6I74A7",
        "VQS2laFD74A8",
        "xLBF6HJm74A8",
        "xfBnHfhq74A8",
        "5vGCumY-74A8",
        "Rr8gfx9L74A8",
        "tnne0na774A8",
        "5Hz9LtBd9d_9",
        "vpuFFdcs8OG4",
        "2WT0xSGz8OG9",
        "bNzjZ1qp8OG9",
        "vFDbaOJn8OG-",
        "h7RjRwuV8OG_",
        "IbBdHpha8OHA",
        "RgyrREkH8OHA",
        "K-9XOjt18OHA",
        "CIPHefQi8OHA",
        "WLb-BYac8OHB",
        "6yRcVPUT8OHB",
        "aUgQCzGw8OHB",
        "GEUVsLXV8OHB",
        "pCGnjBlO-KHN",
        "6lFmMnS_LvU3",
        "E5a45GH8Mb0t",
        "wdLK6jH5b5vB",
        "d7J759JKg4Le",
        "2_n02NJ9p-9t",
        "dGzkyHjdpmYK",
        "YLtXj8XapqSR"
      ],
      "name": "[E-01]aiffel_exploration.ipynb",
      "provenance": [],
      "include_colab_link": true
    },
    "kernelspec": {
      "display_name": "Python 3.9 (Link)",
      "language": "python",
      "name": "python3"
    },
    "language_info": {
      "name": "python"
    }
  },
  "nbformat": 4,
  "nbformat_minor": 0
}