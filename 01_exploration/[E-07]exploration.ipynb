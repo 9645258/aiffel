{
  "cells": [
    {
      "cell_type": "markdown",
      "metadata": {
        "id": "view-in-github",
        "colab_type": "text"
      },
      "source": [
        "<a href=\"https://colab.research.google.com/github/9645258/aiffel/blob/main/01_exploration/%5BE-07%5Dexploration.ipynb\" target=\"_parent\"><img src=\"https://colab.research.google.com/assets/colab-badge.svg\" alt=\"Open In Colab\"/></a>"
      ]
    },
    {
      "cell_type": "markdown",
      "metadata": {
        "id": "QVkwoRLa97eu"
      },
      "source": [
        "# **🎄 EXPLORATION 07**"
      ]
    },
    {
      "cell_type": "markdown",
      "metadata": {
        "id": "n8OfTvCeDiqb"
      },
      "source": [
        "- **🌲 EXPLORATION 07-1 : 학습**  \n",
        "- **🌲 EXPLORATION 07-2 : 라이브러리 import**  \n",
        "- **🌲 EXPLORATION 07-3 : 추상적 요약**  \n",
        "    - **🌿 01_데이터 import**  \n",
        "    - **🌿 02_데이터 확인**\n",
        "    - **🌿 03_기본 전처리**  \n",
        "        - 03-1_중복 샘플 및 비어있는 값 제거  \n",
        "        - 03-2_텍스트 정규화  \n",
        "        - 03-3_불용어 제거  \n",
        "        - 03-4_데이터 전처리 함수  \n",
        "        - 03-5_전처리 결과 확인  \n",
        "        - 03-6_최종 정제 데이터 재저장 및 최종 확인  \n",
        "    - **🌿 04_길이 설정 및 시작 토큰, 종료 토큰 추가**  \n",
        "        - 04-1_길이 분포 출력  \n",
        "        - 04-2_길이 분포를 활용해 적절한 최대 길이 설정  \n",
        "        - 04-3_샘플 비율 확인  \n",
        "        - 04-4_전체 샘플 수 확인  \n",
        "        - 04-5_시작 토큰 및 종료 토큰 추가  \n",
        "        - 04-6_인코더(입력), 디코더(입력, 레이블) 저장  \n",
        "    - **🌿 05_평가 데이터셋 분리**  \n",
        "        - 05-1_정수 시퀀스 생성 및 순서 정의  \n",
        "        - 05-2_훈련 데이터와 테스트 데이터 분리  \n",
        "    - **🌿 06_단어 집합 생성 및 정수 인코딩**  \n",
        "        - 06-1_훈련 데이터 토크나이저  \n",
        "        - 06-2_훈련 데이터 단어 등장 빈도 확인  \n",
        "        - 06-3_훈련 데이터 단어 집합 크기 재설정  \n",
        "        - 06-4_headlines 데이터 토크나이저  \n",
        "        - 06-5_headlines 데이터 단어 등장 빈도 확인  \n",
        "        - 06-6_headlines 데이터 집합 크기 재설정  \n",
        "        - 06-7_패딩  \n",
        "    - **🌿 07_모델 설계**        \n",
        "        - 07-1_인코더 모델 설계  \n",
        "        - 07-2_디코더 모델 설계  \n",
        "        - 07-3_모델 정의  \n",
        "        - 07-4_모델 확인  \n",
        "        - 07-5_어텐션 메커니즘 함수 설계  \n",
        "        - 07-6_어텐션 메커니즘 함수 모델 정의  \n",
        "        - 07-7_어텐션 메커니즘 함수 모델 확인  \n",
        "    - **🌿 08_모델 훈련**  \n",
        "        - 08-1_모델 훈련  \n",
        "        - 08-2_모델 훈련 시각화  \n",
        "    - **🌿 09_인퍼런스 모델 구현**  \n",
        "        - 09-1_텍스트 데이터를 실제 데이터로 복원  \n",
        "        - 09-2_인퍼런스 모델 설계  \n",
        "        - 09-3_어텐션 메커니즘 출력층 설계  \n",
        "        - 09-4_인퍼런스 단계에서 단어 시퀀스를 완성하는 함수 제작  \n",
        "    - **🌿 10_모델 테스트**  \n",
        "        - 10-1_정수 시퀀스를 텍스트 시퀀스로 변환  \n",
        "        - 10-2_실제 요약 및 예측 요약 비교  \n",
        "    - **🌿 11_테스트 결과**  \n",
        "- **🌲 EXPLORATION 07-4 : 추출적 요약**  \n",
        "    - **🌿 01_데이터 import**  \n",
        "    - **🌿 02_데이터 요약**  \n",
        "    - **🌿 03_테스트 결과**  \n",
        "- **🌲 EXPLORATION 07-5 : 결론**  \n"
      ]
    },
    {
      "cell_type": "markdown",
      "metadata": {
        "id": "8PqLYACeDiqc"
      },
      "source": [
        "<hr>"
      ]
    },
    {
      "cell_type": "markdown",
      "metadata": {
        "id": "Doxa4rj7-MnH"
      },
      "source": [
        "# **🌲 EXPLORATION 07-1 : 학습**"
      ]
    },
    {
      "cell_type": "markdown",
      "metadata": {
        "id": "XeqoYOxP_i4u"
      },
      "source": [
        "- **텍스트 요약(Text Summarization)**  \n",
        "긴 길이의 문서 원문을 핵심 주제만으로 구성된 짧은 요약 문장들로 변환  \n",
        "요약 전후에 정보 손실 발생이 최소화되어야 함  \n",
        "    - **추출적 요약(Extractive Summarization)**  \n",
        "    원문에서 문장들을 추출해서 요약하는 방식   \n",
        "    문장 분류(Text Classification) 문제로 볼 수 있음  \n",
        "    - **추상적 요약(Abstractive Summarization)**  \n",
        "    원문으로부터 내용이 요약된 새로운 문장을 생성  \n",
        "    결과로 나온 문장이 원문에 원래 없던 문장일 수도 있음  \n",
        "    자연어 생성(Natural Language Generation, NLG)의 영역  \n",
        "- **RNN(Recurrent Neural Network)**  \n",
        "입력과 출력을 시퀀스 단위로 처리하는 시퀀스 모델  \n",
        "장기 의존성(long term dependencies) 문제  \n",
        "(학습 데이터의 길이가 길어질수록 먼 과거의 정보를 현재에 전달하기 어려움)  \n",
        "- **LSTM**  \n",
        "RNN 계열  \n",
        "다음 time step의 셀에 hidden state, cell state도 함께 전달  \n",
        "컨텍스트 벡터에 h(hidden state), c(cell state) 모두 존재  \n",
        "- **seq2seq(sequence-to-sequence)**  \n",
        "두 개의 RNN 아키텍처를 사용해 입력 시퀀스로부터 출력 시퀀스를 생성  \n",
        "    - **첫 번째 RNN (인코더)**  \n",
        "    입력 / 하나의 고정된 벡터로 변환 (컨텍스트 벡터)  \n",
        "    - **두 번째 RNN (디코더)**  \n",
        "    컨텍스트 벡터를 전달받아 한 단어씩 생성해내서 요약 문장을 완성  \n",
        "디코더의 현재 스텝 위치에 무관하게 한번 계산되면 고정값을 가짐    \n",
        "    - **시작 토큰 / 종료 토큰**  \n",
        "    시작 토큰 SOS 입력 시 종료 토큰 EOS를 예측하는 순간까지 계속 진행   \n",
        "    훈련 데이터의 예측 대상 시퀀스의 앞, 뒤에 시작 토큰과 종료 토큰 필요\n",
        "- **어텐션 메커니즘(Attention Mechanism)**  \n",
        "인코더의 모든 step의 hidden state의 정보가 컨텍스트 벡터에 전부 반영  \n",
        "디코더의 현재 time step의 예측에 인코더의 각 step이 얼마나 영향을 미치는지에 따른 가중합으로 계산  \n",
        "디코더의 현재 문장 생성 부위에 따라 인코더가 입력 컨텍스트 벡터의 값이 다름 (인코더 hidden state의 가중치 변화)\n",
        "\n",
        "\n",
        "\n"
      ]
    },
    {
      "cell_type": "markdown",
      "metadata": {
        "id": "juzKZ-dZ_Y98"
      },
      "source": [
        "<hr>"
      ]
    },
    {
      "cell_type": "markdown",
      "metadata": {
        "id": "68LBehz3-Bj0"
      },
      "source": [
        "# **🌲 EXPLORATION 07-2 : 라이브러리 import**"
      ]
    },
    {
      "cell_type": "markdown",
      "metadata": {
        "id": "CX2GpRyhDxYE"
      },
      "source": [
        "- **summa 설치**  "
      ]
    },
    {
      "cell_type": "code",
      "execution_count": null,
      "metadata": {
        "colab": {
          "base_uri": "https://localhost:8080/"
        },
        "id": "P2cqBJe6I7ee",
        "outputId": "cbdd0431-04bb-4c1e-a54a-20ef61cf385c"
      },
      "outputs": [
        {
          "name": "stdout",
          "output_type": "stream",
          "text": [
            "Requirement already satisfied: grep in /opt/conda/lib/python3.9/site-packages (0.3.2)\n",
            "Requirement already satisfied: summa in /opt/conda/lib/python3.9/site-packages (1.2.0)\n",
            "Requirement already satisfied: scipy>=0.19 in /opt/conda/lib/python3.9/site-packages (from summa) (1.7.1)\n",
            "Requirement already satisfied: numpy<1.23.0,>=1.16.5 in /opt/conda/lib/python3.9/site-packages (from scipy>=0.19->summa) (1.21.4)\n",
            "\u001b[33mWARNING: Running pip as the 'root' user can result in broken permissions and conflicting behaviour with the system package manager. It is recommended to use a virtual environment instead: https://pip.pypa.io/warnings/venv\u001b[0m\n",
            "Note: you may need to restart the kernel to use updated packages.\n"
          ]
        }
      ],
      "source": [
        "pip install grep summa"
      ]
    },
    {
      "cell_type": "markdown",
      "metadata": {
        "id": "4C7vKDp9Du3Z"
      },
      "source": [
        "- **NLTK 설치**  "
      ]
    },
    {
      "cell_type": "code",
      "execution_count": null,
      "metadata": {
        "colab": {
          "base_uri": "https://localhost:8080/"
        },
        "id": "7zBa2cn4cISn",
        "outputId": "30e1477b-3a3e-4d6e-adae-d92f22ef23ca"
      },
      "outputs": [
        {
          "name": "stdout",
          "output_type": "stream",
          "text": [
            "Requirement already satisfied: nltk in /opt/conda/lib/python3.9/site-packages (3.6.5)\n",
            "Requirement already satisfied: click in /opt/conda/lib/python3.9/site-packages (from nltk) (8.0.3)\n",
            "Requirement already satisfied: tqdm in /opt/conda/lib/python3.9/site-packages (from nltk) (4.62.3)\n",
            "Requirement already satisfied: regex>=2021.8.3 in /opt/conda/lib/python3.9/site-packages (from nltk) (2021.11.10)\n",
            "Requirement already satisfied: joblib in /opt/conda/lib/python3.9/site-packages (from nltk) (1.1.0)\n",
            "\u001b[33mWARNING: Running pip as the 'root' user can result in broken permissions and conflicting behaviour with the system package manager. It is recommended to use a virtual environment instead: https://pip.pypa.io/warnings/venv\u001b[0m\n",
            "Note: you may need to restart the kernel to use updated packages.\n"
          ]
        }
      ],
      "source": [
        "pip install nltk "
      ]
    },
    {
      "cell_type": "markdown",
      "metadata": {
        "id": "29Rq9HOiGaxR"
      },
      "source": [
        "- **lxml 설치**  "
      ]
    },
    {
      "cell_type": "code",
      "execution_count": null,
      "metadata": {
        "colab": {
          "base_uri": "https://localhost:8080/"
        },
        "id": "UaJGX7qzcISo",
        "outputId": "92c852d1-12f9-48aa-d7db-8892359f6598"
      },
      "outputs": [
        {
          "name": "stdout",
          "output_type": "stream",
          "text": [
            "Requirement already satisfied: lxml in /opt/conda/lib/python3.9/site-packages (4.6.3)\n",
            "\u001b[33mWARNING: Running pip as the 'root' user can result in broken permissions and conflicting behaviour with the system package manager. It is recommended to use a virtual environment instead: https://pip.pypa.io/warnings/venv\u001b[0m\n",
            "Note: you may need to restart the kernel to use updated packages.\n"
          ]
        }
      ],
      "source": [
        "pip install lxml"
      ]
    },
    {
      "cell_type": "markdown",
      "metadata": {
        "id": "N_TBZWyBEF0r"
      },
      "source": [
        "- **os** (운영체제 기능 사용)    \n",
        "- **re** (정규표현식 사용)    \n",
        "- **numpy** (수치 계산)    \n",
        "- **pandas** (행, 열 데이터 처리)  \n",
        "- **urllib / bs4** (웹 크롤링)  \n",
        "- **matplotlib** (시각화)   \n",
        "- **nltk** (자연어 처리)  \n",
        "- **tensorflow** (딥러닝 프로그램 구현)   \n",
        "- **summa** (텍스트 요약)  \n",
        "- **warnings** (경고 무시)  "
      ]
    },
    {
      "cell_type": "code",
      "execution_count": null,
      "metadata": {
        "colab": {
          "base_uri": "https://localhost:8080/"
        },
        "id": "ZDTrXYrY8Spl",
        "outputId": "eadc9c6a-306e-4f97-ba1a-579f916cb189"
      },
      "outputs": [
        {
          "name": "stderr",
          "output_type": "stream",
          "text": [
            "[nltk_data] Downloading package stopwords to /aiffel/nltk_data...\n",
            "[nltk_data]   Package stopwords is already up-to-date!\n"
          ]
        }
      ],
      "source": [
        "import os\n",
        "import re\n",
        "import numpy as np\n",
        "import pandas as pd\n",
        "import urllib.request\n",
        "from bs4 import BeautifulSoup \n",
        "import matplotlib.pyplot as plt\n",
        "from nltk.corpus import stopwords\n",
        "\n",
        "import tensorflow\n",
        "from tensorflow.keras.preprocessing.text import Tokenizer \n",
        "from tensorflow.keras.preprocessing.sequence import pad_sequences\n",
        "\n",
        "from tensorflow.keras.models import Model\n",
        "from tensorflow.keras.layers import AdditiveAttention\n",
        "from tensorflow.keras.callbacks import EarlyStopping, ModelCheckpoint\n",
        "from tensorflow.keras.layers import Input, LSTM, Embedding, Dense, Concatenate, TimeDistributed\n",
        "\n",
        "import requests\n",
        "from summa.summarizer import summarize\n",
        "\n",
        "import nltk\n",
        "nltk.download('stopwords')\n",
        "\n",
        "import warnings\n",
        "warnings.filterwarnings(\"ignore\", category=UserWarning, module='bs4')"
      ]
    },
    {
      "cell_type": "markdown",
      "metadata": {
        "id": "nG8IlyNuF6fh"
      },
      "source": [
        "<hr>"
      ]
    },
    {
      "cell_type": "markdown",
      "metadata": {
        "id": "YE2_kWKZ8wiC"
      },
      "source": [
        "# **🌲 EXPLORATION 07-3 : 추상적 요약**"
      ]
    },
    {
      "cell_type": "markdown",
      "metadata": {
        "id": "Uo5sNDE9Fw-4"
      },
      "source": [
        "## **🌿 01_데이터 import**"
      ]
    },
    {
      "cell_type": "markdown",
      "metadata": {
        "id": "49_8I2GA-swH"
      },
      "source": [
        "- **pandas를 활용한 데이터 import**  \n",
        "- **urllib.request.urlretrieve**  \n",
        "URL로 표시된 네트워크 객체를 로컬 파일로 복사  "
      ]
    },
    {
      "cell_type": "code",
      "execution_count": null,
      "metadata": {
        "id": "IQ7Yk2IB7eYy"
      },
      "outputs": [],
      "source": [
        "urllib.request.urlretrieve(\"https://raw.githubusercontent.com/sunnysai12345/News_Summary/master/news_summary_more.csv\", filename=\"news_summary_more.csv\")\n",
        "data = pd.read_csv('news_summary_more.csv', encoding='iso-8859-1')"
      ]
    },
    {
      "cell_type": "markdown",
      "metadata": {
        "id": "2g3PBieV-nAr"
      },
      "source": [
        "## **🌿 02_데이터 확인**"
      ]
    },
    {
      "cell_type": "markdown",
      "metadata": {
        "id": "lOr8kwSB8upt"
      },
      "source": [
        "- **데이터 샘플**  \n",
        "98,401개\n",
        "\n",
        "- **열**  \n",
        "기사 본문(text) / 요약 내용(headlines) - 2열   \n",
        "\n",
        "    - **추상적 요약**  \n",
        "    기사 본문(text) / 요약 내용(headlines) 모두 사용    \n",
        "    - **추출적 요약**  \n",
        "    기사 본문(text)만 사용  \n",
        "   "
      ]
    },
    {
      "cell_type": "markdown",
      "metadata": {
        "id": "p59lnstdCCAQ"
      },
      "source": [
        "- **head()**  \n",
        "데이터 전체의 상위 5개 부분 출력   "
      ]
    },
    {
      "cell_type": "code",
      "execution_count": null,
      "metadata": {
        "id": "6shKDMLhBwvo",
        "outputId": "f5462e7e-8fef-4544-8d0b-b67413f8bc67"
      },
      "outputs": [
        {
          "data": {
            "text/html": [
              "<div>\n",
              "<style scoped>\n",
              "    .dataframe tbody tr th:only-of-type {\n",
              "        vertical-align: middle;\n",
              "    }\n",
              "\n",
              "    .dataframe tbody tr th {\n",
              "        vertical-align: top;\n",
              "    }\n",
              "\n",
              "    .dataframe thead th {\n",
              "        text-align: right;\n",
              "    }\n",
              "</style>\n",
              "<table border=\"1\" class=\"dataframe\">\n",
              "  <thead>\n",
              "    <tr style=\"text-align: right;\">\n",
              "      <th></th>\n",
              "      <th>headlines</th>\n",
              "      <th>text</th>\n",
              "    </tr>\n",
              "  </thead>\n",
              "  <tbody>\n",
              "    <tr>\n",
              "      <th>0</th>\n",
              "      <td>upGrad learner switches to career in ML &amp; Al w...</td>\n",
              "      <td>Saurav Kant, an alumnus of upGrad and IIIT-B's...</td>\n",
              "    </tr>\n",
              "    <tr>\n",
              "      <th>1</th>\n",
              "      <td>Delhi techie wins free food from Swiggy for on...</td>\n",
              "      <td>Kunal Shah's credit card bill payment platform...</td>\n",
              "    </tr>\n",
              "    <tr>\n",
              "      <th>2</th>\n",
              "      <td>New Zealand end Rohit Sharma-led India's 12-ma...</td>\n",
              "      <td>New Zealand defeated India by 8 wickets in the...</td>\n",
              "    </tr>\n",
              "    <tr>\n",
              "      <th>3</th>\n",
              "      <td>Aegon life iTerm insurance plan helps customer...</td>\n",
              "      <td>With Aegon Life iTerm Insurance plan, customer...</td>\n",
              "    </tr>\n",
              "    <tr>\n",
              "      <th>4</th>\n",
              "      <td>Have known Hirani for yrs, what if MeToo claim...</td>\n",
              "      <td>Speaking about the sexual harassment allegatio...</td>\n",
              "    </tr>\n",
              "  </tbody>\n",
              "</table>\n",
              "</div>"
            ],
            "text/plain": [
              "                                           headlines  \\\n",
              "0  upGrad learner switches to career in ML & Al w...   \n",
              "1  Delhi techie wins free food from Swiggy for on...   \n",
              "2  New Zealand end Rohit Sharma-led India's 12-ma...   \n",
              "3  Aegon life iTerm insurance plan helps customer...   \n",
              "4  Have known Hirani for yrs, what if MeToo claim...   \n",
              "\n",
              "                                                text  \n",
              "0  Saurav Kant, an alumnus of upGrad and IIIT-B's...  \n",
              "1  Kunal Shah's credit card bill payment platform...  \n",
              "2  New Zealand defeated India by 8 wickets in the...  \n",
              "3  With Aegon Life iTerm Insurance plan, customer...  \n",
              "4  Speaking about the sexual harassment allegatio...  "
            ]
          },
          "execution_count": 6,
          "metadata": {},
          "output_type": "execute_result"
        }
      ],
      "source": [
        "data.head()"
      ]
    },
    {
      "cell_type": "markdown",
      "metadata": {
        "id": "W7BjPwDjCFLX"
      },
      "source": [
        "- **sample()**  \n",
        "데이터 내 해당 갯수 만큼 랜덤으로 샘플 출력  "
      ]
    },
    {
      "cell_type": "code",
      "execution_count": null,
      "metadata": {
        "id": "pSwLZ03J8k0K",
        "outputId": "04db7a02-6129-44f6-f33d-0b6c1b6a21d7"
      },
      "outputs": [
        {
          "data": {
            "text/html": [
              "<div>\n",
              "<style scoped>\n",
              "    .dataframe tbody tr th:only-of-type {\n",
              "        vertical-align: middle;\n",
              "    }\n",
              "\n",
              "    .dataframe tbody tr th {\n",
              "        vertical-align: top;\n",
              "    }\n",
              "\n",
              "    .dataframe thead th {\n",
              "        text-align: right;\n",
              "    }\n",
              "</style>\n",
              "<table border=\"1\" class=\"dataframe\">\n",
              "  <thead>\n",
              "    <tr style=\"text-align: right;\">\n",
              "      <th></th>\n",
              "      <th>headlines</th>\n",
              "      <th>text</th>\n",
              "    </tr>\n",
              "  </thead>\n",
              "  <tbody>\n",
              "    <tr>\n",
              "      <th>57440</th>\n",
              "      <td>Ex-USA Gymnastics doctor given 60 yrs for chil...</td>\n",
              "      <td>Larry Nassar, a former USA Gymnastics team doc...</td>\n",
              "    </tr>\n",
              "    <tr>\n",
              "      <th>56799</th>\n",
              "      <td>Elon Musk-backed payments startup launches bet...</td>\n",
              "      <td>Billionaire Elon Musk-backed digital payments ...</td>\n",
              "    </tr>\n",
              "    <tr>\n",
              "      <th>39566</th>\n",
              "      <td>Bengaluru policewoman breastfeeds abandoned ne...</td>\n",
              "      <td>After the Bengaluru Police rescued an abandone...</td>\n",
              "    </tr>\n",
              "    <tr>\n",
              "      <th>66395</th>\n",
              "      <td>SpaceX successfully launches 14th Falcon 9 roc...</td>\n",
              "      <td>Elon Musk-led space exploration startup SpaceX...</td>\n",
              "    </tr>\n",
              "    <tr>\n",
              "      <th>30000</th>\n",
              "      <td>Pakistan heatwave kills 65 people in 3 days: R...</td>\n",
              "      <td>An intense heatwave in Pakistan's Karachi has ...</td>\n",
              "    </tr>\n",
              "    <tr>\n",
              "      <th>57004</th>\n",
              "      <td>Real Madrid face PSG, Barcelona face Chelsea i...</td>\n",
              "      <td>Two-time defending champions Real Madrid will ...</td>\n",
              "    </tr>\n",
              "    <tr>\n",
              "      <th>43117</th>\n",
              "      <td>Bengaluru man books Ola to N Korea for Ã¢ÂÂ¹1...</td>\n",
              "      <td>A Bengaluru-based man last week booked an Ola ...</td>\n",
              "    </tr>\n",
              "    <tr>\n",
              "      <th>88201</th>\n",
              "      <td>Family of each martyred paramilitary jawan to ...</td>\n",
              "      <td>Home Minister Rajnath Singh has announced that...</td>\n",
              "    </tr>\n",
              "    <tr>\n",
              "      <th>60948</th>\n",
              "      <td>Under Nilekani's leadership, we can now sleep ...</td>\n",
              "      <td>Infosys Co-founder Narayana Murthy has said th...</td>\n",
              "    </tr>\n",
              "    <tr>\n",
              "      <th>49446</th>\n",
              "      <td>I slapped man who misbehaved with me when I wa...</td>\n",
              "      <td>Actress Deepika Padukone has revealed that she...</td>\n",
              "    </tr>\n",
              "  </tbody>\n",
              "</table>\n",
              "</div>"
            ],
            "text/plain": [
              "                                               headlines  \\\n",
              "57440  Ex-USA Gymnastics doctor given 60 yrs for chil...   \n",
              "56799  Elon Musk-backed payments startup launches bet...   \n",
              "39566  Bengaluru policewoman breastfeeds abandoned ne...   \n",
              "66395  SpaceX successfully launches 14th Falcon 9 roc...   \n",
              "30000  Pakistan heatwave kills 65 people in 3 days: R...   \n",
              "57004  Real Madrid face PSG, Barcelona face Chelsea i...   \n",
              "43117  Bengaluru man books Ola to N Korea for Ã¢ÂÂ¹1...   \n",
              "88201  Family of each martyred paramilitary jawan to ...   \n",
              "60948  Under Nilekani's leadership, we can now sleep ...   \n",
              "49446  I slapped man who misbehaved with me when I wa...   \n",
              "\n",
              "                                                    text  \n",
              "57440  Larry Nassar, a former USA Gymnastics team doc...  \n",
              "56799  Billionaire Elon Musk-backed digital payments ...  \n",
              "39566  After the Bengaluru Police rescued an abandone...  \n",
              "66395  Elon Musk-led space exploration startup SpaceX...  \n",
              "30000  An intense heatwave in Pakistan's Karachi has ...  \n",
              "57004  Two-time defending champions Real Madrid will ...  \n",
              "43117  A Bengaluru-based man last week booked an Ola ...  \n",
              "88201  Home Minister Rajnath Singh has announced that...  \n",
              "60948  Infosys Co-founder Narayana Murthy has said th...  \n",
              "49446  Actress Deepika Padukone has revealed that she...  "
            ]
          },
          "execution_count": 7,
          "metadata": {},
          "output_type": "execute_result"
        }
      ],
      "source": [
        "data.sample(10)"
      ]
    },
    {
      "cell_type": "markdown",
      "metadata": {
        "id": "3hGaKGTYCLsV"
      },
      "source": [
        "- **전체 샘플 수 확인**"
      ]
    },
    {
      "cell_type": "code",
      "execution_count": null,
      "metadata": {
        "id": "pEJKKNvTBFMC",
        "outputId": "10409d7a-b315-4a03-f9c0-738a6978690a"
      },
      "outputs": [
        {
          "name": "stdout",
          "output_type": "stream",
          "text": [
            "전체 샘플 수: 98401\n"
          ]
        }
      ],
      "source": [
        "print('전체 샘플 수:', (len(data)))"
      ]
    },
    {
      "cell_type": "markdown",
      "metadata": {
        "id": "HCDRR3nMEjWI"
      },
      "source": [
        "## **🌿 03_기본 전처리**"
      ]
    },
    {
      "cell_type": "markdown",
      "metadata": {
        "id": "ffFoRGzCEp_E"
      },
      "source": [
        "### **🍃 03-1_중복 샘플 및 비어있는 값 제거**"
      ]
    },
    {
      "cell_type": "markdown",
      "metadata": {
        "id": "QfQ2u2zhCmUK"
      },
      "source": [
        "- **drop_duplicates()**  \n",
        "중복 샘플 제거  "
      ]
    },
    {
      "cell_type": "code",
      "execution_count": null,
      "metadata": {
        "id": "X0AI6dcBCv_f",
        "outputId": "5ddeff14-dc41-43cb-abc8-795790675680"
      },
      "outputs": [
        {
          "name": "stdout",
          "output_type": "stream",
          "text": [
            "headlines열 유일 샘플 수: 98280\n",
            "text열 유일 샘플 수: 98360\n"
          ]
        }
      ],
      "source": [
        "headlines_unique = data.drop_duplicates(subset = ['headlines'])\n",
        "text_unique = data.drop_duplicates(subset = ['text'])\n",
        "\n",
        "print('headlines열 유일 샘플 수:', (len(headlines_unique)))\n",
        "print('text열 유일 샘플 수:', (len(text_unique)))"
      ]
    },
    {
      "cell_type": "markdown",
      "metadata": {
        "id": "j-iyB78aEKk4"
      },
      "source": [
        "- **isnull()**  \n",
        "Null 값 확인 (Null 값 없음)  "
      ]
    },
    {
      "cell_type": "code",
      "execution_count": null,
      "metadata": {
        "id": "RziLlmvwEHvG",
        "outputId": "bf14f2dc-ec2f-46d8-830b-2edefe8e3fa1"
      },
      "outputs": [
        {
          "name": "stdout",
          "output_type": "stream",
          "text": [
            "headlines    0\n",
            "text         0\n",
            "dtype: int64\n"
          ]
        }
      ],
      "source": [
        "print(data.isnull().sum())"
      ]
    },
    {
      "cell_type": "markdown",
      "metadata": {
        "id": "ia0lXtMRHEjK"
      },
      "source": [
        "- **dropna()**  \n",
        "데이터 프레임 내 Null 값 제거  "
      ]
    },
    {
      "cell_type": "code",
      "execution_count": null,
      "metadata": {
        "id": "mQkJTLhG_ofq",
        "outputId": "a20acf85-f6ee-4a92-b068-a998e9c64c6e"
      },
      "outputs": [
        {
          "name": "stdout",
          "output_type": "stream",
          "text": [
            "Null 값 제거 후 전체 샘플 수: 98401\n"
          ]
        }
      ],
      "source": [
        "data.dropna(axis=0, inplace=True)\n",
        "print('Null 값 제거 후 전체 샘플 수:', (len(data)))"
      ]
    },
    {
      "cell_type": "markdown",
      "metadata": {
        "id": "w3F3OdSCFAqv"
      },
      "source": [
        "### **🍃 03-2_텍스트 정규화**"
      ]
    },
    {
      "cell_type": "markdown",
      "metadata": {
        "id": "iJuGiYNLHM4C"
      },
      "source": [
        "- **텍스트 정규화를 위한 사전 구성** "
      ]
    },
    {
      "cell_type": "code",
      "execution_count": null,
      "metadata": {
        "id": "Jw04Nki1FJy8",
        "outputId": "cc4a91f0-d7cd-4b49-b77d-0fe8537b0611"
      },
      "outputs": [
        {
          "name": "stdout",
          "output_type": "stream",
          "text": [
            "정규화 사전 수:  120\n"
          ]
        }
      ],
      "source": [
        "contractions = {\"ain't\": \"is not\", \"aren't\": \"are not\",\"can't\": \"cannot\", \"'cause\": \"because\", \"could've\": \"could have\", \"couldn't\": \"could not\",\n",
        "                           \"didn't\": \"did not\",  \"doesn't\": \"does not\", \"don't\": \"do not\", \"hadn't\": \"had not\", \"hasn't\": \"has not\", \"haven't\": \"have not\",\n",
        "                           \"he'd\": \"he would\",\"he'll\": \"he will\", \"he's\": \"he is\", \"how'd\": \"how did\", \"how'd'y\": \"how do you\", \"how'll\": \"how will\", \"how's\": \"how is\",\n",
        "                           \"I'd\": \"I would\", \"I'd've\": \"I would have\", \"I'll\": \"I will\", \"I'll've\": \"I will have\",\"I'm\": \"I am\", \"I've\": \"I have\", \"i'd\": \"i would\",\n",
        "                           \"i'd've\": \"i would have\", \"i'll\": \"i will\",  \"i'll've\": \"i will have\",\"i'm\": \"i am\", \"i've\": \"i have\", \"isn't\": \"is not\", \"it'd\": \"it would\",\n",
        "                           \"it'd've\": \"it would have\", \"it'll\": \"it will\", \"it'll've\": \"it will have\",\"it's\": \"it is\", \"let's\": \"let us\", \"ma'am\": \"madam\",\n",
        "                           \"mayn't\": \"may not\", \"might've\": \"might have\",\"mightn't\": \"might not\",\"mightn't've\": \"might not have\", \"must've\": \"must have\",\n",
        "                           \"mustn't\": \"must not\", \"mustn't've\": \"must not have\", \"needn't\": \"need not\", \"needn't've\": \"need not have\",\"o'clock\": \"of the clock\",\n",
        "                           \"oughtn't\": \"ought not\", \"oughtn't've\": \"ought not have\", \"shan't\": \"shall not\", \"sha'n't\": \"shall not\", \"shan't've\": \"shall not have\",\n",
        "                           \"she'd\": \"she would\", \"she'd've\": \"she would have\", \"she'll\": \"she will\", \"she'll've\": \"she will have\", \"she's\": \"she is\",\n",
        "                           \"should've\": \"should have\", \"shouldn't\": \"should not\", \"shouldn't've\": \"should not have\", \"so've\": \"so have\",\"so's\": \"so as\",\n",
        "                           \"this's\": \"this is\",\"that'd\": \"that would\", \"that'd've\": \"that would have\", \"that's\": \"that is\", \"there'd\": \"there would\",\n",
        "                           \"there'd've\": \"there would have\", \"there's\": \"there is\", \"here's\": \"here is\",\"they'd\": \"they would\", \"they'd've\": \"they would have\",\n",
        "                           \"they'll\": \"they will\", \"they'll've\": \"they will have\", \"they're\": \"they are\", \"they've\": \"they have\", \"to've\": \"to have\",\n",
        "                           \"wasn't\": \"was not\", \"we'd\": \"we would\", \"we'd've\": \"we would have\", \"we'll\": \"we will\", \"we'll've\": \"we will have\", \"we're\": \"we are\",\n",
        "                           \"we've\": \"we have\", \"weren't\": \"were not\", \"what'll\": \"what will\", \"what'll've\": \"what will have\", \"what're\": \"what are\",\n",
        "                           \"what's\": \"what is\", \"what've\": \"what have\", \"when's\": \"when is\", \"when've\": \"when have\", \"where'd\": \"where did\", \"where's\": \"where is\",\n",
        "                           \"where've\": \"where have\", \"who'll\": \"who will\", \"who'll've\": \"who will have\", \"who's\": \"who is\", \"who've\": \"who have\",\n",
        "                           \"why's\": \"why is\", \"why've\": \"why have\", \"will've\": \"will have\", \"won't\": \"will not\", \"won't've\": \"will not have\",\n",
        "                           \"would've\": \"would have\", \"wouldn't\": \"would not\", \"wouldn't've\": \"would not have\", \"y'all\": \"you all\",\n",
        "                           \"y'all'd\": \"you all would\",\"y'all'd've\": \"you all would have\",\"y'all're\": \"you all are\",\"y'all've\": \"you all have\",\n",
        "                           \"you'd\": \"you would\", \"you'd've\": \"you would have\", \"you'll\": \"you will\", \"you'll've\": \"you will have\",\n",
        "                           \"you're\": \"you are\", \"you've\": \"you have\"}\n",
        "\n",
        "print(\"정규화 사전 수: \", len(contractions))"
      ]
    },
    {
      "cell_type": "markdown",
      "metadata": {
        "id": "uzceRQHCFOqL"
      },
      "source": [
        "### **🍃 03-3_불용어 제거**"
      ]
    },
    {
      "cell_type": "markdown",
      "metadata": {
        "id": "XLcK71T8AQW5"
      },
      "source": [
        "- **stopwords.words()**  \n",
        "NLTK 불용어 리스트로 불용어 제거\n"
      ]
    },
    {
      "cell_type": "code",
      "execution_count": null,
      "metadata": {
        "id": "GIN-o94NFVrI",
        "outputId": "2c7eba6b-1eaf-43cb-e0ff-aaac311033bf"
      },
      "outputs": [
        {
          "name": "stdout",
          "output_type": "stream",
          "text": [
            "불용어 수: 179\n",
            "['i', 'me', 'my', 'myself', 'we', 'our', 'ours', 'ourselves', 'you', \"you're\", \"you've\", \"you'll\", \"you'd\", 'your', 'yours', 'yourself', 'yourselves', 'he', 'him', 'his', 'himself', 'she', \"she's\", 'her', 'hers', 'herself', 'it', \"it's\", 'its', 'itself', 'they', 'them', 'their', 'theirs', 'themselves', 'what', 'which', 'who', 'whom', 'this', 'that', \"that'll\", 'these', 'those', 'am', 'is', 'are', 'was', 'were', 'be', 'been', 'being', 'have', 'has', 'had', 'having', 'do', 'does', 'did', 'doing', 'a', 'an', 'the', 'and', 'but', 'if', 'or', 'because', 'as', 'until', 'while', 'of', 'at', 'by', 'for', 'with', 'about', 'against', 'between', 'into', 'through', 'during', 'before', 'after', 'above', 'below', 'to', 'from', 'up', 'down', 'in', 'out', 'on', 'off', 'over', 'under', 'again', 'further', 'then', 'once', 'here', 'there', 'when', 'where', 'why', 'how', 'all', 'any', 'both', 'each', 'few', 'more', 'most', 'other', 'some', 'such', 'no', 'nor', 'not', 'only', 'own', 'same', 'so', 'than', 'too', 'very', 's', 't', 'can', 'will', 'just', 'don', \"don't\", 'should', \"should've\", 'now', 'd', 'll', 'm', 'o', 're', 've', 'y', 'ain', 'aren', \"aren't\", 'couldn', \"couldn't\", 'didn', \"didn't\", 'doesn', \"doesn't\", 'hadn', \"hadn't\", 'hasn', \"hasn't\", 'haven', \"haven't\", 'isn', \"isn't\", 'ma', 'mightn', \"mightn't\", 'mustn', \"mustn't\", 'needn', \"needn't\", 'shan', \"shan't\", 'shouldn', \"shouldn't\", 'wasn', \"wasn't\", 'weren', \"weren't\", 'won', \"won't\", 'wouldn', \"wouldn't\"]\n"
          ]
        }
      ],
      "source": [
        "print('불용어 수:', len(stopwords.words('english') ))\n",
        "print(stopwords.words('english'))"
      ]
    },
    {
      "cell_type": "markdown",
      "metadata": {
        "id": "XitZjCGOBk7h"
      },
      "source": [
        "### **🍃 03-4_데이터 전처리 함수**"
      ]
    },
    {
      "cell_type": "markdown",
      "metadata": {
        "id": "D1CkN-OmIrz2"
      },
      "source": [
        "- **자연스러운 문장을 위해 Summary는 불용어 미제거**  \n",
        "    - **lower()**  \n",
        "    소문자로 변경  \n",
        "    - **BeautifulSoup().text**  \n",
        "\n",
        "    - **re.sub()**  \n",
        "    정규표현식을 활용한 문자 치환  \n",
        "\n",
        "    - **.join()**  \n",
        "    배열의 원소를 문자열로 병합\n",
        "\n"
      ]
    },
    {
      "cell_type": "code",
      "execution_count": null,
      "metadata": {
        "id": "-JmmVAvvAZ8t"
      },
      "outputs": [],
      "source": [
        "def preprocess_sentence(sentence, remove_stopwords=True):\n",
        "\n",
        "    # 텍스트 소문자화\n",
        "    sentence = sentence.lower()\n",
        "\n",
        "    # <br />, <a href = ...> 등의 html 태그 제거\n",
        "    sentence = BeautifulSoup(sentence, \"lxml\").text\n",
        "\n",
        "    # 괄호로 닫힌 문자열 (...) 제거\n",
        "    sentence = re.sub(r'\\([^)]*\\)', '', sentence)\n",
        "\n",
        "    # 쌍따옴표 \" 제거\n",
        "    sentence = re.sub('\"','', sentence)\n",
        "\n",
        "    # 약어 정규화 \n",
        "    sentence = ' '.join([contractions[t] if t in contractions else t for t in sentence.split(\" \")])\n",
        "\n",
        "    # 소유격 제거\n",
        "    sentence = re.sub(r\"'s\\b\",\"\", sentence)\n",
        "\n",
        "    # 영어 외 문자(숫자, 특수문자 등) 공백으로 변환\n",
        "    sentence = re.sub(\"[^a-zA-Z]\", \" \", sentence)\n",
        "\n",
        "    # m이 3개 이상이면 2개로 변경\n",
        "    sentence = re.sub('[m]{2,}', 'mm', sentence)\n",
        "    \n",
        "\n",
        "    # Text: 불용어 제거\n",
        "    if remove_stopwords:\n",
        "        tokens = ' '.join(word for word in sentence.split() if not word in stopwords.words('english') if len(word) > 1)\n",
        "    \n",
        "    # Summary: 불용어 미제거\n",
        "    else:\n",
        "        tokens = ' '.join(word for word in sentence.split() if len(word) > 1)\n",
        "    return tokens"
      ]
    },
    {
      "cell_type": "markdown",
      "metadata": {
        "id": "q1_6I_1LBw57"
      },
      "source": [
        "### **🍃 03-5_전처리 결과 확인**"
      ]
    },
    {
      "cell_type": "markdown",
      "metadata": {
        "id": "lLpDRupGILxn"
      },
      "source": [
        "- **text 전처리 결과 확인**  \n",
        "    - **.append()**  \n",
        "    요소 추가  "
      ]
    },
    {
      "cell_type": "code",
      "execution_count": null,
      "metadata": {
        "id": "aRUOesuxAq5o",
        "outputId": "4f9bba2a-07d9-4638-d110-50af881551aa"
      },
      "outputs": [
        {
          "name": "stdout",
          "output_type": "stream",
          "text": [
            "text 전처리 후 결과:  ['saurav kant alumnus upgrad iiit pg program machine learning artificial intelligence sr systems engineer infosys almost years work experience program upgrad degree career support helped transition data scientist tech mahindra salary hike upgrad online power learning powered lakh careers', 'kunal shah credit card bill payment platform cred gave users chance win free food swiggy one year pranav kaushik delhi techie bagged reward spending cred coins users get one cred coin per rupee bill paid used avail rewards brands like ixigo bookmyshow ubereats cult fit', 'new zealand defeated india wickets fourth odi hamilton thursday win first match five match odi series india lost international match rohit sharma captaincy consecutive victories dating back march match witnessed india getting seventh lowest total odi cricket history', 'aegon life iterm insurance plan customers enjoy tax benefits premiums paid save taxes plan provides life cover age years also customers options insure critical illnesses disability accidental death benefit rider life cover age years', 'speaking sexual harassment allegations rajkumar hirani sonam kapoor said known hirani many years true metoo movement get derailed metoo movement always believe woman case need reserve judgment added hirani accused assistant worked sanju', 'pakistani singer rahat fateh ali khan denied receiving notice enforcement directorate allegedly smuggling foreign currency india would better authorities would served notice first publicised reads press release issued behalf rahat statement called allegation bizarre', 'india recorded lowest odi total new zealand getting runs overs fourth odi hamilton thursday seven india batsmen dismissed single digit scores number ten batsman yuzvendra chahal top scored india previous lowest odi total new zealand', 'weeks ex cbi director alok verma told department personnel training consider retired home ministry asked join work last day fixed tenure director thursday ministry directed immediately join dg fire services post transferred removal cbi chief', 'andhra pradesh cm chandrababu naidu said met us president bill clinton addressed mr clinton sir modi junior politics addressed sir times satisfy ego hope justice state added', 'congress candidate shafia zubair ramgarh assembly seat rajasthan defeating bjp sukhwant singh margin votes bypoll victory congress taken total seats member assembly election ramgarh seat delayed due death sitting mla bsp candidate laxman singh']\n"
          ]
        }
      ],
      "source": [
        "clean_text = []\n",
        "for s in data['text']:\n",
        "    clean_text.append(preprocess_sentence(s))\n",
        "\n",
        "print(\"text 전처리 후 결과: \", clean_text[:10])"
      ]
    },
    {
      "cell_type": "markdown",
      "metadata": {
        "id": "7Lx_zp37IGRC"
      },
      "source": [
        "- **headlines 전처리 결과 확인**\n",
        "    - **.append()**  \n",
        "    요소 추가  \n",
        "\n"
      ]
    },
    {
      "cell_type": "code",
      "execution_count": null,
      "metadata": {
        "id": "1YNLe5QgDmyd",
        "outputId": "27199475-3623-4b48-f65c-e876cd68c216"
      },
      "outputs": [
        {
          "name": "stdout",
          "output_type": "stream",
          "text": [
            "headlines 전처리 후 결과:  ['upgrad learner switches to career in ml al with salary hike', 'delhi techie wins free food from swiggy for one year on cred', 'new zealand end rohit sharma led india match winning streak', 'aegon life iterm insurance plan helps customers save tax', 'have known hirani for yrs what if metoo claims are not true sonam', 'rahat fateh ali khan denies getting notice for smuggling currency', 'india get all out for their lowest odi total in new zealand', 'govt directs alok verma to join work day before his retirement', 'called pm modi sir times to satisfy his ego andhra cm', 'cong wins ramgarh bypoll in rajasthan takes total to seats']\n"
          ]
        }
      ],
      "source": [
        "clean_headlines = []\n",
        "\n",
        "for s in data['headlines']:\n",
        "    clean_headlines.append(preprocess_sentence(s, False))\n",
        "\n",
        "print(\"headlines 전처리 후 결과: \", clean_headlines[:10])"
      ]
    },
    {
      "cell_type": "markdown",
      "metadata": {
        "id": "lbhJyLvBB3Jf"
      },
      "source": [
        "### **🍃 03-6_최종 정제 데이터 재저장 및 최종 확인**"
      ]
    },
    {
      "cell_type": "markdown",
      "metadata": {
        "id": "qjGjzfieNCpw"
      },
      "source": [
        "- **텍스트 정제 후 데이터프레임에 데이터 재저장**  "
      ]
    },
    {
      "cell_type": "code",
      "execution_count": null,
      "metadata": {
        "id": "ZrqbWy9QExXp"
      },
      "outputs": [],
      "source": [
        "data['text'] = clean_text\n",
        "data['headlines'] = clean_headlines"
      ]
    },
    {
      "cell_type": "markdown",
      "metadata": {
        "id": "75310Ww5NaLC"
      },
      "source": [
        "- **빈 값 존재 시 Null 값으로 대체**  \n",
        "    - **replace(찾을 값, 바꿀 값, 바꿀 횟수)**   \n",
        "    문자열 변환  \n",
        "\n"
      ]
    },
    {
      "cell_type": "code",
      "execution_count": null,
      "metadata": {
        "id": "9ZFGHg6ncISw"
      },
      "outputs": [],
      "source": [
        "data.replace('', np.nan, inplace=True)"
      ]
    },
    {
      "cell_type": "markdown",
      "metadata": {
        "id": "HRlfKEYFOZsp"
      },
      "source": [
        "- **isnull()**  \n",
        "Null 값 확인 (Null 값 없음)  "
      ]
    },
    {
      "cell_type": "code",
      "execution_count": null,
      "metadata": {
        "id": "UV4zkp_YGmwP",
        "outputId": "6c0d8482-1d18-4416-b6c6-067eadda6f17"
      },
      "outputs": [
        {
          "data": {
            "text/plain": [
              "headlines    0\n",
              "text         0\n",
              "dtype: int64"
            ]
          },
          "execution_count": 19,
          "metadata": {},
          "output_type": "execute_result"
        }
      ],
      "source": [
        "data.isnull().sum()"
      ]
    },
    {
      "cell_type": "markdown",
      "metadata": {
        "id": "WXzgLOrmOe20"
      },
      "source": [
        "- **dropna()**  \n",
        "데이터 프레임 내 Null 값 제거  "
      ]
    },
    {
      "cell_type": "code",
      "execution_count": null,
      "metadata": {
        "id": "m267WeTFGrAU",
        "outputId": "e1da8bbb-b933-458c-ea1b-7e0de1ad871d"
      },
      "outputs": [
        {
          "name": "stdout",
          "output_type": "stream",
          "text": [
            "전처리 후 전체 샘플 수: 98401\n"
          ]
        }
      ],
      "source": [
        "data.dropna(axis=0, inplace=True)\n",
        "print('전처리 후 전체 샘플 수:', (len(data)))"
      ]
    },
    {
      "cell_type": "markdown",
      "metadata": {
        "id": "kcrvYhBfG0Gd"
      },
      "source": [
        "## **🌿 04_길이 설정 및 시작 토큰, 종료 토큰 추가**"
      ]
    },
    {
      "cell_type": "markdown",
      "metadata": {
        "id": "_iAhFwN-IbyL"
      },
      "source": [
        "### **🍃 04-1_길이 분포 출력**"
      ]
    },
    {
      "cell_type": "markdown",
      "metadata": {
        "id": "nWZim2pLJRa_"
      },
      "source": [
        "- **텍스트, 요약의 각 길이 분포 출력 및 시각화**  "
      ]
    },
    {
      "cell_type": "code",
      "execution_count": null,
      "metadata": {
        "id": "AEOspiEqKunx",
        "outputId": "374c2239-68b6-4d84-d183-e42161cdcd88"
      },
      "outputs": [
        {
          "name": "stdout",
          "output_type": "stream",
          "text": [
            "텍스트 최소 길이: 1\n",
            "텍스트 최대 길이: 60\n",
            "텍스트 평균 길이: 35.09983638377659\n",
            "요약 최소 길이: 1\n",
            "요약 최대 길이: 16\n",
            "요약 평균 길이: 9.299651426306644\n"
          ]
        },
        {
          "data": {
            "image/png": "[encoded data removed]",
            "text/plain": [
              "<Figure size 432x288 with 2 Axes>"
            ]
          },
          "metadata": {
            "needs_background": "light"
          },
          "output_type": "display_data"
        },
        {
          "data": {
            "image/png": "[encoded data removed]",
            "text/plain": [
              "<Figure size 432x288 with 1 Axes>"
            ]
          },
          "metadata": {
            "needs_background": "light"
          },
          "output_type": "display_data"
        },
        {
          "data": {
            "image/png": "[encoded data removed]",
            "text/plain": [
              "<Figure size 432x288 with 1 Axes>"
            ]
          },
          "metadata": {
            "needs_background": "light"
          },
          "output_type": "display_data"
        }
      ],
      "source": [
        "text_len = [len(s.split()) for s in data['text']]\n",
        "headlines_len = [len(s.split()) for s in data['headlines']]\n",
        "\n",
        "print('텍스트 최소 길이: {}'.format(np.min(text_len)))\n",
        "print('텍스트 최대 길이: {}'.format(np.max(text_len)))\n",
        "print('텍스트 평균 길이: {}'.format(np.mean(text_len)))\n",
        "print('요약 최소 길이: {}'.format(np.min(headlines_len)))\n",
        "print('요약 최대 길이: {}'.format(np.max(headlines_len)))\n",
        "print('요약 평균 길이: {}'.format(np.mean(headlines_len)))\n",
        "\n",
        "plt.subplot(1,2,1)\n",
        "plt.boxplot(text_len)\n",
        "plt.title('text')\n",
        "plt.subplot(1,2,2)\n",
        "plt.boxplot(headlines_len)\n",
        "plt.title('headlines')\n",
        "plt.tight_layout()\n",
        "plt.show()\n",
        "\n",
        "plt.title('text')\n",
        "plt.hist(text_len, bins = 40)\n",
        "plt.xlabel('length of samples')\n",
        "plt.ylabel('number of samples')\n",
        "plt.show()\n",
        "\n",
        "plt.title('headlines')\n",
        "plt.hist(headlines_len, bins = 40)\n",
        "plt.xlabel('length of samples')\n",
        "plt.ylabel('number of samples')\n",
        "plt.show()"
      ]
    },
    {
      "cell_type": "markdown",
      "metadata": {
        "id": "b9tI-c7cI-uU"
      },
      "source": [
        "### **🍃 04-2_길이 분포를 활용해 적절한 최대 길이 설정**"
      ]
    },
    {
      "cell_type": "markdown",
      "metadata": {
        "id": "e0sHK9z2Jite"
      },
      "source": [
        "- **텍스트 최대 길이 설정: 42**  \n",
        "택스트 평균 길이는 35지만, 42 까지는 어느 정도 분포를 유지하고 있기 때문에 42로 설정  \n",
        "\n",
        "- **요약 최대 길이 설정: 12**  \n",
        "요약 평균 길이는 9지만, 12 까지는 어느 정도 분포를 유지하고 있기 때문에 12로 설정   "
      ]
    },
    {
      "cell_type": "code",
      "execution_count": null,
      "metadata": {
        "id": "wcK3t0tCLO7y"
      },
      "outputs": [],
      "source": [
        "text_max_len = 42\n",
        "headlines_max_len = 12"
      ]
    },
    {
      "cell_type": "markdown",
      "metadata": {
        "id": "a1w-44ZUK7P4"
      },
      "source": [
        "### **🍃 04-3_샘플 비율 확인**"
      ]
    },
    {
      "cell_type": "markdown",
      "metadata": {
        "id": "7mchI15yMKqE"
      },
      "source": [
        "- **전체에서 text, headlines 별 최대 길이 내에 있는 샘플 비율 확인**"
      ]
    },
    {
      "cell_type": "code",
      "execution_count": null,
      "metadata": {
        "id": "Ibp0s_cIQoU3"
      },
      "outputs": [],
      "source": [
        "def below_threshold_len(max_len, nested_list):\n",
        "  cnt = 0\n",
        "  for s in nested_list:\n",
        "    if(len(s.split()) <= max_len):\n",
        "        cnt = cnt + 1\n",
        "  print('전체에서 길이가 %s 이하인 샘플 비율: %s'%(max_len, (cnt / len(nested_list))))"
      ]
    },
    {
      "cell_type": "code",
      "execution_count": null,
      "metadata": {
        "id": "8z558dPGQrvx",
        "outputId": "ad444360-52f2-4011-ab8a-8bd11bc11759"
      },
      "outputs": [
        {
          "name": "stdout",
          "output_type": "stream",
          "text": [
            "text\n",
            "전체에서 길이가 42 이하인 샘플 비율: 0.9750307415575045\n",
            "\n",
            "\n",
            "headlines\n",
            "전체에서 길이가 12 이하인 샘플 비율: 0.9880387394437048\n"
          ]
        }
      ],
      "source": [
        "print('text')\n",
        "below_threshold_len(text_max_len, data['text'])\n",
        "\n",
        "print('\\n')\n",
        "\n",
        "print('headlines')\n",
        "below_threshold_len(headlines_max_len,  data['headlines'])"
      ]
    },
    {
      "cell_type": "markdown",
      "metadata": {
        "id": "R51aFNiXLWEn"
      },
      "source": [
        "### **🍃 04-4_전체 샘플 수 확인**\n",
        "\n"
      ]
    },
    {
      "cell_type": "markdown",
      "metadata": {
        "id": "EkAfT4ZTLcRR"
      },
      "source": [
        "- **text, headlines의 최대 길이 내 전체 샘플 수**  \n",
        "    - **.apply**  \n",
        "    행 또는 열의 전체 원소 연산  "
      ]
    },
    {
      "cell_type": "code",
      "execution_count": null,
      "metadata": {
        "id": "a06deY6dQ0MG",
        "outputId": "272baee0-1cf1-4b3c-a64f-edbe34a98f19"
      },
      "outputs": [
        {
          "name": "stdout",
          "output_type": "stream",
          "text": [
            "전체 샘플 수: 94794\n"
          ]
        }
      ],
      "source": [
        "data = data[data['text'].apply(lambda x: len(x.split()) <= text_max_len)]\n",
        "data = data[data['headlines'].apply(lambda x: len(x.split()) <= headlines_max_len)]\n",
        "print('전체 샘플 수:', (len(data)))"
      ]
    },
    {
      "cell_type": "markdown",
      "metadata": {
        "id": "bYF2WV0JMwjQ"
      },
      "source": [
        "### **🍃 04-5_시작 토큰 및 종료 토큰 추가**"
      ]
    },
    {
      "cell_type": "markdown",
      "metadata": {
        "id": "VftlYkjkNFgx"
      },
      "source": [
        "- **headlines(요약 데이터)에 시작 토큰, 종료 토큰 추가**  \n",
        "- **데이터 전체의 상위 5개 부분 출력** \n",
        "    - **.apply**  \n",
        "    행 또는 열의 전체 원소 연산    "
      ]
    },
    {
      "cell_type": "code",
      "execution_count": null,
      "metadata": {
        "id": "J13PNDKdC12O",
        "outputId": "8424d5ff-f2f1-4941-e047-ba5b1fbe7ffc"
      },
      "outputs": [
        {
          "data": {
            "text/html": [
              "<div>\n",
              "<style scoped>\n",
              "    .dataframe tbody tr th:only-of-type {\n",
              "        vertical-align: middle;\n",
              "    }\n",
              "\n",
              "    .dataframe tbody tr th {\n",
              "        vertical-align: top;\n",
              "    }\n",
              "\n",
              "    .dataframe thead th {\n",
              "        text-align: right;\n",
              "    }\n",
              "</style>\n",
              "<table border=\"1\" class=\"dataframe\">\n",
              "  <thead>\n",
              "    <tr style=\"text-align: right;\">\n",
              "      <th></th>\n",
              "      <th>headlines</th>\n",
              "      <th>text</th>\n",
              "      <th>decoder_input</th>\n",
              "      <th>decoder_target</th>\n",
              "    </tr>\n",
              "  </thead>\n",
              "  <tbody>\n",
              "    <tr>\n",
              "      <th>0</th>\n",
              "      <td>upgrad learner switches to career in ml al wit...</td>\n",
              "      <td>saurav kant alumnus upgrad iiit pg program mac...</td>\n",
              "      <td>sostoken upgrad learner switches to career in ...</td>\n",
              "      <td>upgrad learner switches to career in ml al wit...</td>\n",
              "    </tr>\n",
              "    <tr>\n",
              "      <th>2</th>\n",
              "      <td>new zealand end rohit sharma led india match w...</td>\n",
              "      <td>new zealand defeated india wickets fourth odi ...</td>\n",
              "      <td>sostoken new zealand end rohit sharma led indi...</td>\n",
              "      <td>new zealand end rohit sharma led india match w...</td>\n",
              "    </tr>\n",
              "    <tr>\n",
              "      <th>3</th>\n",
              "      <td>aegon life iterm insurance plan helps customer...</td>\n",
              "      <td>aegon life iterm insurance plan customers enjo...</td>\n",
              "      <td>sostoken aegon life iterm insurance plan helps...</td>\n",
              "      <td>aegon life iterm insurance plan helps customer...</td>\n",
              "    </tr>\n",
              "    <tr>\n",
              "      <th>5</th>\n",
              "      <td>rahat fateh ali khan denies getting notice for...</td>\n",
              "      <td>pakistani singer rahat fateh ali khan denied r...</td>\n",
              "      <td>sostoken rahat fateh ali khan denies getting n...</td>\n",
              "      <td>rahat fateh ali khan denies getting notice for...</td>\n",
              "    </tr>\n",
              "    <tr>\n",
              "      <th>6</th>\n",
              "      <td>india get all out for their lowest odi total i...</td>\n",
              "      <td>india recorded lowest odi total new zealand ge...</td>\n",
              "      <td>sostoken india get all out for their lowest od...</td>\n",
              "      <td>india get all out for their lowest odi total i...</td>\n",
              "    </tr>\n",
              "  </tbody>\n",
              "</table>\n",
              "</div>"
            ],
            "text/plain": [
              "                                           headlines  \\\n",
              "0  upgrad learner switches to career in ml al wit...   \n",
              "2  new zealand end rohit sharma led india match w...   \n",
              "3  aegon life iterm insurance plan helps customer...   \n",
              "5  rahat fateh ali khan denies getting notice for...   \n",
              "6  india get all out for their lowest odi total i...   \n",
              "\n",
              "                                                text  \\\n",
              "0  saurav kant alumnus upgrad iiit pg program mac...   \n",
              "2  new zealand defeated india wickets fourth odi ...   \n",
              "3  aegon life iterm insurance plan customers enjo...   \n",
              "5  pakistani singer rahat fateh ali khan denied r...   \n",
              "6  india recorded lowest odi total new zealand ge...   \n",
              "\n",
              "                                       decoder_input  \\\n",
              "0  sostoken upgrad learner switches to career in ...   \n",
              "2  sostoken new zealand end rohit sharma led indi...   \n",
              "3  sostoken aegon life iterm insurance plan helps...   \n",
              "5  sostoken rahat fateh ali khan denies getting n...   \n",
              "6  sostoken india get all out for their lowest od...   \n",
              "\n",
              "                                      decoder_target  \n",
              "0  upgrad learner switches to career in ml al wit...  \n",
              "2  new zealand end rohit sharma led india match w...  \n",
              "3  aegon life iterm insurance plan helps customer...  \n",
              "5  rahat fateh ali khan denies getting notice for...  \n",
              "6  india get all out for their lowest odi total i...  "
            ]
          },
          "execution_count": 26,
          "metadata": {},
          "output_type": "execute_result"
        }
      ],
      "source": [
        "data['decoder_input'] = data['headlines'].apply(lambda x : 'sostoken '+ x)\n",
        "data['decoder_target'] = data['headlines'].apply(lambda x : x + ' eostoken')\n",
        "data.head()"
      ]
    },
    {
      "cell_type": "markdown",
      "metadata": {
        "id": "0RmJPmRLNmlj"
      },
      "source": [
        "### **🍃 04-6_인코더(입력), 디코더(입력, 레이블) 저장**"
      ]
    },
    {
      "cell_type": "markdown",
      "metadata": {
        "id": "QhLZMbKKNk-T"
      },
      "source": [
        "**각각 Numpy 형식으로 저장**"
      ]
    },
    {
      "cell_type": "code",
      "execution_count": null,
      "metadata": {
        "id": "67-OXryfC91X"
      },
      "outputs": [],
      "source": [
        "encoder_input = np.array(data['text'])\n",
        "decoder_input = np.array(data['decoder_input'])\n",
        "decoder_target = np.array(data['decoder_target'])"
      ]
    },
    {
      "cell_type": "markdown",
      "metadata": {
        "id": "uJ7QYDfeWXUz"
      },
      "source": [
        "## **🌿 05_평가 데이터셋 분리**"
      ]
    },
    {
      "cell_type": "markdown",
      "metadata": {
        "id": "PKYTxV47V4HC"
      },
      "source": [
        "### **🍃 05-1_정수 시퀀스 생성 및 순서 정의**"
      ]
    },
    {
      "cell_type": "markdown",
      "metadata": {
        "id": "uauP65QEVq-1"
      },
      "source": [
        "- **encoder_input과 크기와 형태가 같은 순서가 섞인 정수 시퀀스 생성**"
      ]
    },
    {
      "cell_type": "code",
      "execution_count": null,
      "metadata": {
        "id": "czEvK3m7DJEg",
        "outputId": "e80050ce-1977-4006-c746-f468276e3440"
      },
      "outputs": [
        {
          "name": "stdout",
          "output_type": "stream",
          "text": [
            "[58080 14836 16201 ...  4148 55117 92182]\n"
          ]
        }
      ],
      "source": [
        "indices = np.arange(encoder_input.shape[0])\n",
        "np.random.shuffle(indices)\n",
        "print(indices)"
      ]
    },
    {
      "cell_type": "markdown",
      "metadata": {
        "id": "kEnL9CsJ5rTx"
      },
      "source": [
        "- **데이터 샘플 순서 정의**"
      ]
    },
    {
      "cell_type": "code",
      "execution_count": null,
      "metadata": {
        "id": "PhUhX44SDL6J"
      },
      "outputs": [],
      "source": [
        "encoder_input = encoder_input[indices]\n",
        "decoder_input = decoder_input[indices]\n",
        "decoder_target = decoder_target[indices]"
      ]
    },
    {
      "cell_type": "markdown",
      "metadata": {
        "id": "L4hD2Cl-50wV"
      },
      "source": [
        "### **🍃 05-2_훈련 데이터와 테스트 데이터 분리**"
      ]
    },
    {
      "cell_type": "markdown",
      "metadata": {
        "id": "tlzH3I_O54zV"
      },
      "source": [
        "- **전체 데이터 크기에서 20% 데이터를 훈련 데이터로 활용**  "
      ]
    },
    {
      "cell_type": "code",
      "execution_count": null,
      "metadata": {
        "id": "j0bJKGrdDNkd",
        "outputId": "22f3b0d9-9a49-4bb4-c0d0-91b253a24712"
      },
      "outputs": [
        {
          "name": "stdout",
          "output_type": "stream",
          "text": [
            "테스트 데이터: 18958\n"
          ]
        }
      ],
      "source": [
        "n_of_val = int(len(encoder_input)*0.2)\n",
        "print('테스트 데이터:', n_of_val)"
      ]
    },
    {
      "cell_type": "markdown",
      "metadata": {
        "id": "W5KFYRmq5-3I"
      },
      "source": [
        "-  **데이터 분리**"
      ]
    },
    {
      "cell_type": "code",
      "execution_count": null,
      "metadata": {
        "id": "1wcG1UXzDQvx",
        "outputId": "d72af871-f62c-4157-983f-b5f712ae915d"
      },
      "outputs": [
        {
          "name": "stdout",
          "output_type": "stream",
          "text": [
            "훈련 데이터: 75836\n",
            "훈련 레이블: 75836\n",
            "테스트 데이터: 18958\n",
            "테스트 레이블: 18958\n"
          ]
        }
      ],
      "source": [
        "encoder_input_train = encoder_input[:-n_of_val]\n",
        "decoder_input_train = decoder_input[:-n_of_val]\n",
        "decoder_target_train = decoder_target[:-n_of_val]\n",
        "\n",
        "encoder_input_test = encoder_input[-n_of_val:]\n",
        "decoder_input_test = decoder_input[-n_of_val:]\n",
        "decoder_target_test = decoder_target[-n_of_val:]\n",
        "\n",
        "print('훈련 데이터:', len(encoder_input_train))\n",
        "print('훈련 레이블:', len(decoder_input_train))\n",
        "print('테스트 데이터:', len(encoder_input_test))\n",
        "print('테스트 레이블:', len(decoder_input_test))"
      ]
    },
    {
      "cell_type": "markdown",
      "metadata": {
        "id": "lV2bLq0AW8Hj"
      },
      "source": [
        "## **🌿 06_단어 집합 생성 및 정수 인코딩**"
      ]
    },
    {
      "cell_type": "markdown",
      "metadata": {
        "id": "xfSM2PGxsLrJ"
      },
      "source": [
        "### **🍃 06-1_훈련 데이터 토크나이저**"
      ]
    },
    {
      "cell_type": "markdown",
      "metadata": {
        "id": "_eFLmX92sJMV"
      },
      "source": [
        "- **Keras 토크나이저 사용 (입력된 데이터로부터 단어 집합 생성)**  \n",
        "- **단어 집합 생성 및 각 단어에 고유 정수 부여**"
      ]
    },
    {
      "cell_type": "code",
      "execution_count": null,
      "metadata": {
        "id": "DIwuTBiZD0y4"
      },
      "outputs": [],
      "source": [
        "src_tokenizer = Tokenizer()\n",
        "src_tokenizer.fit_on_texts(encoder_input_train)"
      ]
    },
    {
      "cell_type": "markdown",
      "metadata": {
        "id": "mEifPK9B2WgD"
      },
      "source": [
        "### **🍃 06-2_훈련 데이터 단어 등장 빈도 확인**"
      ]
    },
    {
      "cell_type": "markdown",
      "metadata": {
        "id": "1MYkUXKZsFAE"
      },
      "source": [
        "- **6번을 기준으로 등장 빈도수 비중 확인**  "
      ]
    },
    {
      "cell_type": "code",
      "execution_count": null,
      "metadata": {
        "id": "E2rd-SDCD7B6",
        "outputId": "75cb6dfe-bbc0-4d89-e632-a7c495476b47"
      },
      "outputs": [
        {
          "name": "stdout",
          "output_type": "stream",
          "text": [
            "단어 집합의 크기 : 67806\n",
            "등장 빈도가 5번 이하인 희귀 단어의 수: 44324\n",
            "단어 집합에서 희귀 단어를 제외시킬 경우의 단어 집합의 크기 23482\n",
            "단어 집합에서 희귀 단어의 비율: 65.36884641477155\n",
            "전체 등장 빈도에서 희귀 단어 등장 빈도 비율: 3.136607807780563\n"
          ]
        }
      ],
      "source": [
        "threshold = 6\n",
        "total_cnt = len(src_tokenizer.word_index)\n",
        "rare_cnt = 0 \n",
        "total_freq = 0 \n",
        "rare_freq = 0\n",
        "\n",
        "for key, value in src_tokenizer.word_counts.items():\n",
        "    total_freq = total_freq + value\n",
        "\n",
        "    if(value < threshold):\n",
        "        rare_cnt = rare_cnt + 1\n",
        "        rare_freq = rare_freq + value\n",
        "\n",
        "print('단어 집합의 크기 :', total_cnt)\n",
        "print('등장 빈도가 %s번 이하인 희귀 단어의 수: %s'%(threshold - 1, rare_cnt))\n",
        "print('단어 집합에서 희귀 단어를 제외시킬 경우의 단어 집합의 크기 %s'%(total_cnt - rare_cnt))\n",
        "print(\"단어 집합에서 희귀 단어의 비율:\", (rare_cnt / total_cnt)*100)\n",
        "print(\"전체 등장 빈도에서 희귀 단어 등장 빈도 비율:\", (rare_freq / total_freq)*100)"
      ]
    },
    {
      "cell_type": "markdown",
      "metadata": {
        "id": "myaN8HTN2czh"
      },
      "source": [
        "### **🍃 06-3_훈련 데이터 단어 집합 크기 재설정**"
      ]
    },
    {
      "cell_type": "markdown",
      "metadata": {
        "id": "hXKT49rS1jV4"
      },
      "source": [
        "- **등장 빈도가 5회 이하인 단어 정수 인코딩 과정, 훈련 데이터에서 제거**  \n",
        "- **단어 집합에서 희귀 단어를 제외시킬 경우의 단어 집합의 크기가 23518개 이므로 어림잡아 23000개로 계산**"
      ]
    },
    {
      "cell_type": "code",
      "execution_count": null,
      "metadata": {
        "id": "2CC72yiMD_O9"
      },
      "outputs": [],
      "source": [
        "src_vocab = 23000\n",
        "src_tokenizer = Tokenizer(num_words=src_vocab)\n",
        "src_tokenizer.fit_on_texts(encoder_input_train)"
      ]
    },
    {
      "cell_type": "markdown",
      "metadata": {
        "id": "PAlFWHbF4D-g"
      },
      "source": [
        "- **텍스트 시퀀스를 정수 시퀀스로 변환**"
      ]
    },
    {
      "cell_type": "code",
      "execution_count": null,
      "metadata": {
        "id": "wmLhFll1Diqo"
      },
      "outputs": [],
      "source": [
        "encoder_input_train = src_tokenizer.texts_to_sequences(encoder_input_train) \n",
        "encoder_input_test = src_tokenizer.texts_to_sequences(encoder_input_test)"
      ]
    },
    {
      "cell_type": "markdown",
      "metadata": {
        "id": "YE0GaRHYDiqo"
      },
      "source": [
        "- **정수 시퀀스 변환 확인**"
      ]
    },
    {
      "cell_type": "code",
      "execution_count": null,
      "metadata": {
        "id": "N0TTgEnIDiqo",
        "outputId": "165507e3-3db1-48ad-de17-de3a80a899b5"
      },
      "outputs": [
        {
          "name": "stdout",
          "output_type": "stream",
          "text": [
            "[[7916, 80, 552, 21608, 3298, 3209, 438, 1932, 45, 8335, 1781, 193, 3071, 33, 202, 14, 1383, 13933, 21608, 7917, 1781, 2221, 206, 4774, 17108, 22, 68, 118, 1635, 1820, 14, 550], [3771, 6358, 1733, 9598, 215, 3181, 427, 371, 2090, 173, 128, 8, 423, 895, 103, 17984, 9598, 190, 128, 4342, 11, 23, 384, 4291, 32, 16327, 126, 895, 2851, 100, 190, 335, 15621, 167], [12, 3694, 68, 433, 342, 8336, 4896, 6230, 17109, 779, 35, 3565, 46, 7918, 10222, 4896, 6230, 1788, 387, 9234, 3, 13, 1, 781, 98, 3695, 6359, 3544, 5377, 10937, 1015]]\n"
          ]
        }
      ],
      "source": [
        "print(encoder_input_train[:3])"
      ]
    },
    {
      "cell_type": "markdown",
      "metadata": {
        "id": "w10-oboBDiqo"
      },
      "source": [
        "### **🍃 06-4_headlines 데이터 토크나이저**"
      ]
    },
    {
      "cell_type": "markdown",
      "metadata": {
        "id": "2kwn5OFTDiqo"
      },
      "source": [
        "- **Keras 토크나이저 사용 (입력된 데이터로부터 단어 집합 생성)**  \n",
        "- **단어 집합 생성 및 각 단어에 고유 정수 부여**"
      ]
    },
    {
      "cell_type": "code",
      "execution_count": null,
      "metadata": {
        "id": "tSPSQA6LDiqo"
      },
      "outputs": [],
      "source": [
        "tar_tokenizer = Tokenizer()\n",
        "tar_tokenizer.fit_on_texts(decoder_input_train)"
      ]
    },
    {
      "cell_type": "markdown",
      "metadata": {
        "id": "OPApbKPsDiqo"
      },
      "source": [
        "### **🍃 06-5_headlines 데이터 단어 등장 빈도 확인**"
      ]
    },
    {
      "cell_type": "markdown",
      "metadata": {
        "id": "JMsA4OXQDiqo"
      },
      "source": [
        "- **4번을 기준으로 등장 빈도수 비중 확인**  "
      ]
    },
    {
      "cell_type": "code",
      "execution_count": null,
      "metadata": {
        "id": "wPTX8afUDiqo",
        "outputId": "d96ff273-ce44-4253-e560-cf96bcd4d1cc"
      },
      "outputs": [
        {
          "name": "stdout",
          "output_type": "stream",
          "text": [
            "단어 집합의 크기 : 29512\n",
            "등장 빈도가 3번 이하인 희귀 단어의 수: 16637\n",
            "단어 집합에서 희귀 단어를 제외시킬 경우의 단어 집합의 크기 12875\n",
            "단어 집합에서 희귀 단어의 비율: 56.373678503659534\n",
            "전체 등장 빈도에서 희귀 단어 등장 빈도 비율: 3.254082721016315\n"
          ]
        }
      ],
      "source": [
        "threshold = 4\n",
        "total_cnt = len(tar_tokenizer.word_index)\n",
        "rare_cnt = 0\n",
        "total_freq = 0 \n",
        "rare_freq = 0\n",
        "\n",
        "for key, value in tar_tokenizer.word_counts.items():\n",
        "    total_freq = total_freq + value\n",
        "\n",
        "    if(value < threshold):\n",
        "        rare_cnt = rare_cnt + 1\n",
        "        rare_freq = rare_freq + value\n",
        "\n",
        "print('단어 집합의 크기 :', total_cnt)\n",
        "print('등장 빈도가 %s번 이하인 희귀 단어의 수: %s'%(threshold - 1, rare_cnt))\n",
        "print('단어 집합에서 희귀 단어를 제외시킬 경우의 단어 집합의 크기 %s'%(total_cnt - rare_cnt))\n",
        "print(\"단어 집합에서 희귀 단어의 비율:\", (rare_cnt / total_cnt)*100)\n",
        "print(\"전체 등장 빈도에서 희귀 단어 등장 빈도 비율:\", (rare_freq / total_freq)*100)"
      ]
    },
    {
      "cell_type": "markdown",
      "metadata": {
        "id": "OOBUmGPrDiqp"
      },
      "source": [
        "### **🍃 06-6_headlines 데이터 집합 크기 재설정**"
      ]
    },
    {
      "cell_type": "markdown",
      "metadata": {
        "id": "MFOsMrkODiqp"
      },
      "source": [
        "- **등장 빈도가 3회 이하인 단어 정수 인코딩 과정, 훈련 데이터에서 제거**    \n",
        "- **단어 집합에서 희귀 단어를 제외시킬 경우의 단어 집합의 크기가 12875개 이므로 어림잡아 12000개로 계산**"
      ]
    },
    {
      "cell_type": "code",
      "execution_count": null,
      "metadata": {
        "id": "A0-fFfqjDiqp"
      },
      "outputs": [],
      "source": [
        "tar_vocab = 12000\n",
        "tar_tokenizer = Tokenizer(num_words=tar_vocab) \n",
        "tar_tokenizer.fit_on_texts(decoder_input_train)\n",
        "tar_tokenizer.fit_on_texts(decoder_target_train)"
      ]
    },
    {
      "cell_type": "markdown",
      "metadata": {
        "id": "8xnsp5yODiqp"
      },
      "source": [
        "- **텍스트 시퀀스를 정수 시퀀스로 변환**"
      ]
    },
    {
      "cell_type": "code",
      "execution_count": null,
      "metadata": {
        "id": "V2adCfuOEFl1"
      },
      "outputs": [],
      "source": [
        "decoder_input_train = tar_tokenizer.texts_to_sequences(decoder_input_train) \n",
        "decoder_target_train = tar_tokenizer.texts_to_sequences(decoder_target_train)\n",
        "decoder_input_test = tar_tokenizer.texts_to_sequences(decoder_input_test)\n",
        "decoder_target_test = tar_tokenizer.texts_to_sequences(decoder_target_test)"
      ]
    },
    {
      "cell_type": "markdown",
      "metadata": {
        "id": "yy6xBBOF4cM0"
      },
      "source": [
        "- **변환 확인**"
      ]
    },
    {
      "cell_type": "code",
      "execution_count": null,
      "metadata": {
        "id": "fha5IjW54chz",
        "outputId": "adfd6fe8-252e-466d-9ab4-46e9a3575535"
      },
      "outputs": [
        {
          "name": "stdout",
          "output_type": "stream",
          "text": [
            "디코더(input)\n",
            "input  [[1, 3911, 167, 57, 2601, 229, 656, 765], [1, 2649, 4428, 830, 712, 44, 220, 718, 713, 69], [1, 46, 142, 6672, 8, 6673, 3066, 3, 2548, 7, 2026], [1, 367, 2233, 36, 409, 6048, 6049, 7522, 8630, 8631], [1, 1072, 242, 2824, 16, 18, 86, 72, 6, 885]]\n",
            "\n",
            "\n",
            "디코더(target)\n",
            "decoder [[3911, 167, 57, 2601, 229, 656, 765, 2], [2649, 4428, 830, 712, 44, 220, 718, 713, 69, 2], [46, 142, 6672, 8, 6673, 3066, 3, 2548, 7, 2026, 2], [367, 2233, 36, 409, 6048, 6049, 7522, 8630, 8631, 2], [1072, 242, 2824, 16, 18, 86, 72, 6, 885, 2]]\n"
          ]
        }
      ],
      "source": [
        "print('디코더(input)')\n",
        "print('input ',decoder_input_train[:5])\n",
        "print('\\n')\n",
        "print('디코더(target)')\n",
        "print('decoder',decoder_target_train[:5])"
      ]
    },
    {
      "cell_type": "markdown",
      "metadata": {
        "id": "PDUuLBep4qHJ"
      },
      "source": [
        "-  **훈련 데이터와 테스트 데이터 내 요약문의 길이가 1인 경우 변수에 저장 후 삭제**"
      ]
    },
    {
      "cell_type": "code",
      "execution_count": null,
      "metadata": {
        "id": "KuKgTlRTEUEx",
        "outputId": "59e0dcf3-b766-4a01-a836-37f63b627d15"
      },
      "outputs": [
        {
          "name": "stdout",
          "output_type": "stream",
          "text": [
            "삭제할 훈련 데이터의 개수 : 0\n",
            "삭제할 테스트 데이터의 개수 : 0\n",
            "훈련 데이터의 개수 : 75836\n",
            "훈련 레이블의 개수 : 75836\n",
            "테스트 데이터의 개수 : 18958\n",
            "테스트 레이블의 개수 : 18958\n"
          ]
        }
      ],
      "source": [
        "drop_train = [index for index, sentence in enumerate(decoder_input_train) if len(sentence) == 1]\n",
        "drop_test = [index for index, sentence in enumerate(decoder_input_test) if len(sentence) == 1]\n",
        "\n",
        "print('삭제할 훈련 데이터의 개수 :', len(drop_train))\n",
        "print('삭제할 테스트 데이터의 개수 :', len(drop_test))\n",
        "\n",
        "encoder_input_train = [sentence for index, sentence in enumerate(encoder_input_train) if index not in drop_train]\n",
        "decoder_input_train = [sentence for index, sentence in enumerate(decoder_input_train) if index not in drop_train]\n",
        "decoder_target_train = [sentence for index, sentence in enumerate(decoder_target_train) if index not in drop_train]\n",
        "\n",
        "encoder_input_test = [sentence for index, sentence in enumerate(encoder_input_test) if index not in drop_test]\n",
        "decoder_input_test = [sentence for index, sentence in enumerate(decoder_input_test) if index not in drop_test]\n",
        "decoder_target_test = [sentence for index, sentence in enumerate(decoder_target_test) if index not in drop_test]\n",
        "\n",
        "print('훈련 데이터의 개수 :', len(encoder_input_train))\n",
        "print('훈련 레이블의 개수 :', len(decoder_input_train))\n",
        "print('테스트 데이터의 개수 :', len(encoder_input_test))\n",
        "print('테스트 레이블의 개수 :', len(decoder_input_test))"
      ]
    },
    {
      "cell_type": "markdown",
      "metadata": {
        "id": "GbErjvQl27EU"
      },
      "source": [
        "### **🍃 06-7_패딩**"
      ]
    },
    {
      "cell_type": "markdown",
      "metadata": {
        "id": "CzyJsg8i3ArQ"
      },
      "source": [
        "- **서로 다른 길이의 샘플들을 병렬 처리하기 위해 같은 길이로 패딩 작업 진행**"
      ]
    },
    {
      "cell_type": "code",
      "execution_count": null,
      "metadata": {
        "id": "9yQFLLvEEVbV"
      },
      "outputs": [],
      "source": [
        "encoder_input_train = pad_sequences(encoder_input_train, maxlen=text_max_len, padding='post')\n",
        "encoder_input_test = pad_sequences(encoder_input_test, maxlen=text_max_len, padding='post')\n",
        "decoder_input_train = pad_sequences(decoder_input_train, maxlen=headlines_max_len, padding='post')\n",
        "decoder_input_test = pad_sequences(decoder_input_test, maxlen=headlines_max_len, padding='post')\n",
        "decoder_target_train = pad_sequences(decoder_target_train, maxlen=headlines_max_len, padding='post')\n",
        "decoder_target_test = pad_sequences(decoder_target_test, maxlen=headlines_max_len, padding='post')"
      ]
    },
    {
      "cell_type": "markdown",
      "metadata": {
        "id": "bs9Z7-fYXWCW"
      },
      "source": [
        "## **🌿 07_모델 설계**"
      ]
    },
    {
      "cell_type": "markdown",
      "metadata": {
        "id": "xowRtGftDiqp"
      },
      "source": [
        "### **🍃 07-1_인코더 모델 설계**"
      ]
    },
    {
      "cell_type": "markdown",
      "metadata": {
        "id": "47gaWLtkDiqp"
      },
      "source": [
        "- **임베딩 벡터 차원: 128**  \n",
        "- **hidden state의 크기: 256**   \n",
        "**hidden state:** LSTM에서 얼만큼의 수용력를 가질지를 정하는 파라미터(LSTM의 용량의 크기나, LSTM에서의 뉴런의 개수)  \n",
        "- **LSTM : 3개 층**  \n",
        "- **dropout 사용** "
      ]
    },
    {
      "cell_type": "code",
      "execution_count": null,
      "metadata": {
        "id": "ouhb2Xb3EoMz"
      },
      "outputs": [],
      "source": [
        "embedding_dim = 128\n",
        "hidden_size = 256\n",
        "\n",
        "encoder_inputs = Input(shape=(text_max_len,))\n",
        "\n",
        "# 임베딩 층\n",
        "enc_emb = Embedding(src_vocab, embedding_dim)(encoder_inputs)\n",
        "\n",
        "# LSTM 1\n",
        "encoder_lstm1 = LSTM(hidden_size, return_sequences=True, return_state=True ,dropout = 0.4)\n",
        "encoder_output1, state_h1, state_c1 = encoder_lstm1(enc_emb)\n",
        "\n",
        "# LSTM 2\n",
        "encoder_lstm2 = LSTM(hidden_size, return_sequences=True, return_state=True, dropout=0.4)\n",
        "encoder_output2, state_h2, state_c2 = encoder_lstm2(encoder_output1)\n",
        "\n",
        "# LSTM 3\n",
        "encoder_lstm3 = LSTM(hidden_size, return_state=True, return_sequences=True, dropout=0.4)\n",
        "encoder_outputs, state_h, state_c= encoder_lstm3(encoder_output2)"
      ]
    },
    {
      "cell_type": "markdown",
      "metadata": {
        "id": "FWDCD3bcDiqq"
      },
      "source": [
        "### **🍃 07-2_디코더 모델 설계**"
      ]
    },
    {
      "cell_type": "markdown",
      "metadata": {
        "id": "bXjKKW-bDiqq"
      },
      "source": [
        "- **LSTM의 입력 정의 시 initial_state의 인자값으로 인코더의 hidden state와 cell state의 값 삽입**    \n",
        "- **출력 활성화 함수: softmax**  "
      ]
    },
    {
      "cell_type": "code",
      "execution_count": null,
      "metadata": {
        "id": "4LBr6cd-Es_a"
      },
      "outputs": [],
      "source": [
        "decoder_inputs = Input(shape=(None,))\n",
        "\n",
        "# 임베딩 층\n",
        "dec_emb_layer = Embedding(tar_vocab, embedding_dim)\n",
        "dec_emb = dec_emb_layer(decoder_inputs)\n",
        "\n",
        "# LSTM\n",
        "decoder_lstm = LSTM(hidden_size, return_sequences=True, return_state=True, dropout=0.4)\n",
        "decoder_outputs, _, _ = decoder_lstm(dec_emb, initial_state=[state_h, state_c])\n",
        "\n",
        "#출력층\n",
        "decoder_softmax_layer = Dense(tar_vocab, activation='softmax')\n",
        "decoder_softmax_outputs = decoder_softmax_layer(decoder_outputs) "
      ]
    },
    {
      "cell_type": "markdown",
      "metadata": {
        "id": "Lg0Ozmy2Diqq"
      },
      "source": [
        "### **🍃 07-3_모델 정의**"
      ]
    },
    {
      "cell_type": "code",
      "execution_count": null,
      "metadata": {
        "id": "e5FGQ-THDiqq"
      },
      "outputs": [],
      "source": [
        "model = Model([encoder_inputs, decoder_inputs], decoder_softmax_outputs)"
      ]
    },
    {
      "cell_type": "markdown",
      "metadata": {
        "id": "NlXi6H_LDiqq"
      },
      "source": [
        "### **🍃 07-4_모델 확인**"
      ]
    },
    {
      "cell_type": "code",
      "execution_count": null,
      "metadata": {
        "id": "EkUD8MWaE8x7",
        "outputId": "32887076-a0ef-4756-bdc8-376807d331c0"
      },
      "outputs": [
        {
          "name": "stdout",
          "output_type": "stream",
          "text": [
            "Model: \"model\"\n",
            "__________________________________________________________________________________________________\n",
            "Layer (type)                    Output Shape         Param #     Connected to                     \n",
            "==================================================================================================\n",
            "input_1 (InputLayer)            [(None, 42)]         0                                            \n",
            "__________________________________________________________________________________________________\n",
            "embedding (Embedding)           (None, 42, 128)      2944000     input_1[0][0]                    \n",
            "__________________________________________________________________________________________________\n",
            "lstm (LSTM)                     [(None, 42, 256), (N 394240      embedding[0][0]                  \n",
            "__________________________________________________________________________________________________\n",
            "input_2 (InputLayer)            [(None, None)]       0                                            \n",
            "__________________________________________________________________________________________________\n",
            "lstm_1 (LSTM)                   [(None, 42, 256), (N 525312      lstm[0][0]                       \n",
            "__________________________________________________________________________________________________\n",
            "embedding_1 (Embedding)         (None, None, 128)    1536000     input_2[0][0]                    \n",
            "__________________________________________________________________________________________________\n",
            "lstm_2 (LSTM)                   [(None, 42, 256), (N 525312      lstm_1[0][0]                     \n",
            "__________________________________________________________________________________________________\n",
            "lstm_3 (LSTM)                   [(None, None, 256),  394240      embedding_1[0][0]                \n",
            "                                                                 lstm_2[0][1]                     \n",
            "                                                                 lstm_2[0][2]                     \n",
            "__________________________________________________________________________________________________\n",
            "dense (Dense)                   (None, None, 12000)  3084000     lstm_3[0][0]                     \n",
            "==================================================================================================\n",
            "Total params: 9,403,104\n",
            "Trainable params: 9,403,104\n",
            "Non-trainable params: 0\n",
            "__________________________________________________________________________________________________\n"
          ]
        }
      ],
      "source": [
        "model.summary()"
      ]
    },
    {
      "cell_type": "markdown",
      "metadata": {
        "id": "5JO1bIFaDiqq"
      },
      "source": [
        "### **🍃 07-5_어텐션 메커니즘 함수 설계**"
      ]
    },
    {
      "cell_type": "markdown",
      "metadata": {
        "id": "J-ea2Q9ZDiqq"
      },
      "source": [
        "- **TensorFlow 어텐션 함수를 활용한 디코더 출력층 결합**  "
      ]
    },
    {
      "cell_type": "code",
      "execution_count": null,
      "metadata": {
        "id": "Yi3BXLh_E8t_"
      },
      "outputs": [],
      "source": [
        "# 어텐션 층\n",
        "attn_layer = AdditiveAttention(name='attention_layer')\n",
        "\n",
        "# 인코더와 디코더의 모든 time step의 hidden state를 어텐션 층에 전달하고 결과를 리턴\n",
        "attn_out = attn_layer([decoder_outputs, encoder_outputs])\n",
        "\n",
        "# 어텐션의 결과와 디코더의 hidden state들을 연결\n",
        "decoder_concat_input = Concatenate(axis=-1, name='concat_layer')([decoder_outputs, attn_out])\n",
        "\n",
        "# 디코더 출력층\n",
        "decoder_softmax_layer = Dense(tar_vocab, activation='softmax')\n",
        "decoder_softmax_outputs = decoder_softmax_layer(decoder_concat_input)"
      ]
    },
    {
      "cell_type": "markdown",
      "metadata": {
        "id": "kvnFpZlbDiqq"
      },
      "source": [
        "### **🍃 07-6_어텐션 메커니즘 함수 모델 정의**"
      ]
    },
    {
      "cell_type": "code",
      "execution_count": null,
      "metadata": {
        "id": "d6EyEIClDiqq"
      },
      "outputs": [],
      "source": [
        "model = Model([encoder_inputs, decoder_inputs], decoder_softmax_outputs)"
      ]
    },
    {
      "cell_type": "markdown",
      "metadata": {
        "id": "uW_VCG5NDiqq"
      },
      "source": [
        "### **🍃 07-7_어텐션 메커니즘 함수 모델 확인**"
      ]
    },
    {
      "cell_type": "code",
      "execution_count": null,
      "metadata": {
        "id": "8bsZJYtjG1xY",
        "outputId": "47f0b2ad-ecdc-4b14-d98e-11a28360d556"
      },
      "outputs": [
        {
          "name": "stdout",
          "output_type": "stream",
          "text": [
            "Model: \"model_1\"\n",
            "__________________________________________________________________________________________________\n",
            "Layer (type)                    Output Shape         Param #     Connected to                     \n",
            "==================================================================================================\n",
            "input_1 (InputLayer)            [(None, 42)]         0                                            \n",
            "__________________________________________________________________________________________________\n",
            "embedding (Embedding)           (None, 42, 128)      2944000     input_1[0][0]                    \n",
            "__________________________________________________________________________________________________\n",
            "lstm (LSTM)                     [(None, 42, 256), (N 394240      embedding[0][0]                  \n",
            "__________________________________________________________________________________________________\n",
            "input_2 (InputLayer)            [(None, None)]       0                                            \n",
            "__________________________________________________________________________________________________\n",
            "lstm_1 (LSTM)                   [(None, 42, 256), (N 525312      lstm[0][0]                       \n",
            "__________________________________________________________________________________________________\n",
            "embedding_1 (Embedding)         (None, None, 128)    1536000     input_2[0][0]                    \n",
            "__________________________________________________________________________________________________\n",
            "lstm_2 (LSTM)                   [(None, 42, 256), (N 525312      lstm_1[0][0]                     \n",
            "__________________________________________________________________________________________________\n",
            "lstm_3 (LSTM)                   [(None, None, 256),  394240      embedding_1[0][0]                \n",
            "                                                                 lstm_2[0][1]                     \n",
            "                                                                 lstm_2[0][2]                     \n",
            "__________________________________________________________________________________________________\n",
            "attention_layer (AdditiveAttent (None, None, 256)    256         lstm_3[0][0]                     \n",
            "                                                                 lstm_2[0][0]                     \n",
            "__________________________________________________________________________________________________\n",
            "concat_layer (Concatenate)      (None, None, 512)    0           lstm_3[0][0]                     \n",
            "                                                                 attention_layer[0][0]            \n",
            "__________________________________________________________________________________________________\n",
            "dense_1 (Dense)                 (None, None, 12000)  6156000     concat_layer[0][0]               \n",
            "==================================================================================================\n",
            "Total params: 12,475,360\n",
            "Trainable params: 12,475,360\n",
            "Non-trainable params: 0\n",
            "__________________________________________________________________________________________________\n"
          ]
        }
      ],
      "source": [
        "model.summary()"
      ]
    },
    {
      "cell_type": "markdown",
      "metadata": {
        "id": "0d17I8GuXfOh"
      },
      "source": [
        "## **🌿 08_모델 훈련**"
      ]
    },
    {
      "cell_type": "markdown",
      "metadata": {
        "id": "ykna8y6IDiqq"
      },
      "source": [
        "### **🍃 08-1_모델 훈련**"
      ]
    },
    {
      "cell_type": "markdown",
      "metadata": {
        "id": "q0ogPEVYmjQJ"
      },
      "source": [
        "- **옵티마이저**  \n",
        "rmsprop  \n",
        "-  **손실 함수**  \n",
        "sparse_categorical_crossentropy  \n",
        "    - **model.fit()**  \n",
        "    모델 학습  \n",
        "\n",
        "    - **EarlyStopping()**  \n",
        "    epoch 크기에 상관 없이 모델 훈련을 최적점에서 멈춤  "
      ]
    },
    {
      "cell_type": "code",
      "execution_count": null,
      "metadata": {
        "id": "ZkZhK4QrG3RE",
        "outputId": "db7a4abe-6212-4728-c1be-4a4224069bb8"
      },
      "outputs": [
        {
          "name": "stdout",
          "output_type": "stream",
          "text": [
            "Epoch 1/50\n",
            "297/297 [==============================] - 36s 101ms/step - loss: 5.7712 - val_loss: 5.3436\n",
            "Epoch 2/50\n",
            "297/297 [==============================] - 30s 101ms/step - loss: 5.1860 - val_loss: 4.9663\n",
            "Epoch 3/50\n",
            "297/297 [==============================] - 31s 105ms/step - loss: 4.8424 - val_loss: 4.7079\n",
            "Epoch 4/50\n",
            "297/297 [==============================] - 32s 108ms/step - loss: 4.5771 - val_loss: 4.5254\n",
            "Epoch 5/50\n",
            "297/297 [==============================] - 32s 106ms/step - loss: 4.3699 - val_loss: 4.3826\n",
            "Epoch 6/50\n",
            "297/297 [==============================] - 32s 106ms/step - loss: 4.1983 - val_loss: 4.2825\n",
            "Epoch 7/50\n",
            "297/297 [==============================] - 32s 107ms/step - loss: 4.0505 - val_loss: 4.1879\n",
            "Epoch 8/50\n",
            "297/297 [==============================] - 32s 107ms/step - loss: 3.9205 - val_loss: 4.1089\n",
            "Epoch 9/50\n",
            "297/297 [==============================] - 32s 107ms/step - loss: 3.8092 - val_loss: 4.0554\n",
            "Epoch 10/50\n",
            "297/297 [==============================] - 32s 107ms/step - loss: 3.7077 - val_loss: 4.0136\n",
            "Epoch 11/50\n",
            "297/297 [==============================] - 32s 107ms/step - loss: 3.6145 - val_loss: 3.9759\n",
            "Epoch 12/50\n",
            "297/297 [==============================] - 32s 107ms/step - loss: 3.5262 - val_loss: 3.9185\n",
            "Epoch 13/50\n",
            "297/297 [==============================] - 32s 107ms/step - loss: 3.4482 - val_loss: 3.9068\n",
            "Epoch 14/50\n",
            "297/297 [==============================] - 32s 107ms/step - loss: 3.3742 - val_loss: 3.8802\n",
            "Epoch 15/50\n",
            "297/297 [==============================] - 32s 107ms/step - loss: 3.3105 - val_loss: 3.8577\n",
            "Epoch 16/50\n",
            "297/297 [==============================] - 32s 107ms/step - loss: 3.2508 - val_loss: 3.8424\n",
            "Epoch 17/50\n",
            "297/297 [==============================] - 32s 107ms/step - loss: 3.1921 - val_loss: 3.8287\n",
            "Epoch 18/50\n",
            "297/297 [==============================] - 32s 107ms/step - loss: 3.1397 - val_loss: 3.8145\n",
            "Epoch 19/50\n",
            "297/297 [==============================] - 32s 107ms/step - loss: 3.0904 - val_loss: 3.8087\n",
            "Epoch 20/50\n",
            "297/297 [==============================] - 32s 107ms/step - loss: 3.0451 - val_loss: 3.7979\n",
            "Epoch 21/50\n",
            "297/297 [==============================] - 32s 107ms/step - loss: 2.9967 - val_loss: 3.7901\n",
            "Epoch 22/50\n",
            "297/297 [==============================] - 32s 107ms/step - loss: 2.9551 - val_loss: 3.7881\n",
            "Epoch 23/50\n",
            "297/297 [==============================] - 32s 107ms/step - loss: 2.9150 - val_loss: 3.7907\n",
            "Epoch 24/50\n",
            "297/297 [==============================] - 32s 107ms/step - loss: 2.8780 - val_loss: 3.7787\n",
            "Epoch 25/50\n",
            "297/297 [==============================] - 32s 107ms/step - loss: 2.8399 - val_loss: 3.7826\n",
            "Epoch 26/50\n",
            "297/297 [==============================] - 32s 107ms/step - loss: 2.8041 - val_loss: 3.7762\n",
            "Epoch 27/50\n",
            "297/297 [==============================] - 32s 107ms/step - loss: 2.7668 - val_loss: 3.7798\n",
            "Epoch 28/50\n",
            "297/297 [==============================] - 32s 107ms/step - loss: 2.7356 - val_loss: 3.7816\n",
            "Epoch 00028: early stopping\n"
          ]
        }
      ],
      "source": [
        "model.compile(optimizer='rmsprop', loss='sparse_categorical_crossentropy')\n",
        "es = EarlyStopping(monitor='val_loss', patience=2, verbose=1)\n",
        "history = model.fit(x=[encoder_input_train, decoder_input_train], y=decoder_target_train,\n",
        "          validation_data=([encoder_input_test, decoder_input_test], decoder_target_test),\n",
        "          batch_size=256, callbacks=[es], epochs=50)"
      ]
    },
    {
      "cell_type": "markdown",
      "metadata": {
        "id": "xjnx3VW9Diqr"
      },
      "source": [
        "### **🍃 08-2_모델 훈련 시각화**"
      ]
    },
    {
      "cell_type": "markdown",
      "metadata": {
        "id": "G8vKphybqUNs"
      },
      "source": [
        "- **loss 값 3.7 정도에서 더 이상 하락하지 않음**  "
      ]
    },
    {
      "cell_type": "code",
      "execution_count": null,
      "metadata": {
        "id": "ulOJsz9zHH11",
        "outputId": "3e3cbdff-904d-43c3-f769-2cee0c2f4e9c"
      },
      "outputs": [
        {
          "data": {
            "image/png": "[encoded data removed]",
            "text/plain": [
              "<Figure size 432x288 with 1 Axes>"
            ]
          },
          "metadata": {
            "needs_background": "light"
          },
          "output_type": "display_data"
        }
      ],
      "source": [
        "plt.plot(history.history['loss'], label='train')\n",
        "plt.plot(history.history['val_loss'], label='test')\n",
        "plt.legend()\n",
        "plt.show()"
      ]
    },
    {
      "cell_type": "markdown",
      "metadata": {
        "id": "c8CSSIUdXkJ0"
      },
      "source": [
        "## **🌿 09_인퍼런스 모델 구현**"
      ]
    },
    {
      "cell_type": "markdown",
      "metadata": {
        "id": "_GlFoI-9gGqG"
      },
      "source": [
        "### 🍃 **09-1_텍스트 데이터를 실제 데이터로 복원**  "
      ]
    },
    {
      "cell_type": "markdown",
      "metadata": {
        "id": "RtRY5slxgVAY"
      },
      "source": [
        "- **text 집합 정수 : 단어 추출**  \n",
        "- **headline 집합 정수 : 단어 추출**  \n",
        "- **headline 집합 단어 : 정수 추출**  "
      ]
    },
    {
      "cell_type": "code",
      "execution_count": null,
      "metadata": {
        "id": "ezAHF2qtHJ4r"
      },
      "outputs": [],
      "source": [
        "src_index_to_word = src_tokenizer.index_word\n",
        "tar_word_to_index = tar_tokenizer.word_index\n",
        "tar_index_to_word = tar_tokenizer.index_word"
      ]
    },
    {
      "cell_type": "markdown",
      "metadata": {
        "id": "3oAooWFugsor"
      },
      "source": [
        "### 🍃 **09-2_인퍼런스 모델 설계**    "
      ]
    },
    {
      "cell_type": "markdown",
      "metadata": {
        "id": "kYp2KRuggw07"
      },
      "source": [
        "- **정답 문장이 없는 인퍼런스 단계에서는 만들어야 할 문장의 길이만큼 디코더가 반복 구조로 동작**  \n",
        "- **인퍼런스를 위한 모델 설계 필요 (인코더 모델과 디코더 모델을 분리해서 설계)**  \n",
        "- **문장의 다음 단어를 예측하기 위해 초기 상태를 이전 시점의 상태로 사용 (decode_sequence())**\n",
        "- **LSTM의 state_h와 state_c를 버리지 않음**"
      ]
    },
    {
      "cell_type": "code",
      "execution_count": null,
      "metadata": {
        "id": "U7EXgjKaHK9C"
      },
      "outputs": [],
      "source": [
        "encoder_model = Model(inputs=encoder_inputs, outputs=[encoder_outputs, state_h, state_c])\n",
        "\n",
        "# 이전 시점의 상태 저장\n",
        "decoder_state_input_h = Input(shape=(hidden_size,))\n",
        "decoder_state_input_c = Input(shape=(hidden_size,))\n",
        "\n",
        "dec_emb2 = dec_emb_layer(decoder_inputs)\n",
        "\n",
        "decoder_outputs2, state_h2, state_c2 = decoder_lstm(dec_emb2, initial_state=[decoder_state_input_h, decoder_state_input_c])"
      ]
    },
    {
      "cell_type": "markdown",
      "metadata": {
        "id": "QIte2yyfg_kM"
      },
      "source": [
        "### 🍃 **09-3_어텐션 메커니즘 출력층 설계**    "
      ]
    },
    {
      "cell_type": "markdown",
      "metadata": {
        "id": "fVY7TB6Fidm2"
      },
      "source": [
        "- **어텐션 함수**  \n",
        "- **디코더 출력층: softmax**  \n",
        "    -  **Concatenate()**  \n",
        "    배열 결합  "
      ]
    },
    {
      "cell_type": "code",
      "execution_count": null,
      "metadata": {
        "id": "BQNg8xYzHN93"
      },
      "outputs": [],
      "source": [
        "# 어텐션 함수\n",
        "decoder_hidden_state_input = Input(shape=(text_max_len, hidden_size))\n",
        "attn_out_inf = attn_layer([decoder_outputs2, decoder_hidden_state_input])\n",
        "decoder_inf_concat = Concatenate(axis=-1, name='concat')([decoder_outputs2, attn_out_inf])\n",
        "\n",
        "# 디코더의 출력층\n",
        "decoder_outputs2 = decoder_softmax_layer(decoder_inf_concat) \n",
        "\n",
        "# 최종 디코더 모델\n",
        "decoder_model = Model(\n",
        "    [decoder_inputs] + [decoder_hidden_state_input,decoder_state_input_h, decoder_state_input_c],\n",
        "    [decoder_outputs2] + [state_h2, state_c2])"
      ]
    },
    {
      "cell_type": "markdown",
      "metadata": {
        "id": "OjycxgxahFH9"
      },
      "source": [
        "### 🍃 **09-4_인퍼런스 단계에서 단어 시퀀스를 완성하는 함수 제작**    "
      ]
    },
    {
      "cell_type": "markdown",
      "metadata": {
        "id": "jzJzD3WrhoNT"
      },
      "source": [
        "- **np.zeros()**  \n",
        "0으로 초기화된 shape 차원의 ndarray 배열 객체 반환  \n",
        "\n",
        "- **.predict()**  \n",
        "예측 생성  "
      ]
    },
    {
      "cell_type": "code",
      "execution_count": null,
      "metadata": {
        "id": "H_ZiJbuJHRKK"
      },
      "outputs": [],
      "source": [
        "def decode_sequence(input_seq):\n",
        "    e_out, e_h, e_c = encoder_model.predict(input_seq)\n",
        "\n",
        "    # SOS 토큰 생성\n",
        "    target_seq = np.zeros((1,1))\n",
        "    target_seq[0, 0] = tar_word_to_index['sostoken']\n",
        "\n",
        "    stop_condition = False\n",
        "    decoded_sentence = ''\n",
        "    # stop_condition이 True가 될 때까지 반복\n",
        "    while not stop_condition:\n",
        "\n",
        "        output_tokens, h, c = decoder_model.predict([target_seq] + [e_out, e_h, e_c])\n",
        "        sampled_token_index = np.argmax(output_tokens[0, -1, :])\n",
        "        sampled_token = tar_index_to_word[sampled_token_index]\n",
        "\n",
        "        if (sampled_token!='eostoken'):\n",
        "            decoded_sentence += ' '+sampled_token\n",
        "\n",
        "        #  <EOD>에 도달 or 최대 길이를 넘으면 stop\n",
        "        if (sampled_token == 'eostoken'  or len(decoded_sentence.split()) >= (headlines_max_len-1)):\n",
        "            stop_condition = True\n",
        "\n",
        "        # 길이가 1인 타겟 시퀀스 업데이트\n",
        "        target_seq = np.zeros((1,1))\n",
        "        target_seq[0, 0] = sampled_token_index\n",
        "\n",
        "        # 상태를 업데이트\n",
        "        e_h, e_c = h, c\n",
        "\n",
        "    return decoded_sentence"
      ]
    },
    {
      "cell_type": "markdown",
      "metadata": {
        "id": "6arznZVsXqP_"
      },
      "source": [
        "## **🌿 10_모델 테스트**"
      ]
    },
    {
      "cell_type": "markdown",
      "metadata": {
        "id": "y9Ej2SY3emyW"
      },
      "source": [
        "### **🍃 10-1_정수 시퀀스를 텍스트 시퀀스로 변환**"
      ]
    },
    {
      "cell_type": "markdown",
      "metadata": {
        "id": "mUSBT6lJesHj"
      },
      "source": [
        "- **text의 정수 시퀀스에서 패딩을 위해 사용되는 숫자 0 제외**  "
      ]
    },
    {
      "cell_type": "code",
      "execution_count": null,
      "metadata": {
        "id": "rft-28g8HTrR"
      },
      "outputs": [],
      "source": [
        "def seq2text(input_seq):\n",
        "    temp=''\n",
        "    for i in input_seq:\n",
        "        if (i!=0):\n",
        "            temp = temp + src_index_to_word[i]+' '\n",
        "    return temp"
      ]
    },
    {
      "cell_type": "markdown",
      "metadata": {
        "id": "1aEEbjMkfLYD"
      },
      "source": [
        "- **headlines의 정수 시퀀스에서 숫자 0, 시작-종료 토큰 (인덱스) 제외**  "
      ]
    },
    {
      "cell_type": "code",
      "execution_count": null,
      "metadata": {
        "id": "aKWr0D01fFWj"
      },
      "outputs": [],
      "source": [
        "def seq2summary(input_seq):\n",
        "    temp=''\n",
        "    for i in input_seq:\n",
        "        if ((i!=0 and i!=tar_word_to_index['sostoken']) and i!=tar_word_to_index['eostoken']):\n",
        "            temp = temp + tar_index_to_word[i] + ' '\n",
        "    return temp"
      ]
    },
    {
      "cell_type": "markdown",
      "metadata": {
        "id": "JNuSpjJEfPAn"
      },
      "source": [
        "### **🍃 10-2_실제 요약 및 예측 요약 비교**"
      ]
    },
    {
      "cell_type": "markdown",
      "metadata": {
        "id": "7h9t3G3TfYX6"
      },
      "source": [
        "- **원문/ 실제 요약 / 예측 요약 비교 출력**  "
      ]
    },
    {
      "cell_type": "code",
      "execution_count": null,
      "metadata": {
        "id": "53uNBOI2HWdx",
        "outputId": "428466a3-8a8b-4b35-8ffb-262c6232bc33"
      },
      "outputs": [
        {
          "name": "stdout",
          "output_type": "stream",
          "text": [
            "원문: inflation based wholesale price index accelerated eight month high november compared october government data showed inflation fuel power food prices index rose data released earlier week also showed retail inflation jumped month high november \n",
            "실제 요약: wholesale inflation hits month high of in november \n",
            "예측 요약:  wholesale inflation rises to month high of in july\n",
            "\n",
            "\n",
            "원문: mcc world cricket committee backed discussions mcc england wales cricket club start design project manufacturers develop head protection bowlers committee included former indian skipper sourav ganguly former australian captain ricky ponting viewed footage recent accidents involving bowlers \n",
            "실제 요약: world cricket body backs for bowlers \n",
            "예측 요약:  de villiers to be named after captain in sa odi\n",
            "\n",
            "\n",
            "원문: technology giant apple named meditation app calm iphone app year app compatible ios later offers guided meditation sessions sleeping stories breathing programs relaxing music apple also named photo editing app called photo ipad app year \n",
            "실제 요약: apple names app calm as iphone app of the year \n",
            "예측 요약:  apple to ios app for stealing app\n",
            "\n",
            "\n",
            "원문: army personnel wednesday raided house president pdp youth wing para jammu kashmir pulwama district para home time raid informed incident family leader informed police said unaware raid para approached \n",
            "실제 요약: army raids house of pdp youth wing chief in kashmir \n",
            "예측 요약:  army chief chief arrested in\n",
            "\n",
            "\n",
            "원문: wake recent lynchings pm narendra modi thursday said killing people name gau acceptable added one india right take law hands land non violence land mahatma gandhi forget added \n",
            "실제 요약: killing in the name of gau not acceptable pm modi \n",
            "예측 요약:  people are not to be used to kill pm modi\n",
            "\n",
            "\n",
            "원문: police said drunken american man punched gave nazi salute multiple times germany american investigation violating germany laws display nazi symbols slogans extremely high blood alcohol level assailant fled scene sought causing bodily harm nn \n",
            "실제 요약: american tourist beaten up for giving nazi salute in germany \n",
            "예측 요약:  police arrest as nazi guard in germany\n",
            "\n",
            "\n",
            "원문: chef co owner canadian restaurant started cutting eating meat front vegan protesters latter claimed protesters reportedly agitating fourth time chef came window carrying deer leg although police called charges issued \n",
            "실제 요약: eatery chef cuts eats meat in front of protesters \n",
            "예측 요약:  british artist found at restaurant in uk\n",
            "\n",
            "\n",
            "원문: riteish deshmukh shared picture wife genelia souza instagram occasion wedding anniversary wrote tu mile dil aur ko kya chahiye caption also read partner friend everything life good riteish genelia got married dating eight years \n",
            "실제 요약: tu mile dil riteish to genelia on wedding anniversary \n",
            "예측 요약:  my son is my son ayushmann on pic with rumoured girlfriend\n",
            "\n",
            "\n",
            "원문: four people reported dead major fire broke lucknow international hotel tuesday around people staying hotel fire started however evacuated safety police said strict action taken hotel investigation reveals lapse part police added \n",
            "실제 요약: dead as fire breaks out at lucknow hotel \n",
            "예측 요약:  killed in fire at hotel in mumbai\n",
            "\n",
            "\n",
            "원문: actress kangana ranaut lawyer talking aditya pancholi wife zarina wahab defamation notice said client victim crime added laws land give advantage male person silence woman threat filing defamation proceedings said notice duly replied \n",
            "실제 요약: my client kangana is victim lawyer on aditya legal notice \n",
            "예측 요약:  kangana is not the family of my wife kangana\n",
            "\n",
            "\n",
            "원문: following us president donald trump claim islamic state defeated syria france said militant group wiped map roots france said troops remain syria despite withdrawal us troops \n",
            "실제 요약: isis not wiped from map in syria france on trump claim \n",
            "예측 요약:  trump syria is not an syria us president\n",
            "\n",
            "\n",
            "원문: chandigarh court monday rejected bail plea haryana bjp chief subhash barala son vikas barala friend fourth time duo booked charges abducting wrongfully restraining stalking woman earlier bails denied august september october \n",
            "실제 요약: chandigarh stalking accused bail rejected for th time \n",
            "예측 요약:  hc orders bail to chandigarh stalking case\n",
            "\n",
            "\n",
            "원문: north korea friday test fired ballistic missile japan second country less month comes north korea threatened sink japan using nuclear weapons supporting latest un sanctions japanese pm shinzo abe called launch absolutely unacceptable adding global peace threatened north korea dangerous provocations \n",
            "실제 요약: north korea test fires second missile over japan in month \n",
            "예측 요약:  north korea fires north korea for missile\n",
            "\n",
            "\n",
            "원문: police arrested year old ex army man director privately run shelter home disabled children madhya pradesh bhopal inmates accused sexually abusing two girls three boys also alleged three boys died due severe abuse around boys girls living shelter since \n",
            "실제 요약: disabled kids at mp shelter allege sexual abuse ex army man held \n",
            "예측 요약:  arrested for sexually abusing girls in up\n",
            "\n",
            "\n",
            "원문: japanese researchers reported mice sperm stored international space station days produce healthy although space preserved sperm suffered damage space radiation iss times stronger earth likely repaired fertilisation human technique possible said researchers \n",
            "실제 요약: healthy mice born from sperm frozen in space for months \n",
            "예측 요약:  scientists find space that also also their own space\n",
            "\n",
            "\n",
            "원문: hosting arab summit jordan king abdullah said peace would attained middle east without creation palestinian state two state solution said israel chances peace accelerating settlement building occupied palestinian territory notably israel approved construction settlements occupied palestine \n",
            "실제 요약: two state solution basis of middle east peace arab leaders \n",
            "예측 요약:  spain to hold its new west bengal and kashmir\n",
            "\n",
            "\n",
            "원문: hollywood actor shia labeouf anti trump art project divide us relocated us liverpool uk owing safety concerns project originally installed wall outside new york museum moving image day trump inauguration project expected continued throughout trump presidency \n",
            "실제 요약: anti trump project moved from us to uk over safety concerns \n",
            "예측 요약:  us to build new york embassy in us\n",
            "\n",
            "\n",
            "원문: congress president rahul gandhi denial party criminal involvement anti sikh riots bjp leader tajinder pal singh placed hoardings delhi reading rajiv gandhi father mob lynching bjp leader also shared video hoarding twitter around sikhs killed riots congress centre \n",
            "실제 요약: rajiv gandhi father of mob lynching bjp leader puts posters \n",
            "예측 요약:  bjp leaders riot in rahul gandhi murder case\n",
            "\n",
            "\n",
            "원문: tv actress rohatgi known roles serials like iss pyaar ko kya naam passed away monday reportedly passed away cardiac arrest played parineeti chopra mother film ishaqzaade also starred films like london \n",
            "실제 요약: actress passes away \n",
            "예측 요약:  actress passes away at the age of\n",
            "\n",
            "\n",
            "원문: niagara college canada ontario announced offer post graduate course cannabis production course start next autumn prepare students work production cannabis includes marijuana fibre seeds college said first educational institution offer course country \n",
            "실제 요약: college in canada to offer cannabis production course \n",
            "예측 요약:  malaysia allows its own to introduce its own course\n",
            "\n",
            "\n",
            "원문: sri lankan navy tuesday arrested ten indian fishermen charges crossing international maritime boundary line fishing near fisheries department official said fishermen belonging near rameswaram tamil nadu taken along boat added \n",
            "실제 요약: sri lankan navy arrests indian fishermen \n",
            "예측 요약:  indian fishermen detained in pakistan for sri lanka\n",
            "\n",
            "\n",
            "원문: google tuesday announced new feature google maps us called find parking let drivers find parking spots feature allow users find list parking lots close destination automatically add trips feature also gives walking directions parking spot final destination \n",
            "실제 요약: google maps update lets users find parking in the area \n",
            "예측 요약:  google maps to let users see time in real time\n",
            "\n",
            "\n",
            "원문: denying charge reporting crore fraud diminished nirav modi brand pnb wrote built brand illegal money fraudulently got bank aware amount fraud yet propose pay amount pnb added responding nirav offer giving crore jewellery \n",
            "실제 요약: you built your brand with our money pnb to nirav modi \n",
            "예측 요약:  pnb to buy cr for nirav modi jewellery case\n",
            "\n",
            "\n",
            "원문: rbi kept repo rate rate banks borrow rbi unchanged first bi monthly monetary policy review fourth time row rate kept steady lowest since november comes retail inflation february eased \n",
            "실제 요약: rbi keeps repo rate unchanged at for fourth time in row \n",
            "예측 요약:  rbi keeps repo rate unchanged at for th time in row\n",
            "\n",
            "\n",
            "원문: congress vice president rahul gandhi thursday said party observe death anniversary notes november day demonetisation declared pm narendra modi pm failed grasp basic concept indian economy cash black black cash gandhi said announcement \n",
            "실제 요약: nov death anniversary of notes rahul gandhi \n",
            "예측 요약:  rahul gandhi has been more than demonetisation says bjp\n",
            "\n",
            "\n",
            "원문: rohan bopanna uruguayan partner pablo men doubles final carlo masters sunday register first atp world tour title team unseeded pair defeated seventh seeded lopez marc lopez win crore prize money bopanna second title win season \n",
            "실제 요약: bopanna wins men doubles title at masters \n",
            "예측 요약:  wins world no french win title of french open\n",
            "\n",
            "\n",
            "원문: young girl hit baseball travelling kmph attendance new york home game minnesota twins last week girl struck ball hit todd causing play delayed youngster received treatment transported stands taken hospital \n",
            "실제 요약: child left bloodied after being struck by kmph baseball \n",
            "예측 요약:  girl walks off by fan walks off feet in one\n",
            "\n",
            "\n",
            "원문: fleet tiny spacecraft could visit asteroids around three years according mission concept proposed europe based researchers kg satellites tethered main spacecraft would propelled solar wind would flyby target asteroids range around kilometres imaging surface resolution metres \n",
            "실제 요약: fleet proposed for to asteroids \n",
            "예측 요약:  solar system could be known by solar system study\n",
            "\n",
            "\n",
            "원문: paradise papers leak revealed minister state civil aviation jayant sinha served director us based firm light design offshore subsidiary however sinha disclose election commission contested lok sabha polls appointed minister state \n",
            "실제 요약: mos jayant sinha linked to firm named in paradise papers \n",
            "예측 요약:  harvard appoints its own paradise papers\n",
            "\n",
            "\n",
            "원문: american cancelled plans build ai powered baby monitor children health privacy advocates argued device infringed children privacy called digital assistant powered smart speaker announced january device claimed could automatically turn lights hears sleeping baby cry \n",
            "실제 요약: cancels ai baby monitor amid privacy concerns \n",
            "예측 요약:  ai lets users get free from schools to check in schools\n",
            "\n",
            "\n",
            "원문: attempt develop male contraceptives humans american researchers tested compound called turns sperm ability swim hours infusion none male monkeys suffered side effects affect sperm mobility restored completely within days suggesting drug effects said researchers \n",
            "실제 요약: male monkey sperm without side effects \n",
            "예측 요약:  new york can be used to patients to\n",
            "\n",
            "\n",
            "원문: year old drunk tourist zimbabwe arm ripped jumped pool three crocodiles official said saved two men jumped pool pulled safety although tourist sustained several fractures said stable condition \n",
            "실제 요약: drunk tourist jumps into pool full of crocodiles gets saved \n",
            "예측 요약:  man jumps off own head to escape from balcony\n",
            "\n",
            "\n",
            "원문: aiims started doorstep test screening service people living old age homes delhi mobile van deployed visit homes regularly provide screening facilities common illnesses spot initiative taken elderly people attendants strength wait doctor said \n",
            "실제 요약: aiims starts door step test screening facility for elderly \n",
            "예측 요약:  aiims to get free park in aiims\n",
            "\n",
            "\n",
            "원문: denise young smith apple vice president inclusion diversity apologised comments diversity summit colombia adding regrets choice words smith said comments representative thinks diversity last week smith commented gets frustrated term diversity tagged people colour \n",
            "실제 요약: apple diversity chief apologises for comments on diversity \n",
            "예측 요약:  apple apologises for calling apple co founder\n",
            "\n",
            "\n",
            "원문: team scientists developed new font claiming first font help boost memory font called side gaps middle designed using principles cognitive psychology design help people retain information \n",
            "실제 요약: scientists create font say it can boost memory \n",
            "예측 요약:  to get new year old\n",
            "\n",
            "\n",
            "원문: election commission friday held group led bihar chief minister nitish kumar real janata dal granted use arrow poll symbol party ec observed kumar led group demonstrated overwhelming majority support legislature wing well majority national council party \n",
            "실제 요약: ec grants arrow party symbol to nitish led jd group \n",
            "예측 요약:  nitish kumar to contest no confidence motion in bihar\n",
            "\n",
            "\n",
            "원문: special court granted bail rjd chief lalu yadav daughter misa bharti husband shailesh kumar money laundering case directed leave country without prior permission court earlier enforcement directorate attached farmhouse case claiming bought using crore involved money laundering \n",
            "실제 요약: lalu daughter her husband granted bail in laundering case \n",
            "예측 요약:  lalu son to be charged for cr in case\n",
            "\n",
            "\n",
            "원문: south africa cape town pushed back day zero july day taps would turned water would officials said reduced consumption helped push back date set june last week residents currently provided litres water daily consumption \n",
            "실제 요약: cape town pushes day it expects to run of water to july \n",
            "예측 요약:  what is the new day of the day of the day\n",
            "\n",
            "\n",
            "원문: blocked social media platforms like facebook twitter till june said minister ravi shankar prasad rajya sabha added social media platforms asked find solutions check misuse need consensus constitutes fake news said \n",
            "실제 요약: over blocked by social media it minister \n",
            "예측 요약:  facebook is not facebook news of all news says fb\n",
            "\n",
            "\n",
            "원문: leader threatened party would let loose snakes inside stadium chennai csk first home match kkr goes tuesday comes amid protests state parties urging centre constitute cauvery management board earlier said protestors would responsible untoward incident stadium \n",
            "실제 요약: will let loose snakes at stadium during csk match tn leader \n",
            "예측 요약:  kannada leaders to take oath as football league stadium\n",
            "\n",
            "\n",
            "원문: thailand space agency planning send durian regarded world fruit space fruit would dried vacuum sealed five minute spaceflight july future want astronauts able eat thai food want see whether physical changes returns earth agency said \n",
            "실제 요약: thailand to send world fruit into space \n",
            "예측 요약:  world largest space set to set up in space\n",
            "\n",
            "\n",
            "원문: india stand captain rohit sharma moved two places fifth spot icc rankings odi batsmen scoring third odi double ton second odi sri lanka shikhar dhawan named man series gained one slot reach th position aggregating runs sri lanka series \n",
            "실제 요약: rohit moves up to no in odi batsmen rankings \n",
            "예측 요약:  rohit named india th most powerful odi in india\n",
            "\n",
            "\n",
            "원문: nine year old student injured school van train collision uttar pradesh kushinagar revealed kept shouting warn driver bhaiya incoming train busy phone many children killed eight others injured approaching train rammed school bus unmanned crossing gate \n",
            "실제 요약: we shouted driver was busy on phone kid in up van accident \n",
            "예측 요약:  man tries to train bus on train gets stuck in train\n",
            "\n",
            "\n",
            "원문: speaking ayodhya dispute uttar pradesh cm yogi adityanath said government resolve ram temple issue within hours people patience issue fast running added court give verdict soon unable hand issue us said \n",
            "실제 요약: we can resolve ayodhya dispute within hours yogi \n",
            "예측 요약:  yogi adityanath should be allowed to build ayodhya owaisi\n",
            "\n",
            "\n",
            "원문: us president donald trump reportedly one app iphone micro blogging platform twitter march trump said twitter may responsible us election win helped bypass dishonest press however twitter co founder evan williams recently said sorry platform helped trump become president \n",
            "실제 요약: twitter is the only app on donald trump iphone reports \n",
            "예측 요약:  twitter mocks trump for calling his tweets user\n",
            "\n",
            "\n",
            "원문: indian shuttler pv sindhu silver medal rio olympics come support women speaking harassment appreciate people come forward spoken respect sindhu said asked facing harassment sindhu said far concerned good \n",
            "실제 요약: it sindhu on women speaking about harassment \n",
            "예측 요약:  was not pv sindhu on being silver cwg\n",
            "\n",
            "\n",
            "원문: following paradise papers leaks european union said discuss plans blacklist tax havens bid tackle offshore tax avoidance new scandal shows companies rich individuals ready anything pay tax european economics affairs commissioner pierre said \n",
            "실제 요약: eu mulls tax havens after paradise papers leaks \n",
            "예측 요약:  french prez macron proposes crore to be\n",
            "\n",
            "\n",
            "원문: term insurance plan one safest cost effective ways getting insured ensures loved ones safeguarded circumstances aegon life iterm plan covers years guarantees payout death benefit diagnosis terminal illness also get waiver future premium payments \n",
            "실제 요약: aegon life iterm insurance plan covers you for years \n",
            "예측 요약:  aegon life iterm insurance cover cover of\n",
            "\n",
            "\n",
            "원문: kriti sanon denying rumours relationship sushant singh rajput said people asked question times always answered asking times change answer quipped funny people still get bored think start thinking new answers \n",
            "실제 요약: asking times will not change answer kriti on dating rumours \n",
            "예측 요약:  do not know what do not know about sushant kriti sanon\n",
            "\n",
            "\n",
            "원문: police wednesday registered cases persons including woman leader hindu mahasabha aligarh firing effigy mahatma gandhi air pistol incident took place house locality city senior superintendent police said video event went viral social media added \n",
            "실제 요약: booked for firing air shots at mahatma gandhi effigy \n",
            "예측 요약:  police station in search for missing dalits in mumbai\n",
            "\n",
            "\n"
          ]
        }
      ],
      "source": [
        "for i in range(0, 50):\n",
        "    print(\"원문:\", seq2text(encoder_input_test[i]))\n",
        "    print(\"실제 요약:\", seq2summary(decoder_input_test[i]))\n",
        "    print(\"예측 요약:\", decode_sequence(encoder_input_test[i].reshape(1, text_max_len)))\n",
        "    print(\"\\n\")"
      ]
    },
    {
      "cell_type": "markdown",
      "metadata": {
        "id": "Bl_U_caolUvL"
      },
      "source": [
        "## **🌿 11_테스트 결과**"
      ]
    },
    {
      "cell_type": "markdown",
      "metadata": {
        "id": "26fu6WOelXEw"
      },
      "source": [
        "- **주어 및 핵심 단어가 동일하게 출력되는 경우가 많음**  \n",
        "- **요약을 진행했다고 보기에 어려운 문장 구성이 많음**  \n",
        "- **요약 내용이 일치하지 않는 경우가 많음**    "
      ]
    },
    {
      "cell_type": "markdown",
      "metadata": {
        "id": "oKv6uQkzd9Ft"
      },
      "source": [
        "<hr>"
      ]
    },
    {
      "cell_type": "markdown",
      "metadata": {
        "id": "_0IE-rMAAdWm"
      },
      "source": [
        "# **🌲 EXPLORATION 07-4 : 추출적 요약**"
      ]
    },
    {
      "cell_type": "markdown",
      "metadata": {
        "id": "AwLvJ-dMX5EU"
      },
      "source": [
        "## **🌿 01_데이터 import**"
      ]
    },
    {
      "cell_type": "markdown",
      "metadata": {
        "id": "iwtJZFjubleI"
      },
      "source": [
        "- **pandas를 활용한 데이터 import**  \n",
        "- **urllib.request.urlretrieve**  \n",
        "URL로 표시된 네트워크 객체를 로컬 파일로 복사  "
      ]
    },
    {
      "cell_type": "code",
      "execution_count": null,
      "metadata": {
        "id": "uOmvgDIVH7jv"
      },
      "outputs": [],
      "source": [
        "urllib.request.urlretrieve(\"https://raw.githubusercontent.com/sunnysai12345/News_Summary/master/news_summary_more.csv\", filename=\"news_summary_more.csv\")\n",
        "re_text = pd.read_csv('news_summary_more.csv', encoding='iso-8859-1')"
      ]
    },
    {
      "cell_type": "markdown",
      "metadata": {
        "id": "TN5eGoPSX59y"
      },
      "source": [
        "## **🌿 02_데이터 요약**"
      ]
    },
    {
      "cell_type": "markdown",
      "metadata": {
        "id": "T5YqL41ebxsF"
      },
      "source": [
        "- **summa.summarizer를 활용한 추출적 데이터 요약**  \n",
        "    - **summarize()**  \n",
        "    추출적 요약    \n",
        "    - **ratio**  \n",
        "    요약 시 원본에서 선택되는 문장 비율 (0-1 사이)\n"
      ]
    },
    {
      "cell_type": "code",
      "execution_count": null,
      "metadata": {
        "id": "Ucfk3iAbDiqu",
        "outputId": "35d06b41-0a1f-4523-d0f3-dce661a8628a"
      },
      "outputs": [
        {
          "name": "stdout",
          "output_type": "stream",
          "text": [
            "원문: Saurav Kant, an alumnus of upGrad and IIIT-B's PG Program in Machine learning and Artificial Intelligence, was a Sr Systems Engineer at Infosys with almost 5 years of work experience. The program and upGrad's 360-degree career support helped him transition to a Data Scientist at Tech Mahindra with 90% salary hike. upGrad's Online Power Learning has powered 3 lakh+ careers.\n",
            "실제 요약: upGrad learner switches to career in ML & Al with 90% salary hike\n",
            "예측 요약: upGrad's Online Power Learning has powered 3 lakh+ careers.\n",
            "\n",
            "\n",
            "원문: Kunal Shah's credit card bill payment platform, CRED, gave users a chance to win free food from Swiggy for one year. Pranav Kaushik, a Delhi techie, bagged this reward after spending 2000 CRED coins. Users get one CRED coin per rupee of bill paid, which can be used to avail rewards from brands like Ixigo, BookMyShow, UberEats, Cult.Fit and more.\n",
            "실제 요약: Delhi techie wins free food from Swiggy for one year on CRED\n",
            "예측 요약: Users get one CRED coin per rupee of bill paid, which can be used to avail rewards from brands like Ixigo, BookMyShow, UberEats, Cult.Fit and more.\n",
            "\n",
            "\n",
            "원문: New Zealand defeated India by 8 wickets in the fourth ODI at Hamilton on Thursday to win their first match of the five-match ODI series. India lost an international match under Rohit Sharma's captaincy after 12 consecutive victories dating back to March 2018. The match witnessed India getting all out for 92, their seventh lowest total in ODI cricket history.\n",
            "실제 요약: New Zealand end Rohit Sharma-led India's 12-match winning streak\n",
            "예측 요약: The match witnessed India getting all out for 92, their seventh lowest total in ODI cricket history.\n",
            "\n",
            "\n",
            "원문: With Aegon Life iTerm Insurance plan, customers can enjoy tax benefits on your premiums paid and save up to Ã¢ÂÂ¹46,800^ on taxes. The plan provides life cover up to the age of 100 years. Also, customers have options to insure against Critical Illnesses, Disability and Accidental Death Benefit Rider with a life cover up to the age of 80 years.\n",
            "실제 요약: Aegon life iTerm insurance plan helps customers save tax\n",
            "예측 요약: Also, customers have options to insure against Critical Illnesses, Disability and Accidental Death Benefit Rider with a life cover up to the age of 80 years.\n",
            "\n",
            "\n",
            "원문: Speaking about the sexual harassment allegations against Rajkumar Hirani, Sonam Kapoor said, \"I've known Hirani for many years...What if it's not true, the [#MeToo] movement will get derailed.\" \"In the #MeToo movement, I always believe a woman. But in this case, we need to reserve our judgment,\" she added. Hirani has been accused by an assistant who worked in 'Sanju'.\n",
            "실제 요약: Have known Hirani for yrs, what if MeToo claims are not true: Sonam\n",
            "예측 요약: Speaking about the sexual harassment allegations against Rajkumar Hirani, Sonam Kapoor said, \"I've known Hirani for many years...What if it's not true, the [#MeToo] movement will get derailed.\" \"In the #MeToo movement, I always believe a woman.\n",
            "\n",
            "\n",
            "원문: Pakistani singer Rahat Fateh Ali Khan has denied receiving any notice from the Enforcement Directorate over allegedly smuggling foreign currency out of India. \"It would have been better if the authorities would have served the notice first if any and then publicised this,\" reads a press release issued on behalf of Rahat. The statement further called the allegation \"bizarre\".\n",
            "실제 요약: Rahat Fateh Ali Khan denies getting notice for smuggling currency\n",
            "예측 요약: Pakistani singer Rahat Fateh Ali Khan has denied receiving any notice from the Enforcement Directorate over allegedly smuggling foreign currency out of India.\n",
            "\n",
            "\n",
            "원문: India recorded their lowest ODI total in New Zealand after getting all out for 92 runs in 30.5 overs in the fourth ODI at Hamilton on Thursday. Seven of India's batsmen were dismissed for single-digit scores, while their number ten batsman Yuzvendra Chahal top-scored with 18*(37). India's previous lowest ODI total in New Zealand was 108.\n",
            "실제 요약: India get all out for 92, their lowest ODI total in New Zealand\n",
            "예측 요약: India's previous lowest ODI total in New Zealand was 108.\n",
            "\n",
            "\n",
            "원문: Weeks after ex-CBI Director Alok Verma told the Department of Personnel and Training to consider him retired, the Home Ministry asked him to join work on the last day of his fixed tenure as Director on Thursday. The ministry directed him to immediately join as DG, Fire Services, the post he was transferred to after his removal as CBI chief.\n",
            "실제 요약: Govt directs Alok Verma to join work 1 day before his retirement\n",
            "예측 요약: \n",
            "\n",
            "\n",
            "원문: Andhra Pradesh CM N Chandrababu Naidu has said, \"When I met then US President Bill Clinton, I addressed him as Mr Clinton, not as 'sir'. (PM Narendra) Modi is my junior in politics...I addressed him as sir 10 times.\" \"I did this...to satisfy his ego in the hope that he will do justice to the state,\" he added.\n",
            "실제 요약: Called PM Modi 'sir' 10 times to satisfy his ego: Andhra CM\n",
            "예측 요약: \n",
            "\n",
            "\n",
            "원문: Congress candidate Shafia Zubair won the Ramgarh Assembly seat in Rajasthan, by defeating BJP's Sukhwant Singh with a margin of 12,228 votes in the bypoll. With this victory, Congress has taken its total to 100 seats in the 200-member assembly. The election to the Ramgarh seat was delayed due to the death of sitting MLA and BSP candidate Laxman Singh.\n",
            "실제 요약: Cong wins Ramgarh bypoll in Rajasthan, takes total to 100 seats\n",
            "예측 요약: Congress candidate Shafia Zubair won the Ramgarh Assembly seat in Rajasthan, by defeating BJP's Sukhwant Singh with a margin of 12,228 votes in the bypoll.\n",
            "\n",
            "\n",
            "원문: Two minor cousins in Uttar Pradesh's Gorakhpur were allegedly repeatedly burnt with tongs and forced to eat human excreta by their family for being friends with two boys from the same school. The cousins revealed their ordeal to the police and Child Welfare Committee after being brought back to Gorakhpur from Nepal, where they had fled to escape the torture.\n",
            "실제 요약: UP cousins fed human excreta for friendship with boys\n",
            "예측 요약: \n",
            "\n",
            "\n",
            "원문: Isha Ghosh, an 81-year-old member of Bharat Scouts and Guides (BSG), has been imparting physical and mental training to schoolchildren in Jharkhand for several decades. Chaibasa-based Ghosh reportedly walks seven kilometres daily and spends eight hours conducting physical training, apart from climbing and yoga sessions. She says, \"One should do something for society till one's last breath.\"\n",
            "실제 요약: 81-yr-old woman conducts physical training in J'khand schools\n",
            "예측 요약: Isha Ghosh, an 81-year-old member of Bharat Scouts and Guides (BSG), has been imparting physical and mental training to schoolchildren in Jharkhand for several decades.\n",
            "\n",
            "\n",
            "원문: Urging saints and seers at the Kumbh Mela to quit smoking, Yoga guru Ramdev said, \"We follow Ram and Krishna who never smoked in their life then why should we?\" Making them take a pledge to quit tobacco, he collected chillum (clay pipe) from several sadhus. He said he will deposit the chillums for display at a museum he'll build.\n",
            "실제 요약: Ram, Krishna didn't smoke, why should we: Ramdev to sadhus at Kumbh\n",
            "예측 요약: \n",
            "\n",
            "\n",
            "원문: Former stripper and regional sales director of a pharmaceutical company, Sunrise Lee, gave a doctor a lap dance in a nightclub to persuade him to prescribe an addictive fentanyl spray in 2012, the company's sales representative told a US court. She said she saw Lee \"sitting on [doctor's] lap, kind of bouncing around.\" Lee has been accused of bribing doctors.\n",
            "실제 요약: Pharma exec gave doctor a lap dance to sell medicine in US: Witness\n",
            "예측 요약: \n",
            "\n",
            "\n",
            "원문: Reliance Industries' Chairman Mukesh Ambani's daughter Isha Ambani, who got married last month, said she only cried at her 'bidaai' because she felt peer pressure as everyone was crying, especially her parents. \"I was emotional too but everyone around me would cry all the time,\" she added. \"It was a very emotional affair for everyone in my family,\" said Isha.\n",
            "실제 요약:  I only cried at my 'bidaai' as I felt peer pressure: Isha Ambani\n",
            "예측 요약: \"It was a very emotional affair for everyone in my family,\" said Isha.\n",
            "\n",
            "\n",
            "원문: Louis Vuitton owner LVMH, which makes high-end beverages like MoÃÂ«t & Chandon champagne and Hennessy cognac, said it's stockpiling four months' worth of wine and spirits in UK in preparation for Brexit. \"We're ready for worst case scenario if there are difficulties with deliveries,\" the French luxury giant said. The UK is scheduled to leave the EU on March 29.\n",
            "실제 요약: Louis Vuitton owner to stockpile 4 months of wine, spirits in UK\n",
            "예측 요약: Louis Vuitton owner LVMH, which makes high-end beverages like MoÃÂ«t & Chandon champagne and Hennessy cognac, said it's stockpiling four months' worth of wine and spirits in UK in preparation for Brexit.\n",
            "\n",
            "\n",
            "원문: Filmmaker Karan Johar and actress Tabu turned showstoppers for Gaurav Gupta on the opening night of LakmÃÂ© Fashion Week Summer/ Resort 2019. While Johar wore a red sequinned jacket with black pants, Tabu walked the ramp in a grey embellished gown. The fashion show, which began on January 29, will continue till February 3.\n",
            "실제 요약: Karan Johar, Tabu turn showstoppers on opening night of LFW\n",
            "예측 요약: Filmmaker Karan Johar and actress Tabu turned showstoppers for Gaurav Gupta on the opening night of LakmÃÂ© Fashion Week Summer/ Resort 2019.\n",
            "\n",
            "\n",
            "원문: In a jibe at Congress President Rahul Gandhi, PM Narendra Modi on Wednesday said those on \"bail will have to go to jail.\" PM Modi added, \"He is out on bail and his associates too are facing charges...I know they will be convicted one day.\" The PM claimed he'd waged a war on corruption because he's from a common household. \n",
            "실제 요약: Those on bail will go to jail: PM Modi takes jibe at Rahul\n",
            "예측 요약: \n",
            "\n",
            "\n",
            "원문: Days after he threatened to step down from his post if Congress MLAs continue \"crossing the line,\" Karnataka Chief Minister HD Kumaraswamy accused them of taking potshots and asked, \"How many more days can I tolerate such stuff?\" Kumaraswamy, who made the statements after a Congress MLA demanded that Siddaramaiah be made CM again, said, \"Power is ephemeral.\"\n",
            "실제 요약: How long can I tolerate Congress leaders' potshots: K'taka CM\n",
            "예측 요약: \n",
            "\n",
            "\n",
            "원문: Union Minister Dharmendra Pradhan on Wednesday claimed the illegal mining mafia in Odisha operates under the control of CM Naveen Patnaik and state Congress chief Niranjan Patnaik. He added, \"The time has come for the people of Odisha to put a full stop to their activities...The time has come for us to ask for an explanation from this corrupt government.\"\n",
            "실제 요약: Odisha CM Patnaik controls mining mafia: Union Minister\n",
            "예측 요약: \n",
            "\n",
            "\n",
            "원문: Claiming there is a dearth of ideas among opposition parties, Prime Minister Narendra Modi on Wednesday said, \"The opposition talks only about Modi the whole day, I suspect they even dream about me.\" PM Modi, who was addressing the New India Youth Conclave inÃ¢ÂÂ Surat, added that the opposition parties have only one agenda which is \"Modi\". \n",
            "실제 요약: I think the opposition even dreams about me: PM Modi\n",
            "예측 요약: \n",
            "\n",
            "\n",
            "원문: The Indian Space Research Organisation on Wednesday unveiled Human Space Flight Centre in Bengaluru for its Ã¢ÂÂ¹10,000-crore manned space mission 'Gaganyaan' scheduled for 2021. ISRO said the centre will be responsible for development of engineering systems for crew survival in space and crew selection and training. It'll also pursue activities for sustained human space flight missions, ISRO added.\n",
            "실제 요약: ISRO unveils Bengaluru centre for manned space mission \n",
            "예측 요약: It'll also pursue activities for sustained human space flight missions, ISRO added.\n",
            "\n",
            "\n",
            "원문: At least 12 people have been killed and 170 others have been injured in Saudi Arabia this week due to flooding from heavy rain. The emergency services rescued 271 people from the flooded areas, more than half of them in Tabuk. Heavy rains hit mainly western and northwestern parts of Saudi Arabia, near its border with Jordan.\n",
            "실제 요약: 12 killed, 170 injured in Saudi Arabia floods\n",
            "예측 요약: At least 12 people have been killed and 170 others have been injured in Saudi Arabia this week due to flooding from heavy rain.\n",
            "\n",
            "\n",
            "원문: Reliance Industries' Chairman Mukesh Ambani's daughter Isha Ambani has featured on the cover of the February edition of Vogue India. She's dressed in a white shirt dress and black ruffled skirt by Australian designer Toni Maticevski, while accessorising her look with a Misho ring. In the cover story on her, Isha has spoken about her work and life after marriage.\n",
            " \n",
            "실제 요약: Isha Ambani features on February cover of Vogue magazine\n",
            "예측 요약: Reliance Industries' Chairman Mukesh Ambani's daughter Isha Ambani has featured on the cover of the February edition of Vogue India.\n",
            "\n",
            "\n",
            "원문: Indian Oil Corporation on Wednesday said it's looking for an annual deal to buy US crude as it seeks to broaden oil purchasing options. This comes amid uncertainties over Iran imports. The US had in November granted a six-month waiver to India from sanctions against Iran and restricted the country's monthly intake of Iranian oil to 3,00,000 barrels per day.\n",
            "\n",
            "\n",
            "실제 요약: Indian Oil looking for annual deal to buy crude from US\n",
            "예측 요약: The US had in November granted a six-month waiver to India from sanctions against Iran and restricted the country's monthly intake of Iranian oil to 3,00,000 barrels per day.\n",
            "\n",
            "\n",
            "원문: Former Windies fast bowler Curtly Ambrose dismissed seven Australian batsmen within a span of 32 balls giving away just one run, in a Test match on January 30, 1993. Ambrose's spell helped his team bowl out Australia for 119 in the first innings, after being 85 for 2 at one point. Ambrose ended with first-innings figures of 18-9-25-7.\n",
            "실제 요약: Pacer once took 7 wickets for just 1 run in 32 balls in a Test\n",
            "예측 요약: Ambrose ended with first-innings figures of 18-9-25-7.\n",
            "\n",
            "\n",
            "원문: A London zoo is offering people to name a cockroach after their exes on Valentine's Day for ÃÂ£1.50 (nearly Ã¢ÂÂ¹140). \"For those that don't quite require revenge, there's another way to make you feel better about getting back at your ex,\" the zoo said in a statement. The names will appear on zoo's 'roach board' on February 14. \n",
            "실제 요약: UK zoo offers people to name cockroach after their ex on Valentine's\n",
            "예측 요약: The names will appear on zoo's 'roach board' on February 14.\n",
            "\n",
            "\n",
            "원문: Stand-in captain Rohit Sharma has become the 14th Indian cricketer to play 200 ODIs, achieving the feat after taking the field against New Zealand in fourth ODI at Hamilton on Thursday. The 31-year-old had made his ODI debut on June 23, 2007, against Ireland in Belfast. Rohit scored 7,799 runs in his first 199 ODIs at an average of 48.14.\n",
            "실제 요약: Rohit Sharma becomes 14th Indian cricketer to play 200 ODIs\n",
            "예측 요약: Rohit scored 7,799 runs in his first 199 ODIs at an average of 48.14.\n",
            "\n",
            "\n",
            "원문: Batsman Shubman Gill has become the 227th cricketer to represent India in ODI cricket, achieving the feat against New Zealand in the fourth ODI at Hamilton on Thursday. The 19-year-old received his maiden ODI cap from former captain MS Dhoni. Notably, Shubman was named Player of the Under-19 World Cup in New Zealand last year.\n",
            "실제 요약: 19-year-old Shubman Gill becomes India's 227th ODI cricketer\n",
            "예측 요약: Notably, Shubman was named Player of the Under-19 World Cup in New Zealand last year.\n",
            "\n",
            "\n",
            "원문: Investigators searching for a lost plane carrying Argentine forward Emiliano Sala found two seat cushions on French coast that \"likely\" belonged to the aircraft. The investigators said they'll now launch an underwater seabed search for aircraft wreckage. The Cardiff City footballer was travelling from France's Nantes to Wales' Cardiff when his plane disappeared over English Channel on January 21.\n",
            "실제 요약: 2 seat cushions from 'missing plane carrying footballer' found\n",
            "예측 요약: Investigators searching for a lost plane carrying Argentine forward Emiliano Sala found two seat cushions on French coast that \"likely\" belonged to the aircraft.\n",
            "\n",
            "\n",
            "원문: Italian third division football side Lucchese's head coach Giancarlo Favarin has been banned for five months for headbutting Alessandria's assistant coach Gaetano Mancino during a brawl following the teams' 2-2 draw on Sunday. Mancino was caught off-balance and knocked to the ground after the headbutt. Earlier in the match, Favarin had told his own player to break an opponent's legs.\n",
            "실제 요약: Italian coach knocks rival down with headbutt, banned for 5 months\n",
            "예측 요약: Italian third division football side Lucchese's head coach Giancarlo Favarin has been banned for five months for headbutting Alessandria's assistant coach Gaetano Mancino during a brawl following the teams' 2-2 draw on Sunday.\n",
            "\n",
            "\n",
            "원문: Cyclists taking part in National Track Cycling Championship in Jaipur opted to sleep on the floor inside the stadium instead of hotels over expensive cycles. The organisers had booked hotels but they didn't have the provision for cyclists to keep their bikes inside. A national gold medallist said their cycles cost between Ã¢ÂÂ¹5-9 lakh and once damaged, they become non-repairable. \n",
            "실제 요약: Cyclists sleep on stadium floor instead of hotel over costly cycles\n",
            "예측 요약: Cyclists taking part in National Track Cycling Championship in Jaipur opted to sleep on the floor inside the stadium instead of hotels over expensive cycles.\n",
            "\n",
            "\n",
            "원문: Silvia Grecco, a 56-year-old Brazilian mother narrates her local football team Palmeiras' matches live to her 12-year-old blind and autistic son Nickollas from the stands. \"I describe details: this player is wearing short sleeves...colour of...football boots, hair colour...Everything I see and feel, I tell him, even when I need to curse the referee!\" Grecco said after a recent match.\n",
            "실제 요약: Brazilian mother narrates football matches to blind son from stands\n",
            "예측 요약: \n",
            "\n",
            "\n",
            "원문: A TechCrunch report has claimed that IndiaÃ¢ÂÂs largest bank SBI secured a passwordless server \"overnight\" on being alerted it allowed anyone to access phone numbers, bank balances, and transactions of millions of its customers. The Mumbai-based server was containing two months of data from SBI Quick, an SMS and call-based system used to request basic information about accounts, TechCrunch revealed.\n",
            "실제 요약: SBI left account data of millions of users unprotected: Report\n",
            "예측 요약: \n",
            "\n",
            "\n",
            "원문: Rahul Gandhi has replied to Goa CM Manohar Parrikar's letter, which accused the Congress President of using his \"visit to an ailing man for political gains\". \"He's under immense pressure from the PM after our meeting and needs to demonstrate his loyalty by attacking me,\" Gandhi wrote in his letter. Parrikar had clarified he didn't discuss Rafale deal with Rahul.\n",
            "실제 요약: CM Parrikar under pressure from PM after our Goa meet: Rahul\n",
            "예측 요약: Rahul Gandhi has replied to Goa CM Manohar Parrikar's letter, which accused the Congress President of using his \"visit to an ailing man for political gains\".\n",
            "\n",
            "\n",
            "원문: Twenty-seven-year-old Mohammed Mahuwala was arrested in Indore on Wednesday for allegedly cheating e-commerce giant Amazon of nearly Ã¢ÂÂ¹30 lakh. Mahuwala was a member of a gang who ordered costly gadgets from Amazon. \"[They] used to get refund of the amount paid...by saying the parcel...was empty. In reality, these devices were taken out from parcel and sold...to local shopkeepers,\" said police.\n",
            "실제 요약: Man arrested for cheating Amazon of Ã¢ÂÂ¹30 lakh by taking refunds\n",
            "예측 요약: Mahuwala was a member of a gang who ordered costly gadgets from Amazon.\n",
            "\n",
            "\n",
            "원문: AgustaWestland chopper scam co-accused Rajiv Saxena was extradited to India from UAE on Wednesday. He had been evading the Enforcement Directorate's summons claiming he was suffering from leukaemia but had moved an anti-money laundering court for anticipatory bail in December, stating he had never been summoned at his Dubai address. Saxena's lawyers alleged he had been \"illegally extradited\". \n",
            "실제 요약: AgustaWestland scam accused Rajiv Saxena extradited to India\n",
            "예측 요약: AgustaWestland chopper scam co-accused Rajiv Saxena was extradited to India from UAE on Wednesday.\n",
            "\n",
            "\n",
            "원문: Afghan President Ashraf Ghani has said the \"keys to war\" are in Pakistan's Islamabad, Quetta and Rawalpindi, accusing the country of providing safe havens to militants, including those belonging to the Taliban. Ghani added the \"key to peace was in Afghanistan\". His comments came amid the talks between the US and the Taliban to end the 17-year war in Afghanistan.\n",
            "실제 요약: Pakistan holds 'keys to war': Afghanistan\n",
            "예측 요약: Afghan President Ashraf Ghani has said the \"keys to war\" are in Pakistan's Islamabad, Quetta and Rawalpindi, accusing the country of providing safe havens to militants, including those belonging to the Taliban.\n",
            "\n",
            "\n",
            "원문: A Singapore-based insurance agent has been jailed for two years and five months for threatening to harm his clients unless they paid him in bitcoins. The 36-year-old set up an email account, and signed the messages as 'Lord Voldemort', a fictional character from the Harry Potter series. Ye Lin Myint targeted about 33 people, including those who cancelled insurance policies.\n",
            "실제 요약: Insurance agent 'Lord Voldemort' jailed for threatening clients\n",
            "예측 요약: A Singapore-based insurance agent has been jailed for two years and five months for threatening to harm his clients unless they paid him in bitcoins.\n",
            "\n",
            "\n",
            "원문: Gabrielle Reilly, a 22-year-old US woman, created earrings for her Apple AirPods and put it up for sale online for $20 (about Ã¢ÂÂ¹1,500). \"I absolutely refuse to lose them (AirPods)...So I made earrings,\" she explained. The earrings, which took her over an hour to make, debuted in a video on Twitter that has since garnered over three million views.\n",
            "실제 요약: Woman turns Apple AirPods into earrings to avoid losing them\n",
            "예측 요약: \"I absolutely refuse to lose them (AirPods)...So I made earrings,\" she explained.\n",
            "\n",
            "\n",
            "원문: Ex-ICICI Bank CEO Chanda Kochhar said she's \"utterly disappointed, hurt and shocked\" by the bank's decision to terminate her. Kochhar said she served ICICI for 34 years with utmost honesty and integrity and that ultimately truth will prevail. Adding that she hasn't been given a copy of the independent probe report, Kochhar said none of ICICI's credit decisions are unilateral\n",
            "실제 요약: Shocked, hurt by ICICI's decision, truth will prevail: Kochhar\n",
            "예측 요약: Adding that she hasn't been given a copy of the independent probe report, Kochhar said none of ICICI's credit decisions are unilateral\n",
            "\n",
            "\n",
            "원문: Swedish multinational fast-fashion brand Hennes & Mauritz AB (H&M) has hired Christopher Wylie, the whistleblower who exposed Facebook's Cambridge Analytica data scandal. WylieÃ¢ÂÂs focus will be to help get better insights on customers, products and markets and support work on sustainable and ethical artificial intelligence, H&M spokesperson said. Wylie is a former employee of Cambridge Analytica.\n",
            "실제 요약: Fashion brand H&M hires Facebook data scandal whistleblower\n",
            "예측 요약: Swedish multinational fast-fashion brand Hennes & Mauritz AB (H&M) has hired Christopher Wylie, the whistleblower who exposed Facebook's Cambridge Analytica data scandal.\n",
            "\n",
            "\n",
            "원문: Micro-blogging platform Twitter is testing a new feature on Android to put news on the top of a user's timeline. \"With this update, weÃ¢ÂÂre making it easier for people to see news and stories their followers have been discussing,\" Product Manager Walter Gurzynski said. The feature comes alongside a prompt saying, \"Catch up on what's happened while you were away.\"\n",
            "실제 요약: Twitter testing news-first timeline feature on Android\n",
            "예측 요약: Micro-blogging platform Twitter is testing a new feature on Android to put news on the top of a user's timeline.\n",
            "\n",
            "\n",
            "원문: Samsung has started mass producing its one terabyte 'embedded Universal Flash Storage (eUFS) 2.1' technology for \"use in next-generation mobile applications\", which it claims is the industry's first such eUFS. The company added the new eUFS will let smartphones store 260 10-minute videos shot in 4K UHD format. It'll be sized the same as the previous 512GB version, Samsung said.\n",
            "실제 요약: Samsung builds world's first 1TB storage chip for smartphones \n",
            "예측 요약: Samsung has started mass producing its one terabyte 'embedded Universal Flash Storage (eUFS) 2.1' technology for \"use in next-generation mobile applications\", which it claims is the industry's first such eUFS.\n",
            "\n",
            "\n",
            "원문: Prime Minister Narendra Modi on Wednesday said the people with 'negative mindset' are questioning him and his government for floating pro-poor schemes. He added negative mindset people are raising doubts about schemes such as building toilets and providing free gas connections to the poor. He further said that negative mentality laced with a vested interest still exists in the country.\n",
            "실제 요약: People with 'negative mindset' quizzing pro-poor schemes: PM\n",
            "예측 요약: Prime Minister Narendra Modi on Wednesday said the people with 'negative mindset' are questioning him and his government for floating pro-poor schemes.\n",
            "\n",
            "\n",
            "원문: Union Minister Anantkumar Hegde took a dig at Congress President Rahul Gandhi by calling him a \"hybrid specimen\" who has no clue about religion. \"A father who's...Muslim, a mother who's...Christian and the son is supposed to be...Brahmin. How is that even possible?\" he said. He added such \"hybrid specimen\" cannot be found in any laboratory in the world.\n",
            "실제 요약: Rahul is hybrid specimen, has no clue about religion: Hegde\n",
            "예측 요약: Union Minister Anantkumar Hegde took a dig at Congress President Rahul Gandhi by calling him a \"hybrid specimen\" who has no clue about religion.\n",
            "\n",
            "\n",
            "원문: Several parts of the US are set to experience record low temperatures as the polar vortex hit the Upper Midwest, with more than 200 million people expected to experience below-freezing temperatures this week. Temperatures throughout the Upper Midwest are expected to be at least 20-40Ã¢ÂÂ below zero. Government offices and schools have been closed in several areas.\n",
            "실제 요약: Extreme cold to affect 200 million people as polar vortex hits US\n",
            "예측 요약: Several parts of the US are set to experience record low temperatures as the polar vortex hit the Upper Midwest, with more than 200 million people expected to experience below-freezing temperatures this week.\n",
            "\n",
            "\n",
            "원문: The police on Wednesday registered cases against 13 persons, including a woman leader of Hindu Mahasabha, in Aligarh for firing at an effigy of Mahatma Gandhi with an air pistol. \"The incident took place in a house in Naurangabad locality of the city,\" Senior Superintendent of Police said. The video of the event went viral on social media, he added.\n",
            "실제 요약: 13 booked for firing air shots at Mahatma Gandhi's effigy\n",
            "예측 요약: The police on Wednesday registered cases against 13 persons, including a woman leader of Hindu Mahasabha, in Aligarh for firing at an effigy of Mahatma Gandhi with an air pistol.\n",
            "\n",
            "\n",
            "원문: Railway police has rescued a woman travelling on a train in Chennai who got her leg stuck inside the commode of a toilet. After being caught inside the commode hole, she struggled to remove her leg and following failed attempts, she shouted for help, reports said. Railway police used a cutter to pry open the commode and freed her leg.\n",
            "실제 요약: Railway police rescues woman with leg stuck in train toilet\n",
            "예측 요약: Railway police has rescued a woman travelling on a train in Chennai who got her leg stuck inside the commode of a toilet.\n",
            "\n",
            "\n",
            "원문: The US on Tuesday began returning asylum seekers to Mexico, sending back a migrant from a Central American nation and called the move a \"response to the illegal migration crisis\" faced by it. Under its Migrant Protection Protocols policy, the US will return certain migrants who cross into the country illegally back to Mexico while their asylum requests are processed.\n",
            "실제 요약: US begins sending back asylum seekers to Mexico\n",
            "예측 요약: \n",
            "\n",
            "\n"
          ]
        }
      ],
      "source": [
        "for i in range(0, 50):\n",
        "    print(\"원문:\", re_text['text'][i])\n",
        "    print(\"실제 요약:\", re_text['headlines'][i])\n",
        "    print(\"예측 요약:\", summarize(re_text['text'][i], ratio=0.4))\n",
        "    print(\"\\n\")"
      ]
    },
    {
      "cell_type": "code",
      "execution_count": null,
      "metadata": {
        "id": "6_UewlR_3Hg8",
        "outputId": "555f4756-bdcc-407a-f5ee-82507118ca21"
      },
      "outputs": [
        {
          "name": "stdout",
          "output_type": "stream",
          "text": [
            "원문: Saurav Kant, an alumnus of upGrad and IIIT-B's PG Program in Machine learning and Artificial Intelligence, was a Sr Systems Engineer at Infosys with almost 5 years of work experience. The program and upGrad's 360-degree career support helped him transition to a Data Scientist at Tech Mahindra with 90% salary hike. upGrad's Online Power Learning has powered 3 lakh+ careers.\n",
            "실제 요약: upGrad learner switches to career in ML & Al with 90% salary hike\n",
            "예측 요약: upGrad's Online Power Learning has powered 3 lakh+ careers.\n",
            "\n",
            "\n",
            "원문: Kunal Shah's credit card bill payment platform, CRED, gave users a chance to win free food from Swiggy for one year. Pranav Kaushik, a Delhi techie, bagged this reward after spending 2000 CRED coins. Users get one CRED coin per rupee of bill paid, which can be used to avail rewards from brands like Ixigo, BookMyShow, UberEats, Cult.Fit and more.\n",
            "실제 요약: Delhi techie wins free food from Swiggy for one year on CRED\n",
            "예측 요약: Users get one CRED coin per rupee of bill paid, which can be used to avail rewards from brands like Ixigo, BookMyShow, UberEats, Cult.Fit and more.\n",
            "\n",
            "\n",
            "원문: New Zealand defeated India by 8 wickets in the fourth ODI at Hamilton on Thursday to win their first match of the five-match ODI series. India lost an international match under Rohit Sharma's captaincy after 12 consecutive victories dating back to March 2018. The match witnessed India getting all out for 92, their seventh lowest total in ODI cricket history.\n",
            "실제 요약: New Zealand end Rohit Sharma-led India's 12-match winning streak\n",
            "예측 요약: The match witnessed India getting all out for 92, their seventh lowest total in ODI cricket history.\n",
            "\n",
            "\n",
            "원문: With Aegon Life iTerm Insurance plan, customers can enjoy tax benefits on your premiums paid and save up to Ã¢ÂÂ¹46,800^ on taxes. The plan provides life cover up to the age of 100 years. Also, customers have options to insure against Critical Illnesses, Disability and Accidental Death Benefit Rider with a life cover up to the age of 80 years.\n",
            "실제 요약: Aegon life iTerm insurance plan helps customers save tax\n",
            "예측 요약: Also, customers have options to insure against Critical Illnesses, Disability and Accidental Death Benefit Rider with a life cover up to the age of 80 years.\n",
            "\n",
            "\n",
            "원문: Speaking about the sexual harassment allegations against Rajkumar Hirani, Sonam Kapoor said, \"I've known Hirani for many years...What if it's not true, the [#MeToo] movement will get derailed.\" \"In the #MeToo movement, I always believe a woman. But in this case, we need to reserve our judgment,\" she added. Hirani has been accused by an assistant who worked in 'Sanju'.\n",
            "실제 요약: Have known Hirani for yrs, what if MeToo claims are not true: Sonam\n",
            "예측 요약: Speaking about the sexual harassment allegations against Rajkumar Hirani, Sonam Kapoor said, \"I've known Hirani for many years...What if it's not true, the [#MeToo] movement will get derailed.\" \"In the #MeToo movement, I always believe a woman.\n",
            "\n",
            "\n",
            "원문: Pakistani singer Rahat Fateh Ali Khan has denied receiving any notice from the Enforcement Directorate over allegedly smuggling foreign currency out of India. \"It would have been better if the authorities would have served the notice first if any and then publicised this,\" reads a press release issued on behalf of Rahat. The statement further called the allegation \"bizarre\".\n",
            "실제 요약: Rahat Fateh Ali Khan denies getting notice for smuggling currency\n",
            "예측 요약: Pakistani singer Rahat Fateh Ali Khan has denied receiving any notice from the Enforcement Directorate over allegedly smuggling foreign currency out of India.\n",
            "\n",
            "\n",
            "원문: India recorded their lowest ODI total in New Zealand after getting all out for 92 runs in 30.5 overs in the fourth ODI at Hamilton on Thursday. Seven of India's batsmen were dismissed for single-digit scores, while their number ten batsman Yuzvendra Chahal top-scored with 18*(37). India's previous lowest ODI total in New Zealand was 108.\n",
            "실제 요약: India get all out for 92, their lowest ODI total in New Zealand\n",
            "예측 요약: India's previous lowest ODI total in New Zealand was 108.\n",
            "\n",
            "\n",
            "원문: Weeks after ex-CBI Director Alok Verma told the Department of Personnel and Training to consider him retired, the Home Ministry asked him to join work on the last day of his fixed tenure as Director on Thursday. The ministry directed him to immediately join as DG, Fire Services, the post he was transferred to after his removal as CBI chief.\n",
            "실제 요약: Govt directs Alok Verma to join work 1 day before his retirement\n",
            "예측 요약: Weeks after ex-CBI Director Alok Verma told the Department of Personnel and Training to consider him retired, the Home Ministry asked him to join work on the last day of his fixed tenure as Director on Thursday.\n",
            "\n",
            "\n",
            "원문: Andhra Pradesh CM N Chandrababu Naidu has said, \"When I met then US President Bill Clinton, I addressed him as Mr Clinton, not as 'sir'. (PM Narendra) Modi is my junior in politics...I addressed him as sir 10 times.\" \"I did this...to satisfy his ego in the hope that he will do justice to the state,\" he added.\n",
            "실제 요약: Called PM Modi 'sir' 10 times to satisfy his ego: Andhra CM\n",
            "예측 요약: Andhra Pradesh CM N Chandrababu Naidu has said, \"When I met then US President Bill Clinton, I addressed him as Mr Clinton, not as 'sir'.\n",
            "\n",
            "\n",
            "원문: Congress candidate Shafia Zubair won the Ramgarh Assembly seat in Rajasthan, by defeating BJP's Sukhwant Singh with a margin of 12,228 votes in the bypoll. With this victory, Congress has taken its total to 100 seats in the 200-member assembly. The election to the Ramgarh seat was delayed due to the death of sitting MLA and BSP candidate Laxman Singh.\n",
            "실제 요약: Cong wins Ramgarh bypoll in Rajasthan, takes total to 100 seats\n",
            "예측 요약: Congress candidate Shafia Zubair won the Ramgarh Assembly seat in Rajasthan, by defeating BJP's Sukhwant Singh with a margin of 12,228 votes in the bypoll.\n",
            "\n",
            "\n",
            "원문: Two minor cousins in Uttar Pradesh's Gorakhpur were allegedly repeatedly burnt with tongs and forced to eat human excreta by their family for being friends with two boys from the same school. The cousins revealed their ordeal to the police and Child Welfare Committee after being brought back to Gorakhpur from Nepal, where they had fled to escape the torture.\n",
            "실제 요약: UP cousins fed human excreta for friendship with boys\n",
            "예측 요약: Two minor cousins in Uttar Pradesh's Gorakhpur were allegedly repeatedly burnt with tongs and forced to eat human excreta by their family for being friends with two boys from the same school.\n",
            "\n",
            "\n",
            "원문: Isha Ghosh, an 81-year-old member of Bharat Scouts and Guides (BSG), has been imparting physical and mental training to schoolchildren in Jharkhand for several decades. Chaibasa-based Ghosh reportedly walks seven kilometres daily and spends eight hours conducting physical training, apart from climbing and yoga sessions. She says, \"One should do something for society till one's last breath.\"\n",
            "실제 요약: 81-yr-old woman conducts physical training in J'khand schools\n",
            "예측 요약: Isha Ghosh, an 81-year-old member of Bharat Scouts and Guides (BSG), has been imparting physical and mental training to schoolchildren in Jharkhand for several decades.\n",
            "\n",
            "\n",
            "원문: Urging saints and seers at the Kumbh Mela to quit smoking, Yoga guru Ramdev said, \"We follow Ram and Krishna who never smoked in their life then why should we?\" Making them take a pledge to quit tobacco, he collected chillum (clay pipe) from several sadhus. He said he will deposit the chillums for display at a museum he'll build.\n",
            "실제 요약: Ram, Krishna didn't smoke, why should we: Ramdev to sadhus at Kumbh\n",
            "예측 요약: Urging saints and seers at the Kumbh Mela to quit smoking, Yoga guru Ramdev said, \"We follow Ram and Krishna who never smoked in their life then why should we?\" Making them take a pledge to quit tobacco, he collected chillum (clay pipe) from several sadhus.\n",
            "\n",
            "\n",
            "원문: Former stripper and regional sales director of a pharmaceutical company, Sunrise Lee, gave a doctor a lap dance in a nightclub to persuade him to prescribe an addictive fentanyl spray in 2012, the company's sales representative told a US court. She said she saw Lee \"sitting on [doctor's] lap, kind of bouncing around.\" Lee has been accused of bribing doctors.\n",
            "실제 요약: Pharma exec gave doctor a lap dance to sell medicine in US: Witness\n",
            "예측 요약: Former stripper and regional sales director of a pharmaceutical company, Sunrise Lee, gave a doctor a lap dance in a nightclub to persuade him to prescribe an addictive fentanyl spray in 2012, the company's sales representative told a US court.\n",
            "\n",
            "\n",
            "원문: Reliance Industries' Chairman Mukesh Ambani's daughter Isha Ambani, who got married last month, said she only cried at her 'bidaai' because she felt peer pressure as everyone was crying, especially her parents. \"I was emotional too but everyone around me would cry all the time,\" she added. \"It was a very emotional affair for everyone in my family,\" said Isha.\n",
            "실제 요약:  I only cried at my 'bidaai' as I felt peer pressure: Isha Ambani\n",
            "예측 요약: \"It was a very emotional affair for everyone in my family,\" said Isha.\n",
            "\n",
            "\n",
            "원문: Louis Vuitton owner LVMH, which makes high-end beverages like MoÃÂ«t & Chandon champagne and Hennessy cognac, said it's stockpiling four months' worth of wine and spirits in UK in preparation for Brexit. \"We're ready for worst case scenario if there are difficulties with deliveries,\" the French luxury giant said. The UK is scheduled to leave the EU on March 29.\n",
            "실제 요약: Louis Vuitton owner to stockpile 4 months of wine, spirits in UK\n",
            "예측 요약: Louis Vuitton owner LVMH, which makes high-end beverages like MoÃÂ«t & Chandon champagne and Hennessy cognac, said it's stockpiling four months' worth of wine and spirits in UK in preparation for Brexit.\n",
            "\n",
            "\n",
            "원문: Filmmaker Karan Johar and actress Tabu turned showstoppers for Gaurav Gupta on the opening night of LakmÃÂ© Fashion Week Summer/ Resort 2019. While Johar wore a red sequinned jacket with black pants, Tabu walked the ramp in a grey embellished gown. The fashion show, which began on January 29, will continue till February 3.\n",
            "실제 요약: Karan Johar, Tabu turn showstoppers on opening night of LFW\n",
            "예측 요약: Filmmaker Karan Johar and actress Tabu turned showstoppers for Gaurav Gupta on the opening night of LakmÃÂ© Fashion Week Summer/ Resort 2019.\n",
            "\n",
            "\n",
            "원문: In a jibe at Congress President Rahul Gandhi, PM Narendra Modi on Wednesday said those on \"bail will have to go to jail.\" PM Modi added, \"He is out on bail and his associates too are facing charges...I know they will be convicted one day.\" The PM claimed he'd waged a war on corruption because he's from a common household. \n",
            "실제 요약: Those on bail will go to jail: PM Modi takes jibe at Rahul\n",
            "예측 요약: \n",
            "\n",
            "\n",
            "원문: Days after he threatened to step down from his post if Congress MLAs continue \"crossing the line,\" Karnataka Chief Minister HD Kumaraswamy accused them of taking potshots and asked, \"How many more days can I tolerate such stuff?\" Kumaraswamy, who made the statements after a Congress MLA demanded that Siddaramaiah be made CM again, said, \"Power is ephemeral.\"\n",
            "실제 요약: How long can I tolerate Congress leaders' potshots: K'taka CM\n",
            "예측 요약: \n",
            "\n",
            "\n",
            "원문: Union Minister Dharmendra Pradhan on Wednesday claimed the illegal mining mafia in Odisha operates under the control of CM Naveen Patnaik and state Congress chief Niranjan Patnaik. He added, \"The time has come for the people of Odisha to put a full stop to their activities...The time has come for us to ask for an explanation from this corrupt government.\"\n",
            "실제 요약: Odisha CM Patnaik controls mining mafia: Union Minister\n",
            "예측 요약: Union Minister Dharmendra Pradhan on Wednesday claimed the illegal mining mafia in Odisha operates under the control of CM Naveen Patnaik and state Congress chief Niranjan Patnaik.\n",
            "\n",
            "\n",
            "원문: Claiming there is a dearth of ideas among opposition parties, Prime Minister Narendra Modi on Wednesday said, \"The opposition talks only about Modi the whole day, I suspect they even dream about me.\" PM Modi, who was addressing the New India Youth Conclave inÃ¢ÂÂ Surat, added that the opposition parties have only one agenda which is \"Modi\". \n",
            "실제 요약: I think the opposition even dreams about me: PM Modi\n",
            "예측 요약: \n",
            "\n",
            "\n",
            "원문: The Indian Space Research Organisation on Wednesday unveiled Human Space Flight Centre in Bengaluru for its Ã¢ÂÂ¹10,000-crore manned space mission 'Gaganyaan' scheduled for 2021. ISRO said the centre will be responsible for development of engineering systems for crew survival in space and crew selection and training. It'll also pursue activities for sustained human space flight missions, ISRO added.\n",
            "실제 요약: ISRO unveils Bengaluru centre for manned space mission \n",
            "예측 요약: It'll also pursue activities for sustained human space flight missions, ISRO added.\n",
            "\n",
            "\n",
            "원문: At least 12 people have been killed and 170 others have been injured in Saudi Arabia this week due to flooding from heavy rain. The emergency services rescued 271 people from the flooded areas, more than half of them in Tabuk. Heavy rains hit mainly western and northwestern parts of Saudi Arabia, near its border with Jordan.\n",
            "실제 요약: 12 killed, 170 injured in Saudi Arabia floods\n",
            "예측 요약: At least 12 people have been killed and 170 others have been injured in Saudi Arabia this week due to flooding from heavy rain.\n",
            "\n",
            "\n",
            "원문: Reliance Industries' Chairman Mukesh Ambani's daughter Isha Ambani has featured on the cover of the February edition of Vogue India. She's dressed in a white shirt dress and black ruffled skirt by Australian designer Toni Maticevski, while accessorising her look with a Misho ring. In the cover story on her, Isha has spoken about her work and life after marriage.\n",
            " \n",
            "실제 요약: Isha Ambani features on February cover of Vogue magazine\n",
            "예측 요약: Reliance Industries' Chairman Mukesh Ambani's daughter Isha Ambani has featured on the cover of the February edition of Vogue India.\n",
            "\n",
            "\n",
            "원문: Indian Oil Corporation on Wednesday said it's looking for an annual deal to buy US crude as it seeks to broaden oil purchasing options. This comes amid uncertainties over Iran imports. The US had in November granted a six-month waiver to India from sanctions against Iran and restricted the country's monthly intake of Iranian oil to 3,00,000 barrels per day.\n",
            "\n",
            "\n",
            "실제 요약: Indian Oil looking for annual deal to buy crude from US\n",
            "예측 요약: The US had in November granted a six-month waiver to India from sanctions against Iran and restricted the country's monthly intake of Iranian oil to 3,00,000 barrels per day.\n",
            "\n",
            "\n",
            "원문: Former Windies fast bowler Curtly Ambrose dismissed seven Australian batsmen within a span of 32 balls giving away just one run, in a Test match on January 30, 1993. Ambrose's spell helped his team bowl out Australia for 119 in the first innings, after being 85 for 2 at one point. Ambrose ended with first-innings figures of 18-9-25-7.\n",
            "실제 요약: Pacer once took 7 wickets for just 1 run in 32 balls in a Test\n",
            "예측 요약: Ambrose ended with first-innings figures of 18-9-25-7.\n",
            "\n",
            "\n",
            "원문: A London zoo is offering people to name a cockroach after their exes on Valentine's Day for ÃÂ£1.50 (nearly Ã¢ÂÂ¹140). \"For those that don't quite require revenge, there's another way to make you feel better about getting back at your ex,\" the zoo said in a statement. The names will appear on zoo's 'roach board' on February 14. \n",
            "실제 요약: UK zoo offers people to name cockroach after their ex on Valentine's\n",
            "예측 요약: The names will appear on zoo's 'roach board' on February 14.\n",
            "\n",
            "\n",
            "원문: Stand-in captain Rohit Sharma has become the 14th Indian cricketer to play 200 ODIs, achieving the feat after taking the field against New Zealand in fourth ODI at Hamilton on Thursday. The 31-year-old had made his ODI debut on June 23, 2007, against Ireland in Belfast. Rohit scored 7,799 runs in his first 199 ODIs at an average of 48.14.\n",
            "실제 요약: Rohit Sharma becomes 14th Indian cricketer to play 200 ODIs\n",
            "예측 요약: Rohit scored 7,799 runs in his first 199 ODIs at an average of 48.14.\n",
            "\n",
            "\n",
            "원문: Batsman Shubman Gill has become the 227th cricketer to represent India in ODI cricket, achieving the feat against New Zealand in the fourth ODI at Hamilton on Thursday. The 19-year-old received his maiden ODI cap from former captain MS Dhoni. Notably, Shubman was named Player of the Under-19 World Cup in New Zealand last year.\n",
            "실제 요약: 19-year-old Shubman Gill becomes India's 227th ODI cricketer\n",
            "예측 요약: Notably, Shubman was named Player of the Under-19 World Cup in New Zealand last year.\n",
            "\n",
            "\n",
            "원문: Investigators searching for a lost plane carrying Argentine forward Emiliano Sala found two seat cushions on French coast that \"likely\" belonged to the aircraft. The investigators said they'll now launch an underwater seabed search for aircraft wreckage. The Cardiff City footballer was travelling from France's Nantes to Wales' Cardiff when his plane disappeared over English Channel on January 21.\n",
            "실제 요약: 2 seat cushions from 'missing plane carrying footballer' found\n",
            "예측 요약: Investigators searching for a lost plane carrying Argentine forward Emiliano Sala found two seat cushions on French coast that \"likely\" belonged to the aircraft.\n",
            "\n",
            "\n",
            "원문: Italian third division football side Lucchese's head coach Giancarlo Favarin has been banned for five months for headbutting Alessandria's assistant coach Gaetano Mancino during a brawl following the teams' 2-2 draw on Sunday. Mancino was caught off-balance and knocked to the ground after the headbutt. Earlier in the match, Favarin had told his own player to break an opponent's legs.\n",
            "실제 요약: Italian coach knocks rival down with headbutt, banned for 5 months\n",
            "예측 요약: Italian third division football side Lucchese's head coach Giancarlo Favarin has been banned for five months for headbutting Alessandria's assistant coach Gaetano Mancino during a brawl following the teams' 2-2 draw on Sunday.\n",
            "\n",
            "\n",
            "원문: Cyclists taking part in National Track Cycling Championship in Jaipur opted to sleep on the floor inside the stadium instead of hotels over expensive cycles. The organisers had booked hotels but they didn't have the provision for cyclists to keep their bikes inside. A national gold medallist said their cycles cost between Ã¢ÂÂ¹5-9 lakh and once damaged, they become non-repairable. \n",
            "실제 요약: Cyclists sleep on stadium floor instead of hotel over costly cycles\n",
            "예측 요약: Cyclists taking part in National Track Cycling Championship in Jaipur opted to sleep on the floor inside the stadium instead of hotels over expensive cycles.\n",
            "\n",
            "\n",
            "원문: Silvia Grecco, a 56-year-old Brazilian mother narrates her local football team Palmeiras' matches live to her 12-year-old blind and autistic son Nickollas from the stands. \"I describe details: this player is wearing short sleeves...colour of...football boots, hair colour...Everything I see and feel, I tell him, even when I need to curse the referee!\" Grecco said after a recent match.\n",
            "실제 요약: Brazilian mother narrates football matches to blind son from stands\n",
            "예측 요약: Silvia Grecco, a 56-year-old Brazilian mother narrates her local football team Palmeiras' matches live to her 12-year-old blind and autistic son Nickollas from the stands.\n",
            "\n",
            "\n",
            "원문: A TechCrunch report has claimed that IndiaÃ¢ÂÂs largest bank SBI secured a passwordless server \"overnight\" on being alerted it allowed anyone to access phone numbers, bank balances, and transactions of millions of its customers. The Mumbai-based server was containing two months of data from SBI Quick, an SMS and call-based system used to request basic information about accounts, TechCrunch revealed.\n",
            "실제 요약: SBI left account data of millions of users unprotected: Report\n",
            "예측 요약: A TechCrunch report has claimed that IndiaÃ¢ÂÂs largest bank SBI secured a passwordless server \"overnight\" on being alerted it allowed anyone to access phone numbers, bank balances, and transactions of millions of its customers.\n",
            "\n",
            "\n",
            "원문: Rahul Gandhi has replied to Goa CM Manohar Parrikar's letter, which accused the Congress President of using his \"visit to an ailing man for political gains\". \"He's under immense pressure from the PM after our meeting and needs to demonstrate his loyalty by attacking me,\" Gandhi wrote in his letter. Parrikar had clarified he didn't discuss Rafale deal with Rahul.\n",
            "실제 요약: CM Parrikar under pressure from PM after our Goa meet: Rahul\n",
            "예측 요약: Rahul Gandhi has replied to Goa CM Manohar Parrikar's letter, which accused the Congress President of using his \"visit to an ailing man for political gains\".\n",
            "\n",
            "\n",
            "원문: Twenty-seven-year-old Mohammed Mahuwala was arrested in Indore on Wednesday for allegedly cheating e-commerce giant Amazon of nearly Ã¢ÂÂ¹30 lakh. Mahuwala was a member of a gang who ordered costly gadgets from Amazon. \"[They] used to get refund of the amount paid...by saying the parcel...was empty. In reality, these devices were taken out from parcel and sold...to local shopkeepers,\" said police.\n",
            "실제 요약: Man arrested for cheating Amazon of Ã¢ÂÂ¹30 lakh by taking refunds\n",
            "예측 요약: Twenty-seven-year-old Mohammed Mahuwala was arrested in Indore on Wednesday for allegedly cheating e-commerce giant Amazon of nearly Ã¢ÂÂ¹30 lakh.\n",
            "Mahuwala was a member of a gang who ordered costly gadgets from Amazon.\n",
            "\n",
            "\n",
            "원문: AgustaWestland chopper scam co-accused Rajiv Saxena was extradited to India from UAE on Wednesday. He had been evading the Enforcement Directorate's summons claiming he was suffering from leukaemia but had moved an anti-money laundering court for anticipatory bail in December, stating he had never been summoned at his Dubai address. Saxena's lawyers alleged he had been \"illegally extradited\". \n",
            "실제 요약: AgustaWestland scam accused Rajiv Saxena extradited to India\n",
            "예측 요약: AgustaWestland chopper scam co-accused Rajiv Saxena was extradited to India from UAE on Wednesday.\n",
            "\n",
            "\n",
            "원문: Afghan President Ashraf Ghani has said the \"keys to war\" are in Pakistan's Islamabad, Quetta and Rawalpindi, accusing the country of providing safe havens to militants, including those belonging to the Taliban. Ghani added the \"key to peace was in Afghanistan\". His comments came amid the talks between the US and the Taliban to end the 17-year war in Afghanistan.\n",
            "실제 요약: Pakistan holds 'keys to war': Afghanistan\n",
            "예측 요약: Afghan President Ashraf Ghani has said the \"keys to war\" are in Pakistan's Islamabad, Quetta and Rawalpindi, accusing the country of providing safe havens to militants, including those belonging to the Taliban.\n",
            "\n",
            "\n",
            "원문: A Singapore-based insurance agent has been jailed for two years and five months for threatening to harm his clients unless they paid him in bitcoins. The 36-year-old set up an email account, and signed the messages as 'Lord Voldemort', a fictional character from the Harry Potter series. Ye Lin Myint targeted about 33 people, including those who cancelled insurance policies.\n",
            "실제 요약: Insurance agent 'Lord Voldemort' jailed for threatening clients\n",
            "예측 요약: A Singapore-based insurance agent has been jailed for two years and five months for threatening to harm his clients unless they paid him in bitcoins.\n",
            "\n",
            "\n",
            "원문: Gabrielle Reilly, a 22-year-old US woman, created earrings for her Apple AirPods and put it up for sale online for $20 (about Ã¢ÂÂ¹1,500). \"I absolutely refuse to lose them (AirPods)...So I made earrings,\" she explained. The earrings, which took her over an hour to make, debuted in a video on Twitter that has since garnered over three million views.\n",
            "실제 요약: Woman turns Apple AirPods into earrings to avoid losing them\n",
            "예측 요약: \"I absolutely refuse to lose them (AirPods)...So I made earrings,\" she explained.\n",
            "\n",
            "\n",
            "원문: Ex-ICICI Bank CEO Chanda Kochhar said she's \"utterly disappointed, hurt and shocked\" by the bank's decision to terminate her. Kochhar said she served ICICI for 34 years with utmost honesty and integrity and that ultimately truth will prevail. Adding that she hasn't been given a copy of the independent probe report, Kochhar said none of ICICI's credit decisions are unilateral\n",
            "실제 요약: Shocked, hurt by ICICI's decision, truth will prevail: Kochhar\n",
            "예측 요약: Adding that she hasn't been given a copy of the independent probe report, Kochhar said none of ICICI's credit decisions are unilateral\n",
            "\n",
            "\n",
            "원문: Swedish multinational fast-fashion brand Hennes & Mauritz AB (H&M) has hired Christopher Wylie, the whistleblower who exposed Facebook's Cambridge Analytica data scandal. WylieÃ¢ÂÂs focus will be to help get better insights on customers, products and markets and support work on sustainable and ethical artificial intelligence, H&M spokesperson said. Wylie is a former employee of Cambridge Analytica.\n",
            "실제 요약: Fashion brand H&M hires Facebook data scandal whistleblower\n",
            "예측 요약: Swedish multinational fast-fashion brand Hennes & Mauritz AB (H&M) has hired Christopher Wylie, the whistleblower who exposed Facebook's Cambridge Analytica data scandal.\n",
            "\n",
            "\n",
            "원문: Micro-blogging platform Twitter is testing a new feature on Android to put news on the top of a user's timeline. \"With this update, weÃ¢ÂÂre making it easier for people to see news and stories their followers have been discussing,\" Product Manager Walter Gurzynski said. The feature comes alongside a prompt saying, \"Catch up on what's happened while you were away.\"\n",
            "실제 요약: Twitter testing news-first timeline feature on Android\n",
            "예측 요약: Micro-blogging platform Twitter is testing a new feature on Android to put news on the top of a user's timeline.\n",
            "\n",
            "\n",
            "원문: Samsung has started mass producing its one terabyte 'embedded Universal Flash Storage (eUFS) 2.1' technology for \"use in next-generation mobile applications\", which it claims is the industry's first such eUFS. The company added the new eUFS will let smartphones store 260 10-minute videos shot in 4K UHD format. It'll be sized the same as the previous 512GB version, Samsung said.\n",
            "실제 요약: Samsung builds world's first 1TB storage chip for smartphones \n",
            "예측 요약: Samsung has started mass producing its one terabyte 'embedded Universal Flash Storage (eUFS) 2.1' technology for \"use in next-generation mobile applications\", which it claims is the industry's first such eUFS.\n",
            "\n",
            "\n",
            "원문: Prime Minister Narendra Modi on Wednesday said the people with 'negative mindset' are questioning him and his government for floating pro-poor schemes. He added negative mindset people are raising doubts about schemes such as building toilets and providing free gas connections to the poor. He further said that negative mentality laced with a vested interest still exists in the country.\n",
            "실제 요약: People with 'negative mindset' quizzing pro-poor schemes: PM\n",
            "예측 요약: Prime Minister Narendra Modi on Wednesday said the people with 'negative mindset' are questioning him and his government for floating pro-poor schemes.\n",
            "\n",
            "\n",
            "원문: Union Minister Anantkumar Hegde took a dig at Congress President Rahul Gandhi by calling him a \"hybrid specimen\" who has no clue about religion. \"A father who's...Muslim, a mother who's...Christian and the son is supposed to be...Brahmin. How is that even possible?\" he said. He added such \"hybrid specimen\" cannot be found in any laboratory in the world.\n",
            "실제 요약: Rahul is hybrid specimen, has no clue about religion: Hegde\n",
            "예측 요약: Union Minister Anantkumar Hegde took a dig at Congress President Rahul Gandhi by calling him a \"hybrid specimen\" who has no clue about religion.\n",
            "He added such \"hybrid specimen\" cannot be found in any laboratory in the world.\n",
            "\n",
            "\n",
            "원문: Several parts of the US are set to experience record low temperatures as the polar vortex hit the Upper Midwest, with more than 200 million people expected to experience below-freezing temperatures this week. Temperatures throughout the Upper Midwest are expected to be at least 20-40Ã¢ÂÂ below zero. Government offices and schools have been closed in several areas.\n",
            "실제 요약: Extreme cold to affect 200 million people as polar vortex hits US\n",
            "예측 요약: Several parts of the US are set to experience record low temperatures as the polar vortex hit the Upper Midwest, with more than 200 million people expected to experience below-freezing temperatures this week.\n",
            "\n",
            "\n",
            "원문: The police on Wednesday registered cases against 13 persons, including a woman leader of Hindu Mahasabha, in Aligarh for firing at an effigy of Mahatma Gandhi with an air pistol. \"The incident took place in a house in Naurangabad locality of the city,\" Senior Superintendent of Police said. The video of the event went viral on social media, he added.\n",
            "실제 요약: 13 booked for firing air shots at Mahatma Gandhi's effigy\n",
            "예측 요약: The police on Wednesday registered cases against 13 persons, including a woman leader of Hindu Mahasabha, in Aligarh for firing at an effigy of Mahatma Gandhi with an air pistol.\n",
            "\n",
            "\n",
            "원문: Railway police has rescued a woman travelling on a train in Chennai who got her leg stuck inside the commode of a toilet. After being caught inside the commode hole, she struggled to remove her leg and following failed attempts, she shouted for help, reports said. Railway police used a cutter to pry open the commode and freed her leg.\n",
            "실제 요약: Railway police rescues woman with leg stuck in train toilet\n",
            "예측 요약: Railway police has rescued a woman travelling on a train in Chennai who got her leg stuck inside the commode of a toilet.\n",
            "\n",
            "\n",
            "원문: The US on Tuesday began returning asylum seekers to Mexico, sending back a migrant from a Central American nation and called the move a \"response to the illegal migration crisis\" faced by it. Under its Migrant Protection Protocols policy, the US will return certain migrants who cross into the country illegally back to Mexico while their asylum requests are processed.\n",
            "실제 요약: US begins sending back asylum seekers to Mexico\n",
            "예측 요약: The US on Tuesday began returning asylum seekers to Mexico, sending back a migrant from a Central American nation and called the move a \"response to the illegal migration crisis\" faced by it.\n",
            "\n",
            "\n"
          ]
        }
      ],
      "source": [
        "for i in range(0, 50):\n",
        "    print(\"원문:\", re_text['text'][i])\n",
        "    print(\"실제 요약:\", re_text['headlines'][i])\n",
        "    print(\"예측 요약:\", summarize(re_text['text'][i], ratio=0.5))\n",
        "    print(\"\\n\")"
      ]
    },
    {
      "cell_type": "markdown",
      "metadata": {
        "id": "o2Xc-5jKrUEG"
      },
      "source": [
        "## **🌿 03_테스트 결과**"
      ]
    },
    {
      "cell_type": "markdown",
      "metadata": {
        "id": "ujD6Wk7SrYbT"
      },
      "source": [
        "- **예측 요약의 경우 ratio를 0.5 미만으로 설정 시 요약이 안되는 문장이 발생**\n",
        "- **중간 중간 인코딩 되지 않은 언어 출현**  \n",
        "- **본문에서 사용하지 않은 단어 사용이 많음**  \n",
        "- **요약 내용이 거의 일치하지 않음 / 요약 내용이 원문을 거의 그대로 추출하는 경우 발생**"
      ]
    },
    {
      "cell_type": "markdown",
      "metadata": {
        "id": "N1NgnNE4j8Gg"
      },
      "source": [
        "<hr>"
      ]
    },
    {
      "cell_type": "markdown",
      "metadata": {
        "id": "deNjz7NY4M7v"
      },
      "source": [
        "# **🌲 EXPLORATION 07-5 : 결론**"
      ]
    },
    {
      "cell_type": "markdown",
      "metadata": {
        "id": "Q9E44ko4Diqu"
      },
      "source": [
        "추상적 요약과 추출적 요약을 진행해보았다. 추상적 요약은 어느 정도 정확도가 있을 것 이라고 예상했는데, 주요 단어 및 주어 제외 문맥 상 흐름이나 내용은 잘 예측하지 못하는 모습을 보여주었다. 추출적 요약의 경우 ratio 값이 0.5 미만인 경우 많은 요약을 진행하지 않았고, 그래서 0.5로 설정해 진행했다. 그 결과 요약이 많이 진행되지 않았을 뿐 아니라 주요 단어 추출 조차 잘 해내지 못하는 모습을 보여주었고, 아니면 아예 반대로 원문을 거의 그대로 추출하는 경우가 발생했다. 그리고 요약 진행 시 인코딩이 진행되지 않은 글자들도 섞여 있어 좀 더 정규화가 필요하다고 느꼈다. 이번 진행을 통해 정규화의 중요성과 데이터가 부족한 경우 요약이 제대로 이루어지지 않음을 알 수 있었다."
      ]
    },
    {
      "cell_type": "markdown",
      "metadata": {
        "id": "4i2gaZe3Diqu"
      },
      "source": [
        "<hr>"
      ]
    }
  ],
  "metadata": {
    "accelerator": "GPU",
    "colab": {
      "collapsed_sections": [
        "QVkwoRLa97eu",
        "Doxa4rj7-MnH",
        "68LBehz3-Bj0",
        "Uo5sNDE9Fw-4",
        "2g3PBieV-nAr",
        "HCDRR3nMEjWI",
        "ffFoRGzCEp_E",
        "w3F3OdSCFAqv",
        "uzceRQHCFOqL",
        "XitZjCGOBk7h",
        "q1_6I_1LBw57",
        "lbhJyLvBB3Jf",
        "kcrvYhBfG0Gd",
        "_iAhFwN-IbyL",
        "b9tI-c7cI-uU",
        "a1w-44ZUK7P4",
        "R51aFNiXLWEn",
        "bYF2WV0JMwjQ",
        "0RmJPmRLNmlj",
        "uJ7QYDfeWXUz",
        "xfSM2PGxsLrJ",
        "mEifPK9B2WgD",
        "myaN8HTN2czh",
        "GbErjvQl27EU",
        "bs9Z7-fYXWCW",
        "0d17I8GuXfOh",
        "c8CSSIUdXkJ0",
        "_GlFoI-9gGqG",
        "3oAooWFugsor",
        "QIte2yyfg_kM",
        "OjycxgxahFH9",
        "6arznZVsXqP_",
        "y9Ej2SY3emyW",
        "JNuSpjJEfPAn",
        "Bl_U_caolUvL",
        "_0IE-rMAAdWm",
        "AwLvJ-dMX5EU",
        "TN5eGoPSX59y",
        "o2Xc-5jKrUEG",
        "deNjz7NY4M7v",
        "FOUGQSYN4STG"
      ],
      "machine_shape": "hm",
      "name": "[E-07]exploration.ipynb",
      "provenance": [],
      "include_colab_link": true
    },
    "kernelspec": {
      "display_name": "Python 3 (ipykernel)",
      "language": "python",
      "name": "python3"
    },
    "language_info": {
      "codemirror_mode": {
        "name": "ipython",
        "version": 3
      },
      "file_extension": ".py",
      "mimetype": "text/x-python",
      "name": "python",
      "nbconvert_exporter": "python",
      "pygments_lexer": "ipython3",
      "version": "3.9.7"
    }
  },
  "nbformat": 4,
  "nbformat_minor": 0
}