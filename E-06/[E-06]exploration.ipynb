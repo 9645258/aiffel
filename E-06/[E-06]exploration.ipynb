{
  "cells": [
    {
      "cell_type": "markdown",
      "metadata": {
        "id": "view-in-github",
        "colab_type": "text"
      },
      "source": [
        "<a href=\"https://colab.research.google.com/github/9645258/aiffel/blob/main/E-06/%5BE-06%5Dexploration.ipynb\" target=\"_parent\"><img src=\"https://colab.research.google.com/assets/colab-badge.svg\" alt=\"Open In Colab\"/></a>"
      ]
    },
    {
      "cell_type": "markdown",
      "metadata": {
        "id": "UAEY4CkUYX5j"
      },
      "source": [
        "# **🎄 EXPLORATION 06**"
      ]
    },
    {
      "cell_type": "markdown",
      "source": [
        "- **🌲 EXPLORATION 06-1 : 학습 내용**  \n",
        "- **🌲 EXPLORATION 06-2 : 멋진 가사가 만들기**  \n",
        "    - **🌿 01_데이터 준비**  \n",
        "        - 🍃 01-1_라이브러리 import  \n",
        "        - 🍃 01-2_데이터 import  \n",
        "        - 🍃 01-3_데이터 확인  \n",
        "    - **🌿 02_데이터 정제**  \n",
        "        - 🍃 02-1_내용 정제  \n",
        "        - 🍃 02-2_토큰화  \n",
        "        - 🍃 02-3_최종 정제  \n",
        "        - 🍃 02-4_정제 완료 및 데이터 확인  \n",
        "    - **🌿 03_평가 데이터셋 분리**  \n",
        "        - 🍃 03-1_데이터셋 객체 생성  \n",
        "    - **🌿 04_인공지능 만들기**    \n",
        "    - **🌿 05_가사 한줄 생성**\n",
        "- **🌲 EXPLORATION 06-3 : 멋진 가사가 만들기**  \n",
        "\n",
        "\n",
        "\n",
        "\n",
        "\n"
      ],
      "metadata": {
        "id": "f6tgPzjmQIej"
      }
    },
    {
      "cell_type": "markdown",
      "metadata": {
        "id": "cGtYH1OXYhkN"
      },
      "source": [
        "# **🌲 EXPLORATION 06-1 : 학습 내용**"
      ]
    },
    {
      "cell_type": "markdown",
      "metadata": {
        "id": "RZB02df6YiYW"
      },
      "source": [
        "# **🌲 EXPLORATION 06-2 : 멋진 가사가 만들기**"
      ]
    },
    {
      "cell_type": "markdown",
      "metadata": {
        "id": "CDQBJgcJaA9Y"
      },
      "source": [
        "## **🌿 01_데이터 준비**  "
      ]
    },
    {
      "cell_type": "markdown",
      "source": [
        "### **🍃 01-1_라이브러리 import**"
      ],
      "metadata": {
        "id": "Et79yVpyzkqw"
      }
    },
    {
      "cell_type": "markdown",
      "source": [
        "- **os**  \n",
        "운영체제 기능 사용  \n",
        "\n",
        "- **re**  \n",
        "정규표현식 사용 \n",
        "\n",
        "- **glob**  \n",
        "파일 경로를 이용한 제어     \n",
        "\n",
        "- **matplotlib**  \n",
        "시각화  \n",
        "\n",
        "- **numpy**  \n",
        "수치 계산  \n",
        "\n",
        "- **tensorflow**    \n",
        "딥러닝 프로그램 구현  \n",
        "\n",
        "- **from sklearn.model_selection import train_test_split**    \n",
        "학습 셋 / 테스트 셋 분리  \n"
      ],
      "metadata": {
        "id": "ZOIsdcLhzp_Z"
      }
    },
    {
      "cell_type": "code",
      "execution_count": null,
      "metadata": {
        "id": "7delRwyuJlzA"
      },
      "outputs": [],
      "source": [
        "import os\n",
        "import re\n",
        "import glob\n",
        "import matplotlib.pyplot as plt\n",
        "import numpy as np\n",
        "\n",
        "import tensorflow as tf\n",
        "from sklearn.model_selection import train_test_split"
      ]
    },
    {
      "cell_type": "markdown",
      "source": [
        "### **🍃 01-2_데이터 import** "
      ],
      "metadata": {
        "id": "jiVaLZkW0yV6"
      }
    },
    {
      "cell_type": "markdown",
      "source": [
        "- **glob.glob()**  \n",
        "해당 저장경로 내 해당 확장자를 리스트 형식으로 반환  "
      ],
      "metadata": {
        "id": "KBmplW9z1ORg"
      }
    },
    {
      "cell_type": "code",
      "source": [
        "txt_file_path = os.getenv('HOME')+'/aiffel/exploration/E-06/data/lyricist/models/data/lyrics/*'\n",
        "txt_list = glob.glob(txt_file_path)\n",
        "\n",
        "raw_corpus = []\n",
        "\n",
        "# 파일을 읽기모드로 열고 라인 단위로 끊은 형태로 호출\n",
        "for txt_file in txt_list:\n",
        "    with open(txt_file, \"r\") as f:\n",
        "        raw = f.read().splitlines()\n",
        "        raw_corpus.extend(raw)"
      ],
      "metadata": {
        "id": "aSbWCG2Z3XXK"
      },
      "execution_count": null,
      "outputs": []
    },
    {
      "cell_type": "markdown",
      "source": [
        "### **🍃 01-3_데이터 확인** "
      ],
      "metadata": {
        "id": "oZjAMPP23ZIi"
      }
    },
    {
      "cell_type": "markdown",
      "source": [
        "- **데이터 크기 및 샘플 출력**"
      ],
      "metadata": {
        "id": "LFupHMu13fZm"
      }
    },
    {
      "cell_type": "code",
      "execution_count": null,
      "metadata": {
        "colab": {
          "base_uri": "https://localhost:8080/"
        },
        "id": "1eeniOE6Kti7",
        "outputId": "858527ca-ce60-413a-cf0b-aec6e8b1c95d"
      },
      "outputs": [
        {
          "name": "stdout",
          "output_type": "stream",
          "text": [
            "데이터 크기\n",
            " 187088\n",
            "\n",
            "Examples\n",
            " [\"Busted flat in Baton Rouge, waitin' for a train\", \"And I's feelin' near as faded as my jeans\", 'Bobby thumbed a diesel down, just before it rained']\n"
          ]
        }
      ],
      "source": [
        "# 데이터 크기 출력\n",
        "print(\"데이터 크기\\n\", len(raw_corpus))\n",
        "\n",
        "# 3라인 순차 출력\n",
        "print(\"\\nExamples\\n\", raw_corpus[:3])"
      ]
    },
    {
      "cell_type": "markdown",
      "source": [
        "## **🌿 02_데이터 정제**  "
      ],
      "metadata": {
        "id": "WsbDgpb52-ij"
      }
    },
    {
      "cell_type": "markdown",
      "source": [
        "### **🍃 02-1_내용 정제** "
      ],
      "metadata": {
        "id": "7wEtsmdq6qBc"
      }
    },
    {
      "cell_type": "markdown",
      "source": [
        "- **입력 문장 정제**\n",
        "    - **.replace()**  \n",
        "    특정 문자를 다른 문자로 치환  \n",
        "\n",
        "    - **lower()**  \n",
        "    소문자로 변경  \n",
        "\n",
        "    - **strip()**  \n",
        "    공백 제거\n",
        "\n",
        "    - **re.sub()**  \n",
        "    정규표현식을 활용한 문자 치환  \n"
      ],
      "metadata": {
        "id": "RUinBMXp3yqh"
      }
    },
    {
      "cell_type": "code",
      "execution_count": null,
      "metadata": {
        "id": "wUQHq4TXKf31"
      },
      "outputs": [],
      "source": [
        "def preprocess_sentence(sentence):\n",
        "\n",
        "    # 소문자로 변경, 양쪽 공백 제거\n",
        "    sentence = sentence.lower().strip()\n",
        "\n",
        "    # 특수문자 양쪽 공백 삽입  \n",
        "    sentence = re.sub(r\"([?.!,¿])\", r\" \\1 \", sentence)\n",
        "\n",
        "    # 여러개의 공백을 하나의 공백으로 변환  \n",
        "    sentence = re.sub(r'[\" \"]+', \" \", sentence)\n",
        "\n",
        "    # 지정 특수기호가 아닌 모든 문자를 하나의 공백으로 변환\n",
        "    sentence = re.sub(r\"[^a-zA-Z?.!,¿]+\", \" \", sentence)\n",
        "\n",
        "    # 필요 없는 문자 삭제   \n",
        "    sentence = sentence.replace('[Chorus]', '')\n",
        "    sentence = sentence.replace('[Verse 1]', '')\n",
        "    sentence = sentence.replace('[Verse 2]', '')\n",
        "    sentence = sentence.replace('[Hook]', '')\n",
        "    sentence = sentence.replace('[Pre-Hook]', '')\n",
        "\n",
        "    # 양쪽 공백 삭제\n",
        "    sentence = sentence.strip()\n",
        "    sentence = '<start> ' + sentence + ' <end>'\n",
        "\n",
        "    return sentence"
      ]
    },
    {
      "cell_type": "markdown",
      "source": [
        "### **🍃 02-2_토큰화** "
      ],
      "metadata": {
        "id": "2X6AOMkA5kPz"
      }
    },
    {
      "cell_type": "markdown",
      "source": [
        "- **tf.keras.preprocessing.text.Tokenizer**  \n",
        "Tensorflow를 활용한 Tokenize 전처리  \n",
        "텍스트를 단어 기반으로 토큰화  \n",
        "    - **num_words**  \n",
        "    전체 단어 수  \n",
        "    - **filters**  \n",
        "    별도의 전처리 추가  \n",
        "    - **oov_token**  \n",
        "    out-of-vocabulary / 사전에 없는 단어 대체 토큰  \n",
        "- **tf.keras.preprocessing.sequence.pad_sequences**  \n",
        "패딩 진행  \n",
        "    - **padding**  \n",
        "    앞에 0 채움 (기본) / 뒤에 0 채우고 싶은 경우 padding = 'post' 사용  \n",
        "    - **maxlen**  \n",
        "    해당 정수 값 만큼 시퀀스 길이 동일하게 설정    "
      ],
      "metadata": {
        "id": "bEaDdVs_UNBf"
      }
    },
    {
      "cell_type": "code",
      "execution_count": null,
      "metadata": {
        "id": "sdHf-B-gOqIh"
      },
      "outputs": [],
      "source": [
        "def tokenize(corpus):\n",
        "    tokenizer = tf.keras.preprocessing.text.Tokenizer(\n",
        "        num_words = 15000, \n",
        "        filters=' ',\n",
        "        oov_token=\"<unk>\"\n",
        "    )\n",
        "    tokenizer.fit_on_texts(corpus)\n",
        "    tensor = tokenizer.texts_to_sequences(corpus)   \n",
        "    tensor = tf.keras.preprocessing.sequence.pad_sequences(tensor, padding='post', maxlen = 15)  \n",
        "    \n",
        "    print(tensor,tokenizer)\n",
        "    return tensor, tokenizer"
      ]
    },
    {
      "cell_type": "markdown",
      "source": [
        "### **🍃 02-3_최종 정제** "
      ],
      "metadata": {
        "id": "horiyvypaQCD"
      }
    },
    {
      "cell_type": "code",
      "execution_count": null,
      "metadata": {
        "id": "waMB5GqrO1H-"
      },
      "outputs": [],
      "source": [
        "def generate_text(model, tokenizer, init_sentence=\"<start>\", max_len=15):\n",
        "    test_input = tokenizer.texts_to_sequences([init_sentence])\n",
        "    test_tensor = tf.convert_to_tensor(test_input, dtype=tf.int64)\n",
        "    end_token = tokenizer.word_index[\"<end>\"]\n",
        "\n",
        "    while True:\n",
        "        # 입력받은 문장의 텐서를 입력\n",
        "        predict = model(test_tensor)\n",
        "        # 모델이 예측한 마지막 단어 = 바로 새롭게 생성한 단어  \n",
        "        predict_word = tf.argmax(tf.nn.softmax(predict, axis=-1), axis=-1)[:, -1]\n",
        "        # 우리 모델이 새롭게 예측한 단어를 입력 문장의 뒤에 삽입  \n",
        "        test_tensor = tf.concat([test_tensor, tf.expand_dims(predict_word, axis=0)], axis=-1)\n",
        "        # <END>, max_len에 도달하지 않을 시 while 루프 돌면서 다음 단어를 예측  \n",
        "        if predict_word.numpy()[0] == end_token: break\n",
        "        if test_tensor.shape[1] >= max_len: break\n",
        "\n",
        "    generated = \"\"\n",
        "    # 생성된 tensor 안에 있는 word index를 tokenizer.index_word 사전을 통해 단어로 하나씩 변환\n",
        "    for word_index in test_tensor[0].numpy():\n",
        "        generated += tokenizer.index_word[word_index] + \" \"\n",
        "\n",
        "    return generated"
      ]
    },
    {
      "cell_type": "markdown",
      "source": [
        "### **🍃 02-4_정제 완료 및 데이터 확인** "
      ],
      "metadata": {
        "id": "HoT7AsLdaU5X"
      }
    },
    {
      "cell_type": "markdown",
      "source": [
        "- **.split()**  \n",
        "분할  \n",
        "- **.append()**  \n",
        "요소 추가  "
      ],
      "metadata": {
        "id": "TIk-okqa7mPq"
      }
    },
    {
      "cell_type": "code",
      "execution_count": null,
      "metadata": {
        "colab": {
          "base_uri": "https://localhost:8080/"
        },
        "id": "ikSenIE5OciY",
        "outputId": "a6ab22a1-19ae-4a32-d1f4-98b94c4bcf44"
      },
      "outputs": [
        {
          "data": {
            "text/plain": [
              "['<start> busted flat in baton rouge , waitin for a train <end>',\n",
              " '<start> and i s feelin near as faded as my jeans <end>',\n",
              " '<start> bobby thumbed a diesel down , just before it rained <end>',\n",
              " '<start> i was playin soft while bobby sang the blues , yeah <end>',\n",
              " '<start> windshield wipers slappin time , i was holdin bobby s hand in mine <end>',\n",
              " '<start> you know , feelin good was good enough for me <end>',\n",
              " '<start> there bobby shared the secrets of my soul <end>',\n",
              " '<start> through all kinds of weather , through everything we done <end>',\n",
              " '<start> he s lookin for that home , and i hope he finds it <end>',\n",
              " '<start> nothin , that s all that bobby left me , yeah <end>']"
            ]
          },
          "execution_count": 7,
          "metadata": {},
          "output_type": "execute_result"
        }
      ],
      "source": [
        "corpus = []\n",
        "\n",
        "for sentence in raw_corpus:\n",
        "    if len(sentence) == 0: continue\n",
        "    if sentence[-1] == \"]\": continue\n",
        "    \n",
        "    \n",
        "\n",
        "    preprocessed_sentence = preprocess_sentence(sentence)\n",
        "    if len(preprocessed_sentence.split()) > 15: continue\n",
        "    corpus.append(preprocessed_sentence)\n",
        "\n",
        "corpus[:10]"
      ]
    },
    {
      "cell_type": "markdown",
      "source": [
        "- **토큰화 진행**  \n",
        "    - **tokenize( )**  \n",
        "    토큰화  "
      ],
      "metadata": {
        "id": "0dK2YWRkTvQM"
      }
    },
    {
      "cell_type": "code",
      "execution_count": null,
      "metadata": {
        "colab": {
          "base_uri": "https://localhost:8080/"
        },
        "id": "-1bYr1NdO_Lc",
        "outputId": "3ec4dee8-3283-4135-c8c2-fc7cba429e84"
      },
      "outputs": [
        {
          "name": "stdout",
          "output_type": "stream",
          "text": [
            "[[   2 3991 1671 ...    0    0    0]\n",
            " [   2    8    4 ...    0    0    0]\n",
            " [   2  887 6793 ...    0    0    0]\n",
            " ...\n",
            " [   2 4748    5 ...    0    0    0]\n",
            " [   2   22   22 ...    3    0    0]\n",
            " [   2    3    0 ...    0    0    0]] <keras_preprocessing.text.Tokenizer object at 0x7fe38a699c10>\n"
          ]
        }
      ],
      "source": [
        "tensor, tokenizer = tokenize(corpus)"
      ]
    },
    {
      "cell_type": "code",
      "execution_count": null,
      "metadata": {
        "colab": {
          "base_uri": "https://localhost:8080/"
        },
        "id": "_cdBW-enWiRg",
        "outputId": "2df5a849-8021-4879-d831-7361b0683747"
      },
      "outputs": [
        {
          "name": "stdout",
          "output_type": "stream",
          "text": [
            "1 : <unk>\n",
            "2 : <start>\n",
            "3 : <end>\n",
            "4 : i\n",
            "5 : ,\n",
            "6 : the\n",
            "7 : you\n",
            "8 : and\n",
            "9 : a\n",
            "10 : to\n"
          ]
        }
      ],
      "source": [
        "for idx in tokenizer.index_word:\n",
        "    print(idx, \":\", tokenizer.index_word[idx])\n",
        "\n",
        "    if idx >= 10: break"
      ]
    },
    {
      "cell_type": "code",
      "execution_count": null,
      "metadata": {
        "colab": {
          "base_uri": "https://localhost:8080/"
        },
        "id": "GDxP2UkzPAM2",
        "outputId": "1d94ecd3-73ff-405f-9f77-399728d95b01"
      },
      "outputs": [
        {
          "name": "stdout",
          "output_type": "stream",
          "text": [
            "[    2  3991  1671    14 12414  4458     5  1288    28     9   634     3\n",
            "     0     0]\n",
            "[ 3991  1671    14 12414  4458     5  1288    28     9   634     3     0\n",
            "     0     0]\n"
          ]
        }
      ],
      "source": [
        "src_input = tensor[:, :-1]  \n",
        "tgt_input = tensor[:, 1:]    \n",
        "\n",
        "print(src_input[0])\n",
        "print(tgt_input[0])"
      ]
    },
    {
      "cell_type": "markdown",
      "source": [
        "## **🌿 03_평가 데이터셋 분리**  "
      ],
      "metadata": {
        "id": "wDq52k1EeMs_"
      }
    },
    {
      "cell_type": "markdown",
      "source": [
        "### **🍃 03-1_데이터셋 객체 생성** "
      ],
      "metadata": {
        "id": "M3imCa3_ibt2"
      }
    },
    {
      "cell_type": "code",
      "execution_count": null,
      "metadata": {
        "id": "eRZlx3kPPHOg"
      },
      "outputs": [],
      "source": [
        "BUFFER_SIZE = len(src_input)\n",
        "BATCH_SIZE = 256\n",
        "steps_per_epoch = len(src_input) // BATCH_SIZE\n",
        "\n",
        "VOCAB_SIZE = tokenizer.num_words + 1\n",
        "\n",
        "X_train, X_val, y_train, y_val = train_test_split(src_input, tgt_input, test_size=0.2, random_state=25)\n",
        "\n",
        "train_dataset = tf.data.Dataset.from_tensor_slices((X_train, y_train))\n",
        "train_dataset = train_dataset.shuffle(BUFFER_SIZE)\n",
        "train_dataset = train_dataset.batch(BATCH_SIZE, drop_remainder=True)\n",
        "\n",
        "val_dataset = tf.data.Dataset.from_tensor_slices((X_val, y_val))\n",
        "val_dataset = val_dataset.shuffle(BUFFER_SIZE)\n",
        "val_dataset = val_dataset.batch(BATCH_SIZE, drop_remainder=True)"
      ]
    },
    {
      "cell_type": "code",
      "execution_count": null,
      "metadata": {
        "colab": {
          "base_uri": "https://localhost:8080/"
        },
        "id": "AqQSxPA2WsyJ",
        "outputId": "7a4eee08-1d1d-4ada-f879-bd0aa301baef"
      },
      "outputs": [
        {
          "name": "stdout",
          "output_type": "stream",
          "text": [
            "(124076, 14)\n",
            "(124076, 14)\n"
          ]
        }
      ],
      "source": [
        "print(X_train.shape)\n",
        "print(y_train.shape)"
      ]
    },
    {
      "cell_type": "code",
      "execution_count": null,
      "metadata": {
        "colab": {
          "base_uri": "https://localhost:8080/"
        },
        "id": "3HaA9qNbWt89",
        "outputId": "4a092a58-4179-4c69-da28-41688be56f12"
      },
      "outputs": [
        {
          "name": "stdout",
          "output_type": "stream",
          "text": [
            "(31020, 14)\n",
            "(31020, 14)\n"
          ]
        }
      ],
      "source": [
        "print(X_val.shape)\n",
        "print(y_val.shape)"
      ]
    },
    {
      "cell_type": "code",
      "execution_count": null,
      "metadata": {
        "colab": {
          "base_uri": "https://localhost:8080/"
        },
        "id": "wl7oPGtiWvCr",
        "outputId": "26c9ef61-6e10-482d-b479-bbb8d3534b89"
      },
      "outputs": [
        {
          "data": {
            "text/plain": [
              "<BatchDataset shapes: ((256, 14), (256, 14)), types: (tf.int32, tf.int32)>"
            ]
          },
          "execution_count": 14,
          "metadata": {},
          "output_type": "execute_result"
        }
      ],
      "source": [
        "train_dataset"
      ]
    },
    {
      "cell_type": "code",
      "execution_count": null,
      "metadata": {
        "colab": {
          "base_uri": "https://localhost:8080/"
        },
        "id": "l6x9yF6PWvzJ",
        "outputId": "bf99beb1-6942-4912-a6f4-cf16451ff724"
      },
      "outputs": [
        {
          "data": {
            "text/plain": [
              "<BatchDataset shapes: ((256, 14), (256, 14)), types: (tf.int32, tf.int32)>"
            ]
          },
          "execution_count": 15,
          "metadata": {},
          "output_type": "execute_result"
        }
      ],
      "source": [
        "val_dataset"
      ]
    },
    {
      "cell_type": "markdown",
      "source": [
        "## **🌿 04_인공지능 만들기**"
      ],
      "metadata": {
        "id": "rTEBRDFYdwPr"
      }
    },
    {
      "cell_type": "code",
      "execution_count": null,
      "metadata": {
        "id": "gn2mRIj9PLUy"
      },
      "outputs": [],
      "source": [
        "class TextGenerator(tf.keras.Model):\n",
        "    \n",
        "    def __init__(self, vocab_size, embedding_size, hidden_size):\n",
        "        super().__init__()\n",
        "        \n",
        "        self.embedding = tf.keras.layers.Embedding(vocab_size, embedding_size)\n",
        "        self.rnn_1 = tf.keras.layers.LSTM(hidden_size, return_sequences=True)\n",
        "        self.rnn_2 = tf.keras.layers.LSTM(hidden_size, return_sequences=True)\n",
        "        self.linear = tf.keras.layers.Dense(vocab_size)\n",
        "\n",
        "    def call(self, x):\n",
        "        out = self.embedding(x)\n",
        "        out = self.rnn_1(out)\n",
        "\n",
        "        out = self.rnn_2(out)\n",
        "        out = self.linear(out)\n",
        "        \n",
        "        return out"
      ]
    },
    {
      "cell_type": "code",
      "execution_count": null,
      "metadata": {
        "id": "gbYpxN1yW2P_"
      },
      "outputs": [],
      "source": [
        "embedding_size = 800\n",
        "hidden_size = 3000\n",
        "model = TextGenerator(tokenizer.num_words + 1, embedding_size , hidden_size)"
      ]
    },
    {
      "cell_type": "code",
      "execution_count": null,
      "metadata": {
        "colab": {
          "base_uri": "https://localhost:8080/"
        },
        "id": "JiNwkM0vPNvy",
        "outputId": "3f6140a5-d72f-4327-89bc-5406fdaa81f3"
      },
      "outputs": [
        {
          "data": {
            "text/plain": [
              "<tf.Tensor: shape=(256, 14, 15001), dtype=float32, numpy=\n",
              "array([[[-5.69706062e-05,  1.57625313e-04, -3.16905644e-04, ...,\n",
              "         -1.26078448e-04,  4.23408579e-04,  1.51901288e-04],\n",
              "        [-1.84650853e-04,  1.38166259e-04, -2.93262914e-04, ...,\n",
              "         -5.29920835e-05,  3.59753642e-04,  2.80166540e-04],\n",
              "        [-3.55869095e-04,  2.08617894e-05,  2.41817048e-04, ...,\n",
              "         -8.75116093e-05,  1.79397612e-04,  1.06988351e-04],\n",
              "        ...,\n",
              "        [-1.12288340e-03, -2.23343587e-03,  1.49175257e-03, ...,\n",
              "          1.95314852e-03, -3.88401910e-04, -1.09172426e-03],\n",
              "        [-5.45861316e-04, -1.55460043e-03,  1.11986930e-03, ...,\n",
              "          1.76216231e-03, -5.36672422e-04, -1.11876871e-03],\n",
              "        [-4.48750128e-04, -1.53924886e-03,  1.20265514e-03, ...,\n",
              "          1.62509514e-03, -6.42534520e-04, -7.90157588e-04]],\n",
              "\n",
              "       [[-5.69706062e-05,  1.57625313e-04, -3.16905644e-04, ...,\n",
              "         -1.26078448e-04,  4.23408579e-04,  1.51901288e-04],\n",
              "        [-8.49492280e-05, -3.20258201e-04, -3.43639171e-04, ...,\n",
              "          1.84719975e-04,  1.03137782e-03,  2.69952550e-04],\n",
              "        [-2.82579887e-04, -3.40270955e-04, -1.32882313e-04, ...,\n",
              "          1.62796932e-04,  9.10809031e-04,  3.15851183e-04],\n",
              "        ...,\n",
              "        [ 8.89666378e-04, -4.18801093e-04, -1.36131060e-03, ...,\n",
              "         -5.20280737e-05, -4.79188282e-04, -3.02635763e-05],\n",
              "        [ 9.76565760e-04, -6.77414355e-05, -1.03462522e-03, ...,\n",
              "         -2.93980265e-04, -3.68449371e-04,  4.62033116e-04],\n",
              "        [ 8.96535406e-04,  2.59100547e-04, -9.27719288e-04, ...,\n",
              "         -4.05950967e-04, -2.63077876e-04,  6.13050302e-04]],\n",
              "\n",
              "       [[-5.69706062e-05,  1.57625313e-04, -3.16905644e-04, ...,\n",
              "         -1.26078448e-04,  4.23408579e-04,  1.51901288e-04],\n",
              "        [-1.85512239e-04, -8.49931312e-05, -1.37770214e-04, ...,\n",
              "         -1.81255484e-04,  2.84367299e-04,  2.49982870e-04],\n",
              "        [-3.00974352e-04,  3.44891851e-05,  1.09355751e-04, ...,\n",
              "         -1.18759832e-04,  1.69380510e-04,  5.00819937e-04],\n",
              "        ...,\n",
              "        [ 8.01782939e-04,  3.43336797e-05,  1.45391631e-03, ...,\n",
              "          1.56619516e-03, -1.78715866e-03, -1.62330945e-03],\n",
              "        [ 9.26410314e-04, -3.14476929e-04,  1.75003463e-03, ...,\n",
              "          1.72526669e-03, -2.21500453e-03, -2.04662420e-03],\n",
              "        [ 1.08414004e-03, -6.90459972e-04,  1.99024472e-03, ...,\n",
              "          1.81346247e-03, -2.56856275e-03, -2.41018552e-03]],\n",
              "\n",
              "       ...,\n",
              "\n",
              "       [[-5.69706062e-05,  1.57625313e-04, -3.16905644e-04, ...,\n",
              "         -1.26078448e-04,  4.23408579e-04,  1.51901288e-04],\n",
              "        [ 1.95300221e-04,  4.57538728e-04, -6.77101198e-04, ...,\n",
              "          3.76716162e-05,  6.67026383e-04,  4.25427024e-05],\n",
              "        [ 3.14495934e-04,  8.42924404e-04, -7.51671148e-04, ...,\n",
              "          4.01303114e-04,  6.98329357e-04,  1.85322904e-04],\n",
              "        ...,\n",
              "        [ 9.02879052e-04,  1.84329023e-04,  1.96192972e-03, ...,\n",
              "          2.01272755e-03, -2.62117432e-03, -2.76814052e-03],\n",
              "        [ 1.15993561e-03, -3.27203830e-04,  2.20331666e-03, ...,\n",
              "          2.06385064e-03, -2.89280759e-03, -3.02674877e-03],\n",
              "        [ 1.39538874e-03, -8.11485865e-04,  2.37488002e-03, ...,\n",
              "          2.03874195e-03, -3.11128958e-03, -3.22786043e-03]],\n",
              "\n",
              "       [[-5.69706062e-05,  1.57625313e-04, -3.16905644e-04, ...,\n",
              "         -1.26078448e-04,  4.23408579e-04,  1.51901288e-04],\n",
              "        [ 7.35062531e-06,  3.99140059e-04, -4.23491612e-04, ...,\n",
              "          1.03273356e-04,  3.59153026e-04, -1.63189150e-04],\n",
              "        [ 5.49140459e-05,  1.89833969e-04, -4.88253136e-04, ...,\n",
              "          2.75554747e-04,  4.94945329e-04, -3.68217734e-04],\n",
              "        ...,\n",
              "        [ 9.96427145e-04, -1.54665089e-03, -5.62246947e-04, ...,\n",
              "          1.94588990e-03, -1.45087263e-03, -1.77695707e-03],\n",
              "        [ 1.29640487e-03, -1.80293294e-03, -1.54779729e-04, ...,\n",
              "          2.07043136e-03, -1.90572767e-03, -2.21697451e-03],\n",
              "        [ 1.56596710e-03, -2.07009772e-03,  2.17557143e-04, ...,\n",
              "          2.11103819e-03, -2.30022636e-03, -2.58326461e-03]],\n",
              "\n",
              "       [[-5.69706062e-05,  1.57625313e-04, -3.16905644e-04, ...,\n",
              "         -1.26078448e-04,  4.23408579e-04,  1.51901288e-04],\n",
              "        [ 5.43834700e-04,  3.10002099e-04, -7.14427952e-05, ...,\n",
              "          1.27793814e-04,  6.83852879e-04,  2.55584600e-04],\n",
              "        [ 5.79759595e-04,  6.03070017e-04,  2.25071009e-04, ...,\n",
              "          5.64931761e-05,  4.80529794e-04,  3.07499198e-04],\n",
              "        ...,\n",
              "        [ 1.72177865e-03, -1.50669320e-03,  1.83460698e-03, ...,\n",
              "          1.76491158e-03, -3.03359865e-03, -2.88467994e-03],\n",
              "        [ 1.90635188e-03, -1.90821162e-03,  1.94810121e-03, ...,\n",
              "          1.67943176e-03, -3.18397535e-03, -3.08096758e-03],\n",
              "        [ 2.06575892e-03, -2.27322406e-03,  2.04053102e-03, ...,\n",
              "          1.56107545e-03, -3.30017484e-03, -3.24459095e-03]]],\n",
              "      dtype=float32)>"
            ]
          },
          "execution_count": 18,
          "metadata": {},
          "output_type": "execute_result"
        }
      ],
      "source": [
        "for src_sample, tgt_sample in train_dataset.take(1): break\n",
        "model(src_sample)"
      ]
    },
    {
      "cell_type": "markdown",
      "source": [
        "- **.summary()**  \n",
        "모델 구조 확인  \n"
      ],
      "metadata": {
        "id": "bN_1j0G_cFJq"
      }
    },
    {
      "cell_type": "code",
      "execution_count": null,
      "metadata": {
        "colab": {
          "base_uri": "https://localhost:8080/"
        },
        "id": "0axt_J4mPO99",
        "outputId": "f318aca8-b28e-4c13-d5b8-91379577adf0"
      },
      "outputs": [
        {
          "name": "stdout",
          "output_type": "stream",
          "text": [
            "Model: \"text_generator\"\n",
            "_________________________________________________________________\n",
            "Layer (type)                 Output Shape              Param #   \n",
            "=================================================================\n",
            "embedding (Embedding)        multiple                  12000800  \n",
            "_________________________________________________________________\n",
            "lstm (LSTM)                  multiple                  45612000  \n",
            "_________________________________________________________________\n",
            "lstm_1 (LSTM)                multiple                  72012000  \n",
            "_________________________________________________________________\n",
            "dense (Dense)                multiple                  45018001  \n",
            "=================================================================\n",
            "Total params: 174,642,801\n",
            "Trainable params: 174,642,801\n",
            "Non-trainable params: 0\n",
            "_________________________________________________________________\n"
          ]
        }
      ],
      "source": [
        "model.summary()"
      ]
    },
    {
      "cell_type": "code",
      "execution_count": null,
      "metadata": {
        "id": "K2UmeGrqPQFW"
      },
      "outputs": [],
      "source": [
        "model.compile(\n",
        "    optimizer=tf.keras.optimizers.Adam(),\n",
        "    loss=tf.keras.losses.SparseCategoricalCrossentropy(from_logits=True, reduction='none'),\n",
        "    metrics=[tf.keras.metrics.SparseCategoricalAccuracy()])"
      ]
    },
    {
      "cell_type": "code",
      "execution_count": null,
      "metadata": {
        "colab": {
          "base_uri": "https://localhost:8080/"
        },
        "id": "YuJf9jfpPRs_",
        "outputId": "d943f69f-10ed-4cb3-8509-0341d0731367"
      },
      "outputs": [
        {
          "name": "stdout",
          "output_type": "stream",
          "text": [
            "Epoch 1/5\n",
            "484/484 [==============================] - 536s 1s/step - loss: 3.2696 - sparse_categorical_accuracy: 0.5045 - val_loss: 2.9139 - val_sparse_categorical_accuracy: 0.5309\n",
            "Epoch 2/5\n",
            "484/484 [==============================] - 539s 1s/step - loss: 2.7217 - sparse_categorical_accuracy: 0.5442 - val_loss: 2.6641 - val_sparse_categorical_accuracy: 0.5530\n",
            "Epoch 3/5\n",
            "484/484 [==============================] - 539s 1s/step - loss: 2.3835 - sparse_categorical_accuracy: 0.5749 - val_loss: 2.4786 - val_sparse_categorical_accuracy: 0.5779\n",
            "Epoch 4/5\n",
            "484/484 [==============================] - 539s 1s/step - loss: 2.0424 - sparse_categorical_accuracy: 0.6157 - val_loss: 2.3354 - val_sparse_categorical_accuracy: 0.6042\n",
            "Epoch 5/5\n",
            "484/484 [==============================] - 538s 1s/step - loss: 1.7194 - sparse_categorical_accuracy: 0.6655 - val_loss: 2.2383 - val_sparse_categorical_accuracy: 0.6270\n"
          ]
        }
      ],
      "source": [
        "history = model.fit(train_dataset,\n",
        "            epochs=5,\n",
        "            batch_size=256,\n",
        "            validation_data=val_dataset,\n",
        "            verbose=1)"
      ]
    },
    {
      "cell_type": "code",
      "execution_count": null,
      "metadata": {
        "id": "Ihvxu7RsXDot",
        "outputId": "1f959ee6-79d4-450b-e77c-cfe7f0bb78fa"
      },
      "outputs": [
        {
          "data": {
            "image/png": "[encoded data removed]",
            "text/plain": [
              "<Figure size 720x360 with 2 Axes>"
            ]
          },
          "metadata": {
            "needs_background": "light"
          },
          "output_type": "display_data"
        }
      ],
      "source": [
        "plt.figure(figsize=(10,5))\n",
        "\n",
        "plt.subplot(1, 2, 1)  \n",
        "plt.plot(history.history['sparse_categorical_accuracy'])\n",
        "plt.plot(history.history['val_sparse_categorical_accuracy'])\n",
        "plt.title('Model accuracy')\n",
        "plt.xlabel('Epoch')\n",
        "plt.ylabel('Accuracy')\n",
        "plt.legend(['Train', 'Val'], loc='upper left')\n",
        "\n",
        "plt.subplot(1, 2, 2)  \n",
        "plt.plot(history.history['loss'])\n",
        "plt.plot(history.history['val_loss'])\n",
        "plt.title('Model loss')\n",
        "plt.xlabel('Epoch')\n",
        "plt.ylabel('Loss')\n",
        "plt.legend(['Train', 'Val'], loc='upper left')\n",
        "\n",
        "plt.tight_layout()\n",
        "plt.show()"
      ]
    },
    {
      "cell_type": "markdown",
      "source": [
        "## **🌿 05_가사 한줄 생성**"
      ],
      "metadata": {
        "id": "XpkICr-Fvu93"
      }
    },
    {
      "cell_type": "code",
      "execution_count": null,
      "metadata": {
        "id": "SMl1u6C_PVLH",
        "outputId": "e5817fc2-0cf8-48db-9f59-debdb325cb75"
      },
      "outputs": [
        {
          "name": "stdout",
          "output_type": "stream",
          "text": [
            "<start> i m gonna be the one to blame <end> \n",
            "<start> i love you , liberian girl <end> \n",
            "<start> i know you re wondering when <end> \n",
            "\n",
            "\n",
            "<start> you re the only one who knows that <end> \n",
            "<start> you have given it to yourself <end> \n",
            "<start> you love me , yeaah , i love you <end> \n"
          ]
        }
      ],
      "source": [
        "print(generate_text(model, tokenizer, init_sentence=\"<start> i\", max_len=25))\n",
        "print(generate_text(model, tokenizer, init_sentence=\"<start> i love\", max_len=25))\n",
        "print(generate_text(model, tokenizer, init_sentence=\"<start> i know\", max_len=25))\n",
        "print('\\n')\n",
        "print(generate_text(model, tokenizer, init_sentence=\"<start> you\", max_len=25))\n",
        "print(generate_text(model, tokenizer, init_sentence=\"<start> you have\", max_len=25))\n",
        "print(generate_text(model, tokenizer, init_sentence=\"<start> you love\", max_len=25))"
      ]
    },
    {
      "cell_type": "markdown",
      "metadata": {
        "id": "P9LYMFdmZjzv"
      },
      "source": [
        "# **🌲 EXPLORATION 06-3 : 회고**"
      ]
    },
    {
      "cell_type": "markdown",
      "metadata": {
        "id": "_84CNYAwZp5D"
      },
      "source": [
        "## **🌿 01_EXPLORATION  회고**  "
      ]
    },
    {
      "cell_type": "markdown",
      "metadata": {
        "id": "bgno_gpQZuTz"
      },
      "source": [
        "## **🌿 02_이번 회차 회고**  "
      ]
    }
  ],
  "metadata": {
    "colab": {
      "collapsed_sections": [
        "CDQBJgcJaA9Y",
        "Et79yVpyzkqw",
        "jiVaLZkW0yV6",
        "oZjAMPP23ZIi",
        "WsbDgpb52-ij",
        "7wEtsmdq6qBc",
        "2X6AOMkA5kPz",
        "horiyvypaQCD",
        "HoT7AsLdaU5X"
      ],
      "name": "[E-06]exploration.ipynb",
      "provenance": [],
      "include_colab_link": true
    },
    "kernelspec": {
      "display_name": "Python 3 (ipykernel)",
      "language": "python",
      "name": "python3"
    },
    "language_info": {
      "codemirror_mode": {
        "name": "ipython",
        "version": 3
      },
      "file_extension": ".py",
      "mimetype": "text/x-python",
      "name": "python",
      "nbconvert_exporter": "python",
      "pygments_lexer": "ipython3",
      "version": "3.9.7"
    }
  },
  "nbformat": 4,
  "nbformat_minor": 0
}