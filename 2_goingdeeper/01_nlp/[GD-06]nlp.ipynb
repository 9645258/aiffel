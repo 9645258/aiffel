{
  "nbformat": 4,
  "nbformat_minor": 0,
  "metadata": {
    "colab": {
      "name": "[GD-06]nlp.ipynb",
      "provenance": [],
      "collapsed_sections": [
        "c5356opAAS7A",
        "JjoW3aZNE26M",
        "8qr7fiyXFy8k",
        "-JMGKLHLGRI-",
        "FbC2vXQaPMAv"
      ],
      "machine_shape": "hm",
      "authorship_tag": "ABX9TyO9ebRttBTpBy1vzX8qH73d",
      "include_colab_link": true
    },
    "kernelspec": {
      "name": "python3",
      "display_name": "Python 3"
    },
    "language_info": {
      "name": "python"
    },
    "accelerator": "GPU",
    "gpuClass": "standard"
  },
  "cells": [
    {
      "cell_type": "markdown",
      "metadata": {
        "id": "view-in-github",
        "colab_type": "text"
      },
      "source": [
        "<a href=\"https://colab.research.google.com/github/9645258/aiffel/blob/main/2_goingdeeper/01_nlp/%5BGD-06%5Dnlp.ipynb\" target=\"_parent\"><img src=\"https://colab.research.google.com/assets/colab-badge.svg\" alt=\"Open In Colab\"/></a>"
      ]
    },
    {
      "cell_type": "markdown",
      "source": [
        "# **GD NLP 06 : 임베딩 내 편향성 알아보기**"
      ],
      "metadata": {
        "id": "meOkCE1T__fA"
      }
    },
    {
      "cell_type": "markdown",
      "source": [
        "- **모든 장르 간 편향성 측정해보기**  \n",
        "\n",
        "- **주어진 영화 코퍼스를 바탕으로 워드임베딩 모델을 정상적으로 만들었다.**  \n",
        "워드임베딩의 most_similar() 메소드 결과가 의미상 바르게 나왔다.  \n",
        "\n",
        "- **영화 구분, 장르별로 target, attribute에 대한 대표성있는 단어 셋을 생성하였다.**  \n",
        "타당한 방법론을 통해 중복이 잘 제거되고 개념축을 의미적으로 잘 대표하는 단어 셋이 만들어졌다.  \n",
        "\n",
        "- **WEAT score 계산 및 시각화를 정상적으로 진행하였다.**  \n",
        "전체 영화 장르별로 예술/일반 영화에 대한 편향성 WEAT score가 상식에 부합하는 수치로 얻어졌으며 이를 잘 시각화하였다."
      ],
      "metadata": {
        "id": "3wwiTBpnAyUw"
      }
    },
    {
      "cell_type": "markdown",
      "source": [
        "## **1. 데이터 준비**"
      ],
      "metadata": {
        "id": "c5356opAAS7A"
      }
    },
    {
      "cell_type": "markdown",
      "source": [
        "### **1-1. 라이브러리 import**"
      ],
      "metadata": {
        "id": "_m7ydHP9DfFg"
      }
    },
    {
      "cell_type": "code",
      "execution_count": 1,
      "metadata": {
        "id": "m0ZziMjIYqvu"
      },
      "outputs": [],
      "source": [
        "import os\n",
        "import pickle\n",
        "from konlpy.tag import Okt\n",
        "from gensim.models import Word2Vec\n",
        "\n",
        "import numpy as np\n",
        "from numpy import dot\n",
        "from numpy.linalg import norm\n",
        "\n",
        "from sklearn.decomposition import PCA\n",
        "from sklearn.feature_extraction.text import TfidfVectorizer\n",
        "\n",
        "import seaborn as sns\n",
        "import matplotlib.pyplot as plt\n",
        "import matplotlib as mpl\n",
        "import matplotlib.font_manager as fm\n",
        "%matplotlib inline\n",
        "\n",
        "import warnings\n",
        "warnings.filterwarnings(action='ignore')"
      ]
    },
    {
      "cell_type": "markdown",
      "source": [
        "### **1-2. 데이터 import**"
      ],
      "metadata": {
        "id": "r1GnFjzNDliE"
      }
    },
    {
      "cell_type": "markdown",
      "source": [
        "- **구글 드라이브 경로 mount**"
      ],
      "metadata": {
        "id": "3xfJH5KXD8eV"
      }
    },
    {
      "cell_type": "code",
      "source": [
        "from google.colab import drive\n",
        "drive.mount('/content/drive')"
      ],
      "metadata": {
        "id": "YbL5uBU6PoUD",
        "colab": {
          "base_uri": "https://localhost:8080/"
        },
        "outputId": "c2d4579b-5f40-47a9-e750-81690d2f87b8"
      },
      "execution_count": 2,
      "outputs": [
        {
          "output_type": "stream",
          "name": "stdout",
          "text": [
            "Drive already mounted at /content/drive; to attempt to forcibly remount, call drive.mount(\"/content/drive\", force_remount=True).\n"
          ]
        }
      ]
    },
    {
      "cell_type": "markdown",
      "source": [
        "- **데이터 import 및 확인**"
      ],
      "metadata": {
        "id": "S78ERMJJD0qt"
      }
    },
    {
      "cell_type": "code",
      "source": [
        "with open('/content/drive/MyDrive/Colab Notebooks/aiffel/01_data/02-1_nlp/06/synopsis/synopsis.txt', 'r') as file:\n",
        "    for i in range(15):\n",
        "        print(file.readline(), end='')"
      ],
      "metadata": {
        "colab": {
          "base_uri": "https://localhost:8080/"
        },
        "id": "kMoLCMHaTUWt",
        "outputId": "d9d25a96-59ef-4ab2-8d20-fd5d596c1688"
      },
      "execution_count": 3,
      "outputs": [
        {
          "output_type": "stream",
          "name": "stdout",
          "text": [
            "사운드 엔지니어 상우(유지태 분)는 치매에 걸린 할머니(백성희 분)와\n",
            " 젊은 시절 상처한 한 아버지(박인환 분), 고모(신신애 분)와 함께 살고 있다.\n",
            " 어느 겨울 그는 지방 방송국 라디오 PD 은수(이영애 분)를 만난다.\n",
            " 자연의 소리를 채집해 틀어주는 라디오 프로그램을 준비하는 은수는 상우와 녹음 여행을 떠난다.\n",
            " 자연스레 가까워지는 두 사람은 어느 날, 은수의 아파트에서 밤을 보낸다.\n",
            " 너무 쉽게 사랑에 빠진 두 사람... 상우는 주체할 수 없을 정도로 그녀에게 빨려든다.\n",
            " 그러나 겨울에 만난 두 사람의 관계는 봄을 지나 여름을 맞이하면서 삐걱거린다.\n",
            " 이혼 경험이 있는 은수는 상우에게 결혼할 생각이 없다며 부담스러운 표정을 내비친다.\n",
            " \"어떻게 사랑이 변하니?...\"라고 묻는 상우에게 은수는 그저 \"헤어져\" 라고 단호하게 말한다.\n",
            " 영원히 변할 것 같지 않던 사랑이 변하고, 그 사실을 받아들이지 못하는 상우는 어찌 할 바를 모른다.\n",
            " 은수를 잊지 못하는 상우는 미련과 집착의 감정을 이기지 못하고 서울과 강릉을 오간다.\n",
            "유사 이래 연령, 성별, 빈부의 차이와 정치적인 입장을 불문하고 일거에 국민을 통합해 온 '애국심'이라는 성역에 일침을 가하는 다큐멘터리. 재작년 전국 민족민주 유가족협의회의 장기농성을 다룬 인상적인 다큐멘터리 <민들레>를 만들었던 독립영화집단 '빨간 눈사람'이 우리 사회 구석구석을 발빠르게 돌아다니며 애국심과 민족주의가 강요되는 현장을 발굴하여 카메라에 담았다. 박홍 서강대 명예총장, 이도형 '한국논단' 발행인, 축구해설자 신문선, 홍세화, 박노해 등 사회 각계의 '스타'들이 등장해 저마다의 확고한 신념을 성토한다. 감독 이경순과 최하동하는 이 작품을 위해 3년간 백여 명을 인터뷰했다고 한다. 2001 올해의 독립영화상 수상.\n",
            " 민족과 국가란 공동체에서 부단히 권력과 부를 얻는 자, 나아가 민족과 국가란 공동체에서 얻은 신분과 부귀를 영원히 그의 자손에게 대물림하려는 자, 그래서 민족과 국가란 공동체를 부단히 유지해야만 하는 자, 따라서 민족과 국가란 공동체의 당위성과 개인의 가치를 초월하는 그 존엄성을 끝도 없이 창조하고 되뇌어야 하는 자, 종국에는 민족과 국가란 공동체에 속해 있다고 태내에서부터 세뇌된 모든 이들의 삶과 행동에서 영원히 자기복제되는 순환의 고리, 영생하는 애국의 원동력은 그 순환의 골에서 온다.\n",
            "엽기적인 살인사건이 발생한 장소를 관광하는 투어팀. 그 팀에서 관광객들은 살인사건과 관련하여 히스테리컬한 반응을 보이는데 과연 이들의 정체는? (Tourists see whrer a murder take place. They respond hysterically to the murder…what are they?)\n",
            " 제46회 발라돌리드 국제영화제 (2001, 스페인)\n"
          ]
        }
      ]
    },
    {
      "cell_type": "markdown",
      "source": [
        "- **데이터 저장 함수**"
      ],
      "metadata": {
        "id": "DXgBLqwxEvFJ"
      }
    },
    {
      "cell_type": "code",
      "source": [
        "def save_pkl(path, data):\n",
        "    with open(path, \"wb\") as f:\n",
        "        pickle.dump(data, f)"
      ],
      "metadata": {
        "id": "Wub0HnDEUGQp"
      },
      "execution_count": 4,
      "outputs": []
    },
    {
      "cell_type": "markdown",
      "source": [
        "- **데이터 불러오기 함수**"
      ],
      "metadata": {
        "id": "hIuf50mxEzkx"
      }
    },
    {
      "cell_type": "code",
      "source": [
        "def load_pkl(path):\n",
        "    with open(path, \"rb\") as f:\n",
        "        txt = pickle.load(f)\n",
        "    return txt"
      ],
      "metadata": {
        "id": "UMVjfvEhUPBs"
      },
      "execution_count": 5,
      "outputs": []
    },
    {
      "cell_type": "markdown",
      "source": [
        "## **2. Okt를 활용한 명사 추출**"
      ],
      "metadata": {
        "id": "JjoW3aZNE26M"
      }
    },
    {
      "cell_type": "markdown",
      "source": [
        "### **2-1. 명사 추출 진행**"
      ],
      "metadata": {
        "id": "RhIOtrNhFMy1"
      }
    },
    {
      "cell_type": "code",
      "source": [
        "okt = Okt()\n",
        "tokenized = []\n",
        "\n",
        "with open('/content/drive/MyDrive/Colab Notebooks/aiffel/01_data/02-1_nlp/06/synopsis/synopsis.txt', 'r') as file:\n",
        "    while True:\n",
        "        line = file.readline()\n",
        "        if not line: break\n",
        "        words = okt.pos(line, stem=True, norm=True)\n",
        "        res = []\n",
        "        for w in words:\n",
        "            if w[1] in [\"Noun\"]:\n",
        "                res.append(w[0]) \n",
        "        tokenized.append(res)"
      ],
      "metadata": {
        "id": "MrqyG08jUSBY"
      },
      "execution_count": 6,
      "outputs": []
    },
    {
      "cell_type": "markdown",
      "source": [
        "- **명사 파일 저장**"
      ],
      "metadata": {
        "id": "6cK4wUWsFPT1"
      }
    },
    {
      "cell_type": "code",
      "source": [
        "save_pkl(\"/content/drive/MyDrive/Colab Notebooks/aiffel/01_data/02-1_nlp/06/tokenized.pkl\", tokenized)"
      ],
      "metadata": {
        "id": "T5RpaIhOUyqj"
      },
      "execution_count": 7,
      "outputs": []
    },
    {
      "cell_type": "markdown",
      "source": [
        "### **2-2. 추출 데이터 확인**"
      ],
      "metadata": {
        "id": "3B7Nwa-9Ffcq"
      }
    },
    {
      "cell_type": "markdown",
      "source": [
        "- **명사 말뭉치 수 확인**"
      ],
      "metadata": {
        "id": "PNvg9FaoFo5W"
      }
    },
    {
      "cell_type": "code",
      "source": [
        "print('명사 말뭉치 수:', len(tokenized))"
      ],
      "metadata": {
        "colab": {
          "base_uri": "https://localhost:8080/"
        },
        "id": "zJUS6IEHU5Ft",
        "outputId": "ed4e7efd-bec3-4994-8170-7b67eaccc010"
      },
      "execution_count": 8,
      "outputs": [
        {
          "output_type": "stream",
          "name": "stdout",
          "text": [
            "명사 말뭉치 수: 71156\n"
          ]
        }
      ]
    },
    {
      "cell_type": "markdown",
      "source": [
        "- **명사 말뭉치 확인**"
      ],
      "metadata": {
        "id": "mGDcsT9WFso0"
      }
    },
    {
      "cell_type": "code",
      "source": [
        "print(tokenized[:5])"
      ],
      "metadata": {
        "colab": {
          "base_uri": "https://localhost:8080/"
        },
        "id": "vOrpNLreU8zE",
        "outputId": "c52728fe-d0ab-4ced-90b6-b84a3dc78cd0"
      },
      "execution_count": 9,
      "outputs": [
        {
          "output_type": "stream",
          "name": "stdout",
          "text": [
            "[['사운드', '엔지니어', '상우', '유지태', '분', '치매', '할머니', '백성희', '분'], ['시절', '상처', '아버지', '박인환', '분', '고모', '신신애', '분', '살'], ['겨울', '그', '지방', '방송국', '라디오', '은수', '이영애', '분', '를'], ['자연', '소리', '채집', '라디오', '프로그램', '준비', '은수', '상우', '녹음', '여행'], ['두', '사람', '날', '은수', '아파트', '밤']]\n"
          ]
        }
      ]
    },
    {
      "cell_type": "markdown",
      "source": [
        "## **3. 임베딩 모델 생성**"
      ],
      "metadata": {
        "id": "8qr7fiyXFy8k"
      }
    },
    {
      "cell_type": "markdown",
      "source": [
        "### **3-1. 임베딩 벡터 생성**"
      ],
      "metadata": {
        "id": "1eQ7I2npGKRo"
      }
    },
    {
      "cell_type": "code",
      "source": [
        "model = Word2Vec(tokenized, vector_size = 100, window = 5, min_count = 3, sg=0)"
      ],
      "metadata": {
        "id": "sdSfuHp-VT20"
      },
      "execution_count": 10,
      "outputs": []
    },
    {
      "cell_type": "markdown",
      "source": [
        "### **3-2. 임베딩 학습 확인**"
      ],
      "metadata": {
        "id": "HrgRu05XF76W"
      }
    },
    {
      "cell_type": "code",
      "source": [
        "model.wv.most_similar(positive = ['영화'])"
      ],
      "metadata": {
        "colab": {
          "base_uri": "https://localhost:8080/"
        },
        "id": "gi_BB4uCVio6",
        "outputId": "5cbf4d22-18a6-429d-daa5-f5249319a722"
      },
      "execution_count": 11,
      "outputs": [
        {
          "output_type": "execute_result",
          "data": {
            "text/plain": [
              "[('작품', 0.8873367309570312),\n",
              " ('다큐멘터리', 0.8489024043083191),\n",
              " ('드라마', 0.8300775289535522),\n",
              " ('영화로', 0.8152167201042175),\n",
              " ('시대극', 0.8074594736099243),\n",
              " ('코미디', 0.7828918695449829),\n",
              " ('주제', 0.7805544137954712),\n",
              " ('감동', 0.7789450883865356),\n",
              " ('형식', 0.7765981554985046),\n",
              " ('에마데딘', 0.772303581237793)]"
            ]
          },
          "metadata": {},
          "execution_count": 11
        }
      ]
    },
    {
      "cell_type": "code",
      "source": [
        "model.wv.most_similar(positive = ['사랑'])"
      ],
      "metadata": {
        "colab": {
          "base_uri": "https://localhost:8080/"
        },
        "id": "lU6rA3nyVu4n",
        "outputId": "3d6e8ed1-2bf5-471f-f985-9f48111742d8"
      },
      "execution_count": 12,
      "outputs": [
        {
          "output_type": "execute_result",
          "data": {
            "text/plain": [
              "[('애정', 0.6996840238571167),\n",
              " ('첫사랑', 0.6903075575828552),\n",
              " ('만남', 0.686606764793396),\n",
              " ('감정', 0.6822546124458313),\n",
              " ('진심', 0.6795637607574463),\n",
              " ('행복', 0.6774492859840393),\n",
              " ('만인', 0.6760797500610352),\n",
              " ('이별', 0.6739864945411682),\n",
              " ('우정', 0.6710056662559509),\n",
              " ('운명', 0.6682238578796387)]"
            ]
          },
          "metadata": {},
          "execution_count": 12
        }
      ]
    },
    {
      "cell_type": "code",
      "source": [
        "model.wv.most_similar(positive = ['눈물'])"
      ],
      "metadata": {
        "colab": {
          "base_uri": "https://localhost:8080/"
        },
        "id": "GaSEE9UeWJcW",
        "outputId": "e18dcfe6-92ab-4be5-8363-e83174119b65"
      },
      "execution_count": 13,
      "outputs": [
        {
          "output_type": "execute_result",
          "data": {
            "text/plain": [
              "[('미소', 0.9154207706451416),\n",
              " ('용기', 0.8999515771865845),\n",
              " ('문득', 0.8946699500083923),\n",
              " ('웃음', 0.8908260464668274),\n",
              " ('천사', 0.8904014825820923),\n",
              " ('어쩌면', 0.8901754021644592),\n",
              " ('아주', 0.8892539739608765),\n",
              " ('때론', 0.8884966373443604),\n",
              " ('부재', 0.885429322719574),\n",
              " ('진정', 0.8840643167495728)]"
            ]
          },
          "metadata": {},
          "execution_count": 13
        }
      ]
    },
    {
      "cell_type": "code",
      "source": [
        "model.wv.most_similar(positive = ['행복'])"
      ],
      "metadata": {
        "colab": {
          "base_uri": "https://localhost:8080/"
        },
        "id": "bTe7_5mkWQXP",
        "outputId": "f401cf70-5897-4b48-c75a-9d042c5c56a3"
      },
      "execution_count": 14,
      "outputs": [
        {
          "output_type": "execute_result",
          "data": {
            "text/plain": [
              "[('기쁨', 0.9101700186729431),\n",
              " ('슬픔', 0.891323983669281),\n",
              " ('좌절', 0.8900554776191711),\n",
              " ('한구석', 0.8686675429344177),\n",
              " ('용기', 0.8656827807426453),\n",
              " ('아픔', 0.8590744137763977),\n",
              " ('진정', 0.8575531840324402),\n",
              " ('위안', 0.8554707765579224),\n",
              " ('눈물', 0.8488653898239136),\n",
              " ('기적', 0.8472640514373779)]"
            ]
          },
          "metadata": {},
          "execution_count": 14
        }
      ]
    },
    {
      "cell_type": "markdown",
      "source": [
        "## **4. WEAT Target 단어 선정**"
      ],
      "metadata": {
        "id": "-JMGKLHLGRI-"
      }
    },
    {
      "cell_type": "markdown",
      "source": [
        "### **4-1. 예술 영화 및 일반 영화 명사 추출**"
      ],
      "metadata": {
        "id": "eQ604O_ZJWCP"
      }
    },
    {
      "cell_type": "code",
      "source": [
        "art_txt = 'synopsis_art.txt'\n",
        "gen_txt = 'synopsis_gen.txt'"
      ],
      "metadata": {
        "id": "rXgYDnYvMPFS"
      },
      "execution_count": 17,
      "outputs": []
    },
    {
      "cell_type": "code",
      "source": [
        "def read_token(file_name):\n",
        "    okt = Okt()\n",
        "    result = []\n",
        "    with open('/content/drive/MyDrive/Colab Notebooks/aiffel/01_data/02-1_nlp/06/synopsis/'+ file_name, 'r') as fread:\n",
        "        while True:\n",
        "            line = fread.readline() \n",
        "            if not line: break \n",
        "            tokenlist = okt.pos(line, stem = True, norm = True) \n",
        "            for word in tokenlist:\n",
        "                if word[1] in [\"Noun\"]:\n",
        "                    result.append((word[0])) \n",
        "    return ' '.join(result)"
      ],
      "metadata": {
        "id": "fo4MDdwQWS6z"
      },
      "execution_count": 18,
      "outputs": []
    },
    {
      "cell_type": "code",
      "source": [
        "art = read_token(art_txt)\n",
        "gen = read_token(gen_txt)"
      ],
      "metadata": {
        "id": "mD-en7VoXzlT"
      },
      "execution_count": 19,
      "outputs": []
    },
    {
      "cell_type": "code",
      "source": [
        "save_pkl(\"/content/drive/MyDrive/Colab Notebooks/aiffel/01_data/02-1_nlp/06/art_word.pkl\", art)\n",
        "save_pkl(\"/content/drive/MyDrive/Colab Notebooks/aiffel/01_data/02-1_nlp/06/general_word.pkl\", gen)  "
      ],
      "metadata": {
        "id": "fRNkUoNOYOHk"
      },
      "execution_count": 20,
      "outputs": []
    },
    {
      "cell_type": "code",
      "source": [
        "art = load_pkl(\"/content/drive/MyDrive/Colab Notebooks/aiffel/01_data/02-1_nlp/06/art_word.pkl\")\n",
        "gen = load_pkl(\"/content/drive/MyDrive/Colab Notebooks/aiffel/01_data/02-1_nlp/06/general_word.pkl\")"
      ],
      "metadata": {
        "id": "w6ti_N1bYfJI"
      },
      "execution_count": 21,
      "outputs": []
    },
    {
      "cell_type": "markdown",
      "source": [
        "### **4-2. 추출 명사 확인**"
      ],
      "metadata": {
        "id": "-fEj0TMbKEAs"
      }
    },
    {
      "cell_type": "markdown",
      "source": [
        "- **추출 명사 수 확인**"
      ],
      "metadata": {
        "id": "ZZeVtSPbKJ2V"
      }
    },
    {
      "cell_type": "code",
      "source": [
        "print(\"예술 영화 명사 수:\", len(art))\n",
        "print(\"일반 영화 명사 수:\", len(gen))"
      ],
      "metadata": {
        "colab": {
          "base_uri": "https://localhost:8080/"
        },
        "id": "O4ghjWmBYiRC",
        "outputId": "dd99bd0c-04c2-4bcc-fd0a-e539f10aa5b2"
      },
      "execution_count": 22,
      "outputs": [
        {
          "output_type": "stream",
          "name": "stdout",
          "text": [
            "예술 영화 명사 수: 620208\n",
            "일반 영화 명사 수: 3014815\n"
          ]
        }
      ]
    },
    {
      "cell_type": "markdown",
      "source": [
        "- **추출 단어 확인**"
      ],
      "metadata": {
        "id": "bPfnyHnbKMRe"
      }
    },
    {
      "cell_type": "code",
      "source": [
        "art[:100]"
      ],
      "metadata": {
        "colab": {
          "base_uri": "https://localhost:8080/",
          "height": 35
        },
        "id": "xpO-dTEtY3pn",
        "outputId": "b3910b32-3d5c-48bc-b9d3-8fb2897f9474"
      },
      "execution_count": 23,
      "outputs": [
        {
          "output_type": "execute_result",
          "data": {
            "text/plain": [
              "'사운드 엔지니어 상우 유지태 분 치매 할머니 백성희 분 시절 상처 아버지 박인환 분 고모 신신애 분 살 겨울 그 지방 방송국 라디오 은수 이영애 분 를 자연 소리 채집 라디오 프로'"
            ],
            "application/vnd.google.colaboratory.intrinsic+json": {
              "type": "string"
            }
          },
          "metadata": {},
          "execution_count": 23
        }
      ]
    },
    {
      "cell_type": "code",
      "source": [
        "gen[:100]"
      ],
      "metadata": {
        "colab": {
          "base_uri": "https://localhost:8080/",
          "height": 35
        },
        "id": "9L8Q5KvSY6Mp",
        "outputId": "c9050218-a284-43eb-fefa-ec27b7848ca7"
      },
      "execution_count": 24,
      "outputs": [
        {
          "output_type": "execute_result",
          "data": {
            "text/plain": [
              "'유사 연령 성별 빈부 차이 정치 입장 불문 국민 통합 온 애국심 성역 일침 다큐멘터리 재작년 전국 민족 민주 유가족 협의 회의 장기 농성 인상 다큐멘터리 민들레 를 독립영화 집단 '"
            ],
            "application/vnd.google.colaboratory.intrinsic+json": {
              "type": "string"
            }
          },
          "metadata": {},
          "execution_count": 24
        }
      ]
    },
    {
      "cell_type": "markdown",
      "source": [
        "### **4-3. TF-IDF 단어 선정**"
      ],
      "metadata": {
        "id": "lY6fxRJcKTwG"
      }
    },
    {
      "cell_type": "markdown",
      "source": [
        "- **TF-IDF 생성**"
      ],
      "metadata": {
        "id": "e_xepIj2NTRk"
      }
    },
    {
      "cell_type": "code",
      "source": [
        "vectorizer = TfidfVectorizer()\n",
        "X = vectorizer.fit_transform([art, gen])"
      ],
      "metadata": {
        "id": "GbfI90KVYH44"
      },
      "execution_count": 25,
      "outputs": []
    },
    {
      "cell_type": "markdown",
      "source": [
        "- **형태 확인**"
      ],
      "metadata": {
        "id": "1ICnNotnNVzv"
      }
    },
    {
      "cell_type": "code",
      "source": [
        "print(X.shape)"
      ],
      "metadata": {
        "colab": {
          "base_uri": "https://localhost:8080/"
        },
        "id": "COJBzWSmYaC8",
        "outputId": "f2d9acfe-6d46-4e5e-9184-fe838041a582"
      },
      "execution_count": 26,
      "outputs": [
        {
          "output_type": "stream",
          "name": "stdout",
          "text": [
            "(2, 41082)\n"
          ]
        }
      ]
    },
    {
      "cell_type": "code",
      "source": [
        "print(vectorizer.vocabulary_['영화'])\n",
        "print(vectorizer.get_feature_names()[23976])"
      ],
      "metadata": {
        "colab": {
          "base_uri": "https://localhost:8080/"
        },
        "id": "uT_o4a0dZEy6",
        "outputId": "a3b1ce5d-e211-4c2a-8f61-75f31cac3fb4"
      },
      "execution_count": 27,
      "outputs": [
        {
          "output_type": "stream",
          "name": "stdout",
          "text": [
            "23976\n",
            "영화\n"
          ]
        }
      ]
    },
    {
      "cell_type": "markdown",
      "source": [
        "- **단어 및 TF-IDF 값 출력 함수 생성**"
      ],
      "metadata": {
        "id": "Gk7Tm6M0Nb4S"
      }
    },
    {
      "cell_type": "code",
      "source": [
        "def print_word_tf_idf(data, show_num):    \n",
        "    for idx in range(show_num):\n",
        "        voc = vectorizer.get_feature_names()[data[idx][0]]\n",
        "        tf_idf = round(data[idx][1], 3)\n",
        "        print(f\"{voc}({tf_idf})\", end = \", \")"
      ],
      "metadata": {
        "id": "dcyXurQvZLhQ"
      },
      "execution_count": 28,
      "outputs": []
    },
    {
      "cell_type": "markdown",
      "source": [
        "- **단어 및 TF-IDF 값 출력**"
      ],
      "metadata": {
        "id": "tL3M0SKwNoK_"
      }
    },
    {
      "cell_type": "code",
      "source": [
        "m1 = X[0].tocoo()\n",
        "m2 = X[1].tocoo()"
      ],
      "metadata": {
        "id": "tdN4vec8bJ5D"
      },
      "execution_count": 29,
      "outputs": []
    },
    {
      "cell_type": "code",
      "source": [
        "w1 = [[i, j] for i, j in zip(m1.col, m1.data)]\n",
        "w2 = [[i, j] for i, j in zip(m2.col, m2.data)]"
      ],
      "metadata": {
        "id": "1ypO_OqbbP_v"
      },
      "execution_count": 30,
      "outputs": []
    },
    {
      "cell_type": "code",
      "source": [
        "w1.sort(key=lambda x: x[1], reverse = True)\n",
        "w2.sort(key=lambda x: x[1], reverse = True)"
      ],
      "metadata": {
        "id": "TvEBb_dibQ9g"
      },
      "execution_count": 31,
      "outputs": []
    },
    {
      "cell_type": "markdown",
      "source": [
        "- **예술 영화 대표 단어 및 TF-IDF값 출력**"
      ],
      "metadata": {
        "id": "1BrIeLJ1Nuip"
      }
    },
    {
      "cell_type": "code",
      "source": [
        "print_word_tf_idf(w1, 70)"
      ],
      "metadata": {
        "colab": {
          "base_uri": "https://localhost:8080/"
        },
        "id": "oQDwgcZdceDX",
        "outputId": "29c1966f-f6ce-499b-9e6a-2501eb31be86"
      },
      "execution_count": 32,
      "outputs": [
        {
          "output_type": "stream",
          "name": "stdout",
          "text": [
            "그녀(0.304), 자신(0.295), 시작(0.291), 위해(0.261), 사랑(0.255), 사람(0.234), 영화(0.156), 친구(0.151), 남자(0.134), 가족(0.112), 이야기(0.11), 마을(0.105), 사건(0.099), 마음(0.098), 세상(0.098), 아버지(0.095), 아이(0.094), 엄마(0.093), 모든(0.092), 여자(0.091), 대한(0.088), 서로(0.086), 과연(0.086), 다시(0.083), 시간(0.083), 아들(0.08), 소녀(0.077), 아내(0.073), 다른(0.071), 사이(0.069), 영화제(0.069), 세계(0.069), 사실(0.068), 하나(0.066), 점점(0.063), 남편(0.062), 감독(0.061), 여행(0.061), 인생(0.06), 발견(0.059), 모두(0.059), 순간(0.059), 우리(0.058), 가장(0.057), 마지막(0.054), 생활(0.054), 아빠(0.054), 모습(0.053), 통해(0.053), 죽음(0.052), 기억(0.052), 비밀(0.052), 학교(0.052), 음악(0.051), 한편(0.05), 소년(0.048), 생각(0.047), 도시(0.047), 명의(0.047), 사고(0.046), 결혼(0.046), 전쟁(0.046), 때문(0.046), 위기(0.046), 이제(0.044), 최고(0.044), 이자(0.044), 과거(0.043), 일상(0.043), 경찰(0.042), "
          ]
        }
      ]
    },
    {
      "cell_type": "markdown",
      "source": [
        "- **일반 영화 대표 단어 및 TF-IDF값 출력**"
      ],
      "metadata": {
        "id": "fQvVR_CxN6fO"
      }
    },
    {
      "cell_type": "code",
      "source": [
        "print_word_tf_idf(w2, 70)"
      ],
      "metadata": {
        "colab": {
          "base_uri": "https://localhost:8080/"
        },
        "id": "uU-xiHLSchAz",
        "outputId": "c4581cba-d93f-416a-d1a7-6501c007d360"
      },
      "execution_count": 33,
      "outputs": [
        {
          "output_type": "stream",
          "name": "stdout",
          "text": [
            "자신(0.303), 그녀(0.288), 영화제(0.288), 위해(0.236), 사람(0.213), 시작(0.211), 국제(0.196), 영화(0.175), 친구(0.158), 사랑(0.156), 남자(0.145), 이야기(0.126), 대한(0.103), 서울(0.1), 여자(0.1), 사건(0.097), 남편(0.094), 아이(0.09), 가족(0.089), 아버지(0.089), 다른(0.081), 마을(0.077), 시간(0.076), 엄마(0.075), 아들(0.073), 모든(0.073), 단편(0.073), 마음(0.073), 사실(0.071), 다시(0.071), 세계(0.07), 모습(0.069), 작품(0.068), 통해(0.068), 생각(0.068), 서로(0.068), 세상(0.066), 발견(0.064), 감독(0.064), 아내(0.063), 관계(0.063), 소녀(0.062), 사이(0.062), 하나(0.059), 우리(0.058), 애니메이션(0.058), 때문(0.058), 여성(0.053), 죽음(0.05), 과연(0.05), 점점(0.05), 인간(0.049), 생활(0.049), 한편(0.049), 결혼(0.049), 상황(0.049), 모두(0.048), 기억(0.047), 명의(0.045), 소년(0.045), 여행(0.044), 가장(0.044), 간다(0.044), 순간(0.044), 이제(0.043), 도시(0.043), 비밀(0.043), 학교(0.042), 과거(0.042), 가지(0.041), "
          ]
        }
      ]
    },
    {
      "cell_type": "markdown",
      "source": [
        "- **TF-IDF 값 기준 단어 추출**  \n",
        "값이 0.05 이상인 단어만 추출  "
      ],
      "metadata": {
        "id": "RsuD3OjSN77F"
      }
    },
    {
      "cell_type": "code",
      "source": [
        "def get_limit_tf_idf(data, limit_tf_idf):\n",
        "    for idx, (_, tf_idf) in enumerate(data):\n",
        "        if tf_idf < limit_tf_idf:\n",
        "            break\n",
        "    return data[:idx]"
      ],
      "metadata": {
        "id": "1jVTFwVEcpUw"
      },
      "execution_count": 34,
      "outputs": []
    },
    {
      "cell_type": "code",
      "source": [
        "limit_tf_idf = 0.05"
      ],
      "metadata": {
        "id": "HEJsbsN1ebCk"
      },
      "execution_count": 35,
      "outputs": []
    },
    {
      "cell_type": "code",
      "source": [
        "slice_w1 = get_limit_tf_idf(w1, limit_tf_idf)\n",
        "slice_w2 = get_limit_tf_idf(w2, limit_tf_idf)"
      ],
      "metadata": {
        "id": "sNgrSe0Recf0"
      },
      "execution_count": 36,
      "outputs": []
    },
    {
      "cell_type": "markdown",
      "source": [
        "- **대표 단어 수 확인**"
      ],
      "metadata": {
        "id": "t27Ki0qXOPBA"
      }
    },
    {
      "cell_type": "code",
      "source": [
        "print(\"예술 영화 대표 단어 수:\", len(slice_w1))\n",
        "print(\"일반 영화 대표 단어 수:\", len(slice_w2))"
      ],
      "metadata": {
        "colab": {
          "base_uri": "https://localhost:8080/"
        },
        "id": "8joTIYY_ed6D",
        "outputId": "3d6baff2-6295-4286-a6dc-427cef6edd09"
      },
      "execution_count": 37,
      "outputs": [
        {
          "output_type": "stream",
          "name": "stdout",
          "text": [
            "예술 영화 대표 단어 수: 54\n",
            "일반 영화 대표 단어 수: 49\n"
          ]
        }
      ]
    },
    {
      "cell_type": "markdown",
      "source": [
        "- **단어 개수 통일**"
      ],
      "metadata": {
        "id": "bEuUhsTIOT8A"
      }
    },
    {
      "cell_type": "code",
      "source": [
        "slice_w1 = slice_w1[:49]"
      ],
      "metadata": {
        "id": "Hyl2wz-4eook"
      },
      "execution_count": 38,
      "outputs": []
    },
    {
      "cell_type": "markdown",
      "source": [
        "- **중복 단어 수집 함수**"
      ],
      "metadata": {
        "id": "sWaliOguOriO"
      }
    },
    {
      "cell_type": "code",
      "source": [
        "def get_duplicated_data(data1, data2):\n",
        "    set_data1 = set(value[0] for value in data1)\n",
        "    set_data2 = set(value[0] for value in data2)\n",
        "\n",
        "    duplicated_list = list(set_data1 & set_data2)\n",
        "    return duplicated_list"
      ],
      "metadata": {
        "id": "DNcZUzyDfPnH"
      },
      "execution_count": 39,
      "outputs": []
    },
    {
      "cell_type": "code",
      "source": [
        "dupl_list = get_duplicated_data(slice_w1, slice_w2)"
      ],
      "metadata": {
        "id": "_lNIKT2MfSDs"
      },
      "execution_count": 40,
      "outputs": []
    },
    {
      "cell_type": "code",
      "source": [
        "dict_w1 = {key: value for key, value in slice_w1}\n",
        "dict_w2 = {key: value for key, value in slice_w2}"
      ],
      "metadata": {
        "id": "tiUYgMFlfULd"
      },
      "execution_count": 41,
      "outputs": []
    },
    {
      "cell_type": "markdown",
      "source": [
        "- **중복 단어 확인**"
      ],
      "metadata": {
        "id": "xvBH2OLHOvNs"
      }
    },
    {
      "cell_type": "code",
      "source": [
        "for idx, token in enumerate(dupl_list):\n",
        "    w1_value = dict_w1[token]\n",
        "    w2_value = dict_w2[token]\n",
        "    subtract_w1_w2 = w1_value - w2_value\n",
        "    \n",
        "    voc = vectorizer.get_feature_names()[token].center(4)\n",
        "    \n",
        "    print(f\"{voc}(art: {w1_value:.3f}, normal: {w2_value:.3f}, art-genre: {subtract_w1_w2:.3f})\", end =\", \")"
      ],
      "metadata": {
        "colab": {
          "base_uri": "https://localhost:8080/"
        },
        "id": "rnFS-cIJer-g",
        "outputId": "e0da91bf-5f25-4b02-b90e-a5d40969f569"
      },
      "execution_count": 42,
      "outputs": [
        {
          "output_type": "stream",
          "name": "stdout",
          "text": [
            " 마음 (art: 0.098, normal: 0.073, art-genre: 0.025),  아들 (art: 0.080, normal: 0.073, art-genre: 0.006),  시간 (art: 0.083, normal: 0.076, art-genre: 0.007), 이야기 (art: 0.110, normal: 0.126, art-genre: -0.017),  위해 (art: 0.261, normal: 0.236, art-genre: 0.025),  아이 (art: 0.094, normal: 0.090, art-genre: 0.004),  사건 (art: 0.099, normal: 0.097, art-genre: 0.001),  사이 (art: 0.069, normal: 0.062, art-genre: 0.008),  세계 (art: 0.069, normal: 0.070, art-genre: -0.001), 아버지 (art: 0.095, normal: 0.089, art-genre: 0.006),  다른 (art: 0.071, normal: 0.081, art-genre: -0.010),  영화 (art: 0.156, normal: 0.175, art-genre: -0.019),  발견 (art: 0.059, normal: 0.064, art-genre: -0.005),  여자 (art: 0.091, normal: 0.100, art-genre: -0.009),  서로 (art: 0.086, normal: 0.068, art-genre: 0.018),  통해 (art: 0.053, normal: 0.068, art-genre: -0.015),  하나 (art: 0.066, normal: 0.059, art-genre: 0.007), 영화제 (art: 0.069, normal: 0.288, art-genre: -0.219),  감독 (art: 0.061, normal: 0.064, art-genre: -0.003),  엄마 (art: 0.093, normal: 0.075, art-genre: 0.018),  모습 (art: 0.053, normal: 0.069, art-genre: -0.016),  소녀 (art: 0.077, normal: 0.062, art-genre: 0.015),  시작 (art: 0.291, normal: 0.211, art-genre: 0.080),  친구 (art: 0.151, normal: 0.158, art-genre: -0.006),  다시 (art: 0.083, normal: 0.071, art-genre: 0.012),  아내 (art: 0.073, normal: 0.063, art-genre: 0.010),  남자 (art: 0.134, normal: 0.145, art-genre: -0.011),  사람 (art: 0.234, normal: 0.213, art-genre: 0.021),  자신 (art: 0.295, normal: 0.303, art-genre: -0.008),  사랑 (art: 0.255, normal: 0.156, art-genre: 0.099),  사실 (art: 0.068, normal: 0.071, art-genre: -0.003),  우리 (art: 0.058, normal: 0.058, art-genre: -0.001),  가족 (art: 0.112, normal: 0.089, art-genre: 0.023),  그녀 (art: 0.304, normal: 0.288, art-genre: 0.016),  남편 (art: 0.062, normal: 0.094, art-genre: -0.032),  대한 (art: 0.088, normal: 0.103, art-genre: -0.014),  세상 (art: 0.098, normal: 0.066, art-genre: 0.032),  모든 (art: 0.092, normal: 0.073, art-genre: 0.019),  마을 (art: 0.105, normal: 0.077, art-genre: 0.027), "
          ]
        }
      ]
    },
    {
      "cell_type": "markdown",
      "source": [
        "- **중복 단어 수 확인**"
      ],
      "metadata": {
        "id": "r0hGuQ1RO5F2"
      }
    },
    {
      "cell_type": "code",
      "source": [
        "print(\"중복 단어 수:\", len(dupl_list))"
      ],
      "metadata": {
        "colab": {
          "base_uri": "https://localhost:8080/"
        },
        "id": "JeHAmkkcevBb",
        "outputId": "f8cbc4ec-5af4-45ac-fe0d-dba1c1749cec"
      },
      "execution_count": 43,
      "outputs": [
        {
          "output_type": "stream",
          "name": "stdout",
          "text": [
            "중복 단어 수: 39\n"
          ]
        }
      ]
    },
    {
      "cell_type": "markdown",
      "source": [
        "- **중복 단어 제외**"
      ],
      "metadata": {
        "id": "ljfpD_OkO_1X"
      }
    },
    {
      "cell_type": "code",
      "source": [
        "target_art = [vectorizer.get_feature_names()[token] for token, _ in slice_w1 if token not in dupl_list]\n",
        "target_gen = [vectorizer.get_feature_names()[token] for token, _ in slice_w2 if token not in dupl_list]"
      ],
      "metadata": {
        "id": "RbbYe8zyfaOx"
      },
      "execution_count": 44,
      "outputs": []
    },
    {
      "cell_type": "markdown",
      "source": [
        "- **최종 예술 영화 대표 단어 확인**"
      ],
      "metadata": {
        "id": "D7i5OFrvPCMF"
      }
    },
    {
      "cell_type": "code",
      "source": [
        "print(\"예술 영화 대표 단어:\", target_art)"
      ],
      "metadata": {
        "colab": {
          "base_uri": "https://localhost:8080/"
        },
        "id": "KBCvYWBffdMZ",
        "outputId": "137f0f79-45b8-44b6-d11e-3b4446b9408d"
      },
      "execution_count": 45,
      "outputs": [
        {
          "output_type": "stream",
          "name": "stdout",
          "text": [
            "예술 영화 대표 단어: ['과연', '점점', '여행', '인생', '모두', '순간', '가장', '마지막', '생활', '아빠']\n"
          ]
        }
      ]
    },
    {
      "cell_type": "markdown",
      "source": [
        "- **최종 일반 영화 대표 단어 확인**"
      ],
      "metadata": {
        "id": "9XemZrFsPIhX"
      }
    },
    {
      "cell_type": "code",
      "source": [
        "print(\"일반 영화 대표 단어:\", target_gen)"
      ],
      "metadata": {
        "colab": {
          "base_uri": "https://localhost:8080/"
        },
        "id": "jubC7zbffhym",
        "outputId": "0bfeaa86-547d-4647-c69f-1398725fdd43"
      },
      "execution_count": 46,
      "outputs": [
        {
          "output_type": "stream",
          "name": "stdout",
          "text": [
            "일반 영화 대표 단어: ['국제', '서울', '단편', '작품', '생각', '관계', '애니메이션', '때문', '여성', '죽음']\n"
          ]
        }
      ]
    },
    {
      "cell_type": "markdown",
      "source": [
        "## **5. WEAT Attribute 단어 선정**"
      ],
      "metadata": {
        "id": "FbC2vXQaPMAv"
      }
    },
    {
      "cell_type": "markdown",
      "source": [
        "### **5-1. 장르별 명사 추출**"
      ],
      "metadata": {
        "id": "b5PwUBzHPkKb"
      }
    },
    {
      "cell_type": "markdown",
      "source": [
        "- **총 21개의 장르별 명사 추출**"
      ],
      "metadata": {
        "id": "rhJAN2YhP9ZE"
      }
    },
    {
      "cell_type": "code",
      "source": [
        "genre_txt = ['synopsis_SF.txt', 'synopsis_family.txt', 'synopsis_show.txt', 'synopsis_horror.txt', 'synopsis_etc.txt', 'synopsis_documentary.txt', 'synopsis_drama.txt', 'synopsis_romance.txt', 'synopsis_musical.txt', \n",
        "             'synopsis_mystery.txt', 'synopsis_crime.txt', 'synopsis_historical.txt', 'synopsis_western.txt', 'synopsis_adult.txt', 'synopsis_thriller.txt', 'synopsis_animation.txt', 'synopsis_action.txt', 'synopsis_adventure.txt', \n",
        "              'synopsis_war.txt', 'synopsis_comedy.txt', 'synopsis_fantasy.txt']"
      ],
      "metadata": {
        "id": "rNd9iPQKfrpS"
      },
      "execution_count": 47,
      "outputs": []
    },
    {
      "cell_type": "code",
      "source": [
        "genre_name = ['SF', '가족', '공연', '공포/호러', '기타', '다큐멘터리','드라마', '멜로로맨스', '뮤지컬', '미스터리', '범죄','사극', '서부극/웨스턴', '성인물/에로', '스릴러', '애니메이션', '액션', '어드벤처', '전쟁', '코미디', '판타지']"
      ],
      "metadata": {
        "id": "D_2PTQ8uftql"
      },
      "execution_count": 48,
      "outputs": []
    },
    {
      "cell_type": "code",
      "source": [
        "genre = []\n",
        "for file_name in genre_txt:\n",
        "    genre.append(read_token(file_name))"
      ],
      "metadata": {
        "id": "NPsAW44qfy4a"
      },
      "execution_count": 49,
      "outputs": []
    },
    {
      "cell_type": "code",
      "source": [
        "save_pkl(\"/content/drive/MyDrive/Colab Notebooks/aiffel/01_data/02-1_nlp/06/genre_word.pkl\", genre)"
      ],
      "metadata": {
        "id": "_wlCgd6Ff0AL"
      },
      "execution_count": 50,
      "outputs": []
    },
    {
      "cell_type": "code",
      "source": [
        "genre = load_pkl(\"/content/drive/MyDrive/Colab Notebooks/aiffel/01_data/02-1_nlp/06/genre_word.pkl\")"
      ],
      "metadata": {
        "id": "tV9W6geXgb9l"
      },
      "execution_count": 51,
      "outputs": []
    },
    {
      "cell_type": "markdown",
      "source": [
        "### **5-2. 추출 명사 확인**"
      ],
      "metadata": {
        "id": "MK-t8_7GPzcf"
      }
    },
    {
      "cell_type": "markdown",
      "source": [
        "- **영화 분류 수 확인**"
      ],
      "metadata": {
        "id": "rR7aQ6NmQM0H"
      }
    },
    {
      "cell_type": "code",
      "source": [
        "print('영화 분류 수:', len(genre))"
      ],
      "metadata": {
        "colab": {
          "base_uri": "https://localhost:8080/"
        },
        "id": "myhw5y9xgV7e",
        "outputId": "03ab6549-485d-4c79-ef52-85ecb5818fdc"
      },
      "execution_count": 52,
      "outputs": [
        {
          "output_type": "stream",
          "name": "stdout",
          "text": [
            "영화 분류 수: 21\n"
          ]
        }
      ]
    },
    {
      "cell_type": "markdown",
      "source": [
        "- **영화 분류 별 추출 단어 수 확인**"
      ],
      "metadata": {
        "id": "HJ74MPDyQSlC"
      }
    },
    {
      "cell_type": "code",
      "source": [
        "for idx in range(len(genre)):\n",
        "    print(f\"{genre_name[idx]}: {len(genre[idx])}\")"
      ],
      "metadata": {
        "colab": {
          "base_uri": "https://localhost:8080/"
        },
        "id": "uZdSOkFJgYtc",
        "outputId": "a6f5940f-220d-4935-b86d-4a1e5de50687"
      },
      "execution_count": 53,
      "outputs": [
        {
          "output_type": "stream",
          "name": "stdout",
          "text": [
            "SF: 65038\n",
            "가족: 23821\n",
            "공연: 24369\n",
            "공포/호러: 170697\n",
            "기타: 147570\n",
            "다큐멘터리: 477808\n",
            "드라마: 1124761\n",
            "멜로로맨스: 300036\n",
            "뮤지컬: 10424\n",
            "미스터리: 46534\n",
            "범죄: 87649\n",
            "사극: 10583\n",
            "서부극/웨스턴: 2719\n",
            "성인물/에로: 133364\n",
            "스릴러: 127030\n",
            "애니메이션: 369758\n",
            "액션: 342982\n",
            "어드벤처: 29205\n",
            "전쟁: 25786\n",
            "코미디: 321161\n",
            "판타지: 35443\n"
          ]
        }
      ]
    },
    {
      "cell_type": "markdown",
      "source": [
        "### **5-3. TF-IDF 단어 선정**"
      ],
      "metadata": {
        "id": "iY9EKKq0Qq9d"
      }
    },
    {
      "cell_type": "markdown",
      "source": [
        "- **TF-IDF 생성**"
      ],
      "metadata": {
        "id": "YTYbU9pXQyl6"
      }
    },
    {
      "cell_type": "code",
      "source": [
        "vectorizer = TfidfVectorizer()\n",
        "X = vectorizer.fit_transform(genre)"
      ],
      "metadata": {
        "id": "1As6wiZLgnyU"
      },
      "execution_count": 54,
      "outputs": []
    },
    {
      "cell_type": "markdown",
      "source": [
        "- **형태 확인**"
      ],
      "metadata": {
        "id": "q6pWh8n4Q1QI"
      }
    },
    {
      "cell_type": "code",
      "source": [
        "print(X.shape)"
      ],
      "metadata": {
        "colab": {
          "base_uri": "https://localhost:8080/"
        },
        "id": "87Zpa2blgqse",
        "outputId": "cfa06b7d-7049-490f-970e-829fb912bac7"
      },
      "execution_count": 55,
      "outputs": [
        {
          "output_type": "stream",
          "name": "stdout",
          "text": [
            "(21, 42191)\n"
          ]
        }
      ]
    },
    {
      "cell_type": "markdown",
      "source": [
        "- **각 장르별 단어 및 TF-IDF 값 출력**"
      ],
      "metadata": {
        "id": "g1WR5IE7RHlK"
      }
    },
    {
      "cell_type": "code",
      "source": [
        "m = [X[i].tocoo() for i in range(X.shape[0])]\n",
        "w = [[[i, j] for i, j in zip(mm.col, mm.data)] for mm in m]"
      ],
      "metadata": {
        "id": "KLSGomqzguc6"
      },
      "execution_count": 56,
      "outputs": []
    },
    {
      "cell_type": "code",
      "source": [
        "for i in range(len(w)):\n",
        "    w[i].sort(key=lambda x: x[1], reverse=True)"
      ],
      "metadata": {
        "id": "8_3BbOr2gvlp"
      },
      "execution_count": 57,
      "outputs": []
    },
    {
      "cell_type": "code",
      "source": [
        "for idx in range(len(w)):\n",
        "    print_word_tf_idf(w[idx], 10)"
      ],
      "metadata": {
        "colab": {
          "base_uri": "https://localhost:8080/"
        },
        "id": "_-8NFmjpgwpr",
        "outputId": "16953fa3-80b3-4c27-fbe4-a6cdaaa4fa38"
      },
      "execution_count": 58,
      "outputs": [
        {
          "output_type": "stream",
          "name": "stdout",
          "text": [
            "위해(0.261), 자신(0.258), 지구(0.243), 시작(0.227), 사람(0.193), 인류(0.189), 인간(0.148), 미래(0.13), 우주(0.125), 그녀(0.115), 엄마(0.247), 아빠(0.226), 가족(0.203), 영화제(0.2), 자신(0.194), 위해(0.175), 친구(0.153), 아주르(0.151), 아버지(0.15), 시작(0.146), 오페라(0.267), 사랑(0.265), 토스카(0.214), 실황(0.205), 올레(0.165), 자신(0.163), 카바(0.147), 그녀(0.138), 공연(0.125), 오텔로(0.122), 시작(0.258), 위해(0.242), 사람(0.24), 자신(0.232), 친구(0.223), 그녀(0.222), 사건(0.187), 공포(0.165), 발견(0.148), 죽음(0.132), 영화제(0.51), 국제(0.395), 서울(0.356), 단편(0.309), 영화(0.149), 자신(0.146), 사람(0.136), 이야기(0.127), 그녀(0.119), 남자(0.102), 영화제(0.335), 영화(0.277), 다큐(0.232), 국제(0.228), 다큐멘터리(0.218), 사람(0.198), 이야기(0.173), 대한(0.158), 자신(0.149), 감독(0.147), 자신(0.294), 영화제(0.289), 그녀(0.277), 사람(0.203), 사랑(0.202), 영화(0.19), 위해(0.189), 시작(0.181), 국제(0.149), 남자(0.145), 그녀(0.47), 사랑(0.305), 자신(0.249), 시작(0.208), 남편(0.205), 남자(0.199), 여자(0.176), 사람(0.161), 친구(0.147), 섹스(0.143), 뮤지컬(0.256), 사랑(0.201), 에스메랄다(0.194), 그녀(0.177), 음악(0.168), 충무로(0.158), 모차르트(0.152), 영화(0.148), 토스카(0.144), 자신(0.142), 사건(0.345), 그녀(0.285), 시작(0.247), 자신(0.224), 위해(0.17), 사람(0.152), 발견(0.118), 사고(0.115), 진실(0.114), 죽음(0.111), 사건(0.307), 위해(0.249), 자신(0.247), 경찰(0.23), 시작(0.218), 그녀(0.167), 범죄(0.153), 조직(0.15), 살인(0.14), 사람(0.132), 조선(0.368), 위해(0.194), 시작(0.157), 신기전(0.147), 사랑(0.146), 자신(0.14), 아가멤논(0.128), 황제(0.114), 그녀(0.113), 루안(0.11), 서부(0.308), 보안관(0.226), 위해(0.196), 벌린(0.195), 카우보이(0.183), 그레이프바인(0.166), 헨리(0.164), 마을(0.163), 자신(0.147), 개릿(0.146), 그녀(0.465), 남편(0.322), 마사지(0.237), 자신(0.225), 섹스(0.168), 관계(0.163), 영화(0.148), 정사(0.146), 남자(0.145), 위해(0.139), 자신(0.322), 그녀(0.288), 사건(0.283), 시작(0.256), 위해(0.234), 사람(0.21), 살인(0.174), 남자(0.151), 발견(0.113), 아내(0.108), 애니메이션(0.475), 국제(0.316), 영화제(0.287), 친구(0.198), 인디애니페스트(0.18), 위해(0.165), 자신(0.157), 시작(0.139), 사람(0.138), 페스티벌(0.131), 위해(0.359), 자신(0.297), 시작(0.236), 조직(0.191), 사건(0.173), 사람(0.141), 그녀(0.138), 경찰(0.136), 전쟁(0.101), 모든(0.093), 위해(0.297), 자신(0.184), 시작(0.149), 친구(0.142), 마을(0.139), 아버지(0.119), 영화(0.118), 아이(0.116), 사람(0.116), 여행(0.112), 전쟁(0.268), 독일군(0.263), 전투(0.222), 위해(0.199), 작전(0.187), 시작(0.171), 부대(0.171), 윈터스(0.139), 독일(0.122), 연합군(0.115), 그녀(0.273), 자신(0.271), 시작(0.238), 위해(0.234), 사랑(0.21), 사람(0.183), 친구(0.181), 영화(0.173), 남자(0.16), 여자(0.134), 자신(0.278), 그녀(0.259), 시작(0.24), 위해(0.214), 사람(0.184), 사랑(0.172), 요괴(0.172), 영화제(0.132), 이야기(0.113), 영화(0.111), "
          ]
        }
      ]
    },
    {
      "cell_type": "markdown",
      "source": [
        "- **TF-IDF 값 기준 단어 추출**  \n",
        "값이 0.01 이상인 단어만 추출  "
      ],
      "metadata": {
        "id": "2AHvVruoROaL"
      }
    },
    {
      "cell_type": "code",
      "source": [
        "limit_tf_idf = 0.01"
      ],
      "metadata": {
        "id": "Xkpzi1ZXhVUi"
      },
      "execution_count": 59,
      "outputs": []
    },
    {
      "cell_type": "code",
      "source": [
        "genre_dict = {}"
      ],
      "metadata": {
        "id": "4QCDRdu5hbq_"
      },
      "execution_count": 60,
      "outputs": []
    },
    {
      "cell_type": "code",
      "source": [
        "for idx, tf_idf in enumerate(w):\n",
        "    genre_dict[genre_name[idx]] = get_limit_tf_idf(tf_idf, limit_tf_idf)"
      ],
      "metadata": {
        "id": "nI8PYyiqhWgk"
      },
      "execution_count": 61,
      "outputs": []
    },
    {
      "cell_type": "markdown",
      "source": [
        "- **중복 단어 확인**  \n",
        "단어 중요도 차이가 0.1 이상일 경우 중복 단어 제외 (해당 단어에 * 표시)  "
      ],
      "metadata": {
        "id": "vGLOo4f5RZH_"
      }
    },
    {
      "cell_type": "code",
      "source": [
        "LIMIT_DIFF = 0.1"
      ],
      "metadata": {
        "id": "7cOjLi7ghdDO"
      },
      "execution_count": 62,
      "outputs": []
    },
    {
      "cell_type": "code",
      "source": [
        "for idx_i in range(len(genre_dict)-1):\n",
        "    g1_name = genre_name[idx_i]\n",
        "    print(f\"<{g1_name}>\")\n",
        "    \n",
        "    for idx_j in range(idx_i + 1, len(genre_dict)):\n",
        "        g2_name = genre_name[idx_j]\n",
        "        dupl_list = get_duplicated_data(genre_dict[g1_name], genre_dict[g2_name])\n",
        "        \n",
        "        if dupl_list:\n",
        "            dupl_dict = {}\n",
        "\n",
        "            for token in dupl_list:\n",
        "                g1_idx, _ = np.where(np.array(genre_dict[g1_name]) == token)\n",
        "                g2_idx, _ = np.where(np.array(genre_dict[g2_name]) == token)\n",
        "\n",
        "                g1_tf_idf = genre_dict[g1_name][g1_idx[0]][1]\n",
        "                g2_tf_idf = genre_dict[g2_name][g2_idx[0]][1]\n",
        "\n",
        "                diff_g1_g2 = g1_tf_idf - g2_tf_idf\n",
        "\n",
        "                if abs(diff_g1_g2) >= LIMIT_DIFF:\n",
        "                    if diff_g1_g2 > 0:\n",
        "                        del genre_dict[g2_name][g2_idx[0]]\n",
        "                    else:\n",
        "                        del genre_dict[g1_name][g1_idx[0]]\n",
        "                else:\n",
        "                    del genre_dict[g1_name][g1_idx[0]]\n",
        "                    del genre_dict[g2_name][g2_idx[0]]\n",
        "                dupl_dict[token] = diff_g1_g2\n",
        "\n",
        "            print(f\"{g2_name}:\", end=\" \")\n",
        "            \n",
        "            for idx, (token, value) in enumerate(dupl_dict.items()):\n",
        "                value = f\"*{value:.3f}\" if abs(value) >= LIMIT_DIFF else f\"{value:.3f}\"\n",
        "                print(f\"{vectorizer.get_feature_names()[token]}({value})\", end=\", \")\n",
        "            print()\n",
        "                \n",
        "    print(end=\"\\n\\n\")    "
      ],
      "metadata": {
        "colab": {
          "base_uri": "https://localhost:8080/"
        },
        "id": "hOyG3rgvihzC",
        "outputId": "80ca6ed9-f55d-4314-9462-3851a0fe47bc"
      },
      "execution_count": 63,
      "outputs": [
        {
          "output_type": "stream",
          "name": "stdout",
          "text": [
            "<SF>\n",
            "가족: 여자(0.007), 마을(-0.084), 마음(-0.041), 슈퍼(0.018), 스파이(-0.014), 소식(-0.027), 매일(-0.019), 영화제(*-0.171), 교수(-0.008), 갑자기(0.024), 마이클(-0.002), 계속(0.023), 상자(0.005), 잠시(-0.011), 여행(0.006), 부천(-0.017), 이상(0.020), 무기(0.021), 아이(-0.060), 마주(0.000), 해결(0.002), 마지막(0.009), 계획(0.021), 상태(0.017), 나무(0.001), 찾기(0.009), 주니(-0.026), 희망(0.002), 역시(-0.002), 도시(0.003), 인생(-0.019), 사회(0.005), 바다(0.001), 상황(0.011), 마침내(0.007), 세계(0.083), 때문(0.004), 음모(0.042), 보호(0.004), 지금(0.008), 파워(-0.005), 지난(-0.000), 주변(-0.007), 연구(0.030), 도움(-0.006), 타고(0.007), 누구(0.004), 미래(*0.119), 발견(0.036), 대한(-0.024), 바로(0.008), 도착(0.005), 모두(-0.008), 모든(0.071), 정신(0.006), 기상(0.002), 학교(-0.079), 회사(-0.011), 그것(0.004), 신비(-0.000), 자기(-0.004), 그녀(-0.028), 과거(0.025), 강제(-0.000), 이야기(-0.043), 주인공(0.001), 사건(0.015), 세상(-0.008), 주장(-0.006), 사고(0.026), 처음(-0.003), 생각(-0.007), 가운데(0.003), 기억(0.030), 과연(-0.007), 만난(-0.002), 더욱(0.010), 무엇(-0.006), 우리(-0.012), 가장(-0.038), 모습(0.004), 아내(-0.019), 현실(0.020), 지역(0.009), 비밀(0.050), 과학(0.000), 의미(0.003), 이유(0.002), 가족(*-0.152), 현재(0.002), 영화(0.021), 기적(-0.000), 의사(0.005), 사람(0.091), 가지(-0.004), 사랑(-0.061), 판타스틱(-0.017), 시간(0.033), 순간(-0.002), 죽음(0.036), 이자(-0.005), 자신(0.064), 개발(0.028), 아들(-0.065), 사막(-0.007), 의지(-0.000), 생활(-0.007), 이제(0.027), 위기(-0.004), 능력(0.048), 모험(-0.041), 전쟁(0.060), 치료(0.002), 결심(-0.034), 목격(0.009), 촬영(0.006), 안나(0.001), 최고(0.011), 간다(-0.010), 제거(0.001), 방법(-0.000), 실수(0.001), 근처(0.001), 마리아(0.006), 사실(0.036), 국제(-0.093), 한편(0.023), 위치(-0.000), 직접(-0.002), 친구(-0.076), 실종(0.009), 소녀(-0.031), 아무(-0.006), 소년(-0.064), 운영(-0.009), 동료(0.018), 위해(0.086), 몰래(-0.001), 여기(0.002), 아버지(-0.094), 이름(-0.010), 부문(-0.023), 하나(-0.008), 부부(-0.023), 다른(-0.002), 사이(-0.016), 확인(0.008), 남자(0.026), 감독(0.000), 맞이(-0.001), 하늘(-0.009), 배경(-0.007), 아빠(*-0.212), 시작(0.080), 작전(0.000), 시절(-0.011), 작품(-0.031), 여섯(-0.002), 프로젝트(0.029), 상상(0.014), 점점(0.005), 통해(0.004), 남편(-0.001), 다시(-0.002), 대상(0.001), 로봇(0.085), 로부터(0.013), 동안(-0.007), 인간(*0.113), 환자(-0.019), 시체(0.005), 감정(0.002), 서로(-0.022), 엄마(*-0.237), \n",
            "공연: 여인(-0.043), 마리우스(0.001), 기지(0.010), 충격(0.013), 등장(-0.006), 보고(-0.004), 관계(-0.009), 인기(0.009), 그린(-0.020), 스스로(-0.004), 또한(-0.008), 복수(0.003), 운명(0.013), 위험(0.025), 창조(-0.005), 탄생(0.001), 시대(0.005), 미국(0.021), 제안(-0.003), 기술(0.010), 저항(0.001), 역사(-0.009), 명의(0.010), 선택(0.001), 파티(0.001), 프로그램(-0.001), 유로파(-0.015), 윌리엄(0.005), 희생(0.005), 군인(0.004), 이후(0.014), 경찰(0.014), 목숨(0.022), 예언(-0.008), 이용(0.017), 불구(0.002), 달리(0.001), 얼마(-0.002), 연인(-0.043), 전세계(0.006), 경험(-0.001), 세기(-0.003), 접근(-0.000), 현장(0.012), 납치(-0.004), 뉴욕(0.012), 영혼(-0.009), 자살(-0.007), 대신(-0.009), \n",
            "공포/호러: 추적(0.019), 여자친구(-0.014), 흔적(-0.004), 수사(0.005), 대원(0.027), 서서히(-0.014), 요청(0.004), 진행(0.007), 사투(0.001), 증세(-0.000), 인물(0.002), 농장(-0.009), 원인(0.000), 정부(0.046), 혼란(0.017), 백신(0.008), 연구소(0.012), 누군가(-0.010), 도중(-0.012), 단서(0.009), 조사(-0.003), 공포(*-0.136), 대해(-0.011), 정신과(-0.000), 습격(0.002), 게임(-0.020), 홀로(0.001), 미션(0.009), 장소(-0.005), 자동차(0.003), 미스터리(-0.001), 무언가(-0.011), 현상(-0.021), 발생(-0.002), 사냥(-0.001), 사냥꾼(0.002), 과정(-0.000), 구역(-0.002), 생명체(0.033), 의문(-0.026), 레이(-0.006), 지옥(0.002), 사라(-0.026), 바이러스(-0.006), 아담(-0.006), 구조(-0.006), 생존(0.024), 생존자(-0.014), 무차별(0.021), 유키(0.003), 준비(-0.006), 어둠(-0.002), 트릭(-0.005), 정체(0.002), 사망(0.002), 살인(-0.051), 불명(0.018), 살해(-0.053), 피해(0.001), 시도(0.010), 지하(-0.014), 돌연변이(0.018), 극한(-0.001), 전체(0.011), 형사(-0.009), 방문(-0.013), 존재(0.030), 경고(0.003), 크리스(-0.007), 탈출(-0.001), 벌이(-0.002), 전혀(-0.003), 박사(0.066), 데이빗(0.010), 좀비(-0.077), 필사(0.006), 절대(0.010), 범인(-0.003), 범죄(0.021), 거리(-0.000), 사용(-0.000), 위협(0.022), 실험(0.025), 실험실(0.002), 일행(-0.042), 비행기(0.007), 통제(0.022), 최후(0.030), 수도(0.004), 괴물(-0.008), 여성(-0.005), 동시(0.001), 진실(-0.009), 곳곳(-0.001), 점차(-0.008), 감염(0.006), 인간(*0.104), 공격(0.016), 교도소(-0.000), 감지(0.005), \n",
            "기타: 미래(*0.116), 작업(0.000), 디지털(0.001), 인간(*0.127), 변화(0.004), 제작(-0.005), 자연(-0.002), 지구(*0.232), \n",
            "다큐멘터리: 미래(*0.102), 여정(-0.016), 중심(-0.011), 성공(0.002), 인류(*0.176), 국가(-0.011), 자유(-0.002), 이주(-0.012), 일본(-0.013), 싸움(0.001), 결정(0.004), 평화(-0.000), 지구(*0.216), 생명(-0.001), 대통령(-0.003), 인간(*0.106), 완성(0.000), 시민(-0.004), 파괴(0.043), 훈련(0.005), \n",
            "드라마: 도쿄(0.002), 배달(-0.002), 미래(*0.110), 조직(0.025), 천재(0.014), 감옥(0.015), 인간(*0.118), 평소(-0.001), \n",
            "뮤지컬: 미래(*0.116), 치명(0.007), 마크(-0.005), 열쇠(-0.009), 죄수(-0.003), 켄트(0.005), 지구(*0.229), \n",
            "미스터리: 미래(*0.120), 출현(0.006), 기차(-0.002), 명령(0.008), 선원(-0.001), 요원(0.035), 순식간(0.007), 가능성(0.001), 다리(0.001), 확신(-0.004), 함장(-0.004), 방독면(-0.057), 제인(-0.004), 지구(*0.232), 대가(0.000), 시몬(0.009), 정보(-0.012), 조작(0.007), 인간(*0.138), 과학자(0.044), 파견(0.012), 외계인(0.037), 에코(-0.001), \n",
            "범죄: 테러(-0.026), 캐롤(-0.002), 미래(*0.118), 브루스(-0.014), 최악(-0.006), 거대(0.017), 이드(0.001), 세력(0.017), 반격(0.000), 범죄자(-0.013), 잠입(-0.014), 매티(-0.012), 스키(0.005), 검거(-0.007), 은행강도(-0.018), 제이(0.003), 전직(-0.010), 전문가(-0.008), 임무(0.033), 카지노(-0.018), 사기(-0.006), 폭발(0.016), 정의(0.002), 사상(0.005), 감시(-0.003), 목적(0.002), 대결(0.009), 인간(*0.131), 큐브(-0.001), 헨리(-0.003), \n",
            "사극: 군대(-0.015), 곳도(-0.007), 거인(0.008), 지도자(-0.002), 기생(-0.033), 인간(*0.138), 지배(-0.003), 차지(-0.001), 구출(0.003), 대형(0.000), 잭맨(-0.010), 정예(-0.002), 병기(0.000), 부대(0.000), \n",
            "서부극/웨스턴: 링컨(-0.046), 전투(-0.016), 문명(-0.006), 닥터(-0.015), 결코(-0.008), 구해(-0.007), 대령(-0.007), 인간(*0.116), 발전(-0.011), 폭파(-0.006), 현상금(-0.081), 결과(-0.006), 이동(0.008), 수호(-0.029), \n",
            "성인물/에로: 케이(0.011), 아미(-0.004), \n",
            "스릴러: 저스틴(-0.001), 에릭(0.001), 라이언(-0.004), 추락(0.010), 인간(*0.130), 본부(0.005), 수행(0.003), \n",
            "애니메이션: 미래(*0.106), 최강(-0.040), 거미(0.019), 컴퓨터(0.012), 에너지(0.017), 인간(0.079), 히어로(-0.005), 기계(0.011), 인류(*0.171), 지구(*0.191), 행성(0.058), 공룡(-0.003), 우주(0.081), \n",
            "액션: 상어(0.026), 탐사(0.016), 테러리스트(-0.017), 미래(*0.101), 장치(0.010), 토니(0.016), 가까스로(-0.003), 시스템(0.048), 지진(-0.001), 군단(0.020), 악의(0.003), 인류(*0.139), 사태(0.004), 반란(0.003), 기관(-0.004), 최첨단(0.006), 재난(0.003), 우주선(0.080), 함선(-0.000), 침략(0.005), 지구(*0.186), 괴수(0.001), 특수(0.001), 특수부대(-0.012), 비밀리(0.005), 외계(0.070), 고대(0.000), 블레이드(0.007), 폭풍(0.012), 소속(-0.001), 지능(0.020), \n",
            "어드벤처: 미래(0.086), 유성(0.024), 초능력(-0.003), 충돌(-0.004), 헬렌(-0.002), 운석(0.018), 선장(-0.010), 조종사(0.000), 미지(-0.012), 식량(-0.005), 조각(-0.002), 인류(*0.171), 비행(0.005), 통신(0.000), 불시(-0.005), 우주정거장(0.001), 제이크(-0.002), 괴생명체(0.013), 타임머신(0.009), 지구(*0.181), 제공(-0.000), 태양(-0.009), 생물(0.011), 르그(0.001), 동굴(-0.011), \n",
            "전쟁: 공군(-0.025), 전투기(-0.044), 지대(-0.004), 자원(-0.008), 초토화(-0.003), 소령(-0.006), \n",
            "코미디: 직전(0.001), 아이언(0.000), \n",
            "판타지: 종족(-0.004), 초월(0.005), 인류(*0.172), 신호(0.005), 라나(-0.020), 나비(-0.001), 에바(-0.025), 코너(-0.000), \n",
            "\n",
            "\n",
            "<가족>\n",
            "공연: 생일(-0.000), 의심(-0.015), 연기(-0.003), 조반(-0.009), 상영(-0.001), 마녀(-0.011), 시골(0.021), 죄책감(0.003), 진짜(-0.000), 마법(0.007), 요정(0.038), 콘서트(-0.088), 마법사(-0.014), 가슴(0.003), 절망(-0.015), 갈등(0.003), 대회(-0.003), 반니(-0.079), 가득(0.007), 베를린(-0.018), 파리(-0.045), 화가(-0.014), 노래(-0.010), 우정(0.006), 카르멘(-0.010), 어머니(0.045), 후작(-0.015), 러시아(-0.000), 왕자(-0.087), 동생(0.017), 특별(-0.001), 자리(-0.005), 결혼(-0.043), 마르(0.008), 약속(0.006), 베이징(0.003), 표현(-0.010), 무도회(-0.016), 애인(-0.003), 장군(0.001), 인형(0.029), 조이(-0.004), 첼로(-0.007), 오페라(*-0.257), 크리스마스(0.044), 여왕(-0.041), 목표(0.003), 마리(0.008), 공주(-0.039), 음악(-0.046), 부인(0.001), 조지(0.019), \n",
            "공포/호러: 애니(0.010), 사진(-0.011), 가게(0.002), 의식(-0.019), 엠마(0.040), 고양이(0.044), 동네(-0.001), 혼자(0.038), 영화제(*0.129), 문제(0.009), 아침(0.009), 낯선(-0.005), 항상(0.009), 옆집(-0.002), 연락(-0.011), 이사(-0.029), 어디(-0.009), 행동(-0.017), 수상한(-0.002), 그날(-0.020), 토마스(0.008), 동물(0.002), 할머니(0.085), 상처(-0.010), 부모(0.002), 작가(0.011), 부모님(0.016), 협박(0.002), 메리(-0.005), 여동생(-0.007), 그때(-0.007), 저택(-0.038), 주인(-0.010), 소재(-0.001), 제시(-0.002), 제시카(0.000), 머리(-0.005), 데리(0.004), 단편(0.020), 노력(-0.004), 서울(0.048), 소리(-0.023), 호텔(-0.002), 불안(0.004), 아빠(*0.202), 아기(0.030), 카메라(0.002), 일상(0.000), 고통(-0.007), 다섯(0.008), 주말(0.000), 병원(-0.042), 기운(-0.028), 가정(0.009), 고향(0.014), 가족(*0.105), 하루(0.002), 전화(-0.010), 선생님(0.011), 대학(-0.012), 엄마(*0.184), \n",
            "기타: 추억(0.002), 영화제(*-0.309), 시선(0.004), 수상(-0.005), 노동자(0.029), 어른(0.011), 어린이(0.019), 할아버지(0.043), 여러(0.002), 경쟁(-0.008), 고민(0.001), 청년(-0.003), 부산(-0.004), 전주(0.006), 비디오(-0.006), 각자(0.007), 아빠(*0.209), 장애인(-0.007), 독립(-0.049), 청소년(-0.005), 중국(0.010), 기록(0.003), 가족(*0.161), 엄마(*0.188), \n",
            "다큐멘터리: 독일(-0.006), 활동(-0.017), 매우(0.001), 대한민국(-0.005), 편지(0.026), 인도(0.011), 그림(0.000), 나라(-0.006), 포기(0.004), 반대(-0.003), 선수(-0.005), 기회(0.002), 평생(0.003), 열정(-0.006), 여름(0.005), 농성(-0.003), 아빠(*0.210), 겨울(0.003), 공장(-0.013), 요리(-0.004), 경기(0.003), 공개(-0.004), 가족(*0.109), 이스라엘(0.018), 엄마(*0.208), \n",
            "드라마: 직원(0.009), 직장(-0.005), 저녁(0.001), 커플(0.007), 시험(0.001), 택시(0.003), 슬픔(0.010), 소원(0.005), 첫사랑(-0.003), 행복(0.011), 공부(0.001), 오빠(0.011), 재능(-0.002), 뜻밖(0.004), 이혼(-0.002), 아빠(*0.185), 데뷔(0.000), 달라(0.000), 임신(0.008), 선물(0.021), 동거(0.009), 가족(0.095), 사장(0.010), 이별(-0.003), 엄마(*0.131), \n",
            "멜로로맨스: 진구(0.013), 예전(0.003), 진아(0.005), 나날(0.003), 로맨스(-0.004), 아빠(*0.200), 정식(-0.010), 로맨틱(0.002), 취해(0.003), 여직원(0.007), 사정(-0.001), 성인(0.005), 엄마(*0.171), \n",
            "뮤지컬: 고아원(0.001), 파병(0.001), 하우스(-0.028), 크리(0.011), 미키(-0.015), 깜짝(-0.003), 입양(0.019), 알렉(0.013), 철거(0.001), 시아(-0.019), 주제(0.001), 동작(0.001), 시장(-0.005), 지호(-0.011), 아주(0.005), 엄마(*0.196), \n",
            "미스터리: 수첩(0.004), 맥스(-0.007), 남매(0.016), 행방(0.002), 지훈(0.004), 아스(0.033), 아빠(*0.179), 일라이(-0.013), 라며(-0.004), 벤자민(-0.002), 린코(-0.006), 토미(0.005), 민혁(-0.068), 엄마(*0.191), 아줌마(0.003), \n",
            "범죄: 앤디(0.006), 그레이스(-0.008), 미아(0.050), 투입(-0.003), 모레(0.002), 트럭(-0.007), 비아(0.015), 보석(-0.001), 설득(0.001), 테리(0.038), 오직(0.000), 타일러(0.024), 엄마(*0.220), \n",
            "사극: 본격(-0.008), 막내딸(0.002), 호랑이(-0.007), 마왕(-0.008), 자도(-0.008), \n",
            "서부극/웨스턴: 레즈(-0.018), 스튜어트(0.023), 자식(-0.009), 화해(-0.009), 돌입(-0.009), 기쁨(-0.004), \n",
            "성인물/에로: 남동생(0.000), 유나(0.033), 사채(-0.005), 아빠(*0.209), 마키(-0.017), 단둘(-0.001), 엄마(*0.217), \n",
            "스릴러: 린지(0.007), 아빠(*0.206), 대수(0.003), 엔젤(-0.000), 엄마(*0.212), \n",
            "애니메이션: 장난감(0.025), 강아지(0.010), 아빠(*0.182), 동물원(0.018), 꼬마(-0.004), 엄마(*0.187), \n",
            "액션: 아빠(*0.214), 삼촌(0.022), 엄마(*0.237), 쿵푸(0.010), \n",
            "어드벤처: 난쟁이(-0.017), 오스카(0.009), 외한(-0.005), 여름방학(0.005), 대자연(-0.000), 생애(-0.000), 아빠(*0.208), 알라(-0.006), 인정(-0.000), 휴고(-0.013), 호화(-0.000), 용기(-0.004), 해고(-0.000), 럭키(0.019), 엄마(*0.191), \n",
            "전쟁: 수단(0.002), \n",
            "코미디: 살이(0.000), 좌충우돌(-0.009), 아빠(*0.183), 미스터(0.018), 단짝(0.003), 우여곡절(0.002), 엄마(*0.176), 연극(0.002), \n",
            "판타지: 백설공주(0.001), 이자벨(-0.001), 아빠(*0.205), 개구리(-0.001), 번개(0.023), 스톰(0.011), 엄마(*0.193), \n",
            "\n",
            "\n",
            "<공연>\n",
            "공포/호러: 여자(-0.023), 마을(-0.089), 마음(0.015), 도로(0.002), 소식(-0.001), 브리(0.004), 이상(-0.009), 아이(-0.020), 마주(-0.014), 저주(-0.062), 수수께끼(0.015), 마지막(-0.006), 계획(-0.000), 상태(-0.021), 역시(-0.002), 도시(0.032), 상황(-0.029), 세계(0.042), 도움(-0.012), 발견(*-0.137), 대한(-0.033), 모두(-0.038), 모든(-0.040), 기사(0.030), 집안(-0.018), 신부(-0.022), 자기(-0.003), 집착(-0.000), 그녀(-0.085), 이야기(-0.029), 고문(0.015), 주인공(-0.000), 처음(0.007), 생각(-0.034), 자매(0.003), 가장(0.006), 모습(-0.015), 아내(0.008), 전설(-0.004), 그레텔(0.000), 비밀(-0.066), 사람(*-0.171), 가지(-0.014), 사랑(*0.217), 연출(0.007), 시간(-0.047), 순간(-0.019), 관객(-0.001), 죽음(-0.099), 이자(0.006), 자신(-0.069), 아들(-0.016), 악마(-0.016), 이제(-0.028), 위기(-0.007), 전쟁(0.009), 결심(-0.003), 유혹(0.017), 극장(0.035), 차례(-0.001), 간다(-0.034), 영국(0.001), 광대(0.002), 사실(-0.026), 한편(-0.033), 친구(*-0.175), 위해(*-0.132), 몰래(0.002), 영상(0.004), 아버지(-0.014), 이름(0.012), 하나(-0.061), 앨리스(0.009), 다른(-0.017), 사이(0.011), 남자(-0.068), 시작(*-0.187), 작품(0.012), 환상(0.014), 점점(-0.058), 남편(-0.008), 통해(-0.022), 침입(0.006), 다시(-0.032), 동안(-0.014), 서로(-0.004), 영화(-0.044), \n",
            "기타: 남녀(0.004), 페스티벌(-0.048), 무대(0.063), 최고(0.020), 메트로(-0.020), 예술(0.006), 한국(-0.016), 배우(-0.005), 현재(0.001), 내용(-0.000), 유럽(-0.023), 사랑(*0.180), \n",
            "다큐멘터리: 촛불(0.000), 이탈리아(0.034), 비극(0.049), 초상(0.001), 정도(0.003), 스타(0.016), 최초(-0.011), 앨범(0.005), 현대(-0.001), 배경(0.011), 감동(-0.007), 예술가(-0.005), 비롯(-0.002), 요구(0.011), 공연(0.091), 전통(-0.009), 대표(-0.000), 연주(0.022), 사랑(*0.208), \n",
            "드라마: 매력(-0.006), 결혼식(0.005), 소설(0.001), 짝사랑(0.002), 사랑(0.063), \n",
            "멜로로맨스: 허락(0.007), 카페(-0.005), 미나(0.026), 리나(0.007), 질투(0.009), 알바(0.015), 조건(0.010), 미모(0.001), \n",
            "뮤지컬: 모차르트(*-0.119), 백작(0.092), 프리마돈나(-0.020), 음유시인(-0.002), 가수(-0.009), 강요(0.001), 피가로(0.032), 집시(-0.036), 뮤지컬(*-0.235), 미미(0.005), 권력(0.001), 콘스탄체(0.013), 스페인(-0.029), 충직(-0.002), 프레(0.100), 발레(-0.002), 군무(0.005), 실황(*0.193), 세비야(0.005), 로지(0.013), 안젤로(-0.003), 카르피(0.001), 아가(0.005), 순회(-0.002), 스카(0.010), 아타(0.009), 기념(-0.002), 파파(0.002), 토스카(0.070), 안나(0.016), 서곡(0.005), 지휘자(0.018), 무용(-0.006), 체포(-0.003), 약혼녀(0.004), 피아(0.014), 오페라(*0.197), 아리엘(0.014), 귀족(0.008), 합창(0.014), 영감(-0.002), 카바(0.008), 솔리스트(-0.022), 음악가(-0.013), \n",
            "미스터리: 음모(0.008), 로마(0.008), 다락방(0.002), 캐리(0.001), \n",
            "범죄: 클린(0.005), 카드(-0.007), 내기(0.002), 경감(-0.000), 리스(0.015), 던컨(-0.001), 실수(-0.007), \n",
            "사극: 계략(-0.016), 백작부인(0.082), 시해(-0.001), 왕궁(-0.001), 다니엘(-0.001), 갈라(0.004), 처녀(0.011), 포로(0.007), 왕비(-0.006), 당대(-0.005), 몸종(-0.001), 왕위(-0.005), 황제(*-0.100), 괴테(-0.001), 신의(-0.008), 격변(-0.001), 올린다(0.003), 유배(-0.001), 아더(-0.042), \n",
            "서부극/웨스턴: 남작(0.009), 사형(-0.002), 승리(-0.026), 루나(0.015), 도의(0.009), \n",
            "성인물/에로: 이번(-0.003), 이내(0.004), 마는(-0.000), 러브(0.006), \n",
            "스릴러: 매혹(0.008), 폭로(-0.001), \n",
            "애니메이션: 생쥐(-0.004), 변신(0.002), 형태(0.000), 축제(0.017), 해적(0.010), 동화(-0.000), \n",
            "액션: 결투(0.015), 대장(-0.002), \n",
            "어드벤처: 벨라(0.023), 영주(0.006), 카를로(0.002), 지상(0.004), 이집트(0.023), 오해(0.001), 터키(-0.000), 세트(-0.003), 데스(0.015), 리자(0.009), \n",
            "전쟁: 조국(-0.006), 임명(0.017), 호프(0.007), 지휘(-0.014), 사격(-0.001), 알버트(-0.024), \n",
            "코미디: 바람둥이(0.007), 롤라(0.008), 자랑(0.005), 오디(0.000), 소동(0.006), 라파엘(0.005), \n",
            "판타지: 젊음(0.001), 레오(0.051), 마술(0.001), 리크(0.001), 지나(0.023), \n",
            "\n",
            "\n",
            "<공포/호러>\n",
            "기타: 여인(0.016), 매일(-0.002), 계속(0.049), 여행(0.016), 부천(0.004), 은주(0.002), 미국(0.010), 명의(0.044), 반복(-0.004), 폭력(-0.006), 인생(-0.004), 마치(-0.002), 바다(0.001), 사회(-0.022), 때문(-0.003), 지금(-0.004), 주민(0.011), 주변(0.020), 타고(0.006), 누구(0.008), 발견(*0.107), 바로(0.014), 스스로(-0.001), 도착(0.021), 공포(*0.155), 장면(0.005), 정신(0.020), 대화(-0.013), 학교(0.022), 그것(0.004), 회사(0.006), 과거(0.027), 세상(0.003), 사건(*0.159), 사고(0.051), 기억(-0.007), 과연(0.035), 만난(0.008), 무엇(0.008), 자리(0.003), 우리(-0.043), 이용(0.003), 연인(-0.002), 현실(-0.013), 아파트(0.014), 이유(0.012), 현장(0.014), 사람(*0.104), 자살(0.028), 판타스틱(0.005), 버스(0.004), 관계(-0.024), 그린(-0.009), 생활(0.007), 촬영(0.008), 어머니(0.006), 지하철(-0.031), 당신(-0.000), 결혼(-0.004), 목소리(0.003), 애인(0.001), 방법(0.004), 필름(0.002), 국제(*-0.352), 보고(-0.002), 실제(0.006), 친구(*0.159), 소녀(0.035), 소년(-0.020), 위해(*0.144), 노인(-0.024), 언니(0.007), 이해(-0.003), 부부(0.031), 감독(-0.015), 남자친구(0.016), 동생(0.021), 시작(*0.172), 이후(0.048), 얼굴(0.013), 경찰(0.019), 시절(0.004), 상상(0.012), 대상(0.005), 로부터(0.031), 공간(-0.015), 경험(0.001), 건물(0.021), \n",
            "다큐멘터리: 충격(0.036), 위치(-0.004), 등장(-0.002), 발견(*0.126), 집단(0.001), 직접(-0.012), 또한(-0.010), 개발(-0.006), 친구(*0.182), 운명(0.003), 아무(0.020), 한번(-0.003), 위해(*0.103), 여기(-0.002), 해결(-0.002), 사건(*0.149), 피해자(-0.001), 학생(0.018), 찾기(0.011), 주장(0.006), 당시(-0.020), 희생(0.012), 시작(*0.128), 목숨(0.028), 지역(-0.037), 전세계(-0.005), 환자(0.015), 의사(0.016), 사람(0.042), 뉴욕(-0.009), \n",
            "드라마: 고등학교(-0.002), 생일(-0.003), 의심(0.011), 장례식(-0.000), 발견(0.100), 교수(0.010), 미장센(0.009), 초대(0.010), 복수(0.015), 시골(0.003), 친구(0.089), 실종(0.043), 갑자기(0.015), 보이(-0.002), 보기(-0.001), 진짜(-0.001), 운영(-0.004), 잠시(0.002), 동료(0.000), 위해(0.053), 여고생(0.009), 능력(0.002), 거부(-0.003), 치료(0.024), 수술(0.003), 클럽(-0.001), 제안(-0.005), 사건(*0.122), 목격(0.020), 확인(0.004), 분위기(0.008), 파티(0.041), 가운데(0.008), 맞이(0.004), 며칠(0.002), 더욱(0.006), 시작(0.077), 약속(-0.007), 마침내(0.005), 두려움(0.015), 이웃(0.001), 얼마(-0.003), 마약(-0.004), 형제(-0.003), 졸업(-0.001), 영혼(0.034), 접근(0.000), 부인(-0.003), 불구(0.000), 다음(0.006), \n",
            "멜로로맨스: 얘기(0.001), 히토미(0.003), 근무(-0.001), 대학생(-0.002), 첫날(-0.000), 소문(0.002), 하룻밤(-0.008), 알렉스(0.010), 간호사(0.002), 선생(0.004), 사건(*0.165), \n",
            "뮤지컬: 거울(-0.017), 설명(0.002), 마녀(0.005), 누가(-0.002), 부터(-0.004), 크리스틴(-0.069), 납치(0.007), 가면(-0.002), \n",
            "미스터리: 외딴(0.010), 주술(0.002), 용의자(-0.040), 신문(-0.003), 레이첼(0.011), 뭔가(0.003), 마이크(-0.005), 공포(*0.111), 에밀리(0.008), 마이클(-0.009), 느낌(0.005), 실체(0.007), 악몽(0.039), 정신병원(0.017), 보이지(-0.002), 사만(0.004), 늑대인간(0.020), 위험(0.004), 시신(-0.005), 살인마(0.021), 관련(0.006), 승객(-0.012), 가득(0.002), 증거(-0.009), 별장(-0.007), 호기심(-0.002), 산장(0.004), 사건(*-0.158), 인터넷(-0.006), 심리(-0.001), 무슨(-0.002), 줄리아(0.002), 클레어(0.006), 괴담(-0.003), 유령(0.037), 연쇄(-0.002), 교통사고(-0.008), 연쇄살인범(-0.023), 부활(-0.003), 제임스(0.000), 의뢰(-0.008), 벙커(-0.005), 스릴러(-0.002), 인형(0.019), 폐가(-0.007), 직감(-0.008), 당한(0.003), 쌍둥이(-0.012), 신고(-0.001), 경찰서(0.001), 로버트(-0.009), 괴한(-0.000), 귀신(0.030), 환영(0.013), 일어나고(-0.003), 방송(0.002), 데이브(-0.004), 시체(0.014), 연관(-0.013), 연구(0.020), 동영상(-0.013), 살기(0.005), 애나(0.000), \n",
            "범죄: 보안관(0.000), 바비(-0.001), 나나(-0.002), 지미(0.005), 학대(-0.000), 그로(-0.002), 무참(0.001), 메시지(0.002), 스티브(0.005), 상치(0.001), 공포(*0.151), 사체(0.003), \n",
            "서부극/웨스턴: 공포(*0.148), 근처(0.001), \n",
            "성인물/에로: 사토미(-0.005), 오카(-0.004), 아야카(-0.013), 리사(-0.017), \n",
            "스릴러: 캐시(0.000), 사막(-0.000), 케이트(-0.004), 마틴(-0.007), 고장(0.003), 휴가(0.004), 공포(*0.129), 인적(0.006), 에이미(0.018), \n",
            "애니메이션: 늑대(-0.009), 공포(*0.153), 상자(0.005), 두운(0.014), 그림자(0.005), \n",
            "액션: 봉인(-0.001), 기지(-0.006), 태국(-0.003), 제이슨(-0.004), 레드(0.018), 뱀파이어(-0.012), \n",
            "어드벤처: 장난(-0.001), 루시(0.002), 공포(*0.145), 폐허(-0.003), 엘리(-0.003), 노파(0.001), 익사(-0.001), \n",
            "전쟁: 긴장감(-0.002), 공포(*0.148), \n",
            "코미디: 기분(0.001), 매기(-0.003), 공포(*0.155), 무시(0.006), \n",
            "판타지: 할로윈(-0.006), 오두막(0.011), 제니(-0.002), 버려진(0.004), 공포(*0.143), 초자연적(0.005), \n",
            "\n",
            "\n",
            "<기타>\n",
            "다큐멘터리: 사진(0.005), 여자(0.057), 마을(-0.040), 마음(-0.002), 상영(0.003), 영화제(*0.175), 건축(-0.036), 이상(-0.016), 아이(-0.025), 상처(-0.000), 파리(0.001), 마지막(-0.009), 나무(0.001), 역사(-0.046), 서울(*0.224), 인물(-0.010), 다큐(*-0.216), 다큐멘터리(*-0.198), 도시(-0.012), 소통(0.002), 카메라(-0.042), 상황(0.002), 질문(-0.020), 세계(-0.086), 음악(-0.041), 바람(0.001), 누군가(0.008), 혼자(0.015), 대한(-0.090), 모두(-0.013), 대해(-0.032), 모든(-0.006), 자기(0.008), 그녀(0.008), 오늘(0.002), 오늘날(-0.010), 이야기(-0.046), 주인공(0.014), 기술(0.000), 장소(0.001), 단편(*0.287), 처음(-0.009), 생각(-0.011), 구성(-0.004), 만남(0.001), 의도(0.025), 표현(0.003), 가장(-0.050), 모습(-0.024), 과정(-0.030), 퀴어(-0.004), 아내(0.013), 의미(-0.012), 가지(0.000), 연출(0.039), 시각(-0.000), 시간(-0.012), 순간(-0.004), 죽음(-0.008), 관객(-0.014), 이자(-0.032), 자신(-0.003), 아들(0.005), 준비(0.006), 정체(-0.002), 어디(0.000), 이제(-0.019), 풍경(-0.007), 전쟁(-0.028), 노래(-0.017), 시도(0.000), 결심(0.001), 관심(-0.002), 선택(-0.007), 노력(-0.014), 극장(-0.001), 화면(-0.002), 관점(-0.001), 간다(0.006), 일상(-0.021), 존재(-0.012), 경계(0.000), 방식(-0.007), 탐구(-0.010), 사실(-0.010), 국제(*0.167), 운동(-0.025), 프랑스(-0.010), 한편(-0.004), 동네(0.005), 문제(-0.031), 거리(-0.006), 영상(-0.014), 광주(0.009), 실험(0.001), 동물(-0.010), 할머니(-0.016), 아버지(-0.006), 포럼(0.022), 작가(0.002), 이름(-0.015), 하나(-0.011), 다른(-0.002), 사이(-0.000), 소리(0.007), 남자(0.073), 언어(0.000), 환경(-0.060), 이미지(0.018), 작품(-0.021), 여성(-0.073), 프로젝트(-0.012), 통해(-0.054), 점점(0.005), 남편(0.014), 다시(-0.005), 동안(-0.035), 하루(0.009), 감정(0.008), 서로(0.006), 영화(*-0.129), \n",
            "드라마: 가게(-0.008), 국제(*0.246), 연기(-0.010), 여자친구(-0.001), 상영작(0.031), 영화제(*0.221), 아침(-0.003), 낯선(-0.008), 항상(-0.006), 성적(-0.003), 게임(0.000), 살인(-0.009), 홀로(-0.012), 부모님(-0.008), 부문(-0.031), 위로(-0.004), 서울(*0.260), 단편(*0.206), 욕망(-0.006), 자전거(0.000), 환상(-0.001), 가정(-0.009), 비밀(-0.015), 도움(-0.009), 전화(-0.005), 아시아나(0.039), \n",
            "멜로로맨스: 서울(*0.344), 단편(*0.295), 에리(-0.001), 국제(*0.378), 집착(-0.001), 영화제(*0.477), 물건(-0.003), \n",
            "뮤지컬: 오디션(-0.012), 국제(*0.372), 영화제(*0.380), 포르투갈(-0.000), \n",
            "미스터리: 서울(*0.338), 단편(*0.294), 교통(0.001), 국제(*0.363), 재연(0.002), 영화제(*0.461), 무언가(-0.016), \n",
            "범죄: 서울(*0.346), 국제(*0.365), 영화제(*0.471), \n",
            "서부극/웨스턴: 국제(*0.379), 영화제(*0.493), \n",
            "스릴러: 서울(*0.344), 단편(*0.287), 국제(*0.366), 영화제(*0.460), \n",
            "애니메이션: 서울(*0.232), 단편(*0.226), 국제(0.079), 애니메이션(*-0.451), 영화제(*0.223), \n",
            "액션: 단편(*0.296), 영화제(*0.479), \n",
            "어드벤처: 서울(*0.323), 단편(*0.297), 영화제(*0.439), \n",
            "전쟁: 서울(*0.341), 영화제(*0.488), \n",
            "코미디: 서울(*0.323), 단편(*0.268), 영화제(*0.397), \n",
            "판타지: 서울(*0.338), 단편(*0.269), 단편영화(-0.001), 영화제(*0.378), \n",
            "\n",
            "\n",
            "<다큐멘터리>\n",
            "드라마: 추억(-0.007), 매일(-0.009), 배우(-0.010), 계속(-0.005), 축구(0.001), 여행(-0.003), 마주(-0.005), 진행(0.007), 계획(-0.006), 미국(0.026), 유럽(0.004), 명의(0.028), 희망(0.004), 무대(0.004), 역시(-0.011), 폭력(-0.003), 인생(-0.019), 바다(0.013), 사회(0.043), 마치(-0.007), 기도(-0.000), 때문(-0.024), 주목(-0.000), 지금(0.025), 기록(0.055), 출신(0.004), 음식(0.010), 주변(-0.006), 누구(-0.002), 대학(-0.008), 나이(-0.002), 도전(0.013), 북한(0.037), 바로(-0.004), 스스로(0.004), 장면(0.002), 정신(-0.006), 대화(-0.003), 가슴(-0.002), 학교(-0.014), 대회(-0.005), 그것(-0.001), 회사(-0.014), 밴드(0.013), 과거(-0.007), 주의(0.007), 세상(-0.005), 고민(-0.004), 사고(-0.027), 비디오(0.006), 기억(0.008), 장애인(0.003), 과연(-0.013), 자리(-0.009), 무엇(0.025), 독립(-0.016), 우리(0.082), 현실(-0.005), 아파트(-0.005), 이유(-0.005), 한국(0.048), 현장(0.013), 현재(0.032), 기적(0.000), 유지(0.001), 선생님(-0.011), 관계(-0.037), 그린(-0.014), 변화(0.023), 자연(0.025), 생활(-0.017), 위기(-0.009), 노동자(0.054), 시대(0.007), 피해(0.000), 촬영(0.021), 어머니(-0.030), 전주(-0.010), 당신(0.006), 각자(-0.002), 최고(-0.004), 결혼(-0.028), 방문(0.002), 고통(0.001), 방법(0.003), 중국(0.024), 고향(0.002), 소개(-0.007), 영국(0.001), 보고(-0.013), 시선(0.003), 실제(0.001), 소녀(-0.046), 소년(-0.038), 이란(0.004), 갈등(-0.004), 위협(-0.001), 노인(-0.006), 부모(-0.008), 할아버지(-0.010), 이해(-0.001), 부부(-0.016), 여러(0.006), 청년(-0.009), 부산(-0.021), 젊은이(-0.000), 작업(0.016), 감독(0.076), 수도(0.002), 이후(0.014), 제작(0.015), 얼굴(-0.006), 경찰(-0.014), 시절(-0.003), 동시(0.005), 청소년(-0.006), 진실(0.001), 상상(0.000), 제주(0.002), 대상(-0.003), 로부터(-0.012), 공간(0.012), 경험(0.009), 로서(0.003), 영화(0.088), 대신(-0.013), \n",
            "멜로로맨스: 민주(-0.006), \n",
            "뮤지컬: 정치(0.016), 멤버(-0.004), 건물(0.001), 전설(-0.019), 시위(-0.005), 예술(-0.005), 지난(0.021), 탄생(-0.016), 자체(-0.004), 목소리(0.012), 시적(-0.000), 부족(-0.005), \n",
            "미스터리: 인터뷰(0.030), 탈북자(-0.000), 증언(-0.001), 얼마나(0.002), 종교(0.004), 주민(0.010), 아래(-0.003), 세기(0.005), 그대로(-0.002), 교회(0.002), \n",
            "범죄: 생존(0.000), 보호(0.001), 정부(0.011), 사업(-0.011), 최근(-0.003), 국민(-0.000), \n",
            "사극: 만들기(-0.009), 호주(-0.028), 항쟁(-0.001), 참여(0.002), 사용(0.004), \n",
            "서부극/웨스턴: 때로는(-0.012), 눈물(-0.008), 개인(0.006), 남성(-0.003), \n",
            "스릴러: 구조(0.003), 다큐멘터리(*0.206), 장애(0.002), 개월(-0.000), 다섯(-0.001), \n",
            "애니메이션: 쓰레기(0.010), 코끼리(-0.007), 페스티벌(*-0.120), \n",
            "액션: 곳곳(0.006), \n",
            "어드벤처: 산악(0.012), 가치(0.002), 자료(-0.000), 공존(-0.010), 브라질(0.001), 아프리카(-0.023), 등반(0.010), 농부(0.003), \n",
            "전쟁: 네덜란드(-0.003), 대부분(0.002), 선교사(-0.005), 베를린(-0.009), 연대(-0.004), 아프가니스탄(-0.010), 혁명(0.007), 이라크(-0.014), 제도(-0.003), 팔레스타인(-0.001), 정권(-0.000), 저항(-0.039), 학살(-0.029), \n",
            "코미디: 역할(0.002), 선거(0.000), 교육(0.012), 게이(-0.004), \n",
            "판타지: 영향(0.010), 상징(-0.004), 영화감독(0.004), \n",
            "\n",
            "\n",
            "<드라마>\n",
            "멜로로맨스: 여인(0.006), 사진(0.005), 여자(-0.065), 마을(0.042), 마음(-0.046), 은밀(-0.022), 소식(0.010), 인기(-0.001), 이사(-0.016), 이상(0.010), 아이(0.060), 상처(0.005), 파리(-0.001), 부탁(-0.005), 마지막(0.023), 호텔(-0.005), 도시(0.023), 상황(0.022), 세계(0.032), 혼란(0.011), 음악(0.028), 바람(-0.005), 수정(0.000), 충격(-0.002), 혼자(0.003), 모델(-0.006), 대한(0.047), 또한(-0.003), 모두(0.015), 대해(0.017), 모든(0.022), 연락(-0.002), 집안(-0.003), 그날(-0.007), 자기(0.013), 손님(-0.008), 그녀(*-0.193), 오늘(0.004), 이야기(0.070), 그때(0.000), 주인(0.002), 주인공(0.022), 처음(-0.003), 생각(0.009), 고백(-0.019), 만난(-0.011), 만남(-0.010), 의도(0.033), 연애(-0.041), 자매(-0.002), 가장(0.022), 달리(-0.004), 모습(0.007), 아내(-0.031), 연인(-0.003), 선배(-0.026), 레이(-0.003), 의사(0.001), 사람(0.042), 뉴욕(-0.000), 아픔(0.003), 가지(0.016), 시간(0.010), 순간(0.011), 죽음(0.029), 이자(0.005), 자신(0.045), 섹스(*-0.117), 편지(0.005), 아들(0.031), 준비(0.010), 불륜(-0.036), 우연(-0.004), 한번(-0.006), 어디(0.006), 행동(0.009), 이제(0.009), 화가(0.001), 기회(0.004), 결심(0.013), 시도(0.004), 일본(0.012), 열정(0.004), 관심(-0.000), 스타(0.001), 노력(0.010), 유혹(-0.051), 아르바이트(-0.004), 애인(-0.031), 간다(0.020), 일상(0.019), 애정(-0.003), 존재(0.016), 병원(0.003), 마리(0.009), 데이트(-0.013), 사실(-0.009), 남녀(-0.007), 한편(-0.002), 동네(0.011), 문제(0.014), 운명(-0.001), 외로움(-0.008), 아무(0.009), 거리(0.011), 몰래(-0.020), 포기(0.005), 성격(-0.007), 아버지(0.037), 작가(0.004), 이름(0.009), 언니(-0.017), 여동생(-0.002), 하나(0.023), 다른(0.010), 사이(-0.001), 여름(0.004), 소리(0.008), 남자(-0.053), 남자친구(-0.020), 여배우(0.000), 동생(0.002), 요구(-0.010), 작품(0.050), 여성(0.018), 통해(0.036), 점점(-0.020), 남편(*-0.117), 다시(0.000), 점차(0.002), 동안(0.009), 하루(0.010), 환자(0.002), 감정(-0.002), 하루하루(0.003), 서로(-0.020), \n",
            "뮤지컬: 연출(0.041), 프랑스(0.002), 상영(-0.001), 관객(-0.005), 등장(0.002), 여정(0.003), 수상(-0.004), 정체(-0.006), 절망(-0.005), 살의(0.003), 영상(-0.006), 성공(-0.008), 할머니(0.029), 자유(-0.000), 해결(-0.001), 노래(-0.043), 상태(-0.004), 우정(0.003), 찾기(0.005), 싸움(-0.009), 선택(0.014), 배경(-0.014), 감동(-0.010), 공연(-0.063), 이용(-0.013), 과정(0.002), 출연(-0.002), 탈출(-0.002), 연주(-0.016), 전혀(-0.013), 자살(0.014), \n",
            "미스터리: 판타스틱(0.007), 의식(-0.004), 도착(0.001), 범죄(-0.011), 기사(-0.003), 서서히(-0.005), 부천(0.006), 전쟁(0.025), 살해(-0.050), 보지(-0.001), 경쟁(0.029), 학생(0.009), 인물(-0.002), 정리(-0.001), 거짓말(-0.001), 형사(-0.064), 목숨(-0.004), 내용(-0.014), 카메라(-0.003), 발생(-0.058), 초청(-0.004), 지역(-0.001), 의문(-0.068), 의미(0.004), 기자(-0.012), 사라(-0.009), 누군가(-0.024), \n",
            "범죄: 결정(-0.005), 반대(0.000), 직접(-0.017), 비극(0.003), 불법(-0.022), 대한민국(-0.015), 방식(0.000), 이탈리아(0.000), 타고(0.001), 아시아(0.004), \n",
            "사극: 역사(-0.053), 그림(-0.026), \n",
            "서부극/웨스턴: 경계(-0.010), \n",
            "성인물/에로: 데리(0.000), \n",
            "스릴러: 반복(-0.004), 지하철(-0.001), 머리(-0.000), \n",
            "애니메이션: 고양이(-0.031), 요리(-0.001), 어른(0.001), 크리스마스(-0.014), 경기(-0.001), 포럼(0.014), 풍경(0.001), 어린이(-0.012), 겨울(-0.004), 표현(-0.015), 아기(-0.017), \n",
            "액션: 프로젝트(-0.004), 선수(0.004), \n",
            "어드벤처: 버스(-0.011), 의지(-0.003), 정도(-0.000), \n",
            "전쟁: 실화(-0.018), 독일(*-0.111), \n",
            "코미디: 주연(-0.001), 공장(-0.003), 드라마(0.002), 평생(-0.000), 중년(-0.004), 청춘(0.000), \n",
            "\n",
            "\n",
            "<멜로로맨스>\n",
            "뮤지컬: 추억(-0.008), 커플(0.027), 배우(-0.028), 갑자기(0.009), 여친(0.001), 여행(0.013), 계획(0.002), 미국(-0.028), 욕망(0.004), 명의(-0.003), 욕정(0.005), 역시(-0.012), 인생(-0.006), 마치(-0.012), 지금(0.003), 백수(-0.005), 누구(0.004), 대학(0.009), 나이(0.002), 발견(-0.010), 바로(0.016), 장면(-0.006), 학교(0.008), 그녀(*0.293), 과거(0.017), 세상(-0.013), 사고(0.015), 분위기(-0.001), 파티(-0.034), 기억(0.014), 과연(-0.001), 무엇(-0.001), 우리(0.001), 눈치(-0.008), 짝사랑(0.005), 가정(-0.003), 현실(0.004), 비밀(0.006), 이유(-0.000), 가족(0.001), 한국(-0.002), 현주(-0.009), 사랑(*0.105), 관계(0.043), 섹스(*0.126), 시골(-0.006), 생활(0.044), 위기(-0.005), 협박(-0.002), 촬영(-0.002), 어머니(-0.003), 최고(-0.059), 결혼(0.060), 방법(-0.008), 고향(-0.001), 소개(0.010), 친구(*0.112), 소녀(-0.028), 소년(-0.000), 위해(0.047), 갈등(-0.008), 첫사랑(0.018), 거부(0.005), 부모님(-0.019), 부부(0.053), 클럽(-0.007), 제안(0.012), 청년(-0.009), 감독(-0.013), 맞이(-0.006), 시작(*0.108), 이후(0.009), 시절(0.005), 매니저(-0.012), 남편(*0.181), 경험(0.006), 이별(0.008), 부인(-0.002), 영화(-0.079), \n",
            "미스터리: 누나(-0.001), 직원(0.002), 주희(0.009), 의심(-0.041), 여자친구(0.024), 매일(0.011), 보고(0.011), 교수(-0.010), 상우(-0.020), 그린(0.009), 초대(-0.000), 복수(0.001), 시선(0.002), 친구(0.047), 소연(0.001), 아침(-0.015), 절대(-0.004), 낯선(-0.013), 계속(-0.010), 옆집(0.010), 정신(-0.013), 후배(0.002), 대화(-0.005), 잠시(0.004), 동료(-0.001), 도쿄(0.005), 회사(0.039), 그것(-0.006), 홀로(0.009), 그녀(*0.185), 료코(0.002), 능력(-0.007), 상담(-0.008), 치료(-0.007), 평소(-0.000), 미카(0.002), 다음(-0.001), 목격(-0.013), 위로(0.013), 며칠(-0.009), 더욱(-0.010), 자리(-0.000), 시작(-0.040), 수연(-0.022), 달라(0.002), 방문(-0.009), 얼굴(-0.003), 상상(-0.003), 남편(*0.145), 때문(0.030), 선물(-0.006), 얼마(-0.002), 매력(0.016), 로부터(-0.010), 현우(-0.043), 현장(-0.008), 소설(-0.044), 도움(-0.004), 전화(-0.019), 사랑(*0.243), \n",
            "범죄: 고등학교(0.001), 파트너(-0.008), 과장(0.000), 성적(0.012), 미진(-0.006), 남편(*0.177), 스즈키(-0.000), 배신(-0.010), 거절(0.001), 대신(0.005), 사키(0.003), 그녀(*0.303), 변호사(-0.012), 접근(-0.008), 약속(0.009), 중인(-0.000), 운영(0.008), 사랑(*0.254), \n",
            "사극: 가슴(-0.003), 당황(-0.002), 오빠(-0.007), 남편(*0.183), 진심(-0.009), 그녀(*0.357), 재혼(0.005), 유리(-0.002), 정사(0.028), 외모(0.005), 미망인(0.003), 사랑(*0.160), \n",
            "서부극/웨스턴: 가게(-0.016), 남자에게(-0.008), 그녀(*0.437), 하자(-0.008), 지방(-0.007), 사장(0.010), 형수(0.000), 신세(-0.009), 사랑(*0.240), \n",
            "성인물/에로: 아야(-0.004), 이치(-0.016), 새엄마(0.008), 부장(0.005), 직장(0.001), 변태(-0.002), 치한(0.004), 카나(-0.031), 성욕(-0.007), 아오이(-0.028), 해소(-0.010), 속옷(-0.020), 섹스(-0.025), 유코(-0.038), 장모(-0.006), 유키(-0.036), 자극(-0.008), 계약(-0.004), 행각(-0.033), 호감(0.009), 잠자리(-0.019), 손길(-0.014), 미사(-0.023), 사쿠라(-0.003), 시아버지(0.013), 요코(-0.019), 그녀(0.005), 마사지(*-0.204), 자위(-0.050), 토모(-0.004), 몸매(0.003), 상대(-0.008), 쿄코(-0.019), 아키(-0.018), 욕구(-0.035), 욕구불만(-0.043), 고민(0.017), 시동생(0.000), 확인(-0.009), 적극(-0.004), 나미(0.001), 유우(-0.033), 이혼(0.012), 타카(-0.007), 토시(-0.010), 출근(-0.000), 형부(0.017), 상사(-0.005), 이웃(0.004), 미호(-0.002), 남편(*-0.117), 임신(-0.001), 육체(-0.019), 스케(-0.018), 유미(-0.036), 강사(-0.001), 야마(-0.009), 수리(0.004), 출장(-0.004), 유부녀(-0.065), 선생님(-0.005), 사랑(*0.218), \n",
            "스릴러: 은미(-0.003), 외도(0.006), 선영(-0.002), 동거(0.026), 이기(-0.000), 지수(0.007), 민호(-0.002), 사랑(*0.227), \n",
            "애니메이션: 항상(-0.001), 노인(-0.001), 사랑(*0.234), \n",
            "액션: 사랑(*0.241), 아키라(-0.001), \n",
            "어드벤처: 미란(-0.003), 이모(-0.002), 결혼식(0.000), 사랑(*0.241), \n",
            "전쟁: 사랑(*0.265), \n",
            "코미디: 실연(-0.002), 레스토랑(-0.005), 광고(-0.011), 키스(0.008), 과외(0.005), 보기(-0.003), 남친(0.007), 사랑(0.095), \n",
            "\n",
            "\n",
            "<뮤지컬>\n",
            "미스터리: 여인(-0.034), 여자(-0.032), 마을(-0.040), 마음(0.013), 소식(-0.013), 인기(0.010), 보이(-0.005), 이상(-0.014), 아이(-0.078), 상처(0.001), 파리(0.039), 로즈(-0.002), 마지막(-0.022), 증인(0.007), 리즈(-0.008), 도시(0.044), 사회(0.013), 상황(-0.014), 내일(0.004), 세계(0.025), 장남(-0.010), 혼란(-0.033), 혼자(-0.005), 대한(0.006), 모두(-0.029), 대해(-0.015), 규칙(0.001), 모든(-0.032), 집안(-0.005), 오늘(-0.001), 이야기(-0.007), 주인(0.002), 주인공(0.010), 카일(0.011), 처음(0.011), 생각(-0.027), 뜻밖(0.010), 만난(-0.018), 가장(-0.007), 모습(-0.010), 아내(-0.076), 연인(0.008), 아파트(-0.005), 사람(-0.076), 가지(-0.010), 시간(-0.034), 순간(0.014), 죽음(-0.088), 이자(-0.020), 자신(-0.083), 편지(-0.003), 연화(0.038), 아들(-0.002), 준비(0.004), 천재(0.015), 이제(0.005), 스타(0.018), 지하(-0.003), 간다(0.010), 일상(-0.002), 존재(-0.014), 사실(-0.041), 한편(-0.005), 문제(-0.009), 운명(0.001), 실종(-0.034), 거리(0.016), 아버지(0.007), 언니(-0.002), 민우(-0.010), 하나(-0.059), 다른(-0.025), 사이(-0.000), 부산(0.003), 소리(-0.027), 남자(-0.054), 윤희(0.001), 동생(-0.022), 요구(-0.003), 경찰(-0.060), 작품(0.018), 여성(-0.008), 점점(-0.042), 통해(0.006), 다시(-0.010), 점차(-0.011), 공간(0.003), 공격(-0.008), 감정(0.002), 서로(0.008), 영혼(0.017), \n",
            "범죄: 후보(0.003), 테스(-0.005), 이름(0.001), 기회(-0.002), 테일러(0.007), 결심(-0.010), 조건(0.000), 물건(-0.002), 릴리(0.002), 강도(-0.025), 각자(0.004), 폭력(-0.021), 독립(0.001), 최대(-0.002), 동시(0.005), 런던(0.000), 감옥(-0.033), 탈옥(0.003), 설상가상(-0.003), 레이(-0.006), 도둑(0.010), 갱스터(-0.009), 뉴욕(-0.009), \n",
            "사극: 무리(0.014), 이스트(-0.009), 주신(0.001), 미모(-0.005), 시기(-0.011), 신분(0.001), 주교(0.031), 총애(-0.010), 명예(-0.006), 시대(-0.028), 방해(-0.005), 유혹(0.002), 존경(0.001), 병사(0.001), 제작(0.014), 스리(0.001), 가문(0.001), 질투(-0.004), 웅장(0.001), \n",
            "서부극/웨스턴: 쉐리(-0.028), 거기(-0.005), 토마스(-0.025), 여러(0.001), 교수형(-0.066), 라울(-0.008), 목사(-0.006), 인도(-0.005), 고독(-0.018), 전단(-0.021), 상과(-0.019), 불구(-0.005), \n",
            "성인물/에로: 얘기(0.010), 몰래(-0.001), 미쿠(-0.012), 자기(0.001), 손님(-0.032), 카레(-0.004), 미로(-0.001), 만남(0.001), \n",
            "스릴러: 그때(0.001), 카를로스(0.007), \n",
            "애니메이션: 애니(-0.004), 대회(-0.001), 시티(0.024), 고래(-0.003), 아저씨(0.001), 모험(-0.037), 우유(0.000), 음악(*0.143), 이미지(0.009), 마법(-0.015), 구름(0.007), \n",
            "액션: 부모(0.002), 승부(0.006), \n",
            "어드벤처: 젤리(0.004), 오스트리아(-0.002), 우물(-0.001), 양치기(-0.001), 예수(0.012), 수업(0.002), 포르노(0.036), 반신반의(-0.001), 여사(0.009), 아트(-0.001), 전통(0.009), 유럽(-0.002), \n",
            "전쟁: 성당(0.048), 총살(-0.005), 영국군(-0.035), 공산주의(-0.010), \n",
            "코미디: 포기(0.000), 연기(0.023), 무대(0.052), 열정(0.029), 차이(0.002), 밴드(-0.006), 음악(*0.141), 선생(0.001), 애정(0.013), 뮤지컬(*0.242), \n",
            "판타지: 불꽃(0.014), 서커스(0.000), 아만(-0.003), 전학(0.003), \n",
            "\n",
            "\n",
            "<미스터리>\n",
            "범죄: 사진(0.029), 은밀(0.011), 추적(0.001), 알렉스(0.008), 수사(-0.045), 배우(0.010), 갑자기(0.007), 다이아몬드(-0.011), 여행(0.004), 수상한(0.002), 강간(0.001), 마주(0.023), 진행(0.010), 수술(0.005), 부탁(-0.002), 계획(-0.068), 미국(-0.031), 검사(-0.025), 찾기(-0.001), 명의(-0.002), 미궁(0.002), 역시(-0.005), 인생(-0.020), 마치(0.001), 마침내(-0.012), 유명(-0.003), 지금(-0.003), 마크(0.008), 주변(0.023), 누가(0.006), 누구(0.010), 가브리엘(0.008), 충격(0.014), 발견(0.029), 단서(0.001), 바로(-0.021), 또한(-0.002), 조사(0.002), 장면(0.000), 누명(-0.009), 게임(0.022), 그날(0.007), 지목(0.024), 과거(-0.010), 세상(-0.008), 사건(0.038), 주장(0.021), 사고(0.076), 가운데(-0.005), 파티(0.001), 기억(0.068), 홈즈(0.027), 미스터리(0.066), 과연(0.014), 무엇(0.025), 에이브(0.005), 이용(-0.003), 과정(0.001), 구역(0.002), 현실(0.012), 전설(-0.000), 비밀(0.031), 이유(0.003), 가족(0.005), 현재(-0.002), 의사(0.025), 자살(0.027), 조직(*-0.136), 담당(0.012), 관계(0.005), 시골(0.002), 어둠(0.014), 정체(0.034), 행동(0.008), 사망(0.006), 살인(-0.039), 생활(-0.004), 살인자(0.003), 위기(-0.017), 혐의(-0.008), 협박(-0.014), 피해(0.003), 시도(-0.003), 일본(-0.017), 피해자(0.000), 어머니(-0.004), 관심(0.007), 촬영(0.004), 목격자(0.002), 당시(0.001), 최고(-0.014), 실마리(0.001), 말리(0.000), 고통(0.004), 병원(0.031), 크리스(-0.014), 고향(0.011), 탈출(-0.012), 데이빗(0.004), 박사(0.029), 영국(0.001), 등장(0.001), 동네(0.005), 재우(0.005), 범인(-0.023), 소녀(0.031), 아무(0.014), 소년(-0.012), 위해(-0.079), 성격(-0.003), 위협(-0.009), 여기(0.003), 범행(-0.017), 거부(-0.003), 작가(0.024), 부모님(-0.005), 부부(0.014), 제안(-0.042), 재판(0.011), 청년(0.003), 언론(0.001), 감독(0.007), 수도(-0.009), 이후(0.022), 추격(-0.011), 시절(-0.001), 진실(0.076), 마약(-0.099), 동안(0.004), 하루(0.016), 경험(0.003), 납치(-0.005), 유괴(0.004), 영화(0.011), \n",
            "사극: 남녀(-0.008), 지도(-0.019), 궁녀(0.005), 황궁(-0.012), 습격(-0.000), 학교(0.021), 강제(-0.002), 욕망(-0.002), 치명(-0.008), 맞이(-0.009), 당신(0.002), 전체(-0.014), 목소리(-0.000), 소문(0.006), 우리(-0.021), 달리(-0.017), 기록(-0.010), 심장(-0.000), 마리(0.008), \n",
            "서부극/웨스턴: 나이(-0.004), 불명(0.022), 분위기(-0.005), 예전(-0.009), 변화(-0.006), 결혼(0.011), 제시(-0.009), 마리아(-0.062), 우정(-0.004), 열차(-0.053), \n",
            "성인물/에로: 여관(0.014), 영상(0.004), 핑크(-0.002), 호텔(-0.005), 간호사(-0.005), 남자친구(-0.013), 선배(-0.009), 환자(0.002), 이사(0.006), 부인(-0.001), 타마요(0.013), 대학(-0.004), \n",
            "스릴러: 생일(0.005), 생존자(-0.005), 도중(-0.000), 흔적(-0.003), 악마(0.007), 정신과(0.012), 어디(-0.004), 요청(-0.008), 실험(-0.007), 집착(0.001), 부문(0.005), 갈수록(-0.000), 우드(0.004), 저택(-0.006), 라이드(0.001), 감금(-0.009), 사내(0.001), 진술(0.008), 기운(0.008), 도대체(0.006), 게다가(0.002), 전혀(-0.000), 한나(0.025), \n",
            "애니메이션: 할아버지(-0.042), \n",
            "액션: 독일군(-0.003), 도전(0.000), 통제(-0.013), 원인(0.011), 블랙(0.005), 희생(0.009), 지옥(-0.005), 대원(-0.013), \n",
            "어드벤처: 신부(0.004), 사이먼(0.016), 취재(0.006), 예상(-0.005), 출연(-0.001), 저주(-0.010), 현상(0.006), 예언(-0.005), 앤드류(-0.003), \n",
            "전쟁: 반드시(0.003), 트라우마(-0.001), 미수(0.003), 정전(-0.000), \n",
            "코미디: 유산(0.000), 연속(0.001), 살의(0.001), 프로그램(0.004), 니키(0.010), 공연(-0.014), \n",
            "판타지: 에드워드(-0.031), 도로시(0.003), 화장실(0.000), 원작(0.007), 퍼시(0.007), 앨리스(-0.008), 사제(-0.003), 슬픔(-0.001), \n",
            "\n",
            "\n",
            "<범죄>\n",
            "사극: 여인(-0.009), 여자(0.055), 마을(0.046), 마음(-0.043), 소식(-0.014), 매일(0.002), 계속(0.022), 진짜(0.004), 대의(-0.007), 권력(-0.074), 이상(0.008), 아이(0.014), 해결(0.010), 마지막(0.005), 싸움(-0.001), 인물(0.012), 도시(0.023), 상황(0.049), 두려움(0.007), 때문(0.004), 음모(-0.009), 두목(0.001), 혼란(0.003), 지난(-0.000), 누군가(0.009), 전국(-0.009), 암살(-0.018), 대한(0.026), 복수(0.042), 모두(0.017), 대해(0.034), 모든(0.036), 정신(0.007), 홀로(0.001), 이야기(-0.015), 주인공(-0.004), 무슨(-0.009), 처음(0.001), 생각(-0.003), 더욱(-0.004), 자리(-0.013), 지시(-0.001), 의뢰(-0.013), 가장(-0.016), 모습(0.009), 의문(0.013), 지역(0.007), 무장(-0.010), 사람(0.035), 가지(0.020), 시간(0.030), 순간(0.009), 죽음(-0.002), 이자(0.011), 자신(*0.107), 아들(0.006), 준비(0.005), 한번(-0.001), 정치(-0.009), 이제(0.020), 국가(0.006), 전쟁(-0.066), 살해(0.078), 선택(-0.008), 재능(-0.001), 실력(0.009), 목숨(0.000), 간다(0.023), 방법(0.010), 존재(0.008), 형제(0.008), 재산(-0.001), 사실(0.056), 한편(0.013), 거래(0.027), 친구(0.050), 운명(-0.080), 동료(0.056), 절망(-0.000), 갈등(-0.002), 위험(0.004), 중심(-0.000), 아버지(0.024), 일행(0.002), 하나(0.022), 다른(0.047), 사이(-0.015), 남자(0.062), 동생(-0.017), 시작(0.061), 작전(0.062), 얼굴(0.002), 작품(0.001), 점점(0.038), 통해(0.021), 다시(0.051), 점차(-0.003), 대상(-0.004), 로부터(0.002), 소설(-0.013), 서로(0.029), 다음(0.002), \n",
            "서부극/웨스턴: 중독(-0.007), 조직(*0.132), 일당(0.013), 보고(0.006), 사업가(-0.007), 도착(-0.037), 자신(*0.100), 악당(-0.033), 마이클(-0.024), 총격(-0.006), 낯선(-0.005), 분노(-0.080), 악명(-0.017), 잠시(-0.018), 자금(0.003), 멕시코(-0.051), 수감(0.008), 가담(-0.009), 그것(0.003), 증거(0.013), 찰리(-0.050), 처리(-0.002), 도움(-0.002), 은행(0.038), 거액(0.005), 작업(-0.007), 현금(-0.009), 부하(-0.047), 장악(-0.009), 표적(-0.009), 제임스(-0.071), 만난(0.005), 스피어(-0.025), 달라(-0.020), 합류(-0.008), 여성(-0.003), 당한(-0.007), 체포(0.013), 가정(-0.005), 세계(0.030), 얼마(-0.003), 아내(-0.026), 살기(-0.009), 웨이(-0.010), 베테(0.001), 교도소(-0.020), 보스(0.018), 브로커(-0.016), 소개(-0.005), \n",
            "성인물/에로: 누나(-0.023), 직원(-0.024), 조직(*0.138), 의심(0.025), 여자친구(0.008), 혼자(-0.029), 전화(0.018), 문제(0.012), 그린(-0.071), 자신(0.022), 거리(0.004), 회사(-0.051), 업자(0.007), 주인(-0.000), 상태(-0.003), 목격(-0.007), 노력(0.009), 성폭행(0.001), 요구(-0.032), 애인(-0.010), 눈치(0.004), 상상(-0.001), 보험(-0.005), 연인(0.000), 단골(-0.005), 하룻밤(-0.004), \n",
            "스릴러: 데일(0.004), 루이스(0.004), 조직(*0.115), 테러범(0.027), 집단(0.004), 외딴(-0.005), 대니(-0.006), 용의자(0.006), 레이첼(-0.005), 스스로(0.005), 실종(-0.004), 마피아(0.046), 마이크(0.009), 요원(0.009), 범죄(*0.122), 죄책감(-0.004), 실체(0.005), 모텔(0.002), 운전(-0.000), 순식간(0.003), 프랭크(0.029), 관련(0.000), 홍콩(0.008), 살인마(-0.002), 인질(-0.007), 로라(0.003), 능력(-0.002), 브라이언(0.010), 클럽(0.001), 회장(0.002), 심리(-0.002), 부패(0.009), 본능(-0.002), 연쇄(0.007), 희망(-0.001), 사관(0.008), 맥스(0.011), 연쇄살인(-0.004), 연쇄살인범(0.007), 일상(0.002), 기업(0.007), 조니(-0.000), 킬러(0.001), 의도(-0.003), 형사(0.023), 경찰(*0.127), 사회(0.007), 달러(0.025), 자매(-0.002), 발생(-0.011), 해리(0.005), 직감(-0.001), 스릴러(-0.003), 비리(0.001), 반장(0.005), 정보(0.010), 대통령(-0.011), 괴한(0.004), 중국(0.002), 아파트(-0.020), 기자(-0.015), 출신(0.003), 시체(-0.002), 현장(-0.000), 건물(-0.004), \n",
            "애니메이션: 부산(-0.002), 초청(-0.000), \n",
            "액션: 보안(-0.002), 조직(-0.040), 활동(0.001), 워싱턴(0.000), 명령(-0.023), 운반(0.003), 암흑가(0.005), 범죄(0.072), 연루(-0.004), 도박(-0.000), 성공(0.009), 무기(-0.035), 행방(-0.002), 파리(0.006), 다짐(0.000), 잡기(0.007), 라이(0.001), 협상(0.010), 은퇴(0.002), 리더(-0.000), 절친(0.001), 내부(0.001), 지하(0.001), 차량(-0.002), 배후(-0.011), 멤버(-0.002), 러시아(-0.021), 전문(0.006), 함정(-0.005), 소탕(0.004), 경찰(0.095), 근무(-0.001), 아틸라(-0.003), 마약상(-0.001), 폭탄(0.002), 가방(0.006), 시민(-0.001), 갱단(-0.023), 경호(0.003), 위장(0.000), 로서(-0.004), 동원(-0.002), \n",
            "어드벤처: 강탈(-0.004), 피터(-0.015), 베이(-0.006), 피트(-0.020), 시선(-0.003), 매직(-0.010), 후계(-0.016), \n",
            "전쟁: 존스(-0.001), 특종(-0.008), 술탄(0.002), 실제(0.004), \n",
            "코미디: 칼리(-0.001), 에디(0.005), 뜻밖(-0.003), 처지(-0.000), 데이트(-0.019), 안나(0.005), 빈스(-0.007), 하루하루(-0.001), 테드(-0.004), 우연(0.000), 조지(0.004), 경찰서(0.008), \n",
            "판타지: 사기꾼(0.023), 엘렌(0.004), \n",
            "\n",
            "\n",
            "<사극>\n",
            "서부극/웨스턴: 이병헌(-0.010), 발견(-0.022), 소녀(-0.000), 조카(-0.000), 조선(*0.345), 린다(-0.006), 정체(-0.011), 만큼(-0.019), 위해(-0.001), 위기(0.016), 가득(-0.040), 과거(-0.016), 대륙(-0.009), 기회(-0.006), 부탁(-0.016), 계획(0.005), 제안(-0.022), 결심(-0.006), 일본군(0.033), 파트너(-0.006), 온갖(-0.006), 역시(-0.000), 최후(-0.006), 영웅(-0.000), 최고(0.081), 농장(-0.019), 과연(0.005), 이후(-0.006), 시절(-0.000), 이용(-0.006), 사냥(-0.050), 파악(-0.006), 전설(0.011), 공격(-0.000), 키드(-0.008), 누구(-0.000), 헨리(*-0.151), \n",
            "성인물/에로: 배신(0.005), 바로(0.010), 또한(-0.001), 아무(-0.003), 집안(0.002), 흥분(-0.015), 오늘(-0.004), 화가(0.002), 절정(0.003), 사건(0.055), 일본(-0.004), 어머니(-0.003), 소리(0.041), 거절(-0.004), 비밀(0.005), 동안(0.003), 하루(-0.028), 영화(*-0.137), 대신(0.007), \n",
            "스릴러: 찾기(0.001), 사상(0.008), 가운데(-0.002), 위협(-0.004), 지금(-0.010), 세력(0.015), 임무(-0.007), 이유(-0.007), 마주(-0.005), 오직(0.000), 이름(0.025), 수사(-0.041), 추격(0.001), 영국(0.012), 제거(-0.002), 세상(0.013), 마침내(-0.004), \n",
            "애니메이션: 나라(0.019), 왕자(0.011), 인디애니페스트(*-0.167), 고고(-0.025), 하늘(-0.015), 탄생(0.002), 공주(-0.011), 노래(0.024), 왕국(-0.015), \n",
            "액션: 무림(0.006), 자객(0.031), 감행(0.001), 개발(0.019), 절대(-0.006), 스승(0.005), 무공(0.001), 무사(0.017), 막강(0.003), 청나라(0.054), 천하(0.008), 라이벌(0.002), 역사상(0.004), 로마(-0.004), 소림사(0.029), 윌리엄(0.002), 제자(0.001), 장군(-0.000), 최대(-0.009), 동시(-0.002), 황제(0.084), 주먹(0.005), 전사(-0.025), 고수(0.002), 세기(0.007), 예측(0.001), 연구소(0.003), \n",
            "어드벤처: 반역(-0.002), 골짜기(0.008), 그리스(0.043), 귀신(0.001), 아킬레스(0.053), 정복(0.002), 징집(-0.002), 완성(0.000), 비아(0.016), 나인(-0.003), 귀족(0.005), 도처(-0.002), 불량(0.002), 이슈(-0.002), 흉내(0.007), 트로이(0.074), 최초(0.020), \n",
            "전쟁: 저격수(-0.005), 대규모(-0.000), 신라(-0.017), 전역(-0.007), 위태(0.003), 조선(*0.357), 진격(-0.041), 소용돌이(0.003), 오전(0.029), 빗발(-0.000), 자폭(-0.000), 분대(-0.013), 비극(-0.000), 총탄(-0.000), 통일(0.005), 폭격(-0.028), 오디세우스(-0.007), 치욕(0.010), 세계대전(-0.054), 정재영(0.011), 백성(0.052), 포위(-0.013), 대군(0.023), \n",
            "코미디: 줄리(0.001), 인방(-0.002), 천재(0.017), 제일(0.012), 섹시(-0.006), 병구(0.001), \n",
            "판타지: 콕스(0.002), 송나라(-0.004), 트리스탄(0.002), 국왕(0.007), 인조(0.005), 멀린(-0.019), \n",
            "\n",
            "\n",
            "<서부극/웨스턴>\n",
            "성인물/에로: 한편(-0.001), 매일(-0.006), 대한(-0.017), 친구(-0.060), 아들(0.026), 장면(0.006), 갑자기(0.006), 서로(-0.012), 준비(-0.003), 연락(0.007), 동료(0.029), 집안일(0.014), 여행(0.005), 생활(0.004), 홀로(0.014), 이제(0.018), 아이(0.096), 아버지(0.019), 하나(0.019), 마지막(0.004), 다른(-0.023), 사이(-0.032), 욕망(-0.007), 명의(0.004), 처음(-0.012), 남자(*-0.112), 동생(0.014), 시작(-0.012), 상황(-0.001), 간다(-0.003), 걱정(0.007), 점점(-0.010), 진심(0.010), 매력(0.003), 치의(0.013), 가족(0.070), 감정(0.019), 실수(0.008), 사람(0.026), 가지(-0.006), \n",
            "스릴러: 판타스틱(0.003), 마을(0.096), 소식(-0.004), 도주(0.009), 생존(-0.000), 죽음(-0.050), 이자(-0.016), 운명(0.015), 복수(0.042), 조사(-0.013), 거래(-0.002), 습격(0.022), 갈등(0.006), 서서히(0.019), 살인(*-0.157), 부천(0.005), 살인자(0.007), 광기(0.010), 일행(0.003), 상치(0.003), 사무엘(0.019), 미국(0.023), 피해(-0.003), 경쟁(0.005), 싸움(0.041), 목격자(0.006), 선택(-0.005), 결정(-0.002), 강도(0.009), 감독(-0.005), 폭력(0.001), 폭발(0.003), 목숨(-0.030), 인생(-0.008), 가장(-0.010), 생명(0.027), 존재(-0.008), 로버트(0.029), 마약(-0.000), 지역(0.002), 형제(0.041), 케빈(0.010), 고향(0.004), 감옥(0.002), 혼란(0.007), 누가(0.042), 납치(-0.026), 헨리(*0.152), \n",
            "애니메이션: 무리(0.024), 기차(0.030), 거대(0.013), 여기(0.008), 대결(0.038), 동물(-0.044), 물리(0.007), 평화(0.018), 자유(0.024), 제작(0.002), 자연(0.014), 영혼(0.007), \n",
            "액션: 사냥꾼(0.050), 제국(0.012), 범죄자(0.021), 액션(-0.021), 헌터(0.012), 레이스(0.010), 두목(-0.006), 무장(-0.003), 패거리(0.047), 벌이(0.001), 마스터(0.015), 명예(0.007), 구출(-0.007), 차지(0.019), 격전(0.005), 정의(0.044), \n",
            "어드벤처: 보안관(*0.212), 지도(0.023), 개척(0.042), 텍사스(0.017), 태운(0.009), 막대(0.010), 야생(0.009), 세운(0.010), 재산(0.004), 알프스(0.043), 동행(0.000), 니아(0.056), 서부(*0.289), 타운(0.016), 스릴(0.010), 루비(0.018), \n",
            "전쟁: 연방(-0.012), 단신(0.021), 하트(0.004), \n",
            "코미디: 로맨스(0.001), 알바(0.013), 각자(-0.001), 주민(0.007), \n",
            "판타지: 구원(0.005), 인디언(0.007), 허름(0.013), \n",
            "\n",
            "\n",
            "<성인물/에로>\n",
            "스릴러: 사진(-0.009), 가게(0.023), 마음(0.068), 여자(0.038), 은밀(0.014), 커플(-0.003), 계속(-0.035), 잠시(0.007), 강간(-0.006), 상처(0.001), 부탁(0.009), 보지(0.002), 해결(-0.006), 계획(-0.029), 야쿠자(0.003), 고객(0.002), 역시(0.023), 카메라(-0.001), 마치(0.001), 때문(0.041), 도움(-0.019), 충격(-0.048), 발견(-0.092), 초대(-0.002), 모두(-0.042), 대해(-0.007), 모든(-0.064), 정신(-0.012), 미모(-0.002), 그것(-0.004), 그날(-0.001), 과거(-0.030), 이야기(0.022), 주인공(0.009), 생각(0.003), 분위기(-0.003), 기억(-0.052), 더욱(-0.012), 자리(0.009), 만난(0.007), 달라(0.001), 이용(-0.006), 모습(0.026), 가정(-0.004), 아내(-0.026), 레이(0.026), 의사(-0.009), 시간(-0.023), 순간(-0.033), 관계(*0.115), 불륜(0.060), 행동(-0.003), 협박(0.000), 기회(0.000), 시도(-0.005), 결심(-0.017), 촬영(-0.001), 유혹(0.039), 결혼(0.054), 방문(0.008), 병원(-0.005), 당황(0.007), 소개(0.006), 사실(-0.015), 보고(0.021), 소녀(-0.045), 운영(0.016), 위해(-0.095), 남성(0.008), 거부(0.016), 여동생(0.000), 부부(0.029), 제안(-0.008), 남자(-0.006), 맞이(0.002), 남자에게(0.003), 며칠(0.001), 이후(-0.006), 시절(0.001), 작품(-0.005), 여성(0.018), 통해(-0.017), 남편(*0.255), 얼마(0.007), 다시(0.030), 로부터(-0.016), 접근(0.002), 영화(0.089), 다음(0.004), \n",
            "애니메이션: 행복(-0.001), 관계(*0.149), 경험(0.001), 마리(-0.005), 아침(0.002), 바람(0.009), 대화(-0.001), \n",
            "액션: 남편(*0.300), 부하(-0.010), 관계(*0.150), 배우(0.005), 신세(0.002), \n",
            "어드벤처: 레나(0.004), 가슴(0.011), 성적(0.040), 시오(-0.006), 남편(*0.295), 타루(0.017), 언니(0.005), 먼저(-0.000), 약속(-0.023), \n",
            "전쟁: 요시(0.005), 남편(*0.311), 아케(0.005), 관계(*0.152), 에피소드(0.049), 노부(0.001), 제대로(-0.003), \n",
            "코미디: 계기(-0.002), 도쿄(0.013), 나이(-0.009), 고백(0.015), 남편(*0.275), 대학생(0.009), 모델(-0.003), 관계(*0.121), 사장(0.013), 유리(0.013), 연애(-0.029), 내용(0.009), \n",
            "판타지: 이별(-0.009), 미유키(-0.001), 관계(*0.143), \n",
            "\n",
            "\n",
            "<스릴러>\n",
            "애니메이션: 여인(0.019), 갑자기(0.005), 낯선(0.020), 진짜(-0.001), 여행(-0.009), 수상한(0.007), 이상(0.007), 아이(-0.057), 마지막(0.011), 명의(0.028), 도시(-0.025), 바다(-0.018), 상황(0.034), 세계(-0.062), 음모(0.015), 주변(0.019), 타고(-0.014), 누구(0.012), 누군가(0.014), 혼자(-0.002), 대한(-0.013), 바로(0.007), 도착(0.002), 학교(-0.008), 게임(0.033), 자기(-0.005), 홀로(0.003), 그녀(*0.208), 오늘(-0.002), 주인(-0.008), 사건(*0.244), 학생(-0.023), 사고(0.052), 처음(0.006), 파티(0.011), 과연(-0.032), 무엇(0.012), 우리(-0.050), 과정(0.003), 선물(-0.011), 현실(-0.003), 비밀(0.046), 가족(0.036), 사람(0.072), 가지(-0.011), 뉴욕(0.006), 연출(-0.017), 그린(-0.003), 자신(*0.165), 시골(0.012), 아들(0.045), 준비(0.005), 그림(-0.017), 한번(0.001), 정체(0.030), 생활(0.026), 이제(0.024), 위기(-0.010), 전쟁(-0.013), 어머니(0.002), 노력(-0.001), 당신(0.001), 최고(0.005), 메이(0.004), 목소리(-0.001), 간다(-0.001), 방법(0.000), 탈출(0.011), 한편(0.015), 프랑스(-0.001), 등장(-0.004), 문제(-0.001), 친구(-0.096), 아무(0.018), 소년(-0.061), 거리(-0.005), 몰래(0.000), 위험(0.002), 아버지(0.011), 하나(0.021), 다른(0.003), 사이(0.012), 소리(-0.004), 동생(0.022), 시작(*0.117), 작전(0.008), 얼굴(-0.002), 상상(-0.007), 점점(0.060), 배달(-0.000), 동안(0.010), 공간(-0.004), 하루(0.003), 공격(0.008), 감정(-0.005), 서로(0.014), 대신(0.008), \n",
            "액션: 추적(-0.000), 여자친구(0.006), 스파이(-0.003), 배신(-0.007), 오히려(-0.000), 알렉스(-0.002), 마이클(-0.005), 증거(0.009), 검거(-0.006), 진행(0.002), 수술(-0.002), 사투(-0.001), 상태(0.013), 은행(-0.004), 인물(-0.014), 체포(-0.006), 정보원(0.001), 보호(-0.000), 정부(-0.018), 연구(-0.006), 케이(-0.005), 암살(-0.028), 고등학교(0.001), 테러(-0.045), 단서(0.022), 또한(0.005), 분노(-0.008), 린다(0.001), 회사(0.013), 지목(0.007), 그녀(*0.150), 미션(-0.016), 처리(-0.003), 사건(*0.111), 장소(0.001), 파트너(-0.008), 와중(-0.002), 전문가(-0.006), 의뢰(-0.002), 연인(0.005), 의문(0.008), 바이러스(-0.013), 의심(0.020), 자신(0.026), 사망(-0.003), 살인(0.094), 불명(0.001), 불법(-0.006), 국가(-0.006), 살해(0.024), 스타(-0.004), 목격(0.008), 데리(0.001), 니나(-0.001), 치명(-0.001), 전직(-0.016), 애인(0.003), 당한(0.001), 실수(-0.002), 박사(-0.025), 전화(0.015), 직원(-0.005), 최악(-0.015), 직접(-0.003), 동네(0.002), 범인(0.026), 동료(-0.028), 범행(-0.001), 안전(-0.002), 비행기(-0.016), 청년(0.000), 확인(0.009), 부상(-0.007), 수도(0.006), 제임스(-0.002), 시작(0.020), 요구(-0.005), 진실(0.044), 감시(0.002), 침입(-0.002), 점차(0.010), 매력(0.022), 스티븐(-0.001), 교도소(-0.010), 보스(-0.039), \n",
            "어드벤처: 에밀리(-0.011), 기사(-0.011), 이사(0.009), 성격(-0.002), 그녀(*0.220), 열쇠(0.001), 토미(-0.000), 사건(*0.249), 확신(0.001), 클레어(-0.003), 파블로(0.000), 이혼(0.001), 앵거스(-0.029), 부인(-0.005), 미스터리(0.008), 만남(0.002), 두려움(-0.002), 이웃(0.004), 현재(-0.010), 데이빗(0.003), 대학(-0.002), \n",
            "전쟁: 필사(-0.003), 그녀(*0.231), 자살(0.017), 재판(-0.014), 사건(*0.263), 고통(0.002), 상사(0.001), \n",
            "코미디: 직장(-0.011), 변호사(0.010), 섹스(-0.044), 장면(0.002), 수상(-0.001), 집안(-0.005), 손님(-0.005), 그녀(0.015), 작가(-0.007), 치료(0.006), 사건(*0.194), 관심(-0.012), 호텔(0.003), 스타일(-0.008), 남자친구(-0.011), 사기(-0.000), 눈치(0.006), 반전(0.003), 방송(0.001), 환자(0.003), 소설(0.004), 아담(0.004), 하룻밤(-0.007), \n",
            "판타지: 욕망(0.008), 보이지(-0.004), 의식(-0.011), 무언가(-0.003), 지훈(0.003), 핸드폰(-0.012), 사건(*0.204), 악몽(-0.002), \n",
            "\n",
            "\n",
            "<애니메이션>\n",
            "액션: 여자(0.001), 슈퍼(0.002), 가게(0.003), 마을(0.034), 마음(0.022), 계속(-0.005), 잠시(-0.002), 부천(0.050), 상처(0.001), 마주(-0.005), 해결(-0.010), 계획(-0.038), 미국(-0.045), 찾기(0.003), 싸움(-0.027), 역사(0.001), 희망(-0.001), 인생(-0.003), 사회(0.011), 마침내(-0.010), 때문(-0.006), 지금(0.004), 혼란(-0.010), 도움(-0.026), 충격(-0.011), 발견(-0.003), 스스로(-0.004), 복수(-0.065), 모두(-0.016), 대해(0.007), 모든(-0.033), 정신(-0.006), 그것(0.002), 과거(-0.024), 이야기(0.089), 지배(-0.010), 주인공(0.038), 세상(0.022), 머리(0.003), 자동차(0.000), 생각(0.021), 구성(-0.003), 기억(0.011), 더욱(-0.011), 자리(-0.002), 만난(-0.003), 발생(-0.039), 이용(-0.013), 가장(-0.009), 생명(0.000), 사냥(-0.000), 모습(0.016), 생명체(0.000), 아내(-0.044), 전설(-0.010), 이유(-0.004), 한국(0.007), 판타스틱(0.002), 생일(0.001), 시간(0.004), 순간(-0.010), 죽음(-0.054), 이자(-0.035), 악당(0.012), 악마(-0.001), 어둠(0.001), 어디(0.009), 행동(0.003), 능력(-0.013), 시대(-0.001), 결심(-0.008), 시도(-0.005), 일본(-0.013), 우정(0.002), 선택(-0.003), 특별(0.003), 존재(-0.004), 형제(-0.012), 중국(-0.020), 닌자(-0.016), 사실(-0.056), 보고(0.007), 운명(-0.020), 소녀(0.068), 제리(-0.001), 위해(*-0.194), 위협(-0.049), 실험(0.000), 일행(-0.017), 이름(-0.012), 남자(0.008), 작업(0.001), 영웅(-0.004), 임무(-0.071), 괴물(0.010), 이후(-0.019), 요괴(0.004), 보물(-0.006), 작품(0.059), 여성(0.002), 시절(-0.003), 통해(0.013), 다시(-0.016), 로봇(0.015), 로부터(-0.013), 파괴(0.001), 납치(-0.057), 영화(-0.021), \n",
            "어드벤처: 몬스터(0.014), 사진(-0.000), 토끼(0.006), 매일(0.009), 캐릭터(-0.003), 탐험(-0.013), 여정(-0.063), 옛날(-0.001), 마녀(0.002), 개미(0.001), 변화(0.005), 요정(-0.037), 어드벤처(-0.001), 마법사(-0.022), 정글(0.002), 사용(0.002), 할머니(0.022), 아래(-0.012), 호기심(-0.002), 화가(-0.000), 부모님(-0.034), 여러(-0.001), 경쟁(0.037), 고민(0.001), 감독(0.005), 농장(-0.007), 원숭이(-0.022), 일상(0.002), 청소년(-0.003), 환상(-0.007), 상상력(0.000), 의미(-0.010), \n",
            "전쟁: 선생님(-0.001), \n",
            "코미디: 독립(0.005), 여름(-0.001), 대상(-0.000), 관객(-0.004), 가득(0.002), 산타(0.006), 만화(0.056), 배경(-0.002), 외계인(0.003), 부문(0.065), 음식(0.002), 말썽(-0.001), 의도(0.019), 이해(0.001), 보지(-0.001), 물건(-0.000), 천사(-0.002), \n",
            "판타지: 추억(0.005), 반복(-0.008), 상영(-0.002), 여우(0.003), 모자(-0.003), 드래곤(-0.015), 인형(0.009), \n",
            "\n",
            "\n",
            "<액션>\n",
            "어드벤처: 여인(0.012), 교수(-0.000), 마이크(-0.003), 갑자기(-0.001), 다이아몬드(-0.008), 대위(-0.007), 낯선(-0.008), 부족(-0.031), 슈퍼히어로(-0.016), 여행(-0.094), 이상(0.005), 아이(-0.082), 마지막(0.021), 명의(0.020), 컴퓨터(-0.001), 도시(-0.026), 폭발(0.006), 바다(-0.034), 상황(0.020), 런던(-0.005), 정보(0.022), 세계(-0.029), 대통령(0.009), 음모(0.022), 출신(0.013), 용병(-0.007), 게다가(-0.004), 폭파(-0.008), 공주(-0.003), 주변(-0.000), 타고(-0.012), 누구(0.007), 무리(0.001), 테러범(-0.005), 도중(0.000), 혼자(-0.002), 세력(0.008), 대한(-0.052), 바로(-0.007), 히어로(-0.030), 도착(-0.005), 조사(0.015), 습격(0.012), 벤허(-0.013), 학교(-0.018), 대회(-0.001), 자기(0.001), 홀로(-0.019), 승리(-0.003), 학생(-0.002), 사고(0.007), 처음(-0.003), 파티(0.001), 수행(0.011), 과연(-0.006), 무엇(-0.004), 달라(0.002), 구역(0.001), 현실(-0.017), 지역(-0.029), 비밀(-0.018), 그로(0.001), 과학자(-0.018), 가족(-0.021), 현장(0.026), 의사(-0.001), 사람(0.025), 가지(0.006), 뉴욕(-0.006), 일당(0.015), 생존(-0.011), 우스(-0.024), 그린(-0.003), 아들(0.013), 왕국(-0.018), 정체(0.030), 사막(-0.014), 생활(-0.015), 이제(0.033), 위기(-0.011), 전쟁(0.034), 라이더(0.001), 피해(0.014), 어머니(0.003), 우주(-0.007), 국경(-0.022), 결정(-0.017), 당시(0.005), 최고(0.034), 돌연변이(-0.000), 실력(0.015), 평화(-0.004), 결혼(-0.038), 목숨(0.053), 간다(-0.017), 방법(0.008), 병원(0.001), 전투(0.018), 목적(-0.002), 특수요원(-0.001), 크리스(0.002), 대결(0.020), 고향(0.002), 탈출(-0.010), 마리(0.000), 탈취(-0.010), 훈련(0.016), 영국(-0.004), 부대(0.033), 국제(-0.033), 한편(0.007), 프랑스(0.002), 등장(-0.005), 위치(-0.004), 대니(-0.002), 문제(-0.006), 친구(-0.053), 실종(0.002), 아무(-0.007), 소년(-0.064), 거리(-0.001), 운영(-0.007), 위해(0.062), 몰래(-0.010), 프랭크(-0.004), 위험(-0.005), 군대(0.007), 아버지(-0.043), 찰리(-0.001), 제시(-0.003), 하나(0.018), 다른(-0.004), 제안(0.015), 안젤로(-0.018), 사이(0.002), 맞이(-0.002), 동생(0.002), 작전(0.038), 추격(0.018), 합류(-0.003), 상상(-0.014), 점점(-0.005), 얼마(0.003), 마약(0.055), 추락(-0.007), 동안(-0.005), 감옥(0.024), 인간(-0.020), 심장(0.000), 파견(-0.005), 공격(0.031), 접근(0.000), 도둑(0.003), 서로(-0.001), 대신(-0.001), \n",
            "전쟁: 소식(-0.006), 생존자(0.011), 연합(-0.009), 활약(-0.001), 대항(-0.005), 반격(-0.003), 준비(0.006), 한번(0.001), 첩보(-0.008), 잠입(0.016), 요청(0.004), 대령(-0.038), 군사(-0.017), 중인(-0.004), 포함(-0.008), 정예(-0.009), 가운데(-0.004), 최강(0.007), 투입(-0.032), 역시(0.001), 최후(-0.014), 본부(-0.007), 군인(-0.059), 전체(-0.002), 지시(0.001), 적의(-0.019), 상부(-0.016), 과정(0.003), 사살(-0.030), 사상(-0.015), 기자(-0.000), 이번(-0.005), 목표(-0.003), 타겟(-0.001), 좀비(0.009), \n",
            "코미디: 브루스(-0.001), 용의자(0.007), 미장센(-0.006), 수사(0.036), 택시(0.000), 마피아(0.021), 고용(0.004), 요원(0.070), 진짜(-0.015), 게임(0.022), 로이(0.006), 중심(0.001), 홍콩(0.025), 거부(0.001), 협박(0.002), 상치(-0.002), 기회(-0.010), 상대(0.003), 부탁(0.001), 클럽(-0.024), 주인(-0.007), 노력(-0.009), 제이(-0.008), 소리(-0.000), 맥스(0.003), 제인(-0.004), 킬러(0.024), 형사(0.019), 얼굴(-0.006), 마치(-0.002), 달러(0.009), 배달(-0.003), 경기(0.002), 건달(-0.000), 마크(0.001), 레이(0.012), 시체(-0.009), 사라(0.001), 다음(-0.005), \n",
            "판타지: 구조(-0.003), 나라(-0.002), 라이언(0.011), 업자(0.001), 화이트(-0.002), 폭력(0.007), 처단(0.003), 행성(0.009), 태식(-0.003), 누군가(0.005), \n",
            "\n",
            "\n",
            "<어드벤처>\n",
            "전쟁: 마을(0.098), 추적(0.002), 감행(-0.022), 명령(-0.044), 알렉스(0.002), 대원(-0.043), 계속(-0.004), 빌헬름(-0.012), 무기(-0.019), 알바니아(0.002), 계획(0.020), 미국(-0.048), 찾기(0.021), 싸움(0.013), 역사(-0.025), 해군(0.008), 러시아(-0.003), 부하(-0.015), 희망(-0.013), 장군(-0.043), 마침내(0.013), 때문(0.011), 내전(-0.002), 보호(0.013), 정부(0.004), 도움(0.016), 해변(-0.002), 원주민(0.054), 도적(-0.003), 파일럿(-0.033), 발견(0.045), 모두(0.024), 대해(0.013), 세르비아(0.014), 모든(0.054), 정신(0.002), 전달(-0.011), 기상(0.011), 에스(-0.007), 강제(-0.001), 장비(0.002), 이야기(0.074), 미션(0.033), 세상(0.088), 생각(0.006), 전멸(-0.003), 만난(0.025), 나폴레옹(-0.048), 우리(-0.004), 발생(-0.002), 가장(0.009), 모습(0.023), 전사(0.020), 사단(-0.000), 핵무기(-0.008), 아내(0.041), 이유(-0.001), 지원(-0.028), 시간(0.015), 사령관(-0.019), 순간(0.015), 죽음(0.019), 이자(-0.007), 자신(0.094), 구출(-0.025), 시기(0.003), 사망(-0.002), 살인(0.006), 능력(0.013), 시도(0.003), 코소보(0.009), 결심(0.026), 목격(-0.009), 천하(-0.012), 일본(-0.034), 데리(-0.001), 선택(-0.001), 최대(-0.007), 오스만(0.003), 존재(0.018), 특수(-0.027), 제국(0.013), 최선(0.007), 이동(0.006), 사실(0.036), 운명(0.011), 소녀(0.033), 중사(-0.004), 동료(-0.012), 앤디(0.002), 갈등(0.000), 위협(0.042), 대륙(-0.006), 일행(0.011), 이름(0.043), 중위(-0.065), 소련(-0.024), 청년(0.003), 젊은이(0.007), 부상(-0.013), 남자(0.041), 영웅(-0.001), 임무(-0.068), 시작(-0.023), 작품(0.003), 통해(0.023), 다시(0.007), 점차(0.002), 로부터(0.010), 하루(-0.004), 경험(0.003), 납치(0.016), 요새(-0.007), 영화(0.073), \n",
            "코미디: 여자(-0.092), 가게(-0.006), 마음(-0.061), 인기(-0.009), 시험(0.000), 인도(0.015), 보이(0.025), 마이클(-0.001), 잠시(0.000), 소원(0.033), 수상한(-0.003), 부천(-0.008), 상태(0.005), 은행(-0.006), 인물(-0.005), 온갖(0.003), 인생(-0.060), 사회(-0.002), 해리(0.006), 유머(-0.001), 가방(0.011), 혼란(0.006), 바람(-0.017), 지니(0.022), 케이트(0.011), 도전(0.002), 충격(-0.001), 또한(0.009), 복수(0.002), 회사(-0.035), 그것(-0.011), 과거(-0.003), 주인공(-0.010), 기억(-0.001), 더욱(-0.005), 자매(-0.000), 이용(0.012), 달리(-0.003), 가정(-0.004), 연인(-0.008), 선물(-0.003), 전설(0.024), 애나(0.012), 선수(-0.011), 판타스틱(-0.003), 코미디(-0.049), 어른(0.021), 행복(0.007), 시대(0.030), 살해(-0.003), 우정(-0.010), 유혹(-0.002), 전직(0.002), 라이프(-0.000), 형제(0.015), 설상가상(-0.002), 박사(0.011), 남녀(-0.006), 직원(-0.012), 남매(0.008), 직접(-0.000), 마법(0.046), 성공(0.001), 동물(0.051), 부모(0.008), 할아버지(0.022), 비행기(0.033), 부산(-0.010), 하늘(0.006), 시절(-0.003), 소문(-0.001), 다섯(0.003), 프로젝트(-0.000), 괴짜(0.003), 매력(-0.031), 로서(0.009), 영혼(0.003), \n",
            "판타지: 루이(0.004), 탐사(0.029), 판타지(-0.024), 간직(-0.002), 뉴트(0.015), 개발(0.025), 가기(0.000), 가까스로(0.004), 덤블도어(-0.023), 자연(-0.001), 어둠(0.013), 루카스(0.041), 기사단(-0.015), 악마(-0.030), 권력(0.005), 구한(0.004), 신비(0.005), 불명(-0.002), 호그와트(-0.002), 마주(-0.011), 모험(0.058), 티아(-0.001), 방패(0.004), 지배(-0.003), 왕비(-0.032), 해적(0.014), 뱀파이어(-0.024), 왕자(-0.019), 제이콥(-0.009), 괴물(-0.020), 물리(0.008), 꼬마(-0.028), 요괴(*-0.137), 방문(0.004), 사냥꾼(-0.011), 생명체(0.011), 의문(0.008), 볼드모트(0.005), 공간(-0.014), 고대(0.008), 파괴(0.008), 마리나(-0.022), 밀렵(0.005), 데이비드(-0.007), 차지(0.006), \n",
            "\n",
            "\n",
            "<전쟁>\n",
            "코미디: 여인(0.002), 조직(-0.005), 국제(-0.051), 독일(*0.111), 은밀(-0.001), 한편(-0.031), 프랑스(0.042), 도중(0.010), 대한(-0.036), 시선(-0.002), 바로(-0.041), 도착(-0.003), 친구(*-0.145), 서로(-0.046), 누구(-0.016), 린다(-0.001), 정체(-0.013), 학교(-0.041), 위해(-0.035), 생활(-0.055), 자기(-0.014), 홀로(0.021), 이상(-0.010), 이제(-0.026), 아이(-0.052), 위기(-0.027), 아버지(-0.054), 전쟁(*0.250), 하나(-0.018), 마지막(0.008), 다른(-0.022), 사이(-0.010), 유럽(0.005), 어머니(-0.010), 명의(-0.012), 결정(0.007), 와중(-0.001), 맞이(0.003), 수도(0.000), 최고(-0.026), 동생(-0.010), 자리(-0.012), 무엇(-0.009), 작전(*0.162), 목숨(0.054), 간다(-0.011), 상황(0.012), 여성(-0.020), 점점(-0.013), 세계(-0.001), 대통령(0.013), 비밀(-0.006), 중국(0.018), 지금(-0.020), 인간(-0.004), 고향(0.011), 출신(0.012), 가족(-0.077), 한국(0.008), 지옥(0.008), 탈출(0.030), 훈련(0.020), 현장(-0.008), 사수(0.044), 누가(0.003), 영국(0.049), 사람(-0.096), 가지(-0.026), 불구(0.002), 대신(-0.004), \n",
            "판타지: 생존(0.015), 연합군(*0.103), 실종(-0.001), 부족(0.006), 그림(0.014), 막강(0.003), 위험(-0.005), 군대(0.006), 전쟁(*0.227), 대적(0.006), 피해(0.005), 희생(0.014), 합류(0.006), 잭슨(0.009), 생명(0.002), 초청(-0.002), 진실(-0.000), 공격(0.029), 건물(-0.002), 중대장(0.037), 부대(*0.159), \n",
            "\n",
            "\n",
            "<코미디>\n",
            "판타지: 마을(0.008), 소식(0.004), 매일(-0.004), 교수(-0.007), 커플(0.004), 알렉스(-0.060), 갑자기(0.004), 나단(-0.015), 낯선(-0.001), 계속(0.009), 이사(-0.000), 여행(0.040), 계획(0.026), 찾기(-0.008), 희망(-0.000), 역시(0.000), 도시(-0.007), 약속(-0.009), 마침내(-0.007), 때문(0.024), 음모(-0.000), 게다가(0.022), 주변(0.012), 도움(-0.016), 대학(0.023), 미래(-0.024), 발견(-0.025), 혼자(-0.007), 스스로(-0.014), 초대(-0.010), 모두(0.020), 가수(0.004), 대해(0.006), 모든(0.006), 정신(-0.004), 대화(-0.000), 가슴(0.006), 오늘(0.009), 이야기(-0.025), 세상(-0.035), 머리(0.008), 학생(-0.001), 사고(0.024), 처음(0.010), 생각(0.034), 분위기(-0.009), 파티(0.032), 과연(0.047), 만난(0.011), 발생(-0.007), 가장(0.002), 모습(-0.029), 이웃(0.007), 아내(0.031), 현실(-0.031), 의미(-0.001), 아파트(-0.003), 이유(-0.012), 현재(-0.012), 뉴욕(0.014), 연출(-0.004), 시간(-0.013), 고양이(-0.006), 순간(-0.021), 버스(-0.001), 죽음(-0.039), 이자(0.003), 그린(-0.013), 자신(-0.006), 시골(0.010), 아들(0.040), 어디(0.005), 행동(0.012), 살인(0.003), 피터(-0.010), 능력(-0.026), 평소(0.003), 시도(0.001), 결심(0.015), 선택(-0.013), 결혼(0.040), 결혼식(0.023), 일상(0.003), 존재(-0.058), 병원(0.012), 대결(-0.015), 동거(-0.006), 마리(0.013), 제대로(0.006), 좀비(0.001), 사실(0.008), 등장(0.008), 동네(0.012), 보고(-0.008), 운명(-0.025), 친구(*0.106), 소녀(-0.074), 절대(-0.011), 아무(-0.014), 외모(0.016), 소년(-0.006), 범인(0.002), 거리(0.012), 동료(0.007), 앤디(-0.001), 몰래(0.007), 다니엘(0.001), 첫사랑(-0.005), 할머니(0.002), 노인(-0.016), 부모님(-0.008), 이름(0.007), 부부(0.015), 제안(0.028), 청년(-0.002), 작업(0.013), 남자(0.061), 감독(0.036), 제이슨(0.005), 영웅(-0.000), 시작(-0.002), 거짓말(0.007), 이후(0.010), 제작(0.004), 경찰(0.028), 작품(0.001), 상상(-0.007), 환상(-0.006), 통해(-0.019), 마약(0.008), 다시(0.006), 동안(0.010), 로부터(0.005), 하루(0.017), 이번(0.006), 경험(0.002), 감정(-0.007), 도둑(-0.002), 납치(0.007), 영화(0.062), \n",
            "\n",
            "\n"
          ]
        }
      ]
    },
    {
      "cell_type": "markdown",
      "source": [
        "- **단어 개수 통일**  \n",
        "각 장르별 대표 단어 수 5개로 통일  "
      ],
      "metadata": {
        "id": "yolXbay-SDN5"
      }
    },
    {
      "cell_type": "code",
      "source": [
        "min_num = 100\n",
        "for value in genre_dict.values():\n",
        "    if min_num > len(value):\n",
        "        min_num = len(value)"
      ],
      "metadata": {
        "id": "HbvYsgYFkDOQ"
      },
      "execution_count": 64,
      "outputs": []
    },
    {
      "cell_type": "code",
      "source": [
        "genre_dict = {token: value[:min_num] for token, value in genre_dict.items()}"
      ],
      "metadata": {
        "id": "q0estECnkeux"
      },
      "execution_count": 65,
      "outputs": []
    },
    {
      "cell_type": "code",
      "source": [
        "print(\"장르별 대표 단어 수:\", min_num)"
      ],
      "metadata": {
        "colab": {
          "base_uri": "https://localhost:8080/"
        },
        "id": "J0_4YlHokenh",
        "outputId": "4221558c-4ef1-4bff-cdd9-e83f72723939"
      },
      "execution_count": 66,
      "outputs": [
        {
          "output_type": "stream",
          "name": "stdout",
          "text": [
            "장르별 대표 단어 수: 5\n"
          ]
        }
      ]
    },
    {
      "cell_type": "markdown",
      "source": [
        "- **각 장르별 최종 단어 출력**"
      ],
      "metadata": {
        "id": "aVfp2k9kSQz8"
      }
    },
    {
      "cell_type": "code",
      "source": [
        "attributes = []"
      ],
      "metadata": {
        "id": "7T38sVqLklc0"
      },
      "execution_count": 67,
      "outputs": []
    },
    {
      "cell_type": "code",
      "source": [
        "for value in genre_dict.values():\n",
        "    attributes.append([vectorizer.get_feature_names()[token] for token, _ in value])"
      ],
      "metadata": {
        "id": "4X7JsZixkbBz"
      },
      "execution_count": 68,
      "outputs": []
    },
    {
      "cell_type": "code",
      "source": [
        "for genre, tokens in genre_dict.items():\n",
        "    print(genre)\n",
        "    print_word_tf_idf(tokens, 5)\n",
        "    print('\\n')"
      ],
      "metadata": {
        "colab": {
          "base_uri": "https://localhost:8080/"
        },
        "id": "sMSkzIV-knrf",
        "outputId": "d278518b-140b-49e2-b385-ae4a7619858c"
      },
      "execution_count": 69,
      "outputs": [
        {
          "output_type": "stream",
          "name": "stdout",
          "text": [
            "SF\n",
            "지구(0.243), 인류(0.189), 스타크(0.059), 리플리(0.058), 켈빈(0.055), \n",
            "\n",
            "가족\n",
            "엄마(0.247), 아빠(0.226), 아주르(0.151), 낙타(0.117), 씨제이(0.108), \n",
            "\n",
            "공연\n",
            "오페라(0.267), 실황(0.205), 올레(0.165), 오텔로(0.122), 리골레토(0.121), \n",
            "\n",
            "공포/호러\n",
            "공포(0.165), 악령(0.098), 분홍신(0.035), 캠핑(0.029), 심령(0.025), \n",
            "\n",
            "기타\n",
            "영화제(0.51), 서울(0.356), 단편(0.309), 뉴미디어(0.082), 실험영화(0.025), \n",
            "\n",
            "다큐멘터리\n",
            "다큐(0.232), 다큐멘터리(0.218), 투쟁(0.051), 인디다큐페스티발(0.05), 문화(0.048), \n",
            "\n",
            "드라마\n",
            "퀴어(0.019), 질문(0.012), 교사(0.012), 대구(0.011), 심사(0.01), \n",
            "\n",
            "멜로로맨스\n",
            "미연(0.024), 펜션(0.024), 수진(0.023), 하숙집(0.023), 준석(0.021), \n",
            "\n",
            "뮤지컬\n",
            "뮤지컬(0.256), 에스메랄다(0.194), 음악(0.168), 충무로(0.158), 모차르트(0.152), \n",
            "\n",
            "미스터리\n",
            "랭던(0.048), 몰카(0.045), 거미숲(0.043), 종섭(0.037), 승호(0.033), \n",
            "\n",
            "범죄\n",
            "한길수(0.086), 파푸아(0.046), 금고(0.045), 마샨(0.039), 철중(0.035), \n",
            "\n",
            "사극\n",
            "조선(0.368), 신기전(0.147), 아가멤논(0.128), 루안(0.11), 하선(0.097), \n",
            "\n",
            "서부극/웨스턴\n",
            "서부(0.308), 보안관(0.226), 벌린(0.195), 카우보이(0.183), 그레이프바인(0.166), \n",
            "\n",
            "성인물/에로\n",
            "남편(0.322), 마사지(0.237), 관계(0.163), 정사(0.146), 유이(0.066), \n",
            "\n",
            "스릴러\n",
            "사건(0.283), 영훈(0.026), 피해자(0.026), 혜영(0.023), 트래셔(0.022), \n",
            "\n",
            "애니메이션\n",
            "애니메이션(0.475), 인디애니페스트(0.18), 페스티벌(0.131), 도롱(0.069), 퍼니퍼(0.041), \n",
            "\n",
            "액션\n",
            "무술(0.043), 인질(0.036), 거래(0.032), 거대(0.032), 제거(0.032), \n",
            "\n",
            "어드벤처\n",
            "앤트(0.11), 옥자(0.07), 보물(0.066), 윈치(0.061), 펠레(0.059), \n",
            "\n",
            "전쟁\n",
            "전쟁(0.268), 독일군(0.263), 전투(0.222), 작전(0.187), 부대(0.171), \n",
            "\n",
            "코미디\n",
            "친구(0.181), 여자친구(0.051), 배우(0.044), 우리(0.039), 문제(0.038), \n",
            "\n",
            "판타지\n",
            "그녀(0.259), 위해(0.214), 사람(0.184), 사랑(0.172), 요괴(0.172), \n",
            "\n"
          ]
        }
      ]
    },
    {
      "cell_type": "markdown",
      "source": [
        "## **6. WEAT을 활용한 편향성 측정**"
      ],
      "metadata": {
        "id": "UeOgJwtpScMY"
      }
    },
    {
      "cell_type": "markdown",
      "source": [
        "### **6-1. WEAT 점수 연산 함수**"
      ],
      "metadata": {
        "id": "wTgu_E_ISjJy"
      }
    },
    {
      "cell_type": "code",
      "source": [
        "def cos_sim(i, j):\n",
        "    return dot(i, j.T)/(norm(i)*norm(j))"
      ],
      "metadata": {
        "id": "tiGfMauSk-KU"
      },
      "execution_count": 70,
      "outputs": []
    },
    {
      "cell_type": "code",
      "source": [
        "def s(w, A, B):\n",
        "    c_a = cos_sim(w, A)\n",
        "    c_b = cos_sim(w, B)\n",
        "    mean_A = np.mean(c_a, axis=-1)\n",
        "    mean_B = np.mean(c_b, axis=-1)\n",
        "    return mean_A - mean_B"
      ],
      "metadata": {
        "id": "dsvlYlZnlIyZ"
      },
      "execution_count": 71,
      "outputs": []
    },
    {
      "cell_type": "code",
      "source": [
        "def weat_score(X, Y, A, B):\n",
        "    \n",
        "    s_X = s(X, A, B)\n",
        "    s_Y = s(Y, A, B)\n",
        "\n",
        "    mean_X = np.mean(s_X)\n",
        "    mean_Y = np.mean(s_Y)\n",
        "    \n",
        "    std_dev = np.std(np.concatenate([s_X, s_Y], axis=0))\n",
        "    \n",
        "    return  (mean_X-mean_Y)/std_dev"
      ],
      "metadata": {
        "id": "CHHqEGm2lJ3O"
      },
      "execution_count": 72,
      "outputs": []
    },
    {
      "cell_type": "markdown",
      "source": [
        "### **6-2. WEAT 점수 연산 결과 확인**"
      ],
      "metadata": {
        "id": "m07SN_y6Sp7p"
      }
    },
    {
      "cell_type": "markdown",
      "source": [
        "- **각 영화 장르의 편향도 측정 결과 확인**"
      ],
      "metadata": {
        "id": "4MY1SPF9S46D"
      }
    },
    {
      "cell_type": "code",
      "source": [
        "matrix = [[0 for _ in range(len(genre_name))] for _ in range(len(genre_name))]"
      ],
      "metadata": {
        "id": "xGGZLtjzlTkq"
      },
      "execution_count": 73,
      "outputs": []
    },
    {
      "cell_type": "code",
      "source": [
        "X = np.array([model.wv[word] for word in target_art])\n",
        "Y = np.array([model.wv[word] for word in target_gen])"
      ],
      "metadata": {
        "id": "7uuQD9tKlWe0"
      },
      "execution_count": 74,
      "outputs": []
    },
    {
      "cell_type": "code",
      "source": [
        "for i in range(len(genre_name)-1):\n",
        "    for j in range(i+1, len(genre_name)):\n",
        "        A = np.array([model.wv[word] for word in attributes[i]])\n",
        "        B = np.array([model.wv[word] for word in attributes[j]])\n",
        "        matrix[i][j] = weat_score(X, Y, A, B)"
      ],
      "metadata": {
        "id": "cd-XsbSVlYCN"
      },
      "execution_count": 75,
      "outputs": []
    },
    {
      "cell_type": "code",
      "source": [
        "for i in range(len(genre_name)-1):\n",
        "    print(f\"< {genre_name[i]} >\")\n",
        "    for j in range(i+1, len(genre_name)):\n",
        "        if abs(matrix[i][j]) >= 1.:\n",
        "            print(f\"{genre_name[i]} - {genre_name[j]}: {matrix[i][j]:.3f}\")\n",
        "    print(\"\\n\")"
      ],
      "metadata": {
        "colab": {
          "base_uri": "https://localhost:8080/"
        },
        "id": "X9vC064Olab-",
        "outputId": "c65c8901-0cd9-42fe-dab7-4064836a7065"
      },
      "execution_count": 76,
      "outputs": [
        {
          "output_type": "stream",
          "name": "stdout",
          "text": [
            "< SF >\n",
            "SF - 공연: 1.099\n",
            "SF - 기타: 1.302\n",
            "SF - 다큐멘터리: 1.242\n",
            "SF - 드라마: 1.244\n",
            "SF - 뮤지컬: 1.081\n",
            "SF - 사극: 1.008\n",
            "SF - 애니메이션: 1.219\n",
            "\n",
            "\n",
            "< 가족 >\n",
            "가족 - 기타: 1.136\n",
            "가족 - 드라마: 1.061\n",
            "가족 - 애니메이션: 1.007\n",
            "\n",
            "\n",
            "< 공연 >\n",
            "공연 - 기타: 1.202\n",
            "공연 - 다큐멘터리: 1.192\n",
            "공연 - 사극: -1.065\n",
            "공연 - 서부극/웨스턴: -1.026\n",
            "공연 - 어드벤처: -1.130\n",
            "공연 - 전쟁: -1.217\n",
            "\n",
            "\n",
            "< 공포/호러 >\n",
            "공포/호러 - 기타: 1.166\n",
            "공포/호러 - 다큐멘터리: 1.091\n",
            "공포/호러 - 드라마: 1.085\n",
            "공포/호러 - 애니메이션: 1.031\n",
            "\n",
            "\n",
            "< 기타 >\n",
            "기타 - 드라마: -1.040\n",
            "기타 - 멜로로맨스: -1.166\n",
            "기타 - 뮤지컬: -1.011\n",
            "기타 - 미스터리: -1.181\n",
            "기타 - 범죄: -1.142\n",
            "기타 - 사극: -1.363\n",
            "기타 - 서부극/웨스턴: -1.387\n",
            "기타 - 애니메이션: -1.318\n",
            "기타 - 액션: -1.200\n",
            "기타 - 어드벤처: -1.385\n",
            "기타 - 전쟁: -1.354\n",
            "기타 - 코미디: -1.110\n",
            "기타 - 판타지: -1.216\n",
            "\n",
            "\n",
            "< 다큐멘터리 >\n",
            "다큐멘터리 - 뮤지컬: -1.234\n",
            "다큐멘터리 - 미스터리: -1.033\n",
            "다큐멘터리 - 사극: -1.231\n",
            "다큐멘터리 - 서부극/웨스턴: -1.172\n",
            "다큐멘터리 - 액션: -1.104\n",
            "다큐멘터리 - 어드벤처: -1.225\n",
            "다큐멘터리 - 전쟁: -1.314\n",
            "다큐멘터리 - 코미디: -1.028\n",
            "다큐멘터리 - 판타지: -1.134\n",
            "\n",
            "\n",
            "< 드라마 >\n",
            "드라마 - 멜로로맨스: -1.046\n",
            "드라마 - 미스터리: -1.084\n",
            "드라마 - 범죄: -1.028\n",
            "드라마 - 사극: -1.348\n",
            "드라마 - 서부극/웨스턴: -1.327\n",
            "드라마 - 액션: -1.123\n",
            "드라마 - 어드벤처: -1.332\n",
            "드라마 - 전쟁: -1.307\n",
            "드라마 - 코미디: -1.058\n",
            "드라마 - 판타지: -1.160\n",
            "\n",
            "\n",
            "< 멜로로맨스 >\n",
            "\n",
            "\n",
            "< 뮤지컬 >\n",
            "뮤지컬 - 사극: -1.023\n",
            "뮤지컬 - 서부극/웨스턴: -1.011\n",
            "뮤지컬 - 어드벤처: -1.101\n",
            "뮤지컬 - 전쟁: -1.164\n",
            "\n",
            "\n",
            "< 미스터리 >\n",
            "미스터리 - 애니메이션: 1.014\n",
            "\n",
            "\n",
            "< 범죄 >\n",
            "범죄 - 액션: -1.113\n",
            "\n",
            "\n",
            "< 사극 >\n",
            "사극 - 애니메이션: 1.251\n",
            "사극 - 어드벤처: -1.126\n",
            "사극 - 전쟁: -1.172\n",
            "\n",
            "\n",
            "< 서부극/웨스턴 >\n",
            "서부극/웨스턴 - 애니메이션: 1.256\n",
            "\n",
            "\n",
            "< 성인물/에로 >\n",
            "\n",
            "\n",
            "< 스릴러 >\n",
            "스릴러 - 판타지: -1.306\n",
            "\n",
            "\n",
            "< 애니메이션 >\n",
            "애니메이션 - 액션: -1.086\n",
            "애니메이션 - 어드벤처: -1.330\n",
            "애니메이션 - 전쟁: -1.260\n",
            "애니메이션 - 판타지: -1.091\n",
            "\n",
            "\n",
            "< 액션 >\n",
            "\n",
            "\n",
            "< 어드벤처 >\n",
            "\n",
            "\n",
            "< 전쟁 >\n",
            "\n",
            "\n",
            "< 코미디 >\n",
            "\n",
            "\n"
          ]
        }
      ]
    },
    {
      "cell_type": "markdown",
      "source": [
        "- **각 영화 장르의 편향도 측정 결과 시각화**"
      ],
      "metadata": {
        "id": "a2HxR2MGTGOr"
      }
    },
    {
      "cell_type": "code",
      "source": [
        "np.random.seed(0)"
      ],
      "metadata": {
        "id": "CK2dFpYVluQV"
      },
      "execution_count": 77,
      "outputs": []
    },
    {
      "cell_type": "code",
      "source": [
        "sns.set(font= 'NanumBarunGothic')\n",
        "\n",
        "plt.figure(figsize=(15, 15))\n",
        "plt.rcParams['axes.unicode_minus'] = False\n",
        "mpl.rcParams['axes.unicode_minus'] = False\n",
        "\n",
        "ax = sns.heatmap(matrix, xticklabels=genre_name, yticklabels=genre_name, annot=True, fmt='.1f',  cmap='RdYlGn_r')\n",
        "plt.show()"
      ],
      "metadata": {
        "colab": {
          "base_uri": "https://localhost:8080/",
          "height": 920
        },
        "id": "PXGcO1P-l1Nr",
        "outputId": "1eadcf05-6cf8-41ad-cd50-6311fb8e8032"
      },
      "execution_count": 78,
      "outputs": [
        {
          "output_type": "display_data",
          "data": {
            "text/plain": [
              "<Figure size 1080x1080 with 2 Axes>"
            ],
            "image/png": "[encoded data removed]"
          },
          "metadata": {}
        }
      ]
    },
    {
      "cell_type": "markdown",
      "source": [
        "## **7. 회고**"
      ],
      "metadata": {
        "id": "068JecostKrp"
      }
    },
    {
      "cell_type": "markdown",
      "source": [
        "### **7-1. 회고**"
      ],
      "metadata": {
        "id": "RnN4w1skURvv"
      }
    },
    {
      "cell_type": "markdown",
      "source": [
        "이번 프로젝트를 통해 편향성에 대해 알아보았는데, 이론 부분을 진행할 때 매우 흥미로운 주제로 다가왔다. 실제 프로젝트의 데이터의 경우, 성별이나 인종 등 논란의 여지가 크지 않은 데이터를 사용했기 때문에 그 부분을 두드러지게 확인하기는 어려웠지만 실제 단어간의 유사도를 통해 어느정도 비슷하게 분류하는지에 대해서는 알 수 있었다. 나의 생각보다는 대체적으로 편향되지 않은 공통된 주제어가 나와서 조금 아쉬웠고, 그렇기 때문에 실제로 모델에게 주어지는 데이터의 중요성이 좀 더 와닿았던 것 같다. 이번 프로젝트를 진행하면서 가장 어려웠던 부분은 매번 느끼는 부분이지만 한글 폰트를 깨지지 않고 넣는 방법이었다. 전에 WorldCloud를 사용하면서 한번 진행했던 적이 있는데, 그때는 문제 없이 잘 진행되었는데 이번에는 그렇지 않아서 여러번 시도를 진행했으나 마음만큼 잘 되지 않았다. 신기하게 커널을 다시 여러번 돌려보니 잘 될 때도 있어서 Colab 환경에서 작업할때는 항상 의구심이 든다. 요즘 진행한 프로젝트의 경우 대부분 오류가 없음에도 실행이 되었다 안되었다 해서 그런지 내가 잘 진행하고 있는지 판단이 어렵다. 파이썬은 다양한 라이브러리를 사용할 수 있는 간단한 구조여서 많이 쓰인다고 했는데, 그대신 버전 호환으로 인한 문제가 너무 자주 발생하는 것 같다. 그래서 개발자들이 좀 더 안정적인 리눅스 환경을 쓴다는 말이 이제 약간 이해가 된다. 계속해서 이런 문제를 만났을 경우 해결 할 수 있는 방안에 대해서 좀 더 공부가 필요하다고 생각한다."
      ],
      "metadata": {
        "id": "xF4prHy8987y"
      }
    },
    {
      "cell_type": "markdown",
      "source": [
        "### **7-2. 참고 자료**"
      ],
      "metadata": {
        "id": "NSRcxiJZ9KQz"
      }
    },
    {
      "cell_type": "markdown",
      "source": [
        "1. https://github.com/eunji1/Aiffel/blob/main/NLP/NLP%5B06%5Dmovie_similar.ipynb\n",
        "2. https://github.com/eunji1/Aiffel/blob/main/NLP/NLP%5B06%5Dmovie_similar.ipynb\n",
        "3. https://github.com/miinkang/AI_Project_AIFFEL/blob/main/%5BGD-06%5Dword_embedding_association_WEAT.ipynb"
      ],
      "metadata": {
        "id": "QLvbHKHx9Ohl"
      }
    }
  ]
}